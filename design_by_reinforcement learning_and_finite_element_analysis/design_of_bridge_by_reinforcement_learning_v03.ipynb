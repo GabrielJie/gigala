{
 "cells": [
  {
   "cell_type": "code",
   "execution_count": 1,
   "metadata": {},
   "outputs": [],
   "source": [
    "import numpy as np\n",
    "import math\n",
    "import tensorflow as tf\n",
    "from tensorflow.contrib.layers import fully_connected\n",
    "import time\n",
    "# import subprocess\n",
    "import random"
   ]
  },
  {
   "cell_type": "code",
   "execution_count": 2,
   "metadata": {},
   "outputs": [],
   "source": [
    "%matplotlib inline"
   ]
  },
  {
   "cell_type": "markdown",
   "metadata": {},
   "source": [
    "## Utils"
   ]
  },
  {
   "cell_type": "code",
   "execution_count": 3,
   "metadata": {},
   "outputs": [],
   "source": [
    "def alter_coord(action, position, g_coord, dx=0.1, change_nodes=[2,3,5,7]):\n",
    "        \n",
    "    if action==0:\n",
    "        g_coord[int(2*change_nodes[position])]+=dx\n",
    "    elif action==1:\n",
    "        g_coord[int(2*change_nodes[position])]-=dx\n",
    "    elif action==2:\n",
    "        g_coord[int(2*change_nodes[position])]+=0\n",
    "             \n",
    "    return g_coord"
   ]
  },
  {
   "cell_type": "code",
   "execution_count": 4,
   "metadata": {},
   "outputs": [],
   "source": [
    "# this function must be tailored to different FE models\n",
    "def observe(position, coord,l1,l2, displ):    \n",
    "    return position, coord[4]/l2, coord[6]/l1, coord[10]/l1, coord[14]/l2, displ[9]"
   ]
  },
  {
   "cell_type": "markdown",
   "metadata": {},
   "source": [
    "## Finite Element Model of the Plane Truss structure"
   ]
  },
  {
   "cell_type": "code",
   "execution_count": 5,
   "metadata": {},
   "outputs": [],
   "source": [
    "def PlaneTrussElementLength(x1,y1,x2,y2):\n",
    "    return math.sqrt((x2-x1)*(x2-x1) + (y2-y1)*(y2-y1))"
   ]
  },
  {
   "cell_type": "code",
   "execution_count": 6,
   "metadata": {},
   "outputs": [],
   "source": [
    "def PlaneTrussElementStiffness(E,A,L,theta):\n",
    "    pi=3.14159265\n",
    "    x = theta*pi/180\n",
    "    C = math.cos(x)\n",
    "    S = math.sin(x)\n",
    "    return E*A/L*np.array([[C*C, C*S, -C*C, -C*S],[C*S, S*S, -C*S, -S*S],\n",
    "                           [-C*C, -C*S, C*C, C*S],[-C*S, -S*S, C*S, S*S]]) "
   ]
  },
  {
   "cell_type": "code",
   "execution_count": 7,
   "metadata": {},
   "outputs": [],
   "source": [
    "def PlaneTrussAssemble(K,k,i,j):\n",
    "    # K - np.array\n",
    "    # k - np.array\n",
    "    K[2*i,2*i] = K[2*i,2*i] + k[0,0]\n",
    "    K[2*i,2*i+1] = K[2*i,2*i+1] + k[0,1] \n",
    "    K[2*i,2*j] = K[2*i,2*j] + k[0,2] \n",
    "    K[2*i,2*j+1] = K[2*i,2*j+1] + k[0,3]\n",
    "    K[2*i+1,2*i] = K[2*i+1,2*i] + k[1,0]\n",
    "    K[2*i+1,2*i+1] = K[2*i+1,2*i+1] + k[1,1] \n",
    "    K[2*i+1,2*j] = K[2*i+1,2*j] + k[1,2] \n",
    "    K[2*i+1,2*j+1] = K[2*i+1,2*j+1] + k[1,3] \n",
    "    K[2*j,2*i] = K[2*j,2*i] + k[2,0] \n",
    "    K[2*j,2*i+1] = K[2*j,2*i+1] + k[2,1]\n",
    "    K[2*j,2*j] = K[2*j,2*j] + k[2,2]\n",
    "    K[2*j,2*j+1] = K[2*j,2*j+1] + k[2,3] \n",
    "    K[2*j+1,2*i] = K[2*j+1,2*i] + k[3,0] \n",
    "    K[2*j+1,2*i+1] = K[2*j+1,2*i+1] + k[3,1]\n",
    "    K[2*j+1,2*j] = K[2*j+1,2*j] + k[3,2] \n",
    "    K[2*j+1,2*j+1] = K[2*j+1,2*j+1] + k[3,3]\n",
    "    \n",
    "    return K   "
   ]
  },
  {
   "cell_type": "code",
   "execution_count": 8,
   "metadata": {},
   "outputs": [],
   "source": [
    "def PlaneTrussElementForce(E,A,L,theta,u):\n",
    "    pi=3.14159265\n",
    "    x = theta* pi/180\n",
    "    C = math.cos(x)\n",
    "    S = math.sin(x)\n",
    "    return E*A/L*np.dot(np.array([-C, -S, C, S]),u)"
   ]
  },
  {
   "cell_type": "code",
   "execution_count": 9,
   "metadata": {},
   "outputs": [],
   "source": [
    "def PlaneTrussElementStress(E,L,theta,u):\n",
    "    pi=3.14159265\n",
    "    x = theta * pi/180\n",
    "    C = math.cos(x)\n",
    "    S = math.sin(x)\n",
    "    return E/L*np.dot(np.array([-C, -S, C, S]),u)"
   ]
  },
  {
   "cell_type": "code",
   "execution_count": 10,
   "metadata": {},
   "outputs": [],
   "source": [
    "def FEA_u(coord, elcon, bc_u_elim, f_after_u_elim, A=1, E=2e5):\n",
    "    K=np.zeros(shape=(2*np.max(elcon)+2,2*np.max(elcon)+2))\n",
    "    pi=3.14159265\n",
    "    for el in elcon:\n",
    "        L=PlaneTrussElementLength(coord[el[0]][0],coord[el[0]][1],coord[el[1]][0],coord[el[1]][1])\n",
    "        theta=math.atan((coord[el[1]][1]-coord[el[0]][1])/(coord[el[1]][0]-coord[el[0]][0]+1e-13))*180/pi\n",
    "        k=PlaneTrussElementStiffness(E,A,L,theta)\n",
    "        K=PlaneTrussAssemble(K,k,el[0],el[1])\n",
    "    K=np.delete(K,bc_u_elim,0)\n",
    "    K=np.delete(K,bc_u_elim,1)\n",
    "    \n",
    "    \n",
    "    d=np.dot(np.linalg.inv(K),f_after_u_elim)\n",
    "\n",
    "        \n",
    "    u=np.zeros(shape=(2*len(coord)))\n",
    "\n",
    "    j=0\n",
    "    for i in range(len(u)):\n",
    "        if i not in bc_u_elim:\n",
    "            u[i]=d[j]\n",
    "            j+=1\n",
    "            if j>len(d)-1:\n",
    "                break\n",
    "    return u"
   ]
  },
  {
   "cell_type": "markdown",
   "metadata": {},
   "source": [
    "## Neural Network Policy - Policy Gradients"
   ]
  },
  {
   "cell_type": "code",
   "execution_count": 11,
   "metadata": {},
   "outputs": [],
   "source": [
    "# Details of model can be found in the book:\n",
    "# Hands-On Machine Learning with Scikit-Learn & TensorFlow. Aurйlien Gйron"
   ]
  },
  {
   "cell_type": "code",
   "execution_count": 12,
   "metadata": {},
   "outputs": [],
   "source": [
    "# the NN architecture must be tailored to different FE models"
   ]
  },
  {
   "cell_type": "code",
   "execution_count": 13,
   "metadata": {},
   "outputs": [
    {
     "name": "stdout",
     "output_type": "stream",
     "text": [
      "WARNING:tensorflow:\n",
      "The TensorFlow contrib module will not be included in TensorFlow 2.0.\n",
      "For more information, please see:\n",
      "  * https://github.com/tensorflow/community/blob/master/rfcs/20180907-contrib-sunset.md\n",
      "  * https://github.com/tensorflow/addons\n",
      "  * https://github.com/tensorflow/io (for I/O related ops)\n",
      "If you depend on functionality not listed there, please file an issue.\n",
      "\n",
      "WARNING:tensorflow:From /Library/Frameworks/Python.framework/Versions/3.7/lib/python3.7/site-packages/tensorflow_core/contrib/layers/python/layers/layers.py:1866: Layer.apply (from tensorflow.python.keras.engine.base_layer) is deprecated and will be removed in a future version.\n",
      "Instructions for updating:\n",
      "Please use `layer.__call__` method instead.\n",
      "WARNING:tensorflow:From <ipython-input-13-e001b5561ae0>:16: multinomial (from tensorflow.python.ops.random_ops) is deprecated and will be removed in a future version.\n",
      "Instructions for updating:\n",
      "Use `tf.random.categorical` instead.\n",
      "WARNING:tensorflow:From /Library/Frameworks/Python.framework/Versions/3.7/lib/python3.7/site-packages/tensorflow_core/python/ops/nn_impl.py:183: where (from tensorflow.python.ops.array_ops) is deprecated and will be removed in a future version.\n",
      "Instructions for updating:\n",
      "Use tf.where in 2.0, which has the same broadcast rule as np.where\n"
     ]
    }
   ],
   "source": [
    "n_inputs = 6 \n",
    "n_hidden = 50 \n",
    "n_outputs = 3 \n",
    "initializer = tf.contrib.layers.variance_scaling_initializer()\n",
    "\n",
    "learning_rate = 0.001\n",
    "\n",
    "# Build the neural network\n",
    "X_ = tf.placeholder(tf.float64, shape=[None, n_inputs], name=\"X_\")\n",
    "hidden = fully_connected(X_, n_hidden, activation_fn=tf.nn.elu, weights_initializer=initializer)\n",
    "hidden1 = fully_connected(hidden, n_hidden, activation_fn=tf.nn.elu, weights_initializer=initializer)\n",
    "logits = fully_connected(hidden1, n_outputs, activation_fn=None, weights_initializer=initializer)\n",
    "outputs = tf.nn.softmax(logits, name=\"Y_proba\")\n",
    "\n",
    "# Select a random action based on the estimated probabilities\n",
    "action = tf.multinomial(tf.log(outputs), num_samples=1,output_dtype=tf.int32)\n",
    "\n",
    "y=tf.reshape(tf.one_hot(action,depth=3,dtype=tf.float64),[3,1])\n",
    "xentropy = tf.nn.sigmoid_cross_entropy_with_logits(labels=y, logits=tf.transpose(logits))\n",
    "\n",
    "optimizer = tf.train.AdamOptimizer(learning_rate)\n",
    "grads_and_vars = optimizer.compute_gradients(xentropy)\n",
    "gradients = [grad for grad, variable in grads_and_vars]\n",
    "gradient_placeholders = []\n",
    "grads_and_vars_feed = []\n",
    "for grad, variable in grads_and_vars:\n",
    "    gradient_placeholder = tf.placeholder(tf.float64, shape=grad.get_shape())\n",
    "    gradient_placeholders.append(gradient_placeholder)\n",
    "    grads_and_vars_feed.append((gradient_placeholder, variable))\n",
    "\n",
    "training_op = optimizer.apply_gradients(grads_and_vars_feed)\n",
    "\n",
    "init = tf.global_variables_initializer()\n",
    "saver = tf.train.Saver()"
   ]
  },
  {
   "cell_type": "code",
   "execution_count": 14,
   "metadata": {},
   "outputs": [],
   "source": [
    "def discount_rewards(rewards, discount_rate=0.97):\n",
    "    discounted_rewards = np.empty(len(rewards))\n",
    "    cumulative_rewards = 0\n",
    "    for step in reversed(range(len(rewards))):\n",
    "        cumulative_rewards = rewards[step] + cumulative_rewards * discount_rate\n",
    "        discounted_rewards[step] = cumulative_rewards\n",
    "    return discounted_rewards"
   ]
  },
  {
   "cell_type": "code",
   "execution_count": 15,
   "metadata": {},
   "outputs": [],
   "source": [
    "def discount_and_normalize_rewards(all_rewards, discount_rate=0.97):\n",
    "    all_discounted_rewards = [discount_rewards(rewards) for rewards in all_rewards]\n",
    "    flat_rewards = np.concatenate(all_discounted_rewards)\n",
    "    reward_mean = flat_rewards.mean()\n",
    "    reward_std = flat_rewards.std()\n",
    "    return [(discounted_rewards - reward_mean)/reward_std for discounted_rewards in all_discounted_rewards]"
   ]
  },
  {
   "cell_type": "code",
   "execution_count": 16,
   "metadata": {},
   "outputs": [],
   "source": [
    "# this function must be tailored to different FE models\n",
    "\n",
    "def reward_(obs_,obs):   \n",
    "    if abs(obs_[5])>abs(obs[5]):  \n",
    "        return 1\n",
    "    else:\n",
    "        return 0\n"
   ]
  },
  {
   "cell_type": "code",
   "execution_count": 17,
   "metadata": {},
   "outputs": [],
   "source": [
    "# the training code must be tailored to different FE models"
   ]
  },
  {
   "cell_type": "code",
   "execution_count": 18,
   "metadata": {},
   "outputs": [
    {
     "name": "stdout",
     "output_type": "stream",
     "text": [
      "Time taken for 0 epoch 6.96134090423584 sec\n",
      "\n",
      "Time taken for 5 epoch 75.40877914428711 sec\n",
      "\n",
      "Time taken for 10 epoch 157.29700994491577 sec\n",
      "\n",
      "Time taken for 15 epoch 226.1288902759552 sec\n",
      "\n",
      "Time taken for 20 epoch 339.8439302444458 sec\n",
      "\n",
      "Time taken for 25 epoch 463.75181007385254 sec\n",
      "\n",
      "Time taken for 30 epoch 595.1809000968933 sec\n",
      "\n",
      "Time taken for 35 epoch 707.4287302494049 sec\n",
      "\n",
      "Time taken for 40 epoch 808.5557150840759 sec\n",
      "\n",
      "Time taken for 45 epoch 920.1895999908447 sec\n",
      "\n",
      "Time taken for 50 epoch 1020.6105082035065 sec\n",
      "\n",
      "Time taken for 55 epoch 1107.6084699630737 sec\n",
      "\n",
      "Time taken for 60 epoch 1199.2502131462097 sec\n",
      "\n",
      "Time taken for 65 epoch 1305.845782995224 sec\n",
      "\n",
      "Time taken for 70 epoch 1405.3403949737549 sec\n",
      "\n",
      "Time taken for 75 epoch 1514.0756249427795 sec\n",
      "\n",
      "Time taken for 80 epoch 1626.8955211639404 sec\n",
      "\n",
      "Time taken for 85 epoch 1712.7007241249084 sec\n",
      "\n",
      "Time taken for 90 epoch 1805.482922077179 sec\n",
      "\n",
      "Time taken for 95 epoch 1885.1180002689362 sec\n",
      "\n",
      "Time taken for 100 epoch 1970.1715190410614 sec\n",
      "\n"
     ]
    }
   ],
   "source": [
    "n_iterations =101 #250 # number of training iterations\n",
    "n_max_steps = 500 #1000 # max steps per episode\n",
    "n_games_per_update = 10 # train the policy every 10 episodes\n",
    "save_iterations = 5 # save the model every 10 training iterations\n",
    "\n",
    "\n",
    "with tf.Session() as sess:\n",
    "    start=time.time()\n",
    "    init.run() \n",
    "    \n",
    "#     saver.restore(sess, tf.train.latest_checkpoint(\"./policy3/\"))    \n",
    "#     tf.get_default_graph()\n",
    "    \n",
    "    for iteration in range(n_iterations):\n",
    "               \n",
    "        all_rewards = [] # all sequences of raw rewards for each episode\n",
    "        all_gradients = [] # gradients saved at each step of each episode\n",
    "             \n",
    "        for game in range(n_games_per_update):\n",
    "            current_rewards = [] # all raw rewards from the current episode\n",
    "            current_gradients = [] # all gradients from the current episode\n",
    "            \n",
    "            pst=random.randint(0,3)\n",
    "            g_coord = alter_coord(2, pst, np.array([0.0,0.0,2.0,3.0,2.0,0.0,5.0,3.0,7.0,0.0,9.0,3.0,12.0,3.0,12.0,0.0,14.0,0.0]),\n",
    "                                          dx=0.1, change_nodes=[2,3,5,7])\n",
    "            \n",
    "            \n",
    "            displ = FEA_u(g_coord.reshape(9,2), elcon=np.array([[0, 1],[0, 2],[1, 2],[1, 3],[2, 3],\n",
    "                                                    [2, 4],[3, 4],[3, 5],[4, 5],[4, 7],\n",
    "                                                    [5, 7],[5, 6],[6, 7],[6, 8],[7, 8]]),\n",
    "                                                    bc_u_elim=[0,1,16,17],\n",
    "                                                    f_after_u_elim=np.array([0,0,0,0,0,0,0,-10,0,0,0,0,0,0]), \n",
    "                                                    A=1, E=2e5)\n",
    "            \n",
    "            obs=observe(pst, g_coord, 10, 14, displ)\n",
    "            \n",
    "            for step in range(n_max_steps):\n",
    "                action_val, gradients_val = sess.run([action, gradients],\n",
    "                                                     feed_dict={X_: np.array(obs).reshape(1,n_inputs)}) \n",
    "                obs_=obs        \n",
    "                g_coord = alter_coord(action_val[0][0], pst, g_coord,\n",
    "                                          dx=0.1, change_nodes=[2,3,5,7])\n",
    "                \n",
    "                pst=random.randint(0,3)\n",
    "                \n",
    "                if g_coord[4]<g_coord[0]+0.2 or g_coord[4]>g_coord[8]-0.2:\n",
    "                    break\n",
    "                \n",
    "                if g_coord[6]<g_coord[2]+0.2 or g_coord[6]>g_coord[12]-0.2:\n",
    "                    break\n",
    "                    \n",
    "                if g_coord[10]<g_coord[2]+0.2 or g_coord[10]>g_coord[12]-0.2:\n",
    "                    break\n",
    "                    \n",
    "                if g_coord[14]<g_coord[8]+0.2 or g_coord[14]>g_coord[16]-0.2:\n",
    "                    break    \n",
    "                    \n",
    "                displ = FEA_u(g_coord.reshape(9,2), elcon=np.array([[0, 1],[0, 2],[1, 2],[1, 3],[2, 3],\n",
    "                                                    [2, 4],[3, 4],[3, 5],[4, 5],[4, 7],\n",
    "                                                    [5, 7],[5, 6],[6, 7],[6, 8],[7, 8]]),\n",
    "                                                    bc_u_elim=[0,1,16,17],\n",
    "                                                    f_after_u_elim=np.array([0,0,0,0,0,0,0,-10,0,0,0,0,0,0]), \n",
    "                                                    A=1, E=2e5)\n",
    "                obs=observe(pst,g_coord,10,14,displ)               \n",
    "                reward=reward_(obs_,obs)\n",
    "                \n",
    "                current_rewards.append(reward)\n",
    "                current_gradients.append(gradients_val)\n",
    "\n",
    "            all_rewards.append(current_rewards)\n",
    "            all_gradients.append(current_gradients)\n",
    "\n",
    "    \n",
    "            \n",
    "        # At this point we have run the policy for 10 episodes, and we are\n",
    "        # ready for a policy update using the algorithm described earlier.\n",
    "        all_rewards = discount_and_normalize_rewards(all_rewards)\n",
    "        \n",
    "        \n",
    "        \n",
    "        feed_dict = {}\n",
    "        for var_index, grad_placeholder in enumerate(gradient_placeholders):\n",
    "            # multiply the gradients by the action scores, and compute the mean\n",
    "            mean_gradients = np.mean([reward * all_gradients[game_index][step][var_index] \n",
    "                                      for game_index, rewards in enumerate(all_rewards)\n",
    "                                      for step, reward in enumerate(rewards)],axis=0)\n",
    "            feed_dict[grad_placeholder] = mean_gradients\n",
    "        \n",
    "        \n",
    "        sess.run(training_op, feed_dict=feed_dict)\n",
    "        \n",
    "        if iteration % save_iterations == 0:\n",
    "#             print(\"Saving {} iteration\".format(iteration))\n",
    "            print('Time taken for {} epoch {} sec\\n'.format(iteration, time.time() - start))\n",
    "            saver.save(sess, \"./policy3/pinjointed3.ckpt\")\n",
    "\n",
    "# end=time.time()            "
   ]
  },
  {
   "cell_type": "code",
   "execution_count": 19,
   "metadata": {},
   "outputs": [],
   "source": [
    "# print(end-start)"
   ]
  },
  {
   "cell_type": "markdown",
   "metadata": {},
   "source": [
    "## AI designing the bridge"
   ]
  },
  {
   "cell_type": "code",
   "execution_count": 29,
   "metadata": {},
   "outputs": [],
   "source": [
    "def predict(l1,l2,coord):\n",
    "    with tf.Session() as sess:\n",
    "        saver = tf.train.import_meta_graph('./policy3/pinjointed3.ckpt.meta')\n",
    "        saver.restore(sess, \"./policy3/pinjointed3.ckpt\") \n",
    "\n",
    "        graph = tf.get_default_graph()\n",
    "        outputs = graph.get_tensor_by_name(\"Y_proba:0\") \n",
    "        X_ = graph.get_tensor_by_name(\"X_:0\") \n",
    "                \n",
    "        pst=random.randint(0,3)\n",
    "        \n",
    "        \n",
    "        g_coord = alter_coord(2, pst, coord, dx=0.1, change_nodes=[2,3,5,7])\n",
    "            \n",
    "        displ = FEA_u(g_coord.reshape(9,2), elcon=np.array([[0, 1],[0, 2],[1, 2],[1, 3],[2, 3],\n",
    "                                                    [2, 4],[3, 4],[3, 5],[4, 5],[4, 7],\n",
    "                                                    [5, 7],[5, 6],[6, 7],[6, 8],[7, 8]]),\n",
    "                                                    bc_u_elim=[0,1,16,17],\n",
    "                                                    f_after_u_elim=np.array([0,0,0,0,0,0,0,-10,0,0,0,0,0,0]), \n",
    "                                                    A=1, E=2e5)\n",
    "            \n",
    "        obs=observe(pst, g_coord, 10, 14, displ)       \n",
    "        \n",
    "        \n",
    "        for step in range(50):\n",
    "            action_val= sess.run([outputs],feed_dict={X_: np.array(obs).reshape(1,n_inputs)})\n",
    "            action_val=np.log(action_val)\n",
    "            \n",
    "            g_coord = alter_coord(np.argmax(action_val), pst, g_coord, dx=0.1, change_nodes=[2,3,5,7])\n",
    "            \n",
    "            \n",
    "        \n",
    "            pst=random.randint(0,3)\n",
    "            \n",
    "            if g_coord[4]<g_coord[0]+0.2 or g_coord[4]>g_coord[8]-0.2:\n",
    "                break\n",
    "\n",
    "            if g_coord[6]<g_coord[2]+0.2 or g_coord[6]>g_coord[12]-0.2:\n",
    "                break\n",
    "\n",
    "            if g_coord[10]<g_coord[2]+0.2 or g_coord[10]>g_coord[12]-0.2:\n",
    "                break\n",
    "\n",
    "            if g_coord[14]<g_coord[8]+0.2 or g_coord[14]>g_coord[16]-0.2:\n",
    "                break    \n",
    "\n",
    "            displ = FEA_u(g_coord.reshape(9,2), elcon=np.array([[0, 1],[0, 2],[1, 2],[1, 3],[2, 3],\n",
    "                                                    [2, 4],[3, 4],[3, 5],[4, 5],[4, 7],\n",
    "                                                    [5, 7],[5, 6],[6, 7],[6, 8],[7, 8]]),\n",
    "                                                    bc_u_elim=[0,1,16,17],\n",
    "                                                    f_after_u_elim=np.array([0,0,0,0,0,0,0,-10,0,0,0,0,0,0]), \n",
    "                                                    A=1, E=2e5)\n",
    "            \n",
    "            obs=observe(pst, g_coord, 10, 14, displ)\n",
    "        \n",
    "        return obs,g_coord        "
   ]
  },
  {
   "cell_type": "code",
   "execution_count": 30,
   "metadata": {},
   "outputs": [
    {
     "name": "stdout",
     "output_type": "stream",
     "text": [
      "INFO:tensorflow:Restoring parameters from ./policy3/pinjointed3.ckpt\n"
     ]
    }
   ],
   "source": [
    "obs, g_coord = predict(10,14,np.array([0.0,0.0,2.0,3.0,2.0,0.0,5.0,3.0,7.0,0.0,9.0,3.0,12.0,3.0,12.0,0.0,14.0,0.0]))"
   ]
  },
  {
   "cell_type": "code",
   "execution_count": 31,
   "metadata": {},
   "outputs": [
    {
     "data": {
      "text/plain": [
       "-0.0008387753119369001"
      ]
     },
     "execution_count": 31,
     "metadata": {},
     "output_type": "execute_result"
    }
   ],
   "source": [
    "obs[-1]"
   ]
  },
  {
   "cell_type": "code",
   "execution_count": 32,
   "metadata": {},
   "outputs": [
    {
     "data": {
      "text/plain": [
       "-0.0008888"
      ]
     },
     "execution_count": 32,
     "metadata": {},
     "output_type": "execute_result"
    }
   ],
   "source": [
    "# Benchmark from initial design:\n",
    "-0.8888E-03"
   ]
  },
  {
   "cell_type": "code",
   "execution_count": 33,
   "metadata": {},
   "outputs": [
    {
     "data": {
      "text/plain": [
       "array([ 0. ,  0. ,  2. ,  3. ,  3.5,  0. ,  6.5,  3. ,  7. ,  0. ,  8.3,\n",
       "        3. , 12. ,  3. , 11.1,  0. , 14. ,  0. ])"
      ]
     },
     "execution_count": 33,
     "metadata": {},
     "output_type": "execute_result"
    }
   ],
   "source": [
    "g_coord"
   ]
  },
  {
   "cell_type": "code",
   "execution_count": 34,
   "metadata": {},
   "outputs": [],
   "source": [
    "import matplotlib.pyplot as plt"
   ]
  },
  {
   "cell_type": "code",
   "execution_count": 35,
   "metadata": {},
   "outputs": [],
   "source": [
    "def draw(coord,color,elcon):\n",
    "    coord=coord.reshape(np.max(elcon)+1,2)\n",
    "    plt.figure(figsize=(13,5))\n",
    "    for item in elcon:\n",
    "        plt.plot([coord[item[0]][0],coord[item[1]][0]],[coord[item[0]][1],coord[item[1]][1]],color=color)\n",
    "       \n",
    "    plt.show()    "
   ]
  },
  {
   "cell_type": "markdown",
   "metadata": {},
   "source": [
    "### Initial Design "
   ]
  },
  {
   "cell_type": "code",
   "execution_count": 36,
   "metadata": {},
   "outputs": [
    {
     "data": {
      "image/png": "[encoded data removed]",
      "text/plain": [
       "<Figure size 936x360 with 1 Axes>"
      ]
     },
     "metadata": {
      "needs_background": "light"
     },
     "output_type": "display_data"
    }
   ],
   "source": [
    "draw(np.array([0.0,0.0,2.0,3.0,2.0,0.0,5.0,3.0,7.0,0.0,9.0,3.0,12.0,3.0,12.0,0.0,14.0,0.0]),color=\"green\",elcon=np.array([[0, 1],[0, 2],[1, 2],[1, 3],[2, 3],\n",
    "                                                    [2, 4],[3, 4],[3, 5],[4, 5],[4, 7],\n",
    "                                                    [5, 7],[5, 6],[6, 7],[6, 8],[7, 8]]))"
   ]
  },
  {
   "cell_type": "markdown",
   "metadata": {},
   "source": [
    "### Design by AI"
   ]
  },
  {
   "cell_type": "code",
   "execution_count": 37,
   "metadata": {},
   "outputs": [
    {
     "data": {
      "image/png": "[encoded data removed]",
      "text/plain": [
       "<Figure size 936x360 with 1 Axes>"
      ]
     },
     "metadata": {
      "needs_background": "light"
     },
     "output_type": "display_data"
    }
   ],
   "source": [
    "draw(g_coord,color=\"blue\",elcon=np.array([[0, 1],[0, 2],[1, 2],[1, 3],[2, 3],\n",
    "                                                    [2, 4],[3, 4],[3, 5],[4, 5],[4, 7],\n",
    "                                                    [5, 7],[5, 6],[6, 7],[6, 8],[7, 8]]))"
   ]
  },
  {
   "cell_type": "code",
   "execution_count": null,
   "metadata": {},
   "outputs": [],
   "source": []
  }
 ],
 "metadata": {
  "kernelspec": {
   "display_name": "Python 3",
   "language": "python",
   "name": "python3"
  },
  "language_info": {
   "codemirror_mode": {
    "name": "ipython",
    "version": 3
   },
   "file_extension": ".py",
   "mimetype": "text/x-python",
   "name": "python",
   "nbconvert_exporter": "python",
   "pygments_lexer": "ipython3",
   "version": "3.7.7"
  }
 },
 "nbformat": 4,
 "nbformat_minor": 2
}
