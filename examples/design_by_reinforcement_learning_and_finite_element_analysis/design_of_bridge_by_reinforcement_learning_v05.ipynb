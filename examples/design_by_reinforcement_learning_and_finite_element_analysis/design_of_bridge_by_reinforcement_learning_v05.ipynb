{
 "cells": [
  {
   "cell_type": "code",
   "execution_count": 1,
   "metadata": {
    "scrolled": false
   },
   "outputs": [],
   "source": [
    "import numpy as np\n",
    "import math\n",
    "import gym\n",
    "from gym import spaces\n",
    "import time\n",
    "import random\n",
    "from stable_baselines3 import A2C\n",
    "import torch\n",
    "import matplotlib.pyplot as plt\n",
    "from stable_baselines3.common.env_checker import check_env"
   ]
  },
  {
   "cell_type": "code",
   "execution_count": 2,
   "metadata": {},
   "outputs": [],
   "source": [
    "%matplotlib inline"
   ]
  },
  {
   "cell_type": "code",
   "execution_count": 3,
   "metadata": {},
   "outputs": [
    {
     "data": {
      "text/plain": [
       "'0.21.0'"
      ]
     },
     "execution_count": 3,
     "metadata": {},
     "output_type": "execute_result"
    }
   ],
   "source": [
    "gym.__version__"
   ]
  },
  {
   "cell_type": "code",
   "execution_count": 4,
   "metadata": {},
   "outputs": [
    {
     "data": {
      "text/plain": [
       "'1.13.1'"
      ]
     },
     "execution_count": 4,
     "metadata": {},
     "output_type": "execute_result"
    }
   ],
   "source": [
    "torch.__version__"
   ]
  },
  {
   "cell_type": "code",
   "execution_count": 5,
   "metadata": {},
   "outputs": [
    {
     "name": "stdout",
     "output_type": "stream",
     "text": [
      "Python 3.7.7\r\n"
     ]
    }
   ],
   "source": [
    "!python3 -V"
   ]
  },
  {
   "cell_type": "markdown",
   "metadata": {},
   "source": [
    "## Utils"
   ]
  },
  {
   "cell_type": "code",
   "execution_count": 6,
   "metadata": {},
   "outputs": [],
   "source": [
    "N_DISCRETE_ACTIONS=3"
   ]
  },
  {
   "cell_type": "code",
   "execution_count": 7,
   "metadata": {},
   "outputs": [],
   "source": [
    "def alter_coord(action, position, g_coord, dx=0.1, change_nodes=[2,3,5,7]):\n",
    "        \n",
    "    if action==0:\n",
    "        g_coord[int(2*change_nodes[position])]+=dx\n",
    "    elif action==1:\n",
    "        g_coord[int(2*change_nodes[position])]-=dx\n",
    "    elif action==2:\n",
    "        g_coord[int(2*change_nodes[position])]+=0\n",
    "             \n",
    "    return g_coord"
   ]
  },
  {
   "cell_type": "code",
   "execution_count": 8,
   "metadata": {},
   "outputs": [],
   "source": [
    "def observe(position, coord,l1,l2, displ):    \n",
    "    return np.array([position, coord[4]/l2, coord[6]/l1, coord[10]/l1, coord[14]/l2, displ[9]])"
   ]
  },
  {
   "cell_type": "code",
   "execution_count": 9,
   "metadata": {},
   "outputs": [],
   "source": [
    "def draw(coord,color,elcon):\n",
    "    coord=coord.reshape(np.max(elcon)+1,2)\n",
    "    plt.figure(figsize=(13,5))\n",
    "    for item in elcon:\n",
    "        plt.plot([coord[item[0]][0],coord[item[1]][0]],[coord[item[0]][1],coord[item[1]][1]],color=color)\n",
    "\n",
    "    plt.show() "
   ]
  },
  {
   "cell_type": "code",
   "execution_count": 10,
   "metadata": {},
   "outputs": [],
   "source": [
    "def reward_(obs_,obs):   \n",
    "    if abs(obs_[5])>abs(obs[5]):  \n",
    "        return 1\n",
    "    else:\n",
    "        return 0"
   ]
  },
  {
   "cell_type": "markdown",
   "metadata": {},
   "source": [
    "## Finite Element Model of the Plane Truss structure"
   ]
  },
  {
   "cell_type": "code",
   "execution_count": 11,
   "metadata": {},
   "outputs": [],
   "source": [
    "def PlaneTrussElementLength(x1,y1,x2,y2):\n",
    "    return math.sqrt((x2-x1)*(x2-x1) + (y2-y1)*(y2-y1))"
   ]
  },
  {
   "cell_type": "code",
   "execution_count": 12,
   "metadata": {},
   "outputs": [],
   "source": [
    "def PlaneTrussElementStiffness(E,A,L,theta):\n",
    "    x = theta*math.pi/180\n",
    "    C = math.cos(x)\n",
    "    S = math.sin(x)\n",
    "    return E*A/L*np.array([[C*C, C*S, -C*C, -C*S],[C*S, S*S, -C*S, -S*S],\n",
    "                           [-C*C, -C*S, C*C, C*S],[-C*S, -S*S, C*S, S*S]]) "
   ]
  },
  {
   "cell_type": "code",
   "execution_count": 13,
   "metadata": {},
   "outputs": [],
   "source": [
    "def PlaneTrussAssemble(K,k,i,j):\n",
    "    # K - np.array\n",
    "    # k - np.array\n",
    "    K[2*i,2*i] = K[2*i,2*i] + k[0,0]\n",
    "    K[2*i,2*i+1] = K[2*i,2*i+1] + k[0,1] \n",
    "    K[2*i,2*j] = K[2*i,2*j] + k[0,2] \n",
    "    K[2*i,2*j+1] = K[2*i,2*j+1] + k[0,3]\n",
    "    K[2*i+1,2*i] = K[2*i+1,2*i] + k[1,0]\n",
    "    K[2*i+1,2*i+1] = K[2*i+1,2*i+1] + k[1,1] \n",
    "    K[2*i+1,2*j] = K[2*i+1,2*j] + k[1,2] \n",
    "    K[2*i+1,2*j+1] = K[2*i+1,2*j+1] + k[1,3] \n",
    "    K[2*j,2*i] = K[2*j,2*i] + k[2,0] \n",
    "    K[2*j,2*i+1] = K[2*j,2*i+1] + k[2,1]\n",
    "    K[2*j,2*j] = K[2*j,2*j] + k[2,2]\n",
    "    K[2*j,2*j+1] = K[2*j,2*j+1] + k[2,3] \n",
    "    K[2*j+1,2*i] = K[2*j+1,2*i] + k[3,0] \n",
    "    K[2*j+1,2*i+1] = K[2*j+1,2*i+1] + k[3,1]\n",
    "    K[2*j+1,2*j] = K[2*j+1,2*j] + k[3,2] \n",
    "    K[2*j+1,2*j+1] = K[2*j+1,2*j+1] + k[3,3]\n",
    "    \n",
    "    return K   "
   ]
  },
  {
   "cell_type": "code",
   "execution_count": 14,
   "metadata": {},
   "outputs": [],
   "source": [
    "def PlaneTrussElementForce(E,A,L,theta,u):\n",
    "    x = theta* math.pi/180\n",
    "    C = math.cos(x)\n",
    "    S = math.sin(x)\n",
    "    return E*A/L*np.dot(np.array([-C, -S, C, S]),u)"
   ]
  },
  {
   "cell_type": "code",
   "execution_count": 15,
   "metadata": {},
   "outputs": [],
   "source": [
    "def PlaneTrussElementStress(E,L,theta,u):\n",
    "    x = theta * math.pi/180\n",
    "    C = math.cos(x)\n",
    "    S = math.sin(x)\n",
    "    return E/L*np.dot(np.array([-C, -S, C, S]),u)"
   ]
  },
  {
   "cell_type": "code",
   "execution_count": 16,
   "metadata": {},
   "outputs": [],
   "source": [
    "def FEA_u(coord, elcon, bc_node, bc_val, global_force,  A=1e-4, E=210e6):\n",
    "    K=np.zeros(shape=(2*np.max(elcon)+2,2*np.max(elcon)+2))\n",
    "    for el in elcon:\n",
    "        L=PlaneTrussElementLength(coord[el[0]][0],coord[el[0]][1],coord[el[1]][0],coord[el[1]][1])\n",
    "        theta=math.atan((coord[el[1]][1]-coord[el[0]][1])/(coord[el[1]][0]-coord[el[0]][0]+1e-13))*180/math.pi\n",
    "        k=PlaneTrussElementStiffness(E,A,L,theta)\n",
    "        K=PlaneTrussAssemble(K,k,el[0],el[1])     \n",
    "    \n",
    "    F = global_force\n",
    "    \n",
    "    \n",
    "    # https://github.com/CALFEM/calfem-matlab/blob/master/fem/solveq.m\n",
    "    \n",
    "    bc=np.array([bc_node, \n",
    "                bc_val]).T\n",
    "    nd, nd=K.shape\n",
    "    fdof=np.array([i for i in range(nd)]).T\n",
    "    d=np.zeros(shape=(len(fdof),))\n",
    "    Q=np.zeros(shape=(len(fdof),))\n",
    "\n",
    "    pdof=bc[:,0].astype(int)\n",
    "    dp=bc[:,1]\n",
    "    fdof=np.delete(fdof, pdof, 0)\n",
    "\n",
    "    s=np.linalg.lstsq(K[fdof,:][:,fdof],\n",
    "                      (F[fdof].T-np.dot(K[fdof,:][:,pdof],dp.T)).T, rcond=None)[0] \n",
    "    d[pdof]=dp\n",
    "    d[fdof]=s.reshape(-1,)\n",
    "    \n",
    "#     Q=np.dot(K,d).T-F \n",
    "    \n",
    "    return d"
   ]
  },
  {
   "cell_type": "code",
   "execution_count": 17,
   "metadata": {},
   "outputs": [],
   "source": [
    "# 5 The Plane Truss Element - verification \n",
    "d=FEA_u(np.array([0,0,\n",
    "                  4,0,\n",
    "                  2,3]).reshape(3,2), \n",
    "      elcon=np.array([[0, 1],\n",
    "                      [0, 2],\n",
    "                      [1, 2]]),\n",
    "      bc_node = [0, 1, 3],\n",
    "      bc_val = [0., 0., 0.],\n",
    "      global_force = np.array([0,0,\n",
    "                               0,0,\n",
    "                               5,-10]),\n",
    "      A=1e-4, \n",
    "      E=210e6)"
   ]
  },
  {
   "cell_type": "code",
   "execution_count": 18,
   "metadata": {},
   "outputs": [
    {
     "data": {
      "text/plain": [
       "array([ 0.        ,  0.        ,  0.00111111,  0.        ,  0.00195056,\n",
       "       -0.00161037])"
      ]
     },
     "execution_count": 18,
     "metadata": {},
     "output_type": "execute_result"
    }
   ],
   "source": [
    "d"
   ]
  },
  {
   "cell_type": "markdown",
   "metadata": {},
   "source": [
    "## Reinforcement learning model"
   ]
  },
  {
   "cell_type": "code",
   "execution_count": 19,
   "metadata": {},
   "outputs": [],
   "source": [
    "class BridgeEnv(gym.Env):\n",
    "    \n",
    "    metadata = {\"render.modes\": [\"human\"]}\n",
    "\n",
    "    def __init__(self):\n",
    "        super().__init__()\n",
    "        self.action_space = spaces.Discrete(N_DISCRETE_ACTIONS)\n",
    "        self.pst=random.randint(0,3)\n",
    "        self.g_coord = alter_coord(2, self.pst, np.array([0.0,0.0,2.0,3.0,2.0,0.0,5.0,3.0,7.0,0.0,9.0,3.0,12.0,3.0,12.0,0.0,14.0,0.0]),\n",
    "                                          dx=0.1, change_nodes=[2,3,5,7])\n",
    "        self.displ = FEA_u(self.g_coord.reshape(9,2), elcon=np.array([[0, 1],[0, 2],[1, 2],[1, 3],[2, 3],\n",
    "                                                    [2, 4],[3, 4],[3, 5],[4, 5],[4, 7],\n",
    "                                                    [5, 7],[5, 6],[6, 7],[6, 8],[7, 8]]),\n",
    "                                                    bc_node=[0,1,\n",
    "                                                             2,3,\n",
    "                                                             12,13,\n",
    "                                                             16,17],\n",
    "                                                    bc_val=[0,0,\n",
    "                                                            0,0,\n",
    "                                                            0,0,\n",
    "                                                            0,0],\n",
    "                                                    global_force = np.array([0,0,\n",
    "                                                                    0,0,\n",
    "                                                                    0,0,\n",
    "                                                                    0,0,\n",
    "                                                                    0,-10,\n",
    "                                                                    0,0,\n",
    "                                                                    0,0,\n",
    "                                                                    0,0,\n",
    "                                                                    0,0]),\n",
    "                                                    A=1e-4, E=210e6)\n",
    "        \n",
    "        self.obs=observe(self.pst, self.g_coord, 10, 14, self.displ)\n",
    "        \n",
    "        self.observation_space = spaces.Box(low=np.array([-np.inf,\n",
    "                                                          -np.inf,\n",
    "                                                          -np.inf,\n",
    "                                                          -np.inf,\n",
    "                                                          -np.inf,\n",
    "                                                          -np.inf]),\n",
    "                                            high=np.array([np.inf,\n",
    "                                                           np.inf,\n",
    "                                                           np.inf,\n",
    "                                                           np.inf,\n",
    "                                                           np.inf,\n",
    "                                                           np.inf]),shape=(6,),\n",
    "                                           dtype=np.float64)\n",
    "        self.needs_reset = True\n",
    "\n",
    "    def step(self, action):\n",
    "        obs_=self.obs \n",
    "        \n",
    "        g_coord = alter_coord(action, self.pst, self.g_coord, dx=0.1, change_nodes=[2,3,5,7])\n",
    "        \n",
    "        pst=random.randint(0,3)\n",
    "        self.pst=pst\n",
    "        \n",
    "        done=False\n",
    "        \n",
    "        if g_coord[4]<g_coord[0]+0.2 or g_coord[4]>g_coord[8]-0.2:\n",
    "            done=True\n",
    "\n",
    "        if g_coord[6]<g_coord[2]+0.2 or g_coord[6]>g_coord[12]-0.2:\n",
    "            done=True\n",
    "\n",
    "        if g_coord[10]<g_coord[2]+0.2 or g_coord[10]>g_coord[12]-0.2:\n",
    "            done=True\n",
    "\n",
    "        if g_coord[14]<g_coord[8]+0.2 or g_coord[14]>g_coord[16]-0.2:\n",
    "            done=True   \n",
    "\n",
    "        displ = FEA_u(g_coord.reshape(9,2), elcon=np.array([[0, 1],[0, 2],[1, 2],[1, 3],[2, 3],\n",
    "                                            [2, 4],[3, 4],[3, 5],[4, 5],[4, 7],\n",
    "                                            [5, 7],[5, 6],[6, 7],[6, 8],[7, 8]]),\n",
    "                                                    bc_node=[0,1,\n",
    "                                                             2,3,\n",
    "                                                             12,13,\n",
    "                                                             16,17],\n",
    "                                                    bc_val=[0,0,\n",
    "                                                            0,0,\n",
    "                                                            0,0,\n",
    "                                                            0,0],\n",
    "                                                    global_force = np.array([0,0,\n",
    "                                                                    0,0,\n",
    "                                                                    0,0,\n",
    "                                                                    0,0,\n",
    "                                                                    0,-10,\n",
    "                                                                    0,0,\n",
    "                                                                    0,0,\n",
    "                                                                    0,0,\n",
    "                                                                    0,0]),\n",
    "                                                    A=1e-4, E=210e6)\n",
    "        self.obs=observe(pst,g_coord,10,14,displ)               \n",
    "        reward=reward_(obs_,self.obs)\n",
    "        self.g_coord=g_coord\n",
    "        \n",
    "        if self.needs_reset:\n",
    "            raise RuntimeError(\"Tried to step environment that needs reset\")\n",
    "            \n",
    "        if done:\n",
    "            self.needs_reset = True\n",
    "      \n",
    "        return self.obs, reward, done, dict()\n",
    "\n",
    "    def reset(self):\n",
    "        self.pst = random.randint(0,3)\n",
    "        self.g_coord = alter_coord(2, self.pst, np.array([0.0,0.0,\n",
    "                                                          2.0,3.0,\n",
    "                                                          2.0,0.0,\n",
    "                                                          5.0,3.0,\n",
    "                                                          7.0,0.0,\n",
    "                                                          9.0,3.0,\n",
    "                                                          12.0,3.0,\n",
    "                                                          12.0,0.0,\n",
    "                                                          14.0,0.0]),\n",
    "                                          dx=0.1, change_nodes=[2,3,5,7])\n",
    "        self.displ = FEA_u(self.g_coord.reshape(9,2), elcon=np.array([[0, 1],\n",
    "                                                                      [0, 2],\n",
    "                                                                      [1, 2],\n",
    "                                                                      [1, 3],\n",
    "                                                                      [2, 3],\n",
    "                                                                      [2, 4],\n",
    "                                                                      [3, 4],\n",
    "                                                                      [3, 5],\n",
    "                                                                      [4, 5],\n",
    "                                                                      [4, 7],\n",
    "                                                                      [5, 7],\n",
    "                                                                      [5, 6],\n",
    "                                                                      [6, 7],\n",
    "                                                                      [6, 8],\n",
    "                                                                      [7, 8]]),\n",
    "                                                    bc_node=[0,1,\n",
    "                                                             2,3,\n",
    "                                                             12,13,\n",
    "                                                             16,17],\n",
    "                                                    bc_val=[0,0,\n",
    "                                                            0,0,\n",
    "                                                            0,0,\n",
    "                                                            0,0],\n",
    "                                                    global_force = np.array([0,0,\n",
    "                                                                    0,0,\n",
    "                                                                    0,0,\n",
    "                                                                    0,0,\n",
    "                                                                    0,-10,\n",
    "                                                                    0,0,\n",
    "                                                                    0,0,\n",
    "                                                                    0,0,\n",
    "                                                                    0,0]),\n",
    "                                                    A=1e-4, E=210e6)\n",
    "        \n",
    "        self.obs=observe(self.pst, self.g_coord, 10, 14, self.displ)\n",
    "        self.needs_reset = False\n",
    "        return self.obs  \n",
    "\n",
    "    def render(self, mode=\"human\"):\n",
    "        \n",
    "        \n",
    "        draw(self.g_coord, color=\"green\", elcon=np.array([[0, 1],[0, 2],[1, 2],[1, 3],[2, 3],\n",
    "                                                    [2, 4],[3, 4],[3, 5],[4, 5],[4, 7],\n",
    "                                                    [5, 7],[5, 6],[6, 7],[6, 8],[7, 8]]))    \n",
    "\n",
    "    def close(self):\n",
    "        pass"
   ]
  },
  {
   "cell_type": "code",
   "execution_count": 20,
   "metadata": {},
   "outputs": [],
   "source": [
    "env = BridgeEnv()\n",
    "check_env(env)"
   ]
  },
  {
   "cell_type": "code",
   "execution_count": 21,
   "metadata": {},
   "outputs": [],
   "source": [
    "start=time.time()\n",
    "model = A2C(\"MlpPolicy\", env).learn(total_timesteps=500_000)\n",
    "end=time.time()   "
   ]
  },
  {
   "cell_type": "code",
   "execution_count": 22,
   "metadata": {},
   "outputs": [
    {
     "name": "stdout",
     "output_type": "stream",
     "text": [
      "Total time taken: 21.145718467235564 min\n"
     ]
    }
   ],
   "source": [
    "print('Total time taken: {} min'.format((end - start)/60))"
   ]
  },
  {
   "cell_type": "markdown",
   "metadata": {},
   "source": [
    "### Design by AI"
   ]
  },
  {
   "cell_type": "code",
   "execution_count": 35,
   "metadata": {},
   "outputs": [
    {
     "data": {
      "image/png": "[encoded data removed]",
      "text/plain": [
       "<Figure size 936x360 with 1 Axes>"
      ]
     },
     "metadata": {
      "needs_background": "light"
     },
     "output_type": "display_data"
    }
   ],
   "source": [
    "obs = env.reset()\n",
    "i=0\n",
    "while i<50:\n",
    "    action, _states = model.predict(obs)\n",
    "    obs, rewards, dones, info = env.step(action)\n",
    "    i+=1\n",
    "    \n",
    "env.render()    "
   ]
  },
  {
   "cell_type": "code",
   "execution_count": 36,
   "metadata": {},
   "outputs": [
    {
     "data": {
      "text/plain": [
       "-0.004110796012941608"
      ]
     },
     "execution_count": 36,
     "metadata": {},
     "output_type": "execute_result"
    }
   ],
   "source": [
    "obs[-1]"
   ]
  },
  {
   "cell_type": "code",
   "execution_count": 37,
   "metadata": {},
   "outputs": [],
   "source": [
    "d=FEA_u(np.array([0.0,0.0, \n",
    "                2.0,3.0, \n",
    "                2.0,0.0, \n",
    "                5.0,3.0, \n",
    "                7.0,0.0,\n",
    "                9.0,3.0,\n",
    "                12.0,3.0,\n",
    "                12.0,0.0,\n",
    "                14.0,0.0]).reshape(9,2), \n",
    "      elcon=np.array([[0, 1],\n",
    "                      [0, 2],\n",
    "                      [1, 2],\n",
    "                      [1, 3],\n",
    "                      [2, 3],\n",
    "                      [2, 4],\n",
    "                      [3, 4],\n",
    "                      [3, 5],\n",
    "                      [4, 5],\n",
    "                      [4, 7],\n",
    "                      [5, 7],\n",
    "                      [5, 6],\n",
    "                      [6, 7],\n",
    "                      [6, 8],\n",
    "                      [7, 8]]),\n",
    "      bc_node=[0,1,\n",
    "               2,3,\n",
    "               12,13,\n",
    "               16,17],\n",
    "      bc_val=[0,0,\n",
    "              0,0,\n",
    "              0,0,\n",
    "              0,0],\n",
    "      global_force = np.array([0,0,\n",
    "                              0,0,\n",
    "                              0,0,\n",
    "                              0,0,\n",
    "                              0,-10,\n",
    "                              0,0,\n",
    "                              0,0,\n",
    "                              0,0,\n",
    "                              0,0]),\n",
    "      A=1e-4, E=210e6)"
   ]
  },
  {
   "cell_type": "code",
   "execution_count": 38,
   "metadata": {},
   "outputs": [
    {
     "data": {
      "text/plain": [
       "-0.005108382058368501"
      ]
     },
     "execution_count": 38,
     "metadata": {},
     "output_type": "execute_result"
    }
   ],
   "source": [
    "# Benchmark from initial design:\n",
    "d[9]"
   ]
  },
  {
   "cell_type": "markdown",
   "metadata": {},
   "source": [
    "### Initial Design "
   ]
  },
  {
   "cell_type": "code",
   "execution_count": 30,
   "metadata": {},
   "outputs": [
    {
     "data": {
      "image/png": "[encoded data removed]",
      "text/plain": [
       "<Figure size 936x360 with 1 Axes>"
      ]
     },
     "metadata": {
      "needs_background": "light"
     },
     "output_type": "display_data"
    }
   ],
   "source": [
    "draw(np.array([0.0,0.0,2.0,3.0,2.0,0.0,5.0,3.0,7.0,0.0,9.0,3.0,12.0,3.0,12.0,0.0,14.0,0.0]),\n",
    "     color=\"blue\",\n",
    "     elcon=np.array([[0, 1],[0, 2],[1, 2],[1, 3],[2, 3],\n",
    "                    [2, 4],[3, 4],[3, 5],[4, 5],[4, 7],\n",
    "                    [5, 7],[5, 6],[6, 7],[6, 8],[7, 8]]))"
   ]
  }
 ],
 "metadata": {
  "kernelspec": {
   "display_name": "Python 3",
   "language": "python",
   "name": "python3"
  },
  "language_info": {
   "codemirror_mode": {
    "name": "ipython",
    "version": 3
   },
   "file_extension": ".py",
   "mimetype": "text/x-python",
   "name": "python",
   "nbconvert_exporter": "python",
   "pygments_lexer": "ipython3",
   "version": "3.7.7"
  }
 },
 "nbformat": 4,
 "nbformat_minor": 2
}
