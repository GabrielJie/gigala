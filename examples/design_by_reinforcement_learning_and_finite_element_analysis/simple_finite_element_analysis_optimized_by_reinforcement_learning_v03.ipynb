{
 "cells": [
  {
   "cell_type": "markdown",
   "metadata": {},
   "source": [
    "This model tries to optimize stress-strain state (reduce displacements to acceptable level) by combination of simple finite element analysis and reinforcement learning."
   ]
  },
  {
   "cell_type": "code",
   "execution_count": 1,
   "metadata": {},
   "outputs": [],
   "source": [
    "import numpy as np\n",
    "import gym\n",
    "from gym import spaces\n",
    "import time\n",
    "import random\n",
    "from stable_baselines3 import A2C\n",
    "import torch\n",
    "from stable_baselines3.common.env_checker import check_env"
   ]
  },
  {
   "cell_type": "code",
   "execution_count": 2,
   "metadata": {},
   "outputs": [
    {
     "data": {
      "text/plain": [
       "'1.13.1'"
      ]
     },
     "execution_count": 2,
     "metadata": {},
     "output_type": "execute_result"
    }
   ],
   "source": [
    "torch.__version__"
   ]
  },
  {
   "cell_type": "code",
   "execution_count": 3,
   "metadata": {},
   "outputs": [
    {
     "data": {
      "text/plain": [
       "'0.21.0'"
      ]
     },
     "execution_count": 3,
     "metadata": {},
     "output_type": "execute_result"
    }
   ],
   "source": [
    "gym.__version__"
   ]
  },
  {
   "cell_type": "markdown",
   "metadata": {},
   "source": [
    "# Finite Element Model of Axially Loaded Bar"
   ]
  },
  {
   "cell_type": "code",
   "execution_count": 4,
   "metadata": {},
   "outputs": [],
   "source": [
    "# Details of model can be found at:\n",
    "# https://en.wikiversity.org/wiki/Introduction_to_finite_elements/Axial_bar_finite_element_solution"
   ]
  },
  {
   "cell_type": "code",
   "execution_count": 5,
   "metadata": {},
   "outputs": [],
   "source": [
    "def elementStiffness(A, E, h):\n",
    "    s= A*E/h\n",
    "    return s*np.array([[1,-1],[-1,1]])"
   ]
  },
  {
   "cell_type": "code",
   "execution_count": 6,
   "metadata": {},
   "outputs": [],
   "source": [
    "def elementLoad(node1, node2, a, h):\n",
    "\n",
    "    x1 = node1\n",
    "    x2 = node2\n",
    "\n",
    "    fe1 = a*x2/(2*h)*(x2**2-x1**2) - a/(3*h)*(x2**3-x1**3)\n",
    "    fe2 = -a*x1/(2*h)*(x2**2-x1**2) + a/(3*h)*(x2**3-x1**3)\n",
    "    return np.array([fe1,fe2])"
   ]
  },
  {
   "cell_type": "code",
   "execution_count": 7,
   "metadata": {},
   "outputs": [],
   "source": [
    "def AxialBarFEM(A,E):\n",
    "    L = 1.0\n",
    "    a = 1.0\n",
    "    R = 1.0    \n",
    "    e = 3\n",
    "    h = L/e\n",
    "    n = e+1\n",
    "        \n",
    "    node=[]    \n",
    "    for i in range(n):\n",
    "        node.append(i*h)\n",
    "    node=np.array(node) \n",
    "        \n",
    "    elem=[]    \n",
    "    for i in range(e):\n",
    "        P=[i,i+1]\n",
    "        elem.append(P)\n",
    "    elem=np.array(elem)    \n",
    "      \n",
    "    K=np.zeros((n,n))   \n",
    "    F=np.zeros((n,1))  \n",
    "       \n",
    "    for i in range(e):\n",
    "        node1 = elem[i,0]\n",
    "        node2 = elem[i,1]\n",
    "        Ke = elementStiffness(A, E, h)\n",
    "        fe = elementLoad(node[node1],node[node2], a, h)\n",
    "        K[node1:node2+1,node1:node2+1] = K[node1:node2+1,node1:node2+1] + Ke\n",
    "        F[node1:node2+1] = F[node1:node2+1] + fe.reshape(2,1)\n",
    "         \n",
    "    F[n-1] = F[n-1] + 1.0\n",
    "   \n",
    "    bc_node=[0]\n",
    "    bc_val=[0]\n",
    "    # https://github.com/CALFEM/calfem-matlab/blob/master/fem/solveq.m\n",
    "    \n",
    "    \n",
    "    bc=np.array([bc_node, \n",
    "                bc_val]).T\n",
    "    nd, nd=K.shape\n",
    "    fdof=np.array([i for i in range(nd)]).T\n",
    "    d=np.zeros(shape=(len(fdof),))\n",
    "    Q=np.zeros(shape=(len(fdof),))\n",
    "\n",
    "    pdof=bc[:,0].astype(int)\n",
    "    dp=bc[:,1]\n",
    "    fdof=np.delete(fdof, pdof, 0)\n",
    "    s=np.linalg.lstsq(K[fdof,:][:,fdof], (F[fdof].T-np.dot(K[fdof,:][:,pdof],dp.T)).T, rcond=None)[0] \n",
    "    d[pdof]=dp\n",
    "    d[fdof]=s.reshape(-1,)\n",
    "    \n",
    "#     Q=np.dot(K,d).T-F \n",
    "    return d[-1],A,E"
   ]
  },
  {
   "cell_type": "code",
   "execution_count": 8,
   "metadata": {},
   "outputs": [],
   "source": [
    "# Input: cross-sectional area and Young's modulus\n",
    "# Output: largest displacement at rightmost node at the point of external force application\n",
    "\n",
    "DIM=len(AxialBarFEM(0.5, 1))"
   ]
  },
  {
   "cell_type": "markdown",
   "metadata": {},
   "source": [
    "## Utils"
   ]
  },
  {
   "cell_type": "code",
   "execution_count": 9,
   "metadata": {},
   "outputs": [],
   "source": [
    "def prestep(action,A,E):\n",
    "    d=0.01\n",
    "    d1=0.005\n",
    "    if action==0:\n",
    "        return A-d, E\n",
    "    elif action==1:\n",
    "        return A-d,E-d1\n",
    "    elif action==2:\n",
    "        return A-d,E+d1\n",
    "    elif action==3:\n",
    "        return A,E\n",
    "    elif action==4:\n",
    "        return A+d,E\n",
    "    elif action==5:\n",
    "        return A+d, E+d1\n",
    "    elif action==6:\n",
    "        return A+d, E-d1\n",
    "    elif action==7:\n",
    "        return A, E+d1\n",
    "    else:\n",
    "        return A,E-d1"
   ]
  },
  {
   "cell_type": "code",
   "execution_count": 10,
   "metadata": {},
   "outputs": [],
   "source": [
    "def reward_(obs_,obs):\n",
    "#     if obs_[1]>obs[1]: # use when minimizing cross-sectional area\n",
    "    if obs_[0]>obs[0]:  # use when minimizing displacement  \n",
    "        return 1\n",
    "    else:\n",
    "        return 0"
   ]
  },
  {
   "cell_type": "markdown",
   "metadata": {},
   "source": [
    "## Reinforcement learning model"
   ]
  },
  {
   "cell_type": "code",
   "execution_count": 11,
   "metadata": {},
   "outputs": [],
   "source": [
    "N_DISCRETE_ACTIONS=8"
   ]
  },
  {
   "cell_type": "code",
   "execution_count": 12,
   "metadata": {},
   "outputs": [],
   "source": [
    "class BarEnv(gym.Env):\n",
    "    \n",
    "    metadata = {\"render.modes\": [\"human\"]}\n",
    "\n",
    "    def __init__(self):\n",
    "        super().__init__()\n",
    "        self.action_space = spaces.Discrete(N_DISCRETE_ACTIONS)\n",
    "        \n",
    "        self.A=3*random.random()\n",
    "        self.E=2*random.random()\n",
    "        self.obs=AxialBarFEM(self.A, self.E)   \n",
    "        self.observation_space = spaces.Box(low=np.array([-np.inf for x in range(DIM)]),\n",
    "                                            high=np.array([np.inf for y in range(DIM)]),\n",
    "                                            shape=(DIM,),\n",
    "                                           dtype=np.float64)\n",
    "        self.needs_reset = True\n",
    "\n",
    "    def step(self, action):\n",
    "        \n",
    "        obs_=self.obs\n",
    "        self.A,self.E=prestep(action,self.A,self.E)\n",
    "        self.obs=AxialBarFEM(self.A,self.E)\n",
    "        reward=reward_(obs_,self.obs)\n",
    "                \n",
    "        done=False\n",
    "        if self.obs[0]<0.1: \n",
    "            done = True\n",
    "        \n",
    "        if self.needs_reset:\n",
    "            raise RuntimeError(\"Tried to step environment that needs reset\")\n",
    "            \n",
    "        if done:\n",
    "            self.needs_reset = True\n",
    "      \n",
    "        return np.array(self.obs), reward, done, dict()\n",
    "\n",
    "    def reset(self):\n",
    "        self.A=3*random.random()\n",
    "        self.E=2*random.random()\n",
    "        self.obs=AxialBarFEM(self.A, self.E) \n",
    "        self.needs_reset = False\n",
    "        return np.array(self.obs)  \n",
    "\n",
    "    def render(self, mode=\"human\"):\n",
    "        pass    \n",
    "\n",
    "    def close(self):\n",
    "        pass"
   ]
  },
  {
   "cell_type": "code",
   "execution_count": 13,
   "metadata": {},
   "outputs": [],
   "source": [
    "env = BarEnv()\n",
    "check_env(env)"
   ]
  },
  {
   "cell_type": "code",
   "execution_count": 14,
   "metadata": {},
   "outputs": [],
   "source": [
    "start=time.time()\n",
    "model = A2C(\"MlpPolicy\", env).learn(total_timesteps=1_500_000)\n",
    "end=time.time()   "
   ]
  },
  {
   "cell_type": "code",
   "execution_count": 15,
   "metadata": {},
   "outputs": [
    {
     "name": "stdout",
     "output_type": "stream",
     "text": [
      "Total time taken: 68.04455128510793 min\n"
     ]
    }
   ],
   "source": [
    "print('Total time taken: {} min'.format((end - start)/60))"
   ]
  },
  {
   "cell_type": "markdown",
   "metadata": {},
   "source": [
    "### AI design"
   ]
  },
  {
   "cell_type": "code",
   "execution_count": 16,
   "metadata": {},
   "outputs": [],
   "source": [
    "obs = env.reset()"
   ]
  },
  {
   "cell_type": "code",
   "execution_count": 17,
   "metadata": {},
   "outputs": [],
   "source": [
    "env.A=0.7\n",
    "env.E=0.9"
   ]
  },
  {
   "cell_type": "code",
   "execution_count": 18,
   "metadata": {},
   "outputs": [],
   "source": [
    "THR=2"
   ]
  },
  {
   "cell_type": "code",
   "execution_count": 19,
   "metadata": {},
   "outputs": [],
   "source": [
    "i=0\n",
    "while i<100:\n",
    "    action, _states = model.predict(obs)\n",
    "    obs, rewards, dones, info = env.step(action)\n",
    "    if obs[0]<THR and obs[0]>0.8*THR: # use when minimizing displacement\n",
    "        break\n",
    "#     if obs[0]<THR or obs[0]>3*THR : # use when minimizing cross-sectional area\n",
    "#         break  \n",
    "    i+=1   "
   ]
  },
  {
   "cell_type": "code",
   "execution_count": 20,
   "metadata": {},
   "outputs": [
    {
     "name": "stdout",
     "output_type": "stream",
     "text": [
      "Solution converged! MaxDispl=1.9753086419753065, A=0.75,E=0.9\n"
     ]
    }
   ],
   "source": [
    "if obs[0]>THR:\n",
    "    print(\"Bad initial parameters! Try increasing initial cross-sectional area A, Young's modulus E and/or number of iterations\")\n",
    "elif obs[0]<0.8*THR:\n",
    "    print(\"You can get better parameters. Try decreasing initial area A and/or Young's modulus E\")\n",
    "else:    \n",
    "    print(\"Solution converged! MaxDispl={}, A={},E={}\".format(obs[0],obs[1],obs[2]))"
   ]
  }
 ],
 "metadata": {
  "kernelspec": {
   "display_name": "Python 3",
   "language": "python",
   "name": "python3"
  },
  "language_info": {
   "codemirror_mode": {
    "name": "ipython",
    "version": 3
   },
   "file_extension": ".py",
   "mimetype": "text/x-python",
   "name": "python",
   "nbconvert_exporter": "python",
   "pygments_lexer": "ipython3",
   "version": "3.7.7"
  }
 },
 "nbformat": 4,
 "nbformat_minor": 2
}
