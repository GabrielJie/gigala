{
 "cells": [
  {
   "cell_type": "markdown",
   "metadata": {},
   "source": [
    "This model tries to optimize stress-strain state (reduce displacements to acceptable level) by combination of simple finite element analysis and reinforcement learning"
   ]
  },
  {
   "cell_type": "markdown",
   "metadata": {},
   "source": [
    "# Finite Element Model of Axially Loaded Bar"
   ]
  },
  {
   "cell_type": "code",
   "execution_count": 1,
   "metadata": {},
   "outputs": [],
   "source": [
    "# Details of model can be found at:\n",
    "# https://en.wikiversity.org/wiki/Introduction_to_finite_elements/Axial_bar_finite_element_solution"
   ]
  },
  {
   "cell_type": "code",
   "execution_count": 2,
   "metadata": {},
   "outputs": [],
   "source": [
    "import numpy as np"
   ]
  },
  {
   "cell_type": "code",
   "execution_count": 3,
   "metadata": {},
   "outputs": [],
   "source": [
    "def elementStiffness(A, E, h):\n",
    "    s= A*E/h\n",
    "    return s*np.array([[1,-1],[-1,1]])"
   ]
  },
  {
   "cell_type": "code",
   "execution_count": 4,
   "metadata": {},
   "outputs": [],
   "source": [
    "def elementLoad(node1, node2, a, h):\n",
    "\n",
    "    x1 = node1\n",
    "    x2 = node2\n",
    "\n",
    "    fe1 = a*x2/(2*h)*(x2**2-x1**2) - a/(3*h)*(x2**3-x1**3)\n",
    "    fe2 = -a*x1/(2*h)*(x2**2-x1**2) + a/(3*h)*(x2**3-x1**3)\n",
    "    return np.array([fe1,fe2])"
   ]
  },
  {
   "cell_type": "code",
   "execution_count": 5,
   "metadata": {},
   "outputs": [],
   "source": [
    "def AxialBarFEM(A,E):\n",
    "    L = 1.0\n",
    "    a = 1.0\n",
    "    R = 1.0    \n",
    "    e = 3\n",
    "    h = L/e\n",
    "    n = e+1\n",
    "        \n",
    "    node=[]    \n",
    "    for i in range(n):\n",
    "        node.append(i*h)\n",
    "    node=np.array(node) \n",
    "        \n",
    "    elem=[]    \n",
    "    for i in range(e):\n",
    "        P=[i,i+1]\n",
    "        elem.append(P)\n",
    "    elem=np.array(elem)    \n",
    "      \n",
    "    K=np.zeros((n,n))   \n",
    "    f=np.zeros((n,1))  \n",
    "       \n",
    "    for i in range(e):\n",
    "        node1 = elem[i,0]\n",
    "        node2 = elem[i,1]\n",
    "        Ke = elementStiffness(A, E, h)\n",
    "        fe = elementLoad(node[node1],node[node2], a, h)\n",
    "        K[node1:node2+1,node1:node2+1] = K[node1:node2+1,node1:node2+1] + Ke\n",
    "        f[node1:node2+1] = f[node1:node2+1] + fe.reshape(2,1)\n",
    "         \n",
    "    f[n-1] = f[n-1] + 1.0\n",
    "   \n",
    "    Kred = K[1:n,1:n]\n",
    "    fred = f[1:n] \n",
    "    d = np.dot(np.linalg.inv(Kred),fred)  \n",
    "    dsol = np.insert(d,0,0)   \n",
    "                \n",
    "    return  dsol[-1],A,E"
   ]
  },
  {
   "cell_type": "code",
   "execution_count": 6,
   "metadata": {},
   "outputs": [
    {
     "data": {
      "text/plain": [
       "(2.6666666666666665, 0.5, 1)"
      ]
     },
     "execution_count": 6,
     "metadata": {},
     "output_type": "execute_result"
    }
   ],
   "source": [
    "# Input: cross-sectional area and Young's modulus\n",
    "# Output: largest displacement at rightmost node at the point of external force application\n",
    "\n",
    "AxialBarFEM(0.5, 1)"
   ]
  },
  {
   "cell_type": "markdown",
   "metadata": {},
   "source": [
    "# Neural Network Policy - Policy Gradients"
   ]
  },
  {
   "cell_type": "code",
   "execution_count": 7,
   "metadata": {},
   "outputs": [],
   "source": [
    "# Details of model can be found in the book:\n",
    "# Hands-On Machine Learning with Scikit-Learn & TensorFlow"
   ]
  },
  {
   "cell_type": "code",
   "execution_count": 8,
   "metadata": {},
   "outputs": [],
   "source": [
    "import tensorflow as tf\n",
    "from tensorflow.contrib.layers import fully_connected"
   ]
  },
  {
   "cell_type": "code",
   "execution_count": 9,
   "metadata": {},
   "outputs": [
    {
     "name": "stdout",
     "output_type": "stream",
     "text": [
      "WARNING:tensorflow:\n",
      "The TensorFlow contrib module will not be included in TensorFlow 2.0.\n",
      "For more information, please see:\n",
      "  * https://github.com/tensorflow/community/blob/master/rfcs/20180907-contrib-sunset.md\n",
      "  * https://github.com/tensorflow/addons\n",
      "  * https://github.com/tensorflow/io (for I/O related ops)\n",
      "If you depend on functionality not listed there, please file an issue.\n",
      "\n",
      "WARNING:tensorflow:From /Library/Frameworks/Python.framework/Versions/3.7/lib/python3.7/site-packages/tensorflow_core/contrib/layers/python/layers/layers.py:1866: Layer.apply (from tensorflow.python.keras.engine.base_layer) is deprecated and will be removed in a future version.\n",
      "Instructions for updating:\n",
      "Please use `layer.__call__` method instead.\n",
      "WARNING:tensorflow:From <ipython-input-9-ef182a0d2bd6>:16: multinomial (from tensorflow.python.ops.random_ops) is deprecated and will be removed in a future version.\n",
      "Instructions for updating:\n",
      "Use `tf.random.categorical` instead.\n",
      "WARNING:tensorflow:From /Library/Frameworks/Python.framework/Versions/3.7/lib/python3.7/site-packages/tensorflow_core/python/ops/nn_impl.py:183: where (from tensorflow.python.ops.array_ops) is deprecated and will be removed in a future version.\n",
      "Instructions for updating:\n",
      "Use tf.where in 2.0, which has the same broadcast rule as np.where\n"
     ]
    }
   ],
   "source": [
    "n_inputs = 3 \n",
    "n_hidden = 50 \n",
    "n_outputs = 9 \n",
    "initializer = tf.contrib.layers.variance_scaling_initializer()\n",
    "\n",
    "learning_rate = 0.001\n",
    "\n",
    "# Build the neural network\n",
    "X_ = tf.placeholder(tf.float32, shape=[None, n_inputs], name=\"X_\")\n",
    "hidden = fully_connected(X_, n_hidden, activation_fn=tf.nn.elu, weights_initializer=initializer)\n",
    "hidden1 = fully_connected(hidden, n_hidden, activation_fn=tf.nn.elu, weights_initializer=initializer)\n",
    "logits = fully_connected(hidden1, n_outputs, activation_fn=None, weights_initializer=initializer)\n",
    "outputs = tf.nn.softmax(logits, name=\"Y_proba\")\n",
    "\n",
    "# Select a random action based on the estimated probabilities\n",
    "action = tf.multinomial(tf.log(outputs), num_samples=1,output_dtype=tf.int32)\n",
    "\n",
    "y=tf.reshape(tf.one_hot(action,depth=9,dtype=tf.float32),[9,1])\n",
    "xentropy = tf.nn.sigmoid_cross_entropy_with_logits(labels=y, logits=tf.transpose(logits))\n",
    "\n",
    "optimizer = tf.train.AdamOptimizer(learning_rate)\n",
    "grads_and_vars = optimizer.compute_gradients(xentropy)\n",
    "gradients = [grad for grad, variable in grads_and_vars]\n",
    "gradient_placeholders = []\n",
    "grads_and_vars_feed = []\n",
    "for grad, variable in grads_and_vars:\n",
    "    gradient_placeholder = tf.placeholder(tf.float32, shape=grad.get_shape())\n",
    "    gradient_placeholders.append(gradient_placeholder)\n",
    "    grads_and_vars_feed.append((gradient_placeholder, variable))\n",
    "    \n",
    "training_op = optimizer.apply_gradients(grads_and_vars_feed)\n",
    "\n",
    "init = tf.global_variables_initializer()\n",
    "saver = tf.train.Saver()"
   ]
  },
  {
   "cell_type": "code",
   "execution_count": 10,
   "metadata": {},
   "outputs": [],
   "source": [
    "def discount_rewards(rewards, discount_rate=0.97):\n",
    "    discounted_rewards = np.empty(len(rewards))\n",
    "    cumulative_rewards = 0\n",
    "    for step in reversed(range(len(rewards))):\n",
    "        cumulative_rewards = rewards[step] + cumulative_rewards * discount_rate\n",
    "        discounted_rewards[step] = cumulative_rewards\n",
    "    return discounted_rewards"
   ]
  },
  {
   "cell_type": "code",
   "execution_count": 11,
   "metadata": {},
   "outputs": [],
   "source": [
    "def discount_and_normalize_rewards(all_rewards, discount_rate=0.97):\n",
    "    all_discounted_rewards = [discount_rewards(rewards) for rewards in all_rewards]\n",
    "    flat_rewards = np.concatenate(all_discounted_rewards)\n",
    "    reward_mean = flat_rewards.mean()\n",
    "    reward_std = flat_rewards.std()\n",
    "    return [(discounted_rewards - reward_mean)/reward_std for discounted_rewards in all_discounted_rewards]"
   ]
  },
  {
   "cell_type": "code",
   "execution_count": 12,
   "metadata": {},
   "outputs": [],
   "source": [
    "def prestep(action,A,E):\n",
    "    d=0.01\n",
    "    d1=0.005\n",
    "    if action==0:\n",
    "        return A-d, E\n",
    "    elif action==1:\n",
    "        return A-d,E-d1\n",
    "    elif action==2:\n",
    "        return A-d,E+d1\n",
    "    elif action==3:\n",
    "        return A,E\n",
    "    elif action==4:\n",
    "        return A+d,E\n",
    "    elif action==5:\n",
    "        return A+d, E+d1\n",
    "    elif action==6:\n",
    "        return A+d, E-d1\n",
    "    elif action==7:\n",
    "        return A, E+d1\n",
    "    else:\n",
    "        return A,E-d1"
   ]
  },
  {
   "cell_type": "code",
   "execution_count": 13,
   "metadata": {},
   "outputs": [],
   "source": [
    "def reward_(obs_,obs):\n",
    "#     if obs_[1]>obs[1]: # use when minimizing cross-sectional area\n",
    " \n",
    "    if obs_[0]>obs[0]:  # use when minimizing displacement  \n",
    "        return 1\n",
    "    else:\n",
    "        return 0"
   ]
  },
  {
   "cell_type": "code",
   "execution_count": 14,
   "metadata": {},
   "outputs": [],
   "source": [
    "import random"
   ]
  },
  {
   "cell_type": "markdown",
   "metadata": {},
   "source": [
    "### Training"
   ]
  },
  {
   "cell_type": "code",
   "execution_count": 16,
   "metadata": {},
   "outputs": [],
   "source": [
    "n_iterations =100 #250 # number of training iterations\n",
    "n_max_steps = 300 #1000 # max steps per episode\n",
    "n_games_per_update = 10 # train the policy every 10 episodes\n",
    "save_iterations = 10 # save the model every 10 training iterations\n",
    "\n",
    "with tf.Session() as sess:\n",
    "    init.run()\n",
    "    for iteration in range(n_iterations):\n",
    "        all_rewards = [] # all sequences of raw rewards for each episode\n",
    "        all_gradients = [] # gradients saved at each step of each episode\n",
    "              \n",
    "        for game in range(n_games_per_update):\n",
    "            current_rewards = [] # all raw rewards from the current episode\n",
    "            current_gradients = [] # all gradients from the current episode\n",
    "            \n",
    "            A=3*random.random()\n",
    "            E=2*random.random()\n",
    "            obs=AxialBarFEM(A,E)            \n",
    "            for step in range(n_max_steps):\n",
    "                action_val, gradients_val = sess.run([action, gradients],\n",
    "                                                     feed_dict={X_:  np.array(obs).reshape(1,n_inputs)}) # one obs\n",
    "                obs_=obs\n",
    "                A,E=prestep(action_val[0][0],A,E)\n",
    "                obs=AxialBarFEM(A,E)\n",
    "                reward=reward_(obs_,obs)\n",
    "                current_rewards.append(reward)\n",
    "                current_gradients.append(gradients_val)\n",
    "\n",
    "                if obs[0]<0.1: \n",
    "                    break\n",
    "            all_rewards.append(current_rewards)\n",
    "            all_gradients.append(current_gradients)\n",
    "        \n",
    "        # At this point we have run the policy for 10 episodes, and we are\n",
    "        # ready for a policy update using the algorithm described earlier.\n",
    "        all_rewards = discount_and_normalize_rewards(all_rewards)\n",
    "        \n",
    "        feed_dict = {}\n",
    "        for var_index, grad_placeholder in enumerate(gradient_placeholders):\n",
    "            # multiply the gradients by the action scores, and compute the mean\n",
    "            mean_gradients = np.mean([reward * all_gradients[game_index][step][var_index] \n",
    "                                      for game_index, rewards in enumerate(all_rewards)\n",
    "                                      for step, reward in enumerate(rewards)],axis=0)\n",
    "            feed_dict[grad_placeholder] = mean_gradients\n",
    "        sess.run(training_op, feed_dict=feed_dict)\n",
    "        if iteration % save_iterations == 0:\n",
    "            saver.save(sess, \"./policy/my_policy_net_pg.ckpt\")"
   ]
  },
  {
   "cell_type": "code",
   "execution_count": 17,
   "metadata": {},
   "outputs": [],
   "source": [
    "# for op in tf.get_default_graph().get_operations():\n",
    "#     print (str(op.name)) "
   ]
  },
  {
   "cell_type": "markdown",
   "metadata": {},
   "source": [
    "### Prediction"
   ]
  },
  {
   "cell_type": "code",
   "execution_count": 19,
   "metadata": {},
   "outputs": [],
   "source": [
    "def predict(thr,A,E):\n",
    "    with tf.Session() as sess:\n",
    "        saver = tf.train.import_meta_graph('./policy/my_policy_net_pg.ckpt.meta')\n",
    "        saver.restore(sess, \"./policy/my_policy_net_pg.ckpt\") \n",
    "\n",
    "        graph = tf.get_default_graph()\n",
    "        outputs = graph.get_tensor_by_name(\"Y_proba:0\") \n",
    "        X_ = graph.get_tensor_by_name(\"X_:0\") \n",
    "        \n",
    "        obs=AxialBarFEM(A,E)\n",
    "\n",
    "        for step in range(100):\n",
    "            action_val= sess.run([outputs],feed_dict={X_:  np.array(obs).reshape(1,n_inputs)})\n",
    "            action_val=np.log(action_val)\n",
    "            A,E=prestep(np.argmax(action_val),A,E)  \n",
    "            obs=AxialBarFEM(A,E)\n",
    "            if obs[0]<thr and obs[0]>0.8*thr: # use when minimizing displacement\n",
    "                break\n",
    "#             if obs[0]<thr or obs[0]>3*thr : # use when minimizing cross-sectional area\n",
    "#                 break    \n",
    "        if obs[0]>thr:\n",
    "            return \"Bad initial parameters! Try increasing initial cross-sectional area A, Young's modulus E and/or number of iterations\"\n",
    "        if obs[0]<0.8*thr:\n",
    "            return \"You can get better parameters. Try decreasing initial area A and/or Young's modulus E\"\n",
    "    return \"Solution converged! MaxDispl={}, A={},E={}\".format(obs[0],obs[1],obs[2])"
   ]
  },
  {
   "cell_type": "markdown",
   "metadata": {},
   "source": [
    "### Test"
   ]
  },
  {
   "cell_type": "code",
   "execution_count": 48,
   "metadata": {},
   "outputs": [
    {
     "name": "stdout",
     "output_type": "stream",
     "text": [
      "INFO:tensorflow:Restoring parameters from ./policy/my_policy_net_pg.ckpt\n"
     ]
    },
    {
     "data": {
      "text/plain": [
       "'Solution converged! MaxDispl=1.975308641975308, A=0.75,E=0.9'"
      ]
     },
     "execution_count": 48,
     "metadata": {},
     "output_type": "execute_result"
    }
   ],
   "source": [
    "predict(thr=2,A=0.7,E=0.9)"
   ]
  }
 ],
 "metadata": {
  "kernelspec": {
   "display_name": "Python 3",
   "language": "python",
   "name": "python3"
  },
  "language_info": {
   "codemirror_mode": {
    "name": "ipython",
    "version": 3
   },
   "file_extension": ".py",
   "mimetype": "text/x-python",
   "name": "python",
   "nbconvert_exporter": "python",
   "pygments_lexer": "ipython3",
   "version": "3.7.7"
  }
 },
 "nbformat": 4,
 "nbformat_minor": 2
}
