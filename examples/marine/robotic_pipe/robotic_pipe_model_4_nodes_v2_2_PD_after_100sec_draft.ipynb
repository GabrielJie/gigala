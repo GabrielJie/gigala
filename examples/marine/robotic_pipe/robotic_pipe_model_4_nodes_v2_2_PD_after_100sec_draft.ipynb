{
 "cells": [
  {
   "cell_type": "markdown",
   "metadata": {},
   "source": [
    "#### Model taken from:\n",
    "- Offshore Pipelaying Dynamics. Gullik Anthon Jensen \n",
    "- Modelling and Control of Offshore Marine Pipeline during Pipelay. Gullik A. Jensen et al"
   ]
  },
  {
   "cell_type": "markdown",
   "metadata": {},
   "source": [
    "M(q)q ̈ + C(q,q ̇)q ̇ + H(q,q ̇)q ̇ + f(q) + g(q) = τ"
   ]
  },
  {
   "cell_type": "code",
   "execution_count": null,
   "metadata": {},
   "outputs": [],
   "source": [
    "# TODO - make sure all parameters (vessel and pipe) are in the same reference frame, e.g p.78, p.142\n",
    "# TODO - applied top tension in dynamic case might have been time varying, Jensen thesis p.76-77\n",
    "# TODO - verify results against the catenary\n",
    "# TODO - roller reaction (force) should be proportional to pipe vertical displacement at rollers?\n",
    "# TODO - do I have stinger accounted in the model? do I need stinger in the model?, see 3338.pdf\n",
    "# TODO - do I have seabed interaction force in the model?\n",
    "# TODO - add more nodes"
   ]
  },
  {
   "cell_type": "code",
   "execution_count": 1,
   "metadata": {},
   "outputs": [],
   "source": [
    "import numpy as np\n",
    "import math\n",
    "from scipy.integrate import odeint, ode, solve_ivp\n",
    "from scipy.integrate import ode\n",
    "from scipy.misc import derivative\n",
    "from numpy.linalg import inv, pinv\n",
    "import numdifftools as nd\n",
    "import tqdm\n",
    "import functools\n",
    "from datetime import datetime\n",
    "from scipy.optimize import fsolve"
   ]
  },
  {
   "cell_type": "code",
   "execution_count": 2,
   "metadata": {},
   "outputs": [],
   "source": [
    "%matplotlib inline"
   ]
  },
  {
   "cell_type": "code",
   "execution_count": 3,
   "metadata": {},
   "outputs": [],
   "source": [
    "import matplotlib.pyplot as plt"
   ]
  },
  {
   "cell_type": "markdown",
   "metadata": {},
   "source": [
    "### Inputs"
   ]
  },
  {
   "cell_type": "code",
   "execution_count": 4,
   "metadata": {},
   "outputs": [],
   "source": [
    "pipe_joint_length = 250 #600 #100 # [m]\n",
    "pipe_weight_per_unit_length = 96 #  (submerged) [kg/m]  # 113.07 - not submerged\n",
    "\n",
    "q = [45, 20, -15, -5] # used for initial checks only but not in final solution \n",
    "l = [pipe_joint_length for i in range(len(q))]\n",
    "\n",
    "# mn = 5.08976 * 10e7 # mass of the vessel, [kg]\n",
    "# In = 5.041*10e7 # moment of inertia of the vessel, [kg*𝑚2]\n",
    "# mn = 80048 # mass of the vessel, [kg]\n",
    "# In = 50410 # moment of inertia of the vessel, [kg*𝑚2]\n",
    "\n",
    "mn = 32219000 # mass of the vessel, [kg]\n",
    "# mn = 5.08976 *1e7 # mass of the vessel, [kg]"
   ]
  },
  {
   "cell_type": "code",
   "execution_count": 5,
   "metadata": {},
   "outputs": [],
   "source": [
    "# L - the hull length\n",
    "# Xg - x-center of gravity\n",
    "\n",
    "L = 169 # [m]\n",
    "Xg = 78 # [m]\n",
    "# L = 240 # [m]\n",
    "# Xg = 120 # [m]"
   ]
  },
  {
   "cell_type": "code",
   "execution_count": 6,
   "metadata": {},
   "outputs": [],
   "source": [
    "# Fossen book p.181\n",
    "def vessel_inertia_moment(mn, Xg, L):\n",
    "    r = 0.25*L\n",
    "    Ir = mn*r**2\n",
    "    Iz=mn*Xg**2 + Ir\n",
    "    return Iz"
   ]
  },
  {
   "cell_type": "code",
   "execution_count": 7,
   "metadata": {},
   "outputs": [],
   "source": [
    "In = vessel_inertia_moment(mn,Xg,L)"
   ]
  },
  {
   "cell_type": "code",
   "execution_count": 8,
   "metadata": {},
   "outputs": [
    {
     "data": {
      "text/plain": [
       "253533324687.5"
      ]
     },
     "execution_count": 8,
     "metadata": {},
     "output_type": "execute_result"
    }
   ],
   "source": [
    "In"
   ]
  },
  {
   "cell_type": "code",
   "execution_count": 9,
   "metadata": {},
   "outputs": [],
   "source": [
    "mi = [x*pipe_weight_per_unit_length for x in l] # mass of pipe element (submerged), [kg]"
   ]
  },
  {
   "cell_type": "code",
   "execution_count": 10,
   "metadata": {},
   "outputs": [],
   "source": [
    "# for hydrodynamic damping matrix\n",
    "Cd=[0.87, 0.87, 0.87, 1.6] # Drag coefficient\n",
    "# Cd=0.82 # Drag coefficient\n",
    "\n",
    "qw = 1025 # Water density [kg/m3]\n",
    "d0 = 0.7610 # Outer diameter of pipe, [m]\n",
    "dI= 0.69# Inner diameter of pipe, [m]"
   ]
  },
  {
   "cell_type": "code",
   "execution_count": 11,
   "metadata": {},
   "outputs": [],
   "source": [
    "# for vector of spring forces in the pipe joints\n",
    "# K = 1.4*10e11\n",
    "E = 210e9 # modulus of elasticity of steel, [N/m^2]\n",
    "EI = E*3.14/64*(d0**4-dI**4) # Bending stiffness [N*m^2]\n",
    "\n",
    "K = EI#10e7 # depends on the unit bending stiffness of the pipe (EI), \n",
    "       # and the length li, of the link; from the Jensen thesis [N/m]"
   ]
  },
  {
   "cell_type": "code",
   "execution_count": 12,
   "metadata": {},
   "outputs": [
    {
     "data": {
      "text/plain": [
       "1120051921.710554"
      ]
     },
     "execution_count": 12,
     "metadata": {},
     "output_type": "execute_result"
    }
   ],
   "source": [
    "K"
   ]
  },
  {
   "cell_type": "code",
   "execution_count": 13,
   "metadata": {},
   "outputs": [],
   "source": [
    "# for vector of control inputs\n",
    "tau_qn = 250576 # tension in pipe at water level, [N] (check Jee sheets)\n",
    "Fx_ = 7.5e7 # 5e7 # [N], from the Jensen thesis\n",
    "# Fy=-100*1000 # [N],"
   ]
  },
  {
   "cell_type": "code",
   "execution_count": 14,
   "metadata": {},
   "outputs": [],
   "source": [
    "# for solution\n",
    "max_t = 600  \n",
    "dt = 0.5\n",
    "t=np.arange(0,max_t,dt)\n",
    "# q0=[45, 0, 20, 0, 15, 0, 5, 0]"
   ]
  },
  {
   "cell_type": "code",
   "execution_count": 15,
   "metadata": {},
   "outputs": [],
   "source": [
    "Awp = 1000 # the waterplane area of the vessel, [m^2]\n",
    "# h=26.3 # water depth, [m]\n",
    "h=700\n",
    "\n",
    "# fip=1e10\n",
    "fip=1e12"
   ]
  },
  {
   "cell_type": "code",
   "execution_count": 16,
   "metadata": {},
   "outputs": [],
   "source": [
    "kd=0.5e5\n",
    "kp=0.95e5"
   ]
  },
  {
   "cell_type": "markdown",
   "metadata": {},
   "source": [
    "### System inertia matrix "
   ]
  },
  {
   "cell_type": "code",
   "execution_count": 17,
   "metadata": {},
   "outputs": [],
   "source": [
    "def alpha(i, q):\n",
    "    return sum(q[:i+1])\n",
    "    \n",
    "def Jv(q, i, l):\n",
    "\n",
    "    def Jv0(i, k, q, l):\n",
    "        if k<i:\n",
    "            tmp1=0\n",
    "            for j in range(k, i):\n",
    "                tmp1+=l[j]*math.sin(math.radians(alpha(j,q)))\n",
    "            tmp1=-tmp1-0.5*l[i]*math.sin(math.radians(alpha(i,q)))  \n",
    "\n",
    "            tmp2=0\n",
    "            for j in range(k, i):\n",
    "                tmp2+=l[j]*math.cos(math.radians(alpha(j,q)))\n",
    "            tmp2=tmp2+0.5*l[i]*math.cos(math.radians(alpha(i,q))) \n",
    "\n",
    "            return np.array([tmp1, tmp2]).T\n",
    "\n",
    "        elif k==i:\n",
    "            return np.array([-0.5*l[i]*math.sin(math.radians(alpha(i,q))),\n",
    "                    0.5*l[i]*math.cos(math.radians(alpha(i,q)))]).T\n",
    "        else:\n",
    "            return np.array([0, 0]).T\n",
    "    \n",
    "    ans=np.array([Jv0(i, k, q, l) for k in range(len(q))])\n",
    "    \n",
    "    return ans.T\n",
    "\n",
    "def Jomega(i):\n",
    "\n",
    "    def Jomega0(i,k):\n",
    "        if k<=i:\n",
    "            return 1\n",
    "        return 0\n",
    "    ans=np.array([Jomega0(i, k) for k in range(len(q))])\n",
    "   \n",
    "    return ans.reshape(len(q),1).T"
   ]
  },
  {
   "cell_type": "code",
   "execution_count": 18,
   "metadata": {},
   "outputs": [],
   "source": [
    "def M(q, l, mn, In, mi):\n",
    "    \n",
    "    sum1 = mn * np.dot(Jv( q, len(q)-1, l).T, Jv(q, len(q)-1, l))\n",
    "    \n",
    " \n",
    "    sum2 = In * np.dot(Jomega(len(q)-1).T, Jomega(len(q)-1))\n",
    "    \n",
    "    sum3=0\n",
    "    for i in range(len(q)-1):\n",
    "        sum3+=mi[i]*np.dot(Jv(q, i, l).T, Jv( q,i, l))\n",
    "      \n",
    "    return sum1 + sum2 + sum3   "
   ]
  },
  {
   "cell_type": "code",
   "execution_count": 19,
   "metadata": {},
   "outputs": [
    {
     "data": {
      "text/plain": [
       "array([[2.44094638e+13, 1.74844240e+13, 1.06825791e+13, 3.71293500e+12],\n",
       "       [1.74844240e+13, 1.25764467e+13, 7.66896336e+12, 2.70609125e+12],\n",
       "       [1.06825791e+13, 7.66896336e+12, 4.77704251e+12, 1.75996761e+12],\n",
       "       [3.71293500e+12, 2.70609125e+12, 1.75996761e+12, 7.56955200e+11]])"
      ]
     },
     "execution_count": 19,
     "metadata": {},
     "output_type": "execute_result"
    }
   ],
   "source": [
    "M(q, l, mn, In, mi)"
   ]
  },
  {
   "cell_type": "markdown",
   "metadata": {},
   "source": [
    "### Coriolis-centripetal matrix"
   ]
  },
  {
   "cell_type": "code",
   "execution_count": 20,
   "metadata": {},
   "outputs": [],
   "source": [
    "# TODO - not sure about this formula \n",
    "def C(q, dq, l, mn, In, mi): #here\n",
    "    ans = np.zeros((len(q),len(q)))              \n",
    "    fun = lambda q: M(q, l, mn, In, mi)\n",
    "    Dfun = nd.Gradient(fun) \n",
    "    \n",
    "    dq1_, dq2_, dq3_, dq4_ = Dfun(q)\n",
    "    diff = [dq1_, dq2_, dq3_, dq4_]\n",
    "    \n",
    "    def c(i,j,k):\n",
    "        return 0.5 *(diff[k].item((i,j))+\n",
    "                     diff[j].item((i,k))-\n",
    "                     diff[i].item((j,k)))\n",
    "    \n",
    "    for i in range(len(q)):\n",
    "        for j in range(len(q)):\n",
    "            for k in range(len(q)):\n",
    "                ans[i][j]+=c(i,j,k)*np.radians(dq[k])\n",
    "    return ans                "
   ]
  },
  {
   "cell_type": "code",
   "execution_count": null,
   "metadata": {},
   "outputs": [],
   "source": []
  },
  {
   "cell_type": "code",
   "execution_count": 21,
   "metadata": {},
   "outputs": [
    {
     "data": {
      "text/plain": [
       "array([[ 1.23064698e-04,  4.08639393e+08, -5.52222172e+08,\n",
       "        -3.68662917e+08],\n",
       "       [-8.17278785e+08, -1.31756329e+08, -6.72555814e+08,\n",
       "        -3.68662917e+08],\n",
       "       [ 1.10444434e+09,  1.26488920e+09,  2.36977346e+08,\n",
       "         2.47057519e+07],\n",
       "       [ 7.37325834e+08,  7.37325834e+08,  2.65283431e+08,\n",
       "         1.38311878e+08]])"
      ]
     },
     "execution_count": 21,
     "metadata": {},
     "output_type": "execute_result"
    }
   ],
   "source": [
    "dq=[1,1,0.5,1]\n",
    "C(q, dq, l, mn, In, mi)"
   ]
  },
  {
   "cell_type": "markdown",
   "metadata": {},
   "source": [
    "### Hydrodynamic damping matrix"
   ]
  },
  {
   "cell_type": "code",
   "execution_count": 22,
   "metadata": {},
   "outputs": [],
   "source": [
    "def R_I_Bi(i, q):\n",
    "    return np.array([[math.cos(math.radians(alpha(i,q))), -math.sin(math.radians(alpha(i,q)))],\n",
    "                    [math.sin(math.radians(alpha(i,q))), math.cos(math.radians(alpha(i,q)))]])"
   ]
  },
  {
   "cell_type": "code",
   "execution_count": 23,
   "metadata": {},
   "outputs": [],
   "source": [
    "I_=np.array([[0,0],\n",
    "             [0,1]])"
   ]
  },
  {
   "cell_type": "code",
   "execution_count": 24,
   "metadata": {},
   "outputs": [],
   "source": [
    "def Pi(i,q):\n",
    "    return np.dot(np.dot(R_I_Bi(i, q),I_),R_I_Bi(i, q).T)"
   ]
  },
  {
   "cell_type": "code",
   "execution_count": 25,
   "metadata": {},
   "outputs": [],
   "source": [
    "# TODO - not sure about this formula \n",
    "def mod_Vn(q,dq):\n",
    "    ans=[]\n",
    "    for j in range(len(q)):\n",
    "        ans.append(np.dot(np.dot(Pi(j,q),Jv( q,j, l)), np.radians(dq)))\n",
    "    return np.linalg.norm(np.array(ans))"
   ]
  },
  {
   "cell_type": "code",
   "execution_count": 26,
   "metadata": {},
   "outputs": [
    {
     "data": {
      "text/plain": [
       "37.06541063716255"
      ]
     },
     "execution_count": 26,
     "metadata": {},
     "output_type": "execute_result"
    }
   ],
   "source": [
    "mod_Vn(q,dq)"
   ]
  },
  {
   "cell_type": "code",
   "execution_count": 27,
   "metadata": {},
   "outputs": [],
   "source": [
    "# TODO - not sure about this formula \n",
    "def mod_Vni(i,q,dq):\n",
    "    return np.linalg.norm(np.dot(np.dot(Pi(i,q),Jv( q,i, l)), np.radians(dq)))"
   ]
  },
  {
   "cell_type": "code",
   "execution_count": 28,
   "metadata": {},
   "outputs": [
    {
     "data": {
      "text/plain": [
       "31.066302122547715"
      ]
     },
     "execution_count": 28,
     "metadata": {},
     "output_type": "execute_result"
    }
   ],
   "source": [
    "mod_Vni(len(q)-1,q,dq)"
   ]
  },
  {
   "cell_type": "code",
   "execution_count": 29,
   "metadata": {},
   "outputs": [],
   "source": [
    "def gamma(i):\n",
    "    return 0.5*Cd[i]*qw*d0*l[i]"
   ]
  },
  {
   "cell_type": "code",
   "execution_count": 30,
   "metadata": {},
   "outputs": [],
   "source": [
    "def H(q,dq,l):\n",
    "    ans=np.zeros((len(q), len(q)))\n",
    "    \n",
    "    for j in range(len(q)):\n",
    "        ans+=gamma(j)*mod_Vni(j,q,dq)*np.dot(np.dot(Jv(q,j,l).T,Pi(j,q)),Jv( q,j, l))\n",
    "    return ans    "
   ]
  },
  {
   "cell_type": "code",
   "execution_count": 31,
   "metadata": {},
   "outputs": [
    {
     "data": {
      "text/plain": [
       "array([[2.51121410e+10, 1.78033620e+10, 1.09353563e+10, 3.65438949e+09],\n",
       "       [1.78033620e+10, 1.26217712e+10, 7.75266863e+09, 2.59079538e+09],\n",
       "       [1.09353563e+10, 7.75266863e+09, 4.76192048e+09, 1.59134386e+09],\n",
       "       [3.65438949e+09, 2.59079538e+09, 1.59134386e+09, 5.31797051e+08]])"
      ]
     },
     "execution_count": 31,
     "metadata": {},
     "output_type": "execute_result"
    }
   ],
   "source": [
    "H(q,[0,0,0,0.1],l)"
   ]
  },
  {
   "cell_type": "markdown",
   "metadata": {},
   "source": [
    "### Vector of spring forces in the pipe joints"
   ]
  },
  {
   "cell_type": "code",
   "execution_count": 32,
   "metadata": {},
   "outputs": [],
   "source": [
    "def f(q,k):\n",
    "    ans=np.array([k*q[i] for i in range(len(q))])\n",
    "    return ans.reshape(len(q),1)"
   ]
  },
  {
   "cell_type": "markdown",
   "metadata": {},
   "source": [
    "### Vector of gravitational/buoyancy forces"
   ]
  },
  {
   "cell_type": "code",
   "execution_count": 33,
   "metadata": {},
   "outputs": [],
   "source": [
    "def x(q,i,l):\n",
    "    tmp1=0\n",
    "    for j in range(i):\n",
    "        tmp1+=l[j]*math.cos(math.radians(alpha(j,q)))\n",
    "    tmp1+=0.5*l[i]*math.cos(math.radians(alpha(i,q)))\n",
    "    return tmp1"
   ]
  },
  {
   "cell_type": "code",
   "execution_count": 34,
   "metadata": {},
   "outputs": [],
   "source": [
    "def y(q,i,l):\n",
    "    tmp1=0\n",
    "    for j in range(i):\n",
    "        tmp1+=l[j]*math.sin(math.radians(alpha(j,q)))\n",
    "    tmp1+=0.5*l[i]*math.sin(math.radians(alpha(i,q)))\n",
    "    return tmp1"
   ]
  },
  {
   "cell_type": "code",
   "execution_count": 35,
   "metadata": {},
   "outputs": [],
   "source": [
    "G=np.array([0,-9.81]).T\n",
    "\n",
    "def ggi(i,G):\n",
    "    return mi[i]*G\n",
    "   \n",
    "    \n",
    "def gbi(G,l,i):\n",
    "    return -3.14*l[i]*(d0**2/4)*qw*G \n",
    "\n",
    "# not complete formula\n",
    "def gt(q,fip, i): \n",
    "    return -fip*math.radians(alpha(i, q))\n"
   ]
  },
  {
   "cell_type": "code",
   "execution_count": 36,
   "metadata": {},
   "outputs": [],
   "source": [
    "# TODO understand the commeted part and incorporate it in model \n",
    "def g(q):\n",
    "    sum_=0\n",
    "    for i in range(len(q)-1):\n",
    "        sum_+=np.dot(Jv( q,i, l).T,ggi(i,G)+gbi(G,l,i))    \n",
    "    tmp = -qw*Awp*(y(q,len(q)-1,l)-h)*G \n",
    "    sum_ += np.dot(Jv(q,len(q)-1, l).T, tmp)  #- \\\n",
    "#         np.dot(Jomega(len(q)-1).T, gt(q, fip, len(q)-1)).reshape(len(q),) \n",
    "    return sum_.reshape(len(q),1)   "
   ]
  },
  {
   "cell_type": "code",
   "execution_count": 37,
   "metadata": {},
   "outputs": [
    {
     "data": {
      "text/plain": [
       "array([[-8.88866220e+10],\n",
       "       [-5.95194431e+10],\n",
       "       [-4.18716214e+10],\n",
       "       [-1.48840905e+10]])"
      ]
     },
     "execution_count": 37,
     "metadata": {},
     "output_type": "execute_result"
    }
   ],
   "source": [
    "g(q)"
   ]
  },
  {
   "cell_type": "markdown",
   "metadata": {},
   "source": [
    "### Vector of control inputs"
   ]
  },
  {
   "cell_type": "code",
   "execution_count": 38,
   "metadata": {},
   "outputs": [],
   "source": [
    "# Assume that the stinger is shorter than the link length li for any link i\n",
    "def tau_q(q,tau_qn): \n",
    "    ans= np.array([0 for i in range(len(q))]).reshape(len(q),1)\n",
    "    ans[-1] = tau_qn\n",
    "    return ans\n",
    "# tau_q - control forces from the stinger "
   ]
  },
  {
   "cell_type": "code",
   "execution_count": 39,
   "metadata": {},
   "outputs": [],
   "source": [
    "def Fx(q,dq,kp, kd, x_ref = 0):\n",
    "#     print(-kp*(x(q,len(q)-1,l)-x_ref))\n",
    "#     return -kp*(x(q,len(q)-1,l)-x_ref) - kd*np.dot(np.dot(Pi(len(q)-1,q),Jv( q, len(q)-1, l)), np.radians(dq)) \n",
    "    return -kp*(x(q,len(q)-1,l)-x_ref) - kd*mod_Vn(q,dq)"
   ]
  },
  {
   "cell_type": "code",
   "execution_count": 40,
   "metadata": {},
   "outputs": [
    {
     "data": {
      "text/plain": [
       "-52347339.05802581"
      ]
     },
     "execution_count": 40,
     "metadata": {},
     "output_type": "execute_result"
    }
   ],
   "source": [
    "Fx(q,dq,kp, kd, x_ref = 0)"
   ]
  },
  {
   "cell_type": "code",
   "execution_count": 41,
   "metadata": {},
   "outputs": [],
   "source": [
    "F1=np.array([Fx_,0]).reshape(2,1) # actuates the vessel in the surge direction in frame Bn\n",
    "# F=np.array([0,Fy]).reshape(2,1)\n",
    "def tau_t(q, F):\n",
    "    tmp= np.dot(Jv(q,len(q)-1, l).T, F)\n",
    "    return tmp\n",
    "#     ans=np.zeros((len(q),1))\n",
    "#     ans[-1][0]=tmp[-1][0]\n",
    "#     return  ans # the thruster forces"
   ]
  },
  {
   "cell_type": "code",
   "execution_count": 42,
   "metadata": {},
   "outputs": [
    {
     "data": {
      "text/plain": [
       "array([[-5.12439825e+10],\n",
       "       [-3.79857304e+10],\n",
       "       [-2.09924594e+10],\n",
       "       [-6.62912607e+09]])"
      ]
     },
     "execution_count": 42,
     "metadata": {},
     "output_type": "execute_result"
    }
   ],
   "source": [
    "tau_t(q, F1)"
   ]
  },
  {
   "cell_type": "code",
   "execution_count": 43,
   "metadata": {},
   "outputs": [],
   "source": [
    "tau_q_wave=9e6 # (taken from article on forces to semi-submersible platform),[N]\n",
    "# this function purly my invention\n",
    "# TODO - for improvement see Jensen thesis p. 49\n",
    "def tau_wave(q, tau_q_wave):\n",
    "    ans= np.array([tau_q_wave*(i+1)/(10*len(q)) for i in range(len(q))]).reshape(len(q),1)\n",
    "    ans[-1] = tau_q_wave\n",
    "    return ans"
   ]
  },
  {
   "cell_type": "code",
   "execution_count": 44,
   "metadata": {},
   "outputs": [],
   "source": [
    "def tau(q, tau_qn, F, tau_q_wave):\n",
    "#     return tau_q(q,tau_qn) + tau_t(q, F) + tau_wave(q, tau_q_wave)\n",
    "#     return tau_t(q, F) + tau_wave(q, tau_q_wave)\n",
    "#     return  tau_t(q, F)\n",
    "    return tau_t(q, F) + tau_wave(q, tau_q_wave)"
   ]
  },
  {
   "cell_type": "code",
   "execution_count": 45,
   "metadata": {},
   "outputs": [
    {
     "data": {
      "text/plain": [
       "array([[ 225000.],\n",
       "       [ 450000.],\n",
       "       [ 675000.],\n",
       "       [9000000.]])"
      ]
     },
     "execution_count": 45,
     "metadata": {},
     "output_type": "execute_result"
    }
   ],
   "source": [
    "tau_wave(q, tau_q_wave)"
   ]
  },
  {
   "cell_type": "markdown",
   "metadata": {},
   "source": [
    "### Static solution"
   ]
  },
  {
   "cell_type": "code",
   "execution_count": 46,
   "metadata": {},
   "outputs": [],
   "source": [
    "def catenary(x,Ws,Fh):\n",
    "    return (Fh/Ws)*(np.cosh(x*Ws/Fh)-1)"
   ]
  },
  {
   "cell_type": "code",
   "execution_count": 47,
   "metadata": {},
   "outputs": [],
   "source": [
    "Ws = pipe_weight_per_unit_length*9.81 # [N/m]"
   ]
  },
  {
   "cell_type": "code",
   "execution_count": 48,
   "metadata": {},
   "outputs": [],
   "source": [
    "lift_off_slope = 30.6 # from Jee catenary sheet, [deg]"
   ]
  },
  {
   "cell_type": "code",
   "execution_count": 49,
   "metadata": {},
   "outputs": [],
   "source": [
    "# Fx_=250000 # [N]"
   ]
  },
  {
   "cell_type": "code",
   "execution_count": 50,
   "metadata": {},
   "outputs": [],
   "source": [
    "horizontal_length =(Fx_/Ws)*math.asinh(math.tan(math.radians(lift_off_slope)))"
   ]
  },
  {
   "cell_type": "code",
   "execution_count": 51,
   "metadata": {},
   "outputs": [
    {
     "data": {
      "text/plain": [
       "44711.635519269585"
      ]
     },
     "execution_count": 51,
     "metadata": {},
     "output_type": "execute_result"
    }
   ],
   "source": [
    "horizontal_length"
   ]
  },
  {
   "cell_type": "code",
   "execution_count": 52,
   "metadata": {},
   "outputs": [],
   "source": [
    "number_of_elements=4"
   ]
  },
  {
   "cell_type": "code",
   "execution_count": 53,
   "metadata": {},
   "outputs": [],
   "source": [
    "delta_x=horizontal_length/number_of_elements"
   ]
  },
  {
   "cell_type": "code",
   "execution_count": 54,
   "metadata": {},
   "outputs": [],
   "source": [
    "x0=[i*delta_x for i in range(number_of_elements+1)]\n",
    "y0=[]\n",
    "for i in range(len(x0)):\n",
    "    y0.append(catenary(x0[i],Ws,Fx_))"
   ]
  },
  {
   "cell_type": "code",
   "execution_count": 55,
   "metadata": {},
   "outputs": [
    {
     "data": {
      "text/plain": [
       "[0.0,\n",
       " 11177.908879817396,\n",
       " 22355.817759634792,\n",
       " 33533.72663945219,\n",
       " 44711.635519269585]"
      ]
     },
     "execution_count": 55,
     "metadata": {},
     "output_type": "execute_result"
    }
   ],
   "source": [
    "x0"
   ]
  },
  {
   "cell_type": "code",
   "execution_count": 56,
   "metadata": {},
   "outputs": [],
   "source": [
    "q=[]\n",
    "l_=[]\n",
    "deg_=[0]\n",
    "for i in range(len(x0)-1):\n",
    "    l_.append(math.sqrt((x0[i+1]-x0[i])**2+(y0[i+1]-y0[i])**2))\n",
    "    deg =math.degrees(math.atan((y0[i+1]-y0[i])/(x0[i+1]-x0[i])))\n",
    "    q.append(deg-deg_[-1]) \n",
    "    deg_.append(deg)"
   ]
  },
  {
   "cell_type": "code",
   "execution_count": 57,
   "metadata": {},
   "outputs": [
    {
     "data": {
      "text/plain": [
       "[4.020973809418599, 7.963378805032683, 7.735172209845448, 7.378145779801677]"
      ]
     },
     "execution_count": 57,
     "metadata": {},
     "output_type": "execute_result"
    }
   ],
   "source": [
    "q"
   ]
  },
  {
   "cell_type": "code",
   "execution_count": 58,
   "metadata": {},
   "outputs": [
    {
     "data": {
      "text/plain": [
       "[11205.49177797705, 11426.967117302982, 11874.267995654049, 12556.184638984565]"
      ]
     },
     "execution_count": 58,
     "metadata": {},
     "output_type": "execute_result"
    }
   ],
   "source": [
    "l_"
   ]
  },
  {
   "cell_type": "code",
   "execution_count": 59,
   "metadata": {},
   "outputs": [
    {
     "data": {
      "image/png": "[encoded data removed]",
      "text/plain": [
       "<Figure size 432x288 with 1 Axes>"
      ]
     },
     "metadata": {
      "needs_background": "light"
     },
     "output_type": "display_data"
    }
   ],
   "source": [
    "plt.plot(x0, y0)\n",
    "plt.plot(x(q,0,l_),y(q,0,l_), 'o', color='black')\n",
    "plt.plot(x(q,1,l_),y(q,1,l_), 'o', color='black')\n",
    "plt.plot(x(q,2,l_),y(q,2,l_), 'o', color='black')\n",
    "plt.plot(x(q,3,l_),y(q,3,l_), 'o', color='black')\n",
    "plt.show()"
   ]
  },
  {
   "cell_type": "code",
   "execution_count": 60,
   "metadata": {},
   "outputs": [],
   "source": [
    "q0=[]\n",
    "for i in range(len(q)):\n",
    "    q0.append(q[i])\n",
    "    q0.append(0)"
   ]
  },
  {
   "cell_type": "code",
   "execution_count": 61,
   "metadata": {},
   "outputs": [
    {
     "data": {
      "text/plain": [
       "[4.020973809418599,\n",
       " 0,\n",
       " 7.963378805032683,\n",
       " 0,\n",
       " 7.735172209845448,\n",
       " 0,\n",
       " 7.378145779801677,\n",
       " 0]"
      ]
     },
     "execution_count": 61,
     "metadata": {},
     "output_type": "execute_result"
    }
   ],
   "source": [
    "q0"
   ]
  },
  {
   "cell_type": "code",
   "execution_count": 62,
   "metadata": {},
   "outputs": [],
   "source": [
    "F_=np.array([-Fx(q,dq,kp, 0, x_ref = 0),0]).reshape(2,1)"
   ]
  },
  {
   "cell_type": "code",
   "execution_count": 63,
   "metadata": {},
   "outputs": [
    {
     "data": {
      "text/plain": [
       "array([[79852584.21874917],\n",
       "       [       0.        ]])"
      ]
     },
     "execution_count": 63,
     "metadata": {},
     "output_type": "execute_result"
    }
   ],
   "source": [
    "F_"
   ]
  },
  {
   "cell_type": "code",
   "execution_count": 64,
   "metadata": {},
   "outputs": [],
   "source": [
    "def static_func(q):\n",
    "    ans=  f(q, K) + g(q) - tau(q, tau_qn, F_, 0)\n",
    "    return ans.reshape((len(q),))"
   ]
  },
  {
   "cell_type": "code",
   "execution_count": 65,
   "metadata": {},
   "outputs": [],
   "source": [
    "root = fsolve(static_func, np.array(q))"
   ]
  },
  {
   "cell_type": "code",
   "execution_count": 66,
   "metadata": {},
   "outputs": [
    {
     "data": {
      "text/plain": [
       "array([37.54354667, 16.24300572,  6.53963927,  1.74427052])"
      ]
     },
     "execution_count": 66,
     "metadata": {},
     "output_type": "execute_result"
    }
   ],
   "source": [
    "root"
   ]
  },
  {
   "cell_type": "code",
   "execution_count": 67,
   "metadata": {},
   "outputs": [],
   "source": [
    "q=list(root)"
   ]
  },
  {
   "cell_type": "code",
   "execution_count": 68,
   "metadata": {},
   "outputs": [],
   "source": [
    "q0=[]\n",
    "for i in range(len(q)):\n",
    "    q0.append(q[i])\n",
    "    q0.append(0)"
   ]
  },
  {
   "cell_type": "code",
   "execution_count": 69,
   "metadata": {},
   "outputs": [
    {
     "data": {
      "image/png": "[encoded data removed]",
      "text/plain": [
       "<Figure size 432x288 with 1 Axes>"
      ]
     },
     "metadata": {
      "needs_background": "light"
     },
     "output_type": "display_data"
    }
   ],
   "source": [
    "plt.plot(x(q,0,l),y(q,0,l), 'o', color='black')\n",
    "plt.plot(x(q,1,l),y(q,1,l), 'o', color='black')\n",
    "plt.plot(x(q,2,l),y(q,2,l), 'o', color='black')\n",
    "plt.plot(x(q,3,l),y(q,3,l), 'o', color='black')\n",
    "plt.show()"
   ]
  },
  {
   "cell_type": "code",
   "execution_count": 70,
   "metadata": {},
   "outputs": [
    {
     "data": {
      "text/plain": [
       "[37.54354666797212, 16.243005721243314, 6.539639274525555, 1.7442705227576503]"
      ]
     },
     "execution_count": 70,
     "metadata": {},
     "output_type": "execute_result"
    }
   ],
   "source": [
    "q"
   ]
  },
  {
   "cell_type": "code",
   "execution_count": 71,
   "metadata": {},
   "outputs": [
    {
     "data": {
      "text/plain": [
       "[37.54354666797212,\n",
       " 0,\n",
       " 16.243005721243314,\n",
       " 0,\n",
       " 6.539639274525555,\n",
       " 0,\n",
       " 1.7442705227576503,\n",
       " 0]"
      ]
     },
     "execution_count": 71,
     "metadata": {},
     "output_type": "execute_result"
    }
   ],
   "source": [
    "q0"
   ]
  },
  {
   "cell_type": "code",
   "execution_count": 72,
   "metadata": {},
   "outputs": [
    {
     "name": "stdout",
     "output_type": "stream",
     "text": [
      "0:00:00.002052\n"
     ]
    }
   ],
   "source": [
    "startTime = datetime.now()\n",
    "\n",
    "add1=functools.partial(Jv, i=len(q)-1, l=l)\n",
    "add1__Jv = np.array(list(map(add1, [q])))\n",
    "\n",
    "add5=functools.partial(f, k=K)\n",
    "add5__f =np.array(list(map(add5, [q])))\n",
    "\n",
    "add6=functools.partial(g)\n",
    "add6__g =np.array(list(map(add6, [q])))\n",
    "\n",
    "print(datetime.now() - startTime)"
   ]
  },
  {
   "cell_type": "code",
   "execution_count": 73,
   "metadata": {},
   "outputs": [],
   "source": [
    "tmp__1=pinv(add1__Jv.transpose(0, 2, 1))\n",
    "tmp__2= add5__f + add6__g"
   ]
  },
  {
   "cell_type": "code",
   "execution_count": 74,
   "metadata": {},
   "outputs": [],
   "source": [
    "tmp__=np.matmul(tmp__1, tmp__2)"
   ]
  },
  {
   "cell_type": "code",
   "execution_count": 75,
   "metadata": {},
   "outputs": [],
   "source": [
    "dim1=int(max_t/dt)\n",
    "dim2=dim1-1"
   ]
  },
  {
   "cell_type": "code",
   "execution_count": 76,
   "metadata": {},
   "outputs": [
    {
     "data": {
      "image/png": "[encoded data removed]",
      "text/plain": [
       "<Figure size 432x288 with 1 Axes>"
      ]
     },
     "metadata": {
      "needs_background": "light"
     },
     "output_type": "display_data"
    }
   ],
   "source": [
    "plt.plot(t[:len(tmp__)],tmp__[:,0],'o', color='red')\n",
    "plt.xlim([-1, dim1//2])\n",
    "plt.ylim([-100000000, 100000000])\n",
    "plt.xlabel('t')\n",
    "plt.ylabel('T_H')\n",
    "plt.show()"
   ]
  },
  {
   "cell_type": "code",
   "execution_count": 77,
   "metadata": {},
   "outputs": [
    {
     "data": {
      "image/png": "[encoded data removed]",
      "text/plain": [
       "<Figure size 432x288 with 1 Axes>"
      ]
     },
     "metadata": {
      "needs_background": "light"
     },
     "output_type": "display_data"
    }
   ],
   "source": [
    "plt.plot(t[:len(tmp__)],tmp__[:,1],'o', color='red')\n",
    "plt.xlim([-1, dim1//2])\n",
    "plt.ylim([-100000000, 100000000])\n",
    "plt.xlabel('t')\n",
    "plt.ylabel('T_V')\n",
    "plt.show()"
   ]
  },
  {
   "cell_type": "code",
   "execution_count": 78,
   "metadata": {},
   "outputs": [
    {
     "data": {
      "text/plain": [
       "(array([79852584.21935432]), array([-0.0006023]))"
      ]
     },
     "execution_count": 78,
     "metadata": {},
     "output_type": "execute_result"
    }
   ],
   "source": [
    "max(tmp__[:,0]), max(tmp__[:,1])"
   ]
  },
  {
   "cell_type": "markdown",
   "metadata": {},
   "source": [
    "### Dynamic solution "
   ]
  },
  {
   "cell_type": "code",
   "execution_count": 79,
   "metadata": {},
   "outputs": [],
   "source": [
    "from scipy.linalg import lu_factor, lu_solve"
   ]
  },
  {
   "cell_type": "code",
   "execution_count": 80,
   "metadata": {},
   "outputs": [],
   "source": [
    "def manipulator(Q, t, q):\n",
    "    q0,dq0,q1,dq1,q2,dq2,q3,dq3 = Q\n",
    "    QI=np.array([q0,q1,q2,q3]).reshape(len(q),1)\n",
    "    dQ=np.array([dq0,dq1,dq2,dq3]).reshape(len(q),1)\n",
    "    if t>100:\n",
    "        F=np.array([-Fx(QI, dQ, kp, kd, x_ref = 0),0]).reshape(2,1)\n",
    "    else:\n",
    "        F=np.array([Fx_,0]).reshape(2,1)\n",
    "    ddq0,ddq1,ddq2,ddq3 = np.linalg.lstsq(M(QI, l, mn, In, mi), \n",
    "                        - np.dot(H(QI,dQ,l), np.radians(dQ)).reshape(len(QI),1)\n",
    "                        - np.dot(C(QI,dQ, l, mn, In, mi), np.radians(dQ)).reshape(len(QI),1)  \n",
    "                        - f(QI, K) \n",
    "                        - g(QI)\n",
    "                        + tau(QI, tau_qn, F, tau_q_wave), rcond=None)[0]\n",
    "    return [dq0,ddq0,dq1,ddq1,dq2,ddq2,dq3,ddq3]"
   ]
  },
  {
   "cell_type": "code",
   "execution_count": 81,
   "metadata": {},
   "outputs": [
    {
     "name": "stdout",
     "output_type": "stream",
     "text": [
      "0:34:29.886877\n"
     ]
    }
   ],
   "source": [
    "startTime1 = datetime.now()\n",
    "us=odeint(manipulator,q0,t, args=(q,))\n",
    "print(datetime.now() - startTime1)"
   ]
  },
  {
   "cell_type": "code",
   "execution_count": 82,
   "metadata": {},
   "outputs": [],
   "source": [
    "us_=us"
   ]
  },
  {
   "cell_type": "code",
   "execution_count": 83,
   "metadata": {},
   "outputs": [
    {
     "data": {
      "image/png": "[encoded data removed]",
      "text/plain": [
       "<Figure size 432x288 with 1 Axes>"
      ]
     },
     "metadata": {
      "needs_background": "light"
     },
     "output_type": "display_data"
    }
   ],
   "source": [
    "plt.plot(t,np.radians(us_[:,0]) ,'-')\n",
    "plt.xlabel('t')\n",
    "plt.ylabel('q0 (rad)')\n",
    "plt.show()"
   ]
  },
  {
   "cell_type": "code",
   "execution_count": 84,
   "metadata": {},
   "outputs": [
    {
     "data": {
      "image/png": "[encoded data removed]",
      "text/plain": [
       "<Figure size 432x288 with 1 Axes>"
      ]
     },
     "metadata": {
      "needs_background": "light"
     },
     "output_type": "display_data"
    }
   ],
   "source": [
    "plt.plot(t,us_[:,1],'-')\n",
    "plt.xlabel('t')\n",
    "plt.ylabel('dq0')\n",
    "plt.show()"
   ]
  },
  {
   "cell_type": "code",
   "execution_count": 85,
   "metadata": {},
   "outputs": [
    {
     "data": {
      "image/png": "[encoded data removed]",
      "text/plain": [
       "<Figure size 432x288 with 1 Axes>"
      ]
     },
     "metadata": {
      "needs_background": "light"
     },
     "output_type": "display_data"
    }
   ],
   "source": [
    "plt.plot(t, np.radians(us_[:,2]),'-')\n",
    "plt.xlabel('t')\n",
    "plt.ylabel('q1 (rad)')\n",
    "plt.show()"
   ]
  },
  {
   "cell_type": "code",
   "execution_count": 86,
   "metadata": {},
   "outputs": [
    {
     "data": {
      "image/png": "[encoded data removed]",
      "text/plain": [
       "<Figure size 432x288 with 1 Axes>"
      ]
     },
     "metadata": {
      "needs_background": "light"
     },
     "output_type": "display_data"
    }
   ],
   "source": [
    "plt.plot(t, us_[:,3],'-')\n",
    "plt.xlabel('t')\n",
    "plt.ylabel('dq1')\n",
    "plt.show()"
   ]
  },
  {
   "cell_type": "code",
   "execution_count": 87,
   "metadata": {},
   "outputs": [
    {
     "data": {
      "image/png": "[encoded data removed]",
      "text/plain": [
       "<Figure size 432x288 with 1 Axes>"
      ]
     },
     "metadata": {
      "needs_background": "light"
     },
     "output_type": "display_data"
    }
   ],
   "source": [
    "plt.plot(t, np.radians(us_[:,4]),'-')\n",
    "plt.xlabel('t')\n",
    "plt.ylabel('q2 (rad)')\n",
    "plt.show()"
   ]
  },
  {
   "cell_type": "code",
   "execution_count": 88,
   "metadata": {},
   "outputs": [
    {
     "data": {
      "image/png": "[encoded data removed]",
      "text/plain": [
       "<Figure size 432x288 with 1 Axes>"
      ]
     },
     "metadata": {
      "needs_background": "light"
     },
     "output_type": "display_data"
    }
   ],
   "source": [
    "plt.plot(t, us_[:,5],'-')\n",
    "plt.xlabel('t')\n",
    "plt.ylabel('dq2')\n",
    "plt.show()"
   ]
  },
  {
   "cell_type": "code",
   "execution_count": 89,
   "metadata": {},
   "outputs": [
    {
     "data": {
      "image/png": "[encoded data removed]",
      "text/plain": [
       "<Figure size 432x288 with 1 Axes>"
      ]
     },
     "metadata": {
      "needs_background": "light"
     },
     "output_type": "display_data"
    }
   ],
   "source": [
    "plt.plot(t, np.radians(us_[:,6]),'-')\n",
    "plt.xlabel('t')\n",
    "plt.ylabel('q3 (rad)')\n",
    "plt.show()"
   ]
  },
  {
   "cell_type": "code",
   "execution_count": 90,
   "metadata": {},
   "outputs": [
    {
     "data": {
      "image/png": "[encoded data removed]",
      "text/plain": [
       "<Figure size 432x288 with 1 Axes>"
      ]
     },
     "metadata": {
      "needs_background": "light"
     },
     "output_type": "display_data"
    }
   ],
   "source": [
    "plt.plot(t, us_[:,7],'-')\n",
    "plt.xlabel('t')\n",
    "plt.ylabel('dq3')\n",
    "plt.show()"
   ]
  },
  {
   "cell_type": "code",
   "execution_count": 91,
   "metadata": {},
   "outputs": [],
   "source": [
    "X0=[x(us_[i,[0,2,4,6]],0,l) for i in range(len(us_))]\n",
    "Y0=[y(us_[i,[0,2,4,6]],0,l) for i in range(len(us_))]\n",
    "X1=[x(us_[i,[0,2,4,6]],1,l) for i in range(len(us_))]\n",
    "Y1=[y(us_[i,[0,2,4,6]],1,l) for i in range(len(us_))]\n",
    "X2=[x(us_[i,[0,2,4,6]],2,l) for i in range(len(us_))]\n",
    "Y2=[y(us_[i,[0,2,4,6]],2,l) for i in range(len(us_))]\n",
    "X3=[x(us_[i,[0,2,4,6]],3,l) for i in range(len(us_))]\n",
    "Y3=[y(us_[i,[0,2,4,6]],3,l) for i in range(len(us_))]"
   ]
  },
  {
   "cell_type": "code",
   "execution_count": 92,
   "metadata": {},
   "outputs": [],
   "source": [
    "X0_=[x(us_[i,[0,2,4,6]],0,l) for i in range(1)]\n",
    "Y0_=[y(us_[i,[0,2,4,6]],0,l) for i in range(1)]\n",
    "X1_=[x(us_[i,[0,2,4,6]],1,l) for i in range(1)]\n",
    "Y1_=[y(us_[i,[0,2,4,6]],1,l) for i in range(1)]\n",
    "X2_=[x(us_[i,[0,2,4,6]],2,l) for i in range(1)]\n",
    "Y2_=[y(us_[i,[0,2,4,6]],2,l) for i in range(1)]\n",
    "X3_=[x(us_[i,[0,2,4,6]],3,l) for i in range(1)]\n",
    "Y3_=[y(us_[i,[0,2,4,6]],3,l) for i in range(1)]"
   ]
  },
  {
   "cell_type": "code",
   "execution_count": 93,
   "metadata": {},
   "outputs": [
    {
     "data": {
      "image/png": "[encoded data removed]",
      "text/plain": [
       "<Figure size 1008x288 with 1 Axes>"
      ]
     },
     "metadata": {
      "needs_background": "light"
     },
     "output_type": "display_data"
    }
   ],
   "source": [
    "plt.figure(figsize=(14,4))\n",
    "plt.plot(X0_,Y0_, 'o', color='black')\n",
    "plt.plot(X1_,Y1_, 'o', color='black')\n",
    "plt.plot(X2_,Y2_, 'o', color='black')\n",
    "plt.plot(X3_,Y3_, 'o', color='black')\n",
    "\n",
    "# dynamic\n",
    "plt.plot(X0,Y0,'b')\n",
    "plt.plot(X1,Y1,'y')\n",
    "plt.plot(X2,Y2,'g')\n",
    "plt.plot(X3,Y3,'r')\n",
    "\n",
    "plt.plot(x(us_[-1,[0,2,4,6]],0,l),y(us_[-1,[0,2,4,6]],0,l), 'o', color='green')\n",
    "plt.plot(x(us_[-1,[0,2,4,6]],1,l),y(us_[-1,[0,2,4,6]],1,l), 'o', color='green')\n",
    "plt.plot(x(us_[-1,[0,2,4,6]],2,l),y(us_[-1,[0,2,4,6]],2,l), 'o', color='green')\n",
    "plt.plot(x(us_[-1,[0,2,4,6]],3,l),y(us_[-1,[0,2,4,6]],3,l), 'o', color='green')\n",
    "\n",
    "# plt.plot(x0, y0)\n",
    "plt.xlabel('X')\n",
    "plt.ylabel('Y')\n",
    "\n",
    "plt.show()"
   ]
  },
  {
   "cell_type": "code",
   "execution_count": 94,
   "metadata": {},
   "outputs": [
    {
     "data": {
      "text/plain": [
       "37.54354666797212"
      ]
     },
     "execution_count": 94,
     "metadata": {},
     "output_type": "execute_result"
    }
   ],
   "source": [
    "us_[0,0]"
   ]
  },
  {
   "cell_type": "code",
   "execution_count": 95,
   "metadata": {},
   "outputs": [
    {
     "data": {
      "text/plain": [
       "16.243005721243314"
      ]
     },
     "execution_count": 95,
     "metadata": {},
     "output_type": "execute_result"
    }
   ],
   "source": [
    "us_[0,2]"
   ]
  },
  {
   "cell_type": "code",
   "execution_count": 96,
   "metadata": {},
   "outputs": [
    {
     "data": {
      "text/plain": [
       "6.539639274525555"
      ]
     },
     "execution_count": 96,
     "metadata": {},
     "output_type": "execute_result"
    }
   ],
   "source": [
    "us_[0,4]"
   ]
  },
  {
   "cell_type": "code",
   "execution_count": 97,
   "metadata": {},
   "outputs": [
    {
     "data": {
      "text/plain": [
       "1.7442705227576503"
      ]
     },
     "execution_count": 97,
     "metadata": {},
     "output_type": "execute_result"
    }
   ],
   "source": [
    "us_[0,6]"
   ]
  },
  {
   "cell_type": "code",
   "execution_count": 98,
   "metadata": {},
   "outputs": [
    {
     "data": {
      "text/plain": [
       "62.070462186498645"
      ]
     },
     "execution_count": 98,
     "metadata": {},
     "output_type": "execute_result"
    }
   ],
   "source": [
    "us_[0,0]+us_[0,2]+us_[0,4]+us_[0,6]"
   ]
  },
  {
   "cell_type": "markdown",
   "metadata": {},
   "source": [
    "### Pipe-tip tension"
   ]
  },
  {
   "cell_type": "code",
   "execution_count": 99,
   "metadata": {},
   "outputs": [],
   "source": [
    "coordinates=us[:,[0,2,4,6]]\n",
    "velocities=us[:,[1,3,5,7]]"
   ]
  },
  {
   "cell_type": "code",
   "execution_count": 100,
   "metadata": {},
   "outputs": [
    {
     "data": {
      "text/plain": [
       "(1200, 4)"
      ]
     },
     "execution_count": 100,
     "metadata": {},
     "output_type": "execute_result"
    }
   ],
   "source": [
    "velocities.shape"
   ]
  },
  {
   "cell_type": "code",
   "execution_count": 101,
   "metadata": {},
   "outputs": [],
   "source": [
    "velocities_0=velocities[:-1]\n",
    "velocities_1=velocities[1:]"
   ]
  },
  {
   "cell_type": "code",
   "execution_count": 102,
   "metadata": {},
   "outputs": [
    {
     "data": {
      "text/plain": [
       "((1200, 4), (1200, 4))"
      ]
     },
     "execution_count": 102,
     "metadata": {},
     "output_type": "execute_result"
    }
   ],
   "source": [
    "coordinates.shape, velocities.shape"
   ]
  },
  {
   "cell_type": "code",
   "execution_count": 103,
   "metadata": {},
   "outputs": [
    {
     "name": "stdout",
     "output_type": "stream",
     "text": [
      "0:01:10.907527\n"
     ]
    }
   ],
   "source": [
    "startTime1 = datetime.now()\n",
    "\n",
    "add4=functools.partial(C, l=l, mn=mn, In=In, mi=mi)\n",
    "add4__C =np.array(list(map(add4, coordinates, velocities)))\n",
    "\n",
    "print(datetime.now() - startTime1)"
   ]
  },
  {
   "cell_type": "code",
   "execution_count": 104,
   "metadata": {},
   "outputs": [
    {
     "name": "stdout",
     "output_type": "stream",
     "text": [
      "0:00:01.682508\n"
     ]
    }
   ],
   "source": [
    "startTime = datetime.now()\n",
    "\n",
    "add1=functools.partial(Jv, i=len(q)-1, l=l)\n",
    "add1__Jv = np.array(list(map(add1, coordinates)))\n",
    "\n",
    "add2=functools.partial(M, l=l, mn=mn, In=In, mi=mi)\n",
    "add2__M =np.array(list(map(add2, coordinates)))\n",
    "\n",
    "add3=functools.partial(H, l=l)\n",
    "add3__H =np.array(list(map(add3, coordinates, velocities)))\n",
    "\n",
    "add5=functools.partial(f, k=K)\n",
    "add5__f =np.array(list(map(add5, coordinates)))\n",
    "\n",
    "add6=functools.partial(g)\n",
    "add6__g =np.array(list(map(add6, coordinates)))\n",
    "\n",
    "print(datetime.now() - startTime)"
   ]
  },
  {
   "cell_type": "code",
   "execution_count": 105,
   "metadata": {},
   "outputs": [
    {
     "data": {
      "text/plain": [
       "(1199, 4)"
      ]
     },
     "execution_count": 105,
     "metadata": {},
     "output_type": "execute_result"
    }
   ],
   "source": [
    "velocities_1.shape"
   ]
  },
  {
   "cell_type": "code",
   "execution_count": 106,
   "metadata": {},
   "outputs": [],
   "source": [
    "tmp__1=pinv(add1__Jv[:-1].transpose(0, 2, 1))\n",
    "#here\n",
    "tmp__2=np.matmul(add2__M[:-1], ((np.radians(velocities_1).reshape(dim2,4,1) - \n",
    "                              np.radians(velocities_0).reshape(dim2,4,1))/dt))\\\n",
    "            + np.matmul(add3__H[:-1], np.radians(velocities[:-1]).reshape(dim2,4,1)) \\\n",
    "            + np.matmul(add4__C[:-1], np.radians(velocities[:-1]).reshape(dim2,4,1)) \\\n",
    "            + add5__f[:-1] \\\n",
    "            + add6__g[:-1]"
   ]
  },
  {
   "cell_type": "code",
   "execution_count": 107,
   "metadata": {},
   "outputs": [],
   "source": [
    "tmp__=np.matmul(tmp__1, tmp__2)"
   ]
  },
  {
   "cell_type": "code",
   "execution_count": 108,
   "metadata": {},
   "outputs": [
    {
     "data": {
      "image/png": "[encoded data removed]",
      "text/plain": [
       "<Figure size 432x288 with 1 Axes>"
      ]
     },
     "metadata": {
      "needs_background": "light"
     },
     "output_type": "display_data"
    }
   ],
   "source": [
    "plt.plot(t[:len(tmp__)],tmp__[:,0],'-')\n",
    "plt.xlim([-1, dim1//2])\n",
    "plt.ylim([-100000000, 100000000])\n",
    "plt.xlabel('t')\n",
    "plt.ylabel('T_H')\n",
    "plt.show()"
   ]
  },
  {
   "cell_type": "code",
   "execution_count": 109,
   "metadata": {},
   "outputs": [
    {
     "data": {
      "image/png": "[encoded data removed]",
      "text/plain": [
       "<Figure size 432x288 with 1 Axes>"
      ]
     },
     "metadata": {
      "needs_background": "light"
     },
     "output_type": "display_data"
    }
   ],
   "source": [
    "plt.plot(t[:len(tmp__)],tmp__[:,1],'-')\n",
    "plt.xlim([-1, dim1//2])\n",
    "plt.ylim([-10000000, 10000000])\n",
    "plt.xlabel('t')\n",
    "plt.ylabel('T_V')\n",
    "plt.show()"
   ]
  },
  {
   "cell_type": "code",
   "execution_count": 110,
   "metadata": {},
   "outputs": [
    {
     "data": {
      "text/plain": [
       "(array([79768238.57731925]), array([5783085.63726778]))"
      ]
     },
     "execution_count": 110,
     "metadata": {},
     "output_type": "execute_result"
    }
   ],
   "source": [
    "max(tmp__[:,0]), max(tmp__[:,1])"
   ]
  },
  {
   "cell_type": "code",
   "execution_count": 111,
   "metadata": {},
   "outputs": [
    {
     "data": {
      "text/plain": [
       "(array([29460304.11782245]), array([-7737589.41654721]))"
      ]
     },
     "execution_count": 111,
     "metadata": {},
     "output_type": "execute_result"
    }
   ],
   "source": [
    "min(tmp__[:,0]), min(tmp__[:,1])"
   ]
  },
  {
   "cell_type": "code",
   "execution_count": 112,
   "metadata": {},
   "outputs": [],
   "source": [
    "# (array([28319143.73486871]), array([25605994.71854329])) just waves\n",
    "# (array([28491881.95694733]), array([25520818.9120822]))  positive Fx\n",
    "# (array([28146301.99196166]), array([25687403.50463529])) negative Fx\n",
    "# (array([30076743.25808775]), array([25019302.28641659])) large positive Fx\n",
    "# (array([26618614.2824719]),  array([26179692.06953637])) large negative Fx\n",
    "# (array([3953150.66297572]),  array([1508270.46574422]))  fip=1e10\n",
    "# (array([6746771.13788591]),  array([10057989.37909701])) max_t = 300\n",
    "# (array([2084853.78862965]),  array([766900.49862976])) fip=1e9\n",
    "# (array([1518705.92013393]),  array([361011.0471009])) fip=5e8\n",
    "# (array([2212275.89406135]),  array([634267.05259892])) fip=4e8"
   ]
  },
  {
   "cell_type": "code",
   "execution_count": 113,
   "metadata": {},
   "outputs": [],
   "source": [
    "# ρa = 1.200 * 10**3 # g/m3\n",
    "# ρs=7.850 * 10**6\n",
    "# di = 0.6900 # m\n",
    "# do = 0.7610 "
   ]
  },
  {
   "cell_type": "code",
   "execution_count": 114,
   "metadata": {},
   "outputs": [],
   "source": [
    "# Q=(ρa-ρs)*(di/do)**2+ρs  # g/m3"
   ]
  },
  {
   "cell_type": "code",
   "execution_count": 115,
   "metadata": {},
   "outputs": [],
   "source": [
    "# length=1000"
   ]
  },
  {
   "cell_type": "code",
   "execution_count": 116,
   "metadata": {},
   "outputs": [],
   "source": [
    "# V=math.pi * (do/2)**2 * length - math.pi * (di/2)**2 * length #m3"
   ]
  },
  {
   "cell_type": "code",
   "execution_count": 117,
   "metadata": {},
   "outputs": [],
   "source": [
    "#m3"
   ]
  },
  {
   "cell_type": "code",
   "execution_count": 118,
   "metadata": {},
   "outputs": [],
   "source": [
    "# Q*V/length/1000"
   ]
  }
 ],
 "metadata": {
  "kernelspec": {
   "display_name": "Python 3",
   "language": "python",
   "name": "python3"
  },
  "language_info": {
   "codemirror_mode": {
    "name": "ipython",
    "version": 3
   },
   "file_extension": ".py",
   "mimetype": "text/x-python",
   "name": "python",
   "nbconvert_exporter": "python",
   "pygments_lexer": "ipython3",
   "version": "3.7.7"
  }
 },
 "nbformat": 4,
 "nbformat_minor": 4
}
