{
 "cells": [
  {
   "cell_type": "code",
   "execution_count": 1,
   "metadata": {},
   "outputs": [
    {
     "name": "stderr",
     "output_type": "stream",
     "text": [
      "\n"
     ]
    }
   ],
   "source": [
    "import time\n",
    "import os\n",
    "import random\n",
    "import numpy as np                                                \n",
    "import matplotlib.pyplot as plt                                   \n",
    "import autograd, autograd.core, autograd.extend, autograd.tracer  \n",
    "import autograd.numpy as anp      \n",
    "import scipy, scipy.ndimage, scipy.sparse, scipy.sparse.linalg    \n",
    "                                                     \n",
    "import gym\n",
    "# from gym import spaces\n",
    "from gymnasium import spaces\n",
    "import gymnasium \n",
    "\n",
    "from stable_baselines3 import PPO\n",
    "from stable_baselines3.common.env_checker import check_env\n",
    "from stable_baselines3.common.monitor import Monitor\n",
    "from stable_baselines3.common.results_plotter import load_results, ts2xy\n",
    "from stable_baselines3.common.callbacks import BaseCallback\n",
    "from stable_baselines3.common import results_plotter"
   ]
  },
  {
   "cell_type": "code",
   "execution_count": 2,
   "metadata": {},
   "outputs": [],
   "source": [
    "# !pip3 install --upgrade stable_baselines3\n",
    "# !pip3 install gym==0.22.0 "
   ]
  },
  {
   "cell_type": "markdown",
   "metadata": {},
   "source": [
    "The below code is my RL extension to and rework of https://www.researchgate.net/publication/360698153_A_Tutorial_on_Structural_Optimization \n",
    "and\n",
    "https://www.sciencedirect.com/science/article/pii/S0264127522002933"
   ]
  },
  {
   "cell_type": "code",
   "execution_count": null,
   "metadata": {},
   "outputs": [],
   "source": []
  },
  {
   "cell_type": "code",
   "execution_count": 3,
   "metadata": {},
   "outputs": [],
   "source": [
    "class ObjectView(object):\n",
    "    def __init__(self, d): self.__dict__ = d\n",
    "    \n",
    "def get_args(normals, forces, density=1e-4):  # Manage the problem setup parameters\n",
    "    width = normals.shape[0] - 1\n",
    "    height = normals.shape[1] - 1\n",
    "    fixdofs = np.flatnonzero(normals.ravel())\n",
    "    alldofs = np.arange(2 * (width + 1) * (height + 1))\n",
    "    freedofs = np.sort(list(set(alldofs) - set(fixdofs)))\n",
    "    params = {\n",
    "      # material properties\n",
    "      'young': 1, 'young_min': 1e-9, 'poisson': 0.3, 'g': 0,\n",
    "      # constraints\n",
    "      'density': density, 'xmin': 0.001, 'xmax': 1.0,\n",
    "      # input parameters\n",
    "      'nelx': width, 'nely': height, 'mask': 1, 'penal': 3.0, 'filter_width': 1,\n",
    "      'freedofs': freedofs, 'fixdofs': fixdofs, 'forces': forces.ravel(),\n",
    "      # optimization parameters\n",
    "      'opt_steps': 80, 'print_every': 10}\n",
    "    return ObjectView(params)\n",
    "\n",
    "def mbb_beam(width=4, height=4, density=1e-4, y=1, x=0, rd=-1):  # textbook beam example\n",
    "    normals = np.zeros((width + 1, height + 1, 2))\n",
    "    normals[0, 0, x] = 1\n",
    "    normals[0, 0, y] = 1\n",
    "    normals[0, -1, x] = 1\n",
    "    normals[0, -1, y] = 1\n",
    "    forces = np.zeros((width + 1, height + 1, 2))\n",
    "    forces[-1, rd, y] = -1\n",
    "    return normals, forces, density"
   ]
  },
  {
   "cell_type": "code",
   "execution_count": 4,
   "metadata": {},
   "outputs": [],
   "source": [
    "def young_modulus(x, e_0, e_min, p=3):\n",
    "    return e_min + x ** p * (e_0 - e_min)\n",
    "\n",
    "def physical_density(x, args, volume_contraint=False, use_filter=True):\n",
    "    x = args.mask * x.reshape(args.nely, args.nelx)  # reshape from 1D to 2D\n",
    "    return gaussian_filter(x, args.filter_width) if use_filter else x  # maybe filter\n",
    "\n",
    "def mean_density(x, args, volume_contraint=False, use_filter=True):\n",
    "    return anp.mean(physical_density(x, args, volume_contraint, use_filter)) / anp.mean(args.mask)"
   ]
  },
  {
   "cell_type": "code",
   "execution_count": 5,
   "metadata": {},
   "outputs": [],
   "source": [
    "def objective(x, args, volume_contraint=False, use_filter=True):\n",
    "    kwargs = dict(penal=args.penal, e_min=args.young_min, e_0=args.young)\n",
    "    x_phys = physical_density(x, args, volume_contraint=volume_contraint, use_filter=use_filter)\n",
    "    ke     = get_stiffness_matrix(args.young, args.poisson)  # stiffness matrix\n",
    "    u      = displace(x_phys, ke, args.forces, args.freedofs, args.fixdofs, **kwargs)\n",
    "    c      = compliance(x_phys, u, ke, **kwargs)\n",
    "    return c"
   ]
  },
  {
   "cell_type": "code",
   "execution_count": 6,
   "metadata": {},
   "outputs": [],
   "source": [
    "@autograd.extend.primitive\n",
    "def gaussian_filter(x, width): # 2D gaussian blur/filter\n",
    "    return scipy.ndimage.gaussian_filter(x, width, mode='reflect')\n",
    "\n",
    "def _gaussian_filter_vjp(ans, x, width): # gives the gradient of orig. function w.r.t. x\n",
    "    del ans, x  # unused\n",
    "    return lambda g: gaussian_filter(g, width)\n",
    "autograd.extend.defvjp(gaussian_filter, _gaussian_filter_vjp)"
   ]
  },
  {
   "cell_type": "code",
   "execution_count": 7,
   "metadata": {},
   "outputs": [],
   "source": [
    "def compliance(x_phys, u, ke, *, penal=3, e_min=1e-9, e_0=1):\n",
    "    nely, nelx = x_phys.shape\n",
    "    ely, elx = anp.meshgrid(range(nely), range(nelx))  # x, y coords for the index map\n",
    "\n",
    "    n1 = (nely+1)*(elx+0) + (ely+0)  # nodes\n",
    "    n2 = (nely+1)*(elx+1) + (ely+0)\n",
    "    n3 = (nely+1)*(elx+1) + (ely+1)\n",
    "    n4 = (nely+1)*(elx+0) + (ely+1)\n",
    "    all_ixs = anp.array([2*n1, 2*n1+1, 2*n2, 2*n2+1, 2*n3, 2*n3+1, 2*n4, 2*n4+1])\n",
    "    u_selected = u[all_ixs]  # select from u matrix\n",
    "\n",
    "    ke_u = anp.einsum('ij,jkl->ikl', ke, u_selected)  # compute x^penal * U.T @ ke @ U\n",
    "    ce = anp.einsum('ijk,ijk->jk', u_selected, ke_u)\n",
    "    C = young_modulus(x_phys, e_0, e_min, p=penal) * ce.T\n",
    "    return anp.sum(C)\n",
    "\n",
    "def get_stiffness_matrix(e, nu):  # e=young's modulus, nu=poisson coefficient\n",
    "    k = anp.array([1/2-nu/6, 1/8+nu/8, -1/4-nu/12, -1/8+3*nu/8,\n",
    "                -1/4+nu/12, -1/8-nu/8, nu/6, 1/8-3*nu/8])\n",
    "    return e/(1-nu**2)*anp.array([[k[0], k[1], k[2], k[3], k[4], k[5], k[6], k[7]],\n",
    "                               [k[1], k[0], k[7], k[6], k[5], k[4], k[3], k[2]],\n",
    "                               [k[2], k[7], k[0], k[5], k[6], k[3], k[4], k[1]],\n",
    "                               [k[3], k[6], k[5], k[0], k[7], k[2], k[1], k[4]],\n",
    "                               [k[4], k[5], k[6], k[7], k[0], k[1], k[2], k[3]],\n",
    "                               [k[5], k[4], k[3], k[2], k[1], k[0], k[7], k[6]],\n",
    "                               [k[6], k[3], k[4], k[1], k[2], k[7], k[0], k[5]],\n",
    "                               [k[7], k[2], k[1], k[4], k[3], k[6], k[5], k[0]]])"
   ]
  },
  {
   "cell_type": "code",
   "execution_count": 8,
   "metadata": {},
   "outputs": [],
   "source": [
    "def get_k(stiffness, ke):\n",
    "    # Constructs sparse stiffness matrix k (used in the displace fn)\n",
    "    # First, get position of the nodes of each element in the stiffness matrix\n",
    "    nely, nelx = stiffness.shape\n",
    "    ely, elx = anp.meshgrid(range(nely), range(nelx))  # x, y coords\n",
    "    ely, elx = ely.reshape(-1, 1), elx.reshape(-1, 1)\n",
    "\n",
    "    n1 = (nely+1)*(elx+0) + (ely+0)\n",
    "    n2 = (nely+1)*(elx+1) + (ely+0)\n",
    "    n3 = (nely+1)*(elx+1) + (ely+1)\n",
    "    n4 = (nely+1)*(elx+0) + (ely+1)\n",
    "    edof = anp.array([2*n1, 2*n1+1, 2*n2, 2*n2+1, 2*n3, 2*n3+1, 2*n4, 2*n4+1])\n",
    "    edof = edof.T[0]\n",
    "    x_list = anp.repeat(edof, 8)  # flat list pointer of each node in an element\n",
    "    y_list = anp.tile(edof, 8).flatten()  # flat list pointer of each node in elem\n",
    "\n",
    "    # make the global stiffness matrix K\n",
    "    kd = stiffness.T.reshape(nelx*nely, 1, 1)\n",
    "    value_list = (kd * anp.tile(ke, kd.shape)).flatten()\n",
    "    return value_list, y_list, x_list\n",
    "\n",
    "def displace(x_phys, ke, forces, freedofs, fixdofs, *, penal=3, e_min=1e-9, e_0=1):\n",
    "    # Displaces the load x using finite element techniques (solve_coo=most of runtime)\n",
    "    stiffness = young_modulus(x_phys, e_0, e_min, p=penal)\n",
    "    k_entries, k_ylist, k_xlist = get_k(stiffness, ke)\n",
    "\n",
    "    index_map, keep, indices = _get_dof_indices(freedofs, fixdofs, k_ylist, k_xlist)\n",
    "\n",
    "    u_nonzero = solve_coo(k_entries[keep], indices, forces[freedofs], sym_pos=True)\n",
    "    u_values = anp.concatenate([u_nonzero, anp.zeros(len(fixdofs))])\n",
    "    return u_values[index_map]"
   ]
  },
  {
   "cell_type": "code",
   "execution_count": 9,
   "metadata": {},
   "outputs": [],
   "source": [
    "def _get_dof_indices(freedofs, fixdofs, k_xlist, k_ylist):\n",
    "    index_map = inverse_permutation(anp.concatenate([freedofs, fixdofs]))\n",
    "    keep = anp.isin(k_xlist, freedofs) & anp.isin(k_ylist, freedofs)\n",
    "    # Now we index an indexing array that is being indexed by the indices of k\n",
    "    i = index_map[k_ylist][keep]\n",
    "    j = index_map[k_xlist][keep]\n",
    "    return index_map, keep, anp.stack([i, j])\n",
    "\n",
    "def inverse_permutation(indices):  # reverses an index operation\n",
    "    inverse_perm = np.zeros(len(indices), dtype=anp.int64)\n",
    "    inverse_perm[indices] = np.arange(len(indices), dtype=anp.int64)\n",
    "    return inverse_perm"
   ]
  },
  {
   "cell_type": "code",
   "execution_count": 10,
   "metadata": {},
   "outputs": [],
   "source": [
    "def _get_solver(a_entries, a_indices, size, sym_pos):\n",
    "    # a is (usu.) symmetric positive; could solve 2x faster w/sksparse.cholmod.cholesky(a).solve_A\n",
    "    a = scipy.sparse.coo_matrix((a_entries, a_indices), shape=(size,)*2).tocsc()\n",
    "    return scipy.sparse.linalg.splu(a).solve\n",
    "\n",
    "@autograd.primitive\n",
    "def solve_coo(a_entries, a_indices, b, sym_pos=False):\n",
    "    solver = _get_solver(a_entries, a_indices, b.size, sym_pos)\n",
    "    return solver(b)\n",
    "\n",
    "def grad_solve_coo_entries(ans, a_entries, a_indices, b, sym_pos=False):\n",
    "    def jvp(grad_ans):\n",
    "        lambda_ = solve_coo(a_entries, a_indices if sym_pos else a_indices[::-1],\n",
    "                            grad_ans, sym_pos)\n",
    "        i, j = a_indices\n",
    "        return -lambda_[i] * ans[j]\n",
    "    return jvp\n",
    "\n",
    "autograd.extend.defvjp(solve_coo, grad_solve_coo_entries,\n",
    "                       lambda: print('err: gradient undefined'),\n",
    "                       lambda: print('err: gradient not implemented'))"
   ]
  },
  {
   "cell_type": "code",
   "execution_count": 11,
   "metadata": {},
   "outputs": [],
   "source": [
    "class Model:\n",
    "    def __init__(self, x):\n",
    "        self.flag_ = True\n",
    "#         self.flag_ = False\n",
    "        self.n, self.m = x.shape\n",
    "        self.actions_dic={} \n",
    "    \n",
    "        k=0\n",
    "        for i in range(self.n):\n",
    "            for j in range(self.m):\n",
    "                self.actions_dic[k]=(i,j)\n",
    "                k+=1\n",
    "        \n",
    "    def action_space_(self, action, X):\n",
    "        x,y=self.actions_dic[action]\n",
    "        X[x][y]=1\n",
    "        \n",
    "    def draw(self,X):  \n",
    "        plt.figure(dpi=50) \n",
    "        print('\\nFinal Cantilever beam design:')\n",
    "        plt.imshow(X) \n",
    "        plt.show()"
   ]
  },
  {
   "cell_type": "code",
   "execution_count": 12,
   "metadata": {},
   "outputs": [],
   "source": [
    "def fast_stopt(args, x):\n",
    "\n",
    "    reshape = lambda x: x.reshape(args.nely, args.nelx)\n",
    "    objective_fn = lambda x: objective(reshape(x), args)\n",
    "#     constraint = lambda params: mean_density(reshape(params), args) - args.density\n",
    "    constraint = lambda params: mean_density(reshape(params), args) \n",
    "    value = objective_fn(x)\n",
    "    const = constraint(x)\n",
    "    return value, const"
   ]
  },
  {
   "cell_type": "code",
   "execution_count": 13,
   "metadata": {},
   "outputs": [],
   "source": [
    "class CantileverEnv(gym.Env):\n",
    "    \n",
    "    metadata = {\"render.modes\": [\"human\"]}\n",
    "\n",
    "    def __init__(self):\n",
    "        super().__init__()\n",
    "        \n",
    "        \n",
    "        self.rd=0\n",
    "        self.args = get_args(*mbb_beam(rd=self.rd))\n",
    "        \n",
    "        DIM=self.args.nelx*self.args.nely\n",
    "        N_DISCRETE_ACTIONS=self.args.nelx*self.args.nely\n",
    "        \n",
    "        self.action_space = spaces.Discrete(N_DISCRETE_ACTIONS)\n",
    "        self.observation_space = spaces.Box(low=np.array([-1e10 for x in range(DIM)]),\n",
    "                                            high=np.array([1e10 for y in range(DIM)]),\n",
    "                                            shape=(DIM,),\n",
    "                                           dtype=np.float64)\n",
    "        \n",
    " \n",
    "        self.x = anp.ones((self.args.nely, self.args.nelx))*self.args.density \n",
    "    \n",
    "        self.M=Model(self.x)\n",
    "        \n",
    "        self.reward=0\n",
    "        self.step_=0\n",
    "        self.needs_reset = True\n",
    "#         self.seed=0\n",
    "        \n",
    "    def step(self, action):\n",
    "        \n",
    "        self.args = get_args(*mbb_beam(rd=self.rd))\n",
    "        \n",
    "        self.M.action_space_(action, self.x)\n",
    "        \n",
    "        self.tmp, self.const = fast_stopt(self.args, self.x)\n",
    "#         print(tmp, const)\n",
    "        \n",
    "        self.step_+=1\n",
    "        \n",
    "#         self.reward+=(1/self.tmp)**2\n",
    "        self.reward=(1/self.tmp)**2\n",
    "        self.reward=(1/self.tmp)**0.5\n",
    "\n",
    "       \n",
    "        done=False\n",
    "                  \n",
    "        if self.step_>self.M.n*self.M.m:\n",
    "            done=True\n",
    "            \n",
    "        if self.const>0.7:\n",
    "#             self.reward-=1\n",
    "            done=True\n",
    "            \n",
    "        if self.needs_reset:\n",
    "            raise RuntimeError(\"Tried to step environment that needs reset\")\n",
    "            \n",
    "        if done:\n",
    "            self.needs_reset = True\n",
    "                         \n",
    "      \n",
    "        return self.x.reshape(self.x.shape[0]*self.x.shape[1]), self.reward, done,False, dict()\n",
    "\n",
    "    def reset(self,seed=0):\n",
    "        \n",
    "        if not self.M.flag_:\n",
    "            self.rd=random.choice([0,2,-2])\n",
    "        else:\n",
    "            self.rd=-1\n",
    "           \n",
    "        self.x = anp.ones((self.args.nely, self.args.nelx))*self.args.density \n",
    "\n",
    "        self.reward=0\n",
    "        self.needs_reset = False\n",
    "        self.step_=0\n",
    "\n",
    "        return self.x.reshape(self.x.shape[0]*self.x.shape[1]),{}\n",
    "\n",
    "    def render(self, mode=\"human\"):\n",
    "        self.M.draw(self.x)    \n",
    "\n",
    "    def close(self):\n",
    "        pass"
   ]
  },
  {
   "cell_type": "code",
   "execution_count": 14,
   "metadata": {},
   "outputs": [],
   "source": [
    "class SaveOnBestTrainingRewardCallback(BaseCallback):\n",
    "    \"\"\"\n",
    "    Callback for saving a model (the check is done every ``check_freq`` steps)\n",
    "    based on the training reward (in practice, we recommend using ``EvalCallback``).\n",
    "\n",
    "    :param check_freq: (int)\n",
    "    :param log_dir: (str) Path to the folder where the model will be saved.\n",
    "      It must contains the file created by the ``Monitor`` wrapper.\n",
    "    :param verbose: (int)\n",
    "    \"\"\"\n",
    "\n",
    "    def __init__(self, check_freq: int, log_dir: str, verbose=1):\n",
    "        super().__init__(verbose)\n",
    "        self.check_freq = check_freq\n",
    "        self.log_dir = log_dir\n",
    "        self.save_path = os.path.join(log_dir, \"best_model\")\n",
    "        self.best_mean_reward = -np.inf\n",
    "\n",
    "    def _init_callback(self) -> None:\n",
    "        # Create folder if needed\n",
    "        if self.save_path is not None:\n",
    "            os.makedirs(self.save_path, exist_ok=True)\n",
    "\n",
    "    def _on_step(self) -> bool:\n",
    "        if self.n_calls % self.check_freq == 0:\n",
    "\n",
    "            # Retrieve training reward\n",
    "            x, y = ts2xy(load_results(self.log_dir), \"timesteps\")\n",
    "            if len(x) > 0:\n",
    "                # Mean training reward over the last 100 episodes\n",
    "                mean_reward = np.mean(y[-100:])\n",
    "                if self.verbose > 0:\n",
    "                    print(f\"Num timesteps: {self.num_timesteps}\")\n",
    "                    print(\n",
    "                        f\"Best mean reward: {self.best_mean_reward:.2f} - Last mean reward per episode: {mean_reward:.2f}\"\n",
    "                    )\n",
    "\n",
    "                # New best model, you could save the agent here\n",
    "                if mean_reward > self.best_mean_reward:\n",
    "                    self.best_mean_reward = mean_reward\n",
    "                    # Example for saving best model\n",
    "                    if self.verbose > 0:\n",
    "                        print(f\"Saving new best model to {self.save_path}.zip\")\n",
    "                    self.model.save(self.save_path)\n",
    "\n",
    "        return True"
   ]
  },
  {
   "cell_type": "code",
   "execution_count": 15,
   "metadata": {},
   "outputs": [],
   "source": [
    "# ts=5e6\n",
    "ts=0.1e6"
   ]
  },
  {
   "cell_type": "code",
   "execution_count": 16,
   "metadata": {},
   "outputs": [
    {
     "name": "stderr",
     "output_type": "stream",
     "text": [
      "/Library/Frameworks/Python.framework/Versions/3.9/lib/python3.9/site-packages/gymnasium/core.py:311: UserWarning: \u001b[33mWARN: env.render_mode to get variables from other wrappers is deprecated and will be removed in v1.0, to get this variable you can do `env.unwrapped.render_mode` for environment variables or `env.get_wrapper_attr('render_mode')` that will search the reminding wrappers.\u001b[0m\n",
      "  logger.warn(\n",
      "/Library/Frameworks/Python.framework/Versions/3.9/lib/python3.9/site-packages/stable_baselines3/common/vec_env/base_vec_env.py:77: UserWarning: The `render_mode` attribute is not defined in your environment. It will be set to None.\n",
      "  warnings.warn(\"The `render_mode` attribute is not defined in your environment. It will be set to None.\")\n"
     ]
    }
   ],
   "source": [
    "# Create log dir\n",
    "log_dir = \"/tmp/gym6/\"\n",
    "os.makedirs(log_dir, exist_ok=True)\n",
    "\n",
    "# Create and wrap the environment\n",
    "env = CantileverEnv()\n",
    "# Logs will be saved in log_dir/monitor.csv\n",
    "\n",
    "env = Monitor(env, log_dir)\n",
    "check_env(env)"
   ]
  },
  {
   "cell_type": "code",
   "execution_count": 17,
   "metadata": {},
   "outputs": [],
   "source": [
    "# callback = SaveOnBestTrainingRewardCallback(check_freq=5000, log_dir=log_dir)\n",
    "callback = SaveOnBestTrainingRewardCallback(check_freq=1000, log_dir=log_dir)"
   ]
  },
  {
   "cell_type": "code",
   "execution_count": 18,
   "metadata": {},
   "outputs": [
    {
     "name": "stdout",
     "output_type": "stream",
     "text": [
      "Num timesteps: 1000\n",
      "Best mean reward: -inf - Last mean reward per episode: 0.88\n",
      "Saving new best model to /tmp/gym6/best_model.zip\n",
      "Num timesteps: 2000\n",
      "Best mean reward: 0.88 - Last mean reward per episode: 0.92\n",
      "Saving new best model to /tmp/gym6/best_model.zip\n",
      "Num timesteps: 3000\n",
      "Best mean reward: 0.92 - Last mean reward per episode: 0.90\n",
      "Num timesteps: 4000\n",
      "Best mean reward: 0.92 - Last mean reward per episode: 0.86\n",
      "Num timesteps: 5000\n",
      "Best mean reward: 0.92 - Last mean reward per episode: 0.94\n",
      "Saving new best model to /tmp/gym6/best_model.zip\n",
      "Num timesteps: 6000\n",
      "Best mean reward: 0.94 - Last mean reward per episode: 1.02\n",
      "Saving new best model to /tmp/gym6/best_model.zip\n",
      "Num timesteps: 7000\n",
      "Best mean reward: 1.02 - Last mean reward per episode: 1.09\n",
      "Saving new best model to /tmp/gym6/best_model.zip\n",
      "Num timesteps: 8000\n",
      "Best mean reward: 1.09 - Last mean reward per episode: 1.12\n",
      "Saving new best model to /tmp/gym6/best_model.zip\n",
      "Num timesteps: 9000\n",
      "Best mean reward: 1.12 - Last mean reward per episode: 1.13\n",
      "Saving new best model to /tmp/gym6/best_model.zip\n",
      "Num timesteps: 10000\n",
      "Best mean reward: 1.13 - Last mean reward per episode: 1.20\n",
      "Saving new best model to /tmp/gym6/best_model.zip\n",
      "Num timesteps: 11000\n",
      "Best mean reward: 1.20 - Last mean reward per episode: 1.21\n",
      "Saving new best model to /tmp/gym6/best_model.zip\n",
      "Num timesteps: 12000\n",
      "Best mean reward: 1.21 - Last mean reward per episode: 1.28\n",
      "Saving new best model to /tmp/gym6/best_model.zip\n",
      "Num timesteps: 13000\n",
      "Best mean reward: 1.28 - Last mean reward per episode: 1.30\n",
      "Saving new best model to /tmp/gym6/best_model.zip\n",
      "Num timesteps: 14000\n",
      "Best mean reward: 1.30 - Last mean reward per episode: 1.34\n",
      "Saving new best model to /tmp/gym6/best_model.zip\n",
      "Num timesteps: 15000\n",
      "Best mean reward: 1.34 - Last mean reward per episode: 1.34\n",
      "Num timesteps: 16000\n",
      "Best mean reward: 1.34 - Last mean reward per episode: 1.41\n",
      "Saving new best model to /tmp/gym6/best_model.zip\n",
      "Num timesteps: 17000\n",
      "Best mean reward: 1.41 - Last mean reward per episode: 1.44\n",
      "Saving new best model to /tmp/gym6/best_model.zip\n",
      "Num timesteps: 18000\n",
      "Best mean reward: 1.44 - Last mean reward per episode: 1.46\n",
      "Saving new best model to /tmp/gym6/best_model.zip\n",
      "Num timesteps: 19000\n",
      "Best mean reward: 1.46 - Last mean reward per episode: 1.43\n",
      "Num timesteps: 20000\n",
      "Best mean reward: 1.46 - Last mean reward per episode: 1.45\n",
      "Num timesteps: 21000\n",
      "Best mean reward: 1.46 - Last mean reward per episode: 1.47\n",
      "Saving new best model to /tmp/gym6/best_model.zip\n",
      "Num timesteps: 22000\n",
      "Best mean reward: 1.47 - Last mean reward per episode: 1.51\n",
      "Saving new best model to /tmp/gym6/best_model.zip\n",
      "Num timesteps: 23000\n",
      "Best mean reward: 1.51 - Last mean reward per episode: 1.50\n",
      "Num timesteps: 24000\n",
      "Best mean reward: 1.51 - Last mean reward per episode: 1.51\n",
      "Num timesteps: 25000\n",
      "Best mean reward: 1.51 - Last mean reward per episode: 1.50\n",
      "Num timesteps: 26000\n",
      "Best mean reward: 1.51 - Last mean reward per episode: 1.52\n",
      "Saving new best model to /tmp/gym6/best_model.zip\n",
      "Num timesteps: 27000\n",
      "Best mean reward: 1.52 - Last mean reward per episode: 1.54\n",
      "Saving new best model to /tmp/gym6/best_model.zip\n",
      "Num timesteps: 28000\n",
      "Best mean reward: 1.54 - Last mean reward per episode: 1.53\n",
      "Num timesteps: 29000\n",
      "Best mean reward: 1.54 - Last mean reward per episode: 1.54\n",
      "Num timesteps: 30000\n",
      "Best mean reward: 1.54 - Last mean reward per episode: 1.58\n",
      "Saving new best model to /tmp/gym6/best_model.zip\n",
      "Num timesteps: 31000\n",
      "Best mean reward: 1.58 - Last mean reward per episode: 1.63\n",
      "Saving new best model to /tmp/gym6/best_model.zip\n",
      "Num timesteps: 32000\n",
      "Best mean reward: 1.63 - Last mean reward per episode: 1.60\n",
      "Num timesteps: 33000\n",
      "Best mean reward: 1.63 - Last mean reward per episode: 1.61\n",
      "Num timesteps: 34000\n",
      "Best mean reward: 1.63 - Last mean reward per episode: 1.63\n",
      "Num timesteps: 35000\n",
      "Best mean reward: 1.63 - Last mean reward per episode: 1.64\n",
      "Saving new best model to /tmp/gym6/best_model.zip\n",
      "Num timesteps: 36000\n",
      "Best mean reward: 1.64 - Last mean reward per episode: 1.64\n",
      "Saving new best model to /tmp/gym6/best_model.zip\n",
      "Num timesteps: 37000\n",
      "Best mean reward: 1.64 - Last mean reward per episode: 1.67\n",
      "Saving new best model to /tmp/gym6/best_model.zip\n",
      "Num timesteps: 38000\n",
      "Best mean reward: 1.67 - Last mean reward per episode: 1.68\n",
      "Saving new best model to /tmp/gym6/best_model.zip\n",
      "Num timesteps: 39000\n",
      "Best mean reward: 1.68 - Last mean reward per episode: 1.68\n",
      "Saving new best model to /tmp/gym6/best_model.zip\n",
      "Num timesteps: 40000\n",
      "Best mean reward: 1.68 - Last mean reward per episode: 1.69\n",
      "Saving new best model to /tmp/gym6/best_model.zip\n",
      "Num timesteps: 41000\n",
      "Best mean reward: 1.69 - Last mean reward per episode: 1.72\n",
      "Saving new best model to /tmp/gym6/best_model.zip\n",
      "Num timesteps: 42000\n",
      "Best mean reward: 1.72 - Last mean reward per episode: 1.72\n",
      "Saving new best model to /tmp/gym6/best_model.zip\n",
      "Num timesteps: 43000\n",
      "Best mean reward: 1.72 - Last mean reward per episode: 1.74\n",
      "Saving new best model to /tmp/gym6/best_model.zip\n",
      "Num timesteps: 44000\n",
      "Best mean reward: 1.74 - Last mean reward per episode: 1.73\n",
      "Num timesteps: 45000\n",
      "Best mean reward: 1.74 - Last mean reward per episode: 1.72\n",
      "Num timesteps: 46000\n",
      "Best mean reward: 1.74 - Last mean reward per episode: 1.72\n",
      "Num timesteps: 47000\n",
      "Best mean reward: 1.74 - Last mean reward per episode: 1.75\n",
      "Saving new best model to /tmp/gym6/best_model.zip\n",
      "Num timesteps: 48000\n",
      "Best mean reward: 1.75 - Last mean reward per episode: 1.75\n",
      "Saving new best model to /tmp/gym6/best_model.zip\n",
      "Num timesteps: 49000\n",
      "Best mean reward: 1.75 - Last mean reward per episode: 1.77\n",
      "Saving new best model to /tmp/gym6/best_model.zip\n",
      "Num timesteps: 50000\n",
      "Best mean reward: 1.77 - Last mean reward per episode: 1.76\n",
      "Num timesteps: 51000\n",
      "Best mean reward: 1.77 - Last mean reward per episode: 1.77\n",
      "Num timesteps: 52000\n",
      "Best mean reward: 1.77 - Last mean reward per episode: 1.80\n",
      "Saving new best model to /tmp/gym6/best_model.zip\n",
      "Num timesteps: 53000\n",
      "Best mean reward: 1.80 - Last mean reward per episode: 1.79\n",
      "Num timesteps: 54000\n",
      "Best mean reward: 1.80 - Last mean reward per episode: 1.78\n",
      "Num timesteps: 55000\n",
      "Best mean reward: 1.80 - Last mean reward per episode: 1.78\n",
      "Num timesteps: 56000\n",
      "Best mean reward: 1.80 - Last mean reward per episode: 1.79\n",
      "Num timesteps: 57000\n",
      "Best mean reward: 1.80 - Last mean reward per episode: 1.81\n",
      "Saving new best model to /tmp/gym6/best_model.zip\n",
      "Num timesteps: 58000\n",
      "Best mean reward: 1.81 - Last mean reward per episode: 1.82\n",
      "Saving new best model to /tmp/gym6/best_model.zip\n",
      "Num timesteps: 59000\n",
      "Best mean reward: 1.82 - Last mean reward per episode: 1.81\n",
      "Num timesteps: 60000\n",
      "Best mean reward: 1.82 - Last mean reward per episode: 1.81\n",
      "Num timesteps: 61000\n",
      "Best mean reward: 1.82 - Last mean reward per episode: 1.83\n",
      "Saving new best model to /tmp/gym6/best_model.zip\n",
      "Num timesteps: 62000\n",
      "Best mean reward: 1.83 - Last mean reward per episode: 1.83\n",
      "Num timesteps: 63000\n",
      "Best mean reward: 1.83 - Last mean reward per episode: 1.84\n",
      "Saving new best model to /tmp/gym6/best_model.zip\n",
      "Num timesteps: 64000\n",
      "Best mean reward: 1.84 - Last mean reward per episode: 1.86\n",
      "Saving new best model to /tmp/gym6/best_model.zip\n",
      "Num timesteps: 65000\n",
      "Best mean reward: 1.86 - Last mean reward per episode: 1.84\n",
      "Num timesteps: 66000\n",
      "Best mean reward: 1.86 - Last mean reward per episode: 1.86\n",
      "Num timesteps: 67000\n",
      "Best mean reward: 1.86 - Last mean reward per episode: 1.85\n",
      "Num timesteps: 68000\n",
      "Best mean reward: 1.86 - Last mean reward per episode: 1.84\n",
      "Num timesteps: 69000\n",
      "Best mean reward: 1.86 - Last mean reward per episode: 1.85\n",
      "Num timesteps: 70000\n",
      "Best mean reward: 1.86 - Last mean reward per episode: 1.85\n",
      "Num timesteps: 71000\n",
      "Best mean reward: 1.86 - Last mean reward per episode: 1.85\n",
      "Num timesteps: 72000\n",
      "Best mean reward: 1.86 - Last mean reward per episode: 1.88\n",
      "Saving new best model to /tmp/gym6/best_model.zip\n",
      "Num timesteps: 73000\n",
      "Best mean reward: 1.88 - Last mean reward per episode: 1.90\n",
      "Saving new best model to /tmp/gym6/best_model.zip\n",
      "Num timesteps: 74000\n",
      "Best mean reward: 1.90 - Last mean reward per episode: 1.89\n",
      "Num timesteps: 75000\n",
      "Best mean reward: 1.90 - Last mean reward per episode: 1.88\n",
      "Num timesteps: 76000\n",
      "Best mean reward: 1.90 - Last mean reward per episode: 1.87\n"
     ]
    },
    {
     "name": "stdout",
     "output_type": "stream",
     "text": [
      "Num timesteps: 77000\n",
      "Best mean reward: 1.90 - Last mean reward per episode: 1.91\n",
      "Saving new best model to /tmp/gym6/best_model.zip\n",
      "Num timesteps: 78000\n",
      "Best mean reward: 1.91 - Last mean reward per episode: 1.91\n",
      "Saving new best model to /tmp/gym6/best_model.zip\n",
      "Num timesteps: 79000\n",
      "Best mean reward: 1.91 - Last mean reward per episode: 1.91\n",
      "Num timesteps: 80000\n",
      "Best mean reward: 1.91 - Last mean reward per episode: 1.91\n",
      "Num timesteps: 81000\n",
      "Best mean reward: 1.91 - Last mean reward per episode: 1.92\n",
      "Saving new best model to /tmp/gym6/best_model.zip\n",
      "Num timesteps: 82000\n",
      "Best mean reward: 1.92 - Last mean reward per episode: 1.93\n",
      "Saving new best model to /tmp/gym6/best_model.zip\n",
      "Num timesteps: 83000\n",
      "Best mean reward: 1.93 - Last mean reward per episode: 1.94\n",
      "Saving new best model to /tmp/gym6/best_model.zip\n",
      "Num timesteps: 84000\n",
      "Best mean reward: 1.94 - Last mean reward per episode: 1.95\n",
      "Saving new best model to /tmp/gym6/best_model.zip\n",
      "Num timesteps: 85000\n",
      "Best mean reward: 1.95 - Last mean reward per episode: 1.94\n",
      "Num timesteps: 86000\n",
      "Best mean reward: 1.95 - Last mean reward per episode: 1.95\n",
      "Saving new best model to /tmp/gym6/best_model.zip\n",
      "Num timesteps: 87000\n",
      "Best mean reward: 1.95 - Last mean reward per episode: 1.94\n",
      "Num timesteps: 88000\n",
      "Best mean reward: 1.95 - Last mean reward per episode: 1.94\n",
      "Num timesteps: 89000\n",
      "Best mean reward: 1.95 - Last mean reward per episode: 1.97\n",
      "Saving new best model to /tmp/gym6/best_model.zip\n",
      "Num timesteps: 90000\n",
      "Best mean reward: 1.97 - Last mean reward per episode: 1.99\n",
      "Saving new best model to /tmp/gym6/best_model.zip\n",
      "Num timesteps: 91000\n",
      "Best mean reward: 1.99 - Last mean reward per episode: 1.96\n",
      "Num timesteps: 92000\n",
      "Best mean reward: 1.99 - Last mean reward per episode: 1.96\n",
      "Num timesteps: 93000\n",
      "Best mean reward: 1.99 - Last mean reward per episode: 1.98\n",
      "Num timesteps: 94000\n",
      "Best mean reward: 1.99 - Last mean reward per episode: 1.95\n",
      "Num timesteps: 95000\n",
      "Best mean reward: 1.99 - Last mean reward per episode: 1.96\n",
      "Num timesteps: 96000\n",
      "Best mean reward: 1.99 - Last mean reward per episode: 1.98\n",
      "Num timesteps: 97000\n",
      "Best mean reward: 1.99 - Last mean reward per episode: 1.97\n",
      "Num timesteps: 98000\n",
      "Best mean reward: 1.99 - Last mean reward per episode: 1.96\n",
      "Num timesteps: 99000\n",
      "Best mean reward: 1.99 - Last mean reward per episode: 1.97\n",
      "Num timesteps: 100000\n",
      "Best mean reward: 1.99 - Last mean reward per episode: 2.00\n",
      "Saving new best model to /tmp/gym6/best_model.zip\n"
     ]
    }
   ],
   "source": [
    "start=time.time()\n",
    "model = PPO(\"MlpPolicy\", env).learn(total_timesteps=ts, callback=callback)\n",
    "end=time.time()   "
   ]
  },
  {
   "cell_type": "code",
   "execution_count": 19,
   "metadata": {},
   "outputs": [
    {
     "name": "stdout",
     "output_type": "stream",
     "text": [
      "Total time taken: 1.7340505282084147 min\n"
     ]
    }
   ],
   "source": [
    "print('Total time taken: {} min'.format((end - start)/60))"
   ]
  },
  {
   "cell_type": "markdown",
   "metadata": {},
   "source": [
    "### Inference"
   ]
  },
  {
   "cell_type": "code",
   "execution_count": 20,
   "metadata": {},
   "outputs": [
    {
     "name": "stderr",
     "output_type": "stream",
     "text": [
      "/Library/Frameworks/Python.framework/Versions/3.9/lib/python3.9/site-packages/gymnasium/core.py:311: UserWarning: \u001b[33mWARN: env.M to get variables from other wrappers is deprecated and will be removed in v1.0, to get this variable you can do `env.unwrapped.M` for environment variables or `env.get_wrapper_attr('M')` that will search the reminding wrappers.\u001b[0m\n",
      "  logger.warn(\n"
     ]
    }
   ],
   "source": [
    "# env.M.flag_=True\n",
    "env.M.flag_=False\n",
    "obs=env.reset()"
   ]
  },
  {
   "cell_type": "code",
   "execution_count": 21,
   "metadata": {},
   "outputs": [],
   "source": [
    "obs=obs[0]"
   ]
  },
  {
   "cell_type": "code",
   "execution_count": 22,
   "metadata": {},
   "outputs": [
    {
     "name": "stdout",
     "output_type": "stream",
     "text": [
      "2615725058.1276135 0.06259375\n",
      "97812755.8473813 0.12508750000000002\n",
      "3206.48881020089 0.18758125000000003\n",
      "630.1438480657031 0.250075\n",
      "270.8704594729774 0.31256875000000006\n",
      "161.25457349713787 0.3750625000000001\n",
      "161.25457349713787 0.3750625000000001\n",
      "118.63173139824889 0.4375562500000001\n",
      "76.05188657456617 0.5000500000000001\n",
      "42.32167727153859 0.5625437500000001\n",
      "32.7403110152584 0.6250375000000001\n",
      "32.7403110152584 0.6250375000000001\n",
      "32.7403110152584 0.6250375000000001\n",
      "32.7403110152584 0.6250375000000001\n",
      "32.7403110152584 0.6250375000000001\n",
      "32.7403110152584 0.6250375000000001\n",
      "32.7403110152584 0.6250375000000001\n"
     ]
    },
    {
     "name": "stderr",
     "output_type": "stream",
     "text": [
      "/Library/Frameworks/Python.framework/Versions/3.9/lib/python3.9/site-packages/gymnasium/core.py:311: UserWarning: \u001b[33mWARN: env.tmp to get variables from other wrappers is deprecated and will be removed in v1.0, to get this variable you can do `env.unwrapped.tmp` for environment variables or `env.get_wrapper_attr('tmp')` that will search the reminding wrappers.\u001b[0m\n",
      "  logger.warn(\n",
      "/Library/Frameworks/Python.framework/Versions/3.9/lib/python3.9/site-packages/gymnasium/core.py:311: UserWarning: \u001b[33mWARN: env.const to get variables from other wrappers is deprecated and will be removed in v1.0, to get this variable you can do `env.unwrapped.const` for environment variables or `env.get_wrapper_attr('const')` that will search the reminding wrappers.\u001b[0m\n",
      "  logger.warn(\n"
     ]
    }
   ],
   "source": [
    "i=0\n",
    "while i<1000:\n",
    "    action, _states = model.predict(obs)\n",
    "    obs, rewards, dones,_, info = env.step(int(action))\n",
    "    print(env.tmp, env.const)\n",
    "    \n",
    "    if dones:\n",
    "        break\n",
    "    i+=1"
   ]
  },
  {
   "cell_type": "code",
   "execution_count": 23,
   "metadata": {},
   "outputs": [
    {
     "name": "stdout",
     "output_type": "stream",
     "text": [
      "16\n"
     ]
    }
   ],
   "source": [
    "print(i)"
   ]
  },
  {
   "cell_type": "code",
   "execution_count": 24,
   "metadata": {},
   "outputs": [
    {
     "name": "stdout",
     "output_type": "stream",
     "text": [
      "\n",
      "Final Cantilever beam design:\n"
     ]
    },
    {
     "data": {
      "image/png": "[encoded data removed]",
      "text/plain": [
       "<Figure size 320x240 with 1 Axes>"
      ]
     },
     "metadata": {},
     "output_type": "display_data"
    }
   ],
   "source": [
    "env.render()"
   ]
  },
  {
   "cell_type": "code",
   "execution_count": 25,
   "metadata": {},
   "outputs": [
    {
     "data": {
      "image/png": "[encoded data removed]",
      "text/plain": [
       "<Figure size 800x200 with 1 Axes>"
      ]
     },
     "metadata": {},
     "output_type": "display_data"
    }
   ],
   "source": [
    "results_plotter.plot_results([log_dir], ts, results_plotter.X_TIMESTEPS, \"CantileverEnv\")"
   ]
  },
  {
   "cell_type": "code",
   "execution_count": 26,
   "metadata": {},
   "outputs": [],
   "source": [
    "obs=env.reset()[0]"
   ]
  },
  {
   "cell_type": "code",
   "execution_count": 27,
   "metadata": {},
   "outputs": [
    {
     "name": "stderr",
     "output_type": "stream",
     "text": [
      "/Library/Frameworks/Python.framework/Versions/3.9/lib/python3.9/site-packages/gymnasium/core.py:311: UserWarning: \u001b[33mWARN: env.render_mode to get variables from other wrappers is deprecated and will be removed in v1.0, to get this variable you can do `env.unwrapped.render_mode` for environment variables or `env.get_wrapper_attr('render_mode')` that will search the reminding wrappers.\u001b[0m\n",
      "  logger.warn(\n",
      "/Library/Frameworks/Python.framework/Versions/3.9/lib/python3.9/site-packages/stable_baselines3/common/vec_env/base_vec_env.py:77: UserWarning: The `render_mode` attribute is not defined in your environment. It will be set to None.\n",
      "  warnings.warn(\"The `render_mode` attribute is not defined in your environment. It will be set to None.\")\n"
     ]
    }
   ],
   "source": [
    "# Load the agent\n",
    "model_best = PPO.load(log_dir + \"best_model.zip\",env=env)"
   ]
  },
  {
   "cell_type": "code",
   "execution_count": 28,
   "metadata": {},
   "outputs": [
    {
     "name": "stdout",
     "output_type": "stream",
     "text": [
      "227126606.56755757 0.06259375\n",
      "102124618.00373171 0.12508750000000002\n",
      "7322.628625475131 0.18758125000000003\n",
      "421.8366137912958 0.25007500000000005\n",
      "256.34955241730756 0.31256875000000006\n",
      "149.0810275655667 0.3750625000000001\n",
      "111.52169598007256 0.43755625000000004\n",
      "56.38327069740305 0.5000500000000001\n",
      "39.88743171609173 0.5625437500000001\n",
      "29.098324511900152 0.6250375000000001\n",
      "29.098324511900152 0.6250375000000001\n",
      "29.098324511900152 0.6250375000000001\n",
      "29.098324511900152 0.6250375000000001\n",
      "29.098324511900152 0.6250375000000001\n",
      "29.098324511900152 0.6250375000000001\n",
      "22.225116330239118 0.6875312500000001\n",
      "22.225116330239118 0.6875312500000001\n"
     ]
    },
    {
     "name": "stderr",
     "output_type": "stream",
     "text": [
      "/Library/Frameworks/Python.framework/Versions/3.9/lib/python3.9/site-packages/gymnasium/core.py:311: UserWarning: \u001b[33mWARN: env.tmp to get variables from other wrappers is deprecated and will be removed in v1.0, to get this variable you can do `env.unwrapped.tmp` for environment variables or `env.get_wrapper_attr('tmp')` that will search the reminding wrappers.\u001b[0m\n",
      "  logger.warn(\n",
      "/Library/Frameworks/Python.framework/Versions/3.9/lib/python3.9/site-packages/gymnasium/core.py:311: UserWarning: \u001b[33mWARN: env.const to get variables from other wrappers is deprecated and will be removed in v1.0, to get this variable you can do `env.unwrapped.const` for environment variables or `env.get_wrapper_attr('const')` that will search the reminding wrappers.\u001b[0m\n",
      "  logger.warn(\n"
     ]
    }
   ],
   "source": [
    "i=0\n",
    "while i<1000:\n",
    "    action, _states = model_best.predict(obs)\n",
    "    \n",
    "    obs, rewards, dones, _,info = env.step(int(action))\n",
    "    print(env.tmp, env.const)\n",
    "    if dones:\n",
    "        break\n",
    "    i+=1"
   ]
  },
  {
   "cell_type": "code",
   "execution_count": 29,
   "metadata": {},
   "outputs": [
    {
     "data": {
      "text/plain": [
       "16"
      ]
     },
     "execution_count": 29,
     "metadata": {},
     "output_type": "execute_result"
    }
   ],
   "source": [
    "i"
   ]
  },
  {
   "cell_type": "code",
   "execution_count": 30,
   "metadata": {},
   "outputs": [
    {
     "name": "stdout",
     "output_type": "stream",
     "text": [
      "\n",
      "Final Cantilever beam design:\n"
     ]
    },
    {
     "data": {
      "image/png": "[encoded data removed]",
      "text/plain": [
       "<Figure size 320x240 with 1 Axes>"
      ]
     },
     "metadata": {},
     "output_type": "display_data"
    }
   ],
   "source": [
    "env.render()"
   ]
  },
  {
   "cell_type": "code",
   "execution_count": null,
   "metadata": {},
   "outputs": [],
   "source": []
  },
  {
   "cell_type": "code",
   "execution_count": null,
   "metadata": {},
   "outputs": [],
   "source": []
  },
  {
   "cell_type": "code",
   "execution_count": 31,
   "metadata": {},
   "outputs": [],
   "source": [
    "# TODO - https://www.sciencedirect.com/science/article/pii/S0264127522002933\n",
    "\n",
    "# 6 by 6 grid\n",
    "# different reward 3 \n",
    "# training ~1.5 hr\n",
    "\n",
    "# illegal moves reward = -1, terminate ? \n",
    "\n",
    "# CNN\n",
    "# randomize loads \n",
    "# utilize symmetry\n",
    "# reward at the end of episode\n",
    "# action - remove elements not add \n",
    "# refinement 6x6 -> 12x12\n",
    "# load two elements in inference - test generalizability\n",
    "# input stress field instead of density field \n",
    "# test different RL algorithms "
   ]
  }
 ],
 "metadata": {
  "kernelspec": {
   "display_name": "Python 3 (ipykernel)",
   "language": "python",
   "name": "python3"
  },
  "language_info": {
   "codemirror_mode": {
    "name": "ipython",
    "version": 3
   },
   "file_extension": ".py",
   "mimetype": "text/x-python",
   "name": "python",
   "nbconvert_exporter": "python",
   "pygments_lexer": "ipython3",
   "version": "3.9.6"
  }
 },
 "nbformat": 4,
 "nbformat_minor": 4
}
