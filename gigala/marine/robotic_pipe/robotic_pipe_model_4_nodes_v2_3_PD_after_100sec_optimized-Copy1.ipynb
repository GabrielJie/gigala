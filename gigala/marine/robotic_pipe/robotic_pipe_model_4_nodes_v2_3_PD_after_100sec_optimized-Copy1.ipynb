{
 "cells": [
  {
   "cell_type": "markdown",
   "metadata": {},
   "source": [
    "#### Model taken from:\n",
    "- Offshore Pipelaying Dynamics. Gullik Anthon Jensen \n",
    "- Modelling and Control of Offshore Marine Pipeline during Pipelay. Gullik A. Jensen et al"
   ]
  },
  {
   "cell_type": "markdown",
   "metadata": {},
   "source": [
    "M(q)q ̈ + C(q,q ̇)q ̇ + H(q,q ̇)q ̇ + f(q) + g(q) = τ"
   ]
  },
  {
   "cell_type": "code",
   "execution_count": 1,
   "metadata": {},
   "outputs": [],
   "source": [
    "# DONE - make sure all parameters (vessel and pipe) are in the same reference frame, e.g p.78, p.142\n",
    "# DONE - do I have seabed interaction force in the model?\n",
    "# DONE - applied top tension in dynamic case might have been time varying, Jensen thesis p.76-77\n",
    "# DONE - do I have stinger accounted in the model? do I need stinger in the model?, see 3338.pdf\n",
    "# DONE - degree - radians\n",
    "# DONE - verify results against the catenary\n",
    "# DONE - add more nodes\n",
    "\n",
    "# TODO - roller reaction (force) should be proportional to pipe vertical displacement at rollers?\n",
    "\n",
    "# TAKEAWAY - use catenary for initial input"
   ]
  },
  {
   "cell_type": "code",
   "execution_count": 2,
   "metadata": {},
   "outputs": [],
   "source": [
    "import numpy as np\n",
    "import math\n",
    "from scipy.integrate import odeint, ode, solve_ivp\n",
    "from scipy.integrate import ode\n",
    "from scipy.misc import derivative\n",
    "from numpy.linalg import inv, pinv\n",
    "import numdifftools as nd\n",
    "import tqdm\n",
    "import functools\n",
    "from datetime import datetime\n",
    "from scipy.optimize import fsolve"
   ]
  },
  {
   "cell_type": "code",
   "execution_count": 3,
   "metadata": {},
   "outputs": [],
   "source": [
    "%matplotlib inline"
   ]
  },
  {
   "cell_type": "code",
   "execution_count": 4,
   "metadata": {},
   "outputs": [],
   "source": [
    "import matplotlib.pyplot as plt"
   ]
  },
  {
   "cell_type": "markdown",
   "metadata": {},
   "source": [
    "### Inputs"
   ]
  },
  {
   "cell_type": "code",
   "execution_count": 5,
   "metadata": {},
   "outputs": [],
   "source": [
    "pipe_joint_length = 2763 #250 #600 #100 # [m]\n",
    "pipe_weight_per_unit_length = 96 #  (submerged) [kg/m]  # 113.07 - not submerged\n",
    "\n",
    "q = [0.9939840275055615, 1.986772044151028, 1.9831911966919273, 1.9772469629333669] # used for initial checks only but not in final solution \n",
    "l = [pipe_joint_length for i in range(len(q))]\n",
    "\n",
    "# mn = 5.08976 * 10e7 # mass of the vessel, [kg]\n",
    "# In = 5.041*10e7 # moment of inertia of the vessel, [kg*𝑚2]\n",
    "# mn = 80048 # mass of the vessel, [kg]\n",
    "# In = 50410 # moment of inertia of the vessel, [kg*𝑚2]\n",
    "\n",
    "mn = 32219000 # mass of the vessel, [kg]\n",
    "# mn = 5.08976 *1e7 # mass of the vessel, [kg]"
   ]
  },
  {
   "cell_type": "code",
   "execution_count": 6,
   "metadata": {},
   "outputs": [],
   "source": [
    "# L - the hull length\n",
    "# Xg - x-center of gravity\n",
    "\n",
    "L = 169 # [m]\n",
    "Xg = 78 # [m]\n",
    "# L = 240 # [m]\n",
    "# Xg = 120 # [m]"
   ]
  },
  {
   "cell_type": "code",
   "execution_count": 7,
   "metadata": {},
   "outputs": [],
   "source": [
    "# Fossen book p.181\n",
    "def vessel_inertia_moment(mn, Xg, L):\n",
    "    r = 0.25*L\n",
    "    Ir = mn*r**2\n",
    "    Iz=mn*Xg**2 + Ir\n",
    "    return Iz"
   ]
  },
  {
   "cell_type": "code",
   "execution_count": 8,
   "metadata": {},
   "outputs": [],
   "source": [
    "In = vessel_inertia_moment(mn,Xg,L)"
   ]
  },
  {
   "cell_type": "code",
   "execution_count": 9,
   "metadata": {},
   "outputs": [
    {
     "data": {
      "text/plain": [
       "253533324687.5"
      ]
     },
     "execution_count": 9,
     "metadata": {},
     "output_type": "execute_result"
    }
   ],
   "source": [
    "In"
   ]
  },
  {
   "cell_type": "code",
   "execution_count": 10,
   "metadata": {},
   "outputs": [],
   "source": [
    "mi = [x*pipe_weight_per_unit_length for x in l] # mass of pipe element (submerged), [kg]"
   ]
  },
  {
   "cell_type": "code",
   "execution_count": 11,
   "metadata": {},
   "outputs": [],
   "source": [
    "# for hydrodynamic damping matrix\n",
    "Cd=[0.87, 0.87, 0.87, 1.6] # Drag coefficient\n",
    "# Cd=0.82 # Drag coefficient\n",
    "\n",
    "qw = 1025 # Water density [kg/m3]\n",
    "d0 = 0.7610 # Outer diameter of pipe, [m]\n",
    "dI= 0.69# Inner diameter of pipe, [m]"
   ]
  },
  {
   "cell_type": "code",
   "execution_count": 12,
   "metadata": {},
   "outputs": [],
   "source": [
    "# for vector of spring forces in the pipe joints\n",
    "# K = 1.4*10e11\n",
    "E = 210e9 # modulus of elasticity of steel, [N/m^2]\n",
    "EI = E*3.14/64*(d0**4-dI**4) # Bending stiffness [N*m^2]\n",
    "\n",
    "K = EI#10e7 # depends on the unit bending stiffness of the pipe (EI), \n",
    "       # and the length li, of the link; from the Jensen thesis [N/m]"
   ]
  },
  {
   "cell_type": "code",
   "execution_count": 13,
   "metadata": {},
   "outputs": [
    {
     "data": {
      "text/plain": [
       "1120051921.710554"
      ]
     },
     "execution_count": 13,
     "metadata": {},
     "output_type": "execute_result"
    }
   ],
   "source": [
    "K"
   ]
  },
  {
   "cell_type": "code",
   "execution_count": 14,
   "metadata": {},
   "outputs": [],
   "source": [
    "# for vector of control inputs\n",
    "tau_qn = 250576 # tension in pipe at water level, [N] (check Jee sheets)\n",
    "Fx_ = 1.4e+08 #7.5e7 # 5e7 # [N], from the Jensen thesis\n",
    "# Fy=-100*1000 # [N],"
   ]
  },
  {
   "cell_type": "code",
   "execution_count": 15,
   "metadata": {},
   "outputs": [],
   "source": [
    "# for solution\n",
    "max_t = 600  \n",
    "dt = 0.5\n",
    "t=np.arange(0,max_t,dt)\n",
    "# q0=[45, 0, 20, 0, 15, 0, 5, 0]"
   ]
  },
  {
   "cell_type": "code",
   "execution_count": 16,
   "metadata": {},
   "outputs": [],
   "source": [
    "Awp = 1000 # the waterplane area of the vessel, [m^2]\n",
    "# h=26.3 # water depth, [m]\n",
    "h=700\n",
    "\n",
    "# fip=1e10\n",
    "fip=1e12"
   ]
  },
  {
   "cell_type": "code",
   "execution_count": 17,
   "metadata": {},
   "outputs": [],
   "source": [
    "kp=1.95e4\n",
    "# T = 200 # Measure the period of oscillation, from experiments\n",
    "# kd=0.075*kp*T \n",
    "kd=1.5e4\n",
    "# kd=0.5e8 # change "
   ]
  },
  {
   "cell_type": "markdown",
   "metadata": {},
   "source": [
    "### System inertia matrix "
   ]
  },
  {
   "cell_type": "code",
   "execution_count": 18,
   "metadata": {},
   "outputs": [],
   "source": [
    "def alpha(q):\n",
    "    sum_=0\n",
    "    ans=[]\n",
    "    for i in range(len(q)):\n",
    "        sum_+=q[i]\n",
    "        ans.append(sum_)\n",
    "    return np.array(ans)"
   ]
  },
  {
   "cell_type": "code",
   "execution_count": 19,
   "metadata": {},
   "outputs": [],
   "source": [
    "def Jv(q, i, l):\n",
    "    alp=alpha(q)\n",
    "    def Jv0(i, k, alp, l):\n",
    "        \n",
    "        if k<i:\n",
    "            tmp1=np.dot(np.array(l[k:i]),np.sin(np.radians(alp[k:i])))\n",
    "            tmp1=-tmp1-0.5*l[i]*np.sin(np.radians(alp[i]))\n",
    "            \n",
    "            tmp2 =np.dot(np.array(l[k:i]),np.cos(np.radians(alp[k:i])))\n",
    "            tmp2=tmp2+0.5*l[i]*np.cos(np.radians(alp[i]))\n",
    "                        \n",
    "            return np.array([tmp1, tmp2]).T\n",
    "        elif k==i:\n",
    "            return np.array([-0.5*l[i]*np.sin(np.radians(alp[i])),\n",
    "                    0.5*l[i]*np.cos(np.radians(alp[i]))]).T\n",
    "        else:\n",
    "            return np.array([0, 0]).T                 \n",
    "    \n",
    "    ans=np.array([Jv0(i, k, alp, l) for k in range(len(q))])\n",
    "    \n",
    "    return ans.T"
   ]
  },
  {
   "cell_type": "code",
   "execution_count": 20,
   "metadata": {},
   "outputs": [
    {
     "data": {
      "text/plain": [
       "array([[-311.14808342, -263.21715145, -119.53964925,    0.        ],\n",
       "       [6898.16451361, 4135.58028398, 1376.31846687,    0.        ]])"
      ]
     },
     "execution_count": 20,
     "metadata": {},
     "output_type": "execute_result"
    }
   ],
   "source": [
    "Jv(q, 2, l)"
   ]
  },
  {
   "cell_type": "code",
   "execution_count": 21,
   "metadata": {},
   "outputs": [],
   "source": [
    "def Jomega(i,q):\n",
    "\n",
    "    def Jomega0(i,k):\n",
    "        if k<=i:\n",
    "            return 1\n",
    "        return 0\n",
    "    ans=np.array([Jomega0(i, k) for k in range(len(q))])\n",
    "   \n",
    "    return ans.reshape(len(q),1).T"
   ]
  },
  {
   "cell_type": "code",
   "execution_count": 22,
   "metadata": {},
   "outputs": [],
   "source": [
    "def M(q, l, mn, In, mi):\n",
    "  \n",
    "    \n",
    "    sum1 = mn * np.dot(Jv( q, len(q)-1, l).T, Jv(q, len(q)-1, l))\n",
    "    \n",
    " \n",
    "    sum2 = In * np.dot(Jomega(len(q)-1,q).T, Jomega(len(q)-1,q))\n",
    "    \n",
    "    sum3=0\n",
    "    \n",
    "    for i in range(len(q)-1):\n",
    "        J_v = Jv(q, i, l)\n",
    "        sum3+=mi[i]*np.dot(J_v.T, J_v)\n",
    "      \n",
    "    return sum1 + sum2 + sum3   "
   ]
  },
  {
   "cell_type": "code",
   "execution_count": 23,
   "metadata": {},
   "outputs": [
    {
     "data": {
      "text/plain": [
       "253533324687.5"
      ]
     },
     "execution_count": 23,
     "metadata": {},
     "output_type": "execute_result"
    }
   ],
   "source": [
    "In"
   ]
  },
  {
   "cell_type": "code",
   "execution_count": 24,
   "metadata": {},
   "outputs": [
    {
     "data": {
      "text/plain": [
       "array([[3.02720849e+15, 2.15912818e+15, 1.29225988e+15, 4.29663965e+14],\n",
       "       [2.15912818e+15, 1.54156929e+15, 9.23554020e+14, 3.07343239e+14],\n",
       "       [1.29225988e+15, 9.23554020e+14, 5.54035229e+14, 1.84654279e+14],\n",
       "       [4.29663965e+14, 3.07343239e+14, 1.84654279e+14, 6.17448561e+13]])"
      ]
     },
     "execution_count": 24,
     "metadata": {},
     "output_type": "execute_result"
    }
   ],
   "source": [
    "M(q, l, mn, In, mi)"
   ]
  },
  {
   "cell_type": "markdown",
   "metadata": {},
   "source": [
    "### Coriolis-centripetal matrix"
   ]
  },
  {
   "cell_type": "code",
   "execution_count": 25,
   "metadata": {},
   "outputs": [],
   "source": [
    "# TODO - not sure about this formula \n",
    "def C(q, dq, l, mn, In, mi): #here\n",
    "    ans = np.zeros((len(q),len(q)))              \n",
    "    fun = lambda q: M(q, l, mn, In, mi)\n",
    "    Dfun = nd.Gradient(fun) \n",
    "    \n",
    "    dq1_, dq2_, dq3_, dq4_ = Dfun(q)\n",
    "    diff = np.array([dq1_, dq2_, dq3_, dq4_])\n",
    "    \n",
    "    def c(i,j,k):\n",
    "        return 0.5 *(diff[k].item((i,j))+\n",
    "                     diff[j].item((i,k))-\n",
    "                     diff[i].item((j,k)))\n",
    "    \n",
    "    for i in range(len(q)):\n",
    "        for j in range(len(q)):\n",
    "            for k in range(len(q)):\n",
    "                ans[i][j]+=c(i,j,k)*np.radians(dq[k])\n",
    "    return ans                  "
   ]
  },
  {
   "cell_type": "code",
   "execution_count": 26,
   "metadata": {},
   "outputs": [],
   "source": [
    "dq=[1,1,0.5,1]"
   ]
  },
  {
   "cell_type": "code",
   "execution_count": 27,
   "metadata": {},
   "outputs": [
    {
     "data": {
      "text/plain": [
       "array([[ 5.35255986e-03,  2.17932494e+10,  3.08223034e+10,\n",
       "         1.97267543e+10],\n",
       "       [-4.35864987e+10, -5.85996236e+09,  8.42838240e+09,\n",
       "         9.05239594e+09],\n",
       "       [-6.16446067e+10, -3.04921838e+10, -9.73615886e+09,\n",
       "        -6.50570818e+08],\n",
       "       [-3.94535087e+10, -2.39271692e+10, -1.22836091e+10,\n",
       "        -6.14395000e+09]])"
      ]
     },
     "execution_count": 27,
     "metadata": {},
     "output_type": "execute_result"
    }
   ],
   "source": [
    "C(q, dq, l, mn, In, mi)"
   ]
  },
  {
   "cell_type": "markdown",
   "metadata": {},
   "source": [
    "### Hydrodynamic damping matrix"
   ]
  },
  {
   "cell_type": "code",
   "execution_count": 28,
   "metadata": {},
   "outputs": [],
   "source": [
    "def R_I_Bi(i, alp):\n",
    "    return np.array([[np.cos(np.radians(alp[i])), -np.sin(np.radians(alp[i]))],\n",
    "                    [np.sin(np.radians(alp[i])), np.cos(np.radians(alp[i]))]])"
   ]
  },
  {
   "cell_type": "code",
   "execution_count": 29,
   "metadata": {},
   "outputs": [],
   "source": [
    "alp=alpha(q)"
   ]
  },
  {
   "cell_type": "code",
   "execution_count": 30,
   "metadata": {},
   "outputs": [
    {
     "data": {
      "text/plain": [
       "array([[ 0.99624934, -0.08652888],\n",
       "       [ 0.08652888,  0.99624934]])"
      ]
     },
     "execution_count": 30,
     "metadata": {},
     "output_type": "execute_result"
    }
   ],
   "source": [
    "R_I_Bi(2, alp)"
   ]
  },
  {
   "cell_type": "code",
   "execution_count": 31,
   "metadata": {},
   "outputs": [],
   "source": [
    "I_=np.array([[0,0],\n",
    "             [0,1]])"
   ]
  },
  {
   "cell_type": "code",
   "execution_count": 32,
   "metadata": {},
   "outputs": [],
   "source": [
    "def Pi(i,alp):\n",
    "    return np.dot(np.dot(R_I_Bi(i, alp),I_),R_I_Bi(i, alp).T)"
   ]
  },
  {
   "cell_type": "code",
   "execution_count": 33,
   "metadata": {},
   "outputs": [],
   "source": [
    "# TODO - not sure about this formula \n",
    "def mod_Vn(q, alp, dq):\n",
    "    ans=[]\n",
    "    for j in range(len(q)):\n",
    "        ans.append(np.dot(np.dot(Pi(j,alp),Jv( q,j, l)), np.radians(dq)))\n",
    "    return np.linalg.norm(np.array(ans))"
   ]
  },
  {
   "cell_type": "code",
   "execution_count": 34,
   "metadata": {},
   "outputs": [
    {
     "data": {
      "text/plain": [
       "416.7166853577408"
      ]
     },
     "execution_count": 34,
     "metadata": {},
     "output_type": "execute_result"
    }
   ],
   "source": [
    "mod_Vn(q,alp,dq)"
   ]
  },
  {
   "cell_type": "code",
   "execution_count": 35,
   "metadata": {},
   "outputs": [],
   "source": [
    "# TODO - not sure about this formula \n",
    "def mod_Vni(i,q,alp,dq):\n",
    "    return np.linalg.norm(np.dot(np.dot(Pi(i,alp),Jv( q,i, l)), np.radians(dq)))"
   ]
  },
  {
   "cell_type": "code",
   "execution_count": 36,
   "metadata": {},
   "outputs": [
    {
     "data": {
      "text/plain": [
       "349.0583462872576"
      ]
     },
     "execution_count": 36,
     "metadata": {},
     "output_type": "execute_result"
    }
   ],
   "source": [
    "mod_Vni(len(q)-1,q,alp,dq)"
   ]
  },
  {
   "cell_type": "code",
   "execution_count": 37,
   "metadata": {},
   "outputs": [],
   "source": [
    "def gamma(i):\n",
    "    return 0.5*Cd[i]*qw*d0*l[i]"
   ]
  },
  {
   "cell_type": "code",
   "execution_count": 38,
   "metadata": {},
   "outputs": [],
   "source": [
    "def H(alp,q,dq,l):\n",
    "    ans=np.zeros((len(q), len(q)))\n",
    "    alp=alpha(q)\n",
    "    for j in range(len(q)):\n",
    "        ans+=gamma(j)*mod_Vni(j,q,alp,dq)*np.dot(np.dot(Jv(q,j,l).T,Pi(j,alp)),Jv( q,j, l))\n",
    "    return ans    "
   ]
  },
  {
   "cell_type": "code",
   "execution_count": 39,
   "metadata": {},
   "outputs": [
    {
     "name": "stdout",
     "output_type": "stream",
     "text": [
      "[0.99398403 2.98075607 4.96394727 6.94119423]\n",
      "[0.9939840275055615, 1.986772044151028, 1.9831911966919273, 1.9772469629333669]\n"
     ]
    }
   ],
   "source": [
    "print(alp)\n",
    "print(q)"
   ]
  },
  {
   "cell_type": "code",
   "execution_count": 40,
   "metadata": {},
   "outputs": [
    {
     "data": {
      "text/plain": [
       "array([[3.86925132e+14, 2.76706657e+14, 1.66156380e+14, 5.54074527e+13],\n",
       "       [2.76706657e+14, 1.97884726e+14, 1.18825510e+14, 3.96242315e+13],\n",
       "       [1.66156380e+14, 1.18825510e+14, 7.13521564e+13, 2.37934964e+13],\n",
       "       [5.54074527e+13, 3.96242315e+13, 2.37934964e+13, 7.93431484e+12]])"
      ]
     },
     "execution_count": 40,
     "metadata": {},
     "output_type": "execute_result"
    }
   ],
   "source": [
    "H(alp,q,[0,0,0,0.1],l)"
   ]
  },
  {
   "cell_type": "markdown",
   "metadata": {},
   "source": [
    "### Vector of spring forces in the pipe joints"
   ]
  },
  {
   "cell_type": "code",
   "execution_count": 41,
   "metadata": {},
   "outputs": [],
   "source": [
    "def f(q,k):\n",
    "    ans=np.array([k*q[i] for i in range(len(q))])\n",
    "    return ans.reshape(len(q),1)"
   ]
  },
  {
   "cell_type": "markdown",
   "metadata": {},
   "source": [
    "### Vector of gravitational/buoyancy forces"
   ]
  },
  {
   "cell_type": "code",
   "execution_count": 42,
   "metadata": {},
   "outputs": [
    {
     "data": {
      "text/plain": [
       "[0.9939840275055615, 1.986772044151028, 1.9831911966919273, 1.9772469629333669]"
      ]
     },
     "execution_count": 42,
     "metadata": {},
     "output_type": "execute_result"
    }
   ],
   "source": [
    "q"
   ]
  },
  {
   "cell_type": "code",
   "execution_count": 43,
   "metadata": {},
   "outputs": [],
   "source": [
    "def x(alp,i,l):\n",
    "    tmp1=np.dot(np.array(l[:i]),np.cos(np.radians(alp[:i])))\n",
    "\n",
    "    tmp1+=0.5*l[i]*np.cos(np.radians(alp[i]))\n",
    "    return tmp1"
   ]
  },
  {
   "cell_type": "code",
   "execution_count": 44,
   "metadata": {},
   "outputs": [
    {
     "data": {
      "text/plain": [
       "6898.164513606359"
      ]
     },
     "execution_count": 44,
     "metadata": {},
     "output_type": "execute_result"
    }
   ],
   "source": [
    "x(alp,2,l)"
   ]
  },
  {
   "cell_type": "code",
   "execution_count": 45,
   "metadata": {},
   "outputs": [],
   "source": [
    "def y(alp,i,l):\n",
    "    tmp1=np.dot(np.array(l[:i]),np.sin(np.radians(alp[:i])))\n",
    "#     print(l,alp[i],alp)\n",
    "#     print(math.sin(math.radians(alp[i])))\n",
    "    tmp1+=0.5*l[i]*np.sin(np.radians(alp[i]))\n",
    "    return tmp1"
   ]
  },
  {
   "cell_type": "code",
   "execution_count": 46,
   "metadata": {},
   "outputs": [
    {
     "data": {
      "text/plain": [
       "311.1480834242025"
      ]
     },
     "execution_count": 46,
     "metadata": {},
     "output_type": "execute_result"
    }
   ],
   "source": [
    "y(alp,2,l)"
   ]
  },
  {
   "cell_type": "code",
   "execution_count": 47,
   "metadata": {},
   "outputs": [],
   "source": [
    "G=np.array([0,-9.81]).T\n",
    "\n",
    "def ggi(i,G):\n",
    "    return mi[i]*G\n",
    "   \n",
    "    \n",
    "def gbi(G,l,i):\n",
    "    return -3.14*l[i]*(d0**2/4)*qw*G \n",
    "\n",
    "# not complete formula\n",
    "def gt(alp,fip, i): \n",
    "    return -fip*np.radians(alp[i])\n"
   ]
  },
  {
   "cell_type": "code",
   "execution_count": 48,
   "metadata": {},
   "outputs": [],
   "source": [
    "# TODO understand the commeted part and incorporate it in model \n",
    "def g(q,alp):\n",
    "    sum_=0\n",
    "    for i in range(len(q)-1):\n",
    "        sum_+=np.dot(Jv( q,i, l).T,ggi(i,G)+gbi(G,l,i))\n",
    "#     print(-qw)   \n",
    "#     print(Awp)\n",
    "#     print(y(alp,len(alp)-1,l))\n",
    "#     print(h)\n",
    "#     print(-qw,Awp,y(alp,len(q)-1,l),h)\n",
    "    tmp = -qw*Awp*(y(alp,len(alp)-1,l)-h)*G \n",
    "    sum_ += np.dot(Jv(q,len(q)-1, l).T, tmp)  #- \\\n",
    "#         np.dot(Jomega(len(q)-1).T, gt(q, fip, len(q)-1)).reshape(len(q),) \n",
    "    return sum_.reshape(len(q),1)   "
   ]
  },
  {
   "cell_type": "code",
   "execution_count": 49,
   "metadata": {},
   "outputs": [
    {
     "data": {
      "text/plain": [
       "array([[-9.80321218e+12],\n",
       "       [-7.02914462e+12],\n",
       "       [-4.23074288e+12],\n",
       "       [-1.41145604e+12]])"
      ]
     },
     "execution_count": 49,
     "metadata": {},
     "output_type": "execute_result"
    }
   ],
   "source": [
    "g(q,alp)"
   ]
  },
  {
   "cell_type": "markdown",
   "metadata": {},
   "source": [
    "### Vector of control inputs"
   ]
  },
  {
   "cell_type": "code",
   "execution_count": 50,
   "metadata": {},
   "outputs": [],
   "source": [
    "# Assume that the stinger is shorter than the link length li for any link i\n",
    "def tau_q(q,tau_qn): \n",
    "    ans= np.array([0 for i in range(len(q))]).reshape(len(q),1)\n",
    "    ans[-1] = tau_qn\n",
    "    return ans\n",
    "# tau_q - control forces from the stinger "
   ]
  },
  {
   "cell_type": "code",
   "execution_count": 51,
   "metadata": {},
   "outputs": [],
   "source": [
    "def Fx(q,alp,dq,kp, kd, x_ref = 0):\n",
    "#     print(-kp*(x(q,len(q)-1,l)-x_ref))\n",
    "#     return -kp*(x(q,len(q)-1,l)-x_ref) - kd*np.dot(np.dot(Pi(len(q)-1,q),Jv( q, len(q)-1, l)), np.radians(dq)) \n",
    "    return -kp*(x(alp,len(q)-1,l)-x_ref) - kd*mod_Vn(q,alp,dq)"
   ]
  },
  {
   "cell_type": "code",
   "execution_count": 52,
   "metadata": {},
   "outputs": [
    {
     "data": {
      "text/plain": [
       "-194344972.8231884"
      ]
     },
     "execution_count": 52,
     "metadata": {},
     "output_type": "execute_result"
    }
   ],
   "source": [
    "Fx(q,alp,dq,kp, kd, x_ref = 0)"
   ]
  },
  {
   "cell_type": "code",
   "execution_count": 53,
   "metadata": {},
   "outputs": [],
   "source": [
    "F1=np.array([Fx_,0]).reshape(2,1) # actuates the vessel in the surge direction in frame Bn\n",
    "# F=np.array([0,Fy]).reshape(2,1)\n",
    "def tau_t(q, F):\n",
    "#     print(Jv(q,len(q)-1, l).T)\n",
    "    tmp= np.dot(Jv(q,len(q)-1, l).T, F)\n",
    "    return tmp\n",
    "#     ans=np.zeros((len(q),1))\n",
    "#     ans[-1][0]=tmp[-1][0]\n",
    "#     return  ans # the thruster forces"
   ]
  },
  {
   "cell_type": "code",
   "execution_count": 54,
   "metadata": {},
   "outputs": [
    {
     "data": {
      "text/plain": [
       "array([[-8.36699924e+10],\n",
       "       [-7.69596619e+10],\n",
       "       [-5.68448116e+10],\n",
       "       [-2.33737098e+10]])"
      ]
     },
     "execution_count": 54,
     "metadata": {},
     "output_type": "execute_result"
    }
   ],
   "source": [
    "tau_t(q, F1)"
   ]
  },
  {
   "cell_type": "code",
   "execution_count": 55,
   "metadata": {},
   "outputs": [],
   "source": [
    "tau_q_wave=9e6 # (taken from article on forces to semi-submersible platform),[N]\n",
    "# this function purly my invention\n",
    "# TODO - for improvement see Jensen thesis p. 49\n",
    "def tau_wave(q,alp, tau_q_wave):\n",
    "    Y0=y(alp,0,l)\n",
    "    C=np.exp(y(alp,len(q)-1,l))-np.exp(y(alp,0,l))\n",
    "    ans=[]\n",
    "    for i in range(len(q)):\n",
    "        ans.append([tau_q_wave/C*(np.exp(y(alp,i,l))-np.exp(y(alp,0,l)))])   \n",
    "    return np.array(ans)"
   ]
  },
  {
   "cell_type": "code",
   "execution_count": 56,
   "metadata": {},
   "outputs": [],
   "source": [
    "def tau(q, alp, tau_qn, F, tau_q_wave):\n",
    "#     return tau_q(q,tau_qn) + tau_t(q, F) + tau_wave(q, tau_q_wave)\n",
    "#     return tau_t(q, F) + tau_wave(q, tau_q_wave)\n",
    "#     return  tau_t(q, F)\n",
    "    return tau_t(q, F) + tau_wave(q, alp, tau_q_wave)"
   ]
  },
  {
   "cell_type": "code",
   "execution_count": 57,
   "metadata": {},
   "outputs": [],
   "source": [
    "# f1=C*eh1+b\n",
    "# f2=C*eh2+b\n",
    "\n",
    "# f1=C*(eh1-eh2)\n",
    "# f2=f1/(eh1-eh2)eh2+b\n",
    "# b="
   ]
  },
  {
   "cell_type": "code",
   "execution_count": 58,
   "metadata": {},
   "outputs": [
    {
     "data": {
      "text/plain": [
       "([0.9939840275055615,\n",
       "  1.986772044151028,\n",
       "  1.9831911966919273,\n",
       "  1.9772469629333669],\n",
       " array([0.99398403, 2.98075607, 4.96394727, 6.94119423]))"
      ]
     },
     "execution_count": 58,
     "metadata": {},
     "output_type": "execute_result"
    }
   ],
   "source": [
    "q,alp"
   ]
  },
  {
   "cell_type": "code",
   "execution_count": 59,
   "metadata": {},
   "outputs": [
    {
     "data": {
      "text/plain": [
       "array([[0.00000000e+000],\n",
       "       [2.60965835e-201],\n",
       "       [3.39755801e-118],\n",
       "       [9.00000000e+006]])"
      ]
     },
     "execution_count": 59,
     "metadata": {},
     "output_type": "execute_result"
    }
   ],
   "source": [
    "tau_wave(q,alp, tau_q_wave)"
   ]
  },
  {
   "cell_type": "code",
   "execution_count": 60,
   "metadata": {},
   "outputs": [
    {
     "data": {
      "text/plain": [
       "array([[-8.36699924e+10],\n",
       "       [-7.69596619e+10],\n",
       "       [-5.68448116e+10],\n",
       "       [-2.33647098e+10]])"
      ]
     },
     "execution_count": 60,
     "metadata": {},
     "output_type": "execute_result"
    }
   ],
   "source": [
    "tau(q, alp, tau_qn, F1, tau_q_wave)"
   ]
  },
  {
   "cell_type": "markdown",
   "metadata": {},
   "source": [
    "### Static solution"
   ]
  },
  {
   "cell_type": "code",
   "execution_count": 61,
   "metadata": {},
   "outputs": [],
   "source": [
    "def catenary(x,Ws,Fh):\n",
    "    return (Fh/Ws)*(np.cosh(x*Ws/Fh)-1)"
   ]
  },
  {
   "cell_type": "code",
   "execution_count": 62,
   "metadata": {},
   "outputs": [],
   "source": [
    "Ws = pipe_weight_per_unit_length*9.81 # [N/m]"
   ]
  },
  {
   "cell_type": "code",
   "execution_count": 63,
   "metadata": {},
   "outputs": [],
   "source": [
    "# lift_off_slope = 62#30.6 # from Jee catenary sheet, [deg]"
   ]
  },
  {
   "cell_type": "code",
   "execution_count": 64,
   "metadata": {},
   "outputs": [],
   "source": [
    "# Fx_=250000 # [N]"
   ]
  },
  {
   "cell_type": "code",
   "execution_count": null,
   "metadata": {},
   "outputs": [],
   "source": []
  },
  {
   "cell_type": "code",
   "execution_count": 65,
   "metadata": {},
   "outputs": [],
   "source": [
    "# horizontal_length =(Fx_/Ws)*math.asinh(np.tan(np.radians(lift_off_slope)))\n",
    "\n",
    "# below from Jensen thesis \n",
    "\n",
    "# Fx_=52347339\n",
    "# a0=Fx_/(Ws*h)\n",
    "# a1=math.sqrt(2*a0+1)/a0\n",
    "\n",
    "# horizontal_length=h*np.log((a1+math.sqrt(a1**2+1))**a1)"
   ]
  },
  {
   "cell_type": "code",
   "execution_count": 66,
   "metadata": {},
   "outputs": [],
   "source": [
    "# http://abc-moorings.weebly.com/catenary-calculator.html"
   ]
  },
  {
   "cell_type": "code",
   "execution_count": 67,
   "metadata": {},
   "outputs": [],
   "source": [
    "Fx_0=82945396"
   ]
  },
  {
   "cell_type": "code",
   "execution_count": 68,
   "metadata": {},
   "outputs": [],
   "source": [
    "S=math.sqrt(h*(2*Fx_0/Ws -h))\n",
    "horizontal_length=(Fx_0/Ws -h)*np.log((S+Fx_0/Ws)/(Fx_0/Ws-h))"
   ]
  },
  {
   "cell_type": "code",
   "execution_count": 69,
   "metadata": {},
   "outputs": [
    {
     "data": {
      "text/plain": [
       "11052.68484446162"
      ]
     },
     "execution_count": 69,
     "metadata": {},
     "output_type": "execute_result"
    }
   ],
   "source": [
    "horizontal_length"
   ]
  },
  {
   "cell_type": "code",
   "execution_count": 70,
   "metadata": {},
   "outputs": [],
   "source": [
    "number_of_elements=4"
   ]
  },
  {
   "cell_type": "code",
   "execution_count": 71,
   "metadata": {},
   "outputs": [],
   "source": [
    "delta_x=horizontal_length/number_of_elements"
   ]
  },
  {
   "cell_type": "code",
   "execution_count": 72,
   "metadata": {},
   "outputs": [],
   "source": [
    "x0=[i*delta_x for i in range(number_of_elements+1)]\n",
    "y0=[]\n",
    "for i in range(len(x0)):\n",
    "    y0.append(catenary(x0[i],Ws,Fx_))"
   ]
  },
  {
   "cell_type": "code",
   "execution_count": 73,
   "metadata": {},
   "outputs": [
    {
     "data": {
      "text/plain": [
       "[0.0,\n",
       " 2763.171211115405,\n",
       " 5526.34242223081,\n",
       " 8289.513633346216,\n",
       " 11052.68484446162]"
      ]
     },
     "execution_count": 73,
     "metadata": {},
     "output_type": "execute_result"
    }
   ],
   "source": [
    "x0"
   ]
  },
  {
   "cell_type": "code",
   "execution_count": 74,
   "metadata": {},
   "outputs": [],
   "source": [
    "q=[]\n",
    "l_=[]\n",
    "deg_=[0]\n",
    "\n",
    "for i in range(len(x0)-1):\n",
    "    l_.append(np.sqrt((x0[i+1]-x0[i])**2+(y0[i+1]-y0[i])**2))\n",
    "    deg =np.degrees(math.atan((y0[i+1]-y0[i])/(x0[i+1]-x0[i])))\n",
    "    q.append(deg-deg_[-1]) \n",
    "    deg_.append(deg)\n"
   ]
  },
  {
   "cell_type": "code",
   "execution_count": 75,
   "metadata": {},
   "outputs": [],
   "source": [
    "alp_=alpha(q)"
   ]
  },
  {
   "cell_type": "code",
   "execution_count": 76,
   "metadata": {},
   "outputs": [
    {
     "data": {
      "text/plain": [
       "[0.5324914472404209,\n",
       " 1.0647989485770295,\n",
       " 1.0642474284519123,\n",
       " 1.0633292855171863]"
      ]
     },
     "execution_count": 76,
     "metadata": {},
     "output_type": "execute_result"
    }
   ],
   "source": [
    "q"
   ]
  },
  {
   "cell_type": "code",
   "execution_count": 77,
   "metadata": {},
   "outputs": [
    {
     "data": {
      "text/plain": [
       "[2763.290547654398, 2764.2453018073493, 2766.1551399557356, 2769.0207218985934]"
      ]
     },
     "execution_count": 77,
     "metadata": {},
     "output_type": "execute_result"
    }
   ],
   "source": [
    "l_"
   ]
  },
  {
   "cell_type": "code",
   "execution_count": 78,
   "metadata": {
    "scrolled": true
   },
   "outputs": [
    {
     "data": {
      "image/png": "[encoded data removed]",
      "text/plain": [
       "<Figure size 432x288 with 1 Axes>"
      ]
     },
     "metadata": {
      "needs_background": "light"
     },
     "output_type": "display_data"
    }
   ],
   "source": [
    "plt.plot(x0, y0)\n",
    "plt.plot(x(alp_,0,l_),y(alp_,0,l_), 'o', color='black')\n",
    "plt.plot(x(alp_,1,l_),y(alp_,1,l_), 'o', color='black')\n",
    "plt.plot(x(alp_,2,l_),y(alp_,2,l_), 'o', color='black')\n",
    "plt.plot(x(alp_,3,l_),y(alp_,3,l_), 'o', color='black')\n",
    "plt.show()"
   ]
  },
  {
   "cell_type": "code",
   "execution_count": 79,
   "metadata": {},
   "outputs": [],
   "source": [
    "q0=[]\n",
    "for i in range(len(q)):\n",
    "    q0.append(q[i])\n",
    "    q0.append(0)"
   ]
  },
  {
   "cell_type": "code",
   "execution_count": 80,
   "metadata": {},
   "outputs": [
    {
     "data": {
      "text/plain": [
       "[0.5324914472404209,\n",
       " 0,\n",
       " 1.0647989485770295,\n",
       " 0,\n",
       " 1.0642474284519123,\n",
       " 0,\n",
       " 1.0633292855171863,\n",
       " 0]"
      ]
     },
     "execution_count": 80,
     "metadata": {},
     "output_type": "execute_result"
    }
   ],
   "source": [
    "q0"
   ]
  },
  {
   "cell_type": "code",
   "execution_count": 81,
   "metadata": {},
   "outputs": [
    {
     "data": {
      "text/plain": [
       "([0.5324914472404209,\n",
       "  1.0647989485770295,\n",
       "  1.0642474284519123,\n",
       "  1.0633292855171863],\n",
       " [1, 1, 0.5, 1],\n",
       " 19500.0)"
      ]
     },
     "execution_count": 81,
     "metadata": {},
     "output_type": "execute_result"
    }
   ],
   "source": [
    "q,dq,kp"
   ]
  },
  {
   "cell_type": "code",
   "execution_count": 82,
   "metadata": {},
   "outputs": [],
   "source": [
    "alp_=alpha(q)"
   ]
  },
  {
   "cell_type": "code",
   "execution_count": 83,
   "metadata": {},
   "outputs": [],
   "source": [
    "F_=np.array([-Fx(q,alp_,dq,kp, 0, x_ref = 0),0]).reshape(2,1)"
   ]
  },
  {
   "cell_type": "code",
   "execution_count": 84,
   "metadata": {},
   "outputs": [
    {
     "data": {
      "text/plain": [
       "array([[1.88436459e+08],\n",
       "       [0.00000000e+00]])"
      ]
     },
     "execution_count": 84,
     "metadata": {},
     "output_type": "execute_result"
    }
   ],
   "source": [
    "F_"
   ]
  },
  {
   "cell_type": "code",
   "execution_count": 85,
   "metadata": {},
   "outputs": [],
   "source": [
    "def static_func(q):\n",
    "    alp=alpha(q)\n",
    "    ans=  f(q, K) + g(q,alp) - tau(q,alp, tau_qn, F_, 0)\n",
    "    return ans.reshape((len(q),))"
   ]
  },
  {
   "cell_type": "code",
   "execution_count": 86,
   "metadata": {},
   "outputs": [],
   "source": [
    "root = fsolve(static_func, np.array(q))"
   ]
  },
  {
   "cell_type": "code",
   "execution_count": 87,
   "metadata": {},
   "outputs": [
    {
     "data": {
      "text/plain": [
       "array([0.73313185, 2.7956858 , 2.83780397, 1.35186778])"
      ]
     },
     "execution_count": 87,
     "metadata": {},
     "output_type": "execute_result"
    }
   ],
   "source": [
    "root"
   ]
  },
  {
   "cell_type": "code",
   "execution_count": 88,
   "metadata": {},
   "outputs": [],
   "source": [
    "q=list(root)"
   ]
  },
  {
   "cell_type": "code",
   "execution_count": 89,
   "metadata": {},
   "outputs": [],
   "source": [
    "q0=[]\n",
    "for i in range(len(q)):\n",
    "    q0.append(q[i])\n",
    "    q0.append(0)"
   ]
  },
  {
   "cell_type": "code",
   "execution_count": 90,
   "metadata": {},
   "outputs": [],
   "source": [
    "alp_=alpha(root)"
   ]
  },
  {
   "cell_type": "code",
   "execution_count": 91,
   "metadata": {},
   "outputs": [
    {
     "data": {
      "text/plain": [
       "array([0.73313185, 3.52881765, 6.36662161, 7.71848939])"
      ]
     },
     "execution_count": 91,
     "metadata": {},
     "output_type": "execute_result"
    }
   ],
   "source": [
    "alp_"
   ]
  },
  {
   "cell_type": "code",
   "execution_count": 92,
   "metadata": {},
   "outputs": [
    {
     "data": {
      "image/png": "[encoded data removed]",
      "text/plain": [
       "<Figure size 432x288 with 1 Axes>"
      ]
     },
     "metadata": {
      "needs_background": "light"
     },
     "output_type": "display_data"
    }
   ],
   "source": [
    "plt.plot(x(alp_,0,l),y(alp_,0,l), 'o', color='black')\n",
    "plt.plot(x(alp_,1,l),y(alp_,1,l), 'o', color='black')\n",
    "plt.plot(x(alp_,2,l),y(alp_,2,l), 'o', color='black')\n",
    "plt.plot(x(alp_,3,l),y(alp_,3,l), 'o', color='black')\n",
    "plt.show()"
   ]
  },
  {
   "cell_type": "code",
   "execution_count": 93,
   "metadata": {},
   "outputs": [
    {
     "data": {
      "text/plain": [
       "[0.7331318501868566, 2.7956857962718002, 2.837803967849071, 1.3518677796322582]"
      ]
     },
     "execution_count": 93,
     "metadata": {},
     "output_type": "execute_result"
    }
   ],
   "source": [
    "q"
   ]
  },
  {
   "cell_type": "code",
   "execution_count": 94,
   "metadata": {},
   "outputs": [
    {
     "data": {
      "text/plain": [
       "[0.7331318501868566,\n",
       " 0,\n",
       " 2.7956857962718002,\n",
       " 0,\n",
       " 2.837803967849071,\n",
       " 0,\n",
       " 1.3518677796322582,\n",
       " 0]"
      ]
     },
     "execution_count": 94,
     "metadata": {},
     "output_type": "execute_result"
    }
   ],
   "source": [
    "q0"
   ]
  },
  {
   "cell_type": "code",
   "execution_count": 95,
   "metadata": {},
   "outputs": [
    {
     "name": "stdout",
     "output_type": "stream",
     "text": [
      "0:00:00.001432\n"
     ]
    }
   ],
   "source": [
    "startTime = datetime.now()\n",
    "\n",
    "add1=functools.partial(Jv, i=len(q)-1, l=l)\n",
    "add1__Jv = np.array(list(map(add1, [q])))\n",
    "\n",
    "add5=functools.partial(f, k=K)\n",
    "add5__f =np.array(list(map(add5, [q])))\n",
    "\n",
    "add6=functools.partial(g,alp=alp_)\n",
    "add6__g =np.array(list(map(add6, [q])))\n",
    "\n",
    "print(datetime.now() - startTime)"
   ]
  },
  {
   "cell_type": "code",
   "execution_count": 96,
   "metadata": {},
   "outputs": [],
   "source": [
    "tmp__1=pinv(add1__Jv.transpose(0, 2, 1))\n",
    "tmp__2= add5__f + add6__g"
   ]
  },
  {
   "cell_type": "code",
   "execution_count": 97,
   "metadata": {},
   "outputs": [],
   "source": [
    "tmp__=np.matmul(tmp__1, tmp__2)"
   ]
  },
  {
   "cell_type": "code",
   "execution_count": 98,
   "metadata": {},
   "outputs": [],
   "source": [
    "dim1=int(max_t/dt)\n",
    "dim2=dim1-1"
   ]
  },
  {
   "cell_type": "code",
   "execution_count": 99,
   "metadata": {},
   "outputs": [
    {
     "data": {
      "image/png": "[encoded data removed]",
      "text/plain": [
       "<Figure size 432x288 with 1 Axes>"
      ]
     },
     "metadata": {
      "needs_background": "light"
     },
     "output_type": "display_data"
    }
   ],
   "source": [
    "plt.plot(t[:len(tmp__)],tmp__[:,0],'o', color='red')\n",
    "plt.xlim([-1, dim1//2])\n",
    "plt.ylim([-1000000000, 1000000000])\n",
    "plt.xlabel('t')\n",
    "plt.ylabel('T_H')\n",
    "plt.show()"
   ]
  },
  {
   "cell_type": "code",
   "execution_count": 100,
   "metadata": {},
   "outputs": [
    {
     "data": {
      "image/png": "[encoded data removed]",
      "text/plain": [
       "<Figure size 432x288 with 1 Axes>"
      ]
     },
     "metadata": {
      "needs_background": "light"
     },
     "output_type": "display_data"
    }
   ],
   "source": [
    "plt.plot(t[:len(tmp__)],tmp__[:,1],'o', color='red')\n",
    "plt.xlim([-1, dim1//2])\n",
    "plt.ylim([-100000000, 100000000])\n",
    "plt.xlabel('t')\n",
    "plt.ylabel('T_V')\n",
    "plt.show()"
   ]
  },
  {
   "cell_type": "code",
   "execution_count": 101,
   "metadata": {},
   "outputs": [
    {
     "data": {
      "text/plain": [
       "(array([1.88436459e+08]), array([1.12522393e-05]))"
      ]
     },
     "execution_count": 101,
     "metadata": {},
     "output_type": "execute_result"
    }
   ],
   "source": [
    "max(tmp__[:,0]), max(tmp__[:,1])"
   ]
  },
  {
   "cell_type": "markdown",
   "metadata": {},
   "source": [
    "### Dynamic solution "
   ]
  },
  {
   "cell_type": "code",
   "execution_count": 102,
   "metadata": {},
   "outputs": [],
   "source": [
    "from scipy.linalg import lu_factor, lu_solve"
   ]
  },
  {
   "cell_type": "code",
   "execution_count": 115,
   "metadata": {},
   "outputs": [],
   "source": [
    "def manipulator(Q, t, q):\n",
    "    print(t)\n",
    "    q0,dq0,q1,dq1,q2,dq2,q3,dq3 = Q\n",
    "    QI=np.array([q0,q1,q2,q3]).reshape(len(q),1)\n",
    "    dQ=np.array([dq0,dq1,dq2,dq3]).reshape(len(q),1)\n",
    "    \n",
    "    QI= QI.flatten().tolist()\n",
    "    \n",
    "    alp=alpha(QI)\n",
    "#     print(alp)\n",
    "    \n",
    "#     F0=-Fx(QI,alp,dQ, kp, kd, x_ref = 0)\n",
    "    \n",
    "#     if 100<t<120:\n",
    "#         F=np.array([F0+1e6/120*t, 0]).reshape(2,1)\n",
    "#     elif 120<t<150:\n",
    "#         F=np.array([F0+1e6, 0]).reshape(2,1)\n",
    "#     elif 150<t<170:\n",
    "#         F=np.array([F0+1e6-1e6/170*t, 0]).reshape(2,1)\n",
    "#     else:\n",
    "#         F=np.array([F0, 0]).reshape(2,1)\n",
    "\n",
    "#     if 40<t<60:\n",
    "#         F=np.array([Fx_+1e6/60*t, 0]).reshape(2,1)\n",
    "#     elif 60<t<80:\n",
    "#         F=np.array([Fx_+1e6, 0]).reshape(2,1)\n",
    "#     elif 80<t<100:\n",
    "#         F=np.array([Fx_+1e6-1e6/100*t, 0]).reshape(2,1)\n",
    "#     elif t>100:\n",
    "#         F0=-Fx(QI,alp,dQ, kp, kd, x_ref = 0)\n",
    "#         F=np.array([F0, 0]).reshape(2,1)\n",
    "#     else:\n",
    "#         F=np.array([Fx_, 0]).reshape(2,1)\n",
    "        \n",
    "        \n",
    "#     if 100<t:\n",
    "#         F=np.array([-Fx(QI,alp, dQ, kp, kd, x_ref = 0),0]).reshape(2,1)\n",
    "#     else:\n",
    "#         F=np.array([Fx_,0]).reshape(2,1) \n",
    "\n",
    "#     if 100<t<130:\n",
    "#         F=np.array([-Fx(QI, alp, dQ, kp, 0, x_ref = 0),0]).reshape(2,1)\n",
    "#     elif t>130:\n",
    "#         F=np.array([-Fx(QI, alp, dQ, kp, kd, x_ref = 0),0]).reshape(2,1)\n",
    "#     else:\n",
    "#         F=np.array([Fx_,0]).reshape(2,1)\n",
    "\n",
    "    if t>100:\n",
    "        F=np.array([-Fx(QI, alp, dQ, kp, kd, x_ref = 0),0]).reshape(2,1)\n",
    "        print(F)\n",
    "    else:\n",
    "        F=np.array([Fx_,0]).reshape(2,1)\n",
    "   \n",
    "    C0= (- np.dot(H(alp,QI,dQ,l), np.radians(dQ)).reshape(len(QI),1)\n",
    "                        - np.dot(C(QI,dQ, l, mn, In, mi), np.radians(dQ)).reshape(len(QI),1)  \n",
    "                        - f(QI, K) \n",
    "                        - g(QI,alp)\n",
    "                        + tau(QI,alp, tau_qn, F, tau_q_wave))\n",
    "#     print('M',M(QI, l, mn, In, mi))\n",
    "#     print('C0',C0)\n",
    "#     print(tau(QI,alp, tau_qn, F, tau_q_wave))\n",
    "    ddq0,ddq1,ddq2,ddq3 = np.linalg.lstsq(M(QI, l, mn, In, mi),C0, rcond=None)[0]\n",
    "#     print(QI)\n",
    "    print(dq0, ddq0, dq1, ddq1, dq2, ddq2, dq3, ddq3)\n",
    "#     print()\n",
    "\n",
    "    return [dq0, ddq0, dq1, ddq1, dq2, ddq2, dq3, ddq3]"
   ]
  },
  {
   "cell_type": "code",
   "execution_count": 116,
   "metadata": {},
   "outputs": [
    {
     "data": {
      "text/plain": [
       "array([0.000e+00, 5.000e-01, 1.000e+00, ..., 5.985e+02, 5.990e+02,\n",
       "       5.995e+02])"
      ]
     },
     "execution_count": 116,
     "metadata": {},
     "output_type": "execute_result"
    }
   ],
   "source": [
    "t"
   ]
  },
  {
   "cell_type": "code",
   "execution_count": 117,
   "metadata": {},
   "outputs": [
    {
     "data": {
      "text/plain": [
       "187892040.0"
      ]
     },
     "execution_count": 117,
     "metadata": {},
     "output_type": "execute_result"
    }
   ],
   "source": [
    "1.8789204e+08"
   ]
  },
  {
   "cell_type": "code",
   "execution_count": 118,
   "metadata": {},
   "outputs": [
    {
     "name": "stdout",
     "output_type": "stream",
     "text": [
      "0.0\n",
      "0.0 [-0.00246002] 0.0 [0.00274092] 0.0 [0.00148141] 0.0 [-0.0008203]\n",
      "6.103517840798289e-05\n",
      "-1.501479289726749e-07 [-0.00246002] 1.6729262626030877e-07 [0.00274092] 9.041802157270824e-08 [0.00148141] -5.0066912636519484e-08 [-0.0008203]\n",
      "6.103517840798289e-05\n",
      "-1.501479289712016e-07 [-0.00246002] 1.6729262625965523e-07 [0.00274092] 9.041802156894077e-08 [0.00148141] -5.006691263224394e-08 [-0.0008203]\n",
      "0.00012207035681596577\n",
      "-3.0029585793227476e-07 [-0.00246002] 3.3458525249826625e-07 [0.00274092] 1.8083604314544362e-07 [0.00148141] -1.0013382525302208e-07 [-0.0008203]\n",
      "0.00012207035681596577\n",
      "-3.002958579233852e-07 [-0.00246002] 3.345852524875277e-07 [0.00274092] 1.8083604313605987e-07 [0.00148141] -1.0013382523343367e-07 [-0.0008203]\n",
      "0.09847834247449631\n",
      "-0.0002422589474429203 [-0.00245986] 0.0002699213686373633 [0.00274069] 0.00014588662884565132 [0.00148131] -8.078135716904418e-05 [-0.00081998]\n",
      "0.09847834247449631\n",
      "-0.0002422508503015496 [-0.00245986] 0.000269909789358707 [0.00274069] 0.0001458819071454315 [0.00148131] -8.076602524881396e-05 [-0.00081998]\n",
      "0.19683461459217666\n",
      "-0.000484185175851109 [-0.00245936] 0.0005394617826548269 [0.00273998] 0.00029157351959910294 [0.00148102] -0.00016140118840923687 [-0.00081905]\n",
      "0.19683461459217666\n",
      "-0.0004841689886382277 [-0.00245936] 0.0005394386312182571 [0.00273998] 0.0002915640867745623 [0.00148102] -0.00016137054247449787 [-0.00081905]\n",
      "0.295190886709857\n",
      "-0.0007260385284531258 [-0.00245854] 0.0008088979659226223 [0.0027388] 0.00043721794760154947 [0.00148054] -0.00024188305514385856 [-0.00081749]\n",
      "0.295190886709857\n",
      "-0.0007260223498693045 [-0.00245854] 0.0008088748268863507 [0.0027388] 0.00043720852151855124 [0.00148054] -0.00024185243107884225 [-0.00081749]\n",
      "0.5366803942642357\n",
      "-0.0013194102945866852 [-0.00245513] 0.0014698035296282143 [0.00273392] 0.0007945558769192577 [0.00147856] -0.0004386547856673604 [-0.00081103]\n",
      "0.5366803942642357\n",
      "-0.0013193698579119346 [-0.00245513] 0.001469745702702721 [0.00273392] 0.0007945323313379615 [0.00147856] -0.0004385783214820127 [-0.00081103]\n",
      "0.7781699018186145\n",
      "-0.0019116051223830206 [-0.00244974] 0.002129025775703372 [0.00272622] 0.001151208522191019 [0.00147542] -0.0006331998813053236 [-0.00080084]\n",
      "0.7781699018186145\n",
      "-0.0019116465698685418 [-0.00244974] 0.0021290850614412464 [0.00272622] 0.0011512328258887906 [0.00147542] -0.0006332788439515015 [-0.00080085]\n",
      "1.0196594093729932\n",
      "-0.002502384391482832 [-0.00244239] 0.002786223314607506 [0.00271571] 0.001507038431018069 [0.00147115] -0.0008250708968947132 [-0.00078697]\n",
      "1.0196594093729932\n",
      "-0.0025023856276424356 [-0.00244239] 0.0027862250950302578 [0.00271571] 0.001507039376066383 [0.00147115] -0.0008250739880024361 [-0.00078697]\n",
      "1.2611489169273717\n",
      "-0.0030911141151011073 [-0.00243311] 0.003440489339759412 [0.00270242] 0.0018616782597656641 [0.00146577] -0.0010130736542227768 [-0.00076946]\n",
      "1.2611489169273717\n",
      "-0.003091115844521381 [-0.00243311] 0.00344049179911377 [0.00270242] 0.0018616797355642675 [0.00146577] -0.0010130782821094202 [-0.00076946]\n",
      "1.732977456986128\n",
      "-0.004233815344539994 [-0.00240944] 0.004707976946618497 [0.00266857] 0.002550196083456645 [0.00145208] -0.0013661333428571201 [-0.00072496]\n",
      "1.732977456986128\n",
      "-0.00423382667638206 [-0.00240944] 0.004707993162270669 [0.00266857] 0.0025502052471482353 [0.00145209] -0.0013661626530329784 [-0.00072497]\n",
      "2.2048059970448843\n",
      "-0.005363676691187603 [-0.00237866] 0.005957095974174324 [0.00262453] 0.00323132049967188 [0.00143441] -0.0016951311587438172 [-0.00066742]\n",
      "2.2048059970448843\n",
      "-0.0053636834278070755 [-0.00237866] 0.005957105432673506 [0.00262453] 0.003231326823280458 [0.00143441] -0.0016951503032789925 [-0.00066741]\n",
      "2.6766345371036406\n",
      "-0.006477383145261434 [-0.00234103] 0.0071831011559928565 [0.00257069] 0.0039031997292427066 [0.00141297] -0.001994013850505505 [-0.00059753]\n",
      "2.6766345371036406\n",
      "-0.00647739007523639 [-0.00234103] 0.007183110808201515 [0.00257069] 0.003903206629779555 [0.00141297] -0.0019940343420660795 [-0.00059752]\n",
      "3.148463077162397\n",
      "-0.007571782153112383 [-0.00229689] 0.008381476567949372 [0.00250751] 0.0045641292188062805 [0.00138806] -0.002257180266985593 [-0.00051621]\n",
      "3.148463077162397\n",
      "-0.007571791869343834 [-0.00229689] 0.008381490256408297 [0.00250751] 0.004564138102107302 [0.00138806] -0.002257207400257876 [-0.0005162]\n",
      "3.6202916172211532\n",
      "-0.008643891449272662 [-0.0022466] 0.00954794758852942 [0.00243553] 0.005212554775369967 [0.00136001] -0.0024794957839219815 [-0.0004245]\n",
      "3.6202916172211532\n",
      "-0.008643900193635269 [-0.0022466] 0.009547959884167713 [0.00243553] 0.005212562964158753 [0.00136001] -0.0024795206673355443 [-0.0004245]\n",
      "4.299482944898714\n",
      "-0.010142429073713606 [-0.00216428] 0.011162995705432336 [0.00231764] 0.006121223892649558 [0.00131491] -0.002718537388144457 [-0.00027662]\n",
      "4.299482944898714\n",
      "-0.010142449316248013 [-0.00216428] 0.011163024058021756 [0.00231764] 0.006121243363388945 [0.0013149] -0.0027185959811021664 [-0.00027661]\n",
      "4.978674272576275\n",
      "-0.01158144589112905 [-0.00207146] 0.012692789544379537 [0.00218467] 0.006997692765080461 [0.00126531] -0.00285181057097103 [-0.00011341]\n",
      "4.978674272576275\n",
      "-0.011581438044811161 [-0.00207146] 0.012692778534762935 [0.00218467] 0.006997685744646357 [0.00126531] -0.0028517893432501436 [-0.00011341]\n",
      "5.657865600253836\n",
      "-0.01295428052493711 [-0.00196964] 0.014127742767924962 [0.00203871] 0.007839324929645031 [0.00121254] -0.002870191567895314 [6.10285908e-05]\n",
      "5.657865600253836\n",
      "-0.012954244927453578 [-0.00196964] 0.014127692823043062 [0.00203871] 0.00783929159275395 [0.00121254] -0.0028700908141520293 [6.10211511e-05]\n",
      "6.337056927931397\n",
      "-0.014255281484757663 [-0.00186034] 0.0154597025330213 [0.00188196] 0.008644380868221526 [0.00115796] -0.0027673513769558705 [0.00024242]\n",
      "6.337056927931397\n",
      "-0.014255269022824311 [-0.00186034] 0.015459685341271978 [0.00188196] 0.008644368421909698 [0.00115796] -0.0027673152424481894 [0.00024242]\n",
      "7.016248255608958\n",
      "-0.01547997359569767 [-0.00174513] 0.016682191001946144 [0.00171664] 0.009412153502568974 [0.00110292] -0.002540205743115445 [0.00042653]\n",
      "7.016248255608958\n",
      "-0.015479963402806383 [-0.00174513] 0.016682177441198317 [0.00171664] 0.009412141527729434 [0.00110292] -0.0025401733052538627 [0.00042653]\n",
      "7.695439583286519\n",
      "-0.016624845348442312 [-0.00162555] 0.017790112256613824 [0.00154496] 0.010142752498307955 [0.00104871] -0.002188289979393182 [0.00060915]\n",
      "7.695439583286519\n",
      "-0.016624836135729865 [-0.00162555] 0.017790099657900654 [0.00154496] 0.010142742632842698 [0.00104871] -0.002188261823272876 [0.00060915]\n",
      "8.511523768398762\n",
      "-0.017891494312359556 [-0.00147817] 0.018964849396104013 [0.00133328] 0.010972899557180386 [0.00098638] -0.001603980697752274 [0.00082103]\n",
      "8.511523768398762\n",
      "-0.017891479976842588 [-0.00147817] 0.018964831202552254 [0.00133328] 0.010972879248790967 [0.00098638] -0.001603929062851423 [0.00082102]\n",
      "9.327607953511004\n",
      "-0.01903700180853054 [-0.00132904] 0.019965582582006647 [0.00111908] 0.011754019118849136 [0.00092883] -0.0008521426216683418 [0.00101875]\n",
      "9.327607953511004\n",
      "-0.0190369804927655 [-0.00132905] 0.01996555548155386 [0.00111908] 0.011753988412061538 [0.00092884] -0.000852064068407113 [0.00101874]\n",
      "10.143692138623246\n",
      "-0.02006084943887357 [-0.0011804] 0.020791592197449735 [0.00090566] 0.012490627187397128 [0.00087755] 5.343192346640962e-05 [0.00119685]\n",
      "10.143692138623246\n",
      "-0.020060836115887142 [-0.0011804] 0.020791576336274955 [0.00090566] 0.012490603477727511 [0.00087756] 5.348919690401751e-05 [0.00119684]\n",
      "10.959776323735488\n",
      "-0.02096426823607196 [-0.00103421] 0.02144479097071269 [0.00069604] 0.013188322243741776 [0.0008336] 0.0010947781057004389 [0.00135085]\n",
      "10.959776323735488\n",
      "-0.020964259551996198 [-0.00103421] 0.021444781418587532 [0.00069604] 0.013188303085776952 [0.00083361] 0.0010948226301260016 [0.00135084]\n",
      "11.77586050884773\n",
      "-0.02174997939719009 [-0.0008922] 0.021929406797999876 [0.00049294] 0.013853370903462411 [0.00079761] 0.00225077443132342 [0.00147734]\n",
      "11.77586050884773\n",
      "-0.021749975448811572 [-0.00089219] 0.021929403094214223 [0.00049294] 0.01385335856882778 [0.00079762] 0.0022508023706306504 [0.00147733]\n",
      "12.591944693959972\n",
      "-0.02242201105143488 [-0.00075583] 0.02225176955988778 [0.00029878] 0.01449236935848002 [0.00076974] 0.003497943130411991 [0.00157401]\n",
      "12.591944693959972\n"
     ]
    },
    {
     "name": "stdout",
     "output_type": "stream",
     "text": [
      "-0.022422010906311844 [-0.00075583] 0.022251770511419588 [0.00029877] 0.014492362779678367 [0.00076975] 0.0034979571300395506 [0.001574]\n",
      "13.408028879072214\n",
      "-0.022985486757358575 [-0.00062634] 0.02242006212071818 [0.00011568] 0.015111856186522098 [0.00074971] 0.004811377919757458 [0.00163963]\n",
      "13.408028879072214\n",
      "-0.02298548934175422 [-0.00062633] 0.0224200656752121 [0.00011568] 0.015111856283137003 [0.00074972] 0.004811377971768397 [0.00163962]\n",
      "14.224113064184456\n",
      "-0.02344642879589572 [-0.00050469] 0.02244408180760176 [-5.45129854e-05] 0.01571796532627331 [0.0007368] 0.0061656024619934505 [0.00167403]\n",
      "14.224113064184456\n",
      "-0.02344643319770777 [-0.00050469] 0.02244408671364228 [-5.45184845e-05] 0.01571797132427344 [0.00073681] 0.006165590765327686 [0.00167402]\n",
      "15.040197249296698\n",
      "-0.02381157444801877 [-0.00039167] 0.02233501669041774 [-0.00021024] 0.016316096257504777 [0.00072995] 0.007535394143579694 [0.00167799]\n",
      "15.040197249296698\n",
      "-0.023811579774888417 [-0.00039167] 0.022335021545132894 [-0.00021024] 0.016316107876300844 [0.00072996] 0.007535372312305547 [0.00167798]\n",
      "16.017374140430462\n",
      "-0.024133006861383623 [-0.00026848] 0.022046734886018736 [-0.00037585] 0.017027863079476048 [0.00072774] 0.009162199421558341 [0.001645]\n",
      "16.017374140430462\n",
      "-0.024133016526879922 [-0.00026847] 0.022046741945678454 [-0.00037586] 0.017027890895913517 [0.00072775] 0.009162148347579606 [0.00164498]\n",
      "16.994551031564228\n",
      "-0.024340771975535597 [-0.00015909] 0.021608407297541352 [-0.0005171] 0.017739642206016402 [0.00072943] 0.010738150665324757 [0.00157477]\n",
      "16.994551031564228\n",
      "-0.02434077532594714 [-0.00015909] 0.02160840670514458 [-0.00051711] 0.017739663191878037 [0.00072943] 0.010738114127742202 [0.00157477]\n",
      "17.971727922697994\n",
      "-0.024448543554852886 [-6.38204356e-05] 0.02104448598452693 [-0.00063278] 0.018453754201108636 [0.00073198] 0.01222933918283959 [0.00147251]\n",
      "17.971727922697994\n",
      "-0.024448531763613137 [-6.38238032e-05] 0.02104447006139996 [-0.00063276] 0.018453745820916485 [0.00073196] 0.012229361389678778 [0.00147253]\n",
      "18.94890481383176\n",
      "-0.024470118805902413 [1.73123875e-05] 0.020380333538052065 [-0.00072215] 0.01916943779093131 [0.00073224] 0.013607428177844622 [0.00134413]\n",
      "18.94890481383176\n",
      "-0.024470114162380253 [1.7310274e-05] 0.020380327730235893 [-0.00072214] 0.01916943390753386 [0.00073223] 0.01360743635625484 [0.00134415]\n",
      "19.926081704965526\n",
      "-0.024419224622816434 [8.45762597e-05] 0.019641771978355968 [-0.0007851] 0.019883093986473217 [0.00072735] 0.014849824537496017 [0.00119587]\n",
      "19.926081704965526\n",
      "-0.024419222159848715 [8.45747123e-05] 0.01964176819331046 [-0.0007851] 0.019883094449042613 [0.00072734] 0.014849824830257437 [0.00119588]\n",
      "20.903258596099292\n",
      "-0.024309182263271573 [0.00013848] 0.01885444867572216 [-0.00082206] 0.020588399230988496 [0.00071474] 0.015940167293350568 [0.00103398]\n",
      "20.903258596099292\n",
      "-0.02430918055216106 [0.00013848] 0.01885444709149388 [-0.00082206] 0.020588396345323043 [0.00071474] 0.01594017188144634 [0.00103399]\n",
      "21.880435487233058\n",
      "-0.024152707662836562 [0.00017975] 0.018043316166710007 [-0.00083404] 0.02127677951302542 [0.00069242] 0.01686811328648914 [0.00086446]\n",
      "21.880435487233058\n",
      "-0.024152706323122212 [0.00017975] 0.018043316526373653 [-0.00083404] 0.021276772071927644 [0.00069241] 0.01686812441539257 [0.00086446]\n",
      "22.698535706207956\n",
      "-0.023994681189981548 [0.00020526] 0.017363202815088033 [-0.00082598] 0.021832668884246422 [0.00066523] 0.01751650656675309 [0.00072064]\n",
      "22.698535706207956\n",
      "-0.02399468126952772 [0.00020526] 0.01736320551353465 [-0.00082598] 0.021832661479520035 [0.00066523] 0.01751651582586486 [0.00072064]\n",
      "23.516635925182854\n",
      "-0.023818921369043285 [0.00022322] 0.016695991514657234 [-0.00080273] 0.022362988968021604 [0.00062987] 0.01804758290743405 [0.00057809]\n",
      "23.516635925182854\n",
      "-0.023818922015672567 [0.00022322] 0.016695994306623396 [-0.00080272] 0.022362984729340677 [0.00062987] 0.0180475861665096 [0.00057809]\n",
      "24.334736144157752\n",
      "-0.023631318523191898 [0.00023434] 0.016053530164242054 [-0.00076574] 0.02286101038204375 [0.00058631] 0.018463400734002582 [0.00043921]\n",
      "24.334736144157752\n",
      "-0.023631320739061396 [0.00023434] 0.016053534437892012 [-0.00076574] 0.0228610113775756 [0.0005863] 0.018463391848832823 [0.00043922]\n",
      "25.15283636313265\n",
      "-0.023437148749238676 [0.00023941] 0.015446375282025238 [-0.00071672] 0.023320144621601143 [0.00053489] 0.018767775617396273 [0.00030595]\n",
      "25.15283636313265\n",
      "-0.023437151875989888 [0.00023941] 0.01544638134658265 [-0.00071671] 0.023320145475635778 [0.00053488] 0.018767764566480917 [0.00030596]\n",
      "25.970936582107548\n",
      "-0.023241022558565937 [0.00023926] 0.01488361923327202 [-0.00065753] 0.02373422386797378 [0.0004763] 0.018965946678402464 [0.0001798]\n",
      "25.970936582107548\n",
      "-0.023241026195496062 [0.00023926] 0.014883627754237502 [-0.00065752] 0.02373421980566789 [0.00047629] 0.01896594165233163 [0.00017981]\n",
      "26.789036801082446\n",
      "-0.02304685222318763 [0.00023477] 0.01437275610312229 [-0.0005902] 0.02409777573476579 [0.00041155] 0.019064195573519807 [6.18093929e-05]\n",
      "26.789036801082446\n",
      "-0.023046856335652934 [0.00023477] 0.014372766938983221 [-0.00059019] 0.02409776691625767 [0.00041154] 0.01906419655870699 [6.18166627e-05]\n",
      "27.845251442313323\n",
      "-0.022804150962877315 [0.00022398] 0.013799132448669694 [-0.00049468] 0.024485200293187046 [0.00032093] 0.019054589962759466 [-7.74888754e-05]\n",
      "27.845251442313323\n",
      "-0.02280416103561272 [0.00022398] 0.013799161031613248 [-0.00049467] 0.024485171287582517 [0.00032092] 0.019054604377461704 [-7.74745803e-05]\n",
      "28.9014660835442\n",
      "-0.022575065631684044 [0.00020932] 0.013329682186698761 [-0.00039375] 0.024773965277441756 [0.00022533] 0.018905828778801016 [-0.0002017]\n",
      "28.9014660835442\n",
      "-0.02257507309962331 [0.00020932] 0.013329706080423605 [-0.00039375] 0.024773933512749754 [0.00022533] 0.018905856724114517 [-0.00020169]\n",
      "29.957680724775077\n",
      "-0.02236272262516317 [0.0001926] 0.012967713256415617 [-0.00029195] 0.02496061006434395 [0.00012819] 0.01863372669833865 [-0.00031116]\n",
      "29.957680724775077\n",
      "-0.022362714063569704 [0.0001926] 0.012967694937772828 [-0.00029197] 0.02496061277059875 [0.00012822] 0.018633750409729304 [-0.00031119]\n",
      "31.013895366005954\n",
      "-0.0221683440940826 [0.00017552] 0.012711761055483885 [-0.00019355] 0.025045461625555588 [3.30320195e-05] 0.01825334475627015 [-0.00040689]\n",
      "31.013895366005954\n",
      "-0.022168339981340438 [0.00017552] 0.012711751374461257 [-0.00019356] 0.025045464895866617 [3.30476425e-05] 0.018253354625487297 [-0.00040691]\n",
      "32.07011000723683\n",
      "-0.021991530216061567 [0.00015958] 0.012556297091653451 [-0.00010227] 0.02503224798858376 [-5.69851436e-05] 0.017778578876846474 [-0.00049011]\n",
      "32.07011000723683\n",
      "-0.02199152843591673 [0.00015958] 0.01255629291673559 [-0.00010228] 0.02503224839000535 [-5.69725939e-05] 0.017778586103361856 [-0.00049012]\n",
      "33.1263246484677\n",
      "-0.02183039903762981 [0.00014602] 0.01249209391343167 [-2.12163651e-05] 0.02492789510301762 [-0.00013912] 0.017221922521465635 [-0.0005622]\n",
      "33.1263246484677\n",
      "-0.021830396882334895 [0.00014602] 0.012492087756995299 [-2.12194706e-05] 0.024927900927763445 [-0.00013911] 0.01722192076996799 [-0.00056221]\n",
      "34.182539289698575\n",
      "-0.021681890797609824 [0.00013582] 0.012507045285578021 [4.72797476e-05] 0.024741877448244232 [-0.00021133] 0.016594439791083482 [-0.00062442]\n",
      "34.182539289698575\n",
      "-0.021681886727673315 [0.00013582] 0.012507032874830864 [4.72719011e-05] 0.02474189095626042 [-0.00021132] 0.0165944328811086 [-0.00062443]\n",
      "35.23875393092945\n",
      "-0.021542067740237533 [0.00012966] 0.012586999342907636 [0.0001017] 0.024485452243618214 [-0.0002723] 0.015905990832439293 [-0.00067779]\n",
      "35.23875393092945\n",
      "-0.021542061873315893 [0.00012966] 0.01258698078434451 [0.00010169] 0.02448547548070601 [-0.0002723] 0.015905972919086568 [-0.00067779]\n",
      "36.29496857216032\n",
      "-0.021406437943071104 [0.00012791] 0.012716671516335003 [0.00014139] 0.024170787189187578 [-0.00032161] 0.015165545190715229 [-0.00072294]\n",
      "36.29496857216032\n",
      "-0.02140643244854354 [0.00012792] 0.012716654290103884 [0.00014138] 0.024170808576679182 [-0.00032161] 0.015165528767670702 [-0.00072294]\n",
      "37.351183213391195\n",
      "-0.021270262444836697 [0.00013069] 0.012880513806837407 [0.00016647] 0.02381007652705758 [-0.00035959] 0.014381631100299698 [-0.00076012]\n",
      "37.351183213391195\n",
      "-0.021270255757848563 [0.00013069] 0.012880492514741472 [0.00016647] 0.023810104348627653 [-0.0003596] 0.014381607373754324 [-0.00076012]\n",
      "38.40739785462207\n",
      "-0.02112882952121909 [0.00013782] 0.013063480168267428 [0.0001778] 0.023414786868158895 [-0.00038733] 0.013562684901786932 [-0.00078921]\n",
      "38.40739785462207\n"
     ]
    },
    {
     "name": "stdout",
     "output_type": "stream",
     "text": [
      "-0.02112882434835402 [0.00013782] 0.013063463883221778 [0.0001778] 0.023414808003187303 [-0.00038733] 0.013562666782270904 [-0.00078921]\n",
      "39.46361249585294\n",
      "-0.02097770778753401 [0.00014896] 0.013251736706561832 [0.00017675] 0.02299491768311679 [-0.00040643] 0.012717483886281696 [-0.00080977]\n",
      "39.46361249585294\n",
      "-0.02097770212806069 [0.00014896] 0.01325171861670962 [0.00017675] 0.022994942001771386 [-0.00040643] 0.012717461841822649 [-0.00080976]\n",
      "40.519827137083816\n",
      "-0.020812919763334187 [0.0001636] 0.013433118934767334 [0.00016512] 0.022558580716103484 [-0.00041889] 0.011855330862399474 [-0.00082117]\n",
      "40.519827137083816\n",
      "-0.02081291686893439 [0.0001636] 0.013433109865636927 [0.00016512] 0.022558593140463958 [-0.00041889] 0.011855318724235207 [-0.00082117]\n",
      "41.57604177831469\n",
      "-0.020631087459933223 [0.00018114] 0.013597512854648405 [0.0001449] 0.02211163272378525 [-0.00042686] 0.010986263698281406 [-0.00082277]\n",
      "41.57604177831469\n",
      "-0.020631084687584633 [0.00018114] 0.013597503939718297 [0.00014491] 0.022111645477691642 [-0.00042686] 0.010986250655552664 [-0.00082277]\n",
      "42.63225641954556\n",
      "-0.02042947940106494 [0.00020094] 0.013736922392465304 [0.00011816] 0.021657707615319467 [-0.00043246] 0.010120945766840481 [-0.00081397]\n",
      "42.63225641954556\n",
      "-0.020429479811766904 [0.00020094] 0.013736923842216045 [0.00011816] 0.021657706650596097 [-0.00043246] 0.01012094430470081 [-0.00081397]\n",
      "43.688471060776436\n",
      "-0.02020603982031571 [0.00022239] 0.013845493938701808 [8.67960542e-05] 0.021198269656829336 [-0.00043755] 0.00927058289154598 [-0.00079444]\n",
      "43.688471060776436\n",
      "-0.020206040384962626 [0.00022238] 0.013845495692992631 [8.68020235e-05] 0.021198268525035632 [-0.00043756] 0.009270581484116648 [-0.00079444]\n",
      "44.616495558360725\n",
      "-0.01999054436239362 [0.00024214] 0.013912245773478417 [5.67678749e-05] 0.020789857731107822 [-0.00044282] 0.00854476782200542 [-0.0007684]\n",
      "44.616495558360725\n",
      "-0.01999054665720886 [0.00024214] 0.013912253230082812 [5.67705634e-05] 0.02078984856802838 [-0.00044282] 0.008544774081926169 [-0.00076839]\n",
      "45.544520055945014\n",
      "-0.019756450041313392 [0.00026242] 0.013950447935633712 [2.53879158e-05] 0.020375913621854865 [-0.00044955] 0.007846893223257998 [-0.00073431]\n",
      "45.544520055945014\n",
      "-0.01975645100898224 [0.00026242] 0.013950451373027358 [2.53922163e-05] 0.020375909236035113 [-0.00044955] 0.007846895970558886 [-0.00073431]\n",
      "46.4725445535293\n",
      "-0.01950339615845769 [0.00028297] 0.013959183649186694 [-6.65023766e-06] 0.019954879064467586 [-0.00045812] 0.007184197073978538 [-0.0006927]\n",
      "46.4725445535293\n",
      "-0.019503394664945377 [0.00028297] 0.013959180029943874 [-6.64398857e-06] 0.019954882317002574 [-0.00045813] 0.007184194982093055 [-0.00069269]\n",
      "47.40056905111359\n",
      "-0.019231225879491387 [0.00030359] 0.013938061879256834 [-3.88931148e-05] 0.019524997296717576 [-0.00046861] 0.006563311680274011 [-0.00064435]\n",
      "47.40056905111359\n",
      "-0.019231224067883905 [0.00030359] 0.01393805751731598 [-3.88857326e-05] 0.019525001050324377 [-0.00046862] 0.0065633095759022805 [-0.00064434]\n",
      "48.32859354869788\n",
      "-0.018939928525761294 [0.00032417] 0.013887013782164934 [-7.11110131e-05] 0.019084596061538707 [-0.00048075] 0.005990026557150595 [-0.00059029]\n",
      "48.32859354869788\n",
      "-0.01893992870289827 [0.00032417] 0.013887015851062483 [-7.11041167e-05] 0.019084591478414046 [-0.00048076] 0.005990031213668479 [-0.00059029]\n",
      "49.25661804628217\n",
      "-0.01862958188404777 [0.00034464] 0.013806098406466266 [-0.00010327] 0.018632344223599703 [-0.00049404] 0.00546908435593733 [-0.00053177]\n",
      "49.25661804628217\n",
      "-0.018629583829085992 [0.00034464] 0.013806106140808263 [-0.00010326] 0.01863233233463741 [-0.00049405] 0.005469094963176414 [-0.00053176]\n",
      "50.30965177024345\n",
      "-0.018254501241642247 [0.00036771] 0.01367811234988719 [-0.00013984] 0.018103895464343902 [-0.00050964] 0.004945745747346906 [-0.0004617]\n",
      "50.30965177024345\n",
      "-0.01825450654608415 [0.00036771] 0.013678131614845334 [-0.00013983] 0.018103867631605677 [-0.00050965] 0.004945770026535627 [-0.0004617]\n",
      "51.362685494204726\n",
      "-0.017855207048506076 [0.00039063] 0.013511443884067083 [-0.0001768] 0.01755923696728163 [-0.00052462] 0.004497331585457134 [-0.00038983]\n",
      "51.362685494204726\n",
      "-0.01785521652771636 [0.00039063] 0.013511477506162396 [-0.00017679] 0.017559189099689173 [-0.00052464] 0.004497373380936565 [-0.00038982]\n",
      "52.415719218166004\n",
      "-0.017431840744111877 [0.00041344] 0.01330550659755255 [-0.0002145] 0.016999646600372044 [-0.00053777] 0.00412462599276996 [-0.00031829]\n",
      "52.415719218166004\n",
      "-0.01743185174160523 [0.00041344] 0.013305544635874153 [-0.0002145] 0.016999593344873207 [-0.00053777] 0.004124672483827971 [-0.00031829]\n",
      "53.46875294212728\n",
      "-0.016984502956489473 [0.00043616] 0.013059321606884763 [-0.00025328] 0.01642770782101339 [-0.00054791] 0.003826153048889114 [-0.00024916]\n",
      "53.46875294212728\n",
      "-0.016984514323475017 [0.00043616] 0.013059360604976327 [-0.00025328] 0.016427653281328676 [-0.00054791] 0.0038262011847969082 [-0.00024916]\n",
      "54.52178666608856\n",
      "-0.016513289498878436 [0.00045878] 0.012771656296584426 [-0.0002933] 0.015847082669337362 [-0.00055413] 0.0035984118262567064 [-0.00018423]\n",
      "54.52178666608856\n",
      "-0.016513299810847277 [0.00045878] 0.012771691479869462 [-0.0002933] 0.015847033323232083 [-0.00055413] 0.0035984563647205345 [-0.00018424]\n",
      "55.57482039004984\n",
      "-0.016018338902279747 [0.00048123] 0.012441196791707226 [-0.00033452] 0.01526224188148571 [-0.00055586] 0.003436154470165383 [-0.000125]\n",
      "55.57482039004984\n",
      "-0.016018347463634133 [0.00048123] 0.012441226066293741 [-0.00033453] 0.015262200143042953 [-0.00055585] 0.0034361927515908853 [-0.000125]\n",
      "56.6453769380957\n",
      "-0.015491081795421056 [0.00050372] 0.012060203669854592 [-0.00037736] 0.014668374883381817 [-0.0005528] 0.0033315194047600655 [-7.17207584e-05]\n",
      "56.6453769380957\n",
      "-0.015491087876076986 [0.00050372] 0.012060224554124801 [-0.00037737] 0.014668344364078304 [-0.00055278] 0.003331549084508332 [-7.17325179e-05]\n",
      "57.715933486141566\n",
      "-0.01494002483288016 [0.00052564] 0.011633103501881133 [-0.00042053] 0.014080295678590945 [-0.00054513] 0.003279842679108709 [-2.61318711e-05]\n",
      "57.715933486141566\n",
      "-0.014940027739883333 [0.00052565] 0.011633113769035433 [-0.00042054] 0.014080279332765575 [-0.00054511] 0.0032798609655937975 [-2.61457681e-05]\n",
      "58.78649003418743\n",
      "-0.014365928207706257 [0.0005467] 0.011159980088978508 [-0.00046318] 0.013502613929761759 [-0.00053351] 0.0032727344945888233 [1.15368157e-05]\n",
      "58.78649003418743\n",
      "-0.014365927134598305 [0.00054671] 0.011159977102059897 [-0.00046319] 0.013502615357171474 [-0.0005335] 0.003272737738813384 [1.15224509e-05]\n",
      "59.857046582233295\n",
      "-0.013769910915350451 [0.00056653] 0.010641963991863781 [-0.0005042] 0.012939026205473622 [-0.000519] 0.003301772916933887 [4.14603507e-05]\n",
      "59.857046582233295\n",
      "-0.013769906244218795 [0.00056653] 0.010641949011180332 [-0.00050421] 0.012939043883015276 [-0.00051898] 0.0033017622338054713 [4.14470197e-05]\n",
      "60.92760313027916\n",
      "-0.013153503096872 [0.00058473] 0.010081433274089656 [-0.00054239] 0.012391965710077371 [-0.00050287] 0.003358915352936016 [6.41497616e-05]\n",
      "60.92760313027916\n",
      "-0.013153495295131453 [0.00058473] 0.010081407838591966 [-0.0005424] 0.012391997703627781 [-0.00050286] 0.0033588921244959097 [6.41385502e-05]\n",
      "61.998159678325024\n",
      "-0.012518666177142045 [0.00060089] 0.00948210846799067 [-0.00057647] 0.011862388572113127 [-0.00048658] 0.003436802048489508 [8.0355711e-05]\n",
      "61.998159678325024\n",
      "-0.012518656160538174 [0.00060089] 0.009482075596417894 [-0.00057647] 0.011862430966873528 [-0.00048657] 0.0034367693278817605 [8.03476549e-05]\n",
      "63.20479984808067\n",
      "-0.011784038502414966 [0.0006162] 0.008766485301022562 [-0.00060843] 0.011285612463739566 [-0.00046983] 0.0035414219514548675 [9.19556462e-05]\n",
      "63.20479984808067\n",
      "-0.011784021652491221 [0.0006162] 0.008766429782397106 [-0.00060844] 0.01128568515776862 [-0.00046983] 0.0035413638767105332 [9.19491464e-05]\n",
      "64.41144001783631\n",
      "-0.011033020476258173 [0.000628] 0.008017137586996261 [-0.00063215] 0.010727092284254223 [-0.00045659] 0.0036564018486169698 [9.77250229e-05]\n",
      "64.41144001783631\n",
      "-0.011032996159635412 [0.000628] 0.008017057267778033 [-0.00063215] 0.010727198475569211 [-0.0004566] 0.003656315195650614 [9.77225838e-05]\n",
      "65.61808018759196\n",
      "-0.010270054737066542 [0.00063595] 0.007244687602417014 [-0.00064654] 0.010181704257718995 [-0.00044833] 0.0037753797557640145 [9.88005422e-05]\n",
      "65.61808018759196\n",
      "-0.010270033682455685 [0.00063595] 0.007244617742509231 [-0.00064653] 0.010181798108490611 [-0.00044834] 0.0037753006198065855 [9.88082974e-05]\n",
      "66.8247203573476\n"
     ]
    },
    {
     "name": "stdout",
     "output_type": "stream",
     "text": [
      "-0.009499892836123283 [0.00063992] 0.006460835810863071 [-0.00065102] 0.009642786692688306 [-0.00044595] 0.0038932827016708504 [9.60398553e-05]\n",
      "66.8247203573476\n",
      "-0.009499875742590924 [0.00063991] 0.006460778881793992 [-0.00065101] 0.009642864381450126 [-0.00044597] 0.003893215093090292 [9.60547464e-05]\n",
      "68.03136052710325\n",
      "-0.008727341239752112 [0.00063993] 0.0056775686527855435 [-0.00064562] 0.009103045751818566 [-0.00044968] 0.004005794489662599 [8.99138037e-05]\n",
      "68.03136052710325\n",
      "-0.008727331483849608 [0.00063993] 0.0056775357854102594 [-0.0006456] 0.009103092578454819 [-0.00044971] 0.004005750441344086 [8.99350135e-05]\n",
      "69.23800069685889\n",
      "-0.007957056364941342 [0.00063622] 0.004906524301056687 [-0.00063092] 0.008555270006247612 [-0.00045912] 0.00410895016510334 [8.04974383e-05]\n",
      "69.23800069685889\n",
      "-0.007957053448560495 [0.00063621] 0.004906513964347871 [-0.0006309] 0.008555287453107005 [-0.00045915] 0.004108929398977027 [8.05205432e-05]\n",
      "70.44464086661453\n",
      "-0.00719331654741354 [0.00062916] 0.004158280684610502 [-0.00060805] 0.00799315616817192 [-0.00047324] 0.0041986253956013304 [6.74978687e-05]\n",
      "70.44464086661453\n",
      "-0.0071933217017736304 [0.00062915] 0.004158296906884556 [-0.00060802] 0.007993138881414954 [-0.00047327] 0.004198632432164343 [6.7521439e-05]\n",
      "71.65128103637018\n",
      "-0.006439852776147569 [0.00061928] 0.0034418335453131822 [-0.00057851] 0.007411901052357177 [-0.00049056] 0.00427018839987471 [5.03610754e-05]\n",
      "71.65128103637018\n",
      "-0.0064398647814765935 [0.00061928] 0.003441872308793674 [-0.00057849] 0.007411854037062558 [-0.00049059] 0.004270219784876406 [5.038105e-05]\n",
      "72.85792120612582\n",
      "-0.005699709562799478 [0.00060719] 0.002764171625823603 [-0.00054407] 0.006808675165418853 [-0.00050936] 0.00431823265587675 [2.83991352e-05]\n",
      "72.85792120612582\n",
      "-0.005699727301443362 [0.00060718] 0.0027642291733020424 [-0.00054405] 0.006808603387722419 [-0.00050937] 0.004318284464812185 [2.84140545e-05]\n",
      "74.06456137588147\n",
      "-0.004975179736156806 [0.00059351] 0.0021300917998297165 [-0.00050658] 0.006182794611147798 [-0.00052782] 0.004336532266904552 [9.59696936e-07]\n",
      "74.06456137588147\n",
      "-0.004975200925204764 [0.00059351] 0.0021301605696613206 [-0.00050657] 0.006182707946680877 [-0.00052783] 0.004336596725814781 [9.66996858e-07]\n",
      "75.27120154563711\n",
      "-0.0042677953036188 [0.00057887] 0.0015421958149047198 [-0.00046779] 0.0055356636451298 [-0.00054433] 0.004318169781902129 [-3.2419027e-05]\n",
      "75.27120154563711\n",
      "-0.00426781753429586 [0.00057887] 0.0015422678291344605 [-0.00046779] 0.005535572671081033 [-0.00054433] 0.004318238215216659 [-3.24194872e-05]\n",
      "76.47784171539276\n",
      "-0.003578384153729666 [0.0005638] 0.0010010997444815397 [-0.00042923] 0.004870449545113115 [-0.00055762] 0.00425586427015022 [-7.18598944e-05]\n",
      "76.47784171539276\n",
      "-0.003578404892221489 [0.0005638] 0.0010011666638565962 [-0.00042924] 0.00487036525232582 [-0.00055761] 0.00425592769380547 [-7.18684628e-05]\n",
      "77.6844818851484\n",
      "-0.002907174364196613 [0.00054876] 0.0005057961466823536 [-0.00039205] 0.004191566483741985 [-0.00056691] 0.0041424421149351565 [-0.00011705]\n",
      "77.6844818851484\n",
      "-0.0029071911857943156 [0.00054876] 0.0005058500181388028 [-0.00039206] 0.004191499397511113 [-0.00056689] 0.004142491772997663 [-0.00011706]\n",
      "78.89112205490405\n",
      "-0.002253933731756523 [0.00053406] 5.412755720621959e-05 [-0.00035699] 0.003504024312494406 [-0.000572] 0.003971403089171266 [-0.00016718]\n",
      "78.89112205490405\n",
      "-0.0022539448767933978 [0.00053407] 5.416264189913763e-05 [-0.000357] 0.0035039820084133474 [-0.00057197] 0.003971432650897753 [-0.0001672]\n",
      "80.09776222465969\n",
      "-0.001618124223475089 [0.00051989] -0.0003566954803237664 [-0.00032436] 0.002812729309053977 [-0.00057324] 0.003737512624981534 [-0.00022097]\n",
      "80.09776222465969\n",
      "-0.0016181284343615963 [0.0005199] -0.0003566832678893515 [-0.00032438] 0.0028127171885511675 [-0.00057322] 0.0037375175237204955 [-0.00022099]\n",
      "81.15371859759917\n",
      "-0.0010754686608681636 [0.00050799] -0.0006850154470769002 [-0.00029777] 0.002207982528089656 [-0.00057185] 0.003478505603811963 [-0.00026973]\n",
      "81.15371859759917\n",
      "-0.0010754667393155389 [0.00050799] -0.0006850228481647158 [-0.00029778] 0.0022079948905321506 [-0.00057183] 0.003478492194391992 [-0.00026974]\n",
      "82.20967497053864\n",
      "-0.0005451358539361247 [0.00049654] -0.0009861179362552512 [-0.00027276] 0.0016055564529372489 [-0.000569] 0.003167790359500611 [-0.00031867]\n",
      "82.20967497053864\n",
      "-0.0005451310804929289 [0.00049655] -0.0009861342234516789 [-0.00027276] 0.0016055793324162738 [-0.00056899] 0.0031677698421487964 [-0.00031868]\n",
      "83.26563134347812\n",
      "-2.6661202894520718e-05 [0.00048552] -0.0012615001323553752 [-0.000249] 0.0010064866377974568 [-0.00056564] 0.002805921742499152 [-0.00036639]\n",
      "83.26563134347812\n",
      "-2.665471397958641e-05 [0.00048552] -0.0012615222890000268 [-0.000249] 0.0010065178267803304 [-0.00056564] 0.0028058936716936836 [-0.0003664]\n",
      "84.3215877164176\n",
      "0.0004803770733062649 [0.00047445] -0.0015123033429681122 [-0.00022494] 0.0004108168171353232 [-0.00056394] 0.002394924085309699 [-0.00041087]\n",
      "84.3215877164176\n",
      "0.00048022830200177886 [0.00047445] -0.0015118865679895478 [-0.00022494] 0.00041040403850087573 [-0.00056394] 0.0023951182308595935 [-0.00041088]\n",
      "84.09252050929003\n",
      "0.00037134168007666677 [0.0004769] -0.0014599535460342295 [-0.00023032] 0.0005397978587580935 [-0.000564] 0.0024880834722187974 [-0.00040163]\n",
      "84.09252050929003\n",
      "0.0003712665279101445 [0.0004769] -0.0014597428768220236 [-0.00023033] 0.0005395889354761278 [-0.000564] 0.0024881821099293077 [-0.00040163]\n",
      "84.91940967510193\n",
      "0.0007619521323595018 [0.00046782] -0.0016421376129490046 [-0.00021053] 7.318434229484862e-05 [-0.00056397] 0.0021425142287886984 [-0.00043476]\n",
      "84.91940967510193\n",
      "0.0007619029619921256 [0.00046782] -0.0016421223667812828 [-0.00021055] 7.336843163033402e-05 [-0.00056395] 0.0021422290480367407 [-0.00043478]\n",
      "84.73916864485186\n",
      "0.0006774243035874264 [0.00046987] -0.0016037813827777198 [-0.00021493] 0.00017490654213171133 [-0.00056399] 0.0022201084512167794 [-0.00042751]\n",
      "84.73916864485186\n",
      "0.0006774016527670892 [0.00046987] -0.0016037606007154217 [-0.00021494] 0.00017495553385758495 [-0.00056398] 0.002220015775308245 [-0.00042752]\n",
      "85.38581678041369\n",
      "0.0009788417930151597 [0.00046233] -0.0017374618130736935 [-0.00019897] -0.00019012490022024127 [-0.00056373] 0.0019356045385852767 [-0.00045373]\n",
      "85.38581678041369\n",
      "0.0009788402124013772 [0.00046233] -0.0017376196023605002 [-0.00019897] -0.0001897059137366881 [-0.00056373] 0.001935147010529742 [-0.00045373]\n",
      "85.24712260649356\n",
      "0.0009146042037088964 [0.00046399] -0.0017097039990715038 [-0.00020244] -0.00011172839187013431 [-0.00056382] 0.0019979203165930055 [-0.00044807]\n",
      "85.24712260649356\n",
      "0.0009145971801322246 [0.00046399] -0.0017097854430014982 [-0.00020244] -0.00011148504305096348 [-0.00056381] 0.00199764613004524 [-0.00044807]\n",
      "84.8407594371802\n",
      "0.0007250790434404252 [0.00046872] -0.001625471838070014 [-0.00021247] 0.00011765769378102925 [-0.00056397] 0.002176380968187501 [-0.00043161]\n",
      "84.8407594371802\n",
      "0.0007250788230804667 [0.00046872] -0.0016254736579580456 [-0.00021247] 0.00011766342700279082 [-0.00056397] 0.0021763743985918184 [-0.00043161]\n",
      "84.94235022950853\n",
      "0.0007726375534943661 [0.00046756] -0.0016469335973058566 [-0.00020998] 6.03743413851917e-05 [-0.00056394] 0.002132314744742104 [-0.0004357]\n",
      "84.94235022950853\n",
      "0.0007726377405904214 [0.00046756] -0.0016469324999007174 [-0.00020998] 6.0370641494132384e-05 [-0.00056394] 0.0021323190556127294 [-0.0004357]\n",
      "85.04394102183687\n",
      "0.000820077879048197 [0.00046638] -0.0016681380309203292 [-0.00020748] 3.080728594032997e-06 [-0.00056391] 0.0020878467069819703 [-0.00043981]\n",
      "85.04394102183687\n",
      "0.0008200778796136177 [0.00046638] -0.0016681380166773234 [-0.00020748] 3.080675950884221e-06 [-0.00056391] 0.0020878467892055793 [-0.00043981]\n",
      "85.14553181416521\n",
      "0.0008673979033252342 [0.0004652] -0.0016890887939827912 [-0.00020497] -5.4205487312090014e-05 [-0.00056387] 0.0020429563352496963 [-0.00044394]\n",
      "85.14553181416521\n",
      "0.0008673979081952563 [0.0004652] -0.0016890887978832023 [-0.00020497] -5.4205507267508475e-05 [-0.00056387] 0.002042956380016765 [-0.00044394]\n",
      "85.3487133988219\n",
      "0.0009616723351857965 [0.00046278] -0.0017302205460192905 [-0.0001999] -0.00016876275999100335 [-0.00056376] 0.0019519164687203598 [-0.00045221]\n",
      "85.3487133988219\n"
     ]
    },
    {
     "name": "stdout",
     "output_type": "stream",
     "text": [
      "0.0009616723801676528 [0.00046278] -0.0017302205966937612 [-0.0001999] -0.0001687628944959298 [-0.00056376] 0.0019519168068155754 [-0.00045221]\n",
      "85.55189498347859\n",
      "0.0010554506708165831 [0.00046031] -0.001770316806660623 [-0.00019478] -0.0002832943230623462 [-0.00056362] 0.0018591918499866586 [-0.00046052]\n",
      "85.55189498347859\n",
      "0.0010554507613896628 [0.00046031] -0.001770316907574258 [-0.00019478] -0.0002832945971623861 [-0.00056362] 0.0018591925352582546 [-0.00046052]\n",
      "85.75507656813528\n",
      "0.0011487227928271562 [0.0004578] -0.0018093668942008086 [-0.0001896] -0.00039779410056282617 [-0.00056345] 0.0017647767884156449 [-0.00046885]\n",
      "85.75507656813528\n",
      "0.001148722886178484 [0.0004578] -0.001809367000302275 [-0.0001896] -0.0003977943750955776 [-0.00056345] 0.0017647774819943747 [-0.00046885]\n",
      "85.95825815279197\n",
      "0.0012414787208848857 [0.00045525] -0.001847360296066549 [-0.00018444] -0.0005122563713326304 [-0.00056319] 0.0016686665366029505 [-0.00047721]\n",
      "85.95825815279197\n",
      "0.001241480556934584 [0.00045525] -0.0018473658824587273 [-0.00018444] -0.0005122514659339124 [-0.00056319] 0.0016686668999765255 [-0.00047721]\n",
      "86.34322536641163\n",
      "0.0014157982156194106 [0.00045063] -0.0019164925210606734 [-0.00017556] -0.0007289300961267326 [-0.00056166] 0.0014819016373665062 [-0.00049312]\n",
      "86.34322536641163\n",
      "0.0014158423185165103 [0.00045063] -0.001916629983136992 [-0.00017555] -0.0007288026645962097 [-0.00056167] 0.001481898054341031 [-0.00049312]\n",
      "86.72819258003129\n",
      "0.0015884584151168112 [0.00044631] -0.00198264757569228 [-0.00016795] -0.0009445555805051872 [-0.00055872] 0.001288984999111647 [-0.00050909]\n",
      "86.72819258003129\n",
      "0.001588478091025281 [0.0004463] -0.0019827069537349216 [-0.00016794] -0.0009445048214474148 [-0.00055873] 0.0012889918729614752 [-0.00050908]\n",
      "87.11315979365095\n",
      "0.0017595050821261574 [0.00044228] -0.0020460957684810058 [-0.00016161] -0.001158805085623281 [-0.0005544] 0.0010899313145961982 [-0.00052503]\n",
      "87.11315979365095\n",
      "0.0017595063616458698 [0.00044228] -0.002046097230881962 [-0.0001616] -0.001158809424730043 [-0.00055441] 0.0010899426205513477 [-0.00052502]\n",
      "87.49812700727061\n",
      "0.0019290434153707175 [0.00043856] -0.0021072907412244177 [-0.00015652] -0.001371186175090647 [-0.00054876] 0.0008847619627744365 [-0.00054086]\n",
      "87.49812700727061\n",
      "0.0019290437223008303 [0.00043856] -0.002107289124202498 [-0.00015652] -0.0013711941027568998 [-0.00054876] 0.0008847754476722888 [-0.00054085]\n",
      "88.13510767071688\n",
      "0.0022066030852891183 [0.00043305] -0.0022050037483250084 [-0.00015079] -0.0017170421990999577 [-0.0005367] 0.0005319937384908535 [-0.00056654]\n",
      "88.13510767071688\n",
      "0.00220660047496337 [0.00043305] -0.0022049880990507335 [-0.00015078] -0.001717077549355336 [-0.00053671] 0.0005320396440335411 [-0.00056653]\n",
      "88.77208833416314\n",
      "0.0024808997180025653 [0.00042829] -0.0023000560504095584 [-0.00014814] -0.0020543026531571426 [-0.0005217] 0.00016327382412119595 [-0.00059111]\n",
      "88.77208833416314\n",
      "0.002480890152525414 [0.0004283] -0.0023000302446200276 [-0.00014816] -0.002054321997500594 [-0.00052169] 0.000163269942938774 [-0.00059113]\n",
      "89.40906899760941\n",
      "0.0027523858855812195 [0.00042422] -0.0023943394907908607 [-0.0001483] -0.00238116126835411 [-0.00050424] -0.00022067708107076557 [-0.00061407]\n",
      "89.40906899760941\n",
      "0.0027523772344520115 [0.00042423] -0.0023943156094400606 [-0.00014832] -0.002381180543722016 [-0.00050423] -0.0002206779690171054 [-0.00061408]\n",
      "90.04604966105568\n",
      "0.0030214632316168583 [0.00042072] -0.0024895017760363813 [-0.00015083] -0.0026962881563530926 [-0.00048498] -0.0006185750478818043 [-0.00063478]\n",
      "90.04604966105568\n",
      "0.0030214564673010586 [0.00042072] -0.0024894810285312767 [-0.00015084] -0.002696310206843038 [-0.00048498] -0.00061856521691679 [-0.00063479]\n",
      "90.68303032450194\n",
      "0.003288452483330806 [0.00041764] -0.002586898996913073 [-0.00015525] -0.0029987708203344514 [-0.00046463] -0.0010287759568735504 [-0.00065264]\n",
      "90.68303032450194\n",
      "0.003288446919591568 [0.00041764] -0.0025868822432229908 [-0.00015525] -0.0029987876195699346 [-0.00046462] -0.0010287702994747339 [-0.00065265]\n",
      "91.47885506878815\n",
      "0.0036194316018922624 [0.00041419] -0.0027132833711394303 [-0.00016261] -0.0033582255598689926 [-0.00043877] -0.001555483206675192 [-0.00067003]\n",
      "91.47885506878815\n",
      "0.0036194246541106172 [0.00041419] -0.0027132633009464614 [-0.00016263] -0.003358242882749416 [-0.00043875] -0.0015554827933074917 [-0.00067005]\n",
      "92.27467981307436\n",
      "0.003947731013371732 [0.00041089] -0.0028459984254435647 [-0.00017109] -0.00369736847955996 [-0.00041371] -0.0020935065623566263 [-0.00068094]\n",
      "92.27467981307436\n",
      "0.0039477385443411825 [0.00041089] -0.002846022914703807 [-0.00017109] -0.003697337876296074 [-0.00041371] -0.0020935286665957537 [-0.00068094]\n",
      "93.07050455736056\n",
      "0.004273374145824308 [0.00040745] -0.002985565653787209 [-0.00017964] -0.004017332123653666 [-0.00039081] -0.002637304447646535 [-0.00068438]\n",
      "93.07050455736056\n",
      "0.004273388100406601 [0.00040745] -0.0029856093446908897 [-0.00017963] -0.004017282725028608 [-0.00039082] -0.0026373317893406377 [-0.00068437]\n",
      "93.86632930164677\n"
     ]
    },
    {
     "ename": "KeyboardInterrupt",
     "evalue": "",
     "output_type": "error",
     "traceback": [
      "\u001b[0;31m---------------------------------------------------------------------------\u001b[0m",
      "\u001b[0;31mKeyboardInterrupt\u001b[0m                         Traceback (most recent call last)",
      "\u001b[0;32m<ipython-input-118-6f76579e9a35>\u001b[0m in \u001b[0;36m<module>\u001b[0;34m\u001b[0m\n\u001b[1;32m      1\u001b[0m \u001b[0mstartTime1\u001b[0m \u001b[0;34m=\u001b[0m \u001b[0mdatetime\u001b[0m\u001b[0;34m.\u001b[0m\u001b[0mnow\u001b[0m\u001b[0;34m(\u001b[0m\u001b[0;34m)\u001b[0m\u001b[0;34m\u001b[0m\u001b[0;34m\u001b[0m\u001b[0m\n\u001b[0;32m----> 2\u001b[0;31m \u001b[0mus\u001b[0m\u001b[0;34m=\u001b[0m\u001b[0modeint\u001b[0m\u001b[0;34m(\u001b[0m\u001b[0mmanipulator\u001b[0m\u001b[0;34m,\u001b[0m\u001b[0mq0\u001b[0m\u001b[0;34m,\u001b[0m\u001b[0mt\u001b[0m\u001b[0;34m,\u001b[0m \u001b[0margs\u001b[0m\u001b[0;34m=\u001b[0m\u001b[0;34m(\u001b[0m\u001b[0mq\u001b[0m\u001b[0;34m,\u001b[0m\u001b[0;34m)\u001b[0m\u001b[0;34m)\u001b[0m\u001b[0;34m\u001b[0m\u001b[0;34m\u001b[0m\u001b[0m\n\u001b[0m\u001b[1;32m      3\u001b[0m \u001b[0mprint\u001b[0m\u001b[0;34m(\u001b[0m\u001b[0mdatetime\u001b[0m\u001b[0;34m.\u001b[0m\u001b[0mnow\u001b[0m\u001b[0;34m(\u001b[0m\u001b[0;34m)\u001b[0m \u001b[0;34m-\u001b[0m \u001b[0mstartTime1\u001b[0m\u001b[0;34m)\u001b[0m\u001b[0;34m\u001b[0m\u001b[0;34m\u001b[0m\u001b[0m\n",
      "\u001b[0;32m/Library/Frameworks/Python.framework/Versions/3.7/lib/python3.7/site-packages/scipy/integrate/odepack.py\u001b[0m in \u001b[0;36modeint\u001b[0;34m(func, y0, t, args, Dfun, col_deriv, full_output, ml, mu, rtol, atol, tcrit, h0, hmax, hmin, ixpr, mxstep, mxhnil, mxordn, mxords, printmessg, tfirst)\u001b[0m\n\u001b[1;32m    242\u001b[0m                              \u001b[0mfull_output\u001b[0m\u001b[0;34m,\u001b[0m \u001b[0mrtol\u001b[0m\u001b[0;34m,\u001b[0m \u001b[0matol\u001b[0m\u001b[0;34m,\u001b[0m \u001b[0mtcrit\u001b[0m\u001b[0;34m,\u001b[0m \u001b[0mh0\u001b[0m\u001b[0;34m,\u001b[0m \u001b[0mhmax\u001b[0m\u001b[0;34m,\u001b[0m \u001b[0mhmin\u001b[0m\u001b[0;34m,\u001b[0m\u001b[0;34m\u001b[0m\u001b[0;34m\u001b[0m\u001b[0m\n\u001b[1;32m    243\u001b[0m                              \u001b[0mixpr\u001b[0m\u001b[0;34m,\u001b[0m \u001b[0mmxstep\u001b[0m\u001b[0;34m,\u001b[0m \u001b[0mmxhnil\u001b[0m\u001b[0;34m,\u001b[0m \u001b[0mmxordn\u001b[0m\u001b[0;34m,\u001b[0m \u001b[0mmxords\u001b[0m\u001b[0;34m,\u001b[0m\u001b[0;34m\u001b[0m\u001b[0;34m\u001b[0m\u001b[0m\n\u001b[0;32m--> 244\u001b[0;31m                              int(bool(tfirst)))\n\u001b[0m\u001b[1;32m    245\u001b[0m     \u001b[0;32mif\u001b[0m \u001b[0moutput\u001b[0m\u001b[0;34m[\u001b[0m\u001b[0;34m-\u001b[0m\u001b[0;36m1\u001b[0m\u001b[0;34m]\u001b[0m \u001b[0;34m<\u001b[0m \u001b[0;36m0\u001b[0m\u001b[0;34m:\u001b[0m\u001b[0;34m\u001b[0m\u001b[0;34m\u001b[0m\u001b[0m\n\u001b[1;32m    246\u001b[0m         \u001b[0mwarning_msg\u001b[0m \u001b[0;34m=\u001b[0m \u001b[0m_msgs\u001b[0m\u001b[0;34m[\u001b[0m\u001b[0moutput\u001b[0m\u001b[0;34m[\u001b[0m\u001b[0;34m-\u001b[0m\u001b[0;36m1\u001b[0m\u001b[0;34m]\u001b[0m\u001b[0;34m]\u001b[0m \u001b[0;34m+\u001b[0m \u001b[0;34m\" Run with full_output = 1 to get quantitative information.\"\u001b[0m\u001b[0;34m\u001b[0m\u001b[0;34m\u001b[0m\u001b[0m\n",
      "\u001b[0;32m<ipython-input-115-719aecdea812>\u001b[0m in \u001b[0;36mmanipulator\u001b[0;34m(Q, t, q)\u001b[0m\n\u001b[1;32m     56\u001b[0m                         \u001b[0;34m-\u001b[0m \u001b[0mf\u001b[0m\u001b[0;34m(\u001b[0m\u001b[0mQI\u001b[0m\u001b[0;34m,\u001b[0m \u001b[0mK\u001b[0m\u001b[0;34m)\u001b[0m\u001b[0;34m\u001b[0m\u001b[0;34m\u001b[0m\u001b[0m\n\u001b[1;32m     57\u001b[0m                         \u001b[0;34m-\u001b[0m \u001b[0mg\u001b[0m\u001b[0;34m(\u001b[0m\u001b[0mQI\u001b[0m\u001b[0;34m,\u001b[0m\u001b[0malp\u001b[0m\u001b[0;34m)\u001b[0m\u001b[0;34m\u001b[0m\u001b[0;34m\u001b[0m\u001b[0m\n\u001b[0;32m---> 58\u001b[0;31m                         + tau(QI,alp, tau_qn, F, tau_q_wave))\n\u001b[0m\u001b[1;32m     59\u001b[0m \u001b[0;31m#     print('M',M(QI, l, mn, In, mi))\u001b[0m\u001b[0;34m\u001b[0m\u001b[0;34m\u001b[0m\u001b[0;34m\u001b[0m\u001b[0m\n\u001b[1;32m     60\u001b[0m \u001b[0;31m#     print('C0',C0)\u001b[0m\u001b[0;34m\u001b[0m\u001b[0;34m\u001b[0m\u001b[0;34m\u001b[0m\u001b[0m\n",
      "\u001b[0;32m<ipython-input-25-c35ea16a2d70>\u001b[0m in \u001b[0;36mC\u001b[0;34m(q, dq, l, mn, In, mi)\u001b[0m\n\u001b[1;32m      5\u001b[0m     \u001b[0mDfun\u001b[0m \u001b[0;34m=\u001b[0m \u001b[0mnd\u001b[0m\u001b[0;34m.\u001b[0m\u001b[0mGradient\u001b[0m\u001b[0;34m(\u001b[0m\u001b[0mfun\u001b[0m\u001b[0;34m)\u001b[0m\u001b[0;34m\u001b[0m\u001b[0;34m\u001b[0m\u001b[0m\n\u001b[1;32m      6\u001b[0m \u001b[0;34m\u001b[0m\u001b[0m\n\u001b[0;32m----> 7\u001b[0;31m     \u001b[0mdq1_\u001b[0m\u001b[0;34m,\u001b[0m \u001b[0mdq2_\u001b[0m\u001b[0;34m,\u001b[0m \u001b[0mdq3_\u001b[0m\u001b[0;34m,\u001b[0m \u001b[0mdq4_\u001b[0m \u001b[0;34m=\u001b[0m \u001b[0mDfun\u001b[0m\u001b[0;34m(\u001b[0m\u001b[0mq\u001b[0m\u001b[0;34m)\u001b[0m\u001b[0;34m\u001b[0m\u001b[0;34m\u001b[0m\u001b[0m\n\u001b[0m\u001b[1;32m      8\u001b[0m     \u001b[0mdiff\u001b[0m \u001b[0;34m=\u001b[0m \u001b[0mnp\u001b[0m\u001b[0;34m.\u001b[0m\u001b[0marray\u001b[0m\u001b[0;34m(\u001b[0m\u001b[0;34m[\u001b[0m\u001b[0mdq1_\u001b[0m\u001b[0;34m,\u001b[0m \u001b[0mdq2_\u001b[0m\u001b[0;34m,\u001b[0m \u001b[0mdq3_\u001b[0m\u001b[0;34m,\u001b[0m \u001b[0mdq4_\u001b[0m\u001b[0;34m]\u001b[0m\u001b[0;34m)\u001b[0m\u001b[0;34m\u001b[0m\u001b[0;34m\u001b[0m\u001b[0m\n\u001b[1;32m      9\u001b[0m \u001b[0;34m\u001b[0m\u001b[0m\n",
      "\u001b[0;32m/Library/Frameworks/Python.framework/Versions/3.7/lib/python3.7/site-packages/numdifftools/core.py\u001b[0m in \u001b[0;36m__call__\u001b[0;34m(self, x, *args, **kwds)\u001b[0m\n\u001b[1;32m    488\u001b[0m \u001b[0;34m\u001b[0m\u001b[0m\n\u001b[1;32m    489\u001b[0m     \u001b[0;32mdef\u001b[0m \u001b[0m__call__\u001b[0m\u001b[0;34m(\u001b[0m\u001b[0mself\u001b[0m\u001b[0;34m,\u001b[0m \u001b[0mx\u001b[0m\u001b[0;34m,\u001b[0m \u001b[0;34m*\u001b[0m\u001b[0margs\u001b[0m\u001b[0;34m,\u001b[0m \u001b[0;34m**\u001b[0m\u001b[0mkwds\u001b[0m\u001b[0;34m)\u001b[0m\u001b[0;34m:\u001b[0m\u001b[0;34m\u001b[0m\u001b[0;34m\u001b[0m\u001b[0m\n\u001b[0;32m--> 490\u001b[0;31m         \u001b[0mresult\u001b[0m \u001b[0;34m=\u001b[0m \u001b[0msuper\u001b[0m\u001b[0;34m(\u001b[0m\u001b[0mGradient\u001b[0m\u001b[0;34m,\u001b[0m \u001b[0mself\u001b[0m\u001b[0;34m)\u001b[0m\u001b[0;34m.\u001b[0m\u001b[0m__call__\u001b[0m\u001b[0;34m(\u001b[0m\u001b[0mnp\u001b[0m\u001b[0;34m.\u001b[0m\u001b[0matleast_1d\u001b[0m\u001b[0;34m(\u001b[0m\u001b[0mx\u001b[0m\u001b[0;34m)\u001b[0m\u001b[0;34m.\u001b[0m\u001b[0mravel\u001b[0m\u001b[0;34m(\u001b[0m\u001b[0;34m)\u001b[0m\u001b[0;34m,\u001b[0m \u001b[0;34m*\u001b[0m\u001b[0margs\u001b[0m\u001b[0;34m,\u001b[0m \u001b[0;34m**\u001b[0m\u001b[0mkwds\u001b[0m\u001b[0;34m)\u001b[0m\u001b[0;34m\u001b[0m\u001b[0;34m\u001b[0m\u001b[0m\n\u001b[0m\u001b[1;32m    491\u001b[0m         \u001b[0;32mif\u001b[0m \u001b[0mself\u001b[0m\u001b[0;34m.\u001b[0m\u001b[0mfull_output\u001b[0m\u001b[0;34m:\u001b[0m\u001b[0;34m\u001b[0m\u001b[0;34m\u001b[0m\u001b[0m\n\u001b[1;32m    492\u001b[0m             \u001b[0;32mreturn\u001b[0m \u001b[0mresult\u001b[0m\u001b[0;34m[\u001b[0m\u001b[0;36m0\u001b[0m\u001b[0;34m]\u001b[0m\u001b[0;34m.\u001b[0m\u001b[0msqueeze\u001b[0m\u001b[0;34m(\u001b[0m\u001b[0;34m)\u001b[0m\u001b[0;34m,\u001b[0m \u001b[0mresult\u001b[0m\u001b[0;34m[\u001b[0m\u001b[0;36m1\u001b[0m\u001b[0;34m]\u001b[0m\u001b[0;34m\u001b[0m\u001b[0;34m\u001b[0m\u001b[0m\n",
      "\u001b[0;32m/Library/Frameworks/Python.framework/Versions/3.7/lib/python3.7/site-packages/numdifftools/core.py\u001b[0m in \u001b[0;36m__call__\u001b[0;34m(self, x, *args, **kwds)\u001b[0m\n\u001b[1;32m    429\u001b[0m \u001b[0;34m\u001b[0m\u001b[0m\n\u001b[1;32m    430\u001b[0m     \u001b[0;32mdef\u001b[0m \u001b[0m__call__\u001b[0m\u001b[0;34m(\u001b[0m\u001b[0mself\u001b[0m\u001b[0;34m,\u001b[0m \u001b[0mx\u001b[0m\u001b[0;34m,\u001b[0m \u001b[0;34m*\u001b[0m\u001b[0margs\u001b[0m\u001b[0;34m,\u001b[0m \u001b[0;34m**\u001b[0m\u001b[0mkwds\u001b[0m\u001b[0;34m)\u001b[0m\u001b[0;34m:\u001b[0m\u001b[0;34m\u001b[0m\u001b[0;34m\u001b[0m\u001b[0m\n\u001b[0;32m--> 431\u001b[0;31m         \u001b[0;32mreturn\u001b[0m \u001b[0msuper\u001b[0m\u001b[0;34m(\u001b[0m\u001b[0mJacobian\u001b[0m\u001b[0;34m,\u001b[0m \u001b[0mself\u001b[0m\u001b[0;34m)\u001b[0m\u001b[0;34m.\u001b[0m\u001b[0m__call__\u001b[0m\u001b[0;34m(\u001b[0m\u001b[0mnp\u001b[0m\u001b[0;34m.\u001b[0m\u001b[0matleast_1d\u001b[0m\u001b[0;34m(\u001b[0m\u001b[0mx\u001b[0m\u001b[0;34m)\u001b[0m\u001b[0;34m,\u001b[0m \u001b[0;34m*\u001b[0m\u001b[0margs\u001b[0m\u001b[0;34m,\u001b[0m \u001b[0;34m**\u001b[0m\u001b[0mkwds\u001b[0m\u001b[0;34m)\u001b[0m\u001b[0;34m\u001b[0m\u001b[0;34m\u001b[0m\u001b[0m\n\u001b[0m\u001b[1;32m    432\u001b[0m \u001b[0;34m\u001b[0m\u001b[0m\n\u001b[1;32m    433\u001b[0m \u001b[0;34m\u001b[0m\u001b[0m\n",
      "\u001b[0;32m/Library/Frameworks/Python.framework/Versions/3.7/lib/python3.7/site-packages/numdifftools/core.py\u001b[0m in \u001b[0;36m__call__\u001b[0;34m(self, x, *args, **kwds)\u001b[0m\n\u001b[1;32m    287\u001b[0m         \u001b[0;32mwith\u001b[0m \u001b[0mnp\u001b[0m\u001b[0;34m.\u001b[0m\u001b[0merrstate\u001b[0m\u001b[0;34m(\u001b[0m\u001b[0mdivide\u001b[0m\u001b[0;34m=\u001b[0m\u001b[0;34m'ignore'\u001b[0m\u001b[0;34m,\u001b[0m \u001b[0minvalid\u001b[0m\u001b[0;34m=\u001b[0m\u001b[0;34m'ignore'\u001b[0m\u001b[0;34m)\u001b[0m\u001b[0;34m:\u001b[0m\u001b[0;34m\u001b[0m\u001b[0;34m\u001b[0m\u001b[0m\n\u001b[1;32m    288\u001b[0m             \u001b[0mresults\u001b[0m\u001b[0;34m,\u001b[0m \u001b[0mf_xi\u001b[0m \u001b[0;34m=\u001b[0m \u001b[0mself\u001b[0m\u001b[0;34m.\u001b[0m\u001b[0m_derivative\u001b[0m\u001b[0;34m(\u001b[0m\u001b[0mx_i\u001b[0m\u001b[0;34m,\u001b[0m \u001b[0margs\u001b[0m\u001b[0;34m,\u001b[0m \u001b[0mkwds\u001b[0m\u001b[0;34m)\u001b[0m\u001b[0;34m\u001b[0m\u001b[0;34m\u001b[0m\u001b[0m\n\u001b[0;32m--> 289\u001b[0;31m             \u001b[0mderivative\u001b[0m\u001b[0;34m,\u001b[0m \u001b[0minfo\u001b[0m \u001b[0;34m=\u001b[0m \u001b[0mself\u001b[0m\u001b[0;34m.\u001b[0m\u001b[0m_extrapolate\u001b[0m\u001b[0;34m(\u001b[0m\u001b[0;34m*\u001b[0m\u001b[0mresults\u001b[0m\u001b[0;34m)\u001b[0m\u001b[0;34m\u001b[0m\u001b[0;34m\u001b[0m\u001b[0m\n\u001b[0m\u001b[1;32m    290\u001b[0m         \u001b[0;32mif\u001b[0m \u001b[0mself\u001b[0m\u001b[0;34m.\u001b[0m\u001b[0mfull_output\u001b[0m\u001b[0;34m:\u001b[0m\u001b[0;34m\u001b[0m\u001b[0;34m\u001b[0m\u001b[0m\n\u001b[1;32m    291\u001b[0m             \u001b[0;32mreturn\u001b[0m \u001b[0mderivative\u001b[0m\u001b[0;34m,\u001b[0m \u001b[0mself\u001b[0m\u001b[0;34m.\u001b[0m\u001b[0minfo\u001b[0m\u001b[0;34m(\u001b[0m\u001b[0mf_xi\u001b[0m\u001b[0;34m,\u001b[0m \u001b[0;34m*\u001b[0m\u001b[0minfo\u001b[0m\u001b[0;34m)\u001b[0m\u001b[0;34m\u001b[0m\u001b[0;34m\u001b[0m\u001b[0m\n",
      "\u001b[0;32m/Library/Frameworks/Python.framework/Versions/3.7/lib/python3.7/site-packages/numdifftools/limits.py\u001b[0m in \u001b[0;36m_extrapolate\u001b[0;34m(self, results, steps, shape)\u001b[0m\n\u001b[1;32m    202\u001b[0m         \u001b[0;32mif\u001b[0m \u001b[0mlen\u001b[0m\u001b[0;34m(\u001b[0m\u001b[0mder1\u001b[0m\u001b[0;34m)\u001b[0m \u001b[0;34m>\u001b[0m \u001b[0;36m2\u001b[0m\u001b[0;34m:\u001b[0m\u001b[0;34m\u001b[0m\u001b[0;34m\u001b[0m\u001b[0m\n\u001b[1;32m    203\u001b[0m             \u001b[0mder1\u001b[0m\u001b[0;34m,\u001b[0m \u001b[0merrors1\u001b[0m\u001b[0;34m,\u001b[0m \u001b[0msteps\u001b[0m \u001b[0;34m=\u001b[0m \u001b[0mself\u001b[0m\u001b[0;34m.\u001b[0m\u001b[0m_wynn_extrapolate\u001b[0m\u001b[0;34m(\u001b[0m\u001b[0mder1\u001b[0m\u001b[0;34m,\u001b[0m \u001b[0msteps\u001b[0m\u001b[0;34m)\u001b[0m\u001b[0;34m\u001b[0m\u001b[0;34m\u001b[0m\u001b[0m\n\u001b[0;32m--> 204\u001b[0;31m         \u001b[0mder\u001b[0m\u001b[0;34m,\u001b[0m \u001b[0minfo\u001b[0m \u001b[0;34m=\u001b[0m \u001b[0mself\u001b[0m\u001b[0;34m.\u001b[0m\u001b[0m_get_best_estimate\u001b[0m\u001b[0;34m(\u001b[0m\u001b[0mder1\u001b[0m\u001b[0;34m,\u001b[0m \u001b[0merrors1\u001b[0m\u001b[0;34m,\u001b[0m \u001b[0msteps\u001b[0m\u001b[0;34m,\u001b[0m \u001b[0mshape\u001b[0m\u001b[0;34m)\u001b[0m\u001b[0;34m\u001b[0m\u001b[0;34m\u001b[0m\u001b[0m\n\u001b[0m\u001b[1;32m    205\u001b[0m         \u001b[0;32mreturn\u001b[0m \u001b[0mder\u001b[0m\u001b[0;34m,\u001b[0m \u001b[0minfo\u001b[0m\u001b[0;34m\u001b[0m\u001b[0;34m\u001b[0m\u001b[0m\n\u001b[1;32m    206\u001b[0m \u001b[0;34m\u001b[0m\u001b[0m\n",
      "\u001b[0;32m/Library/Frameworks/Python.framework/Versions/3.7/lib/python3.7/site-packages/numdifftools/limits.py\u001b[0m in \u001b[0;36m_get_best_estimate\u001b[0;34m(der, errors, steps, shape)\u001b[0m\n\u001b[1;32m    182\u001b[0m     \u001b[0;34m@\u001b[0m\u001b[0mstaticmethod\u001b[0m\u001b[0;34m\u001b[0m\u001b[0;34m\u001b[0m\u001b[0m\n\u001b[1;32m    183\u001b[0m     \u001b[0;32mdef\u001b[0m \u001b[0m_get_best_estimate\u001b[0m\u001b[0;34m(\u001b[0m\u001b[0mder\u001b[0m\u001b[0;34m,\u001b[0m \u001b[0merrors\u001b[0m\u001b[0;34m,\u001b[0m \u001b[0msteps\u001b[0m\u001b[0;34m,\u001b[0m \u001b[0mshape\u001b[0m\u001b[0;34m)\u001b[0m\u001b[0;34m:\u001b[0m\u001b[0;34m\u001b[0m\u001b[0;34m\u001b[0m\u001b[0m\n\u001b[0;32m--> 184\u001b[0;31m         \u001b[0merrors\u001b[0m \u001b[0;34m+=\u001b[0m \u001b[0m_Limit\u001b[0m\u001b[0;34m.\u001b[0m\u001b[0m_add_error_to_outliers\u001b[0m\u001b[0;34m(\u001b[0m\u001b[0mder\u001b[0m\u001b[0;34m)\u001b[0m\u001b[0;34m\u001b[0m\u001b[0;34m\u001b[0m\u001b[0m\n\u001b[0m\u001b[1;32m    185\u001b[0m         \u001b[0midx\u001b[0m \u001b[0;34m=\u001b[0m \u001b[0m_Limit\u001b[0m\u001b[0;34m.\u001b[0m\u001b[0m_get_arg_min\u001b[0m\u001b[0;34m(\u001b[0m\u001b[0merrors\u001b[0m\u001b[0;34m)\u001b[0m\u001b[0;34m\u001b[0m\u001b[0;34m\u001b[0m\u001b[0m\n\u001b[1;32m    186\u001b[0m         \u001b[0mfinal_step\u001b[0m \u001b[0;34m=\u001b[0m \u001b[0msteps\u001b[0m\u001b[0;34m.\u001b[0m\u001b[0mflat\u001b[0m\u001b[0;34m[\u001b[0m\u001b[0midx\u001b[0m\u001b[0;34m]\u001b[0m\u001b[0;34m.\u001b[0m\u001b[0mreshape\u001b[0m\u001b[0;34m(\u001b[0m\u001b[0mshape\u001b[0m\u001b[0;34m)\u001b[0m\u001b[0;34m\u001b[0m\u001b[0;34m\u001b[0m\u001b[0m\n",
      "\u001b[0;32m/Library/Frameworks/Python.framework/Versions/3.7/lib/python3.7/site-packages/numdifftools/limits.py\u001b[0m in \u001b[0;36m_add_error_to_outliers\u001b[0;34m(der, trim_fact)\u001b[0m\n\u001b[1;32m    166\u001b[0m         \u001b[0;32mtry\u001b[0m\u001b[0;34m:\u001b[0m\u001b[0;34m\u001b[0m\u001b[0;34m\u001b[0m\u001b[0m\n\u001b[1;32m    167\u001b[0m             \u001b[0mmedian\u001b[0m \u001b[0;34m=\u001b[0m \u001b[0mnp\u001b[0m\u001b[0;34m.\u001b[0m\u001b[0mnanmedian\u001b[0m\u001b[0;34m(\u001b[0m\u001b[0mder\u001b[0m\u001b[0;34m,\u001b[0m \u001b[0maxis\u001b[0m\u001b[0;34m=\u001b[0m\u001b[0;36m0\u001b[0m\u001b[0;34m)\u001b[0m\u001b[0;34m\u001b[0m\u001b[0;34m\u001b[0m\u001b[0m\n\u001b[0;32m--> 168\u001b[0;31m             \u001b[0mp75\u001b[0m \u001b[0;34m=\u001b[0m \u001b[0mnp\u001b[0m\u001b[0;34m.\u001b[0m\u001b[0mnanpercentile\u001b[0m\u001b[0;34m(\u001b[0m\u001b[0mder\u001b[0m\u001b[0;34m,\u001b[0m \u001b[0;36m75\u001b[0m\u001b[0;34m,\u001b[0m \u001b[0maxis\u001b[0m\u001b[0;34m=\u001b[0m\u001b[0;36m0\u001b[0m\u001b[0;34m)\u001b[0m\u001b[0;34m\u001b[0m\u001b[0;34m\u001b[0m\u001b[0m\n\u001b[0m\u001b[1;32m    169\u001b[0m             \u001b[0mp25\u001b[0m \u001b[0;34m=\u001b[0m \u001b[0mnp\u001b[0m\u001b[0;34m.\u001b[0m\u001b[0mnanpercentile\u001b[0m\u001b[0;34m(\u001b[0m\u001b[0mder\u001b[0m\u001b[0;34m,\u001b[0m \u001b[0;36m25\u001b[0m\u001b[0;34m,\u001b[0m \u001b[0maxis\u001b[0m\u001b[0;34m=\u001b[0m\u001b[0;36m0\u001b[0m\u001b[0;34m)\u001b[0m\u001b[0;34m\u001b[0m\u001b[0;34m\u001b[0m\u001b[0m\n\u001b[1;32m    170\u001b[0m             \u001b[0miqr\u001b[0m \u001b[0;34m=\u001b[0m \u001b[0mnp\u001b[0m\u001b[0;34m.\u001b[0m\u001b[0mabs\u001b[0m\u001b[0;34m(\u001b[0m\u001b[0mp75\u001b[0m \u001b[0;34m-\u001b[0m \u001b[0mp25\u001b[0m\u001b[0;34m)\u001b[0m\u001b[0;34m\u001b[0m\u001b[0;34m\u001b[0m\u001b[0m\n",
      "\u001b[0;32m<__array_function__ internals>\u001b[0m in \u001b[0;36mnanpercentile\u001b[0;34m(*args, **kwargs)\u001b[0m\n",
      "\u001b[0;32m/Library/Frameworks/Python.framework/Versions/3.7/lib/python3.7/site-packages/numpy/lib/nanfunctions.py\u001b[0m in \u001b[0;36mnanpercentile\u001b[0;34m(a, q, axis, out, overwrite_input, interpolation, keepdims)\u001b[0m\n\u001b[1;32m   1248\u001b[0m         \u001b[0;32mraise\u001b[0m \u001b[0mValueError\u001b[0m\u001b[0;34m(\u001b[0m\u001b[0;34m\"Percentiles must be in the range [0, 100]\"\u001b[0m\u001b[0;34m)\u001b[0m\u001b[0;34m\u001b[0m\u001b[0;34m\u001b[0m\u001b[0m\n\u001b[1;32m   1249\u001b[0m     return _nanquantile_unchecked(\n\u001b[0;32m-> 1250\u001b[0;31m         a, q, axis, out, overwrite_input, interpolation, keepdims)\n\u001b[0m\u001b[1;32m   1251\u001b[0m \u001b[0;34m\u001b[0m\u001b[0m\n\u001b[1;32m   1252\u001b[0m \u001b[0;34m\u001b[0m\u001b[0m\n",
      "\u001b[0;32m/Library/Frameworks/Python.framework/Versions/3.7/lib/python3.7/site-packages/numpy/lib/nanfunctions.py\u001b[0m in \u001b[0;36m_nanquantile_unchecked\u001b[0;34m(a, q, axis, out, overwrite_input, interpolation, keepdims)\u001b[0m\n\u001b[1;32m   1374\u001b[0m     r, k = function_base._ureduce(\n\u001b[1;32m   1375\u001b[0m         \u001b[0ma\u001b[0m\u001b[0;34m,\u001b[0m \u001b[0mfunc\u001b[0m\u001b[0;34m=\u001b[0m\u001b[0m_nanquantile_ureduce_func\u001b[0m\u001b[0;34m,\u001b[0m \u001b[0mq\u001b[0m\u001b[0;34m=\u001b[0m\u001b[0mq\u001b[0m\u001b[0;34m,\u001b[0m \u001b[0maxis\u001b[0m\u001b[0;34m=\u001b[0m\u001b[0maxis\u001b[0m\u001b[0;34m,\u001b[0m \u001b[0mout\u001b[0m\u001b[0;34m=\u001b[0m\u001b[0mout\u001b[0m\u001b[0;34m,\u001b[0m\u001b[0;34m\u001b[0m\u001b[0;34m\u001b[0m\u001b[0m\n\u001b[0;32m-> 1376\u001b[0;31m         \u001b[0moverwrite_input\u001b[0m\u001b[0;34m=\u001b[0m\u001b[0moverwrite_input\u001b[0m\u001b[0;34m,\u001b[0m \u001b[0minterpolation\u001b[0m\u001b[0;34m=\u001b[0m\u001b[0minterpolation\u001b[0m\u001b[0;34m\u001b[0m\u001b[0;34m\u001b[0m\u001b[0m\n\u001b[0m\u001b[1;32m   1377\u001b[0m     )\n\u001b[1;32m   1378\u001b[0m     \u001b[0;32mif\u001b[0m \u001b[0mkeepdims\u001b[0m \u001b[0;32mand\u001b[0m \u001b[0mkeepdims\u001b[0m \u001b[0;32mis\u001b[0m \u001b[0;32mnot\u001b[0m \u001b[0mnp\u001b[0m\u001b[0;34m.\u001b[0m\u001b[0m_NoValue\u001b[0m\u001b[0;34m:\u001b[0m\u001b[0;34m\u001b[0m\u001b[0;34m\u001b[0m\u001b[0m\n",
      "\u001b[0;32m/Library/Frameworks/Python.framework/Versions/3.7/lib/python3.7/site-packages/numpy/lib/function_base.py\u001b[0m in \u001b[0;36m_ureduce\u001b[0;34m(a, func, **kwargs)\u001b[0m\n\u001b[1;32m   3562\u001b[0m         \u001b[0mkeepdim\u001b[0m \u001b[0;34m=\u001b[0m \u001b[0;34m(\u001b[0m\u001b[0;36m1\u001b[0m\u001b[0;34m,\u001b[0m\u001b[0;34m)\u001b[0m \u001b[0;34m*\u001b[0m \u001b[0ma\u001b[0m\u001b[0;34m.\u001b[0m\u001b[0mndim\u001b[0m\u001b[0;34m\u001b[0m\u001b[0;34m\u001b[0m\u001b[0m\n\u001b[1;32m   3563\u001b[0m \u001b[0;34m\u001b[0m\u001b[0m\n\u001b[0;32m-> 3564\u001b[0;31m     \u001b[0mr\u001b[0m \u001b[0;34m=\u001b[0m \u001b[0mfunc\u001b[0m\u001b[0;34m(\u001b[0m\u001b[0ma\u001b[0m\u001b[0;34m,\u001b[0m \u001b[0;34m**\u001b[0m\u001b[0mkwargs\u001b[0m\u001b[0;34m)\u001b[0m\u001b[0;34m\u001b[0m\u001b[0;34m\u001b[0m\u001b[0m\n\u001b[0m\u001b[1;32m   3565\u001b[0m     \u001b[0;32mreturn\u001b[0m \u001b[0mr\u001b[0m\u001b[0;34m,\u001b[0m \u001b[0mkeepdim\u001b[0m\u001b[0;34m\u001b[0m\u001b[0;34m\u001b[0m\u001b[0m\n\u001b[1;32m   3566\u001b[0m \u001b[0;34m\u001b[0m\u001b[0m\n",
      "\u001b[0;32m/Library/Frameworks/Python.framework/Versions/3.7/lib/python3.7/site-packages/numpy/lib/nanfunctions.py\u001b[0m in \u001b[0;36m_nanquantile_ureduce_func\u001b[0;34m(a, q, axis, out, overwrite_input, interpolation)\u001b[0m\n\u001b[1;32m   1394\u001b[0m     \u001b[0;32melse\u001b[0m\u001b[0;34m:\u001b[0m\u001b[0;34m\u001b[0m\u001b[0;34m\u001b[0m\u001b[0m\n\u001b[1;32m   1395\u001b[0m         result = np.apply_along_axis(_nanquantile_1d, axis, a, q,\n\u001b[0;32m-> 1396\u001b[0;31m                                      overwrite_input, interpolation)\n\u001b[0m\u001b[1;32m   1397\u001b[0m         \u001b[0;31m# apply_along_axis fills in collapsed axis with results.\u001b[0m\u001b[0;34m\u001b[0m\u001b[0;34m\u001b[0m\u001b[0;34m\u001b[0m\u001b[0m\n\u001b[1;32m   1398\u001b[0m         \u001b[0;31m# Move that axis to the beginning to match percentile's\u001b[0m\u001b[0;34m\u001b[0m\u001b[0;34m\u001b[0m\u001b[0;34m\u001b[0m\u001b[0m\n",
      "\u001b[0;32m<__array_function__ internals>\u001b[0m in \u001b[0;36mapply_along_axis\u001b[0;34m(*args, **kwargs)\u001b[0m\n",
      "\u001b[0;32m/Library/Frameworks/Python.framework/Versions/3.7/lib/python3.7/site-packages/numpy/lib/shape_base.py\u001b[0m in \u001b[0;36mapply_along_axis\u001b[0;34m(func1d, axis, arr, *args, **kwargs)\u001b[0m\n\u001b[1;32m    400\u001b[0m     \u001b[0mbuff\u001b[0m\u001b[0;34m[\u001b[0m\u001b[0mind0\u001b[0m\u001b[0;34m]\u001b[0m \u001b[0;34m=\u001b[0m \u001b[0mres\u001b[0m\u001b[0;34m\u001b[0m\u001b[0;34m\u001b[0m\u001b[0m\n\u001b[1;32m    401\u001b[0m     \u001b[0;32mfor\u001b[0m \u001b[0mind\u001b[0m \u001b[0;32min\u001b[0m \u001b[0minds\u001b[0m\u001b[0;34m:\u001b[0m\u001b[0;34m\u001b[0m\u001b[0;34m\u001b[0m\u001b[0m\n\u001b[0;32m--> 402\u001b[0;31m         \u001b[0mbuff\u001b[0m\u001b[0;34m[\u001b[0m\u001b[0mind\u001b[0m\u001b[0;34m]\u001b[0m \u001b[0;34m=\u001b[0m \u001b[0masanyarray\u001b[0m\u001b[0;34m(\u001b[0m\u001b[0mfunc1d\u001b[0m\u001b[0;34m(\u001b[0m\u001b[0minarr_view\u001b[0m\u001b[0;34m[\u001b[0m\u001b[0mind\u001b[0m\u001b[0;34m]\u001b[0m\u001b[0;34m,\u001b[0m \u001b[0;34m*\u001b[0m\u001b[0margs\u001b[0m\u001b[0;34m,\u001b[0m \u001b[0;34m**\u001b[0m\u001b[0mkwargs\u001b[0m\u001b[0;34m)\u001b[0m\u001b[0;34m)\u001b[0m\u001b[0;34m\u001b[0m\u001b[0;34m\u001b[0m\u001b[0m\n\u001b[0m\u001b[1;32m    403\u001b[0m \u001b[0;34m\u001b[0m\u001b[0m\n\u001b[1;32m    404\u001b[0m     \u001b[0;32mif\u001b[0m \u001b[0;32mnot\u001b[0m \u001b[0misinstance\u001b[0m\u001b[0;34m(\u001b[0m\u001b[0mres\u001b[0m\u001b[0;34m,\u001b[0m \u001b[0mmatrix\u001b[0m\u001b[0;34m)\u001b[0m\u001b[0;34m:\u001b[0m\u001b[0;34m\u001b[0m\u001b[0;34m\u001b[0m\u001b[0m\n",
      "\u001b[0;32m/Library/Frameworks/Python.framework/Versions/3.7/lib/python3.7/site-packages/numpy/lib/nanfunctions.py\u001b[0m in \u001b[0;36m_nanquantile_1d\u001b[0;34m(arr1d, q, overwrite_input, interpolation)\u001b[0m\n\u001b[1;32m   1417\u001b[0m \u001b[0;34m\u001b[0m\u001b[0m\n\u001b[1;32m   1418\u001b[0m     return function_base._quantile_unchecked(\n\u001b[0;32m-> 1419\u001b[0;31m         arr1d, q, overwrite_input=overwrite_input, interpolation=interpolation)\n\u001b[0m\u001b[1;32m   1420\u001b[0m \u001b[0;34m\u001b[0m\u001b[0m\n\u001b[1;32m   1421\u001b[0m \u001b[0;34m\u001b[0m\u001b[0m\n",
      "\u001b[0;32m/Library/Frameworks/Python.framework/Versions/3.7/lib/python3.7/site-packages/numpy/lib/function_base.py\u001b[0m in \u001b[0;36m_quantile_unchecked\u001b[0;34m(a, q, axis, out, overwrite_input, interpolation, keepdims)\u001b[0m\n\u001b[1;32m   3986\u001b[0m     r, k = _ureduce(a, func=_quantile_ureduce_func, q=q, axis=axis, out=out,\n\u001b[1;32m   3987\u001b[0m                     \u001b[0moverwrite_input\u001b[0m\u001b[0;34m=\u001b[0m\u001b[0moverwrite_input\u001b[0m\u001b[0;34m,\u001b[0m\u001b[0;34m\u001b[0m\u001b[0;34m\u001b[0m\u001b[0m\n\u001b[0;32m-> 3988\u001b[0;31m                     interpolation=interpolation)\n\u001b[0m\u001b[1;32m   3989\u001b[0m     \u001b[0;32mif\u001b[0m \u001b[0mkeepdims\u001b[0m\u001b[0;34m:\u001b[0m\u001b[0;34m\u001b[0m\u001b[0;34m\u001b[0m\u001b[0m\n\u001b[1;32m   3990\u001b[0m         \u001b[0;32mreturn\u001b[0m \u001b[0mr\u001b[0m\u001b[0;34m.\u001b[0m\u001b[0mreshape\u001b[0m\u001b[0;34m(\u001b[0m\u001b[0mq\u001b[0m\u001b[0;34m.\u001b[0m\u001b[0mshape\u001b[0m \u001b[0;34m+\u001b[0m \u001b[0mk\u001b[0m\u001b[0;34m)\u001b[0m\u001b[0;34m\u001b[0m\u001b[0;34m\u001b[0m\u001b[0m\n",
      "\u001b[0;32m/Library/Frameworks/Python.framework/Versions/3.7/lib/python3.7/site-packages/numpy/lib/function_base.py\u001b[0m in \u001b[0;36m_ureduce\u001b[0;34m(a, func, **kwargs)\u001b[0m\n\u001b[1;32m   3562\u001b[0m         \u001b[0mkeepdim\u001b[0m \u001b[0;34m=\u001b[0m \u001b[0;34m(\u001b[0m\u001b[0;36m1\u001b[0m\u001b[0;34m,\u001b[0m\u001b[0;34m)\u001b[0m \u001b[0;34m*\u001b[0m \u001b[0ma\u001b[0m\u001b[0;34m.\u001b[0m\u001b[0mndim\u001b[0m\u001b[0;34m\u001b[0m\u001b[0;34m\u001b[0m\u001b[0m\n\u001b[1;32m   3563\u001b[0m \u001b[0;34m\u001b[0m\u001b[0m\n\u001b[0;32m-> 3564\u001b[0;31m     \u001b[0mr\u001b[0m \u001b[0;34m=\u001b[0m \u001b[0mfunc\u001b[0m\u001b[0;34m(\u001b[0m\u001b[0ma\u001b[0m\u001b[0;34m,\u001b[0m \u001b[0;34m**\u001b[0m\u001b[0mkwargs\u001b[0m\u001b[0;34m)\u001b[0m\u001b[0;34m\u001b[0m\u001b[0;34m\u001b[0m\u001b[0m\n\u001b[0m\u001b[1;32m   3565\u001b[0m     \u001b[0;32mreturn\u001b[0m \u001b[0mr\u001b[0m\u001b[0;34m,\u001b[0m \u001b[0mkeepdim\u001b[0m\u001b[0;34m\u001b[0m\u001b[0;34m\u001b[0m\u001b[0m\n\u001b[1;32m   3566\u001b[0m \u001b[0;34m\u001b[0m\u001b[0m\n",
      "\u001b[0;32m/Library/Frameworks/Python.framework/Versions/3.7/lib/python3.7/site-packages/numpy/lib/function_base.py\u001b[0m in \u001b[0;36m_quantile_ureduce_func\u001b[0;34m(***failed resolving arguments***)\u001b[0m\n\u001b[1;32m   4070\u001b[0m     \u001b[0;32mdel\u001b[0m \u001b[0maxis\u001b[0m\u001b[0;34m\u001b[0m\u001b[0;34m\u001b[0m\u001b[0m\n\u001b[1;32m   4071\u001b[0m \u001b[0;34m\u001b[0m\u001b[0m\n\u001b[0;32m-> 4072\u001b[0;31m     \u001b[0;32mif\u001b[0m \u001b[0mnp\u001b[0m\u001b[0;34m.\u001b[0m\u001b[0missubdtype\u001b[0m\u001b[0;34m(\u001b[0m\u001b[0mindices\u001b[0m\u001b[0;34m.\u001b[0m\u001b[0mdtype\u001b[0m\u001b[0;34m,\u001b[0m \u001b[0mnp\u001b[0m\u001b[0;34m.\u001b[0m\u001b[0minteger\u001b[0m\u001b[0;34m)\u001b[0m\u001b[0;34m:\u001b[0m\u001b[0;34m\u001b[0m\u001b[0;34m\u001b[0m\u001b[0m\n\u001b[0m\u001b[1;32m   4073\u001b[0m         \u001b[0;31m# take the points along axis\u001b[0m\u001b[0;34m\u001b[0m\u001b[0;34m\u001b[0m\u001b[0;34m\u001b[0m\u001b[0m\n\u001b[1;32m   4074\u001b[0m \u001b[0;34m\u001b[0m\u001b[0m\n",
      "\u001b[0;32m/Library/Frameworks/Python.framework/Versions/3.7/lib/python3.7/site-packages/numpy/core/numerictypes.py\u001b[0m in \u001b[0;36missubdtype\u001b[0;34m(arg1, arg2)\u001b[0m\n\u001b[1;32m    416\u001b[0m     \"\"\"\n\u001b[1;32m    417\u001b[0m     \u001b[0;32mif\u001b[0m \u001b[0;32mnot\u001b[0m \u001b[0missubclass_\u001b[0m\u001b[0;34m(\u001b[0m\u001b[0marg1\u001b[0m\u001b[0;34m,\u001b[0m \u001b[0mgeneric\u001b[0m\u001b[0;34m)\u001b[0m\u001b[0;34m:\u001b[0m\u001b[0;34m\u001b[0m\u001b[0;34m\u001b[0m\u001b[0m\n\u001b[0;32m--> 418\u001b[0;31m         \u001b[0marg1\u001b[0m \u001b[0;34m=\u001b[0m \u001b[0mdtype\u001b[0m\u001b[0;34m(\u001b[0m\u001b[0marg1\u001b[0m\u001b[0;34m)\u001b[0m\u001b[0;34m.\u001b[0m\u001b[0mtype\u001b[0m\u001b[0;34m\u001b[0m\u001b[0;34m\u001b[0m\u001b[0m\n\u001b[0m\u001b[1;32m    419\u001b[0m     \u001b[0;32mif\u001b[0m \u001b[0;32mnot\u001b[0m \u001b[0missubclass_\u001b[0m\u001b[0;34m(\u001b[0m\u001b[0marg2\u001b[0m\u001b[0;34m,\u001b[0m \u001b[0mgeneric\u001b[0m\u001b[0;34m)\u001b[0m\u001b[0;34m:\u001b[0m\u001b[0;34m\u001b[0m\u001b[0;34m\u001b[0m\u001b[0m\n\u001b[1;32m    420\u001b[0m         \u001b[0marg2\u001b[0m \u001b[0;34m=\u001b[0m \u001b[0mdtype\u001b[0m\u001b[0;34m(\u001b[0m\u001b[0marg2\u001b[0m\u001b[0;34m)\u001b[0m\u001b[0;34m.\u001b[0m\u001b[0mtype\u001b[0m\u001b[0;34m\u001b[0m\u001b[0;34m\u001b[0m\u001b[0m\n",
      "\u001b[0;31mKeyboardInterrupt\u001b[0m: "
     ]
    }
   ],
   "source": [
    "startTime1 = datetime.now()\n",
    "us=odeint(manipulator,q0,t, args=(q,))\n",
    "print(datetime.now() - startTime1)"
   ]
  },
  {
   "cell_type": "code",
   "execution_count": null,
   "metadata": {},
   "outputs": [],
   "source": [
    "(1e-05)%((1e-04)*10)"
   ]
  },
  {
   "cell_type": "code",
   "execution_count": null,
   "metadata": {},
   "outputs": [],
   "source": [
    "us_=us"
   ]
  },
  {
   "cell_type": "code",
   "execution_count": null,
   "metadata": {},
   "outputs": [],
   "source": [
    "plt.plot(t,np.radians(us_[:,0]) ,'-')\n",
    "plt.xlabel('t')\n",
    "plt.ylabel('q0 (rad)')\n",
    "plt.show()"
   ]
  },
  {
   "cell_type": "code",
   "execution_count": null,
   "metadata": {},
   "outputs": [],
   "source": [
    "plt.plot(t,us_[:,1],'-')\n",
    "plt.xlabel('t')\n",
    "plt.ylabel('dq0')\n",
    "plt.show()"
   ]
  },
  {
   "cell_type": "code",
   "execution_count": null,
   "metadata": {},
   "outputs": [],
   "source": [
    "plt.plot(t, np.radians(us_[:,2]),'-')\n",
    "plt.xlabel('t')\n",
    "plt.ylabel('q1 (rad)')\n",
    "plt.show()"
   ]
  },
  {
   "cell_type": "code",
   "execution_count": null,
   "metadata": {},
   "outputs": [],
   "source": [
    "plt.plot(t, us_[:,3],'-')\n",
    "plt.xlabel('t')\n",
    "plt.ylabel('dq1')\n",
    "plt.show()"
   ]
  },
  {
   "cell_type": "code",
   "execution_count": null,
   "metadata": {},
   "outputs": [],
   "source": [
    "plt.plot(t, np.radians(us_[:,4]),'-')\n",
    "plt.xlabel('t')\n",
    "plt.ylabel('q2 (rad)')\n",
    "plt.show()"
   ]
  },
  {
   "cell_type": "code",
   "execution_count": null,
   "metadata": {},
   "outputs": [],
   "source": [
    "plt.plot(t, us_[:,5],'-')\n",
    "plt.xlabel('t')\n",
    "plt.ylabel('dq2')\n",
    "plt.show()"
   ]
  },
  {
   "cell_type": "code",
   "execution_count": null,
   "metadata": {},
   "outputs": [],
   "source": [
    "plt.plot(t, np.radians(us_[:,6]),'-')\n",
    "plt.xlabel('t')\n",
    "plt.ylabel('q3 (rad)')\n",
    "plt.show()"
   ]
  },
  {
   "cell_type": "code",
   "execution_count": null,
   "metadata": {},
   "outputs": [],
   "source": [
    "plt.plot(t, us_[:,7],'-')\n",
    "plt.xlabel('t')\n",
    "plt.ylabel('dq3')\n",
    "plt.show()"
   ]
  },
  {
   "cell_type": "code",
   "execution_count": null,
   "metadata": {},
   "outputs": [],
   "source": [
    "X0=[x(alpha(us_[i,[0,2,4,6]]),0,l) for i in range(len(us_))]\n",
    "Y0=[y(alpha(us_[i,[0,2,4,6]]),0,l) for i in range(len(us_))]\n",
    "X1=[x(alpha(us_[i,[0,2,4,6]]),1,l) for i in range(len(us_))]\n",
    "Y1=[y(alpha(us_[i,[0,2,4,6]]),1,l) for i in range(len(us_))]\n",
    "X2=[x(alpha(us_[i,[0,2,4,6]]),2,l) for i in range(len(us_))]\n",
    "Y2=[y(alpha(us_[i,[0,2,4,6]]),2,l) for i in range(len(us_))]\n",
    "X3=[x(alpha(us_[i,[0,2,4,6]]),3,l) for i in range(len(us_))]\n",
    "Y3=[y(alpha(us_[i,[0,2,4,6]]),3,l) for i in range(len(us_))]"
   ]
  },
  {
   "cell_type": "code",
   "execution_count": null,
   "metadata": {},
   "outputs": [],
   "source": [
    "X0_=[x(alpha(us_[i,[0,2,4,6]]),0,l) for i in range(1)]\n",
    "Y0_=[y(alpha(us_[i,[0,2,4,6]]),0,l) for i in range(1)]\n",
    "X1_=[x(alpha(us_[i,[0,2,4,6]]),1,l) for i in range(1)]\n",
    "Y1_=[y(alpha(us_[i,[0,2,4,6]]),1,l) for i in range(1)]\n",
    "X2_=[x(alpha(us_[i,[0,2,4,6]]),2,l) for i in range(1)]\n",
    "Y2_=[y(alpha(us_[i,[0,2,4,6]]),2,l) for i in range(1)]\n",
    "X3_=[x(alpha(us_[i,[0,2,4,6]]),3,l) for i in range(1)]\n",
    "Y3_=[y(alpha(us_[i,[0,2,4,6]]),3,l) for i in range(1)]"
   ]
  },
  {
   "cell_type": "code",
   "execution_count": null,
   "metadata": {},
   "outputs": [],
   "source": [
    "plt.figure(figsize=(14,4))\n",
    "plt.plot(X0_,Y0_, 'o', color='black')\n",
    "plt.plot(X1_,Y1_, 'o', color='black')\n",
    "plt.plot(X2_,Y2_, 'o', color='black')\n",
    "plt.plot(X3_,Y3_, 'o', color='black')\n",
    "\n",
    "# dynamic\n",
    "plt.plot(X0,Y0,'b')\n",
    "plt.plot(X1,Y1,'y')\n",
    "plt.plot(X2,Y2,'g')\n",
    "plt.plot(X3,Y3,'r')\n",
    "\n",
    "plt.plot(x(alpha(us_[-1,[0,2,4,6]]),0,l),y(alpha(us_[-1,[0,2,4,6]]),0,l), 'o', color='green')\n",
    "plt.plot(x(alpha(us_[-1,[0,2,4,6]]),1,l),y(alpha(us_[-1,[0,2,4,6]]),1,l), 'o', color='green')\n",
    "plt.plot(x(alpha(us_[-1,[0,2,4,6]]),2,l),y(alpha(us_[-1,[0,2,4,6]]),2,l), 'o', color='green')\n",
    "plt.plot(x(alpha(us_[-1,[0,2,4,6]]),3,l),y(alpha(us_[-1,[0,2,4,6]]),3,l), 'o', color='green')\n",
    "\n",
    "# plt.plot(x0, y0)\n",
    "plt.xlabel('X')\n",
    "plt.ylabel('Y')\n",
    "\n",
    "plt.show()"
   ]
  },
  {
   "cell_type": "code",
   "execution_count": null,
   "metadata": {},
   "outputs": [],
   "source": [
    "us_[0,0]"
   ]
  },
  {
   "cell_type": "code",
   "execution_count": null,
   "metadata": {},
   "outputs": [],
   "source": [
    "us_[0,2]"
   ]
  },
  {
   "cell_type": "code",
   "execution_count": null,
   "metadata": {},
   "outputs": [],
   "source": [
    "us_[0,4]"
   ]
  },
  {
   "cell_type": "code",
   "execution_count": null,
   "metadata": {},
   "outputs": [],
   "source": [
    "us_[0,6]"
   ]
  },
  {
   "cell_type": "code",
   "execution_count": null,
   "metadata": {},
   "outputs": [],
   "source": [
    "us_[0,0]+us_[0,2]+us_[0,4]+us_[0,6]"
   ]
  },
  {
   "cell_type": "markdown",
   "metadata": {},
   "source": [
    "### Pipe-tip tension"
   ]
  },
  {
   "cell_type": "code",
   "execution_count": null,
   "metadata": {},
   "outputs": [],
   "source": [
    "coordinates=us[:,[0,2,4,6]]\n",
    "velocities=us[:,[1,3,5,7]]"
   ]
  },
  {
   "cell_type": "code",
   "execution_count": null,
   "metadata": {},
   "outputs": [],
   "source": [
    "alp_=[]\n",
    "for i in range(len(us)):\n",
    "    alp_.append(alpha(coordinates[i]))\n",
    "alp_=np.matrix(alp_)    "
   ]
  },
  {
   "cell_type": "code",
   "execution_count": null,
   "metadata": {},
   "outputs": [],
   "source": [
    "velocities.shape"
   ]
  },
  {
   "cell_type": "code",
   "execution_count": null,
   "metadata": {},
   "outputs": [],
   "source": [
    "velocities_0=velocities[:-1]\n",
    "velocities_1=velocities[1:]"
   ]
  },
  {
   "cell_type": "code",
   "execution_count": null,
   "metadata": {},
   "outputs": [],
   "source": [
    "coordinates.shape, velocities.shape"
   ]
  },
  {
   "cell_type": "code",
   "execution_count": null,
   "metadata": {},
   "outputs": [],
   "source": [
    "startTime1 = datetime.now()\n",
    "\n",
    "add4=functools.partial(C, l=l, mn=mn, In=In, mi=mi)\n",
    "add4__C =np.array(list(map(add4, coordinates, velocities)))\n",
    "\n",
    "print(datetime.now() - startTime1)"
   ]
  },
  {
   "cell_type": "code",
   "execution_count": null,
   "metadata": {},
   "outputs": [],
   "source": [
    "startTime = datetime.now()\n",
    "\n",
    "add1=functools.partial(Jv, i=len(q)-1, l=l)\n",
    "add1__Jv = np.array(list(map(add1, coordinates)))\n",
    "\n",
    "add2=functools.partial(M, l=l, mn=mn, In=In, mi=mi)\n",
    "add2__M =np.array(list(map(add2, coordinates)))\n",
    "\n",
    "add3=functools.partial(H,  l=l)\n",
    "add3__H =np.array(list(map(add3, alp_.tolist(), coordinates, velocities)))\n",
    "\n",
    "add5=functools.partial(f, k=K)\n",
    "add5__f =np.array(list(map(add5, coordinates)))\n",
    "\n",
    "add6=functools.partial(g)\n",
    "add6__g =np.array(list(map(add6, coordinates, alp_.tolist())))\n",
    "\n",
    "print(datetime.now() - startTime)"
   ]
  },
  {
   "cell_type": "code",
   "execution_count": null,
   "metadata": {},
   "outputs": [],
   "source": [
    "velocities_1.shape"
   ]
  },
  {
   "cell_type": "code",
   "execution_count": null,
   "metadata": {},
   "outputs": [],
   "source": [
    "add5__f.shape"
   ]
  },
  {
   "cell_type": "code",
   "execution_count": null,
   "metadata": {},
   "outputs": [],
   "source": [
    "add6__g.shape"
   ]
  },
  {
   "cell_type": "code",
   "execution_count": null,
   "metadata": {},
   "outputs": [],
   "source": [
    "add3__H.shape"
   ]
  },
  {
   "cell_type": "code",
   "execution_count": null,
   "metadata": {},
   "outputs": [],
   "source": [
    "tmp__1=pinv(add1__Jv[:-1].transpose(0, 2, 1))\n",
    "#here\n",
    "tmp__2=np.matmul(add2__M[:-1], ((np.radians(velocities_1).reshape(dim2,4,1) - \n",
    "                              np.radians(velocities_0).reshape(dim2,4,1))/dt))\\\n",
    "            + np.matmul(add3__H[:-1], np.radians(velocities[:-1]).reshape(dim2,4,1)) \\\n",
    "            + np.matmul(add4__C[:-1], np.radians(velocities[:-1]).reshape(dim2,4,1)) \\\n",
    "            + add5__f[:-1] \\\n",
    "            + add6__g[:-1]"
   ]
  },
  {
   "cell_type": "code",
   "execution_count": null,
   "metadata": {},
   "outputs": [],
   "source": [
    "tmp__=np.matmul(tmp__1, tmp__2)"
   ]
  },
  {
   "cell_type": "code",
   "execution_count": null,
   "metadata": {},
   "outputs": [],
   "source": [
    "plt.plot(t[:len(tmp__)],tmp__[:,0],'-')\n",
    "plt.xlim([-1, dim1//2])\n",
    "plt.ylim([-300000000, 300000000])\n",
    "plt.xlabel('t')\n",
    "plt.ylabel('T_H')\n",
    "plt.show()"
   ]
  },
  {
   "cell_type": "code",
   "execution_count": null,
   "metadata": {},
   "outputs": [],
   "source": [
    "plt.plot(t[:len(tmp__)],tmp__[:,1],'-')\n",
    "plt.xlim([-1, dim1//2])\n",
    "plt.ylim([-100000000, 100000000])\n",
    "plt.xlabel('t')\n",
    "plt.ylabel('T_V')\n",
    "plt.show()"
   ]
  },
  {
   "cell_type": "code",
   "execution_count": null,
   "metadata": {},
   "outputs": [],
   "source": [
    "max(tmp__[:,0]), max(tmp__[:,1])"
   ]
  },
  {
   "cell_type": "code",
   "execution_count": null,
   "metadata": {},
   "outputs": [],
   "source": [
    "min(tmp__[:,0]), min(tmp__[:,1])"
   ]
  },
  {
   "cell_type": "code",
   "execution_count": null,
   "metadata": {},
   "outputs": [],
   "source": [
    "# (array([28319143.73486871]), array([25605994.71854329])) just waves\n",
    "# (array([28491881.95694733]), array([25520818.9120822]))  positive Fx\n",
    "# (array([28146301.99196166]), array([25687403.50463529])) negative Fx\n",
    "# (array([30076743.25808775]), array([25019302.28641659])) large positive Fx\n",
    "# (array([26618614.2824719]),  array([26179692.06953637])) large negative Fx\n",
    "# (array([3953150.66297572]),  array([1508270.46574422]))  fip=1e10\n",
    "# (array([6746771.13788591]),  array([10057989.37909701])) max_t = 300\n",
    "# (array([2084853.78862965]),  array([766900.49862976])) fip=1e9\n",
    "# (array([1518705.92013393]),  array([361011.0471009])) fip=5e8\n",
    "# (array([2212275.89406135]),  array([634267.05259892])) fip=4e8"
   ]
  },
  {
   "cell_type": "code",
   "execution_count": null,
   "metadata": {},
   "outputs": [],
   "source": [
    "# ρa = 1.200 * 10**3 # g/m3\n",
    "# ρs=7.850 * 10**6\n",
    "# di = 0.6900 # m\n",
    "# do = 0.7610 "
   ]
  },
  {
   "cell_type": "code",
   "execution_count": null,
   "metadata": {},
   "outputs": [],
   "source": [
    "# Q=(ρa-ρs)*(di/do)**2+ρs  # g/m3"
   ]
  },
  {
   "cell_type": "code",
   "execution_count": null,
   "metadata": {},
   "outputs": [],
   "source": [
    "# length=1000"
   ]
  },
  {
   "cell_type": "code",
   "execution_count": null,
   "metadata": {},
   "outputs": [],
   "source": [
    "# V=math.pi * (do/2)**2 * length - math.pi * (di/2)**2 * length #m3"
   ]
  },
  {
   "cell_type": "code",
   "execution_count": null,
   "metadata": {},
   "outputs": [],
   "source": [
    "#m3"
   ]
  },
  {
   "cell_type": "code",
   "execution_count": null,
   "metadata": {},
   "outputs": [],
   "source": [
    "# Q*V/length/1000"
   ]
  },
  {
   "cell_type": "code",
   "execution_count": null,
   "metadata": {},
   "outputs": [],
   "source": [
    "my_max= 300#sampleTime*N\n",
    "my_time=0\n",
    "my_n=0\n",
    "count=0\n",
    "my_update=1\n",
    "while count<10000:\n",
    "    if my_time%my_max==0:\n",
    "        my_n+=1\n",
    "\n",
    "    my_time+=(-1)**my_n*my_update   \n",
    "    print(my_max,abs(my_time))\n",
    "    count+=1\n",
    "        \n",
    "        "
   ]
  },
  {
   "cell_type": "code",
   "execution_count": null,
   "metadata": {},
   "outputs": [],
   "source": [
    "# Import libraries\n",
    "import numpy as np\n",
    "from scipy.integrate import odeint\n",
    "import matplotlib.pyplot as plt\n",
    "\n",
    "# Define model function\n",
    "def model(z,t,u):\n",
    "    x = z[0] # state variable x\n",
    "    y = z[1] # state variable y\n",
    "    dxdt = -x + u # differential equation for x\n",
    "    dydt = x - y # differential equation for y\n",
    "    dzdt = [dxdt,dydt] # vector of derivatives\n",
    "    return dzdt\n",
    "\n",
    "# Define feedback control function\n",
    "def feedback(z):\n",
    "    x = z[0] # state variable x\n",
    "    y = z[1] # state variable y\n",
    "    K = 2 # feedback gain\n",
    "    u = -K * x # feedback control law\n",
    "    return u\n",
    "\n",
    "# Initial conditions\n",
    "z0 = [1,-1] # initial state vector\n",
    "\n",
    "# Time points\n",
    "t = np.linspace(0,10,101) # time span and steps\n",
    "\n",
    "# Empty list to store control inputs\n",
    "u_list = []\n",
    "\n",
    "# Solve the system for each time step\n",
    "for i in range(len(t)-1):\n",
    "    # Get the current state vector\n",
    "    z = odeint(model,z0,[t[i],t[i+1]],args=(feedback(z0),))\n",
    "    # Store the current state vector\n",
    "    z0 = z[1]\n",
    "    # Store the current control input\n",
    "    u_list.append(feedback(z0))\n",
    "\n",
    "# Convert the list to array\n",
    "u_array = np.array(u_list)\n",
    "\n",
    "# # Plot the results\n",
    "# plt.figure()\n",
    "# plt.subplot(2,1,1)\n",
    "# plt.plot(t[:-1],u_array,'b-',label='u')\n",
    "# plt.ylabel('Control input')\n",
    "# plt.legend()\n",
    "# plt.subplot(2,1,2)\n",
    "# plt.plot(t[:-1],z[0,:],'r-',label='x')\n",
    "# plt.plot(t[:-1],z[1,:],'g--',label='y')\n",
    "# plt.xlabel('Time')\n",
    "# plt.ylabel('State variables')\n",
    "# plt.legend()\n",
    "# plt.show()"
   ]
  },
  {
   "cell_type": "code",
   "execution_count": null,
   "metadata": {},
   "outputs": [],
   "source": [
    "# Hs = 2.5 # significant wave height in m"
   ]
  },
  {
   "cell_type": "code",
   "execution_count": null,
   "metadata": {},
   "outputs": [],
   "source": [
    "# def wave_force(Hs,d0,qw, Cd=1.2):\n",
    "#     g=9.81 \n",
    "#     return 0.5 * qw * g * Hs**2 * d0 * Cd"
   ]
  },
  {
   "cell_type": "code",
   "execution_count": null,
   "metadata": {},
   "outputs": [],
   "source": [
    "# wave_force(Hs,d0,qw, Cd=1.2)"
   ]
  },
  {
   "cell_type": "code",
   "execution_count": null,
   "metadata": {},
   "outputs": [],
   "source": [
    "# η"
   ]
  },
  {
   "cell_type": "code",
   "execution_count": null,
   "metadata": {},
   "outputs": [],
   "source": [
    "# def tau(η, dη, wave_force, kp, kd,time, Hs=2.5, Tp=10, x_ref = 0, dx_ref=0):\n",
    "#     x,y,z,φ,θ,ψ=η\n",
    "#     dx,dy,dz,dφ,dθ,dψ=dη\n",
    "# #     print(-Fx(x,dx, kp, kd, x_ref, dx_ref))\n",
    "#     F=(np.array([-Fx(x,dx, kp, kd, x_ref, dx_ref),0,0])+np.array([0,0,wave_force(Hs,d0,qw)])).T*np.sin(2*np.pi/Tp*time)\n",
    "# #     print(F)\n",
    "#     Ret=Re_t_([φ,θ,ψ])\n",
    "    \n",
    "#     return  np.concatenate([np.dot(Re_b(Ret), F),[0,0,0]], axis=0)"
   ]
  },
  {
   "cell_type": "code",
   "execution_count": null,
   "metadata": {},
   "outputs": [],
   "source": [
    "# tau(η, dη, wave_force, kp, kd,1)"
   ]
  },
  {
   "cell_type": "code",
   "execution_count": null,
   "metadata": {},
   "outputs": [],
   "source": []
  },
  {
   "cell_type": "code",
   "execution_count": null,
   "metadata": {},
   "outputs": [],
   "source": []
  }
 ],
 "metadata": {
  "kernelspec": {
   "display_name": "Python 3",
   "language": "python",
   "name": "python3"
  },
  "language_info": {
   "codemirror_mode": {
    "name": "ipython",
    "version": 3
   },
   "file_extension": ".py",
   "mimetype": "text/x-python",
   "name": "python",
   "nbconvert_exporter": "python",
   "pygments_lexer": "ipython3",
   "version": "3.7.7"
  }
 },
 "nbformat": 4,
 "nbformat_minor": 4
}
