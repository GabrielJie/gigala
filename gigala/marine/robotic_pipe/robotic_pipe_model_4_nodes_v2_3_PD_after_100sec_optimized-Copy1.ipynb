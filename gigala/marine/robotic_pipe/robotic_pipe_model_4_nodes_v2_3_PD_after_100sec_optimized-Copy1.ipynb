{
 "cells": [
  {
   "cell_type": "markdown",
   "metadata": {},
   "source": [
    "#### Model taken from:\n",
    "- Offshore Pipelaying Dynamics. Gullik Anthon Jensen \n",
    "- Modelling and Control of Offshore Marine Pipeline during Pipelay. Gullik A. Jensen et al"
   ]
  },
  {
   "cell_type": "markdown",
   "metadata": {},
   "source": [
    "M(q)q ̈ + C(q,q ̇)q ̇ + H(q,q ̇)q ̇ + f(q) + g(q) = τ"
   ]
  },
  {
   "cell_type": "code",
   "execution_count": 1,
   "metadata": {},
   "outputs": [],
   "source": [
    "# DONE - make sure all parameters (vessel and pipe) are in the same reference frame, e.g p.78, p.142\n",
    "# DONE - do I have seabed interaction force in the model?\n",
    "# DONE - applied top tension in dynamic case might have been time varying, Jensen thesis p.76-77\n",
    "# DONE - do I have stinger accounted in the model? do I need stinger in the model?, see 3338.pdf\n",
    "# DONE - degree - radians\n",
    "# DONE - verify results against the catenary\n",
    "# DONE - add more nodes\n",
    "\n",
    "# TODO - roller reaction (force) should be proportional to pipe vertical displacement at rollers?\n",
    "\n",
    "# TAKEAWAY - use catenary for initial input"
   ]
  },
  {
   "cell_type": "code",
   "execution_count": 2,
   "metadata": {},
   "outputs": [],
   "source": [
    "import numpy as np\n",
    "import math\n",
    "from scipy.integrate import odeint, ode, solve_ivp\n",
    "from scipy.integrate import ode\n",
    "from scipy.misc import derivative\n",
    "from numpy.linalg import inv, pinv\n",
    "import numdifftools as nd\n",
    "import tqdm\n",
    "import functools\n",
    "from datetime import datetime\n",
    "from scipy.optimize import fsolve"
   ]
  },
  {
   "cell_type": "code",
   "execution_count": 3,
   "metadata": {},
   "outputs": [],
   "source": [
    "%matplotlib inline"
   ]
  },
  {
   "cell_type": "code",
   "execution_count": 4,
   "metadata": {},
   "outputs": [],
   "source": [
    "import matplotlib.pyplot as plt"
   ]
  },
  {
   "cell_type": "markdown",
   "metadata": {},
   "source": [
    "### Inputs"
   ]
  },
  {
   "cell_type": "code",
   "execution_count": 5,
   "metadata": {},
   "outputs": [],
   "source": [
    "pipe_joint_length = 2763 #250 #600 #100 # [m]\n",
    "pipe_weight_per_unit_length = 96 #  (submerged) [kg/m]  # 113.07 - not submerged\n",
    "\n",
    "q = [0.9939840275055615, 1.986772044151028, 1.9831911966919273, 1.9772469629333669] # used for initial checks only but not in final solution \n",
    "l = [pipe_joint_length for i in range(len(q))]\n",
    "\n",
    "# mn = 5.08976 * 10e7 # mass of the vessel, [kg]\n",
    "# In = 5.041*10e7 # moment of inertia of the vessel, [kg*𝑚2]\n",
    "# mn = 80048 # mass of the vessel, [kg]\n",
    "# In = 50410 # moment of inertia of the vessel, [kg*𝑚2]\n",
    "\n",
    "mn = 32219000 # mass of the vessel, [kg]\n",
    "# mn = 5.08976 *1e7 # mass of the vessel, [kg]"
   ]
  },
  {
   "cell_type": "code",
   "execution_count": 6,
   "metadata": {},
   "outputs": [],
   "source": [
    "# L - the hull length\n",
    "# Xg - x-center of gravity\n",
    "\n",
    "L = 169 # [m]\n",
    "Xg = 78 # [m]\n",
    "# L = 240 # [m]\n",
    "# Xg = 120 # [m]"
   ]
  },
  {
   "cell_type": "code",
   "execution_count": 7,
   "metadata": {},
   "outputs": [],
   "source": [
    "# Fossen book p.181\n",
    "def vessel_inertia_moment(mn, Xg, L):\n",
    "    r = 0.25*L\n",
    "    Ir = mn*r**2\n",
    "    Iz=mn*Xg**2 + Ir\n",
    "    return Iz"
   ]
  },
  {
   "cell_type": "code",
   "execution_count": 8,
   "metadata": {},
   "outputs": [],
   "source": [
    "In = vessel_inertia_moment(mn,Xg,L)"
   ]
  },
  {
   "cell_type": "code",
   "execution_count": 9,
   "metadata": {},
   "outputs": [
    {
     "data": {
      "text/plain": [
       "253533324687.5"
      ]
     },
     "execution_count": 9,
     "metadata": {},
     "output_type": "execute_result"
    }
   ],
   "source": [
    "In"
   ]
  },
  {
   "cell_type": "code",
   "execution_count": 10,
   "metadata": {},
   "outputs": [],
   "source": [
    "mi = [x*pipe_weight_per_unit_length for x in l] # mass of pipe element (submerged), [kg]"
   ]
  },
  {
   "cell_type": "code",
   "execution_count": 11,
   "metadata": {},
   "outputs": [],
   "source": [
    "# for hydrodynamic damping matrix\n",
    "Cd=[0.87, 0.87, 0.87, 1.6] # Drag coefficient\n",
    "# Cd=0.82 # Drag coefficient\n",
    "\n",
    "qw = 1025 # Water density [kg/m3]\n",
    "d0 = 0.7610 # Outer diameter of pipe, [m]\n",
    "dI= 0.69# Inner diameter of pipe, [m]"
   ]
  },
  {
   "cell_type": "code",
   "execution_count": 12,
   "metadata": {},
   "outputs": [],
   "source": [
    "# for vector of spring forces in the pipe joints\n",
    "# K = 1.4*10e11\n",
    "E = 210e9 # modulus of elasticity of steel, [N/m^2]\n",
    "EI = E*3.14/64*(d0**4-dI**4) # Bending stiffness [N*m^2]\n",
    "\n",
    "K = EI#10e7 # depends on the unit bending stiffness of the pipe (EI), \n",
    "       # and the length li, of the link; from the Jensen thesis [N/m]"
   ]
  },
  {
   "cell_type": "code",
   "execution_count": 13,
   "metadata": {},
   "outputs": [
    {
     "data": {
      "text/plain": [
       "1120051921.710554"
      ]
     },
     "execution_count": 13,
     "metadata": {},
     "output_type": "execute_result"
    }
   ],
   "source": [
    "K"
   ]
  },
  {
   "cell_type": "code",
   "execution_count": 14,
   "metadata": {},
   "outputs": [],
   "source": [
    "# for vector of control inputs\n",
    "tau_qn = 250576 # tension in pipe at water level, [N] (check Jee sheets)\n",
    "Fx_ = 1.4e+08 #7.5e7 # 5e7 # [N], from the Jensen thesis\n",
    "# Fy=-100*1000 # [N],"
   ]
  },
  {
   "cell_type": "code",
   "execution_count": 15,
   "metadata": {},
   "outputs": [],
   "source": [
    "# for solution\n",
    "max_t = 600  \n",
    "dt = 0.5\n",
    "t=np.arange(0,max_t,dt)\n",
    "# q0=[45, 0, 20, 0, 15, 0, 5, 0]"
   ]
  },
  {
   "cell_type": "code",
   "execution_count": 16,
   "metadata": {},
   "outputs": [],
   "source": [
    "Awp = 1000 # the waterplane area of the vessel, [m^2]\n",
    "# h=26.3 # water depth, [m]\n",
    "h=700\n",
    "\n",
    "# fip=1e10\n",
    "fip=1e12"
   ]
  },
  {
   "cell_type": "code",
   "execution_count": 17,
   "metadata": {},
   "outputs": [],
   "source": [
    "kp=1.95e4\n",
    "# T = 200 # Measure the period of oscillation, from experiments\n",
    "# kd=0.075*kp*T \n",
    "kd=1.5e4\n",
    "# kd=0.5e8 # change "
   ]
  },
  {
   "cell_type": "markdown",
   "metadata": {},
   "source": [
    "### System inertia matrix "
   ]
  },
  {
   "cell_type": "code",
   "execution_count": 18,
   "metadata": {},
   "outputs": [],
   "source": [
    "def alpha(q):\n",
    "    sum_=0\n",
    "    ans=[]\n",
    "    for i in range(len(q)):\n",
    "        sum_+=q[i]\n",
    "        ans.append(sum_)\n",
    "    return np.array(ans)"
   ]
  },
  {
   "cell_type": "code",
   "execution_count": 19,
   "metadata": {},
   "outputs": [],
   "source": [
    "def Jv(q, i, l):\n",
    "    alp=alpha(q)\n",
    "    def Jv0(i, k, alp, l):\n",
    "        \n",
    "        if k<i:\n",
    "            tmp1=np.dot(np.array(l[k:i]),np.sin(np.radians(alp[k:i])))\n",
    "            tmp1=-tmp1-0.5*l[i]*np.sin(np.radians(alp[i]))\n",
    "            \n",
    "            tmp2 =np.dot(np.array(l[k:i]),np.cos(np.radians(alp[k:i])))\n",
    "            tmp2=tmp2+0.5*l[i]*np.cos(np.radians(alp[i]))\n",
    "                        \n",
    "            return np.array([tmp1, tmp2]).T\n",
    "        elif k==i:\n",
    "            return np.array([-0.5*l[i]*np.sin(np.radians(alp[i])),\n",
    "                    0.5*l[i]*np.cos(np.radians(alp[i]))]).T\n",
    "        else:\n",
    "            return np.array([0, 0]).T                 \n",
    "    \n",
    "    ans=np.array([Jv0(i, k, alp, l) for k in range(len(q))])\n",
    "    \n",
    "    return ans.T"
   ]
  },
  {
   "cell_type": "code",
   "execution_count": 20,
   "metadata": {},
   "outputs": [
    {
     "data": {
      "text/plain": [
       "array([[-311.14808342, -263.21715145, -119.53964925,    0.        ],\n",
       "       [6898.16451361, 4135.58028398, 1376.31846687,    0.        ]])"
      ]
     },
     "execution_count": 20,
     "metadata": {},
     "output_type": "execute_result"
    }
   ],
   "source": [
    "Jv(q, 2, l)"
   ]
  },
  {
   "cell_type": "code",
   "execution_count": 21,
   "metadata": {},
   "outputs": [],
   "source": [
    "def Jomega(i,q):\n",
    "\n",
    "    def Jomega0(i,k):\n",
    "        if k<=i:\n",
    "            return 1\n",
    "        return 0\n",
    "    ans=np.array([Jomega0(i, k) for k in range(len(q))])\n",
    "   \n",
    "    return ans.reshape(len(q),1).T"
   ]
  },
  {
   "cell_type": "code",
   "execution_count": 22,
   "metadata": {},
   "outputs": [],
   "source": [
    "def M(q, l, mn, In, mi):\n",
    "  \n",
    "    \n",
    "    sum1 = mn * np.dot(Jv( q, len(q)-1, l).T, Jv(q, len(q)-1, l))\n",
    "    \n",
    " \n",
    "    sum2 = In * np.dot(Jomega(len(q)-1,q).T, Jomega(len(q)-1,q))\n",
    "    \n",
    "    sum3=0\n",
    "    \n",
    "    for i in range(len(q)-1):\n",
    "        J_v = Jv(q, i, l)\n",
    "        sum3+=mi[i]*np.dot(J_v.T, J_v)\n",
    "      \n",
    "    return sum1 + sum2 + sum3   "
   ]
  },
  {
   "cell_type": "code",
   "execution_count": 23,
   "metadata": {},
   "outputs": [
    {
     "data": {
      "text/plain": [
       "253533324687.5"
      ]
     },
     "execution_count": 23,
     "metadata": {},
     "output_type": "execute_result"
    }
   ],
   "source": [
    "In"
   ]
  },
  {
   "cell_type": "code",
   "execution_count": 24,
   "metadata": {},
   "outputs": [
    {
     "data": {
      "text/plain": [
       "array([[3.02720849e+15, 2.15912818e+15, 1.29225988e+15, 4.29663965e+14],\n",
       "       [2.15912818e+15, 1.54156929e+15, 9.23554020e+14, 3.07343239e+14],\n",
       "       [1.29225988e+15, 9.23554020e+14, 5.54035229e+14, 1.84654279e+14],\n",
       "       [4.29663965e+14, 3.07343239e+14, 1.84654279e+14, 6.17448561e+13]])"
      ]
     },
     "execution_count": 24,
     "metadata": {},
     "output_type": "execute_result"
    }
   ],
   "source": [
    "M(q, l, mn, In, mi)"
   ]
  },
  {
   "cell_type": "markdown",
   "metadata": {},
   "source": [
    "### Coriolis-centripetal matrix"
   ]
  },
  {
   "cell_type": "code",
   "execution_count": 25,
   "metadata": {},
   "outputs": [],
   "source": [
    "# TODO - not sure about this formula \n",
    "def C(q, dq, l, mn, In, mi): #here\n",
    "    ans = np.zeros((len(q),len(q)))              \n",
    "    fun = lambda q: M(q, l, mn, In, mi)\n",
    "    Dfun = nd.Gradient(fun) \n",
    "    \n",
    "    dq1_, dq2_, dq3_, dq4_ = Dfun(q)\n",
    "    diff = np.array([dq1_, dq2_, dq3_, dq4_])\n",
    "    \n",
    "    def c(i,j,k):\n",
    "        return 0.5 *(diff[k].item((i,j))+\n",
    "                     diff[j].item((i,k))-\n",
    "                     diff[i].item((j,k)))\n",
    "    \n",
    "    for i in range(len(q)):\n",
    "        for j in range(len(q)):\n",
    "            for k in range(len(q)):\n",
    "                ans[i][j]+=c(i,j,k)*np.radians(dq[k])\n",
    "    return ans                  "
   ]
  },
  {
   "cell_type": "code",
   "execution_count": 26,
   "metadata": {},
   "outputs": [],
   "source": [
    "dq=[1,1,0.5,1]"
   ]
  },
  {
   "cell_type": "code",
   "execution_count": 27,
   "metadata": {},
   "outputs": [
    {
     "data": {
      "text/plain": [
       "array([[ 5.35255986e-03,  2.17932494e+10,  3.08223034e+10,\n",
       "         1.97267543e+10],\n",
       "       [-4.35864987e+10, -5.85996236e+09,  8.42838240e+09,\n",
       "         9.05239594e+09],\n",
       "       [-6.16446067e+10, -3.04921838e+10, -9.73615886e+09,\n",
       "        -6.50570818e+08],\n",
       "       [-3.94535087e+10, -2.39271692e+10, -1.22836091e+10,\n",
       "        -6.14395000e+09]])"
      ]
     },
     "execution_count": 27,
     "metadata": {},
     "output_type": "execute_result"
    }
   ],
   "source": [
    "C(q, dq, l, mn, In, mi)"
   ]
  },
  {
   "cell_type": "markdown",
   "metadata": {},
   "source": [
    "### Hydrodynamic damping matrix"
   ]
  },
  {
   "cell_type": "code",
   "execution_count": 28,
   "metadata": {},
   "outputs": [],
   "source": [
    "def R_I_Bi(i, alp):\n",
    "    return np.array([[np.cos(np.radians(alp[i])), -np.sin(np.radians(alp[i]))],\n",
    "                    [np.sin(np.radians(alp[i])), np.cos(np.radians(alp[i]))]])"
   ]
  },
  {
   "cell_type": "code",
   "execution_count": 29,
   "metadata": {},
   "outputs": [],
   "source": [
    "alp=alpha(q)"
   ]
  },
  {
   "cell_type": "code",
   "execution_count": 30,
   "metadata": {},
   "outputs": [
    {
     "data": {
      "text/plain": [
       "array([[ 0.99624934, -0.08652888],\n",
       "       [ 0.08652888,  0.99624934]])"
      ]
     },
     "execution_count": 30,
     "metadata": {},
     "output_type": "execute_result"
    }
   ],
   "source": [
    "R_I_Bi(2, alp)"
   ]
  },
  {
   "cell_type": "code",
   "execution_count": 31,
   "metadata": {},
   "outputs": [],
   "source": [
    "I_=np.array([[0,0],\n",
    "             [0,1]])"
   ]
  },
  {
   "cell_type": "code",
   "execution_count": 32,
   "metadata": {},
   "outputs": [],
   "source": [
    "def Pi(i,alp):\n",
    "    return np.dot(np.dot(R_I_Bi(i, alp),I_),R_I_Bi(i, alp).T)"
   ]
  },
  {
   "cell_type": "code",
   "execution_count": 33,
   "metadata": {},
   "outputs": [],
   "source": [
    "# TODO - not sure about this formula \n",
    "def mod_Vn(q, alp, dq):\n",
    "    ans=[]\n",
    "    for j in range(len(q)):\n",
    "        ans.append(np.dot(np.dot(Pi(j,alp),Jv( q,j, l)), np.radians(dq)))\n",
    "    return np.linalg.norm(np.array(ans))"
   ]
  },
  {
   "cell_type": "code",
   "execution_count": 34,
   "metadata": {},
   "outputs": [
    {
     "data": {
      "text/plain": [
       "416.7166853577408"
      ]
     },
     "execution_count": 34,
     "metadata": {},
     "output_type": "execute_result"
    }
   ],
   "source": [
    "mod_Vn(q,alp,dq)"
   ]
  },
  {
   "cell_type": "code",
   "execution_count": 35,
   "metadata": {},
   "outputs": [],
   "source": [
    "# TODO - not sure about this formula \n",
    "def mod_Vni(i,q,alp,dq):\n",
    "    return np.linalg.norm(np.dot(np.dot(Pi(i,alp),Jv( q,i, l)), np.radians(dq)))"
   ]
  },
  {
   "cell_type": "code",
   "execution_count": 36,
   "metadata": {},
   "outputs": [
    {
     "data": {
      "text/plain": [
       "349.0583462872576"
      ]
     },
     "execution_count": 36,
     "metadata": {},
     "output_type": "execute_result"
    }
   ],
   "source": [
    "mod_Vni(len(q)-1,q,alp,dq)"
   ]
  },
  {
   "cell_type": "code",
   "execution_count": 37,
   "metadata": {},
   "outputs": [],
   "source": [
    "def gamma(i):\n",
    "    return 0.5*Cd[i]*qw*d0*l[i]"
   ]
  },
  {
   "cell_type": "code",
   "execution_count": 38,
   "metadata": {},
   "outputs": [],
   "source": [
    "def H(alp,q,dq,l):\n",
    "    ans=np.zeros((len(q), len(q)))\n",
    "    alp=alpha(q)\n",
    "    for j in range(len(q)):\n",
    "        ans+=gamma(j)*mod_Vni(j,q,alp,dq)*np.dot(np.dot(Jv(q,j,l).T,Pi(j,alp)),Jv( q,j, l))\n",
    "    return ans    "
   ]
  },
  {
   "cell_type": "code",
   "execution_count": 39,
   "metadata": {},
   "outputs": [
    {
     "name": "stdout",
     "output_type": "stream",
     "text": [
      "[0.99398403 2.98075607 4.96394727 6.94119423]\n",
      "[0.9939840275055615, 1.986772044151028, 1.9831911966919273, 1.9772469629333669]\n"
     ]
    }
   ],
   "source": [
    "print(alp)\n",
    "print(q)"
   ]
  },
  {
   "cell_type": "code",
   "execution_count": 40,
   "metadata": {},
   "outputs": [
    {
     "data": {
      "text/plain": [
       "array([[3.86925132e+14, 2.76706657e+14, 1.66156380e+14, 5.54074527e+13],\n",
       "       [2.76706657e+14, 1.97884726e+14, 1.18825510e+14, 3.96242315e+13],\n",
       "       [1.66156380e+14, 1.18825510e+14, 7.13521564e+13, 2.37934964e+13],\n",
       "       [5.54074527e+13, 3.96242315e+13, 2.37934964e+13, 7.93431484e+12]])"
      ]
     },
     "execution_count": 40,
     "metadata": {},
     "output_type": "execute_result"
    }
   ],
   "source": [
    "H(alp,q,[0,0,0,0.1],l)"
   ]
  },
  {
   "cell_type": "markdown",
   "metadata": {},
   "source": [
    "### Vector of spring forces in the pipe joints"
   ]
  },
  {
   "cell_type": "code",
   "execution_count": 41,
   "metadata": {},
   "outputs": [],
   "source": [
    "def f(q,k):\n",
    "    ans=np.array([k*q[i] for i in range(len(q))])\n",
    "    return ans.reshape(len(q),1)"
   ]
  },
  {
   "cell_type": "markdown",
   "metadata": {},
   "source": [
    "### Vector of gravitational/buoyancy forces"
   ]
  },
  {
   "cell_type": "code",
   "execution_count": 42,
   "metadata": {},
   "outputs": [
    {
     "data": {
      "text/plain": [
       "[0.9939840275055615, 1.986772044151028, 1.9831911966919273, 1.9772469629333669]"
      ]
     },
     "execution_count": 42,
     "metadata": {},
     "output_type": "execute_result"
    }
   ],
   "source": [
    "q"
   ]
  },
  {
   "cell_type": "code",
   "execution_count": 43,
   "metadata": {},
   "outputs": [],
   "source": [
    "def x(alp,i,l):\n",
    "    tmp1=np.dot(np.array(l[:i]),np.cos(np.radians(alp[:i])))\n",
    "\n",
    "    tmp1+=0.5*l[i]*np.cos(np.radians(alp[i]))\n",
    "    return tmp1"
   ]
  },
  {
   "cell_type": "code",
   "execution_count": 44,
   "metadata": {},
   "outputs": [
    {
     "data": {
      "text/plain": [
       "6898.164513606359"
      ]
     },
     "execution_count": 44,
     "metadata": {},
     "output_type": "execute_result"
    }
   ],
   "source": [
    "x(alp,2,l)"
   ]
  },
  {
   "cell_type": "code",
   "execution_count": 45,
   "metadata": {},
   "outputs": [],
   "source": [
    "def y(alp,i,l):\n",
    "    tmp1=np.dot(np.array(l[:i]),np.sin(np.radians(alp[:i])))\n",
    "#     print(l,alp[i],alp)\n",
    "#     print(math.sin(math.radians(alp[i])))\n",
    "    tmp1+=0.5*l[i]*np.sin(np.radians(alp[i]))\n",
    "    return tmp1"
   ]
  },
  {
   "cell_type": "code",
   "execution_count": 46,
   "metadata": {},
   "outputs": [
    {
     "data": {
      "text/plain": [
       "311.1480834242025"
      ]
     },
     "execution_count": 46,
     "metadata": {},
     "output_type": "execute_result"
    }
   ],
   "source": [
    "y(alp,2,l)"
   ]
  },
  {
   "cell_type": "code",
   "execution_count": 47,
   "metadata": {},
   "outputs": [],
   "source": [
    "G=np.array([0,-9.81]).T\n",
    "\n",
    "def ggi(i,G):\n",
    "    return mi[i]*G\n",
    "   \n",
    "    \n",
    "def gbi(G,l,i):\n",
    "    return -3.14*l[i]*(d0**2/4)*qw*G \n",
    "\n",
    "# not complete formula\n",
    "def gt(alp,fip, i): \n",
    "    return -fip*np.radians(alp[i])\n"
   ]
  },
  {
   "cell_type": "code",
   "execution_count": 48,
   "metadata": {},
   "outputs": [],
   "source": [
    "# TODO understand the commeted part and incorporate it in model \n",
    "def g(q,alp):\n",
    "    sum_=0\n",
    "    for i in range(len(q)-1):\n",
    "        sum_+=np.dot(Jv( q,i, l).T,ggi(i,G)+gbi(G,l,i))\n",
    "#     print(-qw)   \n",
    "#     print(Awp)\n",
    "#     print(y(alp,len(alp)-1,l))\n",
    "#     print(h)\n",
    "#     print(-qw,Awp,y(alp,len(q)-1,l),h)\n",
    "    tmp = -qw*Awp*(y(alp,len(alp)-1,l)-h)*G \n",
    "    sum_ += np.dot(Jv(q,len(q)-1, l).T, tmp)  #- \\\n",
    "#         np.dot(Jomega(len(q)-1).T, gt(q, fip, len(q)-1)).reshape(len(q),) \n",
    "    return sum_.reshape(len(q),1)   "
   ]
  },
  {
   "cell_type": "code",
   "execution_count": 49,
   "metadata": {},
   "outputs": [
    {
     "data": {
      "text/plain": [
       "array([[-9.80321218e+12],\n",
       "       [-7.02914462e+12],\n",
       "       [-4.23074288e+12],\n",
       "       [-1.41145604e+12]])"
      ]
     },
     "execution_count": 49,
     "metadata": {},
     "output_type": "execute_result"
    }
   ],
   "source": [
    "g(q,alp)"
   ]
  },
  {
   "cell_type": "markdown",
   "metadata": {},
   "source": [
    "### Vector of control inputs"
   ]
  },
  {
   "cell_type": "code",
   "execution_count": 50,
   "metadata": {},
   "outputs": [],
   "source": [
    "# Assume that the stinger is shorter than the link length li for any link i\n",
    "def tau_q(q,tau_qn): \n",
    "    ans= np.array([0 for i in range(len(q))]).reshape(len(q),1)\n",
    "    ans[-1] = tau_qn\n",
    "    return ans\n",
    "# tau_q - control forces from the stinger "
   ]
  },
  {
   "cell_type": "code",
   "execution_count": 51,
   "metadata": {},
   "outputs": [],
   "source": [
    "def Fx(q,alp,dq,kp, kd, x_ref = 0):\n",
    "#     print(-kp*(x(q,len(q)-1,l)-x_ref))\n",
    "#     return -kp*(x(q,len(q)-1,l)-x_ref) - kd*np.dot(np.dot(Pi(len(q)-1,q),Jv( q, len(q)-1, l)), np.radians(dq)) \n",
    "    return -kp*(x(alp,len(q)-1,l)-x_ref) - kd*mod_Vn(q,alp,dq)"
   ]
  },
  {
   "cell_type": "code",
   "execution_count": 52,
   "metadata": {},
   "outputs": [
    {
     "data": {
      "text/plain": [
       "-194344972.8231884"
      ]
     },
     "execution_count": 52,
     "metadata": {},
     "output_type": "execute_result"
    }
   ],
   "source": [
    "Fx(q,alp,dq,kp, kd, x_ref = 0)"
   ]
  },
  {
   "cell_type": "code",
   "execution_count": 53,
   "metadata": {},
   "outputs": [],
   "source": [
    "F1=np.array([Fx_,0]).reshape(2,1) # actuates the vessel in the surge direction in frame Bn\n",
    "# F=np.array([0,Fy]).reshape(2,1)\n",
    "def tau_t(q, F):\n",
    "#     print(Jv(q,len(q)-1, l).T)\n",
    "    tmp= np.dot(Jv(q,len(q)-1, l).T, F)\n",
    "    return tmp\n",
    "#     ans=np.zeros((len(q),1))\n",
    "#     ans[-1][0]=tmp[-1][0]\n",
    "#     return  ans # the thruster forces"
   ]
  },
  {
   "cell_type": "code",
   "execution_count": 54,
   "metadata": {},
   "outputs": [
    {
     "data": {
      "text/plain": [
       "array([[-8.36699924e+10],\n",
       "       [-7.69596619e+10],\n",
       "       [-5.68448116e+10],\n",
       "       [-2.33737098e+10]])"
      ]
     },
     "execution_count": 54,
     "metadata": {},
     "output_type": "execute_result"
    }
   ],
   "source": [
    "tau_t(q, F1)"
   ]
  },
  {
   "cell_type": "code",
   "execution_count": 55,
   "metadata": {},
   "outputs": [],
   "source": [
    "tau_q_wave=9e6 # (taken from article on forces to semi-submersible platform),[N]\n",
    "# this function purly my invention\n",
    "# TODO - for improvement see Jensen thesis p. 49\n",
    "def tau_wave(q,alp, tau_q_wave):\n",
    "    Y0=y(alp,0,l)\n",
    "    C=np.exp(y(alp,len(q)-1,l))-np.exp(y(alp,0,l))\n",
    "    ans=[]\n",
    "    for i in range(len(q)):\n",
    "        ans.append([tau_q_wave/C*(np.exp(y(alp,i,l))-np.exp(y(alp,0,l)))])   \n",
    "    return np.array(ans)"
   ]
  },
  {
   "cell_type": "code",
   "execution_count": 56,
   "metadata": {},
   "outputs": [],
   "source": [
    "def tau(q, alp, tau_qn, F, tau_q_wave):\n",
    "#     return tau_q(q,tau_qn) + tau_t(q, F) + tau_wave(q, tau_q_wave)\n",
    "#     return tau_t(q, F) + tau_wave(q, tau_q_wave)\n",
    "#     return  tau_t(q, F)\n",
    "    return tau_t(q, F) + tau_wave(q, alp, tau_q_wave)"
   ]
  },
  {
   "cell_type": "code",
   "execution_count": 57,
   "metadata": {},
   "outputs": [],
   "source": [
    "# f1=C*eh1+b\n",
    "# f2=C*eh2+b\n",
    "\n",
    "# f1=C*(eh1-eh2)\n",
    "# f2=f1/(eh1-eh2)eh2+b\n",
    "# b="
   ]
  },
  {
   "cell_type": "code",
   "execution_count": 58,
   "metadata": {},
   "outputs": [
    {
     "data": {
      "text/plain": [
       "([0.9939840275055615,\n",
       "  1.986772044151028,\n",
       "  1.9831911966919273,\n",
       "  1.9772469629333669],\n",
       " array([0.99398403, 2.98075607, 4.96394727, 6.94119423]))"
      ]
     },
     "execution_count": 58,
     "metadata": {},
     "output_type": "execute_result"
    }
   ],
   "source": [
    "q,alp"
   ]
  },
  {
   "cell_type": "code",
   "execution_count": 59,
   "metadata": {},
   "outputs": [
    {
     "data": {
      "text/plain": [
       "array([[0.00000000e+000],\n",
       "       [2.60965835e-201],\n",
       "       [3.39755801e-118],\n",
       "       [9.00000000e+006]])"
      ]
     },
     "execution_count": 59,
     "metadata": {},
     "output_type": "execute_result"
    }
   ],
   "source": [
    "tau_wave(q,alp, tau_q_wave)"
   ]
  },
  {
   "cell_type": "code",
   "execution_count": 60,
   "metadata": {},
   "outputs": [
    {
     "data": {
      "text/plain": [
       "array([[-8.36699924e+10],\n",
       "       [-7.69596619e+10],\n",
       "       [-5.68448116e+10],\n",
       "       [-2.33647098e+10]])"
      ]
     },
     "execution_count": 60,
     "metadata": {},
     "output_type": "execute_result"
    }
   ],
   "source": [
    "tau(q, alp, tau_qn, F1, tau_q_wave)"
   ]
  },
  {
   "cell_type": "markdown",
   "metadata": {},
   "source": [
    "### Static solution"
   ]
  },
  {
   "cell_type": "code",
   "execution_count": 61,
   "metadata": {},
   "outputs": [],
   "source": [
    "def catenary(x,Ws,Fh):\n",
    "    return (Fh/Ws)*(np.cosh(x*Ws/Fh)-1)"
   ]
  },
  {
   "cell_type": "code",
   "execution_count": 62,
   "metadata": {},
   "outputs": [],
   "source": [
    "Ws = pipe_weight_per_unit_length*9.81 # [N/m]"
   ]
  },
  {
   "cell_type": "code",
   "execution_count": 63,
   "metadata": {},
   "outputs": [],
   "source": [
    "# lift_off_slope = 62#30.6 # from Jee catenary sheet, [deg]"
   ]
  },
  {
   "cell_type": "code",
   "execution_count": 64,
   "metadata": {},
   "outputs": [],
   "source": [
    "# Fx_=250000 # [N]"
   ]
  },
  {
   "cell_type": "code",
   "execution_count": null,
   "metadata": {},
   "outputs": [],
   "source": []
  },
  {
   "cell_type": "code",
   "execution_count": 65,
   "metadata": {},
   "outputs": [],
   "source": [
    "# horizontal_length =(Fx_/Ws)*math.asinh(np.tan(np.radians(lift_off_slope)))\n",
    "\n",
    "# below from Jensen thesis \n",
    "\n",
    "# Fx_=52347339\n",
    "# a0=Fx_/(Ws*h)\n",
    "# a1=math.sqrt(2*a0+1)/a0\n",
    "\n",
    "# horizontal_length=h*np.log((a1+math.sqrt(a1**2+1))**a1)"
   ]
  },
  {
   "cell_type": "code",
   "execution_count": 66,
   "metadata": {},
   "outputs": [],
   "source": [
    "# http://abc-moorings.weebly.com/catenary-calculator.html"
   ]
  },
  {
   "cell_type": "code",
   "execution_count": 67,
   "metadata": {},
   "outputs": [],
   "source": [
    "Fx_0=82945396"
   ]
  },
  {
   "cell_type": "code",
   "execution_count": 68,
   "metadata": {},
   "outputs": [],
   "source": [
    "S=math.sqrt(h*(2*Fx_0/Ws -h))\n",
    "horizontal_length=(Fx_0/Ws -h)*np.log((S+Fx_0/Ws)/(Fx_0/Ws-h))"
   ]
  },
  {
   "cell_type": "code",
   "execution_count": 69,
   "metadata": {},
   "outputs": [
    {
     "data": {
      "text/plain": [
       "11052.68484446162"
      ]
     },
     "execution_count": 69,
     "metadata": {},
     "output_type": "execute_result"
    }
   ],
   "source": [
    "horizontal_length"
   ]
  },
  {
   "cell_type": "code",
   "execution_count": 70,
   "metadata": {},
   "outputs": [],
   "source": [
    "number_of_elements=4"
   ]
  },
  {
   "cell_type": "code",
   "execution_count": 71,
   "metadata": {},
   "outputs": [],
   "source": [
    "delta_x=horizontal_length/number_of_elements"
   ]
  },
  {
   "cell_type": "code",
   "execution_count": 72,
   "metadata": {},
   "outputs": [],
   "source": [
    "x0=[i*delta_x for i in range(number_of_elements+1)]\n",
    "y0=[]\n",
    "for i in range(len(x0)):\n",
    "    y0.append(catenary(x0[i],Ws,Fx_))"
   ]
  },
  {
   "cell_type": "code",
   "execution_count": 73,
   "metadata": {},
   "outputs": [
    {
     "data": {
      "text/plain": [
       "[0.0,\n",
       " 2763.171211115405,\n",
       " 5526.34242223081,\n",
       " 8289.513633346216,\n",
       " 11052.68484446162]"
      ]
     },
     "execution_count": 73,
     "metadata": {},
     "output_type": "execute_result"
    }
   ],
   "source": [
    "x0"
   ]
  },
  {
   "cell_type": "code",
   "execution_count": 74,
   "metadata": {},
   "outputs": [],
   "source": [
    "q=[]\n",
    "l_=[]\n",
    "deg_=[0]\n",
    "\n",
    "for i in range(len(x0)-1):\n",
    "    l_.append(np.sqrt((x0[i+1]-x0[i])**2+(y0[i+1]-y0[i])**2))\n",
    "    deg =np.degrees(math.atan((y0[i+1]-y0[i])/(x0[i+1]-x0[i])))\n",
    "    q.append(deg-deg_[-1]) \n",
    "    deg_.append(deg)\n"
   ]
  },
  {
   "cell_type": "code",
   "execution_count": 75,
   "metadata": {},
   "outputs": [],
   "source": [
    "alp_=alpha(q)"
   ]
  },
  {
   "cell_type": "code",
   "execution_count": 76,
   "metadata": {},
   "outputs": [
    {
     "data": {
      "text/plain": [
       "[0.5324914472404209,\n",
       " 1.0647989485770295,\n",
       " 1.0642474284519123,\n",
       " 1.0633292855171863]"
      ]
     },
     "execution_count": 76,
     "metadata": {},
     "output_type": "execute_result"
    }
   ],
   "source": [
    "q"
   ]
  },
  {
   "cell_type": "code",
   "execution_count": 77,
   "metadata": {},
   "outputs": [
    {
     "data": {
      "text/plain": [
       "[2763.290547654398, 2764.2453018073493, 2766.1551399557356, 2769.0207218985934]"
      ]
     },
     "execution_count": 77,
     "metadata": {},
     "output_type": "execute_result"
    }
   ],
   "source": [
    "l_"
   ]
  },
  {
   "cell_type": "code",
   "execution_count": 78,
   "metadata": {
    "scrolled": true
   },
   "outputs": [
    {
     "data": {
      "image/png": "[encoded data removed]",
      "text/plain": [
       "<Figure size 432x288 with 1 Axes>"
      ]
     },
     "metadata": {
      "needs_background": "light"
     },
     "output_type": "display_data"
    }
   ],
   "source": [
    "plt.plot(x0, y0)\n",
    "plt.plot(x(alp_,0,l_),y(alp_,0,l_), 'o', color='black')\n",
    "plt.plot(x(alp_,1,l_),y(alp_,1,l_), 'o', color='black')\n",
    "plt.plot(x(alp_,2,l_),y(alp_,2,l_), 'o', color='black')\n",
    "plt.plot(x(alp_,3,l_),y(alp_,3,l_), 'o', color='black')\n",
    "plt.show()"
   ]
  },
  {
   "cell_type": "code",
   "execution_count": 79,
   "metadata": {},
   "outputs": [],
   "source": [
    "q0=[]\n",
    "for i in range(len(q)):\n",
    "    q0.append(q[i])\n",
    "    q0.append(0)"
   ]
  },
  {
   "cell_type": "code",
   "execution_count": 80,
   "metadata": {},
   "outputs": [
    {
     "data": {
      "text/plain": [
       "[0.5324914472404209,\n",
       " 0,\n",
       " 1.0647989485770295,\n",
       " 0,\n",
       " 1.0642474284519123,\n",
       " 0,\n",
       " 1.0633292855171863,\n",
       " 0]"
      ]
     },
     "execution_count": 80,
     "metadata": {},
     "output_type": "execute_result"
    }
   ],
   "source": [
    "q0"
   ]
  },
  {
   "cell_type": "code",
   "execution_count": 81,
   "metadata": {},
   "outputs": [
    {
     "data": {
      "text/plain": [
       "([0.5324914472404209,\n",
       "  1.0647989485770295,\n",
       "  1.0642474284519123,\n",
       "  1.0633292855171863],\n",
       " [1, 1, 0.5, 1],\n",
       " 19500.0)"
      ]
     },
     "execution_count": 81,
     "metadata": {},
     "output_type": "execute_result"
    }
   ],
   "source": [
    "q,dq,kp"
   ]
  },
  {
   "cell_type": "code",
   "execution_count": 82,
   "metadata": {},
   "outputs": [],
   "source": [
    "alp_=alpha(q)"
   ]
  },
  {
   "cell_type": "code",
   "execution_count": 83,
   "metadata": {},
   "outputs": [],
   "source": [
    "F_=np.array([-Fx(q,alp_,dq,kp, 0, x_ref = 0),0]).reshape(2,1)"
   ]
  },
  {
   "cell_type": "code",
   "execution_count": 84,
   "metadata": {},
   "outputs": [
    {
     "data": {
      "text/plain": [
       "array([[1.88436459e+08],\n",
       "       [0.00000000e+00]])"
      ]
     },
     "execution_count": 84,
     "metadata": {},
     "output_type": "execute_result"
    }
   ],
   "source": [
    "F_"
   ]
  },
  {
   "cell_type": "code",
   "execution_count": 85,
   "metadata": {},
   "outputs": [],
   "source": [
    "def static_func(q):\n",
    "    alp=alpha(q)\n",
    "    ans=  f(q, K) + g(q,alp) - tau(q,alp, tau_qn, F_, 0)\n",
    "    return ans.reshape((len(q),))"
   ]
  },
  {
   "cell_type": "code",
   "execution_count": 86,
   "metadata": {},
   "outputs": [],
   "source": [
    "root = fsolve(static_func, np.array(q))"
   ]
  },
  {
   "cell_type": "code",
   "execution_count": 87,
   "metadata": {},
   "outputs": [
    {
     "data": {
      "text/plain": [
       "array([0.73313185, 2.7956858 , 2.83780397, 1.35186778])"
      ]
     },
     "execution_count": 87,
     "metadata": {},
     "output_type": "execute_result"
    }
   ],
   "source": [
    "root"
   ]
  },
  {
   "cell_type": "code",
   "execution_count": 88,
   "metadata": {},
   "outputs": [],
   "source": [
    "q=list(root)"
   ]
  },
  {
   "cell_type": "code",
   "execution_count": 89,
   "metadata": {},
   "outputs": [],
   "source": [
    "q0=[]\n",
    "for i in range(len(q)):\n",
    "    q0.append(q[i])\n",
    "    q0.append(0)"
   ]
  },
  {
   "cell_type": "code",
   "execution_count": 90,
   "metadata": {},
   "outputs": [],
   "source": [
    "alp_=alpha(root)"
   ]
  },
  {
   "cell_type": "code",
   "execution_count": 91,
   "metadata": {},
   "outputs": [
    {
     "data": {
      "text/plain": [
       "array([0.73313185, 3.52881765, 6.36662161, 7.71848939])"
      ]
     },
     "execution_count": 91,
     "metadata": {},
     "output_type": "execute_result"
    }
   ],
   "source": [
    "alp_"
   ]
  },
  {
   "cell_type": "code",
   "execution_count": 92,
   "metadata": {},
   "outputs": [
    {
     "data": {
      "image/png": "[encoded data removed]",
      "text/plain": [
       "<Figure size 432x288 with 1 Axes>"
      ]
     },
     "metadata": {
      "needs_background": "light"
     },
     "output_type": "display_data"
    }
   ],
   "source": [
    "plt.plot(x(alp_,0,l),y(alp_,0,l), 'o', color='black')\n",
    "plt.plot(x(alp_,1,l),y(alp_,1,l), 'o', color='black')\n",
    "plt.plot(x(alp_,2,l),y(alp_,2,l), 'o', color='black')\n",
    "plt.plot(x(alp_,3,l),y(alp_,3,l), 'o', color='black')\n",
    "plt.show()"
   ]
  },
  {
   "cell_type": "code",
   "execution_count": 93,
   "metadata": {},
   "outputs": [
    {
     "data": {
      "text/plain": [
       "[0.7331318501868566, 2.7956857962718002, 2.837803967849071, 1.3518677796322582]"
      ]
     },
     "execution_count": 93,
     "metadata": {},
     "output_type": "execute_result"
    }
   ],
   "source": [
    "q"
   ]
  },
  {
   "cell_type": "code",
   "execution_count": 94,
   "metadata": {},
   "outputs": [
    {
     "data": {
      "text/plain": [
       "[0.7331318501868566,\n",
       " 0,\n",
       " 2.7956857962718002,\n",
       " 0,\n",
       " 2.837803967849071,\n",
       " 0,\n",
       " 1.3518677796322582,\n",
       " 0]"
      ]
     },
     "execution_count": 94,
     "metadata": {},
     "output_type": "execute_result"
    }
   ],
   "source": [
    "q0"
   ]
  },
  {
   "cell_type": "code",
   "execution_count": 95,
   "metadata": {},
   "outputs": [
    {
     "name": "stdout",
     "output_type": "stream",
     "text": [
      "0:00:00.003112\n"
     ]
    }
   ],
   "source": [
    "startTime = datetime.now()\n",
    "\n",
    "add1=functools.partial(Jv, i=len(q)-1, l=l)\n",
    "add1__Jv = np.array(list(map(add1, [q])))\n",
    "\n",
    "add5=functools.partial(f, k=K)\n",
    "add5__f =np.array(list(map(add5, [q])))\n",
    "\n",
    "add6=functools.partial(g,alp=alp_)\n",
    "add6__g =np.array(list(map(add6, [q])))\n",
    "\n",
    "print(datetime.now() - startTime)"
   ]
  },
  {
   "cell_type": "code",
   "execution_count": 96,
   "metadata": {},
   "outputs": [],
   "source": [
    "tmp__1=pinv(add1__Jv.transpose(0, 2, 1))\n",
    "tmp__2= add5__f + add6__g"
   ]
  },
  {
   "cell_type": "code",
   "execution_count": 97,
   "metadata": {},
   "outputs": [],
   "source": [
    "tmp__=np.matmul(tmp__1, tmp__2)"
   ]
  },
  {
   "cell_type": "code",
   "execution_count": 98,
   "metadata": {},
   "outputs": [],
   "source": [
    "dim1=int(max_t/dt)\n",
    "dim2=dim1-1"
   ]
  },
  {
   "cell_type": "code",
   "execution_count": 99,
   "metadata": {},
   "outputs": [
    {
     "data": {
      "image/png": "[encoded data removed]",
      "text/plain": [
       "<Figure size 432x288 with 1 Axes>"
      ]
     },
     "metadata": {
      "needs_background": "light"
     },
     "output_type": "display_data"
    }
   ],
   "source": [
    "plt.plot(t[:len(tmp__)],tmp__[:,0],'o', color='red')\n",
    "plt.xlim([-1, dim1//2])\n",
    "plt.ylim([-1000000000, 1000000000])\n",
    "plt.xlabel('t')\n",
    "plt.ylabel('T_H')\n",
    "plt.show()"
   ]
  },
  {
   "cell_type": "code",
   "execution_count": 100,
   "metadata": {},
   "outputs": [
    {
     "data": {
      "image/png": "[encoded data removed]",
      "text/plain": [
       "<Figure size 432x288 with 1 Axes>"
      ]
     },
     "metadata": {
      "needs_background": "light"
     },
     "output_type": "display_data"
    }
   ],
   "source": [
    "plt.plot(t[:len(tmp__)],tmp__[:,1],'o', color='red')\n",
    "plt.xlim([-1, dim1//2])\n",
    "plt.ylim([-100000000, 100000000])\n",
    "plt.xlabel('t')\n",
    "plt.ylabel('T_V')\n",
    "plt.show()"
   ]
  },
  {
   "cell_type": "code",
   "execution_count": 101,
   "metadata": {},
   "outputs": [
    {
     "data": {
      "text/plain": [
       "(array([1.88436459e+08]), array([1.12522393e-05]))"
      ]
     },
     "execution_count": 101,
     "metadata": {},
     "output_type": "execute_result"
    }
   ],
   "source": [
    "max(tmp__[:,0]), max(tmp__[:,1])"
   ]
  },
  {
   "cell_type": "markdown",
   "metadata": {},
   "source": [
    "### Dynamic solution "
   ]
  },
  {
   "cell_type": "code",
   "execution_count": 102,
   "metadata": {},
   "outputs": [],
   "source": [
    "from scipy.linalg import lu_factor, lu_solve"
   ]
  },
  {
   "cell_type": "code",
   "execution_count": 111,
   "metadata": {},
   "outputs": [],
   "source": [
    "def manipulator(Q, t, q):\n",
    "    print(t)\n",
    "    q0,dq0,q1,dq1,q2,dq2,q3,dq3 = Q\n",
    "    QI=np.array([q0,q1,q2,q3]).reshape(len(q),1)\n",
    "    dQ=np.array([dq0,dq1,dq2,dq3]).reshape(len(q),1)\n",
    "    \n",
    "    QI= QI.flatten().tolist()\n",
    "    \n",
    "    alp=alpha(QI)\n",
    "#     print(alp)\n",
    "    \n",
    "#     F0=-Fx(QI,alp,dQ, kp, kd, x_ref = 0)\n",
    "    \n",
    "#     if 100<t<120:\n",
    "#         F=np.array([F0+1e6/120*t, 0]).reshape(2,1)\n",
    "#     elif 120<t<150:\n",
    "#         F=np.array([F0+1e6, 0]).reshape(2,1)\n",
    "#     elif 150<t<170:\n",
    "#         F=np.array([F0+1e6-1e6/170*t, 0]).reshape(2,1)\n",
    "#     else:\n",
    "#         F=np.array([F0, 0]).reshape(2,1)\n",
    "\n",
    "#     if 40<t<60:\n",
    "#         F=np.array([Fx_+1e6/60*t, 0]).reshape(2,1)\n",
    "#     elif 60<t<80:\n",
    "#         F=np.array([Fx_+1e6, 0]).reshape(2,1)\n",
    "#     elif 80<t<100:\n",
    "#         F=np.array([Fx_+1e6-1e6/100*t, 0]).reshape(2,1)\n",
    "#     elif t>100:\n",
    "#         F0=-Fx(QI,alp,dQ, kp, kd, x_ref = 0)\n",
    "#         F=np.array([F0, 0]).reshape(2,1)\n",
    "#     else:\n",
    "#         F=np.array([Fx_, 0]).reshape(2,1)\n",
    "        \n",
    "        \n",
    "#     if 100<t:\n",
    "#         F=np.array([-Fx(QI,alp, dQ, kp, kd, x_ref = 0),0]).reshape(2,1)\n",
    "#     else:\n",
    "#         F=np.array([Fx_,0]).reshape(2,1) \n",
    "\n",
    "#     if 100<t<130:\n",
    "#         F=np.array([-Fx(QI, alp, dQ, kp, 0, x_ref = 0),0]).reshape(2,1)\n",
    "#     elif t>130:\n",
    "#         F=np.array([-Fx(QI, alp, dQ, kp, kd, x_ref = 0),0]).reshape(2,1)\n",
    "#     else:\n",
    "#         F=np.array([Fx_,0]).reshape(2,1)\n",
    "\n",
    "    if t>100:\n",
    "        F=np.array([-Fx(QI, alp, dQ, kp, kd, x_ref = 0),0]).reshape(2,1)\n",
    "#         print(F)\n",
    "    else:\n",
    "        F=np.array([Fx_,0]).reshape(2,1)\n",
    "   \n",
    "    C0= (- np.dot(H(alp,QI,dQ,l), np.radians(dQ)).reshape(len(QI),1)\n",
    "                        - np.dot(C(QI,dQ, l, mn, In, mi), np.radians(dQ)).reshape(len(QI),1)  \n",
    "                        - f(QI, K) \n",
    "                        - g(QI,alp)\n",
    "                        + tau(QI,alp, tau_qn, F, tau_q_wave))\n",
    "    print(M(QI, l, mn, In, mi),- np.dot(H(alp,QI,dQ,l), np.radians(dQ)).reshape(len(QI),1),\n",
    "                        - np.dot(C(QI,dQ, l, mn, In, mi), np.radians(dQ)).reshape(len(QI),1),  \n",
    "                        - f(QI, K) ,\n",
    "                        - g(QI,alp),\n",
    "                        + tau(QI,alp, tau_qn, F, tau_q_wave))\n",
    "#     print('M',M(QI, l, mn, In, mi))\n",
    "#     print('C0',C0)\n",
    "#     print(tau(QI,alp, tau_qn, F, tau_q_wave))\n",
    "    ddq0,ddq1,ddq2,ddq3 = np.linalg.lstsq(M(QI, l, mn, In, mi),C0, rcond=None)[0]\n",
    "#     print(QI)\n",
    "#     print(dq0, ddq0, dq1, ddq1, dq2, ddq2, dq3, ddq3)\n",
    "#     print()\n",
    "\n",
    "    return [dq0, ddq0, dq1, ddq1, dq2, ddq2, dq3, ddq3]"
   ]
  },
  {
   "cell_type": "code",
   "execution_count": 112,
   "metadata": {},
   "outputs": [
    {
     "data": {
      "text/plain": [
       "array([0.000e+00, 5.000e-01, 1.000e+00, ..., 5.985e+02, 5.990e+02,\n",
       "       5.995e+02])"
      ]
     },
     "execution_count": 112,
     "metadata": {},
     "output_type": "execute_result"
    }
   ],
   "source": [
    "t"
   ]
  },
  {
   "cell_type": "code",
   "execution_count": 113,
   "metadata": {},
   "outputs": [
    {
     "data": {
      "text/plain": [
       "187892040.0"
      ]
     },
     "execution_count": 113,
     "metadata": {},
     "output_type": "execute_result"
    }
   ],
   "source": [
    "1.8789204e+08"
   ]
  },
  {
   "cell_type": "code",
   "execution_count": 114,
   "metadata": {},
   "outputs": [
    {
     "name": "stdout",
     "output_type": "stream",
     "text": [
      "0.0\n",
      "[[3.02491097e+15 2.15782851e+15 1.29129679e+15 4.29417043e+14]\n",
      " [2.15782851e+15 1.54126747e+15 9.23442101e+14 3.07347265e+14]\n",
      " [1.29129679e+15 9.23442101e+14 5.54113214e+14 1.84693271e+14]\n",
      " [4.29417043e+14 3.07347265e+14 1.84693271e+14 6.17448561e+13]] [[-0.]\n",
      " [-0.]\n",
      " [-0.]\n",
      " [-0.]] [[-0.]\n",
      " [-0.]\n",
      " [-0.]\n",
      " [-0.]] [[-8.21145738e+08]\n",
      " [-3.13131325e+09]\n",
      " [-3.17848779e+09]\n",
      " [-1.51416210e+09]] [[1.32227326e+11]\n",
      " [1.27875665e+11]\n",
      " [9.58765466e+10]\n",
      " [3.64773593e+10]] [[-9.76290116e+10]\n",
      " [-9.26795663e+10]\n",
      " [-6.88705801e+10]\n",
      " [-2.59671176e+10]]\n",
      "6.103517840798289e-05\n",
      "[[3.02491097e+15 2.15782851e+15 1.29129679e+15 4.29417043e+14]\n",
      " [2.15782851e+15 1.54126747e+15 9.23442101e+14 3.07347265e+14]\n",
      " [1.29129679e+15 9.23442101e+14 5.54113214e+14 1.84693271e+14]\n",
      " [4.29417043e+14 3.07347265e+14 1.84693271e+14 6.17448561e+13]] [[ 2.89374295e-01]\n",
      " [ 1.15355916e-01]\n",
      " [ 1.82548616e-02]\n",
      " [-1.04629683e-04]] [[ 1.81585695e-06]\n",
      " [-1.69920084e-06]\n",
      " [-1.47223400e-06]\n",
      " [ 1.76627243e-07]] [[-8.21145738e+08]\n",
      " [-3.13131325e+09]\n",
      " [-3.17848779e+09]\n",
      " [-1.51416210e+09]] [[1.32227326e+11]\n",
      " [1.27875665e+11]\n",
      " [9.58765466e+10]\n",
      " [3.64773593e+10]] [[-9.76290116e+10]\n",
      " [-9.26795663e+10]\n",
      " [-6.88705801e+10]\n",
      " [-2.59671176e+10]]\n",
      "6.103517840798289e-05\n",
      "[[3.02491097e+15 2.15782851e+15 1.29129679e+15 4.29417043e+14]\n",
      " [2.15782851e+15 1.54126747e+15 9.23442101e+14 3.07347265e+14]\n",
      " [1.29129679e+15 9.23442101e+14 5.54113214e+14 1.84693271e+14]\n",
      " [4.29417043e+14 3.07347265e+14 1.84693271e+14 6.17448561e+13]] [[ 2.89374295e-01]\n",
      " [ 1.15355916e-01]\n",
      " [ 1.82548616e-02]\n",
      " [-1.04629683e-04]] [[ 1.81585695e-06]\n",
      " [-1.69920084e-06]\n",
      " [-1.47223400e-06]\n",
      " [ 1.76627243e-07]] [[-8.21145738e+08]\n",
      " [-3.13131325e+09]\n",
      " [-3.17848779e+09]\n",
      " [-1.51416210e+09]] [[1.32227326e+11]\n",
      " [1.27875665e+11]\n",
      " [9.58765466e+10]\n",
      " [3.64773593e+10]] [[-9.76290116e+10]\n",
      " [-9.26795663e+10]\n",
      " [-6.88705801e+10]\n",
      " [-2.59671176e+10]]\n",
      "0.00012207035681596577\n",
      "[[3.02491097e+15 2.15782851e+15 1.29129679e+15 4.29417043e+14]\n",
      " [2.15782851e+15 1.54126747e+15 9.23442101e+14 3.07347265e+14]\n",
      " [1.29129679e+15 9.23442101e+14 5.54113214e+14 1.84693271e+14]\n",
      " [4.29417043e+14 3.07347265e+14 1.84693271e+14 6.17448561e+13]] [[ 1.15749718e+00]\n",
      " [ 4.61423663e-01]\n",
      " [ 7.30194465e-02]\n",
      " [-4.18518731e-04]] [[ 7.26342779e-06]\n",
      " [-6.79680336e-06]\n",
      " [-5.88893601e-06]\n",
      " [ 7.06508971e-07]] [[-8.21145738e+08]\n",
      " [-3.13131325e+09]\n",
      " [-3.17848779e+09]\n",
      " [-1.51416210e+09]] [[1.32227326e+11]\n",
      " [1.27875665e+11]\n",
      " [9.58765466e+10]\n",
      " [3.64773593e+10]] [[-9.76290116e+10]\n",
      " [-9.26795663e+10]\n",
      " [-6.88705801e+10]\n",
      " [-2.59671176e+10]]\n",
      "0.00012207035681596577\n",
      "[[3.02491097e+15 2.15782851e+15 1.29129679e+15 4.29417043e+14]\n",
      " [2.15782851e+15 1.54126747e+15 9.23442101e+14 3.07347265e+14]\n",
      " [1.29129679e+15 9.23442101e+14 5.54113214e+14 1.84693271e+14]\n",
      " [4.29417043e+14 3.07347265e+14 1.84693271e+14 6.17448561e+13]] [[ 1.15749718e+00]\n",
      " [ 4.61423663e-01]\n",
      " [ 7.30194465e-02]\n",
      " [-4.18518731e-04]] [[ 7.26342779e-06]\n",
      " [-6.79680336e-06]\n",
      " [-5.88893601e-06]\n",
      " [ 7.06508971e-07]] [[-8.21145738e+08]\n",
      " [-3.13131325e+09]\n",
      " [-3.17848779e+09]\n",
      " [-1.51416210e+09]] [[1.32227326e+11]\n",
      " [1.27875665e+11]\n",
      " [9.58765466e+10]\n",
      " [3.64773593e+10]] [[-9.76290116e+10]\n",
      " [-9.26795663e+10]\n",
      " [-6.88705801e+10]\n",
      " [-2.59671176e+10]]\n",
      "0.09847834247449631\n",
      "[[3.02491094e+15 2.15782849e+15 1.29129677e+15 4.29417038e+14]\n",
      " [2.15782849e+15 1.54126746e+15 9.23442100e+14 3.07347265e+14]\n",
      " [1.29129677e+15 9.23442100e+14 5.54113214e+14 1.84693271e+14]\n",
      " [4.29417038e+14 3.07347265e+14 1.84693271e+14 6.17448561e+13]] [[ 7.53322443e+05]\n",
      " [ 3.00303801e+05]\n",
      " [ 4.75225232e+04]\n",
      " [-2.72381108e+02]] [[ 4.72720192]\n",
      " [-4.42351047]\n",
      " [-3.83265434]\n",
      " [ 0.45980721]] [[-8.21132377e+08]\n",
      " [-3.13132813e+09]\n",
      " [-3.17849583e+09]\n",
      " [-1.51415765e+09]] [[1.32226447e+11]\n",
      " [1.27875038e+11]\n",
      " [9.58761706e+10]\n",
      " [3.64772343e+10]] [[-9.76290129e+10]\n",
      " [-9.26796481e+10]\n",
      " [-6.88706527e+10]\n",
      " [-2.59671328e+10]]\n",
      "0.09847834247449631\n",
      "[[3.02491094e+15 2.15782849e+15 1.29129677e+15 4.29417038e+14]\n",
      " [2.15782849e+15 1.54126746e+15 9.23442100e+14 3.07347265e+14]\n",
      " [1.29129677e+15 9.23442100e+14 5.54113214e+14 1.84693271e+14]\n",
      " [4.29417038e+14 3.07347265e+14 1.84693271e+14 6.17448561e+13]] [[ 7.53291564e+05]\n",
      " [ 3.00294014e+05]\n",
      " [ 4.75221753e+04]\n",
      " [-2.72375413e+02]] [[ 4.72682153]\n",
      " [-4.42338503]\n",
      " [-3.83265668]\n",
      " [ 0.45951029]] [[-8.21132377e+08]\n",
      " [-3.13132813e+09]\n",
      " [-3.17849583e+09]\n",
      " [-1.51415765e+09]] [[1.32226447e+11]\n",
      " [1.27875038e+11]\n",
      " [9.58761706e+10]\n",
      " [3.64772343e+10]] [[-9.76290129e+10]\n",
      " [-9.26796481e+10]\n",
      " [-6.88706527e+10]\n",
      " [-2.59671328e+10]]\n",
      "0.19683461459217666\n",
      "[[3.02491083e+15 2.15782843e+15 1.29129673e+15 4.29417025e+14]\n",
      " [2.15782843e+15 1.54126745e+15 9.23442095e+14 3.07347264e+14]\n",
      " [1.29129673e+15 9.23442095e+14 5.54113215e+14 1.84693272e+14]\n",
      " [4.29417025e+14 3.07347264e+14 1.84693272e+14 6.17448561e+13]] [[ 3.00930798e+06]\n",
      " [ 1.19964804e+06]\n",
      " [ 1.89851655e+05]\n",
      " [-1.08813677e+03]] [[ 18.88253722]\n",
      " [-17.67127577]\n",
      " [-15.31182624]\n",
      " [  1.83454403]] [[-8.21092363e+08]\n",
      " [-3.13137272e+09]\n",
      " [-3.17851993e+09]\n",
      " [-1.51414431e+09]] [[1.32223816e+11]\n",
      " [1.27873160e+11]\n",
      " [9.58750444e+10]\n",
      " [3.64768598e+10]] [[-9.76290167e+10]\n",
      " [-9.26798931e+10]\n",
      " [-6.88708702e+10]\n",
      " [-2.59671786e+10]]\n",
      "0.19683461459217666\n",
      "[[3.02491083e+15 2.15782843e+15 1.29129673e+15 4.29417025e+14]\n",
      " [2.15782843e+15 1.54126745e+15 9.23442095e+14 3.07347264e+14]\n",
      " [1.29129673e+15 9.23442095e+14 5.54113215e+14 1.84693272e+14]\n",
      " [4.29417025e+14 3.07347264e+14 1.84693272e+14 6.17448561e+13]] [[ 3.00918463e+06]\n",
      " [ 1.19960894e+06]\n",
      " [ 1.89850267e+05]\n",
      " [-1.08811401e+03]] [[ 18.88101706]\n",
      " [-17.67077474]\n",
      " [-15.31183591]\n",
      " [  1.83335774]] [[-8.21092364e+08]\n",
      " [-3.13137272e+09]\n",
      " [-3.17851993e+09]\n",
      " [-1.51414431e+09]] [[1.32223816e+11]\n",
      " [1.27873160e+11]\n",
      " [9.58750444e+10]\n",
      " [3.64768598e+10]] [[-9.76290167e+10]\n",
      " [-9.26798931e+10]\n",
      " [-6.88708702e+10]\n",
      " [-2.59671786e+10]]\n",
      "0.295190886709857\n",
      "[[3.02491065e+15 2.15782833e+15 1.29129666e+15 4.29417002e+14]\n",
      " [2.15782833e+15 1.54126743e+15 9.23442087e+14 3.07347263e+14]\n",
      " [1.29129666e+15 9.23442087e+14 5.54113217e+14 1.84693273e+14]\n",
      " [4.29417002e+14 3.07347263e+14 1.84693273e+14 6.17448561e+13]] [[ 6.76712314e+06]\n",
      " [ 2.69776832e+06]\n",
      " [ 4.26977798e+05]\n",
      " [-2.44713784e+03]] [[ 42.45636706]\n",
      " [-39.74041133]\n",
      " [-34.43814763]\n",
      " [  4.11611654]] [[-8.21025701e+08]\n",
      " [-3.13144699e+09]\n",
      " [-3.17856007e+09]\n",
      " [-1.51412210e+09]] [[1.32219431e+11]\n",
      " [1.27870030e+11]\n",
      " [9.58731680e+10]\n",
      " [3.64762359e+10]] [[-9.76290230e+10]\n",
      " [-9.26803012e+10]\n",
      " [-6.88712325e+10]\n",
      " [-2.59672549e+10]]\n",
      "0.295190886709857\n",
      "[[3.02491065e+15 2.15782833e+15 1.29129666e+15 4.29417002e+14]\n",
      " [2.15782833e+15 1.54126743e+15 9.23442087e+14 3.07347263e+14]\n",
      " [1.29129666e+15 9.23442087e+14 5.54113217e+14 1.84693273e+14]\n",
      " [4.29417002e+14 3.07347263e+14 1.84693273e+14 6.17448561e+13]] [[ 6.76693825e+06]\n",
      " [ 2.69770972e+06]\n",
      " [ 4.26975715e+05]\n",
      " [-2.44710371e+03]] [[ 42.45408841]\n",
      " [-39.7396603 ]\n",
      " [-34.43816187]\n",
      " [  4.11433901]] [[-8.21025704e+08]\n",
      " [-3.13144698e+09]\n",
      " [-3.17856007e+09]\n",
      " [-1.51412210e+09]] [[1.32219431e+11]\n",
      " [1.27870030e+11]\n",
      " [9.58731680e+10]\n",
      " [3.64762359e+10]] [[-9.76290230e+10]\n",
      " [-9.26803012e+10]\n",
      " [-6.88712325e+10]\n",
      " [-2.59672549e+10]]\n",
      "0.5366803942642357\n",
      "[[3.02490992e+15 2.15782793e+15 1.29129636e+15 4.29416906e+14]\n",
      " [2.15782793e+15 1.54126736e+15 9.23442053e+14 3.07347256e+14]\n",
      " [1.29129636e+15 9.23442053e+14 5.54113225e+14 1.84693277e+14]\n",
      " [4.29416906e+14 3.07347256e+14 1.84693277e+14 6.17448561e+13]] [[ 2.23559377e+07]\n",
      " [ 8.91336558e+06]\n",
      " [ 1.41119536e+06]\n",
      " [-8.08696738e+03]] [[ 140.19648166]\n",
      " [-131.31745515]\n",
      " [-113.84280178]\n",
      " [  13.48708896]] [[-8.20749040e+08]\n",
      " [-3.13175521e+09]\n",
      " [-3.17872668e+09]\n",
      " [-1.51403000e+09]] [[1.32201230e+11]\n",
      " [1.27857040e+11]\n",
      " [9.58653791e+10]\n",
      " [3.64736460e+10]] [[-9.76290492e+10]\n",
      " [-9.26819949e+10]\n",
      " [-6.88727364e+10]\n",
      " [-2.59675716e+10]]\n",
      "0.5366803942642357\n",
      "[[3.02490992e+15 2.15782793e+15 1.29129636e+15 4.29416906e+14]\n",
      " [2.15782793e+15 1.54126736e+15 9.23442053e+14 3.07347256e+14]\n",
      " [1.29129636e+15 9.23442053e+14 5.54113225e+14 1.84693277e+14]\n",
      " [4.29416906e+14 3.07347256e+14 1.84693277e+14 6.17448561e+13]] [[ 2.23550974e+07]\n",
      " [ 8.91309915e+06]\n",
      " [ 1.41118583e+06]\n",
      " [-8.08681178e+03]] [[ 140.18612634]\n",
      " [-131.31403898]\n",
      " [-113.842858  ]\n",
      " [  13.47902504]] [[-8.20749066e+08]\n",
      " [-3.13175517e+09]\n",
      " [-3.17872666e+09]\n",
      " [-1.51403004e+09]] [[1.32201230e+11]\n",
      " [1.27857040e+11]\n",
      " [9.58653791e+10]\n",
      " [3.64736460e+10]] [[-9.76290492e+10]\n",
      " [-9.26819948e+10]\n",
      " [-6.88727363e+10]\n",
      " [-2.59675717e+10]]\n",
      "0.7781699018186145\n"
     ]
    },
    {
     "name": "stdout",
     "output_type": "stream",
     "text": [
      "[[3.02490877e+15 2.15782729e+15 1.29129588e+15 4.29416755e+14]\n",
      " [2.15782729e+15 1.54126724e+15 9.23441999e+14 3.07347246e+14]\n",
      " [1.29129588e+15 9.23441999e+14 5.54113239e+14 1.84693283e+14]\n",
      " [4.29416755e+14 3.07347246e+14 1.84693283e+14 6.17448561e+13]] [[ 4.69561040e+07]\n",
      " [ 1.87251881e+07]\n",
      " [ 2.96638445e+06]\n",
      " [-1.69951539e+04]] [[ 294.22893078]\n",
      " [-275.92768074]\n",
      " [-239.37936677]\n",
      " [  27.91690344]] [[-8.20312036e+08]\n",
      " [-3.13224197e+09]\n",
      " [-3.17898985e+09]\n",
      " [-1.51388496e+09]] [[1.32172463e+11]\n",
      " [1.27836507e+11]\n",
      " [9.58530684e+10]\n",
      " [3.64695525e+10]] [[-9.76290907e+10]\n",
      " [-9.26846703e+10]\n",
      " [-6.88751124e+10]\n",
      " [-2.59680731e+10]]\n",
      "0.7781699018186145\n",
      "[[3.02490877e+15 2.15782729e+15 1.29129588e+15 4.29416755e+14]\n",
      " [2.15782729e+15 1.54126724e+15 9.23441999e+14 3.07347246e+14]\n",
      " [1.29129588e+15 9.23441999e+14 5.54113239e+14 1.84693283e+14]\n",
      " [4.29416755e+14 3.07347246e+14 1.84693283e+14 6.17448561e+13]] [[ 4.69573487e+07]\n",
      " [ 1.87255819e+07]\n",
      " [ 2.96639800e+06]\n",
      " [-1.69953813e+04]] [[ 294.244316  ]\n",
      " [-275.93272119]\n",
      " [-239.37924893]\n",
      " [  27.92896029]] [[-8.20312087e+08]\n",
      " [-3.13224190e+09]\n",
      " [-3.17898982e+09]\n",
      " [-1.51388506e+09]] [[1.32172464e+11]\n",
      " [1.27836507e+11]\n",
      " [9.58530684e+10]\n",
      " [3.64695525e+10]] [[-9.76290907e+10]\n",
      " [-9.26846700e+10]\n",
      " [-6.88751122e+10]\n",
      " [-2.59680732e+10]]\n",
      "1.0196594093729932\n",
      "[[3.02490720e+15 2.15782642e+15 1.29129522e+15 4.29416549e+14]\n",
      " [2.15782642e+15 1.54126707e+15 9.23441926e+14 3.07347232e+14]\n",
      " [1.29129522e+15 9.23441926e+14 5.54113256e+14 1.84693292e+14]\n",
      " [4.29416549e+14 3.07347232e+14 1.84693292e+14 6.17448561e+13]] [[ 8.05251312e+07]\n",
      " [ 3.21197363e+07]\n",
      " [ 5.09204182e+06]\n",
      " [-2.91654233e+04]] [[ 504.07074899]\n",
      " [-473.43094296]\n",
      " [-411.08690754]\n",
      " [  46.99421603]] [[-8.19715040e+08]\n",
      " [-3.13290678e+09]\n",
      " [-3.17934938e+09]\n",
      " [-1.51368766e+09]] [[1.32133132e+11]\n",
      " [1.27808434e+11]\n",
      " [9.58362365e+10]\n",
      " [3.64639556e+10]] [[-9.76291475e+10]\n",
      " [-9.26883253e+10]\n",
      " [-6.88783594e+10]\n",
      " [-2.59687601e+10]]\n",
      "1.0196594093729932\n",
      "[[3.02490720e+15 2.15782642e+15 1.29129522e+15 4.29416549e+14]\n",
      " [2.15782642e+15 1.54126707e+15 9.23441926e+14 3.07347232e+14]\n",
      " [1.29129522e+15 9.23441926e+14 5.54113256e+14 1.84693292e+14]\n",
      " [4.29416549e+14 3.07347232e+14 1.84693292e+14 6.17448561e+13]] [[ 8.05251745e+07]\n",
      " [ 3.21197486e+07]\n",
      " [ 5.09204136e+06]\n",
      " [-2.91654263e+04]] [[ 504.07133933]\n",
      " [-473.43108814]\n",
      " [-411.08684332]\n",
      " [  46.994823  ]] [[-8.19715092e+08]\n",
      " [-3.13290671e+09]\n",
      " [-3.17934935e+09]\n",
      " [-1.51368776e+09]] [[1.32133132e+11]\n",
      " [1.27808434e+11]\n",
      " [9.58362365e+10]\n",
      " [3.64639556e+10]] [[-9.76291475e+10]\n",
      " [-9.26883250e+10]\n",
      " [-6.88783592e+10]\n",
      " [-2.59687602e+10]]\n",
      "1.2611489169273717\n",
      "[[3.02490520e+15 2.15782532e+15 1.29129440e+15 4.29416286e+14]\n",
      " [2.15782532e+15 1.54126686e+15 9.23441833e+14 3.07347215e+14]\n",
      " [1.29129440e+15 9.23441833e+14 5.54113279e+14 1.84693303e+14]\n",
      " [4.29416286e+14 3.07347215e+14 1.84693303e+14 6.17448561e+13]] [[ 1.22992378e+08]\n",
      " [ 4.90745669e+07]\n",
      " [ 7.78733195e+06]\n",
      " [-4.45868305e+04]] [[ 768.9050634 ]\n",
      " [-723.58420577]\n",
      " [-629.01833148]\n",
      " [  70.03774052]] [[-8.18958526e+08]\n",
      " [-3.13374895e+09]\n",
      " [-3.17980499e+09]\n",
      " [-1.51343898e+09]] [[1.32083236e+11]\n",
      " [1.27772822e+11]\n",
      " [9.58148842e+10]\n",
      " [3.64568556e+10]] [[-9.76292195e+10]\n",
      " [-9.26929569e+10]\n",
      " [-6.88824757e+10]\n",
      " [-2.59696339e+10]]\n",
      "1.2611489169273717\n",
      "[[3.02490520e+15 2.15782532e+15 1.29129440e+15 4.29416286e+14]\n",
      " [2.15782532e+15 1.54126686e+15 9.23441833e+14 3.07347215e+14]\n",
      " [1.29129440e+15 9.23441833e+14 5.54113279e+14 1.84693303e+14]\n",
      " [4.29416286e+14 3.07347215e+14 1.84693303e+14 6.17448561e+13]] [[ 1.22992453e+08]\n",
      " [ 4.90745876e+07]\n",
      " [ 7.78733085e+06]\n",
      " [-4.45868358e+04]] [[ 768.90606911]\n",
      " [-723.58445552]\n",
      " [-629.01823257]\n",
      " [  70.03884568]] [[-8.18958580e+08]\n",
      " [-3.13374887e+09]\n",
      " [-3.17980496e+09]\n",
      " [-1.51343908e+09]] [[1.32083236e+11]\n",
      " [1.27772822e+11]\n",
      " [9.58148842e+10]\n",
      " [3.64568556e+10]] [[-9.76292195e+10]\n",
      " [-9.26929566e+10]\n",
      " [-6.88824755e+10]\n",
      " [-2.59696340e+10]]\n",
      "1.732977456986128\n",
      "[[3.02490008e+15 2.15782249e+15 1.29129227e+15 4.29415612e+14]\n",
      " [2.15782249e+15 1.54126632e+15 9.23441592e+14 3.07347168e+14]\n",
      " [1.29129227e+15 9.23441592e+14 5.54113336e+14 1.84693332e+14]\n",
      " [4.29415612e+14 3.07347168e+14 1.84693332e+14 6.17448561e+13]] [[ 2.31313851e+08]\n",
      " [ 9.23703462e+07]\n",
      " [ 1.46932484e+07]\n",
      " [-8.40486425e+04]] [[ 1441.23347511]\n",
      " [-1363.15051553]\n",
      " [-1188.4581552 ]\n",
      " [  123.34553971]] [[-8.17022337e+08]\n",
      " [-3.13590304e+09]\n",
      " [-3.18097116e+09]\n",
      " [-1.51280903e+09]] [[1.31955277e+11]\n",
      " [1.27681492e+11]\n",
      " [9.57601247e+10]\n",
      " [3.64386466e+10]] [[-9.76294041e+10]\n",
      " [-9.27048112e+10]\n",
      " [-6.88930190e+10]\n",
      " [-2.59718861e+10]]\n",
      "1.732977456986128\n",
      "[[3.02490008e+15 2.15782249e+15 1.29129227e+15 4.29415612e+14]\n",
      " [2.15782249e+15 1.54126632e+15 9.23441592e+14 3.07347168e+14]\n",
      " [1.29129227e+15 9.23441592e+14 5.54113336e+14 1.84693332e+14]\n",
      " [4.29415612e+14 3.07347168e+14 1.84693332e+14 6.17448561e+13]] [[ 2.31314522e+08]\n",
      " [ 9.23705344e+07]\n",
      " [ 1.46932400e+07]\n",
      " [-8.40486896e+04]] [[ 1441.24263589]\n",
      " [-1363.1527743 ]\n",
      " [-1188.45725086]\n",
      " [  123.35518541]] [[-8.17022573e+08]\n",
      " [-3.13590270e+09]\n",
      " [-3.18097102e+09]\n",
      " [-1.51280947e+09]] [[1.31955277e+11]\n",
      " [1.27681492e+11]\n",
      " [9.57601248e+10]\n",
      " [3.64386467e+10]] [[-9.76294041e+10]\n",
      " [-9.27048098e+10]\n",
      " [-6.88930182e+10]\n",
      " [-2.59718867e+10]]\n",
      "2.2048059970448843\n",
      "[[3.02489336e+15 2.15781877e+15 1.29128948e+15 4.29414723e+14]\n",
      " [2.15781877e+15 1.54126561e+15 9.23441273e+14 3.07347104e+14]\n",
      " [1.29128948e+15 9.23441273e+14 5.54113409e+14 1.84693368e+14]\n",
      " [4.29414723e+14 3.07347104e+14 1.84693368e+14 6.17448561e+13]] [[ 3.72471798e+08]\n",
      " [ 1.48896845e+08]\n",
      " [ 2.37597962e+07]\n",
      " [-1.35746103e+05]] [[ 2310.38073094]\n",
      " [-2199.84681468]\n",
      " [-1925.19037075]\n",
      " [  180.99488004]] [[-8.14486045e+08]\n",
      " [-3.13872155e+09]\n",
      " [-3.18249901e+09]\n",
      " [-1.51199961e+09]] [[1.31787024e+11]\n",
      " [1.27561403e+11]\n",
      " [9.56881225e+10]\n",
      " [3.64147032e+10]] [[-9.76296468e+10]\n",
      " [-9.27203406e+10]\n",
      " [-6.89068505e+10]\n",
      " [-2.59748745e+10]]\n",
      "2.2048059970448843\n",
      "[[3.02489336e+15 2.15781877e+15 1.29128948e+15 4.29414723e+14]\n",
      " [2.15781877e+15 1.54126561e+15 9.23441273e+14 3.07347104e+14]\n",
      " [1.29128948e+15 9.23441273e+14 5.54113409e+14 1.84693369e+14]\n",
      " [4.29414723e+14 3.07347104e+14 1.84693369e+14 6.17448561e+13]] [[ 3.72472297e+08]\n",
      " [ 1.48896981e+08]\n",
      " [ 2.37597869e+07]\n",
      " [-1.35746142e+05]] [[ 2310.38765055]\n",
      " [-2199.84862652]\n",
      " [-1925.18999311]\n",
      " [  181.00260263]] [[-8.14485908e+08]\n",
      " [-3.13872174e+09]\n",
      " [-3.18249909e+09]\n",
      " [-1.51199934e+09]] [[1.31787025e+11]\n",
      " [1.27561403e+11]\n",
      " [9.56881226e+10]\n",
      " [3.64147033e+10]] [[-9.76296468e+10]\n",
      " [-9.27203414e+10]\n",
      " [-6.89068510e+10]\n",
      " [-2.59748741e+10]]\n",
      "2.6766345371036406\n",
      "[[3.02488505e+15 2.15781418e+15 1.29128603e+15 4.29413617e+14]\n",
      " [2.15781418e+15 1.54126473e+15 9.23440874e+14 3.07347021e+14]\n",
      " [1.29128603e+15 9.23440874e+14 5.54113497e+14 1.84693413e+14]\n",
      " [4.29413617e+14 3.07347021e+14 1.84693413e+14 6.17448561e+13]] [[ 5.45430644e+08]\n",
      " [ 2.18323439e+08]\n",
      " [ 3.49737108e+07]\n",
      " [-1.99515587e+05]] [[ 3364.2306898 ]\n",
      " [-3230.12074198]\n",
      " [-2839.88682845]\n",
      " [  233.24850913]] [[-8.11356422e+08]\n",
      " [-3.14219479e+09]\n",
      " [-3.18438465e+09]\n",
      " [-1.51102334e+09]] [[1.31578510e+11]\n",
      " [1.27412577e+11]\n",
      " [9.55988908e+10]\n",
      " [3.63850292e+10]] [[-9.76299476e+10]\n",
      " [-9.27395042e+10]\n",
      " [-6.89239468e+10]\n",
      " [-2.59786166e+10]]\n",
      "2.6766345371036406\n",
      "[[3.02488505e+15 2.15781418e+15 1.29128603e+15 4.29413617e+14]\n",
      " [2.15781418e+15 1.54126473e+15 9.23440874e+14 3.07347021e+14]\n",
      " [1.29128603e+15 9.23440874e+14 5.54113497e+14 1.84693413e+14]\n",
      " [4.29413617e+14 3.07347021e+14 1.84693413e+14 6.17448561e+13]] [[ 5.45431260e+08]\n",
      " [ 2.18323604e+08]\n",
      " [ 3.49736975e+07]\n",
      " [-1.99515635e+05]] [[ 3364.23930346]\n",
      " [-3230.12297925]\n",
      " [-2839.88644815]\n",
      " [  233.2584037 ]] [[-8.11356284e+08]\n",
      " [-3.14219499e+09]\n",
      " [-3.18438474e+09]\n",
      " [-1.51102306e+09]] [[1.31578510e+11]\n",
      " [1.27412577e+11]\n",
      " [9.55988910e+10]\n",
      " [3.63850292e+10]] [[-9.76299476e+10]\n",
      " [-9.27395050e+10]\n",
      " [-6.89239473e+10]\n",
      " [-2.59786162e+10]]\n",
      "3.148463077162397\n",
      "[[3.02487516e+15 2.15780870e+15 1.29128192e+15 4.29412291e+14]\n",
      " [2.15780870e+15 1.54126366e+15 9.23440392e+14 3.07346916e+14]\n",
      " [1.29128192e+15 9.23440392e+14 5.54113599e+14 1.84693463e+14]\n",
      " [4.29412291e+14 3.07346916e+14 1.84693463e+14 6.17448561e+13]] [[ 7.48943421e+08]\n",
      " [ 3.00250650e+08]\n",
      " [ 4.83181610e+07]\n",
      " [-2.75155639e+05]] [[ 4588.04859264]\n",
      " [-4449.66661448]\n",
      " [-3933.23437554]\n",
      " [  268.59834871]] [[-8.07643088e+08]\n",
      " [-3.14630900e+09]\n",
      " [-3.18662261e+09]\n",
      " [-1.50989811e+09]] [[1.31329773e+11]\n",
      " [1.27235044e+11]\n",
      " [9.54924473e+10]\n",
      " [3.63496296e+10]] [[-9.76303065e+10]\n",
      " [-9.27622439e+10]\n",
      " [-6.89442749e+10]\n",
      " [-2.59831370e+10]]\n",
      "3.148463077162397\n",
      "[[3.02487516e+15 2.15780870e+15 1.29128192e+15 4.29412291e+14]\n",
      " [2.15780870e+15 1.54126366e+15 9.23440392e+14 3.07346916e+14]\n",
      " [1.29128192e+15 9.23440392e+14 5.54113599e+14 1.84693463e+14]\n",
      " [4.29412291e+14 3.07346916e+14 1.84693463e+14 6.17448561e+13]] [[ 7.48944441e+08]\n",
      " [ 3.00250930e+08]\n",
      " [ 4.83181431e+07]\n",
      " [-2.75155715e+05]] [[ 4588.06290764]\n",
      " [-4449.67016981]\n",
      " [-3933.23348128]\n",
      " [  268.61391622]] [[-8.07643062e+08]\n",
      " [-3.14630903e+09]\n",
      " [-3.18662264e+09]\n",
      " [-1.50989804e+09]] [[1.31329774e+11]\n",
      " [1.27235044e+11]\n",
      " [9.54924475e+10]\n",
      " [3.63496297e+10]] [[-9.76303065e+10]\n",
      " [-9.27622441e+10]\n",
      " [-6.89442749e+10]\n",
      " [-2.59831368e+10]]\n",
      "3.6202916172211532\n"
     ]
    },
    {
     "name": "stdout",
     "output_type": "stream",
     "text": [
      "[[3.02486372e+15 2.15780236e+15 1.29127716e+15 4.29410743e+14]\n",
      " [2.15780236e+15 1.54126241e+15 9.23439825e+14 3.07346786e+14]\n",
      " [1.29127716e+15 9.23439825e+14 5.54113712e+14 1.84693520e+14]\n",
      " [4.29410743e+14 3.07346786e+14 1.84693520e+14 6.17448561e+13]] [[ 9.81572419e+08]\n",
      " [ 3.94216001e+08]\n",
      " [ 6.37725512e+07]\n",
      " [-3.62427745e+05]] [[ 5964.64839631]\n",
      " [-5853.47924112]\n",
      " [-5205.85248004]\n",
      " [  274.07556072]] [[-8.03357272e+08]\n",
      " [-3.15104810e+09]\n",
      " [-3.18920655e+09]\n",
      " [-1.50864459e+09]] [[1.31040866e+11]\n",
      " [1.27028841e+11]\n",
      " [9.53688143e+10]\n",
      " [3.63085111e+10]] [[-9.76307233e+10]\n",
      " [-9.27884921e+10]\n",
      " [-6.89677960e+10]\n",
      " [-2.59884640e+10]]\n",
      "3.6202916172211532\n",
      "[[3.02486372e+15 2.15780236e+15 1.29127716e+15 4.29410743e+14]\n",
      " [2.15780236e+15 1.54126241e+15 9.23439825e+14 3.07346786e+14]\n",
      " [1.29127716e+15 9.23439825e+14 5.54113712e+14 1.84693520e+14]\n",
      " [4.29410743e+14 3.07346786e+14 1.84693520e+14 6.17448561e+13]] [[ 9.81573460e+08]\n",
      " [ 3.94216284e+08]\n",
      " [ 6.37725309e+07]\n",
      " [-3.62427824e+05]] [[ 5964.66327331]\n",
      " [-5853.48284163]\n",
      " [-5205.8516082 ]\n",
      " [  274.09179364]] [[-8.03357241e+08]\n",
      " [-3.15104814e+09]\n",
      " [-3.18920658e+09]\n",
      " [-1.50864451e+09]] [[1.31040867e+11]\n",
      " [1.27028841e+11]\n",
      " [9.53688146e+10]\n",
      " [3.63085112e+10]] [[-9.76307233e+10]\n",
      " [-9.27884923e+10]\n",
      " [-6.89677961e+10]\n",
      " [-2.59884638e+10]]\n",
      "4.299482944898714\n",
      "[[3.02484454e+15 2.15779170e+15 1.29126916e+15 4.29408116e+14]\n",
      " [2.15779170e+15 1.54126029e+15 9.23438852e+14 3.07346548e+14]\n",
      " [1.29126916e+15 9.23438852e+14 5.54113890e+14 1.84693609e+14]\n",
      " [4.29408116e+14 3.07346548e+14 1.84693609e+14 6.17448561e+13]] [[ 1.36429303e+09]\n",
      " [ 5.49557515e+08]\n",
      " [ 8.96731800e+07]\n",
      " [-5.07917463e+05]] [[ 8174.85185467]\n",
      " [-8186.27866268]\n",
      " [-7353.42003075]\n",
      " [  200.93103718]] [[-7.96208126e+08]\n",
      " [-3.15893081e+09]\n",
      " [-3.19351942e+09]\n",
      " [-1.50666122e+09]] [[1.30554586e+11]\n",
      " [1.26681767e+11]\n",
      " [9.51607212e+10]\n",
      " [3.62392969e+10]] [[-9.76314248e+10]\n",
      " [-9.28322829e+10]\n",
      " [-6.90071734e+10]\n",
      " [-2.59976117e+10]]\n",
      "4.299482944898714\n",
      "[[3.02484454e+15 2.15779170e+15 1.29126916e+15 4.29408116e+14]\n",
      " [2.15779170e+15 1.54126029e+15 9.23438852e+14 3.07346548e+14]\n",
      " [1.29126916e+15 9.23438852e+14 5.54113890e+14 1.84693609e+14]\n",
      " [4.29408116e+14 3.07346548e+14 1.84693609e+14 6.17448561e+13]] [[ 1.36429585e+09]\n",
      " [ 5.49558277e+08]\n",
      " [ 8.96731213e+07]\n",
      " [-5.07917680e+05]] [[ 8174.89306481]\n",
      " [-8186.28839935]\n",
      " [-7353.41811651]\n",
      " [  200.97561708]] [[-7.96208027e+08]\n",
      " [-3.15893095e+09]\n",
      " [-3.19351951e+09]\n",
      " [-1.50666095e+09]] [[1.30554588e+11]\n",
      " [1.26681769e+11]\n",
      " [9.51607221e+10]\n",
      " [3.62392972e+10]] [[-9.76314248e+10]\n",
      " [-9.28322835e+10]\n",
      " [-6.90071738e+10]\n",
      " [-2.59976113e+10]]\n",
      "4.978674272576275\n",
      "[[3.02482223e+15 2.15777929e+15 1.29125984e+15 4.29405011e+14]\n",
      " [2.15777929e+15 1.54125776e+15 9.23437685e+14 3.07346242e+14]\n",
      " [1.29125984e+15 9.23437685e+14 5.54114081e+14 1.84693705e+14]\n",
      " [4.29405011e+14 3.07346242e+14 1.84693705e+14 6.17448561e+13]] [[ 1.79870517e+09]\n",
      " [ 7.27036590e+08]\n",
      " [ 1.19804814e+08]\n",
      " [-6.75988434e+05]] [[ 1.05958351e+04]\n",
      " [-1.08702098e+04]\n",
      " [-9.87377858e+03]\n",
      " [-7.78224449e+00]] [[-7.87941068e+08]\n",
      " [-3.16801053e+09]\n",
      " [-3.19851159e+09]\n",
      " [-1.50453525e+09]] [[1.29985448e+11]\n",
      " [1.26275558e+11]\n",
      " [9.49171742e+10]\n",
      " [3.61582819e+10]] [[-9.76322459e+10]\n",
      " [-9.28829311e+10]\n",
      " [-6.90529326e+10]\n",
      " [-2.60085984e+10]]\n",
      "4.978674272576275\n",
      "[[3.02482223e+15 2.15777929e+15 1.29125984e+15 4.29405011e+14]\n",
      " [2.15777929e+15 1.54125776e+15 9.23437685e+14 3.07346242e+14]\n",
      " [1.29125984e+15 9.23437685e+14 5.54114081e+14 1.84693705e+14]\n",
      " [4.29405011e+14 3.07346242e+14 1.84693705e+14 6.17448561e+13]] [[ 1.79870387e+09]\n",
      " [ 7.27036226e+08]\n",
      " [ 1.19804832e+08]\n",
      " [-6.75988332e+05]] [[ 1.05958166e+04]\n",
      " [-1.08702054e+04]\n",
      " [-9.87377930e+03]\n",
      " [-7.80094734e+00]] [[-7.87941026e+08]\n",
      " [-3.16801059e+09]\n",
      " [-3.19851163e+09]\n",
      " [-1.50453513e+09]] [[1.29985449e+11]\n",
      " [1.26275558e+11]\n",
      " [9.49171745e+10]\n",
      " [3.61582820e+10]] [[-9.76322459e+10]\n",
      " [-9.28829314e+10]\n",
      " [-6.90529327e+10]\n",
      " [-2.60085982e+10]]\n",
      "5.657865600253836\n",
      "[[3.02479686e+15 2.15776513e+15 1.29124921e+15 4.29401415e+14]\n",
      " [2.15776513e+15 1.54125482e+15 9.23436311e+14 3.07345854e+14]\n",
      " [1.29124921e+15 9.23436311e+14 5.54114277e+14 1.84693803e+14]\n",
      " [4.29401415e+14 3.07345854e+14 1.84693803e+14 6.17448561e+13]] [[ 2.27906316e+09]\n",
      " [ 9.24762137e+08]\n",
      " [ 1.54058123e+08]\n",
      " [-8.65550387e+05]] [[ 13155.3356304 ]\n",
      " [-13884.28394498]\n",
      " [-12765.70420466]\n",
      " [  -397.27031801]] [[-7.78604066e+08]\n",
      " [-3.17821853e+09]\n",
      " [-3.20415742e+09]\n",
      " [-1.50235104e+09]] [[1.29333765e+11]\n",
      " [1.25810437e+11]\n",
      " [9.46383088e+10]\n",
      " [3.60655076e+10]] [[-9.76331861e+10]\n",
      " [-9.29401473e+10]\n",
      " [-6.91049087e+10]\n",
      " [-2.60215374e+10]]\n",
      "5.657865600253836\n",
      "[[3.02479686e+15 2.15776513e+15 1.29124921e+15 4.29401415e+14]\n",
      " [2.15776513e+15 1.54125482e+15 9.23436311e+14 3.07345854e+14]\n",
      " [1.29124921e+15 9.23436311e+14 5.54114277e+14 1.84693803e+14]\n",
      " [4.29401415e+14 3.07345854e+14 1.84693803e+14 6.17448561e+13]] [[ 2.27905674e+09]\n",
      " [ 9.24760387e+08]\n",
      " [ 1.54058244e+08]\n",
      " [-8.65549878e+05]] [[ 13155.23823225]\n",
      " [-13884.26241172]\n",
      " [-12765.70736565]\n",
      " [  -397.36840815]] [[-7.78604124e+08]\n",
      " [-3.17821845e+09]\n",
      " [-3.20415737e+09]\n",
      " [-1.50235120e+09]] [[1.29333764e+11]\n",
      " [1.25810437e+11]\n",
      " [9.46383083e+10]\n",
      " [3.60655074e+10]] [[-9.76331861e+10]\n",
      " [-9.29401470e+10]\n",
      " [-6.91049085e+10]\n",
      " [-2.60215377e+10]]\n",
      "6.337056927931397\n",
      "[[3.02476850e+15 2.15774926e+15 1.29123729e+15 4.29397317e+14]\n",
      " [2.15774926e+15 1.54125144e+15 9.23434720e+14 3.07345372e+14]\n",
      " [1.29123729e+15 9.23434720e+14 5.54114470e+14 1.84693899e+14]\n",
      " [4.29397317e+14 3.07345372e+14 1.84693899e+14 6.17448561e+13]] [[ 2.79932584e+09]\n",
      " [ 1.14072001e+09]\n",
      " [ 1.92301834e+08]\n",
      " [-1.07537694e+06]] [[ 15775.85044338]\n",
      " [-17205.79870847]\n",
      " [-16025.82039613]\n",
      " [ -1011.1957178 ]] [[-7.68249889e+08]\n",
      " [-3.18947918e+09]\n",
      " [-3.21042951e+09]\n",
      " [-1.50019915e+09]] [[1.28599933e+11]\n",
      " [1.25286690e+11]\n",
      " [9.43242964e+10]\n",
      " [3.59610273e+10]] [[-9.76342449e+10]\n",
      " [-9.30036129e+10]\n",
      " [-6.91629208e+10]\n",
      " [-2.60365490e+10]]\n",
      "6.337056927931397\n",
      "[[3.02476850e+15 2.15774926e+15 1.29123729e+15 4.29397317e+14]\n",
      " [2.15774926e+15 1.54125144e+15 9.23434720e+14 3.07345372e+14]\n",
      " [1.29123729e+15 9.23434720e+14 5.54114470e+14 1.84693899e+14]\n",
      " [4.29397317e+14 3.07345372e+14 1.84693899e+14 6.17448561e+13]] [[ 2.79932332e+09]\n",
      " [ 1.14071932e+09]\n",
      " [ 1.92301879e+08]\n",
      " [-1.07537673e+06]] [[ 15775.81240376]\n",
      " [-17205.79022288]\n",
      " [-16025.82043923]\n",
      " [ -1011.23406647]] [[-7.68249881e+08]\n",
      " [-3.18947919e+09]\n",
      " [-3.21042952e+09]\n",
      " [-1.50019913e+09]] [[1.28599933e+11]\n",
      " [1.25286690e+11]\n",
      " [9.43242965e+10]\n",
      " [3.59610273e+10]] [[-9.76342449e+10]\n",
      " [-9.30036130e+10]\n",
      " [-6.91629208e+10]\n",
      " [-2.60365490e+10]]\n",
      "7.016248255608958\n",
      "[[3.02473724e+15 2.15773172e+15 1.29122411e+15 4.29392704e+14]\n",
      " [2.15773172e+15 1.54124762e+15 9.23432896e+14 3.07344781e+14]\n",
      " [1.29122411e+15 9.23432896e+14 5.54114652e+14 1.84693990e+14]\n",
      " [4.29392704e+14 3.07344781e+14 1.84693990e+14 6.17448561e+13]] [[ 3.35333846e+09]\n",
      " [ 1.37282377e+09]\n",
      " [ 2.34380335e+08]\n",
      " [-1.30411639e+06]] [[ 18377.15938749]\n",
      " [-20810.77196619]\n",
      " [-19648.13224487]\n",
      " [ -1889.03909715]] [[-7.56934697e+08]\n",
      " [-3.20171192e+09]\n",
      " [-3.21729994e+09]\n",
      " [-1.49817245e+09]] [[1.27784457e+11]\n",
      " [1.24704679e+11]\n",
      " [9.39753550e+10]\n",
      " [3.58449096e+10]] [[-9.76354215e+10]\n",
      " [-9.30729887e+10]\n",
      " [-6.92267764e+10]\n",
      " [-2.60537542e+10]]\n",
      "7.016248255608958\n",
      "[[3.02473724e+15 2.15773172e+15 1.29122411e+15 4.29392704e+14]\n",
      " [2.15773172e+15 1.54124762e+15 9.23432896e+14 3.07344781e+14]\n",
      " [1.29122411e+15 9.23432896e+14 5.54114652e+14 1.84693990e+14]\n",
      " [4.29392704e+14 3.07344781e+14 1.84693990e+14 6.17448561e+13]] [[ 3.35333618e+09]\n",
      " [ 1.37282315e+09]\n",
      " [ 2.34380383e+08]\n",
      " [-1.30411620e+06]] [[ 18377.12520327]\n",
      " [-20810.76440145]\n",
      " [-19648.13059142]\n",
      " [ -1889.07569096]] [[-7.56934685e+08]\n",
      " [-3.20171194e+09]\n",
      " [-3.21729995e+09]\n",
      " [-1.49817242e+09]] [[1.27784457e+11]\n",
      " [1.24704679e+11]\n",
      " [9.39753551e+10]\n",
      " [3.58449097e+10]] [[-9.76354215e+10]\n",
      " [-9.30729888e+10]\n",
      " [-6.92267764e+10]\n",
      " [-2.60537542e+10]]\n",
      "7.695439583286519\n",
      "[[3.02470317e+15 2.15771253e+15 1.29120970e+15 4.29387564e+14]\n",
      " [2.15771253e+15 1.54124332e+15 9.23430828e+14 3.07344069e+14]\n",
      " [1.29120970e+15 9.23430828e+14 5.54114813e+14 1.84694071e+14]\n",
      " [4.29387564e+14 3.07344069e+14 1.84694071e+14 6.17448561e+13]] [[ 3.93493315e+09]\n",
      " [ 1.61894329e+09]\n",
      " [ 2.80112801e+08]\n",
      " [-1.55029765e+06]] [[ 20877.93447302]\n",
      " [-24674.09413857]\n",
      " [-23623.70063891]\n",
      " [ -3064.77421047]] [[-7.44718004e+08]\n",
      " [-3.21483137e+09]\n",
      " [-3.22474027e+09]\n",
      " [-1.49636603e+09]] [[1.26887951e+11]\n",
      " [1.24064841e+11]\n",
      " [9.35917489e+10]\n",
      " [3.57172388e+10]] [[-9.76367150e+10]\n",
      " [-9.31479152e+10]\n",
      " [-6.92962717e+10]\n",
      " [-2.60732748e+10]]\n",
      "7.695439583286519\n",
      "[[3.02470317e+15 2.15771253e+15 1.29120970e+15 4.29387564e+14]\n",
      " [2.15771253e+15 1.54124332e+15 9.23430828e+14 3.07344069e+14]\n",
      " [1.29120970e+15 9.23430828e+14 5.54114813e+14 1.84694071e+14]\n",
      " [4.29387564e+14 3.07344069e+14 1.84694071e+14 6.17448561e+13]] [[ 3.93493099e+09]\n",
      " [ 1.61894271e+09]\n",
      " [ 2.80112851e+08]\n",
      " [-1.55029748e+06]] [[ 20877.89939823]\n",
      " [-24674.08736973]\n",
      " [-23623.7000383 ]\n",
      " [ -3064.80874403]] [[-7.44718001e+08]\n",
      " [-3.21483137e+09]\n",
      " [-3.22474027e+09]\n",
      " [-1.49636603e+09]] [[1.26887951e+11]\n",
      " [1.24064841e+11]\n",
      " [9.35917489e+10]\n",
      " [3.57172388e+10]] [[-9.76367150e+10]\n",
      " [-9.31479152e+10]\n",
      " [-6.92962717e+10]\n",
      " [-2.60732748e+10]]\n",
      "8.511523768398762\n"
     ]
    },
    {
     "name": "stdout",
     "output_type": "stream",
     "text": [
      "[[3.02465865e+15 2.15768737e+15 1.29119080e+15 4.29380675e+14]\n",
      " [2.15768737e+15 1.54123751e+15 9.23428000e+14 3.07343032e+14]\n",
      " [1.29119080e+15 9.23428000e+14 5.54114969e+14 1.84694149e+14]\n",
      " [4.29380675e+14 3.07343032e+14 1.84694149e+14 6.17448561e+13]] [[ 4.66171926e+09]\n",
      " [ 1.93019503e+09]\n",
      " [ 3.39600253e+08]\n",
      " [-1.86692987e+06]] [[ 23637.29746265]\n",
      " [-29621.08823809]\n",
      " [-28850.44393211]\n",
      " [ -4908.41131209]] [[-7.28933893e+08]\n",
      " [-3.23164259e+09]\n",
      " [-3.23439461e+09]\n",
      " [-1.49461967e+09]] [[1.25704634e+11]\n",
      " [1.23220317e+11]\n",
      " [9.30854323e+10]\n",
      " [3.55487011e+10]] [[-9.76384223e+10]\n",
      " [-9.32447574e+10]\n",
      " [-6.93869346e+10]\n",
      " [-2.60999573e+10]]\n",
      "8.511523768398762\n",
      "[[3.02465865e+15 2.15768737e+15 1.29119080e+15 4.29380675e+14]\n",
      " [2.15768737e+15 1.54123751e+15 9.23428000e+14 3.07343032e+14]\n",
      " [1.29119080e+15 9.23428000e+14 5.54114969e+14 1.84694149e+14]\n",
      " [4.29380675e+14 3.07343032e+14 1.84694149e+14 6.17448561e+13]] [[ 4.66171553e+09]\n",
      " [ 1.93019407e+09]\n",
      " [ 3.39600362e+08]\n",
      " [-1.86692956e+06]] [[ 23637.23740758]\n",
      " [-29621.07685639]\n",
      " [-28850.43731408]\n",
      " [ -4908.47707609]] [[-7.28933902e+08]\n",
      " [-3.23164258e+09]\n",
      " [-3.23439459e+09]\n",
      " [-1.49461971e+09]] [[1.25704634e+11]\n",
      " [1.23220317e+11]\n",
      " [9.30854322e+10]\n",
      " [3.55487011e+10]] [[-9.76384223e+10]\n",
      " [-9.32447573e+10]\n",
      " [-6.93869346e+10]\n",
      " [-2.60999574e+10]]\n",
      "9.327607953511004\n",
      "[[3.02461040e+15 2.15765997e+15 1.29117021e+15 4.29372991e+14]\n",
      " [2.15765997e+15 1.54123096e+15 9.23424776e+14 3.07341776e+14]\n",
      " [1.29117021e+15 9.23424776e+14 5.54115071e+14 1.84694199e+14]\n",
      " [4.29372991e+14 3.07341776e+14 1.84694199e+14 6.17448561e+13]] [[ 5.40957187e+09]\n",
      " [ 2.25494423e+09]\n",
      " [ 4.03647401e+08]\n",
      " [-2.20352921e+06]] [[ 26005.34797277]\n",
      " [-34857.13281713]\n",
      " [-34542.12617329]\n",
      " [ -7249.91722124]] [[-7.12047251e+08]\n",
      " [-3.24944822e+09]\n",
      " [-3.24478504e+09]\n",
      " [-1.49348484e+09]] [[1.24406973e+11]\n",
      " [1.22294199e+11]\n",
      " [9.25302065e+10]\n",
      " [3.53638508e+10]] [[-9.76402947e+10]\n",
      " [-9.33484101e+10]\n",
      " [-6.94850586e+10]\n",
      " [-2.61303408e+10]]\n",
      "9.327607953511004\n",
      "[[3.02461040e+15 2.15765997e+15 1.29117021e+15 4.29372991e+14]\n",
      " [2.15765997e+15 1.54123096e+15 9.23424776e+14 3.07341776e+14]\n",
      " [1.29117021e+15 9.23424776e+14 5.54115070e+14 1.84694199e+14]\n",
      " [4.29372991e+14 3.07341776e+14 1.84694199e+14 6.17448561e+13]] [[ 5.40956609e+09]\n",
      " [ 2.25494277e+09]\n",
      " [ 4.03647601e+08]\n",
      " [-2.20352874e+06]] [[ 26005.24667473]\n",
      " [-34857.11680256]\n",
      " [-34542.11549724]\n",
      " [ -7250.02375356]] [[-7.12047278e+08]\n",
      " [-3.24944819e+09]\n",
      " [-3.24478499e+09]\n",
      " [-1.49348495e+09]] [[1.24406972e+11]\n",
      " [1.22294199e+11]\n",
      " [9.25302062e+10]\n",
      " [3.53638507e+10]] [[-9.76402947e+10]\n",
      " [-9.33484100e+10]\n",
      " [-6.94850585e+10]\n",
      " [-2.61303409e+10]]\n",
      "10.143692138623246\n",
      "[[3.02455858e+15 2.15763040e+15 1.29114799e+15 4.29364497e+14]\n",
      " [2.15763040e+15 1.54122364e+15 9.23421135e+14 3.07340277e+14]\n",
      " [1.29114799e+15 9.23421135e+14 5.54115104e+14 1.84694216e+14]\n",
      " [4.29364497e+14 3.07340277e+14 1.84694216e+14 6.17448561e+13]] [[ 6.16908114e+09]\n",
      " [ 2.58963103e+09]\n",
      " [ 4.71780900e+08]\n",
      " [-2.55698419e+06]] [[ 27864.06867344]\n",
      " [-40334.43237253]\n",
      " [-40664.4164325 ]\n",
      " [-10100.00575695]] [[-6.94169186e+08]\n",
      " [-3.26808867e+09]\n",
      " [-3.25586871e+09]\n",
      " [-1.49310875e+09]] [[1.22996863e+11]\n",
      " [1.21287842e+11]\n",
      " [9.19268860e+10]\n",
      " [3.51629534e+10]] [[-9.76423294e+10]\n",
      " [-9.34582011e+10]\n",
      " [-6.95902630e+10]\n",
      " [-2.61645917e+10]]\n",
      "10.143692138623246\n"
     ]
    },
    {
     "ename": "KeyboardInterrupt",
     "evalue": "",
     "output_type": "error",
     "traceback": [
      "\u001b[0;31m---------------------------------------------------------------------------\u001b[0m",
      "\u001b[0;31mKeyboardInterrupt\u001b[0m                         Traceback (most recent call last)",
      "\u001b[0;32m<ipython-input-114-6f76579e9a35>\u001b[0m in \u001b[0;36m<module>\u001b[0;34m\u001b[0m\n\u001b[1;32m      1\u001b[0m \u001b[0mstartTime1\u001b[0m \u001b[0;34m=\u001b[0m \u001b[0mdatetime\u001b[0m\u001b[0;34m.\u001b[0m\u001b[0mnow\u001b[0m\u001b[0;34m(\u001b[0m\u001b[0;34m)\u001b[0m\u001b[0;34m\u001b[0m\u001b[0;34m\u001b[0m\u001b[0m\n\u001b[0;32m----> 2\u001b[0;31m \u001b[0mus\u001b[0m\u001b[0;34m=\u001b[0m\u001b[0modeint\u001b[0m\u001b[0;34m(\u001b[0m\u001b[0mmanipulator\u001b[0m\u001b[0;34m,\u001b[0m\u001b[0mq0\u001b[0m\u001b[0;34m,\u001b[0m\u001b[0mt\u001b[0m\u001b[0;34m,\u001b[0m \u001b[0margs\u001b[0m\u001b[0;34m=\u001b[0m\u001b[0;34m(\u001b[0m\u001b[0mq\u001b[0m\u001b[0;34m,\u001b[0m\u001b[0;34m)\u001b[0m\u001b[0;34m)\u001b[0m\u001b[0;34m\u001b[0m\u001b[0;34m\u001b[0m\u001b[0m\n\u001b[0m\u001b[1;32m      3\u001b[0m \u001b[0mprint\u001b[0m\u001b[0;34m(\u001b[0m\u001b[0mdatetime\u001b[0m\u001b[0;34m.\u001b[0m\u001b[0mnow\u001b[0m\u001b[0;34m(\u001b[0m\u001b[0;34m)\u001b[0m \u001b[0;34m-\u001b[0m \u001b[0mstartTime1\u001b[0m\u001b[0;34m)\u001b[0m\u001b[0;34m\u001b[0m\u001b[0;34m\u001b[0m\u001b[0m\n",
      "\u001b[0;32m/Library/Frameworks/Python.framework/Versions/3.7/lib/python3.7/site-packages/scipy/integrate/odepack.py\u001b[0m in \u001b[0;36modeint\u001b[0;34m(func, y0, t, args, Dfun, col_deriv, full_output, ml, mu, rtol, atol, tcrit, h0, hmax, hmin, ixpr, mxstep, mxhnil, mxordn, mxords, printmessg, tfirst)\u001b[0m\n\u001b[1;32m    242\u001b[0m                              \u001b[0mfull_output\u001b[0m\u001b[0;34m,\u001b[0m \u001b[0mrtol\u001b[0m\u001b[0;34m,\u001b[0m \u001b[0matol\u001b[0m\u001b[0;34m,\u001b[0m \u001b[0mtcrit\u001b[0m\u001b[0;34m,\u001b[0m \u001b[0mh0\u001b[0m\u001b[0;34m,\u001b[0m \u001b[0mhmax\u001b[0m\u001b[0;34m,\u001b[0m \u001b[0mhmin\u001b[0m\u001b[0;34m,\u001b[0m\u001b[0;34m\u001b[0m\u001b[0;34m\u001b[0m\u001b[0m\n\u001b[1;32m    243\u001b[0m                              \u001b[0mixpr\u001b[0m\u001b[0;34m,\u001b[0m \u001b[0mmxstep\u001b[0m\u001b[0;34m,\u001b[0m \u001b[0mmxhnil\u001b[0m\u001b[0;34m,\u001b[0m \u001b[0mmxordn\u001b[0m\u001b[0;34m,\u001b[0m \u001b[0mmxords\u001b[0m\u001b[0;34m,\u001b[0m\u001b[0;34m\u001b[0m\u001b[0;34m\u001b[0m\u001b[0m\n\u001b[0;32m--> 244\u001b[0;31m                              int(bool(tfirst)))\n\u001b[0m\u001b[1;32m    245\u001b[0m     \u001b[0;32mif\u001b[0m \u001b[0moutput\u001b[0m\u001b[0;34m[\u001b[0m\u001b[0;34m-\u001b[0m\u001b[0;36m1\u001b[0m\u001b[0;34m]\u001b[0m \u001b[0;34m<\u001b[0m \u001b[0;36m0\u001b[0m\u001b[0;34m:\u001b[0m\u001b[0;34m\u001b[0m\u001b[0;34m\u001b[0m\u001b[0m\n\u001b[1;32m    246\u001b[0m         \u001b[0mwarning_msg\u001b[0m \u001b[0;34m=\u001b[0m \u001b[0m_msgs\u001b[0m\u001b[0;34m[\u001b[0m\u001b[0moutput\u001b[0m\u001b[0;34m[\u001b[0m\u001b[0;34m-\u001b[0m\u001b[0;36m1\u001b[0m\u001b[0;34m]\u001b[0m\u001b[0;34m]\u001b[0m \u001b[0;34m+\u001b[0m \u001b[0;34m\" Run with full_output = 1 to get quantitative information.\"\u001b[0m\u001b[0;34m\u001b[0m\u001b[0;34m\u001b[0m\u001b[0m\n",
      "\u001b[0;32m<ipython-input-111-9ab918c2f622>\u001b[0m in \u001b[0;36mmanipulator\u001b[0;34m(Q, t, q)\u001b[0m\n\u001b[1;32m     56\u001b[0m                         \u001b[0;34m-\u001b[0m \u001b[0mf\u001b[0m\u001b[0;34m(\u001b[0m\u001b[0mQI\u001b[0m\u001b[0;34m,\u001b[0m \u001b[0mK\u001b[0m\u001b[0;34m)\u001b[0m\u001b[0;34m\u001b[0m\u001b[0;34m\u001b[0m\u001b[0m\n\u001b[1;32m     57\u001b[0m                         \u001b[0;34m-\u001b[0m \u001b[0mg\u001b[0m\u001b[0;34m(\u001b[0m\u001b[0mQI\u001b[0m\u001b[0;34m,\u001b[0m\u001b[0malp\u001b[0m\u001b[0;34m)\u001b[0m\u001b[0;34m\u001b[0m\u001b[0;34m\u001b[0m\u001b[0m\n\u001b[0;32m---> 58\u001b[0;31m                         + tau(QI,alp, tau_qn, F, tau_q_wave))\n\u001b[0m\u001b[1;32m     59\u001b[0m     print(M(QI, l, mn, In, mi),- np.dot(H(alp,QI,dQ,l), np.radians(dQ)).reshape(len(QI),1),\n\u001b[1;32m     60\u001b[0m                         \u001b[0;34m-\u001b[0m \u001b[0mnp\u001b[0m\u001b[0;34m.\u001b[0m\u001b[0mdot\u001b[0m\u001b[0;34m(\u001b[0m\u001b[0mC\u001b[0m\u001b[0;34m(\u001b[0m\u001b[0mQI\u001b[0m\u001b[0;34m,\u001b[0m\u001b[0mdQ\u001b[0m\u001b[0;34m,\u001b[0m \u001b[0ml\u001b[0m\u001b[0;34m,\u001b[0m \u001b[0mmn\u001b[0m\u001b[0;34m,\u001b[0m \u001b[0mIn\u001b[0m\u001b[0;34m,\u001b[0m \u001b[0mmi\u001b[0m\u001b[0;34m)\u001b[0m\u001b[0;34m,\u001b[0m \u001b[0mnp\u001b[0m\u001b[0;34m.\u001b[0m\u001b[0mradians\u001b[0m\u001b[0;34m(\u001b[0m\u001b[0mdQ\u001b[0m\u001b[0;34m)\u001b[0m\u001b[0;34m)\u001b[0m\u001b[0;34m.\u001b[0m\u001b[0mreshape\u001b[0m\u001b[0;34m(\u001b[0m\u001b[0mlen\u001b[0m\u001b[0;34m(\u001b[0m\u001b[0mQI\u001b[0m\u001b[0;34m)\u001b[0m\u001b[0;34m,\u001b[0m\u001b[0;36m1\u001b[0m\u001b[0;34m)\u001b[0m\u001b[0;34m,\u001b[0m\u001b[0;34m\u001b[0m\u001b[0;34m\u001b[0m\u001b[0m\n",
      "\u001b[0;32m<ipython-input-25-c35ea16a2d70>\u001b[0m in \u001b[0;36mC\u001b[0;34m(q, dq, l, mn, In, mi)\u001b[0m\n\u001b[1;32m      5\u001b[0m     \u001b[0mDfun\u001b[0m \u001b[0;34m=\u001b[0m \u001b[0mnd\u001b[0m\u001b[0;34m.\u001b[0m\u001b[0mGradient\u001b[0m\u001b[0;34m(\u001b[0m\u001b[0mfun\u001b[0m\u001b[0;34m)\u001b[0m\u001b[0;34m\u001b[0m\u001b[0;34m\u001b[0m\u001b[0m\n\u001b[1;32m      6\u001b[0m \u001b[0;34m\u001b[0m\u001b[0m\n\u001b[0;32m----> 7\u001b[0;31m     \u001b[0mdq1_\u001b[0m\u001b[0;34m,\u001b[0m \u001b[0mdq2_\u001b[0m\u001b[0;34m,\u001b[0m \u001b[0mdq3_\u001b[0m\u001b[0;34m,\u001b[0m \u001b[0mdq4_\u001b[0m \u001b[0;34m=\u001b[0m \u001b[0mDfun\u001b[0m\u001b[0;34m(\u001b[0m\u001b[0mq\u001b[0m\u001b[0;34m)\u001b[0m\u001b[0;34m\u001b[0m\u001b[0;34m\u001b[0m\u001b[0m\n\u001b[0m\u001b[1;32m      8\u001b[0m     \u001b[0mdiff\u001b[0m \u001b[0;34m=\u001b[0m \u001b[0mnp\u001b[0m\u001b[0;34m.\u001b[0m\u001b[0marray\u001b[0m\u001b[0;34m(\u001b[0m\u001b[0;34m[\u001b[0m\u001b[0mdq1_\u001b[0m\u001b[0;34m,\u001b[0m \u001b[0mdq2_\u001b[0m\u001b[0;34m,\u001b[0m \u001b[0mdq3_\u001b[0m\u001b[0;34m,\u001b[0m \u001b[0mdq4_\u001b[0m\u001b[0;34m]\u001b[0m\u001b[0;34m)\u001b[0m\u001b[0;34m\u001b[0m\u001b[0;34m\u001b[0m\u001b[0m\n\u001b[1;32m      9\u001b[0m \u001b[0;34m\u001b[0m\u001b[0m\n",
      "\u001b[0;32m/Library/Frameworks/Python.framework/Versions/3.7/lib/python3.7/site-packages/numdifftools/core.py\u001b[0m in \u001b[0;36m__call__\u001b[0;34m(self, x, *args, **kwds)\u001b[0m\n\u001b[1;32m    488\u001b[0m \u001b[0;34m\u001b[0m\u001b[0m\n\u001b[1;32m    489\u001b[0m     \u001b[0;32mdef\u001b[0m \u001b[0m__call__\u001b[0m\u001b[0;34m(\u001b[0m\u001b[0mself\u001b[0m\u001b[0;34m,\u001b[0m \u001b[0mx\u001b[0m\u001b[0;34m,\u001b[0m \u001b[0;34m*\u001b[0m\u001b[0margs\u001b[0m\u001b[0;34m,\u001b[0m \u001b[0;34m**\u001b[0m\u001b[0mkwds\u001b[0m\u001b[0;34m)\u001b[0m\u001b[0;34m:\u001b[0m\u001b[0;34m\u001b[0m\u001b[0;34m\u001b[0m\u001b[0m\n\u001b[0;32m--> 490\u001b[0;31m         \u001b[0mresult\u001b[0m \u001b[0;34m=\u001b[0m \u001b[0msuper\u001b[0m\u001b[0;34m(\u001b[0m\u001b[0mGradient\u001b[0m\u001b[0;34m,\u001b[0m \u001b[0mself\u001b[0m\u001b[0;34m)\u001b[0m\u001b[0;34m.\u001b[0m\u001b[0m__call__\u001b[0m\u001b[0;34m(\u001b[0m\u001b[0mnp\u001b[0m\u001b[0;34m.\u001b[0m\u001b[0matleast_1d\u001b[0m\u001b[0;34m(\u001b[0m\u001b[0mx\u001b[0m\u001b[0;34m)\u001b[0m\u001b[0;34m.\u001b[0m\u001b[0mravel\u001b[0m\u001b[0;34m(\u001b[0m\u001b[0;34m)\u001b[0m\u001b[0;34m,\u001b[0m \u001b[0;34m*\u001b[0m\u001b[0margs\u001b[0m\u001b[0;34m,\u001b[0m \u001b[0;34m**\u001b[0m\u001b[0mkwds\u001b[0m\u001b[0;34m)\u001b[0m\u001b[0;34m\u001b[0m\u001b[0;34m\u001b[0m\u001b[0m\n\u001b[0m\u001b[1;32m    491\u001b[0m         \u001b[0;32mif\u001b[0m \u001b[0mself\u001b[0m\u001b[0;34m.\u001b[0m\u001b[0mfull_output\u001b[0m\u001b[0;34m:\u001b[0m\u001b[0;34m\u001b[0m\u001b[0;34m\u001b[0m\u001b[0m\n\u001b[1;32m    492\u001b[0m             \u001b[0;32mreturn\u001b[0m \u001b[0mresult\u001b[0m\u001b[0;34m[\u001b[0m\u001b[0;36m0\u001b[0m\u001b[0;34m]\u001b[0m\u001b[0;34m.\u001b[0m\u001b[0msqueeze\u001b[0m\u001b[0;34m(\u001b[0m\u001b[0;34m)\u001b[0m\u001b[0;34m,\u001b[0m \u001b[0mresult\u001b[0m\u001b[0;34m[\u001b[0m\u001b[0;36m1\u001b[0m\u001b[0;34m]\u001b[0m\u001b[0;34m\u001b[0m\u001b[0;34m\u001b[0m\u001b[0m\n",
      "\u001b[0;32m/Library/Frameworks/Python.framework/Versions/3.7/lib/python3.7/site-packages/numdifftools/core.py\u001b[0m in \u001b[0;36m__call__\u001b[0;34m(self, x, *args, **kwds)\u001b[0m\n\u001b[1;32m    429\u001b[0m \u001b[0;34m\u001b[0m\u001b[0m\n\u001b[1;32m    430\u001b[0m     \u001b[0;32mdef\u001b[0m \u001b[0m__call__\u001b[0m\u001b[0;34m(\u001b[0m\u001b[0mself\u001b[0m\u001b[0;34m,\u001b[0m \u001b[0mx\u001b[0m\u001b[0;34m,\u001b[0m \u001b[0;34m*\u001b[0m\u001b[0margs\u001b[0m\u001b[0;34m,\u001b[0m \u001b[0;34m**\u001b[0m\u001b[0mkwds\u001b[0m\u001b[0;34m)\u001b[0m\u001b[0;34m:\u001b[0m\u001b[0;34m\u001b[0m\u001b[0;34m\u001b[0m\u001b[0m\n\u001b[0;32m--> 431\u001b[0;31m         \u001b[0;32mreturn\u001b[0m \u001b[0msuper\u001b[0m\u001b[0;34m(\u001b[0m\u001b[0mJacobian\u001b[0m\u001b[0;34m,\u001b[0m \u001b[0mself\u001b[0m\u001b[0;34m)\u001b[0m\u001b[0;34m.\u001b[0m\u001b[0m__call__\u001b[0m\u001b[0;34m(\u001b[0m\u001b[0mnp\u001b[0m\u001b[0;34m.\u001b[0m\u001b[0matleast_1d\u001b[0m\u001b[0;34m(\u001b[0m\u001b[0mx\u001b[0m\u001b[0;34m)\u001b[0m\u001b[0;34m,\u001b[0m \u001b[0;34m*\u001b[0m\u001b[0margs\u001b[0m\u001b[0;34m,\u001b[0m \u001b[0;34m**\u001b[0m\u001b[0mkwds\u001b[0m\u001b[0;34m)\u001b[0m\u001b[0;34m\u001b[0m\u001b[0;34m\u001b[0m\u001b[0m\n\u001b[0m\u001b[1;32m    432\u001b[0m \u001b[0;34m\u001b[0m\u001b[0m\n\u001b[1;32m    433\u001b[0m \u001b[0;34m\u001b[0m\u001b[0m\n",
      "\u001b[0;32m/Library/Frameworks/Python.framework/Versions/3.7/lib/python3.7/site-packages/numdifftools/core.py\u001b[0m in \u001b[0;36m__call__\u001b[0;34m(self, x, *args, **kwds)\u001b[0m\n\u001b[1;32m    286\u001b[0m         \u001b[0mx_i\u001b[0m \u001b[0;34m=\u001b[0m \u001b[0mnp\u001b[0m\u001b[0;34m.\u001b[0m\u001b[0masarray\u001b[0m\u001b[0;34m(\u001b[0m\u001b[0mx\u001b[0m\u001b[0;34m)\u001b[0m\u001b[0;34m\u001b[0m\u001b[0;34m\u001b[0m\u001b[0m\n\u001b[1;32m    287\u001b[0m         \u001b[0;32mwith\u001b[0m \u001b[0mnp\u001b[0m\u001b[0;34m.\u001b[0m\u001b[0merrstate\u001b[0m\u001b[0;34m(\u001b[0m\u001b[0mdivide\u001b[0m\u001b[0;34m=\u001b[0m\u001b[0;34m'ignore'\u001b[0m\u001b[0;34m,\u001b[0m \u001b[0minvalid\u001b[0m\u001b[0;34m=\u001b[0m\u001b[0;34m'ignore'\u001b[0m\u001b[0;34m)\u001b[0m\u001b[0;34m:\u001b[0m\u001b[0;34m\u001b[0m\u001b[0;34m\u001b[0m\u001b[0m\n\u001b[0;32m--> 288\u001b[0;31m             \u001b[0mresults\u001b[0m\u001b[0;34m,\u001b[0m \u001b[0mf_xi\u001b[0m \u001b[0;34m=\u001b[0m \u001b[0mself\u001b[0m\u001b[0;34m.\u001b[0m\u001b[0m_derivative\u001b[0m\u001b[0;34m(\u001b[0m\u001b[0mx_i\u001b[0m\u001b[0;34m,\u001b[0m \u001b[0margs\u001b[0m\u001b[0;34m,\u001b[0m \u001b[0mkwds\u001b[0m\u001b[0;34m)\u001b[0m\u001b[0;34m\u001b[0m\u001b[0;34m\u001b[0m\u001b[0m\n\u001b[0m\u001b[1;32m    289\u001b[0m             \u001b[0mderivative\u001b[0m\u001b[0;34m,\u001b[0m \u001b[0minfo\u001b[0m \u001b[0;34m=\u001b[0m \u001b[0mself\u001b[0m\u001b[0;34m.\u001b[0m\u001b[0m_extrapolate\u001b[0m\u001b[0;34m(\u001b[0m\u001b[0;34m*\u001b[0m\u001b[0mresults\u001b[0m\u001b[0;34m)\u001b[0m\u001b[0;34m\u001b[0m\u001b[0;34m\u001b[0m\u001b[0m\n\u001b[1;32m    290\u001b[0m         \u001b[0;32mif\u001b[0m \u001b[0mself\u001b[0m\u001b[0;34m.\u001b[0m\u001b[0mfull_output\u001b[0m\u001b[0;34m:\u001b[0m\u001b[0;34m\u001b[0m\u001b[0;34m\u001b[0m\u001b[0m\n",
      "\u001b[0;32m/Library/Frameworks/Python.framework/Versions/3.7/lib/python3.7/site-packages/numdifftools/core.py\u001b[0m in \u001b[0;36m_derivative_nonzero_order\u001b[0;34m(self, x_i, args, kwds)\u001b[0m\n\u001b[1;32m    421\u001b[0m         \u001b[0msteps\u001b[0m\u001b[0;34m,\u001b[0m \u001b[0mstep_ratio\u001b[0m \u001b[0;34m=\u001b[0m \u001b[0mself\u001b[0m\u001b[0;34m.\u001b[0m\u001b[0m_get_steps\u001b[0m\u001b[0;34m(\u001b[0m\u001b[0mx_i\u001b[0m\u001b[0;34m)\u001b[0m\u001b[0;34m\u001b[0m\u001b[0;34m\u001b[0m\u001b[0m\n\u001b[1;32m    422\u001b[0m         \u001b[0mfxi\u001b[0m \u001b[0;34m=\u001b[0m \u001b[0mf\u001b[0m\u001b[0;34m(\u001b[0m\u001b[0mx_i\u001b[0m\u001b[0;34m)\u001b[0m\u001b[0;34m\u001b[0m\u001b[0;34m\u001b[0m\u001b[0m\n\u001b[0;32m--> 423\u001b[0;31m         \u001b[0mresults\u001b[0m \u001b[0;34m=\u001b[0m \u001b[0;34m[\u001b[0m\u001b[0mdiff\u001b[0m\u001b[0;34m(\u001b[0m\u001b[0mf\u001b[0m\u001b[0;34m,\u001b[0m \u001b[0mfxi\u001b[0m\u001b[0;34m,\u001b[0m \u001b[0mx_i\u001b[0m\u001b[0;34m,\u001b[0m \u001b[0mh\u001b[0m\u001b[0;34m)\u001b[0m \u001b[0;32mfor\u001b[0m \u001b[0mh\u001b[0m \u001b[0;32min\u001b[0m \u001b[0msteps\u001b[0m\u001b[0;34m]\u001b[0m\u001b[0;34m\u001b[0m\u001b[0;34m\u001b[0m\u001b[0m\n\u001b[0m\u001b[1;32m    424\u001b[0m \u001b[0;34m\u001b[0m\u001b[0m\n\u001b[1;32m    425\u001b[0m         \u001b[0msteps2\u001b[0m \u001b[0;34m=\u001b[0m \u001b[0mself\u001b[0m\u001b[0;34m.\u001b[0m\u001b[0m_expand_steps\u001b[0m\u001b[0;34m(\u001b[0m\u001b[0msteps\u001b[0m\u001b[0;34m,\u001b[0m \u001b[0mx_i\u001b[0m\u001b[0;34m,\u001b[0m \u001b[0mfxi\u001b[0m\u001b[0;34m)\u001b[0m\u001b[0;34m\u001b[0m\u001b[0;34m\u001b[0m\u001b[0m\n",
      "\u001b[0;32m/Library/Frameworks/Python.framework/Versions/3.7/lib/python3.7/site-packages/numdifftools/core.py\u001b[0m in \u001b[0;36m<listcomp>\u001b[0;34m(.0)\u001b[0m\n\u001b[1;32m    421\u001b[0m         \u001b[0msteps\u001b[0m\u001b[0;34m,\u001b[0m \u001b[0mstep_ratio\u001b[0m \u001b[0;34m=\u001b[0m \u001b[0mself\u001b[0m\u001b[0;34m.\u001b[0m\u001b[0m_get_steps\u001b[0m\u001b[0;34m(\u001b[0m\u001b[0mx_i\u001b[0m\u001b[0;34m)\u001b[0m\u001b[0;34m\u001b[0m\u001b[0;34m\u001b[0m\u001b[0m\n\u001b[1;32m    422\u001b[0m         \u001b[0mfxi\u001b[0m \u001b[0;34m=\u001b[0m \u001b[0mf\u001b[0m\u001b[0;34m(\u001b[0m\u001b[0mx_i\u001b[0m\u001b[0;34m)\u001b[0m\u001b[0;34m\u001b[0m\u001b[0;34m\u001b[0m\u001b[0m\n\u001b[0;32m--> 423\u001b[0;31m         \u001b[0mresults\u001b[0m \u001b[0;34m=\u001b[0m \u001b[0;34m[\u001b[0m\u001b[0mdiff\u001b[0m\u001b[0;34m(\u001b[0m\u001b[0mf\u001b[0m\u001b[0;34m,\u001b[0m \u001b[0mfxi\u001b[0m\u001b[0;34m,\u001b[0m \u001b[0mx_i\u001b[0m\u001b[0;34m,\u001b[0m \u001b[0mh\u001b[0m\u001b[0;34m)\u001b[0m \u001b[0;32mfor\u001b[0m \u001b[0mh\u001b[0m \u001b[0;32min\u001b[0m \u001b[0msteps\u001b[0m\u001b[0;34m]\u001b[0m\u001b[0;34m\u001b[0m\u001b[0;34m\u001b[0m\u001b[0m\n\u001b[0m\u001b[1;32m    424\u001b[0m \u001b[0;34m\u001b[0m\u001b[0m\n\u001b[1;32m    425\u001b[0m         \u001b[0msteps2\u001b[0m \u001b[0;34m=\u001b[0m \u001b[0mself\u001b[0m\u001b[0;34m.\u001b[0m\u001b[0m_expand_steps\u001b[0m\u001b[0;34m(\u001b[0m\u001b[0msteps\u001b[0m\u001b[0;34m,\u001b[0m \u001b[0mx_i\u001b[0m\u001b[0;34m,\u001b[0m \u001b[0mfxi\u001b[0m\u001b[0;34m)\u001b[0m\u001b[0;34m\u001b[0m\u001b[0;34m\u001b[0m\u001b[0m\n",
      "\u001b[0;32m/Library/Frameworks/Python.framework/Versions/3.7/lib/python3.7/site-packages/numdifftools/finite_difference.py\u001b[0m in \u001b[0;36m_central\u001b[0;34m(f, f_x, x, h)\u001b[0m\n\u001b[1;32m    120\u001b[0m         \u001b[0mn\u001b[0m \u001b[0;34m=\u001b[0m \u001b[0mlen\u001b[0m\u001b[0;34m(\u001b[0m\u001b[0mx\u001b[0m\u001b[0;34m)\u001b[0m\u001b[0;34m\u001b[0m\u001b[0;34m\u001b[0m\u001b[0m\n\u001b[1;32m    121\u001b[0m         \u001b[0msteps\u001b[0m \u001b[0;34m=\u001b[0m \u001b[0mJacobianDifferenceFunctions\u001b[0m\u001b[0;34m.\u001b[0m\u001b[0mincrements\u001b[0m\u001b[0;34m(\u001b[0m\u001b[0mn\u001b[0m\u001b[0;34m,\u001b[0m \u001b[0mh\u001b[0m\u001b[0;34m)\u001b[0m\u001b[0;34m\u001b[0m\u001b[0;34m\u001b[0m\u001b[0m\n\u001b[0;32m--> 122\u001b[0;31m         \u001b[0;32mreturn\u001b[0m \u001b[0mnp\u001b[0m\u001b[0;34m.\u001b[0m\u001b[0marray\u001b[0m\u001b[0;34m(\u001b[0m\u001b[0;34m[\u001b[0m\u001b[0;34m(\u001b[0m\u001b[0mf\u001b[0m\u001b[0;34m(\u001b[0m\u001b[0mx\u001b[0m \u001b[0;34m+\u001b[0m \u001b[0mhi\u001b[0m\u001b[0;34m)\u001b[0m \u001b[0;34m-\u001b[0m \u001b[0mf\u001b[0m\u001b[0;34m(\u001b[0m\u001b[0mx\u001b[0m \u001b[0;34m-\u001b[0m \u001b[0mhi\u001b[0m\u001b[0;34m)\u001b[0m\u001b[0;34m)\u001b[0m \u001b[0;34m/\u001b[0m \u001b[0;36m2.0\u001b[0m \u001b[0;32mfor\u001b[0m \u001b[0mhi\u001b[0m \u001b[0;32min\u001b[0m \u001b[0msteps\u001b[0m\u001b[0;34m]\u001b[0m\u001b[0;34m)\u001b[0m\u001b[0;34m\u001b[0m\u001b[0;34m\u001b[0m\u001b[0m\n\u001b[0m\u001b[1;32m    123\u001b[0m \u001b[0;34m\u001b[0m\u001b[0m\n\u001b[1;32m    124\u001b[0m     \u001b[0;34m@\u001b[0m\u001b[0mstaticmethod\u001b[0m\u001b[0;34m\u001b[0m\u001b[0;34m\u001b[0m\u001b[0m\n",
      "\u001b[0;32m/Library/Frameworks/Python.framework/Versions/3.7/lib/python3.7/site-packages/numdifftools/finite_difference.py\u001b[0m in \u001b[0;36m<listcomp>\u001b[0;34m(.0)\u001b[0m\n\u001b[1;32m    120\u001b[0m         \u001b[0mn\u001b[0m \u001b[0;34m=\u001b[0m \u001b[0mlen\u001b[0m\u001b[0;34m(\u001b[0m\u001b[0mx\u001b[0m\u001b[0;34m)\u001b[0m\u001b[0;34m\u001b[0m\u001b[0;34m\u001b[0m\u001b[0m\n\u001b[1;32m    121\u001b[0m         \u001b[0msteps\u001b[0m \u001b[0;34m=\u001b[0m \u001b[0mJacobianDifferenceFunctions\u001b[0m\u001b[0;34m.\u001b[0m\u001b[0mincrements\u001b[0m\u001b[0;34m(\u001b[0m\u001b[0mn\u001b[0m\u001b[0;34m,\u001b[0m \u001b[0mh\u001b[0m\u001b[0;34m)\u001b[0m\u001b[0;34m\u001b[0m\u001b[0;34m\u001b[0m\u001b[0m\n\u001b[0;32m--> 122\u001b[0;31m         \u001b[0;32mreturn\u001b[0m \u001b[0mnp\u001b[0m\u001b[0;34m.\u001b[0m\u001b[0marray\u001b[0m\u001b[0;34m(\u001b[0m\u001b[0;34m[\u001b[0m\u001b[0;34m(\u001b[0m\u001b[0mf\u001b[0m\u001b[0;34m(\u001b[0m\u001b[0mx\u001b[0m \u001b[0;34m+\u001b[0m \u001b[0mhi\u001b[0m\u001b[0;34m)\u001b[0m \u001b[0;34m-\u001b[0m \u001b[0mf\u001b[0m\u001b[0;34m(\u001b[0m\u001b[0mx\u001b[0m \u001b[0;34m-\u001b[0m \u001b[0mhi\u001b[0m\u001b[0;34m)\u001b[0m\u001b[0;34m)\u001b[0m \u001b[0;34m/\u001b[0m \u001b[0;36m2.0\u001b[0m \u001b[0;32mfor\u001b[0m \u001b[0mhi\u001b[0m \u001b[0;32min\u001b[0m \u001b[0msteps\u001b[0m\u001b[0;34m]\u001b[0m\u001b[0;34m)\u001b[0m\u001b[0;34m\u001b[0m\u001b[0;34m\u001b[0m\u001b[0m\n\u001b[0m\u001b[1;32m    123\u001b[0m \u001b[0;34m\u001b[0m\u001b[0m\n\u001b[1;32m    124\u001b[0m     \u001b[0;34m@\u001b[0m\u001b[0mstaticmethod\u001b[0m\u001b[0;34m\u001b[0m\u001b[0;34m\u001b[0m\u001b[0m\n",
      "\u001b[0;32m/Library/Frameworks/Python.framework/Versions/3.7/lib/python3.7/site-packages/numdifftools/core.py\u001b[0m in \u001b[0;36mexport_fun\u001b[0;34m(x)\u001b[0m\n\u001b[1;32m    255\u001b[0m \u001b[0;34m\u001b[0m\u001b[0m\n\u001b[1;32m    256\u001b[0m         \u001b[0;32mdef\u001b[0m \u001b[0mexport_fun\u001b[0m\u001b[0;34m(\u001b[0m\u001b[0mx\u001b[0m\u001b[0;34m)\u001b[0m\u001b[0;34m:\u001b[0m\u001b[0;34m\u001b[0m\u001b[0;34m\u001b[0m\u001b[0m\n\u001b[0;32m--> 257\u001b[0;31m             \u001b[0;32mreturn\u001b[0m \u001b[0mfun\u001b[0m\u001b[0;34m(\u001b[0m\u001b[0mx\u001b[0m\u001b[0;34m,\u001b[0m \u001b[0;34m*\u001b[0m\u001b[0margs\u001b[0m\u001b[0;34m,\u001b[0m \u001b[0;34m**\u001b[0m\u001b[0mkwds\u001b[0m\u001b[0;34m)\u001b[0m\u001b[0;34m\u001b[0m\u001b[0;34m\u001b[0m\u001b[0m\n\u001b[0m\u001b[1;32m    258\u001b[0m \u001b[0;34m\u001b[0m\u001b[0m\n\u001b[1;32m    259\u001b[0m         \u001b[0;32mreturn\u001b[0m \u001b[0mself\u001b[0m\u001b[0;34m.\u001b[0m\u001b[0mfd_rule\u001b[0m\u001b[0;34m.\u001b[0m\u001b[0mdiff\u001b[0m\u001b[0;34m,\u001b[0m \u001b[0mexport_fun\u001b[0m\u001b[0;34m\u001b[0m\u001b[0;34m\u001b[0m\u001b[0m\n",
      "\u001b[0;32m<ipython-input-25-c35ea16a2d70>\u001b[0m in \u001b[0;36m<lambda>\u001b[0;34m(q)\u001b[0m\n\u001b[1;32m      2\u001b[0m \u001b[0;32mdef\u001b[0m \u001b[0mC\u001b[0m\u001b[0;34m(\u001b[0m\u001b[0mq\u001b[0m\u001b[0;34m,\u001b[0m \u001b[0mdq\u001b[0m\u001b[0;34m,\u001b[0m \u001b[0ml\u001b[0m\u001b[0;34m,\u001b[0m \u001b[0mmn\u001b[0m\u001b[0;34m,\u001b[0m \u001b[0mIn\u001b[0m\u001b[0;34m,\u001b[0m \u001b[0mmi\u001b[0m\u001b[0;34m)\u001b[0m\u001b[0;34m:\u001b[0m \u001b[0;31m#here\u001b[0m\u001b[0;34m\u001b[0m\u001b[0;34m\u001b[0m\u001b[0m\n\u001b[1;32m      3\u001b[0m     \u001b[0mans\u001b[0m \u001b[0;34m=\u001b[0m \u001b[0mnp\u001b[0m\u001b[0;34m.\u001b[0m\u001b[0mzeros\u001b[0m\u001b[0;34m(\u001b[0m\u001b[0;34m(\u001b[0m\u001b[0mlen\u001b[0m\u001b[0;34m(\u001b[0m\u001b[0mq\u001b[0m\u001b[0;34m)\u001b[0m\u001b[0;34m,\u001b[0m\u001b[0mlen\u001b[0m\u001b[0;34m(\u001b[0m\u001b[0mq\u001b[0m\u001b[0;34m)\u001b[0m\u001b[0;34m)\u001b[0m\u001b[0;34m)\u001b[0m\u001b[0;34m\u001b[0m\u001b[0;34m\u001b[0m\u001b[0m\n\u001b[0;32m----> 4\u001b[0;31m     \u001b[0mfun\u001b[0m \u001b[0;34m=\u001b[0m \u001b[0;32mlambda\u001b[0m \u001b[0mq\u001b[0m\u001b[0;34m:\u001b[0m \u001b[0mM\u001b[0m\u001b[0;34m(\u001b[0m\u001b[0mq\u001b[0m\u001b[0;34m,\u001b[0m \u001b[0ml\u001b[0m\u001b[0;34m,\u001b[0m \u001b[0mmn\u001b[0m\u001b[0;34m,\u001b[0m \u001b[0mIn\u001b[0m\u001b[0;34m,\u001b[0m \u001b[0mmi\u001b[0m\u001b[0;34m)\u001b[0m\u001b[0;34m\u001b[0m\u001b[0;34m\u001b[0m\u001b[0m\n\u001b[0m\u001b[1;32m      5\u001b[0m     \u001b[0mDfun\u001b[0m \u001b[0;34m=\u001b[0m \u001b[0mnd\u001b[0m\u001b[0;34m.\u001b[0m\u001b[0mGradient\u001b[0m\u001b[0;34m(\u001b[0m\u001b[0mfun\u001b[0m\u001b[0;34m)\u001b[0m\u001b[0;34m\u001b[0m\u001b[0;34m\u001b[0m\u001b[0m\n\u001b[1;32m      6\u001b[0m \u001b[0;34m\u001b[0m\u001b[0m\n",
      "\u001b[0;32m<ipython-input-22-e1b7ad0a669c>\u001b[0m in \u001b[0;36mM\u001b[0;34m(q, l, mn, In, mi)\u001b[0m\n\u001b[1;32m      2\u001b[0m \u001b[0;34m\u001b[0m\u001b[0m\n\u001b[1;32m      3\u001b[0m \u001b[0;34m\u001b[0m\u001b[0m\n\u001b[0;32m----> 4\u001b[0;31m     \u001b[0msum1\u001b[0m \u001b[0;34m=\u001b[0m \u001b[0mmn\u001b[0m \u001b[0;34m*\u001b[0m \u001b[0mnp\u001b[0m\u001b[0;34m.\u001b[0m\u001b[0mdot\u001b[0m\u001b[0;34m(\u001b[0m\u001b[0mJv\u001b[0m\u001b[0;34m(\u001b[0m \u001b[0mq\u001b[0m\u001b[0;34m,\u001b[0m \u001b[0mlen\u001b[0m\u001b[0;34m(\u001b[0m\u001b[0mq\u001b[0m\u001b[0;34m)\u001b[0m\u001b[0;34m-\u001b[0m\u001b[0;36m1\u001b[0m\u001b[0;34m,\u001b[0m \u001b[0ml\u001b[0m\u001b[0;34m)\u001b[0m\u001b[0;34m.\u001b[0m\u001b[0mT\u001b[0m\u001b[0;34m,\u001b[0m \u001b[0mJv\u001b[0m\u001b[0;34m(\u001b[0m\u001b[0mq\u001b[0m\u001b[0;34m,\u001b[0m \u001b[0mlen\u001b[0m\u001b[0;34m(\u001b[0m\u001b[0mq\u001b[0m\u001b[0;34m)\u001b[0m\u001b[0;34m-\u001b[0m\u001b[0;36m1\u001b[0m\u001b[0;34m,\u001b[0m \u001b[0ml\u001b[0m\u001b[0;34m)\u001b[0m\u001b[0;34m)\u001b[0m\u001b[0;34m\u001b[0m\u001b[0;34m\u001b[0m\u001b[0m\n\u001b[0m\u001b[1;32m      5\u001b[0m \u001b[0;34m\u001b[0m\u001b[0m\n\u001b[1;32m      6\u001b[0m \u001b[0;34m\u001b[0m\u001b[0m\n",
      "\u001b[0;32m<ipython-input-19-7d9755435388>\u001b[0m in \u001b[0;36mJv\u001b[0;34m(q, i, l)\u001b[0m\n\u001b[1;32m     17\u001b[0m             \u001b[0;32mreturn\u001b[0m \u001b[0mnp\u001b[0m\u001b[0;34m.\u001b[0m\u001b[0marray\u001b[0m\u001b[0;34m(\u001b[0m\u001b[0;34m[\u001b[0m\u001b[0;36m0\u001b[0m\u001b[0;34m,\u001b[0m \u001b[0;36m0\u001b[0m\u001b[0;34m]\u001b[0m\u001b[0;34m)\u001b[0m\u001b[0;34m.\u001b[0m\u001b[0mT\u001b[0m\u001b[0;34m\u001b[0m\u001b[0;34m\u001b[0m\u001b[0m\n\u001b[1;32m     18\u001b[0m \u001b[0;34m\u001b[0m\u001b[0m\n\u001b[0;32m---> 19\u001b[0;31m     \u001b[0mans\u001b[0m\u001b[0;34m=\u001b[0m\u001b[0mnp\u001b[0m\u001b[0;34m.\u001b[0m\u001b[0marray\u001b[0m\u001b[0;34m(\u001b[0m\u001b[0;34m[\u001b[0m\u001b[0mJv0\u001b[0m\u001b[0;34m(\u001b[0m\u001b[0mi\u001b[0m\u001b[0;34m,\u001b[0m \u001b[0mk\u001b[0m\u001b[0;34m,\u001b[0m \u001b[0malp\u001b[0m\u001b[0;34m,\u001b[0m \u001b[0ml\u001b[0m\u001b[0;34m)\u001b[0m \u001b[0;32mfor\u001b[0m \u001b[0mk\u001b[0m \u001b[0;32min\u001b[0m \u001b[0mrange\u001b[0m\u001b[0;34m(\u001b[0m\u001b[0mlen\u001b[0m\u001b[0;34m(\u001b[0m\u001b[0mq\u001b[0m\u001b[0;34m)\u001b[0m\u001b[0;34m)\u001b[0m\u001b[0;34m]\u001b[0m\u001b[0;34m)\u001b[0m\u001b[0;34m\u001b[0m\u001b[0;34m\u001b[0m\u001b[0m\n\u001b[0m\u001b[1;32m     20\u001b[0m \u001b[0;34m\u001b[0m\u001b[0m\n\u001b[1;32m     21\u001b[0m     \u001b[0;32mreturn\u001b[0m \u001b[0mans\u001b[0m\u001b[0;34m.\u001b[0m\u001b[0mT\u001b[0m\u001b[0;34m\u001b[0m\u001b[0;34m\u001b[0m\u001b[0m\n",
      "\u001b[0;32m<ipython-input-19-7d9755435388>\u001b[0m in \u001b[0;36m<listcomp>\u001b[0;34m(.0)\u001b[0m\n\u001b[1;32m     17\u001b[0m             \u001b[0;32mreturn\u001b[0m \u001b[0mnp\u001b[0m\u001b[0;34m.\u001b[0m\u001b[0marray\u001b[0m\u001b[0;34m(\u001b[0m\u001b[0;34m[\u001b[0m\u001b[0;36m0\u001b[0m\u001b[0;34m,\u001b[0m \u001b[0;36m0\u001b[0m\u001b[0;34m]\u001b[0m\u001b[0;34m)\u001b[0m\u001b[0;34m.\u001b[0m\u001b[0mT\u001b[0m\u001b[0;34m\u001b[0m\u001b[0;34m\u001b[0m\u001b[0m\n\u001b[1;32m     18\u001b[0m \u001b[0;34m\u001b[0m\u001b[0m\n\u001b[0;32m---> 19\u001b[0;31m     \u001b[0mans\u001b[0m\u001b[0;34m=\u001b[0m\u001b[0mnp\u001b[0m\u001b[0;34m.\u001b[0m\u001b[0marray\u001b[0m\u001b[0;34m(\u001b[0m\u001b[0;34m[\u001b[0m\u001b[0mJv0\u001b[0m\u001b[0;34m(\u001b[0m\u001b[0mi\u001b[0m\u001b[0;34m,\u001b[0m \u001b[0mk\u001b[0m\u001b[0;34m,\u001b[0m \u001b[0malp\u001b[0m\u001b[0;34m,\u001b[0m \u001b[0ml\u001b[0m\u001b[0;34m)\u001b[0m \u001b[0;32mfor\u001b[0m \u001b[0mk\u001b[0m \u001b[0;32min\u001b[0m \u001b[0mrange\u001b[0m\u001b[0;34m(\u001b[0m\u001b[0mlen\u001b[0m\u001b[0;34m(\u001b[0m\u001b[0mq\u001b[0m\u001b[0;34m)\u001b[0m\u001b[0;34m)\u001b[0m\u001b[0;34m]\u001b[0m\u001b[0;34m)\u001b[0m\u001b[0;34m\u001b[0m\u001b[0;34m\u001b[0m\u001b[0m\n\u001b[0m\u001b[1;32m     20\u001b[0m \u001b[0;34m\u001b[0m\u001b[0m\n\u001b[1;32m     21\u001b[0m     \u001b[0;32mreturn\u001b[0m \u001b[0mans\u001b[0m\u001b[0;34m.\u001b[0m\u001b[0mT\u001b[0m\u001b[0;34m\u001b[0m\u001b[0;34m\u001b[0m\u001b[0m\n",
      "\u001b[0;32m<ipython-input-19-7d9755435388>\u001b[0m in \u001b[0;36mJv0\u001b[0;34m(i, k, alp, l)\u001b[0m\n\u001b[1;32m     10\u001b[0m             \u001b[0mtmp2\u001b[0m\u001b[0;34m=\u001b[0m\u001b[0mtmp2\u001b[0m\u001b[0;34m+\u001b[0m\u001b[0;36m0.5\u001b[0m\u001b[0;34m*\u001b[0m\u001b[0ml\u001b[0m\u001b[0;34m[\u001b[0m\u001b[0mi\u001b[0m\u001b[0;34m]\u001b[0m\u001b[0;34m*\u001b[0m\u001b[0mnp\u001b[0m\u001b[0;34m.\u001b[0m\u001b[0mcos\u001b[0m\u001b[0;34m(\u001b[0m\u001b[0mnp\u001b[0m\u001b[0;34m.\u001b[0m\u001b[0mradians\u001b[0m\u001b[0;34m(\u001b[0m\u001b[0malp\u001b[0m\u001b[0;34m[\u001b[0m\u001b[0mi\u001b[0m\u001b[0;34m]\u001b[0m\u001b[0;34m)\u001b[0m\u001b[0;34m)\u001b[0m\u001b[0;34m\u001b[0m\u001b[0;34m\u001b[0m\u001b[0m\n\u001b[1;32m     11\u001b[0m \u001b[0;34m\u001b[0m\u001b[0m\n\u001b[0;32m---> 12\u001b[0;31m             \u001b[0;32mreturn\u001b[0m \u001b[0mnp\u001b[0m\u001b[0;34m.\u001b[0m\u001b[0marray\u001b[0m\u001b[0;34m(\u001b[0m\u001b[0;34m[\u001b[0m\u001b[0mtmp1\u001b[0m\u001b[0;34m,\u001b[0m \u001b[0mtmp2\u001b[0m\u001b[0;34m]\u001b[0m\u001b[0;34m)\u001b[0m\u001b[0;34m.\u001b[0m\u001b[0mT\u001b[0m\u001b[0;34m\u001b[0m\u001b[0;34m\u001b[0m\u001b[0m\n\u001b[0m\u001b[1;32m     13\u001b[0m         \u001b[0;32melif\u001b[0m \u001b[0mk\u001b[0m\u001b[0;34m==\u001b[0m\u001b[0mi\u001b[0m\u001b[0;34m:\u001b[0m\u001b[0;34m\u001b[0m\u001b[0;34m\u001b[0m\u001b[0m\n\u001b[1;32m     14\u001b[0m             return np.array([-0.5*l[i]*np.sin(np.radians(alp[i])),\n",
      "\u001b[0;31mKeyboardInterrupt\u001b[0m: "
     ]
    }
   ],
   "source": [
    "startTime1 = datetime.now()\n",
    "us=odeint(manipulator,q0,t, args=(q,))\n",
    "print(datetime.now() - startTime1)"
   ]
  },
  {
   "cell_type": "code",
   "execution_count": null,
   "metadata": {},
   "outputs": [],
   "source": [
    "(1e-05)%((1e-04)*10)"
   ]
  },
  {
   "cell_type": "code",
   "execution_count": null,
   "metadata": {},
   "outputs": [],
   "source": [
    "us_=us"
   ]
  },
  {
   "cell_type": "code",
   "execution_count": null,
   "metadata": {},
   "outputs": [],
   "source": [
    "plt.plot(t,np.radians(us_[:,0]) ,'-')\n",
    "plt.xlabel('t')\n",
    "plt.ylabel('q0 (rad)')\n",
    "plt.show()"
   ]
  },
  {
   "cell_type": "code",
   "execution_count": null,
   "metadata": {},
   "outputs": [],
   "source": [
    "plt.plot(t,us_[:,1],'-')\n",
    "plt.xlabel('t')\n",
    "plt.ylabel('dq0')\n",
    "plt.show()"
   ]
  },
  {
   "cell_type": "code",
   "execution_count": null,
   "metadata": {},
   "outputs": [],
   "source": [
    "plt.plot(t, np.radians(us_[:,2]),'-')\n",
    "plt.xlabel('t')\n",
    "plt.ylabel('q1 (rad)')\n",
    "plt.show()"
   ]
  },
  {
   "cell_type": "code",
   "execution_count": null,
   "metadata": {},
   "outputs": [],
   "source": [
    "plt.plot(t, us_[:,3],'-')\n",
    "plt.xlabel('t')\n",
    "plt.ylabel('dq1')\n",
    "plt.show()"
   ]
  },
  {
   "cell_type": "code",
   "execution_count": null,
   "metadata": {},
   "outputs": [],
   "source": [
    "plt.plot(t, np.radians(us_[:,4]),'-')\n",
    "plt.xlabel('t')\n",
    "plt.ylabel('q2 (rad)')\n",
    "plt.show()"
   ]
  },
  {
   "cell_type": "code",
   "execution_count": null,
   "metadata": {},
   "outputs": [],
   "source": [
    "plt.plot(t, us_[:,5],'-')\n",
    "plt.xlabel('t')\n",
    "plt.ylabel('dq2')\n",
    "plt.show()"
   ]
  },
  {
   "cell_type": "code",
   "execution_count": null,
   "metadata": {},
   "outputs": [],
   "source": [
    "plt.plot(t, np.radians(us_[:,6]),'-')\n",
    "plt.xlabel('t')\n",
    "plt.ylabel('q3 (rad)')\n",
    "plt.show()"
   ]
  },
  {
   "cell_type": "code",
   "execution_count": null,
   "metadata": {},
   "outputs": [],
   "source": [
    "plt.plot(t, us_[:,7],'-')\n",
    "plt.xlabel('t')\n",
    "plt.ylabel('dq3')\n",
    "plt.show()"
   ]
  },
  {
   "cell_type": "code",
   "execution_count": null,
   "metadata": {},
   "outputs": [],
   "source": [
    "X0=[x(alpha(us_[i,[0,2,4,6]]),0,l) for i in range(len(us_))]\n",
    "Y0=[y(alpha(us_[i,[0,2,4,6]]),0,l) for i in range(len(us_))]\n",
    "X1=[x(alpha(us_[i,[0,2,4,6]]),1,l) for i in range(len(us_))]\n",
    "Y1=[y(alpha(us_[i,[0,2,4,6]]),1,l) for i in range(len(us_))]\n",
    "X2=[x(alpha(us_[i,[0,2,4,6]]),2,l) for i in range(len(us_))]\n",
    "Y2=[y(alpha(us_[i,[0,2,4,6]]),2,l) for i in range(len(us_))]\n",
    "X3=[x(alpha(us_[i,[0,2,4,6]]),3,l) for i in range(len(us_))]\n",
    "Y3=[y(alpha(us_[i,[0,2,4,6]]),3,l) for i in range(len(us_))]"
   ]
  },
  {
   "cell_type": "code",
   "execution_count": null,
   "metadata": {},
   "outputs": [],
   "source": [
    "X0_=[x(alpha(us_[i,[0,2,4,6]]),0,l) for i in range(1)]\n",
    "Y0_=[y(alpha(us_[i,[0,2,4,6]]),0,l) for i in range(1)]\n",
    "X1_=[x(alpha(us_[i,[0,2,4,6]]),1,l) for i in range(1)]\n",
    "Y1_=[y(alpha(us_[i,[0,2,4,6]]),1,l) for i in range(1)]\n",
    "X2_=[x(alpha(us_[i,[0,2,4,6]]),2,l) for i in range(1)]\n",
    "Y2_=[y(alpha(us_[i,[0,2,4,6]]),2,l) for i in range(1)]\n",
    "X3_=[x(alpha(us_[i,[0,2,4,6]]),3,l) for i in range(1)]\n",
    "Y3_=[y(alpha(us_[i,[0,2,4,6]]),3,l) for i in range(1)]"
   ]
  },
  {
   "cell_type": "code",
   "execution_count": null,
   "metadata": {},
   "outputs": [],
   "source": [
    "plt.figure(figsize=(14,4))\n",
    "plt.plot(X0_,Y0_, 'o', color='black')\n",
    "plt.plot(X1_,Y1_, 'o', color='black')\n",
    "plt.plot(X2_,Y2_, 'o', color='black')\n",
    "plt.plot(X3_,Y3_, 'o', color='black')\n",
    "\n",
    "# dynamic\n",
    "plt.plot(X0,Y0,'b')\n",
    "plt.plot(X1,Y1,'y')\n",
    "plt.plot(X2,Y2,'g')\n",
    "plt.plot(X3,Y3,'r')\n",
    "\n",
    "plt.plot(x(alpha(us_[-1,[0,2,4,6]]),0,l),y(alpha(us_[-1,[0,2,4,6]]),0,l), 'o', color='green')\n",
    "plt.plot(x(alpha(us_[-1,[0,2,4,6]]),1,l),y(alpha(us_[-1,[0,2,4,6]]),1,l), 'o', color='green')\n",
    "plt.plot(x(alpha(us_[-1,[0,2,4,6]]),2,l),y(alpha(us_[-1,[0,2,4,6]]),2,l), 'o', color='green')\n",
    "plt.plot(x(alpha(us_[-1,[0,2,4,6]]),3,l),y(alpha(us_[-1,[0,2,4,6]]),3,l), 'o', color='green')\n",
    "\n",
    "# plt.plot(x0, y0)\n",
    "plt.xlabel('X')\n",
    "plt.ylabel('Y')\n",
    "\n",
    "plt.show()"
   ]
  },
  {
   "cell_type": "code",
   "execution_count": null,
   "metadata": {},
   "outputs": [],
   "source": [
    "us_[0,0]"
   ]
  },
  {
   "cell_type": "code",
   "execution_count": null,
   "metadata": {},
   "outputs": [],
   "source": [
    "us_[0,2]"
   ]
  },
  {
   "cell_type": "code",
   "execution_count": null,
   "metadata": {},
   "outputs": [],
   "source": [
    "us_[0,4]"
   ]
  },
  {
   "cell_type": "code",
   "execution_count": null,
   "metadata": {},
   "outputs": [],
   "source": [
    "us_[0,6]"
   ]
  },
  {
   "cell_type": "code",
   "execution_count": null,
   "metadata": {},
   "outputs": [],
   "source": [
    "us_[0,0]+us_[0,2]+us_[0,4]+us_[0,6]"
   ]
  },
  {
   "cell_type": "markdown",
   "metadata": {},
   "source": [
    "### Pipe-tip tension"
   ]
  },
  {
   "cell_type": "code",
   "execution_count": null,
   "metadata": {},
   "outputs": [],
   "source": [
    "coordinates=us[:,[0,2,4,6]]\n",
    "velocities=us[:,[1,3,5,7]]"
   ]
  },
  {
   "cell_type": "code",
   "execution_count": null,
   "metadata": {},
   "outputs": [],
   "source": [
    "alp_=[]\n",
    "for i in range(len(us)):\n",
    "    alp_.append(alpha(coordinates[i]))\n",
    "alp_=np.matrix(alp_)    "
   ]
  },
  {
   "cell_type": "code",
   "execution_count": null,
   "metadata": {},
   "outputs": [],
   "source": [
    "velocities.shape"
   ]
  },
  {
   "cell_type": "code",
   "execution_count": null,
   "metadata": {},
   "outputs": [],
   "source": [
    "velocities_0=velocities[:-1]\n",
    "velocities_1=velocities[1:]"
   ]
  },
  {
   "cell_type": "code",
   "execution_count": null,
   "metadata": {},
   "outputs": [],
   "source": [
    "coordinates.shape, velocities.shape"
   ]
  },
  {
   "cell_type": "code",
   "execution_count": null,
   "metadata": {},
   "outputs": [],
   "source": [
    "startTime1 = datetime.now()\n",
    "\n",
    "add4=functools.partial(C, l=l, mn=mn, In=In, mi=mi)\n",
    "add4__C =np.array(list(map(add4, coordinates, velocities)))\n",
    "\n",
    "print(datetime.now() - startTime1)"
   ]
  },
  {
   "cell_type": "code",
   "execution_count": null,
   "metadata": {},
   "outputs": [],
   "source": [
    "startTime = datetime.now()\n",
    "\n",
    "add1=functools.partial(Jv, i=len(q)-1, l=l)\n",
    "add1__Jv = np.array(list(map(add1, coordinates)))\n",
    "\n",
    "add2=functools.partial(M, l=l, mn=mn, In=In, mi=mi)\n",
    "add2__M =np.array(list(map(add2, coordinates)))\n",
    "\n",
    "add3=functools.partial(H,  l=l)\n",
    "add3__H =np.array(list(map(add3, alp_.tolist(), coordinates, velocities)))\n",
    "\n",
    "add5=functools.partial(f, k=K)\n",
    "add5__f =np.array(list(map(add5, coordinates)))\n",
    "\n",
    "add6=functools.partial(g)\n",
    "add6__g =np.array(list(map(add6, coordinates, alp_.tolist())))\n",
    "\n",
    "print(datetime.now() - startTime)"
   ]
  },
  {
   "cell_type": "code",
   "execution_count": null,
   "metadata": {},
   "outputs": [],
   "source": [
    "velocities_1.shape"
   ]
  },
  {
   "cell_type": "code",
   "execution_count": null,
   "metadata": {},
   "outputs": [],
   "source": [
    "add5__f.shape"
   ]
  },
  {
   "cell_type": "code",
   "execution_count": null,
   "metadata": {},
   "outputs": [],
   "source": [
    "add6__g.shape"
   ]
  },
  {
   "cell_type": "code",
   "execution_count": null,
   "metadata": {},
   "outputs": [],
   "source": [
    "add3__H.shape"
   ]
  },
  {
   "cell_type": "code",
   "execution_count": null,
   "metadata": {},
   "outputs": [],
   "source": [
    "tmp__1=pinv(add1__Jv[:-1].transpose(0, 2, 1))\n",
    "#here\n",
    "tmp__2=np.matmul(add2__M[:-1], ((np.radians(velocities_1).reshape(dim2,4,1) - \n",
    "                              np.radians(velocities_0).reshape(dim2,4,1))/dt))\\\n",
    "            + np.matmul(add3__H[:-1], np.radians(velocities[:-1]).reshape(dim2,4,1)) \\\n",
    "            + np.matmul(add4__C[:-1], np.radians(velocities[:-1]).reshape(dim2,4,1)) \\\n",
    "            + add5__f[:-1] \\\n",
    "            + add6__g[:-1]"
   ]
  },
  {
   "cell_type": "code",
   "execution_count": null,
   "metadata": {},
   "outputs": [],
   "source": [
    "tmp__=np.matmul(tmp__1, tmp__2)"
   ]
  },
  {
   "cell_type": "code",
   "execution_count": null,
   "metadata": {},
   "outputs": [],
   "source": [
    "plt.plot(t[:len(tmp__)],tmp__[:,0],'-')\n",
    "plt.xlim([-1, dim1//2])\n",
    "plt.ylim([-300000000, 300000000])\n",
    "plt.xlabel('t')\n",
    "plt.ylabel('T_H')\n",
    "plt.show()"
   ]
  },
  {
   "cell_type": "code",
   "execution_count": null,
   "metadata": {},
   "outputs": [],
   "source": [
    "plt.plot(t[:len(tmp__)],tmp__[:,1],'-')\n",
    "plt.xlim([-1, dim1//2])\n",
    "plt.ylim([-100000000, 100000000])\n",
    "plt.xlabel('t')\n",
    "plt.ylabel('T_V')\n",
    "plt.show()"
   ]
  },
  {
   "cell_type": "code",
   "execution_count": null,
   "metadata": {},
   "outputs": [],
   "source": [
    "max(tmp__[:,0]), max(tmp__[:,1])"
   ]
  },
  {
   "cell_type": "code",
   "execution_count": null,
   "metadata": {},
   "outputs": [],
   "source": [
    "min(tmp__[:,0]), min(tmp__[:,1])"
   ]
  },
  {
   "cell_type": "code",
   "execution_count": null,
   "metadata": {},
   "outputs": [],
   "source": [
    "# (array([28319143.73486871]), array([25605994.71854329])) just waves\n",
    "# (array([28491881.95694733]), array([25520818.9120822]))  positive Fx\n",
    "# (array([28146301.99196166]), array([25687403.50463529])) negative Fx\n",
    "# (array([30076743.25808775]), array([25019302.28641659])) large positive Fx\n",
    "# (array([26618614.2824719]),  array([26179692.06953637])) large negative Fx\n",
    "# (array([3953150.66297572]),  array([1508270.46574422]))  fip=1e10\n",
    "# (array([6746771.13788591]),  array([10057989.37909701])) max_t = 300\n",
    "# (array([2084853.78862965]),  array([766900.49862976])) fip=1e9\n",
    "# (array([1518705.92013393]),  array([361011.0471009])) fip=5e8\n",
    "# (array([2212275.89406135]),  array([634267.05259892])) fip=4e8"
   ]
  },
  {
   "cell_type": "code",
   "execution_count": null,
   "metadata": {},
   "outputs": [],
   "source": [
    "# ρa = 1.200 * 10**3 # g/m3\n",
    "# ρs=7.850 * 10**6\n",
    "# di = 0.6900 # m\n",
    "# do = 0.7610 "
   ]
  },
  {
   "cell_type": "code",
   "execution_count": null,
   "metadata": {},
   "outputs": [],
   "source": [
    "# Q=(ρa-ρs)*(di/do)**2+ρs  # g/m3"
   ]
  },
  {
   "cell_type": "code",
   "execution_count": null,
   "metadata": {},
   "outputs": [],
   "source": [
    "# length=1000"
   ]
  },
  {
   "cell_type": "code",
   "execution_count": null,
   "metadata": {},
   "outputs": [],
   "source": [
    "# V=math.pi * (do/2)**2 * length - math.pi * (di/2)**2 * length #m3"
   ]
  },
  {
   "cell_type": "code",
   "execution_count": null,
   "metadata": {},
   "outputs": [],
   "source": [
    "#m3"
   ]
  },
  {
   "cell_type": "code",
   "execution_count": null,
   "metadata": {},
   "outputs": [],
   "source": [
    "# Q*V/length/1000"
   ]
  },
  {
   "cell_type": "code",
   "execution_count": null,
   "metadata": {},
   "outputs": [],
   "source": [
    "my_max= 300#sampleTime*N\n",
    "my_time=0\n",
    "my_n=0\n",
    "count=0\n",
    "my_update=1\n",
    "while count<10000:\n",
    "    if my_time%my_max==0:\n",
    "        my_n+=1\n",
    "\n",
    "    my_time+=(-1)**my_n*my_update   \n",
    "    print(my_max,abs(my_time))\n",
    "    count+=1\n",
    "        \n",
    "        "
   ]
  },
  {
   "cell_type": "code",
   "execution_count": null,
   "metadata": {},
   "outputs": [],
   "source": [
    "# Import libraries\n",
    "import numpy as np\n",
    "from scipy.integrate import odeint\n",
    "import matplotlib.pyplot as plt\n",
    "\n",
    "# Define model function\n",
    "def model(z,t,u):\n",
    "    x = z[0] # state variable x\n",
    "    y = z[1] # state variable y\n",
    "    dxdt = -x + u # differential equation for x\n",
    "    dydt = x - y # differential equation for y\n",
    "    dzdt = [dxdt,dydt] # vector of derivatives\n",
    "    return dzdt\n",
    "\n",
    "# Define feedback control function\n",
    "def feedback(z):\n",
    "    x = z[0] # state variable x\n",
    "    y = z[1] # state variable y\n",
    "    K = 2 # feedback gain\n",
    "    u = -K * x # feedback control law\n",
    "    return u\n",
    "\n",
    "# Initial conditions\n",
    "z0 = [1,-1] # initial state vector\n",
    "\n",
    "# Time points\n",
    "t = np.linspace(0,10,101) # time span and steps\n",
    "\n",
    "# Empty list to store control inputs\n",
    "u_list = []\n",
    "\n",
    "# Solve the system for each time step\n",
    "for i in range(len(t)-1):\n",
    "    # Get the current state vector\n",
    "    z = odeint(model,z0,[t[i],t[i+1]],args=(feedback(z0),))\n",
    "    # Store the current state vector\n",
    "    z0 = z[1]\n",
    "    # Store the current control input\n",
    "    u_list.append(feedback(z0))\n",
    "\n",
    "# Convert the list to array\n",
    "u_array = np.array(u_list)\n",
    "\n",
    "# # Plot the results\n",
    "# plt.figure()\n",
    "# plt.subplot(2,1,1)\n",
    "# plt.plot(t[:-1],u_array,'b-',label='u')\n",
    "# plt.ylabel('Control input')\n",
    "# plt.legend()\n",
    "# plt.subplot(2,1,2)\n",
    "# plt.plot(t[:-1],z[0,:],'r-',label='x')\n",
    "# plt.plot(t[:-1],z[1,:],'g--',label='y')\n",
    "# plt.xlabel('Time')\n",
    "# plt.ylabel('State variables')\n",
    "# plt.legend()\n",
    "# plt.show()"
   ]
  },
  {
   "cell_type": "code",
   "execution_count": null,
   "metadata": {},
   "outputs": [],
   "source": [
    "# Hs = 2.5 # significant wave height in m"
   ]
  },
  {
   "cell_type": "code",
   "execution_count": null,
   "metadata": {},
   "outputs": [],
   "source": [
    "# def wave_force(Hs,d0,qw, Cd=1.2):\n",
    "#     g=9.81 \n",
    "#     return 0.5 * qw * g * Hs**2 * d0 * Cd"
   ]
  },
  {
   "cell_type": "code",
   "execution_count": null,
   "metadata": {},
   "outputs": [],
   "source": [
    "# wave_force(Hs,d0,qw, Cd=1.2)"
   ]
  },
  {
   "cell_type": "code",
   "execution_count": null,
   "metadata": {},
   "outputs": [],
   "source": [
    "# η"
   ]
  },
  {
   "cell_type": "code",
   "execution_count": null,
   "metadata": {},
   "outputs": [],
   "source": [
    "# def tau(η, dη, wave_force, kp, kd,time, Hs=2.5, Tp=10, x_ref = 0, dx_ref=0):\n",
    "#     x,y,z,φ,θ,ψ=η\n",
    "#     dx,dy,dz,dφ,dθ,dψ=dη\n",
    "# #     print(-Fx(x,dx, kp, kd, x_ref, dx_ref))\n",
    "#     F=(np.array([-Fx(x,dx, kp, kd, x_ref, dx_ref),0,0])+np.array([0,0,wave_force(Hs,d0,qw)])).T*np.sin(2*np.pi/Tp*time)\n",
    "# #     print(F)\n",
    "#     Ret=Re_t_([φ,θ,ψ])\n",
    "    \n",
    "#     return  np.concatenate([np.dot(Re_b(Ret), F),[0,0,0]], axis=0)"
   ]
  },
  {
   "cell_type": "code",
   "execution_count": null,
   "metadata": {},
   "outputs": [],
   "source": [
    "# tau(η, dη, wave_force, kp, kd,1)"
   ]
  },
  {
   "cell_type": "code",
   "execution_count": null,
   "metadata": {},
   "outputs": [],
   "source": []
  },
  {
   "cell_type": "code",
   "execution_count": null,
   "metadata": {},
   "outputs": [],
   "source": []
  }
 ],
 "metadata": {
  "kernelspec": {
   "display_name": "Python 3",
   "language": "python",
   "name": "python3"
  },
  "language_info": {
   "codemirror_mode": {
    "name": "ipython",
    "version": 3
   },
   "file_extension": ".py",
   "mimetype": "text/x-python",
   "name": "python",
   "nbconvert_exporter": "python",
   "pygments_lexer": "ipython3",
   "version": "3.7.7"
  }
 },
 "nbformat": 4,
 "nbformat_minor": 4
}
