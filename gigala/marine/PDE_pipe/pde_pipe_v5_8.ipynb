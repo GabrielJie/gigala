{
 "cells": [
  {
   "cell_type": "markdown",
   "metadata": {},
   "source": [
    "#### Model taken from:\n",
    "- [1] Offshore Pipelaying Dynamics. Gullik Anthon Jensen \n",
    "- [2] A nonlinear PDE formulation for offshore vessel pipeline installation. Gullik A. Jensen et al \n",
    "- [3] Modeling and Control of Offshore Pipelay Operations Based on a Finite Strain Pipe Model. Gullik A. Jensen "
   ]
  },
  {
   "cell_type": "code",
   "execution_count": 1,
   "metadata": {},
   "outputs": [],
   "source": [
    "# import julia;\n",
    "# julia.install()"
   ]
  },
  {
   "cell_type": "code",
   "execution_count": 2,
   "metadata": {},
   "outputs": [],
   "source": [
    "# pipe's mass is different from vessel's mass"
   ]
  },
  {
   "cell_type": "code",
   "execution_count": 3,
   "metadata": {},
   "outputs": [],
   "source": [
    "# TODO - Vessel model !!!!"
   ]
  },
  {
   "cell_type": "code",
   "execution_count": 4,
   "metadata": {},
   "outputs": [],
   "source": [
    "import numpy as np\n",
    "import numdifftools as nd\n",
    "import math\n",
    "import matplotlib.pyplot as plt\n",
    "from datetime import datetime\n",
    "# from scipy.integrate import odeint\n",
    "# from torchdiffeq import odeint\n",
    "import torch\n",
    "import inspect\n",
    "import random\n",
    "from scipy.optimize import fsolve\n",
    "from scipy.integrate import solve_ivp\n",
    "import scipy\n",
    "from numpy import linalg as LA"
   ]
  },
  {
   "cell_type": "code",
   "execution_count": 5,
   "metadata": {},
   "outputs": [],
   "source": [
    "import sys\n",
    "sys.path.insert(0, \"../../../../Ocean_Intella/PythonVehicleSimulator-master/src/python_vehicle_simulator\")\n",
    "sys.path.insert(0, \"../../../../Ocean_Intella/PythonVehicleSimulator-master/src\")"
   ]
  },
  {
   "cell_type": "code",
   "execution_count": 6,
   "metadata": {},
   "outputs": [],
   "source": [
    "# from diffeqpy import ode\n",
    "# from diffeqpy import de"
   ]
  },
  {
   "cell_type": "code",
   "execution_count": 7,
   "metadata": {},
   "outputs": [],
   "source": [
    "from vehicles import shipClarke83\n",
    "from python_vehicle_simulator.vehicles import *\n",
    "from python_vehicle_simulator.lib import *\n",
    "from python_vehicle_simulator.lib.gnc import ssa"
   ]
  },
  {
   "cell_type": "code",
   "execution_count": 8,
   "metadata": {},
   "outputs": [],
   "source": [
    "from sympy import *"
   ]
  },
  {
   "cell_type": "code",
   "execution_count": 9,
   "metadata": {},
   "outputs": [],
   "source": [
    "def R2D(value):  # radians to degrees\n",
    "    return value * 180 / math.pi"
   ]
  },
  {
   "cell_type": "code",
   "execution_count": 10,
   "metadata": {},
   "outputs": [],
   "source": [
    "mp = 96 #  (submerged) [kg/m]"
   ]
  },
  {
   "cell_type": "code",
   "execution_count": 11,
   "metadata": {},
   "outputs": [],
   "source": [
    "node_N = 4"
   ]
  },
  {
   "cell_type": "code",
   "execution_count": 12,
   "metadata": {},
   "outputs": [],
   "source": [
    "mi = [mp for i in range(node_N)] "
   ]
  },
  {
   "cell_type": "code",
   "execution_count": 13,
   "metadata": {},
   "outputs": [],
   "source": [
    "# L - the hull length\n",
    "# Xg - x-center of gravity\n",
    "L = 169 # [m]\n",
    "Xg = 78 # [m]\n",
    "mn = 123000000 ## 32219000 # #   # mass of the vessel, [kg] !!!!!!!!!!!!!!!!!! Solitaire type vessel "
   ]
  },
  {
   "cell_type": "code",
   "execution_count": 14,
   "metadata": {},
   "outputs": [],
   "source": [
    "vessel_mass=mn/L # mass over length of vessel"
   ]
  },
  {
   "cell_type": "code",
   "execution_count": 15,
   "metadata": {},
   "outputs": [],
   "source": [
    "diag_Irho = 1e2*np.array([1, 1, 2]) # [m^4]  , p.99 in [1]\n",
    " \n",
    "Irho=np.diag(diag_Irho)"
   ]
  },
  {
   "cell_type": "code",
   "execution_count": 16,
   "metadata": {},
   "outputs": [
    {
     "data": {
      "text/plain": [
       "array([[100.,   0.,   0.],\n",
       "       [  0., 100.,   0.],\n",
       "       [  0.,   0., 200.]])"
      ]
     },
     "execution_count": 16,
     "metadata": {},
     "output_type": "execute_result"
    }
   ],
   "source": [
    "Irho"
   ]
  },
  {
   "cell_type": "code",
   "execution_count": 17,
   "metadata": {},
   "outputs": [],
   "source": [
    "# Fossen book p.181\n",
    "def vessel_inertia_moment(mn, Xg, L):\n",
    "    r = 0.25*L\n",
    "    Ir = mn*r**2\n",
    "    Iz=mn*Xg**2 + Ir\n",
    "    return Iz"
   ]
  },
  {
   "cell_type": "code",
   "execution_count": 18,
   "metadata": {},
   "outputs": [],
   "source": [
    "vessel_inertia = vessel_inertia_moment(mn, Xg, L)"
   ]
  },
  {
   "cell_type": "code",
   "execution_count": 19,
   "metadata": {},
   "outputs": [],
   "source": [
    "Irho+=vessel_inertia"
   ]
  },
  {
   "cell_type": "code",
   "execution_count": 20,
   "metadata": {},
   "outputs": [],
   "source": [
    "vessel_inertia_coef = vessel_inertia/np.max(diag_Irho)"
   ]
  },
  {
   "cell_type": "code",
   "execution_count": 21,
   "metadata": {},
   "outputs": [
    {
     "data": {
      "text/plain": [
       "4839473437.5"
      ]
     },
     "execution_count": 21,
     "metadata": {},
     "output_type": "execute_result"
    }
   ],
   "source": [
    "vessel_inertia_coef"
   ]
  },
  {
   "cell_type": "code",
   "execution_count": 22,
   "metadata": {},
   "outputs": [],
   "source": [
    "qw = 1025 # Water density [kg/m3]\n",
    "d0 = 0.761 # Outer diameter of pipe, [m]"
   ]
  },
  {
   "cell_type": "code",
   "execution_count": 23,
   "metadata": {},
   "outputs": [],
   "source": [
    "diag_DT = 1.5*np.array([1, 1, 1]) \n",
    "# diag_DT = 1.5e15*np.array([1, 1, 1]) # [N/m]  , p.99 in [1] !!!!!!!!!!!!!!!!!!!!!!!!!!!!"
   ]
  },
  {
   "cell_type": "code",
   "execution_count": 24,
   "metadata": {},
   "outputs": [],
   "source": [
    "DT=np.diag(diag_DT) # (35) in [2]"
   ]
  },
  {
   "cell_type": "code",
   "execution_count": 25,
   "metadata": {},
   "outputs": [
    {
     "data": {
      "text/plain": [
       "array([[1.5, 0. , 0. ],\n",
       "       [0. , 1.5, 0. ],\n",
       "       [0. , 0. , 1.5]])"
      ]
     },
     "execution_count": 25,
     "metadata": {},
     "output_type": "execute_result"
    }
   ],
   "source": [
    "DT"
   ]
  },
  {
   "cell_type": "code",
   "execution_count": 26,
   "metadata": {},
   "outputs": [],
   "source": [
    "diag_CT = 1e9*np.array([1, 1, 1]) # [Nm2] p. 4721 in [3]"
   ]
  },
  {
   "cell_type": "code",
   "execution_count": 27,
   "metadata": {},
   "outputs": [],
   "source": [
    "CT=np.diag(diag_CT)"
   ]
  },
  {
   "cell_type": "code",
   "execution_count": 28,
   "metadata": {},
   "outputs": [
    {
     "data": {
      "text/plain": [
       "array([[1.e+09, 0.e+00, 0.e+00],\n",
       "       [0.e+00, 1.e+09, 0.e+00],\n",
       "       [0.e+00, 0.e+00, 1.e+09]])"
      ]
     },
     "execution_count": 28,
     "metadata": {},
     "output_type": "execute_result"
    }
   ],
   "source": [
    "CT"
   ]
  },
  {
   "cell_type": "code",
   "execution_count": 29,
   "metadata": {},
   "outputs": [],
   "source": [
    "# angles should be in radians, otherwise np.radians them  \n",
    "def Re_t_(arr):\n",
    "    φ,θ,ψ=arr[0],arr[1],arr[2]\n",
    "  \n",
    "    Cφ=np.matrix([[1,0,0],\n",
    "                      [0,np.cos(φ),-np.sin(φ)],\n",
    "                      [0,np.sin(φ),np.cos(φ)]])\n",
    "\n",
    "    Cθ=np.matrix([[np.cos(θ),0,np.sin(θ)],\n",
    "                      [0,1,0],\n",
    "                      [-np.sin(θ),0,np.cos(θ)]])\n",
    "\n",
    "    Cψ=np.matrix([[np.cos(ψ),-np.sin(ψ),0],\n",
    "                      [np.sin(ψ),np.cos(ψ),0],\n",
    "                      [0,0,1]])\n",
    "        \n",
    "\n",
    "    return np.array(np.dot(np.dot(Cφ,Cθ),Cψ) )"
   ]
  },
  {
   "cell_type": "code",
   "execution_count": 30,
   "metadata": {},
   "outputs": [
    {
     "data": {
      "text/plain": [
       "array([[ 0.41198225,  0.05872664,  0.90929743],\n",
       "       [-0.68124272, -0.64287284,  0.35017549],\n",
       "       [ 0.60512725, -0.76371834, -0.2248451 ]])"
      ]
     },
     "execution_count": 30,
     "metadata": {},
     "output_type": "execute_result"
    }
   ],
   "source": [
    "Re_t_([1,2,3])"
   ]
  },
  {
   "cell_type": "code",
   "execution_count": 31,
   "metadata": {},
   "outputs": [],
   "source": [
    "rng = np.random.default_rng()"
   ]
  },
  {
   "cell_type": "code",
   "execution_count": 32,
   "metadata": {},
   "outputs": [],
   "source": [
    "φ, θ, ψ = rng.standard_normal(node_N),rng.standard_normal(node_N),rng.standard_normal(node_N)"
   ]
  },
  {
   "cell_type": "code",
   "execution_count": 33,
   "metadata": {},
   "outputs": [],
   "source": [
    "def Re_t(a,b,c):\n",
    "    xyz=np.stack((a,b,c), axis=1)\n",
    "    return np.apply_along_axis(Re_t_, 1, xyz)"
   ]
  },
  {
   "cell_type": "code",
   "execution_count": 34,
   "metadata": {},
   "outputs": [
    {
     "data": {
      "text/plain": [
       "array([[ 0.9183279 , -0.39581857, -0.00123343],\n",
       "       [ 0.38728218,  0.89787039,  0.2093831 ],\n",
       "       [-0.08177026, -0.19276003,  0.97783291]])"
      ]
     },
     "execution_count": 34,
     "metadata": {},
     "output_type": "execute_result"
    }
   ],
   "source": [
    "Re_t_(np.array([φ[0], θ[0], ψ[0]]))"
   ]
  },
  {
   "cell_type": "code",
   "execution_count": 35,
   "metadata": {
    "scrolled": true
   },
   "outputs": [
    {
     "name": "stdout",
     "output_type": "stream",
     "text": [
      "0:00:00.008737\n"
     ]
    }
   ],
   "source": [
    "startTime1 = datetime.now()\n",
    "Ret=Re_t(φ,θ,ψ)\n",
    "print(datetime.now() - startTime1)"
   ]
  },
  {
   "cell_type": "code",
   "execution_count": 36,
   "metadata": {},
   "outputs": [
    {
     "data": {
      "text/plain": [
       "array([[[ 0.9183279 , -0.39581857, -0.00123343],\n",
       "        [ 0.38728218,  0.89787039,  0.2093831 ],\n",
       "        [-0.08177026, -0.19276003,  0.97783291]],\n",
       "\n",
       "       [[ 0.87795455,  0.08224448, -0.4716266 ],\n",
       "        [-0.13138165,  0.98870219, -0.07215841],\n",
       "        [ 0.46036362,  0.12531488,  0.87884101]],\n",
       "\n",
       "       [[ 0.75447935,  0.03619188, -0.65532516],\n",
       "        [ 0.21109028,  0.93204529,  0.29450376],\n",
       "        [ 0.62145137, -0.36052978,  0.69556917]],\n",
       "\n",
       "       [[ 0.76696075, -0.06160492,  0.63873002],\n",
       "        [ 0.01178543,  0.99656541,  0.08196635],\n",
       "        [-0.64158578, -0.05533726,  0.7650526 ]]])"
      ]
     },
     "execution_count": 36,
     "metadata": {},
     "output_type": "execute_result"
    }
   ],
   "source": [
    "Ret"
   ]
  },
  {
   "cell_type": "code",
   "execution_count": 37,
   "metadata": {},
   "outputs": [
    {
     "data": {
      "text/plain": [
       "(4, 3, 3)"
      ]
     },
     "execution_count": 37,
     "metadata": {},
     "output_type": "execute_result"
    }
   ],
   "source": [
    "Ret.shape"
   ]
  },
  {
   "cell_type": "code",
   "execution_count": 38,
   "metadata": {},
   "outputs": [],
   "source": [
    "dx,dy,dz=rng.standard_normal(node_N),rng.standard_normal(node_N),rng.standard_normal(node_N)"
   ]
  },
  {
   "cell_type": "code",
   "execution_count": 39,
   "metadata": {},
   "outputs": [],
   "source": [
    "def C1(dx,dy,dz, Ret):\n",
    "    B=np.vstack([np.abs(dx)*dx,(dy**2+dz**2)**0.5*dy,(dy**2+dz**2)**0.5*dz])\n",
    "#     print(np.dot(Ret[0],B.T[0]))\n",
    "    ans=np.einsum('ijk,ik->ij', Ret, np.einsum('ijk,ik->ij', Ret,B.T.astype(np.float32))) \n",
    "    return ans.T"
   ]
  },
  {
   "cell_type": "code",
   "execution_count": 40,
   "metadata": {},
   "outputs": [
    {
     "data": {
      "text/plain": [
       "array([-0.00360155, -2.98348031,  0.75079934, -1.78563129])"
      ]
     },
     "execution_count": 40,
     "metadata": {},
     "output_type": "execute_result"
    }
   ],
   "source": [
    "np.abs(dx)*dx"
   ]
  },
  {
   "cell_type": "code",
   "execution_count": 41,
   "metadata": {},
   "outputs": [
    {
     "data": {
      "text/plain": [
       "array([[ 0.05160243, -3.60234533,  1.36162569, -0.45524358],\n",
       "       [-0.08038776,  2.66596583,  0.50585506, -0.25331042],\n",
       "       [-0.06944989, -0.36030272,  0.29957889,  1.74140068]])"
      ]
     },
     "execution_count": 41,
     "metadata": {},
     "output_type": "execute_result"
    }
   ],
   "source": [
    "C1(dx,dy,dz,Ret)"
   ]
  },
  {
   "cell_type": "code",
   "execution_count": 42,
   "metadata": {},
   "outputs": [
    {
     "data": {
      "text/plain": [
       "(3, 4)"
      ]
     },
     "execution_count": 42,
     "metadata": {},
     "output_type": "execute_result"
    }
   ],
   "source": [
    "C1(dx,dy,dz,Ret).shape"
   ]
  },
  {
   "cell_type": "code",
   "execution_count": 43,
   "metadata": {},
   "outputs": [
    {
     "name": "stdout",
     "output_type": "stream",
     "text": [
      "0:00:00.000339\n"
     ]
    }
   ],
   "source": [
    "startTime1 = datetime.now()\n",
    "C1(dx,dy,dz,Ret)\n",
    "print(datetime.now() - startTime1)"
   ]
  },
  {
   "cell_type": "code",
   "execution_count": 44,
   "metadata": {},
   "outputs": [],
   "source": [
    "def fD(dx,dy,dz,DT,Ret):\n",
    "    return 1/2*d0*qw*np.dot(DT, C1(dx,dy,dz,Ret))*9.81"
   ]
  },
  {
   "cell_type": "code",
   "execution_count": 45,
   "metadata": {},
   "outputs": [
    {
     "data": {
      "text/plain": [
       "array([ 296.14807498, -461.34808801, -398.57530213])"
      ]
     },
     "execution_count": 45,
     "metadata": {},
     "output_type": "execute_result"
    }
   ],
   "source": [
    "1/2*d0*qw*np.dot(DT,C1(dx,dy,dz,Ret).T[0])*9.81"
   ]
  },
  {
   "cell_type": "code",
   "execution_count": 46,
   "metadata": {},
   "outputs": [
    {
     "data": {
      "text/plain": [
       "array([[   296.14807498, -20673.98207947,   7814.41605716,\n",
       "         -2612.658349  ],\n",
       "       [  -461.34808801,  15300.06838194,   2903.11938374,\n",
       "         -1453.75707386],\n",
       "       [  -398.57530213,  -2067.78951695,   1719.2933885 ,\n",
       "          9993.95757596]])"
      ]
     },
     "execution_count": 46,
     "metadata": {},
     "output_type": "execute_result"
    }
   ],
   "source": [
    "fD(dx,dy,dz,DT,Ret)"
   ]
  },
  {
   "cell_type": "code",
   "execution_count": 47,
   "metadata": {},
   "outputs": [
    {
     "data": {
      "text/plain": [
       "array([[   296.14807498,   -461.34808801,   -398.57530213],\n",
       "       [-20673.98207947,  15300.06838194,  -2067.78951695],\n",
       "       [  7814.41605716,   2903.11938374,   1719.2933885 ],\n",
       "       [ -2612.658349  ,  -1453.75707386,   9993.95757596]])"
      ]
     },
     "execution_count": 47,
     "metadata": {},
     "output_type": "execute_result"
    }
   ],
   "source": [
    "fD(dx,dy,dz,DT,Ret).T"
   ]
  },
  {
   "cell_type": "code",
   "execution_count": 48,
   "metadata": {},
   "outputs": [
    {
     "name": "stdout",
     "output_type": "stream",
     "text": [
      "0:00:00.000239\n"
     ]
    }
   ],
   "source": [
    "startTime1 = datetime.now()\n",
    "fD(dx,dy,dz,DT,Ret)\n",
    "print(datetime.now() - startTime1)"
   ]
  },
  {
   "cell_type": "code",
   "execution_count": 49,
   "metadata": {},
   "outputs": [],
   "source": [
    "# https://docs.scipy.org/doc/scipy-1.8.0/tutorial/integrate.html  \n",
    "# 1-D Gray-Scott "
   ]
  },
  {
   "cell_type": "code",
   "execution_count": 50,
   "metadata": {},
   "outputs": [],
   "source": [
    "I=np.identity(3)"
   ]
  },
  {
   "cell_type": "code",
   "execution_count": 51,
   "metadata": {},
   "outputs": [
    {
     "name": "stdout",
     "output_type": "stream",
     "text": [
      "0:00:00.001827\n"
     ]
    }
   ],
   "source": [
    "startTime1 = datetime.now()\n",
    "np.dot(I,fD(dx,dy,dz,DT,Ret))\n",
    "print(datetime.now() - startTime1)"
   ]
  },
  {
   "cell_type": "code",
   "execution_count": 52,
   "metadata": {},
   "outputs": [],
   "source": [
    "Rb_t=I # https://www.researchgate.net/profile/Thor-Fossen/publication/224560837_Modeling_and_Control_of_Offshore_Pipelay_Operations_Based_on_a_Finite_Strain_Pipe_Model/links/00b7d520e175a3f918000000/Modeling-and-Control-of-Offshore-Pipelay-Operations-Based-on-a-Finite-Strain-Pipe-Model.pdf"
   ]
  },
  {
   "cell_type": "code",
   "execution_count": 53,
   "metadata": {},
   "outputs": [
    {
     "data": {
      "text/plain": [
       "array([[1., 0., 0.],\n",
       "       [0., 1., 0.],\n",
       "       [0., 0., 1.]])"
      ]
     },
     "execution_count": 53,
     "metadata": {},
     "output_type": "execute_result"
    }
   ],
   "source": [
    "Rb_t"
   ]
  },
  {
   "cell_type": "code",
   "execution_count": 54,
   "metadata": {},
   "outputs": [],
   "source": [
    "diag_DR = 1.5*np.array([1, 1, 1]) # [N m/rad]  p.4721 in [3]"
   ]
  },
  {
   "cell_type": "code",
   "execution_count": 55,
   "metadata": {},
   "outputs": [],
   "source": [
    "DR=np.diag(diag_DR) "
   ]
  },
  {
   "cell_type": "code",
   "execution_count": 56,
   "metadata": {},
   "outputs": [],
   "source": [
    "dI= 0.69# Inner diameter of pipe, [m]"
   ]
  },
  {
   "cell_type": "code",
   "execution_count": 57,
   "metadata": {},
   "outputs": [],
   "source": [
    "Ar=math.pi*((d0/2)**2-(dI/2)**2)"
   ]
  },
  {
   "cell_type": "code",
   "execution_count": 58,
   "metadata": {},
   "outputs": [
    {
     "data": {
      "text/plain": [
       "0.08091250419136858"
      ]
     },
     "execution_count": 58,
     "metadata": {},
     "output_type": "execute_result"
    }
   ],
   "source": [
    "Ar"
   ]
  },
  {
   "cell_type": "code",
   "execution_count": 59,
   "metadata": {},
   "outputs": [],
   "source": [
    "fg_e=np.array([[0,0,(mp-qw*Ar)*9.81] for x in range(node_N)])"
   ]
  },
  {
   "cell_type": "code",
   "execution_count": 60,
   "metadata": {},
   "outputs": [
    {
     "data": {
      "text/plain": [
       "array([[  0.        ,   0.        , 128.16454223],\n",
       "       [  0.        ,   0.        , 128.16454223],\n",
       "       [  0.        ,   0.        , 128.16454223],\n",
       "       [  0.        ,   0.        , 128.16454223]])"
      ]
     },
     "execution_count": 60,
     "metadata": {},
     "output_type": "execute_result"
    }
   ],
   "source": [
    "fg_e"
   ]
  },
  {
   "cell_type": "code",
   "execution_count": 61,
   "metadata": {},
   "outputs": [],
   "source": [
    "# # not checked \n",
    "# def k_sigma(hi,d0,fg_e):\n",
    "#     ans=[]\n",
    "#     for it in hi:\n",
    "#         if it<0:\n",
    "#             ans.append(0)\n",
    "#         elif 0<=it<=d0/20:\n",
    "#             ans.append(np.float32(LA.norm(fg_e,2)/(d0/8-d0/40)*10*it**2/d0))\n",
    "#         else:\n",
    "#             ans.append(np.float32(LA.norm(fg_e,2)/(d0/8-d0/40)*(it-d0/40)))     \n",
    "#     return np.array(ans).reshape(node_N,1)   "
   ]
  },
  {
   "cell_type": "code",
   "execution_count": 62,
   "metadata": {},
   "outputs": [],
   "source": [
    "x,y,z=100*rng.standard_normal(node_N),100*rng.standard_normal(node_N),100*rng.standard_normal(node_N)"
   ]
  },
  {
   "cell_type": "code",
   "execution_count": 63,
   "metadata": {},
   "outputs": [],
   "source": [
    "# # not checked\n",
    "# def hi(x,y,z,d0):\n",
    "#     return (np.dot(np.array([x,y,z]).T,[0,0,1])+d0/2).reshape(node_N,1) "
   ]
  },
  {
   "cell_type": "code",
   "execution_count": 64,
   "metadata": {},
   "outputs": [],
   "source": [
    "# startTime1 = datetime.now()\n",
    "# hi(x,y,z,d0)\n",
    "# print(datetime.now() - startTime1)"
   ]
  },
  {
   "cell_type": "code",
   "execution_count": 65,
   "metadata": {},
   "outputs": [],
   "source": [
    "# k_sigma(hi(x,y,z,d0),d0,fg_e)"
   ]
  },
  {
   "cell_type": "code",
   "execution_count": 66,
   "metadata": {},
   "outputs": [],
   "source": [
    "# startTime1 = datetime.now()\n",
    "# k_sigma(hi(x,y,z,d0),d0,fg_e)\n",
    "# print(datetime.now() - startTime1)"
   ]
  },
  {
   "cell_type": "code",
   "execution_count": 67,
   "metadata": {},
   "outputs": [],
   "source": [
    "# # TODO: force shoud be acting only at nodes that are in contact with the seabed\n",
    "# # not checked\n",
    "# def sigma(x,y,z):\n",
    "#     return (k_sigma(hi(x,y,z,d0),d0,fg_e)*np.array([0,0,1]))"
   ]
  },
  {
   "cell_type": "code",
   "execution_count": 68,
   "metadata": {},
   "outputs": [],
   "source": [
    "# startTime1 = datetime.now()\n",
    "# sigma(x,y,z)\n",
    "# print(datetime.now() - startTime1)"
   ]
  },
  {
   "cell_type": "code",
   "execution_count": 69,
   "metadata": {},
   "outputs": [],
   "source": [
    "def Re_b(Ret):\n",
    "#     return np.dot(Ret, Rb_t ) # (5) in[3]\n",
    "    return Ret"
   ]
  },
  {
   "cell_type": "code",
   "execution_count": 70,
   "metadata": {},
   "outputs": [
    {
     "name": "stdout",
     "output_type": "stream",
     "text": [
      "0:00:00.000111\n"
     ]
    }
   ],
   "source": [
    "startTime1 = datetime.now()\n",
    "Re_b(Ret)\n",
    "print(datetime.now() - startTime1)"
   ]
  },
  {
   "cell_type": "code",
   "execution_count": 71,
   "metadata": {},
   "outputs": [],
   "source": [
    "def phi(x, y, z, Ret,dummy):\n",
    "    B=np.vstack([x,y,z])\n",
    "    return np.einsum('ijk,ik->ij', Ret,B.T.astype(np.float32))"
   ]
  },
  {
   "cell_type": "code",
   "execution_count": 72,
   "metadata": {},
   "outputs": [
    {
     "data": {
      "text/plain": [
       "array([[ -35.48100811,  -85.15244561,   45.73639682],\n",
       "       [  69.41143943, -167.00459121,   74.0177282 ],\n",
       "       [  67.91887024, -130.96174778, -212.82096626],\n",
       "       [ -22.01436871,  -22.29567457,  -88.45195055]])"
      ]
     },
     "execution_count": 72,
     "metadata": {},
     "output_type": "execute_result"
    }
   ],
   "source": [
    "phi(x,y,z,Ret,None)"
   ]
  },
  {
   "cell_type": "code",
   "execution_count": 73,
   "metadata": {},
   "outputs": [],
   "source": [
    "# def d_s(da,db,dc,x,y,z):\n",
    "\n",
    "#     ds=np.sqrt(np.diff(x,prepend=x[0])**2+np.diff(y,prepend=y[0])**2\n",
    "#                  +np.diff(z,prepend=z[0])**2)\n",
    "#     ds[ds == 0] = 1\n",
    "#     return np.vstack([np.diff(da,prepend=da[0])/ds,np.diff(db,prepend=db[0])/ds,np.diff(dc,prepend=dc[0])/ds])"
   ]
  },
  {
   "cell_type": "code",
   "execution_count": 74,
   "metadata": {},
   "outputs": [
    {
     "name": "stdout",
     "output_type": "stream",
     "text": [
      "0:00:00.000167\n"
     ]
    }
   ],
   "source": [
    "startTime1 = datetime.now()\n",
    "phi(x,y,z,Ret,None)\n",
    "print(datetime.now() - startTime1)"
   ]
  },
  {
   "cell_type": "code",
   "execution_count": 75,
   "metadata": {},
   "outputs": [],
   "source": [
    "def Π_(arr):\n",
    "    φ,θ,ψ=arr[0],arr[1],arr[2]\n",
    "    return np.array([[np.cos(θ),0,np.cos(φ)*np.sin(θ)],\n",
    "                  [0,1,-np.sin(φ)],\n",
    "                  [-np.sin(θ),0,np.cos(φ)*np.cos(θ)]])"
   ]
  },
  {
   "cell_type": "code",
   "execution_count": 76,
   "metadata": {},
   "outputs": [],
   "source": [
    "def Π(a,b,c):\n",
    "    xyz=np.stack((a,b,c), axis=1)\n",
    "  \n",
    "    return np.apply_along_axis(Π_, 1, xyz)\n",
    "    "
   ]
  },
  {
   "cell_type": "code",
   "execution_count": 77,
   "metadata": {},
   "outputs": [
    {
     "name": "stdout",
     "output_type": "stream",
     "text": [
      "0:00:00.000336\n"
     ]
    }
   ],
   "source": [
    "startTime1 = datetime.now()\n",
    "Π(φ,θ,ψ).shape\n",
    "print(datetime.now() - startTime1)"
   ]
  },
  {
   "cell_type": "code",
   "execution_count": 78,
   "metadata": {},
   "outputs": [],
   "source": [
    "def ωe(φ,θ,ψ, dummy,dummy1):  # (100) in [2]\n",
    "    A=Π(φ,θ,ψ)\n",
    "    B=np.vstack([φ,θ,ψ])\n",
    "    return np.einsum('ijk,ik->ij',A,B.T.astype(np.float32))"
   ]
  },
  {
   "cell_type": "code",
   "execution_count": 79,
   "metadata": {},
   "outputs": [
    {
     "name": "stdout",
     "output_type": "stream",
     "text": [
      "0:00:00.000394\n"
     ]
    }
   ],
   "source": [
    "startTime1 = datetime.now()\n",
    "ωe(φ,θ,ψ,None,None)\n",
    "print(datetime.now() - startTime1)"
   ]
  },
  {
   "cell_type": "code",
   "execution_count": 80,
   "metadata": {},
   "outputs": [
    {
     "data": {
      "text/plain": [
       "array([[-0.21143486,  0.08397705,  0.39767809],\n",
       "       [ 0.11614362, -0.48349109, -0.0434511 ],\n",
       "       [-0.27360173, -0.73330156, -0.29580758],\n",
       "       [-0.03121842,  0.701385  ,  0.12949233]])"
      ]
     },
     "execution_count": 80,
     "metadata": {},
     "output_type": "execute_result"
    }
   ],
   "source": [
    "ωe(φ,θ,ψ,None,None)"
   ]
  },
  {
   "cell_type": "code",
   "execution_count": 81,
   "metadata": {},
   "outputs": [],
   "source": [
    "def d_s(f,a,b,c,Ret,omega):\n",
    "\n",
    "    fun = f(a,b,c,Ret,omega)    \n",
    "    \n",
    "    def S(arr):\n",
    "        a1,a2,a3=arr[0],arr[1],arr[2]\n",
    "        return np.array([[0, -a3, a2 ],\n",
    "                         [a3, 0, -a1],\n",
    "                        [-a2, a1, 0]])\n",
    "    \n",
    "    K=np.apply_along_axis(S, 1, omega)\n",
    "#     print('fun',fun)\n",
    "#     print('K',K)\n",
    "#     print('ans',np.einsum('ijk,ik->ij',K,fun).T)\n",
    "\n",
    "    return np.einsum('ijk,ik->ij',K,fun.astype(np.float32)).T\n",
    "\n"
   ]
  },
  {
   "cell_type": "code",
   "execution_count": 82,
   "metadata": {},
   "outputs": [
    {
     "data": {
      "text/plain": [
       "array([[ 37.7040688 , -43.04344609, 117.3224716 , -59.15175221],\n",
       "       [ -4.43975039, -11.61269026, -78.31910103,  -5.61202178],\n",
       "       [ 20.98378514,  14.16329397,  85.63637282,  16.13658329]])"
      ]
     },
     "execution_count": 82,
     "metadata": {},
     "output_type": "execute_result"
    }
   ],
   "source": [
    "d_s(phi,x,y,z,Ret,ωe(φ,θ,ψ,None,None))"
   ]
  },
  {
   "cell_type": "code",
   "execution_count": 83,
   "metadata": {},
   "outputs": [],
   "source": [
    "# def d_s(f,a,b,c,Ret):\n",
    "# #     ds=np.sqrt(np.diff(a,prepend=a[0])**2+np.diff(b,prepend=b[0])**2\n",
    "# #                  +np.diff(c,prepend=c[0])**2)\n",
    "#     ds=np.sqrt(np.diff(a)**2+np.diff(b)**2+np.diff(c)**2)\n",
    "#     ds[ds == 0] = 1\n",
    "#     fun = f(a,b,c,Ret)\n",
    "#     ans=(np.diff(fun,axis=0) / ds.reshape(node_N-1,1)).T\n",
    "#     return np.insert(ans, -1, 0.8*ans[:,-1], axis=1)"
   ]
  },
  {
   "cell_type": "code",
   "execution_count": 84,
   "metadata": {},
   "outputs": [],
   "source": [
    "# def d_s(f,a,c,Ret):\n",
    "# #     ds=np.sqrt(np.diff(a,prepend=a[0])**2+np.diff(c,prepend=c[0])**2)\n",
    "#     ds=np.sqrt(np.diff(a)**2+np.diff(c)**2)\n",
    "# #     ds[ds == 0] = 1\n",
    "#     fun = f(a,c,Ret)\n",
    "# #     ans=(np.diff(fun,prepend=fun[0].reshape(1,2),axis=0) / ds.reshape(node_N,1)).T\n",
    "#     ans=(np.diff(fun,axis=0) / ds.reshape(node_N-1,1)).T\n",
    "#     np.insert(ans, -1, ans[:,-1], axis=1)\n",
    "#     return np.insert(ans, -1, 1.1*ans[:,-1], axis=1)"
   ]
  },
  {
   "cell_type": "code",
   "execution_count": 85,
   "metadata": {},
   "outputs": [],
   "source": [
    "# d_s(phi,x,y,z,Ret)"
   ]
  },
  {
   "cell_type": "code",
   "execution_count": 86,
   "metadata": {},
   "outputs": [
    {
     "name": "stdout",
     "output_type": "stream",
     "text": [
      "0:00:00.000762\n"
     ]
    }
   ],
   "source": [
    "startTime1 = datetime.now()\n",
    "d_s(phi,x,y,z,Ret,ωe(φ,θ,ψ,None,None))\n",
    "print(datetime.now() - startTime1)"
   ]
  },
  {
   "cell_type": "code",
   "execution_count": 87,
   "metadata": {},
   "outputs": [],
   "source": [
    "def ne(x,y,z,Ret,omega):\n",
    "    A=np.multiply(np.multiply(Ret,CT),Ret)\n",
    "    B=d_s(phi,x,y,z,Ret,omega).T\n",
    "    return np.einsum('ijk,ik->ij', A.astype(np.float32),B-\n",
    "                     np.einsum('ijk,kp->ijp',Ret.astype(np.float32), np.array([1,0,0]).reshape(3,1)).squeeze())"
   ]
  },
  {
   "cell_type": "code",
   "execution_count": 88,
   "metadata": {},
   "outputs": [],
   "source": [
    "def ne_(dx,dy,dz,DT,Ret):\n",
    "    return -fg_e.T-fD(dx,dy,dz,DT,Ret) #-sigma(x,y,z).T"
   ]
  },
  {
   "cell_type": "code",
   "execution_count": 89,
   "metadata": {},
   "outputs": [],
   "source": [
    "# sigma(x,y,z)"
   ]
  },
  {
   "cell_type": "code",
   "execution_count": 90,
   "metadata": {},
   "outputs": [
    {
     "data": {
      "text/plain": [
       "array([[  -296.14807498,  20673.98207947,  -7814.41605716,\n",
       "          2612.658349  ],\n",
       "       [   461.34808801, -15300.06838194,  -2903.11938374,\n",
       "          1453.75707386],\n",
       "       [   270.4107599 ,   1939.62497472,  -1847.45793073,\n",
       "        -10122.12211819]])"
      ]
     },
     "execution_count": 90,
     "metadata": {},
     "output_type": "execute_result"
    }
   ],
   "source": [
    "ne_(dx,dy,dz,DT,Ret)"
   ]
  },
  {
   "cell_type": "code",
   "execution_count": 91,
   "metadata": {},
   "outputs": [],
   "source": [
    "# mp*ddp = d_s(ne,ds)+np.dot(Re_b,ne_)"
   ]
  },
  {
   "cell_type": "code",
   "execution_count": 92,
   "metadata": {},
   "outputs": [
    {
     "name": "stdout",
     "output_type": "stream",
     "text": [
      "0:00:00.000699\n"
     ]
    }
   ],
   "source": [
    "startTime1 = datetime.now()\n",
    "ne(x,y,z,Ret,ωe(φ,θ,ψ,None,None))\n",
    "print(datetime.now() - startTime1)"
   ]
  },
  {
   "cell_type": "code",
   "execution_count": 93,
   "metadata": {},
   "outputs": [
    {
     "data": {
      "text/plain": [
       "array([[ 3.10223770e+10, -3.89141465e+09,  2.01419821e+10],\n",
       "       [-3.38548011e+10, -1.12233469e+10,  1.05836163e+10],\n",
       "       [ 6.63550595e+10, -6.82198381e+10,  4.11316200e+10],\n",
       "       [-3.52459126e+10, -5.58524248e+09,  9.82035416e+09]])"
      ]
     },
     "execution_count": 93,
     "metadata": {},
     "output_type": "execute_result"
    }
   ],
   "source": [
    "ne(x,y,z,Ret,ωe(φ,θ,ψ,None,None))"
   ]
  },
  {
   "cell_type": "code",
   "execution_count": 94,
   "metadata": {},
   "outputs": [
    {
     "name": "stdout",
     "output_type": "stream",
     "text": [
      "0:00:00.000519\n"
     ]
    }
   ],
   "source": [
    "startTime1 = datetime.now()\n",
    "ne_(dx,dy,dz,DT,Ret)\n",
    "print(datetime.now() - startTime1)"
   ]
  },
  {
   "cell_type": "code",
   "execution_count": 95,
   "metadata": {},
   "outputs": [
    {
     "data": {
      "text/plain": [
       "(4, 3, 3)"
      ]
     },
     "execution_count": 95,
     "metadata": {},
     "output_type": "execute_result"
    }
   ],
   "source": [
    "Re_b(Ret).shape"
   ]
  },
  {
   "cell_type": "code",
   "execution_count": 96,
   "metadata": {},
   "outputs": [],
   "source": [
    "def Irho_e(Ret):\n",
    "    ans= np.multiply(np.multiply(Ret,Irho),Ret) # (19) in [3] \n",
    "    return ans\n",
    "#     tmp=[1 for i in range(node_N)]\n",
    "#     tmp[-1]=1e13\n",
    "#     print(ans)\n",
    "#     return ans*np.array(tmp).reshape(node_N,1)\n",
    "#     return np.einsum(\"ijk,ip->ijk\", ans, np.array(tmp).reshape(node_N,1))"
   ]
  },
  {
   "cell_type": "code",
   "execution_count": 97,
   "metadata": {},
   "outputs": [
    {
     "data": {
      "text/plain": [
       "array([[[8.16250887e+11, 1.51642328e+11, 1.47251155e+06],\n",
       "        [1.45172094e+11, 7.80288849e+11, 4.24337443e+10],\n",
       "        [6.47170683e+09, 3.59635100e+10, 9.25459471e+11]],\n",
       "\n",
       "       [[7.46057289e+11, 6.54698843e+09, 2.15290410e+11],\n",
       "        [1.67069633e+10, 9.46148056e+11, 5.03966842e+09],\n",
       "        [2.05130435e+11, 1.51996433e+10, 7.47564609e+11]],\n",
       "\n",
       "       [[5.50963488e+11, 1.26779869e+09, 4.15663401e+11],\n",
       "        [4.31285222e+10, 8.40818272e+11, 8.39478933e+10],\n",
       "        [3.73802677e+11, 1.25808617e+11, 4.68283394e+11]],\n",
       "\n",
       "       [[5.69343525e+11, 3.67332133e+09, 3.94877842e+11],\n",
       "        [1.34437160e+08, 9.61257467e+11, 6.50278340e+09],\n",
       "        [3.98416726e+11, 2.96389923e+09, 5.66514063e+11]]])"
      ]
     },
     "execution_count": 97,
     "metadata": {},
     "output_type": "execute_result"
    }
   ],
   "source": [
    "Irho_e(Ret)"
   ]
  },
  {
   "cell_type": "code",
   "execution_count": 98,
   "metadata": {},
   "outputs": [
    {
     "name": "stdout",
     "output_type": "stream",
     "text": [
      "0:00:00.000331\n"
     ]
    }
   ],
   "source": [
    "startTime1 = datetime.now()\n",
    "Irho_e(Ret)\n",
    "print(datetime.now() - startTime1)"
   ]
  },
  {
   "cell_type": "code",
   "execution_count": 99,
   "metadata": {},
   "outputs": [],
   "source": [
    "# def Π_(arr):\n",
    "#     φ,θ,ψ=arr[0],arr[1],arr[2]\n",
    "#     return np.array([[np.cos(θ),0,np.cos(φ)*np.sin(θ)],\n",
    "#                   [0,1,-np.sin(φ)],\n",
    "#                   [-np.sin(θ),0,np.cos(φ)*np.cos(θ)]])"
   ]
  },
  {
   "cell_type": "code",
   "execution_count": 100,
   "metadata": {},
   "outputs": [],
   "source": [
    "# def Π(a,b,c):\n",
    "#     xyz=np.stack((a,b,c), axis=1)\n",
    "  \n",
    "#     return np.apply_along_axis(Π_, 1, xyz)\n",
    "    "
   ]
  },
  {
   "cell_type": "code",
   "execution_count": 101,
   "metadata": {},
   "outputs": [],
   "source": [
    "# startTime1 = datetime.now()\n",
    "# Π(φ,θ,ψ).shape\n",
    "# print(datetime.now() - startTime1)"
   ]
  },
  {
   "cell_type": "code",
   "execution_count": 102,
   "metadata": {},
   "outputs": [],
   "source": [
    "# def ωe(φ,θ,ψ, dummy):  # (100) in [2]\n",
    "#     A=Π(φ,θ,ψ)\n",
    "#     B=np.vstack([φ,θ,ψ])\n",
    "#     return np.einsum('ijk,ik->ij',A,B.T)"
   ]
  },
  {
   "cell_type": "code",
   "execution_count": 103,
   "metadata": {},
   "outputs": [],
   "source": [
    "# startTime1 = datetime.now()\n",
    "# ωe(φ,θ,ψ,None)\n",
    "# print(datetime.now() - startTime1)"
   ]
  },
  {
   "cell_type": "code",
   "execution_count": 104,
   "metadata": {},
   "outputs": [],
   "source": [
    "# ωe(φ,θ,ψ,None)"
   ]
  },
  {
   "cell_type": "code",
   "execution_count": 105,
   "metadata": {},
   "outputs": [],
   "source": [
    "diag_CR = 1e11*np.array([1, 1, 1]) \n",
    "CR=np.diag(diag_CR)"
   ]
  },
  {
   "cell_type": "code",
   "execution_count": 106,
   "metadata": {},
   "outputs": [
    {
     "data": {
      "text/plain": [
       "array([[1.e+11, 0.e+00, 0.e+00],\n",
       "       [0.e+00, 1.e+11, 0.e+00],\n",
       "       [0.e+00, 0.e+00, 1.e+11]])"
      ]
     },
     "execution_count": 106,
     "metadata": {},
     "output_type": "execute_result"
    }
   ],
   "source": [
    "CR"
   ]
  },
  {
   "cell_type": "code",
   "execution_count": 107,
   "metadata": {},
   "outputs": [],
   "source": [
    "def d_me(φ,θ,ψ,Ret,fun,omega):\n",
    "    A=np.multiply(np.multiply(Ret,CR),Ret)\n",
    "    B=d_s(fun,φ,θ,ψ,None,omega.astype(np.float32))\n",
    " \n",
    "    return np.einsum('ijk,ik->ij', A,B.T.astype(np.float32)) "
   ]
  },
  {
   "cell_type": "code",
   "execution_count": 108,
   "metadata": {},
   "outputs": [
    {
     "name": "stdout",
     "output_type": "stream",
     "text": [
      "0:00:00.000995\n"
     ]
    }
   ],
   "source": [
    "startTime1 = datetime.now()\n",
    "d_me_=d_me(φ,θ,ψ,Ret,ωe, ωe(φ,θ,ψ,None,None))\n",
    "print(datetime.now() - startTime1)"
   ]
  },
  {
   "cell_type": "code",
   "execution_count": 109,
   "metadata": {},
   "outputs": [
    {
     "data": {
      "text/plain": [
       "array([[0., 0., 0.],\n",
       "       [0., 0., 0.],\n",
       "       [0., 0., 0.],\n",
       "       [0., 0., 0.]])"
      ]
     },
     "execution_count": 109,
     "metadata": {},
     "output_type": "execute_result"
    }
   ],
   "source": [
    "d_me_"
   ]
  },
  {
   "cell_type": "code",
   "execution_count": 110,
   "metadata": {},
   "outputs": [],
   "source": [
    "diag_DR = 1.5*np.array([1, 1, 1]) \n",
    " \n",
    "DR=np.diag(diag_DR)"
   ]
  },
  {
   "cell_type": "code",
   "execution_count": 111,
   "metadata": {},
   "outputs": [],
   "source": [
    "# np.dot(Re_b, np.dot( Irho_e, (np.dot(Π(φ,θ,ψ), np.array([ddφ,ddθ,ddψ])))))=\n",
    "# -np.dot(Re_b,np.dot(Irho_e,np.dot(Π(dφ,dθ,dψ),np.array([dφ,dθ,dψ])))-\n",
    "# np.cross(np.dot(Π(φ,θ,ψ),np.array([dφ,dθ,dψ])),np.dot(Irho_e, np.dot(Π(φ,θ,ψ),np.array([dφ,dθ,dψ]))))+\n",
    "# np.dot(Re_b,d_s(me_[0],me_[1],me_[2],dt,ds)+d_s(me_[0],me_[1],me_[2],dt,ds))+\n",
    "# np.cross(d_s(x,y,z,dt,ds),ne(x,y,z,φ,θ,ψ,dt,ds))+\n",
    "# np.dot(Re_b,-np.dot(DR,np.dot(Π(φ,θ,ψ),np.array([dφ,dθ,dψ]))))"
   ]
  },
  {
   "cell_type": "code",
   "execution_count": 112,
   "metadata": {},
   "outputs": [
    {
     "data": {
      "text/plain": [
       "array([[  -296.14807498,  20673.98207947,  -7814.41605716,\n",
       "          2612.658349  ],\n",
       "       [   461.34808801, -15300.06838194,  -2903.11938374,\n",
       "          1453.75707386],\n",
       "       [   270.4107599 ,   1939.62497472,  -1847.45793073,\n",
       "        -10122.12211819]])"
      ]
     },
     "execution_count": 112,
     "metadata": {},
     "output_type": "execute_result"
    }
   ],
   "source": [
    "ne_(dx,dy,dz,DT,Ret)"
   ]
  },
  {
   "cell_type": "code",
   "execution_count": 113,
   "metadata": {},
   "outputs": [],
   "source": [
    "C=ne(x,y,z,Ret,ωe(φ,θ,ψ,None,None))\n",
    "  \n",
    "a,b,c=C[:,0],C[:,1],C[:,2]"
   ]
  },
  {
   "cell_type": "code",
   "execution_count": 114,
   "metadata": {},
   "outputs": [
    {
     "data": {
      "text/plain": [
       "(4, 3, 3)"
      ]
     },
     "execution_count": 114,
     "metadata": {},
     "output_type": "execute_result"
    }
   ],
   "source": [
    "Re_b(Ret).shape"
   ]
  },
  {
   "cell_type": "code",
   "execution_count": 115,
   "metadata": {},
   "outputs": [
    {
     "data": {
      "text/plain": [
       "array([[  -296.14807498,    461.34808801,    270.4107599 ],\n",
       "       [ 20673.98207947, -15300.06838194,   1939.62497472],\n",
       "       [ -7814.41605716,  -2903.11938374,  -1847.45793073],\n",
       "       [  2612.658349  ,   1453.75707386, -10122.12211819]])"
      ]
     },
     "execution_count": 115,
     "metadata": {},
     "output_type": "execute_result"
    }
   ],
   "source": [
    "ne_(dx,dy,dz,DT, Ret).T"
   ]
  },
  {
   "cell_type": "code",
   "execution_count": 116,
   "metadata": {},
   "outputs": [
    {
     "data": {
      "text/plain": [
       "(numpy.ndarray,\n",
       " array([ -71.22796403, -150.13357099,  -42.87587505,  -15.96821597]),\n",
       " array([  26.9368343 ,   44.36431849, -231.10937878,  -83.55912736]),\n",
       " array([-0.06001291, -1.7272754 ,  0.86648678, -1.33627515]),\n",
       " numpy.ndarray,\n",
       " array([-0.28971179,  1.4259937 , -0.98655871, -0.31557264]))"
      ]
     },
     "execution_count": 116,
     "metadata": {},
     "output_type": "execute_result"
    }
   ],
   "source": [
    "type(x),y,z,dx,type(dy),dz"
   ]
  },
  {
   "cell_type": "code",
   "execution_count": 117,
   "metadata": {},
   "outputs": [
    {
     "data": {
      "text/plain": [
       "array([[  -751.05278543,    817.50544242,    470.11394032],\n",
       "       [ 36651.67425974, -33283.42166012,  11244.47014198],\n",
       "       [-12604.61526777,  -7802.58870194,  -6942.11124471],\n",
       "       [ -1938.39699945,   2103.63902302, -19622.76934266]])"
      ]
     },
     "execution_count": 117,
     "metadata": {},
     "output_type": "execute_result"
    }
   ],
   "source": [
    "ne_(dx,dy,dz,DT,Ret).T+np.einsum('ijk,ik->ij', Re_b(Ret),ne_(dx,dy,dz,DT,Ret).T.astype(np.float32))"
   ]
  },
  {
   "cell_type": "code",
   "execution_count": 118,
   "metadata": {},
   "outputs": [
    {
     "data": {
      "text/plain": [
       "array([[  -296.14807498,    461.34808801,    270.4107599 ],\n",
       "       [ 20673.98207947, -15300.06838194,   1939.62497472],\n",
       "       [ -7814.41605716,  -2903.11938374,  -1847.45793073],\n",
       "       [  2612.658349  ,   1453.75707386, -10122.12211819]])"
      ]
     },
     "execution_count": 118,
     "metadata": {},
     "output_type": "execute_result"
    }
   ],
   "source": [
    "ne_(dx,dy,dz,DT,Ret).T"
   ]
  },
  {
   "cell_type": "markdown",
   "metadata": {},
   "source": [
    "### Vessel"
   ]
  },
  {
   "cell_type": "code",
   "execution_count": 119,
   "metadata": {},
   "outputs": [],
   "source": [
    "class VesselSemisub: # Semisub model from Fossen\n",
    "    \n",
    "    def __init__(self):\n",
    "        \n",
    "        MRB = 1.0e10 * np.array(\n",
    "            [\n",
    "                [0.0027, 0, 0, 0, -0.0530, 0],\n",
    "                [0, 0.0027, 0, 0.0530, 0, -0.0014],\n",
    "                [0, 0, 0.0027, 0, 0.0014, 0],\n",
    "                [0, 0.0530, 0, 3.4775, 0, -0.0265],\n",
    "                [-0.0530, 0, 0.0014, 0, 3.8150, 0],\n",
    "                [0, -0.0014, 0, -0.0265, 0, 3.7192],\n",
    "            ],\n",
    "            float,\n",
    "        )\n",
    "\n",
    "        MA = 1.0e10 * np.array(\n",
    "            [\n",
    "                [0.0017, 0, 0, 0, -0.0255, 0],\n",
    "                [0, 0.0042, 0, 0.0365, 0, 0],\n",
    "                [0, 0, 0.0021, 0, 0, 0],\n",
    "                [0, 0.0365, 0, 1.3416, 0, 0],\n",
    "                [-0.0255, 0, 0, 0, 2.2267, 0],\n",
    "                [0, 0, 0, 0, 0, 3.2049],\n",
    "            ],\n",
    "            float,\n",
    "        )\n",
    "\n",
    "        self.D = 1.0e09 * np.array(\n",
    "            [\n",
    "                [0.0004, 0, 0, 0, -0.0085, 0],\n",
    "                [0, 0.0003, 0, 0.0067, 0, -0.0002],\n",
    "                [0, 0, 0.0034, 0, 0.0017, 0],\n",
    "                [0, 0.0067, 0, 4.8841, 0, -0.0034],\n",
    "                [-0.0085, 0, 0.0017, 0, 7.1383, 0],\n",
    "                [0, -0.0002, 0, -0.0034, 0, 0.8656],\n",
    "            ],\n",
    "            float,\n",
    "        )\n",
    "\n",
    "        self.G = 1.0e10 * np.diag([0.0, 0.0, 0.0006, 1.4296, 2.6212, 0.0])\n",
    "        self.M = MRB + MA\n",
    "\n",
    "    def eq_left(self,η, dη):\n",
    "        return (np.matmul(self.D, dη) + np.dot(self.G,η))\n",
    "        \n",
    "    def tau(self,η, dη, ddη):\n",
    "        return (np.matmul(self.M,ddη) + np.matmul(self.D, dη) + np.dot(self.G,η))"
   ]
  },
  {
   "cell_type": "code",
   "execution_count": 120,
   "metadata": {},
   "outputs": [],
   "source": [
    "V=VesselSemisub()"
   ]
  },
  {
   "cell_type": "code",
   "execution_count": 121,
   "metadata": {},
   "outputs": [],
   "source": [
    "η=np.array([0.1,0.3,0.4,0.5,0.6,0.7])\n",
    "dη=np.array([0,0,0,0,0,0])\n",
    "ddη=np.array([0,0,0,0,0,0])"
   ]
  },
  {
   "cell_type": "code",
   "execution_count": 122,
   "metadata": {},
   "outputs": [],
   "source": [
    "tau_force = V.tau(η,dη, ddη)"
   ]
  },
  {
   "cell_type": "code",
   "execution_count": 123,
   "metadata": {},
   "outputs": [
    {
     "data": {
      "text/plain": [
       "array([0.00000e+00, 0.00000e+00, 2.40000e+06, 7.14800e+09, 1.57272e+10,\n",
       "       0.00000e+00])"
      ]
     },
     "execution_count": 123,
     "metadata": {},
     "output_type": "execute_result"
    }
   ],
   "source": [
    "tau_force"
   ]
  },
  {
   "cell_type": "code",
   "execution_count": 124,
   "metadata": {},
   "outputs": [],
   "source": [
    "class VesselOtter: \n",
    "    \n",
    "    def __init__(\n",
    "        self, \n",
    "        controlSystem=\"stepInput\", \n",
    "        r = 0, \n",
    "        V_current = 0, \n",
    "        beta_current = 0,\n",
    "        tau_X = 120\n",
    "    ):\n",
    "        \n",
    "        # Constants\n",
    "        D2R = math.pi / 180     # deg2rad\n",
    "        self.g = 9.81           # acceleration of gravity (m/s^2)\n",
    "        rho = 1026              # density of water (kg/m^3)\n",
    "\n",
    "        if controlSystem == \"headingAutopilot\":\n",
    "            self.controlDescription = (\n",
    "                \"Heading autopilot, psi_d = \"\n",
    "                + str(r)\n",
    "                + \" deg\"\n",
    "                )\n",
    "        else:\n",
    "            self.controlDescription = \"Step inputs for n1 and n2\"\n",
    "            controlSystem = \"stepInput\"\n",
    "\n",
    "        self.ref = r\n",
    "        self.V_c = V_current\n",
    "        self.beta_c = beta_current * D2R\n",
    "        self.controlMode = controlSystem\n",
    "        self.tauX = tau_X  # surge force (N)\n",
    "\n",
    "        # Initialize the Otter USV model\n",
    "        self.T_n = 1.0  # propeller time constants (s)\n",
    "        self.L = 2.0    # Length (m)\n",
    "        self.B = 1.08   # beam (m)\n",
    "        self.nu = np.array([0, 0, 0, 0, 0, 0], float)  # velocity vector\n",
    "        self.u_actual = np.array([0, 0], float)  # propeller revolution states\n",
    "        self.name = \"Otter USV (see 'otter.py' for more details)\"\n",
    "\n",
    "        self.controls = [\n",
    "            \"Left propeller shaft speed (rad/s)\",\n",
    "            \"Right propeller shaft speed (rad/s)\"\n",
    "        ]\n",
    "        self.dimU = len(self.controls)\n",
    "\n",
    "        # Vehicle parameters\n",
    "        m = 55.0                                 # mass (kg)\n",
    "        self.mp = 25.0                           # Payload (kg)\n",
    "        self.m_total = m + self.mp\n",
    "        self.rp = np.array([0.05, 0, -0.35], float) # location of payload (m)\n",
    "        rg = np.array([0.2, 0, -0.2], float)     # CG for hull only (m)\n",
    "        rg = (m * rg + self.mp * self.rp) / (m + self.mp)  # CG corrected for payload\n",
    "        self.S_rg = Smtrx(rg)\n",
    "        self.H_rg = Hmtrx(rg)\n",
    "        self.S_rp = Smtrx(self.rp)\n",
    "\n",
    "        R44 = 0.4 * self.B  # radii of gyration (m)\n",
    "        R55 = 0.25 * self.L\n",
    "        R66 = 0.25 * self.L\n",
    "        T_yaw = 1.0         # time constant in yaw (s)\n",
    "        Umax = 6 * 0.5144   # max forward speed (m/s)\n",
    "\n",
    "        # Data for one pontoon\n",
    "        self.B_pont = 0.25  # beam of one pontoon (m)\n",
    "        y_pont = 0.395      # distance from centerline to waterline centroid (m)\n",
    "        Cw_pont = 0.75      # waterline area coefficient (-)\n",
    "        Cb_pont = 0.4       # block coefficient, computed from m = 55 kg\n",
    "\n",
    "        # Inertia dyadic, volume displacement and draft\n",
    "        nabla = (m + self.mp) / rho  # volume\n",
    "        self.T = nabla / (2 * Cb_pont * self.B_pont * self.L)  # draft\n",
    "        Ig_CG = m * np.diag(np.array([R44 ** 2, R55 ** 2, R66 ** 2]))\n",
    "        self.Ig = Ig_CG - m * self.S_rg @ self.S_rg - self.mp * self.S_rp @ self.S_rp\n",
    "\n",
    "        # Experimental propeller data including lever arms\n",
    "        self.l1 = -y_pont  # lever arm, left propeller (m)\n",
    "        self.l2 = y_pont  # lever arm, right propeller (m)\n",
    "        self.k_pos = 0.02216 / 2  # Positive Bollard, one propeller\n",
    "        self.k_neg = 0.01289 / 2  # Negative Bollard, one propeller\n",
    "        self.n_max = math.sqrt((0.5 * 24.4 * self.g) / self.k_pos)  # max. prop. rev.\n",
    "        self.n_min = -math.sqrt((0.5 * 13.6 * self.g) / self.k_neg) # min. prop. rev.\n",
    "\n",
    "        # MRB_CG = [ (m+mp) * I3  O3      (Fossen 2021, Chapter 3)\n",
    "        #               O3       Ig ]\n",
    "        MRB_CG = np.zeros((6, 6))\n",
    "        MRB_CG[0:3, 0:3] = (m + self.mp) * np.identity(3)\n",
    "        MRB_CG[3:6, 3:6] = self.Ig\n",
    "        MRB = self.H_rg.T @ MRB_CG @ self.H_rg\n",
    "        \n",
    "\n",
    "        # Hydrodynamic added mass (best practice)\n",
    "        Xudot = -0.1 * m\n",
    "        Yvdot = -1.5 * m\n",
    "        Zwdot = -1.0 * m\n",
    "        Kpdot = -0.2 * self.Ig[0, 0]\n",
    "        Mqdot = -0.8 * self.Ig[1, 1]\n",
    "        Nrdot = -1.7 * self.Ig[2, 2]\n",
    "\n",
    "        self.MA = -np.diag([Xudot, Yvdot, Zwdot, Kpdot, Mqdot, Nrdot])\n",
    "\n",
    "        # System mass matrix\n",
    "        self.M = MRB + self.MA\n",
    "        self.Minv = np.linalg.inv(self.M.astype(np.float32))\n",
    "\n",
    "        # Hydrostatic quantities (Fossen 2021, Chapter 4)\n",
    "        Aw_pont = Cw_pont * self.L * self.B_pont  # waterline area, one pontoon\n",
    "        I_T = (\n",
    "            2\n",
    "            * (1 / 12)\n",
    "            * self.L\n",
    "            * self.B_pont ** 3\n",
    "            * (6 * Cw_pont ** 3 / ((1 + Cw_pont) * (1 + 2 * Cw_pont)))\n",
    "            + 2 * Aw_pont * y_pont ** 2\n",
    "        )\n",
    "        I_L = 0.8 * 2 * (1 / 12) * self.B_pont * self.L ** 3\n",
    "        KB = (1 / 3) * (5 * self.T / 2 - 0.5 * nabla / (self.L * self.B_pont))\n",
    "        BM_T = I_T / nabla  # BM values\n",
    "        BM_L = I_L / nabla\n",
    "        KM_T = KB + BM_T    # KM values\n",
    "        KM_L = KB + BM_L\n",
    "        KG = self.T - rg[2]\n",
    "        GM_T = KM_T - KG    # GM values\n",
    "        GM_L = KM_L - KG\n",
    "\n",
    "        G33 = rho * self.g * (2 * Aw_pont)  # spring stiffness\n",
    "        G44 = rho * self.g * nabla * GM_T\n",
    "        G55 = rho * self.g * nabla * GM_L\n",
    "        G_CF = np.diag([0, 0, G33, G44, G55, 0])  # spring stiff. matrix in CF\n",
    "        LCF = -0.2\n",
    "        H = Hmtrx(np.array([LCF, 0.0, 0.0]))  # transform G_CF from CF to CO\n",
    "        self.G = H.T @ G_CF @ H\n",
    "\n",
    "        # Natural frequencies\n",
    "        w3 = math.sqrt(G33 / self.M[2, 2])\n",
    "        w4 = math.sqrt(G44 / self.M[3, 3])\n",
    "        w5 = math.sqrt(G55 / self.M[4, 4])\n",
    "\n",
    "        # Linear damping terms (hydrodynamic derivatives)\n",
    "        Xu = -24.4 *self. g / Umax  # specified using the maximum speed\n",
    "        Yv = 0\n",
    "        Zw = -2 * 0.3 * w3 * self.M[2, 2]  # specified using relative damping\n",
    "        Kp = -2 * 0.2 * w4 * self.M[3, 3]\n",
    "        Mq = -2 * 0.4 * w5 * self.M[4, 4]\n",
    "        Nr = -self.M[5, 5] / T_yaw  # specified by the time constant T_yaw\n",
    "\n",
    "        self.D = -np.diag([Xu, Yv, Zw, Kp, Mq, Nr])\n",
    "\n",
    "        # Propeller configuration/input matrix\n",
    "        B = self.k_pos * np.array([[1, 1], [-self.l1, -self.l2]])\n",
    "        self.Binv = np.linalg.inv(B.astype(np.float32))\n",
    "\n",
    "        # Heading autopilot\n",
    "        self.e_int = 0  # integral state\n",
    "        self.wn = 1.2  # PID pole placement\n",
    "        self.zeta = 0.8\n",
    "\n",
    "        # Reference model\n",
    "        self.r_max = 10 * math.pi / 180  # maximum yaw rate\n",
    "        self.psi_d = 0  # angle, angular rate and angular acc. states\n",
    "        self.r_d = 0\n",
    "        self.a_d = 0\n",
    "        self.wn_d = self.wn / 5  # desired natural frequency in yaw\n",
    "        self.zeta_d = 1  # desired relative damping ratio\n",
    "    \n",
    "    \n",
    "    def eq_left(self,η, dη):\n",
    "        \n",
    "        CRB_CG = np.zeros((6, 6))\n",
    "        CRB_CG[0:3, 0:3] = self.m_total * Smtrx(dη[3:6])\n",
    "        CRB_CG[3:6, 3:6] = -Smtrx(np.matmul(self.Ig, dη[3:6]))\n",
    "        CRB = self.H_rg.T @ CRB_CG @ self.H_rg  # transform CRB from CG to CO\n",
    "\n",
    "        CA = m2c(self.MA, dη)\n",
    "        CA[5, 0] = 0  # assume that the Munk moment in yaw can be neglected\n",
    "        CA[5, 1] = 0  # if nonzero, must be balanced by adding nonlinear damping\n",
    "        CA[0, 5] = 0\n",
    "        CA[1, 5] = 0\n",
    "\n",
    "        C = CRB + CA\n",
    "\n",
    "        return (np.matmul(self.D, dη) + np.matmul(C, dη) + np.dot(self.G,η))\n",
    "        \n",
    "    def tau(self,η, dη, ddη):\n",
    "\n",
    "        \n",
    "        CRB_CG = np.zeros((6, 6))\n",
    "        CRB_CG[0:3, 0:3] = self.m_total * Smtrx(dη[3:6])\n",
    "        CRB_CG[3:6, 3:6] = -Smtrx(np.matmul(self.Ig, dη[3:6]))\n",
    "        CRB = self.H_rg.T @ CRB_CG @ self.H_rg  # transform CRB from CG to CO\n",
    "\n",
    "        CA = m2c(self.MA, dη)\n",
    "        CA[5, 0] = 0  # assume that the Munk moment in yaw can be neglected\n",
    "        CA[5, 1] = 0  # if nonzero, must be balanced by adding nonlinear damping\n",
    "        CA[0, 5] = 0\n",
    "        CA[1, 5] = 0\n",
    "\n",
    "        C = CRB + CA\n",
    "        return (np.matmul(self.M,ddη) + np.matmul(self.D, dη) + np.matmul(C, dη)+ np.dot(self.G,η))\n",
    "    "
   ]
  },
  {
   "cell_type": "code",
   "execution_count": 125,
   "metadata": {},
   "outputs": [],
   "source": [
    "# V=VesselOtter()"
   ]
  },
  {
   "cell_type": "code",
   "execution_count": 126,
   "metadata": {},
   "outputs": [],
   "source": [
    "η=np.array([0.1,0.3,0.4,0.5,0.6,0.7])\n",
    "dη=np.array([0,0,0,0,0,0])\n",
    "ddη=np.array([0,0,0,0,0,0])"
   ]
  },
  {
   "cell_type": "code",
   "execution_count": 127,
   "metadata": {},
   "outputs": [],
   "source": [
    "tau_force = V.tau(η,dη, ddη)"
   ]
  },
  {
   "cell_type": "code",
   "execution_count": 128,
   "metadata": {},
   "outputs": [
    {
     "data": {
      "text/plain": [
       "array([0.00000e+00, 0.00000e+00, 2.40000e+06, 7.14800e+09, 1.57272e+10,\n",
       "       0.00000e+00])"
      ]
     },
     "execution_count": 128,
     "metadata": {},
     "output_type": "execute_result"
    }
   ],
   "source": [
    "tau_force"
   ]
  },
  {
   "cell_type": "code",
   "execution_count": 129,
   "metadata": {},
   "outputs": [
    {
     "data": {
      "text/plain": [
       "array([3.5, 5. ])"
      ]
     },
     "execution_count": 129,
     "metadata": {},
     "output_type": "execute_result"
    }
   ],
   "source": [
    "np.matmul(np.array([[1.1,1.2],[1,2]]),np.array([1,2]))"
   ]
  },
  {
   "cell_type": "code",
   "execution_count": 130,
   "metadata": {},
   "outputs": [],
   "source": [
    "# V=VesselSemisub()"
   ]
  },
  {
   "cell_type": "code",
   "execution_count": 131,
   "metadata": {},
   "outputs": [],
   "source": [
    "# wave_force=9e6\n",
    "# wave_force=9e3\n",
    "# wave_force=0\n",
    "kp, kd=1.95e4,1.5e4\n",
    "# kp,kd=1.95e6, 1.5e6\n",
    "# kp,kd=1.95e8, 1.5e8\n",
    "# kp,kd=1.95, 1.5\n",
    "wave_coef=1\n",
    "# kp,kd=1.95e16, 1.5e16"
   ]
  },
  {
   "cell_type": "code",
   "execution_count": 132,
   "metadata": {},
   "outputs": [],
   "source": [
    "def Fx(x,dx, z,dz, t, kp, kd, x_ref = 0, dx_ref=0, z_ref = 0, dz_ref=0):\n",
    "    return -kp*(x-x_ref) - kd*(dx-dx_ref)-kp*(z-z_ref) - kd*(dz-dz_ref)"
   ]
  },
  {
   "cell_type": "code",
   "execution_count": 133,
   "metadata": {},
   "outputs": [],
   "source": [
    "Hs = 2.5 # significant wave height in m"
   ]
  },
  {
   "cell_type": "code",
   "execution_count": 134,
   "metadata": {},
   "outputs": [],
   "source": [
    "def wave_force(Hs,d0,qw, Cd=1.2):\n",
    "    g=9.81 \n",
    "    return 0.5 * qw * g * Hs**2 * d0 * Cd"
   ]
  },
  {
   "cell_type": "code",
   "execution_count": 135,
   "metadata": {},
   "outputs": [
    {
     "data": {
      "text/plain": [
       "28695.1696875"
      ]
     },
     "execution_count": 135,
     "metadata": {},
     "output_type": "execute_result"
    }
   ],
   "source": [
    "wave_force(Hs,d0,qw, Cd=1.2)"
   ]
  },
  {
   "cell_type": "code",
   "execution_count": 136,
   "metadata": {},
   "outputs": [
    {
     "data": {
      "text/plain": [
       "array([0.1, 0.3, 0.4, 0.5, 0.6, 0.7])"
      ]
     },
     "execution_count": 136,
     "metadata": {},
     "output_type": "execute_result"
    }
   ],
   "source": [
    "η"
   ]
  },
  {
   "cell_type": "code",
   "execution_count": 137,
   "metadata": {},
   "outputs": [],
   "source": [
    "# def tau(η, dη, wave_coef, kp, kd,time, Hs=2.5, Tp=10, x_ref = 0, dx_ref=0, z_ref = 0, dz_ref=0):\n",
    "#     x,y,z,φ,θ,ψ=η\n",
    "#     dx,dy,dz,dφ,dθ,dψ=dη\n",
    "#     F=(np.array([-Fx(x,dx,z,dz,time, kp, kd, x_ref, dx_ref, z_ref, dz_ref),0,0])\n",
    "#        +wave_coef*np.array([wave_force(Hs,d0,qw),0,0])*np.sin(2*np.pi/Tp*time+1)\n",
    "#       ).T\n",
    "#     Ret=Re_t_([φ,θ,ψ])\n",
    "    \n",
    "#     ans=np.concatenate([np.dot(Re_b(Ret), F),[0,0,0]], axis=0)\n",
    "# #     ans[2]=0 #!!!!!!!!!!!!!!!!!!!!!!!!!!!!!!!!!!!!!!!!!!!!!!!!!!!!!!!!!!!!!!!!\n",
    "#     return ans\n",
    "def tau(η, dη, wave_coef, kp, kd,time, Hs=2.5, Tp=10, x_ref = 0, dx_ref=0, z_ref = 0, dz_ref=0):\n",
    "    x,y,z,φ,θ,ψ=η\n",
    "    dx,dy,dz,dφ,dθ,dψ=dη\n",
    "    F=(np.array([-Fx(x,dx,z,dz,time, kp, kd, x_ref, dx_ref, z_ref, dz_ref),0,0])\n",
    "       +wave_coef*np.array([0,0,wave_force(Hs,d0,qw)])*np.sin(2*np.pi/Tp*time+1)\n",
    "      ).T\n",
    "#     Ret=Re_t_([φ,θ,ψ])\n",
    "    \n",
    "#     ans=np.concatenate([np.dot(Re_b(Ret), F),[0,0,0]], axis=0)\n",
    "    ans=np.concatenate( [F,[0,0,0]], axis=0)\n",
    "#     ans[2]=0 #!!!!!!!!!!!!!!!!!!!!!!!!!!!!!!!!!!!!!!!!!!!!!!!!!!!!!!!!!!!!!!!!\n",
    "    return ans"
   ]
  },
  {
   "cell_type": "code",
   "execution_count": 138,
   "metadata": {},
   "outputs": [
    {
     "name": "stdout",
     "output_type": "stream",
     "text": [
      "[9750.            0.         7283.67179881    0.            0.\n",
      "    0.        ]\n"
     ]
    }
   ],
   "source": [
    "# for i in range(100):\n",
    "print(tau(η, dη, wave_coef, kp, kd,3))"
   ]
  },
  {
   "cell_type": "markdown",
   "metadata": {},
   "source": [
    "### Static solution"
   ]
  },
  {
   "cell_type": "code",
   "execution_count": 139,
   "metadata": {},
   "outputs": [],
   "source": [
    "def catenary(x,Ws,Fh):\n",
    "    return (Fh/Ws)*(np.cosh(x*Ws/Fh)-1)"
   ]
  },
  {
   "cell_type": "code",
   "execution_count": 140,
   "metadata": {},
   "outputs": [],
   "source": [
    "pipe_weight_per_unit_length = mi #  (submerged) [kg/m]  # 113.07 - not submerged"
   ]
  },
  {
   "cell_type": "code",
   "execution_count": 141,
   "metadata": {},
   "outputs": [],
   "source": [
    "Fx_0=82945396"
   ]
  },
  {
   "cell_type": "code",
   "execution_count": 142,
   "metadata": {},
   "outputs": [],
   "source": [
    "Ws = np.array(pipe_weight_per_unit_length)*9.81 # [N/m]\n",
    "h=700"
   ]
  },
  {
   "cell_type": "code",
   "execution_count": 143,
   "metadata": {},
   "outputs": [],
   "source": [
    "S=math.sqrt(h*(2*Fx_0/Ws[0] -h))\n",
    "horizontal_length=(Fx_0/Ws[0] -h)*np.log((S+Fx_0/Ws[0])/(Fx_0/Ws[0]-h))"
   ]
  },
  {
   "cell_type": "code",
   "execution_count": 144,
   "metadata": {},
   "outputs": [
    {
     "data": {
      "text/plain": [
       "array([941.76, 941.76, 941.76, 941.76])"
      ]
     },
     "execution_count": 144,
     "metadata": {},
     "output_type": "execute_result"
    }
   ],
   "source": [
    "Ws"
   ]
  },
  {
   "cell_type": "code",
   "execution_count": 145,
   "metadata": {},
   "outputs": [],
   "source": [
    "delta_x=horizontal_length/(node_N-1)"
   ]
  },
  {
   "cell_type": "code",
   "execution_count": 146,
   "metadata": {},
   "outputs": [],
   "source": [
    "x0=[i*delta_x for i in range(node_N)]\n",
    "z0=[]\n",
    "\n",
    "for i in range(len(x0)):\n",
    "    z0.append(catenary(x0[i],Ws[0],Fx_0))\n",
    "\n",
    "length_p=[]\n",
    "for i in range(1,len(z0)):\n",
    "    length_p.append(math.sqrt((x0[i]-x0[i-1])**2+(z0[i]-z0[i-1])**2))"
   ]
  },
  {
   "cell_type": "code",
   "execution_count": 147,
   "metadata": {},
   "outputs": [
    {
     "data": {
      "text/plain": [
       "([0.0, 3684.228281487207, 7368.456562974414, 11052.68484446162],\n",
       " [0.0, 77.06804644731459, 308.40705929683963, 694.4218951076863])"
      ]
     },
     "execution_count": 147,
     "metadata": {},
     "output_type": "execute_result"
    }
   ],
   "source": [
    "x0,z0"
   ]
  },
  {
   "cell_type": "code",
   "execution_count": 148,
   "metadata": {},
   "outputs": [
    {
     "data": {
      "text/plain": [
       "[3685.0342622414496, 3691.484223043134, 3704.395427539594]"
      ]
     },
     "execution_count": 148,
     "metadata": {},
     "output_type": "execute_result"
    }
   ],
   "source": [
    "length_p"
   ]
  },
  {
   "cell_type": "code",
   "execution_count": 149,
   "metadata": {},
   "outputs": [
    {
     "data": {
      "image/png": "[encoded data removed]",
      "text/plain": [
       "<Figure size 432x288 with 1 Axes>"
      ]
     },
     "metadata": {
      "needs_background": "light"
     },
     "output_type": "display_data"
    }
   ],
   "source": [
    "plt.plot(x0, z0)\n",
    "plt.show()"
   ]
  },
  {
   "cell_type": "code",
   "execution_count": 150,
   "metadata": {},
   "outputs": [],
   "source": [
    "rng = np.random.default_rng(seed=29)\n",
    "q0=np.zeros(12*node_N)"
   ]
  },
  {
   "cell_type": "code",
   "execution_count": 151,
   "metadata": {},
   "outputs": [],
   "source": [
    "for j in range(1,12):\n",
    "    if j==1:  \n",
    "        q0[(j-1)*node_N:j*node_N]=x0\n",
    "    elif j==5:    \n",
    "        q0[(j-1)*node_N:j*node_N]=z0\n",
    "#     elif j==9:    \n",
    "#         q0[(j-1)*node_N:j*node_N]=rng.standard_normal(node_N)\n",
    "#     elif j==11:   \n",
    "#         q0[(j-1)*node_N:j*node_N]=rng.standard_normal(node_N)"
   ]
  },
  {
   "cell_type": "code",
   "execution_count": 152,
   "metadata": {},
   "outputs": [
    {
     "data": {
      "text/plain": [
       "(array([[[ 0.9183279 , -0.39581857, -0.00123343],\n",
       "         [ 0.38728218,  0.89787039,  0.2093831 ],\n",
       "         [-0.08177026, -0.19276003,  0.97783291]],\n",
       " \n",
       "        [[ 0.87795455,  0.08224448, -0.4716266 ],\n",
       "         [-0.13138165,  0.98870219, -0.07215841],\n",
       "         [ 0.46036362,  0.12531488,  0.87884101]],\n",
       " \n",
       "        [[ 0.75447935,  0.03619188, -0.65532516],\n",
       "         [ 0.21109028,  0.93204529,  0.29450376],\n",
       "         [ 0.62145137, -0.36052978,  0.69556917]],\n",
       " \n",
       "        [[ 0.76696075, -0.06160492,  0.63873002],\n",
       "         [ 0.01178543,  0.99656541,  0.08196635],\n",
       "         [-0.64158578, -0.05533726,  0.7650526 ]]]),\n",
       " array([941.76, 941.76, 941.76, 941.76]))"
      ]
     },
     "execution_count": 152,
     "metadata": {},
     "output_type": "execute_result"
    }
   ],
   "source": [
    "Re_b(Ret),Ws"
   ]
  },
  {
   "cell_type": "code",
   "execution_count": 153,
   "metadata": {},
   "outputs": [
    {
     "data": {
      "text/plain": [
       "array([[[ 864.84448517, -372.76609927,   -1.16159716],\n",
       "        [ 364.72686842,  845.57841394,  197.18862779],\n",
       "        [ -77.00795756, -181.53368478,  920.88391959]],\n",
       "\n",
       "       [[ 826.8224806 ,   77.45455696, -444.15906474],\n",
       "        [-123.72998105,  931.12017754,  -67.95590009],\n",
       "        [ 433.55204413,  118.01654195,  827.65730738]],\n",
       "\n",
       "       [[ 710.53847098,   34.08406126, -617.15901972],\n",
       "        [ 198.79638187,  877.76297481,  277.35186353],\n",
       "        [ 585.25804344, -339.53252335,  655.05922311]],\n",
       "\n",
       "       [[ 722.29295704,  -58.01705071,  601.53038464],\n",
       "        [  11.09905113,  938.52544276,   77.19262888],\n",
       "        [-604.21982166,  -52.11441947,  720.49593476]]])"
      ]
     },
     "execution_count": 153,
     "metadata": {},
     "output_type": "execute_result"
    }
   ],
   "source": [
    "np.einsum('it,ijk->ijk',Ws.reshape(node_N,1),Re_b(Ret))"
   ]
  },
  {
   "cell_type": "code",
   "execution_count": 154,
   "metadata": {},
   "outputs": [
    {
     "data": {
      "text/plain": [
       "array([[[ 864.84448517, -372.76609927,   -1.16159716],\n",
       "        [ 364.72686842,  845.57841394,  197.18862779],\n",
       "        [ -77.00795756, -181.53368478,  920.88391959]],\n",
       "\n",
       "       [[ 826.8224806 ,   77.45455696, -444.15906474],\n",
       "        [-123.72998105,  931.12017754,  -67.95590009],\n",
       "        [ 433.55204413,  118.01654195,  827.65730738]],\n",
       "\n",
       "       [[ 710.53847098,   34.08406126, -617.15901972],\n",
       "        [ 198.79638187,  877.76297481,  277.35186353],\n",
       "        [ 585.25804344, -339.53252335,  655.05922311]],\n",
       "\n",
       "       [[ 722.29295704,  -58.01705071,  601.53038464],\n",
       "        [  11.09905113,  938.52544276,   77.19262888],\n",
       "        [-604.21982166,  -52.11441947,  720.49593476]]])"
      ]
     },
     "execution_count": 154,
     "metadata": {},
     "output_type": "execute_result"
    }
   ],
   "source": [
    "np.einsum('i,ijk->ijk',Ws,Re_b(Ret))"
   ]
  },
  {
   "cell_type": "code",
   "execution_count": 155,
   "metadata": {},
   "outputs": [],
   "source": [
    "def static_func(Q):\n",
    "    t=0\n",
    " \n",
    "    x,y,z=Q[0:node_N],Q[2*node_N:3*node_N],Q[4*node_N:5*node_N]\n",
    "    dx,dy,dz=Q[1*node_N:2*node_N],Q[3*node_N:4*node_N],Q[5*node_N:6*node_N]\n",
    "    φ,θ,ψ=Q[6*node_N:7*node_N],Q[8*node_N:9*node_N],Q[10*node_N:11*node_N]\n",
    "    Ret = Re_t(φ,θ,ψ)\n",
    "\n",
    "    \n",
    "    dφ,dθ,dψ=Q[7*node_N:8*node_N],Q[9*node_N:10*node_N],Q[11*node_N:12*node_N]\n",
    "    \n",
    "    η=[x[-1],y[-1],z[-1],φ[-1],θ[-1],ψ[-1]]\n",
    "    \n",
    "    tau_force=np.array([-Fx_0,0,0,0,0,0])\n",
    "\n",
    "    \n",
    "    \n",
    "#     C=ne(x,y,z,Ret)\n",
    "#     a,b,c=C[:,0],C[:,1],C[:,2]\n",
    "\n",
    "#     Z0=tau_force[:3]\n",
    "\n",
    "    Z0=np.dot(Re_b(Ret),tau_force[:3])\n",
    "#     Z1 = d_s(ne, x, y, z, Ret, ωe(φ,θ,ψ,None,None)).T\n",
    "    Z1 = d_s(ne, x, y, z, Ret, phi(x,y,z,Ret,None)).T\n",
    "    DT_0=np.zeros((3,3))\n",
    "    Z2=ne_(dx,dy,dz,DT_0,Ret).T\n",
    "    \n",
    "    \n",
    "    Z =  Z1 + Z2 + Z0\n",
    "    \n",
    "############################################################    \n",
    "#     ddx,ddy, ddz = np.linalg.solve(np.einsum('i,ijk->ijk',Ws,Re_b(Ret)),Z).T \n",
    "#     ddx,ddy, ddz = np.linalg.solve(Ws[0]*Re_b(Ret),Z).T\n",
    "    ddx,ddy, ddz = np.linalg.solve(Ws[0]*Re_b(Ret),Z).T\n",
    "#     tmp=np.linalg.solve(Ret,np.vstack([ddx_phi, ddy_phi, ddz_phi]).T)\n",
    "#     ddx, ddy, ddz = tmp[:,0],tmp[:,1],tmp[:,2]\n",
    "    \n",
    "#     tmp=phi(ddx_phi,ddy_phi, ddz_phi, Ret)\n",
    "#     ddx, ddy, ddz = tmp[:,0],tmp[:,1],tmp[:,2]\n",
    "############################################################    \n",
    "#     ans_x=[]\n",
    "#     ans_y=[]\n",
    "#     ans_z=[]\n",
    "#     RRRR=Re_b(Ret)\n",
    "#     for i in range(len(RRRR)):\n",
    "#         a,b,c=1/Ws*np.linalg.lstsq(RRRR[i],Z[i], rcond=None)[0]\n",
    "#         ans_x.append(a)\n",
    "#         ans_y.append(b)\n",
    "#         ans_z.append(c)\n",
    "    \n",
    "#     ddx,ddy, ddz = np.array(ans_x),np.array(ans_y),np.array(ans_z)    \n",
    "    \n",
    "   \n",
    "    C0=np.einsum('ijk,kp->ijp',np.einsum('ijk,ikr->ijr',np.linalg.inv(Π(φ,θ,ψ).astype(np.float32)),\n",
    "                        Re_b(Ret)),tau_force[3:].reshape(3,1)) \n",
    "#     C3= d_s(me_[:,0],me_[:,1],me_[:, 2],x,y,z).astype(np.float32).T\n",
    "    C3=d_me(φ,θ,ψ,Ret,  ωe,ωe(φ,θ,ψ,None,None))\n",
    "    B_ =C3\n",
    "    B=(B_ + C0.squeeze()\n",
    "      )\n",
    "\n",
    "    A2 = Irho_e(Ret).astype(np.float32)\n",
    "    A3=Π(φ,θ,ψ).astype(np.float32)\n",
    "    A=np.einsum('ijk,ikr->ijr',A2,A3)\n",
    "#     A=np.einsum('ijk,ikr->ijr', Re_b(Ret), np.einsum('ijk,ikr->ijr',A2,A3))\n",
    "\n",
    "\n",
    "#############\n",
    "    ddφ,ddθ,ddψ = np.linalg.solve(A,B).T\n",
    "#############################################\n",
    "\n",
    "\n",
    "\n",
    "\n",
    "#     ans_φ=[]\n",
    "#     ans_θ=[]\n",
    "#     ans_ψ=[]\n",
    "#     for i in range(len(A)):\n",
    "#         a,b,c=np.linalg.lstsq(A[i],B[i], rcond=None)[0]\n",
    "#         ans_φ.append(a)\n",
    "#         ans_θ.append(b)\n",
    "#         ans_ψ.append(c)\n",
    "    \n",
    "#     ddφ,ddθ,ddψ=np.array(ans_φ),np.array(ans_θ),np.array(ans_ψ)\n",
    "    \n",
    "    \n",
    "\n",
    "    ans=np.concatenate([dx, ddx, dy, ddy, dz, ddz, dφ, ddφ, dθ, ddθ, dψ, ddψ], axis=0)\n",
    "  \n",
    " \n",
    "    return ans\n",
    "    "
   ]
  },
  {
   "cell_type": "code",
   "execution_count": 156,
   "metadata": {},
   "outputs": [
    {
     "data": {
      "text/plain": [
       "array([    0.        ,  3684.22828149,  7368.45656297, 11052.68484446,\n",
       "           0.        ,     0.        ,     0.        ,     0.        ,\n",
       "           0.        ,     0.        ,     0.        ,     0.        ,\n",
       "           0.        ,     0.        ,     0.        ,     0.        ,\n",
       "           0.        ,    77.06804645,   308.4070593 ,   694.42189511,\n",
       "           0.        ,     0.        ,     0.        ,     0.        ,\n",
       "           0.        ,     0.        ,     0.        ,     0.        ,\n",
       "           0.        ,     0.        ,     0.        ,     0.        ,\n",
       "           0.        ,     0.        ,     0.        ,     0.        ,\n",
       "           0.        ,     0.        ,     0.        ,     0.        ,\n",
       "           0.        ,     0.        ,     0.        ,     0.        ,\n",
       "           0.        ,     0.        ,     0.        ,     0.        ])"
      ]
     },
     "execution_count": 156,
     "metadata": {},
     "output_type": "execute_result"
    }
   ],
   "source": [
    "q0"
   ]
  },
  {
   "cell_type": "code",
   "execution_count": null,
   "metadata": {},
   "outputs": [],
   "source": []
  },
  {
   "cell_type": "code",
   "execution_count": 157,
   "metadata": {},
   "outputs": [
    {
     "name": "stderr",
     "output_type": "stream",
     "text": [
      "/Library/Frameworks/Python.framework/Versions/3.7/lib/python3.7/site-packages/scipy/optimize/minpack.py:175: RuntimeWarning: The iteration is not making good progress, as measured by the \n",
      "  improvement from the last ten iterations.\n",
      "  warnings.warn(msg, RuntimeWarning)\n"
     ]
    }
   ],
   "source": [
    "root = fsolve(static_func, q0)"
   ]
  },
  {
   "cell_type": "code",
   "execution_count": 158,
   "metadata": {},
   "outputs": [
    {
     "data": {
      "text/plain": [
       "array([    0.        ,  3684.22828149,  7368.45656297, 11052.68484446,\n",
       "           0.        ,     0.        ,     0.        ,     0.        ,\n",
       "           0.        ,     0.        ,     0.        ,     0.        ,\n",
       "           0.        ,     0.        ,     0.        ,     0.        ,\n",
       "           0.        ,    77.06804645,   308.4070593 ,   694.42189511,\n",
       "           0.        ,     0.        ,     0.        ,     0.        ,\n",
       "           0.        ,     0.        ,     0.        ,     0.        ,\n",
       "           0.        ,     0.        ,     0.        ,     0.        ,\n",
       "           0.        ,     0.        ,     0.        ,     0.        ,\n",
       "           0.        ,     0.        ,     0.        ,     0.        ,\n",
       "           0.        ,     0.        ,     0.        ,     0.        ,\n",
       "           0.        ,     0.        ,     0.        ,     0.        ])"
      ]
     },
     "execution_count": 158,
     "metadata": {},
     "output_type": "execute_result"
    }
   ],
   "source": [
    "root"
   ]
  },
  {
   "cell_type": "code",
   "execution_count": 159,
   "metadata": {},
   "outputs": [],
   "source": [
    "x0_,z0_=root[:node_N],root[4*node_N:5*node_N]"
   ]
  },
  {
   "cell_type": "code",
   "execution_count": 160,
   "metadata": {},
   "outputs": [
    {
     "data": {
      "text/plain": [
       "[0.0, 3684.228281487207, 7368.456562974414, 11052.68484446162]"
      ]
     },
     "execution_count": 160,
     "metadata": {},
     "output_type": "execute_result"
    }
   ],
   "source": [
    "x0"
   ]
  },
  {
   "cell_type": "code",
   "execution_count": 161,
   "metadata": {},
   "outputs": [
    {
     "data": {
      "text/plain": [
       "array([    0.        ,  3684.22828149,  7368.45656297, 11052.68484446])"
      ]
     },
     "execution_count": 161,
     "metadata": {},
     "output_type": "execute_result"
    }
   ],
   "source": [
    "x0_"
   ]
  },
  {
   "cell_type": "code",
   "execution_count": 162,
   "metadata": {},
   "outputs": [
    {
     "data": {
      "text/plain": [
       "[0.0, 77.06804644731459, 308.40705929683963, 694.4218951076863]"
      ]
     },
     "execution_count": 162,
     "metadata": {},
     "output_type": "execute_result"
    }
   ],
   "source": [
    "z0"
   ]
  },
  {
   "cell_type": "code",
   "execution_count": 163,
   "metadata": {},
   "outputs": [
    {
     "data": {
      "text/plain": [
       "array([  0.        ,  77.06804645, 308.4070593 , 694.42189511])"
      ]
     },
     "execution_count": 163,
     "metadata": {},
     "output_type": "execute_result"
    }
   ],
   "source": [
    "z0_"
   ]
  },
  {
   "cell_type": "code",
   "execution_count": 164,
   "metadata": {},
   "outputs": [
    {
     "data": {
      "image/png": "[encoded data removed]",
      "text/plain": [
       "<Figure size 432x288 with 1 Axes>"
      ]
     },
     "metadata": {
      "needs_background": "light"
     },
     "output_type": "display_data"
    }
   ],
   "source": [
    "plt.plot(x0_, z0_)\n",
    "plt.show()"
   ]
  },
  {
   "cell_type": "code",
   "execution_count": 165,
   "metadata": {},
   "outputs": [],
   "source": [
    "for j in range(1,12):\n",
    "    if j==1:  \n",
    "        q0[(j-1)*node_N:j*node_N]=x0_\n",
    "    elif j==5:    \n",
    "        q0[(j-1)*node_N:j*node_N]=z0_\n",
    "#     elif j==9:    \n",
    "#         q0[(j-1)*node_N:j*node_N]=rng.standard_normal(node_N)\n",
    "#     elif j==11:   \n",
    "#         q0[(j-1)*node_N:j*node_N]=rng.standard_normal(node_N)\n",
    "#     elif j==9:    \n",
    "#         q0[(j-1)*node_N:j*node_N]=np.array([0,0,0,0.1])\n",
    "#     elif j==11:   \n",
    "#         q0[(j-1)*node_N:j*node_N]=np.array([0,0,0,0.1])"
   ]
  },
  {
   "cell_type": "code",
   "execution_count": 166,
   "metadata": {},
   "outputs": [],
   "source": [
    "# q0[10*node_N]=q0[8*node_N]=0"
   ]
  },
  {
   "cell_type": "code",
   "execution_count": 167,
   "metadata": {},
   "outputs": [
    {
     "data": {
      "text/plain": [
       "array([    0.        ,  3684.22828149,  7368.45656297, 11052.68484446,\n",
       "           0.        ,     0.        ,     0.        ,     0.        ,\n",
       "           0.        ,     0.        ,     0.        ,     0.        ,\n",
       "           0.        ,     0.        ,     0.        ,     0.        ,\n",
       "           0.        ,    77.06804645,   308.4070593 ,   694.42189511,\n",
       "           0.        ,     0.        ,     0.        ,     0.        ,\n",
       "           0.        ,     0.        ,     0.        ,     0.        ,\n",
       "           0.        ,     0.        ,     0.        ,     0.        ,\n",
       "           0.        ,     0.        ,     0.        ,     0.        ,\n",
       "           0.        ,     0.        ,     0.        ,     0.        ,\n",
       "           0.        ,     0.        ,     0.        ,     0.        ,\n",
       "           0.        ,     0.        ,     0.        ,     0.        ])"
      ]
     },
     "execution_count": 167,
     "metadata": {},
     "output_type": "execute_result"
    }
   ],
   "source": [
    "q0"
   ]
  },
  {
   "cell_type": "markdown",
   "metadata": {},
   "source": [
    "### Dynamics"
   ]
  },
  {
   "cell_type": "code",
   "execution_count": 168,
   "metadata": {},
   "outputs": [],
   "source": [
    "# def grayscott1d(Q,p,t):\n",
    "def grayscott1d(t, Q):\n",
    "#     print(t)\n",
    "     \n",
    "    x,y,z=Q[0:node_N],Q[2*node_N:3*node_N],Q[4*node_N:5*node_N]\n",
    "#     x[-1]=x0[-1]+10*np.sin(t)\n",
    "#     x[-1]=x0_[-1]+100*np.sin(t)\n",
    "#     y[-1]+=5*np.cos(t)\n",
    "#     z[-1]=z0[-1]+2.5*np.sin(t)\n",
    "#    z[-1]=z0_[-1]+2.5*np.sin(t)\n",
    "\n",
    "#     x[0]=0\n",
    "#     y[0]=0\n",
    "#     z[0]=0\n",
    "\n",
    "    dx,dy,dz=Q[1*node_N:2*node_N],Q[3*node_N:4*node_N],Q[5*node_N:6*node_N]\n",
    "    \n",
    "#     dx[0]=0\n",
    "#     dy[0]=0\n",
    "#     dz[0]=0\n",
    "\n",
    "    φ,θ,ψ=Q[6*node_N:7*node_N],Q[8*node_N:9*node_N],Q[10*node_N:11*node_N]\n",
    "    \n",
    "    Ret = Re_t(φ,θ,ψ)\n",
    "\n",
    "    dφ,dθ,dψ=Q[7*node_N:8*node_N],Q[9*node_N:10*node_N],Q[11*node_N:12*node_N]\n",
    "    \n",
    "    η=[(x0_[-1]-x[-1]),y[-1],(z0[-1]-z[-1]),φ[-1],θ[-1],ψ[-1]]\n",
    "    dη=[dx[-1],dy[-1],dz[-1],dφ[-1],dθ[-1],dψ[-1]]\n",
    "    \n",
    "    left=V.eq_left(η,dη)\n",
    " \n",
    " \n",
    "    \n",
    "    # PD controller after 30 sec\n",
    "    if t<5:\n",
    "        ddη=np.linalg.lstsq(V.M.astype(np.float32), -left \n",
    "                            + tau(η, dη, wave_coef, 0, 0, t).astype(np.float32)\n",
    "#                             left - np.array([0,0,-70000,0,0,0])\n",
    "                            , rcond=None)[0]\n",
    "    else:\n",
    "        ddη=np.linalg.lstsq(V.M.astype(np.float32), -left.astype(np.float32) \n",
    "                            + tau(η,dη, wave_coef, kp, kd, t).astype(np.float32)\n",
    "                            , rcond=None)[0]\n",
    "#     print('ddη', ddη)\n",
    "    coef=1\n",
    "    tau_force = coef*V.tau(η,dη,ddη).astype(np.float32)\n",
    "#     print(tau_force)\n",
    "#     tau_force = hack*tau(η,dη, wave_coef, kp, kd, t) # simple motion \n",
    "#     print(tau_force)\n",
    "#     tau_force = hack*tau(η,dη, wave_coef, kp, kd, t) # simple motion \n",
    "#     print(tau_force)\n",
    "#     C=ne(x,y,z,Ret)\n",
    "#     a,b,c=C[:,0],C[:,1],C[:,2]\n",
    "#     Z0=tau_force[:3]\n",
    "#     Z0=tau_force[:3]\n",
    "\n",
    "    Z0=np.dot(Re_b(Ret),tau_force[:3])\n",
    "#     print(Ret,Z0)\n",
    "#     print(x,z)\n",
    "   \n",
    "    Z1 =d_s(ne, x, y, z, Ret, ωe(φ,θ,ψ,None,None)).T\n",
    "#     Z1 =d_s(ne, x, y, z, Ret, phi(x,y,z,Ret,None)).T\n",
    "\n",
    "    Z2=ne_(dx,dy,dz,DT,Ret).T\n",
    "    \n",
    "    Z= (Z1 + Z2 \n",
    "        +Z0\n",
    "       )\n",
    "#     print(Z0, Z1, Z2)\n",
    "############################################################    \n",
    "#     ddx,ddy, ddz = 1/Ws*np.linalg.solve(Re_b(Ret),Z).T \n",
    "############################################################    \n",
    "    ans_x=[]\n",
    "    ans_y=[]\n",
    "    ans_z=[]\n",
    "    RRRR=Re_b(Ret)\n",
    "#     hack2=1\n",
    "#     hack4=1\n",
    "    ddx,ddy, ddz = np.linalg.solve(np.einsum('i,ijk->ijk',[Ws[i] for i in range(node_N-1)]+[vessel_mass/L],RRRR),Z).T \n",
    "    \n",
    "#     for i in range(len(RRRR)):\n",
    "      \n",
    "#         a,b,c=np.linalg.lstsq((Ws[i] + vessel_mass)*[i]\n",
    "# #                               +hack2*np.identity(3)\n",
    "#                               , Z[i], rcond=None)[0]\n",
    "#         ans_x.append(a)\n",
    "#         ans_y.append(b)\n",
    "#         ans_z.append(c)\n",
    "# #         print(np.dot(Ws,RRRR[i]))\n",
    "    \n",
    "#     ddx,ddy, ddz = np.array(ans_x),np.array(ans_y),np.array(ans_z)\n",
    "    \n",
    "#     print(ddx,ddy, ddz)\n",
    "    \n",
    "#     tmp=np.linalg.solve(Ret,np.vstack([ddx_phi, ddy_phi, ddz_phi]).T)\n",
    "#     ddx, ddy, ddz = tmp[:,0],tmp[:,1],tmp[:,2]\n",
    "    \n",
    "    \n",
    " \n",
    "    \n",
    " \n",
    "\n",
    "    C1=np.einsum('ijk,ik->ij', Irho_e(Ret).astype(np.float32),\n",
    "                                                        np.einsum('ijk,ik->ij', Π(dφ,dθ,dψ).astype(np.float32), \n",
    "                                                                  np.array([dφ,dθ,dψ]).astype(np.float32).T))\n",
    "    \n",
    "#     print(np.einsum('ijk,ik->ij',Π(φ,θ,ψ).astype(np.float32),np.array([dφ,dθ,dψ]).astype(np.float32).T))\n",
    "#     print(np.einsum('ijk,ik->ij',Irho_e(Ret).astype(np.float32),\n",
    "#                            np.einsum('ijk,ik->ij',Π(φ,θ,ψ).astype(np.float32),np.array([dφ,dθ,dψ]).astype(np.float32).T)))\n",
    "    C2= np.cross(np.einsum('ijk,ik->ij',Π(φ,θ,ψ).astype(np.float32),np.array([dφ,dθ,dψ]).astype(np.float32).T),\n",
    "                 np.einsum('ijk,ik->ij',Irho_e(Ret).astype(np.float32),\n",
    "                           np.einsum('ijk,ik->ij',Π(φ,θ,ψ).astype(np.float32),np.array([dφ,dθ,dψ]).astype(np.float32).T)))\n",
    "\n",
    "#     C3= d_s(me_[:,0],me_[:,1],me_[:, 2],x,y,z).astype(np.float32).T\n",
    "    C3=d_me(φ,θ,ψ,Ret, ωe, ωe(φ,θ,ψ,None,None))\n",
    "#     print(d_s(phi,x,y,z,Ret).T)\n",
    "#     print(d_s(phi,x,y,z,Ret, phi(x,y,z,Ret,None)))\n",
    "#     C4= np.cross(d_s(phi,x,y,z,Ret, phi(x,y,z,Ret,None)).T, ne(x,y,z,Ret, phi(x,y,z,Ret,None)))\n",
    "    C4= np.cross(d_s(phi,x,y,z,Ret, ωe(φ,θ,ψ,None,None)).T, ne(x,y,z,Ret, ωe(φ,θ,ψ,None,None)))\n",
    "    \n",
    "    K1=np.einsum('ijk,ik->ij',Π(φ,θ,ψ).astype(np.float32),np.array([dφ,dθ,dψ]).astype(np.float32).T).T\n",
    "\n",
    "    C5= np.einsum('ijk,ik->ij',Ret, -np.dot(DR,K1).astype(np.float32).T)\n",
    "#     print(np.linalg.inv(Π(φ,θ,ψ).astype(np.float32)).shape)\n",
    "\n",
    "#     C0=np.einsum('ijk,kp->ijp',\n",
    "#                  np.linalg.inv(Π(φ,θ,ψ)), tau_force[3:].reshape(3,1)\n",
    "#                 ) \n",
    "    C0=np.einsum('ijk,kp->ijp',np.einsum('ijk,ikr->ijr',np.linalg.inv(Π(φ,θ,ψ).astype(np.float32)),\n",
    "                        Re_b(Ret)),tau_force[3:].reshape(3,1)) \n",
    "#     print(C1.shape,C2.shape,C3.shape,C4.shape,C5.shape)\n",
    "    B_ =(\n",
    "        -C1\n",
    "        -C2\n",
    "        +C3\n",
    "        +C4\n",
    "        +C5\n",
    "    )\n",
    "    B= B_ +C0.squeeze()\n",
    "       \n",
    "\n",
    "    A2 = Irho_e(Ret).astype(np.float32)\n",
    "    A3=Π(φ,θ,ψ).astype(np.float32)\n",
    "\n",
    "    A=np.einsum('ijk,ikr->ijr',A2,A3)\n",
    "#     A=np.einsum('ijk,ikr->ijr', Re_b(Ret), np.einsum('ijk,ikr->ijr',A2,A3))\n",
    "\n",
    "############################################\n",
    "    ddφ,ddθ,ddψ = np.linalg.solve(A,B).T\n",
    "#############################################\n",
    "\n",
    "#     ans_φ=[]\n",
    "#     ans_θ=[]\n",
    "#     ans_ψ=[]\n",
    "#     hack5=1\n",
    "#     for i in range(len(A)):\n",
    "# #         if i==len(A)-1:\n",
    "# #             hack5=vessel_inertia_coef\n",
    "#         a,b,c=np.linalg.lstsq(A[i]\n",
    "# #                               +hack2*np.identity(3)\n",
    "#                               ,B[i], rcond=None)[0]\n",
    "#         ans_φ.append(a)\n",
    "#         ans_θ.append(b)\n",
    "#         ans_ψ.append(c)\n",
    "    \n",
    "#     ddφ,ddθ,ddψ=np.array(ans_φ),np.array(ans_θ),np.array(ans_ψ)\n",
    "#     ddφ*=np.exp(-t)\n",
    "#     ddθ*=np.exp(-t)\n",
    "#     ddψ*=np.exp(-t)\n",
    "#     ddx[-1],ddy[-1],ddz[-1],ddφ[-1],ddθ[-1],ddψ[-1]=ddη\n",
    "#     print(ddφ,ddθ,ddψ)\n",
    "\n",
    "    ddx[0],ddy[0],ddz[0],ddφ[0],ddθ[0],ddψ[0]=0,0,0,0,0,0\n",
    "    A1111=np.concatenate([dx, ddx, dy, ddy, dz, ddz, dφ, ddφ, dθ, ddθ, dψ, ddψ], axis=0)\n",
    "#     A1111=np.concatenate([dx, ddx, \n",
    "#                           np.zeros(node_N), np.zeros(node_N),\n",
    "#                           dz, ddz,\n",
    "#                           np.zeros(node_N),  np.zeros(node_N),\n",
    "#                           np.zeros(node_N), np.zeros(node_N),\n",
    "#                           np.zeros(node_N),  np.zeros(node_N),\n",
    "#                           ], axis=0)\n",
    "\n",
    "        \n",
    "\n",
    "#     print(A1111)\n",
    "    return A1111"
   ]
  },
  {
   "cell_type": "code",
   "execution_count": 169,
   "metadata": {},
   "outputs": [],
   "source": [
    "# ode15s = scipy.integrate.ode(grayscott1d)\n",
    "# # ode15s.set_integrator('vode', method='bdf', order=15, nsteps=3000)\n",
    "# ode15s.set_integrator('vode',  order=15, nsteps=3000)\n",
    "# ode15s.set_initial_value(q0, 0)"
   ]
  },
  {
   "cell_type": "code",
   "execution_count": 170,
   "metadata": {},
   "outputs": [],
   "source": [
    "# us=ode15s.integrate(10)"
   ]
  },
  {
   "cell_type": "code",
   "execution_count": 171,
   "metadata": {},
   "outputs": [],
   "source": [
    "tspan = (0., 10)"
   ]
  },
  {
   "cell_type": "code",
   "execution_count": 172,
   "metadata": {},
   "outputs": [
    {
     "name": "stdout",
     "output_type": "stream",
     "text": [
      "0:00:04.997424\n"
     ]
    }
   ],
   "source": [
    "startTime1 = datetime.now()\n",
    "# prob = de.ODEProblem(grayscott1d, q0, tspan)\n",
    "# us = de.solve(prob)\n",
    "us=solve_ivp(grayscott1d,  tspan, q0, \n",
    "#              nfev=842\n",
    "#              method='LSODA',\n",
    "#              method= 'BDF'\n",
    "#              vectorized=True\n",
    "#              min_step=1e-6\n",
    "#              rtol=1, atol=1\n",
    "            )\n",
    "# us=ode15s.integrate(10)\n",
    "print(datetime.now() - startTime1)"
   ]
  },
  {
   "cell_type": "code",
   "execution_count": 173,
   "metadata": {},
   "outputs": [],
   "source": [
    "fin=us\n"
   ]
  },
  {
   "cell_type": "code",
   "execution_count": 174,
   "metadata": {
    "scrolled": true
   },
   "outputs": [],
   "source": [
    "# startTime1 = datetime.now()\n",
    "# us=odeint(grayscott1d, torch.from_numpy(q0), torch.from_numpy(t.astype(np.float32)))\n",
    "# print(datetime.now() - startTime1)"
   ]
  },
  {
   "cell_type": "code",
   "execution_count": 175,
   "metadata": {},
   "outputs": [
    {
     "data": {
      "text/plain": [
       "  message: 'The solver successfully reached the end of the integration interval.'\n",
       "     nfev: 1178\n",
       "     njev: 0\n",
       "      nlu: 0\n",
       "      sol: None\n",
       "   status: 0\n",
       "  success: True\n",
       "        t: array([0.00000000e+00, 6.71169100e-05, 7.38286010e-04, 7.44997701e-03,\n",
       "       7.45668870e-02, 1.27960373e-01, 1.81353858e-01, 2.60746827e-01,\n",
       "       3.55100539e-01, 4.83625788e-01, 6.14862097e-01, 7.46098406e-01,\n",
       "       8.52869132e-01, 9.59639857e-01, 1.08485944e+00, 1.22061805e+00,\n",
       "       1.32667939e+00, 1.43274073e+00, 1.56186612e+00, 1.70541153e+00,\n",
       "       1.81745462e+00, 1.92949771e+00, 2.06760308e+00, 2.22358698e+00,\n",
       "       2.35519765e+00, 2.48680832e+00, 2.64358150e+00, 2.82188668e+00,\n",
       "       3.00395567e+00, 3.19289816e+00, 3.41257409e+00, 3.64502998e+00,\n",
       "       3.82321946e+00, 3.94119334e+00, 4.05916721e+00, 4.21074441e+00,\n",
       "       4.37486199e+00, 4.51879104e+00, 4.66272008e+00, 4.80946133e+00,\n",
       "       4.93119756e+00, 4.96824524e+00, 4.98390808e+00, 4.99957091e+00,\n",
       "       5.00800618e+00, 5.01569523e+00, 5.04460257e+00, 5.07350991e+00,\n",
       "       5.10210786e+00, 5.14010157e+00, 5.19003456e+00, 5.25226977e+00,\n",
       "       5.29093027e+00, 5.32959076e+00, 5.38503323e+00, 5.44054195e+00,\n",
       "       5.49605067e+00, 5.54769727e+00, 5.59578048e+00, 5.64719508e+00,\n",
       "       5.70802641e+00, 5.77567329e+00, 5.84090316e+00, 5.90121105e+00,\n",
       "       5.96502612e+00, 6.04238327e+00, 6.13170949e+00, 6.22413679e+00,\n",
       "       6.32279392e+00, 6.44467325e+00, 6.57814968e+00, 6.61164564e+00,\n",
       "       6.64514161e+00, 6.71971752e+00, 6.78861478e+00, 6.85685765e+00,\n",
       "       6.92340186e+00, 6.98539507e+00, 7.04319035e+00, 7.10125173e+00,\n",
       "       7.16396703e+00, 7.23077745e+00, 7.29590259e+00, 7.35594553e+00,\n",
       "       7.41482443e+00, 7.47972825e+00, 7.55287618e+00, 7.62726326e+00,\n",
       "       7.69479071e+00, 7.75760980e+00, 7.82593309e+00, 7.90702294e+00,\n",
       "       7.99523585e+00, 8.06777063e+00, 8.14030541e+00, 8.22920005e+00,\n",
       "       8.33520346e+00, 8.44284199e+00, 8.54711991e+00, 8.67700063e+00,\n",
       "       8.75069200e+00, 8.79272868e+00, 8.83476536e+00, 8.89234884e+00,\n",
       "       8.95715752e+00, 9.00584160e+00, 9.05452567e+00, 9.11008269e+00,\n",
       "       9.15100935e+00, 9.19193601e+00, 9.23973822e+00, 9.27534684e+00,\n",
       "       9.31095547e+00, 9.35222731e+00, 9.38325437e+00, 9.41428144e+00,\n",
       "       9.45020661e+00, 9.47783339e+00, 9.50546017e+00, 9.53703457e+00,\n",
       "       9.56133421e+00, 9.58563384e+00, 9.61283900e+00, 9.63031373e+00,\n",
       "       9.64778845e+00, 9.66875074e+00, 9.68332887e+00, 9.69790700e+00,\n",
       "       9.71494322e+00, 9.72834525e+00, 9.74174728e+00, 9.75611988e+00,\n",
       "       9.76788954e+00, 9.77965919e+00, 9.79223540e+00, 9.80311780e+00,\n",
       "       9.81400019e+00, 9.82520945e+00, 9.83601715e+00, 9.84583029e+00,\n",
       "       9.85493477e+00, 9.86404446e+00, 9.87352076e+00, 9.88299559e+00,\n",
       "       9.89182405e+00, 9.89992259e+00, 9.90778567e+00, 9.91588487e+00,\n",
       "       9.92418932e+00, 9.93220645e+00, 9.93961396e+00, 9.94662629e+00,\n",
       "       9.95367492e+00, 9.96095028e+00, 9.96820835e+00, 9.97507323e+00,\n",
       "       9.98150491e+00, 9.98779298e+00, 9.99421090e+00, 1.00000000e+01])\n",
       " t_events: None\n",
       "        y: array([[ 0.00000000e+00,  0.00000000e+00,  0.00000000e+00, ...,\n",
       "         0.00000000e+00,  0.00000000e+00,  0.00000000e+00],\n",
       "       [ 3.68422828e+03,  3.68422828e+03,  3.68422828e+03, ...,\n",
       "         3.67464340e+03,  3.67452415e+03,  3.67441566e+03],\n",
       "       [ 7.36845656e+03,  7.36845656e+03,  7.36845656e+03, ...,\n",
       "         7.35886779e+03,  7.35874845e+03,  7.35863989e+03],\n",
       "       ...,\n",
       "       [ 0.00000000e+00,  2.31178067e-25,  1.84706414e-24, ...,\n",
       "         1.07994932e-13,  1.09046743e-13,  1.10004279e-13],\n",
       "       [ 0.00000000e+00,  2.31178068e-25,  1.84706486e-24, ...,\n",
       "        -2.66022671e-10, -2.69981394e-10, -2.73602714e-10],\n",
       "       [ 0.00000000e+00,  2.31178069e-25,  1.84706555e-24, ...,\n",
       "        -1.44295759e-07, -1.47008534e-07, -1.49499010e-07]])\n",
       " y_events: None"
      ]
     },
     "execution_count": 175,
     "metadata": {},
     "output_type": "execute_result"
    }
   ],
   "source": [
    "fin"
   ]
  },
  {
   "cell_type": "code",
   "execution_count": 176,
   "metadata": {},
   "outputs": [],
   "source": [
    "t=fin.t"
   ]
  },
  {
   "cell_type": "code",
   "execution_count": 177,
   "metadata": {},
   "outputs": [],
   "source": [
    "fin=fin.y.T"
   ]
  },
  {
   "cell_type": "code",
   "execution_count": null,
   "metadata": {},
   "outputs": [],
   "source": []
  },
  {
   "cell_type": "code",
   "execution_count": 178,
   "metadata": {},
   "outputs": [
    {
     "name": "stderr",
     "output_type": "stream",
     "text": [
      "/Library/Frameworks/Python.framework/Versions/3.7/lib/python3.7/site-packages/ipykernel_launcher.py:2: MatplotlibDeprecationWarning: Calling gca() with keyword arguments was deprecated in Matplotlib 3.4. Starting two minor releases later, gca() will take no keyword arguments. The gca() function should only be used to get the current axes, or if no axes exist, create new axes with default keyword arguments. To create a new axes with non-default arguments, use plt.axes() or plt.subplot().\n",
      "  \n"
     ]
    },
    {
     "data": {
      "image/png": "[encoded data removed]",
      "text/plain": [
       "<Figure size 936x936 with 1 Axes>"
      ]
     },
     "metadata": {
      "needs_background": "light"
     },
     "output_type": "display_data"
    }
   ],
   "source": [
    "fig=plt.figure(figsize=(13,13))\n",
    "ax = fig.gca(projection='3d')\n",
    "\n",
    "X0=fin[0,[i for i in range(0,node_N)]]\n",
    "Y0=fin[0,[i for i in range(2*node_N,3*node_N)]]\n",
    "Z0=fin[0,[i for i in range(4*node_N,5*node_N)]]\n",
    "# for j in range(len(fin.y.T)):\n",
    "j=-1\n",
    "X=fin[j,[i for i in range(0,node_N)]]\n",
    "Y=fin[j,[i for i in range(2*node_N,3*node_N)]]\n",
    "Z=fin[j,[i for i in range(4*node_N,5*node_N)]]\n",
    "\n",
    "ax.plot(X0,Y0,Z0, color='r')\n",
    "ax.plot(X,Y,Z, color='b') \n",
    "# ax.view_init(-30,-30)\n",
    "ax.view_init(0,-90)\n",
    "# ax.view_init(-90,-90)\n",
    "# ax.set_xlim([0, 5])\n",
    "# ax.set_ylim([0, 5])\n",
    "plt.show()"
   ]
  },
  {
   "cell_type": "code",
   "execution_count": 179,
   "metadata": {},
   "outputs": [
    {
     "data": {
      "text/plain": [
       "(array([    0.        ,  3674.41566118,  7358.63988881, 10985.01057255]),\n",
       " array([ 0.00000000e+00, -5.21476677e-09,  5.70389942e-06,  2.68646339e-04]),\n",
       " array([  0.        ,  76.87186378, 307.73024265, 668.67712886]))"
      ]
     },
     "execution_count": 179,
     "metadata": {},
     "output_type": "execute_result"
    }
   ],
   "source": [
    "X,Y,Z"
   ]
  },
  {
   "cell_type": "code",
   "execution_count": 180,
   "metadata": {},
   "outputs": [
    {
     "data": {
      "text/plain": [
       "(array([    0.        ,  3684.22828149,  7368.45656297, 11052.68484446]),\n",
       " array([0., 0., 0., 0.]),\n",
       " array([  0.        ,  77.06804645, 308.4070593 , 694.42189511]))"
      ]
     },
     "execution_count": 180,
     "metadata": {},
     "output_type": "execute_result"
    }
   ],
   "source": [
    "X0,Y0,Z0"
   ]
  },
  {
   "cell_type": "code",
   "execution_count": 181,
   "metadata": {},
   "outputs": [],
   "source": [
    "us=fin.T"
   ]
  },
  {
   "cell_type": "code",
   "execution_count": 182,
   "metadata": {},
   "outputs": [],
   "source": [
    "# t=np.arange(tspan[0],tspan[1],tspan[1]/len(us.T))"
   ]
  },
  {
   "cell_type": "code",
   "execution_count": 183,
   "metadata": {},
   "outputs": [
    {
     "data": {
      "image/png": "[encoded data removed]",
      "text/plain": [
       "<Figure size 432x288 with 1 Axes>"
      ]
     },
     "metadata": {
      "needs_background": "light"
     },
     "output_type": "display_data"
    }
   ],
   "source": [
    "plt.plot(t,us.T[:,2],'-')\n",
    "plt.xlabel('t')\n",
    "plt.ylabel('x2')\n",
    "plt.show()"
   ]
  },
  {
   "cell_type": "code",
   "execution_count": 184,
   "metadata": {},
   "outputs": [
    {
     "data": {
      "image/png": "[encoded data removed]",
      "text/plain": [
       "<Figure size 432x288 with 1 Axes>"
      ]
     },
     "metadata": {
      "needs_background": "light"
     },
     "output_type": "display_data"
    }
   ],
   "source": [
    "plt.plot(t,us.T[:,6] ,'-')\n",
    "plt.xlabel('t')\n",
    "plt.ylabel('dx2')\n",
    "plt.show()"
   ]
  },
  {
   "cell_type": "code",
   "execution_count": 185,
   "metadata": {},
   "outputs": [
    {
     "data": {
      "image/png": "[encoded data removed]",
      "text/plain": [
       "<Figure size 432x288 with 1 Axes>"
      ]
     },
     "metadata": {
      "needs_background": "light"
     },
     "output_type": "display_data"
    }
   ],
   "source": [
    "plt.plot(t,us.T[:,10] ,'-')\n",
    "plt.xlabel('t')\n",
    "plt.ylabel('y2')\n",
    "plt.show()"
   ]
  },
  {
   "cell_type": "code",
   "execution_count": 186,
   "metadata": {},
   "outputs": [
    {
     "data": {
      "image/png": "[encoded data removed]",
      "text/plain": [
       "<Figure size 432x288 with 1 Axes>"
      ]
     },
     "metadata": {
      "needs_background": "light"
     },
     "output_type": "display_data"
    }
   ],
   "source": [
    "plt.plot(t,us.T[:,14] ,'-')\n",
    "plt.xlabel('t')\n",
    "plt.ylabel('dy2')\n",
    "plt.show()"
   ]
  },
  {
   "cell_type": "code",
   "execution_count": 187,
   "metadata": {},
   "outputs": [
    {
     "data": {
      "image/png": "[encoded data removed]",
      "text/plain": [
       "<Figure size 432x288 with 1 Axes>"
      ]
     },
     "metadata": {
      "needs_background": "light"
     },
     "output_type": "display_data"
    }
   ],
   "source": [
    "plt.plot(t,us.T[:,18] ,'-')\n",
    "plt.xlabel('t')\n",
    "plt.ylabel('z2')\n",
    "plt.show()"
   ]
  },
  {
   "cell_type": "code",
   "execution_count": 188,
   "metadata": {},
   "outputs": [
    {
     "data": {
      "image/png": "[encoded data removed]",
      "text/plain": [
       "<Figure size 432x288 with 1 Axes>"
      ]
     },
     "metadata": {
      "needs_background": "light"
     },
     "output_type": "display_data"
    }
   ],
   "source": [
    "plt.plot(t,us.T[:,22] ,'-')\n",
    "plt.xlabel('t')\n",
    "plt.ylabel('dz2')\n",
    "plt.show()"
   ]
  },
  {
   "cell_type": "code",
   "execution_count": 189,
   "metadata": {},
   "outputs": [
    {
     "data": {
      "image/png": "[encoded data removed]",
      "text/plain": [
       "<Figure size 432x288 with 1 Axes>"
      ]
     },
     "metadata": {
      "needs_background": "light"
     },
     "output_type": "display_data"
    }
   ],
   "source": [
    "plt.plot(t,us.T[:,19] ,'-')\n",
    "plt.xlabel('t')\n",
    "plt.ylabel('z3')\n",
    "plt.show()"
   ]
  },
  {
   "cell_type": "code",
   "execution_count": 190,
   "metadata": {},
   "outputs": [
    {
     "data": {
      "image/png": "[encoded data removed]",
      "text/plain": [
       "<Figure size 432x288 with 1 Axes>"
      ]
     },
     "metadata": {
      "needs_background": "light"
     },
     "output_type": "display_data"
    }
   ],
   "source": [
    "plt.plot(t,us.T[:,34],'-')\n",
    "plt.xlabel('t')\n",
    "plt.ylabel('θ2')\n",
    "plt.show()"
   ]
  },
  {
   "cell_type": "code",
   "execution_count": 191,
   "metadata": {},
   "outputs": [
    {
     "data": {
      "image/png": "[encoded data removed]",
      "text/plain": [
       "<Figure size 432x288 with 1 Axes>"
      ]
     },
     "metadata": {
      "needs_background": "light"
     },
     "output_type": "display_data"
    }
   ],
   "source": [
    "plt.plot(t,us.T[:,38] ,'-')\n",
    "plt.xlabel('t')\n",
    "plt.ylabel('dθ2')\n",
    "plt.show()"
   ]
  },
  {
   "cell_type": "code",
   "execution_count": 192,
   "metadata": {},
   "outputs": [
    {
     "data": {
      "image/png": "[encoded data removed]",
      "text/plain": [
       "<Figure size 432x288 with 1 Axes>"
      ]
     },
     "metadata": {
      "needs_background": "light"
     },
     "output_type": "display_data"
    }
   ],
   "source": [
    "plt.plot(t,us.T[:,42],'-')\n",
    "plt.xlabel('t')\n",
    "plt.ylabel('ψ2')\n",
    "plt.show()"
   ]
  },
  {
   "cell_type": "code",
   "execution_count": 193,
   "metadata": {},
   "outputs": [
    {
     "data": {
      "image/png": "[encoded data removed]",
      "text/plain": [
       "<Figure size 432x288 with 1 Axes>"
      ]
     },
     "metadata": {
      "needs_background": "light"
     },
     "output_type": "display_data"
    }
   ],
   "source": [
    "plt.plot(t,us.T[:,46] ,'-')\n",
    "plt.xlabel('t')\n",
    "plt.ylabel('dψ2')\n",
    "plt.show()"
   ]
  }
 ],
 "metadata": {
  "kernelspec": {
   "display_name": "Python 3",
   "language": "python",
   "name": "python3"
  },
  "language_info": {
   "codemirror_mode": {
    "name": "ipython",
    "version": 3
   },
   "file_extension": ".py",
   "mimetype": "text/x-python",
   "name": "python",
   "nbconvert_exporter": "python",
   "pygments_lexer": "ipython3",
   "version": "3.7.7"
  }
 },
 "nbformat": 4,
 "nbformat_minor": 4
}
