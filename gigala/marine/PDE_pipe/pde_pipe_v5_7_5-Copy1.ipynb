{
 "cells": [
  {
   "cell_type": "markdown",
   "metadata": {},
   "source": [
    "#### Model taken from:\n",
    "- [1] Offshore Pipelaying Dynamics. Gullik Anthon Jensen \n",
    "- [2] A nonlinear PDE formulation for offshore vessel pipeline installation. Gullik A. Jensen et al \n",
    "- [3] Modeling and Control of Offshore Pipelay Operations Based on a Finite Strain Pipe Model. Gullik A. Jensen "
   ]
  },
  {
   "cell_type": "code",
   "execution_count": 1,
   "metadata": {},
   "outputs": [],
   "source": [
    "import numpy as np\n",
    "import math\n",
    "import matplotlib.pyplot as plt\n",
    "from datetime import datetime\n",
    "from scipy.optimize import fsolve\n",
    "from scipy.integrate import solve_ivp\n",
    "from scipy import interpolate"
   ]
  },
  {
   "cell_type": "code",
   "execution_count": 2,
   "metadata": {},
   "outputs": [],
   "source": [
    "import sys\n",
    "sys.path.insert(0, \"../../../../Ocean_Intella/PythonVehicleSimulator-master/src/python_vehicle_simulator\")\n",
    "sys.path.insert(0, \"../../../../Ocean_Intella/PythonVehicleSimulator-master/src\")"
   ]
  },
  {
   "cell_type": "code",
   "execution_count": 3,
   "metadata": {},
   "outputs": [],
   "source": [
    "from python_vehicle_simulator.vehicles import *\n",
    "from python_vehicle_simulator.lib import *\n",
    "from python_vehicle_simulator.lib.gnc import ssa"
   ]
  },
  {
   "cell_type": "code",
   "execution_count": 4,
   "metadata": {},
   "outputs": [],
   "source": [
    "mp = 96       #  (submerged pipe weight) [kg/m]"
   ]
  },
  {
   "cell_type": "code",
   "execution_count": 5,
   "metadata": {},
   "outputs": [],
   "source": [
    "node_N = 50"
   ]
  },
  {
   "cell_type": "code",
   "execution_count": 6,
   "metadata": {},
   "outputs": [],
   "source": [
    "mi = [mp for i in range(node_N)] "
   ]
  },
  {
   "cell_type": "code",
   "execution_count": 7,
   "metadata": {},
   "outputs": [],
   "source": [
    "# L - the hull length\n",
    "# Xg - x-center of gravity\n",
    "L = 169 # [m]\n",
    "Xg = 78 # [m]\n",
    "mn = 123000000 # mass of the vessel, [kg]  Solitaire type vessel \n",
    "kp, kd=1.95e4,1.5e4"
   ]
  },
  {
   "cell_type": "code",
   "execution_count": 8,
   "metadata": {},
   "outputs": [],
   "source": [
    "vessel_mass=mn/L # mass over length of the vessel"
   ]
  },
  {
   "cell_type": "code",
   "execution_count": 9,
   "metadata": {},
   "outputs": [],
   "source": [
    "diag_Irho = 1e2*np.array([1, 1, 2]) # [m^4]  , p.99 in [1]\n",
    " \n",
    "Irho=np.diag(diag_Irho)"
   ]
  },
  {
   "cell_type": "code",
   "execution_count": 10,
   "metadata": {},
   "outputs": [
    {
     "data": {
      "text/plain": [
       "array([[100.,   0.,   0.],\n",
       "       [  0., 100.,   0.],\n",
       "       [  0.,   0., 200.]])"
      ]
     },
     "execution_count": 10,
     "metadata": {},
     "output_type": "execute_result"
    }
   ],
   "source": [
    "Irho"
   ]
  },
  {
   "cell_type": "code",
   "execution_count": 11,
   "metadata": {},
   "outputs": [],
   "source": [
    "# Fossen book p.181\n",
    "def vessel_inertia_moment(mn, Xg, L):\n",
    "    r = 0.25*L\n",
    "    Ir = mn*r**2\n",
    "    Iz=mn*Xg**2 + Ir\n",
    "    return Iz"
   ]
  },
  {
   "cell_type": "code",
   "execution_count": 12,
   "metadata": {},
   "outputs": [],
   "source": [
    "vessel_inertia = vessel_inertia_moment(mn, Xg, L)"
   ]
  },
  {
   "cell_type": "code",
   "execution_count": 13,
   "metadata": {},
   "outputs": [],
   "source": [
    "Irho+=vessel_inertia"
   ]
  },
  {
   "cell_type": "code",
   "execution_count": 14,
   "metadata": {},
   "outputs": [],
   "source": [
    "qw = 1025 # Water density [kg/m3]\n",
    "d0 = 0.761 # Outer diameter of pipe, [m]\n",
    "dI= 0.69 # Inner diameter of pipe, [m]"
   ]
  },
  {
   "cell_type": "code",
   "execution_count": 15,
   "metadata": {},
   "outputs": [],
   "source": [
    "Ar=math.pi*((d0/2)**2-(dI/2)**2)"
   ]
  },
  {
   "cell_type": "code",
   "execution_count": 16,
   "metadata": {},
   "outputs": [],
   "source": [
    "E = 210e9"
   ]
  },
  {
   "cell_type": "code",
   "execution_count": 17,
   "metadata": {},
   "outputs": [
    {
     "data": {
      "text/plain": [
       "16991625880.187403"
      ]
     },
     "execution_count": 17,
     "metadata": {},
     "output_type": "execute_result"
    }
   ],
   "source": [
    "E*Ar"
   ]
  },
  {
   "cell_type": "code",
   "execution_count": 18,
   "metadata": {},
   "outputs": [],
   "source": [
    "diag_DT = 1.5*np.array([1, 1, 1]) "
   ]
  },
  {
   "cell_type": "code",
   "execution_count": 19,
   "metadata": {},
   "outputs": [],
   "source": [
    "DT=np.diag(diag_DT) # (35) in [2]"
   ]
  },
  {
   "cell_type": "code",
   "execution_count": 20,
   "metadata": {},
   "outputs": [
    {
     "data": {
      "text/plain": [
       "array([[1.5, 0. , 0. ],\n",
       "       [0. , 1.5, 0. ],\n",
       "       [0. , 0. , 1.5]])"
      ]
     },
     "execution_count": 20,
     "metadata": {},
     "output_type": "execute_result"
    }
   ],
   "source": [
    "DT"
   ]
  },
  {
   "cell_type": "code",
   "execution_count": 21,
   "metadata": {},
   "outputs": [],
   "source": [
    "diag_CT = 1e9*np.array([1, 1, 1]) # [Nm2] p. 4721 in [3]"
   ]
  },
  {
   "cell_type": "code",
   "execution_count": 22,
   "metadata": {},
   "outputs": [],
   "source": [
    "CT=np.diag(diag_CT)"
   ]
  },
  {
   "cell_type": "code",
   "execution_count": 23,
   "metadata": {},
   "outputs": [
    {
     "data": {
      "text/plain": [
       "array([[1.e+09, 0.e+00, 0.e+00],\n",
       "       [0.e+00, 1.e+09, 0.e+00],\n",
       "       [0.e+00, 0.e+00, 1.e+09]])"
      ]
     },
     "execution_count": 23,
     "metadata": {},
     "output_type": "execute_result"
    }
   ],
   "source": [
    "CT"
   ]
  },
  {
   "cell_type": "code",
   "execution_count": 24,
   "metadata": {},
   "outputs": [],
   "source": [
    "# angles should be in radians, otherwise np.radians them  \n",
    "def Re_t_(arr):\n",
    "    φ,θ,ψ=arr[0],arr[1],arr[2]\n",
    "  \n",
    "    Cφ=np.matrix([[1,0,0],\n",
    "                      [0,np.cos(φ),-np.sin(φ)],\n",
    "                      [0,np.sin(φ),np.cos(φ)]])\n",
    "\n",
    "    Cθ=np.matrix([[np.cos(θ),0,np.sin(θ)],\n",
    "                      [0,1,0],\n",
    "                      [-np.sin(θ),0,np.cos(θ)]])\n",
    "\n",
    "    Cψ=np.matrix([[np.cos(ψ),-np.sin(ψ),0],\n",
    "                      [np.sin(ψ),np.cos(ψ),0],\n",
    "                      [0,0,1]])\n",
    "        \n",
    "\n",
    "    return np.array(np.dot(np.dot(Cφ,Cθ),Cψ) )"
   ]
  },
  {
   "cell_type": "code",
   "execution_count": 25,
   "metadata": {},
   "outputs": [
    {
     "data": {
      "text/plain": [
       "array([[ 0.41198225,  0.05872664,  0.90929743],\n",
       "       [-0.68124272, -0.64287284,  0.35017549],\n",
       "       [ 0.60512725, -0.76371834, -0.2248451 ]])"
      ]
     },
     "execution_count": 25,
     "metadata": {},
     "output_type": "execute_result"
    }
   ],
   "source": [
    "Re_t_([1,2,3])"
   ]
  },
  {
   "cell_type": "code",
   "execution_count": 26,
   "metadata": {},
   "outputs": [],
   "source": [
    "rng = np.random.default_rng()"
   ]
  },
  {
   "cell_type": "code",
   "execution_count": 27,
   "metadata": {},
   "outputs": [],
   "source": [
    "φ, θ, ψ = rng.standard_normal(node_N),rng.standard_normal(node_N),rng.standard_normal(node_N)"
   ]
  },
  {
   "cell_type": "code",
   "execution_count": 28,
   "metadata": {},
   "outputs": [],
   "source": [
    "def Re_t(a,b,c):\n",
    "    xyz=np.stack((a,b,c), axis=1)\n",
    "    return np.apply_along_axis(Re_t_, 1, xyz)"
   ]
  },
  {
   "cell_type": "code",
   "execution_count": 29,
   "metadata": {},
   "outputs": [
    {
     "data": {
      "text/plain": [
       "array([[ 0.8343806 , -0.21810503, -0.50620076],\n",
       "       [ 0.17272822,  0.97558588, -0.13563613],\n",
       "       [ 0.52342524,  0.025737  ,  0.85168282]])"
      ]
     },
     "execution_count": 29,
     "metadata": {},
     "output_type": "execute_result"
    }
   ],
   "source": [
    "Re_t_(np.array([φ[0], θ[0], ψ[0]]))"
   ]
  },
  {
   "cell_type": "code",
   "execution_count": 30,
   "metadata": {
    "scrolled": true
   },
   "outputs": [
    {
     "name": "stdout",
     "output_type": "stream",
     "text": [
      "0:00:00.009051\n"
     ]
    }
   ],
   "source": [
    "startTime1 = datetime.now()\n",
    "Ret=Re_t(φ,θ,ψ)\n",
    "print(datetime.now() - startTime1)"
   ]
  },
  {
   "cell_type": "code",
   "execution_count": 31,
   "metadata": {},
   "outputs": [
    {
     "data": {
      "text/plain": [
       "(50, 3, 3)"
      ]
     },
     "execution_count": 31,
     "metadata": {},
     "output_type": "execute_result"
    }
   ],
   "source": [
    "Ret.shape"
   ]
  },
  {
   "cell_type": "code",
   "execution_count": 32,
   "metadata": {},
   "outputs": [],
   "source": [
    "dx,dy,dz=rng.standard_normal(node_N),rng.standard_normal(node_N),rng.standard_normal(node_N)"
   ]
  },
  {
   "cell_type": "code",
   "execution_count": 33,
   "metadata": {},
   "outputs": [],
   "source": [
    "def C1(dx,dy,dz, Ret):\n",
    "    B=np.vstack([np.abs(dx)*dx,(dy**2+dz**2)**0.5*dy,(dy**2+dz**2)**0.5*dz])\n",
    "    ans=np.einsum('ijk,ik->ij', Ret, np.einsum('ijk,ik->ij', Ret,B.T.astype(np.float32))) \n",
    "    return ans.T"
   ]
  },
  {
   "cell_type": "code",
   "execution_count": 34,
   "metadata": {},
   "outputs": [
    {
     "name": "stdout",
     "output_type": "stream",
     "text": [
      "0:00:00.000939\n"
     ]
    }
   ],
   "source": [
    "startTime1 = datetime.now()\n",
    "C1(dx,dy,dz,Ret)\n",
    "print(datetime.now() - startTime1)"
   ]
  },
  {
   "cell_type": "code",
   "execution_count": 35,
   "metadata": {},
   "outputs": [],
   "source": [
    "def fD(dx,dy,dz,DT,Ret):\n",
    "    return 1/2*d0*qw*np.dot(DT, C1(dx,dy,dz,Ret))*9.81"
   ]
  },
  {
   "cell_type": "code",
   "execution_count": 36,
   "metadata": {},
   "outputs": [
    {
     "data": {
      "text/plain": [
       "array([[ 18763.27519578,  45433.85768785,  -1317.76906145],\n",
       "       [  6682.49129836,   4018.32868037,   1171.92568   ],\n",
       "       [  -189.00570584,    -68.03764797,    868.2985742 ],\n",
       "       [   182.5634431 , -24049.83208604,  -9941.75960766],\n",
       "       [ 15679.0433203 ,   5402.816095  ,    153.92597728],\n",
       "       [  1486.26442382,  -2768.24657483,   6755.73709879],\n",
       "       [ 27286.48850166, -15331.40925861, -23745.55740691],\n",
       "       [ 11436.91636619,   6297.04150357,    603.38983309],\n",
       "       [ 10466.72425403,    192.79714648,   4121.91822561],\n",
       "       [ -4035.19259255,   1433.77156226,   1391.64862097],\n",
       "       [   716.69133735,    680.95110087,   -567.6186888 ],\n",
       "       [   353.88634562,   1233.21516712,   -750.21199207],\n",
       "       [ -2216.82810115, -13166.06249058,   8338.27025477],\n",
       "       [  1945.57937053,   -666.04782178,   1153.5636217 ],\n",
       "       [  8226.08289163,  -1037.09208405, -20171.60235514],\n",
       "       [ -6592.87576257, -17040.05607543,   2357.65135678],\n",
       "       [-18434.05047396,    560.71281758,   -265.55500619],\n",
       "       [ -6407.53171683,  -1771.93465785,   1075.62221073],\n",
       "       [ -2243.38881978,  -5608.05420586,  28334.35096789],\n",
       "       [    61.72195645,  -1561.72492772,   2068.33693424],\n",
       "       [  4888.23714166,  -9170.44627232,  16902.76192016],\n",
       "       [ 13867.90451495,    643.3863503 ,  -6129.64994395],\n",
       "       [  5008.10193978,  10545.88418361,   7176.67297568],\n",
       "       [  1723.94279689,   2616.84950822,  -2845.57955468],\n",
       "       [ 25779.24717003,  -1467.54404928, -29255.72875835],\n",
       "       [  2650.39130066,   2083.14898334,   1569.65885806],\n",
       "       [ -3036.90019946,  -1311.23526225,   3623.70970425],\n",
       "       [  2887.14954891,  -5401.46366273,  -1662.79588428],\n",
       "       [  9503.09596446,   6103.07238721,  -2197.27696877],\n",
       "       [   509.44278262,   -637.39484879,     78.09311392],\n",
       "       [ -2424.11712348,    800.89202586,  -3876.98132217],\n",
       "       [ -4223.33468478,  -2436.94151269,   9499.10900015],\n",
       "       [  1295.46732194,  -2795.01285711,  -2778.2322553 ],\n",
       "       [ -2658.05273022, -47003.71187022, -38873.87688114],\n",
       "       [ -5305.55475254,  -2260.2550019 ,   -550.98037197],\n",
       "       [  4152.1020716 ,  -7919.3122916 ,   7185.33941979],\n",
       "       [-13036.89735594, -25321.26506409,  -7139.00216923],\n",
       "       [ -3040.93570811,  -1181.87830801,   4007.88747751],\n",
       "       [-18173.95382711, -16166.34104992, -19309.25072913],\n",
       "       [    97.42720749,    353.31746192,   4986.60419653],\n",
       "       [-14339.10201352,   4720.23321025,  11290.10317872],\n",
       "       [ 12758.13923582,  -6549.50216917,  -2723.3459431 ],\n",
       "       [  -763.66718973,   2502.28053711, -21228.96864474],\n",
       "       [ -5100.027216  ,   3368.19045334,   8595.96295029],\n",
       "       [  7067.146551  ,  -1586.48355499,   6163.14067683],\n",
       "       [-11964.43000963,  -3839.37647473,  11421.91979418],\n",
       "       [ -7430.09568281,   1322.85241124,  -1829.34271491],\n",
       "       [  -180.39825009,   2756.12906961,  -1942.70974349],\n",
       "       [  3407.5426466 ,   3183.39634779,    931.66037949],\n",
       "       [-17693.16711138,  -6668.5132643 , -17660.47590019]])"
      ]
     },
     "execution_count": 36,
     "metadata": {},
     "output_type": "execute_result"
    }
   ],
   "source": [
    "fD(dx,dy,dz,DT,Ret).T"
   ]
  },
  {
   "cell_type": "code",
   "execution_count": 37,
   "metadata": {},
   "outputs": [
    {
     "name": "stdout",
     "output_type": "stream",
     "text": [
      "0:00:00.000361\n"
     ]
    }
   ],
   "source": [
    "startTime1 = datetime.now()\n",
    "fD(dx,dy,dz,DT,Ret)\n",
    "print(datetime.now() - startTime1)"
   ]
  },
  {
   "cell_type": "code",
   "execution_count": 38,
   "metadata": {},
   "outputs": [],
   "source": [
    "# https://docs.scipy.org/doc/scipy-1.8.0/tutorial/integrate.html  \n",
    "# 1-D Gray-Scott "
   ]
  },
  {
   "cell_type": "code",
   "execution_count": 39,
   "metadata": {},
   "outputs": [],
   "source": [
    "I=np.identity(3)"
   ]
  },
  {
   "cell_type": "code",
   "execution_count": 40,
   "metadata": {},
   "outputs": [
    {
     "name": "stdout",
     "output_type": "stream",
     "text": [
      "0:00:00.000405\n"
     ]
    }
   ],
   "source": [
    "startTime1 = datetime.now()\n",
    "np.dot(I,fD(dx,dy,dz,DT,Ret))\n",
    "print(datetime.now() - startTime1)"
   ]
  },
  {
   "cell_type": "code",
   "execution_count": 41,
   "metadata": {},
   "outputs": [],
   "source": [
    "Rb_t=I # https://www.researchgate.net/profile/Thor-Fossen/publication/224560837_Modeling_and_Control_of_Offshore_Pipelay_Operations_Based_on_a_Finite_Strain_Pipe_Model/links/00b7d520e175a3f918000000/Modeling-and-Control-of-Offshore-Pipelay-Operations-Based-on-a-Finite-Strain-Pipe-Model.pdf"
   ]
  },
  {
   "cell_type": "code",
   "execution_count": 42,
   "metadata": {},
   "outputs": [
    {
     "data": {
      "text/plain": [
       "array([[1., 0., 0.],\n",
       "       [0., 1., 0.],\n",
       "       [0., 0., 1.]])"
      ]
     },
     "execution_count": 42,
     "metadata": {},
     "output_type": "execute_result"
    }
   ],
   "source": [
    "Rb_t"
   ]
  },
  {
   "cell_type": "code",
   "execution_count": 43,
   "metadata": {},
   "outputs": [],
   "source": [
    "diag_DR = 1.5*np.array([1, 1, 1]) # [N m/rad]  p.4721 in [3]"
   ]
  },
  {
   "cell_type": "code",
   "execution_count": 44,
   "metadata": {},
   "outputs": [],
   "source": [
    "DR=np.diag(diag_DR) "
   ]
  },
  {
   "cell_type": "code",
   "execution_count": 45,
   "metadata": {},
   "outputs": [
    {
     "data": {
      "text/plain": [
       "0.08091250419136858"
      ]
     },
     "execution_count": 45,
     "metadata": {},
     "output_type": "execute_result"
    }
   ],
   "source": [
    "Ar"
   ]
  },
  {
   "cell_type": "code",
   "execution_count": 46,
   "metadata": {},
   "outputs": [],
   "source": [
    "fg_e=np.array([[0,0,(mp-qw*Ar)*9.81] for x in range(node_N)])"
   ]
  },
  {
   "cell_type": "code",
   "execution_count": 47,
   "metadata": {},
   "outputs": [
    {
     "data": {
      "text/plain": [
       "array([[  0.        ,   0.        , 128.16454223],\n",
       "       [  0.        ,   0.        , 128.16454223],\n",
       "       [  0.        ,   0.        , 128.16454223],\n",
       "       [  0.        ,   0.        , 128.16454223],\n",
       "       [  0.        ,   0.        , 128.16454223],\n",
       "       [  0.        ,   0.        , 128.16454223],\n",
       "       [  0.        ,   0.        , 128.16454223],\n",
       "       [  0.        ,   0.        , 128.16454223],\n",
       "       [  0.        ,   0.        , 128.16454223],\n",
       "       [  0.        ,   0.        , 128.16454223],\n",
       "       [  0.        ,   0.        , 128.16454223],\n",
       "       [  0.        ,   0.        , 128.16454223],\n",
       "       [  0.        ,   0.        , 128.16454223],\n",
       "       [  0.        ,   0.        , 128.16454223],\n",
       "       [  0.        ,   0.        , 128.16454223],\n",
       "       [  0.        ,   0.        , 128.16454223],\n",
       "       [  0.        ,   0.        , 128.16454223],\n",
       "       [  0.        ,   0.        , 128.16454223],\n",
       "       [  0.        ,   0.        , 128.16454223],\n",
       "       [  0.        ,   0.        , 128.16454223],\n",
       "       [  0.        ,   0.        , 128.16454223],\n",
       "       [  0.        ,   0.        , 128.16454223],\n",
       "       [  0.        ,   0.        , 128.16454223],\n",
       "       [  0.        ,   0.        , 128.16454223],\n",
       "       [  0.        ,   0.        , 128.16454223],\n",
       "       [  0.        ,   0.        , 128.16454223],\n",
       "       [  0.        ,   0.        , 128.16454223],\n",
       "       [  0.        ,   0.        , 128.16454223],\n",
       "       [  0.        ,   0.        , 128.16454223],\n",
       "       [  0.        ,   0.        , 128.16454223],\n",
       "       [  0.        ,   0.        , 128.16454223],\n",
       "       [  0.        ,   0.        , 128.16454223],\n",
       "       [  0.        ,   0.        , 128.16454223],\n",
       "       [  0.        ,   0.        , 128.16454223],\n",
       "       [  0.        ,   0.        , 128.16454223],\n",
       "       [  0.        ,   0.        , 128.16454223],\n",
       "       [  0.        ,   0.        , 128.16454223],\n",
       "       [  0.        ,   0.        , 128.16454223],\n",
       "       [  0.        ,   0.        , 128.16454223],\n",
       "       [  0.        ,   0.        , 128.16454223],\n",
       "       [  0.        ,   0.        , 128.16454223],\n",
       "       [  0.        ,   0.        , 128.16454223],\n",
       "       [  0.        ,   0.        , 128.16454223],\n",
       "       [  0.        ,   0.        , 128.16454223],\n",
       "       [  0.        ,   0.        , 128.16454223],\n",
       "       [  0.        ,   0.        , 128.16454223],\n",
       "       [  0.        ,   0.        , 128.16454223],\n",
       "       [  0.        ,   0.        , 128.16454223],\n",
       "       [  0.        ,   0.        , 128.16454223],\n",
       "       [  0.        ,   0.        , 128.16454223]])"
      ]
     },
     "execution_count": 47,
     "metadata": {},
     "output_type": "execute_result"
    }
   ],
   "source": [
    "fg_e"
   ]
  },
  {
   "cell_type": "code",
   "execution_count": 48,
   "metadata": {},
   "outputs": [],
   "source": [
    "x,y,z=rng.standard_normal(node_N),rng.standard_normal(node_N),rng.standard_normal(node_N)"
   ]
  },
  {
   "cell_type": "code",
   "execution_count": 49,
   "metadata": {},
   "outputs": [],
   "source": [
    "def Re_b(Ret):\n",
    "    return Ret"
   ]
  },
  {
   "cell_type": "code",
   "execution_count": 50,
   "metadata": {},
   "outputs": [
    {
     "name": "stdout",
     "output_type": "stream",
     "text": [
      "0:00:00.000160\n"
     ]
    }
   ],
   "source": [
    "startTime1 = datetime.now()\n",
    "Re_b(Ret)\n",
    "print(datetime.now() - startTime1)"
   ]
  },
  {
   "cell_type": "code",
   "execution_count": 51,
   "metadata": {},
   "outputs": [],
   "source": [
    "def phi(x, y, z, Ret,dummy):\n",
    "    B=np.vstack([x,y,z])\n",
    "    return np.linalg.solve(Ret.astype(np.float32),B.T.astype(np.float32))"
   ]
  },
  {
   "cell_type": "code",
   "execution_count": 52,
   "metadata": {},
   "outputs": [
    {
     "data": {
      "text/plain": [
       "array([[ 0.43382698, -0.07507654, -0.7654224 ],\n",
       "       [ 0.49022847, -0.40677527, -2.5006666 ],\n",
       "       [ 0.54982835, -0.06198054,  0.3713572 ],\n",
       "       [-1.573733  ,  1.2578802 ,  0.09684809],\n",
       "       [-0.660571  ,  1.4365411 ,  0.2987249 ],\n",
       "       [-0.1755028 , -0.92808133,  0.18442893],\n",
       "       [ 0.19642673,  1.5284009 , -0.6483733 ],\n",
       "       [ 0.9670065 ,  0.40817714,  0.51416564],\n",
       "       [-0.58544034,  0.80863065, -0.49178734],\n",
       "       [-0.90491426,  0.32519957, -1.300742  ],\n",
       "       [ 0.9809479 ,  0.43754995,  0.6853199 ],\n",
       "       [-0.2596879 ,  0.10107317, -1.3190582 ],\n",
       "       [ 0.48053542,  0.30276117, -0.43755385],\n",
       "       [-1.2031623 , -0.9354582 , -0.6947689 ],\n",
       "       [-0.07521611, -0.4609867 ,  0.5367975 ],\n",
       "       [ 0.8770511 , -0.0475947 , -1.7692479 ],\n",
       "       [ 0.8793159 , -0.3134294 , -1.3740901 ],\n",
       "       [ 0.33858484, -0.14783321,  0.6065471 ],\n",
       "       [-1.2660323 ,  0.9568139 , -0.16789728],\n",
       "       [ 0.22757918,  1.1404939 ,  0.23052776],\n",
       "       [-1.9325067 ,  2.5785189 ,  0.736637  ],\n",
       "       [-0.68660647,  0.66898686, -1.0198628 ],\n",
       "       [-1.4927006 , -1.8235135 ,  2.0392475 ],\n",
       "       [ 0.80989414,  0.10917355, -0.20267834],\n",
       "       [-0.37390438, -0.8862747 , -2.2588398 ],\n",
       "       [ 0.09809379, -1.8368728 , -0.80953014],\n",
       "       [-1.2568903 ,  1.0659264 , -0.82488716],\n",
       "       [ 0.47851187, -1.1993839 ,  0.7413208 ],\n",
       "       [ 0.9758587 , -0.74025756,  0.5483058 ],\n",
       "       [ 0.8025234 ,  1.2106054 ,  0.37377337],\n",
       "       [ 1.140491  ,  0.04826455,  0.48495772],\n",
       "       [ 0.7671698 ,  0.6654346 , -1.453539  ],\n",
       "       [ 1.0656127 , -0.38367197, -0.8799301 ],\n",
       "       [ 0.00808013,  0.33806804, -0.81712276],\n",
       "       [-0.31576523, -0.08294292,  1.2452389 ],\n",
       "       [ 1.7196891 , -0.05988627,  1.0216831 ],\n",
       "       [-0.23373805,  0.12601712, -1.2438811 ],\n",
       "       [-1.2550186 ,  1.0084553 ,  0.41134006],\n",
       "       [ 1.3208374 , -1.1746655 , -0.85643864],\n",
       "       [-1.9026566 ,  1.3103346 , -1.2521994 ],\n",
       "       [ 0.4924682 ,  0.9510804 , -0.6850972 ],\n",
       "       [-1.8822464 ,  0.39423475,  0.3157996 ],\n",
       "       [-0.5763912 , -0.01262105,  0.4393189 ],\n",
       "       [-0.9152401 , -0.48538876, -1.0215801 ],\n",
       "       [ 1.4468069 ,  0.06901043,  0.78675246],\n",
       "       [-1.1505083 ,  1.4375763 , -1.4726027 ],\n",
       "       [ 0.13372129,  0.3451183 , -1.4853743 ],\n",
       "       [ 0.5228678 , -0.25815472,  1.1700678 ],\n",
       "       [-0.9887587 , -0.21324992,  1.063234  ],\n",
       "       [-1.5237304 ,  1.5598623 , -0.07809135]], dtype=float32)"
      ]
     },
     "execution_count": 52,
     "metadata": {},
     "output_type": "execute_result"
    }
   ],
   "source": [
    "phi(x,y,z,Ret,None)"
   ]
  },
  {
   "cell_type": "code",
   "execution_count": 53,
   "metadata": {},
   "outputs": [
    {
     "name": "stdout",
     "output_type": "stream",
     "text": [
      "0:00:00.001631\n"
     ]
    }
   ],
   "source": [
    "startTime1 = datetime.now()\n",
    "phi(x,y,z,Ret,None)\n",
    "print(datetime.now() - startTime1)"
   ]
  },
  {
   "cell_type": "code",
   "execution_count": 54,
   "metadata": {},
   "outputs": [],
   "source": [
    "def Π_(arr):\n",
    "    φ,θ,ψ=arr[0],arr[1],arr[2]\n",
    "    return np.array([[np.cos(θ),0,np.cos(φ)*np.sin(θ)],\n",
    "                  [0,1,-np.sin(φ)],\n",
    "                  [-np.sin(θ),0,np.cos(φ)*np.cos(θ)]])"
   ]
  },
  {
   "cell_type": "code",
   "execution_count": 55,
   "metadata": {},
   "outputs": [],
   "source": [
    "def Π(a,b,c):\n",
    "    xyz=np.stack((a,b,c), axis=1)\n",
    "  \n",
    "    return np.apply_along_axis(Π_, 1, xyz)\n",
    "    "
   ]
  },
  {
   "cell_type": "code",
   "execution_count": 56,
   "metadata": {},
   "outputs": [
    {
     "name": "stdout",
     "output_type": "stream",
     "text": [
      "0:00:00.004607\n"
     ]
    }
   ],
   "source": [
    "startTime1 = datetime.now()\n",
    "Π(φ,θ,ψ).shape\n",
    "print(datetime.now() - startTime1)"
   ]
  },
  {
   "cell_type": "code",
   "execution_count": 57,
   "metadata": {},
   "outputs": [],
   "source": [
    "def ωe(φ,θ,ψ, dummy,dummy1):  # (100) in [2]\n",
    "    A=Π(φ,θ,ψ)\n",
    "    B=np.vstack([φ,θ,ψ])\n",
    "    return np.einsum('ijk,ik->ij',A,B.T.astype(np.float32))"
   ]
  },
  {
   "cell_type": "code",
   "execution_count": 58,
   "metadata": {},
   "outputs": [
    {
     "name": "stdout",
     "output_type": "stream",
     "text": [
      "0:00:00.004147\n"
     ]
    }
   ],
   "source": [
    "startTime1 = datetime.now()\n",
    "ωe(φ,θ,ψ,None,None)\n",
    "print(datetime.now() - startTime1)"
   ]
  },
  {
   "cell_type": "code",
   "execution_count": 59,
   "metadata": {},
   "outputs": [
    {
     "data": {
      "text/plain": [
       "array([[ 8.38858880e-03, -5.70985160e-01,  2.97699885e-01],\n",
       "       [ 1.02264864e+00,  7.97304816e-01,  1.25931808e+00],\n",
       "       [ 1.94744964e-01,  2.25111294e-01, -3.80805288e-01],\n",
       "       [-4.22318635e-01,  7.58376044e-01,  3.13729383e-01],\n",
       "       [-5.85961208e-01,  2.88898748e+00, -1.16292654e+00],\n",
       "       [-8.95849807e-01,  2.76296950e+00, -6.49318279e-01],\n",
       "       [ 6.12325303e-01,  1.93987179e+00,  9.26392550e-01],\n",
       "       [-1.55901244e+00, -7.82841657e-01, -2.59828604e+00],\n",
       "       [-1.09749077e+00,  6.19368173e-01, -7.14618658e-01],\n",
       "       [-8.84836070e-01,  2.64790060e-01, -2.56987261e-01],\n",
       "       [ 9.05885371e-01,  8.54661298e-01,  5.50952807e-01],\n",
       "       [ 8.09251684e-01,  2.01045706e+00,  3.88760634e-01],\n",
       "       [ 7.56366918e-01,  1.17470570e+00, -9.38566284e-01],\n",
       "       [-7.56912522e-02, -7.79617595e-01,  4.72671482e-01],\n",
       "       [-2.00196723e-01,  1.32603440e-01, -2.34259601e-01],\n",
       "       [-1.58180216e+00, -2.58003546e+00, -1.36313222e+00],\n",
       "       [-7.64492330e-01,  1.30835275e-01,  9.88494198e-01],\n",
       "       [-2.30106471e-01,  2.10337754e-03,  2.34032115e-01],\n",
       "       [ 8.47241799e-02,  9.68874938e-01, -2.36097091e-01],\n",
       "       [-4.93889541e-01,  5.03976687e-01,  1.93657816e-01],\n",
       "       [-7.95063598e-01,  2.59882854e-01,  2.24513730e+00],\n",
       "       [ 1.76492774e-01, -5.11030037e-01,  6.05219988e-01],\n",
       "       [-1.14939974e-01,  4.59911059e-01,  2.89389282e-01],\n",
       "       [ 2.60926170e-01,  6.25591250e-01,  3.05361715e-01],\n",
       "       [ 3.92458958e-01, -1.32642328e+00,  9.94768861e-01],\n",
       "       [-1.44825325e+00,  2.23153255e-01, -2.22660247e-01],\n",
       "       [-4.23143019e-01, -1.02244946e+00, -7.07191093e-01],\n",
       "       [-1.31100291e+00, -1.05299046e+00,  1.12230034e-01],\n",
       "       [-4.33053134e-02, -1.50865360e+00,  1.02267757e+00],\n",
       "       [-1.79368451e+00,  8.41551239e-01, -8.75004585e-01],\n",
       "       [-7.52239202e-01, -5.63420044e-01, -4.85125132e-01],\n",
       "       [ 4.44326556e-01, -1.84064424e+00, -5.38258010e-02],\n",
       "       [ 6.45037652e-01, -1.22520566e+00, -2.74056925e+00],\n",
       "       [-7.10930893e-01,  3.87249945e-01,  7.52666704e-01],\n",
       "       [-3.02314227e-02, -5.52041175e-01,  1.73858640e+00],\n",
       "       [-1.95571570e-01, -1.11826080e+00,  7.96526062e-02],\n",
       "       [ 9.38515257e-02, -1.18464256e-01, -1.99824672e-01],\n",
       "       [ 1.42513515e-01, -1.63728136e+00,  1.04462580e+00],\n",
       "       [ 1.27255261e+00, -1.24714888e+00, -8.55724330e-01],\n",
       "       [-4.65791575e-01,  1.17171481e+00, -1.23799327e+00],\n",
       "       [-7.80794766e-01, -1.53736517e-02, -2.23634043e-01],\n",
       "       [-1.94259999e+00, -1.35703302e+00, -3.73632377e-01],\n",
       "       [ 2.07182141e-02,  4.69784545e-01, -7.93144735e-02],\n",
       "       [-9.08369313e-01, -4.10076707e-01, -3.42398069e-01],\n",
       "       [-1.95594970e-01, -2.08700586e-01, -4.95282851e-01],\n",
       "       [-4.32213654e-01, -9.71735102e-01, -1.10691961e+00],\n",
       "       [ 3.31875048e-01, -9.75784499e-01,  1.09892347e+00],\n",
       "       [ 6.56711556e-01,  2.45013334e-01,  2.99407043e-02],\n",
       "       [-2.59691132e+00, -5.30805110e-01,  9.66361513e-01],\n",
       "       [ 8.88028264e-01,  6.25167928e-01, -4.48061670e-01]])"
      ]
     },
     "execution_count": 59,
     "metadata": {},
     "output_type": "execute_result"
    }
   ],
   "source": [
    "ωe(φ,θ,ψ,None,None)"
   ]
  },
  {
   "cell_type": "code",
   "execution_count": 60,
   "metadata": {},
   "outputs": [],
   "source": [
    "def d_s(f,a,b,c,Ret,omega):\n",
    "\n",
    "    fun = f(a,b,c,Ret,omega)    \n",
    "    \n",
    "    def S(arr):\n",
    "        a1,a2,a3=arr[0],arr[1],arr[2]\n",
    "        return np.array([[0, -a3, a2 ],\n",
    "                         [a3, 0, -a1],\n",
    "                        [-a2, a1, 0]])\n",
    "    K=np.apply_along_axis(S, 1, omega)\n",
    "  \n",
    "    return np.einsum('ijk,ik->ij',K, fun.astype(np.float32)).T"
   ]
  },
  {
   "cell_type": "code",
   "execution_count": 61,
   "metadata": {},
   "outputs": [],
   "source": [
    "φ, θ, ψ = np.array([0.00001 for i in range(node_N)]),np.array([0.00001 for i in range(node_N)]),np.array([0.00001 for i in range(node_N)])"
   ]
  },
  {
   "cell_type": "code",
   "execution_count": 62,
   "metadata": {},
   "outputs": [
    {
     "data": {
      "text/plain": [
       "array([[-6.90338940e-06, -2.09387036e-05,  4.33333400e-06,\n",
       "        -1.16102049e-05, -1.13780478e-05,  1.11249911e-05,\n",
       "        -2.17675238e-05,  1.05987440e-06, -1.30040495e-05,\n",
       "        -1.62592530e-05,  2.47767468e-06, -1.42011711e-05,\n",
       "        -7.40307598e-06,  2.40686865e-06,  9.97774224e-06,\n",
       "        -1.72163593e-05, -1.06065006e-05,  7.54372768e-06,\n",
       "        -1.12469988e-05, -9.09956988e-06, -1.84186341e-05,\n",
       "        -1.68883270e-05,  3.86272230e-05, -3.11848762e-06,\n",
       "        -1.37255139e-05,  1.02733238e-05, -1.89079463e-05,\n",
       "         1.94068519e-05,  1.28855045e-05, -8.36823627e-06,\n",
       "         4.36688799e-06, -2.11895237e-05, -4.96253135e-06,\n",
       "        -1.15517921e-05,  1.32816850e-05,  1.08155853e-05,\n",
       "        -1.36988450e-05, -5.97109232e-06,  3.18223624e-06,\n",
       "        -2.56250828e-05, -1.63616120e-05, -7.84343664e-07,\n",
       "         4.51935415e-06, -5.36185969e-06,  7.17734838e-06,\n",
       "        -2.91014984e-05, -1.83047429e-05,  1.42820819e-05,\n",
       "         1.27647110e-05, -1.63793718e-05],\n",
       "       [ 1.19925267e-05,  2.99091512e-05,  1.78461932e-06,\n",
       "        -1.67056625e-05, -9.59292226e-06, -3.59931817e-06,\n",
       "         8.44804538e-06,  4.52826041e-06, -9.36422188e-07,\n",
       "         3.95849817e-06,  2.95611341e-06,  1.05938604e-05,\n",
       "         9.18088818e-06, -5.08374415e-06, -6.12018231e-06,\n",
       "         2.64630786e-05,  2.25341088e-05, -2.67971721e-06,\n",
       "        -1.09812069e-05, -2.95316318e-08, -2.66913165e-05,\n",
       "         3.33273361e-06, -3.53195347e-05,  1.01256638e-05,\n",
       "         1.88496175e-05,  9.07631016e-06, -4.31982312e-06,\n",
       "        -2.62821111e-06,  4.27537626e-06,  4.28738234e-06,\n",
       "         6.55517013e-06,  2.22071559e-05,  1.94554085e-05,\n",
       "         8.25210954e-06, -1.56101339e-05,  6.97978602e-06,\n",
       "         1.01015781e-05, -1.66635017e-05,  2.17727132e-05,\n",
       "        -6.50425579e-06,  1.17756732e-05, -2.19803025e-05,\n",
       "        -1.01570872e-05,  1.06359357e-06,  6.60032093e-06,\n",
       "         3.22120663e-06,  1.61910910e-05, -6.47216901e-06,\n",
       "        -2.05199335e-05, -1.44562300e-05],\n",
       "       [-5.08899925e-06, -8.97002883e-06, -6.11803998e-06,\n",
       "         2.83160995e-05,  2.09711977e-05, -7.52589544e-06,\n",
       "         1.33199138e-05, -5.58815601e-06,  1.39407318e-05,\n",
       "         1.23010801e-05, -5.43383764e-06,  3.60759473e-06,\n",
       "        -1.77766413e-06,  2.67682736e-06, -3.85775949e-06,\n",
       "        -9.24637493e-06, -1.19273961e-05, -4.86416134e-06,\n",
       "         2.22284306e-05,  9.12928351e-06,  4.51103189e-05,\n",
       "         1.35559311e-05, -3.30846085e-06, -7.00711385e-06,\n",
       "        -5.12382907e-06, -1.93498394e-05,  2.32281476e-05,\n",
       "        -1.67790289e-05, -1.71611385e-05,  4.08102129e-06,\n",
       "        -1.09221455e-05, -1.01720846e-06, -1.44927779e-05,\n",
       "         3.29991365e-06,  2.32818321e-06, -1.77955876e-05,\n",
       "         3.59754087e-06,  2.26347135e-05, -2.49550130e-05,\n",
       "         3.21298511e-05,  4.58626598e-06,  2.27646618e-05,\n",
       "         5.63764265e-06,  4.29837336e-06, -1.37778129e-05,\n",
       "         2.58808738e-05,  2.11401805e-06, -7.81019852e-06,\n",
       "         7.75496722e-06,  3.08359294e-05]])"
      ]
     },
     "execution_count": 62,
     "metadata": {},
     "output_type": "execute_result"
    }
   ],
   "source": [
    "d_s(phi,x,y,z,Ret,ωe(φ,θ,ψ,None,None))"
   ]
  },
  {
   "cell_type": "code",
   "execution_count": 63,
   "metadata": {},
   "outputs": [
    {
     "name": "stdout",
     "output_type": "stream",
     "text": [
      "0:00:00.004154\n"
     ]
    }
   ],
   "source": [
    "startTime1 = datetime.now()\n",
    "d_s(phi,x,y,z,Ret,ωe(φ,θ,ψ,None,None))\n",
    "print(datetime.now() - startTime1)"
   ]
  },
  {
   "cell_type": "code",
   "execution_count": 64,
   "metadata": {},
   "outputs": [],
   "source": [
    "def ne(x,y,z,Ret,omega):\n",
    "    A=np.multiply(np.multiply(Ret,CT),Ret)\n",
    "    B=d_s(phi,x,y,z,Ret,omega).T\n",
    "    return np.einsum('ijk,ik->ij', A.astype(np.float32),B\n",
    "                     -\n",
    "                     np.einsum('ijk,kp->ijp',Ret.astype(np.float32), np.array([1,0,0]).reshape(3,1)).squeeze()\n",
    "                    )"
   ]
  },
  {
   "cell_type": "code",
   "execution_count": 65,
   "metadata": {},
   "outputs": [],
   "source": [
    "φ, θ, ψ = np.array([0.000001 for i in range(node_N)]),np.array([0.000001 for i in range(node_N)]),np.array([0.000001 for i in range(node_N)])"
   ]
  },
  {
   "cell_type": "code",
   "execution_count": 66,
   "metadata": {},
   "outputs": [
    {
     "data": {
      "text/plain": [
       "array([[-2.15277752e+02,  9.97779037e+00, -6.94882023e+01,\n",
       "        -9.86878051e+01,  4.71556652e+00, -1.63391956e+01,\n",
       "        -2.41290798e+01, -2.22001377e+01, -8.00074798e+00,\n",
       "        -9.52116095e+01,  2.73717366e+02,  3.43774635e+02,\n",
       "         1.98316717e+02, -1.33692234e+02, -1.40298059e+02,\n",
       "         2.89212382e+02,  2.22454645e+02,  2.30023153e+02,\n",
       "         3.77550485e+02, -3.32738386e+01,  6.47151479e+02,\n",
       "        -5.03315015e+01,  4.67643011e+02,  6.84976209e+02,\n",
       "        -3.18739640e+02,  4.22793884e+00,  1.88430115e+02,\n",
       "         1.11142139e-01, -5.88937477e+01,  8.39082919e+01,\n",
       "         1.05059143e+02, -2.99141056e+02, -4.29792369e+01,\n",
       "         3.65282090e+02, -1.55528634e+02,  4.42498916e+01,\n",
       "        -3.18736152e+02, -2.29810334e+02, -5.10654733e+01,\n",
       "         1.13315742e+02, -2.43795520e+02, -7.64900823e+01,\n",
       "         3.22120513e+02, -7.08976349e+01, -5.07514499e+02,\n",
       "        -4.77334121e+02, -1.68749676e+01,  3.31968907e+02,\n",
       "        -2.05536386e+02, -4.71840346e+00],\n",
       "       [-2.01213823e+02, -9.55146287e+00, -9.89607844e+02,\n",
       "        -5.29784810e+02, -2.33541388e+00, -3.99687773e+01,\n",
       "         2.58177768e+02, -4.83629414e+02, -9.33016554e+00,\n",
       "        -1.07881264e+02, -1.32747730e+02, -3.42826075e+00,\n",
       "        -3.27466215e+02,  1.83048248e+01, -9.73219779e+02,\n",
       "        -1.66564265e+02, -2.22873848e+02, -9.08911969e+02,\n",
       "        -4.49126477e+02, -8.12488435e+02,  1.03102968e+02,\n",
       "        -1.83855354e+02, -1.05693684e+03, -7.51990691e+02,\n",
       "        -6.59288204e+01, -7.40302477e+02, -9.52597102e+01,\n",
       "         1.38111807e+00,  1.06657502e+01, -1.72408144e+02,\n",
       "        -4.11517367e+02,  4.60061016e+01,  5.83952707e+02,\n",
       "        -4.00958014e+02,  1.87471728e+02,  8.90366985e+01,\n",
       "        -7.98134855e+02,  1.32205625e+01,  1.66936546e+01,\n",
       "        -2.64849357e+02, -3.92094157e+02, -1.72886398e+01,\n",
       "        -1.06764413e+03, -7.64720126e+02, -5.00522597e+02,\n",
       "         3.49947108e+02, -3.15355763e-01, -6.70153495e+02,\n",
       "         2.29359218e+02, -3.04358103e+00],\n",
       "       [ 4.16492006e+02, -4.26347459e-01,  1.05909619e+03,\n",
       "         6.28472812e+02, -2.38016208e+00,  5.63080056e+01,\n",
       "        -2.34048640e+02,  5.05829596e+02,  1.73309295e+01,\n",
       "         2.03093064e+02, -1.40970184e+02, -3.40347062e+02,\n",
       "         1.29149101e+02,  1.15387677e+02,  1.11351812e+03,\n",
       "        -1.22648696e+02,  4.18758119e-01,  6.78888356e+02,\n",
       "         7.15752362e+01,  8.45762340e+02, -7.50255742e+02,\n",
       "         2.34186956e+02,  5.89292896e+02,  6.70131116e+01,\n",
       "         3.84669098e+02,  7.36074530e+02, -9.31707818e+01,\n",
       "        -1.49226043e+00,  4.82281153e+01,  8.84996841e+01,\n",
       "         3.06458014e+02,  2.53135553e+02, -5.40973384e+02,\n",
       "         3.56751932e+01, -3.19427824e+01, -1.33286679e+02,\n",
       "         1.11687164e+03,  2.16590231e+02,  3.43719208e+01,\n",
       "         1.51533388e+02,  6.35890164e+02,  9.37788751e+01,\n",
       "         7.45522971e+02,  8.35617902e+02,  1.00803811e+03,\n",
       "         1.27387969e+02,  1.71903572e+01,  3.38183923e+02,\n",
       "        -2.38224208e+01,  7.76199393e+00]])"
      ]
     },
     "execution_count": 66,
     "metadata": {},
     "output_type": "execute_result"
    }
   ],
   "source": [
    "d_s(ne,x,y,z,Ret,ωe(φ,θ,ψ,None,None))"
   ]
  },
  {
   "cell_type": "code",
   "execution_count": 67,
   "metadata": {},
   "outputs": [
    {
     "data": {
      "text/plain": [
       "array([[-7.87852988e-07,  1.79888907e-06,  7.91742515e-07,\n",
       "        -1.11328711e-06, -1.43398030e-06,  1.31606787e-06,\n",
       "         5.37276620e-07, -3.47370157e-08, -1.44065498e-06,\n",
       "         5.37320247e-07, -1.15773359e-06, -2.42572958e-07,\n",
       "        -9.27931988e-07,  5.27352579e-07,  8.23175589e-07,\n",
       "        -5.91634068e-07, -2.34720710e-06,  6.87063884e-07,\n",
       "        -5.02441260e-07, -1.81975039e-06,  1.22715183e-06,\n",
       "        -4.48168004e-07,  1.04985353e-06, -1.33046047e-06,\n",
       "        -2.53432675e-06,  3.41409424e-06, -1.55837342e-06,\n",
       "         2.88285801e-07,  5.57036199e-07,  1.95947033e-07,\n",
       "        -8.89513093e-07,  4.82848115e-07,  3.44479931e-08,\n",
       "        -3.86000306e-07,  1.46653553e-06,  1.20280765e-06,\n",
       "        -1.40580425e-06,  4.33976543e-07, -5.19272999e-07,\n",
       "        -1.97170978e-06, -1.17253332e-06,  1.87429955e-07,\n",
       "         4.24569628e-07,  6.67886422e-07,  2.13271452e-06,\n",
       "        -3.38412720e-06,  5.09665530e-07,  1.80349467e-06,\n",
       "        -2.16430447e-07, -2.03574751e-07],\n",
       "       [ 1.11570675e-06, -1.51695372e-06,  9.40021559e-08,\n",
       "        -5.28206188e-07,  7.14229585e-07, -1.77979822e-07,\n",
       "        -1.15058985e-06,  1.32614173e-06,  2.90335236e-07,\n",
       "        -1.14274279e-06,  9.57661798e-07, -1.42509215e-06,\n",
       "         1.87914234e-07,  1.76130359e-06, -8.47698527e-07,\n",
       "         2.17695768e-06,  1.71185647e-06, -1.84057607e-07,\n",
       "        -1.15579457e-06,  4.65026521e-07,  1.49168064e-06,\n",
       "        -5.99311056e-07, -2.55497029e-06,  8.41190190e-07,\n",
       "         2.50436920e-06, -1.33389657e-06,  2.20225168e-06,\n",
       "        -1.10352998e-06,  8.14459712e-07,  3.93131837e-07,\n",
       "         9.29260393e-07,  1.45484092e-06,  4.40998751e-07,\n",
       "         9.22869108e-07, -1.60506074e-06, -1.44143424e-06,\n",
       "         8.45436000e-07, -1.66400408e-06,  9.02750002e-07,\n",
       "        -8.45813937e-07,  1.51740470e-06,  1.69164529e-06,\n",
       "        -9.39920624e-07,  8.43315425e-07,  2.32607241e-07,\n",
       "         1.96496581e-06,  1.34941302e-06, -9.05356962e-09,\n",
       "         6.13205157e-07, -2.25645362e-07],\n",
       "       [-3.27852191e-07, -2.81938948e-07, -8.85746254e-07,\n",
       "         1.64149552e-06,  7.19753581e-07, -1.13809068e-06,\n",
       "         6.13312160e-07, -1.29140465e-06,  1.15032262e-06,\n",
       "         6.05421465e-07,  2.00074108e-07,  1.66766560e-06,\n",
       "         7.40019610e-07, -2.28865723e-06,  2.45212923e-08,\n",
       "        -1.58532242e-06,  6.35355323e-07, -5.03007651e-07,\n",
       "         1.65823683e-06,  1.35472751e-06, -2.71883493e-06,\n",
       "         1.04747996e-06,  1.50511466e-06,  4.89272938e-07,\n",
       "         2.99626276e-08, -2.08020450e-06, -6.43875141e-07,\n",
       "         8.15243603e-07, -1.37149703e-06, -5.89079262e-07,\n",
       "        -3.97455215e-08, -1.93769000e-06, -4.75446813e-07,\n",
       "        -5.36868030e-07,  1.38522280e-07,  2.38624186e-07,\n",
       "         5.60371065e-07,  1.23002667e-06, -3.83475964e-07,\n",
       "         2.81752766e-06, -3.44869038e-07, -1.87907562e-06,\n",
       "         5.15350147e-07, -1.51120318e-06, -2.36532602e-06,\n",
       "         1.41916817e-06, -1.85907957e-06, -1.79444471e-06,\n",
       "        -3.96774277e-07,  4.29220521e-07]])"
      ]
     },
     "execution_count": 67,
     "metadata": {},
     "output_type": "execute_result"
    }
   ],
   "source": [
    "d_s(ωe,x,y,z,Ret,ωe(φ,θ,ψ,None,None))"
   ]
  },
  {
   "cell_type": "code",
   "execution_count": 68,
   "metadata": {},
   "outputs": [],
   "source": [
    "def ne_(dx,dy,dz,DT,Ret):\n",
    "    return -fg_e.T-fD(dx,dy,dz,DT,Ret) #-sigma(x,y,z).T"
   ]
  },
  {
   "cell_type": "code",
   "execution_count": 69,
   "metadata": {},
   "outputs": [
    {
     "data": {
      "text/plain": [
       "array([[-18763.27519578,  -6682.49129836,    189.00570584,\n",
       "          -182.5634431 , -15679.0433203 ,  -1486.26442382,\n",
       "        -27286.48850166, -11436.91636619, -10466.72425403,\n",
       "          4035.19259255,   -716.69133735,   -353.88634562,\n",
       "          2216.82810115,  -1945.57937053,  -8226.08289163,\n",
       "          6592.87576257,  18434.05047396,   6407.53171683,\n",
       "          2243.38881978,    -61.72195645,  -4888.23714166,\n",
       "        -13867.90451495,  -5008.10193978,  -1723.94279689,\n",
       "        -25779.24717003,  -2650.39130066,   3036.90019946,\n",
       "         -2887.14954891,  -9503.09596446,   -509.44278262,\n",
       "          2424.11712348,   4223.33468478,  -1295.46732194,\n",
       "          2658.05273022,   5305.55475254,  -4152.1020716 ,\n",
       "         13036.89735594,   3040.93570811,  18173.95382711,\n",
       "           -97.42720749,  14339.10201352, -12758.13923582,\n",
       "           763.66718973,   5100.027216  ,  -7067.146551  ,\n",
       "         11964.43000963,   7430.09568281,    180.39825009,\n",
       "         -3407.5426466 ,  17693.16711138],\n",
       "       [-45433.85768785,  -4018.32868037,     68.03764797,\n",
       "         24049.83208604,  -5402.816095  ,   2768.24657483,\n",
       "         15331.40925861,  -6297.04150357,   -192.79714648,\n",
       "         -1433.77156226,   -680.95110087,  -1233.21516712,\n",
       "         13166.06249058,    666.04782178,   1037.09208405,\n",
       "         17040.05607543,   -560.71281758,   1771.93465785,\n",
       "          5608.05420586,   1561.72492772,   9170.44627232,\n",
       "          -643.3863503 , -10545.88418361,  -2616.84950822,\n",
       "          1467.54404928,  -2083.14898334,   1311.23526225,\n",
       "          5401.46366273,  -6103.07238721,    637.39484879,\n",
       "          -800.89202586,   2436.94151269,   2795.01285711,\n",
       "         47003.71187022,   2260.2550019 ,   7919.3122916 ,\n",
       "         25321.26506409,   1181.87830801,  16166.34104992,\n",
       "          -353.31746192,  -4720.23321025,   6549.50216917,\n",
       "         -2502.28053711,  -3368.19045334,   1586.48355499,\n",
       "          3839.37647473,  -1322.85241124,  -2756.12906961,\n",
       "         -3183.39634779,   6668.5132643 ],\n",
       "       [  1189.60451922,  -1300.09022223,   -996.46311643,\n",
       "          9813.59506543,   -282.09051951,  -6883.90164102,\n",
       "         23617.39286468,   -731.55437532,  -4250.08276784,\n",
       "         -1519.8131632 ,    439.45414657,    622.04744984,\n",
       "         -8466.434797  ,  -1281.72816393,  20043.43781291,\n",
       "         -2485.81589901,    137.39046396,  -1203.78675296,\n",
       "        -28462.51551012,  -2196.50147647, -17030.92646239,\n",
       "          6001.48540172,  -7304.83751791,   2717.41501245,\n",
       "         29127.56421612,  -1697.82340029,  -3751.87424648,\n",
       "          1534.63134205,   2069.11242654,   -206.25765615,\n",
       "          3748.81677994,  -9627.27354238,   2650.06771307,\n",
       "         38745.71233891,    422.81582974,  -7313.50396202,\n",
       "          7010.837627  ,  -4136.05201974,  19181.0861869 ,\n",
       "         -5114.76873876, -11418.26772095,   2595.18140088,\n",
       "         21100.80410251,  -8724.12749252,  -6291.30521906,\n",
       "        -11550.08433641,   1701.17817268,   1814.54520126,\n",
       "         -1059.82492172,  17532.31135796]])"
      ]
     },
     "execution_count": 69,
     "metadata": {},
     "output_type": "execute_result"
    }
   ],
   "source": [
    "ne_(dx,dy,dz,DT,Ret)"
   ]
  },
  {
   "cell_type": "code",
   "execution_count": 70,
   "metadata": {},
   "outputs": [
    {
     "name": "stdout",
     "output_type": "stream",
     "text": [
      "0:00:00.007476\n"
     ]
    }
   ],
   "source": [
    "startTime1 = datetime.now()\n",
    "ne(x,y,z,Ret,ωe(φ,θ,ψ,None,None))\n",
    "print(datetime.now() - startTime1)"
   ]
  },
  {
   "cell_type": "code",
   "execution_count": 71,
   "metadata": {},
   "outputs": [
    {
     "data": {
      "text/plain": [
       "array([[-9.73286796e+07,  6.09337552e+08, -1.14931002e+08],\n",
       "       [-4.81884046e+06, -4.87236800e+06, -1.52109047e+05],\n",
       "       [-1.09883429e+08, -4.02126566e+08,  9.55764468e+07],\n",
       "       [ 2.30063001e+08,  2.93476279e+08, -7.33135041e+07],\n",
       "       [ 4.21245004e+06,  1.66647903e+06,  1.30105215e+06],\n",
       "       [-5.83158047e+07,  1.05206220e+07, -2.55163070e+06],\n",
       "       [-6.76892569e+06, -1.58697683e+08, -3.76146392e+08],\n",
       "       [-4.33715299e+07, -3.85204624e+08,  3.87369860e+08],\n",
       "       [ 1.03654855e+07,  5.05126620e+06, -4.03378558e+06],\n",
       "       [ 1.08184552e+08,  1.44137470e+08, -3.92270709e+07],\n",
       "       [ 1.60504253e+08, -1.23285460e+08, -1.51028396e+08],\n",
       "       [-4.48465376e+08,  7.95960900e+05,  8.83520409e+07],\n",
       "       [-5.30079911e+07,  1.01409123e+08,  1.19540198e+07],\n",
       "       [ 1.82801868e+08, -2.02641577e+08, -4.37233120e+07],\n",
       "       [-1.92341873e+08, -4.50640000e+08, -4.13947988e+08],\n",
       "       [-2.98512286e+08, -3.29758916e+07, -1.47091347e+08],\n",
       "       [-8.95909806e+07, -1.52826055e+08, -2.24720336e+07],\n",
       "       [ 1.36370257e+08, -5.50180319e+08, -2.10219161e+08],\n",
       "       [ 2.23985499e+08,  3.55991425e+08,  3.39759213e+08],\n",
       "       [ 1.89467596e+08, -1.86662173e+08,  7.36432719e+08],\n",
       "       [ 1.00767777e+09,  8.45397086e+08, -3.15662015e+08],\n",
       "       [-5.27569773e+08,  3.01739111e+08,  5.53106097e+08],\n",
       "       [-3.71134272e+08, -9.44049849e+08, -1.11584297e+09],\n",
       "       [-3.08085723e+07, -1.98330410e+08, -2.29941285e+08],\n",
       "       [ 6.64054550e+08,  2.25724936e+08, -1.98485609e+08],\n",
       "       [-7.62277045e+06,  5.95587795e+08, -1.35234839e+09],\n",
       "       [-3.39129272e+08,  3.66080253e+07,  5.64040487e+08],\n",
       "       [ 3.14330950e+06,  6.09277837e+05, -1.04320952e+06],\n",
       "       [-2.86716924e+07,  7.04922536e+06,  6.05460710e+07],\n",
       "       [ 1.27024092e+08, -1.13453492e+08,  9.47301457e+07],\n",
       "       [ 8.16895328e+07, -1.53424291e+08, -1.76842680e+08],\n",
       "       [ 3.51416544e+08,  2.05262647e+07,  1.94872676e+08],\n",
       "       [ 1.37897193e+08, -9.06197331e+08,  5.62121380e+08],\n",
       "       [ 1.08532841e+07,  1.06660839e+08,  4.42360910e+07],\n",
       "       [ 4.53741242e+07, -4.75010104e+07,  8.34193216e+06],\n",
       "       [ 2.24598638e+08,  2.06737206e+08, -3.65924735e+08],\n",
       "       [ 2.42413513e+08,  1.10638279e+09,  6.65352292e+07],\n",
       "       [-1.33881655e+08, -1.04377248e+08, -1.52584654e+08],\n",
       "       [ 4.40324300e+07, -1.22543159e+07,  8.47164034e+07],\n",
       "       [ 5.26045201e+08,  5.01186459e+08, -2.74845528e+08],\n",
       "       [ 5.74343989e+07,  3.47494138e+08,  5.23691330e+08],\n",
       "       [-3.07004681e+07, -1.88869913e+08,  5.27968942e+07],\n",
       "       [-2.08062300e+07, -1.04232527e+08, -3.02924651e+07],\n",
       "       [ 2.20920898e+07,  7.91205988e+08, -3.95722329e+08],\n",
       "       [-2.71174087e+08, -2.75973269e+08,  5.22885655e+08],\n",
       "       [-4.00686645e+08, -3.93188819e+08, -7.07900502e+07],\n",
       "       [ 2.52886827e+07,  2.71116774e+05,  2.33961408e+06],\n",
       "       [ 2.75299798e+08, -7.32863824e+08, -2.84716543e+08],\n",
       "       [ 2.10189737e+08, -4.45326865e+08,  1.06148798e+08],\n",
       "       [-8.98106410e+06, -8.01414478e+06,  1.51586377e+07]])"
      ]
     },
     "execution_count": 71,
     "metadata": {},
     "output_type": "execute_result"
    }
   ],
   "source": [
    "d_s(ne, x, y, z, Ret, phi(x,y,z,Ret,None)).T"
   ]
  },
  {
   "cell_type": "code",
   "execution_count": 72,
   "metadata": {},
   "outputs": [
    {
     "data": {
      "text/plain": [
       "array([[-5.80888743e+08, -1.64396009e+08, -3.79673997e+08],\n",
       "       [ 6.34307848e+04, -3.62916375e+05,  9.61488398e+06],\n",
       "       [-7.95583143e+08,  2.63513552e+08,  1.94025281e+08],\n",
       "       [-3.23397759e+08,  3.05075060e+08,  2.06387165e+08],\n",
       "       [ 1.29028713e+05, -2.25113125e+06,  2.46443994e+06],\n",
       "       [ 9.74074150e+06,  6.60486724e+07,  4.97094604e+07],\n",
       "       [ 2.47881401e+08,  1.38325058e+07, -1.02965977e+07],\n",
       "       [-1.82113171e+08,  3.23716302e+08,  3.01516113e+08],\n",
       "       [-4.38461419e+06,  1.29463067e+07,  4.94555122e+06],\n",
       "       [-1.17513398e+08,  8.55796947e+07, -9.63200869e+06],\n",
       "       [-2.34526442e+07, -1.64422647e+08,  1.09294998e+08],\n",
       "       [ 8.90263548e+04, -3.40257706e+08,  3.51728338e+06],\n",
       "       [-2.81855499e+08, -1.52705947e+08,  4.56109659e+07],\n",
       "       [-3.55273444e+08, -2.39885169e+08, -3.73577541e+08],\n",
       "       [-8.55930916e+08,  2.57587775e+08,  1.17289572e+08],\n",
       "       [-4.27427773e+07, -1.65391270e+08,  1.23821409e+08],\n",
       "       [-1.91493276e+07, -1.87305328e+07,  2.03724333e+08],\n",
       "       [-9.04737833e+08, -2.25848370e+08,  4.17501559e+06],\n",
       "       [-1.93615675e+08, -1.22040128e+08,  2.55510728e+08],\n",
       "       [-5.95844807e+08,  2.49917894e+08,  2.16644010e+08],\n",
       "       [ 3.91381231e+08, -3.58874566e+08,  2.88277555e+08],\n",
       "       [-5.26633989e+08, -2.92446194e+08, -3.42777763e+08],\n",
       "       [-7.13978435e+08, -1.24684696e+08,  3.42958783e+08],\n",
       "       [-4.05603443e+08, -3.38589603e+08,  3.46387298e+08],\n",
       "       [-1.06674466e+08,  2.77994477e+08, -4.07454965e+07],\n",
       "       [-7.36214889e+08, -1.39644081e+05,  4.08829900e+06],\n",
       "       [-1.92411490e+08, -2.85581776e+08, -9.71514912e+07],\n",
       "       [-1.96161456e+05, -1.68841999e+06, -1.57727775e+06],\n",
       "       [ 7.85632853e+06,  5.60843787e+07, -2.80942687e+06],\n",
       "       [-5.80943285e+07,  3.04053839e+07,  1.14313761e+08],\n",
       "       [-4.81910883e+08, -1.75452206e+08, -7.03929629e+07],\n",
       "       [ 6.65016903e+06,  2.59785455e+08, -3.93558995e+07],\n",
       "       [ 7.85623526e+08,  2.44649138e+08,  2.01669854e+08],\n",
       "       [-1.33180426e+08, -9.75049967e+07,  2.67777457e+08],\n",
       "       [ 7.49269172e+06, -2.44500730e+07, -1.79978870e+08],\n",
       "       [-7.68230646e+07, -2.10109453e+08, -1.65859521e+08],\n",
       "       [-9.10593537e+08,  2.06278822e+08, -1.12457655e+08],\n",
       "       [-5.26808414e+07,  1.63909276e+08, -6.59012831e+07],\n",
       "       [ 1.57554449e+07,  5.01273011e+07, -9.38224498e+05],\n",
       "       [-4.19250892e+06,  1.47340736e+08,  2.60656592e+08],\n",
       "       [-4.59073306e+08,  1.76817131e+08, -6.69786280e+07],\n",
       "       [-1.00730952e+08, -6.95196895e+06, -8.34421286e+07],\n",
       "       [-7.08482670e+08,  3.70409579e+07,  3.59161786e+08],\n",
       "       [-8.58597292e+08, -2.29785262e+07, -9.38762351e+07],\n",
       "       [-6.79019531e+08,  3.29018956e+08, -1.78496061e+08],\n",
       "       [-2.92769156e+07,  9.81109873e+07, -3.79223607e+08],\n",
       "       [-1.93500384e+05,  1.69968408e+07,  1.21855442e+05],\n",
       "       [-5.90946328e+08, -2.52761530e+08,  7.92077079e+07],\n",
       "       [-1.06504041e+08, -1.30326224e+08, -3.35862804e+08],\n",
       "       [-8.75146370e+06, -9.89460290e+05, -5.70786841e+06]])"
      ]
     },
     "execution_count": 72,
     "metadata": {},
     "output_type": "execute_result"
    }
   ],
   "source": [
    "ne(x,y,z,Ret,ωe(φ,θ,ψ,None,None))"
   ]
  },
  {
   "cell_type": "code",
   "execution_count": 73,
   "metadata": {},
   "outputs": [
    {
     "name": "stdout",
     "output_type": "stream",
     "text": [
      "0:00:00.000408\n"
     ]
    }
   ],
   "source": [
    "startTime1 = datetime.now()\n",
    "ne_(dx,dy,dz,DT,Ret)\n",
    "print(datetime.now() - startTime1)"
   ]
  },
  {
   "cell_type": "code",
   "execution_count": 74,
   "metadata": {},
   "outputs": [
    {
     "data": {
      "text/plain": [
       "(50, 3, 3)"
      ]
     },
     "execution_count": 74,
     "metadata": {},
     "output_type": "execute_result"
    }
   ],
   "source": [
    "Re_b(Ret).shape"
   ]
  },
  {
   "cell_type": "code",
   "execution_count": 75,
   "metadata": {},
   "outputs": [],
   "source": [
    "def Irho_e(Ret):\n",
    "    ans= np.multiply(np.multiply(Ret,Irho),Ret) # (19) in [3] \n",
    "    return ans\n"
   ]
  },
  {
   "cell_type": "code",
   "execution_count": 76,
   "metadata": {},
   "outputs": [
    {
     "data": {
      "text/plain": [
       "(50, 3, 3)"
      ]
     },
     "execution_count": 76,
     "metadata": {},
     "output_type": "execute_result"
    }
   ],
   "source": [
    "Irho_e(Ret).shape"
   ]
  },
  {
   "cell_type": "code",
   "execution_count": 77,
   "metadata": {},
   "outputs": [
    {
     "name": "stdout",
     "output_type": "stream",
     "text": [
      "0:00:00.000209\n"
     ]
    }
   ],
   "source": [
    "startTime1 = datetime.now()\n",
    "Irho_e(Ret)\n",
    "print(datetime.now() - startTime1)"
   ]
  },
  {
   "cell_type": "code",
   "execution_count": 78,
   "metadata": {},
   "outputs": [],
   "source": [
    "diag_CR = 1e11*np.array([1, 1, 1])\n",
    "CR=np.diag(diag_CR)"
   ]
  },
  {
   "cell_type": "code",
   "execution_count": 79,
   "metadata": {},
   "outputs": [
    {
     "data": {
      "text/plain": [
       "array([[1.e+11, 0.e+00, 0.e+00],\n",
       "       [0.e+00, 1.e+11, 0.e+00],\n",
       "       [0.e+00, 0.e+00, 1.e+11]])"
      ]
     },
     "execution_count": 79,
     "metadata": {},
     "output_type": "execute_result"
    }
   ],
   "source": [
    "CR"
   ]
  },
  {
   "cell_type": "code",
   "execution_count": 80,
   "metadata": {},
   "outputs": [],
   "source": [
    "def d_me(φ,θ,ψ,Ret,fun,omega):\n",
    "    A=np.multiply(np.multiply(Ret,CR),Ret)\n",
    "    B=d_s(fun,φ,θ,ψ,None,omega)\n",
    "    return np.einsum('ijk,ik->ij', A,B.T.astype(np.float32)) "
   ]
  },
  {
   "cell_type": "code",
   "execution_count": 81,
   "metadata": {},
   "outputs": [
    {
     "name": "stdout",
     "output_type": "stream",
     "text": [
      "0:00:00.005620\n"
     ]
    }
   ],
   "source": [
    "startTime1 = datetime.now()\n",
    "d_me_=d_me(φ,θ,ψ,Ret,ωe, ωe(φ,θ,ψ,None,None))\n",
    "print(datetime.now() - startTime1)"
   ]
  },
  {
   "cell_type": "code",
   "execution_count": 82,
   "metadata": {},
   "outputs": [
    {
     "data": {
      "text/plain": [
       "array([[ 6.96224703e-14,  4.41264154e-09, -3.36304568e-09],\n",
       "       [ 1.59063172e-16,  1.68415898e-12, -2.64206209e-09],\n",
       "       [ 8.58640861e-14,  3.91753317e-09, -4.28150089e-09],\n",
       "       [ 4.71171002e-14,  3.17267549e-09, -1.66545009e-09],\n",
       "       [ 2.55359380e-16,  4.54009754e-09, -1.14406491e-11],\n",
       "       [ 4.56121847e-15,  4.15936352e-09, -2.36586606e-10],\n",
       "       [ 3.94625072e-14,  8.30837113e-11, -4.87522685e-10],\n",
       "       [ 3.21303404e-14,  3.90494820e-09, -1.91841646e-09],\n",
       "       [ 2.67900168e-15,  6.08473286e-11, -1.92964838e-09],\n",
       "       [ 2.39926558e-14,  4.55239803e-10, -2.06896567e-09],\n",
       "       [ 8.19374588e-15,  8.44165974e-10, -1.58194943e-09],\n",
       "       [ 1.99392718e-16,  3.85641302e-09, -1.78924410e-11],\n",
       "       [ 4.29904230e-14,  1.72153078e-09, -3.33949831e-10],\n",
       "       [ 5.01644764e-14,  4.14681908e-09, -2.65230921e-09],\n",
       "       [ 9.01530621e-14,  4.14153231e-09, -4.38740713e-09],\n",
       "       [ 1.22253534e-14,  8.52113223e-10, -2.20199280e-09],\n",
       "       [ 7.15795378e-15,  9.38181430e-11, -3.52858562e-09],\n",
       "       [ 9.35484150e-14,  4.12157634e-09, -4.40827260e-09],\n",
       "       [ 3.34693654e-14,  4.47290564e-09, -1.47012784e-09],\n",
       "       [ 7.08124271e-14,  3.20597393e-09, -2.50103079e-09],\n",
       "       [ 5.35083740e-14,  2.76699726e-09, -4.15711431e-09],\n",
       "       [ 6.52168290e-14,  3.38068229e-09, -3.67497122e-09],\n",
       "       [ 7.98875342e-14,  4.36793955e-09, -3.71043250e-09],\n",
       "       [ 5.47968163e-14,  3.87172513e-09, -2.99428780e-09],\n",
       "       [ 2.24936806e-14,  2.29313843e-09, -2.78782631e-10],\n",
       "       [ 8.15375711e-14,  3.12385866e-12, -5.03525734e-11],\n",
       "       [ 3.33304183e-14,  2.50601907e-09, -7.23525117e-10],\n",
       "       [ 3.37629065e-16,  7.84433566e-12, -2.58963232e-10],\n",
       "       [ 3.95213947e-15,  2.72618341e-10, -5.78144000e-11],\n",
       "       [ 1.50006317e-14,  5.60010200e-10, -5.97569138e-10],\n",
       "       [ 6.14703508e-14,  1.47628823e-09, -1.14167396e-09],\n",
       "       [ 3.53654692e-15,  4.26187582e-09, -1.93986394e-10],\n",
       "       [ 8.51459853e-14,  3.86172943e-09, -3.74569359e-09],\n",
       "       [ 2.60803835e-14,  5.90255488e-10, -3.17759857e-09],\n",
       "       [ 3.82922582e-15,  1.17924260e-10, -4.29900245e-09],\n",
       "       [ 1.80724151e-14,  4.40987707e-09, -8.76058573e-10],\n",
       "       [ 9.39514907e-14,  4.39670840e-09, -4.53523351e-09],\n",
       "       [ 1.40536475e-14,  3.68024688e-09, -3.38069086e-10],\n",
       "       [ 6.28503602e-15,  1.55494945e-09, -4.54795326e-12],\n",
       "       [ 2.60015413e-15,  7.94422582e-10, -2.49503980e-09],\n",
       "       [ 5.95125343e-14,  1.31224507e-09, -2.56608525e-09],\n",
       "       [ 2.16502519e-14,  6.60397319e-11, -5.23891797e-10],\n",
       "       [ 7.94768553e-14,  4.61900532e-09, -3.68783268e-09],\n",
       "       [ 9.03400949e-14,  1.66063709e-09, -1.43086444e-09],\n",
       "       [ 7.72578808e-14,  3.49000749e-09, -4.33648375e-09],\n",
       "       [ 9.49952424e-15,  6.38085349e-10, -2.79105956e-09],\n",
       "       [ 3.34554162e-16,  7.96451931e-11, -4.24345012e-12],\n",
       "       [ 7.04239252e-14,  2.22894521e-09, -2.63779781e-09],\n",
       "       [ 2.24698001e-14,  7.99458446e-10, -3.44689104e-09],\n",
       "       [ 4.24690488e-15,  4.70761094e-12, -2.96675624e-10]])"
      ]
     },
     "execution_count": 82,
     "metadata": {},
     "output_type": "execute_result"
    }
   ],
   "source": [
    "d_me_"
   ]
  },
  {
   "cell_type": "code",
   "execution_count": 83,
   "metadata": {},
   "outputs": [],
   "source": [
    "diag_DR = 1.5*np.array([1, 1, 1]) \n",
    " \n",
    "DR=np.diag(diag_DR)"
   ]
  },
  {
   "cell_type": "code",
   "execution_count": 84,
   "metadata": {},
   "outputs": [
    {
     "data": {
      "text/plain": [
       "array([[-18763.27519578,  -6682.49129836,    189.00570584,\n",
       "          -182.5634431 , -15679.0433203 ,  -1486.26442382,\n",
       "        -27286.48850166, -11436.91636619, -10466.72425403,\n",
       "          4035.19259255,   -716.69133735,   -353.88634562,\n",
       "          2216.82810115,  -1945.57937053,  -8226.08289163,\n",
       "          6592.87576257,  18434.05047396,   6407.53171683,\n",
       "          2243.38881978,    -61.72195645,  -4888.23714166,\n",
       "        -13867.90451495,  -5008.10193978,  -1723.94279689,\n",
       "        -25779.24717003,  -2650.39130066,   3036.90019946,\n",
       "         -2887.14954891,  -9503.09596446,   -509.44278262,\n",
       "          2424.11712348,   4223.33468478,  -1295.46732194,\n",
       "          2658.05273022,   5305.55475254,  -4152.1020716 ,\n",
       "         13036.89735594,   3040.93570811,  18173.95382711,\n",
       "           -97.42720749,  14339.10201352, -12758.13923582,\n",
       "           763.66718973,   5100.027216  ,  -7067.146551  ,\n",
       "         11964.43000963,   7430.09568281,    180.39825009,\n",
       "         -3407.5426466 ,  17693.16711138],\n",
       "       [-45433.85768785,  -4018.32868037,     68.03764797,\n",
       "         24049.83208604,  -5402.816095  ,   2768.24657483,\n",
       "         15331.40925861,  -6297.04150357,   -192.79714648,\n",
       "         -1433.77156226,   -680.95110087,  -1233.21516712,\n",
       "         13166.06249058,    666.04782178,   1037.09208405,\n",
       "         17040.05607543,   -560.71281758,   1771.93465785,\n",
       "          5608.05420586,   1561.72492772,   9170.44627232,\n",
       "          -643.3863503 , -10545.88418361,  -2616.84950822,\n",
       "          1467.54404928,  -2083.14898334,   1311.23526225,\n",
       "          5401.46366273,  -6103.07238721,    637.39484879,\n",
       "          -800.89202586,   2436.94151269,   2795.01285711,\n",
       "         47003.71187022,   2260.2550019 ,   7919.3122916 ,\n",
       "         25321.26506409,   1181.87830801,  16166.34104992,\n",
       "          -353.31746192,  -4720.23321025,   6549.50216917,\n",
       "         -2502.28053711,  -3368.19045334,   1586.48355499,\n",
       "          3839.37647473,  -1322.85241124,  -2756.12906961,\n",
       "         -3183.39634779,   6668.5132643 ],\n",
       "       [  1189.60451922,  -1300.09022223,   -996.46311643,\n",
       "          9813.59506543,   -282.09051951,  -6883.90164102,\n",
       "         23617.39286468,   -731.55437532,  -4250.08276784,\n",
       "         -1519.8131632 ,    439.45414657,    622.04744984,\n",
       "         -8466.434797  ,  -1281.72816393,  20043.43781291,\n",
       "         -2485.81589901,    137.39046396,  -1203.78675296,\n",
       "        -28462.51551012,  -2196.50147647, -17030.92646239,\n",
       "          6001.48540172,  -7304.83751791,   2717.41501245,\n",
       "         29127.56421612,  -1697.82340029,  -3751.87424648,\n",
       "          1534.63134205,   2069.11242654,   -206.25765615,\n",
       "          3748.81677994,  -9627.27354238,   2650.06771307,\n",
       "         38745.71233891,    422.81582974,  -7313.50396202,\n",
       "          7010.837627  ,  -4136.05201974,  19181.0861869 ,\n",
       "         -5114.76873876, -11418.26772095,   2595.18140088,\n",
       "         21100.80410251,  -8724.12749252,  -6291.30521906,\n",
       "        -11550.08433641,   1701.17817268,   1814.54520126,\n",
       "         -1059.82492172,  17532.31135796]])"
      ]
     },
     "execution_count": 84,
     "metadata": {},
     "output_type": "execute_result"
    }
   ],
   "source": [
    "ne_(dx,dy,dz,DT,Ret)"
   ]
  },
  {
   "cell_type": "markdown",
   "metadata": {},
   "source": [
    "### Static solution"
   ]
  },
  {
   "cell_type": "code",
   "execution_count": 85,
   "metadata": {},
   "outputs": [],
   "source": [
    "def catenary(x,Ws,Fh):\n",
    "    return (Fh/Ws)*(np.cosh(x*Ws/Fh)-1)"
   ]
  },
  {
   "cell_type": "code",
   "execution_count": 86,
   "metadata": {},
   "outputs": [],
   "source": [
    "pipe_weight_per_unit_length = mi #  (submerged) [kg/m]  # 113.07 - not submerged"
   ]
  },
  {
   "cell_type": "code",
   "execution_count": 87,
   "metadata": {},
   "outputs": [],
   "source": [
    "Fx_0=82945396"
   ]
  },
  {
   "cell_type": "code",
   "execution_count": 88,
   "metadata": {},
   "outputs": [],
   "source": [
    "Ws = np.array(pipe_weight_per_unit_length)*9.81 # [N/m]\n",
    "h=700"
   ]
  },
  {
   "cell_type": "code",
   "execution_count": 89,
   "metadata": {},
   "outputs": [],
   "source": [
    "S=math.sqrt(h*(2*Fx_0/Ws[0] -h))\n",
    "horizontal_length=(Fx_0/Ws[0] -h)*np.log((S+Fx_0/Ws[0])/(Fx_0/Ws[0]-h))"
   ]
  },
  {
   "cell_type": "code",
   "execution_count": 90,
   "metadata": {},
   "outputs": [
    {
     "data": {
      "text/plain": [
       "array([941.76, 941.76, 941.76, 941.76, 941.76, 941.76, 941.76, 941.76,\n",
       "       941.76, 941.76, 941.76, 941.76, 941.76, 941.76, 941.76, 941.76,\n",
       "       941.76, 941.76, 941.76, 941.76, 941.76, 941.76, 941.76, 941.76,\n",
       "       941.76, 941.76, 941.76, 941.76, 941.76, 941.76, 941.76, 941.76,\n",
       "       941.76, 941.76, 941.76, 941.76, 941.76, 941.76, 941.76, 941.76,\n",
       "       941.76, 941.76, 941.76, 941.76, 941.76, 941.76, 941.76, 941.76,\n",
       "       941.76, 941.76])"
      ]
     },
     "execution_count": 90,
     "metadata": {},
     "output_type": "execute_result"
    }
   ],
   "source": [
    "Ws"
   ]
  },
  {
   "cell_type": "code",
   "execution_count": 91,
   "metadata": {},
   "outputs": [],
   "source": [
    "delta_x=horizontal_length/(node_N-1)"
   ]
  },
  {
   "cell_type": "code",
   "execution_count": 92,
   "metadata": {},
   "outputs": [],
   "source": [
    "x0=[i*delta_x for i in range(node_N)]\n",
    "z0=[]\n",
    "\n",
    "for i in range(len(x0)):\n",
    "    z0.append(catenary(x0[i],Ws[0],Fx_0))\n",
    "\n",
    "length_p=[]\n",
    "for i in range(1,len(z0)):\n",
    "    length_p.append(math.sqrt((x0[i]-x0[i-1])**2+(z0[i]-z0[i-1])**2))"
   ]
  },
  {
   "cell_type": "code",
   "execution_count": 93,
   "metadata": {},
   "outputs": [
    {
     "data": {
      "text/plain": [
       "([0.0,\n",
       "  225.56499682574736,\n",
       "  451.1299936514947,\n",
       "  676.6949904772421,\n",
       "  902.2599873029894,\n",
       "  1127.8249841287368,\n",
       "  1353.3899809544841,\n",
       "  1578.9549777802315,\n",
       "  1804.5199746059789,\n",
       "  2030.0849714317262,\n",
       "  2255.6499682574736,\n",
       "  2481.2149650832207,\n",
       "  2706.7799619089683,\n",
       "  2932.344958734716,\n",
       "  3157.909955560463,\n",
       "  3383.47495238621,\n",
       "  3609.0399492119577,\n",
       "  3834.6049460377053,\n",
       "  4060.1699428634524,\n",
       "  4285.7349396892,\n",
       "  4511.299936514947,\n",
       "  4736.864933340695,\n",
       "  4962.429930166441,\n",
       "  5187.994926992189,\n",
       "  5413.559923817937,\n",
       "  5639.124920643684,\n",
       "  5864.689917469432,\n",
       "  6090.254914295178,\n",
       "  6315.819911120926,\n",
       "  6541.384907946674,\n",
       "  6766.94990477242,\n",
       "  6992.514901598168,\n",
       "  7218.079898423915,\n",
       "  7443.644895249663,\n",
       "  7669.209892075411,\n",
       "  7894.774888901157,\n",
       "  8120.339885726905,\n",
       "  8345.904882552652,\n",
       "  8571.4698793784,\n",
       "  8797.034876204147,\n",
       "  9022.599873029894,\n",
       "  9248.164869855642,\n",
       "  9473.72986668139,\n",
       "  9699.294863507137,\n",
       "  9924.859860332883,\n",
       "  10150.42485715863,\n",
       "  10375.989853984378,\n",
       "  10601.554850810126,\n",
       "  10827.119847635873,\n",
       "  11052.68484446162],\n",
       " [0.0,\n",
       "  0.2888428427924309,\n",
       "  1.155373265710624,\n",
       "  2.5995969523577234,\n",
       "  4.621523375418674,\n",
       "  7.221165796797117,\n",
       "  10.398541267595833,\n",
       "  14.15367062831231,\n",
       "  18.486578508975636,\n",
       "  23.39729332924428,\n",
       "  28.885847298621222,\n",
       "  34.95227641670818,\n",
       "  41.59662047340119,\n",
       "  48.81892304912524,\n",
       "  56.619231515186364,\n",
       "  64.99759703402582,\n",
       "  73.9540745596112,\n",
       "  83.48872283771031,\n",
       "  93.60160440638002,\n",
       "  104.29278559627915,\n",
       "  115.56233653119654,\n",
       "  127.41033112846175,\n",
       "  139.83684709937523,\n",
       "  152.8419659498538,\n",
       "  166.4257729808412,\n",
       "  180.58835728891447,\n",
       "  195.3298117668901,\n",
       "  210.65023310439128,\n",
       "  226.54972178849314,\n",
       "  243.02838210444648,\n",
       "  260.0863221362252,\n",
       "  277.72365376736735,\n",
       "  295.94049268164,\n",
       "  314.7369583638412,\n",
       "  334.1131741005232,\n",
       "  354.0692669808534,\n",
       "  374.60536789741576,\n",
       "  395.72161154711085,\n",
       "  417.41813643197673,\n",
       "  439.6950848601867,\n",
       "  462.5526029468705,\n",
       "  485.9908406151509,\n",
       "  510.0099515971214,\n",
       "  534.6100934348437,\n",
       "  559.7914274813454,\n",
       "  585.5541189017534,\n",
       "  611.8983366742727,\n",
       "  638.8242535914375,\n",
       "  666.3320462610891,\n",
       "  694.4218951076863])"
      ]
     },
     "execution_count": 93,
     "metadata": {},
     "output_type": "execute_result"
    }
   ],
   "source": [
    "x0,z0"
   ]
  },
  {
   "cell_type": "code",
   "execution_count": 94,
   "metadata": {},
   "outputs": [
    {
     "data": {
      "text/plain": [
       "[225.56518176169666,\n",
       " 225.56666125111053,\n",
       " 225.5696202396424,\n",
       " 225.57405874670005,\n",
       " 225.57997680139619,\n",
       " 225.58737444254686,\n",
       " 225.59625171867356,\n",
       " 225.60660868800304,\n",
       " 225.61844541846622,\n",
       " 225.63176198770017,\n",
       " 225.64655848304906,\n",
       " 225.66283500156428,\n",
       " 225.6805916500017,\n",
       " 225.69982854482856,\n",
       " 225.72054581222017,\n",
       " 225.74274358806272,\n",
       " 225.76642201794883,\n",
       " 225.79158125718783,\n",
       " 225.81822147079842,\n",
       " 225.84634283351636,\n",
       " 225.8759455297893,\n",
       " 225.90702975377832,\n",
       " 225.93959570937227,\n",
       " 225.97364361016668,\n",
       " 226.00917367948318,\n",
       " 226.04618615036563,\n",
       " 226.08468126557727,\n",
       " 226.1246592776104,\n",
       " 226.1661204486828,\n",
       " 226.20906505073324,\n",
       " 226.25349336544267,\n",
       " 226.29940568421313,\n",
       " 226.34680230818745,\n",
       " 226.39568354823808,\n",
       " 226.4460497249786,\n",
       " 226.49790116876304,\n",
       " 226.55123821968485,\n",
       " 226.60606122758307,\n",
       " 226.6623705520452,\n",
       " 226.72016656240044,\n",
       " 226.77944963773572,\n",
       " 226.84022016689133,\n",
       " 226.90247854846268,\n",
       " 226.96622519079838,\n",
       " 227.03146051202393,\n",
       " 227.0981849400066,\n",
       " 227.16639891240425,\n",
       " 227.2361028766249,\n",
       " 227.30729728986748]"
      ]
     },
     "execution_count": 94,
     "metadata": {},
     "output_type": "execute_result"
    }
   ],
   "source": [
    "length_p"
   ]
  },
  {
   "cell_type": "code",
   "execution_count": 95,
   "metadata": {},
   "outputs": [
    {
     "data": {
      "image/png": "[encoded data removed]",
      "text/plain": [
       "<Figure size 432x288 with 1 Axes>"
      ]
     },
     "metadata": {
      "needs_background": "light"
     },
     "output_type": "display_data"
    }
   ],
   "source": [
    "plt.plot(x0, z0)\n",
    "plt.show()"
   ]
  },
  {
   "cell_type": "code",
   "execution_count": 96,
   "metadata": {},
   "outputs": [],
   "source": [
    "rng = np.random.default_rng(seed=29)\n",
    "q0=np.zeros(12*node_N)"
   ]
  },
  {
   "cell_type": "code",
   "execution_count": 97,
   "metadata": {},
   "outputs": [],
   "source": [
    "for j in range(1,12):\n",
    "    if j==1:  \n",
    "        q0[(j-1)*node_N:j*node_N]=x0\n",
    "    elif j==5:    \n",
    "        q0[(j-1)*node_N:j*node_N]=z0"
   ]
  },
  {
   "cell_type": "code",
   "execution_count": 98,
   "metadata": {},
   "outputs": [],
   "source": [
    "def static_func(Q):\n",
    "    t=0\n",
    " \n",
    "    x,y,z=Q[0:node_N],Q[2*node_N:3*node_N],Q[4*node_N:5*node_N]\n",
    "    dx,dy,dz=Q[1*node_N:2*node_N],Q[3*node_N:4*node_N],Q[5*node_N:6*node_N]\n",
    "    φ,θ,ψ=Q[6*node_N:7*node_N],Q[8*node_N:9*node_N],Q[10*node_N:11*node_N]\n",
    "    Ret = Re_t(φ,θ,ψ)\n",
    "\n",
    "    \n",
    "    dφ,dθ,dψ=Q[7*node_N:8*node_N],Q[9*node_N:10*node_N],Q[11*node_N:12*node_N]\n",
    "    \n",
    "    η=[x[-1],y[-1],z[-1],φ[-1],θ[-1],ψ[-1]]\n",
    "    \n",
    "    tau_force=np.array([-Fx_0,0,0,0,0,0])\n",
    "    Z0=np.dot(Re_b(Ret),tau_force[:3])\n",
    "    Z1 = d_s(ne, x, y, z, Ret, ωe(φ,θ,ψ,None,None)).T\n",
    "#     test=np.einsum('ijk,ik->ij',Π(φ,θ,ψ).astype(np.float32),np.array([dφ,dθ,dψ]).astype(np.float32).T)\n",
    "\n",
    "#     Z1 = d_s(ne, x, y, z, Ret, test).T\n",
    "    DT_0=np.zeros((3,3))\n",
    "    Z2=ne_(dx,dy,dz,DT_0,Ret).T\n",
    "    \n",
    "    \n",
    "    Z =  Z1 + Z2 + Z0\n",
    "    \n",
    "    \n",
    "############################################################ \n",
    "    ddx,ddy, ddz = np.linalg.solve(Ws[0]*Re_b(Ret),Z).T\n",
    "\n",
    "############################################################    \n",
    "\n",
    "    C0=np.einsum('ijk,kp->ijp',np.einsum('ijk,ikr->ijr',np.linalg.inv(Π(φ,θ,ψ).astype(np.float32)),\n",
    "                        Re_b(Ret)),tau_force[3:].reshape(3,1)) \n",
    "    C3=d_me(φ,θ,ψ,Ret,  ωe,ωe(φ,θ,ψ,None,None))\n",
    "    B_ =C3\n",
    "    B=(B_ + C0.squeeze()\n",
    "      )\n",
    "\n",
    "    A2 = Irho_e(Ret).astype(np.float32)\n",
    "    A3=Π(φ,θ,ψ).astype(np.float32)\n",
    "    A=np.einsum('ijk,ikr->ijr',A2,A3)\n",
    "\n",
    "\n",
    "#############################################\n",
    "    ddφ,ddθ,ddψ = np.linalg.solve(A,B).T\n",
    "#############################################\n",
    "\n",
    "    ans=np.concatenate([dx, ddx, dy, ddy, dz, ddz, dφ, ddφ, dθ, ddθ, dψ, ddψ], axis=0)\n",
    "  \n",
    " \n",
    "    return ans  "
   ]
  },
  {
   "cell_type": "code",
   "execution_count": 99,
   "metadata": {},
   "outputs": [
    {
     "data": {
      "text/plain": [
       "array([0.00000000e+00, 2.25564997e+02, 4.51129994e+02, 6.76694990e+02,\n",
       "       9.02259987e+02, 1.12782498e+03, 1.35338998e+03, 1.57895498e+03,\n",
       "       1.80451997e+03, 2.03008497e+03, 2.25564997e+03, 2.48121497e+03,\n",
       "       2.70677996e+03, 2.93234496e+03, 3.15790996e+03, 3.38347495e+03,\n",
       "       3.60903995e+03, 3.83460495e+03, 4.06016994e+03, 4.28573494e+03,\n",
       "       4.51129994e+03, 4.73686493e+03, 4.96242993e+03, 5.18799493e+03,\n",
       "       5.41355992e+03, 5.63912492e+03, 5.86468992e+03, 6.09025491e+03,\n",
       "       6.31581991e+03, 6.54138491e+03, 6.76694990e+03, 6.99251490e+03,\n",
       "       7.21807990e+03, 7.44364490e+03, 7.66920989e+03, 7.89477489e+03,\n",
       "       8.12033989e+03, 8.34590488e+03, 8.57146988e+03, 8.79703488e+03,\n",
       "       9.02259987e+03, 9.24816487e+03, 9.47372987e+03, 9.69929486e+03,\n",
       "       9.92485986e+03, 1.01504249e+04, 1.03759899e+04, 1.06015549e+04,\n",
       "       1.08271198e+04, 1.10526848e+04, 0.00000000e+00, 0.00000000e+00,\n",
       "       0.00000000e+00, 0.00000000e+00, 0.00000000e+00, 0.00000000e+00,\n",
       "       0.00000000e+00, 0.00000000e+00, 0.00000000e+00, 0.00000000e+00,\n",
       "       0.00000000e+00, 0.00000000e+00, 0.00000000e+00, 0.00000000e+00,\n",
       "       0.00000000e+00, 0.00000000e+00, 0.00000000e+00, 0.00000000e+00,\n",
       "       0.00000000e+00, 0.00000000e+00, 0.00000000e+00, 0.00000000e+00,\n",
       "       0.00000000e+00, 0.00000000e+00, 0.00000000e+00, 0.00000000e+00,\n",
       "       0.00000000e+00, 0.00000000e+00, 0.00000000e+00, 0.00000000e+00,\n",
       "       0.00000000e+00, 0.00000000e+00, 0.00000000e+00, 0.00000000e+00,\n",
       "       0.00000000e+00, 0.00000000e+00, 0.00000000e+00, 0.00000000e+00,\n",
       "       0.00000000e+00, 0.00000000e+00, 0.00000000e+00, 0.00000000e+00,\n",
       "       0.00000000e+00, 0.00000000e+00, 0.00000000e+00, 0.00000000e+00,\n",
       "       0.00000000e+00, 0.00000000e+00, 0.00000000e+00, 0.00000000e+00,\n",
       "       0.00000000e+00, 0.00000000e+00, 0.00000000e+00, 0.00000000e+00,\n",
       "       0.00000000e+00, 0.00000000e+00, 0.00000000e+00, 0.00000000e+00,\n",
       "       0.00000000e+00, 0.00000000e+00, 0.00000000e+00, 0.00000000e+00,\n",
       "       0.00000000e+00, 0.00000000e+00, 0.00000000e+00, 0.00000000e+00,\n",
       "       0.00000000e+00, 0.00000000e+00, 0.00000000e+00, 0.00000000e+00,\n",
       "       0.00000000e+00, 0.00000000e+00, 0.00000000e+00, 0.00000000e+00,\n",
       "       0.00000000e+00, 0.00000000e+00, 0.00000000e+00, 0.00000000e+00,\n",
       "       0.00000000e+00, 0.00000000e+00, 0.00000000e+00, 0.00000000e+00,\n",
       "       0.00000000e+00, 0.00000000e+00, 0.00000000e+00, 0.00000000e+00,\n",
       "       0.00000000e+00, 0.00000000e+00, 0.00000000e+00, 0.00000000e+00,\n",
       "       0.00000000e+00, 0.00000000e+00, 0.00000000e+00, 0.00000000e+00,\n",
       "       0.00000000e+00, 0.00000000e+00, 0.00000000e+00, 0.00000000e+00,\n",
       "       0.00000000e+00, 0.00000000e+00, 0.00000000e+00, 0.00000000e+00,\n",
       "       0.00000000e+00, 0.00000000e+00, 0.00000000e+00, 0.00000000e+00,\n",
       "       0.00000000e+00, 0.00000000e+00, 0.00000000e+00, 0.00000000e+00,\n",
       "       0.00000000e+00, 0.00000000e+00, 0.00000000e+00, 0.00000000e+00,\n",
       "       0.00000000e+00, 0.00000000e+00, 0.00000000e+00, 0.00000000e+00,\n",
       "       0.00000000e+00, 0.00000000e+00, 0.00000000e+00, 0.00000000e+00,\n",
       "       0.00000000e+00, 0.00000000e+00, 0.00000000e+00, 0.00000000e+00,\n",
       "       0.00000000e+00, 0.00000000e+00, 0.00000000e+00, 0.00000000e+00,\n",
       "       0.00000000e+00, 0.00000000e+00, 0.00000000e+00, 0.00000000e+00,\n",
       "       0.00000000e+00, 0.00000000e+00, 0.00000000e+00, 0.00000000e+00,\n",
       "       0.00000000e+00, 0.00000000e+00, 0.00000000e+00, 0.00000000e+00,\n",
       "       0.00000000e+00, 0.00000000e+00, 0.00000000e+00, 0.00000000e+00,\n",
       "       0.00000000e+00, 0.00000000e+00, 0.00000000e+00, 0.00000000e+00,\n",
       "       0.00000000e+00, 2.88842843e-01, 1.15537327e+00, 2.59959695e+00,\n",
       "       4.62152338e+00, 7.22116580e+00, 1.03985413e+01, 1.41536706e+01,\n",
       "       1.84865785e+01, 2.33972933e+01, 2.88858473e+01, 3.49522764e+01,\n",
       "       4.15966205e+01, 4.88189230e+01, 5.66192315e+01, 6.49975970e+01,\n",
       "       7.39540746e+01, 8.34887228e+01, 9.36016044e+01, 1.04292786e+02,\n",
       "       1.15562337e+02, 1.27410331e+02, 1.39836847e+02, 1.52841966e+02,\n",
       "       1.66425773e+02, 1.80588357e+02, 1.95329812e+02, 2.10650233e+02,\n",
       "       2.26549722e+02, 2.43028382e+02, 2.60086322e+02, 2.77723654e+02,\n",
       "       2.95940493e+02, 3.14736958e+02, 3.34113174e+02, 3.54069267e+02,\n",
       "       3.74605368e+02, 3.95721612e+02, 4.17418136e+02, 4.39695085e+02,\n",
       "       4.62552603e+02, 4.85990841e+02, 5.10009952e+02, 5.34610093e+02,\n",
       "       5.59791427e+02, 5.85554119e+02, 6.11898337e+02, 6.38824254e+02,\n",
       "       6.66332046e+02, 6.94421895e+02, 0.00000000e+00, 0.00000000e+00,\n",
       "       0.00000000e+00, 0.00000000e+00, 0.00000000e+00, 0.00000000e+00,\n",
       "       0.00000000e+00, 0.00000000e+00, 0.00000000e+00, 0.00000000e+00,\n",
       "       0.00000000e+00, 0.00000000e+00, 0.00000000e+00, 0.00000000e+00,\n",
       "       0.00000000e+00, 0.00000000e+00, 0.00000000e+00, 0.00000000e+00,\n",
       "       0.00000000e+00, 0.00000000e+00, 0.00000000e+00, 0.00000000e+00,\n",
       "       0.00000000e+00, 0.00000000e+00, 0.00000000e+00, 0.00000000e+00,\n",
       "       0.00000000e+00, 0.00000000e+00, 0.00000000e+00, 0.00000000e+00,\n",
       "       0.00000000e+00, 0.00000000e+00, 0.00000000e+00, 0.00000000e+00,\n",
       "       0.00000000e+00, 0.00000000e+00, 0.00000000e+00, 0.00000000e+00,\n",
       "       0.00000000e+00, 0.00000000e+00, 0.00000000e+00, 0.00000000e+00,\n",
       "       0.00000000e+00, 0.00000000e+00, 0.00000000e+00, 0.00000000e+00,\n",
       "       0.00000000e+00, 0.00000000e+00, 0.00000000e+00, 0.00000000e+00,\n",
       "       0.00000000e+00, 0.00000000e+00, 0.00000000e+00, 0.00000000e+00,\n",
       "       0.00000000e+00, 0.00000000e+00, 0.00000000e+00, 0.00000000e+00,\n",
       "       0.00000000e+00, 0.00000000e+00, 0.00000000e+00, 0.00000000e+00,\n",
       "       0.00000000e+00, 0.00000000e+00, 0.00000000e+00, 0.00000000e+00,\n",
       "       0.00000000e+00, 0.00000000e+00, 0.00000000e+00, 0.00000000e+00,\n",
       "       0.00000000e+00, 0.00000000e+00, 0.00000000e+00, 0.00000000e+00,\n",
       "       0.00000000e+00, 0.00000000e+00, 0.00000000e+00, 0.00000000e+00,\n",
       "       0.00000000e+00, 0.00000000e+00, 0.00000000e+00, 0.00000000e+00,\n",
       "       0.00000000e+00, 0.00000000e+00, 0.00000000e+00, 0.00000000e+00,\n",
       "       0.00000000e+00, 0.00000000e+00, 0.00000000e+00, 0.00000000e+00,\n",
       "       0.00000000e+00, 0.00000000e+00, 0.00000000e+00, 0.00000000e+00,\n",
       "       0.00000000e+00, 0.00000000e+00, 0.00000000e+00, 0.00000000e+00,\n",
       "       0.00000000e+00, 0.00000000e+00, 0.00000000e+00, 0.00000000e+00,\n",
       "       0.00000000e+00, 0.00000000e+00, 0.00000000e+00, 0.00000000e+00,\n",
       "       0.00000000e+00, 0.00000000e+00, 0.00000000e+00, 0.00000000e+00,\n",
       "       0.00000000e+00, 0.00000000e+00, 0.00000000e+00, 0.00000000e+00,\n",
       "       0.00000000e+00, 0.00000000e+00, 0.00000000e+00, 0.00000000e+00,\n",
       "       0.00000000e+00, 0.00000000e+00, 0.00000000e+00, 0.00000000e+00,\n",
       "       0.00000000e+00, 0.00000000e+00, 0.00000000e+00, 0.00000000e+00,\n",
       "       0.00000000e+00, 0.00000000e+00, 0.00000000e+00, 0.00000000e+00,\n",
       "       0.00000000e+00, 0.00000000e+00, 0.00000000e+00, 0.00000000e+00,\n",
       "       0.00000000e+00, 0.00000000e+00, 0.00000000e+00, 0.00000000e+00,\n",
       "       0.00000000e+00, 0.00000000e+00, 0.00000000e+00, 0.00000000e+00,\n",
       "       0.00000000e+00, 0.00000000e+00, 0.00000000e+00, 0.00000000e+00,\n",
       "       0.00000000e+00, 0.00000000e+00, 0.00000000e+00, 0.00000000e+00,\n",
       "       0.00000000e+00, 0.00000000e+00, 0.00000000e+00, 0.00000000e+00,\n",
       "       0.00000000e+00, 0.00000000e+00, 0.00000000e+00, 0.00000000e+00,\n",
       "       0.00000000e+00, 0.00000000e+00, 0.00000000e+00, 0.00000000e+00,\n",
       "       0.00000000e+00, 0.00000000e+00, 0.00000000e+00, 0.00000000e+00,\n",
       "       0.00000000e+00, 0.00000000e+00, 0.00000000e+00, 0.00000000e+00,\n",
       "       0.00000000e+00, 0.00000000e+00, 0.00000000e+00, 0.00000000e+00,\n",
       "       0.00000000e+00, 0.00000000e+00, 0.00000000e+00, 0.00000000e+00,\n",
       "       0.00000000e+00, 0.00000000e+00, 0.00000000e+00, 0.00000000e+00,\n",
       "       0.00000000e+00, 0.00000000e+00, 0.00000000e+00, 0.00000000e+00,\n",
       "       0.00000000e+00, 0.00000000e+00, 0.00000000e+00, 0.00000000e+00,\n",
       "       0.00000000e+00, 0.00000000e+00, 0.00000000e+00, 0.00000000e+00,\n",
       "       0.00000000e+00, 0.00000000e+00, 0.00000000e+00, 0.00000000e+00,\n",
       "       0.00000000e+00, 0.00000000e+00, 0.00000000e+00, 0.00000000e+00,\n",
       "       0.00000000e+00, 0.00000000e+00, 0.00000000e+00, 0.00000000e+00,\n",
       "       0.00000000e+00, 0.00000000e+00, 0.00000000e+00, 0.00000000e+00,\n",
       "       0.00000000e+00, 0.00000000e+00, 0.00000000e+00, 0.00000000e+00,\n",
       "       0.00000000e+00, 0.00000000e+00, 0.00000000e+00, 0.00000000e+00,\n",
       "       0.00000000e+00, 0.00000000e+00, 0.00000000e+00, 0.00000000e+00,\n",
       "       0.00000000e+00, 0.00000000e+00, 0.00000000e+00, 0.00000000e+00,\n",
       "       0.00000000e+00, 0.00000000e+00, 0.00000000e+00, 0.00000000e+00,\n",
       "       0.00000000e+00, 0.00000000e+00, 0.00000000e+00, 0.00000000e+00,\n",
       "       0.00000000e+00, 0.00000000e+00, 0.00000000e+00, 0.00000000e+00,\n",
       "       0.00000000e+00, 0.00000000e+00, 0.00000000e+00, 0.00000000e+00,\n",
       "       0.00000000e+00, 0.00000000e+00, 0.00000000e+00, 0.00000000e+00,\n",
       "       0.00000000e+00, 0.00000000e+00, 0.00000000e+00, 0.00000000e+00,\n",
       "       0.00000000e+00, 0.00000000e+00, 0.00000000e+00, 0.00000000e+00,\n",
       "       0.00000000e+00, 0.00000000e+00, 0.00000000e+00, 0.00000000e+00,\n",
       "       0.00000000e+00, 0.00000000e+00, 0.00000000e+00, 0.00000000e+00,\n",
       "       0.00000000e+00, 0.00000000e+00, 0.00000000e+00, 0.00000000e+00,\n",
       "       0.00000000e+00, 0.00000000e+00, 0.00000000e+00, 0.00000000e+00,\n",
       "       0.00000000e+00, 0.00000000e+00, 0.00000000e+00, 0.00000000e+00,\n",
       "       0.00000000e+00, 0.00000000e+00, 0.00000000e+00, 0.00000000e+00,\n",
       "       0.00000000e+00, 0.00000000e+00, 0.00000000e+00, 0.00000000e+00,\n",
       "       0.00000000e+00, 0.00000000e+00, 0.00000000e+00, 0.00000000e+00,\n",
       "       0.00000000e+00, 0.00000000e+00, 0.00000000e+00, 0.00000000e+00,\n",
       "       0.00000000e+00, 0.00000000e+00, 0.00000000e+00, 0.00000000e+00,\n",
       "       0.00000000e+00, 0.00000000e+00, 0.00000000e+00, 0.00000000e+00,\n",
       "       0.00000000e+00, 0.00000000e+00, 0.00000000e+00, 0.00000000e+00,\n",
       "       0.00000000e+00, 0.00000000e+00, 0.00000000e+00, 0.00000000e+00,\n",
       "       0.00000000e+00, 0.00000000e+00, 0.00000000e+00, 0.00000000e+00,\n",
       "       0.00000000e+00, 0.00000000e+00, 0.00000000e+00, 0.00000000e+00,\n",
       "       0.00000000e+00, 0.00000000e+00, 0.00000000e+00, 0.00000000e+00,\n",
       "       0.00000000e+00, 0.00000000e+00, 0.00000000e+00, 0.00000000e+00,\n",
       "       0.00000000e+00, 0.00000000e+00, 0.00000000e+00, 0.00000000e+00,\n",
       "       0.00000000e+00, 0.00000000e+00, 0.00000000e+00, 0.00000000e+00,\n",
       "       0.00000000e+00, 0.00000000e+00, 0.00000000e+00, 0.00000000e+00,\n",
       "       0.00000000e+00, 0.00000000e+00, 0.00000000e+00, 0.00000000e+00,\n",
       "       0.00000000e+00, 0.00000000e+00, 0.00000000e+00, 0.00000000e+00,\n",
       "       0.00000000e+00, 0.00000000e+00, 0.00000000e+00, 0.00000000e+00,\n",
       "       0.00000000e+00, 0.00000000e+00, 0.00000000e+00, 0.00000000e+00])"
      ]
     },
     "execution_count": 99,
     "metadata": {},
     "output_type": "execute_result"
    }
   ],
   "source": [
    "q0"
   ]
  },
  {
   "cell_type": "code",
   "execution_count": 100,
   "metadata": {},
   "outputs": [
    {
     "name": "stderr",
     "output_type": "stream",
     "text": [
      "/Library/Frameworks/Python.framework/Versions/3.7/lib/python3.7/site-packages/scipy/optimize/minpack.py:175: RuntimeWarning: The iteration is not making good progress, as measured by the \n",
      "  improvement from the last ten iterations.\n",
      "  warnings.warn(msg, RuntimeWarning)\n"
     ]
    }
   ],
   "source": [
    "root = fsolve(static_func, q0)"
   ]
  },
  {
   "cell_type": "code",
   "execution_count": 101,
   "metadata": {},
   "outputs": [
    {
     "data": {
      "text/plain": [
       "array([0.00000000e+00, 2.25564997e+02, 4.51129994e+02, 6.76694990e+02,\n",
       "       9.02259987e+02, 1.12782498e+03, 1.35338998e+03, 1.57895498e+03,\n",
       "       1.80451997e+03, 2.03008497e+03, 2.25564997e+03, 2.48121497e+03,\n",
       "       2.70677996e+03, 2.93234496e+03, 3.15790996e+03, 3.38347495e+03,\n",
       "       3.60903995e+03, 3.83460495e+03, 4.06016994e+03, 4.28573494e+03,\n",
       "       4.51129994e+03, 4.73686493e+03, 4.96242993e+03, 5.18799493e+03,\n",
       "       5.41355992e+03, 5.63912492e+03, 5.86468992e+03, 6.09025491e+03,\n",
       "       6.31581991e+03, 6.54138491e+03, 6.76694990e+03, 6.99251490e+03,\n",
       "       7.21807990e+03, 7.44364490e+03, 7.66920989e+03, 7.89477489e+03,\n",
       "       8.12033989e+03, 8.34590488e+03, 8.57146988e+03, 8.79703488e+03,\n",
       "       9.02259987e+03, 9.24816487e+03, 9.47372987e+03, 9.69929486e+03,\n",
       "       9.92485986e+03, 1.01504249e+04, 1.03759899e+04, 1.06015549e+04,\n",
       "       1.08271198e+04, 1.10526848e+04, 0.00000000e+00, 0.00000000e+00,\n",
       "       0.00000000e+00, 0.00000000e+00, 0.00000000e+00, 0.00000000e+00,\n",
       "       0.00000000e+00, 0.00000000e+00, 0.00000000e+00, 0.00000000e+00,\n",
       "       0.00000000e+00, 0.00000000e+00, 0.00000000e+00, 0.00000000e+00,\n",
       "       0.00000000e+00, 0.00000000e+00, 0.00000000e+00, 0.00000000e+00,\n",
       "       0.00000000e+00, 0.00000000e+00, 0.00000000e+00, 0.00000000e+00,\n",
       "       0.00000000e+00, 0.00000000e+00, 0.00000000e+00, 0.00000000e+00,\n",
       "       0.00000000e+00, 0.00000000e+00, 0.00000000e+00, 0.00000000e+00,\n",
       "       0.00000000e+00, 0.00000000e+00, 0.00000000e+00, 0.00000000e+00,\n",
       "       0.00000000e+00, 0.00000000e+00, 0.00000000e+00, 0.00000000e+00,\n",
       "       0.00000000e+00, 0.00000000e+00, 0.00000000e+00, 0.00000000e+00,\n",
       "       0.00000000e+00, 0.00000000e+00, 0.00000000e+00, 0.00000000e+00,\n",
       "       0.00000000e+00, 0.00000000e+00, 0.00000000e+00, 0.00000000e+00,\n",
       "       0.00000000e+00, 0.00000000e+00, 0.00000000e+00, 0.00000000e+00,\n",
       "       0.00000000e+00, 0.00000000e+00, 0.00000000e+00, 0.00000000e+00,\n",
       "       0.00000000e+00, 0.00000000e+00, 0.00000000e+00, 0.00000000e+00,\n",
       "       0.00000000e+00, 0.00000000e+00, 0.00000000e+00, 0.00000000e+00,\n",
       "       0.00000000e+00, 0.00000000e+00, 0.00000000e+00, 0.00000000e+00,\n",
       "       0.00000000e+00, 0.00000000e+00, 0.00000000e+00, 0.00000000e+00,\n",
       "       0.00000000e+00, 0.00000000e+00, 0.00000000e+00, 0.00000000e+00,\n",
       "       0.00000000e+00, 0.00000000e+00, 0.00000000e+00, 0.00000000e+00,\n",
       "       0.00000000e+00, 0.00000000e+00, 0.00000000e+00, 0.00000000e+00,\n",
       "       0.00000000e+00, 0.00000000e+00, 0.00000000e+00, 0.00000000e+00,\n",
       "       0.00000000e+00, 0.00000000e+00, 0.00000000e+00, 0.00000000e+00,\n",
       "       0.00000000e+00, 0.00000000e+00, 0.00000000e+00, 0.00000000e+00,\n",
       "       0.00000000e+00, 0.00000000e+00, 0.00000000e+00, 0.00000000e+00,\n",
       "       0.00000000e+00, 0.00000000e+00, 0.00000000e+00, 0.00000000e+00,\n",
       "       0.00000000e+00, 0.00000000e+00, 0.00000000e+00, 0.00000000e+00,\n",
       "       0.00000000e+00, 0.00000000e+00, 0.00000000e+00, 0.00000000e+00,\n",
       "       0.00000000e+00, 0.00000000e+00, 0.00000000e+00, 0.00000000e+00,\n",
       "       0.00000000e+00, 0.00000000e+00, 0.00000000e+00, 0.00000000e+00,\n",
       "       0.00000000e+00, 0.00000000e+00, 0.00000000e+00, 0.00000000e+00,\n",
       "       0.00000000e+00, 0.00000000e+00, 0.00000000e+00, 0.00000000e+00,\n",
       "       0.00000000e+00, 0.00000000e+00, 0.00000000e+00, 0.00000000e+00,\n",
       "       0.00000000e+00, 0.00000000e+00, 0.00000000e+00, 0.00000000e+00,\n",
       "       0.00000000e+00, 0.00000000e+00, 0.00000000e+00, 0.00000000e+00,\n",
       "       0.00000000e+00, 0.00000000e+00, 0.00000000e+00, 0.00000000e+00,\n",
       "       0.00000000e+00, 0.00000000e+00, 0.00000000e+00, 0.00000000e+00,\n",
       "       0.00000000e+00, 2.88842843e-01, 1.15537327e+00, 2.59959695e+00,\n",
       "       4.62152338e+00, 7.22116580e+00, 1.03985413e+01, 1.41536706e+01,\n",
       "       1.84865785e+01, 2.33972933e+01, 2.88858473e+01, 3.49522764e+01,\n",
       "       4.15966205e+01, 4.88189230e+01, 5.66192315e+01, 6.49975970e+01,\n",
       "       7.39540746e+01, 8.34887228e+01, 9.36016044e+01, 1.04292786e+02,\n",
       "       1.15562337e+02, 1.27410331e+02, 1.39836847e+02, 1.52841966e+02,\n",
       "       1.66425773e+02, 1.80588357e+02, 1.95329812e+02, 2.10650233e+02,\n",
       "       2.26549722e+02, 2.43028382e+02, 2.60086322e+02, 2.77723654e+02,\n",
       "       2.95940493e+02, 3.14736958e+02, 3.34113174e+02, 3.54069267e+02,\n",
       "       3.74605368e+02, 3.95721612e+02, 4.17418136e+02, 4.39695085e+02,\n",
       "       4.62552603e+02, 4.85990841e+02, 5.10009952e+02, 5.34610093e+02,\n",
       "       5.59791427e+02, 5.85554119e+02, 6.11898337e+02, 6.38824254e+02,\n",
       "       6.66332046e+02, 6.94421895e+02, 0.00000000e+00, 0.00000000e+00,\n",
       "       0.00000000e+00, 0.00000000e+00, 0.00000000e+00, 0.00000000e+00,\n",
       "       0.00000000e+00, 0.00000000e+00, 0.00000000e+00, 0.00000000e+00,\n",
       "       0.00000000e+00, 0.00000000e+00, 0.00000000e+00, 0.00000000e+00,\n",
       "       0.00000000e+00, 0.00000000e+00, 0.00000000e+00, 0.00000000e+00,\n",
       "       0.00000000e+00, 0.00000000e+00, 0.00000000e+00, 0.00000000e+00,\n",
       "       0.00000000e+00, 0.00000000e+00, 0.00000000e+00, 0.00000000e+00,\n",
       "       0.00000000e+00, 0.00000000e+00, 0.00000000e+00, 0.00000000e+00,\n",
       "       0.00000000e+00, 0.00000000e+00, 0.00000000e+00, 0.00000000e+00,\n",
       "       0.00000000e+00, 0.00000000e+00, 0.00000000e+00, 0.00000000e+00,\n",
       "       0.00000000e+00, 0.00000000e+00, 0.00000000e+00, 0.00000000e+00,\n",
       "       0.00000000e+00, 0.00000000e+00, 0.00000000e+00, 0.00000000e+00,\n",
       "       0.00000000e+00, 0.00000000e+00, 0.00000000e+00, 0.00000000e+00,\n",
       "       0.00000000e+00, 0.00000000e+00, 0.00000000e+00, 0.00000000e+00,\n",
       "       0.00000000e+00, 0.00000000e+00, 0.00000000e+00, 0.00000000e+00,\n",
       "       0.00000000e+00, 0.00000000e+00, 0.00000000e+00, 0.00000000e+00,\n",
       "       0.00000000e+00, 0.00000000e+00, 0.00000000e+00, 0.00000000e+00,\n",
       "       0.00000000e+00, 0.00000000e+00, 0.00000000e+00, 0.00000000e+00,\n",
       "       0.00000000e+00, 0.00000000e+00, 0.00000000e+00, 0.00000000e+00,\n",
       "       0.00000000e+00, 0.00000000e+00, 0.00000000e+00, 0.00000000e+00,\n",
       "       0.00000000e+00, 0.00000000e+00, 0.00000000e+00, 0.00000000e+00,\n",
       "       0.00000000e+00, 0.00000000e+00, 0.00000000e+00, 0.00000000e+00,\n",
       "       0.00000000e+00, 0.00000000e+00, 0.00000000e+00, 0.00000000e+00,\n",
       "       0.00000000e+00, 0.00000000e+00, 0.00000000e+00, 0.00000000e+00,\n",
       "       0.00000000e+00, 0.00000000e+00, 0.00000000e+00, 0.00000000e+00,\n",
       "       0.00000000e+00, 0.00000000e+00, 0.00000000e+00, 0.00000000e+00,\n",
       "       0.00000000e+00, 0.00000000e+00, 0.00000000e+00, 0.00000000e+00,\n",
       "       0.00000000e+00, 0.00000000e+00, 0.00000000e+00, 0.00000000e+00,\n",
       "       0.00000000e+00, 0.00000000e+00, 0.00000000e+00, 0.00000000e+00,\n",
       "       0.00000000e+00, 0.00000000e+00, 0.00000000e+00, 0.00000000e+00,\n",
       "       0.00000000e+00, 0.00000000e+00, 0.00000000e+00, 0.00000000e+00,\n",
       "       0.00000000e+00, 0.00000000e+00, 0.00000000e+00, 0.00000000e+00,\n",
       "       0.00000000e+00, 0.00000000e+00, 0.00000000e+00, 0.00000000e+00,\n",
       "       0.00000000e+00, 0.00000000e+00, 0.00000000e+00, 0.00000000e+00,\n",
       "       0.00000000e+00, 0.00000000e+00, 0.00000000e+00, 0.00000000e+00,\n",
       "       0.00000000e+00, 0.00000000e+00, 0.00000000e+00, 0.00000000e+00,\n",
       "       0.00000000e+00, 0.00000000e+00, 0.00000000e+00, 0.00000000e+00,\n",
       "       0.00000000e+00, 0.00000000e+00, 0.00000000e+00, 0.00000000e+00,\n",
       "       0.00000000e+00, 0.00000000e+00, 0.00000000e+00, 0.00000000e+00,\n",
       "       0.00000000e+00, 0.00000000e+00, 0.00000000e+00, 0.00000000e+00,\n",
       "       0.00000000e+00, 0.00000000e+00, 0.00000000e+00, 0.00000000e+00,\n",
       "       0.00000000e+00, 0.00000000e+00, 0.00000000e+00, 0.00000000e+00,\n",
       "       0.00000000e+00, 0.00000000e+00, 0.00000000e+00, 0.00000000e+00,\n",
       "       0.00000000e+00, 0.00000000e+00, 0.00000000e+00, 0.00000000e+00,\n",
       "       0.00000000e+00, 0.00000000e+00, 0.00000000e+00, 0.00000000e+00,\n",
       "       0.00000000e+00, 0.00000000e+00, 0.00000000e+00, 0.00000000e+00,\n",
       "       0.00000000e+00, 0.00000000e+00, 0.00000000e+00, 0.00000000e+00,\n",
       "       0.00000000e+00, 0.00000000e+00, 0.00000000e+00, 0.00000000e+00,\n",
       "       0.00000000e+00, 0.00000000e+00, 0.00000000e+00, 0.00000000e+00,\n",
       "       0.00000000e+00, 0.00000000e+00, 0.00000000e+00, 0.00000000e+00,\n",
       "       0.00000000e+00, 0.00000000e+00, 0.00000000e+00, 0.00000000e+00,\n",
       "       0.00000000e+00, 0.00000000e+00, 0.00000000e+00, 0.00000000e+00,\n",
       "       0.00000000e+00, 0.00000000e+00, 0.00000000e+00, 0.00000000e+00,\n",
       "       0.00000000e+00, 0.00000000e+00, 0.00000000e+00, 0.00000000e+00,\n",
       "       0.00000000e+00, 0.00000000e+00, 0.00000000e+00, 0.00000000e+00,\n",
       "       0.00000000e+00, 0.00000000e+00, 0.00000000e+00, 0.00000000e+00,\n",
       "       0.00000000e+00, 0.00000000e+00, 0.00000000e+00, 0.00000000e+00,\n",
       "       0.00000000e+00, 0.00000000e+00, 0.00000000e+00, 0.00000000e+00,\n",
       "       0.00000000e+00, 0.00000000e+00, 0.00000000e+00, 0.00000000e+00,\n",
       "       0.00000000e+00, 0.00000000e+00, 0.00000000e+00, 0.00000000e+00,\n",
       "       0.00000000e+00, 0.00000000e+00, 0.00000000e+00, 0.00000000e+00,\n",
       "       0.00000000e+00, 0.00000000e+00, 0.00000000e+00, 0.00000000e+00,\n",
       "       0.00000000e+00, 0.00000000e+00, 0.00000000e+00, 0.00000000e+00,\n",
       "       0.00000000e+00, 0.00000000e+00, 0.00000000e+00, 0.00000000e+00,\n",
       "       0.00000000e+00, 0.00000000e+00, 0.00000000e+00, 0.00000000e+00,\n",
       "       0.00000000e+00, 0.00000000e+00, 0.00000000e+00, 0.00000000e+00,\n",
       "       0.00000000e+00, 0.00000000e+00, 0.00000000e+00, 0.00000000e+00,\n",
       "       0.00000000e+00, 0.00000000e+00, 0.00000000e+00, 0.00000000e+00,\n",
       "       0.00000000e+00, 0.00000000e+00, 0.00000000e+00, 0.00000000e+00,\n",
       "       0.00000000e+00, 0.00000000e+00, 0.00000000e+00, 0.00000000e+00,\n",
       "       0.00000000e+00, 0.00000000e+00, 0.00000000e+00, 0.00000000e+00,\n",
       "       0.00000000e+00, 0.00000000e+00, 0.00000000e+00, 0.00000000e+00,\n",
       "       0.00000000e+00, 0.00000000e+00, 0.00000000e+00, 0.00000000e+00,\n",
       "       0.00000000e+00, 0.00000000e+00, 0.00000000e+00, 0.00000000e+00,\n",
       "       0.00000000e+00, 0.00000000e+00, 0.00000000e+00, 0.00000000e+00,\n",
       "       0.00000000e+00, 0.00000000e+00, 0.00000000e+00, 0.00000000e+00,\n",
       "       0.00000000e+00, 0.00000000e+00, 0.00000000e+00, 0.00000000e+00,\n",
       "       0.00000000e+00, 0.00000000e+00, 0.00000000e+00, 0.00000000e+00,\n",
       "       0.00000000e+00, 0.00000000e+00, 0.00000000e+00, 0.00000000e+00,\n",
       "       0.00000000e+00, 0.00000000e+00, 0.00000000e+00, 0.00000000e+00,\n",
       "       0.00000000e+00, 0.00000000e+00, 0.00000000e+00, 0.00000000e+00,\n",
       "       0.00000000e+00, 0.00000000e+00, 0.00000000e+00, 0.00000000e+00,\n",
       "       0.00000000e+00, 0.00000000e+00, 0.00000000e+00, 0.00000000e+00,\n",
       "       0.00000000e+00, 0.00000000e+00, 0.00000000e+00, 0.00000000e+00,\n",
       "       0.00000000e+00, 0.00000000e+00, 0.00000000e+00, 0.00000000e+00,\n",
       "       0.00000000e+00, 0.00000000e+00, 0.00000000e+00, 0.00000000e+00,\n",
       "       0.00000000e+00, 0.00000000e+00, 0.00000000e+00, 0.00000000e+00,\n",
       "       0.00000000e+00, 0.00000000e+00, 0.00000000e+00, 0.00000000e+00])"
      ]
     },
     "execution_count": 101,
     "metadata": {},
     "output_type": "execute_result"
    }
   ],
   "source": [
    "root"
   ]
  },
  {
   "cell_type": "code",
   "execution_count": 102,
   "metadata": {},
   "outputs": [],
   "source": [
    "x0_,z0_=root[:node_N],root[4*node_N:5*node_N]"
   ]
  },
  {
   "cell_type": "code",
   "execution_count": 103,
   "metadata": {},
   "outputs": [
    {
     "data": {
      "text/plain": [
       "[0.0,\n",
       " 225.56499682574736,\n",
       " 451.1299936514947,\n",
       " 676.6949904772421,\n",
       " 902.2599873029894,\n",
       " 1127.8249841287368,\n",
       " 1353.3899809544841,\n",
       " 1578.9549777802315,\n",
       " 1804.5199746059789,\n",
       " 2030.0849714317262,\n",
       " 2255.6499682574736,\n",
       " 2481.2149650832207,\n",
       " 2706.7799619089683,\n",
       " 2932.344958734716,\n",
       " 3157.909955560463,\n",
       " 3383.47495238621,\n",
       " 3609.0399492119577,\n",
       " 3834.6049460377053,\n",
       " 4060.1699428634524,\n",
       " 4285.7349396892,\n",
       " 4511.299936514947,\n",
       " 4736.864933340695,\n",
       " 4962.429930166441,\n",
       " 5187.994926992189,\n",
       " 5413.559923817937,\n",
       " 5639.124920643684,\n",
       " 5864.689917469432,\n",
       " 6090.254914295178,\n",
       " 6315.819911120926,\n",
       " 6541.384907946674,\n",
       " 6766.94990477242,\n",
       " 6992.514901598168,\n",
       " 7218.079898423915,\n",
       " 7443.644895249663,\n",
       " 7669.209892075411,\n",
       " 7894.774888901157,\n",
       " 8120.339885726905,\n",
       " 8345.904882552652,\n",
       " 8571.4698793784,\n",
       " 8797.034876204147,\n",
       " 9022.599873029894,\n",
       " 9248.164869855642,\n",
       " 9473.72986668139,\n",
       " 9699.294863507137,\n",
       " 9924.859860332883,\n",
       " 10150.42485715863,\n",
       " 10375.989853984378,\n",
       " 10601.554850810126,\n",
       " 10827.119847635873,\n",
       " 11052.68484446162]"
      ]
     },
     "execution_count": 103,
     "metadata": {},
     "output_type": "execute_result"
    }
   ],
   "source": [
    "x0"
   ]
  },
  {
   "cell_type": "code",
   "execution_count": 104,
   "metadata": {},
   "outputs": [
    {
     "data": {
      "text/plain": [
       "array([    0.        ,   225.56499683,   451.12999365,   676.69499048,\n",
       "         902.2599873 ,  1127.82498413,  1353.38998095,  1578.95497778,\n",
       "        1804.51997461,  2030.08497143,  2255.64996826,  2481.21496508,\n",
       "        2706.77996191,  2932.34495873,  3157.90995556,  3383.47495239,\n",
       "        3609.03994921,  3834.60494604,  4060.16994286,  4285.73493969,\n",
       "        4511.29993651,  4736.86493334,  4962.42993017,  5187.99492699,\n",
       "        5413.55992382,  5639.12492064,  5864.68991747,  6090.2549143 ,\n",
       "        6315.81991112,  6541.38490795,  6766.94990477,  6992.5149016 ,\n",
       "        7218.07989842,  7443.64489525,  7669.20989208,  7894.7748889 ,\n",
       "        8120.33988573,  8345.90488255,  8571.46987938,  8797.0348762 ,\n",
       "        9022.59987303,  9248.16486986,  9473.72986668,  9699.29486351,\n",
       "        9924.85986033, 10150.42485716, 10375.98985398, 10601.55485081,\n",
       "       10827.11984764, 11052.68484446])"
      ]
     },
     "execution_count": 104,
     "metadata": {},
     "output_type": "execute_result"
    }
   ],
   "source": [
    "x0_"
   ]
  },
  {
   "cell_type": "code",
   "execution_count": 105,
   "metadata": {},
   "outputs": [
    {
     "data": {
      "text/plain": [
       "[0.0,\n",
       " 0.2888428427924309,\n",
       " 1.155373265710624,\n",
       " 2.5995969523577234,\n",
       " 4.621523375418674,\n",
       " 7.221165796797117,\n",
       " 10.398541267595833,\n",
       " 14.15367062831231,\n",
       " 18.486578508975636,\n",
       " 23.39729332924428,\n",
       " 28.885847298621222,\n",
       " 34.95227641670818,\n",
       " 41.59662047340119,\n",
       " 48.81892304912524,\n",
       " 56.619231515186364,\n",
       " 64.99759703402582,\n",
       " 73.9540745596112,\n",
       " 83.48872283771031,\n",
       " 93.60160440638002,\n",
       " 104.29278559627915,\n",
       " 115.56233653119654,\n",
       " 127.41033112846175,\n",
       " 139.83684709937523,\n",
       " 152.8419659498538,\n",
       " 166.4257729808412,\n",
       " 180.58835728891447,\n",
       " 195.3298117668901,\n",
       " 210.65023310439128,\n",
       " 226.54972178849314,\n",
       " 243.02838210444648,\n",
       " 260.0863221362252,\n",
       " 277.72365376736735,\n",
       " 295.94049268164,\n",
       " 314.7369583638412,\n",
       " 334.1131741005232,\n",
       " 354.0692669808534,\n",
       " 374.60536789741576,\n",
       " 395.72161154711085,\n",
       " 417.41813643197673,\n",
       " 439.6950848601867,\n",
       " 462.5526029468705,\n",
       " 485.9908406151509,\n",
       " 510.0099515971214,\n",
       " 534.6100934348437,\n",
       " 559.7914274813454,\n",
       " 585.5541189017534,\n",
       " 611.8983366742727,\n",
       " 638.8242535914375,\n",
       " 666.3320462610891,\n",
       " 694.4218951076863]"
      ]
     },
     "execution_count": 105,
     "metadata": {},
     "output_type": "execute_result"
    }
   ],
   "source": [
    "z0"
   ]
  },
  {
   "cell_type": "code",
   "execution_count": 106,
   "metadata": {},
   "outputs": [
    {
     "data": {
      "text/plain": [
       "array([0.00000000e+00, 2.88842843e-01, 1.15537327e+00, 2.59959695e+00,\n",
       "       4.62152338e+00, 7.22116580e+00, 1.03985413e+01, 1.41536706e+01,\n",
       "       1.84865785e+01, 2.33972933e+01, 2.88858473e+01, 3.49522764e+01,\n",
       "       4.15966205e+01, 4.88189230e+01, 5.66192315e+01, 6.49975970e+01,\n",
       "       7.39540746e+01, 8.34887228e+01, 9.36016044e+01, 1.04292786e+02,\n",
       "       1.15562337e+02, 1.27410331e+02, 1.39836847e+02, 1.52841966e+02,\n",
       "       1.66425773e+02, 1.80588357e+02, 1.95329812e+02, 2.10650233e+02,\n",
       "       2.26549722e+02, 2.43028382e+02, 2.60086322e+02, 2.77723654e+02,\n",
       "       2.95940493e+02, 3.14736958e+02, 3.34113174e+02, 3.54069267e+02,\n",
       "       3.74605368e+02, 3.95721612e+02, 4.17418136e+02, 4.39695085e+02,\n",
       "       4.62552603e+02, 4.85990841e+02, 5.10009952e+02, 5.34610093e+02,\n",
       "       5.59791427e+02, 5.85554119e+02, 6.11898337e+02, 6.38824254e+02,\n",
       "       6.66332046e+02, 6.94421895e+02])"
      ]
     },
     "execution_count": 106,
     "metadata": {},
     "output_type": "execute_result"
    }
   ],
   "source": [
    "z0_"
   ]
  },
  {
   "cell_type": "code",
   "execution_count": 107,
   "metadata": {},
   "outputs": [
    {
     "data": {
      "image/png": "[encoded data removed]",
      "text/plain": [
       "<Figure size 432x288 with 1 Axes>"
      ]
     },
     "metadata": {
      "needs_background": "light"
     },
     "output_type": "display_data"
    }
   ],
   "source": [
    "plt.plot(x0_, z0_)\n",
    "plt.show()"
   ]
  },
  {
   "cell_type": "code",
   "execution_count": 108,
   "metadata": {},
   "outputs": [],
   "source": [
    "for j in range(1,12):\n",
    "    if j==1:  \n",
    "        q0[(j-1)*node_N:j*node_N]=x0_\n",
    "    elif j==5:    \n",
    "        q0[(j-1)*node_N:j*node_N]=z0_"
   ]
  },
  {
   "cell_type": "code",
   "execution_count": 109,
   "metadata": {},
   "outputs": [
    {
     "data": {
      "text/plain": [
       "array([0.00000000e+00, 2.25564997e+02, 4.51129994e+02, 6.76694990e+02,\n",
       "       9.02259987e+02, 1.12782498e+03, 1.35338998e+03, 1.57895498e+03,\n",
       "       1.80451997e+03, 2.03008497e+03, 2.25564997e+03, 2.48121497e+03,\n",
       "       2.70677996e+03, 2.93234496e+03, 3.15790996e+03, 3.38347495e+03,\n",
       "       3.60903995e+03, 3.83460495e+03, 4.06016994e+03, 4.28573494e+03,\n",
       "       4.51129994e+03, 4.73686493e+03, 4.96242993e+03, 5.18799493e+03,\n",
       "       5.41355992e+03, 5.63912492e+03, 5.86468992e+03, 6.09025491e+03,\n",
       "       6.31581991e+03, 6.54138491e+03, 6.76694990e+03, 6.99251490e+03,\n",
       "       7.21807990e+03, 7.44364490e+03, 7.66920989e+03, 7.89477489e+03,\n",
       "       8.12033989e+03, 8.34590488e+03, 8.57146988e+03, 8.79703488e+03,\n",
       "       9.02259987e+03, 9.24816487e+03, 9.47372987e+03, 9.69929486e+03,\n",
       "       9.92485986e+03, 1.01504249e+04, 1.03759899e+04, 1.06015549e+04,\n",
       "       1.08271198e+04, 1.10526848e+04, 0.00000000e+00, 0.00000000e+00,\n",
       "       0.00000000e+00, 0.00000000e+00, 0.00000000e+00, 0.00000000e+00,\n",
       "       0.00000000e+00, 0.00000000e+00, 0.00000000e+00, 0.00000000e+00,\n",
       "       0.00000000e+00, 0.00000000e+00, 0.00000000e+00, 0.00000000e+00,\n",
       "       0.00000000e+00, 0.00000000e+00, 0.00000000e+00, 0.00000000e+00,\n",
       "       0.00000000e+00, 0.00000000e+00, 0.00000000e+00, 0.00000000e+00,\n",
       "       0.00000000e+00, 0.00000000e+00, 0.00000000e+00, 0.00000000e+00,\n",
       "       0.00000000e+00, 0.00000000e+00, 0.00000000e+00, 0.00000000e+00,\n",
       "       0.00000000e+00, 0.00000000e+00, 0.00000000e+00, 0.00000000e+00,\n",
       "       0.00000000e+00, 0.00000000e+00, 0.00000000e+00, 0.00000000e+00,\n",
       "       0.00000000e+00, 0.00000000e+00, 0.00000000e+00, 0.00000000e+00,\n",
       "       0.00000000e+00, 0.00000000e+00, 0.00000000e+00, 0.00000000e+00,\n",
       "       0.00000000e+00, 0.00000000e+00, 0.00000000e+00, 0.00000000e+00,\n",
       "       0.00000000e+00, 0.00000000e+00, 0.00000000e+00, 0.00000000e+00,\n",
       "       0.00000000e+00, 0.00000000e+00, 0.00000000e+00, 0.00000000e+00,\n",
       "       0.00000000e+00, 0.00000000e+00, 0.00000000e+00, 0.00000000e+00,\n",
       "       0.00000000e+00, 0.00000000e+00, 0.00000000e+00, 0.00000000e+00,\n",
       "       0.00000000e+00, 0.00000000e+00, 0.00000000e+00, 0.00000000e+00,\n",
       "       0.00000000e+00, 0.00000000e+00, 0.00000000e+00, 0.00000000e+00,\n",
       "       0.00000000e+00, 0.00000000e+00, 0.00000000e+00, 0.00000000e+00,\n",
       "       0.00000000e+00, 0.00000000e+00, 0.00000000e+00, 0.00000000e+00,\n",
       "       0.00000000e+00, 0.00000000e+00, 0.00000000e+00, 0.00000000e+00,\n",
       "       0.00000000e+00, 0.00000000e+00, 0.00000000e+00, 0.00000000e+00,\n",
       "       0.00000000e+00, 0.00000000e+00, 0.00000000e+00, 0.00000000e+00,\n",
       "       0.00000000e+00, 0.00000000e+00, 0.00000000e+00, 0.00000000e+00,\n",
       "       0.00000000e+00, 0.00000000e+00, 0.00000000e+00, 0.00000000e+00,\n",
       "       0.00000000e+00, 0.00000000e+00, 0.00000000e+00, 0.00000000e+00,\n",
       "       0.00000000e+00, 0.00000000e+00, 0.00000000e+00, 0.00000000e+00,\n",
       "       0.00000000e+00, 0.00000000e+00, 0.00000000e+00, 0.00000000e+00,\n",
       "       0.00000000e+00, 0.00000000e+00, 0.00000000e+00, 0.00000000e+00,\n",
       "       0.00000000e+00, 0.00000000e+00, 0.00000000e+00, 0.00000000e+00,\n",
       "       0.00000000e+00, 0.00000000e+00, 0.00000000e+00, 0.00000000e+00,\n",
       "       0.00000000e+00, 0.00000000e+00, 0.00000000e+00, 0.00000000e+00,\n",
       "       0.00000000e+00, 0.00000000e+00, 0.00000000e+00, 0.00000000e+00,\n",
       "       0.00000000e+00, 0.00000000e+00, 0.00000000e+00, 0.00000000e+00,\n",
       "       0.00000000e+00, 0.00000000e+00, 0.00000000e+00, 0.00000000e+00,\n",
       "       0.00000000e+00, 0.00000000e+00, 0.00000000e+00, 0.00000000e+00,\n",
       "       0.00000000e+00, 0.00000000e+00, 0.00000000e+00, 0.00000000e+00,\n",
       "       0.00000000e+00, 2.88842843e-01, 1.15537327e+00, 2.59959695e+00,\n",
       "       4.62152338e+00, 7.22116580e+00, 1.03985413e+01, 1.41536706e+01,\n",
       "       1.84865785e+01, 2.33972933e+01, 2.88858473e+01, 3.49522764e+01,\n",
       "       4.15966205e+01, 4.88189230e+01, 5.66192315e+01, 6.49975970e+01,\n",
       "       7.39540746e+01, 8.34887228e+01, 9.36016044e+01, 1.04292786e+02,\n",
       "       1.15562337e+02, 1.27410331e+02, 1.39836847e+02, 1.52841966e+02,\n",
       "       1.66425773e+02, 1.80588357e+02, 1.95329812e+02, 2.10650233e+02,\n",
       "       2.26549722e+02, 2.43028382e+02, 2.60086322e+02, 2.77723654e+02,\n",
       "       2.95940493e+02, 3.14736958e+02, 3.34113174e+02, 3.54069267e+02,\n",
       "       3.74605368e+02, 3.95721612e+02, 4.17418136e+02, 4.39695085e+02,\n",
       "       4.62552603e+02, 4.85990841e+02, 5.10009952e+02, 5.34610093e+02,\n",
       "       5.59791427e+02, 5.85554119e+02, 6.11898337e+02, 6.38824254e+02,\n",
       "       6.66332046e+02, 6.94421895e+02, 0.00000000e+00, 0.00000000e+00,\n",
       "       0.00000000e+00, 0.00000000e+00, 0.00000000e+00, 0.00000000e+00,\n",
       "       0.00000000e+00, 0.00000000e+00, 0.00000000e+00, 0.00000000e+00,\n",
       "       0.00000000e+00, 0.00000000e+00, 0.00000000e+00, 0.00000000e+00,\n",
       "       0.00000000e+00, 0.00000000e+00, 0.00000000e+00, 0.00000000e+00,\n",
       "       0.00000000e+00, 0.00000000e+00, 0.00000000e+00, 0.00000000e+00,\n",
       "       0.00000000e+00, 0.00000000e+00, 0.00000000e+00, 0.00000000e+00,\n",
       "       0.00000000e+00, 0.00000000e+00, 0.00000000e+00, 0.00000000e+00,\n",
       "       0.00000000e+00, 0.00000000e+00, 0.00000000e+00, 0.00000000e+00,\n",
       "       0.00000000e+00, 0.00000000e+00, 0.00000000e+00, 0.00000000e+00,\n",
       "       0.00000000e+00, 0.00000000e+00, 0.00000000e+00, 0.00000000e+00,\n",
       "       0.00000000e+00, 0.00000000e+00, 0.00000000e+00, 0.00000000e+00,\n",
       "       0.00000000e+00, 0.00000000e+00, 0.00000000e+00, 0.00000000e+00,\n",
       "       0.00000000e+00, 0.00000000e+00, 0.00000000e+00, 0.00000000e+00,\n",
       "       0.00000000e+00, 0.00000000e+00, 0.00000000e+00, 0.00000000e+00,\n",
       "       0.00000000e+00, 0.00000000e+00, 0.00000000e+00, 0.00000000e+00,\n",
       "       0.00000000e+00, 0.00000000e+00, 0.00000000e+00, 0.00000000e+00,\n",
       "       0.00000000e+00, 0.00000000e+00, 0.00000000e+00, 0.00000000e+00,\n",
       "       0.00000000e+00, 0.00000000e+00, 0.00000000e+00, 0.00000000e+00,\n",
       "       0.00000000e+00, 0.00000000e+00, 0.00000000e+00, 0.00000000e+00,\n",
       "       0.00000000e+00, 0.00000000e+00, 0.00000000e+00, 0.00000000e+00,\n",
       "       0.00000000e+00, 0.00000000e+00, 0.00000000e+00, 0.00000000e+00,\n",
       "       0.00000000e+00, 0.00000000e+00, 0.00000000e+00, 0.00000000e+00,\n",
       "       0.00000000e+00, 0.00000000e+00, 0.00000000e+00, 0.00000000e+00,\n",
       "       0.00000000e+00, 0.00000000e+00, 0.00000000e+00, 0.00000000e+00,\n",
       "       0.00000000e+00, 0.00000000e+00, 0.00000000e+00, 0.00000000e+00,\n",
       "       0.00000000e+00, 0.00000000e+00, 0.00000000e+00, 0.00000000e+00,\n",
       "       0.00000000e+00, 0.00000000e+00, 0.00000000e+00, 0.00000000e+00,\n",
       "       0.00000000e+00, 0.00000000e+00, 0.00000000e+00, 0.00000000e+00,\n",
       "       0.00000000e+00, 0.00000000e+00, 0.00000000e+00, 0.00000000e+00,\n",
       "       0.00000000e+00, 0.00000000e+00, 0.00000000e+00, 0.00000000e+00,\n",
       "       0.00000000e+00, 0.00000000e+00, 0.00000000e+00, 0.00000000e+00,\n",
       "       0.00000000e+00, 0.00000000e+00, 0.00000000e+00, 0.00000000e+00,\n",
       "       0.00000000e+00, 0.00000000e+00, 0.00000000e+00, 0.00000000e+00,\n",
       "       0.00000000e+00, 0.00000000e+00, 0.00000000e+00, 0.00000000e+00,\n",
       "       0.00000000e+00, 0.00000000e+00, 0.00000000e+00, 0.00000000e+00,\n",
       "       0.00000000e+00, 0.00000000e+00, 0.00000000e+00, 0.00000000e+00,\n",
       "       0.00000000e+00, 0.00000000e+00, 0.00000000e+00, 0.00000000e+00,\n",
       "       0.00000000e+00, 0.00000000e+00, 0.00000000e+00, 0.00000000e+00,\n",
       "       0.00000000e+00, 0.00000000e+00, 0.00000000e+00, 0.00000000e+00,\n",
       "       0.00000000e+00, 0.00000000e+00, 0.00000000e+00, 0.00000000e+00,\n",
       "       0.00000000e+00, 0.00000000e+00, 0.00000000e+00, 0.00000000e+00,\n",
       "       0.00000000e+00, 0.00000000e+00, 0.00000000e+00, 0.00000000e+00,\n",
       "       0.00000000e+00, 0.00000000e+00, 0.00000000e+00, 0.00000000e+00,\n",
       "       0.00000000e+00, 0.00000000e+00, 0.00000000e+00, 0.00000000e+00,\n",
       "       0.00000000e+00, 0.00000000e+00, 0.00000000e+00, 0.00000000e+00,\n",
       "       0.00000000e+00, 0.00000000e+00, 0.00000000e+00, 0.00000000e+00,\n",
       "       0.00000000e+00, 0.00000000e+00, 0.00000000e+00, 0.00000000e+00,\n",
       "       0.00000000e+00, 0.00000000e+00, 0.00000000e+00, 0.00000000e+00,\n",
       "       0.00000000e+00, 0.00000000e+00, 0.00000000e+00, 0.00000000e+00,\n",
       "       0.00000000e+00, 0.00000000e+00, 0.00000000e+00, 0.00000000e+00,\n",
       "       0.00000000e+00, 0.00000000e+00, 0.00000000e+00, 0.00000000e+00,\n",
       "       0.00000000e+00, 0.00000000e+00, 0.00000000e+00, 0.00000000e+00,\n",
       "       0.00000000e+00, 0.00000000e+00, 0.00000000e+00, 0.00000000e+00,\n",
       "       0.00000000e+00, 0.00000000e+00, 0.00000000e+00, 0.00000000e+00,\n",
       "       0.00000000e+00, 0.00000000e+00, 0.00000000e+00, 0.00000000e+00,\n",
       "       0.00000000e+00, 0.00000000e+00, 0.00000000e+00, 0.00000000e+00,\n",
       "       0.00000000e+00, 0.00000000e+00, 0.00000000e+00, 0.00000000e+00,\n",
       "       0.00000000e+00, 0.00000000e+00, 0.00000000e+00, 0.00000000e+00,\n",
       "       0.00000000e+00, 0.00000000e+00, 0.00000000e+00, 0.00000000e+00,\n",
       "       0.00000000e+00, 0.00000000e+00, 0.00000000e+00, 0.00000000e+00,\n",
       "       0.00000000e+00, 0.00000000e+00, 0.00000000e+00, 0.00000000e+00,\n",
       "       0.00000000e+00, 0.00000000e+00, 0.00000000e+00, 0.00000000e+00,\n",
       "       0.00000000e+00, 0.00000000e+00, 0.00000000e+00, 0.00000000e+00,\n",
       "       0.00000000e+00, 0.00000000e+00, 0.00000000e+00, 0.00000000e+00,\n",
       "       0.00000000e+00, 0.00000000e+00, 0.00000000e+00, 0.00000000e+00,\n",
       "       0.00000000e+00, 0.00000000e+00, 0.00000000e+00, 0.00000000e+00,\n",
       "       0.00000000e+00, 0.00000000e+00, 0.00000000e+00, 0.00000000e+00,\n",
       "       0.00000000e+00, 0.00000000e+00, 0.00000000e+00, 0.00000000e+00,\n",
       "       0.00000000e+00, 0.00000000e+00, 0.00000000e+00, 0.00000000e+00,\n",
       "       0.00000000e+00, 0.00000000e+00, 0.00000000e+00, 0.00000000e+00,\n",
       "       0.00000000e+00, 0.00000000e+00, 0.00000000e+00, 0.00000000e+00,\n",
       "       0.00000000e+00, 0.00000000e+00, 0.00000000e+00, 0.00000000e+00,\n",
       "       0.00000000e+00, 0.00000000e+00, 0.00000000e+00, 0.00000000e+00,\n",
       "       0.00000000e+00, 0.00000000e+00, 0.00000000e+00, 0.00000000e+00,\n",
       "       0.00000000e+00, 0.00000000e+00, 0.00000000e+00, 0.00000000e+00,\n",
       "       0.00000000e+00, 0.00000000e+00, 0.00000000e+00, 0.00000000e+00,\n",
       "       0.00000000e+00, 0.00000000e+00, 0.00000000e+00, 0.00000000e+00,\n",
       "       0.00000000e+00, 0.00000000e+00, 0.00000000e+00, 0.00000000e+00,\n",
       "       0.00000000e+00, 0.00000000e+00, 0.00000000e+00, 0.00000000e+00,\n",
       "       0.00000000e+00, 0.00000000e+00, 0.00000000e+00, 0.00000000e+00,\n",
       "       0.00000000e+00, 0.00000000e+00, 0.00000000e+00, 0.00000000e+00,\n",
       "       0.00000000e+00, 0.00000000e+00, 0.00000000e+00, 0.00000000e+00,\n",
       "       0.00000000e+00, 0.00000000e+00, 0.00000000e+00, 0.00000000e+00,\n",
       "       0.00000000e+00, 0.00000000e+00, 0.00000000e+00, 0.00000000e+00,\n",
       "       0.00000000e+00, 0.00000000e+00, 0.00000000e+00, 0.00000000e+00,\n",
       "       0.00000000e+00, 0.00000000e+00, 0.00000000e+00, 0.00000000e+00,\n",
       "       0.00000000e+00, 0.00000000e+00, 0.00000000e+00, 0.00000000e+00])"
      ]
     },
     "execution_count": 109,
     "metadata": {},
     "output_type": "execute_result"
    }
   ],
   "source": [
    "q0"
   ]
  },
  {
   "cell_type": "markdown",
   "metadata": {},
   "source": [
    "### Vessle Simulation"
   ]
  },
  {
   "cell_type": "code",
   "execution_count": 110,
   "metadata": {},
   "outputs": [],
   "source": [
    "sampleTime = 0.01              # sample time [seconds]\n",
    "N = 5000                      # number of samples"
   ]
  },
  {
   "cell_type": "code",
   "execution_count": 111,
   "metadata": {},
   "outputs": [],
   "source": [
    "vehicle=semisub('DPcontrol',2,2,40.0,0,0) "
   ]
  },
  {
   "cell_type": "code",
   "execution_count": 112,
   "metadata": {},
   "outputs": [],
   "source": [
    "[simTime, simData] = simulate(N, sampleTime, vehicle)"
   ]
  },
  {
   "cell_type": "code",
   "execution_count": 113,
   "metadata": {},
   "outputs": [],
   "source": [
    "ans_t=[]\n",
    "sum_=0\n",
    "for i in range(simData.shape[0]):\n",
    "    ans_t.append(sum_)\n",
    "    sum_+=sampleTime"
   ]
  },
  {
   "cell_type": "code",
   "execution_count": null,
   "metadata": {},
   "outputs": [
    {
     "data": {
      "image/png": "[encoded data removed]",
      "text/plain": [
       "<Figure size 1476.38x767.717 with 9 Axes>"
      ]
     },
     "metadata": {
      "needs_background": "light"
     },
     "output_type": "display_data"
    }
   ],
   "source": [
    "plotVehicleStates(simTime, simData, 1)                    \n",
    "plotControls(simTime, simData, vehicle, 2)"
   ]
  },
  {
   "cell_type": "code",
   "execution_count": null,
   "metadata": {},
   "outputs": [],
   "source": [
    "numDataPoints = 5                 # number of 3D data points\n",
    "FPS = 10                            # frames per second (animated GIF)\n",
    "filename = '3D_animation.gif'       # data file for animated GIF\n",
    "browser = 'safari'       "
   ]
  },
  {
   "cell_type": "code",
   "execution_count": null,
   "metadata": {},
   "outputs": [],
   "source": [
    "plotVehicleStates(simTime, simData, 3)"
   ]
  },
  {
   "cell_type": "code",
   "execution_count": null,
   "metadata": {},
   "outputs": [],
   "source": [
    "plot3D(simData, numDataPoints, FPS, filename, 3)  "
   ]
  },
  {
   "cell_type": "code",
   "execution_count": null,
   "metadata": {},
   "outputs": [],
   "source": [
    "def find_nearest(array, value):\n",
    "    array = np.asarray(array)\n",
    "    idx = (np.abs(array - value)).argmin()\n",
    "    return idx"
   ]
  },
  {
   "cell_type": "markdown",
   "metadata": {},
   "source": [
    "### Dynamics"
   ]
  },
  {
   "cell_type": "code",
   "execution_count": null,
   "metadata": {},
   "outputs": [],
   "source": [
    "def grayscott1d(t, Q):\n",
    "#     print(t)\n",
    "      \n",
    "    x,y,z=Q[0:node_N],Q[2*node_N:3*node_N],Q[4*node_N:5*node_N]\n",
    "    \n",
    "    idx = find_nearest(np.array(ans_t),  t) \n",
    "\n",
    "    x_ve = simData[:, 0][idx]\n",
    "    y_ve = simData[:, 1][idx]\n",
    "    z_ve = simData[:, 2][idx]\n",
    "    phi_ve = ssa(simData[:, 3][idx])\n",
    "    theta_ve = ssa(simData[:, 4][idx])\n",
    "    psi_v = ssa(simData[:, 5][idx])\n",
    "    \n",
    "    \n",
    "    u_ve = simData[:, 6][idx]\n",
    "    v_ve = simData[:, 7][idx]\n",
    "    w_ve = simData[:, 8][idx]\n",
    "    p_ve = simData[:, 9][idx]\n",
    "    q_ve = simData[:, 10][idx]\n",
    "    r_ve = simData[:, 11][idx]\n",
    "    \n",
    "    \n",
    "    η=np.array([x_ve, y_ve, z_ve, phi_ve, theta_ve, psi_v])\n",
    "    \n",
    "    dη=np.array([u_ve, v_ve, w_ve, p_ve, q_ve, r_ve])\n",
    "    \n",
    "    \n",
    "    n_ = vehicle.DPcontrol(η,dη,sampleTime) # /1e3\n",
    "    \n",
    "\n",
    "    dx,dy,dz=Q[1*node_N:2*node_N],Q[3*node_N:4*node_N],Q[5*node_N:6*node_N]\n",
    "    \n",
    "\n",
    "    φ,θ,ψ=Q[6*node_N:7*node_N],Q[8*node_N:9*node_N],Q[10*node_N:11*node_N]\n",
    "    \n",
    "    Ret = Re_t(φ,θ,ψ)\n",
    "\n",
    "    dφ,dθ,dψ=Q[7*node_N:8*node_N],Q[9*node_N:10*node_N],Q[11*node_N:12*node_N]\n",
    "    \n",
    "#     force_schedule =1/(1+np.exp(-np.exp(t/10)+np.exp(2)))\n",
    "#     force_schedule = t/15 if t<15 else 1\n",
    "    force_schedule = 1e3\n",
    "    tau_force = force_schedule*0.0166666667*n_ # [N]\n",
    "\n",
    "    test=np.einsum('ijk,ik->ij',Π(φ,θ,ψ).astype(np.float32),np.array([dφ,dθ,dψ]).astype(np.float32).T)\n",
    "    \n",
    "    Z0=np.dot(Re_b(Ret),tau_force[:3])   \n",
    "    Z1 =d_s(ne, x, y, z, Ret,  ωe(φ,θ,ψ,None,None)).T\n",
    "#     Z1 =d_s(ne, x, y, z, Ret, phi(x,y,z,Ret,None)).T\n",
    "#     print(Z1)\n",
    "    Z2=ne_(dx,dy,dz,DT,Ret).T\n",
    "\n",
    "    Z= (Z1 + Z2 +Z0)\n",
    "\n",
    "############################################################    \n",
    "\n",
    "    RRRR=Re_b(Ret)\n",
    "    ddx,ddy, ddz = np.linalg.solve(np.einsum('i,ijk->ijk',\n",
    "                                             [Ws[i] for i in range(node_N-1)]\n",
    "                                             +[vessel_mass]\n",
    "                                             ,RRRR),\n",
    "                                   Z).T \n",
    "############################################################      \n",
    "\n",
    "    \n",
    " \n",
    "    \n",
    " \n",
    "\n",
    "    C1=np.einsum('ijk,ik->ij', Irho_e(Ret).astype(np.float32),\n",
    "                                                        np.einsum('ijk,ik->ij', Π(dφ,dθ,dψ).astype(np.float32), \n",
    "                                                                  np.array([dφ,dθ,dψ]).astype(np.float32).T))\n",
    "\n",
    "    C2= np.cross(\n",
    "         test,\n",
    "                 np.einsum('ijk,ik->ij',Irho_e(Ret).astype(np.float32),\n",
    "                            test))\n",
    "\n",
    "\n",
    "    C3=d_me(φ,θ,ψ,Ret, ωe, ωe(φ,θ,ψ,None,None))\n",
    "    \n",
    "#     C4= np.cross(d_s(phi,x,y,z,Ret, phi(x,y,z,Ret,None)).T, ne(x,y,z,Ret, phi(x,y,z,Ret,None)))\n",
    "    C4= np.cross(d_s(phi,x,y,z,Ret, ωe(φ,θ,ψ,None,None)).T, ne(x,y,z,Ret, ωe(φ,θ,ψ,None,None)))\n",
    "\n",
    "#     C4= np.cross(d_s(phi,x,y,z,Ret, test).T, ne(x,y,z,Ret, test))\n",
    "    \n",
    "    K1=test.T\n",
    "\n",
    "    C5= np.einsum('ijk,ik->ij',Ret, -np.dot(DR,K1).astype(np.float32).T)\n",
    "\n",
    "    C0=np.einsum('ijk,kp->ijp',np.einsum('ijk,ikr->ijr',np.linalg.inv(Π(φ,θ,ψ).astype(np.float32)),\n",
    "                        Re_b(Ret)),tau_force[3:].reshape(3,1)) \n",
    "    B_ =(\n",
    "        -C1\n",
    "        -C2\n",
    "        +C3\n",
    "        +C4\n",
    "        +C5\n",
    "    )\n",
    "    B= B_ +C0.squeeze()\n",
    "       \n",
    "\n",
    "    A2 = Irho_e(Ret).astype(np.float32)\n",
    "    A3=Π(φ,θ,ψ).astype(np.float32)\n",
    "\n",
    "    A=np.einsum('ijk,ikr->ijr',A2,A3)\n",
    "\n",
    "############################################\n",
    "    ddφ,ddθ,ddψ = np.linalg.solve(A,B).T\n",
    "#############################################\n",
    "\n",
    "\n",
    "#     ddx[0],ddy[0],ddz[0],ddφ[0],ddθ[0],ddψ[0]=0,0,0,0,0,0\n",
    "    A1111=np.concatenate([dx, ddx, dy, ddy, dz, ddz, dφ, ddφ, dθ, ddθ, dψ, ddψ], axis=0)\n",
    "#     print(A1111)\n",
    "    return A1111"
   ]
  },
  {
   "cell_type": "code",
   "execution_count": null,
   "metadata": {},
   "outputs": [],
   "source": [
    "tspan = (0., 40)"
   ]
  },
  {
   "cell_type": "code",
   "execution_count": null,
   "metadata": {},
   "outputs": [],
   "source": [
    "startTime1 = datetime.now()\n",
    "\n",
    "us=solve_ivp(grayscott1d,  tspan, q0, \n",
    "#              nfev=842\n",
    "#              method='LSODA',\n",
    "#              method= 'BDF'\n",
    "#              vectorized=True\n",
    "#              min_step=1e-6\n",
    "#              rtol=1e9, atol=1e9\n",
    "            )\n",
    "print(datetime.now() - startTime1)"
   ]
  },
  {
   "cell_type": "markdown",
   "metadata": {},
   "source": [
    "### Results"
   ]
  },
  {
   "cell_type": "code",
   "execution_count": null,
   "metadata": {},
   "outputs": [],
   "source": [
    "fin=us"
   ]
  },
  {
   "cell_type": "code",
   "execution_count": null,
   "metadata": {},
   "outputs": [],
   "source": [
    "fin"
   ]
  },
  {
   "cell_type": "code",
   "execution_count": null,
   "metadata": {},
   "outputs": [],
   "source": [
    "t=fin.t"
   ]
  },
  {
   "cell_type": "code",
   "execution_count": null,
   "metadata": {},
   "outputs": [],
   "source": [
    "fin=fin.y.T"
   ]
  },
  {
   "cell_type": "code",
   "execution_count": null,
   "metadata": {},
   "outputs": [],
   "source": [
    "fig=plt.figure(figsize=(13,13))\n",
    "ax = fig.gca(projection='3d')\n",
    "\n",
    "X0=fin[0,[i for i in range(0,node_N)]]\n",
    "Y0=fin[0,[i for i in range(2*node_N,3*node_N)]]\n",
    "Z0=fin[0,[i for i in range(4*node_N,5*node_N)]]\n",
    "\n",
    "j=-1\n",
    "X=fin[j,[i for i in range(0,node_N)]]\n",
    "Y=fin[j,[i for i in range(2*node_N,3*node_N)]]\n",
    "Z=fin[j,[i for i in range(4*node_N,5*node_N)]]\n",
    "\n",
    "num_true_pts = 200\n",
    "tck, u = interpolate.splprep([X,Y,Z], s=2)\n",
    "u_fine = np.linspace(0,1,num_true_pts)\n",
    "x_fine, y_fine, z_fine = interpolate.splev(u_fine, tck)\n",
    "\n",
    "\n",
    "ax.plot(X0,Y0,Z0, color='r')\n",
    "ax.plot(X,Y,Z, color='b') \n",
    "# ax.plot(x_fine, y_fine, z_fine, color='b')\n",
    "ax.view_init(-45,-45)\n",
    "# ax.view_init(0,-90)\n",
    "plt.show()"
   ]
  },
  {
   "cell_type": "code",
   "execution_count": null,
   "metadata": {},
   "outputs": [],
   "source": [
    "X,Y,Z"
   ]
  },
  {
   "cell_type": "code",
   "execution_count": null,
   "metadata": {},
   "outputs": [],
   "source": [
    "X0,Y0,Z0"
   ]
  },
  {
   "cell_type": "code",
   "execution_count": null,
   "metadata": {},
   "outputs": [],
   "source": [
    "us=fin.T"
   ]
  },
  {
   "cell_type": "code",
   "execution_count": null,
   "metadata": {},
   "outputs": [],
   "source": [
    "plt.plot(t,us.T[:,2],'-')\n",
    "plt.xlabel('t')\n",
    "plt.ylabel('x2')\n",
    "plt.show()"
   ]
  },
  {
   "cell_type": "code",
   "execution_count": null,
   "metadata": {},
   "outputs": [],
   "source": [
    "plt.plot(t,us.T[:,node_N+2] ,'-')\n",
    "plt.xlabel('t')\n",
    "plt.ylabel('dx2')\n",
    "plt.show()"
   ]
  },
  {
   "cell_type": "code",
   "execution_count": null,
   "metadata": {},
   "outputs": [],
   "source": [
    "plt.plot(t,us.T[:,2*node_N +2] ,'-')\n",
    "plt.xlabel('t')\n",
    "plt.ylabel('y2')\n",
    "plt.show()"
   ]
  },
  {
   "cell_type": "code",
   "execution_count": null,
   "metadata": {},
   "outputs": [],
   "source": [
    "plt.plot(t,us.T[:,3*node_N+2] ,'-')\n",
    "plt.xlabel('t')\n",
    "plt.ylabel('dy2')\n",
    "plt.show()"
   ]
  },
  {
   "cell_type": "code",
   "execution_count": null,
   "metadata": {},
   "outputs": [],
   "source": [
    "plt.plot(t,us.T[:,2*node_N+49] ,'-')\n",
    "plt.xlabel('t')\n",
    "plt.ylabel('y49')\n",
    "plt.show()"
   ]
  },
  {
   "cell_type": "code",
   "execution_count": null,
   "metadata": {},
   "outputs": [],
   "source": [
    "plt.plot(t,us.T[:,4*node_N+2] ,'-')\n",
    "plt.xlabel('t')\n",
    "plt.ylabel('z2')\n",
    "plt.show()"
   ]
  },
  {
   "cell_type": "code",
   "execution_count": null,
   "metadata": {},
   "outputs": [],
   "source": [
    "plt.plot(t,us.T[:,5*node_N+2] ,'-')\n",
    "plt.xlabel('t')\n",
    "plt.ylabel('dz2')\n",
    "plt.show()"
   ]
  },
  {
   "cell_type": "code",
   "execution_count": null,
   "metadata": {},
   "outputs": [],
   "source": [
    "plt.plot(t,us.T[:,4*node_N+3] ,'-')\n",
    "plt.xlabel('t')\n",
    "plt.ylabel('z3')\n",
    "plt.show()"
   ]
  },
  {
   "cell_type": "code",
   "execution_count": null,
   "metadata": {},
   "outputs": [],
   "source": [
    "plt.plot(t,us.T[:,4*node_N+49] ,'-')\n",
    "plt.xlabel('t')\n",
    "plt.ylabel('z49')\n",
    "plt.show()"
   ]
  },
  {
   "cell_type": "code",
   "execution_count": null,
   "metadata": {},
   "outputs": [],
   "source": [
    "plt.plot(t,us.T[:,8*node_N+2],'-')\n",
    "plt.xlabel('t')\n",
    "plt.ylabel('θ2')\n",
    "plt.show()"
   ]
  },
  {
   "cell_type": "code",
   "execution_count": null,
   "metadata": {},
   "outputs": [],
   "source": [
    "plt.plot(t,us.T[:,9*node_N+2] ,'-')\n",
    "plt.xlabel('t')\n",
    "plt.ylabel('dθ2')\n",
    "plt.show()"
   ]
  },
  {
   "cell_type": "code",
   "execution_count": null,
   "metadata": {},
   "outputs": [],
   "source": [
    "plt.plot(t,us.T[:,10*node_N+2],'-')\n",
    "plt.xlabel('t')\n",
    "plt.ylabel('ψ2')\n",
    "plt.show()"
   ]
  },
  {
   "cell_type": "code",
   "execution_count": null,
   "metadata": {},
   "outputs": [],
   "source": [
    "plt.plot(t,us.T[:,11*node_N+2] ,'-')\n",
    "plt.xlabel('t')\n",
    "plt.ylabel('dψ2')\n",
    "plt.show()"
   ]
  },
  {
   "cell_type": "code",
   "execution_count": null,
   "metadata": {},
   "outputs": [],
   "source": []
  }
 ],
 "metadata": {
  "kernelspec": {
   "display_name": "Python 3",
   "language": "python",
   "name": "python3"
  },
  "language_info": {
   "codemirror_mode": {
    "name": "ipython",
    "version": 3
   },
   "file_extension": ".py",
   "mimetype": "text/x-python",
   "name": "python",
   "nbconvert_exporter": "python",
   "pygments_lexer": "ipython3",
   "version": "3.7.7"
  }
 },
 "nbformat": 4,
 "nbformat_minor": 4
}
