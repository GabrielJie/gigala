{
 "cells": [
  {
   "cell_type": "markdown",
   "metadata": {},
   "source": [
    "#### Model taken from:\n",
    "- [1] Offshore Pipelaying Dynamics. Gullik Anthon Jensen \n",
    "- [2] A nonlinear PDE formulation for offshore vessel pipeline installation. Gullik A. Jensen et al \n",
    "- [3] Modeling and Control of Offshore Pipelay Operations Based on a Finite Strain Pipe Model. Gullik A. Jensen "
   ]
  },
  {
   "cell_type": "code",
   "execution_count": null,
   "metadata": {},
   "outputs": [],
   "source": [
    "# import julia;\n",
    "# julia.install()"
   ]
  },
  {
   "cell_type": "code",
   "execution_count": null,
   "metadata": {},
   "outputs": [],
   "source": [
    "import numpy as np\n",
    "import numdifftools as nd\n",
    "import math\n",
    "import matplotlib.pyplot as plt\n",
    "from datetime import datetime\n",
    "# from scipy.integrate import odeint\n",
    "# from torchdiffeq import odeint\n",
    "import torch\n",
    "import inspect\n",
    "import random"
   ]
  },
  {
   "cell_type": "code",
   "execution_count": null,
   "metadata": {},
   "outputs": [],
   "source": [
    "import sys\n",
    "sys.path.insert(0, \"../../../../Ocean_Intella/PythonVehicleSimulator-master/src/python_vehicle_simulator\")\n",
    "sys.path.insert(0, \"../../../../Ocean_Intella/PythonVehicleSimulator-master/src\")"
   ]
  },
  {
   "cell_type": "code",
   "execution_count": null,
   "metadata": {},
   "outputs": [],
   "source": [
    "# from diffeqpy import ode\n",
    "from diffeqpy import de"
   ]
  },
  {
   "cell_type": "code",
   "execution_count": null,
   "metadata": {},
   "outputs": [],
   "source": [
    "from vehicles import shipClarke83\n",
    "from python_vehicle_simulator.vehicles import *\n",
    "from python_vehicle_simulator.lib import *\n",
    "from python_vehicle_simulator.lib.gnc import ssa"
   ]
  },
  {
   "cell_type": "code",
   "execution_count": null,
   "metadata": {},
   "outputs": [],
   "source": [
    "def R2D(value):  # radians to degrees\n",
    "    return value * 180 / math.pi"
   ]
  },
  {
   "cell_type": "code",
   "execution_count": null,
   "metadata": {},
   "outputs": [],
   "source": [
    "mp = 96 #  (submerged) [kg/m]"
   ]
  },
  {
   "cell_type": "code",
   "execution_count": null,
   "metadata": {},
   "outputs": [],
   "source": [
    "# q0=[i for i in range(12)]\n",
    "max_t = 2 # 10 #600  \n",
    "dt = 0.5\n",
    "t=np.arange(0,max_t,dt)\n",
    "ds = 0.025\n",
    "print(t)"
   ]
  },
  {
   "cell_type": "code",
   "execution_count": null,
   "metadata": {},
   "outputs": [],
   "source": [
    "node_N=4"
   ]
  },
  {
   "cell_type": "code",
   "execution_count": null,
   "metadata": {},
   "outputs": [],
   "source": [
    "diag_Irho = 1e2*np.array([1, 1, 2]) # [m^4]  , p.99 in [1]\n",
    " \n",
    "Irho=np.diag(diag_Irho)"
   ]
  },
  {
   "cell_type": "code",
   "execution_count": null,
   "metadata": {},
   "outputs": [],
   "source": [
    "Irho"
   ]
  },
  {
   "cell_type": "code",
   "execution_count": null,
   "metadata": {},
   "outputs": [],
   "source": []
  },
  {
   "cell_type": "code",
   "execution_count": null,
   "metadata": {},
   "outputs": [],
   "source": [
    "qw = 1025 # Water density [kg/m3]\n",
    "d0 = 0.761 # Outer diameter of pipe, [m]"
   ]
  },
  {
   "cell_type": "code",
   "execution_count": null,
   "metadata": {},
   "outputs": [],
   "source": [
    "diag_DT = 1.5*np.array([1, 1, 1]) # [N/m]  , p.99 in [1]"
   ]
  },
  {
   "cell_type": "code",
   "execution_count": null,
   "metadata": {},
   "outputs": [],
   "source": [
    "DT=np.diag(diag_DT) # (35) in [2]"
   ]
  },
  {
   "cell_type": "code",
   "execution_count": null,
   "metadata": {},
   "outputs": [],
   "source": [
    "DT"
   ]
  },
  {
   "cell_type": "code",
   "execution_count": null,
   "metadata": {},
   "outputs": [],
   "source": [
    "diag_CT = 1e9*np.array([1, 1, 1]) # [Nm2] p. 4721 in [3]\n",
    "# diag_CT = 1e10*np.array([1, 1, 1]) "
   ]
  },
  {
   "cell_type": "code",
   "execution_count": null,
   "metadata": {},
   "outputs": [],
   "source": [
    "CT=np.diag(diag_CT)"
   ]
  },
  {
   "cell_type": "code",
   "execution_count": null,
   "metadata": {},
   "outputs": [],
   "source": [
    "CT"
   ]
  },
  {
   "cell_type": "code",
   "execution_count": null,
   "metadata": {},
   "outputs": [],
   "source": [
    "from sympy import *"
   ]
  },
  {
   "cell_type": "code",
   "execution_count": null,
   "metadata": {},
   "outputs": [],
   "source": [
    "rng = np.random.default_rng()"
   ]
  },
  {
   "cell_type": "code",
   "execution_count": null,
   "metadata": {},
   "outputs": [],
   "source": [
    "# Dphi1, Dphi2, Dphi3 = symbols(\"Dphi1 Dphi2 Dphi3\")\n",
    "dx,dy,dz=rng.standard_normal(node_N),rng.standard_normal(node_N),rng.standard_normal(node_N)"
   ]
  },
  {
   "cell_type": "code",
   "execution_count": null,
   "metadata": {},
   "outputs": [],
   "source": [
    "def C1(dx,dy,dz):\n",
    "    return np.vstack([dx**2,(dy**2+dz**2)**0.5*dy,(dy**2+dz**2)**0.5*dz])"
   ]
  },
  {
   "cell_type": "code",
   "execution_count": null,
   "metadata": {},
   "outputs": [],
   "source": [
    "C1(dx,dy,dz)"
   ]
  },
  {
   "cell_type": "code",
   "execution_count": null,
   "metadata": {},
   "outputs": [],
   "source": [
    "1/2*d0*qw*np.dot(DT,np.array([0.09,0.12727922, 0.12727922])) "
   ]
  },
  {
   "cell_type": "code",
   "execution_count": null,
   "metadata": {},
   "outputs": [],
   "source": [
    "def fD(dx,dy,dz,DT):\n",
    "#     print(dx)\n",
    "#     print(C1(dx,dy,dz).shape)\n",
    "    return 1/2*d0*qw*np.dot(DT, C1(dx,dy,dz))"
   ]
  },
  {
   "cell_type": "code",
   "execution_count": null,
   "metadata": {},
   "outputs": [],
   "source": [
    "fD(dx,dy,dz,DT)"
   ]
  },
  {
   "cell_type": "code",
   "execution_count": null,
   "metadata": {},
   "outputs": [],
   "source": [
    "# https://docs.scipy.org/doc/scipy-1.8.0/tutorial/integrate.html  \n",
    "# 1-D Gray-Scott "
   ]
  },
  {
   "cell_type": "code",
   "execution_count": null,
   "metadata": {},
   "outputs": [],
   "source": [
    "# Mat=np.matrix([[1.3,.4,6.7],[9,7,6],[3.3,5.6,7]])"
   ]
  },
  {
   "cell_type": "code",
   "execution_count": null,
   "metadata": {},
   "outputs": [],
   "source": [
    "I=np.identity(3)"
   ]
  },
  {
   "cell_type": "code",
   "execution_count": null,
   "metadata": {},
   "outputs": [],
   "source": [
    "np.dot(I,fD(dx,dy,dz,DT))"
   ]
  },
  {
   "cell_type": "code",
   "execution_count": null,
   "metadata": {},
   "outputs": [],
   "source": [
    "Rb_t=I # https://www.researchgate.net/profile/Thor-Fossen/publication/224560837_Modeling_and_Control_of_Offshore_Pipelay_Operations_Based_on_a_Finite_Strain_Pipe_Model/links/00b7d520e175a3f918000000/Modeling-and-Control-of-Offshore-Pipelay-Operations-Based-on-a-Finite-Strain-Pipe-Model.pdf"
   ]
  },
  {
   "cell_type": "code",
   "execution_count": null,
   "metadata": {},
   "outputs": [],
   "source": [
    "Rb_t"
   ]
  },
  {
   "cell_type": "code",
   "execution_count": null,
   "metadata": {},
   "outputs": [],
   "source": []
  },
  {
   "cell_type": "code",
   "execution_count": null,
   "metadata": {},
   "outputs": [],
   "source": [
    "diag_DR = 1.5*np.array([1, 1, 1]) # [N m/rad]  p.4721 in [3]"
   ]
  },
  {
   "cell_type": "code",
   "execution_count": null,
   "metadata": {},
   "outputs": [],
   "source": [
    "DR=np.diag(diag_DR) "
   ]
  },
  {
   "cell_type": "code",
   "execution_count": null,
   "metadata": {},
   "outputs": [],
   "source": [
    "dI= 0.69# Inner diameter of pipe, [m]"
   ]
  },
  {
   "cell_type": "code",
   "execution_count": null,
   "metadata": {},
   "outputs": [],
   "source": [
    "Ar=math.pi*((d0/2)**2-(dI/2)**2)"
   ]
  },
  {
   "cell_type": "code",
   "execution_count": null,
   "metadata": {},
   "outputs": [],
   "source": [
    "Ar"
   ]
  },
  {
   "cell_type": "code",
   "execution_count": null,
   "metadata": {},
   "outputs": [],
   "source": [
    "fg_e=np.array([[0,0,(mp-qw*Ar)*9.81] for x in range(node_N)]).reshape(3, node_N)"
   ]
  },
  {
   "cell_type": "code",
   "execution_count": null,
   "metadata": {},
   "outputs": [],
   "source": [
    "fg_e"
   ]
  },
  {
   "cell_type": "code",
   "execution_count": null,
   "metadata": {},
   "outputs": [],
   "source": [
    "from numpy import linalg as LA"
   ]
  },
  {
   "cell_type": "code",
   "execution_count": null,
   "metadata": {},
   "outputs": [],
   "source": [
    "def k_sigma(hi,d0,fg_e):\n",
    "    ans=[]\n",
    "#     print('hi',hi)\n",
    "    for it in hi:\n",
    "#         print(it)\n",
    "        if it<0:\n",
    "            ans.append(0)\n",
    "        elif 0<=it<=d0/20:\n",
    "#             print(LA.norm(fg_e,2)/(d0/8-d0/40)*10*it**2/d0)\n",
    "            ans.append(LA.norm(fg_e,2)/(d0/8-d0/40)*10*it**2/d0)\n",
    "        else:\n",
    "#             print(LA.norm(fg_e,2)/(d0/8-d0/40)*10*hi**2/d0)\n",
    "            ans.append(LA.norm(fg_e,2)/(d0/8-d0/40)*(it-d0/40))\n",
    "#     print(ans)         \n",
    "     \n",
    "    return np.array(ans).reshape(node_N,1)   "
   ]
  },
  {
   "cell_type": "code",
   "execution_count": null,
   "metadata": {},
   "outputs": [],
   "source": [
    "x,y,z=np.array([2.3 for i in range(node_N)]),np.array([2.3 for i in range(node_N)]),np.array([2.3 for i in range(node_N)])"
   ]
  },
  {
   "cell_type": "code",
   "execution_count": null,
   "metadata": {},
   "outputs": [],
   "source": [
    "def hi(x,y,z,d0):\n",
    "    return (np.dot(np.array([x,y,z]).T,[0,0,1])+d0/2).reshape(node_N,1) "
   ]
  },
  {
   "cell_type": "code",
   "execution_count": null,
   "metadata": {},
   "outputs": [],
   "source": [
    "hi(x,y,z,d0)"
   ]
  },
  {
   "cell_type": "code",
   "execution_count": null,
   "metadata": {},
   "outputs": [],
   "source": [
    "k_sigma(hi(x,y,z,d0),d0,fg_e)"
   ]
  },
  {
   "cell_type": "code",
   "execution_count": null,
   "metadata": {},
   "outputs": [],
   "source": [
    "def sigma(x,y,z):\n",
    "    return (k_sigma(hi(x,y,z,d0),d0,fg_e)*np.array([0,0,1])).reshape(3,node_N)"
   ]
  },
  {
   "cell_type": "code",
   "execution_count": null,
   "metadata": {},
   "outputs": [],
   "source": [
    "sigma(x,y,z)"
   ]
  },
  {
   "cell_type": "code",
   "execution_count": null,
   "metadata": {},
   "outputs": [],
   "source": [
    "# angles should be in radians, otherwise np.radians them  \n",
    "def Re_t_(arr):\n",
    "    φ,θ,ψ=arr[0],arr[1],arr[2]\n",
    "  \n",
    "    Cφ=np.matrix([[1,0,0],\n",
    "                      [0,np.cos(φ),-np.sin(φ)],\n",
    "                      [0,np.sin(φ),np.cos(φ)]])\n",
    "\n",
    "    Cθ=np.matrix([[np.cos(θ),0,np.sin(θ)],\n",
    "                      [0,1,0],\n",
    "                      [-np.sin(θ),0,np.cos(θ)]])\n",
    "\n",
    "    Cψ=np.matrix([[np.cos(ψ),-np.sin(ψ),0],\n",
    "                      [np.sin(ψ),np.cos(ψ),0],\n",
    "                      [0,0,1]])\n",
    "        \n",
    "\n",
    "    return np.array(np.dot(np.dot(Cφ,Cθ),Cψ) )"
   ]
  },
  {
   "cell_type": "code",
   "execution_count": null,
   "metadata": {},
   "outputs": [],
   "source": [
    "Re_t_([1,2,3])"
   ]
  },
  {
   "cell_type": "code",
   "execution_count": null,
   "metadata": {},
   "outputs": [],
   "source": [
    "φ, θ, ψ = rng.standard_normal(node_N),rng.standard_normal(node_N),rng.standard_normal(node_N)"
   ]
  },
  {
   "cell_type": "code",
   "execution_count": null,
   "metadata": {},
   "outputs": [],
   "source": [
    "def Re_t(a,b,c):\n",
    "    xyz=np.stack((a,b,c), axis=1)\n",
    "    return np.apply_along_axis(Re_t_, 1, xyz)"
   ]
  },
  {
   "cell_type": "code",
   "execution_count": null,
   "metadata": {
    "scrolled": true
   },
   "outputs": [],
   "source": [
    "np.dot(Re_t(φ,θ,ψ)[0],Rb_t) "
   ]
  },
  {
   "cell_type": "code",
   "execution_count": null,
   "metadata": {},
   "outputs": [],
   "source": [
    "# vessel motion\n",
    "# Fossen book p.101, p.190, p.384, p.431\n",
    "# Fossen paper, section 6"
   ]
  },
  {
   "cell_type": "code",
   "execution_count": null,
   "metadata": {},
   "outputs": [],
   "source": [
    "# Fossen paper, equation (12)"
   ]
  },
  {
   "cell_type": "code",
   "execution_count": null,
   "metadata": {},
   "outputs": [],
   "source": [
    "# φ,θ,ψ=1,2,3"
   ]
  },
  {
   "cell_type": "code",
   "execution_count": null,
   "metadata": {},
   "outputs": [],
   "source": [
    "def Re_b(φ,θ,ψ):\n",
    "    return np.dot(Re_t(φ,θ,ψ), Rb_t ) # (5) in[3]"
   ]
  },
  {
   "cell_type": "code",
   "execution_count": null,
   "metadata": {},
   "outputs": [],
   "source": [
    "Re_b(φ,θ,ψ).shape"
   ]
  },
  {
   "cell_type": "code",
   "execution_count": null,
   "metadata": {},
   "outputs": [],
   "source": [
    "# p=np.dot(Re_b, phi) # (41) in[3]"
   ]
  },
  {
   "cell_type": "code",
   "execution_count": null,
   "metadata": {},
   "outputs": [],
   "source": [
    "# def d_s(da,db,dc,dt,ds):\n",
    "    \n",
    "def d_s(da,db,dc,x,y,z):\n",
    "#     return np.vstack([da*dt/ds,db*dt/ds,dc*dt/ds])\n",
    "#     print(np.diff(da))\n",
    "\n",
    "    ds=np.sqrt(np.diff(x,prepend=x[0])**2+np.diff(y,prepend=y[0])**2\n",
    "                 +np.diff(z,prepend=z[0])**2)\n",
    "#     print(ds)\n",
    "    ds[ds == 0] = 1\n",
    "    return np.vstack([np.diff(da,prepend=da[0])/ds,np.diff(db,prepend=db[0])/ds,np.diff(dc,prepend=dc[0])/ds])"
   ]
  },
  {
   "cell_type": "code",
   "execution_count": null,
   "metadata": {},
   "outputs": [],
   "source": [
    "# a=[1,2,3]\n",
    "# np.diff(a,prepend=a[0])"
   ]
  },
  {
   "cell_type": "code",
   "execution_count": null,
   "metadata": {},
   "outputs": [],
   "source": [
    "x,y,z=100*rng.standard_normal(node_N),100*rng.standard_normal(node_N),100*rng.standard_normal(node_N)\n"
   ]
  },
  {
   "cell_type": "code",
   "execution_count": null,
   "metadata": {},
   "outputs": [],
   "source": [
    "d_s(x,y,z,x,y,z)"
   ]
  },
  {
   "cell_type": "code",
   "execution_count": null,
   "metadata": {},
   "outputs": [],
   "source": [
    "# φ,θ,ψ=np.array([2.3 for i in range(node_N)]),np.array([1.3 for i in range(node_N)]),np.array([2.1 for i in range(node_N)])\n"
   ]
  },
  {
   "cell_type": "code",
   "execution_count": null,
   "metadata": {},
   "outputs": [],
   "source": [
    "CT"
   ]
  },
  {
   "cell_type": "code",
   "execution_count": null,
   "metadata": {},
   "outputs": [],
   "source": [
    "def ne(x,y,z,φ,θ,ψ):\n",
    "#     print(np.multiply(Re_t(φ,θ,ψ),CT).shape)\n",
    "#     print(np.multiply(np.multiply(Re_t(φ,θ,ψ),CT),\n",
    "#                          Re_t(φ,θ,ψ)).shape)\n",
    "#     print(d_s(dx,dy,dz,dt,ds).shape)\n",
    "    \n",
    "    A=np.multiply(np.multiply(Re_t(φ,θ,ψ),CT),\n",
    "                         Re_t(φ,θ,ψ))\n",
    "#     B=d_s(dx,dy,dz,dt,ds).T\n",
    "    B=d_s(x,y,z,x,y,z).T\n",
    "    \n",
    "#     print(A)\n",
    "    \n",
    "#     ans=[]\n",
    "#     for i in range(len(A)):\n",
    "#         ans.append(np.dot(A[i],B[i]))\n",
    "    return np.einsum('ijk,ik->ij', A,B)\n",
    "#     return np.array(ans)"
   ]
  },
  {
   "cell_type": "code",
   "execution_count": null,
   "metadata": {},
   "outputs": [],
   "source": [
    "def ne_(x,y,z,dx,dy,dz):\n",
    "#     print(fg_e)\n",
    "#     print(fD(dx,dy,dz,DT))\n",
    "#     print(sigma(x,y,z))\n",
    "#     return -fg_e-fD(dx,dy,dz,DT)-sigma(x,y,z)\n",
    "    return -fg_e-fD(dx,dy,dz,DT)"
   ]
  },
  {
   "cell_type": "code",
   "execution_count": null,
   "metadata": {},
   "outputs": [],
   "source": [
    "# mp*ddp = d_s(ne,ds)+np.dot(Re_b,ne_)"
   ]
  },
  {
   "cell_type": "code",
   "execution_count": null,
   "metadata": {},
   "outputs": [],
   "source": [
    "ne(x,y,z,φ,θ,ψ)"
   ]
  },
  {
   "cell_type": "code",
   "execution_count": null,
   "metadata": {},
   "outputs": [],
   "source": [
    "ne_(x,y,z,dx,dy,dz)"
   ]
  },
  {
   "cell_type": "code",
   "execution_count": null,
   "metadata": {},
   "outputs": [],
   "source": [
    "Re_b(φ,θ,ψ).shape"
   ]
  },
  {
   "cell_type": "code",
   "execution_count": null,
   "metadata": {},
   "outputs": [],
   "source": [
    "def Irho_e(φ,θ,ψ):\n",
    "    return np.multiply(np.multiply(Re_t(φ,θ,ψ),Irho),Re_t(φ,θ,ψ)) # (19) in [3] "
   ]
  },
  {
   "cell_type": "code",
   "execution_count": null,
   "metadata": {},
   "outputs": [],
   "source": [
    "Irho_e(φ,θ,ψ)"
   ]
  },
  {
   "cell_type": "code",
   "execution_count": null,
   "metadata": {},
   "outputs": [],
   "source": [
    "def Π_(arr):\n",
    "    φ,θ,ψ=arr[0],arr[1],arr[2]\n",
    "    return np.array([[np.cos(θ)*np.cos(ψ),-np.sin(ψ),0],\n",
    "                  [np.cos(θ)*np.sin(ψ),np.cos(ψ),0],\n",
    "                  [-np.sin(θ),0,1]])"
   ]
  },
  {
   "cell_type": "code",
   "execution_count": null,
   "metadata": {},
   "outputs": [],
   "source": [
    "def Π(a,b,c):\n",
    "    xyz=np.stack((a,b,c), axis=1)\n",
    "  \n",
    "    return np.apply_along_axis(Π_, 1, xyz)\n",
    "    "
   ]
  },
  {
   "cell_type": "code",
   "execution_count": null,
   "metadata": {},
   "outputs": [],
   "source": [
    "Π(φ,θ,ψ).shape"
   ]
  },
  {
   "cell_type": "code",
   "execution_count": null,
   "metadata": {},
   "outputs": [],
   "source": [
    "def ωe(φ,θ,ψ):  # (100) in [2]\n",
    "    A=Π(φ,θ,ψ)\n",
    "#     print(A)\n",
    "    B=np.array([φ,θ,ψ]).T\n",
    "#     print(B)\n",
    "#     ans=[]\n",
    "#     for i in range(len(A)):\n",
    "#         ans.append(np.dot(A[i],B[i]))\n",
    "    return np.einsum('ijk,ik->ij', A,B)    \n",
    "#     return np.array(ans) \n",
    "#     ans=[]\n",
    "#     for i in range(len(φ)):\n",
    "#         ans.append(np.dot(Π(φ[i],θ[i],ψ[i]),np.array([φ[i],θ[i],ψ[i]])))  # (100) in [2]\n",
    "#     return np.vstack(ans)    "
   ]
  },
  {
   "cell_type": "code",
   "execution_count": null,
   "metadata": {},
   "outputs": [],
   "source": [
    "# np.dot(np.matrix([[-0.13504574, -0.86320937,  0.        ],\n",
    "#   [ 0.23090749, -0.5048461 ,  0.        ],\n",
    "#   [-0.96355819,  0.,          1.        ]]),np.array([2.3, 1.3, 2.1]))"
   ]
  },
  {
   "cell_type": "code",
   "execution_count": null,
   "metadata": {},
   "outputs": [],
   "source": [
    "ωe(φ,θ,ψ)"
   ]
  },
  {
   "cell_type": "code",
   "execution_count": null,
   "metadata": {},
   "outputs": [],
   "source": [
    "diag_CR = 1e11*np.array([1, 1, 1]) \n",
    "# diag_CR = 1e7*np.array([1, 1, 1]) \n",
    "CR=np.diag(diag_CR)"
   ]
  },
  {
   "cell_type": "code",
   "execution_count": null,
   "metadata": {},
   "outputs": [],
   "source": [
    "CR"
   ]
  },
  {
   "cell_type": "code",
   "execution_count": null,
   "metadata": {},
   "outputs": [],
   "source": [
    "def me(φ,θ,ψ):\n",
    "    A=np.multiply(np.multiply(Re_t(φ,θ,ψ),CR),Re_t(φ,θ,ψ))\n",
    "    B=ωe(φ,θ,ψ)\n",
    "    ans=[]\n",
    "    return np.einsum('ijk,ik->ij', A,B) \n",
    "#     for i in range(len(A)):\n",
    "#         ans.append(np.dot(A[i],B[i]))\n",
    "#     return np.array(ans)\n",
    "#     tmp=[]\n",
    "#     for i in range(len(φ)):\n",
    "#         tmp.append(np.dot(np.dot(Re_t(φ[i],θ[i],ψ[i]),CR),Re_t(φ[i],θ[i],ψ[i]).T))\n",
    "        \n",
    "#     tmp1= ωe(φ,θ,ψ)\n",
    "    \n",
    "#     ans=[]\n",
    "#     for i in range(len(tmp1)):\n",
    "#         ans.append(np.dot(np.array(tmp[i]),tmp1[i] ))\n",
    "#     return np.array(ans).reshape(3,-1)"
   ]
  },
  {
   "cell_type": "code",
   "execution_count": null,
   "metadata": {},
   "outputs": [],
   "source": [
    "me_=me(φ,θ,ψ)"
   ]
  },
  {
   "cell_type": "code",
   "execution_count": null,
   "metadata": {},
   "outputs": [],
   "source": [
    "me_"
   ]
  },
  {
   "cell_type": "code",
   "execution_count": null,
   "metadata": {},
   "outputs": [],
   "source": [
    "diag_DR = 1.5*np.array([1, 1, 1]) \n",
    " \n",
    "DR=np.diag(diag_DR)"
   ]
  },
  {
   "cell_type": "code",
   "execution_count": null,
   "metadata": {},
   "outputs": [],
   "source": [
    "# np.dot(Re_b, np.dot( Irho_e, (np.dot(Π(φ,θ,ψ), np.array([ddφ,ddθ,ddψ])))))=\n",
    "# -np.dot(Re_b,np.dot(Irho_e,np.dot(Π(dφ,dθ,dψ),np.array([dφ,dθ,dψ])))-\n",
    "# np.cross(np.dot(Π(φ,θ,ψ),np.array([dφ,dθ,dψ])),np.dot(Irho_e, np.dot(Π(φ,θ,ψ),np.array([dφ,dθ,dψ]))))+\n",
    "# np.dot(Re_b,d_s(me_[0],me_[1],me_[2],dt,ds)+d_s(me_[0],me_[1],me_[2],dt,ds))+\n",
    "# np.cross(d_s(x,y,z,dt,ds),ne(x,y,z,φ,θ,ψ,dt,ds))+\n",
    "# np.dot(Re_b,-np.dot(DR,np.dot(Π(φ,θ,ψ),np.array([dφ,dθ,dψ]))))"
   ]
  },
  {
   "cell_type": "code",
   "execution_count": null,
   "metadata": {},
   "outputs": [],
   "source": [
    "ne_(x,y,z,dx,dy,dz)"
   ]
  },
  {
   "cell_type": "code",
   "execution_count": null,
   "metadata": {},
   "outputs": [],
   "source": [
    "C=ne(x,y,z,φ,θ,ψ)\n",
    "  \n",
    "a,b,c=C[:,0],C[:,1],C[:,2]"
   ]
  },
  {
   "cell_type": "code",
   "execution_count": null,
   "metadata": {},
   "outputs": [],
   "source": [
    "d_s(a,b,c,x,y,z)"
   ]
  },
  {
   "cell_type": "code",
   "execution_count": null,
   "metadata": {},
   "outputs": [],
   "source": [
    "Re_b(φ,θ,ψ).shape"
   ]
  },
  {
   "cell_type": "code",
   "execution_count": null,
   "metadata": {},
   "outputs": [],
   "source": [
    "ne_(x,y,z,dx,dy,dz).T"
   ]
  },
  {
   "cell_type": "code",
   "execution_count": null,
   "metadata": {},
   "outputs": [],
   "source": [
    "type(x),y,z,dx,type(dy),dz"
   ]
  },
  {
   "cell_type": "code",
   "execution_count": null,
   "metadata": {},
   "outputs": [],
   "source": [
    "ne_(x,y,z,dx,dy,dz).T+np.einsum('ijk,ik->ij', Re_b(φ,θ,ψ),ne_(x,y,z,dx,dy,dz).T)"
   ]
  },
  {
   "cell_type": "code",
   "execution_count": null,
   "metadata": {},
   "outputs": [],
   "source": []
  },
  {
   "cell_type": "code",
   "execution_count": null,
   "metadata": {},
   "outputs": [],
   "source": []
  },
  {
   "cell_type": "markdown",
   "metadata": {},
   "source": [
    "### Catenary"
   ]
  },
  {
   "cell_type": "code",
   "execution_count": null,
   "metadata": {},
   "outputs": [],
   "source": []
  },
  {
   "cell_type": "code",
   "execution_count": null,
   "metadata": {},
   "outputs": [],
   "source": [
    "def catenary(x,Ws,Fh):\n",
    "    return (Fh/Ws)*(np.cosh(x*Ws/Fh)-1)"
   ]
  },
  {
   "cell_type": "code",
   "execution_count": null,
   "metadata": {},
   "outputs": [],
   "source": [
    "pipe_weight_per_unit_length = mp #  (submerged) [kg/m]  # 113.07 - not submerged"
   ]
  },
  {
   "cell_type": "code",
   "execution_count": null,
   "metadata": {},
   "outputs": [],
   "source": [
    "Fx_0=82945396"
   ]
  },
  {
   "cell_type": "code",
   "execution_count": null,
   "metadata": {},
   "outputs": [],
   "source": [
    "Ws = pipe_weight_per_unit_length*9.81 # [N/m]\n",
    "h=700"
   ]
  },
  {
   "cell_type": "code",
   "execution_count": null,
   "metadata": {},
   "outputs": [],
   "source": [
    "S=math.sqrt(h*(2*Fx_0/Ws -h))\n",
    "horizontal_length=(Fx_0/Ws -h)*np.log((S+Fx_0/Ws)/(Fx_0/Ws-h))"
   ]
  },
  {
   "cell_type": "code",
   "execution_count": null,
   "metadata": {},
   "outputs": [],
   "source": [
    "delta_x=horizontal_length/(node_N-1)"
   ]
  },
  {
   "cell_type": "code",
   "execution_count": null,
   "metadata": {},
   "outputs": [],
   "source": [
    "x0=[i*delta_x for i in range(node_N)]\n",
    "z0=[]\n",
    "for i in range(len(x0)):\n",
    "    z0.append(catenary(x0[i],Ws,Fx_0))"
   ]
  },
  {
   "cell_type": "code",
   "execution_count": null,
   "metadata": {},
   "outputs": [],
   "source": [
    "x0,z0"
   ]
  },
  {
   "cell_type": "code",
   "execution_count": null,
   "metadata": {},
   "outputs": [],
   "source": [
    "plt.plot(x0, z0)\n",
    "plt.show()"
   ]
  },
  {
   "cell_type": "code",
   "execution_count": null,
   "metadata": {},
   "outputs": [],
   "source": [
    "rng = np.random.default_rng()\n",
    "q0=np.zeros(12*node_N)"
   ]
  },
  {
   "cell_type": "code",
   "execution_count": null,
   "metadata": {},
   "outputs": [],
   "source": [
    "\n",
    "for j in range(1,12):\n",
    "    if j==1:  \n",
    "        q0[(j-1)*node_N:j*node_N]=x0\n",
    "    elif j==5:    \n",
    "        q0[(j-1)*node_N:j*node_N]=z0\n",
    "#     elif j==7 or j==9 or j==11:    \n",
    "#         q0[(j-1)*node_N:j*node_N]=rng.standard_normal(node_N)"
   ]
  },
  {
   "cell_type": "code",
   "execution_count": null,
   "metadata": {},
   "outputs": [],
   "source": [
    "q0"
   ]
  },
  {
   "cell_type": "code",
   "execution_count": null,
   "metadata": {},
   "outputs": [],
   "source": []
  },
  {
   "cell_type": "code",
   "execution_count": null,
   "metadata": {},
   "outputs": [],
   "source": []
  },
  {
   "cell_type": "code",
   "execution_count": null,
   "metadata": {},
   "outputs": [],
   "source": []
  },
  {
   "cell_type": "code",
   "execution_count": null,
   "metadata": {},
   "outputs": [],
   "source": []
  },
  {
   "cell_type": "code",
   "execution_count": null,
   "metadata": {},
   "outputs": [],
   "source": []
  },
  {
   "cell_type": "code",
   "execution_count": null,
   "metadata": {},
   "outputs": [],
   "source": []
  },
  {
   "cell_type": "code",
   "execution_count": null,
   "metadata": {},
   "outputs": [],
   "source": []
  },
  {
   "cell_type": "code",
   "execution_count": null,
   "metadata": {},
   "outputs": [],
   "source": []
  },
  {
   "cell_type": "code",
   "execution_count": null,
   "metadata": {},
   "outputs": [],
   "source": []
  },
  {
   "cell_type": "markdown",
   "metadata": {},
   "source": [
    "### Vessel"
   ]
  },
  {
   "cell_type": "code",
   "execution_count": null,
   "metadata": {},
   "outputs": [],
   "source": [
    "class VesselSemisub: # Semisub model from Fossen\n",
    "    \n",
    "    def __init__(self):\n",
    "        \n",
    "        MRB = 1.0e10 * np.array(\n",
    "            [\n",
    "                [0.0027, 0, 0, 0, -0.0530, 0],\n",
    "                [0, 0.0027, 0, 0.0530, 0, -0.0014],\n",
    "                [0, 0, 0.0027, 0, 0.0014, 0],\n",
    "                [0, 0.0530, 0, 3.4775, 0, -0.0265],\n",
    "                [-0.0530, 0, 0.0014, 0, 3.8150, 0],\n",
    "                [0, -0.0014, 0, -0.0265, 0, 3.7192],\n",
    "            ],\n",
    "            float,\n",
    "        )\n",
    "\n",
    "        MA = 1.0e10 * np.array(\n",
    "            [\n",
    "                [0.0017, 0, 0, 0, -0.0255, 0],\n",
    "                [0, 0.0042, 0, 0.0365, 0, 0],\n",
    "                [0, 0, 0.0021, 0, 0, 0],\n",
    "                [0, 0.0365, 0, 1.3416, 0, 0],\n",
    "                [-0.0255, 0, 0, 0, 2.2267, 0],\n",
    "                [0, 0, 0, 0, 0, 3.2049],\n",
    "            ],\n",
    "            float,\n",
    "        )\n",
    "\n",
    "        self.D = 1.0e09 * np.array(\n",
    "            [\n",
    "                [0.0004, 0, 0, 0, -0.0085, 0],\n",
    "                [0, 0.0003, 0, 0.0067, 0, -0.0002],\n",
    "                [0, 0, 0.0034, 0, 0.0017, 0],\n",
    "                [0, 0.0067, 0, 4.8841, 0, -0.0034],\n",
    "                [-0.0085, 0, 0.0017, 0, 7.1383, 0],\n",
    "                [0, -0.0002, 0, -0.0034, 0, 0.8656],\n",
    "            ],\n",
    "            float,\n",
    "        )\n",
    "\n",
    "#         self.G = 1.0e10 * np.diag([0.0, 0.0, 0.0006, 1.4296, 2.6212, 0.0])\n",
    "        self.G =1.0e10 *np.array([0.0, 0.0, 0.0006, 1.4296, 2.6212, 0.0])\n",
    "        self.M = MRB + MA\n",
    "#         print(self.G,self.M)\n",
    "    def tau(self, dη, ddη):\n",
    "        return (np.matmul(self.M,ddη) + np.matmul(self.D, dη) + self.G)\n",
    "#         return (np.matmul(self.M,ddη) + np.matmul(self.D, dη) + self.G)/10000000"
   ]
  },
  {
   "cell_type": "code",
   "execution_count": null,
   "metadata": {},
   "outputs": [],
   "source": [
    "V=VesselSemisub()"
   ]
  },
  {
   "cell_type": "code",
   "execution_count": null,
   "metadata": {},
   "outputs": [],
   "source": [
    "dη=np.array([1,2,3,4,5,6])\n",
    "ddη=np.array([1.3,2.4,3.5,4.6,5.7,6.8])"
   ]
  },
  {
   "cell_type": "code",
   "execution_count": null,
   "metadata": {},
   "outputs": [],
   "source": [
    "tau_force = V.tau(dη, ddη)"
   ]
  },
  {
   "cell_type": "code",
   "execution_count": null,
   "metadata": {},
   "outputs": [],
   "source": [
    "tau_force.shape"
   ]
  },
  {
   "cell_type": "code",
   "execution_count": null,
   "metadata": {},
   "outputs": [],
   "source": [
    "np.matmul(np.array([[1.1,1.2],[1,2]]),np.array([1,2]))"
   ]
  },
  {
   "cell_type": "code",
   "execution_count": null,
   "metadata": {},
   "outputs": [],
   "source": []
  },
  {
   "cell_type": "code",
   "execution_count": null,
   "metadata": {},
   "outputs": [],
   "source": []
  },
  {
   "cell_type": "code",
   "execution_count": null,
   "metadata": {},
   "outputs": [],
   "source": []
  },
  {
   "cell_type": "code",
   "execution_count": null,
   "metadata": {},
   "outputs": [],
   "source": []
  },
  {
   "cell_type": "code",
   "execution_count": null,
   "metadata": {},
   "outputs": [],
   "source": []
  },
  {
   "cell_type": "code",
   "execution_count": null,
   "metadata": {},
   "outputs": [],
   "source": [
    "t"
   ]
  },
  {
   "cell_type": "code",
   "execution_count": null,
   "metadata": {},
   "outputs": [],
   "source": [
    "sampleTime = 0.01                 # sample time [seconds]\n",
    "N = 50_000                         # number of samples"
   ]
  },
  {
   "cell_type": "code",
   "execution_count": null,
   "metadata": {},
   "outputs": [],
   "source": [
    "N"
   ]
  },
  {
   "cell_type": "code",
   "execution_count": null,
   "metadata": {},
   "outputs": [],
   "source": [
    "vehicle=semisub('DPcontrol',100.,100.,40.0,0,0) "
   ]
  },
  {
   "cell_type": "code",
   "execution_count": null,
   "metadata": {},
   "outputs": [],
   "source": [
    "[simTime, simData] = simulate(N, sampleTime, vehicle)"
   ]
  },
  {
   "cell_type": "code",
   "execution_count": null,
   "metadata": {},
   "outputs": [],
   "source": [
    "simData.shape"
   ]
  },
  {
   "cell_type": "code",
   "execution_count": null,
   "metadata": {},
   "outputs": [],
   "source": [
    "ans_t=[]\n",
    "sum_=0\n",
    "for i in range(simData.shape[0]):\n",
    "    ans_t.append(sum_)\n",
    "    sum_+=0.01"
   ]
  },
  {
   "cell_type": "code",
   "execution_count": null,
   "metadata": {},
   "outputs": [],
   "source": [
    "plotVehicleStates(simTime, simData, 1)                    \n",
    "plotControls(simTime, simData, vehicle, 2)"
   ]
  },
  {
   "cell_type": "code",
   "execution_count": null,
   "metadata": {},
   "outputs": [],
   "source": [
    "numDataPoints = 5                 # number of 3D data points\n",
    "FPS = 10                            # frames per second (animated GIF)\n",
    "filename = '3D_animation.gif'       # data file for animated GIF\n",
    "browser = 'safari'                  # browser for visualization of animated GIF"
   ]
  },
  {
   "cell_type": "code",
   "execution_count": null,
   "metadata": {},
   "outputs": [],
   "source": [
    "plotVehicleStates(simTime, simData, 3)"
   ]
  },
  {
   "cell_type": "code",
   "execution_count": null,
   "metadata": {},
   "outputs": [],
   "source": [
    "plot3D(simData, numDataPoints, FPS, filename, 3)  "
   ]
  },
  {
   "cell_type": "markdown",
   "metadata": {},
   "source": [
    "### Modelling"
   ]
  },
  {
   "cell_type": "code",
   "execution_count": null,
   "metadata": {},
   "outputs": [],
   "source": [
    "class Time:\n",
    "    def __init__(self):\n",
    "        self.time=0"
   ]
  },
  {
   "cell_type": "code",
   "execution_count": null,
   "metadata": {},
   "outputs": [],
   "source": [
    "co=Time()"
   ]
  },
  {
   "cell_type": "code",
   "execution_count": null,
   "metadata": {},
   "outputs": [],
   "source": [
    "# t"
   ]
  },
  {
   "cell_type": "code",
   "execution_count": null,
   "metadata": {},
   "outputs": [],
   "source": [
    "def find_nearest(array, value):\n",
    "    array = np.asarray(array)\n",
    "    idx = (np.abs(array - value)).argmin()\n",
    "    return idx"
   ]
  },
  {
   "cell_type": "code",
   "execution_count": null,
   "metadata": {},
   "outputs": [],
   "source": [
    "# simData[1]"
   ]
  },
  {
   "cell_type": "code",
   "execution_count": null,
   "metadata": {},
   "outputs": [],
   "source": [
    "simD=np.insert(simData, 0, simData[0], axis=0)"
   ]
  },
  {
   "cell_type": "code",
   "execution_count": null,
   "metadata": {},
   "outputs": [],
   "source": [
    "diff=np.diff(simD,axis=0)"
   ]
  },
  {
   "cell_type": "code",
   "execution_count": null,
   "metadata": {},
   "outputs": [],
   "source": [
    "V=VesselSemisub()"
   ]
  },
  {
   "cell_type": "code",
   "execution_count": null,
   "metadata": {},
   "outputs": [],
   "source": [
    "thres =0.1"
   ]
  },
  {
   "cell_type": "code",
   "execution_count": null,
   "metadata": {},
   "outputs": [],
   "source": [
    "def retrieve_name(var):\n",
    "    callers_local_vars = inspect.currentframe().f_back.f_locals.items()\n",
    "    return [var_name for var_name, var_val in callers_local_vars if var_val is var]"
   ]
  },
  {
   "cell_type": "code",
   "execution_count": null,
   "metadata": {},
   "outputs": [],
   "source": [
    "def grayscott1d(Q,p,t):\n",
    "#     Q,t=np.array(Q),np.array(t)\n",
    "#     print(t)\n",
    "#     dt=0\n",
    "#     dt=abs(t-co.time)\n",
    "#     print('dt',t,co.time,dt)\n",
    "#     co.time+=sampleTime\n",
    "    co.time += 0.1\n",
    "    \n",
    "#     print(Q)   \n",
    "    \n",
    "    idx = find_nearest(np.array(ans_t),  co.time%(sampleTime*N)) #!!!!!!!!!!!!!!!!!!!!!\n",
    "#     print(idx)\n",
    "#     print(t)\n",
    "#     print(idx)\n",
    "#     ind=ans_t.index(val)\n",
    "    # State vectors\n",
    "    x_ve = simD[:, 0][idx]\n",
    "    y_ve = simD[:, 1][idx]\n",
    "    z_ve = simD[:, 2][idx]\n",
    "#     print(x_ve,y_ve,z_ve)\n",
    "#     phi_ve = R2D(ssa(simData[:, 3][idx]))\n",
    "#     theta_ve = R2D(ssa(simData[:, 4][idx]))\n",
    "#     psi_v = R2D(ssa(simData[:, 5][idx]))\n",
    "#     phi_ve = ssa(simData[:, 3][idx])\n",
    "#     theta_ve = ssa(simData[:, 4][idx])\n",
    "#     psi_v = ssa(simData[:, 5][idx])\n",
    "    u_ve = simD[:, 6][idx]\n",
    "    v_ve = simD[:, 7][idx]\n",
    "    w_ve = simD[:, 8][idx]\n",
    "    p_ve = simD[:, 9][idx]\n",
    "    q_ve = simD[:, 10][idx]\n",
    "    r_ve = simD[:, 11][idx]\n",
    "    \n",
    "    du_ve = diff[:, 6][idx]/sampleTime\n",
    "    dv_ve = diff[:, 7][idx]/sampleTime\n",
    "    dw_ve = diff[:, 8][idx]/sampleTime\n",
    "    dp_ve = diff[:, 9][idx]/sampleTime\n",
    "    dq_ve = diff[:, 10][idx]/sampleTime\n",
    "    dr_ve = diff[:, 11][idx]/sampleTime\n",
    "    \n",
    "    dη=np.array([u_ve, v_ve, w_ve, p_ve, q_ve, r_ve])\n",
    "    \n",
    "    ddη=np.array([du_ve, dv_ve, dw_ve, dp_ve, dq_ve, dr_ve])\n",
    "    \n",
    "    tau_force = V.tau(dη, ddη)\n",
    "    \n",
    "    \n",
    "    \n",
    "    \n",
    "#     p_ve = R2D(simData[:, 9][idx])\n",
    "#     q_ve = R2D(simData[:, 10][idx])\n",
    "#     r_ve = R2D(simData[:, 11][idx])\n",
    "\n",
    "#     if t>dt*co.count:\n",
    "#         co.count+=1\n",
    "        \n",
    "#     print(type(Q))\n",
    "    x,y,z=Q[0:node_N],Q[2*node_N:3*node_N],Q[4*node_N:5*node_N]\n",
    "#     print(x0[-1],y0[-1])\n",
    "\n",
    "#     x[-1]=x_ve+x0[-1]\n",
    "#     y[-1]=y_ve\n",
    "#     z[-1]=z_ve+z0[-1]\n",
    "#     print( x[-1], y[-1], z[-1])\n",
    "#     x[0]=0\n",
    "#     y[0]=0\n",
    "#     z[0]=0\n",
    "#     print(z)\n",
    "#     print(z_ve)\n",
    "#     print(x_ve,y_ve,z_ve)\n",
    "#     print(x[0],y[0],z[0])\n",
    "#     print(x[-1],y[-1],z[-1])\n",
    "#     print()\n",
    "    dx,dy,dz=Q[1*node_N:2*node_N],Q[3*node_N:4*node_N],Q[5*node_N:6*node_N]\n",
    "    \n",
    "#     dx[0]=0\n",
    "#     dy[0]=0\n",
    "#     dz[0]=0\n",
    "    \n",
    "    \n",
    "#     dx[-1]=u_ve\n",
    "#     dy[-1]=v_ve \n",
    "#     dz[-1]=w_ve\n",
    "#     print(dx,dy.shape, dx.shape)\n",
    "    φ,θ,ψ=Q[6*node_N:7*node_N],Q[8*node_N:9*node_N],Q[10*node_N:11*node_N]\n",
    "    \n",
    "#     φ[-1]=phi_ve\n",
    "#     θ[-1]=theta_ve\n",
    "#     ψ[-1]=psi_v\n",
    "    \n",
    "    dφ,dθ,dψ=Q[7*node_N:8*node_N],Q[9*node_N:10*node_N],Q[11*node_N:12*node_N]\n",
    "    \n",
    "#     dφ[-1]=p_ve\n",
    "#     dθ[-1]= q_ve\n",
    "#     dψ[-1]=r_ve\n",
    "#     print(z)    \n",
    "#     print(t)\n",
    "    \n",
    "#     ddx = np.empty_like(y)\n",
    "#     ddy = np.empty_like(y)\n",
    "#     ddz = np.empty_like(y)\n",
    "#     ddφ = np.empty_like(y)\n",
    "#     ddθ = np.empty_like(y)\n",
    "#     ddψ= np.empty_like(y)\n",
    "    C=ne(x,y,z,φ,θ,ψ)\n",
    "#     print('C',C)\n",
    "  \n",
    "    a,b,c=C[:,0],C[:,1],C[:,2]\n",
    "#     print('abc',a,b,c)\n",
    "#     print(a,C)\n",
    "#     print(a)\n",
    "    \n",
    "#     for it in [φ,θ,ψ,x,y,z,dx,dy,dz]:\n",
    "#         print(it)\n",
    "    # here single Re_b(φ,θ,ψ) etc.\n",
    "#     print(np.einsum('ijk,ik->ij', Re_b(φ,θ,ψ).astype(float), ne_(x,y,z,dx,dy,dz).astype(float).T))\n",
    "#     print(ne_(x,y,z,dx,dy,dz).astype(float))\n",
    "    Z0=np.zeros((node_N,3))\n",
    "    Z0[-1]=tau_force[:3]\n",
    "    Z1 = d_s(a,b,c,x,y,z).T\n",
    "    Z2 =np.einsum('ijk,ik->ij', Re_b(φ,θ,ψ), ne_(x,y,z,dx,dy,dz).T)\n",
    "    Z=Z1 + Z2 + Z0\n",
    "    \n",
    "#     if np.isnan(np.sum(Z0)):\n",
    "#         print('Z0 NaN',np.isnan(np.sum(Z0)))\n",
    "#     if max(abs(np.amax(Z0)), abs(np.amin(Z0)))>thres :\n",
    "#         print('Z0', Z0) \n",
    "                  \n",
    "#     if np.isnan(np.sum(Z1)):\n",
    "#         print('Z1 NaN',np.isnan(np.sum(Z1)))\n",
    "#     if max(abs(np.amax(Z1)), abs(np.amin(Z1)))>thres :\n",
    "#         print('Z1', Z1)    \n",
    "                  \n",
    "#     if np.isnan(np.sum(Z2)):\n",
    "#         print('Z2 NaN',np.isnan(np.sum(Z2)))\n",
    "#     if max(abs(np.amax(Z2)), abs(np.amin(Z2)))>thres :\n",
    "#         print('Z2', Z2)      \n",
    "#     print(Z.shape)\n",
    "    \n",
    "    \n",
    "    ddx,ddy, ddz = (1/Ws*Z).T\n",
    "#     print(ddx,ddy, ddz)\n",
    "#     print('ddx',ddx)  \n",
    "#     print('ddy',ddy) \n",
    "#     print('ddz',ddz) \n",
    "    \n",
    "    me_=me(φ,θ,ψ)\n",
    "#     print(Re_b(φ,θ,ψ).shape)\n",
    "#     print(Irho_e(φ,θ,ψ).shape)\n",
    "#     print(Irho_e(φ,θ,ψ).shape)\n",
    "\n",
    "    \n",
    "    C1=np.einsum('ijk,ik->ij', Re_b(φ,θ,ψ).astype(np.float32), np.einsum('ijk,ik->ij', Irho_e(φ,θ,ψ).astype(np.float32),\n",
    "                                                        np.einsum('ijk,ik->ij', Π(dφ,dθ,dψ).astype(np.float32), np.array([dφ,dθ,dψ]).astype(np.float32).T)))\n",
    "        \n",
    "    C2= np.cross(np.einsum('ijk,ik->ij',Π(φ,θ,ψ).astype(np.float32),np.array([dφ,dθ,dψ]).astype(np.float32).T),\n",
    "                 np.einsum('ijk,ik->ij',Irho_e(φ,θ,ψ).astype(np.float32),\n",
    "                           np.einsum('ijk,ik->ij',Π(φ,θ,ψ).astype(np.float32),np.array([dφ,dθ,dψ]).astype(np.float32).T)))\n",
    "    \n",
    "#     print(Re_b(φ,θ,ψ).shape)\n",
    "# #     print(me_)\n",
    "# #     print(me_[:,0])\n",
    "#     print(d_s(me_[:,0],me_[:,1],me_[:,2],dt,ds).shape)\n",
    "# #     print(Irho_e(φ,θ,ψ).shape)\n",
    "#     print(d_s(me_[:,0],me_[:,1],me_[:, 2],dt,ds))\n",
    "#     print(me_)\n",
    "#     print('d_s',d_s(me_[:,0],me_[:,1],me_[:, 2],x,y,z))\n",
    "    C3= np.einsum('ijk,ik->ij',Re_b(φ,θ,ψ).astype(np.float32),d_s(me_[:,0],me_[:,1],me_[:, 2],x,y,z).astype(np.float32).T)\n",
    "    \n",
    "#     print(d_s(x,y,z,dt,ds).shape)\n",
    "#     print(ne(x,y,z,φ,θ,ψ,dt,ds).T.shape)\n",
    "    C4= np.cross(d_s(x,y,z,x,y,z).T,ne(x,y,z,φ,θ,ψ))\n",
    "#     print(np.dot(DR,K).shape)\n",
    "#     print(Re_b(φ,θ,ψ).shape)\n",
    "#     print(np.dot(DR,K[:,0]))\n",
    "\n",
    "    K1=np.einsum('ijk,ik->ij',Π(φ,θ,ψ).astype(np.float32),np.array([dφ,dθ,dψ]).astype(np.float32).T).T\n",
    "#     print('K1',np.array([dφ,dθ,dψ]))\n",
    "    C5= np.einsum('ijk,ik->ij',Re_b(φ,θ,ψ).astype(np.float32),-np.dot(DR,K1).astype(np.float32).T)\n",
    "#     if np.isnan(np.sum(C1)):\n",
    "#         print('C1',np.isnan(np.sum(C1)))\n",
    "#     if np.isnan(np.sum(C2)):    \n",
    "#         print('C2',np.isnan(np.sum(C2)))\n",
    "#     if np.isnan(np.sum(C3)):    \n",
    "#         print('C3',np.isnan(np.sum(C3)))\n",
    "#     if np.isnan(np.sum(C4)):    \n",
    "#         print('C4',np.isnan(np.sum(C4)))\n",
    "#     if np.isnan(np.sum(C5)):    \n",
    "#         print('C5',np.isnan(np.sum(C5)))\n",
    "        \n",
    "    C0=np.zeros((node_N,3))\n",
    "    C0[-1]=tau_force[3:]\n",
    "#     if np.isnan(np.sum(C0)):\n",
    "#         print('C0',np.isnan(np.sum(C0)))\n",
    "#     for a in [C1,C2,C3,C4,C5,C0]:   \n",
    "#         if max(abs(np.amax(a)), abs(np.amin(a)))>thres :\n",
    "#             print('{}'.format( retrieve_name(a)),a)\n",
    "    B =(-C1-C2+C3+C4+C5+C0)\n",
    "#     print(B)\n",
    "#     print(B.shape)\n",
    "#     print(Re_b(φ,θ,ψ).shape)\n",
    "#     print(Irho_e(φ,θ,ψ).shape)\n",
    "#     print(Π(φ,θ,ψ).shape)\n",
    "    A1 =Re_b(φ,θ,ψ).astype(np.float32)\n",
    "    A2 = Irho_e(φ,θ,ψ).astype(np.float32)\n",
    "    A3=Π(φ,θ,ψ).astype(np.float32)\n",
    "#     print(np.einsum('ijk,ijk->ijk',A1,A2))\n",
    "#     print('A1',A1)\n",
    "#     print(A1)\n",
    "#     print('bu',A1[0])\n",
    "#     print('hey', np.dot(A1[0],A2[0]))\n",
    "#     print('op', np.einsum('ijk,ikr->ijr',A1,A2))\n",
    "#     print(Π(φ,θ,ψ).shape)\n",
    "    A=np.einsum('ijk,ikr->ijr',np.einsum('ijk,ikr->ijr',A1,A2),A3)\n",
    "        \n",
    "#     if np.isnan(np.sum(A)):     \n",
    "#         print('A',np.isnan(np.sum(A)))\n",
    "      \n",
    "#     if max(abs(np.amax(A)), abs(np.amin(A)))>thres :\n",
    "#         print('A', A)   \n",
    "   \n",
    "\n",
    "#     if np.isnan(np.sum(B)):     \n",
    "#         print('B',np.isnan(np.sum(B)))\n",
    "      \n",
    "#     if max(abs(np.amax(B)), abs(np.amin(B)))>thres :\n",
    "#         print('B', B)  \n",
    "#     print(A)\n",
    "#     print()\n",
    "#     print()\n",
    "\n",
    "\n",
    "#     print(A.shape)\n",
    "#     print(B.shape)\n",
    "#     print(np.linalg.solve(A,B) ) \n",
    "\n",
    "#     print(A.shape,B.shape)\n",
    "    ddφ,ddθ,ddψ = np.linalg.solve(A,B).T \n",
    "#     ddφ,ddθ,ddψ = torch.linalg.lstsq(torch.from_numpy(A.astype(np.float64)),torch.from_numpy(B.astype(np.float64))).solution.cpu().numpy().T\n",
    "    \n",
    "#     test1 = np.concatenate([ddφ,ddθ,ddψ])\n",
    "    \n",
    "#     if np.isnan(np.sum(test1)):     \n",
    "#         print('test1 NaN',np.isnan(np.sum(test1)))\n",
    "      \n",
    "#     if max(abs(np.amax(test1)), abs(np.amin(test1)))>thres :\n",
    "#         print('test1', test1)\n",
    "#     torch.from_numpy(A),torch.from_numpy(B))\n",
    "#     ans_φ=[]\n",
    "#     ans_θ=[]\n",
    "#     ans_ψ=[]\n",
    "#     for i in range(len(A)):\n",
    "#         a,b,c=np.linalg.lstsq(A[i],B[i], rcond=None)[0]\n",
    "#         ans_φ.append(a)\n",
    "#         ans_θ.append(b)\n",
    "#         ans_ψ.append(c)\n",
    "    \n",
    "# #     print(ans_ψ)\n",
    "\n",
    "#     ddφ,ddθ,ddψ=np.array(ans_φ),np.array(ans_θ),np.array(ans_ψ)\n",
    "#     ddφ,ddθ,ddψ =np.linalg.lstsq(A,B,rcond=-1).T \n",
    "#     ddφ,ddθ,ddψ =torch.linalg.tensorsolve(torch.from_numpy(A),torch.from_numpy(B)).T\n",
    "#     print(ddφ)\n",
    "#     print(np.concatenate([dx, ddx, dy, ddy, dz, ddz, dφ, ddφ, dθ, ddθ, dψ, ddψ]))\n",
    "    \n",
    "    # is it the right order ?\n",
    "#     print('dx',dx)\n",
    "#     print('dy',dy)\n",
    "#     print('dz',dz)\n",
    "    \n",
    "#     A1111=np.concatenate(np.stack([dx,ddx, dy, ddy, dz, ddz dφ, dθ, dψ, , ddy, ddφ, ddθ, ddψ], axis=0).T) \n",
    "    A1111=np.concatenate([dx, ddx, dy, ddy, dz, ddz, dφ, ddφ, dθ, ddθ, dψ, ddψ], axis=0) \n",
    "#     if np.isnan(np.sum(A1111)): \n",
    "#         print('A1111 NaN',np.isnan(np.sum(A1111)))\n",
    "#     if np.amax(A1111)>thres :\n",
    "#         print('A1111', A1111)  \n",
    "        \n",
    "        \n",
    "#     print(A1111)\n",
    "#     print(A1111)\n",
    "    \n",
    "#     print(A)\n",
    "#     print()\n",
    "#     print(A1111)\n",
    "#     print(A1111)\n",
    "#     return torch.from_numpy(A1111)\n",
    "    return A1111"
   ]
  },
  {
   "cell_type": "code",
   "execution_count": null,
   "metadata": {},
   "outputs": [],
   "source": [
    "# q0[7*node_N:8*node_N],q0[9*node_N:10*node_N],q0[11*node_N:12*node_N]"
   ]
  },
  {
   "cell_type": "code",
   "execution_count": null,
   "metadata": {},
   "outputs": [],
   "source": [
    "# for i in range(1000):\n",
    "#     Q1111=100*rng.standard_normal(12*node_N)\n",
    "#     print(grayscott1d(Q1111, 0.1, simData))"
   ]
  },
  {
   "cell_type": "code",
   "execution_count": null,
   "metadata": {},
   "outputs": [],
   "source": [
    "# q0.shape"
   ]
  },
  {
   "cell_type": "code",
   "execution_count": null,
   "metadata": {},
   "outputs": [],
   "source": [
    "# import numpy as np"
   ]
  },
  {
   "cell_type": "code",
   "execution_count": null,
   "metadata": {},
   "outputs": [],
   "source": [
    "# np.concatenate([np.array([0,3,6]),np.array([1,4,7]),np.array([2,5,8])], axis=0)"
   ]
  },
  {
   "cell_type": "code",
   "execution_count": null,
   "metadata": {},
   "outputs": [],
   "source": [
    "# # q0=[i for i in range(12)]\n",
    "# max_t =2 #0.1 # 10 #600  \n",
    "# dt = 0.5\n",
    "# t=np.arange(0,max_t,dt)\n",
    "# # ds = 0.025\n",
    "# print(t)"
   ]
  },
  {
   "cell_type": "code",
   "execution_count": null,
   "metadata": {},
   "outputs": [],
   "source": [
    "# grayscott1d(4,q0)"
   ]
  },
  {
   "cell_type": "code",
   "execution_count": null,
   "metadata": {},
   "outputs": [],
   "source": [
    "# grayscott1d(4,q0).shape"
   ]
  },
  {
   "cell_type": "code",
   "execution_count": null,
   "metadata": {},
   "outputs": [],
   "source": [
    "tspan = (0., 2.)"
   ]
  },
  {
   "cell_type": "code",
   "execution_count": null,
   "metadata": {},
   "outputs": [],
   "source": [
    "startTime1 = datetime.now()\n",
    "prob = de.ODEProblem(grayscott1d, q0, tspan)\n",
    "us = de.solve(prob)\n",
    "print(datetime.now() - startTime1)"
   ]
  },
  {
   "cell_type": "code",
   "execution_count": null,
   "metadata": {},
   "outputs": [],
   "source": [
    "fin=us.u"
   ]
  },
  {
   "cell_type": "code",
   "execution_count": null,
   "metadata": {
    "scrolled": true
   },
   "outputs": [],
   "source": [
    "# startTime1 = datetime.now()\n",
    "# us=odeint(grayscott1d, torch.from_numpy(q0), torch.from_numpy(t.astype(np.float32)))\n",
    "# print(datetime.now() - startTime1)"
   ]
  },
  {
   "cell_type": "code",
   "execution_count": null,
   "metadata": {},
   "outputs": [],
   "source": [
    "# !pip3 install diffeqpy"
   ]
  },
  {
   "cell_type": "code",
   "execution_count": null,
   "metadata": {},
   "outputs": [],
   "source": []
  },
  {
   "cell_type": "code",
   "execution_count": null,
   "metadata": {},
   "outputs": [],
   "source": [
    "# node_N"
   ]
  },
  {
   "cell_type": "code",
   "execution_count": null,
   "metadata": {},
   "outputs": [],
   "source": [
    "# t"
   ]
  },
  {
   "cell_type": "code",
   "execution_count": null,
   "metadata": {},
   "outputs": [],
   "source": []
  },
  {
   "cell_type": "code",
   "execution_count": null,
   "metadata": {},
   "outputs": [],
   "source": [
    "# plt.plot(us.t,us.u)\n",
    "# plt.show()"
   ]
  },
  {
   "cell_type": "code",
   "execution_count": null,
   "metadata": {},
   "outputs": [],
   "source": [
    "# node_N"
   ]
  },
  {
   "cell_type": "code",
   "execution_count": null,
   "metadata": {},
   "outputs": [],
   "source": [
    "# Q[0:node_N],Q[2*node_N:3*node_N],Q[4*node_N:5*node_N]"
   ]
  },
  {
   "cell_type": "code",
   "execution_count": null,
   "metadata": {},
   "outputs": [],
   "source": [
    "# fin"
   ]
  },
  {
   "cell_type": "code",
   "execution_count": null,
   "metadata": {},
   "outputs": [],
   "source": [
    "# import odespy, numpy\n",
    "# solver = odespy.Vode(f, rtol=0.0, atol=1e-6,\n",
    "#                      adams_or_bdf='adams', order=10)\n",
    "# solver.set_initial_condition([2.0, 0.0])\n",
    "# t_points = numpy.linspace(0, 30, 150)\n",
    "# u, t = solver.solve(t_points)"
   ]
  },
  {
   "cell_type": "code",
   "execution_count": null,
   "metadata": {},
   "outputs": [],
   "source": [
    "fig=plt.figure(figsize=(13,5))\n",
    "ax = fig.gca(projection='3d')\n",
    "\n",
    "X0=fin[0][[i for i in range(0,node_N)]]\n",
    "Y0=fin[0][[i for i in range(2*node_N,3*node_N)]]\n",
    "Z0=fin[0][[i for i in range(4*node_N,5*node_N)]]\n",
    "X=fin[-1][[i for i in range(0,node_N)]]\n",
    "Y=fin[-1][[i for i in range(2*node_N,3*node_N)]]\n",
    "Z=fin[-1][[i for i in range(4*node_N,5*node_N)]]\n",
    "ax.plot(X0,Y0,Z0, color='r')\n",
    "ax.plot(X,Y,Z, color='b') \n",
    "ax.view_init(-30,-30)\n",
    "# ax.view_init(0,-90)\n",
    "# ax.set_xlim([0, 5])\n",
    "# ax.set_ylim([0, 5])\n",
    "plt.show()"
   ]
  },
  {
   "cell_type": "code",
   "execution_count": null,
   "metadata": {},
   "outputs": [],
   "source": [
    "X,Y,Z"
   ]
  },
  {
   "cell_type": "code",
   "execution_count": null,
   "metadata": {},
   "outputs": [],
   "source": [
    "X0,Y0,Z0"
   ]
  },
  {
   "cell_type": "code",
   "execution_count": null,
   "metadata": {},
   "outputs": [],
   "source": [
    "# E = 210e9"
   ]
  },
  {
   "cell_type": "code",
   "execution_count": null,
   "metadata": {},
   "outputs": [],
   "source": [
    "# E*Ar"
   ]
  },
  {
   "cell_type": "code",
   "execution_count": null,
   "metadata": {},
   "outputs": [],
   "source": [
    "# 1e10"
   ]
  },
  {
   "cell_type": "code",
   "execution_count": null,
   "metadata": {},
   "outputs": [],
   "source": [
    "# import torch"
   ]
  },
  {
   "cell_type": "code",
   "execution_count": null,
   "metadata": {},
   "outputs": [],
   "source": [
    "# A = torch.randn(20,3,3)\n",
    "# B = torch.randn(20,3)\n",
    "# X = torch.linalg.lstsq(A, B).solution # A is broadcasted to shape (2, 3, 3)\n"
   ]
  },
  {
   "cell_type": "code",
   "execution_count": null,
   "metadata": {},
   "outputs": [],
   "source": [
    "# X"
   ]
  },
  {
   "cell_type": "code",
   "execution_count": null,
   "metadata": {},
   "outputs": [],
   "source": [
    "# type(A)"
   ]
  },
  {
   "cell_type": "code",
   "execution_count": null,
   "metadata": {},
   "outputs": [],
   "source": [
    "# X.shape"
   ]
  },
  {
   "cell_type": "code",
   "execution_count": null,
   "metadata": {},
   "outputs": [],
   "source": [
    "plot3D(fin, numDataPoints, FPS, filename, 3)"
   ]
  },
  {
   "cell_type": "code",
   "execution_count": null,
   "metadata": {},
   "outputs": [],
   "source": []
  },
  {
   "cell_type": "code",
   "execution_count": null,
   "metadata": {},
   "outputs": [],
   "source": []
  },
  {
   "cell_type": "code",
   "execution_count": null,
   "metadata": {},
   "outputs": [],
   "source": []
  },
  {
   "cell_type": "code",
   "execution_count": null,
   "metadata": {},
   "outputs": [],
   "source": []
  }
 ],
 "metadata": {
  "kernelspec": {
   "display_name": "Python 3",
   "language": "python",
   "name": "python3"
  },
  "language_info": {
   "codemirror_mode": {
    "name": "ipython",
    "version": 3
   },
   "file_extension": ".py",
   "mimetype": "text/x-python",
   "name": "python",
   "nbconvert_exporter": "python",
   "pygments_lexer": "ipython3",
   "version": "3.7.7"
  }
 },
 "nbformat": 4,
 "nbformat_minor": 4
}
