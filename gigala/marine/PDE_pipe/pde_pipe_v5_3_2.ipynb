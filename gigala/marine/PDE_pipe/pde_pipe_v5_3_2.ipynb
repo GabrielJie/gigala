{
 "cells": [
  {
   "cell_type": "markdown",
   "metadata": {},
   "source": [
    "#### Model taken from:\n",
    "- [1] Offshore Pipelaying Dynamics. Gullik Anthon Jensen \n",
    "- [2] A nonlinear PDE formulation for offshore vessel pipeline installation. Gullik A. Jensen et al \n",
    "- [3] Modeling and Control of Offshore Pipelay Operations Based on a Finite Strain Pipe Model. Gullik A. Jensen "
   ]
  },
  {
   "cell_type": "code",
   "execution_count": 1,
   "metadata": {},
   "outputs": [],
   "source": [
    "# import julia;\n",
    "# julia.install()"
   ]
  },
  {
   "cell_type": "code",
   "execution_count": 2,
   "metadata": {},
   "outputs": [],
   "source": [
    "import numpy as np\n",
    "import numdifftools as nd\n",
    "import math\n",
    "import matplotlib.pyplot as plt\n",
    "from datetime import datetime\n",
    "# from scipy.integrate import odeint\n",
    "# from torchdiffeq import odeint\n",
    "import torch\n",
    "import inspect\n",
    "import random\n",
    "from scipy.optimize import fsolve\n",
    "from scipy.integrate import solve_ivp\n",
    "import scipy\n",
    "from numpy import linalg as LA"
   ]
  },
  {
   "cell_type": "code",
   "execution_count": 3,
   "metadata": {},
   "outputs": [],
   "source": [
    "import sys\n",
    "sys.path.insert(0, \"../../../../Ocean_Intella/PythonVehicleSimulator-master/src/python_vehicle_simulator\")\n",
    "sys.path.insert(0, \"../../../../Ocean_Intella/PythonVehicleSimulator-master/src\")"
   ]
  },
  {
   "cell_type": "code",
   "execution_count": 4,
   "metadata": {},
   "outputs": [],
   "source": [
    "# from diffeqpy import ode\n",
    "# from diffeqpy import de"
   ]
  },
  {
   "cell_type": "code",
   "execution_count": 5,
   "metadata": {},
   "outputs": [],
   "source": [
    "from vehicles import shipClarke83\n",
    "from python_vehicle_simulator.vehicles import *\n",
    "from python_vehicle_simulator.lib import *\n",
    "from python_vehicle_simulator.lib.gnc import ssa"
   ]
  },
  {
   "cell_type": "code",
   "execution_count": 6,
   "metadata": {},
   "outputs": [],
   "source": [
    "from sympy import *"
   ]
  },
  {
   "cell_type": "code",
   "execution_count": 7,
   "metadata": {},
   "outputs": [],
   "source": [
    "def R2D(value):  # radians to degrees\n",
    "    return value * 180 / math.pi"
   ]
  },
  {
   "cell_type": "code",
   "execution_count": 8,
   "metadata": {},
   "outputs": [],
   "source": [
    "mp = 96 #  (submerged) [kg/m]"
   ]
  },
  {
   "cell_type": "code",
   "execution_count": 9,
   "metadata": {},
   "outputs": [],
   "source": [
    "node_N=4"
   ]
  },
  {
   "cell_type": "code",
   "execution_count": 10,
   "metadata": {},
   "outputs": [],
   "source": [
    "# diag_Irho = 1e2*np.array([1, 1, 2]) # [m^4]  , p.99 in [1]\n",
    "diag_Irho = 1e15*np.array([1, 1, 2]) # [m^4]  !!!!!!!!!!!!!!!!!!!!!!!!!!!!!!!!!!!!!\n",
    " \n",
    "Irho=np.diag(diag_Irho)"
   ]
  },
  {
   "cell_type": "code",
   "execution_count": 11,
   "metadata": {},
   "outputs": [
    {
     "data": {
      "text/plain": [
       "array([[1.e+15, 0.e+00, 0.e+00],\n",
       "       [0.e+00, 1.e+15, 0.e+00],\n",
       "       [0.e+00, 0.e+00, 2.e+15]])"
      ]
     },
     "execution_count": 11,
     "metadata": {},
     "output_type": "execute_result"
    }
   ],
   "source": [
    "Irho"
   ]
  },
  {
   "cell_type": "code",
   "execution_count": 12,
   "metadata": {},
   "outputs": [],
   "source": [
    "qw = 1025 # Water density [kg/m3]\n",
    "d0 = 0.761 # Outer diameter of pipe, [m]"
   ]
  },
  {
   "cell_type": "code",
   "execution_count": 13,
   "metadata": {},
   "outputs": [],
   "source": [
    "diag_DT = 1.5*np.array([1, 1, 1]) # [N/m]  , p.99 in [1]"
   ]
  },
  {
   "cell_type": "code",
   "execution_count": 14,
   "metadata": {},
   "outputs": [],
   "source": [
    "DT=np.diag(diag_DT) # (35) in [2]"
   ]
  },
  {
   "cell_type": "code",
   "execution_count": 15,
   "metadata": {},
   "outputs": [
    {
     "data": {
      "text/plain": [
       "array([[1.5, 0. , 0. ],\n",
       "       [0. , 1.5, 0. ],\n",
       "       [0. , 0. , 1.5]])"
      ]
     },
     "execution_count": 15,
     "metadata": {},
     "output_type": "execute_result"
    }
   ],
   "source": [
    "DT"
   ]
  },
  {
   "cell_type": "code",
   "execution_count": 16,
   "metadata": {},
   "outputs": [],
   "source": [
    "diag_CT = 1e9*np.array([1, 1, 1]) # [Nm2] p. 4721 in [3]"
   ]
  },
  {
   "cell_type": "code",
   "execution_count": 17,
   "metadata": {},
   "outputs": [],
   "source": [
    "CT=np.diag(diag_CT)"
   ]
  },
  {
   "cell_type": "code",
   "execution_count": 18,
   "metadata": {},
   "outputs": [
    {
     "data": {
      "text/plain": [
       "array([[1.e+09, 0.e+00, 0.e+00],\n",
       "       [0.e+00, 1.e+09, 0.e+00],\n",
       "       [0.e+00, 0.e+00, 1.e+09]])"
      ]
     },
     "execution_count": 18,
     "metadata": {},
     "output_type": "execute_result"
    }
   ],
   "source": [
    "CT"
   ]
  },
  {
   "cell_type": "code",
   "execution_count": 19,
   "metadata": {},
   "outputs": [],
   "source": [
    "# angles should be in radians, otherwise np.radians them  \n",
    "def Re_t_(arr):\n",
    "    φ,θ,ψ=arr[0],arr[1],arr[2]\n",
    "  \n",
    "    Cφ=np.matrix([[1,0,0],\n",
    "                      [0,np.cos(φ),-np.sin(φ)],\n",
    "                      [0,np.sin(φ),np.cos(φ)]])\n",
    "\n",
    "    Cθ=np.matrix([[np.cos(θ),0,np.sin(θ)],\n",
    "                      [0,1,0],\n",
    "                      [-np.sin(θ),0,np.cos(θ)]])\n",
    "\n",
    "    Cψ=np.matrix([[np.cos(ψ),-np.sin(ψ),0],\n",
    "                      [np.sin(ψ),np.cos(ψ),0],\n",
    "                      [0,0,1]])\n",
    "        \n",
    "\n",
    "    return np.array(np.dot(np.dot(Cφ,Cθ),Cψ) )"
   ]
  },
  {
   "cell_type": "code",
   "execution_count": 20,
   "metadata": {},
   "outputs": [
    {
     "data": {
      "text/plain": [
       "array([[ 0.41198225,  0.05872664,  0.90929743],\n",
       "       [-0.68124272, -0.64287284,  0.35017549],\n",
       "       [ 0.60512725, -0.76371834, -0.2248451 ]])"
      ]
     },
     "execution_count": 20,
     "metadata": {},
     "output_type": "execute_result"
    }
   ],
   "source": [
    "Re_t_([1,2,3])"
   ]
  },
  {
   "cell_type": "code",
   "execution_count": 21,
   "metadata": {},
   "outputs": [],
   "source": [
    "rng = np.random.default_rng()"
   ]
  },
  {
   "cell_type": "code",
   "execution_count": 22,
   "metadata": {},
   "outputs": [],
   "source": [
    "φ, θ, ψ = rng.standard_normal(node_N),rng.standard_normal(node_N),rng.standard_normal(node_N)"
   ]
  },
  {
   "cell_type": "code",
   "execution_count": 23,
   "metadata": {},
   "outputs": [],
   "source": [
    "def Re_t(a,b,c):\n",
    "    xyz=np.stack((a,b,c), axis=1)\n",
    "    return np.apply_along_axis(Re_t_, 1, xyz)"
   ]
  },
  {
   "cell_type": "code",
   "execution_count": 24,
   "metadata": {},
   "outputs": [
    {
     "data": {
      "text/plain": [
       "array([[-0.36955255,  0.06434253, -0.92697948],\n",
       "       [ 0.83050051,  0.4703187 , -0.29844467],\n",
       "       [ 0.4167731 , -0.88014792, -0.22724397]])"
      ]
     },
     "execution_count": 24,
     "metadata": {},
     "output_type": "execute_result"
    }
   ],
   "source": [
    "Re_t_(np.array([φ[0], θ[0], ψ[0]]))"
   ]
  },
  {
   "cell_type": "code",
   "execution_count": 25,
   "metadata": {
    "scrolled": true
   },
   "outputs": [
    {
     "name": "stdout",
     "output_type": "stream",
     "text": [
      "0:00:00.000937\n"
     ]
    }
   ],
   "source": [
    "startTime1 = datetime.now()\n",
    "Ret=Re_t(φ,θ,ψ)\n",
    "print(datetime.now() - startTime1)"
   ]
  },
  {
   "cell_type": "code",
   "execution_count": 26,
   "metadata": {},
   "outputs": [
    {
     "data": {
      "text/plain": [
       "array([[[-0.36955255,  0.06434253, -0.92697948],\n",
       "        [ 0.83050051,  0.4703187 , -0.29844467],\n",
       "        [ 0.4167731 , -0.88014792, -0.22724397]],\n",
       "\n",
       "       [[ 0.67608484, -0.02885626, -0.73625851],\n",
       "        [-0.67342379, -0.42970345, -0.60154413],\n",
       "        [-0.29901451,  0.90250887, -0.30994848]],\n",
       "\n",
       "       [[-0.03492495, -0.01419855, -0.99928907],\n",
       "        [-0.96462527,  0.26191329,  0.02999202],\n",
       "        [ 0.26130125,  0.96498696, -0.02284358]],\n",
       "\n",
       "       [[ 0.07769814,  0.99257368,  0.09359744],\n",
       "        [-0.90303907,  0.03028383,  0.42848959],\n",
       "        [ 0.42247301, -0.11781499,  0.89868581]]])"
      ]
     },
     "execution_count": 26,
     "metadata": {},
     "output_type": "execute_result"
    }
   ],
   "source": [
    "Ret"
   ]
  },
  {
   "cell_type": "code",
   "execution_count": 27,
   "metadata": {},
   "outputs": [
    {
     "data": {
      "text/plain": [
       "(4, 3, 3)"
      ]
     },
     "execution_count": 27,
     "metadata": {},
     "output_type": "execute_result"
    }
   ],
   "source": [
    "Ret.shape"
   ]
  },
  {
   "cell_type": "code",
   "execution_count": 28,
   "metadata": {},
   "outputs": [],
   "source": [
    "dx,dy,dz=rng.standard_normal(node_N),rng.standard_normal(node_N),rng.standard_normal(node_N)"
   ]
  },
  {
   "cell_type": "code",
   "execution_count": 29,
   "metadata": {},
   "outputs": [],
   "source": [
    "def C1(dx,dy,dz, Ret):\n",
    "    B=np.vstack([dx**2,(dy**2+dz**2)**0.5*dy,(dy**2+dz**2)**0.5*dz])\n",
    "#     print(np.dot(Ret[0],B.T[0]))\n",
    "    ans=np.einsum('ijk,ik->ij', Ret,B.T)\n",
    "    return ans.T"
   ]
  },
  {
   "cell_type": "code",
   "execution_count": 30,
   "metadata": {},
   "outputs": [
    {
     "data": {
      "text/plain": [
       "array([1.28316733, 2.34735764, 1.20226354, 0.19077701])"
      ]
     },
     "execution_count": 30,
     "metadata": {},
     "output_type": "execute_result"
    }
   ],
   "source": [
    "dx**2"
   ]
  },
  {
   "cell_type": "code",
   "execution_count": 31,
   "metadata": {},
   "outputs": [
    {
     "data": {
      "text/plain": [
       "array([[-0.3408568 ,  0.48646171,  0.27312381,  7.21865393],\n",
       "       [ 1.18411911, -2.12205886, -1.36236072,  1.86686048],\n",
       "       [ 0.41699264, -1.97121981, -0.39175168,  3.11439767]])"
      ]
     },
     "execution_count": 31,
     "metadata": {},
     "output_type": "execute_result"
    }
   ],
   "source": [
    "C1(dx,dy,dz,Ret)"
   ]
  },
  {
   "cell_type": "code",
   "execution_count": 32,
   "metadata": {},
   "outputs": [
    {
     "data": {
      "text/plain": [
       "(3, 4)"
      ]
     },
     "execution_count": 32,
     "metadata": {},
     "output_type": "execute_result"
    }
   ],
   "source": [
    "C1(dx,dy,dz,Ret).shape"
   ]
  },
  {
   "cell_type": "code",
   "execution_count": 33,
   "metadata": {},
   "outputs": [
    {
     "name": "stdout",
     "output_type": "stream",
     "text": [
      "0:00:00.000420\n"
     ]
    }
   ],
   "source": [
    "startTime1 = datetime.now()\n",
    "C1(dx,dy,dz,Ret)\n",
    "print(datetime.now() - startTime1)"
   ]
  },
  {
   "cell_type": "code",
   "execution_count": 34,
   "metadata": {},
   "outputs": [],
   "source": [
    "def fD(dx,dy,dz,DT,Ret):\n",
    "    return 1/2*d0*qw*np.dot(DT, C1(dx,dy,dz,Ret))*9.81"
   ]
  },
  {
   "cell_type": "code",
   "execution_count": 35,
   "metadata": {},
   "outputs": [
    {
     "data": {
      "text/plain": [
       "array([-1956.18872112,  6795.69973018,  2393.13489061])"
      ]
     },
     "execution_count": 35,
     "metadata": {},
     "output_type": "execute_result"
    }
   ],
   "source": [
    "1/2*d0*qw*np.dot(DT,C1(dx,dy,dz,Ret).T[0])*9.81"
   ]
  },
  {
   "cell_type": "code",
   "execution_count": 36,
   "metadata": {},
   "outputs": [
    {
     "data": {
      "text/plain": [
       "array([[ -1956.18872112,   2791.82025292,   1567.46681633,\n",
       "         41428.09989437],\n",
       "       [  6795.69973018, -12178.56779235,  -7818.63440044,\n",
       "         10713.97564946],\n",
       "       [  2393.13489061, -11312.89739405,  -2248.27620022,\n",
       "         17873.63391604]])"
      ]
     },
     "execution_count": 36,
     "metadata": {},
     "output_type": "execute_result"
    }
   ],
   "source": [
    "fD(dx,dy,dz,DT,Ret)"
   ]
  },
  {
   "cell_type": "code",
   "execution_count": 37,
   "metadata": {},
   "outputs": [
    {
     "data": {
      "text/plain": [
       "array([[ -1956.18872112,   6795.69973018,   2393.13489061],\n",
       "       [  2791.82025292, -12178.56779235, -11312.89739405],\n",
       "       [  1567.46681633,  -7818.63440044,  -2248.27620022],\n",
       "       [ 41428.09989437,  10713.97564946,  17873.63391604]])"
      ]
     },
     "execution_count": 37,
     "metadata": {},
     "output_type": "execute_result"
    }
   ],
   "source": [
    "fD(dx,dy,dz,DT,Ret).T"
   ]
  },
  {
   "cell_type": "code",
   "execution_count": 38,
   "metadata": {},
   "outputs": [
    {
     "name": "stdout",
     "output_type": "stream",
     "text": [
      "0:00:00.000485\n"
     ]
    }
   ],
   "source": [
    "startTime1 = datetime.now()\n",
    "fD(dx,dy,dz,DT,Ret)\n",
    "print(datetime.now() - startTime1)"
   ]
  },
  {
   "cell_type": "code",
   "execution_count": 39,
   "metadata": {},
   "outputs": [],
   "source": [
    "# https://docs.scipy.org/doc/scipy-1.8.0/tutorial/integrate.html  \n",
    "# 1-D Gray-Scott "
   ]
  },
  {
   "cell_type": "code",
   "execution_count": 40,
   "metadata": {},
   "outputs": [],
   "source": [
    "I=np.identity(3)"
   ]
  },
  {
   "cell_type": "code",
   "execution_count": 41,
   "metadata": {},
   "outputs": [
    {
     "name": "stdout",
     "output_type": "stream",
     "text": [
      "0:00:00.000321\n"
     ]
    }
   ],
   "source": [
    "startTime1 = datetime.now()\n",
    "np.dot(I,fD(dx,dy,dz,DT,Ret))\n",
    "print(datetime.now() - startTime1)"
   ]
  },
  {
   "cell_type": "code",
   "execution_count": 42,
   "metadata": {},
   "outputs": [],
   "source": [
    "Rb_t=I # https://www.researchgate.net/profile/Thor-Fossen/publication/224560837_Modeling_and_Control_of_Offshore_Pipelay_Operations_Based_on_a_Finite_Strain_Pipe_Model/links/00b7d520e175a3f918000000/Modeling-and-Control-of-Offshore-Pipelay-Operations-Based-on-a-Finite-Strain-Pipe-Model.pdf"
   ]
  },
  {
   "cell_type": "code",
   "execution_count": 43,
   "metadata": {},
   "outputs": [
    {
     "data": {
      "text/plain": [
       "array([[1., 0., 0.],\n",
       "       [0., 1., 0.],\n",
       "       [0., 0., 1.]])"
      ]
     },
     "execution_count": 43,
     "metadata": {},
     "output_type": "execute_result"
    }
   ],
   "source": [
    "Rb_t"
   ]
  },
  {
   "cell_type": "code",
   "execution_count": 44,
   "metadata": {},
   "outputs": [],
   "source": [
    "diag_DR = 1.5*np.array([1, 1, 1]) # [N m/rad]  p.4721 in [3]"
   ]
  },
  {
   "cell_type": "code",
   "execution_count": 45,
   "metadata": {},
   "outputs": [],
   "source": [
    "DR=np.diag(diag_DR) "
   ]
  },
  {
   "cell_type": "code",
   "execution_count": 46,
   "metadata": {},
   "outputs": [],
   "source": [
    "dI= 0.69# Inner diameter of pipe, [m]"
   ]
  },
  {
   "cell_type": "code",
   "execution_count": 47,
   "metadata": {},
   "outputs": [],
   "source": [
    "Ar=math.pi*((d0/2)**2-(dI/2)**2)"
   ]
  },
  {
   "cell_type": "code",
   "execution_count": 48,
   "metadata": {},
   "outputs": [
    {
     "data": {
      "text/plain": [
       "0.08091250419136858"
      ]
     },
     "execution_count": 48,
     "metadata": {},
     "output_type": "execute_result"
    }
   ],
   "source": [
    "Ar"
   ]
  },
  {
   "cell_type": "code",
   "execution_count": 49,
   "metadata": {},
   "outputs": [],
   "source": [
    "fg_e=np.array([[0,0,(mp-qw*Ar)*9.81] for x in range(node_N)])"
   ]
  },
  {
   "cell_type": "code",
   "execution_count": 50,
   "metadata": {},
   "outputs": [
    {
     "data": {
      "text/plain": [
       "array([[  0.        ,   0.        , 128.16454223],\n",
       "       [  0.        ,   0.        , 128.16454223],\n",
       "       [  0.        ,   0.        , 128.16454223],\n",
       "       [  0.        ,   0.        , 128.16454223]])"
      ]
     },
     "execution_count": 50,
     "metadata": {},
     "output_type": "execute_result"
    }
   ],
   "source": [
    "fg_e"
   ]
  },
  {
   "cell_type": "code",
   "execution_count": 51,
   "metadata": {},
   "outputs": [],
   "source": [
    "# # not checked \n",
    "# def k_sigma(hi,d0,fg_e):\n",
    "#     ans=[]\n",
    "#     for it in hi:\n",
    "#         if it<0:\n",
    "#             ans.append(0)\n",
    "#         elif 0<=it<=d0/20:\n",
    "#             ans.append(np.float64(LA.norm(fg_e,2)/(d0/8-d0/40)*10*it**2/d0))\n",
    "#         else:\n",
    "#             ans.append(np.float64(LA.norm(fg_e,2)/(d0/8-d0/40)*(it-d0/40)))     \n",
    "#     return np.array(ans).reshape(node_N,1)   "
   ]
  },
  {
   "cell_type": "code",
   "execution_count": 52,
   "metadata": {},
   "outputs": [],
   "source": [
    "x,y,z=100*rng.standard_normal(node_N),100*rng.standard_normal(node_N),100*rng.standard_normal(node_N)"
   ]
  },
  {
   "cell_type": "code",
   "execution_count": 53,
   "metadata": {},
   "outputs": [],
   "source": [
    "# # not checked\n",
    "# def hi(x,y,z,d0):\n",
    "#     return (np.dot(np.array([x,y,z]).T,[0,0,1])+d0/2).reshape(node_N,1) "
   ]
  },
  {
   "cell_type": "code",
   "execution_count": 54,
   "metadata": {},
   "outputs": [],
   "source": [
    "# startTime1 = datetime.now()\n",
    "# hi(x,y,z,d0)\n",
    "# print(datetime.now() - startTime1)"
   ]
  },
  {
   "cell_type": "code",
   "execution_count": 55,
   "metadata": {},
   "outputs": [],
   "source": [
    "# k_sigma(hi(x,y,z,d0),d0,fg_e)"
   ]
  },
  {
   "cell_type": "code",
   "execution_count": 56,
   "metadata": {},
   "outputs": [],
   "source": [
    "# startTime1 = datetime.now()\n",
    "# k_sigma(hi(x,y,z,d0),d0,fg_e)\n",
    "# print(datetime.now() - startTime1)"
   ]
  },
  {
   "cell_type": "code",
   "execution_count": 57,
   "metadata": {},
   "outputs": [],
   "source": [
    "# # TODO: force shoud be acting only at nodes that are in contact with the seabed\n",
    "# # not checked\n",
    "# def sigma(x,y,z):\n",
    "#     return (k_sigma(hi(x,y,z,d0),d0,fg_e)*np.array([0,0,1]))"
   ]
  },
  {
   "cell_type": "code",
   "execution_count": 58,
   "metadata": {},
   "outputs": [],
   "source": [
    "# startTime1 = datetime.now()\n",
    "# sigma(x,y,z)\n",
    "# print(datetime.now() - startTime1)"
   ]
  },
  {
   "cell_type": "code",
   "execution_count": 59,
   "metadata": {},
   "outputs": [],
   "source": [
    "def Re_b(Ret):\n",
    "#     return np.dot(Ret, Rb_t ) # (5) in[3]\n",
    "    return Ret"
   ]
  },
  {
   "cell_type": "code",
   "execution_count": 60,
   "metadata": {},
   "outputs": [
    {
     "name": "stdout",
     "output_type": "stream",
     "text": [
      "0:00:00.000213\n"
     ]
    }
   ],
   "source": [
    "startTime1 = datetime.now()\n",
    "Re_b(Ret)\n",
    "print(datetime.now() - startTime1)"
   ]
  },
  {
   "cell_type": "code",
   "execution_count": 61,
   "metadata": {},
   "outputs": [],
   "source": [
    "def phi(x, y, z, Ret):\n",
    "    B=np.vstack([x,y,z])\n",
    "    return np.einsum('ijk,ik->ij', Ret,B.T)"
   ]
  },
  {
   "cell_type": "code",
   "execution_count": 62,
   "metadata": {},
   "outputs": [
    {
     "data": {
      "text/plain": [
       "array([[-117.23188562,   73.9599869 ,  -40.46528549],\n",
       "       [  75.99414384,   60.40648702,   47.4056593 ],\n",
       "       [  -9.55545833,  -15.75257099,  190.04472002],\n",
       "       [  17.91123137,  -79.18007323,   79.82894045]])"
      ]
     },
     "execution_count": 62,
     "metadata": {},
     "output_type": "execute_result"
    }
   ],
   "source": [
    "phi(x,y,z,Ret)"
   ]
  },
  {
   "cell_type": "code",
   "execution_count": 63,
   "metadata": {},
   "outputs": [],
   "source": [
    "# def d_s(da,db,dc,x,y,z):\n",
    "\n",
    "#     ds=np.sqrt(np.diff(x,prepend=x[0])**2+np.diff(y,prepend=y[0])**2\n",
    "#                  +np.diff(z,prepend=z[0])**2)\n",
    "#     ds[ds == 0] = 1\n",
    "#     return np.vstack([np.diff(da,prepend=da[0])/ds,np.diff(db,prepend=db[0])/ds,np.diff(dc,prepend=dc[0])/ds])"
   ]
  },
  {
   "cell_type": "code",
   "execution_count": 64,
   "metadata": {},
   "outputs": [
    {
     "name": "stdout",
     "output_type": "stream",
     "text": [
      "0:00:00.001028\n"
     ]
    }
   ],
   "source": [
    "startTime1 = datetime.now()\n",
    "phi(x,y,z,Ret)\n",
    "print(datetime.now() - startTime1)"
   ]
  },
  {
   "cell_type": "code",
   "execution_count": 65,
   "metadata": {},
   "outputs": [],
   "source": [
    "def d_s(f,a,b,c,Ret):\n",
    "#     ds=np.sqrt(np.diff(a,prepend=a[0])**2+np.diff(b,prepend=b[0])**2\n",
    "#                  +np.diff(c,prepend=c[0])**2)\n",
    "    ds=np.sqrt(np.diff(a)**2+np.diff(b)**2+np.diff(c)**2)\n",
    "    ds[ds == 0] = 1\n",
    "    fun = f(a,b,c,Ret)\n",
    "    ans=(np.diff(fun,axis=0) / ds.reshape(node_N-1,1)).T\n",
    "    return np.insert(ans, -1, 0.8*ans[:,-1], axis=1)"
   ]
  },
  {
   "cell_type": "code",
   "execution_count": 66,
   "metadata": {},
   "outputs": [],
   "source": [
    "# def d_s(f,a,c,Ret):\n",
    "# #     ds=np.sqrt(np.diff(a,prepend=a[0])**2+np.diff(c,prepend=c[0])**2)\n",
    "#     ds=np.sqrt(np.diff(a)**2+np.diff(c)**2)\n",
    "# #     ds[ds == 0] = 1\n",
    "#     fun = f(a,c,Ret)\n",
    "# #     ans=(np.diff(fun,prepend=fun[0].reshape(1,2),axis=0) / ds.reshape(node_N,1)).T\n",
    "#     ans=(np.diff(fun,axis=0) / ds.reshape(node_N-1,1)).T\n",
    "#     np.insert(ans, -1, ans[:,-1], axis=1)\n",
    "#     return np.insert(ans, -1, 1.1*ans[:,-1], axis=1)"
   ]
  },
  {
   "cell_type": "code",
   "execution_count": 67,
   "metadata": {},
   "outputs": [
    {
     "data": {
      "text/plain": [
       "array([[ 0.84907007, -0.40626014,  0.12095781,  0.15119727],\n",
       "       [-0.05955653, -0.36166609, -0.27932205, -0.34915256],\n",
       "       [ 0.3861208 ,  0.67736803, -0.48536827, -0.60671034]])"
      ]
     },
     "execution_count": 67,
     "metadata": {},
     "output_type": "execute_result"
    }
   ],
   "source": [
    "d_s(phi,x,y,z,Ret)"
   ]
  },
  {
   "cell_type": "code",
   "execution_count": 68,
   "metadata": {},
   "outputs": [
    {
     "name": "stdout",
     "output_type": "stream",
     "text": [
      "0:00:00.000455\n"
     ]
    }
   ],
   "source": [
    "startTime1 = datetime.now()\n",
    "d_s(phi,x,y,z,Ret)\n",
    "print(datetime.now() - startTime1)"
   ]
  },
  {
   "cell_type": "code",
   "execution_count": 69,
   "metadata": {},
   "outputs": [],
   "source": [
    "def ne(x,y,z,Ret):\n",
    "    A=np.multiply(np.multiply(Ret,CT),Ret)\n",
    "    B=d_s(phi,x,y,z,Ret).T\n",
    "    return np.einsum('ijk,ik->ij', A,B-\n",
    "                     np.einsum('ijk,kp->ijp',Ret, np.array([1,0,0]).reshape(3,1)).squeeze())"
   ]
  },
  {
   "cell_type": "code",
   "execution_count": 70,
   "metadata": {},
   "outputs": [],
   "source": [
    "def ne_(dx,dy,dz,DT,Ret):\n",
    "    return -fg_e.T-fD(dx,dy,dz,DT,Ret) #-sigma(x,y,z).T"
   ]
  },
  {
   "cell_type": "code",
   "execution_count": 71,
   "metadata": {},
   "outputs": [],
   "source": [
    "# sigma(x,y,z)"
   ]
  },
  {
   "cell_type": "code",
   "execution_count": 72,
   "metadata": {},
   "outputs": [
    {
     "data": {
      "text/plain": [
       "array([[  1956.18872112,  -2791.82025292,  -1567.46681633,\n",
       "        -41428.09989437],\n",
       "       [ -6795.69973018,  12178.56779235,   7818.63440044,\n",
       "        -10713.97564946],\n",
       "       [ -2521.29943284,  11184.73285182,   2120.11165799,\n",
       "        -18001.79845827]])"
      ]
     },
     "execution_count": 72,
     "metadata": {},
     "output_type": "execute_result"
    }
   ],
   "source": [
    "ne_(dx,dy,dz,DT,Ret)"
   ]
  },
  {
   "cell_type": "code",
   "execution_count": 73,
   "metadata": {},
   "outputs": [],
   "source": [
    "# mp*ddp = d_s(ne,ds)+np.dot(Re_b,ne_)"
   ]
  },
  {
   "cell_type": "code",
   "execution_count": 74,
   "metadata": {},
   "outputs": [
    {
     "name": "stdout",
     "output_type": "stream",
     "text": [
      "0:00:00.000689\n"
     ]
    }
   ],
   "source": [
    "startTime1 = datetime.now()\n",
    "ne(x,y,z,Ret)\n",
    "print(datetime.now() - startTime1)"
   ]
  },
  {
   "cell_type": "code",
   "execution_count": 75,
   "metadata": {},
   "outputs": [
    {
     "name": "stdout",
     "output_type": "stream",
     "text": [
      "0:00:00.000207\n"
     ]
    }
   ],
   "source": [
    "startTime1 = datetime.now()\n",
    "ne_(dx,dy,dz,DT,Ret)\n",
    "print(datetime.now() - startTime1)"
   ]
  },
  {
   "cell_type": "code",
   "execution_count": 76,
   "metadata": {},
   "outputs": [
    {
     "data": {
      "text/plain": [
       "(4, 3, 3)"
      ]
     },
     "execution_count": 76,
     "metadata": {},
     "output_type": "execute_result"
    }
   ],
   "source": [
    "Re_b(Ret).shape"
   ]
  },
  {
   "cell_type": "code",
   "execution_count": 77,
   "metadata": {},
   "outputs": [],
   "source": [
    "def Irho_e(Ret):\n",
    "    ans= np.multiply(np.multiply(Ret,Irho),Ret) # (19) in [3] \n",
    "    return ans\n",
    "#     tmp=[1 for i in range(node_N)]\n",
    "#     tmp[-1]=1e13\n",
    "#     print(ans)\n",
    "#     return ans*np.array(tmp).reshape(node_N,1)\n",
    "#     return np.einsum(\"ijk,ip->ijk\", ans, np.array(tmp).reshape(node_N,1))"
   ]
  },
  {
   "cell_type": "code",
   "execution_count": 78,
   "metadata": {},
   "outputs": [
    {
     "data": {
      "text/plain": [
       "array([[[1.36569085e+14, 0.00000000e+00, 0.00000000e+00],\n",
       "        [0.00000000e+00, 2.21199677e+14, 0.00000000e+00],\n",
       "        [0.00000000e+00, 0.00000000e+00, 1.03279646e+14]],\n",
       "\n",
       "       [[4.57090718e+14, 0.00000000e+00, 0.00000000e+00],\n",
       "        [0.00000000e+00, 1.84645053e+14, 0.00000000e+00],\n",
       "        [0.00000000e+00, 0.00000000e+00, 1.92136123e+14]],\n",
       "\n",
       "       [[1.21975185e+12, 0.00000000e+00, 0.00000000e+00],\n",
       "        [0.00000000e+00, 6.85985713e+13, 0.00000000e+00],\n",
       "        [0.00000000e+00, 0.00000000e+00, 1.04365863e+12]],\n",
       "\n",
       "       [[6.03700142e+12, 0.00000000e+00, 0.00000000e+00],\n",
       "        [0.00000000e+00, 9.17110144e+11, 0.00000000e+00],\n",
       "        [0.00000000e+00, 0.00000000e+00, 1.61527237e+15]]])"
      ]
     },
     "execution_count": 78,
     "metadata": {},
     "output_type": "execute_result"
    }
   ],
   "source": [
    "Irho_e(Ret)"
   ]
  },
  {
   "cell_type": "code",
   "execution_count": 79,
   "metadata": {},
   "outputs": [
    {
     "name": "stdout",
     "output_type": "stream",
     "text": [
      "0:00:00.000113\n"
     ]
    }
   ],
   "source": [
    "startTime1 = datetime.now()\n",
    "Irho_e(Ret)\n",
    "print(datetime.now() - startTime1)"
   ]
  },
  {
   "cell_type": "code",
   "execution_count": 80,
   "metadata": {},
   "outputs": [],
   "source": [
    "def Π_(arr):\n",
    "    φ,θ,ψ=arr[0],arr[1],arr[2]\n",
    "    return np.array([[np.cos(θ),0,np.cos(φ)*np.sin(θ)],\n",
    "                  [0,1,-np.sin(φ)],\n",
    "                  [-np.sin(θ),0,np.cos(φ)*np.cos(θ)]])"
   ]
  },
  {
   "cell_type": "code",
   "execution_count": 81,
   "metadata": {},
   "outputs": [],
   "source": [
    "def Π(a,b,c):\n",
    "    xyz=np.stack((a,b,c), axis=1)\n",
    "  \n",
    "    return np.apply_along_axis(Π_, 1, xyz)\n",
    "    "
   ]
  },
  {
   "cell_type": "code",
   "execution_count": 82,
   "metadata": {},
   "outputs": [
    {
     "name": "stdout",
     "output_type": "stream",
     "text": [
      "0:00:00.001194\n"
     ]
    }
   ],
   "source": [
    "startTime1 = datetime.now()\n",
    "Π(φ,θ,ψ).shape\n",
    "print(datetime.now() - startTime1)"
   ]
  },
  {
   "cell_type": "code",
   "execution_count": 83,
   "metadata": {},
   "outputs": [],
   "source": [
    "def ωe(φ,θ,ψ, dummy):  # (100) in [2]\n",
    "    A=Π(φ,θ,ψ)\n",
    "    B=np.vstack([φ,θ,ψ])\n",
    "    return np.einsum('ijk,ik->ij',A,B.T)"
   ]
  },
  {
   "cell_type": "code",
   "execution_count": 84,
   "metadata": {},
   "outputs": [
    {
     "name": "stdout",
     "output_type": "stream",
     "text": [
      "0:00:00.000381\n"
     ]
    }
   ],
   "source": [
    "startTime1 = datetime.now()\n",
    "ωe(φ,θ,ψ,None)\n",
    "print(datetime.now() - startTime1)"
   ]
  },
  {
   "cell_type": "code",
   "execution_count": 85,
   "metadata": {},
   "outputs": [
    {
     "data": {
      "text/plain": [
       "array([[ 0.24830759, -1.81816488, -0.89201381],\n",
       "       [ 1.39930145, -0.86544267,  1.49358588],\n",
       "       [ 0.19911985, -1.30132475,  0.92804415],\n",
       "       [-0.56906899, -0.54868169, -1.29980421]])"
      ]
     },
     "execution_count": 85,
     "metadata": {},
     "output_type": "execute_result"
    }
   ],
   "source": [
    "ωe(φ,θ,ψ,None)"
   ]
  },
  {
   "cell_type": "code",
   "execution_count": 86,
   "metadata": {},
   "outputs": [],
   "source": [
    "diag_CR = 1e11*np.array([1, 1, 1]) \n",
    "CR=np.diag(diag_CR)"
   ]
  },
  {
   "cell_type": "code",
   "execution_count": 87,
   "metadata": {},
   "outputs": [
    {
     "data": {
      "text/plain": [
       "array([[1.e+11, 0.e+00, 0.e+00],\n",
       "       [0.e+00, 1.e+11, 0.e+00],\n",
       "       [0.e+00, 0.e+00, 1.e+11]])"
      ]
     },
     "execution_count": 87,
     "metadata": {},
     "output_type": "execute_result"
    }
   ],
   "source": [
    "CR"
   ]
  },
  {
   "cell_type": "code",
   "execution_count": 88,
   "metadata": {},
   "outputs": [],
   "source": [
    "def d_me(φ,θ,ψ,Ret):\n",
    "    A=np.multiply(np.multiply(Ret,CR),Ret)\n",
    "    B=d_s(ωe,φ,θ,ψ,None)\n",
    "    return np.einsum('ijk,ik->ij', A,B.T) "
   ]
  },
  {
   "cell_type": "code",
   "execution_count": 89,
   "metadata": {},
   "outputs": [
    {
     "name": "stdout",
     "output_type": "stream",
     "text": [
      "0:00:00.003048\n"
     ]
    }
   ],
   "source": [
    "startTime1 = datetime.now()\n",
    "d_me_=d_me(φ,θ,ψ,Ret)\n",
    "print(datetime.now() - startTime1)"
   ]
  },
  {
   "cell_type": "code",
   "execution_count": 90,
   "metadata": {},
   "outputs": [
    {
     "data": {
      "text/plain": [
       "array([[ 4.94871286e+09,  6.63464403e+09,  3.87836934e+09],\n",
       "       [-3.81922107e+10, -5.60314841e+09, -3.78241447e+09],\n",
       "       [-3.06413584e+07,  1.68838960e+09, -3.80174192e+07],\n",
       "       [-1.89569219e+08,  2.82155881e+07, -7.35495368e+10]])"
      ]
     },
     "execution_count": 90,
     "metadata": {},
     "output_type": "execute_result"
    }
   ],
   "source": [
    "d_me_"
   ]
  },
  {
   "cell_type": "code",
   "execution_count": 91,
   "metadata": {},
   "outputs": [],
   "source": [
    "diag_DR = 1.5*np.array([1, 1, 1]) \n",
    " \n",
    "DR=np.diag(diag_DR)"
   ]
  },
  {
   "cell_type": "code",
   "execution_count": 92,
   "metadata": {},
   "outputs": [],
   "source": [
    "# np.dot(Re_b, np.dot( Irho_e, (np.dot(Π(φ,θ,ψ), np.array([ddφ,ddθ,ddψ])))))=\n",
    "# -np.dot(Re_b,np.dot(Irho_e,np.dot(Π(dφ,dθ,dψ),np.array([dφ,dθ,dψ])))-\n",
    "# np.cross(np.dot(Π(φ,θ,ψ),np.array([dφ,dθ,dψ])),np.dot(Irho_e, np.dot(Π(φ,θ,ψ),np.array([dφ,dθ,dψ]))))+\n",
    "# np.dot(Re_b,d_s(me_[0],me_[1],me_[2],dt,ds)+d_s(me_[0],me_[1],me_[2],dt,ds))+\n",
    "# np.cross(d_s(x,y,z,dt,ds),ne(x,y,z,φ,θ,ψ,dt,ds))+\n",
    "# np.dot(Re_b,-np.dot(DR,np.dot(Π(φ,θ,ψ),np.array([dφ,dθ,dψ]))))"
   ]
  },
  {
   "cell_type": "code",
   "execution_count": 93,
   "metadata": {},
   "outputs": [
    {
     "data": {
      "text/plain": [
       "array([[  1956.18872112,  -2791.82025292,  -1567.46681633,\n",
       "        -41428.09989437],\n",
       "       [ -6795.69973018,  12178.56779235,   7818.63440044,\n",
       "        -10713.97564946],\n",
       "       [ -2521.29943284,  11184.73285182,   2120.11165799,\n",
       "        -18001.79845827]])"
      ]
     },
     "execution_count": 93,
     "metadata": {},
     "output_type": "execute_result"
    }
   ],
   "source": [
    "ne_(dx,dy,dz,DT,Ret)"
   ]
  },
  {
   "cell_type": "code",
   "execution_count": 94,
   "metadata": {},
   "outputs": [],
   "source": [
    "C=ne(x,y,z,Ret)\n",
    "  \n",
    "a,b,c=C[:,0],C[:,1],C[:,2]"
   ]
  },
  {
   "cell_type": "code",
   "execution_count": 95,
   "metadata": {},
   "outputs": [
    {
     "data": {
      "text/plain": [
       "(4, 3, 3)"
      ]
     },
     "execution_count": 95,
     "metadata": {},
     "output_type": "execute_result"
    }
   ],
   "source": [
    "Re_b(Ret).shape"
   ]
  },
  {
   "cell_type": "code",
   "execution_count": 96,
   "metadata": {},
   "outputs": [
    {
     "data": {
      "text/plain": [
       "array([[  1956.18872112,  -6795.69973018,  -2521.29943284],\n",
       "       [ -2791.82025292,  12178.56779235,  11184.73285182],\n",
       "       [ -1567.46681633,   7818.63440044,   2120.11165799],\n",
       "       [-41428.09989437, -10713.97564946, -18001.79845827]])"
      ]
     },
     "execution_count": 96,
     "metadata": {},
     "output_type": "execute_result"
    }
   ],
   "source": [
    "ne_(dx,dy,dz,DT, Ret).T"
   ]
  },
  {
   "cell_type": "code",
   "execution_count": 97,
   "metadata": {},
   "outputs": [
    {
     "data": {
      "text/plain": [
       "(numpy.ndarray,\n",
       " array([ 62.85720596,  14.63424549, 179.40054227,   5.97529537]),\n",
       " array([  95.79408039, -106.98181517,    4.73491121,   39.48974404]),\n",
       " array([ 1.13276976, -1.53210888, -1.09647779,  0.43678027]),\n",
       " numpy.ndarray,\n",
       " array([-0.28591668,  1.15112364, -0.34100141,  1.50391187]))"
      ]
     },
     "execution_count": 97,
     "metadata": {},
     "output_type": "execute_result"
    }
   ],
   "source": [
    "type(x),y,z,dx,type(dy),dz"
   ]
  },
  {
   "cell_type": "code",
   "execution_count": 98,
   "metadata": {},
   "outputs": [
    {
     "data": {
      "text/plain": [
       "array([[  3133.21454668,  -7614.76025307,   4848.15848693],\n",
       "       [-13265.61033475,   2097.36302724,  19544.10212049],\n",
       "       [ -3742.34077354,  11442.04318533,   9206.97990837],\n",
       "       [-56966.31886496,  18659.17354776, -50419.74626911]])"
      ]
     },
     "execution_count": 98,
     "metadata": {},
     "output_type": "execute_result"
    }
   ],
   "source": [
    "ne_(dx,dy,dz,DT,Ret).T+np.einsum('ijk,ik->ij', Re_b(Ret),ne_(dx,dy,dz,DT,Ret).T)"
   ]
  },
  {
   "cell_type": "code",
   "execution_count": 99,
   "metadata": {},
   "outputs": [
    {
     "data": {
      "text/plain": [
       "array([[  1956.18872112,  -6795.69973018,  -2521.29943284],\n",
       "       [ -2791.82025292,  12178.56779235,  11184.73285182],\n",
       "       [ -1567.46681633,   7818.63440044,   2120.11165799],\n",
       "       [-41428.09989437, -10713.97564946, -18001.79845827]])"
      ]
     },
     "execution_count": 99,
     "metadata": {},
     "output_type": "execute_result"
    }
   ],
   "source": [
    "ne_(dx,dy,dz,DT,Ret).T"
   ]
  },
  {
   "cell_type": "markdown",
   "metadata": {},
   "source": [
    "### Vessel"
   ]
  },
  {
   "cell_type": "code",
   "execution_count": 100,
   "metadata": {},
   "outputs": [],
   "source": [
    "class VesselSemisub: # Semisub model from Fossen\n",
    "    \n",
    "    def __init__(self):\n",
    "        \n",
    "        MRB = 1.0e10 * np.array(\n",
    "            [\n",
    "                [0.0027, 0, 0, 0, -0.0530, 0],\n",
    "                [0, 0.0027, 0, 0.0530, 0, -0.0014],\n",
    "                [0, 0, 0.0027, 0, 0.0014, 0],\n",
    "                [0, 0.0530, 0, 3.4775, 0, -0.0265],\n",
    "                [-0.0530, 0, 0.0014, 0, 3.8150, 0],\n",
    "                [0, -0.0014, 0, -0.0265, 0, 3.7192],\n",
    "            ],\n",
    "            float,\n",
    "        )\n",
    "\n",
    "        MA = 1.0e10 * np.array(\n",
    "            [\n",
    "                [0.0017, 0, 0, 0, -0.0255, 0],\n",
    "                [0, 0.0042, 0, 0.0365, 0, 0],\n",
    "                [0, 0, 0.0021, 0, 0, 0],\n",
    "                [0, 0.0365, 0, 1.3416, 0, 0],\n",
    "                [-0.0255, 0, 0, 0, 2.2267, 0],\n",
    "                [0, 0, 0, 0, 0, 3.2049],\n",
    "            ],\n",
    "            float,\n",
    "        )\n",
    "\n",
    "        self.D = 1.0e09 * np.array(\n",
    "            [\n",
    "                [0.0004, 0, 0, 0, -0.0085, 0],\n",
    "                [0, 0.0003, 0, 0.0067, 0, -0.0002],\n",
    "                [0, 0, 0.0034, 0, 0.0017, 0],\n",
    "                [0, 0.0067, 0, 4.8841, 0, -0.0034],\n",
    "                [-0.0085, 0, 0.0017, 0, 7.1383, 0],\n",
    "                [0, -0.0002, 0, -0.0034, 0, 0.8656],\n",
    "            ],\n",
    "            float,\n",
    "        )\n",
    "\n",
    "        self.G = 1.0e10 * np.diag([0.0, 0.0, 0.0006, 1.4296, 2.6212, 0.0])\n",
    "        self.M = MRB + MA\n",
    "\n",
    "    def eq_left(self,η, dη):\n",
    "        return (np.matmul(self.D, dη) + np.dot(self.G,η))\n",
    "        \n",
    "    def tau(self,η, dη, ddη):\n",
    "        return (np.matmul(self.M,ddη) + np.matmul(self.D, dη) + np.dot(self.G,η))"
   ]
  },
  {
   "cell_type": "code",
   "execution_count": 101,
   "metadata": {},
   "outputs": [],
   "source": [
    "V=VesselSemisub()"
   ]
  },
  {
   "cell_type": "code",
   "execution_count": 102,
   "metadata": {},
   "outputs": [],
   "source": [
    "η=np.array([0.1,0.3,0.4,0.5,0.6,0.7])\n",
    "dη=np.array([0,0,0,0,0,0])\n",
    "ddη=np.array([0,0,0,0,0,0])"
   ]
  },
  {
   "cell_type": "code",
   "execution_count": 103,
   "metadata": {},
   "outputs": [],
   "source": [
    "tau_force = V.tau(η,dη, ddη)"
   ]
  },
  {
   "cell_type": "code",
   "execution_count": 104,
   "metadata": {},
   "outputs": [
    {
     "data": {
      "text/plain": [
       "array([0.00000e+00, 0.00000e+00, 2.40000e+06, 7.14800e+09, 1.57272e+10,\n",
       "       0.00000e+00])"
      ]
     },
     "execution_count": 104,
     "metadata": {},
     "output_type": "execute_result"
    }
   ],
   "source": [
    "tau_force"
   ]
  },
  {
   "cell_type": "code",
   "execution_count": 105,
   "metadata": {},
   "outputs": [],
   "source": [
    "class VesselOtter: \n",
    "    \n",
    "    def __init__(\n",
    "        self, \n",
    "        controlSystem=\"stepInput\", \n",
    "        r = 0, \n",
    "        V_current = 0, \n",
    "        beta_current = 0,\n",
    "        tau_X = 120\n",
    "    ):\n",
    "        \n",
    "        # Constants\n",
    "        D2R = math.pi / 180     # deg2rad\n",
    "        self.g = 9.81           # acceleration of gravity (m/s^2)\n",
    "        rho = 1026              # density of water (kg/m^3)\n",
    "\n",
    "        if controlSystem == \"headingAutopilot\":\n",
    "            self.controlDescription = (\n",
    "                \"Heading autopilot, psi_d = \"\n",
    "                + str(r)\n",
    "                + \" deg\"\n",
    "                )\n",
    "        else:\n",
    "            self.controlDescription = \"Step inputs for n1 and n2\"\n",
    "            controlSystem = \"stepInput\"\n",
    "\n",
    "        self.ref = r\n",
    "        self.V_c = V_current\n",
    "        self.beta_c = beta_current * D2R\n",
    "        self.controlMode = controlSystem\n",
    "        self.tauX = tau_X  # surge force (N)\n",
    "\n",
    "        # Initialize the Otter USV model\n",
    "        self.T_n = 1.0  # propeller time constants (s)\n",
    "        self.L = 2.0    # Length (m)\n",
    "        self.B = 1.08   # beam (m)\n",
    "        self.nu = np.array([0, 0, 0, 0, 0, 0], float)  # velocity vector\n",
    "        self.u_actual = np.array([0, 0], float)  # propeller revolution states\n",
    "        self.name = \"Otter USV (see 'otter.py' for more details)\"\n",
    "\n",
    "        self.controls = [\n",
    "            \"Left propeller shaft speed (rad/s)\",\n",
    "            \"Right propeller shaft speed (rad/s)\"\n",
    "        ]\n",
    "        self.dimU = len(self.controls)\n",
    "\n",
    "        # Vehicle parameters\n",
    "        m = 55.0                                 # mass (kg)\n",
    "        self.mp = 25.0                           # Payload (kg)\n",
    "        self.m_total = m + self.mp\n",
    "        self.rp = np.array([0.05, 0, -0.35], float) # location of payload (m)\n",
    "        rg = np.array([0.2, 0, -0.2], float)     # CG for hull only (m)\n",
    "        rg = (m * rg + self.mp * self.rp) / (m + self.mp)  # CG corrected for payload\n",
    "        self.S_rg = Smtrx(rg)\n",
    "        self.H_rg = Hmtrx(rg)\n",
    "        self.S_rp = Smtrx(self.rp)\n",
    "\n",
    "        R44 = 0.4 * self.B  # radii of gyration (m)\n",
    "        R55 = 0.25 * self.L\n",
    "        R66 = 0.25 * self.L\n",
    "        T_yaw = 1.0         # time constant in yaw (s)\n",
    "        Umax = 6 * 0.5144   # max forward speed (m/s)\n",
    "\n",
    "        # Data for one pontoon\n",
    "        self.B_pont = 0.25  # beam of one pontoon (m)\n",
    "        y_pont = 0.395      # distance from centerline to waterline centroid (m)\n",
    "        Cw_pont = 0.75      # waterline area coefficient (-)\n",
    "        Cb_pont = 0.4       # block coefficient, computed from m = 55 kg\n",
    "\n",
    "        # Inertia dyadic, volume displacement and draft\n",
    "        nabla = (m + self.mp) / rho  # volume\n",
    "        self.T = nabla / (2 * Cb_pont * self.B_pont * self.L)  # draft\n",
    "        Ig_CG = m * np.diag(np.array([R44 ** 2, R55 ** 2, R66 ** 2]))\n",
    "        self.Ig = Ig_CG - m * self.S_rg @ self.S_rg - self.mp * self.S_rp @ self.S_rp\n",
    "\n",
    "        # Experimental propeller data including lever arms\n",
    "        self.l1 = -y_pont  # lever arm, left propeller (m)\n",
    "        self.l2 = y_pont  # lever arm, right propeller (m)\n",
    "        self.k_pos = 0.02216 / 2  # Positive Bollard, one propeller\n",
    "        self.k_neg = 0.01289 / 2  # Negative Bollard, one propeller\n",
    "        self.n_max = math.sqrt((0.5 * 24.4 * self.g) / self.k_pos)  # max. prop. rev.\n",
    "        self.n_min = -math.sqrt((0.5 * 13.6 * self.g) / self.k_neg) # min. prop. rev.\n",
    "\n",
    "        # MRB_CG = [ (m+mp) * I3  O3      (Fossen 2021, Chapter 3)\n",
    "        #               O3       Ig ]\n",
    "        MRB_CG = np.zeros((6, 6))\n",
    "        MRB_CG[0:3, 0:3] = (m + self.mp) * np.identity(3)\n",
    "        MRB_CG[3:6, 3:6] = self.Ig\n",
    "        MRB = self.H_rg.T @ MRB_CG @ self.H_rg\n",
    "        \n",
    "\n",
    "        # Hydrodynamic added mass (best practice)\n",
    "        Xudot = -0.1 * m\n",
    "        Yvdot = -1.5 * m\n",
    "        Zwdot = -1.0 * m\n",
    "        Kpdot = -0.2 * self.Ig[0, 0]\n",
    "        Mqdot = -0.8 * self.Ig[1, 1]\n",
    "        Nrdot = -1.7 * self.Ig[2, 2]\n",
    "\n",
    "        self.MA = -np.diag([Xudot, Yvdot, Zwdot, Kpdot, Mqdot, Nrdot])\n",
    "\n",
    "        # System mass matrix\n",
    "        self.M = MRB + self.MA\n",
    "        self.Minv = np.linalg.inv(self.M.astype(np.float32))\n",
    "\n",
    "        # Hydrostatic quantities (Fossen 2021, Chapter 4)\n",
    "        Aw_pont = Cw_pont * self.L * self.B_pont  # waterline area, one pontoon\n",
    "        I_T = (\n",
    "            2\n",
    "            * (1 / 12)\n",
    "            * self.L\n",
    "            * self.B_pont ** 3\n",
    "            * (6 * Cw_pont ** 3 / ((1 + Cw_pont) * (1 + 2 * Cw_pont)))\n",
    "            + 2 * Aw_pont * y_pont ** 2\n",
    "        )\n",
    "        I_L = 0.8 * 2 * (1 / 12) * self.B_pont * self.L ** 3\n",
    "        KB = (1 / 3) * (5 * self.T / 2 - 0.5 * nabla / (self.L * self.B_pont))\n",
    "        BM_T = I_T / nabla  # BM values\n",
    "        BM_L = I_L / nabla\n",
    "        KM_T = KB + BM_T    # KM values\n",
    "        KM_L = KB + BM_L\n",
    "        KG = self.T - rg[2]\n",
    "        GM_T = KM_T - KG    # GM values\n",
    "        GM_L = KM_L - KG\n",
    "\n",
    "        G33 = rho * self.g * (2 * Aw_pont)  # spring stiffness\n",
    "        G44 = rho * self.g * nabla * GM_T\n",
    "        G55 = rho * self.g * nabla * GM_L\n",
    "        G_CF = np.diag([0, 0, G33, G44, G55, 0])  # spring stiff. matrix in CF\n",
    "        LCF = -0.2\n",
    "        H = Hmtrx(np.array([LCF, 0.0, 0.0]))  # transform G_CF from CF to CO\n",
    "        self.G = H.T @ G_CF @ H\n",
    "\n",
    "        # Natural frequencies\n",
    "        w3 = math.sqrt(G33 / self.M[2, 2])\n",
    "        w4 = math.sqrt(G44 / self.M[3, 3])\n",
    "        w5 = math.sqrt(G55 / self.M[4, 4])\n",
    "\n",
    "        # Linear damping terms (hydrodynamic derivatives)\n",
    "        Xu = -24.4 *self. g / Umax  # specified using the maximum speed\n",
    "        Yv = 0\n",
    "        Zw = -2 * 0.3 * w3 * self.M[2, 2]  # specified using relative damping\n",
    "        Kp = -2 * 0.2 * w4 * self.M[3, 3]\n",
    "        Mq = -2 * 0.4 * w5 * self.M[4, 4]\n",
    "        Nr = -self.M[5, 5] / T_yaw  # specified by the time constant T_yaw\n",
    "\n",
    "        self.D = -np.diag([Xu, Yv, Zw, Kp, Mq, Nr])\n",
    "\n",
    "        # Propeller configuration/input matrix\n",
    "        B = self.k_pos * np.array([[1, 1], [-self.l1, -self.l2]])\n",
    "        self.Binv = np.linalg.inv(B.astype(np.float32))\n",
    "\n",
    "        # Heading autopilot\n",
    "        self.e_int = 0  # integral state\n",
    "        self.wn = 1.2  # PID pole placement\n",
    "        self.zeta = 0.8\n",
    "\n",
    "        # Reference model\n",
    "        self.r_max = 10 * math.pi / 180  # maximum yaw rate\n",
    "        self.psi_d = 0  # angle, angular rate and angular acc. states\n",
    "        self.r_d = 0\n",
    "        self.a_d = 0\n",
    "        self.wn_d = self.wn / 5  # desired natural frequency in yaw\n",
    "        self.zeta_d = 1  # desired relative damping ratio\n",
    "    \n",
    "    \n",
    "    def eq_left(self,η, dη):\n",
    "        \n",
    "        CRB_CG = np.zeros((6, 6))\n",
    "        CRB_CG[0:3, 0:3] = self.m_total * Smtrx(dη[3:6])\n",
    "        CRB_CG[3:6, 3:6] = -Smtrx(np.matmul(self.Ig, dη[3:6]))\n",
    "        CRB = self.H_rg.T @ CRB_CG @ self.H_rg  # transform CRB from CG to CO\n",
    "\n",
    "        CA = m2c(self.MA, dη)\n",
    "        CA[5, 0] = 0  # assume that the Munk moment in yaw can be neglected\n",
    "        CA[5, 1] = 0  # if nonzero, must be balanced by adding nonlinear damping\n",
    "        CA[0, 5] = 0\n",
    "        CA[1, 5] = 0\n",
    "\n",
    "        C = CRB + CA\n",
    "\n",
    "        return (np.matmul(self.D, dη) + np.matmul(C, dη) + np.dot(self.G,η))\n",
    "        \n",
    "    def tau(self,η, dη, ddη):\n",
    "\n",
    "        \n",
    "        CRB_CG = np.zeros((6, 6))\n",
    "        CRB_CG[0:3, 0:3] = self.m_total * Smtrx(dη[3:6])\n",
    "        CRB_CG[3:6, 3:6] = -Smtrx(np.matmul(self.Ig, dη[3:6]))\n",
    "        CRB = self.H_rg.T @ CRB_CG @ self.H_rg  # transform CRB from CG to CO\n",
    "\n",
    "        CA = m2c(self.MA, dη)\n",
    "        CA[5, 0] = 0  # assume that the Munk moment in yaw can be neglected\n",
    "        CA[5, 1] = 0  # if nonzero, must be balanced by adding nonlinear damping\n",
    "        CA[0, 5] = 0\n",
    "        CA[1, 5] = 0\n",
    "\n",
    "        C = CRB + CA\n",
    "        return (np.matmul(self.M,ddη) + np.matmul(self.D, dη) + np.matmul(C, dη)+ np.dot(self.G,η))\n",
    "    "
   ]
  },
  {
   "cell_type": "code",
   "execution_count": 106,
   "metadata": {},
   "outputs": [],
   "source": [
    "V=VesselOtter()"
   ]
  },
  {
   "cell_type": "code",
   "execution_count": 107,
   "metadata": {},
   "outputs": [],
   "source": [
    "η=np.array([0.1,0.3,0.4,0.5,0.6,0.7])\n",
    "dη=np.array([0,0,0,0,0,0])\n",
    "ddη=np.array([0,0,0,0,0,0])"
   ]
  },
  {
   "cell_type": "code",
   "execution_count": 108,
   "metadata": {},
   "outputs": [],
   "source": [
    "tau_force = V.tau(η,dη, ddη)"
   ]
  },
  {
   "cell_type": "code",
   "execution_count": 109,
   "metadata": {},
   "outputs": [
    {
     "data": {
      "text/plain": [
       "array([   0.        ,    0.        , 3925.3734    ,  484.24424147,\n",
       "       2251.69893789,    0.        ])"
      ]
     },
     "execution_count": 109,
     "metadata": {},
     "output_type": "execute_result"
    }
   ],
   "source": [
    "tau_force"
   ]
  },
  {
   "cell_type": "code",
   "execution_count": 110,
   "metadata": {},
   "outputs": [
    {
     "data": {
      "text/plain": [
       "array([3.5, 5. ])"
      ]
     },
     "execution_count": 110,
     "metadata": {},
     "output_type": "execute_result"
    }
   ],
   "source": [
    "np.matmul(np.array([[1.1,1.2],[1,2]]),np.array([1,2]))"
   ]
  },
  {
   "cell_type": "code",
   "execution_count": 111,
   "metadata": {},
   "outputs": [],
   "source": [
    "V=VesselSemisub()"
   ]
  },
  {
   "cell_type": "code",
   "execution_count": 112,
   "metadata": {},
   "outputs": [],
   "source": [
    "# wave_force=9e6\n",
    "# wave_force=9e3\n",
    "# wave_force=0\n",
    "kp, kd=1.95e4,1.5e4\n",
    "# kp,kd=1.95e4, 1.5e4\n",
    "# kp,kd=1.95, 1.5\n",
    "wave_coef=1\n",
    "# kp,kd=1.95e16, 1.5e16"
   ]
  },
  {
   "cell_type": "code",
   "execution_count": 113,
   "metadata": {},
   "outputs": [],
   "source": [
    "def Fx(x,dx, kp, kd, x_ref = 0, dx_ref=0):\n",
    "    return -kp*(x-x_ref) - kd*(dx-dx_ref)"
   ]
  },
  {
   "cell_type": "code",
   "execution_count": 114,
   "metadata": {},
   "outputs": [],
   "source": [
    "Hs = 2.5 # significant wave height in m"
   ]
  },
  {
   "cell_type": "code",
   "execution_count": 115,
   "metadata": {},
   "outputs": [],
   "source": [
    "def wave_force(Hs,d0,qw, Cd=1.2):\n",
    "    g=9.81 \n",
    "    return 0.5 * qw * g * Hs**2 * d0 * Cd"
   ]
  },
  {
   "cell_type": "code",
   "execution_count": 116,
   "metadata": {},
   "outputs": [
    {
     "data": {
      "text/plain": [
       "28695.1696875"
      ]
     },
     "execution_count": 116,
     "metadata": {},
     "output_type": "execute_result"
    }
   ],
   "source": [
    "wave_force(Hs,d0,qw, Cd=1.2)"
   ]
  },
  {
   "cell_type": "code",
   "execution_count": 117,
   "metadata": {},
   "outputs": [
    {
     "data": {
      "text/plain": [
       "array([0.1, 0.3, 0.4, 0.5, 0.6, 0.7])"
      ]
     },
     "execution_count": 117,
     "metadata": {},
     "output_type": "execute_result"
    }
   ],
   "source": [
    "η"
   ]
  },
  {
   "cell_type": "code",
   "execution_count": 118,
   "metadata": {},
   "outputs": [],
   "source": [
    "def tau(η, dη, wave_coef, kp, kd,time, Hs=2.5, Tp=10, x_ref = 0, dx_ref=0):\n",
    "    x,y,z,φ,θ,ψ=η\n",
    "    dx,dy,dz,dφ,dθ,dψ=dη\n",
    "    F=(np.array([-Fx(x,dx, kp, kd, x_ref, dx_ref),0,0])\n",
    "       +wave_coef*np.array([wave_force(Hs,d0,qw),0,0])*np.sin(2*np.pi/Tp*time+1)\n",
    "      ).T\n",
    "    Ret=Re_t_([φ,θ,ψ])\n",
    "    \n",
    "    ans=np.concatenate([np.dot(Re_b(Ret), F),[0,0,0]], axis=0)\n",
    "    ans[2]=0 #!!!!!!!!!!!!!!!!!!!!!!!!!!!!!!!!!!!!!!!!!!!!!!!!!!!!!!!!!!!!!!!!\n",
    "    return ans"
   ]
  },
  {
   "cell_type": "code",
   "execution_count": 119,
   "metadata": {},
   "outputs": [
    {
     "data": {
      "text/plain": [
       "array([5828.76914536, 7132.08869406,    0.        ,    0.        ,\n",
       "          0.        ,    0.        ])"
      ]
     },
     "execution_count": 119,
     "metadata": {},
     "output_type": "execute_result"
    }
   ],
   "source": [
    "tau(η, dη, wave_coef, kp, kd,3)"
   ]
  },
  {
   "cell_type": "markdown",
   "metadata": {},
   "source": [
    "### Static solution"
   ]
  },
  {
   "cell_type": "code",
   "execution_count": 120,
   "metadata": {},
   "outputs": [],
   "source": [
    "def catenary(x,Ws,Fh):\n",
    "    return (Fh/Ws)*(np.cosh(x*Ws/Fh)-1)"
   ]
  },
  {
   "cell_type": "code",
   "execution_count": 121,
   "metadata": {},
   "outputs": [],
   "source": [
    "pipe_weight_per_unit_length = mp #  (submerged) [kg/m]  # 113.07 - not submerged"
   ]
  },
  {
   "cell_type": "code",
   "execution_count": 122,
   "metadata": {},
   "outputs": [],
   "source": [
    "Fx_0=82945396"
   ]
  },
  {
   "cell_type": "code",
   "execution_count": 123,
   "metadata": {},
   "outputs": [],
   "source": [
    "Ws = pipe_weight_per_unit_length*9.81 # [N/m]\n",
    "h=700"
   ]
  },
  {
   "cell_type": "code",
   "execution_count": 124,
   "metadata": {},
   "outputs": [],
   "source": [
    "S=math.sqrt(h*(2*Fx_0/Ws -h))\n",
    "horizontal_length=(Fx_0/Ws -h)*np.log((S+Fx_0/Ws)/(Fx_0/Ws-h))"
   ]
  },
  {
   "cell_type": "code",
   "execution_count": 125,
   "metadata": {},
   "outputs": [],
   "source": [
    "delta_x=horizontal_length/(node_N-1)"
   ]
  },
  {
   "cell_type": "code",
   "execution_count": 126,
   "metadata": {},
   "outputs": [],
   "source": [
    "x0=[i*delta_x for i in range(node_N)]\n",
    "z0=[]\n",
    "for i in range(len(x0)):\n",
    "    z0.append(catenary(x0[i],Ws,Fx_0))"
   ]
  },
  {
   "cell_type": "code",
   "execution_count": 127,
   "metadata": {},
   "outputs": [
    {
     "data": {
      "text/plain": [
       "([0.0, 3684.228281487207, 7368.456562974414, 11052.68484446162],\n",
       " [0.0, 77.06804644731459, 308.40705929683963, 694.4218951076863])"
      ]
     },
     "execution_count": 127,
     "metadata": {},
     "output_type": "execute_result"
    }
   ],
   "source": [
    "x0,z0"
   ]
  },
  {
   "cell_type": "code",
   "execution_count": 128,
   "metadata": {},
   "outputs": [
    {
     "data": {
      "image/png": "[encoded data removed]",
      "text/plain": [
       "<Figure size 432x288 with 1 Axes>"
      ]
     },
     "metadata": {
      "needs_background": "light"
     },
     "output_type": "display_data"
    }
   ],
   "source": [
    "plt.plot(x0, z0)\n",
    "plt.show()"
   ]
  },
  {
   "cell_type": "code",
   "execution_count": 129,
   "metadata": {},
   "outputs": [],
   "source": [
    "rng = np.random.default_rng(seed=29)\n",
    "q0=np.zeros(12*node_N)"
   ]
  },
  {
   "cell_type": "code",
   "execution_count": 130,
   "metadata": {},
   "outputs": [],
   "source": [
    "for j in range(1,12):\n",
    "    if j==1:  \n",
    "        q0[(j-1)*node_N:j*node_N]=x0\n",
    "    elif j==5:    \n",
    "        q0[(j-1)*node_N:j*node_N]=z0\n",
    "    elif j==9:    \n",
    "        q0[(j-1)*node_N:j*node_N]=rng.standard_normal(node_N)\n",
    "    elif j==11:   \n",
    "        q0[(j-1)*node_N:j*node_N]=rng.standard_normal(node_N)"
   ]
  },
  {
   "cell_type": "code",
   "execution_count": 131,
   "metadata": {},
   "outputs": [],
   "source": [
    "def static_func(Q):\n",
    "    t=0\n",
    " \n",
    "    x,y,z=Q[0:node_N],Q[2*node_N:3*node_N],Q[4*node_N:5*node_N]\n",
    "    dx,dy,dz=Q[1*node_N:2*node_N],Q[3*node_N:4*node_N],Q[5*node_N:6*node_N]\n",
    "    φ,θ,ψ=Q[6*node_N:7*node_N],Q[8*node_N:9*node_N],Q[10*node_N:11*node_N]\n",
    "    Ret = Re_t(φ,θ,ψ)\n",
    "\n",
    "    \n",
    "    dφ,dθ,dψ=Q[7*node_N:8*node_N],Q[9*node_N:10*node_N],Q[11*node_N:12*node_N]\n",
    "    \n",
    "    η=[x[-1],y[-1],z[-1],φ[-1],θ[-1],ψ[-1]]\n",
    "    \n",
    "    tau_force=np.array([-Fx_0,0,0,0,0,0])\n",
    "\n",
    "    \n",
    "    \n",
    "#     C=ne(x,y,z,Ret)\n",
    "#     a,b,c=C[:,0],C[:,1],C[:,2]\n",
    "\n",
    "#     Z0=tau_force[:3]\n",
    "\n",
    "    Z0=np.dot(Re_b(Ret),tau_force[:3])\n",
    "   \n",
    "    Z1 = d_s(ne, x, y, z, Ret).T\n",
    "\n",
    "    DT_0=np.zeros((3,3))\n",
    "    Z2=ne_(dx,dy,dz,DT_0,Ret).T\n",
    "    \n",
    "    \n",
    "    Z =  Z1 + Z2 + Z0\n",
    "    \n",
    "############################################################    \n",
    "    ddx,ddy, ddz = np.linalg.solve(Ws*Re_b(Ret),Z).T \n",
    "#     tmp=np.linalg.solve(Ret,np.vstack([ddx_phi, ddy_phi, ddz_phi]).T)\n",
    "#     ddx, ddy, ddz = tmp[:,0],tmp[:,1],tmp[:,2]\n",
    "    \n",
    "#     tmp=phi(ddx_phi,ddy_phi, ddz_phi, Ret)\n",
    "#     ddx, ddy, ddz = tmp[:,0],tmp[:,1],tmp[:,2]\n",
    "############################################################    \n",
    "#     ans_x=[]\n",
    "#     ans_y=[]\n",
    "#     ans_z=[]\n",
    "#     RRRR=Re_b(Ret)\n",
    "#     for i in range(len(RRRR)):\n",
    "#         a,b,c=1/Ws*np.linalg.lstsq(RRRR[i],Z[i], rcond=None)[0]\n",
    "#         ans_x.append(a)\n",
    "#         ans_y.append(b)\n",
    "#         ans_z.append(c)\n",
    "    \n",
    "#     ddx,ddy, ddz = np.array(ans_x),np.array(ans_y),np.array(ans_z)    \n",
    "    \n",
    "   \n",
    "    C0=np.einsum('ijk,kp->ijp',np.einsum('ijk,ikr->ijr',np.linalg.inv(Π(φ,θ,ψ).astype(np.float32)),\n",
    "                        Re_b(Ret)),tau_force[3:].reshape(3,1)) \n",
    "#     C3= d_s(me_[:,0],me_[:,1],me_[:, 2],x,y,z).astype(np.float32).T\n",
    "    C3=d_me(φ,θ,ψ,Ret)\n",
    "    B_ =C3\n",
    "    B=(B_ + C0.squeeze()\n",
    "      )\n",
    "\n",
    "    A2 = Irho_e(Ret).astype(np.float32)\n",
    "    A3=Π(φ,θ,ψ).astype(np.float32)\n",
    "    A=np.einsum('ijk,ikr->ijr',A2,A3)\n",
    "#     A=np.einsum('ijk,ikr->ijr', Re_b(Ret), np.einsum('ijk,ikr->ijr',A2,A3))\n",
    "\n",
    "\n",
    "#############\n",
    "    ddφ,ddθ,ddψ = np.linalg.solve(A,B).T\n",
    "#############################################\n",
    "\n",
    "\n",
    "\n",
    "\n",
    "#     ans_φ=[]\n",
    "#     ans_θ=[]\n",
    "#     ans_ψ=[]\n",
    "#     for i in range(len(A)):\n",
    "#         a,b,c=np.linalg.lstsq(A[i],B[i], rcond=None)[0]\n",
    "#         ans_φ.append(a)\n",
    "#         ans_θ.append(b)\n",
    "#         ans_ψ.append(c)\n",
    "    \n",
    "#     ddφ,ddθ,ddψ=np.array(ans_φ),np.array(ans_θ),np.array(ans_ψ)\n",
    "    \n",
    "    \n",
    "\n",
    "    ans=np.concatenate([dx, ddx, dy, ddy, dz, ddz, dφ, ddφ, dθ, ddθ, dψ, ddψ], axis=0)\n",
    "  \n",
    " \n",
    "    return ans\n",
    "    "
   ]
  },
  {
   "cell_type": "code",
   "execution_count": 132,
   "metadata": {},
   "outputs": [
    {
     "data": {
      "text/plain": [
       "array([ 0.00000000e+00,  3.68422828e+03,  7.36845656e+03,  1.10526848e+04,\n",
       "        0.00000000e+00,  0.00000000e+00,  0.00000000e+00,  0.00000000e+00,\n",
       "        0.00000000e+00,  0.00000000e+00,  0.00000000e+00,  0.00000000e+00,\n",
       "        0.00000000e+00,  0.00000000e+00,  0.00000000e+00,  0.00000000e+00,\n",
       "        0.00000000e+00,  7.70680464e+01,  3.08407059e+02,  6.94421895e+02,\n",
       "        0.00000000e+00,  0.00000000e+00,  0.00000000e+00,  0.00000000e+00,\n",
       "        0.00000000e+00,  0.00000000e+00,  0.00000000e+00,  0.00000000e+00,\n",
       "        0.00000000e+00,  0.00000000e+00,  0.00000000e+00,  0.00000000e+00,\n",
       "       -3.91869842e-01,  4.99204015e-02, -1.65190166e-01, -1.67969390e-01,\n",
       "        0.00000000e+00,  0.00000000e+00,  0.00000000e+00,  0.00000000e+00,\n",
       "        6.26158775e-02, -2.25711081e-01,  2.96922773e-01, -4.88928601e-02,\n",
       "        0.00000000e+00,  0.00000000e+00,  0.00000000e+00,  0.00000000e+00])"
      ]
     },
     "execution_count": 132,
     "metadata": {},
     "output_type": "execute_result"
    }
   ],
   "source": [
    "q0"
   ]
  },
  {
   "cell_type": "code",
   "execution_count": null,
   "metadata": {},
   "outputs": [],
   "source": []
  },
  {
   "cell_type": "code",
   "execution_count": 133,
   "metadata": {},
   "outputs": [
    {
     "name": "stderr",
     "output_type": "stream",
     "text": [
      "/Library/Frameworks/Python.framework/Versions/3.7/lib/python3.7/site-packages/scipy/optimize/minpack.py:175: RuntimeWarning: The iteration is not making good progress, as measured by the \n",
      "  improvement from the last ten iterations.\n",
      "  warnings.warn(msg, RuntimeWarning)\n"
     ]
    }
   ],
   "source": [
    "root = fsolve(static_func, q0)"
   ]
  },
  {
   "cell_type": "code",
   "execution_count": 134,
   "metadata": {},
   "outputs": [
    {
     "data": {
      "text/plain": [
       "array([ 2.90194093e+03,  3.62627132e+03,  6.89799489e+03,  1.80497678e+04,\n",
       "        1.41286735e-13, -1.94486551e-14, -1.09343790e-13,  1.36634311e-15,\n",
       "       -1.37305666e+03,  2.46328573e+03, -1.94774164e+03, -7.90537418e+01,\n",
       "        8.39055971e-14,  8.30460303e-14,  1.13209466e-14,  2.25922234e-14,\n",
       "       -3.12632143e+03,  1.83803948e+03, -1.17953245e+03,  3.16742090e+03,\n",
       "        7.79028455e-15,  3.03829839e-15, -4.11426828e-14, -1.09045422e-15,\n",
       "        3.93858937e-01, -1.85314113e-01, -8.45580290e-02, -5.68292546e-01,\n",
       "       -8.96792034e-22, -1.49736547e-22,  2.41348405e-22, -9.40247190e-23,\n",
       "        1.42024256e+00, -1.62369148e-01, -6.23745493e-02, -3.78537716e-01,\n",
       "        1.98484345e-22,  4.28875616e-22,  4.48337146e-23, -8.54652495e-24,\n",
       "       -9.77921378e-01,  1.32588699e-01,  1.72613096e-01,  9.57651272e-02,\n",
       "        1.17191639e-22,  3.37927628e-23,  2.71635484e-23,  1.26158553e-24])"
      ]
     },
     "execution_count": 134,
     "metadata": {},
     "output_type": "execute_result"
    }
   ],
   "source": [
    "root"
   ]
  },
  {
   "cell_type": "code",
   "execution_count": 135,
   "metadata": {},
   "outputs": [],
   "source": [
    "x0_,z0_=root[:node_N],root[4*node_N:5*node_N]"
   ]
  },
  {
   "cell_type": "code",
   "execution_count": 136,
   "metadata": {},
   "outputs": [
    {
     "data": {
      "text/plain": [
       "[0.0, 3684.228281487207, 7368.456562974414, 11052.68484446162]"
      ]
     },
     "execution_count": 136,
     "metadata": {},
     "output_type": "execute_result"
    }
   ],
   "source": [
    "x0"
   ]
  },
  {
   "cell_type": "code",
   "execution_count": 137,
   "metadata": {},
   "outputs": [
    {
     "data": {
      "text/plain": [
       "array([ 2901.94093367,  3626.27132424,  6897.99488867, 18049.76778016])"
      ]
     },
     "execution_count": 137,
     "metadata": {},
     "output_type": "execute_result"
    }
   ],
   "source": [
    "x0_"
   ]
  },
  {
   "cell_type": "code",
   "execution_count": 138,
   "metadata": {},
   "outputs": [
    {
     "data": {
      "text/plain": [
       "[0.0, 77.06804644731459, 308.40705929683963, 694.4218951076863]"
      ]
     },
     "execution_count": 138,
     "metadata": {},
     "output_type": "execute_result"
    }
   ],
   "source": [
    "z0"
   ]
  },
  {
   "cell_type": "code",
   "execution_count": 139,
   "metadata": {},
   "outputs": [
    {
     "data": {
      "text/plain": [
       "array([-3126.32142765,  1838.03948201, -1179.53244715,  3167.42089742])"
      ]
     },
     "execution_count": 139,
     "metadata": {},
     "output_type": "execute_result"
    }
   ],
   "source": [
    "z0_"
   ]
  },
  {
   "cell_type": "code",
   "execution_count": 140,
   "metadata": {},
   "outputs": [
    {
     "data": {
      "image/png": "[encoded data removed]",
      "text/plain": [
       "<Figure size 432x288 with 1 Axes>"
      ]
     },
     "metadata": {
      "needs_background": "light"
     },
     "output_type": "display_data"
    }
   ],
   "source": [
    "plt.plot(x0_, z0_)\n",
    "plt.show()"
   ]
  },
  {
   "cell_type": "code",
   "execution_count": 141,
   "metadata": {},
   "outputs": [],
   "source": [
    "# for j in range(1,12):\n",
    "#     if j==1:  \n",
    "#         q0[(j-1)*node_N:j*node_N]=x0_\n",
    "#     elif j==5:    \n",
    "#         q0[(j-1)*node_N:j*node_N]=z0_\n",
    "#     elif j==9:    \n",
    "#         q0[(j-1)*node_N:j*node_N]=rng.standard_normal(node_N)\n",
    "#     elif j==11:   \n",
    "#         q0[(j-1)*node_N:j*node_N]=rng.standard_normal(node_N)"
   ]
  },
  {
   "cell_type": "code",
   "execution_count": 142,
   "metadata": {},
   "outputs": [],
   "source": [
    "# q0[10*node_N]=q0[8*node_N]=0"
   ]
  },
  {
   "cell_type": "code",
   "execution_count": 143,
   "metadata": {},
   "outputs": [
    {
     "data": {
      "text/plain": [
       "array([ 0.00000000e+00,  3.68422828e+03,  7.36845656e+03,  1.10526848e+04,\n",
       "        0.00000000e+00,  0.00000000e+00,  0.00000000e+00,  0.00000000e+00,\n",
       "        0.00000000e+00,  0.00000000e+00,  0.00000000e+00,  0.00000000e+00,\n",
       "        0.00000000e+00,  0.00000000e+00,  0.00000000e+00,  0.00000000e+00,\n",
       "        0.00000000e+00,  7.70680464e+01,  3.08407059e+02,  6.94421895e+02,\n",
       "        0.00000000e+00,  0.00000000e+00,  0.00000000e+00,  0.00000000e+00,\n",
       "        0.00000000e+00,  0.00000000e+00,  0.00000000e+00,  0.00000000e+00,\n",
       "        0.00000000e+00,  0.00000000e+00,  0.00000000e+00,  0.00000000e+00,\n",
       "       -3.91869842e-01,  4.99204015e-02, -1.65190166e-01, -1.67969390e-01,\n",
       "        0.00000000e+00,  0.00000000e+00,  0.00000000e+00,  0.00000000e+00,\n",
       "        6.26158775e-02, -2.25711081e-01,  2.96922773e-01, -4.88928601e-02,\n",
       "        0.00000000e+00,  0.00000000e+00,  0.00000000e+00,  0.00000000e+00])"
      ]
     },
     "execution_count": 143,
     "metadata": {},
     "output_type": "execute_result"
    }
   ],
   "source": [
    "q0"
   ]
  },
  {
   "cell_type": "markdown",
   "metadata": {},
   "source": [
    "### Dynamics"
   ]
  },
  {
   "cell_type": "code",
   "execution_count": 144,
   "metadata": {},
   "outputs": [],
   "source": [
    "# # def grayscott1d(Q,p,t):\n",
    "# def grayscott1d(t, Q):\n",
    "#     print(t)\n",
    "     \n",
    "#     x,y,z=Q[0:node_N],Q[2*node_N:3*node_N],Q[4*node_N:5*node_N]\n",
    "\n",
    "#     x[0]=0\n",
    "#     y[0]=0\n",
    "#     z[0]=0\n",
    "\n",
    "#     dx,dy,dz=Q[1*node_N:2*node_N],Q[3*node_N:4*node_N],Q[5*node_N:6*node_N]\n",
    "    \n",
    "#     dx[0]=0\n",
    "#     dy[0]=0\n",
    "#     dz[0]=0\n",
    "\n",
    "#     φ,θ,ψ=Q[6*node_N:7*node_N],Q[8*node_N:9*node_N],Q[10*node_N:11*node_N]\n",
    "    \n",
    "#     Ret = Re_t(φ,θ,ψ)\n",
    "\n",
    "#     dφ,dθ,dψ=Q[7*node_N:8*node_N],Q[9*node_N:10*node_N],Q[11*node_N:12*node_N]\n",
    "    \n",
    "#     η=[x[-1],y[-1],z[-1],φ[-1],θ[-1],ψ[-1]]\n",
    "#     dη=[dx[-1],dy[-1],dz[-1],dφ[-1],dθ[-1],dψ[-1]]\n",
    "    \n",
    "#     left=V.eq_left(η,dη)\n",
    "\n",
    "#     # PD controller after 30 sec\n",
    "# #     if t<30:\n",
    "# #         ddη=np.linalg.lstsq(V.M, -left + tau(η, dη, wave_force, Fx_0/η[0], 0, t), rcond=None)[0]\n",
    "# #     else:\n",
    "\n",
    "#     hack =1\n",
    "#     ddη=np.linalg.lstsq(V.M.astype(np.float32)*hack, -left.astype(np.float32) \n",
    "#                         + tau(η,dη, wave_coef, kp, kd, t).astype(np.float32)\n",
    "#                         , rcond=None)[0]\n",
    "# #     print('ddη', ddη)\n",
    " \n",
    "#     tau_force = V.tau(η,dη,ddη).astype(np.float32)\n",
    "\n",
    "#     C=ne(x,y,z,Ret)\n",
    "\n",
    "  \n",
    "#     a,b,c=C[:,0],C[:,1],C[:,2]\n",
    "# #     Z0=tau_force[:3]\n",
    "#     Z0=np.dot(Re_b(Ret),tau_force[:3])\n",
    "   \n",
    "#     Z1 = d_s(a,b,c,x,y,z).T\n",
    "\n",
    "#     Z2=ne_(dx,dy,dz,DT,Ret).T\n",
    "    \n",
    "#     Z= ( np.einsum('ijk,ik->ij', Re_b(Ret), Z1 + Z2) + Z0)\n",
    "\n",
    "     \n",
    "# ############################################################    \n",
    "# #     ddx,ddy, ddz = 1/Ws*np.linalg.solve(Re_b(Ret),Z).T \n",
    "# ############################################################    \n",
    "#     ans_x=[]\n",
    "#     ans_y=[]\n",
    "#     ans_z=[]\n",
    "#     RRRR=Re_b(Ret)\n",
    "#     for i in range(len(RRRR)):\n",
    "#         a,b,c=1/Ws*np.linalg.lstsq(RRRR[i],Z[i], rcond=None)[0]\n",
    "#         ans_x.append(a)\n",
    "#         ans_y.append(b)\n",
    "#         ans_z.append(c)\n",
    "    \n",
    "#     ddx,ddy, ddz = np.array(ans_x),np.array(ans_y),np.array(ans_z)    \n",
    "    \n",
    " \n",
    "    \n",
    "#     me_=me(φ,θ,ψ,x,y,z,Ret)\n",
    "\n",
    "#     C1=np.einsum('ijk,ik->ij', Irho_e(Ret).astype(np.float32),\n",
    "#                                                         np.einsum('ijk,ik->ij', Π(dφ,dθ,dψ).astype(np.float32), \n",
    "#                                                                   np.array([dφ,dθ,dψ]).astype(np.float32).T))\n",
    "    \n",
    "#     C2= np.cross(np.einsum('ijk,ik->ij',Π(φ,θ,ψ).astype(np.float32),np.array([dφ,dθ,dψ]).astype(np.float32).T),\n",
    "#                  np.einsum('ijk,ik->ij',Irho_e(Ret).astype(np.float32),\n",
    "#                            np.einsum('ijk,ik->ij',Π(φ,θ,ψ).astype(np.float32),np.array([dφ,dθ,dψ]).astype(np.float32).T)))\n",
    "\n",
    "#     C3= d_s(me_[:,0],me_[:,1],me_[:, 2],x,y,z).astype(np.float32).T\n",
    "\n",
    "#     C4= np.cross(d_s(x,y,z,x,y,z).T,ne(x,y,z,Ret))\n",
    "\n",
    "#     K1=np.einsum('ijk,ik->ij',Π(φ,θ,ψ).astype(np.float32),np.array([dφ,dθ,dψ]).astype(np.float32).T).T\n",
    "\n",
    "#     C5= -np.dot(DR,K1).astype(np.float32).T\n",
    "\n",
    "#     C0=np.einsum('ijk,kp->ijp',np.einsum('ijk,ikr->ijr',np.linalg.inv(Π(φ,θ,ψ).astype(np.float32)),\n",
    "#                         Re_b(Ret)),tau_force[3:].reshape(3,1)) \n",
    "    \n",
    "#     B_ =(-C1-C2+C3+C4+C5)\n",
    "#     B=(np.einsum('ijk,ik->ij', Re_b(Ret), B_)\n",
    "       \n",
    "#        +C0.squeeze()\n",
    "       \n",
    "#       )\n",
    "\n",
    "#     A2 = Irho_e(Ret).astype(np.float32)\n",
    "#     A3=Π(φ,θ,ψ).astype(np.float32)\n",
    "\n",
    "# #     A=np.einsum('ijk,ikr->ijr',A2,A3)\n",
    "#     A=np.einsum('ijk,ikr->ijr', Re_b(Ret), np.einsum('ijk,ikr->ijr',A2,A3))\n",
    "\n",
    "# ############################################\n",
    "# #     ddφ,ddθ,ddψ = np.linalg.solve(A,B).T\n",
    "# #############################################\n",
    "\n",
    "#     ans_φ=[]\n",
    "#     ans_θ=[]\n",
    "#     ans_ψ=[]\n",
    "#     for i in range(len(A)):\n",
    "#         a,b,c=np.linalg.lstsq(A[i],B[i], rcond=None)[0]\n",
    "#         ans_φ.append(a)\n",
    "#         ans_θ.append(b)\n",
    "#         ans_ψ.append(c)\n",
    "    \n",
    "#     ddφ,ddθ,ddψ=np.array(ans_φ),np.array(ans_θ),np.array(ans_ψ)\n",
    "\n",
    "#     A1111=np.concatenate([dx, ddx, dy, ddy, dz, ddz, dφ, ddφ, dθ, ddθ, dψ, ddψ], axis=0)\n",
    "# #     A1111=np.concatenate([dx, ddx, \n",
    "# #                           np.zeros(node_N), np.zeros(node_N),\n",
    "# #                           dz, ddz,\n",
    "# #                           np.zeros(node_N),  np.zeros(node_N),\n",
    "# #                           np.zeros(node_N), np.zeros(node_N),\n",
    "# #                           np.zeros(node_N),  np.zeros(node_N),\n",
    "# #                           ], axis=0)\n",
    "\n",
    "        \n",
    "\n",
    "# #     print(A1111)\n",
    "#     return A1111"
   ]
  },
  {
   "cell_type": "code",
   "execution_count": 145,
   "metadata": {},
   "outputs": [],
   "source": [
    "# def grayscott1d(Q,p,t):\n",
    "def grayscott1d(t, Q):\n",
    "    print(t)\n",
    "     \n",
    "    x,y,z=Q[0:node_N],Q[2*node_N:3*node_N],Q[4*node_N:5*node_N]\n",
    "#     x[-1]=x0_[-1]+10*np.sin(t)\n",
    "    x[-1]=x0[-1]+10*np.sin(t)\n",
    "    y[-1]+=5*np.cos(t)\n",
    "#     z[-1]=z0_[-1]+2.5*np.sin(t)\n",
    "    z[-1]=z0[-1]+2.5*np.sin(t)\n",
    "\n",
    "#     x[0]=0\n",
    "#     y[0]=0\n",
    "#     z[0]=0\n",
    "\n",
    "    dx,dy,dz=Q[1*node_N:2*node_N],Q[3*node_N:4*node_N],Q[5*node_N:6*node_N]\n",
    "    \n",
    "#     dx[0]=0\n",
    "#     dy[0]=0\n",
    "#     dz[0]=0\n",
    "\n",
    "    φ,θ,ψ=Q[6*node_N:7*node_N],Q[8*node_N:9*node_N],Q[10*node_N:11*node_N]\n",
    "    \n",
    "    Ret = Re_t(φ,θ,ψ)\n",
    "\n",
    "    dφ,dθ,dψ=Q[7*node_N:8*node_N],Q[9*node_N:10*node_N],Q[11*node_N:12*node_N]\n",
    "    \n",
    "    η=[x[-1],y[-1],z[-1],φ[-1],θ[-1],ψ[-1]]\n",
    "    dη=[dx[-1],dy[-1],dz[-1],dφ[-1],dθ[-1],dψ[-1]]\n",
    "    \n",
    "#     left=V.eq_left(η,dη)\n",
    "\n",
    "    # PD controller after 30 sec\n",
    "#     if t<30:\n",
    "#         ddη=np.linalg.lstsq(V.M, -left + tau(η, dη, wave_coef, Fx_0/η[0], 0, t), rcond=None)[0]\n",
    "#     else:\n",
    "\n",
    "#     hack =1\n",
    "#     ddη=np.linalg.lstsq(V.M.astype(np.float32)*hack, left.astype(np.float32) \n",
    "#                         - tau(η,dη, wave_coef, kp, kd, t).astype(np.float32)\n",
    "#                         , rcond=None)[0]\n",
    "#     print('ddη', ddη)\n",
    " \n",
    "#     tau_force = V.tau(η,dη,ddη).astype(np.float32)\n",
    "#     tau_force = tau(η,dη, wave_coef, kp, kd, t) # simple motion \n",
    "#     print(tau_force)\n",
    "#     C=ne(x,y,z,Ret)\n",
    "#     a,b,c=C[:,0],C[:,1],C[:,2]\n",
    "#     Z0=tau_force[:3]\n",
    "#     Z0=tau_force[:3]\n",
    "\n",
    "#     Z0=np.dot(Re_b(Ret),tau_force[:3])\n",
    "   \n",
    "    Z1 =d_s(ne, x, y, z, Ret).T\n",
    "\n",
    "    Z2=ne_(dx,dy,dz,DT,Ret).T\n",
    "    \n",
    "    Z= (Z1 + Z2 \n",
    "#         + Z0\n",
    "       )\n",
    "\n",
    "     \n",
    "############################################################    \n",
    "#     ddx,ddy, ddz = 1/Ws*np.linalg.solve(Re_b(Ret),Z).T \n",
    "############################################################    \n",
    "    ans_x=[]\n",
    "    ans_y=[]\n",
    "    ans_z=[]\n",
    "    RRRR=Re_b(Ret)\n",
    "    for i in range(len(RRRR)):\n",
    "        a,b,c=np.linalg.lstsq(Ws*RRRR[i], Z[i], rcond=None)[0]\n",
    "        ans_x.append(a)\n",
    "        ans_y.append(b)\n",
    "        ans_z.append(c)\n",
    "    \n",
    "    ddx,ddy, ddz = np.array(ans_x),np.array(ans_y),np.array(ans_z) \n",
    "    \n",
    "#     tmp=np.linalg.solve(Ret,np.vstack([ddx_phi, ddy_phi, ddz_phi]).T)\n",
    "#     ddx, ddy, ddz = tmp[:,0],tmp[:,1],tmp[:,2]\n",
    "    \n",
    "    \n",
    " \n",
    "    \n",
    " \n",
    "\n",
    "    C1=np.einsum('ijk,ik->ij', Irho_e(Ret).astype(np.float32),\n",
    "                                                        np.einsum('ijk,ik->ij', Π(dφ,dθ,dψ).astype(np.float32), \n",
    "                                                                  np.array([dφ,dθ,dψ]).astype(np.float32).T))\n",
    "    \n",
    "#     print(np.einsum('ijk,ik->ij',Π(φ,θ,ψ).astype(np.float32),np.array([dφ,dθ,dψ]).astype(np.float32).T))\n",
    "#     print(np.einsum('ijk,ik->ij',Irho_e(Ret).astype(np.float32),\n",
    "#                            np.einsum('ijk,ik->ij',Π(φ,θ,ψ).astype(np.float32),np.array([dφ,dθ,dψ]).astype(np.float32).T)))\n",
    "    C2= np.cross(np.einsum('ijk,ik->ij',Π(φ,θ,ψ).astype(np.float32),np.array([dφ,dθ,dψ]).astype(np.float32).T),\n",
    "                 np.einsum('ijk,ik->ij',Irho_e(Ret).astype(np.float32),\n",
    "                           np.einsum('ijk,ik->ij',Π(φ,θ,ψ).astype(np.float32),np.array([dφ,dθ,dψ]).astype(np.float32).T)))\n",
    "\n",
    "#     C3= d_s(me_[:,0],me_[:,1],me_[:, 2],x,y,z).astype(np.float32).T\n",
    "    C3=d_me(φ,θ,ψ,Ret)\n",
    "#     print(d_s(phi,x,y,z,Ret).T)\n",
    "    C4= np.cross(d_s(phi,x,y,z,Ret).T, ne(x,y,z,Ret))\n",
    "\n",
    "    K1=np.einsum('ijk,ik->ij',Π(φ,θ,ψ).astype(np.float32),np.array([dφ,dθ,dψ]).astype(np.float32).T).T\n",
    "\n",
    "    C5= -np.dot(DR,K1).astype(np.float32).T\n",
    "#     print(np.linalg.inv(Π(φ,θ,ψ).astype(np.float32)).shape)\n",
    "\n",
    "#     C0=np.einsum('ijk,kp->ijp',\n",
    "#                  np.linalg.inv(Π(φ,θ,ψ)), tau_force[3:].reshape(3,1)\n",
    "#                 ) \n",
    "#     C0=np.einsum('ijk,kp->ijp',np.einsum('ijk,ikr->ijr',np.linalg.inv(Π(φ,θ,ψ).astype(np.float32)),\n",
    "#                         Re_b(Ret)),tau_force[3:].reshape(3,1)) \n",
    "#     print(C1.shape,C2.shape,C3.shape,C4.shape,C5.shape)\n",
    "    B_ =(\n",
    "        -C1\n",
    "        -C2\n",
    "        +C3\n",
    "        +C4\n",
    "        +C5\n",
    "    )\n",
    "    B= B_ #+C0.squeeze()\n",
    "       \n",
    "\n",
    "    A2 = Irho_e(Ret).astype(np.float32)\n",
    "    A3=Π(φ,θ,ψ).astype(np.float32)\n",
    "\n",
    "    A=np.einsum('ijk,ikr->ijr',A2,A3)\n",
    "#     A=np.einsum('ijk,ikr->ijr', Re_b(Ret), np.einsum('ijk,ikr->ijr',A2,A3))\n",
    "\n",
    "############################################\n",
    "#     ddφ,ddθ,ddψ = np.linalg.solve(A,B).T\n",
    "#############################################\n",
    "\n",
    "    ans_φ=[]\n",
    "    ans_θ=[]\n",
    "    ans_ψ=[]\n",
    "    for i in range(len(A)):\n",
    "        a,b,c=np.linalg.lstsq(A[i],B[i], rcond=None)[0]\n",
    "        ans_φ.append(a)\n",
    "        ans_θ.append(b)\n",
    "        ans_ψ.append(c)\n",
    "    \n",
    "    ddφ,ddθ,ddψ=np.array(ans_φ),np.array(ans_θ),np.array(ans_ψ)\n",
    "#     ddx[-1],ddy[-1],ddz[-1],ddφ[-1],ddθ[-1],ddψ[-1]=ddη\n",
    "\n",
    "    ddx[0],ddy[0],ddz[0],ddφ[0],ddθ[0],ddψ[0]=0,0,0,0,0,0\n",
    "    A1111=np.concatenate([dx, ddx, dy, ddy, dz, ddz, dφ, ddφ, dθ, ddθ, dψ, ddψ], axis=0)\n",
    "#     A1111=np.concatenate([dx, ddx, \n",
    "#                           np.zeros(node_N), np.zeros(node_N),\n",
    "#                           dz, ddz,\n",
    "#                           np.zeros(node_N),  np.zeros(node_N),\n",
    "#                           np.zeros(node_N), np.zeros(node_N),\n",
    "#                           np.zeros(node_N),  np.zeros(node_N),\n",
    "#                           ], axis=0)\n",
    "\n",
    "        \n",
    "\n",
    "#     print(A1111)\n",
    "    return A1111"
   ]
  },
  {
   "cell_type": "code",
   "execution_count": 146,
   "metadata": {},
   "outputs": [],
   "source": [
    "# ode15s = scipy.integrate.ode(grayscott1d)\n",
    "# # ode15s.set_integrator('vode', method='bdf', order=15, nsteps=3000)\n",
    "# ode15s.set_integrator('vode',  order=15, nsteps=3000)\n",
    "# ode15s.set_initial_value(q0, 0)"
   ]
  },
  {
   "cell_type": "code",
   "execution_count": 147,
   "metadata": {},
   "outputs": [],
   "source": [
    "# tspan = (0., 60)\n",
    "tspan = (0., 10)"
   ]
  },
  {
   "cell_type": "code",
   "execution_count": 148,
   "metadata": {},
   "outputs": [
    {
     "name": "stdout",
     "output_type": "stream",
     "text": [
      "0.0\n",
      "7.27457949690986e-08\n",
      "1.454915899381972e-06\n",
      "2.182373849072958e-06\n",
      "5.819663597527888e-06\n",
      "6.4662928861420975e-06\n",
      "7.27457949690986e-06\n",
      "7.27457949690986e-06\n",
      "1.4749520001029441e-05\n",
      "1.848699025308923e-05\n",
      "3.717434151338819e-05\n",
      "4.049653729299689e-05\n",
      "4.464928201750777e-05\n",
      "4.464928201750777e-05\n",
      "7.666718239971247e-05\n",
      "9.267613259081481e-05\n",
      "0.00017272088354632658\n",
      "0.0001869510614939731\n",
      "0.00020473878392853126\n",
      "0.00020473878392853126\n",
      "0.0003309361134596234\n",
      "0.00039403477822516956\n",
      "0.0007095281020528999\n",
      "0.0007656158040667187\n",
      "0.0008357254315839921\n",
      "0.0008357254315839921\n",
      "0.001321429697333333\n",
      "0.0015642818302080035\n",
      "0.002778542494581356\n",
      "0.002994411057136618\n",
      "0.003264246760330697\n",
      "0.003264246760330697\n",
      "0.005113842676387935\n",
      "0.006038640634416554\n",
      "0.010662630424559647\n",
      "0.01148467305391842\n",
      "0.012512226340616883\n",
      "0.012512226340616883\n",
      "0.016723101302116385\n",
      "0.018828538782866132\n",
      "0.029355726186614885\n",
      "0.03122722616950355\n",
      "0.03356660114811438\n",
      "0.03356660114811438\n",
      "0.014878958158301162\n",
      "0.0160623240671433\n",
      "0.021979153611353996\n",
      "0.02303103441921367\n",
      "0.02434588542903827\n",
      "0.02434588542903827\n",
      "0.02671261724672255\n",
      "0.02789598315556469\n",
      "0.03381281269977538\n",
      "0.03486469350763506\n",
      "0.03617954451745966\n",
      "0.03617954451745966\n",
      "0.03950684330118554\n",
      "0.04117049269304848\n",
      "0.049488739652363195\n",
      "0.05096753911179692\n",
      "0.05281603843608908\n",
      "0.05281603843608908\n",
      "0.056725934847209405\n",
      "0.05868088305276958\n",
      "0.0684556240805704\n",
      "0.0701933558188461\n",
      "0.07236552049169073\n",
      "0.07236552049169073\n",
      "0.07765349205397483\n",
      "0.08029747783511688\n",
      "0.09351740674082713\n",
      "0.09586761632406451\n",
      "0.09880537830311123\n",
      "0.09880537830311123\n",
      "0.10540827082110961\n",
      "0.1087097170801088\n",
      "0.12521694837510478\n",
      "0.12815156727199292\n",
      "0.13181984089310314\n",
      "0.13181984089310314\n",
      "0.13845362887291182\n",
      "0.1417705228628162\n",
      "0.15835499281233792\n",
      "0.16130334302558622\n",
      "0.1649887807921466\n",
      "0.1649887807921466\n",
      "0.13723895991912702\n",
      "0.13994851943213896\n",
      "0.15349631699719865\n",
      "0.15590481434209816\n",
      "0.15891543602322253\n",
      "0.15891543602322253\n",
      "0.1643345550492464\n",
      "0.16704411456225834\n",
      "0.18059191212731804\n",
      "0.18300040947221755\n",
      "0.18601103115334192\n",
      "0.18601103115334192\n",
      "0.1919477795650612\n",
      "0.19491615377092086\n",
      "0.20975802480021913\n",
      "0.21239657964987213\n",
      "0.21569477321193842\n",
      "0.21569477321193842\n",
      "0.22178620431882526\n",
      "0.2248319198722687\n",
      "0.24006049763948584\n",
      "0.24276780035365775\n",
      "0.24615192874637268\n",
      "0.24615192874637268\n",
      "0.2518565532221327\n",
      "0.2547088654600127\n",
      "0.2689704266494128\n",
      "0.27150581530530615\n",
      "0.2746750511251728\n",
      "0.2746750511251728\n",
      "0.27997462432882003\n",
      "0.2826244109306436\n",
      "0.29587334393976167\n",
      "0.29822870980804933\n",
      "0.3011729171434089\n",
      "0.3011729171434089\n",
      "0.30655210186785875\n",
      "0.3092416942300837\n",
      "0.32268965604120836\n",
      "0.3250804048076305\n",
      "0.32806884076565823\n",
      "0.32806884076565823\n",
      "0.33389621904943184\n",
      "0.3368099081913186\n",
      "0.35137835390075267\n",
      "0.35396829980465205\n",
      "0.3572057321845263\n",
      "0.3572057321845263\n",
      "0.36328000497821\n",
      "0.3663171413750519\n",
      "0.3815028233592612\n",
      "0.38420250015645396\n",
      "0.38757709615294494\n",
      "0.38757709615294494\n",
      "0.39339289892104484\n",
      "0.3963008003050948\n",
      "0.4108403072253445\n",
      "0.4134251084556111\n",
      "0.4166561099934444\n",
      "0.4166561099934444\n",
      "0.4220643336642207\n",
      "0.42476844549960885\n",
      "0.43828900467654963\n",
      "0.4406926596413391\n",
      "0.44369722834732594\n",
      "0.44369722834732594\n",
      "0.4490661379228667\n",
      "0.45175059271063706\n",
      "0.4651728666494889\n",
      "0.4675590486830626\n",
      "0.4705417762250297\n",
      "0.4705417762250297\n",
      "0.47627838013891893\n",
      "0.4791466820958636\n",
      "0.49348819188058674\n",
      "0.49603779362009304\n",
      "0.499224795794476\n",
      "0.499224795794476\n",
      "0.5052704690315296\n",
      "0.5082933056500564\n",
      "0.5234074887426904\n",
      "0.5260944546258254\n",
      "0.529453161979744\n",
      "0.529453161979744\n",
      "0.535361311634581\n",
      "0.5383153864619995\n",
      "0.553085760599092\n",
      "0.5557116048901306\n",
      "0.558993910253929\n",
      "0.558993910253929\n",
      "0.564512880912246\n",
      "0.5672723662414045\n",
      "0.5810697928871971\n",
      "0.583522668735338\n",
      "0.5865887635455141\n",
      "0.5865887635455141\n",
      "0.5919687994582326\n",
      "0.5946588174145917\n",
      "0.6081089071963878\n",
      "0.610500034268707\n",
      "0.6134889431091062\n",
      "0.6134889431091062\n",
      "0.6191498790992338\n",
      "0.6219803470942976\n",
      "0.6361326870696166\n",
      "0.6386486586207845\n",
      "0.6417936230597442\n",
      "0.6417936230597442\n",
      "0.6478039096096605\n",
      "0.6508090528846188\n",
      "0.6658347692594097\n",
      "0.6685060077260391\n",
      "0.671845055809326\n",
      "0.671845055809326\n",
      "0.6778328809655428\n",
      "0.6808267935436513\n",
      "0.6957963564341935\n",
      "0.6984576120591788\n",
      "0.7017841815904103\n",
      "0.7017841815904103\n",
      "0.7074169341882368\n",
      "0.7102333104871501\n",
      "0.7243151919817165\n",
      "0.7268186375807504\n",
      "0.7299479445795429\n",
      "0.7299479445795429\n",
      "0.7353554099775854\n",
      "0.7380591426766065\n",
      "0.7515778061717127\n",
      "0.7539811241263983\n",
      "0.7569852715697551\n",
      "0.7569852715697551\n",
      "0.7625806001649832\n",
      "0.7653782644625973\n",
      "0.7793665859506675\n",
      "0.7818533986596578\n",
      "0.7849619145458956\n",
      "0.7849619145458956\n",
      "0.79093009817213\n",
      "0.7939141899852473\n",
      "0.8088346490508335\n",
      "0.8114871751069376\n",
      "0.8148028326770679\n",
      "0.8148028326770679\n",
      "0.820862173317075\n",
      "0.8238918436370785\n",
      "0.8390401952370962\n",
      "0.8417332355215438\n",
      "0.8450995358771033\n",
      "0.8450995358771033\n",
      "0.8508533456487715\n",
      "0.8537302505346056\n",
      "0.868114774963776\n",
      "0.870672023751184\n",
      "0.8738685847354442\n",
      "0.8738685847354442\n",
      "0.8793186447455388\n",
      "0.8820436747505862\n",
      "0.8956688247758229\n",
      "0.8980910736691983\n",
      "0.9011188847859175\n",
      "0.9011188847859175\n",
      "0.9066530977446216\n",
      "0.9094202042239735\n",
      "0.9232557366207335\n",
      "0.925715386824602\n",
      "0.9287899495794375\n",
      "0.9287899495794375\n",
      "0.9347046197628585\n",
      "0.937661954854569\n",
      "0.9524486303131215\n",
      "0.9550773726168642\n",
      "0.9583633004965425\n",
      "0.9583633004965425\n",
      "0.9644874455723551\n",
      "0.9675495181102614\n",
      "0.9828598807997927\n",
      "0.9855817230557095\n",
      "0.9889840258756053\n",
      "0.9889840258756053\n",
      "0.994873384169023\n",
      "0.9978180633157319\n",
      "1.0125414590492763\n",
      "1.0151589516241286\n",
      "1.018430817342694\n",
      "1.018430817342694\n",
      "1.0239429297603146\n",
      "1.0266989859691251\n",
      "1.0404792670131768\n",
      "1.0429290947543417\n",
      "1.0459913794307976\n",
      "1.0459913794307976\n",
      "1.0514641395657287\n",
      "1.0542005196331945\n",
      "1.0678824199705226\n",
      "1.0703147578082697\n",
      "1.0733551801054537\n",
      "1.0733551801054537\n",
      "1.0791944449397797\n",
      "1.0821140773569426\n",
      "1.0967122394427573\n",
      "1.0993074682580133\n",
      "1.1025515042770833\n",
      "1.1025515042770833\n",
      "1.1087295578506215\n",
      "1.1118185846373907\n",
      "1.1272637185712364\n",
      "1.1300095201594758\n",
      "1.1334417721447747\n",
      "1.1334417721447747\n",
      "1.1394914452318106\n",
      "1.1425162817753287\n",
      "1.1576404644929186\n",
      "1.1603292080871568\n",
      "1.1636901375799544\n",
      "1.1636901375799544\n",
      "1.1692958648376768\n",
      "1.172098728466538\n",
      "1.186113046610844\n",
      "1.1886044809476095\n",
      "1.1917187738685664\n",
      "1.1917187738685664\n",
      "1.1971281146824564\n",
      "1.1998327850894013\n",
      "1.2133561371241262\n",
      "1.2157602885969663\n",
      "1.2187654779380162\n",
      "1.2187654779380162\n",
      "1.2244905500016163\n",
      "1.2273530860334163\n",
      "1.2416657661924169\n",
      "1.244210242665128\n",
      "1.247390838256017\n",
      "1.247390838256017\n",
      "1.2535973984746653\n",
      "1.2567006785839896\n",
      "1.2722170791306107\n",
      "1.2749755503388986\n",
      "1.278423639349259\n",
      "1.278423639349259\n",
      "1.2846699871884208\n",
      "1.287793161108002\n",
      "1.303409030705907\n",
      "1.30618518530109\n",
      "1.3096553785450689\n",
      "1.3096553785450689\n",
      "1.3154114681106048\n",
      "1.3182895128933727\n",
      "1.3326797368072127\n",
      "1.3352379988363399\n",
      "1.3384358263727487\n",
      "1.3384358263727487\n",
      "1.3437866975607933\n",
      "1.3464621331548154\n",
      "1.3598393111249267\n",
      "1.362217476097391\n",
      "1.3651901823129713\n",
      "1.3651901823129713\n",
      "1.3707384761349046\n",
      "1.3735126230458712\n",
      "1.3873833576007044\n",
      "1.3898492659660082\n",
      "1.3929316514226378\n",
      "1.3929316514226378\n",
      "1.3991068021371484\n",
      "1.4021943774944037\n",
      "1.41763225428068\n",
      "1.4203767657093516\n",
      "1.4238074049951908\n",
      "1.4238074049951908\n",
      "1.4302935947867859\n",
      "1.4335366896825832\n",
      "1.4497521641615707\n",
      "1.4526349151800575\n",
      "1.4562383539531658\n",
      "1.4562383539531658\n",
      "1.46225018277927\n",
      "1.4652560971923223\n",
      "1.480285669257583\n",
      "1.4829575931802959\n",
      "1.4862974980836872\n",
      "1.4862974980836872\n",
      "1.4615648505413343\n",
      "1.4642280988354186\n",
      "1.47754434030584\n",
      "1.4799116721228036\n",
      "1.4828708368940084\n",
      "1.4828708368940084\n",
      "1.488197333482177\n",
      "1.4908605817762612\n",
      "1.5041768232466826\n",
      "1.5065441550636463\n",
      "1.509503319834851\n",
      "1.509503319834851\n",
      "1.5157381521329478\n",
      "1.5188555682819962\n",
      "1.534442649027238\n",
      "1.5372136856041698\n",
      "1.5406774813253348\n",
      "1.5406774813253348\n",
      "1.5475482598997568\n",
      "1.5509836491869677\n",
      "1.5681605956230227\n",
      "1.5712142749894324\n",
      "1.5750313741974447\n",
      "1.5750313741974447\n",
      "1.5813064561475427\n",
      "1.5844439971225917\n",
      "1.6001317019978365\n",
      "1.6029206273089913\n",
      "1.6064067839479346\n",
      "1.6064067839479346\n",
      "1.5801852825273561\n",
      "1.582762236692312\n",
      "1.5956470075170908\n",
      "1.5979376334414959\n",
      "1.6008009158470022\n",
      "1.6008009158470022\n",
      "1.6059548241769137\n",
      "1.6085317783418696\n",
      "1.6214165491666483\n",
      "1.6237071750910534\n",
      "1.6265704574965598\n",
      "1.6265704574965598\n",
      "1.6330336126443468\n",
      "1.6362651902182404\n",
      "1.6524230780877078\n",
      "1.6552955914867242\n",
      "1.6588862332354948\n",
      "1.6588862332354948\n",
      "1.666278882502557\n",
      "1.669975207136088\n",
      "1.6884568303037433\n",
      "1.6917424522002154\n",
      "1.6958494795708055\n",
      "1.6958494795708055\n",
      "1.665327631431833\n",
      "1.6685483305300022\n",
      "1.684651826020848\n",
      "1.6875146696636651\n",
      "1.6910932242171863\n",
      "1.6910932242171863\n",
      "1.6975346224135246\n",
      "1.7007553215116937\n",
      "1.7168588170025396\n",
      "1.7197216606453567\n",
      "1.7233002151988779\n",
      "1.7233002151988779\n",
      "1.7292943762098332\n",
      "1.732291456715311\n",
      "1.747276859242699\n",
      "1.7499409308031235\n",
      "1.7532710202536543\n",
      "1.7532710202536543\n",
      "1.758678609651721\n",
      "1.7613824043507547\n",
      "1.7749013778459217\n",
      "1.777304750911729\n",
      "1.7803089672439885\n",
      "1.7803089672439885\n",
      "1.7857240833417507\n",
      "1.7884316413906318\n",
      "1.8019694316350376\n",
      "1.8043761499007098\n",
      "1.8073845477327999\n",
      "1.8073845477327999\n",
      "1.8135100721331896\n",
      "1.8165728343333842\n",
      "1.8318866453343583\n",
      "1.8346091006234204\n",
      "1.838012169734748\n",
      "1.838012169734748\n",
      "1.8448354789851176\n",
      "1.8482471336103024\n",
      "1.8653054067362262\n",
      "1.8683379886252793\n",
      "1.8721287159865958\n",
      "1.8721287159865958\n",
      "1.8786274350017989\n",
      "1.8818767945094004\n",
      "1.8981235920474082\n",
      "1.9010119116097206\n",
      "1.9046223110626113\n",
      "1.9046223110626113\n",
      "1.8775445217522433\n",
      "1.8802524246350671\n",
      "1.8937919390491862\n",
      "1.8961989638339183\n",
      "1.8992077448148337\n",
      "1.8992077448148337\n",
      "1.9046235505804812\n",
      "1.907331453463305\n"
     ]
    },
    {
     "name": "stdout",
     "output_type": "stream",
     "text": [
      "1.920870967877424\n",
      "1.9232779926621562\n",
      "1.9262867736430715\n",
      "1.9262867736430715\n",
      "1.9328062795678722\n",
      "1.9360660325302725\n",
      "1.952364797342274\n",
      "1.9552623555310742\n",
      "1.9588843032670746\n",
      "1.9588843032670746\n",
      "1.9661883869514207\n",
      "1.9698404287935938\n",
      "1.9881006380044588\n",
      "1.9913468974197237\n",
      "1.995404721688805\n",
      "1.995404721688805\n",
      "1.965314260048675\n",
      "1.9685292384394752\n",
      "1.9846041303934765\n",
      "1.9874618889630766\n",
      "1.991034087175077\n",
      "1.991034087175077\n",
      "1.9974640439566773\n",
      "2.0006790223474775\n",
      "2.0167539143014785\n",
      "2.0196116728710787\n",
      "2.023183871083079\n",
      "2.023183871083079\n",
      "2.0292787830537926\n",
      "2.032326239039149\n",
      "2.0475635189659327\n",
      "2.0502723687306945\n",
      "2.0536584309366464\n",
      "2.0536584309366464\n",
      "2.059211626132866\n",
      "2.0619882237309755\n",
      "2.0758712117215237\n",
      "2.078339298475399\n",
      "2.081424406917743\n",
      "2.081424406917743\n",
      "2.086899622341445\n",
      "2.0896372300532957\n",
      "2.1033252686125503\n",
      "2.105758697689751\n",
      "2.108800484036252\n",
      "2.108800484036252\n",
      "2.114882319125195\n",
      "2.1179232366696663\n",
      "2.133127824392023\n",
      "2.135830862209331\n",
      "2.139209659480966\n",
      "2.139209659480966\n",
      "2.1460535947440316\n",
      "2.149475562375564\n",
      "2.1665854005332275\n",
      "2.1696271495390347\n",
      "2.173429335796293\n",
      "2.173429335796293\n",
      "2.180138427543133\n",
      "2.1834929734165525\n",
      "2.200265702783651\n",
      "2.2032475213378024\n",
      "2.206974794530491\n",
      "2.206974794530491\n",
      "2.179034120476473\n",
      "2.1818365128165627\n",
      "2.1958484745170117\n",
      "2.198339489930425\n",
      "2.2014532591971916\n",
      "2.2014532591971916\n",
      "2.2070580438773715\n",
      "2.209860436217461\n",
      "2.2238723979179102\n",
      "2.2263634133313235\n",
      "2.22947718259809\n",
      "2.22947718259809\n",
      "2.236073413729653\n",
      "2.239371529295435\n",
      "2.2558621071243423\n",
      "2.258793765405037\n",
      "2.262458338255905\n",
      "2.262458338255905\n",
      "2.2697338895056878\n",
      "2.273371665130579\n",
      "2.291560543255036\n",
      "2.294794121588273\n",
      "2.2988360945048187\n",
      "2.2988360945048187\n",
      "2.2688666992215656\n",
      "2.2720708797043954\n",
      "2.288091782118546\n",
      "2.2909399425477286\n",
      "2.2945001430842065\n",
      "2.2945001430842065\n",
      "2.300908504049867\n",
      "2.3041126845326967\n",
      "2.3201335869468473\n",
      "2.32298174737603\n",
      "2.326541947912508\n",
      "2.326541947912508\n",
      "2.3327484548143356\n",
      "2.33585170826525\n",
      "2.35136797551982\n",
      "2.3541264230317434\n",
      "2.3575744824216476\n",
      "2.3575744824216476\n",
      "2.3632935864913587\n",
      "2.3661531385262147\n",
      "2.380450898700493\n",
      "2.3829927227314753\n",
      "2.386170002770204\n",
      "2.386170002770204\n",
      "2.391698428504589\n",
      "2.3944626413717818\n",
      "2.4082837057077446\n",
      "2.410740783811916\n",
      "2.4138121314421297\n",
      "2.4138121314421297\n",
      "2.4197840715472934\n",
      "2.422770041599875\n",
      "2.4376998918627835\n",
      "2.4403540874650784\n",
      "2.443671831967947\n",
      "2.443671831967947\n",
      "2.45042403082371\n",
      "2.453800130251592\n",
      "2.470680627391\n",
      "2.4736816046602277\n",
      "2.477432826246763\n",
      "2.477432826246763\n",
      "2.4843397124209523\n",
      "2.4877931555080472\n",
      "2.505060370943521\n",
      "2.5081300981320496\n",
      "2.5119672571177105\n",
      "2.5119672571177105\n",
      "2.4833540188054912\n",
      "2.486314615084855\n",
      "2.5011175964816763\n",
      "2.503749237618889\n",
      "2.5070387890404047\n",
      "2.5070387890404047\n",
      "2.512959981599133\n",
      "2.5159205778784974\n",
      "2.530723559275318\n",
      "2.533355200412531\n",
      "2.5366447518340465\n",
      "2.5366447518340465\n",
      "2.543164714439382\n",
      "2.5464246957420498\n",
      "2.562724602255388\n",
      "2.565622363413315\n",
      "2.5692445648607234\n",
      "2.5692445648607234\n",
      "2.576004914846732\n",
      "2.579385089839736\n",
      "2.5962859648047565\n",
      "2.599290564798538\n",
      "2.603046314790765\n",
      "2.603046314790765\n",
      "2.609152671051655\n",
      "2.6122058491821\n",
      "2.627471739834325\n",
      "2.630185675950276\n",
      "2.633578096095215\n",
      "2.633578096095215\n",
      "2.608286227065509\n",
      "2.610906183202881\n",
      "2.624005963889741\n",
      "2.626334813789627\n",
      "2.629245876164485\n",
      "2.629245876164485\n",
      "2.634485788439229\n",
      "2.637105744576601\n",
      "2.650205525263461\n",
      "2.6525343751633472\n",
      "2.655445437538205\n",
      "2.655445437538205\n",
      "2.662236911336361\n",
      "2.6656326482354387\n",
      "2.6826113327308283\n",
      "2.6856297655300088\n",
      "2.6894028065289843\n",
      "2.6894028065289843\n",
      "2.698160092155681\n",
      "2.7025387349690293\n",
      "2.7244319490357705\n",
      "2.728324075980969\n",
      "2.733189234662467\n",
      "2.733189234662467\n",
      "2.697173914627779\n",
      "2.701059468677177\n",
      "2.7204872389241643\n",
      "2.723941064745851\n",
      "2.728258347022959\n",
      "2.728258347022959\n",
      "2.736029455121754\n",
      "2.7399150091711517\n",
      "2.759342779418139\n",
      "2.7627966052398256\n",
      "2.767113887516934\n",
      "2.767113887516934\n",
      "2.734154863279445\n",
      "2.7371031214076877\n",
      "2.7518444120489023\n",
      "2.754465085940674\n",
      "2.757740928305388\n",
      "2.757740928305388\n",
      "2.763637444561874\n",
      "2.766585702690117\n",
      "2.7813269933313314\n",
      "2.783947667223103\n",
      "2.7872235095878173\n",
      "2.7872235095878173\n",
      "2.794257309842518\n",
      "2.7977742099698686\n",
      "2.8153587106066205\n",
      "2.818484844053154\n",
      "2.822392510861321\n",
      "2.822392510861321\n",
      "2.8298949334390997\n",
      "2.8336461447279886\n",
      "2.852402201172435\n",
      "2.855736611207003\n",
      "2.8599046237502135\n",
      "2.8599046237502135\n",
      "2.828493695385476\n",
      "2.831544287647553\n",
      "2.84679724895794\n",
      "2.849508886524231\n",
      "2.852898433482095\n",
      "2.852898433482095\n",
      "2.8589996180062496\n",
      "2.862050210268327\n",
      "2.877303171578714\n",
      "2.880014809145005\n",
      "2.8834043561028686\n",
      "2.8834043561028686\n",
      "2.890109195743279\n",
      "2.8934616155634845\n",
      "2.9102237146645105\n",
      "2.9132036433935817\n",
      "2.916928554304921\n",
      "2.916928554304921\n",
      "2.9236428171875817\n",
      "2.9269999486289118\n",
      "2.9437856058355636\n",
      "2.9467697226723018\n",
      "2.9504998687182242\n",
      "2.9504998687182242\n",
      "2.922761705286493\n",
      "2.925678280777279\n",
      "2.940261158231209\n",
      "2.9428536697785743\n",
      "2.946094309212781\n",
      "2.946094309212781\n",
      "2.9519274601943533\n",
      "2.9548440356851393\n",
      "2.969426913139069\n",
      "2.9720194246864344\n",
      "2.9752600641206413\n",
      "2.9752600641206413\n",
      "2.9818388927782804\n",
      "2.9851283071071\n",
      "3.001575378751198\n",
      "3.0044993025990374\n",
      "3.008154207408837\n",
      "3.008154207408837\n",
      "3.0152042399462027\n",
      "3.0187292562148857\n",
      "3.0363543375583\n",
      "3.039487685352685\n",
      "3.043404370095666\n",
      "3.043404370095666\n",
      "3.0144722469513994\n",
      "3.0176312667226806\n",
      "3.033426365579087\n",
      "3.036234383153559\n",
      "3.0397444051216493\n",
      "3.0397444051216493\n",
      "3.0460624446642117\n",
      "3.049221464435493\n",
      "3.0650165632918993\n",
      "3.0678245808663713\n",
      "3.0713346028344617\n",
      "3.0713346028344617\n",
      "3.0776296238360112\n",
      "3.080777134336786\n",
      "3.0965146868406594\n",
      "3.0993124739524593\n",
      "3.102809707842209\n",
      "3.102809707842209\n",
      "3.108756902388101\n",
      "3.1117304996610473\n",
      "3.126598486025778\n",
      "3.12924168360173\n",
      "3.13254568057167\n",
      "3.13254568057167\n",
      "3.138184919873696\n",
      "3.141004539524709\n",
      "3.155102637779774\n",
      "3.1576089663584526\n",
      "3.1607418770818003\n",
      "3.1607418770818003\n",
      "3.1665341291165316\n",
      "3.1694302551338973\n",
      "3.183910885220726\n",
      "3.1864852194583846\n",
      "3.1897031372554574\n",
      "3.1897031372554574\n",
      "3.1961192381245214\n",
      "3.1993272885590534\n",
      "3.2153675407317137\n",
      "3.2182191411179644\n",
      "3.2217836416007777\n",
      "3.2217836416007777\n",
      "3.2286875336945697\n",
      "3.232139479741466\n",
      "3.249399209975947\n",
      "3.2524676064620763\n",
      "3.256303102069739\n",
      "3.256303102069739\n",
      "3.262698844351347\n",
      "3.265896715492151\n",
      "3.281886071196171\n",
      "3.28472862332133\n",
      "3.288281813477779\n",
      "3.288281813477779\n",
      "3.261596190360002\n",
      "3.264242734505134\n",
      "3.277475455230792\n",
      "3.2798279389153535\n",
      "3.282768543521055\n",
      "3.282768543521055\n",
      "3.2880616318113183\n",
      "3.2907081759564503\n",
      "3.3039408966821084\n",
      "3.30629338036667\n",
      "3.3092339849723715\n",
      "3.3092339849723715\n",
      "3.3161484786196254\n",
      "3.3196057254432523\n",
      "3.336891959561387\n",
      "3.339965067849055\n",
      "3.3438064532086407\n",
      "3.3438064532086407\n",
      "3.3527880191097807\n",
      "3.357278802060351\n",
      "3.379732716813202\n",
      "3.383724523880375\n",
      "3.388714282714342\n",
      "3.388714282714342\n",
      "3.351605776681842\n",
      "3.355505438418443\n",
      "3.3750037471014465\n",
      "3.378470113089536\n",
      "3.382803070574648\n",
      "3.382803070574648\n",
      "3.3906023940478494\n",
      "3.39450205578445\n",
      "3.4140003644674537\n",
      "3.4174667304555433\n",
      "3.421799687940655\n",
      "3.421799687940655\n",
      "3.388781221999928\n",
      "3.3917702977125677\n",
      "3.4067156762757675\n",
      "3.409372632464781\n",
      "3.4126938277010477\n",
      "3.4126938277010477\n",
      "3.418671979126328\n",
      "3.4216610548389674\n",
      "3.4366064334021673\n",
      "3.4392633895911806\n",
      "3.4425845848274474\n",
      "3.4425845848274474\n",
      "3.449511776471812\n",
      "3.452975372293994\n",
      "3.470293351404905\n",
      "3.4733721032468448\n",
      "3.4772205430492695\n",
      "3.4772205430492695\n",
      "3.484345759232547\n",
      "3.4879083673241853\n",
      "3.505721407782378\n",
      "3.5088881705305015\n",
      "3.5128466239656553\n",
      "3.5128466239656553\n",
      "3.4830670618947606\n",
      "3.485990321317506\n",
      "3.500606618431234\n",
      "3.503205071251452\n",
      "3.506453137276725\n",
      "3.506453137276725\n",
      "3.512299656122216\n",
      "3.5152229155449617\n",
      "3.5298392126586897\n",
      "3.532437665478908\n",
      "3.5356857315041808\n",
      "3.5356857315041808\n",
      "3.542361909745692\n",
      "3.545699998866448\n",
      "3.562390444470227\n",
      "3.5653576347997875\n",
      "3.5690666227117385\n",
      "3.5690666227117385\n",
      "3.576097993413436\n",
      "3.579613678764284\n",
      "3.597192105518527\n",
      "3.6003171591637257\n",
      "3.6042234762202243\n",
      "3.6042234762202243\n",
      "3.5751387182440575\n",
      "3.578174766010217\n",
      "3.593355004841014\n",
      "3.5960537139664894\n",
      "3.599427100373333\n",
      "3.599427100373333\n",
      "3.605499195905652\n",
      "3.6085352436718114\n",
      "3.6237154825026088\n",
      "3.626414191628084\n",
      "3.629787578034928\n",
      "3.629787578034928\n",
      "3.6361800772852266\n",
      "3.639376326910376\n",
      "3.655357575036123\n",
      "3.6581986858140336\n",
      "3.661750074286422\n",
      "3.661750074286422\n",
      "3.668053096540886\n",
      "3.6712046076681175\n",
      "3.686962163304277\n",
      "3.6897635065284833\n",
      "3.693265185558741\n",
      "3.693265185558741\n",
      "3.699028498743736\n",
      "3.701910155336233\n",
      "3.7163184382987198\n",
      "3.7188799108253843\n",
      "3.7220817514837146\n",
      "3.7220817514837146\n",
      "3.7274598293117056\n",
      "3.730148868225701\n",
      "3.7435940627956783\n",
      "3.7459843196081186\n",
      "3.7489721406236693\n",
      "3.7489721406236693\n",
      "3.7546509342096894\n",
      "3.7574903310026997\n",
      "3.7716873149677497\n",
      "3.7742112232282032\n",
      "3.7773661085537698\n",
      "3.7773661085537698\n",
      "3.783930049153198\n",
      "3.787212019452912\n",
      "3.8036218709514826\n",
      "3.806539177884562\n",
      "3.810185811550911\n",
      "3.810185811550911\n",
      "3.8172779511522577\n",
      "3.820824020952931\n",
      "3.838554369956298\n",
      "3.8417064320013408\n",
      "3.8456465095576444\n"
     ]
    },
    {
     "name": "stdout",
     "output_type": "stream",
     "text": [
      "3.8456465095576444\n",
      "3.8163953130675687\n",
      "3.8195000638258976\n",
      "3.835023817617542\n",
      "3.83778359606939\n",
      "3.8412333191342\n",
      "3.8412333191342\n",
      "3.8474428206508575\n",
      "3.8505475714091864\n",
      "3.866071325200831\n",
      "3.8688311036526786\n",
      "3.8722808267174886\n",
      "3.8722808267174886\n",
      "3.87849216203627\n",
      "3.8815978296956604\n",
      "3.8971261679926132\n",
      "3.899886761467627\n",
      "3.9033375033113944\n",
      "3.9033375033113944\n",
      "3.9092023123389614\n",
      "3.912134716852745\n",
      "3.9267967394216625\n",
      "3.929403321211692\n",
      "3.9326615484492295\n",
      "3.9326615484492295\n",
      "3.9381998386880124\n",
      "3.940968983807404\n",
      "3.954814709404361\n",
      "3.9572761717327087\n",
      "3.9603529996431437\n",
      "3.9603529996431437\n",
      "3.966012402142449\n",
      "3.9688421033921015\n",
      "3.982990609640365\n",
      "3.9855058996400565\n",
      "3.9886500121396704\n",
      "3.9886500121396704\n",
      "3.994868412641059\n",
      "3.9979776128917535\n",
      "4.013523614145225\n",
      "4.016287347701398\n",
      "4.019742014646614\n",
      "4.019742014646614\n",
      "4.02636371386122\n",
      "4.029674563468523\n",
      "4.046228811505039\n",
      "4.049171788933753\n",
      "4.0528505107196455\n",
      "4.0528505107196455\n",
      "4.059034607724357\n",
      "4.062126656226712\n",
      "4.07758689873849\n",
      "4.08033538629614\n",
      "4.083770995743201\n",
      "4.083770995743201\n",
      "4.058154268110512\n",
      "4.060806146805945\n",
      "4.074065540283109\n",
      "4.076422765790161\n",
      "4.079369297673975\n",
      "4.079369297673975\n",
      "4.084673055064841\n",
      "4.087324933760274\n",
      "4.1005843272374385\n",
      "4.102941552744491\n",
      "4.105888084628305\n",
      "4.105888084628305\n",
      "4.112361587491015\n",
      "4.11559833892237\n",
      "4.131782096079146\n",
      "4.134659208462573\n",
      "4.138255598941856\n",
      "4.138255598941856\n",
      "4.145706588935011\n",
      "4.149432083931588\n",
      "4.168059558914473\n",
      "4.171371110022542\n",
      "4.175510548907628\n",
      "4.175510548907628\n",
      "4.144771726713024\n",
      "4.148029790598608\n",
      "4.164320110026528\n",
      "4.167216166813715\n",
      "4.170836237797697\n",
      "4.170836237797697\n",
      "4.177352365568865\n",
      "4.180610429454449\n",
      "4.196900748882369\n",
      "4.199796805669555\n",
      "4.203416876653537\n",
      "4.203416876653537\n",
      "4.209388225508862\n",
      "4.212373899936525\n",
      "4.227302272074836\n",
      "4.229956204899425\n",
      "4.233273620930161\n",
      "4.233273620930161\n",
      "4.208634120407067\n",
      "4.211242742283833\n",
      "4.22428585166766\n",
      "4.2266046266692285\n",
      "4.22950309542119\n",
      "4.22950309542119\n",
      "4.234720339174721\n",
      "4.237328961051486\n",
      "4.250372070435313\n",
      "4.252690845436882\n",
      "4.2555893141888435\n",
      "4.2555893141888435\n",
      "4.261970000421914\n",
      "4.265160343538449\n",
      "4.281112059121126\n",
      "4.283947919669157\n",
      "4.287492745354196\n",
      "4.287492745354196\n",
      "4.294856062584686\n",
      "4.2985377211999305\n",
      "4.316946014276154\n",
      "4.320218599711928\n",
      "4.324309331506644\n",
      "4.324309331506644\n",
      "4.293987013055337\n",
      "4.2972341469059065\n",
      "4.313469816158757\n",
      "4.316356157359264\n",
      "4.319964083859897\n",
      "4.319964083859897\n",
      "4.326458351561038\n",
      "4.3297054854116075\n",
      "4.345941154664458\n",
      "4.348827495864965\n",
      "4.352435422365598\n",
      "4.352435422365598\n",
      "4.358329851665348\n",
      "4.361277066315224\n",
      "4.376013139564599\n",
      "4.378632885920044\n",
      "4.381907568864349\n",
      "4.381907568864349\n",
      "4.357586153069483\n",
      "4.3601615184214255\n",
      "4.373038345181137\n",
      "4.375327558827308\n",
      "4.378189075885022\n",
      "4.378189075885022\n",
      "4.383339806588906\n",
      "4.385915171940849\n",
      "4.398791998700561\n",
      "4.401081212346732\n",
      "4.403942729404445\n",
      "4.403942729404445\n",
      "4.410268617475451\n",
      "4.4134315615109525\n",
      "4.4292462816884655\n",
      "4.4320577874978015\n",
      "4.435572169759471\n",
      "4.435572169759471\n",
      "4.44285498089869\n",
      "4.4464963864683\n",
      "4.464703414316348\n",
      "4.4679402192671125\n",
      "4.471986225455567\n",
      "4.471986225455567\n",
      "4.441998804395572\n",
      "4.445212121713622\n",
      "4.461278708303874\n",
      "4.464134990364364\n",
      "4.467705342939976\n",
      "4.467705342939976\n",
      "4.474131977576077\n",
      "4.477345294894127\n",
      "4.493411881484379\n",
      "4.496268163544869\n",
      "4.49983851612048\n",
      "4.49983851612048\n",
      "4.5056929037954125\n",
      "4.508620097632878\n",
      "4.52325606682021\n",
      "4.525858016897957\n",
      "4.529110454495142\n",
      "4.529110454495142\n",
      "4.50500183251292\n",
      "4.507583490709139\n",
      "4.5204917816902395\n",
      "4.522786588975769\n",
      "4.525655098082679\n",
      "4.525655098082679\n",
      "4.530818414475119\n",
      "4.5334000726713395\n",
      "4.546308363652439\n",
      "4.548603170937968\n",
      "4.5514716800448785\n",
      "4.5514716800448785\n",
      "4.557707520656611\n",
      "4.560825440962477\n",
      "4.576415042491808\n",
      "4.579186527208134\n",
      "4.582650883103541\n",
      "4.582650883103541\n",
      "4.589705193372837\n",
      "4.593232348507486\n",
      "4.610868124180729\n",
      "4.614003373189305\n",
      "4.617922434450025\n",
      "4.617922434450025\n",
      "4.588943821250519\n",
      "4.592090290324007\n",
      "4.607822635691452\n",
      "4.610619497090109\n",
      "4.61411557383843\n",
      "4.61411557383843\n",
      "4.620408511985408\n",
      "4.623554981058897\n",
      "4.6392873264263415\n",
      "4.642084187824999\n",
      "4.6455802645733195\n",
      "4.6455802645733195\n",
      "4.651401421949937\n",
      "4.654312000638246\n",
      "4.668864894079791\n",
      "4.671452075136065\n",
      "4.674686051456408\n",
      "4.674686051456408\n",
      "4.6799372851871555\n",
      "4.6825629020525295\n",
      "4.6956909863793985\n",
      "4.698024868037508\n",
      "4.700942220110146\n",
      "4.700942220110146\n",
      "4.7062288143716655\n",
      "4.7088721115024255\n",
      "4.722088597156225\n",
      "4.724438194605789\n",
      "4.727375191417745\n",
      "4.727375191417745\n",
      "4.7333410575048624\n",
      "4.736323990548422\n",
      "4.751238655766215\n",
      "4.753890151804934\n",
      "4.757204521853333\n",
      "4.757204521853333\n",
      "4.763734703415734\n",
      "4.766999794196934\n",
      "4.783325248102936\n",
      "4.786227551019559\n",
      "4.789855429665337\n",
      "4.789855429665337\n",
      "4.796000944305617\n",
      "4.7990737016257565\n",
      "4.814437488226456\n",
      "4.81716882806658\n",
      "4.820583002866735\n",
      "4.820583002866735\n",
      "4.7950804214211935\n",
      "4.797692917299122\n",
      "4.810755396688761\n",
      "4.81307761524692\n",
      "4.8159803884446175\n",
      "4.8159803884446175\n",
      "4.821205380200474\n",
      "4.823817876078402\n",
      "4.8368803554680415\n",
      "4.8392025740262\n",
      "4.842105347223898\n",
      "4.842105347223898\n",
      "4.8482648771560335\n",
      "4.8513446421221005\n",
      "4.866743466952439\n",
      "4.869481035811166\n",
      "4.872902996884575\n",
      "4.872902996884575\n",
      "4.8796191608019495\n",
      "4.882977242760638\n",
      "4.899767652554075\n",
      "4.902752614295131\n",
      "4.90648381647145\n",
      "4.90648381647145\n",
      "4.878921742315371\n",
      "4.881931115030769\n",
      "4.89697797860776\n",
      "4.899652976577003\n",
      "4.902996724038556\n",
      "4.902996724038556\n",
      "4.909015469469352\n",
      "4.912024842184751\n",
      "4.927071705761741\n",
      "4.929746703730984\n",
      "4.9330904511925375\n",
      "4.9330904511925375\n",
      "4.9388943675719155\n",
      "4.9417963257616035\n",
      "4.9563061167100475\n",
      "4.9588856351008825\n",
      "4.962110033089425\n",
      "4.962110033089425\n",
      "4.967584502593871\n",
      "4.970321737346095\n",
      "4.984007911107209\n",
      "4.98644100866474\n",
      "4.989482380611655\n",
      "4.989482380611655\n",
      "4.994920747260112\n",
      "4.997639930584341\n",
      "5.0112358472054845\n",
      "5.0136528990492435\n",
      "5.016674213853942\n",
      "5.016674213853942\n",
      "5.022436712341829\n",
      "5.025317961585773\n",
      "5.039724207805492\n",
      "5.042285318244552\n",
      "5.045486706293379\n",
      "5.045486706293379\n",
      "5.051549009431523\n",
      "5.054580161000595\n",
      "5.0697359188459545\n",
      "5.072430275796241\n",
      "5.0757982219840985\n",
      "5.0757982219840985\n",
      "5.081725251948624\n",
      "5.084688766930887\n",
      "5.099506341842201\n",
      "5.10214057738199\n",
      "5.105433371806726\n",
      "5.105433371806726\n",
      "5.110928478705401\n",
      "5.113676032154738\n",
      "5.127413799401425\n",
      "5.129856069134169\n",
      "5.132908906300099\n",
      "5.132908906300099\n",
      "5.138210370807709\n",
      "5.140861103061513\n",
      "5.1541147643305365\n",
      "5.156470970778363\n",
      "5.159416228838146\n",
      "5.159416228838146\n",
      "5.165012258445265\n",
      "5.167810273248826\n",
      "5.181800347266624\n",
      "5.184287471536455\n",
      "5.187396376873743\n",
      "5.187396376873743\n",
      "5.1934341777698965\n",
      "5.1964530782179725\n",
      "5.211547580458355\n",
      "5.214231047523311\n",
      "5.217585381354508\n",
      "5.217585381354508\n",
      "5.2236379176734244\n",
      "5.226664185832882\n",
      "5.241795526630173\n",
      "5.244485542771914\n",
      "5.24784806294909\n",
      "5.24784806294909\n",
      "5.253435036589545\n",
      "5.256228523409773\n",
      "5.270195957510913\n",
      "5.2726790569066715\n",
      "5.275782931151369\n",
      "5.275782931151369\n",
      "5.2810081602273895\n",
      "5.2836207747654\n",
      "5.296683847455452\n",
      "5.299006171489239\n",
      "5.301909076531473\n",
      "5.301909076531473\n",
      "5.307323939633566\n",
      "5.310031371184612\n",
      "5.323568528939845\n",
      "5.325975134762997\n",
      "5.328983392041938\n",
      "5.328983392041938\n",
      "5.334921633611474\n",
      "5.337890754396242\n",
      "5.352736358320084\n",
      "5.355375576795433\n",
      "5.35867459988962\n",
      "5.35867459988962\n",
      "5.364809528382434\n",
      "5.36787699262884\n",
      "5.383214313860873\n",
      "5.385940948746568\n",
      "5.389349242353687\n",
      "5.389349242353687\n",
      "5.395072377964493\n",
      "5.397933945769897\n",
      "5.412241784796915\n",
      "5.41478540062394\n",
      "5.417964920407722\n",
      "5.417964920407722\n",
      "5.423193325918486\n",
      "5.425807528673868\n",
      "5.438878542450779\n",
      "5.441202278233341\n",
      "5.444106947961544\n",
      "5.444106947961544\n",
      "5.449369700901505\n",
      "5.452001077371485\n",
      "5.465157959721387\n",
      "5.467496961028036\n",
      "5.470420712661348\n",
      "5.470420712661348\n",
      "5.476207326943896\n",
      "5.479100634085169\n",
      "5.493567169791538\n",
      "5.496138998361559\n",
      "5.499353784074085\n",
      "5.499353784074085\n",
      "5.505500330100154\n",
      "5.508573603113188\n",
      "5.523939968178361\n",
      "5.52667176641217\n",
      "5.53008651420443\n",
      "5.53008651420443\n",
      "5.535948636652144\n",
      "5.538879697876\n",
      "5.553535003995285\n",
      "5.556140391749825\n",
      "5.559397126442999\n",
      "5.559397126442999\n",
      "5.5647002362018645\n",
      "5.567351791081298\n",
      "5.580609565478463\n",
      "5.58296650314907\n",
      "5.585912675237329\n",
      "5.585912675237329\n",
      "5.591084064042016\n",
      "5.593669758444359\n",
      "5.6065982304560755\n",
      "5.608896625480381\n",
      "5.6117696192607625\n",
      "5.6117696192607625\n",
      "5.617390300591701\n",
      "5.620200641257171\n",
      "5.634252344584518\n",
      "5.6367504251760465\n",
      "5.639873025915457\n",
      "5.639873025915457\n",
      "5.645960967082648\n",
      "5.649004937666243\n",
      "5.66422479058422\n",
      "5.666930542214083\n",
      "5.6703127317514115\n",
      "5.6703127317514115\n",
      "5.676280336501522\n",
      "5.679264138876578\n",
      "5.694183150751855\n",
      "5.696835419529682\n",
      "5.700150755501966\n",
      "5.700150755501966\n",
      "5.70557255465267\n",
      "5.708283454228022\n",
      "5.721837952104783\n",
      "5.724247640616207\n"
     ]
    },
    {
     "name": "stdout",
     "output_type": "stream",
     "text": [
      "5.727259751255487\n",
      "5.727259751255487\n",
      "5.732409978925718\n",
      "5.734985092760833\n",
      "5.747860661936408\n",
      "5.750149652012066\n",
      "5.753010889606639\n",
      "5.753010889606639\n",
      "5.7584862613434185\n",
      "5.761223947211809\n",
      "5.7749123765537576\n",
      "5.777345875103437\n",
      "5.780387748290537\n",
      "5.780387748290537\n",
      "5.786369536696035\n",
      "5.7893604308987845\n",
      "5.804314901912529\n",
      "5.806973474537195\n",
      "5.810296690318027\n",
      "5.810296690318027\n",
      "5.816318223732374\n",
      "5.819328990439548\n",
      "5.8343828239754165\n",
      "5.83705906104846\n",
      "5.8404043573897635\n",
      "5.8404043573897635\n",
      "5.845956416962108\n",
      "5.848732446748279\n",
      "5.862612595679138\n",
      "5.865080177711292\n",
      "5.868164655251483\n",
      "5.868164655251483\n",
      "5.87335303604764\n",
      "5.87594722644572\n",
      "5.888918178436115\n",
      "5.891224125456629\n",
      "5.894106559232273\n",
      "5.894106559232273\n",
      "5.899478407776257\n",
      "5.90216433204825\n",
      "5.915593953408212\n",
      "5.917981441649983\n",
      "5.920965801952197\n",
      "5.920965801952197\n",
      "5.926823336808424\n",
      "5.929752104236537\n",
      "5.944395941377105\n",
      "5.946999290202095\n",
      "5.950253476233333\n",
      "5.950253476233333\n",
      "5.95627862657994\n",
      "5.959291201753244\n",
      "5.974354077619763\n",
      "5.977031922218255\n",
      "5.98037922796637\n",
      "5.98037922796637\n",
      "5.986047696971985\n",
      "5.988881931474793\n",
      "6.003053103988831\n",
      "6.005572423546882\n",
      "6.008721572994446\n",
      "6.008721572994446\n",
      "6.013986984924378\n",
      "6.016619690889344\n",
      "6.029783220714174\n",
      "6.032123403794143\n",
      "6.035048632644106\n",
      "6.035048632644106\n",
      "6.040364781598299\n",
      "6.043022856075397\n",
      "6.056313228460882\n",
      "6.058675961329412\n",
      "6.061629377415075\n",
      "6.061629377415075\n",
      "6.067368261260532\n",
      "6.0702377031832615\n",
      "6.084584912796906\n",
      "6.087135527839331\n",
      "6.090323796642363\n",
      "6.090323796642363\n",
      "6.096315058606243\n",
      "6.099310689588183\n",
      "6.114288844497882\n",
      "6.11695162759294\n",
      "6.120280106461761\n",
      "6.120280106461761\n",
      "6.126038280014841\n",
      "6.12891736679138\n",
      "6.143312800674078\n",
      "6.145871988919891\n",
      "6.149070974227158\n",
      "6.149070974227158\n",
      "6.15443210818887\n",
      "6.157112675169727\n",
      "6.17051551007401\n",
      "6.172898236279215\n",
      "6.175876644035722\n",
      "6.175876644035722\n",
      "6.181179806328397\n",
      "6.183831387474735\n",
      "6.197089293206421\n",
      "6.199446254225387\n",
      "6.202392455499096\n",
      "6.202392455499096\n",
      "6.208032390500817\n",
      "6.210852358001677\n",
      "6.224952195505979\n",
      "6.227458833284521\n",
      "6.2305921305076994\n",
      "6.2305921305076994\n",
      "6.236528159798572\n",
      "6.239496174444008\n",
      "6.254336247671189\n",
      "6.256974482911576\n",
      "6.260272276962061\n",
      "6.260272276962061\n",
      "6.266091424183619\n",
      "6.269000997794398\n",
      "6.283548865848294\n",
      "6.28613515350232\n",
      "6.289368013069852\n",
      "6.289368013069852\n",
      "6.294828155165833\n",
      "6.297558226213824\n",
      "6.311208581453776\n",
      "6.313635311274212\n",
      "6.316668723549757\n",
      "6.316668723549757\n",
      "6.321991325845773\n",
      "6.324652626993782\n",
      "6.337959132733824\n",
      "6.340324733754275\n",
      "6.34328173502984\n",
      "6.34328173502984\n",
      "6.3488482528049275\n",
      "6.351631511692471\n",
      "6.36554780613019\n",
      "6.368021814030229\n",
      "6.371114323905277\n",
      "6.371114323905277\n",
      "6.376987817152252\n",
      "6.379924563775739\n",
      "6.394608296893176\n",
      "6.397218738336276\n",
      "6.400481790140151\n",
      "6.400481790140151\n",
      "6.406337470635497\n",
      "6.409265310883171\n",
      "6.423904512121538\n",
      "6.426507036786137\n",
      "6.429760192616885\n",
      "6.429760192616885\n",
      "6.435313595674267\n",
      "6.438090297202957\n",
      "6.4519738048464115\n",
      "6.454441983983026\n",
      "6.4575272079037935\n",
      "6.4575272079037935\n",
      "6.462890980215944\n",
      "6.465572866372019\n",
      "6.478982297152395\n",
      "6.481366195957795\n",
      "6.484346069464546\n",
      "6.484346069464546\n",
      "6.489864539939453\n",
      "6.492623775176907\n",
      "6.506419951364174\n",
      "6.508872604908578\n",
      "6.511938421839082\n",
      "6.511938421839082\n",
      "6.51775152704005\n",
      "6.520658079640534\n",
      "6.5351908426429555\n",
      "6.537774444954497\n",
      "6.541003947843924\n",
      "6.541003947843924\n",
      "6.546878442425336\n",
      "6.549815689716042\n",
      "6.564501926169572\n",
      "6.567112812650199\n",
      "6.570376420750984\n",
      "6.570376420750984\n",
      "6.576013834918286\n",
      "6.578832542001937\n",
      "6.592926077420193\n",
      "6.595431594827883\n",
      "6.5985634915874956\n",
      "6.5985634915874956\n",
      "6.60398183148598\n",
      "6.606691001435221\n",
      "6.620236851181431\n",
      "6.622645002247425\n",
      "6.6256551910799155\n",
      "6.6256551910799155\n",
      "6.631147536915706\n",
      "6.6338937098336\n",
      "6.647624574423076\n",
      "6.650065617016761\n",
      "6.653116920258866\n",
      "6.653116920258866\n",
      "6.658876633193079\n",
      "6.661756489660185\n",
      "6.676155771995715\n",
      "6.678715644410921\n",
      "6.681915484929927\n",
      "6.681915484929927\n",
      "6.687797408076128\n",
      "6.690738369649228\n",
      "6.70544317751473\n",
      "6.708057365579708\n",
      "6.711325100660931\n",
      "6.711325100660931\n",
      "6.717037420438923\n",
      "6.71989358032792\n",
      "6.734174379772902\n",
      "6.736713188563121\n",
      "6.739886699550895\n",
      "6.739886699550895\n",
      "6.745367681994921\n",
      "6.748108173216934\n",
      "6.761810629327001\n",
      "6.764246621524346\n",
      "6.767291611771027\n",
      "6.767291611771027\n",
      "6.772775381312791\n",
      "6.775517266083674\n",
      "6.7892266899380855\n",
      "6.7916639208455365\n",
      "6.79471045947985\n",
      "6.79471045947985\n",
      "6.800424909211842\n",
      "6.803282134077838\n",
      "6.817568258407818\n",
      "6.820108013844259\n",
      "6.823282708139811\n",
      "6.823282708139811\n",
      "6.829165347705558\n",
      "6.832106667488433\n",
      "6.846813266402803\n",
      "6.849427772876468\n",
      "6.852695905968551\n",
      "6.852695905968551\n",
      "6.858476224070131\n",
      "6.86136638312092\n",
      "6.87581717837487\n",
      "6.878386208642239\n",
      "6.88159749647645\n",
      "6.88159749647645\n",
      "6.8871468200142045\n",
      "6.889921481783082\n",
      "6.903794790627467\n",
      "6.906261156644247\n",
      "6.909344114165221\n",
      "6.909344114165221\n",
      "6.914832805613536\n",
      "6.917577151337694\n",
      "6.931298879958483\n",
      "6.933738298379956\n",
      "6.936787571406798\n",
      "6.936787571406798\n",
      "6.9424635913642865\n",
      "6.945301601343031\n",
      "6.959491651236752\n",
      "6.962014326773414\n",
      "6.965167671194241\n",
      "6.965167671194241\n",
      "6.971046587127026\n",
      "6.973986045093419\n",
      "6.9886833349253825\n",
      "6.991296186451065\n",
      "6.994562250858168\n",
      "6.994562250858168\n",
      "7.000406441741791\n",
      "7.003328537183601\n",
      "7.017939014392656\n",
      "7.020536432563155\n",
      "7.0237832052762785\n",
      "7.0237832052762785\n",
      "7.029406811055616\n",
      "7.032218613945284\n",
      "7.046277628393628\n",
      "7.04877700874\n",
      "7.051901234172965\n",
      "7.051901234172965\n",
      "7.0574056703298425\n",
      "7.0601578884082805\n",
      "7.0739189788004735\n",
      "7.076365394870197\n",
      "7.0794234149573505\n",
      "7.0794234149573505\n",
      "7.085064960549509\n",
      "7.087885733345589\n",
      "7.101989597325985\n",
      "7.1044969509225\n",
      "7.107631142918144\n",
      "7.107631142918144\n",
      "7.113501444557944\n",
      "7.116436595377843\n",
      "7.131112349477343\n",
      "7.133721372428365\n",
      "7.136982651117143\n",
      "7.136982651117143\n",
      "7.142888940216007\n",
      "7.145842084765439\n",
      "7.1606078075126\n",
      "7.163232824889873\n",
      "7.166514096611464\n",
      "7.166514096611464\n",
      "7.172220521813915\n",
      "7.1750737344151405\n",
      "7.189339797421267\n",
      "7.1918759864001345\n",
      "7.195046222623718\n",
      "7.195046222623718\n",
      "7.200576729392182\n",
      "7.203341982776414\n",
      "7.217168249697573\n",
      "7.219626252705779\n",
      "7.222698756466037\n",
      "7.222698756466037\n",
      "7.228306039785832\n",
      "7.231109681445729\n",
      "7.245127889745217\n",
      "7.2476200156651265\n",
      "7.250735173065013\n",
      "7.250735173065013\n",
      "7.25658851492228\n",
      "7.259515185850914\n",
      "7.274148540494081\n",
      "7.2767500257639774\n",
      "7.280001882351348\n",
      "7.280001882351348\n",
      "7.285969295345422\n",
      "7.288953001842458\n",
      "7.303871534327641\n",
      "7.306523717880562\n",
      "7.3098389473217145\n",
      "7.3098389473217145\n",
      "7.315641579633799\n",
      "7.318542895789841\n",
      "7.333049476570053\n",
      "7.335628424264312\n",
      "7.338852108882137\n",
      "7.338852108882137\n",
      "7.344421776519539\n",
      "7.34720661033824\n",
      "7.361130779431745\n",
      "7.36360618727059\n",
      "7.366700447069147\n",
      "7.366700447069147\n",
      "7.3722698783222365\n",
      "7.375054593948781\n",
      "7.388978172081504\n",
      "7.391453474860655\n",
      "7.394547603334594\n",
      "7.394547603334594\n",
      "7.400367928437334\n",
      "7.403278090988705\n",
      "7.417828903745556\n",
      "7.4204157149023295\n",
      "7.423649228848296\n",
      "7.423649228848296\n",
      "7.429674392164224\n",
      "7.432686973822189\n",
      "7.447749882112009\n",
      "7.450427732474644\n",
      "7.453775045427937\n",
      "7.453775045427937\n",
      "7.459694956641719\n",
      "7.4626549122486106\n",
      "7.477454690283065\n",
      "7.480085761933635\n",
      "7.483374601496847\n",
      "7.483374601496847\n",
      "7.489004939940283\n",
      "7.491820109162001\n",
      "7.50589595527059\n",
      "7.508398327912118\n",
      "7.511526293714026\n",
      "7.511526293714026\n",
      "7.517051750293342\n",
      "7.519814478582998\n",
      "7.533628120031286\n",
      "7.536083878510982\n",
      "7.539153576610601\n",
      "7.539153576610601\n",
      "7.544911357769286\n",
      "7.547790248348629\n",
      "7.562184701245343\n",
      "7.564743715093647\n",
      "7.567942482404028\n",
      "7.567942482404028\n",
      "7.574012738577355\n",
      "7.577047866664017\n",
      "7.592223507097332\n",
      "7.594921398729921\n",
      "7.598293763270658\n",
      "7.598293763270658\n",
      "7.60436219719006\n",
      "7.607396414149761\n",
      "7.622567498948267\n",
      "7.625264580690223\n",
      "7.6286359328676685\n",
      "7.6286359328676685\n",
      "7.634366577265173\n",
      "7.6372318994639254\n",
      "7.651558510457687\n",
      "7.654105463523245\n",
      "7.657289154855192\n",
      "7.657289154855192\n",
      "7.662767206383859\n",
      "7.665506232148192\n",
      "7.679201360969858\n",
      "7.681636050538155\n",
      "7.684679412498525\n",
      "7.684679412498525\n",
      "7.690324637755439\n",
      "7.6931472503838965\n",
      "7.707260313526182\n",
      "7.709769302529255\n",
      "7.712905538783096\n",
      "7.712905538783096\n",
      "7.718984491955604\n",
      "7.7220239685418575\n",
      "7.737221351473128\n",
      "7.7399231084386875\n",
      "7.743300304645636\n",
      "7.743300304645636\n",
      "7.749557878000765\n",
      "7.752686664678328\n",
      "7.768330598066148\n",
      "7.771111741779539\n",
      "7.774588171421277\n",
      "7.774588171421277\n",
      "7.780495162379031\n",
      "7.7834486578579085\n",
      "7.798216135252296\n",
      "7.800841464566853\n",
      "7.80412312621005\n",
      "7.80412312621005\n",
      "7.80956813805137\n",
      "7.812290643972029\n",
      "7.825903173575329\n",
      "7.828323178838137\n",
      "7.8313481854166485\n",
      "7.8313481854166485\n",
      "7.836803784323761\n",
      "7.839531583777318\n",
      "7.8531705810451005\n",
      "7.855595291670483\n",
      "7.858626179952213\n",
      "7.858626179952213\n",
      "7.864624324621332\n",
      "7.86762339695589\n",
      "7.882618758628685\n",
      "7.885284600703849\n",
      "7.8886169032978035\n",
      "7.8886169032978035\n",
      "7.895098701354295\n",
      "7.89833960038254\n",
      "7.914544095523769\n",
      "7.917424894659987\n",
      "7.92102589358026\n",
      "7.92102589358026\n",
      "7.927254659940667\n",
      "7.930369043120871\n",
      "7.94594095902189\n",
      "7.948709299626515\n",
      "7.952169725382297\n",
      "7.952169725382297\n",
      "7.926509677204045\n",
      "7.929251569015937\n",
      "7.9429610280754\n",
      "7.945398265241527\n",
      "7.9484448116991855\n",
      "7.9484448116991855\n",
      "7.953928595322971\n",
      "7.956670487134863\n",
      "7.970379946194326\n"
     ]
    },
    {
     "name": "stdout",
     "output_type": "stream",
     "text": [
      "7.972817183360453\n",
      "7.975863729818111\n",
      "7.975863729818111\n",
      "7.982094891013083\n",
      "7.985210471610569\n",
      "8.000788374597999\n",
      "8.003557779573542\n",
      "8.00701953579297\n",
      "8.00701953579297\n",
      "8.01373397284129\n",
      "8.017091191365449\n",
      "8.033877283986246\n",
      "8.036861478229945\n",
      "8.040591721034566\n",
      "8.040591721034566\n",
      "8.046766016618413\n",
      "8.049853164410337\n",
      "8.065288903369954\n",
      "8.068033034740552\n",
      "8.0714631989538\n",
      "8.0714631989538\n",
      "8.045810473067558\n",
      "8.048419849084055\n",
      "8.061466729166536\n",
      "8.063786174514533\n",
      "8.066685481199528\n",
      "8.066685481199528\n",
      "8.07190423323252\n",
      "8.074513609249017\n",
      "8.087560489331498\n",
      "8.089879934679495\n",
      "8.09277924136449\n",
      "8.09277924136449\n",
      "8.099215025538914\n",
      "8.102432917626126\n",
      "8.118522378062188\n",
      "8.121382726584155\n",
      "8.124958162236613\n",
      "8.124958162236613\n",
      "8.132334111514334\n",
      "8.136022086153194\n",
      "8.154461959347495\n",
      "8.157740159026483\n",
      "8.161837908625216\n",
      "8.161837908625216\n",
      "8.13144979949643\n",
      "8.134695618126337\n",
      "8.150924711275877\n",
      "8.153809883391352\n",
      "8.157416348535694\n",
      "8.157416348535694\n",
      "8.163907985795511\n",
      "8.167153804425418\n",
      "8.183382897574958\n",
      "8.186268069690433\n",
      "8.189874534834775\n",
      "8.189874534834775\n",
      "8.195852791539751\n",
      "8.198841919892239\n",
      "8.213787561654676\n",
      "8.216444564634667\n",
      "8.219765818359653\n",
      "8.219765818359653\n",
      "8.195197421076958\n",
      "8.197858864198048\n",
      "8.211166079803505\n",
      "8.213531807022253\n",
      "8.216488966045688\n",
      "8.216488966045688\n",
      "8.221811852287871\n",
      "8.224473295408961\n",
      "8.237780511014417\n",
      "8.240146238233166\n",
      "8.2431033972566\n",
      "8.2431033972566\n",
      "8.249471982917242\n",
      "8.252656275747565\n",
      "8.268577739899172\n",
      "8.271408222415012\n",
      "8.274946325559814\n",
      "8.274946325559814\n",
      "8.282205088768638\n",
      "8.285834470373048\n",
      "8.303981378395108\n",
      "8.307207495376808\n",
      "8.311240141603932\n",
      "8.311240141603932\n",
      "8.317792826561938\n",
      "8.32106916904094\n",
      "8.337450881435958\n",
      "8.340363185861738\n",
      "8.344003566393964\n",
      "8.344003566393964\n",
      "8.316224809964334\n",
      "8.318717144144534\n",
      "8.331178815045538\n",
      "8.333394223205717\n",
      "8.33616348340594\n",
      "8.33616348340594\n",
      "8.341148151766342\n",
      "8.343640485946542\n",
      "8.356102156847546\n",
      "8.358317565007725\n",
      "8.361086825207948\n",
      "8.361086825207948\n",
      "8.367975727998322\n",
      "8.371420179393509\n",
      "8.388642436369443\n",
      "8.391704170942942\n",
      "8.395531339159817\n",
      "8.395531339159817\n",
      "8.40423972684264\n",
      "8.408593920684051\n",
      "8.430364889891111\n",
      "8.43423528441681\n",
      "8.439073277573934\n",
      "8.439073277573934\n",
      "8.402635128051607\n",
      "8.406187022497502\n",
      "8.423946494726978\n",
      "8.427103734234441\n",
      "8.431050283618768\n",
      "8.431050283618768\n",
      "8.438154072510558\n",
      "8.441705966956453\n",
      "8.45946543918593\n",
      "8.462622678693393\n",
      "8.46656922807772\n",
      "8.46656922807772\n",
      "8.437147285233882\n",
      "8.440195786041441\n",
      "8.455438290079227\n",
      "8.458148068574832\n",
      "8.461535291694341\n",
      "8.461535291694341\n",
      "8.467632293309455\n",
      "8.470680794117014\n",
      "8.4859232981548\n",
      "8.488633076650405\n",
      "8.492020299769914\n",
      "8.492020299769914\n",
      "8.498310168580867\n",
      "8.501455102986343\n",
      "8.517179775013725\n",
      "8.519975272263038\n",
      "8.523469643824678\n",
      "8.523469643824678\n",
      "8.529594791641033\n",
      "8.532657365549209\n",
      "8.547970235090096\n",
      "8.550692523008477\n",
      "8.554095382906452\n",
      "8.554095382906452\n",
      "8.55982587607843\n",
      "8.56269112266442\n",
      "8.577017355594366\n",
      "8.579564241448578\n",
      "8.582747848766344\n",
      "8.582747848766344\n",
      "8.588327951995726\n",
      "8.591118003610417\n",
      "8.605068261683872\n",
      "8.607548307563597\n",
      "8.610648364913255\n",
      "8.610648364913255\n",
      "8.616594158542338\n",
      "8.61956705535688\n",
      "8.63443153942959\n",
      "8.63707411437585\n",
      "8.640377333058673\n",
      "8.640377333058673\n",
      "8.646935081750177\n",
      "8.65021395609593\n",
      "8.666608327824694\n",
      "8.669522882798695\n",
      "8.673166076516198\n",
      "8.673166076516198\n",
      "8.679818272533323\n",
      "8.683144370541886\n",
      "8.699774860584698\n",
      "8.702731392147864\n",
      "8.706427056601823\n",
      "8.706427056601823\n",
      "8.679048292383243\n",
      "8.681989400316766\n",
      "8.69669493998438\n",
      "8.69930925814751\n",
      "8.702577155851424\n",
      "8.702577155851424\n",
      "8.708459371718469\n",
      "8.711400479651992\n",
      "8.726106019319605\n",
      "8.728720337482736\n",
      "8.73198823518665\n",
      "8.73198823518665\n",
      "8.738355901191072\n",
      "8.741539734193283\n",
      "8.75745889920434\n",
      "8.760288972984082\n",
      "8.763826565208761\n",
      "8.763826565208761\n",
      "8.770402993581081\n",
      "8.773691207767241\n",
      "8.790132278698042\n",
      "8.793055135752406\n",
      "8.796708707070362\n",
      "8.796708707070362\n",
      "8.802785766100177\n",
      "8.805824295615084\n",
      "8.82101694318962\n",
      "8.823717858313984\n",
      "8.827094002219436\n",
      "8.827094002219436\n",
      "8.802080732920743\n",
      "8.804766745845933\n",
      "8.818196810471884\n",
      "8.820584377516498\n",
      "8.823568836322265\n",
      "8.823568836322265\n",
      "8.828940862172646\n",
      "8.831626875097836\n",
      "8.845056939723786\n",
      "8.8474445067684\n",
      "8.850428965574167\n",
      "8.850428965574167\n",
      "8.85701474142732\n",
      "8.860307629353896\n",
      "8.876772068986778\n",
      "8.879699080477069\n",
      "8.883357844839932\n",
      "8.883357844839932\n",
      "8.891245961471709\n",
      "8.895190019787597\n",
      "8.914910311367038\n",
      "8.918416140981162\n",
      "8.922798427998815\n",
      "8.922798427998815\n",
      "8.8904222050221\n",
      "8.893954385113183\n",
      "8.911615285568605\n",
      "8.914755001205124\n",
      "8.918679645750773\n",
      "8.918679645750773\n",
      "8.925744005932941\n",
      "8.929276186024026\n",
      "8.946937086479446\n",
      "8.950076802115966\n",
      "8.954001446661614\n",
      "8.954001446661614\n",
      "8.924655325167222\n",
      "8.927643164875446\n",
      "8.942582363416568\n",
      "8.945238220934991\n",
      "8.948558042833017\n",
      "8.948558042833017\n",
      "8.954533722249467\n",
      "8.957521561957691\n",
      "8.972460760498812\n",
      "8.975116618017235\n",
      "8.978436439915262\n",
      "8.978436439915262\n",
      "8.984961437847597\n",
      "8.988223936813764\n",
      "9.004536431644603\n",
      "9.00743643072564\n",
      "9.011061429576937\n",
      "9.011061429576937\n",
      "9.017708080819006\n",
      "9.02103140644004\n",
      "9.03764803454521\n",
      "9.040602101763907\n",
      "9.044294685787278\n",
      "9.044294685787278\n",
      "9.017014369482204\n",
      "9.019990839434836\n",
      "9.034873189198002\n",
      "9.03751894026701\n",
      "9.04082612910327\n",
      "9.04082612910327\n",
      "9.046779069008537\n",
      "9.049755538961168\n",
      "9.064637888724334\n",
      "9.067283639793342\n",
      "9.070590828629602\n",
      "9.070590828629602\n",
      "9.076960801733492\n",
      "9.080145788285437\n",
      "9.09607072104516\n",
      "9.098901820202446\n",
      "9.10244069414905\n",
      "9.10244069414905\n",
      "9.10896123762905\n",
      "9.112221509369048\n",
      "9.128522868069044\n",
      "9.131420887393489\n",
      "9.135043411549043\n",
      "9.135043411549043\n",
      "9.141091947895646\n",
      "9.144116216068946\n",
      "9.15923755693545\n",
      "9.161925795311719\n",
      "9.165286093282052\n",
      "9.165286093282052\n",
      "9.140460379035094\n",
      "9.143168862778118\n",
      "9.156711281493243\n",
      "9.159118822598154\n",
      "9.162128248979293\n",
      "9.162128248979293\n",
      "9.167545216465344\n",
      "9.170253700208368\n",
      "9.183796118923492\n",
      "9.186203660028404\n",
      "9.189213086409543\n",
      "9.189213086409543\n",
      "9.195798215382583\n",
      "9.199090779869104\n",
      "9.215553602301705\n",
      "9.218480326289722\n",
      "9.222138731274745\n",
      "9.222138731274745\n",
      "9.230051616023864\n",
      "9.234008058398425\n",
      "9.253790270271224\n",
      "9.2573071079375\n",
      "9.261703155020344\n",
      "9.261703155020344\n",
      "9.268860545422706\n",
      "9.272439240623887\n",
      "9.290332716629795\n",
      "9.293513779030844\n",
      "9.297490107032157\n",
      "9.297490107032157\n",
      "9.266504328701403\n",
      "9.268904915541933\n",
      "9.280907849744581\n",
      "9.283041704713941\n",
      "9.28570902342564\n",
      "9.28570902342564\n",
      "9.2905101971067\n",
      "9.29291078394723\n",
      "9.304913718149878\n",
      "9.307047573119238\n",
      "9.309714891830938\n",
      "9.309714891830938\n",
      "9.317704022884374\n",
      "9.321698588411094\n",
      "9.341671416044687\n",
      "9.345222140957326\n",
      "9.349660547098123\n",
      "9.349660547098123\n",
      "9.360547413475919\n",
      "9.365990846664815\n",
      "9.393208012609302\n",
      "9.398046619888323\n",
      "9.404094878987097\n",
      "9.404094878987097\n",
      "9.356594421114467\n",
      "9.360061358122639\n",
      "9.3773960431635\n",
      "9.380477764948543\n",
      "9.384329917179844\n",
      "9.384329917179844\n",
      "9.391183786929428\n",
      "9.394610721804222\n",
      "9.411745396178183\n",
      "9.41479156051133\n",
      "9.418599265927767\n",
      "9.418599265927767\n",
      "9.390019307762481\n",
      "9.3928640030538\n",
      "9.407087479510395\n",
      "9.409616097547122\n",
      "9.412776870093031\n",
      "9.412776870093031\n",
      "9.418466260675668\n",
      "9.421310955966987\n",
      "9.435534432423582\n",
      "9.43806305046031\n",
      "9.441223823006219\n",
      "9.441223823006219\n",
      "9.4469984468167\n",
      "9.44988575872194\n",
      "9.464322318248142\n",
      "9.466888817719466\n",
      "9.470096942058623\n",
      "9.470096942058623\n",
      "9.475931491757898\n",
      "9.478848766607534\n",
      "9.49343514085572\n",
      "9.496028274055398\n",
      "9.499269690554994\n",
      "9.499269690554994\n",
      "9.505082183846158\n",
      "9.50798843049174\n",
      "9.522519663719649\n",
      "9.525102994071277\n",
      "9.528332157010812\n",
      "9.528332157010812\n",
      "9.53408226545608\n",
      "9.536957319678715\n",
      "9.551332590791885\n",
      "9.553888194545337\n",
      "9.557082699237153\n",
      "9.557082699237153\n",
      "9.56280214299189\n",
      "9.565661864869258\n",
      "9.579960474256099\n",
      "9.582502449258204\n",
      "9.585679918010836\n",
      "9.585679918010836\n",
      "9.591422209781353\n",
      "9.594293355666613\n",
      "9.608649085092907\n",
      "9.611201214768691\n",
      "9.614391376863423\n",
      "9.614391376863423\n",
      "9.62017309304813\n",
      "9.623063951140484\n",
      "9.637518241602253\n",
      "9.640087893239901\n",
      "9.64329995778696\n",
      "9.64329995778696\n",
      "9.649092908480492\n",
      "9.65198938382726\n",
      "9.666471760561093\n",
      "9.669046405313773\n",
      "9.672264711254625\n",
      "9.672264711254625\n",
      "9.678035516033859\n",
      "9.680920918423476\n",
      "9.695347930371563\n",
      "9.697912732495666\n",
      "9.701118735150796\n",
      "9.701118735150796\n",
      "9.706864245937085\n",
      "9.70973700133023\n",
      "9.724100778295956\n",
      "9.726654338645417\n",
      "9.729846289082245\n",
      "9.729846289082245\n",
      "9.735589384636791\n",
      "9.738460932414064\n",
      "9.752818671300428\n",
      "9.75537115821356\n",
      "9.758561766854974\n",
      "9.758561766854974\n",
      "9.764322089809172\n",
      "9.767202251286271\n",
      "9.781603058671765\n",
      "9.784163202206964\n",
      "9.787363381625962\n",
      "9.787363381625962\n",
      "9.793138440463542\n",
      "9.796025969882331\n",
      "9.810463616976278\n",
      "9.813030309792982\n",
      "9.816238675813858\n",
      "9.816238675813858\n",
      "9.822011730546357\n",
      "9.824898257912608\n",
      "9.839330894743858\n",
      "9.84189669684719\n",
      "9.845103949476357\n",
      "9.845103949476357\n",
      "9.850864565312856\n",
      "9.853744873231104\n",
      "9.86814641282235\n",
      "9.87070668652746\n",
      "9.873907028658849\n",
      "9.873907028658849\n",
      "9.879660320473233\n",
      "9.882536966380425\n",
      "9.896920195916383\n",
      "9.899477214500555\n",
      "9.902673487730768\n",
      "9.902673487730768\n",
      "9.908431399595505\n",
      "9.911310355527876\n",
      "9.925705135189721\n",
      "9.928264207129605\n",
      "9.931463047054459\n",
      "9.931463047054459\n",
      "9.937230818347915\n",
      "9.940114703994643\n",
      "9.954534132228284\n",
      "9.957097586136486\n",
      "9.96030190352174\n",
      "9.96030190352174\n",
      "9.96607443619836\n",
      "9.96896070253667\n",
      "9.983392034228217\n"
     ]
    },
    {
     "name": "stdout",
     "output_type": "stream",
     "text": [
      "9.985957604306714\n",
      "9.989164566904837\n",
      "9.989164566904837\n",
      "9.991331653523869\n",
      "9.992415196833386\n",
      "9.997832913380968\n",
      "9.998796062989426\n",
      "10.0\n",
      "10.0\n",
      "0:00:11.060952\n"
     ]
    }
   ],
   "source": [
    "startTime1 = datetime.now()\n",
    "# prob = de.ODEProblem(grayscott1d, q0, tspan)\n",
    "# us = de.solve(prob)\n",
    "us=solve_ivp(grayscott1d,  tspan, q0, \n",
    "#              nfev=842\n",
    "#              method='LSODA',\n",
    "#              method= 'BDF'\n",
    "#              vectorized=True\n",
    "#              min_step=1e-6\n",
    "#              rtol=1e9, atol=1e9\n",
    "            )\n",
    "# us=ode15s.integrate(10)\n",
    "print(datetime.now() - startTime1)"
   ]
  },
  {
   "cell_type": "code",
   "execution_count": 149,
   "metadata": {},
   "outputs": [],
   "source": [
    "fin=us"
   ]
  },
  {
   "cell_type": "code",
   "execution_count": 150,
   "metadata": {
    "scrolled": true
   },
   "outputs": [],
   "source": [
    "# startTime1 = datetime.now()\n",
    "# us=odeint(grayscott1d, torch.from_numpy(q0), torch.from_numpy(t.astype(np.float32)))\n",
    "# print(datetime.now() - startTime1)"
   ]
  },
  {
   "cell_type": "code",
   "execution_count": 151,
   "metadata": {},
   "outputs": [
    {
     "data": {
      "text/plain": [
       "  message: 'The solver successfully reached the end of the integration interval.'\n",
       "     nfev: 2378\n",
       "     njev: 0\n",
       "      nlu: 0\n",
       "      sol: None\n",
       "   status: 0\n",
       "  success: True\n",
       "        t: array([0.00000000e+00, 7.27457950e-06, 4.46492820e-05, 2.04738784e-04,\n",
       "       8.35725432e-04, 3.26424676e-03, 1.25122263e-02, 2.43458854e-02,\n",
       "       3.61795445e-02, 5.28160384e-02, 7.23655205e-02, 9.88053783e-02,\n",
       "       1.31819841e-01, 1.58915436e-01, 1.86011031e-01, 2.15694773e-01,\n",
       "       2.46151929e-01, 2.74675051e-01, 3.01172917e-01, 3.28068841e-01,\n",
       "       3.57205732e-01, 3.87577096e-01, 4.16656110e-01, 4.43697228e-01,\n",
       "       4.70541776e-01, 4.99224796e-01, 5.29453162e-01, 5.58993910e-01,\n",
       "       5.86588764e-01, 6.13488943e-01, 6.41793623e-01, 6.71845056e-01,\n",
       "       7.01784182e-01, 7.29947945e-01, 7.56985272e-01, 7.84961915e-01,\n",
       "       8.14802833e-01, 8.45099536e-01, 8.73868585e-01, 9.01118885e-01,\n",
       "       9.28789950e-01, 9.58363300e-01, 9.88984026e-01, 1.01843082e+00,\n",
       "       1.04599138e+00, 1.07335518e+00, 1.10255150e+00, 1.13344177e+00,\n",
       "       1.16369014e+00, 1.19171877e+00, 1.21876548e+00, 1.24739084e+00,\n",
       "       1.27842364e+00, 1.30965538e+00, 1.33843583e+00, 1.36519018e+00,\n",
       "       1.39293165e+00, 1.42380740e+00, 1.45623835e+00, 1.48287084e+00,\n",
       "       1.50950332e+00, 1.54067748e+00, 1.57503137e+00, 1.60080092e+00,\n",
       "       1.62657046e+00, 1.65888623e+00, 1.69109322e+00, 1.72330022e+00,\n",
       "       1.75327102e+00, 1.78030897e+00, 1.80738455e+00, 1.83801217e+00,\n",
       "       1.87212872e+00, 1.89920774e+00, 1.92628677e+00, 1.95888430e+00,\n",
       "       1.99103409e+00, 2.02318387e+00, 2.05365843e+00, 2.08142441e+00,\n",
       "       2.10880048e+00, 2.13920966e+00, 2.17342934e+00, 2.20145326e+00,\n",
       "       2.22947718e+00, 2.26245834e+00, 2.29450014e+00, 2.32654195e+00,\n",
       "       2.35757448e+00, 2.38617000e+00, 2.41381213e+00, 2.44367183e+00,\n",
       "       2.47743283e+00, 2.50703879e+00, 2.53664475e+00, 2.56924456e+00,\n",
       "       2.60304631e+00, 2.62924588e+00, 2.65544544e+00, 2.68940281e+00,\n",
       "       2.72825835e+00, 2.75774093e+00, 2.78722351e+00, 2.82239251e+00,\n",
       "       2.85289843e+00, 2.88340436e+00, 2.91692855e+00, 2.94609431e+00,\n",
       "       2.97526006e+00, 3.00815421e+00, 3.03974441e+00, 3.07133460e+00,\n",
       "       3.10280971e+00, 3.13254568e+00, 3.16074188e+00, 3.18970314e+00,\n",
       "       3.22178364e+00, 3.25630310e+00, 3.28276854e+00, 3.30923398e+00,\n",
       "       3.34380645e+00, 3.38280307e+00, 3.41269383e+00, 3.44258458e+00,\n",
       "       3.47722054e+00, 3.50645314e+00, 3.53568573e+00, 3.56906662e+00,\n",
       "       3.59942710e+00, 3.62978758e+00, 3.66175007e+00, 3.69326519e+00,\n",
       "       3.72208175e+00, 3.74897214e+00, 3.77736611e+00, 3.81018581e+00,\n",
       "       3.84123332e+00, 3.87228083e+00, 3.90333750e+00, 3.93266155e+00,\n",
       "       3.96035300e+00, 3.98865001e+00, 4.01974201e+00, 4.05285051e+00,\n",
       "       4.07936930e+00, 4.10588808e+00, 4.13825560e+00, 4.17083624e+00,\n",
       "       4.20341688e+00, 4.22950310e+00, 4.25558931e+00, 4.28749275e+00,\n",
       "       4.31996408e+00, 4.35243542e+00, 4.37818908e+00, 4.40394273e+00,\n",
       "       4.43557217e+00, 4.46770534e+00, 4.49983852e+00, 4.52565510e+00,\n",
       "       4.55147168e+00, 4.58265088e+00, 4.61411557e+00, 4.64558026e+00,\n",
       "       4.67468605e+00, 4.70094222e+00, 4.72737519e+00, 4.75720452e+00,\n",
       "       4.78985543e+00, 4.81598039e+00, 4.84210535e+00, 4.87290300e+00,\n",
       "       4.90299672e+00, 4.93309045e+00, 4.96211003e+00, 4.98948238e+00,\n",
       "       5.01667421e+00, 5.04548671e+00, 5.07579822e+00, 5.10543337e+00,\n",
       "       5.13290891e+00, 5.15941623e+00, 5.18739638e+00, 5.21758538e+00,\n",
       "       5.24784806e+00, 5.27578293e+00, 5.30190908e+00, 5.32898339e+00,\n",
       "       5.35867460e+00, 5.38934924e+00, 5.41796492e+00, 5.44410695e+00,\n",
       "       5.47042071e+00, 5.49935378e+00, 5.53008651e+00, 5.55939713e+00,\n",
       "       5.58591268e+00, 5.61176962e+00, 5.63987303e+00, 5.67031273e+00,\n",
       "       5.70015076e+00, 5.72725975e+00, 5.75301089e+00, 5.78038775e+00,\n",
       "       5.81029669e+00, 5.84040436e+00, 5.86816466e+00, 5.89410656e+00,\n",
       "       5.92096580e+00, 5.95025348e+00, 5.98037923e+00, 6.00872157e+00,\n",
       "       6.03504863e+00, 6.06162938e+00, 6.09032380e+00, 6.12028011e+00,\n",
       "       6.14907097e+00, 6.17587664e+00, 6.20239246e+00, 6.23059213e+00,\n",
       "       6.26027228e+00, 6.28936801e+00, 6.31666872e+00, 6.34328174e+00,\n",
       "       6.37111432e+00, 6.40048179e+00, 6.42976019e+00, 6.45752721e+00,\n",
       "       6.48434607e+00, 6.51193842e+00, 6.54100395e+00, 6.57037642e+00,\n",
       "       6.59856349e+00, 6.62565519e+00, 6.65311692e+00, 6.68191548e+00,\n",
       "       6.71132510e+00, 6.73988670e+00, 6.76729161e+00, 6.79471046e+00,\n",
       "       6.82328271e+00, 6.85269591e+00, 6.88159750e+00, 6.90934411e+00,\n",
       "       6.93678757e+00, 6.96516767e+00, 6.99456225e+00, 7.02378321e+00,\n",
       "       7.05190123e+00, 7.07942341e+00, 7.10763114e+00, 7.13698265e+00,\n",
       "       7.16651410e+00, 7.19504622e+00, 7.22269876e+00, 7.25073517e+00,\n",
       "       7.28000188e+00, 7.30983895e+00, 7.33885211e+00, 7.36670045e+00,\n",
       "       7.39454760e+00, 7.42364923e+00, 7.45377505e+00, 7.48337460e+00,\n",
       "       7.51152629e+00, 7.53915358e+00, 7.56794248e+00, 7.59829376e+00,\n",
       "       7.62863593e+00, 7.65728915e+00, 7.68467941e+00, 7.71290554e+00,\n",
       "       7.74330030e+00, 7.77458817e+00, 7.80412313e+00, 7.83134819e+00,\n",
       "       7.85862618e+00, 7.88861690e+00, 7.92102589e+00, 7.94844481e+00,\n",
       "       7.97586373e+00, 8.00701954e+00, 8.04059172e+00, 8.06668548e+00,\n",
       "       8.09277924e+00, 8.12495816e+00, 8.15741635e+00, 8.18987453e+00,\n",
       "       8.21648897e+00, 8.24310340e+00, 8.27494633e+00, 8.31124014e+00,\n",
       "       8.33616348e+00, 8.36108683e+00, 8.39553134e+00, 8.43105028e+00,\n",
       "       8.46153529e+00, 8.49202030e+00, 8.52346964e+00, 8.55409538e+00,\n",
       "       8.58274785e+00, 8.61064836e+00, 8.64037733e+00, 8.67316608e+00,\n",
       "       8.70257716e+00, 8.73198824e+00, 8.76382657e+00, 8.79670871e+00,\n",
       "       8.82356884e+00, 8.85042897e+00, 8.88335784e+00, 8.91867965e+00,\n",
       "       8.94855804e+00, 8.97843644e+00, 9.01106143e+00, 9.04082613e+00,\n",
       "       9.07059083e+00, 9.10244069e+00, 9.13504341e+00, 9.16212825e+00,\n",
       "       9.18921309e+00, 9.22213873e+00, 9.26170316e+00, 9.28570902e+00,\n",
       "       9.30971489e+00, 9.34966055e+00, 9.38432992e+00, 9.41277687e+00,\n",
       "       9.44122382e+00, 9.47009694e+00, 9.49926969e+00, 9.52833216e+00,\n",
       "       9.55708270e+00, 9.58567992e+00, 9.61439138e+00, 9.64329996e+00,\n",
       "       9.67226471e+00, 9.70111874e+00, 9.72984629e+00, 9.75856177e+00,\n",
       "       9.78736338e+00, 9.81623868e+00, 9.84510395e+00, 9.87390703e+00,\n",
       "       9.90267349e+00, 9.93146305e+00, 9.96030190e+00, 9.98916457e+00,\n",
       "       1.00000000e+01])\n",
       " t_events: None\n",
       "        y: array([[ 0.00000000e+00,  0.00000000e+00,  0.00000000e+00, ...,\n",
       "         0.00000000e+00,  0.00000000e+00,  0.00000000e+00],\n",
       "       [ 3.68422828e+03,  3.68422828e+03,  3.68422828e+03, ...,\n",
       "         3.72714681e+03,  3.72727289e+03,  3.72732022e+03],\n",
       "       [ 7.36845656e+03,  7.36845656e+03,  7.36845656e+03, ...,\n",
       "         7.39502187e+03,  7.39509898e+03,  7.39512793e+03],\n",
       "       ...,\n",
       "       [ 0.00000000e+00,  3.34140351e-10,  2.05081971e-09, ...,\n",
       "         4.63387031e-05,  4.63388181e-05,  4.63388608e-05],\n",
       "       [ 0.00000000e+00, -3.01714655e-10, -1.85178457e-09, ...,\n",
       "        -3.98164233e-05, -3.98167645e-05, -3.98168945e-05],\n",
       "       [ 0.00000000e+00, -3.76318906e-10, -2.30966709e-09, ...,\n",
       "        -4.96455350e-05, -4.96460258e-05, -4.96462129e-05]])\n",
       " y_events: None"
      ]
     },
     "execution_count": 151,
     "metadata": {},
     "output_type": "execute_result"
    }
   ],
   "source": [
    "fin"
   ]
  },
  {
   "cell_type": "code",
   "execution_count": 152,
   "metadata": {},
   "outputs": [],
   "source": [
    "t=fin.t"
   ]
  },
  {
   "cell_type": "code",
   "execution_count": 153,
   "metadata": {},
   "outputs": [],
   "source": [
    "fin=fin.y.T"
   ]
  },
  {
   "cell_type": "code",
   "execution_count": null,
   "metadata": {},
   "outputs": [],
   "source": []
  },
  {
   "cell_type": "code",
   "execution_count": 173,
   "metadata": {},
   "outputs": [
    {
     "name": "stderr",
     "output_type": "stream",
     "text": [
      "/Library/Frameworks/Python.framework/Versions/3.7/lib/python3.7/site-packages/ipykernel_launcher.py:2: MatplotlibDeprecationWarning: Calling gca() with keyword arguments was deprecated in Matplotlib 3.4. Starting two minor releases later, gca() will take no keyword arguments. The gca() function should only be used to get the current axes, or if no axes exist, create new axes with default keyword arguments. To create a new axes with non-default arguments, use plt.axes() or plt.subplot().\n",
      "  \n"
     ]
    },
    {
     "data": {
      "image/png": "[encoded data removed]",
      "text/plain": [
       "<Figure size 936x936 with 1 Axes>"
      ]
     },
     "metadata": {
      "needs_background": "light"
     },
     "output_type": "display_data"
    }
   ],
   "source": [
    "fig=plt.figure(figsize=(13,13))\n",
    "ax = fig.gca(projection='3d')\n",
    "\n",
    "X0=fin[0,[i for i in range(0,node_N)]]\n",
    "Y0=fin[0,[i for i in range(2*node_N,3*node_N)]]\n",
    "Z0=fin[0,[i for i in range(4*node_N,5*node_N)]]\n",
    "# for j in range(len(fin.y.T)):\n",
    "j=-1\n",
    "X=fin[j,[i for i in range(0,node_N)]]\n",
    "Y=fin[j,[i for i in range(2*node_N,3*node_N)]]\n",
    "Z=fin[j,[i for i in range(4*node_N,5*node_N)]]\n",
    "\n",
    "ax.plot(X0,Y0,Z0, color='r')\n",
    "ax.plot(X,Y,Z, color='b') \n",
    "ax.view_init(-30,-30)\n",
    "# ax.view_init(0,-90)\n",
    "ax.view_init(-90,-90)\n",
    "# ax.set_xlim([0, 5])\n",
    "# ax.set_ylim([0, 5])\n",
    "plt.show()"
   ]
  },
  {
   "cell_type": "code",
   "execution_count": 155,
   "metadata": {},
   "outputs": [
    {
     "data": {
      "text/plain": [
       "(array([    0.        ,  3727.32022439,  7395.12792573, 11047.24463335]),\n",
       " array([  0.        , -89.26635369,  16.57091447,   4.22980195]),\n",
       " array([  0.        ,  56.18318061, 312.74959529, 693.06184233]))"
      ]
     },
     "execution_count": 155,
     "metadata": {},
     "output_type": "execute_result"
    }
   ],
   "source": [
    "X,Y,Z"
   ]
  },
  {
   "cell_type": "code",
   "execution_count": 156,
   "metadata": {},
   "outputs": [
    {
     "data": {
      "text/plain": [
       "(array([    0.        ,  3684.22828149,  7368.45656297, 11052.68484446]),\n",
       " array([0., 0., 0., 5.]),\n",
       " array([  0.        ,  77.06804645, 308.4070593 , 694.42189511]))"
      ]
     },
     "execution_count": 156,
     "metadata": {},
     "output_type": "execute_result"
    }
   ],
   "source": [
    "X0,Y0,Z0"
   ]
  },
  {
   "cell_type": "code",
   "execution_count": 157,
   "metadata": {},
   "outputs": [],
   "source": [
    "us=fin.T"
   ]
  },
  {
   "cell_type": "code",
   "execution_count": 158,
   "metadata": {},
   "outputs": [],
   "source": [
    "# t=np.arange(tspan[0],tspan[1],tspan[1]/len(us.T))"
   ]
  },
  {
   "cell_type": "code",
   "execution_count": 159,
   "metadata": {},
   "outputs": [
    {
     "data": {
      "image/png": "[encoded data removed]",
      "text/plain": [
       "<Figure size 432x288 with 1 Axes>"
      ]
     },
     "metadata": {
      "needs_background": "light"
     },
     "output_type": "display_data"
    }
   ],
   "source": [
    "plt.plot(t,us.T[:,2],'-')\n",
    "plt.xlabel('t')\n",
    "plt.ylabel('x2')\n",
    "plt.show()"
   ]
  },
  {
   "cell_type": "code",
   "execution_count": 160,
   "metadata": {},
   "outputs": [
    {
     "data": {
      "image/png": "[encoded data removed]",
      "text/plain": [
       "<Figure size 432x288 with 1 Axes>"
      ]
     },
     "metadata": {
      "needs_background": "light"
     },
     "output_type": "display_data"
    }
   ],
   "source": [
    "plt.plot(t,us.T[:,6] ,'-')\n",
    "plt.xlabel('t')\n",
    "plt.ylabel('dx2')\n",
    "plt.show()"
   ]
  },
  {
   "cell_type": "code",
   "execution_count": 161,
   "metadata": {},
   "outputs": [
    {
     "data": {
      "image/png": "[encoded data removed]",
      "text/plain": [
       "<Figure size 432x288 with 1 Axes>"
      ]
     },
     "metadata": {
      "needs_background": "light"
     },
     "output_type": "display_data"
    }
   ],
   "source": [
    "plt.plot(t,us.T[:,10] ,'-')\n",
    "plt.xlabel('t')\n",
    "plt.ylabel('y2')\n",
    "plt.show()"
   ]
  },
  {
   "cell_type": "code",
   "execution_count": 162,
   "metadata": {},
   "outputs": [
    {
     "data": {
      "image/png": "[encoded data removed]",
      "text/plain": [
       "<Figure size 432x288 with 1 Axes>"
      ]
     },
     "metadata": {
      "needs_background": "light"
     },
     "output_type": "display_data"
    }
   ],
   "source": [
    "plt.plot(t,us.T[:,14] ,'-')\n",
    "plt.xlabel('t')\n",
    "plt.ylabel('dy2')\n",
    "plt.show()"
   ]
  },
  {
   "cell_type": "code",
   "execution_count": 163,
   "metadata": {},
   "outputs": [
    {
     "data": {
      "image/png": "[encoded data removed]",
      "text/plain": [
       "<Figure size 432x288 with 1 Axes>"
      ]
     },
     "metadata": {
      "needs_background": "light"
     },
     "output_type": "display_data"
    }
   ],
   "source": [
    "plt.plot(t,us.T[:,18] ,'-')\n",
    "plt.xlabel('t')\n",
    "plt.ylabel('z2')\n",
    "plt.show()"
   ]
  },
  {
   "cell_type": "code",
   "execution_count": 164,
   "metadata": {},
   "outputs": [
    {
     "data": {
      "image/png": "[encoded data removed]",
      "text/plain": [
       "<Figure size 432x288 with 1 Axes>"
      ]
     },
     "metadata": {
      "needs_background": "light"
     },
     "output_type": "display_data"
    }
   ],
   "source": [
    "plt.plot(t,us.T[:,22] ,'-')\n",
    "plt.xlabel('t')\n",
    "plt.ylabel('dz2')\n",
    "plt.show()"
   ]
  },
  {
   "cell_type": "code",
   "execution_count": 165,
   "metadata": {},
   "outputs": [
    {
     "data": {
      "image/png": "[encoded data removed]",
      "text/plain": [
       "<Figure size 432x288 with 1 Axes>"
      ]
     },
     "metadata": {
      "needs_background": "light"
     },
     "output_type": "display_data"
    }
   ],
   "source": [
    "plt.plot(t,us.T[:,34],'-')\n",
    "plt.xlabel('t')\n",
    "plt.ylabel('θ2')\n",
    "plt.show()"
   ]
  },
  {
   "cell_type": "code",
   "execution_count": 166,
   "metadata": {},
   "outputs": [
    {
     "data": {
      "image/png": "[encoded data removed]",
      "text/plain": [
       "<Figure size 432x288 with 1 Axes>"
      ]
     },
     "metadata": {
      "needs_background": "light"
     },
     "output_type": "display_data"
    }
   ],
   "source": [
    "plt.plot(t,us.T[:,38] ,'-')\n",
    "plt.xlabel('t')\n",
    "plt.ylabel('dθ2')\n",
    "plt.show()"
   ]
  },
  {
   "cell_type": "code",
   "execution_count": 167,
   "metadata": {},
   "outputs": [
    {
     "data": {
      "image/png": "[encoded data removed]",
      "text/plain": [
       "<Figure size 432x288 with 1 Axes>"
      ]
     },
     "metadata": {
      "needs_background": "light"
     },
     "output_type": "display_data"
    }
   ],
   "source": [
    "plt.plot(t,us.T[:,42],'-')\n",
    "plt.xlabel('t')\n",
    "plt.ylabel('ψ2')\n",
    "plt.show()"
   ]
  },
  {
   "cell_type": "code",
   "execution_count": 168,
   "metadata": {},
   "outputs": [
    {
     "data": {
      "image/png": "[encoded data removed]",
      "text/plain": [
       "<Figure size 432x288 with 1 Axes>"
      ]
     },
     "metadata": {
      "needs_background": "light"
     },
     "output_type": "display_data"
    }
   ],
   "source": [
    "plt.plot(t,us.T[:,46] ,'-')\n",
    "plt.xlabel('t')\n",
    "plt.ylabel('dψ2')\n",
    "plt.show()"
   ]
  },
  {
   "cell_type": "code",
   "execution_count": null,
   "metadata": {},
   "outputs": [],
   "source": []
  },
  {
   "cell_type": "code",
   "execution_count": null,
   "metadata": {},
   "outputs": [],
   "source": []
  },
  {
   "cell_type": "code",
   "execution_count": null,
   "metadata": {},
   "outputs": [],
   "source": []
  }
 ],
 "metadata": {
  "kernelspec": {
   "display_name": "Python 3",
   "language": "python",
   "name": "python3"
  },
  "language_info": {
   "codemirror_mode": {
    "name": "ipython",
    "version": 3
   },
   "file_extension": ".py",
   "mimetype": "text/x-python",
   "name": "python",
   "nbconvert_exporter": "python",
   "pygments_lexer": "ipython3",
   "version": "3.7.7"
  }
 },
 "nbformat": 4,
 "nbformat_minor": 4
}
