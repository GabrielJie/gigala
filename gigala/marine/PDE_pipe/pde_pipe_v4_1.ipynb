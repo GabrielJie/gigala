{
 "cells": [
  {
   "cell_type": "markdown",
   "metadata": {},
   "source": [
    "#### Model taken from:\n",
    "- [1] Offshore Pipelaying Dynamics. Gullik Anthon Jensen \n",
    "- [2] A nonlinear PDE formulation for offshore vessel pipeline installation. Gullik A. Jensen et al \n",
    "- [3] Modeling and Control of Offshore Pipelay Operations Based on a Finite Strain Pipe Model. Gullik A. Jensen "
   ]
  },
  {
   "cell_type": "code",
   "execution_count": 1,
   "metadata": {},
   "outputs": [],
   "source": [
    "# import julia;\n",
    "# julia.install()"
   ]
  },
  {
   "cell_type": "code",
   "execution_count": 2,
   "metadata": {},
   "outputs": [],
   "source": [
    "# TAKEAWAY: space derivative depend on nodes granularity. \n",
    "# Need increase number of nodes!"
   ]
  },
  {
   "cell_type": "code",
   "execution_count": 3,
   "metadata": {},
   "outputs": [],
   "source": [
    "import numpy as np\n",
    "import numdifftools as nd\n",
    "import math\n",
    "import matplotlib.pyplot as plt\n",
    "from datetime import datetime\n",
    "# from scipy.integrate import odeint\n",
    "# from torchdiffeq import odeint\n",
    "import torch\n",
    "import inspect\n",
    "import random"
   ]
  },
  {
   "cell_type": "code",
   "execution_count": 4,
   "metadata": {},
   "outputs": [],
   "source": [
    "import sys\n",
    "sys.path.insert(0, \"../../../../Ocean_Intella/PythonVehicleSimulator-master/src/python_vehicle_simulator\")\n",
    "sys.path.insert(0, \"../../../../Ocean_Intella/PythonVehicleSimulator-master/src\")"
   ]
  },
  {
   "cell_type": "code",
   "execution_count": 5,
   "metadata": {},
   "outputs": [],
   "source": [
    "# from diffeqpy import ode\n",
    "# from diffeqpy import de"
   ]
  },
  {
   "cell_type": "code",
   "execution_count": 6,
   "metadata": {},
   "outputs": [],
   "source": [
    "from vehicles import shipClarke83\n",
    "from python_vehicle_simulator.vehicles import *\n",
    "from python_vehicle_simulator.lib import *\n",
    "from python_vehicle_simulator.lib.gnc import ssa"
   ]
  },
  {
   "cell_type": "code",
   "execution_count": 7,
   "metadata": {},
   "outputs": [],
   "source": [
    "from sympy import *"
   ]
  },
  {
   "cell_type": "code",
   "execution_count": 8,
   "metadata": {},
   "outputs": [],
   "source": [
    "def R2D(value):  # radians to degrees\n",
    "    return value * 180 / math.pi"
   ]
  },
  {
   "cell_type": "code",
   "execution_count": 9,
   "metadata": {},
   "outputs": [],
   "source": [
    "mp = 96 #  (submerged) [kg/m]"
   ]
  },
  {
   "cell_type": "code",
   "execution_count": 10,
   "metadata": {},
   "outputs": [],
   "source": [
    "# # q0=[i for i in range(12)]\n",
    "# max_t = 2 # 10 #600  \n",
    "# dt = 0.5\n",
    "# t=np.arange(0,max_t,dt)\n",
    "# ds = 0.025\n",
    "# print(t)"
   ]
  },
  {
   "cell_type": "code",
   "execution_count": 11,
   "metadata": {},
   "outputs": [],
   "source": [
    "node_N=4"
   ]
  },
  {
   "cell_type": "code",
   "execution_count": 12,
   "metadata": {},
   "outputs": [],
   "source": [
    "diag_Irho = 1e2*np.array([1, 1, 2]) # [m^4]  , p.99 in [1]\n",
    " \n",
    "Irho=np.diag(diag_Irho)"
   ]
  },
  {
   "cell_type": "code",
   "execution_count": 13,
   "metadata": {},
   "outputs": [
    {
     "data": {
      "text/plain": [
       "array([[100.,   0.,   0.],\n",
       "       [  0., 100.,   0.],\n",
       "       [  0.,   0., 200.]])"
      ]
     },
     "execution_count": 13,
     "metadata": {},
     "output_type": "execute_result"
    }
   ],
   "source": [
    "Irho"
   ]
  },
  {
   "cell_type": "code",
   "execution_count": null,
   "metadata": {},
   "outputs": [],
   "source": []
  },
  {
   "cell_type": "code",
   "execution_count": 14,
   "metadata": {},
   "outputs": [],
   "source": [
    "qw = 1025 # Water density [kg/m3]\n",
    "d0 = 0.761 # Outer diameter of pipe, [m]"
   ]
  },
  {
   "cell_type": "code",
   "execution_count": 15,
   "metadata": {},
   "outputs": [],
   "source": [
    "diag_DT = 1.5*np.array([1, 1, 1]) # [N/m]  , p.99 in [1]"
   ]
  },
  {
   "cell_type": "code",
   "execution_count": 16,
   "metadata": {},
   "outputs": [],
   "source": [
    "DT=np.diag(diag_DT) # (35) in [2]"
   ]
  },
  {
   "cell_type": "code",
   "execution_count": 17,
   "metadata": {},
   "outputs": [
    {
     "data": {
      "text/plain": [
       "array([[1.5, 0. , 0. ],\n",
       "       [0. , 1.5, 0. ],\n",
       "       [0. , 0. , 1.5]])"
      ]
     },
     "execution_count": 17,
     "metadata": {},
     "output_type": "execute_result"
    }
   ],
   "source": [
    "DT"
   ]
  },
  {
   "cell_type": "code",
   "execution_count": 18,
   "metadata": {},
   "outputs": [],
   "source": [
    "diag_CT = 1e9*np.array([1, 1, 1]) # [Nm2] p. 4721 in [3]\n",
    "# diag_CT = 1e10*np.array([1, 1, 1]) "
   ]
  },
  {
   "cell_type": "code",
   "execution_count": 19,
   "metadata": {},
   "outputs": [],
   "source": [
    "CT=np.diag(diag_CT)"
   ]
  },
  {
   "cell_type": "code",
   "execution_count": 20,
   "metadata": {},
   "outputs": [
    {
     "data": {
      "text/plain": [
       "array([[1.e+09, 0.e+00, 0.e+00],\n",
       "       [0.e+00, 1.e+09, 0.e+00],\n",
       "       [0.e+00, 0.e+00, 1.e+09]])"
      ]
     },
     "execution_count": 20,
     "metadata": {},
     "output_type": "execute_result"
    }
   ],
   "source": [
    "CT"
   ]
  },
  {
   "cell_type": "code",
   "execution_count": 21,
   "metadata": {},
   "outputs": [],
   "source": [
    "# angles should be in radians, otherwise np.radians them  \n",
    "def Re_t_(arr):\n",
    "    φ,θ,ψ=arr[0],arr[1],arr[2]\n",
    "  \n",
    "    Cφ=np.matrix([[1,0,0],\n",
    "                      [0,np.cos(φ),-np.sin(φ)],\n",
    "                      [0,np.sin(φ),np.cos(φ)]])\n",
    "\n",
    "    Cθ=np.matrix([[np.cos(θ),0,np.sin(θ)],\n",
    "                      [0,1,0],\n",
    "                      [-np.sin(θ),0,np.cos(θ)]])\n",
    "\n",
    "    Cψ=np.matrix([[np.cos(ψ),-np.sin(ψ),0],\n",
    "                      [np.sin(ψ),np.cos(ψ),0],\n",
    "                      [0,0,1]])\n",
    "        \n",
    "\n",
    "    return np.array(np.dot(np.dot(Cφ,Cθ),Cψ) )"
   ]
  },
  {
   "cell_type": "code",
   "execution_count": 22,
   "metadata": {},
   "outputs": [
    {
     "data": {
      "text/plain": [
       "array([[ 0.41198225,  0.05872664,  0.90929743],\n",
       "       [-0.68124272, -0.64287284,  0.35017549],\n",
       "       [ 0.60512725, -0.76371834, -0.2248451 ]])"
      ]
     },
     "execution_count": 22,
     "metadata": {},
     "output_type": "execute_result"
    }
   ],
   "source": [
    "Re_t_([1,2,3])"
   ]
  },
  {
   "cell_type": "code",
   "execution_count": 23,
   "metadata": {},
   "outputs": [],
   "source": [
    "rng = np.random.default_rng()"
   ]
  },
  {
   "cell_type": "code",
   "execution_count": 24,
   "metadata": {},
   "outputs": [],
   "source": [
    "φ, θ, ψ = rng.standard_normal(node_N),rng.standard_normal(node_N),rng.standard_normal(node_N)"
   ]
  },
  {
   "cell_type": "code",
   "execution_count": 25,
   "metadata": {},
   "outputs": [],
   "source": [
    "def Re_t(a,b,c):\n",
    "    xyz=np.stack((a,b,c), axis=1)\n",
    "#     print(Re_t_(xyz[0]))\n",
    "    return np.apply_along_axis(Re_t_, 1, xyz)"
   ]
  },
  {
   "cell_type": "code",
   "execution_count": 26,
   "metadata": {},
   "outputs": [],
   "source": [
    "# φ, θ, ψ= np.zeros(node_N),np.zeros(node_N),np.zeros(node_N)"
   ]
  },
  {
   "cell_type": "code",
   "execution_count": 27,
   "metadata": {},
   "outputs": [
    {
     "data": {
      "text/plain": [
       "array([[ 0.51651314, -0.05830864,  0.85429168],\n",
       "       [ 0.77988383,  0.44396312, -0.44122325],\n",
       "       [-0.35354687,  0.89414588,  0.27478675]])"
      ]
     },
     "execution_count": 27,
     "metadata": {},
     "output_type": "execute_result"
    }
   ],
   "source": [
    "Re_t_(np.array([φ[0], θ[0], ψ[0]]))"
   ]
  },
  {
   "cell_type": "code",
   "execution_count": 28,
   "metadata": {
    "scrolled": true
   },
   "outputs": [
    {
     "name": "stdout",
     "output_type": "stream",
     "text": [
      "0:00:00.001764\n"
     ]
    }
   ],
   "source": [
    "startTime1 = datetime.now()\n",
    "Ret=Re_t(φ,θ,ψ)\n",
    "print(datetime.now() - startTime1)"
   ]
  },
  {
   "cell_type": "code",
   "execution_count": 29,
   "metadata": {},
   "outputs": [
    {
     "data": {
      "text/plain": [
       "array([[[ 0.51651314, -0.05830864,  0.85429168],\n",
       "        [ 0.77988383,  0.44396312, -0.44122325],\n",
       "        [-0.35354687,  0.89414588,  0.27478675]],\n",
       "\n",
       "       [[ 0.80141109, -0.10982273, -0.58794492],\n",
       "        [ 0.35421454,  0.87922301,  0.31858901],\n",
       "        [ 0.48194639, -0.4635794 ,  0.74351988]],\n",
       "\n",
       "       [[ 0.21448146, -0.93137864, -0.29416241],\n",
       "        [ 0.85219174,  0.03128723,  0.52229335],\n",
       "        [-0.47724935, -0.36270502,  0.80042372]],\n",
       "\n",
       "       [[ 0.17705555, -0.96575975, -0.18962976],\n",
       "        [ 0.88024069,  0.06919824,  0.46945493],\n",
       "        [-0.44025862, -0.25003943,  0.86235296]]])"
      ]
     },
     "execution_count": 29,
     "metadata": {},
     "output_type": "execute_result"
    }
   ],
   "source": [
    "Ret"
   ]
  },
  {
   "cell_type": "code",
   "execution_count": 30,
   "metadata": {},
   "outputs": [
    {
     "data": {
      "text/plain": [
       "(4, 3, 3)"
      ]
     },
     "execution_count": 30,
     "metadata": {},
     "output_type": "execute_result"
    }
   ],
   "source": [
    "Ret.shape"
   ]
  },
  {
   "cell_type": "code",
   "execution_count": null,
   "metadata": {},
   "outputs": [],
   "source": []
  },
  {
   "cell_type": "code",
   "execution_count": 31,
   "metadata": {},
   "outputs": [],
   "source": [
    "# Dphi1, Dphi2, Dphi3 = symbols(\"Dphi1 Dphi2 Dphi3\")\n",
    "dx,dy,dz=rng.standard_normal(node_N),rng.standard_normal(node_N),rng.standard_normal(node_N)"
   ]
  },
  {
   "cell_type": "code",
   "execution_count": 32,
   "metadata": {},
   "outputs": [],
   "source": [
    "def C1(dx,dy,dz, Ret):\n",
    "    B=np.vstack([dx**2,(dy**2+dz**2)**0.5*dy,(dy**2+dz**2)**0.5*dz])\n",
    "#     print(np.dot(Ret[0],B.T[0]))\n",
    "    ans=np.einsum('ijk,ik->ij', Ret,B.T)\n",
    "    return ans.T"
   ]
  },
  {
   "cell_type": "code",
   "execution_count": 33,
   "metadata": {},
   "outputs": [
    {
     "data": {
      "text/plain": [
       "array([0.01044703, 1.28224513, 0.61227641, 1.16893161])"
      ]
     },
     "execution_count": 33,
     "metadata": {},
     "output_type": "execute_result"
    }
   ],
   "source": [
    "dx**2"
   ]
  },
  {
   "cell_type": "code",
   "execution_count": 34,
   "metadata": {},
   "outputs": [
    {
     "data": {
      "text/plain": [
       "array([[-2.13046519, -1.34460771,  0.27578489, -0.88676005],\n",
       "       [ 1.13143039,  0.63910366,  0.41619681,  1.57661484],\n",
       "       [-0.64623972,  4.42673478, -0.41581235,  0.14051546]])"
      ]
     },
     "execution_count": 34,
     "metadata": {},
     "output_type": "execute_result"
    }
   ],
   "source": [
    "C1(dx,dy,dz,Ret)"
   ]
  },
  {
   "cell_type": "code",
   "execution_count": 35,
   "metadata": {},
   "outputs": [
    {
     "data": {
      "text/plain": [
       "(3, 4)"
      ]
     },
     "execution_count": 35,
     "metadata": {},
     "output_type": "execute_result"
    }
   ],
   "source": [
    "C1(dx,dy,dz,Ret).shape"
   ]
  },
  {
   "cell_type": "code",
   "execution_count": 36,
   "metadata": {},
   "outputs": [
    {
     "name": "stdout",
     "output_type": "stream",
     "text": [
      "0:00:00.000310\n"
     ]
    }
   ],
   "source": [
    "startTime1 = datetime.now()\n",
    "C1(dx,dy,dz,Ret)\n",
    "print(datetime.now() - startTime1)"
   ]
  },
  {
   "cell_type": "code",
   "execution_count": 37,
   "metadata": {},
   "outputs": [
    {
     "data": {
      "text/plain": [
       "array([52.6516875 , 74.46073019, 74.46073019])"
      ]
     },
     "execution_count": 37,
     "metadata": {},
     "output_type": "execute_result"
    }
   ],
   "source": [
    "1/2*d0*qw*np.dot(DT,np.array([0.09,0.12727922, 0.12727922])) "
   ]
  },
  {
   "cell_type": "code",
   "execution_count": 38,
   "metadata": {},
   "outputs": [],
   "source": [
    "def fD(dx,dy,dz,DT,Ret):\n",
    "#     print(dx)\n",
    "#     print(C1(dx,dy,dz).shape) m2*kg/m3 N/m m2/s2*rad\n",
    "    return 1/2*d0*qw*np.dot(DT, C1(dx,dy,dz,Ret))*9.81"
   ]
  },
  {
   "cell_type": "code",
   "execution_count": 39,
   "metadata": {},
   "outputs": [
    {
     "data": {
      "text/plain": [
       "array([[-12226.81202076,  -7716.74929587,   1582.73885673,\n",
       "         -5089.14603923],\n",
       "       [  6493.31740426,   3667.83759746,   2388.56762909,\n",
       "          9048.24607824],\n",
       "       [ -3708.79167174,  25405.18111115,  -2386.36119936,\n",
       "           806.42299178]])"
      ]
     },
     "execution_count": 39,
     "metadata": {},
     "output_type": "execute_result"
    }
   ],
   "source": [
    "fD(dx,dy,dz,DT,Ret)"
   ]
  },
  {
   "cell_type": "code",
   "execution_count": 40,
   "metadata": {},
   "outputs": [
    {
     "data": {
      "text/plain": [
       "array([[-12226.81202076,   6493.31740426,  -3708.79167174],\n",
       "       [ -7716.74929587,   3667.83759746,  25405.18111115],\n",
       "       [  1582.73885673,   2388.56762909,  -2386.36119936],\n",
       "       [ -5089.14603923,   9048.24607824,    806.42299178]])"
      ]
     },
     "execution_count": 40,
     "metadata": {},
     "output_type": "execute_result"
    }
   ],
   "source": [
    "fD(dx,dy,dz,DT,Ret).T"
   ]
  },
  {
   "cell_type": "code",
   "execution_count": 41,
   "metadata": {},
   "outputs": [
    {
     "name": "stdout",
     "output_type": "stream",
     "text": [
      "0:00:00.000425\n"
     ]
    }
   ],
   "source": [
    "startTime1 = datetime.now()\n",
    "fD(dx,dy,dz,DT,Ret)\n",
    "print(datetime.now() - startTime1)"
   ]
  },
  {
   "cell_type": "code",
   "execution_count": 42,
   "metadata": {},
   "outputs": [],
   "source": [
    "# https://docs.scipy.org/doc/scipy-1.8.0/tutorial/integrate.html  \n",
    "# 1-D Gray-Scott "
   ]
  },
  {
   "cell_type": "code",
   "execution_count": 43,
   "metadata": {},
   "outputs": [],
   "source": [
    "# Mat=np.matrix([[1.3,.4,6.7],[9,7,6],[3.3,5.6,7]])"
   ]
  },
  {
   "cell_type": "code",
   "execution_count": 44,
   "metadata": {},
   "outputs": [],
   "source": [
    "I=np.identity(3)"
   ]
  },
  {
   "cell_type": "code",
   "execution_count": 45,
   "metadata": {},
   "outputs": [
    {
     "name": "stdout",
     "output_type": "stream",
     "text": [
      "0:00:00.000363\n"
     ]
    }
   ],
   "source": [
    "startTime1 = datetime.now()\n",
    "np.dot(I,fD(dx,dy,dz,DT,Ret))\n",
    "print(datetime.now() - startTime1)"
   ]
  },
  {
   "cell_type": "code",
   "execution_count": 46,
   "metadata": {},
   "outputs": [],
   "source": [
    "Rb_t=I # https://www.researchgate.net/profile/Thor-Fossen/publication/224560837_Modeling_and_Control_of_Offshore_Pipelay_Operations_Based_on_a_Finite_Strain_Pipe_Model/links/00b7d520e175a3f918000000/Modeling-and-Control-of-Offshore-Pipelay-Operations-Based-on-a-Finite-Strain-Pipe-Model.pdf"
   ]
  },
  {
   "cell_type": "code",
   "execution_count": 47,
   "metadata": {},
   "outputs": [
    {
     "data": {
      "text/plain": [
       "array([[1., 0., 0.],\n",
       "       [0., 1., 0.],\n",
       "       [0., 0., 1.]])"
      ]
     },
     "execution_count": 47,
     "metadata": {},
     "output_type": "execute_result"
    }
   ],
   "source": [
    "Rb_t"
   ]
  },
  {
   "cell_type": "code",
   "execution_count": null,
   "metadata": {},
   "outputs": [],
   "source": []
  },
  {
   "cell_type": "code",
   "execution_count": 48,
   "metadata": {},
   "outputs": [],
   "source": [
    "diag_DR = 1.5*np.array([1, 1, 1]) # [N m/rad]  p.4721 in [3]"
   ]
  },
  {
   "cell_type": "code",
   "execution_count": 49,
   "metadata": {},
   "outputs": [],
   "source": [
    "DR=np.diag(diag_DR) "
   ]
  },
  {
   "cell_type": "code",
   "execution_count": 50,
   "metadata": {},
   "outputs": [],
   "source": [
    "dI= 0.69# Inner diameter of pipe, [m]"
   ]
  },
  {
   "cell_type": "code",
   "execution_count": 51,
   "metadata": {},
   "outputs": [],
   "source": [
    "Ar=math.pi*((d0/2)**2-(dI/2)**2)"
   ]
  },
  {
   "cell_type": "code",
   "execution_count": 52,
   "metadata": {},
   "outputs": [
    {
     "data": {
      "text/plain": [
       "0.08091250419136858"
      ]
     },
     "execution_count": 52,
     "metadata": {},
     "output_type": "execute_result"
    }
   ],
   "source": [
    "Ar"
   ]
  },
  {
   "cell_type": "code",
   "execution_count": 53,
   "metadata": {},
   "outputs": [],
   "source": [
    "fg_e=np.array([[0,0,(mp-qw*Ar)*9.81] for x in range(node_N)])"
   ]
  },
  {
   "cell_type": "code",
   "execution_count": 54,
   "metadata": {},
   "outputs": [
    {
     "data": {
      "text/plain": [
       "array([[  0.        ,   0.        , 128.16454223],\n",
       "       [  0.        ,   0.        , 128.16454223],\n",
       "       [  0.        ,   0.        , 128.16454223],\n",
       "       [  0.        ,   0.        , 128.16454223]])"
      ]
     },
     "execution_count": 54,
     "metadata": {},
     "output_type": "execute_result"
    }
   ],
   "source": [
    "fg_e"
   ]
  },
  {
   "cell_type": "code",
   "execution_count": 55,
   "metadata": {},
   "outputs": [],
   "source": [
    "from numpy import linalg as LA"
   ]
  },
  {
   "cell_type": "code",
   "execution_count": 56,
   "metadata": {},
   "outputs": [],
   "source": [
    "def k_sigma(hi,d0,fg_e):\n",
    "    ans=[]\n",
    "#     print('hi',hi)\n",
    "    for it in hi:\n",
    "#         print(it)\n",
    "        if it<0:\n",
    "            ans.append(0)\n",
    "        elif 0<=it<=d0/20:\n",
    "#             print(LA.norm(fg_e,2)/(d0/8-d0/40)*10*it**2/d0)\n",
    "            ans.append(np.float64(LA.norm(fg_e,2)/(d0/8-d0/40)*10*it**2/d0))\n",
    "        else:\n",
    "#             print(LA.norm(fg_e,2)/(d0/8-d0/40)*10*hi**2/d0)\n",
    "            ans.append(np.float64(LA.norm(fg_e,2)/(d0/8-d0/40)*(it-d0/40)))\n",
    "#     print(ans)         \n",
    "     \n",
    "    return np.array(ans).reshape(node_N,1)   "
   ]
  },
  {
   "cell_type": "code",
   "execution_count": 57,
   "metadata": {},
   "outputs": [],
   "source": [
    "x,y,z=np.array([2.3 for i in range(node_N)]),np.array([2.3 for i in range(node_N)]),np.array([2.3 for i in range(node_N)])"
   ]
  },
  {
   "cell_type": "code",
   "execution_count": 58,
   "metadata": {},
   "outputs": [],
   "source": [
    "def hi(x,y,z,d0):\n",
    "    return (np.dot(np.array([x,y,z]).T,[0,0,1])+d0/2).reshape(node_N,1) "
   ]
  },
  {
   "cell_type": "code",
   "execution_count": 59,
   "metadata": {},
   "outputs": [
    {
     "name": "stdout",
     "output_type": "stream",
     "text": [
      "0:00:00.000213\n"
     ]
    }
   ],
   "source": [
    "startTime1 = datetime.now()\n",
    "hi(x,y,z,d0)\n",
    "print(datetime.now() - startTime1)"
   ]
  },
  {
   "cell_type": "code",
   "execution_count": 60,
   "metadata": {},
   "outputs": [
    {
     "data": {
      "text/plain": [
       "array([[8964.69710988],\n",
       "       [8964.69710988],\n",
       "       [8964.69710988],\n",
       "       [8964.69710988]])"
      ]
     },
     "execution_count": 60,
     "metadata": {},
     "output_type": "execute_result"
    }
   ],
   "source": [
    "k_sigma(hi(x,y,z,d0),d0,fg_e)"
   ]
  },
  {
   "cell_type": "code",
   "execution_count": 61,
   "metadata": {},
   "outputs": [
    {
     "name": "stdout",
     "output_type": "stream",
     "text": [
      "0:00:00.003354\n"
     ]
    }
   ],
   "source": [
    "startTime1 = datetime.now()\n",
    "k_sigma(hi(x,y,z,d0),d0,fg_e)\n",
    "print(datetime.now() - startTime1)"
   ]
  },
  {
   "cell_type": "code",
   "execution_count": 62,
   "metadata": {},
   "outputs": [],
   "source": [
    "# TODO: force shoud be acting only at nodes that are in contact with the seabed\n",
    "def sigma(x,y,z):\n",
    "    return (k_sigma(hi(x,y,z,d0),d0,fg_e)*np.array([0,0,1]))"
   ]
  },
  {
   "cell_type": "code",
   "execution_count": 63,
   "metadata": {},
   "outputs": [
    {
     "name": "stdout",
     "output_type": "stream",
     "text": [
      "0:00:00.000533\n"
     ]
    }
   ],
   "source": [
    "startTime1 = datetime.now()\n",
    "sigma(x,y,z)\n",
    "print(datetime.now() - startTime1)"
   ]
  },
  {
   "cell_type": "code",
   "execution_count": 64,
   "metadata": {},
   "outputs": [],
   "source": [
    "# # angles should be in radians, otherwise np.radians them  \n",
    "# def Re_t_(arr):\n",
    "#     φ,θ,ψ=arr[0],arr[1],arr[2]\n",
    "  \n",
    "#     Cφ=np.matrix([[1,0,0],\n",
    "#                       [0,np.cos(φ),-np.sin(φ)],\n",
    "#                       [0,np.sin(φ),np.cos(φ)]])\n",
    "\n",
    "#     Cθ=np.matrix([[np.cos(θ),0,np.sin(θ)],\n",
    "#                       [0,1,0],\n",
    "#                       [-np.sin(θ),0,np.cos(θ)]])\n",
    "\n",
    "#     Cψ=np.matrix([[np.cos(ψ),-np.sin(ψ),0],\n",
    "#                       [np.sin(ψ),np.cos(ψ),0],\n",
    "#                       [0,0,1]])\n",
    "        \n",
    "\n",
    "#     return np.array(np.dot(np.dot(Cφ,Cθ),Cψ) )"
   ]
  },
  {
   "cell_type": "code",
   "execution_count": 65,
   "metadata": {},
   "outputs": [],
   "source": [
    "# Re_t_([1,2,3])"
   ]
  },
  {
   "cell_type": "code",
   "execution_count": 66,
   "metadata": {},
   "outputs": [],
   "source": [
    "# φ, θ, ψ = rng.standard_normal(node_N),rng.standard_normal(node_N),rng.standard_normal(node_N)"
   ]
  },
  {
   "cell_type": "code",
   "execution_count": 67,
   "metadata": {},
   "outputs": [],
   "source": [
    "# def Re_t(a,b,c):\n",
    "#     xyz=np.stack((a,b,c), axis=1)\n",
    "# #     print(Re_t_(xyz[0]))\n",
    "#     return np.apply_along_axis(Re_t_, 1, xyz)"
   ]
  },
  {
   "cell_type": "code",
   "execution_count": 68,
   "metadata": {},
   "outputs": [],
   "source": [
    "# φ, θ, ψ"
   ]
  },
  {
   "cell_type": "code",
   "execution_count": 69,
   "metadata": {},
   "outputs": [],
   "source": [
    "# Re_t_(np.array([φ[0], θ[0], ψ[0]]))"
   ]
  },
  {
   "cell_type": "code",
   "execution_count": 70,
   "metadata": {
    "scrolled": true
   },
   "outputs": [],
   "source": [
    "# startTime1 = datetime.now()\n",
    "# Ret=Re_t(φ,θ,ψ)\n",
    "# print(datetime.now() - startTime1)"
   ]
  },
  {
   "cell_type": "code",
   "execution_count": 71,
   "metadata": {},
   "outputs": [],
   "source": [
    "# Ret"
   ]
  },
  {
   "cell_type": "code",
   "execution_count": 72,
   "metadata": {},
   "outputs": [],
   "source": [
    "# vessel motion\n",
    "# Fossen book p.101, p.190, p.384, p.431\n",
    "# Fossen paper, section 6"
   ]
  },
  {
   "cell_type": "code",
   "execution_count": 73,
   "metadata": {},
   "outputs": [],
   "source": [
    "# Fossen paper, equation (12)"
   ]
  },
  {
   "cell_type": "code",
   "execution_count": 74,
   "metadata": {},
   "outputs": [],
   "source": [
    "# φ,θ,ψ=1,2,3"
   ]
  },
  {
   "cell_type": "code",
   "execution_count": 75,
   "metadata": {},
   "outputs": [],
   "source": [
    "def Re_b(Ret):\n",
    "    return np.dot(Ret, Rb_t ) # (5) in[3]"
   ]
  },
  {
   "cell_type": "code",
   "execution_count": 76,
   "metadata": {},
   "outputs": [
    {
     "name": "stdout",
     "output_type": "stream",
     "text": [
      "0:00:00.000183\n"
     ]
    }
   ],
   "source": [
    "startTime1 = datetime.now()\n",
    "Re_b(Ret)\n",
    "print(datetime.now() - startTime1)"
   ]
  },
  {
   "cell_type": "code",
   "execution_count": 77,
   "metadata": {},
   "outputs": [],
   "source": [
    "# p=np.dot(Re_b, phi) # (41) in[3]"
   ]
  },
  {
   "cell_type": "code",
   "execution_count": 78,
   "metadata": {},
   "outputs": [],
   "source": [
    "# def d_s(da,db,dc,dt,ds):\n",
    "    \n",
    "def d_s(da,db,dc,x,y,z):\n",
    "#     return np.vstack([da*dt/ds,db*dt/ds,dc*dt/ds])\n",
    "#     print(np.diff(da))\n",
    "\n",
    "    ds=np.sqrt(np.diff(x,prepend=x[0])**2+np.diff(y,prepend=y[0])**2\n",
    "                 +np.diff(z,prepend=z[0])**2)\n",
    "#     print(ds)\n",
    "    ds[ds == 0] = 1\n",
    "    return np.vstack([np.diff(da,prepend=da[0])/ds,np.diff(db,prepend=db[0])/ds,np.diff(dc,prepend=dc[0])/ds])"
   ]
  },
  {
   "cell_type": "code",
   "execution_count": 79,
   "metadata": {},
   "outputs": [],
   "source": [
    "# a=[1,2,3]\n",
    "# np.diff(a,prepend=a[0])"
   ]
  },
  {
   "cell_type": "code",
   "execution_count": 80,
   "metadata": {},
   "outputs": [],
   "source": [
    "x,y,z=100*rng.standard_normal(node_N),100*rng.standard_normal(node_N),100*rng.standard_normal(node_N)\n"
   ]
  },
  {
   "cell_type": "code",
   "execution_count": 81,
   "metadata": {},
   "outputs": [
    {
     "name": "stdout",
     "output_type": "stream",
     "text": [
      "0:00:00.000630\n"
     ]
    }
   ],
   "source": [
    "startTime1 = datetime.now()\n",
    "d_s(x,y,z,x,y,z)\n",
    "print(datetime.now() - startTime1)"
   ]
  },
  {
   "cell_type": "code",
   "execution_count": 82,
   "metadata": {},
   "outputs": [],
   "source": [
    "# φ,θ,ψ=np.array([2.3 for i in range(node_N)]),np.array([1.3 for i in range(node_N)]),np.array([2.1 for i in range(node_N)])\n"
   ]
  },
  {
   "cell_type": "code",
   "execution_count": 83,
   "metadata": {},
   "outputs": [
    {
     "data": {
      "text/plain": [
       "array([[1.e+09, 0.e+00, 0.e+00],\n",
       "       [0.e+00, 1.e+09, 0.e+00],\n",
       "       [0.e+00, 0.e+00, 1.e+09]])"
      ]
     },
     "execution_count": 83,
     "metadata": {},
     "output_type": "execute_result"
    }
   ],
   "source": [
    "CT"
   ]
  },
  {
   "cell_type": "code",
   "execution_count": 84,
   "metadata": {},
   "outputs": [],
   "source": [
    "def ne(x,y,z,Ret):\n",
    "#     print(np.multiply(Re_t(φ,θ,ψ),CT).shape)\n",
    "#     print(np.multiply(np.multiply(Re_t(φ,θ,ψ),CT),\n",
    "#                          Re_t(φ,θ,ψ)).shape)\n",
    "#     print(d_s(dx,dy,dz,dt,ds).shape)\n",
    "    \n",
    "    A=np.multiply(np.multiply(Ret,CT),Ret)\n",
    "#     B=d_s(dx,dy,dz,dt,ds).T\n",
    "    B=d_s(x,y,z,x,y,z).T\n",
    "    \n",
    "#     print(A)\n",
    "    \n",
    "#     ans=[]\n",
    "#     for i in range(len(A)):\n",
    "#         ans.append(np.dot(A[i],B[i]))\n",
    "    return np.einsum('ijk,ik->ij', A,B)\n",
    "#     return np.array(ans)"
   ]
  },
  {
   "cell_type": "code",
   "execution_count": 85,
   "metadata": {},
   "outputs": [],
   "source": [
    "def ne_(x,y,z,dx,dy,dz,Ret):\n",
    "#     print('ho',fg_e.shape)\n",
    "#     print(fD(dx,dy,dz,DT))\n",
    "#     print(sigma(x,y,z))\n",
    "    return -fg_e.T-fD(dx,dy,dz,DT,Ret) #-sigma(x,y,z).T\n",
    "#     return -fg_e-fD(dx,dy,dz,DT)"
   ]
  },
  {
   "cell_type": "code",
   "execution_count": 86,
   "metadata": {},
   "outputs": [
    {
     "data": {
      "text/plain": [
       "array([[     0.        ,      0.        , 295500.76540216],\n",
       "       [     0.        ,      0.        ,      0.        ],\n",
       "       [     0.        ,      0.        ,      0.        ],\n",
       "       [     0.        ,      0.        ,  11304.8212213 ]])"
      ]
     },
     "execution_count": 86,
     "metadata": {},
     "output_type": "execute_result"
    }
   ],
   "source": [
    "sigma(x,y,z)"
   ]
  },
  {
   "cell_type": "code",
   "execution_count": 87,
   "metadata": {},
   "outputs": [
    {
     "data": {
      "text/plain": [
       "array([[ 12226.81202076,   7716.74929587,  -1582.73885673,\n",
       "          5089.14603923],\n",
       "       [ -6493.31740426,  -3667.83759746,  -2388.56762909,\n",
       "         -9048.24607824],\n",
       "       [  3580.62712951, -25533.34565338,   2258.19665713,\n",
       "          -934.58753401]])"
      ]
     },
     "execution_count": 87,
     "metadata": {},
     "output_type": "execute_result"
    }
   ],
   "source": [
    "ne_(x,y,z,dx,dy,dz,Ret)"
   ]
  },
  {
   "cell_type": "code",
   "execution_count": 88,
   "metadata": {},
   "outputs": [],
   "source": [
    "# mp*ddp = d_s(ne,ds)+np.dot(Re_b,ne_)"
   ]
  },
  {
   "cell_type": "code",
   "execution_count": 89,
   "metadata": {},
   "outputs": [
    {
     "name": "stdout",
     "output_type": "stream",
     "text": [
      "0:00:00.000507\n"
     ]
    }
   ],
   "source": [
    "startTime1 = datetime.now()\n",
    "ne(x,y,z,Ret)\n",
    "print(datetime.now() - startTime1)"
   ]
  },
  {
   "cell_type": "code",
   "execution_count": 90,
   "metadata": {},
   "outputs": [
    {
     "name": "stdout",
     "output_type": "stream",
     "text": [
      "0:00:00.000940\n"
     ]
    }
   ],
   "source": [
    "startTime1 = datetime.now()\n",
    "ne_(x,y,z,dx,dy,dz,Ret)\n",
    "print(datetime.now() - startTime1)"
   ]
  },
  {
   "cell_type": "code",
   "execution_count": 91,
   "metadata": {},
   "outputs": [
    {
     "data": {
      "text/plain": [
       "(4, 3, 3)"
      ]
     },
     "execution_count": 91,
     "metadata": {},
     "output_type": "execute_result"
    }
   ],
   "source": [
    "Re_b(Ret).shape"
   ]
  },
  {
   "cell_type": "code",
   "execution_count": 92,
   "metadata": {},
   "outputs": [],
   "source": [
    "def Irho_e(Ret):\n",
    "    return np.multiply(np.multiply(Ret,Irho),Ret) # (19) in [3] "
   ]
  },
  {
   "cell_type": "code",
   "execution_count": 93,
   "metadata": {},
   "outputs": [
    {
     "data": {
      "text/plain": [
       "array([[[2.66785822e+01, 0.00000000e+00, 0.00000000e+00],\n",
       "        [0.00000000e+00, 1.97103254e+01, 0.00000000e+00],\n",
       "        [0.00000000e+00, 0.00000000e+00, 1.51015521e+01]],\n",
       "\n",
       "       [[6.42259735e+01, 0.00000000e+00, 0.00000000e+00],\n",
       "        [0.00000000e+00, 7.73033105e+01, 0.00000000e+00],\n",
       "        [0.00000000e+00, 0.00000000e+00, 1.10564363e+02]],\n",
       "\n",
       "       [[4.60022988e+00, 0.00000000e+00, 0.00000000e+00],\n",
       "        [0.00000000e+00, 9.78890999e-02, 0.00000000e+00],\n",
       "        [0.00000000e+00, 0.00000000e+00, 1.28135626e+02]],\n",
       "\n",
       "       [[3.13486669e+00, 0.00000000e+00, 0.00000000e+00],\n",
       "        [0.00000000e+00, 4.78839636e-01, 0.00000000e+00],\n",
       "        [0.00000000e+00, 0.00000000e+00, 1.48730526e+02]]])"
      ]
     },
     "execution_count": 93,
     "metadata": {},
     "output_type": "execute_result"
    }
   ],
   "source": [
    "Irho_e(Ret)"
   ]
  },
  {
   "cell_type": "code",
   "execution_count": 94,
   "metadata": {},
   "outputs": [
    {
     "name": "stdout",
     "output_type": "stream",
     "text": [
      "0:00:00.000111\n"
     ]
    }
   ],
   "source": [
    "startTime1 = datetime.now()\n",
    "Irho_e(Ret)\n",
    "print(datetime.now() - startTime1)"
   ]
  },
  {
   "cell_type": "code",
   "execution_count": 95,
   "metadata": {},
   "outputs": [],
   "source": [
    "# def Π_(arr):\n",
    "#     φ,θ,ψ=arr[0],arr[1],arr[2]\n",
    "#     return np.array([[np.cos(θ)*np.cos(ψ),-np.sin(ψ),0],\n",
    "#                   [np.cos(θ)*np.sin(ψ),np.cos(ψ),0],\n",
    "#                   [-np.sin(θ),0,1]])\n",
    "def Π_(arr):\n",
    "    φ,θ,ψ=arr[0],arr[1],arr[2]\n",
    "    return np.array([[np.cos(θ),0,np.cos(φ)*np.sin(θ)],\n",
    "                  [0,1,-np.sin(φ)],\n",
    "                  [-np.sin(θ),0,np.cos(φ)*np.cos(θ)]])"
   ]
  },
  {
   "cell_type": "code",
   "execution_count": 96,
   "metadata": {},
   "outputs": [],
   "source": [
    "def Π(a,b,c):\n",
    "    xyz=np.stack((a,b,c), axis=1)\n",
    "  \n",
    "    return np.apply_along_axis(Π_, 1, xyz)\n",
    "    "
   ]
  },
  {
   "cell_type": "code",
   "execution_count": 97,
   "metadata": {},
   "outputs": [
    {
     "name": "stdout",
     "output_type": "stream",
     "text": [
      "0:00:00.000403\n"
     ]
    }
   ],
   "source": [
    "startTime1 = datetime.now()\n",
    "Π(φ,θ,ψ).shape\n",
    "print(datetime.now() - startTime1)"
   ]
  },
  {
   "cell_type": "code",
   "execution_count": 98,
   "metadata": {},
   "outputs": [],
   "source": [
    "def ωe(φ,θ,ψ,x,y,z):  # (100) in [2]\n",
    "    A=Π(φ,θ,ψ)\n",
    "#     print(A)\n",
    "#     B=np.array([φ,θ,ψ]).T\n",
    "    B=d_s(φ,θ,ψ,x,y,z).T\n",
    "#     print(B)\n",
    "#     ans=[]\n",
    "#     for i in range(len(A)):\n",
    "#         ans.append(np.dot(A[i],B[i]))\n",
    "    return np.einsum('ijk,ik->ij', A,B)    \n",
    "#     return np.array(ans) \n",
    "#     ans=[]\n",
    "#     for i in range(len(φ)):\n",
    "#         ans.append(np.dot(Π(φ[i],θ[i],ψ[i]),np.array([φ[i],θ[i],ψ[i]])))  # (100) in [2]\n",
    "#     return np.vstack(ans)    "
   ]
  },
  {
   "cell_type": "code",
   "execution_count": 99,
   "metadata": {},
   "outputs": [],
   "source": [
    "# np.dot(np.matrix([[-0.13504574, -0.86320937,  0.        ],\n",
    "#   [ 0.23090749, -0.5048461 ,  0.        ],\n",
    "#   [-0.96355819,  0.,          1.        ]]),np.array([2.3, 1.3, 2.1]))"
   ]
  },
  {
   "cell_type": "code",
   "execution_count": 100,
   "metadata": {},
   "outputs": [
    {
     "name": "stdout",
     "output_type": "stream",
     "text": [
      "0:00:00.003513\n"
     ]
    }
   ],
   "source": [
    "startTime1 = datetime.now()\n",
    "ωe(φ,θ,ψ,x,y,z)\n",
    "print(datetime.now() - startTime1)"
   ]
  },
  {
   "cell_type": "code",
   "execution_count": 101,
   "metadata": {},
   "outputs": [],
   "source": [
    "diag_CR = 1e11*np.array([1, 1, 1]) \n",
    "# diag_CR = 1e7*np.array([1, 1, 1]) \n",
    "CR=np.diag(diag_CR)"
   ]
  },
  {
   "cell_type": "code",
   "execution_count": 102,
   "metadata": {},
   "outputs": [
    {
     "data": {
      "text/plain": [
       "array([[1.e+11, 0.e+00, 0.e+00],\n",
       "       [0.e+00, 1.e+11, 0.e+00],\n",
       "       [0.e+00, 0.e+00, 1.e+11]])"
      ]
     },
     "execution_count": 102,
     "metadata": {},
     "output_type": "execute_result"
    }
   ],
   "source": [
    "CR"
   ]
  },
  {
   "cell_type": "code",
   "execution_count": 103,
   "metadata": {},
   "outputs": [],
   "source": [
    "def me(φ,θ,ψ,x,y,z,Ret):\n",
    "    A=np.multiply(np.multiply(Ret,CR),Ret)\n",
    "    B=ωe(φ,θ,ψ,x,y,z)\n",
    "    ans=[]\n",
    "    return np.einsum('ijk,ik->ij', A,B) \n",
    "#     for i in range(len(A)):\n",
    "#         ans.append(np.dot(A[i],B[i]))\n",
    "#     return np.array(ans)\n",
    "#     tmp=[]\n",
    "#     for i in range(len(φ)):\n",
    "#         tmp.append(np.dot(np.dot(Re_t(φ[i],θ[i],ψ[i]),CR),Re_t(φ[i],θ[i],ψ[i]).T))\n",
    "        \n",
    "#     tmp1= ωe(φ,θ,ψ)\n",
    "    \n",
    "#     ans=[]\n",
    "#     for i in range(len(tmp1)):\n",
    "#         ans.append(np.dot(np.array(tmp[i]),tmp1[i] ))\n",
    "#     return np.array(ans).reshape(3,-1)"
   ]
  },
  {
   "cell_type": "code",
   "execution_count": 104,
   "metadata": {},
   "outputs": [
    {
     "name": "stdout",
     "output_type": "stream",
     "text": [
      "0:00:00.001180\n"
     ]
    }
   ],
   "source": [
    "startTime1 = datetime.now()\n",
    "me_=me(φ,θ,ψ,x,y,z,Ret)\n",
    "print(datetime.now() - startTime1)"
   ]
  },
  {
   "cell_type": "code",
   "execution_count": 105,
   "metadata": {},
   "outputs": [
    {
     "data": {
      "text/plain": [
       "array([[ 0.00000000e+00,  0.00000000e+00,  0.00000000e+00],\n",
       "       [-1.91598524e+08, -3.26596480e+08, -1.16029559e+08],\n",
       "       [-5.33714015e+06,  2.42726076e+05,  1.46977979e+08],\n",
       "       [ 1.67334824e+06,  4.67662588e+05,  3.02833740e+07]])"
      ]
     },
     "execution_count": 105,
     "metadata": {},
     "output_type": "execute_result"
    }
   ],
   "source": [
    "me_"
   ]
  },
  {
   "cell_type": "code",
   "execution_count": 106,
   "metadata": {},
   "outputs": [],
   "source": [
    "diag_DR = 1.5*np.array([1, 1, 1]) \n",
    " \n",
    "DR=np.diag(diag_DR)"
   ]
  },
  {
   "cell_type": "code",
   "execution_count": 107,
   "metadata": {},
   "outputs": [],
   "source": [
    "# np.dot(Re_b, np.dot( Irho_e, (np.dot(Π(φ,θ,ψ), np.array([ddφ,ddθ,ddψ])))))=\n",
    "# -np.dot(Re_b,np.dot(Irho_e,np.dot(Π(dφ,dθ,dψ),np.array([dφ,dθ,dψ])))-\n",
    "# np.cross(np.dot(Π(φ,θ,ψ),np.array([dφ,dθ,dψ])),np.dot(Irho_e, np.dot(Π(φ,θ,ψ),np.array([dφ,dθ,dψ]))))+\n",
    "# np.dot(Re_b,d_s(me_[0],me_[1],me_[2],dt,ds)+d_s(me_[0],me_[1],me_[2],dt,ds))+\n",
    "# np.cross(d_s(x,y,z,dt,ds),ne(x,y,z,φ,θ,ψ,dt,ds))+\n",
    "# np.dot(Re_b,-np.dot(DR,np.dot(Π(φ,θ,ψ),np.array([dφ,dθ,dψ]))))"
   ]
  },
  {
   "cell_type": "code",
   "execution_count": 108,
   "metadata": {},
   "outputs": [
    {
     "data": {
      "text/plain": [
       "array([[ 12226.81202076,   7716.74929587,  -1582.73885673,\n",
       "          5089.14603923],\n",
       "       [ -6493.31740426,  -3667.83759746,  -2388.56762909,\n",
       "         -9048.24607824],\n",
       "       [  3580.62712951, -25533.34565338,   2258.19665713,\n",
       "          -934.58753401]])"
      ]
     },
     "execution_count": 108,
     "metadata": {},
     "output_type": "execute_result"
    }
   ],
   "source": [
    "ne_(x,y,z,dx,dy,dz,Ret)"
   ]
  },
  {
   "cell_type": "code",
   "execution_count": 109,
   "metadata": {},
   "outputs": [],
   "source": [
    "C=ne(x,y,z,Ret)\n",
    "  \n",
    "a,b,c=C[:,0],C[:,1],C[:,2]"
   ]
  },
  {
   "cell_type": "code",
   "execution_count": 110,
   "metadata": {},
   "outputs": [
    {
     "data": {
      "text/plain": [
       "array([[       0.        ,  -483164.28433809,   534430.06130234,\n",
       "         -152696.9845359 ],\n",
       "       [       0.        , -1440378.75069917,  1404915.31894223,\n",
       "          -35404.29117262],\n",
       "       [       0.        ,  -886552.06367495,  1203865.66354608,\n",
       "         2092612.84514787]])"
      ]
     },
     "execution_count": 110,
     "metadata": {},
     "output_type": "execute_result"
    }
   ],
   "source": [
    "d_s(a,b,c,x,y,z)"
   ]
  },
  {
   "cell_type": "code",
   "execution_count": 111,
   "metadata": {},
   "outputs": [
    {
     "data": {
      "text/plain": [
       "(4, 3, 3)"
      ]
     },
     "execution_count": 111,
     "metadata": {},
     "output_type": "execute_result"
    }
   ],
   "source": [
    "Re_b(Ret).shape"
   ]
  },
  {
   "cell_type": "code",
   "execution_count": 112,
   "metadata": {},
   "outputs": [
    {
     "data": {
      "text/plain": [
       "array([[ 12226.81202076,  -6493.31740426,   3580.62712951],\n",
       "       [  7716.74929587,  -3667.83759746, -25533.34565338],\n",
       "       [ -1582.73885673,  -2388.56762909,   2258.19665713],\n",
       "       [  5089.14603923,  -9048.24607824,   -934.58753401]])"
      ]
     },
     "execution_count": 112,
     "metadata": {},
     "output_type": "execute_result"
    }
   ],
   "source": [
    "ne_(x,y,z,dx,dy,dz,Ret).T"
   ]
  },
  {
   "cell_type": "code",
   "execution_count": 113,
   "metadata": {},
   "outputs": [
    {
     "data": {
      "text/plain": [
       "(numpy.ndarray,\n",
       " array([   9.04179967, -272.8652011 ,   48.60696469,  -59.23255114]),\n",
       " array([  87.36796973, -155.26304932,  -70.5413871 ,    2.99474537]),\n",
       " array([-0.10221073, -1.13236263, -0.78248093,  1.08117141]),\n",
       " numpy.ndarray,\n",
       " array([-1.57998585,  2.0222632 , -0.42152653,  0.87395172]))"
      ]
     },
     "execution_count": 113,
     "metadata": {},
     "output_type": "execute_result"
    }
   ],
   "source": [
    "type(x),y,z,dx,type(dy),dz"
   ]
  },
  {
   "cell_type": "code",
   "execution_count": 114,
   "metadata": {},
   "outputs": [
    {
     "data": {
      "text/plain": [
       "array([[ 21979.63758303,  -1420.47385866,  -5564.18810414],\n",
       "       [ 29316.05064377, -12293.94321959, -39098.50233033],\n",
       "       [  -361.8226987 ,  -2632.65518102,   5687.41737789],\n",
       "       [ 14905.86502529,  -5633.44206511,  -1718.65402373]])"
      ]
     },
     "execution_count": 114,
     "metadata": {},
     "output_type": "execute_result"
    }
   ],
   "source": [
    "ne_(x,y,z,dx,dy,dz,Ret).T+np.einsum('ijk,ik->ij', Re_b(Ret),ne_(x,y,z,dx,dy,dz,Ret).T)"
   ]
  },
  {
   "cell_type": "code",
   "execution_count": 115,
   "metadata": {},
   "outputs": [
    {
     "data": {
      "text/plain": [
       "array([[ 12226.81202076,  -6493.31740426,   3580.62712951],\n",
       "       [  7716.74929587,  -3667.83759746, -25533.34565338],\n",
       "       [ -1582.73885673,  -2388.56762909,   2258.19665713],\n",
       "       [  5089.14603923,  -9048.24607824,   -934.58753401]])"
      ]
     },
     "execution_count": 115,
     "metadata": {},
     "output_type": "execute_result"
    }
   ],
   "source": [
    "ne_(x,y,z,dx,dy,dz,Ret).T"
   ]
  },
  {
   "cell_type": "code",
   "execution_count": null,
   "metadata": {},
   "outputs": [],
   "source": []
  },
  {
   "cell_type": "markdown",
   "metadata": {},
   "source": [
    "### Catenary"
   ]
  },
  {
   "cell_type": "code",
   "execution_count": null,
   "metadata": {},
   "outputs": [],
   "source": []
  },
  {
   "cell_type": "code",
   "execution_count": 116,
   "metadata": {},
   "outputs": [],
   "source": [
    "def catenary(x,Ws,Fh):\n",
    "    return (Fh/Ws)*(np.cosh(x*Ws/Fh)-1)"
   ]
  },
  {
   "cell_type": "code",
   "execution_count": 117,
   "metadata": {},
   "outputs": [],
   "source": [
    "pipe_weight_per_unit_length = mp #  (submerged) [kg/m]  # 113.07 - not submerged"
   ]
  },
  {
   "cell_type": "code",
   "execution_count": 118,
   "metadata": {},
   "outputs": [],
   "source": [
    "Fx_0=82945396"
   ]
  },
  {
   "cell_type": "code",
   "execution_count": 119,
   "metadata": {},
   "outputs": [],
   "source": [
    "Ws = pipe_weight_per_unit_length*9.81 # [N/m]\n",
    "h=700"
   ]
  },
  {
   "cell_type": "code",
   "execution_count": 120,
   "metadata": {},
   "outputs": [],
   "source": [
    "S=math.sqrt(h*(2*Fx_0/Ws -h))\n",
    "horizontal_length=(Fx_0/Ws -h)*np.log((S+Fx_0/Ws)/(Fx_0/Ws-h))"
   ]
  },
  {
   "cell_type": "code",
   "execution_count": 121,
   "metadata": {},
   "outputs": [],
   "source": [
    "delta_x=horizontal_length/(node_N-1)"
   ]
  },
  {
   "cell_type": "code",
   "execution_count": 122,
   "metadata": {},
   "outputs": [],
   "source": [
    "x0=[i*delta_x for i in range(node_N)]\n",
    "z0=[]\n",
    "for i in range(len(x0)):\n",
    "    z0.append(catenary(x0[i],Ws,Fx_0))"
   ]
  },
  {
   "cell_type": "code",
   "execution_count": 123,
   "metadata": {},
   "outputs": [
    {
     "data": {
      "text/plain": [
       "([0.0, 3684.228281487207, 7368.456562974414, 11052.68484446162],\n",
       " [0.0, 77.06804644731459, 308.40705929683963, 694.4218951076863])"
      ]
     },
     "execution_count": 123,
     "metadata": {},
     "output_type": "execute_result"
    }
   ],
   "source": [
    "x0,z0"
   ]
  },
  {
   "cell_type": "code",
   "execution_count": 124,
   "metadata": {},
   "outputs": [
    {
     "data": {
      "image/png": "[encoded data removed]",
      "text/plain": [
       "<Figure size 432x288 with 1 Axes>"
      ]
     },
     "metadata": {
      "needs_background": "light"
     },
     "output_type": "display_data"
    }
   ],
   "source": [
    "plt.plot(x0, z0)\n",
    "plt.show()"
   ]
  },
  {
   "cell_type": "code",
   "execution_count": 125,
   "metadata": {},
   "outputs": [],
   "source": [
    "rng = np.random.default_rng()\n",
    "q0=np.zeros(12*node_N)"
   ]
  },
  {
   "cell_type": "code",
   "execution_count": 126,
   "metadata": {},
   "outputs": [],
   "source": [
    "\n",
    "for j in range(1,12):\n",
    "    if j==1:  \n",
    "        q0[(j-1)*node_N:j*node_N]=x0\n",
    "    elif j==5:    \n",
    "        q0[(j-1)*node_N:j*node_N]=z0\n",
    "# #     elif j==7 or j==9 or j==11: \n",
    "#     elif j==9 or j==11: \n",
    "#         q0[(j-1)*node_N:j*node_N]=rng.standard_normal(node_N)\n",
    "# #         q0[(j-1)*node_N:j*node_N]=np.array([0.01 for x in range(node_N)])"
   ]
  },
  {
   "cell_type": "code",
   "execution_count": 127,
   "metadata": {},
   "outputs": [
    {
     "data": {
      "text/plain": [
       "array([    0.        ,  3684.22828149,  7368.45656297, 11052.68484446,\n",
       "           0.        ,     0.        ,     0.        ,     0.        ,\n",
       "           0.        ,     0.        ,     0.        ,     0.        ,\n",
       "           0.        ,     0.        ,     0.        ,     0.        ,\n",
       "           0.        ,    77.06804645,   308.4070593 ,   694.42189511,\n",
       "           0.        ,     0.        ,     0.        ,     0.        ,\n",
       "           0.        ,     0.        ,     0.        ,     0.        ,\n",
       "           0.        ,     0.        ,     0.        ,     0.        ,\n",
       "           0.        ,     0.        ,     0.        ,     0.        ,\n",
       "           0.        ,     0.        ,     0.        ,     0.        ,\n",
       "           0.        ,     0.        ,     0.        ,     0.        ,\n",
       "           0.        ,     0.        ,     0.        ,     0.        ])"
      ]
     },
     "execution_count": 127,
     "metadata": {},
     "output_type": "execute_result"
    }
   ],
   "source": [
    "q0"
   ]
  },
  {
   "cell_type": "code",
   "execution_count": 128,
   "metadata": {},
   "outputs": [],
   "source": [
    "q0[node_N*6]=0"
   ]
  },
  {
   "cell_type": "code",
   "execution_count": 129,
   "metadata": {},
   "outputs": [],
   "source": [
    "q0[node_N*8]=0"
   ]
  },
  {
   "cell_type": "code",
   "execution_count": 130,
   "metadata": {},
   "outputs": [],
   "source": [
    "q0[node_N*10]=0"
   ]
  },
  {
   "cell_type": "code",
   "execution_count": null,
   "metadata": {},
   "outputs": [],
   "source": []
  },
  {
   "cell_type": "code",
   "execution_count": null,
   "metadata": {},
   "outputs": [],
   "source": []
  },
  {
   "cell_type": "code",
   "execution_count": null,
   "metadata": {},
   "outputs": [],
   "source": []
  },
  {
   "cell_type": "code",
   "execution_count": null,
   "metadata": {},
   "outputs": [],
   "source": []
  },
  {
   "cell_type": "code",
   "execution_count": null,
   "metadata": {},
   "outputs": [],
   "source": []
  },
  {
   "cell_type": "code",
   "execution_count": null,
   "metadata": {},
   "outputs": [],
   "source": []
  },
  {
   "cell_type": "markdown",
   "metadata": {},
   "source": [
    "### Vessel"
   ]
  },
  {
   "cell_type": "code",
   "execution_count": 131,
   "metadata": {},
   "outputs": [],
   "source": [
    "class VesselSemisub: # Semisub model from Fossen\n",
    "    \n",
    "    def __init__(self):\n",
    "        \n",
    "        MRB = 1.0e10 * np.array(\n",
    "            [\n",
    "                [0.0027, 0, 0, 0, -0.0530, 0],\n",
    "                [0, 0.0027, 0, 0.0530, 0, -0.0014],\n",
    "                [0, 0, 0.0027, 0, 0.0014, 0],\n",
    "                [0, 0.0530, 0, 3.4775, 0, -0.0265],\n",
    "                [-0.0530, 0, 0.0014, 0, 3.8150, 0],\n",
    "                [0, -0.0014, 0, -0.0265, 0, 3.7192],\n",
    "            ],\n",
    "            float,\n",
    "        )\n",
    "\n",
    "        MA = 1.0e10 * np.array(\n",
    "            [\n",
    "                [0.0017, 0, 0, 0, -0.0255, 0],\n",
    "                [0, 0.0042, 0, 0.0365, 0, 0],\n",
    "                [0, 0, 0.0021, 0, 0, 0],\n",
    "                [0, 0.0365, 0, 1.3416, 0, 0],\n",
    "                [-0.0255, 0, 0, 0, 2.2267, 0],\n",
    "                [0, 0, 0, 0, 0, 3.2049],\n",
    "            ],\n",
    "            float,\n",
    "        )\n",
    "\n",
    "        self.D = 1.0e09 * np.array(\n",
    "            [\n",
    "                [0.0004, 0, 0, 0, -0.0085, 0],\n",
    "                [0, 0.0003, 0, 0.0067, 0, -0.0002],\n",
    "                [0, 0, 0.0034, 0, 0.0017, 0],\n",
    "                [0, 0.0067, 0, 4.8841, 0, -0.0034],\n",
    "                [-0.0085, 0, 0.0017, 0, 7.1383, 0],\n",
    "                [0, -0.0002, 0, -0.0034, 0, 0.8656],\n",
    "            ],\n",
    "            float,\n",
    "        )\n",
    "\n",
    "#         self.G = 1.0e10 * np.diag([0.0, 0.0, 0.0006, 1.4296, 2.6212, 0.0])\n",
    "        self.G =1.0e10 *np.array([0.0, 0.0, 0.0006, 1.4296, 2.6212, 0.0])\n",
    "        self.M = MRB + MA\n",
    "#         print(self.G,self.M)\n",
    "\n",
    "    def eq_left(self,η, dη):\n",
    "        φ,θ,ψ=η[3:]\n",
    "        Ret=Re_t_([φ,θ,ψ])\n",
    "        A=Re_b(Ret)\n",
    "        B=np.dot(np.linalg.inv(Π_([φ,θ,ψ])),Re_b(Ret))\n",
    "        Z=np.zeros((3,3))\n",
    "        C0=np.concatenate([A,Z],axis=1)\n",
    "        C1=np.concatenate([Z,B],axis=1)\n",
    "        C=np.concatenate([C0,C1],axis=0)\n",
    "\n",
    "        return (np.matmul(self.D, dη) + np.dot(C,self.G))\n",
    "        \n",
    "    def tau(self,η, dη, ddη):\n",
    "        φ,θ,ψ=η[3:]\n",
    "        Ret=Re_t_([φ,θ,ψ])\n",
    "        A=Re_b(Ret)\n",
    "#         print(Π_([φ,θ,ψ]))\n",
    "#         print(Re_b(Ret))\n",
    "        B=np.dot(np.linalg.inv(Π_([φ,θ,ψ])),Re_b(Ret))\n",
    "        Z=np.zeros((3,3))\n",
    "        C0=np.concatenate([A,Z],axis=1)\n",
    "        C1=np.concatenate([Z,B],axis=1)\n",
    "        C=np.concatenate([C0,C1],axis=0)\n",
    "#         print(np.dot(C,self.G))\n",
    "#         print(np.matmul(self.M,ddη))\n",
    "        return (np.matmul(self.M,ddη) + np.matmul(self.D, dη) + np.dot(C,self.G))\n",
    "#         return (np.matmul(self.M,ddη) + np.matmul(self.D, dη) + self.G)/10000000"
   ]
  },
  {
   "cell_type": "code",
   "execution_count": 132,
   "metadata": {},
   "outputs": [],
   "source": [
    "V=VesselSemisub()"
   ]
  },
  {
   "cell_type": "code",
   "execution_count": 133,
   "metadata": {},
   "outputs": [],
   "source": [
    "η=np.array([0.1,0.3,0.4,0.5,0.6,0.7])\n",
    "dη=np.array([0,0,0,0,0,0])\n",
    "ddη=np.array([0,0,0,0,0,0])"
   ]
  },
  {
   "cell_type": "code",
   "execution_count": 134,
   "metadata": {},
   "outputs": [],
   "source": [
    "tau_force = V.tau(η,dη, ddη)"
   ]
  },
  {
   "cell_type": "code",
   "execution_count": 135,
   "metadata": {},
   "outputs": [
    {
     "data": {
      "text/plain": [
       "array([ 3.38785484e+06, -2.37412183e+06,  4.34580086e+06, -1.36399445e+10,\n",
       "        3.02038732e+10,  1.28049082e+10])"
      ]
     },
     "execution_count": 135,
     "metadata": {},
     "output_type": "execute_result"
    }
   ],
   "source": [
    "tau_force"
   ]
  },
  {
   "cell_type": "code",
   "execution_count": 136,
   "metadata": {},
   "outputs": [
    {
     "data": {
      "text/plain": [
       "array([3.5, 5. ])"
      ]
     },
     "execution_count": 136,
     "metadata": {},
     "output_type": "execute_result"
    }
   ],
   "source": [
    "np.matmul(np.array([[1.1,1.2],[1,2]]),np.array([1,2]))"
   ]
  },
  {
   "cell_type": "code",
   "execution_count": null,
   "metadata": {},
   "outputs": [],
   "source": []
  },
  {
   "cell_type": "code",
   "execution_count": null,
   "metadata": {},
   "outputs": [],
   "source": []
  },
  {
   "cell_type": "code",
   "execution_count": null,
   "metadata": {},
   "outputs": [],
   "source": []
  },
  {
   "cell_type": "code",
   "execution_count": null,
   "metadata": {},
   "outputs": [],
   "source": []
  },
  {
   "cell_type": "code",
   "execution_count": 137,
   "metadata": {},
   "outputs": [],
   "source": [
    "# def tau_wave(z,wave_force):\n",
    "# #     C=np.exp(z[-1])-np.exp(z[0])\n",
    "# #     ans=[]\n",
    "# #     for i in range(len(z)):\n",
    "# #         ans.append([wave_force/C*(np.exp(z[i])-np.exp(z[0]))])\n",
    "       \n",
    "#     return np.array([0,0,wave_force]).T"
   ]
  },
  {
   "cell_type": "code",
   "execution_count": 138,
   "metadata": {},
   "outputs": [],
   "source": [
    "# tau_wave(z0,wave_force)"
   ]
  },
  {
   "cell_type": "code",
   "execution_count": null,
   "metadata": {},
   "outputs": [],
   "source": []
  },
  {
   "cell_type": "code",
   "execution_count": 139,
   "metadata": {},
   "outputs": [],
   "source": [
    "# wave_force=9e6\n",
    "# wave_force=9e3\n",
    "# wave_force=0\n",
    "# kp, kd=1.95e9,1.5e9\n",
    "kp,kd=1.95e4, 1.5e4\n",
    "# kp,kd=1.95e2, 1.5e2"
   ]
  },
  {
   "cell_type": "code",
   "execution_count": 140,
   "metadata": {},
   "outputs": [],
   "source": [
    "# x,y,z,φ,θ,ψ=η\n",
    "# dx,dy,dz,dφ,dθ,dψ=dη"
   ]
  },
  {
   "cell_type": "code",
   "execution_count": 141,
   "metadata": {},
   "outputs": [],
   "source": [
    "def Fx(x,dx, kp, kd, x_ref = 0, dx_ref=0):\n",
    "    return -kp*(x-x_ref) - kd*(dx-dx_ref)"
   ]
  },
  {
   "cell_type": "code",
   "execution_count": 142,
   "metadata": {},
   "outputs": [],
   "source": [
    "# Fx(x,dx, kp, kd, x_ref = 0, dx_ref=0)"
   ]
  },
  {
   "cell_type": "code",
   "execution_count": 143,
   "metadata": {},
   "outputs": [],
   "source": [
    "# def tau_t(x, dx, φ, θ, ψ, kp, kd,  x_ref = 0, dx_ref=0):\n",
    "#     F=\n",
    "#     Ret=Re_t_([φ,θ,ψ])  \n",
    "#     return np.dot(Re_b(Ret), F)\n",
    "    \n"
   ]
  },
  {
   "cell_type": "code",
   "execution_count": 144,
   "metadata": {},
   "outputs": [],
   "source": [
    "# tau_t(x, dx, φ, θ, ψ, kp, kd)"
   ]
  },
  {
   "cell_type": "code",
   "execution_count": 145,
   "metadata": {},
   "outputs": [],
   "source": [
    "Hs = 2.5 # significant wave height in m"
   ]
  },
  {
   "cell_type": "code",
   "execution_count": 146,
   "metadata": {},
   "outputs": [],
   "source": [
    "def wave_force(Hs,d0,qw, Cd=1.2):\n",
    "    g=9.81 \n",
    "    return 0.5 * qw * g * Hs**2 * d0 * Cd"
   ]
  },
  {
   "cell_type": "code",
   "execution_count": 147,
   "metadata": {},
   "outputs": [
    {
     "data": {
      "text/plain": [
       "28695.1696875"
      ]
     },
     "execution_count": 147,
     "metadata": {},
     "output_type": "execute_result"
    }
   ],
   "source": [
    "wave_force(Hs,d0,qw, Cd=1.2)"
   ]
  },
  {
   "cell_type": "code",
   "execution_count": 148,
   "metadata": {},
   "outputs": [
    {
     "data": {
      "text/plain": [
       "array([0.1, 0.3, 0.4, 0.5, 0.6, 0.7])"
      ]
     },
     "execution_count": 148,
     "metadata": {},
     "output_type": "execute_result"
    }
   ],
   "source": [
    "η"
   ]
  },
  {
   "cell_type": "code",
   "execution_count": 149,
   "metadata": {},
   "outputs": [],
   "source": [
    "def tau(η, dη, wave_force, kp, kd,time, Hs=2.5, Tp=10, x_ref = 0, dx_ref=0):\n",
    "    x,y,z,φ,θ,ψ=η\n",
    "    dx,dy,dz,dφ,dθ,dψ=dη\n",
    "#     print(-Fx(x,dx, kp, kd, x_ref, dx_ref))\n",
    "    F=(np.array([-Fx(x,dx, kp, kd, x_ref, dx_ref),0,0])+np.array([0,0,wave_force(Hs,d0,qw)])).T*np.sin(2*np.pi/Tp*time+1)\n",
    "#     print(F)\n",
    "    Ret=Re_t_([φ,θ,ψ])\n",
    "    \n",
    "    return  np.concatenate([np.dot(Re_b(Ret), F),[0,0,0]], axis=0)"
   ]
  },
  {
   "cell_type": "code",
   "execution_count": 150,
   "metadata": {},
   "outputs": [
    {
     "data": {
      "text/plain": [
       "array([ 4425.11907454, -2499.7415493 ,  5240.84730708,     0.        ,\n",
       "           0.        ,     0.        ])"
      ]
     },
     "execution_count": 150,
     "metadata": {},
     "output_type": "execute_result"
    }
   ],
   "source": [
    "tau(η, dη, wave_force, kp, kd,3)"
   ]
  },
  {
   "cell_type": "code",
   "execution_count": null,
   "metadata": {},
   "outputs": [],
   "source": []
  },
  {
   "cell_type": "code",
   "execution_count": 151,
   "metadata": {},
   "outputs": [],
   "source": [
    "# η"
   ]
  },
  {
   "cell_type": "code",
   "execution_count": 152,
   "metadata": {},
   "outputs": [],
   "source": [
    "# def tau(η, dη, wave_force, kp, kd,time,Tp=10, x_ref = 0, dx_ref=0):\n",
    "#     x,y,z,φ,θ,ψ=η\n",
    "#     dx,dy,dz,dφ,dθ,dψ=dη\n",
    "# #     print(-Fx(x,dx, kp, kd, x_ref, dx_ref))\n",
    "#     F=(np.array([-Fx(x,dx, kp, kd, x_ref, dx_ref),0,0])+np.array([0,0,wave_force])).T*np.sin(2*np.pi/Tp*time)\n",
    "# #     print(F)\n",
    "#     Ret=Re_t_([φ,θ,ψ])\n",
    "    \n",
    "#     return  np.concatenate([np.dot(Re_b(Ret), F),[0,0,0]], axis=0)"
   ]
  },
  {
   "cell_type": "code",
   "execution_count": 153,
   "metadata": {},
   "outputs": [],
   "source": [
    "# tau(η, dη, wave_force, kp, kd,1)"
   ]
  },
  {
   "cell_type": "code",
   "execution_count": 154,
   "metadata": {},
   "outputs": [],
   "source": [
    "# sampleTime = 1e-5                # sample time [seconds]\n",
    "# N = int(2e5)                         # number of samples"
   ]
  },
  {
   "cell_type": "code",
   "execution_count": 155,
   "metadata": {},
   "outputs": [],
   "source": [
    "# N"
   ]
  },
  {
   "cell_type": "code",
   "execution_count": 156,
   "metadata": {},
   "outputs": [],
   "source": [
    "# vehicle_1=semisub('DPcontrol',0.,5.,30.0,0,0) "
   ]
  },
  {
   "cell_type": "code",
   "execution_count": 157,
   "metadata": {},
   "outputs": [],
   "source": [
    "# [simTime_1, simData_1] = simulate(N, sampleTime, vehicle_1)"
   ]
  },
  {
   "cell_type": "code",
   "execution_count": 158,
   "metadata": {},
   "outputs": [],
   "source": [
    "# vehicle_2=semisub('DPcontrol',0.,-5.,30.0,0,0) "
   ]
  },
  {
   "cell_type": "code",
   "execution_count": 159,
   "metadata": {},
   "outputs": [],
   "source": [
    "# [simTime_2, simData_2] = simulate(N, sampleTime, vehicle_2)"
   ]
  },
  {
   "cell_type": "code",
   "execution_count": 160,
   "metadata": {},
   "outputs": [],
   "source": [
    "# simData_1.shape"
   ]
  },
  {
   "cell_type": "code",
   "execution_count": 161,
   "metadata": {},
   "outputs": [],
   "source": [
    "# simData=np.concatenate([simData_1,simData_2], axis=0)\n",
    "# simData=simData_1"
   ]
  },
  {
   "cell_type": "code",
   "execution_count": 162,
   "metadata": {},
   "outputs": [],
   "source": [
    "# simData.shape"
   ]
  },
  {
   "cell_type": "code",
   "execution_count": 163,
   "metadata": {},
   "outputs": [],
   "source": [
    "# ans_t = simTime_1"
   ]
  },
  {
   "cell_type": "code",
   "execution_count": 164,
   "metadata": {},
   "outputs": [],
   "source": [
    "# simData[250]"
   ]
  },
  {
   "cell_type": "code",
   "execution_count": 165,
   "metadata": {},
   "outputs": [],
   "source": [
    "# simData.shape"
   ]
  },
  {
   "cell_type": "code",
   "execution_count": 166,
   "metadata": {},
   "outputs": [],
   "source": [
    "# ans_t=[]\n",
    "# sum_=0\n",
    "# for i in range(simData.shape[0]):\n",
    "#     ans_t.append(sum_)\n",
    "#     sum_+=sampleTime"
   ]
  },
  {
   "cell_type": "code",
   "execution_count": 167,
   "metadata": {},
   "outputs": [],
   "source": [
    "# plotVehicleStates(simTime_1, simData_1, 1)                    \n",
    "# plotControls(simTime_1, simData_1, vehicle_1, 2)"
   ]
  },
  {
   "cell_type": "code",
   "execution_count": 168,
   "metadata": {},
   "outputs": [],
   "source": [
    "# plotVehicleStates(simTime_2, simData_2, 1)                    \n",
    "# plotControls(simTime_2, simData_2, vehicle_2, 2)"
   ]
  },
  {
   "cell_type": "code",
   "execution_count": 169,
   "metadata": {},
   "outputs": [],
   "source": [
    "# numDataPoints = 5                 # number of 3D data points\n",
    "# FPS = 10                            # frames per second (animated GIF)\n",
    "# filename = '3D_animation.gif'       # data file for animated GIF\n",
    "# browser = 'safari'                  # browser for visualization of animated GIF"
   ]
  },
  {
   "cell_type": "code",
   "execution_count": 170,
   "metadata": {},
   "outputs": [],
   "source": [
    "# plot3D(simData, numDataPoints, FPS, filename, 3)  "
   ]
  },
  {
   "cell_type": "code",
   "execution_count": null,
   "metadata": {},
   "outputs": [],
   "source": []
  },
  {
   "cell_type": "code",
   "execution_count": null,
   "metadata": {},
   "outputs": [],
   "source": []
  },
  {
   "cell_type": "code",
   "execution_count": null,
   "metadata": {},
   "outputs": [],
   "source": []
  },
  {
   "cell_type": "code",
   "execution_count": null,
   "metadata": {},
   "outputs": [],
   "source": []
  },
  {
   "cell_type": "code",
   "execution_count": null,
   "metadata": {},
   "outputs": [],
   "source": []
  },
  {
   "cell_type": "markdown",
   "metadata": {},
   "source": [
    "### Modelling"
   ]
  },
  {
   "cell_type": "code",
   "execution_count": 171,
   "metadata": {},
   "outputs": [],
   "source": [
    "# def find_nearest(array, value):\n",
    "#     array = np.asarray(array)\n",
    "#     idx = (np.abs(array - value)).argmin()\n",
    "#     return idx"
   ]
  },
  {
   "cell_type": "code",
   "execution_count": 172,
   "metadata": {},
   "outputs": [],
   "source": [
    "# simData[1]"
   ]
  },
  {
   "cell_type": "code",
   "execution_count": 173,
   "metadata": {},
   "outputs": [],
   "source": [
    "# simD_1=np.insert(simData_1, 0, simData_1[0], axis=0)\n",
    "# simD_2=np.insert(simData_2, 0, simData_2[0], axis=0)"
   ]
  },
  {
   "cell_type": "code",
   "execution_count": 174,
   "metadata": {},
   "outputs": [],
   "source": [
    "# diff_1=np.diff(simD_1,axis=0)\n",
    "# diff_2=np.diff(simD_2,axis=0)"
   ]
  },
  {
   "cell_type": "code",
   "execution_count": 175,
   "metadata": {},
   "outputs": [],
   "source": [
    "# diff=np.concatenate([diff_1,diff_2], axis=0)"
   ]
  },
  {
   "cell_type": "code",
   "execution_count": 176,
   "metadata": {},
   "outputs": [],
   "source": [
    "# diff=diff_1"
   ]
  },
  {
   "cell_type": "code",
   "execution_count": 177,
   "metadata": {},
   "outputs": [],
   "source": [
    "V=VesselSemisub()"
   ]
  },
  {
   "cell_type": "code",
   "execution_count": 178,
   "metadata": {},
   "outputs": [],
   "source": [
    "# thres =0.1"
   ]
  },
  {
   "cell_type": "code",
   "execution_count": 179,
   "metadata": {},
   "outputs": [],
   "source": [
    "# def retrieve_name(var):\n",
    "#     callers_local_vars = inspect.currentframe().f_back.f_locals.items()\n",
    "#     return [var_name for var_name, var_val in callers_local_vars if var_val is var]"
   ]
  },
  {
   "cell_type": "code",
   "execution_count": 180,
   "metadata": {},
   "outputs": [],
   "source": [
    "# simD=np.concatenate([simD_1,simD_2], axis=0)"
   ]
  },
  {
   "cell_type": "code",
   "execution_count": 181,
   "metadata": {},
   "outputs": [],
   "source": [
    "# simD = simD_1"
   ]
  },
  {
   "cell_type": "code",
   "execution_count": 182,
   "metadata": {},
   "outputs": [],
   "source": [
    "# SD0=simD[:, 0]\n",
    "# SD1=simD[:, 1]\n",
    "# SD2=simD[:, 2]\n",
    "# SD3=simD[:, 3]\n",
    "# SD4=simD[:, 4]\n",
    "# SD5=simD[:, 5]\n",
    "# SD6=simD[:, 6]\n",
    "# SD7=simD[:, 7]\n",
    "# SD8=simD[:, 8]\n",
    "# SD9=simD[:, 9]\n",
    "# SD10=simD[:, 10]\n",
    "# SD11=simD[:, 11]\n",
    "# Diff6=diff[:, 6]\n",
    "# Diff7=diff[:, 7]\n",
    "# Diff8=diff[:, 8]\n",
    "# Diff9=diff[:, 9]\n",
    "# Diff10=diff[:, 10]\n",
    "# Diff11=diff[:, 11]"
   ]
  },
  {
   "cell_type": "code",
   "execution_count": 183,
   "metadata": {},
   "outputs": [],
   "source": [
    "# def feedback(Q):\n",
    "#     x,y,z=Q[0:node_N],Q[2*node_N:3*node_N],Q[4*node_N:5*node_N]\n",
    "#     dx,dy,dz=Q[1*node_N:2*node_N],Q[3*node_N:4*node_N],Q[5*node_N:6*node_N]\n",
    "#     φ,θ,ψ=Q[6*node_N:7*node_N],Q[8*node_N:9*node_N],Q[10*node_N:11*node_N]\n",
    "#     dφ,dθ,dψ=Q[7*node_N:8*node_N],Q[9*node_N:10*node_N],Q[11*node_N:12*node_N]\n",
    "\n",
    "#     K = 2e6 # feedback gain\n",
    "#     u_x = -K * x \n",
    "#     u_y = -K * y\n",
    "#     u_z = -K * z \n",
    "#     u_dx = -K * dx \n",
    "#     u_dy = -K * dy \n",
    "#     u_dz = -K * dz \n",
    "#     u_φ = -K * φ \n",
    "#     u_θ = -K * θ\n",
    "#     u_ψ = -K * ψ \n",
    "#     u_dφ= -K * dφ \n",
    "#     u_dθ = -K * dθ \n",
    "#     u_dψ = -K * dψ \n",
    "#     return np.concatenate([u_x, u_dx, u_y, u_dy, u_z, u_dz, u_φ, u_dφ, u_θ, u_dθ, u_ψ, u_dψ], axis=0) "
   ]
  },
  {
   "cell_type": "code",
   "execution_count": 184,
   "metadata": {},
   "outputs": [],
   "source": [
    "# def Jv(x, y, z):\n",
    "    \n",
    "#     def Jv0(k,x0,x1,y0,y1,z0,z1):\n",
    "#         tmp1=(x0+x1)/2 \n",
    "#         tmp2=(y0+y1)/2\n",
    "#         tmp3=(z0+z1)/2 \n",
    "#         return np.array([tmp1, tmp2, tmp3]).T \n",
    "# #         else:\n",
    "# #             return np.array([0, 0, 0]).T \n",
    "    \n",
    "#     ans=np.array([Jv0(k, x[k-1],x[k], y[k-1], y[k], z[k-1], z[k]) for k in range(1,node_N)])\n",
    "    \n",
    "#     return np.concatenate([ans,np.array([0, 0, 0]).reshape(3,1).T], axis=0).T"
   ]
  },
  {
   "cell_type": "code",
   "execution_count": 185,
   "metadata": {},
   "outputs": [],
   "source": [
    "# x, y, z = q0[0:node_N],q0[2*node_N:3*node_N],q0[4*node_N:5*node_N]"
   ]
  },
  {
   "cell_type": "code",
   "execution_count": 186,
   "metadata": {},
   "outputs": [],
   "source": [
    "# q0"
   ]
  },
  {
   "cell_type": "code",
   "execution_count": 187,
   "metadata": {},
   "outputs": [],
   "source": [
    "# Jv(x, y, z )"
   ]
  },
  {
   "cell_type": "code",
   "execution_count": 188,
   "metadata": {},
   "outputs": [],
   "source": [
    "# class Time:\n",
    "#     def __init__(self):\n",
    "#         self.time=1\n",
    "# # #         self.n=1\n",
    "# # # #         self.my_max = sampleTime*N*2\n",
    "# #         self.my_time=0\n",
    "# # # #         self.my_n=0\n",
    "# #         self.my_update=up"
   ]
  },
  {
   "cell_type": "code",
   "execution_count": 189,
   "metadata": {},
   "outputs": [],
   "source": [
    "# co=Time()"
   ]
  },
  {
   "cell_type": "code",
   "execution_count": 190,
   "metadata": {},
   "outputs": [],
   "source": [
    "# def asymptote(t):\n",
    "#     return t/np.sqrt(t**2+1)"
   ]
  },
  {
   "cell_type": "code",
   "execution_count": 191,
   "metadata": {},
   "outputs": [],
   "source": [
    "from scipy.integrate import solve_ivp"
   ]
  },
  {
   "cell_type": "code",
   "execution_count": 192,
   "metadata": {},
   "outputs": [],
   "source": [
    "# def grayscott1d(Q,p,t):\n",
    "def grayscott1d(t, Q):\n",
    "#     Q,t=np.array(Q),np.array(t)\n",
    "#     print(t)\n",
    "#     dt=0\n",
    "#     dt=abs(t-co.time)\n",
    "#     print('dt',t,co.time,dt)\n",
    "#     co.time+=sampleTime\n",
    "  \n",
    "#     if co.my_time%co.my_max==0:\n",
    "#         co.my_n+=1\n",
    "        \n",
    "#     co.my_time+=co.my_update     \n",
    "    \n",
    "#     print(Q)   \n",
    "#     print(abs(co.my_time))\n",
    "    \n",
    "#     idx = find_nearest(ans_t,  co.my_time%len(ans_t)) #!!!!!!!!!!!!!!!!!!!!!\n",
    "#     print(idx)\n",
    "#     idx = find_nearest(ans_t,  t%len(ans_t)) \n",
    "#     print('idx',idx)\n",
    "#     print(t)\n",
    "#     print(idx)\n",
    "#     ind=ans_t.index(val)\n",
    "    # State vectors\n",
    "#     x_ve = SD0[idx]\n",
    "#     y_ve = SD1[idx]\n",
    "#     z_ve = SD2[idx]\n",
    "#     print(x_ve,y_ve,z_ve)\n",
    "#     phi_ve = R2D(ssa(SD3[idx]))\n",
    "#     theta_ve = R2D(ssa(SD4[idx]))\n",
    "#     psi_v = R2D(ssa(SD5[idx]))\n",
    "#     phi_ve = ssa(SD3[idx])\n",
    "#     theta_ve = ssa(SD4[idx])\n",
    "#     psi_v = ssa(SD5[idx])\n",
    "#     phi_ve = SD3[idx]\n",
    "#     theta_ve = SD4[idx]\n",
    "#     psi_v = SD5[idx]\n",
    "#     u_ve = SD6[idx]\n",
    "#     v_ve = SD7[idx]\n",
    "#     w_ve = SD8[idx]\n",
    "#     p_ve = SD9[idx]\n",
    "#     q_ve = SD10[idx]\n",
    "#     r_ve = SD11[idx]\n",
    "#     p_ve = ssa(SD9[idx])\n",
    "#     q_ve = ssa(SD10[idx])\n",
    "#     r_ve = ssa(SD11[idx])\n",
    "    \n",
    "    \n",
    "#     print(t-co.time)\n",
    "#     du_ve = Diff6[idx]/sampleTime\n",
    "#     dv_ve = Diff7[idx]/sampleTime\n",
    "#     dw_ve = Diff8[idx]/sampleTime\n",
    "#     dp_ve = Diff9[idx]/sampleTime\n",
    "#     dq_ve = Diff10[idx]/sampleTime\n",
    "#     dr_ve = Diff11[idx]/sampleTime\n",
    "#     print(u_ve, dr_ve )\n",
    "    \n",
    "#     co.time=t\n",
    "#     co.n+=1\n",
    "#     print(co.time)\n",
    "#     η=np.array([ x_ve, y_ve, z_ve,phi_ve, theta_ve,  psi_v])\n",
    "#     dη=np.array([u_ve, v_ve, w_ve, p_ve, q_ve, r_ve])\n",
    "    \n",
    "#     ddη=np.array([du_ve, dv_ve, dw_ve, dp_ve, dq_ve, dr_ve])\n",
    "#     print( dη)\n",
    "#     print(ddη)\n",
    "    \n",
    "#     tau_force = V.tau(η,dη, ddη)*asymptote(t)\n",
    "#     tau_force = V.tau(η,dη, ddη)\n",
    "#     co.time += 1\n",
    "#     print(tau_force )\n",
    "#     print()\n",
    "    \n",
    "    \n",
    "    \n",
    "    \n",
    "#     p_ve = R2D(simData[:, 9][idx])\n",
    "#     q_ve = R2D(simData[:, 10][idx])\n",
    "#     r_ve = R2D(simData[:, 11][idx])\n",
    "\n",
    "#     if t>dt*co.count:\n",
    "#         co.count+=1\n",
    "        \n",
    "#     print(type(Q))\n",
    "    x,y,z=Q[0:node_N],Q[2*node_N:3*node_N],Q[4*node_N:5*node_N]\n",
    "#     print(x0[-1],y0[-1])\n",
    "\n",
    "#     x[-1]=x_ve+x0[-1]\n",
    "#     y[-1]=y_ve\n",
    "#     z[-1]=z_ve+z0[-1]\n",
    "\n",
    "#     print( x[-1], y[-1], z[-1])\n",
    "    x[0]=0\n",
    "    y[0]=0\n",
    "    z[0]=0\n",
    "#     print(z)\n",
    "#     print(z_ve)\n",
    "#     print(x_ve,y_ve,z_ve)\n",
    "#     print(x[0],y[0],z[0])\n",
    "#     print(x[-1],y[-1],z[-1])\n",
    "#     print()\n",
    "    dx,dy,dz=Q[1*node_N:2*node_N],Q[3*node_N:4*node_N],Q[5*node_N:6*node_N]\n",
    "    \n",
    "    dx[0]=0\n",
    "    dy[0]=0\n",
    "    dz[0]=0\n",
    "    \n",
    "    \n",
    "#     dx[-1]=u_ve\n",
    "#     dy[-1]=v_ve \n",
    "#     dz[-1]=w_ve\n",
    "#     print(dx,dy.shape, dx.shape)\n",
    "    φ,θ,ψ=Q[6*node_N:7*node_N],Q[8*node_N:9*node_N],Q[10*node_N:11*node_N]\n",
    "    \n",
    "  \n",
    "    \n",
    "    \n",
    "    \n",
    "    Ret = Re_t(φ,θ,ψ)\n",
    "#     print(Ret)\n",
    "    \n",
    "#     φ[-1]=phi_ve\n",
    "#     θ[-1]=theta_ve\n",
    "#     ψ[-1]=psi_v\n",
    "    \n",
    "    dφ,dθ,dψ=Q[7*node_N:8*node_N],Q[9*node_N:10*node_N],Q[11*node_N:12*node_N]\n",
    "    \n",
    "    η=[x[-1],y[-1],z[-1],φ[-1],θ[-1],ψ[-1]]\n",
    "    dη=[dx[-1],dy[-1],dz[-1],dφ[-1],dθ[-1],dψ[-1]]\n",
    "    \n",
    "    V.G=tau(η, dη, wave_force, kp, kd, t)\n",
    "    \n",
    "    left=V.eq_left(η,dη)\n",
    "#     print(left.shape)\n",
    "#     print(tau(η, dη, wave_force, 0, 0, t))\n",
    "\n",
    "\n",
    "    # PD controller after 30 sec\n",
    "    hack =1\n",
    "    \n",
    "#     if t<30:\n",
    "#         ddη=np.linalg.lstsq(V.M*hack, -left + tau(η, dη, wave_force, Fx_0/η[0], 0, t), rcond=None)[0]\n",
    "#     else:\n",
    "\n",
    "    \n",
    "    ddη=np.linalg.lstsq(V.M*hack, -left , rcond=None)[0]\n",
    " \n",
    "    tau_force = V.tau(η,dη,ddη)\n",
    "#     print(tau_force)\n",
    "#     print(η,dη,ddη)\n",
    "#     print(tau_force)\n",
    "    \n",
    "#     dφ[-1]=p_ve\n",
    "#     dθ[-1]= q_ve\n",
    "#     dψ[-1]=r_ve\n",
    "#     print(z)    \n",
    "#     print(t)\n",
    "    \n",
    "#     ddx = np.empty_like(y)\n",
    "#     ddy = np.empty_like(y)\n",
    "#     ddz = np.empty_like(y)\n",
    "#     ddφ = np.empty_like(y)\n",
    "#     ddθ = np.empty_like(y)\n",
    "#     ddψ= np.empty_like(y)\n",
    "    C=ne(x,y,z,Ret)\n",
    "#     print('C',C)\n",
    "  \n",
    "    a,b,c=C[:,0],C[:,1],C[:,2]\n",
    "#     print('abc',a,b,c)\n",
    "#     print(a,C)\n",
    "#     print(a)\n",
    "    \n",
    "#     for it in [φ,θ,ψ,x,y,z,dx,dy,dz]:\n",
    "#         print(it)\n",
    "    # here single Re_b(φ,θ,ψ) etc.\n",
    "#     print(np.einsum('ijk,ik->ij', Re_b(φ,θ,ψ).astype(float), ne_(x,y,z,dx,dy,dz).astype(float).T))\n",
    "#     print(ne_(x,y,z,dx,dy,dz).astype(float))\n",
    "#     Z0=np.zeros((node_N,3))\n",
    "#     print(tau_force[:3].shape)\n",
    "#     Z0[-1]=tau_force[:3]\n",
    "#     print(Z0)\n",
    "#     Z0=np.dot(Jv(x, y, z ).T,tau_force[:3]).reshape(node_N,1)\n",
    "#     print(Z0)\n",
    "#     print()\n",
    "#     Z0=np.dot(Re_b(Ret),tau_force[:3])\n",
    "    Z0=tau_force[:3]\n",
    "#     print(Z0)\n",
    "#     Z0=tau_force[:3].T\n",
    "#     print(Z0)\n",
    "    Z1 = d_s(a,b,c,x,y,z).T\n",
    "#     print(Z1.shape)\n",
    "#     Z2 =np.einsum('ijk,ik->ij', Re_b(Ret), ne_(x,y,z,dx,dy,dz,Ret).T)\n",
    "#     print(Z1,Z2)\n",
    "    Z2=ne_(x,y,z,dx,dy,dz,Ret).T\n",
    "#     print(Z0)\n",
    "#     Z=(np.einsum('ijk,ik->ij', Re_b(Ret), Z1 + Z2) \n",
    "    Z= ( Z1 + Z2 \n",
    "        + Z0 \n",
    "       )\n",
    "#     print(Z1,Z2, - Z0,Z)\n",
    "#     print()\n",
    "#     print(Z0,Z1,Z2)\n",
    "#     print(Z)\n",
    "    \n",
    "    \n",
    "#     if np.isnan(np.sum(Z0)):\n",
    "#         print('Z0 NaN',np.isnan(np.sum(Z0)))\n",
    "#     if max(abs(np.amax(Z0)), abs(np.amin(Z0)))>thres :\n",
    "#         print('Z0', Z0) \n",
    "                  \n",
    "#     if np.isnan(np.sum(Z1)):\n",
    "#         print('Z1 NaN',np.isnan(np.sum(Z1)))\n",
    "#     if max(abs(np.amax(Z1)), abs(np.amin(Z1)))>thres :\n",
    "#         print('Z1', Z1)    \n",
    "                  \n",
    "#     if np.isnan(np.sum(Z2)):\n",
    "#         print('Z2 NaN',np.isnan(np.sum(Z2)))\n",
    "#     if max(abs(np.amax(Z2)), abs(np.amin(Z2)))>thres :\n",
    "#         print('Z2', Z2)      \n",
    "#     print(Z.shape)\n",
    "    \n",
    "#     ddx,ddy, ddz = 1/Ws*torch.linalg.lstsq(torch.from_numpy(Re_b(Ret).astype(np.float64)),torch.from_numpy(Z.astype(np.float64))).solution.cpu().numpy().T\n",
    "############################################################    \n",
    "#     ddx,ddy, ddz = 1/Ws*np.linalg.solve(Re_b(Ret),Z).T \n",
    "############################################################    \n",
    "    ans_x=[]\n",
    "    ans_y=[]\n",
    "    ans_z=[]\n",
    "    RRRR=Re_b(Ret)\n",
    "    for i in range(len(RRRR)):\n",
    "        a,b,c=1/Ws*np.linalg.lstsq(RRRR[i],Z[i], rcond=None)[0]\n",
    "        ans_x.append(a)\n",
    "        ans_y.append(b)\n",
    "        ans_z.append(c)\n",
    "    \n",
    "    ddx,ddy, ddz = np.array(ans_x),np.array(ans_y),np.array(ans_z)    \n",
    "    \n",
    "    \n",
    "#     print(ddx,ddy, ddz)\n",
    "#     print(ddx,ddy, ddz)\n",
    "#     print('ddx',ddx)  \n",
    "#     print('ddy',ddy) \n",
    "#     print('ddz',ddz) \n",
    "    \n",
    "    me_=me(φ,θ,ψ,x,y,z,Ret)\n",
    "#     print(Re_b(φ,θ,ψ).shape)\n",
    "#     print(Irho_e(φ,θ,ψ).shape)\n",
    "#     print(Irho_e(φ,θ,ψ).shape)\n",
    "\n",
    "    \n",
    "#     C1=np.einsum('ijk,ik->ij', Re_b(Ret).astype(np.float32), np.einsum('ijk,ik->ij', Irho_e(Ret).astype(np.float32),\n",
    "#                                                         np.einsum('ijk,ik->ij', Π(dφ,dθ,dψ).astype(np.float32), \n",
    "#                                                                   np.array([dφ,dθ,dψ]).astype(np.float32).T)))\n",
    "    C1=np.einsum('ijk,ik->ij', Irho_e(Ret).astype(np.float32),\n",
    "                                                        np.einsum('ijk,ik->ij', Π(dφ,dθ,dψ).astype(np.float32), \n",
    "                                                                  np.array([dφ,dθ,dψ]).astype(np.float32).T))\n",
    "    \n",
    "    C2= np.cross(np.einsum('ijk,ik->ij',Π(φ,θ,ψ).astype(np.float32),np.array([dφ,dθ,dψ]).astype(np.float32).T),\n",
    "                 np.einsum('ijk,ik->ij',Irho_e(Ret).astype(np.float32),\n",
    "                           np.einsum('ijk,ik->ij',Π(φ,θ,ψ).astype(np.float32),np.array([dφ,dθ,dψ]).astype(np.float32).T)))\n",
    "    \n",
    "#     print(Re_b(φ,θ,ψ).shape)\n",
    "# #     print(me_)\n",
    "# #     print(me_[:,0])\n",
    "#     print(d_s(me_[:,0],me_[:,1],me_[:,2],dt,ds).shape)\n",
    "# #     print(Irho_e(φ,θ,ψ).shape)\n",
    "#     print(d_s(me_[:,0],me_[:,1],me_[:, 2],dt,ds))\n",
    "#     print(me_)\n",
    "#     print('d_s',d_s(me_[:,0],me_[:,1],me_[:, 2],x,y,z))\n",
    "#     C3= np.einsum('ijk,ik->ij',Re_b(Ret).astype(np.float32),d_s(me_[:,0],me_[:,1],me_[:, 2],x,y,z).astype(np.float32).T)\n",
    "    C3= d_s(me_[:,0],me_[:,1],me_[:, 2],x,y,z).astype(np.float32).T\n",
    "#     C3=np.einsum('ijk,ik->ij', Re_b(Ret),C3_)\n",
    "#     print(C3.shape)\n",
    "#     print(d_s(x,y,z,dt,ds).shape)\n",
    "#     print(ne(x,y,z,φ,θ,ψ,dt,ds).T.shape)\n",
    "    C4= np.cross(d_s(x,y,z,x,y,z).T,ne(x,y,z,Ret))\n",
    "#     print(np.dot(DR,K).shape)\n",
    "#     print(Re_b(φ,θ,ψ).shape)\n",
    "#     print(np.dot(DR,K[:,0]))\n",
    "\n",
    "    K1=np.einsum('ijk,ik->ij',Π(φ,θ,ψ).astype(np.float32),np.array([dφ,dθ,dψ]).astype(np.float32).T).T\n",
    "#     print('K1',np.array([dφ,dθ,dψ]))\n",
    "#     C5= np.einsum('ijk,ik->ij',Re_b(Ret).astype(np.float32),-np.dot(DR,K1).astype(np.float32).T)\n",
    "    C5= -np.dot(DR,K1).astype(np.float32).T\n",
    "#     if np.isnan(np.sum(C1)):\n",
    "#         print('C1',np.isnan(np.sum(C1)))\n",
    "#     if np.isnan(np.sum(C2)):    \n",
    "#         print('C2',np.isnan(np.sum(C2)))\n",
    "#     if np.isnan(np.sum(C3)):    \n",
    "#         print('C3',np.isnan(np.sum(C3)))\n",
    "#     if np.isnan(np.sum(C4)):    \n",
    "#         print('C4',np.isnan(np.sum(C4)))\n",
    "#     if np.isnan(np.sum(C5)):    \n",
    "#         print('C5',np.isnan(np.sum(C5)))\n",
    "#     print(C5.shape)    \n",
    "#     C0=np.zeros((node_N,3))\n",
    "#     C0[-1]=tau_force[3:]\n",
    "#     print(Π(φ,θ,ψ).shape)\n",
    "#     print(Re_b(Ret).shape)\n",
    "#     print(np.einsum('ijk,ikr->ijr',np.linalg.inv(Π(φ,θ,ψ)),Re_b(Ret)).shape)\n",
    "    C0=np.einsum('ijk,kp->ijp',np.einsum('ijk,ikr->ijr',np.linalg.inv(Π(φ,θ,ψ)),\n",
    "                        Re_b(Ret)),tau_force[3:].reshape(3,1)) \n",
    "#     print(tau_force[3:])\n",
    "#     print(C0.shape)\n",
    "#     .reshape(node_N,3)\n",
    "#     print(np.einsum('ijk,ikr->ijr',Π(φ,θ,ψ),Re_b(Ret)).shape)\n",
    "#     if np.isnan(np.sum(C0)):\n",
    "#         print('C0',np.isnan(np.sum(C0)))\n",
    "#     for a in [C1,C2,C3,C4,C5,C0]:   \n",
    "#         if max(abs(np.amax(a)), abs(np.amin(a)))>thres :\n",
    "#             print('{}'.format( retrieve_name(a)),a)\n",
    "    \n",
    "    B_ =(-C1-C2+C3+C4+C5)\n",
    "    B=(np.einsum('ijk,ik->ij', Re_b(Ret), B_)\n",
    "       -C0.squeeze()\n",
    "      )\n",
    "#     print(B.shape,C0.squeeze().shape)\n",
    "#     print(B.shape)\n",
    "#     print(C0, C0.squeeze())\n",
    "#     print(B)\n",
    "#     print(B.shape)\n",
    "#     print(Re_b(φ,θ,ψ).shape)\n",
    "#     print(Irho_e(φ,θ,ψ).shape)\n",
    "#     print(Π(φ,θ,ψ).shape)\n",
    "#     A1 =Re_b(Ret).astype(np.float32)\n",
    "    A2 = Irho_e(Ret).astype(np.float32)\n",
    "    A3=Π(φ,θ,ψ).astype(np.float32)\n",
    "#     print(np.einsum('ijk,ijk->ijk',A1,A2))\n",
    "#     print('A1',A1)\n",
    "#     print(A1)\n",
    "#     print('bu',A1[0])\n",
    "#     print('hey', np.dot(A1[0],A2[0]))\n",
    "#     print('op', np.einsum('ijk,ikr->ijr',A1,A2))\n",
    "#     print(Π(φ,θ,ψ).shape)\n",
    "#     A=np.einsum('ijk,ikr->ijr',np.einsum('ijk,ikr->ijr',A1,A2),A3)\n",
    "    A=np.einsum('ijk,ikr->ijr',A2,A3)\n",
    "#     print(B,A)    \n",
    "#     if np.isnan(np.sum(A)):     \n",
    "#         print('A',np.isnan(np.sum(A)))\n",
    "      \n",
    "#     if max(abs(np.amax(A)), abs(np.amin(A)))>thres :\n",
    "#         print('A', A)   \n",
    "   \n",
    "\n",
    "#     if np.isnan(np.sum(B)):     \n",
    "#         print('B',np.isnan(np.sum(B)))\n",
    "      \n",
    "#     if max(abs(np.amax(B)), abs(np.amin(B)))>thres :\n",
    "#         print('B', B)  \n",
    "#     print(A)\n",
    "#     print()\n",
    "#     print()\n",
    "\n",
    "\n",
    "#     print(A.shape)\n",
    "#     print(B.shape)\n",
    "#     print(np.linalg.solve(A,B) ) \n",
    "\n",
    "#     print(A.shape,B.shape)\n",
    "############################################\n",
    "#     ddφ,ddθ,ddψ = np.linalg.solve(A,B).T\n",
    "#############################################\n",
    "\n",
    "\n",
    "\n",
    "\n",
    "#     ddφ,ddθ,ddψ = torch.linalg.lstsq(torch.from_numpy(A.astype(np.float64)),torch.from_numpy(B.astype(np.float64))).solution.cpu().numpy().T\n",
    "    \n",
    "#     test1 = np.concatenate([ddφ,ddθ,ddψ])\n",
    "    \n",
    "#     if np.isnan(np.sum(test1)):     \n",
    "#         print('test1 NaN',np.isnan(np.sum(test1)))\n",
    "      \n",
    "#     if max(abs(np.amax(test1)), abs(np.amin(test1)))>thres :\n",
    "#         print('test1', test1)\n",
    "#     torch.from_numpy(A),torch.from_numpy(B))\n",
    "    ans_φ=[]\n",
    "    ans_θ=[]\n",
    "    ans_ψ=[]\n",
    "    for i in range(len(A)):\n",
    "        a,b,c=np.linalg.lstsq(A[i],B[i], rcond=None)[0]\n",
    "        ans_φ.append(a)\n",
    "        ans_θ.append(b)\n",
    "        ans_ψ.append(c)\n",
    "    \n",
    "    ddφ,ddθ,ddψ=np.array(ans_φ),np.array(ans_θ),np.array(ans_ψ)\n",
    "    \n",
    "    \n",
    "#     print(ans_ψ)\n",
    "#     ddφ,ddθ,ddψ =np.linalg.lstsq(A,B,rcond=-1).T \n",
    "#     ddφ,ddθ,ddψ =torch.linalg.tensorsolve(torch.from_numpy(A),torch.from_numpy(B)).T\n",
    "#     print(ddφ)\n",
    "#     print(np.concatenate([dx, ddx, dy, ddy, dz, ddz, dφ, ddφ, dθ, ddθ, dψ, ddψ]))\n",
    "    \n",
    "    # is it the right order ?\n",
    "#     print('dx',dx)\n",
    "#     print('dy',dy)\n",
    "#     print('dz',dz)\n",
    "    \n",
    "#     A1111=np.concatenate(np.stack([dx,ddx, dy, ddy, dz, ddz dφ, dθ, dψ, , ddy, ddφ, ddθ, ddψ], axis=0).T) \n",
    "   \n",
    "    A1111=np.concatenate([dx, ddx, dy, ddy, dz, ddz, dφ, ddφ, dθ, ddθ, dψ, ddψ], axis=0) \n",
    "#     if np.isnan(np.sum(A1111)): \n",
    "#         print('A1111 NaN',np.isnan(np.sum(A1111)))\n",
    "#     if np.amax(A1111)>thres :\n",
    "#         print('A1111', A1111)  \n",
    "        \n",
    "        \n",
    "#     print(A1111)\n",
    "#     print(A1111)\n",
    "    \n",
    "#     print(A)\n",
    "#     print()\n",
    "#     print(A1111)\n",
    "#     print(A1111)\n",
    "#     return torch.from_numpy(A1111)\n",
    "\n",
    "#     return A1111+feedback(Q)\n",
    "#     print(φ,θ,ψ)\n",
    "#     print(Ret)\n",
    "#     if np.isnan(np.sum(φ)):     \n",
    "#         print('φ',np.isnan(np.sum(φ)))\n",
    "#     if np.isnan(np.sum(θ)):     \n",
    "#         print('θ',np.isnan(np.sum(θ)))\n",
    "#     if np.isnan(np.sum(ψ)):     \n",
    "#         print('ψ',np.isnan(np.sum(ψ))) \n",
    "#     print(A1111)\n",
    "    return A1111"
   ]
  },
  {
   "cell_type": "code",
   "execution_count": 193,
   "metadata": {},
   "outputs": [],
   "source": [
    "# q0[7*node_N:8*node_N],q0[9*node_N:10*node_N],q0[11*node_N:12*node_N]"
   ]
  },
  {
   "cell_type": "code",
   "execution_count": 194,
   "metadata": {},
   "outputs": [],
   "source": [
    "# for i in range(1000):\n",
    "#     Q1111=100*rng.standard_normal(12*node_N)\n",
    "#     print(grayscott1d(Q1111, 0.1, simData))"
   ]
  },
  {
   "cell_type": "code",
   "execution_count": 195,
   "metadata": {},
   "outputs": [],
   "source": [
    "# q0.shape"
   ]
  },
  {
   "cell_type": "code",
   "execution_count": 196,
   "metadata": {},
   "outputs": [],
   "source": [
    "# import numpy as np"
   ]
  },
  {
   "cell_type": "code",
   "execution_count": 197,
   "metadata": {},
   "outputs": [],
   "source": [
    "# np.concatenate([np.array([0,3,6]),np.array([1,4,7]),np.array([2,5,8])], axis=0)"
   ]
  },
  {
   "cell_type": "code",
   "execution_count": 198,
   "metadata": {},
   "outputs": [],
   "source": [
    "# # q0=[i for i in range(12)]\n",
    "# max_t =2 #0.1 # 10 #600  \n",
    "# dt = 0.5\n",
    "# t=np.arange(0,max_t,dt)\n",
    "# # ds = 0.025\n",
    "# print(t)"
   ]
  },
  {
   "cell_type": "code",
   "execution_count": 199,
   "metadata": {},
   "outputs": [],
   "source": [
    "# grayscott1d(4,q0)"
   ]
  },
  {
   "cell_type": "code",
   "execution_count": 200,
   "metadata": {},
   "outputs": [],
   "source": [
    "# grayscott1d(4,q0).shape"
   ]
  },
  {
   "cell_type": "code",
   "execution_count": 201,
   "metadata": {},
   "outputs": [],
   "source": [
    "# # q0=[i for i in range(12)]\n",
    "# max_t = 2 # 10 #600  \n",
    "# dt = 0.5\n",
    "# t=np.arange(0,max_t,dt)\n",
    "# ds = 0.025\n",
    "# print(t)"
   ]
  },
  {
   "cell_type": "code",
   "execution_count": 202,
   "metadata": {},
   "outputs": [],
   "source": [
    "import scipy"
   ]
  },
  {
   "cell_type": "code",
   "execution_count": 203,
   "metadata": {},
   "outputs": [],
   "source": [
    "# ode15s = scipy.integrate.ode(grayscott1d)\n",
    "# ode15s.set_integrator('vode', method='bdf', order=15, nsteps=3000)\n",
    "# # ode15s.set_integrator('vode',  order=15, nsteps=3000)\n",
    "# ode15s.set_initial_value(q0, 0)"
   ]
  },
  {
   "cell_type": "code",
   "execution_count": 204,
   "metadata": {},
   "outputs": [],
   "source": [
    "# tspan = (0., 60)\n",
    "tspan = (0.,3)"
   ]
  },
  {
   "cell_type": "code",
   "execution_count": 205,
   "metadata": {},
   "outputs": [
    {
     "data": {
      "text/plain": [
       "array([    0.        ,  3684.22828149,  7368.45656297, 11052.68484446,\n",
       "           0.        ,     0.        ,     0.        ,     0.        ,\n",
       "           0.        ,     0.        ,     0.        ,     0.        ,\n",
       "           0.        ,     0.        ,     0.        ,     0.        ,\n",
       "           0.        ,    77.06804645,   308.4070593 ,   694.42189511,\n",
       "           0.        ,     0.        ,     0.        ,     0.        ,\n",
       "           0.        ,     0.        ,     0.        ,     0.        ,\n",
       "           0.        ,     0.        ,     0.        ,     0.        ,\n",
       "           0.        ,     0.        ,     0.        ,     0.        ,\n",
       "           0.        ,     0.        ,     0.        ,     0.        ,\n",
       "           0.        ,     0.        ,     0.        ,     0.        ,\n",
       "           0.        ,     0.        ,     0.        ,     0.        ])"
      ]
     },
     "execution_count": 205,
     "metadata": {},
     "output_type": "execute_result"
    }
   ],
   "source": [
    "q0"
   ]
  },
  {
   "cell_type": "code",
   "execution_count": 206,
   "metadata": {},
   "outputs": [
    {
     "name": "stdout",
     "output_type": "stream",
     "text": [
      "0:00:03.726158\n"
     ]
    }
   ],
   "source": [
    "startTime1 = datetime.now()\n",
    "# prob = de.ODEProblem(grayscott1d, q0, tspan)\n",
    "# us = de.solve(prob)\n",
    "us=solve_ivp(grayscott1d,  tspan, q0, \n",
    "#              method='BDF'\n",
    "#              rtol=1e-3, atol=1e-3\n",
    "            )\n",
    "# us=ode15s.integrate(3)\n",
    "print(datetime.now() - startTime1)"
   ]
  },
  {
   "cell_type": "code",
   "execution_count": 207,
   "metadata": {},
   "outputs": [],
   "source": [
    "# co.my_time"
   ]
  },
  {
   "cell_type": "code",
   "execution_count": 208,
   "metadata": {},
   "outputs": [],
   "source": [
    "fin=us"
   ]
  },
  {
   "cell_type": "code",
   "execution_count": 209,
   "metadata": {
    "scrolled": true
   },
   "outputs": [],
   "source": [
    "# startTime1 = datetime.now()\n",
    "# us=odeint(grayscott1d, torch.from_numpy(q0), torch.from_numpy(t.astype(np.float32)))\n",
    "# print(datetime.now() - startTime1)"
   ]
  },
  {
   "cell_type": "code",
   "execution_count": 210,
   "metadata": {},
   "outputs": [
    {
     "data": {
      "text/plain": [
       "  message: 'Required step size is less than spacing between numbers.'\n",
       "     nfev: 632\n",
       "     njev: 0\n",
       "      nlu: 0\n",
       "      sol: None\n",
       "   status: -1\n",
       "  success: False\n",
       "        t: array([0.00000000e+00, 8.48647187e-06, 9.33511905e-05, 9.41998377e-04,\n",
       "       9.42847024e-03, 2.94791080e-02, 4.95297458e-02, 7.15132225e-02,\n",
       "       1.00435444e-01, 1.39828636e-01, 1.90865226e-01, 2.22985080e-01,\n",
       "       2.55104934e-01, 3.01481168e-01, 3.42726004e-01, 3.83970839e-01,\n",
       "       4.25475918e-01, 4.63556503e-01, 4.98608786e-01, 5.35016842e-01,\n",
       "       5.76314621e-01, 6.13473423e-01, 6.20905183e-01, 6.28336943e-01,\n",
       "       6.31397852e-01, 6.34458761e-01, 6.35988344e-01, 6.36621293e-01,\n",
       "       6.37138614e-01, 6.37242078e-01, 6.37345542e-01, 6.37392697e-01,\n",
       "       6.37430780e-01, 6.37438396e-01, 6.37446013e-01, 6.37449186e-01,\n",
       "       6.37452359e-01, 6.37453094e-01, 6.37453829e-01, 6.37454013e-01,\n",
       "       6.37454197e-01, 6.37454252e-01, 6.37454306e-01, 6.37454328e-01,\n",
       "       6.37454350e-01, 6.37454356e-01, 6.37454362e-01, 6.37454365e-01,\n",
       "       6.37454367e-01, 6.37454368e-01, 6.37454368e-01, 6.37454368e-01,\n",
       "       6.37454368e-01, 6.37454368e-01, 6.37454368e-01, 6.37454368e-01,\n",
       "       6.37454368e-01, 6.37454368e-01, 6.37454368e-01, 6.37454368e-01,\n",
       "       6.37454368e-01, 6.37454368e-01, 6.37454368e-01, 6.37454368e-01,\n",
       "       6.37454368e-01, 6.37454368e-01, 6.37454368e-01, 6.37454368e-01,\n",
       "       6.37454368e-01, 6.37454368e-01, 6.37454368e-01])\n",
       " t_events: None\n",
       "        y: array([[ 0.00000000e+00,  0.00000000e+00,  0.00000000e+00, ...,\n",
       "         0.00000000e+00,  0.00000000e+00,  0.00000000e+00],\n",
       "       [ 3.68422828e+03,  3.68422828e+03,  3.68422828e+03, ...,\n",
       "         3.68849667e+03,  3.68849667e+03,  3.68849667e+03],\n",
       "       [ 7.36845656e+03,  7.36845656e+03,  7.36845656e+03, ...,\n",
       "         7.36832145e+03,  7.36832145e+03,  7.36832145e+03],\n",
       "       ...,\n",
       "       [ 0.00000000e+00, -5.11743323e-12, -5.62912458e-11, ...,\n",
       "        -3.13393528e-07, -3.13290687e-07, -3.13150400e-07],\n",
       "       [ 0.00000000e+00, -5.11743323e-12, -5.62912458e-11, ...,\n",
       "        -3.13393528e-07, -3.13290687e-07, -3.13150400e-07],\n",
       "       [ 0.00000000e+00, -5.11743323e-12, -5.62912458e-11, ...,\n",
       "        -3.13393528e-07, -3.13290687e-07, -3.13150400e-07]])\n",
       " y_events: None"
      ]
     },
     "execution_count": 210,
     "metadata": {},
     "output_type": "execute_result"
    }
   ],
   "source": [
    "fin"
   ]
  },
  {
   "cell_type": "code",
   "execution_count": 211,
   "metadata": {},
   "outputs": [
    {
     "data": {
      "text/plain": [
       "0.0114490008"
      ]
     },
     "execution_count": 211,
     "metadata": {},
     "output_type": "execute_result"
    }
   ],
   "source": [
    "1.14490008e-02"
   ]
  },
  {
   "cell_type": "code",
   "execution_count": 212,
   "metadata": {},
   "outputs": [],
   "source": [
    "# !pip3 install diffeqpy"
   ]
  },
  {
   "cell_type": "code",
   "execution_count": null,
   "metadata": {},
   "outputs": [],
   "source": []
  },
  {
   "cell_type": "code",
   "execution_count": 213,
   "metadata": {},
   "outputs": [],
   "source": [
    "# node_N"
   ]
  },
  {
   "cell_type": "code",
   "execution_count": 214,
   "metadata": {},
   "outputs": [],
   "source": [
    "# t"
   ]
  },
  {
   "cell_type": "code",
   "execution_count": null,
   "metadata": {},
   "outputs": [],
   "source": []
  },
  {
   "cell_type": "code",
   "execution_count": 215,
   "metadata": {},
   "outputs": [],
   "source": [
    "# plt.plot(us.t,us.u)\n",
    "# plt.show()"
   ]
  },
  {
   "cell_type": "code",
   "execution_count": 216,
   "metadata": {},
   "outputs": [],
   "source": [
    "# node_N"
   ]
  },
  {
   "cell_type": "code",
   "execution_count": 217,
   "metadata": {},
   "outputs": [],
   "source": [
    "# Q[0:node_N],Q[2*node_N:3*node_N],Q[4*node_N:5*node_N]"
   ]
  },
  {
   "cell_type": "code",
   "execution_count": 218,
   "metadata": {},
   "outputs": [],
   "source": [
    "# fin"
   ]
  },
  {
   "cell_type": "code",
   "execution_count": 219,
   "metadata": {},
   "outputs": [],
   "source": [
    "# import odespy, numpy\n",
    "# solver = odespy.Vode(f, rtol=0.0, atol=1e-6,\n",
    "#                      adams_or_bdf='adams', order=10)\n",
    "# solver.set_initial_condition([2.0, 0.0])\n",
    "# t_points = numpy.linspace(0, 30, 150)\n",
    "# u, t = solver.solve(t_points)"
   ]
  },
  {
   "cell_type": "code",
   "execution_count": 220,
   "metadata": {},
   "outputs": [
    {
     "data": {
      "text/plain": [
       "array([    0.        ,  3684.22828149,  7368.45656297, 11052.68484446,\n",
       "           0.        ,     0.        ,     0.        ,     0.        ,\n",
       "           0.        ,     0.        ,     0.        ,     0.        ,\n",
       "           0.        ,     0.        ,     0.        ,     0.        ,\n",
       "           0.        ,    77.06804645,   308.4070593 ,   694.42189511,\n",
       "           0.        ,     0.        ,     0.        ,     0.        ,\n",
       "           0.        ,     0.        ,     0.        ,     0.        ,\n",
       "           0.        ,     0.        ,     0.        ,     0.        ,\n",
       "           0.        ,     0.        ,     0.        ,     0.        ,\n",
       "           0.        ,     0.        ,     0.        ,     0.        ,\n",
       "           0.        ,     0.        ,     0.        ,     0.        ,\n",
       "           0.        ,     0.        ,     0.        ,     0.        ])"
      ]
     },
     "execution_count": 220,
     "metadata": {},
     "output_type": "execute_result"
    }
   ],
   "source": [
    "fin.y.T[0]"
   ]
  },
  {
   "cell_type": "code",
   "execution_count": 221,
   "metadata": {},
   "outputs": [
    {
     "data": {
      "text/plain": [
       "71"
      ]
     },
     "execution_count": 221,
     "metadata": {},
     "output_type": "execute_result"
    }
   ],
   "source": [
    "len(fin.y.T)"
   ]
  },
  {
   "cell_type": "code",
   "execution_count": 222,
   "metadata": {},
   "outputs": [
    {
     "name": "stderr",
     "output_type": "stream",
     "text": [
      "/Library/Frameworks/Python.framework/Versions/3.7/lib/python3.7/site-packages/ipykernel_launcher.py:2: MatplotlibDeprecationWarning: Calling gca() with keyword arguments was deprecated in Matplotlib 3.4. Starting two minor releases later, gca() will take no keyword arguments. The gca() function should only be used to get the current axes, or if no axes exist, create new axes with default keyword arguments. To create a new axes with non-default arguments, use plt.axes() or plt.subplot().\n",
      "  \n",
      "/Library/Frameworks/Python.framework/Versions/3.7/lib/python3.7/site-packages/ipykernel_launcher.py:21: UserWarning: Attempting to set identical left == right == 11052.68484446162 results in singular transformations; automatically expanding.\n"
     ]
    },
    {
     "data": {
      "image/png": "[encoded data removed]",
      "text/plain": [
       "<Figure size 936x936 with 1 Axes>"
      ]
     },
     "metadata": {
      "needs_background": "light"
     },
     "output_type": "display_data"
    }
   ],
   "source": [
    "fig=plt.figure(figsize=(13,13))\n",
    "ax = fig.gca(projection='3d')\n",
    "\n",
    "X0=fin.y.T[0,[i for i in range(0,node_N)]]\n",
    "Y0=fin.y.T[0,[i for i in range(2*node_N,3*node_N)]]\n",
    "Z0=fin.y.T[0,[i for i in range(4*node_N,5*node_N)]]\n",
    "# for j in range(len(fin.y.T)):\n",
    "j=-1\n",
    "X=fin.y.T[j,[i for i in range(0,node_N)]]\n",
    "Y=fin.y.T[j,[i for i in range(2*node_N,3*node_N)]]\n",
    "Z=fin.y.T[j,[i for i in range(4*node_N,5*node_N)]]\n",
    "# X0=x0\n",
    "# Y0=[0 for i in range(node_N)]\n",
    "# Z0=z0\n",
    "# X=[fin[i] for i in range(0,node_N)]\n",
    "# Y=[fin[i] for i in range(2*node_N,3*node_N)]\n",
    "# Z=[fin[i] for i in range(4*node_N,5*node_N)]\n",
    "ax.plot(X0,Y0,Z0, color='r')\n",
    "ax.plot(X,Y,Z, color='b') \n",
    "ax.set_zlim(Z0[-1]-100, Z0[-1])\n",
    "ax.set_xlim(X0[-1], X0[-1])\n",
    "\n",
    "ax.view_init(-30,-30)\n",
    "ax.view_init(0,-90)\n",
    "    # ax.set_xlim([0, 5])\n",
    "    # ax.set_ylim([0, 5])\n",
    "plt.show()"
   ]
  },
  {
   "cell_type": "code",
   "execution_count": 223,
   "metadata": {},
   "outputs": [
    {
     "data": {
      "text/plain": [
       "(array([    0.        ,  3688.49667297,  7368.32145432, 11047.21282527]),\n",
       " array([ 0.00000000e+00,  5.86790305e-07, -4.43394815e-08, -4.35610186e-08]),\n",
       " array([  0.        ,  77.58148603, 309.18358967, 695.19344483]))"
      ]
     },
     "execution_count": 223,
     "metadata": {},
     "output_type": "execute_result"
    }
   ],
   "source": [
    "X,Y,Z"
   ]
  },
  {
   "cell_type": "code",
   "execution_count": 224,
   "metadata": {},
   "outputs": [
    {
     "data": {
      "text/plain": [
       "(array([    0.        ,  3684.22828149,  7368.45656297, 11052.68484446]),\n",
       " array([0., 0., 0., 0.]),\n",
       " array([  0.        ,  77.06804645, 308.4070593 , 694.42189511]))"
      ]
     },
     "execution_count": 224,
     "metadata": {},
     "output_type": "execute_result"
    }
   ],
   "source": [
    "X0,Y0,Z0"
   ]
  },
  {
   "cell_type": "code",
   "execution_count": 225,
   "metadata": {},
   "outputs": [],
   "source": [
    "us=fin.y"
   ]
  },
  {
   "cell_type": "code",
   "execution_count": 226,
   "metadata": {},
   "outputs": [],
   "source": [
    "t=np.arange(tspan[0],tspan[1],tspan[1]/len(us.T))"
   ]
  },
  {
   "cell_type": "code",
   "execution_count": 227,
   "metadata": {},
   "outputs": [
    {
     "data": {
      "image/png": "[encoded data removed]",
      "text/plain": [
       "<Figure size 432x288 with 1 Axes>"
      ]
     },
     "metadata": {
      "needs_background": "light"
     },
     "output_type": "display_data"
    }
   ],
   "source": [
    "plt.plot(t[:5000],us.T[:,2][:5000] ,'-')\n",
    "plt.xlabel('t')\n",
    "plt.ylabel('x2')\n",
    "plt.show()"
   ]
  },
  {
   "cell_type": "code",
   "execution_count": 228,
   "metadata": {},
   "outputs": [
    {
     "data": {
      "image/png": "[encoded data removed]",
      "text/plain": [
       "<Figure size 432x288 with 1 Axes>"
      ]
     },
     "metadata": {
      "needs_background": "light"
     },
     "output_type": "display_data"
    }
   ],
   "source": [
    "plt.plot(t[:20],us.T[:,6][:20] ,'-')\n",
    "plt.xlabel('t')\n",
    "plt.ylabel('dx2')\n",
    "plt.show()"
   ]
  },
  {
   "cell_type": "code",
   "execution_count": 229,
   "metadata": {},
   "outputs": [
    {
     "data": {
      "image/png": "[encoded data removed]",
      "text/plain": [
       "<Figure size 432x288 with 1 Axes>"
      ]
     },
     "metadata": {
      "needs_background": "light"
     },
     "output_type": "display_data"
    }
   ],
   "source": [
    "plt.plot(t[:5000],us.T[:,18][:5000] ,'-')\n",
    "plt.xlabel('t')\n",
    "plt.ylabel('z2')\n",
    "plt.show()"
   ]
  },
  {
   "cell_type": "code",
   "execution_count": 230,
   "metadata": {},
   "outputs": [
    {
     "data": {
      "image/png": "[encoded data removed]",
      "text/plain": [
       "<Figure size 432x288 with 1 Axes>"
      ]
     },
     "metadata": {
      "needs_background": "light"
     },
     "output_type": "display_data"
    }
   ],
   "source": [
    "plt.plot(t[:5000],us.T[:,22][:5000] ,'-')\n",
    "plt.xlabel('t')\n",
    "plt.ylabel('dz2')\n",
    "plt.show()"
   ]
  },
  {
   "cell_type": "code",
   "execution_count": 231,
   "metadata": {},
   "outputs": [
    {
     "data": {
      "image/png": "[encoded data removed]",
      "text/plain": [
       "<Figure size 432x288 with 1 Axes>"
      ]
     },
     "metadata": {
      "needs_background": "light"
     },
     "output_type": "display_data"
    }
   ],
   "source": [
    "plt.plot(t[:5000],us.T[:,34][:5000] ,'-')\n",
    "plt.xlabel('t')\n",
    "plt.ylabel('θ2')\n",
    "plt.show()"
   ]
  },
  {
   "cell_type": "code",
   "execution_count": 232,
   "metadata": {},
   "outputs": [
    {
     "data": {
      "image/png": "[encoded data removed]",
      "text/plain": [
       "<Figure size 432x288 with 1 Axes>"
      ]
     },
     "metadata": {
      "needs_background": "light"
     },
     "output_type": "display_data"
    }
   ],
   "source": [
    "plt.plot(t[:5000],us.T[:,38][:5000] ,'-')\n",
    "plt.xlabel('t')\n",
    "plt.ylabel('dθ2')\n",
    "plt.show()"
   ]
  },
  {
   "cell_type": "code",
   "execution_count": 233,
   "metadata": {},
   "outputs": [],
   "source": [
    "# E = 210e9"
   ]
  },
  {
   "cell_type": "code",
   "execution_count": 234,
   "metadata": {},
   "outputs": [],
   "source": [
    "# E*Ar"
   ]
  },
  {
   "cell_type": "code",
   "execution_count": 235,
   "metadata": {},
   "outputs": [],
   "source": [
    "# 1e10"
   ]
  },
  {
   "cell_type": "code",
   "execution_count": 236,
   "metadata": {},
   "outputs": [],
   "source": [
    "# import torch"
   ]
  },
  {
   "cell_type": "code",
   "execution_count": 237,
   "metadata": {},
   "outputs": [],
   "source": [
    "# A = torch.randn(20,3,3)\n",
    "# B = torch.randn(20,3)\n",
    "# X = torch.linalg.lstsq(A, B).solution # A is broadcasted to shape (2, 3, 3)\n"
   ]
  },
  {
   "cell_type": "code",
   "execution_count": 238,
   "metadata": {},
   "outputs": [],
   "source": [
    "# X"
   ]
  },
  {
   "cell_type": "code",
   "execution_count": 239,
   "metadata": {},
   "outputs": [],
   "source": [
    "# type(A)"
   ]
  },
  {
   "cell_type": "code",
   "execution_count": 240,
   "metadata": {},
   "outputs": [],
   "source": [
    "# X.shape"
   ]
  },
  {
   "cell_type": "code",
   "execution_count": 241,
   "metadata": {},
   "outputs": [],
   "source": [
    "# plot3D(fin, numDataPoints, FPS, filename, 3)"
   ]
  },
  {
   "cell_type": "code",
   "execution_count": null,
   "metadata": {},
   "outputs": [],
   "source": []
  },
  {
   "cell_type": "code",
   "execution_count": null,
   "metadata": {},
   "outputs": [],
   "source": []
  },
  {
   "cell_type": "code",
   "execution_count": null,
   "metadata": {},
   "outputs": [],
   "source": []
  },
  {
   "cell_type": "code",
   "execution_count": null,
   "metadata": {},
   "outputs": [],
   "source": []
  },
  {
   "cell_type": "code",
   "execution_count": null,
   "metadata": {},
   "outputs": [],
   "source": []
  },
  {
   "cell_type": "code",
   "execution_count": null,
   "metadata": {},
   "outputs": [],
   "source": []
  },
  {
   "cell_type": "code",
   "execution_count": null,
   "metadata": {},
   "outputs": [],
   "source": []
  },
  {
   "cell_type": "code",
   "execution_count": null,
   "metadata": {},
   "outputs": [],
   "source": []
  },
  {
   "cell_type": "code",
   "execution_count": null,
   "metadata": {},
   "outputs": [],
   "source": []
  },
  {
   "cell_type": "code",
   "execution_count": null,
   "metadata": {},
   "outputs": [],
   "source": []
  },
  {
   "cell_type": "code",
   "execution_count": null,
   "metadata": {},
   "outputs": [],
   "source": []
  },
  {
   "cell_type": "code",
   "execution_count": null,
   "metadata": {},
   "outputs": [],
   "source": []
  },
  {
   "cell_type": "code",
   "execution_count": null,
   "metadata": {},
   "outputs": [],
   "source": []
  },
  {
   "cell_type": "code",
   "execution_count": null,
   "metadata": {},
   "outputs": [],
   "source": []
  }
 ],
 "metadata": {
  "kernelspec": {
   "display_name": "Python 3",
   "language": "python",
   "name": "python3"
  },
  "language_info": {
   "codemirror_mode": {
    "name": "ipython",
    "version": 3
   },
   "file_extension": ".py",
   "mimetype": "text/x-python",
   "name": "python",
   "nbconvert_exporter": "python",
   "pygments_lexer": "ipython3",
   "version": "3.7.7"
  }
 },
 "nbformat": 4,
 "nbformat_minor": 4
}
