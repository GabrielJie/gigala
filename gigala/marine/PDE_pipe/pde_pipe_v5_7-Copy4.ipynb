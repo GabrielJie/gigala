{
 "cells": [
  {
   "cell_type": "markdown",
   "metadata": {},
   "source": [
    "#### Model taken from:\n",
    "- [1] Offshore Pipelaying Dynamics. Gullik Anthon Jensen \n",
    "- [2] A nonlinear PDE formulation for offshore vessel pipeline installation. Gullik A. Jensen et al \n",
    "- [3] Modeling and Control of Offshore Pipelay Operations Based on a Finite Strain Pipe Model. Gullik A. Jensen "
   ]
  },
  {
   "cell_type": "code",
   "execution_count": 1,
   "metadata": {},
   "outputs": [],
   "source": [
    "# import julia;\n",
    "# julia.install()"
   ]
  },
  {
   "cell_type": "code",
   "execution_count": 2,
   "metadata": {},
   "outputs": [],
   "source": [
    "# pipe's mass is different from vessel's mass"
   ]
  },
  {
   "cell_type": "code",
   "execution_count": 3,
   "metadata": {},
   "outputs": [],
   "source": [
    "import numpy as np\n",
    "import numdifftools as nd\n",
    "import math\n",
    "import matplotlib.pyplot as plt\n",
    "from datetime import datetime\n",
    "# from scipy.integrate import odeint\n",
    "# from torchdiffeq import odeint\n",
    "import torch\n",
    "import inspect\n",
    "import random\n",
    "from scipy.optimize import fsolve\n",
    "from scipy.integrate import solve_ivp\n",
    "import scipy\n",
    "from numpy import linalg as LA"
   ]
  },
  {
   "cell_type": "code",
   "execution_count": 4,
   "metadata": {},
   "outputs": [],
   "source": [
    "import sys\n",
    "sys.path.insert(0, \"../../../../Ocean_Intella/PythonVehicleSimulator-master/src/python_vehicle_simulator\")\n",
    "sys.path.insert(0, \"../../../../Ocean_Intella/PythonVehicleSimulator-master/src\")"
   ]
  },
  {
   "cell_type": "code",
   "execution_count": 5,
   "metadata": {},
   "outputs": [],
   "source": [
    "# from diffeqpy import ode\n",
    "# from diffeqpy import de"
   ]
  },
  {
   "cell_type": "code",
   "execution_count": 6,
   "metadata": {},
   "outputs": [],
   "source": [
    "from vehicles import shipClarke83\n",
    "from python_vehicle_simulator.vehicles import *\n",
    "from python_vehicle_simulator.lib import *\n",
    "from python_vehicle_simulator.lib.gnc import ssa"
   ]
  },
  {
   "cell_type": "code",
   "execution_count": 7,
   "metadata": {},
   "outputs": [],
   "source": [
    "from sympy import *"
   ]
  },
  {
   "cell_type": "code",
   "execution_count": 8,
   "metadata": {},
   "outputs": [],
   "source": [
    "def R2D(value):  # radians to degrees\n",
    "    return value * 180 / math.pi"
   ]
  },
  {
   "cell_type": "code",
   "execution_count": 9,
   "metadata": {},
   "outputs": [],
   "source": [
    "mp = 96 #  (submerged) [kg/m]"
   ]
  },
  {
   "cell_type": "code",
   "execution_count": 10,
   "metadata": {},
   "outputs": [],
   "source": [
    "node_N = 4"
   ]
  },
  {
   "cell_type": "code",
   "execution_count": 11,
   "metadata": {},
   "outputs": [],
   "source": [
    "mi = [mp for i in range(node_N)] "
   ]
  },
  {
   "cell_type": "code",
   "execution_count": 12,
   "metadata": {},
   "outputs": [],
   "source": [
    "# L - the hull length\n",
    "# Xg - x-center of gravity\n",
    "L = 169 # [m]\n",
    "Xg = 78 # [m]\n",
    "mn = 123000000 # mass of the vessel, [kg] !!!!!!!!!!!!!!!!!! Solitaire type vessel "
   ]
  },
  {
   "cell_type": "code",
   "execution_count": 13,
   "metadata": {},
   "outputs": [],
   "source": [
    "vessel_mass=mn/L # mass over length of vessel"
   ]
  },
  {
   "cell_type": "code",
   "execution_count": 14,
   "metadata": {},
   "outputs": [],
   "source": [
    "diag_Irho = 1e2*np.array([1, 1, 2]) # [m^4]  , p.99 in [1]\n",
    " \n",
    "Irho=np.diag(diag_Irho)"
   ]
  },
  {
   "cell_type": "code",
   "execution_count": 15,
   "metadata": {},
   "outputs": [
    {
     "data": {
      "text/plain": [
       "array([[100.,   0.,   0.],\n",
       "       [  0., 100.,   0.],\n",
       "       [  0.,   0., 200.]])"
      ]
     },
     "execution_count": 15,
     "metadata": {},
     "output_type": "execute_result"
    }
   ],
   "source": [
    "Irho"
   ]
  },
  {
   "cell_type": "code",
   "execution_count": 16,
   "metadata": {},
   "outputs": [],
   "source": [
    "# Fossen book p.181\n",
    "def vessel_inertia_moment(mn, Xg, L):\n",
    "    r = 0.25*L\n",
    "    Ir = mn*r**2\n",
    "    Iz=mn*Xg**2 + Ir\n",
    "    return Iz"
   ]
  },
  {
   "cell_type": "code",
   "execution_count": 17,
   "metadata": {},
   "outputs": [],
   "source": [
    "vessel_inertia = vessel_inertia_moment(mn, Xg, L)"
   ]
  },
  {
   "cell_type": "code",
   "execution_count": 18,
   "metadata": {},
   "outputs": [],
   "source": [
    "Irho=Irho*(node_N-1)+vessel_inertia"
   ]
  },
  {
   "cell_type": "code",
   "execution_count": 19,
   "metadata": {},
   "outputs": [],
   "source": [
    "# vessel_inertia_coef = vessel_inertia/np.max(diag_Irho)"
   ]
  },
  {
   "cell_type": "code",
   "execution_count": 20,
   "metadata": {},
   "outputs": [],
   "source": [
    "# vessel_inertia_coef"
   ]
  },
  {
   "cell_type": "code",
   "execution_count": 21,
   "metadata": {},
   "outputs": [],
   "source": [
    "qw = 1025 # Water density [kg/m3]\n",
    "d0 = 0.761 # Outer diameter of pipe, [m]"
   ]
  },
  {
   "cell_type": "code",
   "execution_count": 22,
   "metadata": {},
   "outputs": [],
   "source": [
    "diag_DT = 1.5*np.array([1, 1, 1]) \n",
    "# diag_DT = 1.5e15*np.array([1, 1, 1]) # [N/m]  , p.99 in [1] !!!!!!!!!!!!!!!!!!!!!!!!!!!!"
   ]
  },
  {
   "cell_type": "code",
   "execution_count": 23,
   "metadata": {},
   "outputs": [],
   "source": [
    "DT=np.diag(diag_DT) # (35) in [2]"
   ]
  },
  {
   "cell_type": "code",
   "execution_count": 24,
   "metadata": {},
   "outputs": [
    {
     "data": {
      "text/plain": [
       "array([[1.5, 0. , 0. ],\n",
       "       [0. , 1.5, 0. ],\n",
       "       [0. , 0. , 1.5]])"
      ]
     },
     "execution_count": 24,
     "metadata": {},
     "output_type": "execute_result"
    }
   ],
   "source": [
    "DT"
   ]
  },
  {
   "cell_type": "code",
   "execution_count": 25,
   "metadata": {},
   "outputs": [],
   "source": [
    "diag_CT = 1e9*np.array([1, 1, 1]) # [Nm2] p. 4721 in [3]"
   ]
  },
  {
   "cell_type": "code",
   "execution_count": 26,
   "metadata": {},
   "outputs": [],
   "source": [
    "CT=np.diag(diag_CT)"
   ]
  },
  {
   "cell_type": "code",
   "execution_count": 27,
   "metadata": {},
   "outputs": [
    {
     "data": {
      "text/plain": [
       "array([[1.e+09, 0.e+00, 0.e+00],\n",
       "       [0.e+00, 1.e+09, 0.e+00],\n",
       "       [0.e+00, 0.e+00, 1.e+09]])"
      ]
     },
     "execution_count": 27,
     "metadata": {},
     "output_type": "execute_result"
    }
   ],
   "source": [
    "CT"
   ]
  },
  {
   "cell_type": "code",
   "execution_count": 28,
   "metadata": {},
   "outputs": [],
   "source": [
    "# angles should be in radians, otherwise np.radians them  \n",
    "def Re_t_(arr):\n",
    "    φ,θ,ψ=arr[0],arr[1],arr[2]\n",
    "  \n",
    "    Cφ=np.matrix([[1,0,0],\n",
    "                      [0,np.cos(φ),-np.sin(φ)],\n",
    "                      [0,np.sin(φ),np.cos(φ)]])\n",
    "\n",
    "    Cθ=np.matrix([[np.cos(θ),0,np.sin(θ)],\n",
    "                      [0,1,0],\n",
    "                      [-np.sin(θ),0,np.cos(θ)]])\n",
    "\n",
    "    Cψ=np.matrix([[np.cos(ψ),-np.sin(ψ),0],\n",
    "                      [np.sin(ψ),np.cos(ψ),0],\n",
    "                      [0,0,1]])\n",
    "        \n",
    "\n",
    "    return np.array(np.dot(np.dot(Cφ,Cθ),Cψ) )"
   ]
  },
  {
   "cell_type": "code",
   "execution_count": 29,
   "metadata": {},
   "outputs": [
    {
     "data": {
      "text/plain": [
       "array([[ 0.41198225,  0.05872664,  0.90929743],\n",
       "       [-0.68124272, -0.64287284,  0.35017549],\n",
       "       [ 0.60512725, -0.76371834, -0.2248451 ]])"
      ]
     },
     "execution_count": 29,
     "metadata": {},
     "output_type": "execute_result"
    }
   ],
   "source": [
    "Re_t_([1,2,3])"
   ]
  },
  {
   "cell_type": "code",
   "execution_count": 30,
   "metadata": {},
   "outputs": [],
   "source": [
    "rng = np.random.default_rng()"
   ]
  },
  {
   "cell_type": "code",
   "execution_count": 31,
   "metadata": {},
   "outputs": [],
   "source": [
    "φ, θ, ψ = rng.standard_normal(node_N),rng.standard_normal(node_N),rng.standard_normal(node_N)"
   ]
  },
  {
   "cell_type": "code",
   "execution_count": 32,
   "metadata": {},
   "outputs": [],
   "source": [
    "def Re_t(a,b,c):\n",
    "    xyz=np.stack((a,b,c), axis=1)\n",
    "    return np.apply_along_axis(Re_t_, 1, xyz)"
   ]
  },
  {
   "cell_type": "code",
   "execution_count": 33,
   "metadata": {},
   "outputs": [
    {
     "data": {
      "text/plain": [
       "array([[ 0.81772558, -0.11887722, -0.56319897],\n",
       "       [ 0.55840555,  0.40125214,  0.72607159],\n",
       "       [ 0.13967142, -0.90822075,  0.39449583]])"
      ]
     },
     "execution_count": 33,
     "metadata": {},
     "output_type": "execute_result"
    }
   ],
   "source": [
    "Re_t_(np.array([φ[0], θ[0], ψ[0]]))"
   ]
  },
  {
   "cell_type": "code",
   "execution_count": 34,
   "metadata": {
    "scrolled": true
   },
   "outputs": [
    {
     "name": "stdout",
     "output_type": "stream",
     "text": [
      "0:00:00.002625\n"
     ]
    }
   ],
   "source": [
    "startTime1 = datetime.now()\n",
    "Ret=Re_t(φ,θ,ψ)\n",
    "print(datetime.now() - startTime1)"
   ]
  },
  {
   "cell_type": "code",
   "execution_count": 35,
   "metadata": {},
   "outputs": [
    {
     "data": {
      "text/plain": [
       "array([[[ 0.81772558, -0.11887722, -0.56319897],\n",
       "        [ 0.55840555,  0.40125214,  0.72607159],\n",
       "        [ 0.13967142, -0.90822075,  0.39449583]],\n",
       "\n",
       "       [[ 0.76344883, -0.639272  ,  0.0920717 ],\n",
       "        [ 0.22267533,  0.12671068, -0.96662304],\n",
       "        [ 0.60626858,  0.75846932,  0.23908723]],\n",
       "\n",
       "       [[ 0.16189731, -0.55495486,  0.81597449],\n",
       "        [ 0.94628644,  0.32182774,  0.03112676],\n",
       "        [-0.27987717,  0.76710625,  0.57724931]],\n",
       "\n",
       "       [[ 0.1397239 , -0.05012636, -0.98892092],\n",
       "        [-0.00648953,  0.99865003, -0.05153641],\n",
       "        [ 0.99016924,  0.0136185 ,  0.13920998]]])"
      ]
     },
     "execution_count": 35,
     "metadata": {},
     "output_type": "execute_result"
    }
   ],
   "source": [
    "Ret"
   ]
  },
  {
   "cell_type": "code",
   "execution_count": 36,
   "metadata": {},
   "outputs": [
    {
     "data": {
      "text/plain": [
       "(4, 3, 3)"
      ]
     },
     "execution_count": 36,
     "metadata": {},
     "output_type": "execute_result"
    }
   ],
   "source": [
    "Ret.shape"
   ]
  },
  {
   "cell_type": "code",
   "execution_count": 37,
   "metadata": {},
   "outputs": [],
   "source": [
    "dx,dy,dz=rng.standard_normal(node_N),rng.standard_normal(node_N),rng.standard_normal(node_N)"
   ]
  },
  {
   "cell_type": "code",
   "execution_count": 38,
   "metadata": {},
   "outputs": [],
   "source": [
    "def C1(dx,dy,dz, Ret):\n",
    "    B=np.vstack([np.abs(dx)*dx,(dy**2+dz**2)**0.5*dy,(dy**2+dz**2)**0.5*dz])\n",
    "#     print(np.dot(Ret[0],B.T[0]))\n",
    "    ans=np.einsum('ijk,ik->ij', Ret, np.einsum('ijk,ik->ij', Ret,B.T.astype(np.float32))) \n",
    "    return ans.T"
   ]
  },
  {
   "cell_type": "code",
   "execution_count": 39,
   "metadata": {},
   "outputs": [
    {
     "data": {
      "text/plain": [
       "array([ 1.8886482 ,  0.7211195 ,  1.49045736, -0.15764971])"
      ]
     },
     "execution_count": 39,
     "metadata": {},
     "output_type": "execute_result"
    }
   ],
   "source": [
    "np.abs(dx)*dx"
   ]
  },
  {
   "cell_type": "code",
   "execution_count": 40,
   "metadata": {},
   "outputs": [
    {
     "data": {
      "text/plain": [
       "array([[ 1.36340843,  0.41939697, -1.14812709,  0.73549659],\n",
       "       [ 1.14335712, -0.19340881, -0.33725394,  2.1082831 ],\n",
       "       [-0.83030152,  0.5638681 ,  1.55453352,  2.43064717]])"
      ]
     },
     "execution_count": 40,
     "metadata": {},
     "output_type": "execute_result"
    }
   ],
   "source": [
    "C1(dx,dy,dz,Ret)"
   ]
  },
  {
   "cell_type": "code",
   "execution_count": 41,
   "metadata": {},
   "outputs": [
    {
     "data": {
      "text/plain": [
       "(3, 4)"
      ]
     },
     "execution_count": 41,
     "metadata": {},
     "output_type": "execute_result"
    }
   ],
   "source": [
    "C1(dx,dy,dz,Ret).shape"
   ]
  },
  {
   "cell_type": "code",
   "execution_count": 42,
   "metadata": {},
   "outputs": [
    {
     "name": "stdout",
     "output_type": "stream",
     "text": [
      "0:00:00.000554\n"
     ]
    }
   ],
   "source": [
    "startTime1 = datetime.now()\n",
    "C1(dx,dy,dz,Ret)\n",
    "print(datetime.now() - startTime1)"
   ]
  },
  {
   "cell_type": "code",
   "execution_count": 43,
   "metadata": {},
   "outputs": [],
   "source": [
    "def fD(dx,dy,dz,DT,Ret):\n",
    "    return 1/2*d0*qw*np.dot(DT, C1(dx,dy,dz,Ret))*9.81"
   ]
  },
  {
   "cell_type": "code",
   "execution_count": 44,
   "metadata": {},
   "outputs": [
    {
     "data": {
      "text/plain": [
       "array([ 7824.64723672,  6561.7653008 , -4765.12860335])"
      ]
     },
     "execution_count": 44,
     "metadata": {},
     "output_type": "execute_result"
    }
   ],
   "source": [
    "1/2*d0*qw*np.dot(DT,C1(dx,dy,dz,Ret).T[0])*9.81"
   ]
  },
  {
   "cell_type": "code",
   "execution_count": 45,
   "metadata": {},
   "outputs": [
    {
     "data": {
      "text/plain": [
       "array([[ 7824.64723672,  2406.93342478, -6589.14034754,  4221.03991724],\n",
       "       [ 6561.7653008 , -1109.97974102, -1935.51180543, 12099.50823701],\n",
       "       [-4765.12860335,  3236.05816421,  8921.5206292 , 13949.56658684]])"
      ]
     },
     "execution_count": 45,
     "metadata": {},
     "output_type": "execute_result"
    }
   ],
   "source": [
    "fD(dx,dy,dz,DT,Ret)"
   ]
  },
  {
   "cell_type": "code",
   "execution_count": 46,
   "metadata": {},
   "outputs": [
    {
     "data": {
      "text/plain": [
       "array([[ 7824.64723672,  6561.7653008 , -4765.12860335],\n",
       "       [ 2406.93342478, -1109.97974102,  3236.05816421],\n",
       "       [-6589.14034754, -1935.51180543,  8921.5206292 ],\n",
       "       [ 4221.03991724, 12099.50823701, 13949.56658684]])"
      ]
     },
     "execution_count": 46,
     "metadata": {},
     "output_type": "execute_result"
    }
   ],
   "source": [
    "fD(dx,dy,dz,DT,Ret).T"
   ]
  },
  {
   "cell_type": "code",
   "execution_count": 47,
   "metadata": {},
   "outputs": [
    {
     "name": "stdout",
     "output_type": "stream",
     "text": [
      "0:00:00.000444\n"
     ]
    }
   ],
   "source": [
    "startTime1 = datetime.now()\n",
    "fD(dx,dy,dz,DT,Ret)\n",
    "print(datetime.now() - startTime1)"
   ]
  },
  {
   "cell_type": "code",
   "execution_count": 48,
   "metadata": {},
   "outputs": [],
   "source": [
    "# https://docs.scipy.org/doc/scipy-1.8.0/tutorial/integrate.html  \n",
    "# 1-D Gray-Scott "
   ]
  },
  {
   "cell_type": "code",
   "execution_count": 49,
   "metadata": {},
   "outputs": [],
   "source": [
    "I=np.identity(3)"
   ]
  },
  {
   "cell_type": "code",
   "execution_count": 50,
   "metadata": {},
   "outputs": [
    {
     "name": "stdout",
     "output_type": "stream",
     "text": [
      "0:00:00.000306\n"
     ]
    }
   ],
   "source": [
    "startTime1 = datetime.now()\n",
    "np.dot(I,fD(dx,dy,dz,DT,Ret))\n",
    "print(datetime.now() - startTime1)"
   ]
  },
  {
   "cell_type": "code",
   "execution_count": 51,
   "metadata": {},
   "outputs": [],
   "source": [
    "Rb_t=I # https://www.researchgate.net/profile/Thor-Fossen/publication/224560837_Modeling_and_Control_of_Offshore_Pipelay_Operations_Based_on_a_Finite_Strain_Pipe_Model/links/00b7d520e175a3f918000000/Modeling-and-Control-of-Offshore-Pipelay-Operations-Based-on-a-Finite-Strain-Pipe-Model.pdf"
   ]
  },
  {
   "cell_type": "code",
   "execution_count": 52,
   "metadata": {},
   "outputs": [
    {
     "data": {
      "text/plain": [
       "array([[1., 0., 0.],\n",
       "       [0., 1., 0.],\n",
       "       [0., 0., 1.]])"
      ]
     },
     "execution_count": 52,
     "metadata": {},
     "output_type": "execute_result"
    }
   ],
   "source": [
    "Rb_t"
   ]
  },
  {
   "cell_type": "code",
   "execution_count": 53,
   "metadata": {},
   "outputs": [],
   "source": [
    "diag_DR = 1.5*np.array([1, 1, 1]) # [N m/rad]  p.4721 in [3]"
   ]
  },
  {
   "cell_type": "code",
   "execution_count": 54,
   "metadata": {},
   "outputs": [],
   "source": [
    "DR=np.diag(diag_DR) "
   ]
  },
  {
   "cell_type": "code",
   "execution_count": 55,
   "metadata": {},
   "outputs": [],
   "source": [
    "dI= 0.69# Inner diameter of pipe, [m]"
   ]
  },
  {
   "cell_type": "code",
   "execution_count": 56,
   "metadata": {},
   "outputs": [],
   "source": [
    "Ar=math.pi*((d0/2)**2-(dI/2)**2)"
   ]
  },
  {
   "cell_type": "code",
   "execution_count": 57,
   "metadata": {},
   "outputs": [
    {
     "data": {
      "text/plain": [
       "0.08091250419136858"
      ]
     },
     "execution_count": 57,
     "metadata": {},
     "output_type": "execute_result"
    }
   ],
   "source": [
    "Ar"
   ]
  },
  {
   "cell_type": "code",
   "execution_count": 58,
   "metadata": {},
   "outputs": [],
   "source": [
    "fg_e=np.array([[0,0,(mp-qw*Ar)*9.81] for x in range(node_N)])"
   ]
  },
  {
   "cell_type": "code",
   "execution_count": 59,
   "metadata": {},
   "outputs": [
    {
     "data": {
      "text/plain": [
       "array([[  0.        ,   0.        , 128.16454223],\n",
       "       [  0.        ,   0.        , 128.16454223],\n",
       "       [  0.        ,   0.        , 128.16454223],\n",
       "       [  0.        ,   0.        , 128.16454223]])"
      ]
     },
     "execution_count": 59,
     "metadata": {},
     "output_type": "execute_result"
    }
   ],
   "source": [
    "fg_e"
   ]
  },
  {
   "cell_type": "code",
   "execution_count": 60,
   "metadata": {},
   "outputs": [],
   "source": [
    "# # not checked \n",
    "# def k_sigma(hi,d0,fg_e):\n",
    "#     ans=[]\n",
    "#     for it in hi:\n",
    "#         if it<0:\n",
    "#             ans.append(0)\n",
    "#         elif 0<=it<=d0/20:\n",
    "#             ans.append(np.float32(LA.norm(fg_e,2)/(d0/8-d0/40)*10*it**2/d0))\n",
    "#         else:\n",
    "#             ans.append(np.float32(LA.norm(fg_e,2)/(d0/8-d0/40)*(it-d0/40)))     \n",
    "#     return np.array(ans).reshape(node_N,1)   "
   ]
  },
  {
   "cell_type": "code",
   "execution_count": 61,
   "metadata": {},
   "outputs": [],
   "source": [
    "x,y,z=100*rng.standard_normal(node_N),100*rng.standard_normal(node_N),100*rng.standard_normal(node_N)"
   ]
  },
  {
   "cell_type": "code",
   "execution_count": 62,
   "metadata": {},
   "outputs": [],
   "source": [
    "# # not checked\n",
    "# def hi(x,y,z,d0):\n",
    "#     return (np.dot(np.array([x,y,z]).T,[0,0,1])+d0/2).reshape(node_N,1) "
   ]
  },
  {
   "cell_type": "code",
   "execution_count": 63,
   "metadata": {},
   "outputs": [],
   "source": [
    "# startTime1 = datetime.now()\n",
    "# hi(x,y,z,d0)\n",
    "# print(datetime.now() - startTime1)"
   ]
  },
  {
   "cell_type": "code",
   "execution_count": 64,
   "metadata": {},
   "outputs": [],
   "source": [
    "# k_sigma(hi(x,y,z,d0),d0,fg_e)"
   ]
  },
  {
   "cell_type": "code",
   "execution_count": 65,
   "metadata": {},
   "outputs": [],
   "source": [
    "# startTime1 = datetime.now()\n",
    "# k_sigma(hi(x,y,z,d0),d0,fg_e)\n",
    "# print(datetime.now() - startTime1)"
   ]
  },
  {
   "cell_type": "code",
   "execution_count": 66,
   "metadata": {},
   "outputs": [],
   "source": [
    "# # TODO: force shoud be acting only at nodes that are in contact with the seabed\n",
    "# # not checked\n",
    "# def sigma(x,y,z):\n",
    "#     return (k_sigma(hi(x,y,z,d0),d0,fg_e)*np.array([0,0,1]))"
   ]
  },
  {
   "cell_type": "code",
   "execution_count": 67,
   "metadata": {},
   "outputs": [],
   "source": [
    "# startTime1 = datetime.now()\n",
    "# sigma(x,y,z)\n",
    "# print(datetime.now() - startTime1)"
   ]
  },
  {
   "cell_type": "code",
   "execution_count": 68,
   "metadata": {},
   "outputs": [],
   "source": [
    "def Re_b(Ret):\n",
    "#     return np.dot(Ret, Rb_t ) # (5) in[3]\n",
    "    return Ret"
   ]
  },
  {
   "cell_type": "code",
   "execution_count": 69,
   "metadata": {},
   "outputs": [
    {
     "name": "stdout",
     "output_type": "stream",
     "text": [
      "0:00:00.000210\n"
     ]
    }
   ],
   "source": [
    "startTime1 = datetime.now()\n",
    "Re_b(Ret)\n",
    "print(datetime.now() - startTime1)"
   ]
  },
  {
   "cell_type": "code",
   "execution_count": 70,
   "metadata": {},
   "outputs": [],
   "source": [
    "def phi(x, y, z, Ret,dummy):\n",
    "    B=np.vstack([x,y,z])\n",
    "    return np.einsum('ijk,ik->ij', Ret,B.T.astype(np.float32))"
   ]
  },
  {
   "cell_type": "code",
   "execution_count": 71,
   "metadata": {},
   "outputs": [
    {
     "data": {
      "text/plain": [
       "array([[ -24.30327814,   -0.38042898,  -57.22118845],\n",
       "       [  27.43935607,   59.67422177,  -75.18926077],\n",
       "       [  13.57132623,  167.31435648,  -65.93340122],\n",
       "       [-213.93447367,  -67.19185274,   -0.29070969]])"
      ]
     },
     "execution_count": 71,
     "metadata": {},
     "output_type": "execute_result"
    }
   ],
   "source": [
    "phi(x,y,z,Ret,None)"
   ]
  },
  {
   "cell_type": "code",
   "execution_count": 72,
   "metadata": {},
   "outputs": [],
   "source": [
    "# def d_s(da,db,dc,x,y,z):\n",
    "\n",
    "#     ds=np.sqrt(np.diff(x,prepend=x[0])**2+np.diff(y,prepend=y[0])**2\n",
    "#                  +np.diff(z,prepend=z[0])**2)\n",
    "#     ds[ds == 0] = 1\n",
    "#     return np.vstack([np.diff(da,prepend=da[0])/ds,np.diff(db,prepend=db[0])/ds,np.diff(dc,prepend=dc[0])/ds])"
   ]
  },
  {
   "cell_type": "code",
   "execution_count": 73,
   "metadata": {},
   "outputs": [
    {
     "name": "stdout",
     "output_type": "stream",
     "text": [
      "0:00:00.000259\n"
     ]
    }
   ],
   "source": [
    "startTime1 = datetime.now()\n",
    "phi(x,y,z,Ret,None)\n",
    "print(datetime.now() - startTime1)"
   ]
  },
  {
   "cell_type": "code",
   "execution_count": 74,
   "metadata": {},
   "outputs": [],
   "source": [
    "def Π_(arr):\n",
    "    φ,θ,ψ=arr[0],arr[1],arr[2]\n",
    "    return np.array([[np.cos(θ),0,np.cos(φ)*np.sin(θ)],\n",
    "                  [0,1,-np.sin(φ)],\n",
    "                  [-np.sin(θ),0,np.cos(φ)*np.cos(θ)]])"
   ]
  },
  {
   "cell_type": "code",
   "execution_count": 75,
   "metadata": {},
   "outputs": [],
   "source": [
    "def Π(a,b,c):\n",
    "    xyz=np.stack((a,b,c), axis=1)\n",
    "  \n",
    "    return np.apply_along_axis(Π_, 1, xyz)\n",
    "    "
   ]
  },
  {
   "cell_type": "code",
   "execution_count": 76,
   "metadata": {},
   "outputs": [
    {
     "name": "stdout",
     "output_type": "stream",
     "text": [
      "0:00:00.000354\n"
     ]
    }
   ],
   "source": [
    "startTime1 = datetime.now()\n",
    "Π(φ,θ,ψ).shape\n",
    "print(datetime.now() - startTime1)"
   ]
  },
  {
   "cell_type": "code",
   "execution_count": 77,
   "metadata": {},
   "outputs": [],
   "source": [
    "def ωe(φ,θ,ψ, dummy,dummy1):  # (100) in [2]\n",
    "    A=Π(φ,θ,ψ)\n",
    "    B=np.vstack([φ,θ,ψ])\n",
    "    return np.einsum('ijk,ik->ij',A,B.T.astype(np.float32))"
   ]
  },
  {
   "cell_type": "code",
   "execution_count": 78,
   "metadata": {},
   "outputs": [
    {
     "name": "stdout",
     "output_type": "stream",
     "text": [
      "0:00:00.000457\n"
     ]
    }
   ],
   "source": [
    "startTime1 = datetime.now()\n",
    "ωe(φ,θ,ψ,None,None)\n",
    "print(datetime.now() - startTime1)"
   ]
  },
  {
   "cell_type": "code",
   "execution_count": 79,
   "metadata": {},
   "outputs": [
    {
     "data": {
      "text/plain": [
       "array([[-0.92553276, -0.47140228, -0.54741165],\n",
       "       [ 1.33808884, -0.58450762,  0.04436765],\n",
       "       [ 1.01744773,  1.02370749,  0.786844  ],\n",
       "       [-0.26681483, -1.54138864,  0.39858422]])"
      ]
     },
     "execution_count": 79,
     "metadata": {},
     "output_type": "execute_result"
    }
   ],
   "source": [
    "ωe(φ,θ,ψ,None,None)"
   ]
  },
  {
   "cell_type": "code",
   "execution_count": 80,
   "metadata": {},
   "outputs": [],
   "source": [
    "def d_s(f,a,b,c,Ret,omega):\n",
    "\n",
    "    fun = f(a,b,c,Ret,omega)    \n",
    "    \n",
    "    def S(arr):\n",
    "        a1,a2,a3=arr[0],arr[1],arr[2]\n",
    "        return np.array([[0, -a3, a2 ],\n",
    "                         [a3, 0, -a1],\n",
    "                        [-a2, a1, 0]])\n",
    "    \n",
    "    K=np.apply_along_axis(S, 1, omega)\n",
    "#     print('fun',fun)\n",
    "#     print('K',K)\n",
    "#     print('ans',np.einsum('ijk,ik->ij',K,fun).T)\n",
    "\n",
    "    return np.einsum('ijk,ik->ij',K,fun.astype(np.float32)).T\n",
    "\n"
   ]
  },
  {
   "cell_type": "code",
   "execution_count": 81,
   "metadata": {},
   "outputs": [
    {
     "data": {
      "text/plain": [
       "array([[  26.76594712,   41.30109213, -199.14682019,   27.22971001],\n",
       "       [ -39.65618601,  101.8273328 ,   77.7623082 ,  -85.34847208],\n",
       "       [ -11.1045212 ,   95.88792203,  156.34054986, -311.82839201]])"
      ]
     },
     "execution_count": 81,
     "metadata": {},
     "output_type": "execute_result"
    }
   ],
   "source": [
    "d_s(phi,x,y,z,Ret,ωe(φ,θ,ψ,None,None))"
   ]
  },
  {
   "cell_type": "code",
   "execution_count": 82,
   "metadata": {},
   "outputs": [],
   "source": [
    "# def d_s(f,a,b,c,Ret):\n",
    "# #     ds=np.sqrt(np.diff(a,prepend=a[0])**2+np.diff(b,prepend=b[0])**2\n",
    "# #                  +np.diff(c,prepend=c[0])**2)\n",
    "#     ds=np.sqrt(np.diff(a)**2+np.diff(b)**2+np.diff(c)**2)\n",
    "#     ds[ds == 0] = 1\n",
    "#     fun = f(a,b,c,Ret)\n",
    "#     ans=(np.diff(fun,axis=0) / ds.reshape(node_N-1,1)).T\n",
    "#     return np.insert(ans, -1, 0.8*ans[:,-1], axis=1)"
   ]
  },
  {
   "cell_type": "code",
   "execution_count": 83,
   "metadata": {},
   "outputs": [],
   "source": [
    "# def d_s(f,a,c,Ret):\n",
    "# #     ds=np.sqrt(np.diff(a,prepend=a[0])**2+np.diff(c,prepend=c[0])**2)\n",
    "#     ds=np.sqrt(np.diff(a)**2+np.diff(c)**2)\n",
    "# #     ds[ds == 0] = 1\n",
    "#     fun = f(a,c,Ret)\n",
    "# #     ans=(np.diff(fun,prepend=fun[0].reshape(1,2),axis=0) / ds.reshape(node_N,1)).T\n",
    "#     ans=(np.diff(fun,axis=0) / ds.reshape(node_N-1,1)).T\n",
    "#     np.insert(ans, -1, ans[:,-1], axis=1)\n",
    "#     return np.insert(ans, -1, 1.1*ans[:,-1], axis=1)"
   ]
  },
  {
   "cell_type": "code",
   "execution_count": 84,
   "metadata": {},
   "outputs": [],
   "source": [
    "# d_s(phi,x,y,z,Ret)"
   ]
  },
  {
   "cell_type": "code",
   "execution_count": 85,
   "metadata": {},
   "outputs": [
    {
     "name": "stdout",
     "output_type": "stream",
     "text": [
      "0:00:00.001027\n"
     ]
    }
   ],
   "source": [
    "startTime1 = datetime.now()\n",
    "d_s(phi,x,y,z,Ret,ωe(φ,θ,ψ,None,None))\n",
    "print(datetime.now() - startTime1)"
   ]
  },
  {
   "cell_type": "code",
   "execution_count": 86,
   "metadata": {},
   "outputs": [],
   "source": [
    "def ne(x,y,z,Ret,omega):\n",
    "    A=np.multiply(np.multiply(Ret,CT),Ret)\n",
    "    B=d_s(phi,x,y,z,Ret,omega).T\n",
    "    return np.einsum('ijk,ik->ij', A.astype(np.float32),B-\n",
    "                     np.einsum('ijk,kp->ijp',Ret.astype(np.float32), np.array([1,0,0]).reshape(3,1)).squeeze())"
   ]
  },
  {
   "cell_type": "code",
   "execution_count": 87,
   "metadata": {},
   "outputs": [],
   "source": [
    "def ne_(dx,dy,dz,DT,Ret):\n",
    "    return -fg_e.T-fD(dx,dy,dz,DT,Ret) #-sigma(x,y,z).T"
   ]
  },
  {
   "cell_type": "code",
   "execution_count": 88,
   "metadata": {},
   "outputs": [],
   "source": [
    "# sigma(x,y,z)"
   ]
  },
  {
   "cell_type": "code",
   "execution_count": 89,
   "metadata": {},
   "outputs": [
    {
     "data": {
      "text/plain": [
       "array([[ -7824.64723672,  -2406.93342478,   6589.14034754,\n",
       "         -4221.03991724],\n",
       "       [ -6561.7653008 ,   1109.97974102,   1935.51180543,\n",
       "        -12099.50823701],\n",
       "       [  4636.96406112,  -3364.22270644,  -9049.68517143,\n",
       "        -14077.73112907]])"
      ]
     },
     "execution_count": 89,
     "metadata": {},
     "output_type": "execute_result"
    }
   ],
   "source": [
    "ne_(dx,dy,dz,DT,Ret)"
   ]
  },
  {
   "cell_type": "code",
   "execution_count": 90,
   "metadata": {},
   "outputs": [],
   "source": [
    "# mp*ddp = d_s(ne,ds)+np.dot(Re_b,ne_)"
   ]
  },
  {
   "cell_type": "code",
   "execution_count": 91,
   "metadata": {},
   "outputs": [
    {
     "name": "stdout",
     "output_type": "stream",
     "text": [
      "0:00:00.000604\n"
     ]
    }
   ],
   "source": [
    "startTime1 = datetime.now()\n",
    "ne(x,y,z,Ret,ωe(φ,θ,ψ,None,None))\n",
    "print(datetime.now() - startTime1)"
   ]
  },
  {
   "cell_type": "code",
   "execution_count": 92,
   "metadata": {},
   "outputs": [
    {
     "data": {
      "text/plain": [
       "array([[ 1.73509306e+10, -6.47468115e+09, -1.74989951e+09],\n",
       "       [ 2.36275308e+10,  1.63132343e+09,  5.44655657e+09],\n",
       "       [-5.22402858e+09,  7.95607320e+09,  5.21885525e+10],\n",
       "       [ 5.28871514e+08, -8.51117203e+10, -6.06224166e+09]])"
      ]
     },
     "execution_count": 92,
     "metadata": {},
     "output_type": "execute_result"
    }
   ],
   "source": [
    "ne(x,y,z,Ret,ωe(φ,θ,ψ,None,None))"
   ]
  },
  {
   "cell_type": "code",
   "execution_count": 93,
   "metadata": {},
   "outputs": [
    {
     "name": "stdout",
     "output_type": "stream",
     "text": [
      "0:00:00.001950\n"
     ]
    }
   ],
   "source": [
    "startTime1 = datetime.now()\n",
    "ne_(dx,dy,dz,DT,Ret)\n",
    "print(datetime.now() - startTime1)"
   ]
  },
  {
   "cell_type": "code",
   "execution_count": 94,
   "metadata": {},
   "outputs": [
    {
     "data": {
      "text/plain": [
       "(4, 3, 3)"
      ]
     },
     "execution_count": 94,
     "metadata": {},
     "output_type": "execute_result"
    }
   ],
   "source": [
    "Re_b(Ret).shape"
   ]
  },
  {
   "cell_type": "code",
   "execution_count": 95,
   "metadata": {},
   "outputs": [],
   "source": [
    "def Irho_e(Ret):\n",
    "    ans= np.multiply(np.multiply(Ret,Irho),Ret) # (19) in [3] \n",
    "    return ans\n",
    "#     tmp=[1 for i in range(node_N)]\n",
    "#     tmp[-1]=1e13\n",
    "#     print(ans)\n",
    "#     return ans*np.array(tmp).reshape(node_N,1)\n",
    "#     return np.einsum(\"ijk,ip->ijk\", ans, np.array(tmp).reshape(node_N,1))"
   ]
  },
  {
   "cell_type": "code",
   "execution_count": 96,
   "metadata": {},
   "outputs": [
    {
     "data": {
      "text/plain": [
       "array([[[6.47207108e+11, 1.36780867e+10, 3.07009493e+11],\n",
       "        [3.01805788e+11, 1.55834216e+11, 5.10254683e+11],\n",
       "        [1.88817914e+10, 7.98382385e+11, 1.50630511e+11]],\n",
       "\n",
       "       [[5.64141399e+11, 3.95548254e+11, 8.20503505e+09],\n",
       "        [4.79923828e+10, 1.55401271e+10, 9.04362178e+11],\n",
       "        [3.55760906e+11, 5.56806306e+11, 5.53274749e+10]],\n",
       "\n",
       "       [[2.53692340e+10, 2.98087269e+11, 6.44438185e+11],\n",
       "        [8.66709070e+11, 1.00247848e+11, 9.37769219e+08],\n",
       "        [7.58163832e+10, 5.69559571e+11, 3.22518734e+11]],\n",
       "\n",
       "       [[1.88959828e+10, 2.43198283e+09, 9.46566722e+11],\n",
       "        [4.07619263e+07, 9.65283196e+11, 2.57073011e+09],\n",
       "        [9.48957943e+11, 1.79509209e+08, 1.87572355e+10]]])"
      ]
     },
     "execution_count": 96,
     "metadata": {},
     "output_type": "execute_result"
    }
   ],
   "source": [
    "Irho_e(Ret)"
   ]
  },
  {
   "cell_type": "code",
   "execution_count": 97,
   "metadata": {},
   "outputs": [
    {
     "name": "stdout",
     "output_type": "stream",
     "text": [
      "0:00:00.000111\n"
     ]
    }
   ],
   "source": [
    "startTime1 = datetime.now()\n",
    "Irho_e(Ret)\n",
    "print(datetime.now() - startTime1)"
   ]
  },
  {
   "cell_type": "code",
   "execution_count": 98,
   "metadata": {},
   "outputs": [],
   "source": [
    "# def Π_(arr):\n",
    "#     φ,θ,ψ=arr[0],arr[1],arr[2]\n",
    "#     return np.array([[np.cos(θ),0,np.cos(φ)*np.sin(θ)],\n",
    "#                   [0,1,-np.sin(φ)],\n",
    "#                   [-np.sin(θ),0,np.cos(φ)*np.cos(θ)]])"
   ]
  },
  {
   "cell_type": "code",
   "execution_count": 99,
   "metadata": {},
   "outputs": [],
   "source": [
    "# def Π(a,b,c):\n",
    "#     xyz=np.stack((a,b,c), axis=1)\n",
    "  \n",
    "#     return np.apply_along_axis(Π_, 1, xyz)\n",
    "    "
   ]
  },
  {
   "cell_type": "code",
   "execution_count": 100,
   "metadata": {},
   "outputs": [],
   "source": [
    "# startTime1 = datetime.now()\n",
    "# Π(φ,θ,ψ).shape\n",
    "# print(datetime.now() - startTime1)"
   ]
  },
  {
   "cell_type": "code",
   "execution_count": 101,
   "metadata": {},
   "outputs": [],
   "source": [
    "# def ωe(φ,θ,ψ, dummy):  # (100) in [2]\n",
    "#     A=Π(φ,θ,ψ)\n",
    "#     B=np.vstack([φ,θ,ψ])\n",
    "#     return np.einsum('ijk,ik->ij',A,B.T)"
   ]
  },
  {
   "cell_type": "code",
   "execution_count": 102,
   "metadata": {},
   "outputs": [],
   "source": [
    "# startTime1 = datetime.now()\n",
    "# ωe(φ,θ,ψ,None)\n",
    "# print(datetime.now() - startTime1)"
   ]
  },
  {
   "cell_type": "code",
   "execution_count": 103,
   "metadata": {},
   "outputs": [],
   "source": [
    "# ωe(φ,θ,ψ,None)"
   ]
  },
  {
   "cell_type": "code",
   "execution_count": 104,
   "metadata": {},
   "outputs": [],
   "source": [
    "diag_CR = 1e11*np.array([1, 1, 1]) \n",
    "CR=np.diag(diag_CR)"
   ]
  },
  {
   "cell_type": "code",
   "execution_count": 105,
   "metadata": {},
   "outputs": [
    {
     "data": {
      "text/plain": [
       "array([[1.e+11, 0.e+00, 0.e+00],\n",
       "       [0.e+00, 1.e+11, 0.e+00],\n",
       "       [0.e+00, 0.e+00, 1.e+11]])"
      ]
     },
     "execution_count": 105,
     "metadata": {},
     "output_type": "execute_result"
    }
   ],
   "source": [
    "CR"
   ]
  },
  {
   "cell_type": "code",
   "execution_count": 106,
   "metadata": {},
   "outputs": [],
   "source": [
    "def d_me(φ,θ,ψ,Ret,fun,omega):\n",
    "    A=np.multiply(np.multiply(Ret,CR),Ret)\n",
    "    B=d_s(fun,φ,θ,ψ,None,omega.astype(np.float32))\n",
    " \n",
    "    return np.einsum('ijk,ik->ij', A,B.T.astype(np.float32)) "
   ]
  },
  {
   "cell_type": "code",
   "execution_count": 107,
   "metadata": {},
   "outputs": [
    {
     "name": "stdout",
     "output_type": "stream",
     "text": [
      "0:00:00.001122\n"
     ]
    }
   ],
   "source": [
    "startTime1 = datetime.now()\n",
    "d_me_=d_me(φ,θ,ψ,Ret,ωe, ωe(φ,θ,ψ,None,None))\n",
    "print(datetime.now() - startTime1)"
   ]
  },
  {
   "cell_type": "code",
   "execution_count": 108,
   "metadata": {},
   "outputs": [
    {
     "data": {
      "text/plain": [
       "array([[0., 0., 0.],\n",
       "       [0., 0., 0.],\n",
       "       [0., 0., 0.],\n",
       "       [0., 0., 0.]])"
      ]
     },
     "execution_count": 108,
     "metadata": {},
     "output_type": "execute_result"
    }
   ],
   "source": [
    "d_me_"
   ]
  },
  {
   "cell_type": "code",
   "execution_count": 109,
   "metadata": {},
   "outputs": [],
   "source": [
    "diag_DR = 1.5*np.array([1, 1, 1]) \n",
    " \n",
    "DR=np.diag(diag_DR)"
   ]
  },
  {
   "cell_type": "code",
   "execution_count": 110,
   "metadata": {},
   "outputs": [],
   "source": [
    "# np.dot(Re_b, np.dot( Irho_e, (np.dot(Π(φ,θ,ψ), np.array([ddφ,ddθ,ddψ])))))=\n",
    "# -np.dot(Re_b,np.dot(Irho_e,np.dot(Π(dφ,dθ,dψ),np.array([dφ,dθ,dψ])))-\n",
    "# np.cross(np.dot(Π(φ,θ,ψ),np.array([dφ,dθ,dψ])),np.dot(Irho_e, np.dot(Π(φ,θ,ψ),np.array([dφ,dθ,dψ]))))+\n",
    "# np.dot(Re_b,d_s(me_[0],me_[1],me_[2],dt,ds)+d_s(me_[0],me_[1],me_[2],dt,ds))+\n",
    "# np.cross(d_s(x,y,z,dt,ds),ne(x,y,z,φ,θ,ψ,dt,ds))+\n",
    "# np.dot(Re_b,-np.dot(DR,np.dot(Π(φ,θ,ψ),np.array([dφ,dθ,dψ]))))"
   ]
  },
  {
   "cell_type": "code",
   "execution_count": 111,
   "metadata": {},
   "outputs": [
    {
     "data": {
      "text/plain": [
       "array([[ -7824.64723672,  -2406.93342478,   6589.14034754,\n",
       "         -4221.03991724],\n",
       "       [ -6561.7653008 ,   1109.97974102,   1935.51180543,\n",
       "        -12099.50823701],\n",
       "       [  4636.96406112,  -3364.22270644,  -9049.68517143,\n",
       "        -14077.73112907]])"
      ]
     },
     "execution_count": 111,
     "metadata": {},
     "output_type": "execute_result"
    }
   ],
   "source": [
    "ne_(dx,dy,dz,DT,Ret)"
   ]
  },
  {
   "cell_type": "code",
   "execution_count": 112,
   "metadata": {},
   "outputs": [],
   "source": [
    "C=ne(x,y,z,Ret,ωe(φ,θ,ψ,None,None))\n",
    "  \n",
    "a,b,c=C[:,0],C[:,1],C[:,2]"
   ]
  },
  {
   "cell_type": "code",
   "execution_count": 113,
   "metadata": {},
   "outputs": [
    {
     "data": {
      "text/plain": [
       "(4, 3, 3)"
      ]
     },
     "execution_count": 113,
     "metadata": {},
     "output_type": "execute_result"
    }
   ],
   "source": [
    "Re_b(Ret).shape"
   ]
  },
  {
   "cell_type": "code",
   "execution_count": 114,
   "metadata": {},
   "outputs": [
    {
     "data": {
      "text/plain": [
       "array([[ -7824.64723672,  -6561.7653008 ,   4636.96406112],\n",
       "       [ -2406.93342478,   1109.97974102,  -3364.22270644],\n",
       "       [  6589.14034754,   1935.51180543,  -9049.68517143],\n",
       "       [ -4221.03991724, -12099.50823701, -14077.73112907]])"
      ]
     },
     "execution_count": 114,
     "metadata": {},
     "output_type": "execute_result"
    }
   ],
   "source": [
    "ne_(dx,dy,dz,DT, Ret).T"
   ]
  },
  {
   "cell_type": "code",
   "execution_count": 115,
   "metadata": {},
   "outputs": [
    {
     "data": {
      "text/plain": [
       "(numpy.ndarray,\n",
       " array([ 54.70592959, -67.00859789,  -4.2629965 , -56.38134711]),\n",
       " array([ -9.1621582 , -73.13287831, -21.77820053, 214.98663604]),\n",
       " array([ 1.37428097,  0.84918756,  1.22084289, -0.39705127]),\n",
       " numpy.ndarray,\n",
       " array([-0.36001773,  0.03870119, -0.65731586, -1.45715289]))"
      ]
     },
     "execution_count": 115,
     "metadata": {},
     "output_type": "execute_result"
    }
   ],
   "source": [
    "type(x),y,z,dx,type(dy),dz"
   ]
  },
  {
   "cell_type": "code",
   "execution_count": 116,
   "metadata": {},
   "outputs": [
    {
     "data": {
      "text/plain": [
       "array([[-16054.55054839, -10197.24642597,  11332.87863435],\n",
       "       [ -5263.83253673,   3966.59648456,  -4785.92784114],\n",
       "       [  -802.52983685,   8511.9397824 , -14633.01654915],\n",
       "       [  9717.44733849, -23429.77373417, -20381.81296134]])"
      ]
     },
     "execution_count": 116,
     "metadata": {},
     "output_type": "execute_result"
    }
   ],
   "source": [
    "ne_(dx,dy,dz,DT,Ret).T+np.einsum('ijk,ik->ij', Re_b(Ret),ne_(dx,dy,dz,DT,Ret).T.astype(np.float32))"
   ]
  },
  {
   "cell_type": "code",
   "execution_count": 117,
   "metadata": {},
   "outputs": [
    {
     "data": {
      "text/plain": [
       "array([[ -7824.64723672,  -6561.7653008 ,   4636.96406112],\n",
       "       [ -2406.93342478,   1109.97974102,  -3364.22270644],\n",
       "       [  6589.14034754,   1935.51180543,  -9049.68517143],\n",
       "       [ -4221.03991724, -12099.50823701, -14077.73112907]])"
      ]
     },
     "execution_count": 117,
     "metadata": {},
     "output_type": "execute_result"
    }
   ],
   "source": [
    "ne_(dx,dy,dz,DT,Ret).T"
   ]
  },
  {
   "cell_type": "markdown",
   "metadata": {},
   "source": [
    "### Vessel"
   ]
  },
  {
   "cell_type": "code",
   "execution_count": 118,
   "metadata": {},
   "outputs": [],
   "source": [
    "class VesselSemisub: # Semisub model from Fossen\n",
    "    \n",
    "    def __init__(self):\n",
    "        \n",
    "        MRB = 1.0e10 * np.array(\n",
    "            [\n",
    "                [0.0027, 0, 0, 0, -0.0530, 0],\n",
    "                [0, 0.0027, 0, 0.0530, 0, -0.0014],\n",
    "                [0, 0, 0.0027, 0, 0.0014, 0],\n",
    "                [0, 0.0530, 0, 3.4775, 0, -0.0265],\n",
    "                [-0.0530, 0, 0.0014, 0, 3.8150, 0],\n",
    "                [0, -0.0014, 0, -0.0265, 0, 3.7192],\n",
    "            ],\n",
    "            float,\n",
    "        )\n",
    "\n",
    "        MA = 1.0e10 * np.array(\n",
    "            [\n",
    "                [0.0017, 0, 0, 0, -0.0255, 0],\n",
    "                [0, 0.0042, 0, 0.0365, 0, 0],\n",
    "                [0, 0, 0.0021, 0, 0, 0],\n",
    "                [0, 0.0365, 0, 1.3416, 0, 0],\n",
    "                [-0.0255, 0, 0, 0, 2.2267, 0],\n",
    "                [0, 0, 0, 0, 0, 3.2049],\n",
    "            ],\n",
    "            float,\n",
    "        )\n",
    "\n",
    "        self.D = 1.0e09 * np.array(\n",
    "            [\n",
    "                [0.0004, 0, 0, 0, -0.0085, 0],\n",
    "                [0, 0.0003, 0, 0.0067, 0, -0.0002],\n",
    "                [0, 0, 0.0034, 0, 0.0017, 0],\n",
    "                [0, 0.0067, 0, 4.8841, 0, -0.0034],\n",
    "                [-0.0085, 0, 0.0017, 0, 7.1383, 0],\n",
    "                [0, -0.0002, 0, -0.0034, 0, 0.8656],\n",
    "            ],\n",
    "            float,\n",
    "        )\n",
    "\n",
    "        self.G = 1.0e10 * np.diag([0.0, 0.0, 0.0006, 1.4296, 2.6212, 0.0])\n",
    "        self.M = MRB + MA\n",
    "\n",
    "    def eq_left(self,η, dη):\n",
    "        return (np.matmul(self.D, dη) + np.dot(self.G,η))\n",
    "        \n",
    "    def tau(self,η, dη, ddη):\n",
    "        return (np.matmul(self.M,ddη) + np.matmul(self.D, dη) + np.dot(self.G,η))"
   ]
  },
  {
   "cell_type": "code",
   "execution_count": 119,
   "metadata": {},
   "outputs": [],
   "source": [
    "V=VesselSemisub()"
   ]
  },
  {
   "cell_type": "code",
   "execution_count": 120,
   "metadata": {},
   "outputs": [],
   "source": [
    "η=np.array([0.1,0.3,0.4,0.5,0.6,0.7])\n",
    "dη=np.array([0,0,0,0,0,0])\n",
    "ddη=np.array([0,0,0,0,0,0])"
   ]
  },
  {
   "cell_type": "code",
   "execution_count": 121,
   "metadata": {},
   "outputs": [],
   "source": [
    "tau_force = V.tau(η,dη, ddη)"
   ]
  },
  {
   "cell_type": "code",
   "execution_count": 122,
   "metadata": {},
   "outputs": [
    {
     "data": {
      "text/plain": [
       "array([0.00000e+00, 0.00000e+00, 2.40000e+06, 7.14800e+09, 1.57272e+10,\n",
       "       0.00000e+00])"
      ]
     },
     "execution_count": 122,
     "metadata": {},
     "output_type": "execute_result"
    }
   ],
   "source": [
    "tau_force"
   ]
  },
  {
   "cell_type": "code",
   "execution_count": 123,
   "metadata": {},
   "outputs": [],
   "source": [
    "class VesselOtter: \n",
    "    \n",
    "    def __init__(\n",
    "        self, \n",
    "        controlSystem=\"stepInput\", \n",
    "        r = 0, \n",
    "        V_current = 0, \n",
    "        beta_current = 0,\n",
    "        tau_X = 120\n",
    "    ):\n",
    "        \n",
    "        # Constants\n",
    "        D2R = math.pi / 180     # deg2rad\n",
    "        self.g = 9.81           # acceleration of gravity (m/s^2)\n",
    "        rho = 1026              # density of water (kg/m^3)\n",
    "\n",
    "        if controlSystem == \"headingAutopilot\":\n",
    "            self.controlDescription = (\n",
    "                \"Heading autopilot, psi_d = \"\n",
    "                + str(r)\n",
    "                + \" deg\"\n",
    "                )\n",
    "        else:\n",
    "            self.controlDescription = \"Step inputs for n1 and n2\"\n",
    "            controlSystem = \"stepInput\"\n",
    "\n",
    "        self.ref = r\n",
    "        self.V_c = V_current\n",
    "        self.beta_c = beta_current * D2R\n",
    "        self.controlMode = controlSystem\n",
    "        self.tauX = tau_X  # surge force (N)\n",
    "\n",
    "        # Initialize the Otter USV model\n",
    "        self.T_n = 1.0  # propeller time constants (s)\n",
    "        self.L = 2.0    # Length (m)\n",
    "        self.B = 1.08   # beam (m)\n",
    "        self.nu = np.array([0, 0, 0, 0, 0, 0], float)  # velocity vector\n",
    "        self.u_actual = np.array([0, 0], float)  # propeller revolution states\n",
    "        self.name = \"Otter USV (see 'otter.py' for more details)\"\n",
    "\n",
    "        self.controls = [\n",
    "            \"Left propeller shaft speed (rad/s)\",\n",
    "            \"Right propeller shaft speed (rad/s)\"\n",
    "        ]\n",
    "        self.dimU = len(self.controls)\n",
    "\n",
    "        # Vehicle parameters\n",
    "        m = 55.0                                 # mass (kg)\n",
    "        self.mp = 25.0                           # Payload (kg)\n",
    "        self.m_total = m + self.mp\n",
    "        self.rp = np.array([0.05, 0, -0.35], float) # location of payload (m)\n",
    "        rg = np.array([0.2, 0, -0.2], float)     # CG for hull only (m)\n",
    "        rg = (m * rg + self.mp * self.rp) / (m + self.mp)  # CG corrected for payload\n",
    "        self.S_rg = Smtrx(rg)\n",
    "        self.H_rg = Hmtrx(rg)\n",
    "        self.S_rp = Smtrx(self.rp)\n",
    "\n",
    "        R44 = 0.4 * self.B  # radii of gyration (m)\n",
    "        R55 = 0.25 * self.L\n",
    "        R66 = 0.25 * self.L\n",
    "        T_yaw = 1.0         # time constant in yaw (s)\n",
    "        Umax = 6 * 0.5144   # max forward speed (m/s)\n",
    "\n",
    "        # Data for one pontoon\n",
    "        self.B_pont = 0.25  # beam of one pontoon (m)\n",
    "        y_pont = 0.395      # distance from centerline to waterline centroid (m)\n",
    "        Cw_pont = 0.75      # waterline area coefficient (-)\n",
    "        Cb_pont = 0.4       # block coefficient, computed from m = 55 kg\n",
    "\n",
    "        # Inertia dyadic, volume displacement and draft\n",
    "        nabla = (m + self.mp) / rho  # volume\n",
    "        self.T = nabla / (2 * Cb_pont * self.B_pont * self.L)  # draft\n",
    "        Ig_CG = m * np.diag(np.array([R44 ** 2, R55 ** 2, R66 ** 2]))\n",
    "        self.Ig = Ig_CG - m * self.S_rg @ self.S_rg - self.mp * self.S_rp @ self.S_rp\n",
    "\n",
    "        # Experimental propeller data including lever arms\n",
    "        self.l1 = -y_pont  # lever arm, left propeller (m)\n",
    "        self.l2 = y_pont  # lever arm, right propeller (m)\n",
    "        self.k_pos = 0.02216 / 2  # Positive Bollard, one propeller\n",
    "        self.k_neg = 0.01289 / 2  # Negative Bollard, one propeller\n",
    "        self.n_max = math.sqrt((0.5 * 24.4 * self.g) / self.k_pos)  # max. prop. rev.\n",
    "        self.n_min = -math.sqrt((0.5 * 13.6 * self.g) / self.k_neg) # min. prop. rev.\n",
    "\n",
    "        # MRB_CG = [ (m+mp) * I3  O3      (Fossen 2021, Chapter 3)\n",
    "        #               O3       Ig ]\n",
    "        MRB_CG = np.zeros((6, 6))\n",
    "        MRB_CG[0:3, 0:3] = (m + self.mp) * np.identity(3)\n",
    "        MRB_CG[3:6, 3:6] = self.Ig\n",
    "        MRB = self.H_rg.T @ MRB_CG @ self.H_rg\n",
    "        \n",
    "\n",
    "        # Hydrodynamic added mass (best practice)\n",
    "        Xudot = -0.1 * m\n",
    "        Yvdot = -1.5 * m\n",
    "        Zwdot = -1.0 * m\n",
    "        Kpdot = -0.2 * self.Ig[0, 0]\n",
    "        Mqdot = -0.8 * self.Ig[1, 1]\n",
    "        Nrdot = -1.7 * self.Ig[2, 2]\n",
    "\n",
    "        self.MA = -np.diag([Xudot, Yvdot, Zwdot, Kpdot, Mqdot, Nrdot])\n",
    "\n",
    "        # System mass matrix\n",
    "        self.M = MRB + self.MA\n",
    "        self.Minv = np.linalg.inv(self.M.astype(np.float32))\n",
    "\n",
    "        # Hydrostatic quantities (Fossen 2021, Chapter 4)\n",
    "        Aw_pont = Cw_pont * self.L * self.B_pont  # waterline area, one pontoon\n",
    "        I_T = (\n",
    "            2\n",
    "            * (1 / 12)\n",
    "            * self.L\n",
    "            * self.B_pont ** 3\n",
    "            * (6 * Cw_pont ** 3 / ((1 + Cw_pont) * (1 + 2 * Cw_pont)))\n",
    "            + 2 * Aw_pont * y_pont ** 2\n",
    "        )\n",
    "        I_L = 0.8 * 2 * (1 / 12) * self.B_pont * self.L ** 3\n",
    "        KB = (1 / 3) * (5 * self.T / 2 - 0.5 * nabla / (self.L * self.B_pont))\n",
    "        BM_T = I_T / nabla  # BM values\n",
    "        BM_L = I_L / nabla\n",
    "        KM_T = KB + BM_T    # KM values\n",
    "        KM_L = KB + BM_L\n",
    "        KG = self.T - rg[2]\n",
    "        GM_T = KM_T - KG    # GM values\n",
    "        GM_L = KM_L - KG\n",
    "\n",
    "        G33 = rho * self.g * (2 * Aw_pont)  # spring stiffness\n",
    "        G44 = rho * self.g * nabla * GM_T\n",
    "        G55 = rho * self.g * nabla * GM_L\n",
    "        G_CF = np.diag([0, 0, G33, G44, G55, 0])  # spring stiff. matrix in CF\n",
    "        LCF = -0.2\n",
    "        H = Hmtrx(np.array([LCF, 0.0, 0.0]))  # transform G_CF from CF to CO\n",
    "        self.G = H.T @ G_CF @ H\n",
    "\n",
    "        # Natural frequencies\n",
    "        w3 = math.sqrt(G33 / self.M[2, 2])\n",
    "        w4 = math.sqrt(G44 / self.M[3, 3])\n",
    "        w5 = math.sqrt(G55 / self.M[4, 4])\n",
    "\n",
    "        # Linear damping terms (hydrodynamic derivatives)\n",
    "        Xu = -24.4 *self. g / Umax  # specified using the maximum speed\n",
    "        Yv = 0\n",
    "        Zw = -2 * 0.3 * w3 * self.M[2, 2]  # specified using relative damping\n",
    "        Kp = -2 * 0.2 * w4 * self.M[3, 3]\n",
    "        Mq = -2 * 0.4 * w5 * self.M[4, 4]\n",
    "        Nr = -self.M[5, 5] / T_yaw  # specified by the time constant T_yaw\n",
    "\n",
    "        self.D = -np.diag([Xu, Yv, Zw, Kp, Mq, Nr])\n",
    "\n",
    "        # Propeller configuration/input matrix\n",
    "        B = self.k_pos * np.array([[1, 1], [-self.l1, -self.l2]])\n",
    "        self.Binv = np.linalg.inv(B.astype(np.float32))\n",
    "\n",
    "        # Heading autopilot\n",
    "        self.e_int = 0  # integral state\n",
    "        self.wn = 1.2  # PID pole placement\n",
    "        self.zeta = 0.8\n",
    "\n",
    "        # Reference model\n",
    "        self.r_max = 10 * math.pi / 180  # maximum yaw rate\n",
    "        self.psi_d = 0  # angle, angular rate and angular acc. states\n",
    "        self.r_d = 0\n",
    "        self.a_d = 0\n",
    "        self.wn_d = self.wn / 5  # desired natural frequency in yaw\n",
    "        self.zeta_d = 1  # desired relative damping ratio\n",
    "    \n",
    "    \n",
    "    def eq_left(self,η, dη):\n",
    "        \n",
    "        CRB_CG = np.zeros((6, 6))\n",
    "        CRB_CG[0:3, 0:3] = self.m_total * Smtrx(dη[3:6])\n",
    "        CRB_CG[3:6, 3:6] = -Smtrx(np.matmul(self.Ig, dη[3:6]))\n",
    "        CRB = self.H_rg.T @ CRB_CG @ self.H_rg  # transform CRB from CG to CO\n",
    "\n",
    "        CA = m2c(self.MA, dη)\n",
    "        CA[5, 0] = 0  # assume that the Munk moment in yaw can be neglected\n",
    "        CA[5, 1] = 0  # if nonzero, must be balanced by adding nonlinear damping\n",
    "        CA[0, 5] = 0\n",
    "        CA[1, 5] = 0\n",
    "\n",
    "        C = CRB + CA\n",
    "\n",
    "        return (np.matmul(self.D, dη) + np.matmul(C, dη) + np.dot(self.G,η))\n",
    "        \n",
    "    def tau(self,η, dη, ddη):\n",
    "\n",
    "        \n",
    "        CRB_CG = np.zeros((6, 6))\n",
    "        CRB_CG[0:3, 0:3] = self.m_total * Smtrx(dη[3:6])\n",
    "        CRB_CG[3:6, 3:6] = -Smtrx(np.matmul(self.Ig, dη[3:6]))\n",
    "        CRB = self.H_rg.T @ CRB_CG @ self.H_rg  # transform CRB from CG to CO\n",
    "\n",
    "        CA = m2c(self.MA, dη)\n",
    "        CA[5, 0] = 0  # assume that the Munk moment in yaw can be neglected\n",
    "        CA[5, 1] = 0  # if nonzero, must be balanced by adding nonlinear damping\n",
    "        CA[0, 5] = 0\n",
    "        CA[1, 5] = 0\n",
    "\n",
    "        C = CRB + CA\n",
    "        return (np.matmul(self.M,ddη) + np.matmul(self.D, dη) + np.matmul(C, dη)+ np.dot(self.G,η))\n",
    "    "
   ]
  },
  {
   "cell_type": "code",
   "execution_count": 124,
   "metadata": {},
   "outputs": [],
   "source": [
    "# V=VesselOtter()"
   ]
  },
  {
   "cell_type": "code",
   "execution_count": 125,
   "metadata": {},
   "outputs": [],
   "source": [
    "η=np.array([0.1,0.3,0.4,0.5,0.6,0.7])\n",
    "dη=np.array([0,0,0,0,0,0])\n",
    "ddη=np.array([0,0,0,0,0,0])"
   ]
  },
  {
   "cell_type": "code",
   "execution_count": 126,
   "metadata": {},
   "outputs": [],
   "source": [
    "tau_force = V.tau(η,dη, ddη)"
   ]
  },
  {
   "cell_type": "code",
   "execution_count": 127,
   "metadata": {},
   "outputs": [
    {
     "data": {
      "text/plain": [
       "array([0.00000e+00, 0.00000e+00, 2.40000e+06, 7.14800e+09, 1.57272e+10,\n",
       "       0.00000e+00])"
      ]
     },
     "execution_count": 127,
     "metadata": {},
     "output_type": "execute_result"
    }
   ],
   "source": [
    "tau_force"
   ]
  },
  {
   "cell_type": "code",
   "execution_count": 128,
   "metadata": {},
   "outputs": [
    {
     "data": {
      "text/plain": [
       "array([3.5, 5. ])"
      ]
     },
     "execution_count": 128,
     "metadata": {},
     "output_type": "execute_result"
    }
   ],
   "source": [
    "np.matmul(np.array([[1.1,1.2],[1,2]]),np.array([1,2]))"
   ]
  },
  {
   "cell_type": "code",
   "execution_count": 129,
   "metadata": {},
   "outputs": [],
   "source": [
    "V=VesselSemisub()"
   ]
  },
  {
   "cell_type": "code",
   "execution_count": 130,
   "metadata": {},
   "outputs": [],
   "source": [
    "# wave_force=9e6\n",
    "# wave_force=9e3\n",
    "# wave_force=0\n",
    "kp, kd=1.95e4,1.5e4\n",
    "# kp,kd=1.95e2, 1.5e2\n",
    "# kp,kd=1.95e8, 1.5e8\n",
    "# kp,kd=1.95, 1.5\n",
    "wave_coef=1\n",
    "# kp,kd=1.95e16, 1.5e16"
   ]
  },
  {
   "cell_type": "code",
   "execution_count": 131,
   "metadata": {},
   "outputs": [],
   "source": [
    "def Fx(x,dx,t, kp, kd, x_ref = 0, dx_ref=0):\n",
    "    return -kp*(x-x_ref) - kd*(dx-dx_ref)"
   ]
  },
  {
   "cell_type": "code",
   "execution_count": 132,
   "metadata": {},
   "outputs": [],
   "source": [
    "Hs = 2.5 # significant wave height in m"
   ]
  },
  {
   "cell_type": "code",
   "execution_count": 133,
   "metadata": {},
   "outputs": [],
   "source": [
    "def wave_force(Hs,d0,qw, Cd=1.2):\n",
    "    g=9.81 \n",
    "    return 0.5 * qw * g * Hs**2 * d0 * Cd"
   ]
  },
  {
   "cell_type": "code",
   "execution_count": 134,
   "metadata": {},
   "outputs": [
    {
     "data": {
      "text/plain": [
       "28695.1696875"
      ]
     },
     "execution_count": 134,
     "metadata": {},
     "output_type": "execute_result"
    }
   ],
   "source": [
    "wave_force(Hs,d0,qw, Cd=1.2)"
   ]
  },
  {
   "cell_type": "code",
   "execution_count": 135,
   "metadata": {},
   "outputs": [
    {
     "data": {
      "text/plain": [
       "array([0.1, 0.3, 0.4, 0.5, 0.6, 0.7])"
      ]
     },
     "execution_count": 135,
     "metadata": {},
     "output_type": "execute_result"
    }
   ],
   "source": [
    "η"
   ]
  },
  {
   "cell_type": "code",
   "execution_count": 136,
   "metadata": {},
   "outputs": [],
   "source": [
    "def tau(η, dη, wave_coef, kp, kd,time, Hs=2.5, Tp=10, x_ref = 0, dx_ref=0):\n",
    "    x,y,z,φ,θ,ψ=η\n",
    "    dx,dy,dz,dφ,dθ,dψ=dη\n",
    "    F=(np.array([-Fx(x,dx,time, kp, kd, x_ref, dx_ref),0,0])\n",
    "       +wave_coef*np.array([wave_force(Hs,d0,qw),0,0])*np.sin(2*np.pi/Tp*time+1)\n",
    "      ).T\n",
    "    Ret=Re_t_([φ,θ,ψ])\n",
    "    \n",
    "    ans=np.concatenate([np.dot(Re_b(Ret), F),[0,0,0]], axis=0)\n",
    "    ans[2]=0 #!!!!!!!!!!!!!!!!!!!!!!!!!!!!!!!!!!!!!!!!!!!!!!!!!!!!!!!!!!!!!!!!\n",
    "    return ans"
   ]
  },
  {
   "cell_type": "code",
   "execution_count": 137,
   "metadata": {},
   "outputs": [
    {
     "name": "stdout",
     "output_type": "stream",
     "text": [
      "[5828.76914536 7132.08869406    0.            0.            0.\n",
      "    0.        ]\n"
     ]
    }
   ],
   "source": [
    "# for i in range(100):\n",
    "print(tau(η, dη, wave_coef, kp, kd,3))"
   ]
  },
  {
   "cell_type": "markdown",
   "metadata": {},
   "source": [
    "### Static solution"
   ]
  },
  {
   "cell_type": "code",
   "execution_count": 138,
   "metadata": {},
   "outputs": [],
   "source": [
    "def catenary(x,Ws,Fh):\n",
    "    return (Fh/Ws)*(np.cosh(x*Ws/Fh)-1)"
   ]
  },
  {
   "cell_type": "code",
   "execution_count": 139,
   "metadata": {},
   "outputs": [],
   "source": [
    "pipe_weight_per_unit_length = mi #  (submerged) [kg/m]  # 113.07 - not submerged"
   ]
  },
  {
   "cell_type": "code",
   "execution_count": 140,
   "metadata": {},
   "outputs": [],
   "source": [
    "Fx_0=82945396"
   ]
  },
  {
   "cell_type": "code",
   "execution_count": 141,
   "metadata": {},
   "outputs": [],
   "source": [
    "Ws = np.array(pipe_weight_per_unit_length)*9.81 # [N/m]\n",
    "h=700"
   ]
  },
  {
   "cell_type": "code",
   "execution_count": 142,
   "metadata": {},
   "outputs": [],
   "source": [
    "S=math.sqrt(h*(2*Fx_0/Ws[0] -h))\n",
    "horizontal_length=(Fx_0/Ws[0] -h)*np.log((S+Fx_0/Ws[0])/(Fx_0/Ws[0]-h))"
   ]
  },
  {
   "cell_type": "code",
   "execution_count": 143,
   "metadata": {},
   "outputs": [
    {
     "data": {
      "text/plain": [
       "array([941.76, 941.76, 941.76, 941.76])"
      ]
     },
     "execution_count": 143,
     "metadata": {},
     "output_type": "execute_result"
    }
   ],
   "source": [
    "Ws"
   ]
  },
  {
   "cell_type": "code",
   "execution_count": 144,
   "metadata": {},
   "outputs": [],
   "source": [
    "delta_x=horizontal_length/(node_N-1)"
   ]
  },
  {
   "cell_type": "code",
   "execution_count": 145,
   "metadata": {},
   "outputs": [],
   "source": [
    "x0=[i*delta_x for i in range(node_N)]\n",
    "z0=[]\n",
    "\n",
    "for i in range(len(x0)):\n",
    "    z0.append(catenary(x0[i],Ws[0],Fx_0))\n",
    "\n",
    "length_p=[]\n",
    "for i in range(1,len(z0)):\n",
    "    length_p.append(math.sqrt((x0[i]-x0[i-1])**2+(z0[i]-z0[i-1])**2))"
   ]
  },
  {
   "cell_type": "code",
   "execution_count": 146,
   "metadata": {},
   "outputs": [
    {
     "data": {
      "text/plain": [
       "([0.0, 3684.228281487207, 7368.456562974414, 11052.68484446162],\n",
       " [0.0, 77.06804644731459, 308.40705929683963, 694.4218951076863])"
      ]
     },
     "execution_count": 146,
     "metadata": {},
     "output_type": "execute_result"
    }
   ],
   "source": [
    "x0,z0"
   ]
  },
  {
   "cell_type": "code",
   "execution_count": 147,
   "metadata": {},
   "outputs": [
    {
     "data": {
      "text/plain": [
       "[3685.0342622414496, 3691.484223043134, 3704.395427539594]"
      ]
     },
     "execution_count": 147,
     "metadata": {},
     "output_type": "execute_result"
    }
   ],
   "source": [
    "length_p"
   ]
  },
  {
   "cell_type": "code",
   "execution_count": 148,
   "metadata": {},
   "outputs": [
    {
     "data": {
      "image/png": "[encoded data removed]",
      "text/plain": [
       "<Figure size 432x288 with 1 Axes>"
      ]
     },
     "metadata": {
      "needs_background": "light"
     },
     "output_type": "display_data"
    }
   ],
   "source": [
    "plt.plot(x0, z0)\n",
    "plt.show()"
   ]
  },
  {
   "cell_type": "code",
   "execution_count": 149,
   "metadata": {},
   "outputs": [],
   "source": [
    "rng = np.random.default_rng(seed=29)\n",
    "q0=np.zeros(12*node_N)"
   ]
  },
  {
   "cell_type": "code",
   "execution_count": 150,
   "metadata": {},
   "outputs": [],
   "source": [
    "for j in range(1,12):\n",
    "    if j==1:  \n",
    "        q0[(j-1)*node_N:j*node_N]=x0\n",
    "    elif j==5:    \n",
    "        q0[(j-1)*node_N:j*node_N]=z0\n",
    "#     elif j==9:    \n",
    "#         q0[(j-1)*node_N:j*node_N]=rng.standard_normal(node_N)\n",
    "#     elif j==11:   \n",
    "#         q0[(j-1)*node_N:j*node_N]=rng.standard_normal(node_N)"
   ]
  },
  {
   "cell_type": "code",
   "execution_count": 151,
   "metadata": {},
   "outputs": [
    {
     "data": {
      "text/plain": [
       "(array([[[ 0.81772558, -0.11887722, -0.56319897],\n",
       "         [ 0.55840555,  0.40125214,  0.72607159],\n",
       "         [ 0.13967142, -0.90822075,  0.39449583]],\n",
       " \n",
       "        [[ 0.76344883, -0.639272  ,  0.0920717 ],\n",
       "         [ 0.22267533,  0.12671068, -0.96662304],\n",
       "         [ 0.60626858,  0.75846932,  0.23908723]],\n",
       " \n",
       "        [[ 0.16189731, -0.55495486,  0.81597449],\n",
       "         [ 0.94628644,  0.32182774,  0.03112676],\n",
       "         [-0.27987717,  0.76710625,  0.57724931]],\n",
       " \n",
       "        [[ 0.1397239 , -0.05012636, -0.98892092],\n",
       "         [-0.00648953,  0.99865003, -0.05153641],\n",
       "         [ 0.99016924,  0.0136185 ,  0.13920998]]]),\n",
       " array([941.76, 941.76, 941.76, 941.76]))"
      ]
     },
     "execution_count": 151,
     "metadata": {},
     "output_type": "execute_result"
    }
   ],
   "source": [
    "Re_b(Ret),Ws"
   ]
  },
  {
   "cell_type": "code",
   "execution_count": 152,
   "metadata": {},
   "outputs": [
    {
     "data": {
      "text/plain": [
       "array([[[ 770.10124654, -111.95380613, -530.39825883],\n",
       "        [ 525.88401483,  377.88321097,  683.78518514],\n",
       "        [ 131.53695537, -855.32597398,  371.52039677]],\n",
       "\n",
       "       [[ 718.98556761, -602.04079869,   86.70944522],\n",
       "        [ 209.70671814,  119.33105243, -910.32691375],\n",
       "        [ 570.95949378,  714.29606904,  225.16278515]],\n",
       "\n",
       "       [[ 152.4684076 , -522.63429098,  768.45213265],\n",
       "        [ 891.17471957,  303.08449285,   29.31393862],\n",
       "        [-263.57712627,  722.4299867 ,  543.63030676]],\n",
       "\n",
       "       [[ 131.58637702,  -47.20700405, -931.32616293],\n",
       "        [  -6.11158051,  940.48865305,  -48.53493243],\n",
       "        [ 932.501781  ,   12.82535969,  131.10238817]]])"
      ]
     },
     "execution_count": 152,
     "metadata": {},
     "output_type": "execute_result"
    }
   ],
   "source": [
    "np.einsum('it,ijk->ijk',Ws.reshape(node_N,1),Re_b(Ret))"
   ]
  },
  {
   "cell_type": "code",
   "execution_count": 153,
   "metadata": {},
   "outputs": [
    {
     "data": {
      "text/plain": [
       "array([[[ 770.10124654, -111.95380613, -530.39825883],\n",
       "        [ 525.88401483,  377.88321097,  683.78518514],\n",
       "        [ 131.53695537, -855.32597398,  371.52039677]],\n",
       "\n",
       "       [[ 718.98556761, -602.04079869,   86.70944522],\n",
       "        [ 209.70671814,  119.33105243, -910.32691375],\n",
       "        [ 570.95949378,  714.29606904,  225.16278515]],\n",
       "\n",
       "       [[ 152.4684076 , -522.63429098,  768.45213265],\n",
       "        [ 891.17471957,  303.08449285,   29.31393862],\n",
       "        [-263.57712627,  722.4299867 ,  543.63030676]],\n",
       "\n",
       "       [[ 131.58637702,  -47.20700405, -931.32616293],\n",
       "        [  -6.11158051,  940.48865305,  -48.53493243],\n",
       "        [ 932.501781  ,   12.82535969,  131.10238817]]])"
      ]
     },
     "execution_count": 153,
     "metadata": {},
     "output_type": "execute_result"
    }
   ],
   "source": [
    "np.einsum('i,ijk->ijk',Ws,Re_b(Ret))"
   ]
  },
  {
   "cell_type": "code",
   "execution_count": 154,
   "metadata": {},
   "outputs": [],
   "source": [
    "def static_func(Q):\n",
    "    t=0\n",
    " \n",
    "    x,y,z=Q[0:node_N],Q[2*node_N:3*node_N],Q[4*node_N:5*node_N]\n",
    "    dx,dy,dz=Q[1*node_N:2*node_N],Q[3*node_N:4*node_N],Q[5*node_N:6*node_N]\n",
    "    φ,θ,ψ=Q[6*node_N:7*node_N],Q[8*node_N:9*node_N],Q[10*node_N:11*node_N]\n",
    "    Ret = Re_t(φ,θ,ψ)\n",
    "\n",
    "    \n",
    "    dφ,dθ,dψ=Q[7*node_N:8*node_N],Q[9*node_N:10*node_N],Q[11*node_N:12*node_N]\n",
    "    \n",
    "    η=[x[-1],y[-1],z[-1],φ[-1],θ[-1],ψ[-1]]\n",
    "    \n",
    "    tau_force=np.array([-Fx_0,0,0,0,0,0])\n",
    "\n",
    "    \n",
    "    \n",
    "#     C=ne(x,y,z,Ret)\n",
    "#     a,b,c=C[:,0],C[:,1],C[:,2]\n",
    "\n",
    "#     Z0=tau_force[:3]\n",
    "\n",
    "    Z0=np.dot(Re_b(Ret),tau_force[:3])\n",
    "    Z1 = d_s(ne, x, y, z, Ret, ωe(φ,θ,ψ,None,None)).T\n",
    "#     Z1 = d_s(ne, x, y, z, Ret, phi(x,y,z,Ret,None)).T\n",
    "    DT_0=np.zeros((3,3))\n",
    "    Z2=ne_(dx,dy,dz,DT_0,Ret).T\n",
    "    \n",
    "    \n",
    "    Z =  Z1 + Z2 + Z0\n",
    "    \n",
    "############################################################    \n",
    "#     ddx,ddy, ddz = np.linalg.solve(np.einsum('i,ijk->ijk',Ws,Re_b(Ret)),Z).T \n",
    "#     ddx,ddy, ddz = np.linalg.solve(Ws[0]*Re_b(Ret),Z).T\n",
    "    ddx,ddy, ddz = np.linalg.solve(Ws[0]*Re_b(Ret),Z).T\n",
    "#     tmp=np.linalg.solve(Ret,np.vstack([ddx_phi, ddy_phi, ddz_phi]).T)\n",
    "#     ddx, ddy, ddz = tmp[:,0],tmp[:,1],tmp[:,2]\n",
    "    \n",
    "#     tmp=phi(ddx_phi,ddy_phi, ddz_phi, Ret)\n",
    "#     ddx, ddy, ddz = tmp[:,0],tmp[:,1],tmp[:,2]\n",
    "############################################################    \n",
    "#     ans_x=[]\n",
    "#     ans_y=[]\n",
    "#     ans_z=[]\n",
    "#     RRRR=Re_b(Ret)\n",
    "#     for i in range(len(RRRR)):\n",
    "#         a,b,c=1/Ws*np.linalg.lstsq(RRRR[i],Z[i], rcond=None)[0]\n",
    "#         ans_x.append(a)\n",
    "#         ans_y.append(b)\n",
    "#         ans_z.append(c)\n",
    "    \n",
    "#     ddx,ddy, ddz = np.array(ans_x),np.array(ans_y),np.array(ans_z)    \n",
    "    \n",
    "   \n",
    "    C0=np.einsum('ijk,kp->ijp',np.einsum('ijk,ikr->ijr',np.linalg.inv(Π(φ,θ,ψ).astype(np.float32)),\n",
    "                        Re_b(Ret)),tau_force[3:].reshape(3,1)) \n",
    "#     C3= d_s(me_[:,0],me_[:,1],me_[:, 2],x,y,z).astype(np.float32).T\n",
    "    C3=d_me(φ,θ,ψ,Ret,  ωe,ωe(φ,θ,ψ,None,None))\n",
    "    B_ =C3\n",
    "    B=(B_ + C0.squeeze()\n",
    "      )\n",
    "\n",
    "    A2 = Irho_e(Ret).astype(np.float32)\n",
    "    A3=Π(φ,θ,ψ).astype(np.float32)\n",
    "    A=np.einsum('ijk,ikr->ijr',A2,A3)\n",
    "#     A=np.einsum('ijk,ikr->ijr', Re_b(Ret), np.einsum('ijk,ikr->ijr',A2,A3))\n",
    "\n",
    "\n",
    "#############\n",
    "    ddφ,ddθ,ddψ = np.linalg.solve(A,B).T\n",
    "#############################################\n",
    "\n",
    "\n",
    "\n",
    "\n",
    "#     ans_φ=[]\n",
    "#     ans_θ=[]\n",
    "#     ans_ψ=[]\n",
    "#     for i in range(len(A)):\n",
    "#         a,b,c=np.linalg.lstsq(A[i],B[i], rcond=None)[0]\n",
    "#         ans_φ.append(a)\n",
    "#         ans_θ.append(b)\n",
    "#         ans_ψ.append(c)\n",
    "    \n",
    "#     ddφ,ddθ,ddψ=np.array(ans_φ),np.array(ans_θ),np.array(ans_ψ)\n",
    "    \n",
    "    \n",
    "\n",
    "    ans=np.concatenate([dx, ddx, dy, ddy, dz, ddz, dφ, ddφ, dθ, ddθ, dψ, ddψ], axis=0)\n",
    "  \n",
    " \n",
    "    return ans\n",
    "    "
   ]
  },
  {
   "cell_type": "code",
   "execution_count": 155,
   "metadata": {},
   "outputs": [
    {
     "data": {
      "text/plain": [
       "array([    0.        ,  3684.22828149,  7368.45656297, 11052.68484446,\n",
       "           0.        ,     0.        ,     0.        ,     0.        ,\n",
       "           0.        ,     0.        ,     0.        ,     0.        ,\n",
       "           0.        ,     0.        ,     0.        ,     0.        ,\n",
       "           0.        ,    77.06804645,   308.4070593 ,   694.42189511,\n",
       "           0.        ,     0.        ,     0.        ,     0.        ,\n",
       "           0.        ,     0.        ,     0.        ,     0.        ,\n",
       "           0.        ,     0.        ,     0.        ,     0.        ,\n",
       "           0.        ,     0.        ,     0.        ,     0.        ,\n",
       "           0.        ,     0.        ,     0.        ,     0.        ,\n",
       "           0.        ,     0.        ,     0.        ,     0.        ,\n",
       "           0.        ,     0.        ,     0.        ,     0.        ])"
      ]
     },
     "execution_count": 155,
     "metadata": {},
     "output_type": "execute_result"
    }
   ],
   "source": [
    "q0"
   ]
  },
  {
   "cell_type": "code",
   "execution_count": null,
   "metadata": {},
   "outputs": [],
   "source": []
  },
  {
   "cell_type": "code",
   "execution_count": 156,
   "metadata": {},
   "outputs": [
    {
     "name": "stderr",
     "output_type": "stream",
     "text": [
      "/Library/Frameworks/Python.framework/Versions/3.7/lib/python3.7/site-packages/scipy/optimize/minpack.py:175: RuntimeWarning: The iteration is not making good progress, as measured by the \n",
      "  improvement from the last ten iterations.\n",
      "  warnings.warn(msg, RuntimeWarning)\n"
     ]
    }
   ],
   "source": [
    "root = fsolve(static_func, q0)"
   ]
  },
  {
   "cell_type": "code",
   "execution_count": 157,
   "metadata": {},
   "outputs": [
    {
     "data": {
      "text/plain": [
       "array([    0.        ,  3684.22828149,  7368.45656297, 11052.68484446,\n",
       "           0.        ,     0.        ,     0.        ,     0.        ,\n",
       "           0.        ,     0.        ,     0.        ,     0.        ,\n",
       "           0.        ,     0.        ,     0.        ,     0.        ,\n",
       "           0.        ,    77.06804645,   308.4070593 ,   694.42189511,\n",
       "           0.        ,     0.        ,     0.        ,     0.        ,\n",
       "           0.        ,     0.        ,     0.        ,     0.        ,\n",
       "           0.        ,     0.        ,     0.        ,     0.        ,\n",
       "           0.        ,     0.        ,     0.        ,     0.        ,\n",
       "           0.        ,     0.        ,     0.        ,     0.        ,\n",
       "           0.        ,     0.        ,     0.        ,     0.        ,\n",
       "           0.        ,     0.        ,     0.        ,     0.        ])"
      ]
     },
     "execution_count": 157,
     "metadata": {},
     "output_type": "execute_result"
    }
   ],
   "source": [
    "root"
   ]
  },
  {
   "cell_type": "code",
   "execution_count": 158,
   "metadata": {},
   "outputs": [],
   "source": [
    "x0_,z0_=root[:node_N],root[4*node_N:5*node_N]"
   ]
  },
  {
   "cell_type": "code",
   "execution_count": 159,
   "metadata": {},
   "outputs": [
    {
     "data": {
      "text/plain": [
       "[0.0, 3684.228281487207, 7368.456562974414, 11052.68484446162]"
      ]
     },
     "execution_count": 159,
     "metadata": {},
     "output_type": "execute_result"
    }
   ],
   "source": [
    "x0"
   ]
  },
  {
   "cell_type": "code",
   "execution_count": 160,
   "metadata": {},
   "outputs": [
    {
     "data": {
      "text/plain": [
       "array([    0.        ,  3684.22828149,  7368.45656297, 11052.68484446])"
      ]
     },
     "execution_count": 160,
     "metadata": {},
     "output_type": "execute_result"
    }
   ],
   "source": [
    "x0_"
   ]
  },
  {
   "cell_type": "code",
   "execution_count": 161,
   "metadata": {},
   "outputs": [
    {
     "data": {
      "text/plain": [
       "[0.0, 77.06804644731459, 308.40705929683963, 694.4218951076863]"
      ]
     },
     "execution_count": 161,
     "metadata": {},
     "output_type": "execute_result"
    }
   ],
   "source": [
    "z0"
   ]
  },
  {
   "cell_type": "code",
   "execution_count": 162,
   "metadata": {},
   "outputs": [
    {
     "data": {
      "text/plain": [
       "array([  0.        ,  77.06804645, 308.4070593 , 694.42189511])"
      ]
     },
     "execution_count": 162,
     "metadata": {},
     "output_type": "execute_result"
    }
   ],
   "source": [
    "z0_"
   ]
  },
  {
   "cell_type": "code",
   "execution_count": 163,
   "metadata": {},
   "outputs": [
    {
     "data": {
      "image/png": "[encoded data removed]",
      "text/plain": [
       "<Figure size 432x288 with 1 Axes>"
      ]
     },
     "metadata": {
      "needs_background": "light"
     },
     "output_type": "display_data"
    }
   ],
   "source": [
    "plt.plot(x0_, z0_)\n",
    "plt.show()"
   ]
  },
  {
   "cell_type": "code",
   "execution_count": 164,
   "metadata": {},
   "outputs": [],
   "source": [
    "for j in range(1,12):\n",
    "    if j==1:  \n",
    "        q0[(j-1)*node_N:j*node_N]=x0_\n",
    "    elif j==5:    \n",
    "        q0[(j-1)*node_N:j*node_N]=z0_\n",
    "#     elif j==9:    \n",
    "#         q0[(j-1)*node_N:j*node_N]=rng.standard_normal(node_N)\n",
    "#     elif j==11:   \n",
    "#         q0[(j-1)*node_N:j*node_N]=rng.standard_normal(node_N)\n",
    "    elif j==9:    \n",
    "        q0[(j-1)*node_N:j*node_N]=np.array([0,0,0,0.1])\n",
    "    elif j==11:   \n",
    "        q0[(j-1)*node_N:j*node_N]=np.array([0,0,0,0.1])"
   ]
  },
  {
   "cell_type": "code",
   "execution_count": 165,
   "metadata": {},
   "outputs": [],
   "source": [
    "# q0[10*node_N]=q0[8*node_N]=0"
   ]
  },
  {
   "cell_type": "code",
   "execution_count": 166,
   "metadata": {},
   "outputs": [
    {
     "data": {
      "text/plain": [
       "array([0.00000000e+00, 3.68422828e+03, 7.36845656e+03, 1.10526848e+04,\n",
       "       0.00000000e+00, 0.00000000e+00, 0.00000000e+00, 0.00000000e+00,\n",
       "       0.00000000e+00, 0.00000000e+00, 0.00000000e+00, 0.00000000e+00,\n",
       "       0.00000000e+00, 0.00000000e+00, 0.00000000e+00, 0.00000000e+00,\n",
       "       0.00000000e+00, 7.70680464e+01, 3.08407059e+02, 6.94421895e+02,\n",
       "       0.00000000e+00, 0.00000000e+00, 0.00000000e+00, 0.00000000e+00,\n",
       "       0.00000000e+00, 0.00000000e+00, 0.00000000e+00, 0.00000000e+00,\n",
       "       0.00000000e+00, 0.00000000e+00, 0.00000000e+00, 0.00000000e+00,\n",
       "       0.00000000e+00, 0.00000000e+00, 0.00000000e+00, 1.00000000e-01,\n",
       "       0.00000000e+00, 0.00000000e+00, 0.00000000e+00, 0.00000000e+00,\n",
       "       0.00000000e+00, 0.00000000e+00, 0.00000000e+00, 1.00000000e-01,\n",
       "       0.00000000e+00, 0.00000000e+00, 0.00000000e+00, 0.00000000e+00])"
      ]
     },
     "execution_count": 166,
     "metadata": {},
     "output_type": "execute_result"
    }
   ],
   "source": [
    "q0"
   ]
  },
  {
   "cell_type": "code",
   "execution_count": 202,
   "metadata": {},
   "outputs": [
    {
     "data": {
      "text/plain": [
       "727810.650887574"
      ]
     },
     "execution_count": 202,
     "metadata": {},
     "output_type": "execute_result"
    }
   ],
   "source": [
    "vessel_mass"
   ]
  },
  {
   "cell_type": "markdown",
   "metadata": {},
   "source": [
    "### Dynamics"
   ]
  },
  {
   "cell_type": "code",
   "execution_count": 226,
   "metadata": {},
   "outputs": [],
   "source": [
    "# def grayscott1d(Q,p,t):\n",
    "def grayscott1d(t, Q):\n",
    "    print(t)\n",
    "     \n",
    "    x,y,z=Q[0:node_N],Q[2*node_N:3*node_N],Q[4*node_N:5*node_N]\n",
    "#     x[-1]=x0[-1]+10*np.sin(t)\n",
    "#     x[-1]=x0_[-1]+100*np.sin(t)\n",
    "#     y[-1]+=5*np.cos(t)\n",
    "#     z[-1]=z0[-1]+2.5*np.sin(t)\n",
    "#    z[-1]=z0_[-1]+2.5*np.sin(t)\n",
    "\n",
    "#     x[0]=0\n",
    "#     y[0]=0\n",
    "#     z[0]=0\n",
    "\n",
    "    dx,dy,dz=Q[1*node_N:2*node_N],Q[3*node_N:4*node_N],Q[5*node_N:6*node_N]\n",
    "    \n",
    "#     dx[0]=0\n",
    "#     dy[0]=0\n",
    "#     dz[0]=0\n",
    "\n",
    "    φ,θ,ψ=Q[6*node_N:7*node_N],Q[8*node_N:9*node_N],Q[10*node_N:11*node_N]\n",
    "    \n",
    "    Ret = Re_t(φ,θ,ψ)\n",
    "\n",
    "    dφ,dθ,dψ=Q[7*node_N:8*node_N],Q[9*node_N:10*node_N],Q[11*node_N:12*node_N]\n",
    "    \n",
    "    η=[x[-1],y[-1],z[-1],φ[-1],θ[-1],ψ[-1]]\n",
    "    dη=[dx[-1],dy[-1],dz[-1],dφ[-1],dθ[-1],dψ[-1]]\n",
    "    \n",
    "    left=V.eq_left(η,dη)\n",
    "    hack =1\n",
    "    hack3=1\n",
    "    \n",
    "    # PD controller after 30 sec\n",
    "#     if t<30:\n",
    "#         ddη=np.linalg.lstsq(V.M, -left + tau(η, dη, wave_coef, Fx_0/η[0], 0, t), rcond=None)[0]\n",
    "#     else:\n",
    "    ddη=np.linalg.lstsq(V.M.astype(np.float32)*hack, left.astype(np.float32) \n",
    "                            - hack3*tau(η,dη, wave_coef, kp, kd, t).astype(np.float32)\n",
    "                            , rcond=None)[0]\n",
    "#     print('ddη', ddη)\n",
    " \n",
    "    tau_force = V.tau(η,dη,ddη).astype(np.float32)\n",
    "#     print(  tau_force )\n",
    "#     tau_force = hack*tau(η,dη, wave_coef, kp, kd, t) # simple motion \n",
    "#     print(tau_force)\n",
    "#     tau_force = hack*tau(η,dη, wave_coef, kp, kd, t) # simple motion \n",
    "#     print(tau_force)\n",
    "#     C=ne(x,y,z,Ret)\n",
    "#     a,b,c=C[:,0],C[:,1],C[:,2]\n",
    "#     Z0=tau_force[:3]\n",
    "#     Z0=tau_force[:3]\n",
    "\n",
    "    Z0=np.dot(Re_b(Ret),tau_force[:3])\n",
    "#     print(Ret,Z0)\n",
    "#     print(x,z)\n",
    "   \n",
    "    Z1 =d_s(ne, x, y, z, Ret, ωe(φ,θ,ψ,None,None)).T\n",
    "#     Z1 =d_s(ne, x, y, z, Ret, phi(x,y,z,Ret,None)).T\n",
    "\n",
    "    Z2=ne_(dx,dy,dz,DT,Ret).T\n",
    "    \n",
    "    Z= (Z1 + Z2 \n",
    "        +Z0\n",
    "       )\n",
    "#     print(Z0, Z1, Z2)\n",
    "############################################################    \n",
    "#     ddx,ddy, ddz = 1/Ws*np.linalg.solve(Re_b(Ret),Z).T \n",
    "############################################################    \n",
    "    ans_x=[]\n",
    "    ans_y=[]\n",
    "    ans_z=[]\n",
    "    RRRR=Re_b(Ret)\n",
    "#     hack2=1\n",
    "#     hack4=1\n",
    "    ddx,ddy, ddz = np.linalg.solve((Ws[0]*(node_N-1)+vessel_mass)*RRRR*1e10,Z).T \n",
    "    print((Ws[0]*(node_N-1)+vessel_mass)*RRRR,Z)\n",
    "    \n",
    "#     for i in range(len(RRRR)):\n",
    "      \n",
    "#         a,b,c=np.linalg.lstsq((Ws[i] + vessel_mass)*[i]\n",
    "# #                               +hack2*np.identity(3)\n",
    "#                               , Z[i], rcond=None)[0]\n",
    "#         ans_x.append(a)\n",
    "#         ans_y.append(b)\n",
    "#         ans_z.append(c)\n",
    "# #         print(np.dot(Ws,RRRR[i]))\n",
    "    \n",
    "#     ddx,ddy, ddz = np.array(ans_x),np.array(ans_y),np.array(ans_z)\n",
    "    \n",
    "#     print(ddx,ddy, ddz)\n",
    "    \n",
    "#     tmp=np.linalg.solve(Ret,np.vstack([ddx_phi, ddy_phi, ddz_phi]).T)\n",
    "#     ddx, ddy, ddz = tmp[:,0],tmp[:,1],tmp[:,2]\n",
    "    \n",
    "    \n",
    " \n",
    "    \n",
    " \n",
    "\n",
    "    C1=np.einsum('ijk,ik->ij', Irho_e(Ret).astype(np.float32),\n",
    "                                                        np.einsum('ijk,ik->ij', Π(dφ,dθ,dψ).astype(np.float32), \n",
    "                                                                  np.array([dφ,dθ,dψ]).astype(np.float32).T))\n",
    "    \n",
    "#     print(np.einsum('ijk,ik->ij',Π(φ,θ,ψ).astype(np.float32),np.array([dφ,dθ,dψ]).astype(np.float32).T))\n",
    "#     print(np.einsum('ijk,ik->ij',Irho_e(Ret).astype(np.float32),\n",
    "#                            np.einsum('ijk,ik->ij',Π(φ,θ,ψ).astype(np.float32),np.array([dφ,dθ,dψ]).astype(np.float32).T)))\n",
    "    C2= np.cross(np.einsum('ijk,ik->ij',Π(φ,θ,ψ).astype(np.float32),np.array([dφ,dθ,dψ]).astype(np.float32).T),\n",
    "                 np.einsum('ijk,ik->ij',Irho_e(Ret).astype(np.float32),\n",
    "                           np.einsum('ijk,ik->ij',Π(φ,θ,ψ).astype(np.float32),np.array([dφ,dθ,dψ]).astype(np.float32).T)))\n",
    "\n",
    "#     C3= d_s(me_[:,0],me_[:,1],me_[:, 2],x,y,z).astype(np.float32).T\n",
    "    C3=d_me(φ,θ,ψ,Ret, ωe, ωe(φ,θ,ψ,None,None))\n",
    "#     print(d_s(phi,x,y,z,Ret).T)\n",
    "#     print(d_s(phi,x,y,z,Ret, phi(x,y,z,Ret,None)))\n",
    "    C4= np.cross(d_s(phi,x,y,z,Ret, ωe(φ,θ,ψ,None,None)).T, ne(x,y,z,Ret, ωe(φ,θ,ψ,None,None)))\n",
    "\n",
    "    K1=np.einsum('ijk,ik->ij',Π(φ,θ,ψ).astype(np.float32),np.array([dφ,dθ,dψ]).astype(np.float32).T).T\n",
    "\n",
    "    C5= np.einsum('ijk,ik->ij',Ret, -np.dot(DR,K1).astype(np.float32).T)\n",
    "#     print(np.linalg.inv(Π(φ,θ,ψ).astype(np.float32)).shape)\n",
    "\n",
    "#     C0=np.einsum('ijk,kp->ijp',\n",
    "#                  np.linalg.inv(Π(φ,θ,ψ)), tau_force[3:].reshape(3,1)\n",
    "#                 ) \n",
    "    C0=np.einsum('ijk,kp->ijp',np.einsum('ijk,ikr->ijr',np.linalg.inv(Π(φ,θ,ψ).astype(np.float32)),\n",
    "                        Re_b(Ret)),tau_force[3:].reshape(3,1)) \n",
    "#     print(C1.shape,C2.shape,C3.shape,C4.shape,C5.shape)\n",
    "    B_ =(\n",
    "        -C1\n",
    "        -C2\n",
    "        +C3\n",
    "        +C4\n",
    "        +C5\n",
    "    )\n",
    "    B= B_ +C0.squeeze()\n",
    "       \n",
    "\n",
    "    A2 = Irho_e(Ret).astype(np.float32)\n",
    "    A3=Π(φ,θ,ψ).astype(np.float32)\n",
    "\n",
    "    A=np.einsum('ijk,ikr->ijr',A2,A3)\n",
    "#     A=np.einsum('ijk,ikr->ijr', Re_b(Ret), np.einsum('ijk,ikr->ijr',A2,A3))\n",
    "\n",
    "############################################\n",
    "#     ddφ,ddθ,ddψ = np.linalg.solve(A,B).T\n",
    "#############################################\n",
    "\n",
    "    ans_φ=[]\n",
    "    ans_θ=[]\n",
    "    ans_ψ=[]\n",
    "    hack5=1\n",
    "    for i in range(len(A)):\n",
    "#         if i==len(A)-1:\n",
    "#             hack5=vessel_inertia_coef\n",
    "        a,b,c=np.linalg.lstsq(A[i]\n",
    "#                               +hack2*np.identity(3)\n",
    "                              ,B[i], rcond=None)[0]\n",
    "        ans_φ.append(a)\n",
    "        ans_θ.append(b)\n",
    "        ans_ψ.append(c)\n",
    "    \n",
    "    ddφ,ddθ,ddψ=np.array(ans_φ),np.array(ans_θ),np.array(ans_ψ)\n",
    "    ddφ*=np.exp(-t)\n",
    "    ddθ*=np.exp(-t)\n",
    "    ddψ*=np.exp(-t)\n",
    "#     ddx[-1],ddy[-1],ddz[-1],ddφ[-1],ddθ[-1],ddψ[-1]=ddη\n",
    "#     print(ddφ,ddθ,ddψ)\n",
    "\n",
    "    ddx[0],ddy[0],ddz[0],ddφ[0],ddθ[0],ddψ[0]=0,0,0,0,0,0\n",
    "    A1111=np.concatenate([dx, ddx, dy, ddy, dz, ddz, dφ, ddφ, dθ, ddθ, dψ, ddψ], axis=0)\n",
    "#     A1111=np.concatenate([dx, ddx, \n",
    "#                           np.zeros(node_N), np.zeros(node_N),\n",
    "#                           dz, ddz,\n",
    "#                           np.zeros(node_N),  np.zeros(node_N),\n",
    "#                           np.zeros(node_N), np.zeros(node_N),\n",
    "#                           np.zeros(node_N),  np.zeros(node_N),\n",
    "#                           ], axis=0)\n",
    "\n",
    "        \n",
    "\n",
    "#     print(A1111)\n",
    "    return A1111"
   ]
  },
  {
   "cell_type": "code",
   "execution_count": 227,
   "metadata": {},
   "outputs": [],
   "source": [
    "# ode15s = scipy.integrate.ode(grayscott1d)\n",
    "# # ode15s.set_integrator('vode', method='bdf', order=15, nsteps=3000)\n",
    "# ode15s.set_integrator('vode',  order=15, nsteps=3000)\n",
    "# ode15s.set_initial_value(q0, 0)"
   ]
  },
  {
   "cell_type": "code",
   "execution_count": 228,
   "metadata": {},
   "outputs": [],
   "source": [
    "# us=ode15s.integrate(10)"
   ]
  },
  {
   "cell_type": "code",
   "execution_count": 253,
   "metadata": {},
   "outputs": [],
   "source": [
    "tspan = (0., 20)\n",
    "# tspan = (0., 10)"
   ]
  },
  {
   "cell_type": "code",
   "execution_count": 254,
   "metadata": {},
   "outputs": [
    {
     "name": "stdout",
     "output_type": "stream",
     "text": [
      "0.0\n",
      "[[[730635.93088757      0.              0.        ]\n",
      "  [     0.         730635.93088757      0.        ]\n",
      "  [     0.              0.         730635.93088757]]\n",
      "\n",
      " [[730635.93088757      0.              0.        ]\n",
      "  [     0.         730635.93088757      0.        ]\n",
      "  [     0.              0.         730635.93088757]]\n",
      "\n",
      " [[730635.93088757      0.              0.        ]\n",
      "  [     0.         730635.93088757      0.        ]\n",
      "  [     0.              0.         730635.93088757]]\n",
      "\n",
      " [[723353.8936602  -72577.47572213  72941.88130544]\n",
      "  [ 72941.88130544 726985.79453492      0.        ]\n",
      "  [-72577.47572213   7282.03722737 726985.79453492]]] [[-2.13403168e+08 -2.15192420e+07  8.33306253e+09]\n",
      " [-2.13403168e+08 -2.15192420e+07  8.33306253e+09]\n",
      " [-2.13403168e+08 -2.15192420e+07  8.33306253e+09]\n",
      " [-2.15622601e+11 -4.04179153e+09  3.40284792e+10]]\n",
      "3.500619779790441e-05\n",
      "[[[730635.93088757      0.              0.        ]\n",
      "  [     0.         730635.93088757      0.        ]\n",
      "  [     0.              0.         730635.93088757]]\n",
      "\n",
      " [[730635.93088757      0.              0.        ]\n",
      "  [     0.         730635.93088757      0.        ]\n",
      "  [     0.              0.         730635.93088757]]\n",
      "\n",
      " [[730635.93088757      0.              0.        ]\n",
      "  [     0.         730635.93088757      0.        ]\n",
      "  [     0.              0.         730635.93088757]]\n",
      "\n",
      " [[723353.8936602  -72577.47572213  72941.88130544]\n",
      "  [ 72941.88130544 726985.79453492      0.        ]\n",
      "  [-72577.47572213   7282.03722737 726985.79453492]]] [[-2.13402848e+08 -2.15192020e+07  8.33306253e+09]\n",
      " [-2.13402848e+08 -2.15192020e+07  8.33306253e+09]\n",
      " [-2.13402848e+08 -2.15192020e+07  8.33306253e+09]\n",
      " [-2.15622601e+11 -4.04179146e+09  3.40284791e+10]]\n",
      "0.0007001239559580883\n",
      "[[[730635.93088757      0.              0.        ]\n",
      "  [     0.         730635.93088757      0.        ]\n",
      "  [     0.              0.         730635.93088757]]\n",
      "\n",
      " [[730635.93088757      0.              0.        ]\n",
      "  [     0.         730635.93088757      0.        ]\n",
      "  [     0.              0.         730635.93088757]]\n",
      "\n",
      " [[730635.93088757      0.              0.        ]\n",
      "  [     0.         730635.93088757      0.        ]\n",
      "  [     0.              0.         730635.93088757]]\n",
      "\n",
      " [[723353.8936602  -72577.47572213  72941.88130544]\n",
      "  [ 72941.88130544 726985.79453492      0.        ]\n",
      "  [-72577.47572213   7282.03722737 726985.79453492]]] [[-2.13396448e+08 -2.15184400e+07  8.33306150e+09]\n",
      " [-2.13396448e+08 -2.15184400e+07  8.33306150e+09]\n",
      " [-2.13396448e+08 -2.15184400e+07  8.33306150e+09]\n",
      " [-2.15622594e+11 -4.04179006e+09  3.40284775e+10]]\n",
      "0.0010501859339371322\n",
      "[[[ 7.30635931e+05  0.00000000e+00  0.00000000e+00]\n",
      "  [ 0.00000000e+00  7.30635931e+05  0.00000000e+00]\n",
      "  [ 0.00000000e+00  0.00000000e+00  7.30635931e+05]]\n",
      "\n",
      " [[ 7.30635931e+05 -1.22462028e-13  2.18225475e-03]\n",
      "  [ 1.22462013e-13  7.30635931e+05  4.96659500e-12]\n",
      "  [-2.18225475e-03 -4.96659500e-12  7.30635931e+05]]\n",
      "\n",
      " [[ 7.30635931e+05 -1.22462028e-13  2.18225475e-03]\n",
      "  [ 1.22462013e-13  7.30635931e+05  4.96659500e-12]\n",
      "  [-2.18225475e-03 -4.96659500e-12  7.30635931e+05]]\n",
      "\n",
      " [[ 7.23353939e+05 -7.25772502e+04  7.29416550e+04]\n",
      "  [ 7.29416551e+04  7.26985817e+05 -2.75635630e-02]\n",
      "  [-7.25772500e+04  7.28201934e+03  7.26985817e+05]]] [[-2.13393104e+08 -2.15179740e+07  8.33306048e+09]\n",
      " [-2.13393079e+08 -2.15179740e+07  8.33306048e+09]\n",
      " [-2.13393079e+08 -2.15179740e+07  8.33306048e+09]\n",
      " [-2.15621246e+11 -4.04169213e+09  3.40282579e+10]]\n",
      "0.002800495823832353\n",
      "[[[ 7.30635931e+05  0.00000000e+00  0.00000000e+00]\n",
      "  [ 0.00000000e+00  7.30635931e+05  0.00000000e+00]\n",
      "  [ 0.00000000e+00  0.00000000e+00  7.30635931e+05]]\n",
      "\n",
      " [[ 7.30635931e+05  5.12071949e-06  1.54222319e-02]\n",
      "  [-5.12071942e-06  7.30635931e+05 -3.49752675e-06]\n",
      "  [-1.54222319e-02  3.49752664e-06  7.30635931e+05]]\n",
      "\n",
      " [[ 7.30635931e+05  5.12071949e-06  1.54222319e-02]\n",
      "  [-5.12071942e-06  7.30635931e+05 -3.49752675e-06]\n",
      "  [-1.54222319e-02  3.49752664e-06  7.30635931e+05]]\n",
      "\n",
      " [[ 7.23354216e+05 -7.25758777e+04  7.29402774e+04]\n",
      "  [ 7.29402785e+04  7.26985955e+05 -1.95046871e-01]\n",
      "  [-7.25758765e+04  7.28191020e+03  7.26985955e+05]]] [[-2.13376480e+08 -2.15155660e+07  8.33305690e+09]\n",
      " [-2.13376304e+08 -2.15155660e+07  8.33305692e+09]\n",
      " [-2.13376304e+08 -2.15155660e+07  8.33305692e+09]\n",
      " [-2.15613078e+11 -4.04108763e+09  3.40269191e+10]]\n",
      "0.003111662026480392\n",
      "[[[ 7.30635931e+05  0.00000000e+00  0.00000000e+00]\n",
      "  [ 0.00000000e+00  7.30635931e+05  0.00000000e+00]\n",
      "  [ 0.00000000e+00  0.00000000e+00  7.30635931e+05]]\n",
      "\n",
      " [[ 7.30635931e+05  1.11876559e-05  1.89487224e-02]\n",
      "  [-1.11876557e-05  7.30635931e+05 -7.63404004e-06]\n",
      "  [-1.89487224e-02  7.63403974e-06  7.30635931e+05]]\n",
      "\n",
      " [[ 7.30635931e+05  1.11876559e-05  1.89486173e-02]\n",
      "  [-1.11876557e-05  7.30635931e+05 -7.63404004e-06]\n",
      "  [-1.89486173e-02  7.63403974e-06  7.30635931e+05]]\n",
      "\n",
      " [[ 7.23354290e+05 -7.25755078e+04  7.29399062e+04]\n",
      "  [ 7.29399076e+04  7.26985993e+05 -2.39919290e-01]\n",
      "  [-7.25755064e+04  7.28188054e+03  7.26985993e+05]]] [[-2.13373568e+08 -2.15151020e+07  8.33305690e+09]\n",
      " [-2.13373352e+08 -2.15151021e+07  8.33305693e+09]\n",
      " [-2.13373352e+08 -2.15151021e+07  8.33305693e+09]\n",
      " [-2.15610888e+11 -4.04092553e+09  3.40265598e+10]]\n",
      "0.003500619779790441\n",
      "[[[ 7.30635931e+05  0.00000000e+00  0.00000000e+00]\n",
      "  [ 0.00000000e+00  7.30635931e+05  0.00000000e+00]\n",
      "  [ 0.00000000e+00  0.00000000e+00  7.30635931e+05]]\n",
      "\n",
      " [[ 7.30635931e+05  1.22379836e-05  2.40179681e-02]\n",
      "  [-1.22379834e-05  7.30635931e+05 -8.35067326e-06]\n",
      "  [-2.40179681e-02  8.35067286e-06  7.30635931e+05]]\n",
      "\n",
      " [[ 7.30635931e+05  1.22380034e-05  2.40178525e-02]\n",
      "  [-1.22380031e-05  7.30635931e+05 -8.35067326e-06]\n",
      "  [-2.40178525e-02  8.35067286e-06  7.30635931e+05]]\n",
      "\n",
      " [[ 7.23354396e+05 -7.25749831e+04  7.29393795e+04]\n",
      "  [ 7.29393813e+04  7.26986045e+05 -3.04001839e-01]\n",
      "  [-7.25749813e+04  7.28183886e+03  7.26986046e+05]]] [[-2.13369888e+08 -2.15145040e+07  8.33305587e+09]\n",
      " [-2.13369614e+08 -2.15145041e+07  8.33305591e+09]\n",
      " [-2.13369614e+08 -2.15145041e+07  8.33305591e+09]\n",
      " [-2.15607772e+11 -4.04069718e+09  3.40260512e+10]]\n",
      "0.003500619779790441\n",
      "[[[ 7.30635931e+05  0.00000000e+00  0.00000000e+00]\n",
      "  [ 0.00000000e+00  7.30635931e+05  0.00000000e+00]\n",
      "  [ 0.00000000e+00  0.00000000e+00  7.30635931e+05]]\n",
      "\n",
      " [[ 7.30635931e+05  5.31436201e-06  2.41474560e-02]\n",
      "  [-5.31436189e-06  7.30635931e+05 -3.63627857e-06]\n",
      "  [-2.41474560e-02  3.63627839e-06  7.30635931e+05]]\n",
      "\n",
      " [[ 7.30635931e+05  5.31437491e-06  2.41475498e-02]\n",
      "  [-5.31437479e-06  7.30635931e+05 -3.63627857e-06]\n",
      "  [-2.41475498e-02  3.63627839e-06  7.30635931e+05]]\n",
      "\n",
      " [[ 7.23354397e+05 -7.25749761e+04  7.29393725e+04]\n",
      "  [ 7.29393743e+04  7.26986046e+05 -3.05233707e-01]\n",
      "  [-7.25749742e+04  7.28183868e+03  7.26986046e+05]]] [[-2.13369856e+08 -2.15145000e+07  8.33305587e+09]\n",
      " [-2.13369581e+08 -2.15145000e+07  8.33305591e+09]\n",
      " [-2.13369581e+08 -2.15145000e+07  8.33305591e+09]\n",
      " [-2.15607722e+11 -4.04069157e+09  3.40260424e+10]]\n",
      "0.007548846631058162\n",
      "[[[ 7.30635931e+05  0.00000000e+00  0.00000000e+00]\n",
      "  [ 0.00000000e+00  7.30635931e+05  0.00000000e+00]\n",
      "  [ 0.00000000e+00  0.00000000e+00  7.30635931e+05]]\n",
      "\n",
      " [[ 7.30635931e+05  2.37241018e-05  7.98820892e-02]\n",
      "  [-2.37241000e-05  7.30635931e+05 -1.62404334e-05]\n",
      "  [-7.98820892e-02  1.62404308e-05  7.30635931e+05]]\n",
      "\n",
      " [[ 7.30635931e+05  2.37241892e-05  7.98826161e-02]\n",
      "  [-2.37241875e-05  7.30635931e+05 -1.62404334e-05]\n",
      "  [-7.98826161e-02  1.62404308e-05  7.30635931e+05]]\n",
      "\n",
      " [[ 7.23355561e+05 -7.25692018e+04  7.29335771e+04]\n",
      "  [ 7.29335831e+04  7.26986627e+05 -1.00997523e+00]\n",
      "  [-7.25691958e+04  7.28137976e+03  7.26986628e+05]]] [[-2.13331680e+08 -2.15081860e+07  8.33304819e+09]\n",
      " [-2.13330769e+08 -2.15081861e+07  8.33304832e+09]\n",
      " [-2.13330769e+08 -2.15081861e+07  8.33304832e+09]\n",
      " [-2.15573410e+11 -4.03816046e+09  3.40204270e+10]]\n",
      "0.009572960056692023\n",
      "[[[ 7.30635931e+05  0.00000000e+00  0.00000000e+00]\n",
      "  [ 0.00000000e+00  7.30635931e+05  0.00000000e+00]\n",
      "  [ 0.00000000e+00  0.00000000e+00  7.30635931e+05]]\n",
      "\n",
      " [[ 7.30635931e+05  8.06876570e-05  1.79810863e-01]\n",
      "  [-8.06876434e-05  7.30635931e+05 -5.52803178e-05]\n",
      "  [-1.79810863e-01  5.52802979e-05  7.30635931e+05]]\n",
      "\n",
      " [[ 7.30635931e+05  8.06881690e-05  1.79813293e-01]\n",
      "  [-8.06881554e-05  7.30635931e+05 -5.52803178e-05]\n",
      "  [-1.79813293e-01  5.52802979e-05  7.30635931e+05]]\n",
      "\n",
      " [[ 7.23357651e+05 -7.25588310e+04  7.29231683e+04]\n",
      "  [ 7.29231816e+04  7.26987671e+05 -2.27436316e+00]\n",
      "  [-7.25588176e+04  7.28055437e+03  7.26987672e+05]]] [[-2.13313424e+08 -2.15028800e+07  8.33304461e+09]\n",
      " [-2.13311373e+08 -2.15028805e+07  8.33304491e+09]\n",
      " [-2.13311374e+08 -2.15028805e+07  8.33304491e+09]\n",
      " [-2.15511842e+11 -4.03362689e+09  3.40103552e+10]]\n",
      "0.019693527184861323\n",
      "[[[ 7.30635931e+05  0.00000000e+00  0.00000000e+00]\n",
      "  [ 0.00000000e+00  7.30635931e+05  0.00000000e+00]\n",
      "  [ 0.00000000e+00  0.00000000e+00  7.30635931e+05]]\n",
      "\n",
      " [[ 7.30635931e+05  1.38763541e-03  7.41213457e-01]\n",
      "  [-1.38763444e-03  7.30635931e+05 -9.53532936e-04]\n",
      "  [-7.41213457e-01  9.53531529e-04  7.30635931e+05]]\n",
      "\n",
      " [[ 7.30635931e+05  1.38766220e-03  7.41296050e-01]\n",
      "  [-1.38766123e-03  7.30635931e+05 -9.53532936e-04]\n",
      "  [-7.41296050e-01  9.53531529e-04  7.30635931e+05]]\n",
      "\n",
      " [[ 7.23369525e+05 -7.24998722e+04  7.28639982e+04]\n",
      "  [ 7.28640431e+04  7.26993600e+05 -9.40356940e+00]\n",
      "  [-7.24998271e+04  7.27580939e+03  7.26993605e+05]]] [[-2.13224016e+08 -2.14744220e+07  8.33302566e+09]\n",
      " [-2.13215566e+08 -2.14744306e+07  8.33302689e+09]\n",
      " [-2.13215569e+08 -2.14744306e+07  8.33302689e+09]\n",
      " [-2.15161992e+11 -4.00797136e+09  3.39530710e+10]]\n",
      "0.021492739118758087\n",
      "[[[ 7.30635931e+05  0.00000000e+00  0.00000000e+00]\n",
      "  [ 0.00000000e+00  7.30635931e+05  0.00000000e+00]\n",
      "  [ 0.00000000e+00  0.00000000e+00  7.30635931e+05]]\n",
      "\n",
      " [[ 7.30635931e+05  2.64229574e-03  8.64343507e-01]\n",
      "  [-2.64229360e-03  7.30635931e+05 -1.80852202e-03]\n",
      "  [-8.64343507e-01  1.80851889e-03  7.30635931e+05]]\n",
      "\n",
      " [[ 7.30635931e+05  2.64227189e-03  8.64395902e-01]\n",
      "  [-2.64226975e-03  7.30635931e+05 -1.80852202e-03]\n",
      "  [-8.64395902e-01  1.80851889e-03  7.30635931e+05]]\n",
      "\n",
      " [[ 7.23372315e+05 -7.24860100e+04  7.28500878e+04]\n",
      "  [ 7.28501335e+04  7.26994994e+05 -1.10269030e+01]\n",
      "  [-7.24859641e+04  7.27464248e+03  7.26994999e+05]]] [[-2.13209568e+08 -2.14685200e+07  8.33302259e+09]\n",
      " [-2.13199715e+08 -2.14685362e+07  8.33302403e+09]\n",
      " [-2.13199720e+08 -2.14685362e+07  8.33302403e+09]\n",
      " [-2.15079839e+11 -4.00202508e+09  3.39395449e+10]]\n",
      "0.023741754036129045\n",
      "[[[ 7.30635931e+05  0.00000000e+00  0.00000000e+00]\n",
      "  [ 0.00000000e+00  7.30635931e+05  0.00000000e+00]\n",
      "  [ 0.00000000e+00  0.00000000e+00  7.30635931e+05]]\n",
      "\n",
      " [[ 7.30635931e+05  2.96028419e-03  1.05963194e+00]\n",
      "  [-2.96028126e-03  7.30635931e+05 -2.02573991e-03]\n",
      "  [-1.05963194e+00  2.02573562e-03  7.30635931e+05]]\n",
      "\n",
      " [[ 7.30635931e+05  2.96038073e-03  1.05968822e+00]\n",
      "  [-2.96037779e-03  7.30635931e+05 -2.02573992e-03]\n",
      "  [-1.05968822e+00  2.02573562e-03  7.30635931e+05]]\n",
      "\n",
      " [[ 7.23376430e+05 -7.24655664e+04  7.28295707e+04]\n",
      "  [ 7.28296282e+04  7.26997049e+05 -1.35048193e+01]\n",
      "  [-7.24655085e+04  7.27300615e+03  7.26997054e+05]]] [[-2.13190496e+08 -2.14600960e+07  8.33301850e+09]\n",
      " [-2.13178419e+08 -2.14601142e+07  8.33302026e+09]\n",
      " [-2.13178426e+08 -2.14601142e+07  8.33302025e+09]\n",
      " [-2.14958606e+11 -3.99314262e+09  3.39197275e+10]]\n",
      "0.023741754036129045\n",
      "[[[ 7.30635931e+05  0.00000000e+00  0.00000000e+00]\n",
      "  [ 0.00000000e+00  7.30635931e+05  0.00000000e+00]\n",
      "  [ 0.00000000e+00  0.00000000e+00  7.30635931e+05]]\n",
      "\n",
      " [[ 7.30635931e+05  1.61352624e-03  1.08468048e+00]\n",
      "  [-1.61352458e-03  7.30635931e+05 -1.11511100e-03]\n",
      "  [-1.08468048e+00  1.11510860e-03  7.30635931e+05]]\n",
      "\n",
      " [[ 7.30635931e+05  1.61370508e-03  1.08487295e+00]\n",
      "  [-1.61370342e-03  7.30635931e+05 -1.11511100e-03]\n",
      "  [-1.08487295e+00  1.11510860e-03  7.30635931e+05]]\n",
      "\n",
      " [[ 7.23376660e+05 -7.24644223e+04  7.28284219e+04]\n",
      "  [ 7.28284880e+04  7.26997163e+05 -1.37163538e+01]\n",
      "  [-7.24643559e+04  7.27298743e+03  7.26997169e+05]]] [[-2.13189152e+08 -2.14595920e+07  8.33301850e+09]\n",
      " [-2.13176789e+08 -2.14596020e+07  8.33302030e+09]\n",
      " [-2.13176795e+08 -2.14596020e+07  8.33302030e+09]\n",
      " [-2.14951791e+11 -3.99253609e+09  3.39187232e+10]]\n",
      "0.03504440010270122\n",
      "[[[ 7.30635931e+05  0.00000000e+00  0.00000000e+00]\n",
      "  [ 0.00000000e+00  7.30635931e+05  0.00000000e+00]\n",
      "  [ 0.00000000e+00  0.00000000e+00  7.30635931e+05]]\n",
      "\n",
      " [[ 7.30635931e+05  3.89226788e-03  2.10314261e+00]\n",
      "  [-3.89226012e-03  7.30635931e+05 -2.69566016e-03]\n",
      "  [-2.10314261e+00  2.69564896e-03  7.30635931e+05]]\n",
      "\n",
      " [[ 7.30635931e+05  3.89286933e-03  2.10369836e+00]\n",
      "  [-3.89286157e-03  7.30635931e+05 -2.69566016e-03]\n",
      "  [-2.10369836e+00  2.69564895e-03  7.30635931e+05]]\n",
      "\n",
      " [[ 7.23398055e+05 -7.23580060e+04  7.27216333e+04]\n",
      "  [ 7.27217471e+04  7.27007847e+05 -2.65700789e+01]\n",
      "  [-7.23578916e+04  7.26444559e+03  7.27007859e+05]]] [[-2.13094432e+08 -2.14162240e+07  8.33299802e+09]\n",
      " [-2.13070476e+08 -2.14162482e+07  8.33300151e+09]\n",
      " [-2.13070500e+08 -2.14162482e+07  8.33300151e+09]\n",
      " [-2.14321466e+11 -3.94644841e+09  3.38157059e+10]]\n",
      "0.04069572313598731\n",
      "[[[ 7.30635931e+05  0.00000000e+00  0.00000000e+00]\n",
      "  [ 0.00000000e+00  7.30635931e+05  0.00000000e+00]\n",
      "  [ 0.00000000e+00  0.00000000e+00  7.30635931e+05]]\n",
      "\n",
      " [[ 7.30635931e+05  7.41637049e-03  3.13518214e+00]\n",
      "  [-7.41634838e-03  7.30635931e+05 -5.15173607e-03]\n",
      "  [-3.13518214e+00  5.15170424e-03  7.30635931e+05]]\n",
      "\n",
      " [[ 7.30635931e+05  7.41807756e-03  3.13649468e+00]\n",
      "  [-7.41805545e-03  7.30635931e+05 -5.15173607e-03]\n",
      "  [-3.13649468e+00  5.15170423e-03  7.30635931e+05]]\n",
      "\n",
      " [[ 7.23419743e+05 -7.22499645e+04  7.26132289e+04]\n",
      "  [ 7.26133690e+04  7.27018680e+05 -3.95375450e+01]\n",
      "  [-7.22498238e+04  7.25572505e+03  7.27018694e+05]]] [[-2.13055280e+08 -2.13790480e+07  8.33298931e+09]\n",
      " [-2.13019591e+08 -2.13790943e+07  8.33299452e+09]\n",
      " [-2.13019644e+08 -2.13790942e+07  8.33299451e+09]\n",
      " [-2.13682601e+11 -3.89995611e+09  3.37113604e+10]]\n",
      "0.06895233830241775\n",
      "[[[ 7.30635931e+05  0.00000000e+00  0.00000000e+00]\n",
      "  [ 0.00000000e+00  7.30635931e+05  0.00000000e+00]\n",
      "  [ 0.00000000e+00  0.00000000e+00  7.30635931e+05]]\n",
      "\n",
      " [[ 7.30635931e+05  4.61869472e-02  8.50740082e+00]\n",
      "  [-4.61865686e-02  7.30635931e+05 -3.25146032e-02]\n",
      "  [-8.50740082e+00  3.25140654e-02  7.30635931e+05]]\n",
      "\n",
      " [[ 7.30635931e+05  4.62171622e-02  8.52248059e+00]\n",
      "  [-4.62167830e-02  7.30635931e+05 -3.25146035e-02]\n",
      "  [-8.52248059e+00  3.25140644e-02  7.30635931e+05]]\n",
      "\n",
      " [[ 7.23531379e+05 -7.16910515e+04  7.20527572e+04]\n",
      "  [ 7.20525668e+04  7.27074467e+05 -1.04923262e+02]\n",
      "  [-7.16912429e+04  7.20947486e+03  7.27074448e+05]]] [[-2.12884128e+08 -2.11906100e+07  8.33294835e+09]\n",
      " [-2.12787601e+08 -2.11909023e+07  8.33296246e+09]\n",
      " [-2.12787932e+08 -2.11909005e+07  8.33296246e+09]\n",
      " [-2.10394657e+11 -3.66458273e+09  3.31747478e+10]]\n",
      "0.0739757365542276\n",
      "[[[ 7.30635931e+05  0.00000000e+00  0.00000000e+00]\n",
      "  [ 0.00000000e+00  7.30635931e+05  0.00000000e+00]\n",
      "  [ 0.00000000e+00  0.00000000e+00  7.30635931e+05]]\n",
      "\n",
      " [[ 7.30635931e+05  7.47145619e-02  9.38036361e+00]\n",
      "  [-7.47138886e-02  7.30635931e+05 -5.24434144e-02]\n",
      "  [-9.38036361e+00  5.24424552e-02  7.30635931e+05]]\n",
      "\n",
      " [[ 7.30635931e+05  7.47429472e-02  9.40152702e+00]\n",
      "  [-7.47422724e-02  7.30635931e+05 -5.24434144e-02]\n",
      "  [-9.40152702e+00  5.24424526e-02  7.30635931e+05]]\n",
      "\n",
      " [[ 7.23551537e+05 -7.15895834e+04  7.19511510e+04]\n",
      "  [ 7.19506034e+04  7.27084562e+05 -1.15200147e+02]\n",
      "  [-7.15901338e+04  7.19959388e+03  7.27084508e+05]]] [[-2.12877552e+08 -2.11594620e+07  8.33294579e+09]\n",
      " [-2.12771178e+08 -2.11599328e+07  8.33296135e+09]\n",
      " [-2.12771549e+08 -2.11599296e+07  8.33296135e+09]\n",
      " [-2.09801916e+11 -3.62465417e+09  3.30761323e+10]]\n",
      "0.08025498436898992\n",
      "[[[ 7.30635931e+05  0.00000000e+00  0.00000000e+00]\n",
      "  [ 0.00000000e+00  7.30635931e+05  0.00000000e+00]\n",
      "  [ 0.00000000e+00  0.00000000e+00  7.30635931e+05]]\n",
      "\n",
      " [[ 7.30635931e+05  8.50924064e-02  1.10929451e+01]\n",
      "  [-8.50915009e-02  7.30635931e+05 -5.96422570e-02]\n",
      "  [-1.10929451e+01  5.96409651e-02  7.30635931e+05]]\n",
      "\n",
      " [[ 7.30635931e+05  8.51412994e-02  1.11164319e+01]\n",
      "  [-8.51403920e-02  7.30635931e+05 -5.96422580e-02]\n",
      "  [-1.11164319e+01  5.96409626e-02  7.30635931e+05]]\n",
      "\n",
      " [[ 7.23587500e+05 -7.14083264e+04  7.17693792e+04]\n",
      "  [ 7.17687635e+04  7.27102530e+05 -1.36623083e+02]\n",
      "  [-7.14089453e+04  7.18505365e+03  7.27102469e+05]]] [[-2.12846416e+08 -2.11013020e+07  8.33293709e+09]\n",
      " [-2.12720752e+08 -2.11018365e+07  8.33295548e+09]\n",
      " [-2.12721341e+08 -2.11018323e+07  8.33295547e+09]\n",
      " [-2.08742297e+11 -3.54921348e+09  3.29048933e+10]]\n",
      "0.08025498436898992\n",
      "[[[ 7.30635931e+05  0.00000000e+00  0.00000000e+00]\n",
      "  [ 0.00000000e+00  7.30635931e+05  0.00000000e+00]\n",
      "  [ 0.00000000e+00  0.00000000e+00  7.30635931e+05]]\n",
      "\n",
      " [[ 7.30635931e+05  5.69744597e-02  1.16200341e+01]\n",
      "  [-5.69738185e-02  7.30635931e+05 -4.03199565e-02]\n",
      "  [-1.16200341e+01  4.03190504e-02  7.30635931e+05]]\n",
      "\n",
      " [[ 7.30635931e+05  5.70458354e-02  1.16431902e+01]\n",
      "  [-5.70451929e-02  7.30635931e+05 -4.03199581e-02]\n",
      "  [-1.16431902e+01  4.03190490e-02  7.30635931e+05]]\n",
      "\n",
      " [[ 7.23593756e+05 -7.13768010e+04  7.17376588e+04]\n",
      "  [ 7.17373414e+04  7.27105630e+05 -1.42441838e+02]\n",
      "  [-7.13771201e+04  7.18461647e+03  7.27105599e+05]]] [[-2.12818864e+08 -2.10883420e+07  8.33293146e+09]\n",
      " [-2.12687270e+08 -2.10887041e+07  8.33295072e+09]\n",
      " [-2.12687946e+08 -2.10887011e+07  8.33295070e+09]\n",
      " [-2.08556519e+11 -3.53308736e+09  3.28780885e+10]]\n",
      "0.10450527250343493\n",
      "[[[ 7.30635931e+05  0.00000000e+00  0.00000000e+00]\n",
      "  [ 0.00000000e+00  7.30635931e+05  0.00000000e+00]\n",
      "  [ 0.00000000e+00  0.00000000e+00  7.30635931e+05]]\n",
      "\n",
      " [[ 7.30635931e+05  1.06194259e-01  1.83292422e+01]\n",
      "  [-1.06192364e-01  7.30635931e+05 -7.55264648e-02]\n",
      "  [-1.83292423e+01  7.55238008e-02  7.30635931e+05]]\n",
      "\n",
      " [[ 7.30635931e+05  1.06370350e-01  1.83795898e+01]\n",
      "  [-1.06368450e-01  7.30635931e+05 -7.55264696e-02]\n",
      "  [-1.83795898e+01  7.55237938e-02  7.30635931e+05]]\n",
      "\n",
      " [[ 7.23727505e+05 -7.06979906e+04  7.10574110e+04]\n",
      "  [ 7.10562543e+04  7.27172485e+05 -2.21399756e+02]\n",
      "  [-7.06991533e+04  7.12982532e+03  7.27172372e+05]]] [[-2.12707456e+08 -2.08711040e+07  8.33290125e+09]\n",
      " [-2.12500732e+08 -2.08717798e+07  8.33293162e+09]\n",
      " [-2.12502502e+08 -2.08717708e+07  8.33293155e+09]\n",
      " [-2.04615501e+11 -3.25680700e+09  3.22442147e+10]]\n",
      "0.11663041657065742\n",
      "[[[ 7.30635931e+05  0.00000000e+00  0.00000000e+00]\n",
      "  [ 0.00000000e+00  7.30635931e+05  0.00000000e+00]\n",
      "  [ 0.00000000e+00  0.00000000e+00  7.30635931e+05]]\n",
      "\n",
      " [[ 7.30635931e+05  1.60872966e-01  2.36642809e+01]\n",
      "  [-1.60869238e-01  7.30635931e+05 -1.15103705e-01]\n",
      "  [-2.36642809e+01  1.15098495e-01  7.30635931e+05]]\n",
      "\n",
      " [[ 7.30635931e+05  1.61237404e-01  2.37546530e+01]\n",
      "  [-1.61233662e-01  7.30635931e+05 -1.15103717e-01]\n",
      "  [-2.37546530e+01  1.15098475e-01  7.30635931e+05]]\n",
      "\n",
      " [[ 7.23828233e+05 -7.01820990e+04  7.05409503e+04]\n",
      "  [ 7.05385021e+04  7.27222872e+05 -2.79720382e+02]\n",
      "  [-7.01845596e+04  7.08741831e+03  7.27222634e+05]]] [[-2.12698080e+08 -2.07149880e+07  8.33289306e+09]\n",
      " [-2.12432058e+08 -2.07160155e+07  8.33293224e+09]\n",
      " [-2.12434951e+08 -2.07159976e+07  8.33293215e+09]\n",
      " [-2.01647617e+11 -3.05352530e+09  3.17691810e+10]]\n",
      "0.17725613690676995\n",
      "[[[ 7.30635931e+05  0.00000000e+00  0.00000000e+00]\n",
      "  [ 0.00000000e+00  7.30635931e+05  0.00000000e+00]\n",
      "  [ 0.00000000e+00  0.00000000e+00  7.30635931e+05]]\n",
      "\n",
      " [[ 7.30635929e+05  5.70080894e-01  4.97910145e+01]\n",
      "  [-5.70052343e-01  7.30635931e+05 -4.18990507e-01]\n",
      "  [-4.97910148e+01  4.18951658e-01  7.30635929e+05]]\n",
      "\n",
      " [[ 7.30635929e+05  5.73509856e-01  5.03621099e+01]\n",
      "  [-5.73480976e-01  7.30635931e+05 -4.18990750e-01]\n",
      "  [-5.03621102e+01  4.18951219e-01  7.30635929e+05]]\n",
      "\n",
      " [[ 7.24232283e+05 -6.80691242e+04  6.84328751e+04]\n",
      "  [ 6.84165430e+04  7.27425453e+05 -5.00572841e+02]\n",
      "  [-6.80855396e+04  6.90422074e+03  7.27423917e+05]]] [[-2.12740912e+08 -2.00832480e+07  8.33287821e+09]\n",
      " [-2.12190170e+08 -2.00869405e+07  8.33296046e+09]\n",
      " [-2.12201558e+08 -2.00868001e+07  8.33296030e+09]\n",
      " [-1.89744595e+11 -2.28320351e+09  2.98803918e+10]]\n",
      "0.18803404274430108\n",
      "[[[ 7.30635931e+05  0.00000000e+00  0.00000000e+00]\n",
      "  [ 0.00000000e+00  7.30635931e+05  0.00000000e+00]\n",
      "  [ 0.00000000e+00  0.00000000e+00  7.30635931e+05]]\n",
      "\n",
      " [[ 7.30635929e+05  8.05243910e-01  5.24050310e+01]\n",
      "  [-8.05201308e-01  7.30635931e+05 -5.93995445e-01]\n",
      "  [-5.24050317e+01  5.93937690e-01  7.30635929e+05]]\n",
      "\n",
      " [[ 7.30635929e+05  8.09750230e-01  5.32382051e+01]\n",
      "  [-8.09706950e-01  7.30635931e+05 -5.93995696e-01]\n",
      "  [-5.32382057e+01  5.93936694e-01  7.30635929e+05]]\n",
      "\n",
      " [[ 7.24218348e+05 -6.81400209e+04  6.85097454e+04]\n",
      "  [ 6.84852769e+04  7.27419008e+05 -4.66322882e+02]\n",
      "  [-6.81646135e+04  6.88390518e+03  7.27416704e+05]]] [[-2.12876176e+08 -2.01187600e+07  8.33290586e+09]\n",
      " [-2.12297471e+08 -2.01239891e+07  8.33299241e+09]\n",
      " [-2.12308142e+08 -2.01237787e+07  8.33299255e+09]\n",
      " [-1.90171954e+11 -2.34489596e+09  2.99085321e+10]]\n",
      "0.20150642504121496\n",
      "[[[ 7.30635931e+05  0.00000000e+00  0.00000000e+00]\n",
      "  [ 0.00000000e+00  7.30635931e+05  0.00000000e+00]\n",
      "  [ 0.00000000e+00  0.00000000e+00  7.30635931e+05]]\n",
      "\n",
      " [[ 7.30635928e+05  9.22948504e-01  6.02322751e+01]\n",
      "  [-9.22892498e-01  7.30635931e+05 -6.79403583e-01]\n",
      "  [-6.02322760e+01  6.79327500e-01  7.30635928e+05]]\n",
      "\n",
      " [[ 7.30635928e+05  9.28383758e-01  6.11673174e+01]\n",
      "  [-9.28326883e-01  7.30635931e+05 -6.79404041e-01]\n",
      "  [-6.11673182e+01  6.79326321e-01  7.30635928e+05]]\n",
      "\n",
      " [[ 7.24356881e+05 -6.74014193e+04  6.77718283e+04]\n",
      "  [ 6.77440300e+04  7.27488357e+05 -5.47520948e+02]\n",
      "  [-6.74293588e+04  6.82657002e+03  7.27485768e+05]]] [[-2.12916224e+08 -1.99010940e+07  8.33290586e+09]\n",
      " [-2.12254336e+08 -1.99070360e+07  8.33300527e+09]\n",
      " [-2.12270284e+08 -1.99067606e+07  8.33300518e+09]\n",
      " [-1.86084891e+11 -2.08293810e+09  2.92810951e+10]]\n",
      "0.20150642504121496\n",
      "[[[ 7.30635931e+05  0.00000000e+00  0.00000000e+00]\n",
      "  [ 0.00000000e+00  7.30635931e+05  0.00000000e+00]\n",
      "  [ 0.00000000e+00  0.00000000e+00  7.30635931e+05]]\n",
      "\n",
      " [[ 7.30635928e+05  7.04450342e-01  6.47424045e+01]\n",
      "  [-7.04404261e-01  7.30635931e+05 -5.20069880e-01]\n",
      "  [-6.47424050e+01  5.20007460e-01  7.30635928e+05]]\n",
      "\n",
      " [[ 7.30635928e+05  7.10070491e-01  6.55250339e+01]\n",
      "  [-7.10023853e-01  7.30635931e+05 -5.20070507e-01]\n",
      "  [-6.55250344e+01  5.20006829e-01  7.30635928e+05]]\n",
      "\n",
      " [[ 7.24478123e+05 -6.67511778e+04  6.71162677e+04]\n",
      "  [ 6.70946526e+04  7.27548447e+05 -6.53972276e+02]\n",
      "  [-6.67729041e+04  6.81178007e+03  7.27546454e+05]]] [[-2.12747456e+08 -1.96874300e+07  8.33286490e+09]\n",
      " [-2.12038014e+08 -1.96919663e+07  8.33297171e+09]\n",
      " [-2.12059428e+08 -1.96917393e+07  8.33297113e+09]\n",
      " [-1.82485743e+11 -1.81114752e+09  2.87843952e+10]]\n",
      "0.2323536041943007\n"
     ]
    },
    {
     "name": "stdout",
     "output_type": "stream",
     "text": [
      "[[[ 7.30635931e+05  0.00000000e+00  0.00000000e+00]\n",
      "  [ 0.00000000e+00  7.30635931e+05  0.00000000e+00]\n",
      "  [ 0.00000000e+00  0.00000000e+00  7.30635931e+05]]\n",
      "\n",
      " [[ 7.30635926e+05  9.78819794e-01  8.27374699e+01]\n",
      "  [-9.78737321e-01  7.30635931e+05 -7.28358409e-01]\n",
      "  [-8.27374709e+01  7.28247572e-01  7.30635926e+05]]\n",
      "\n",
      " [[ 7.30635926e+05  9.88393437e-01  8.39688848e+01]\n",
      "  [-9.88309736e-01  7.30635931e+05 -7.28359637e-01]\n",
      "  [-8.39688858e+01  7.28246050e-01  7.30635926e+05]]\n",
      "\n",
      " [[ 7.24717621e+05 -6.54387431e+04  6.58103706e+04]\n",
      "  [ 6.57772623e+04  7.27668596e+05 -7.93533464e+02]\n",
      "  [-6.54720226e+04  6.71184305e+03  7.27665602e+05]]] [[-2.12830432e+08 -1.93009160e+07  8.33286694e+09]\n",
      " [-2.11934078e+08 -1.93071939e+07  8.33300322e+09]\n",
      " [-2.11970119e+08 -1.93067860e+07  8.33300218e+09]\n",
      " [-1.75416990e+11 -1.38119353e+09  2.77235890e+10]]\n",
      "0.2477771937708436\n",
      "[[[ 7.30635931e+05  0.00000000e+00  0.00000000e+00]\n",
      "  [ 0.00000000e+00  7.30635931e+05  0.00000000e+00]\n",
      "  [ 0.00000000e+00  0.00000000e+00  7.30635931e+05]]\n",
      "\n",
      " [[ 7.30635925e+05  1.17832624e+00  9.40771722e+01]\n",
      "  [-1.17821243e+00  7.30635931e+05 -8.83942272e-01]\n",
      "  [-9.40771736e+01  8.83790557e-01  7.30635925e+05]]\n",
      "\n",
      " [[ 7.30635925e+05  1.19225711e+00  9.57411258e+01]\n",
      "  [-1.19214129e+00  7.30635931e+05 -8.83944321e-01]\n",
      "  [-9.57411273e+01  8.83788098e-01  7.30635925e+05]]\n",
      "\n",
      " [[ 7.24832670e+05 -6.47969876e+04  6.51752578e+04]\n",
      "  [ 6.51329903e+04  7.27726472e+05 -8.59776006e+02]\n",
      "  [-6.48394741e+04  6.66303554e+03  7.27722688e+05]]] [[-2.12912400e+08 -1.91153740e+07  8.33287667e+09]\n",
      " [-2.11900558e+08 -1.91229413e+07  8.33303148e+09]\n",
      " [-2.11947033e+08 -1.91223739e+07  8.33303022e+09]\n",
      " [-1.72020662e+11 -1.18124240e+09  2.72201187e+10]]\n",
      "0.32489514165355793\n",
      "[[[ 7.30635931e+05  0.00000000e+00  0.00000000e+00]\n",
      "  [ 0.00000000e+00  7.30635931e+05  0.00000000e+00]\n",
      "  [ 0.00000000e+00  0.00000000e+00  7.30635931e+05]]\n",
      "\n",
      " [[ 7.30635915e+05  2.18858732e+00  1.51172331e+02]\n",
      "  [-2.18823239e+00  7.30635931e+05 -1.71565963e+00]\n",
      "  [-1.51172336e+02  1.71520684e+00  7.30635915e+05]]\n",
      "\n",
      " [[ 7.30635914e+05  2.24158630e+00  1.56112199e+02]\n",
      "  [-2.24121977e+00  7.30635931e+05 -1.71567243e+00]\n",
      "  [-1.56112204e+02  1.71519351e+00  7.30635914e+05]]\n",
      "\n",
      " [[ 7.25219635e+05 -6.25780590e+04  6.30026224e+04]\n",
      "  [ 6.29079512e+04  7.27921846e+05 -1.11336968e+03]\n",
      "  [-6.26732285e+04  6.52965895e+03  7.27913658e+05]]] [[-2.13247744e+08 -1.84716300e+07  8.33292070e+09]\n",
      " [-2.11681383e+08 -1.84858208e+07  8.33316822e+09]\n",
      " [-2.11803755e+08 -1.84839804e+07  8.33316564e+09]\n",
      " [-1.60575531e+11 -4.95406705e+08  2.55994683e+10]]\n",
      "0.33860499905492936\n",
      "[[[ 7.30635931e+05  0.00000000e+00  0.00000000e+00]\n",
      "  [ 0.00000000e+00  7.30635931e+05  0.00000000e+00]\n",
      "  [ 0.00000000e+00  0.00000000e+00  7.30635931e+05]]\n",
      "\n",
      " [[ 7.30635913e+05  2.40201324e+00  1.59648208e+02]\n",
      "  [-2.40159406e+00  7.30635931e+05 -1.91865964e+00]\n",
      "  [-1.59648214e+02  1.91813484e+00  7.30635913e+05]]\n",
      "\n",
      " [[ 7.30635912e+05  2.47385572e+00  1.66033502e+02]\n",
      "  [-2.47341977e+00  7.30635931e+05 -1.91867826e+00]\n",
      "  [-1.66033508e+02  1.91811614e+00  7.30635912e+05]]\n",
      "\n",
      " [[ 7.25092918e+05 -6.32961716e+04  6.37394546e+04]\n",
      "  [ 6.36301632e+04  7.27859161e+05 -1.05244623e+03]\n",
      "  [-6.34060387e+04  6.59545061e+03  7.27849598e+05]]] [[-2.13255648e+08 -1.86791260e+07  8.33292992e+09]\n",
      " [-2.11610807e+08 -1.86949612e+07  8.33319110e+09]\n",
      " [-2.11742637e+08 -1.86927409e+07  8.33318945e+09]\n",
      " [-1.64312451e+11 -6.79729784e+08  2.61511595e+10]]\n",
      "0.3557423208066437\n",
      "[[[ 7.30635931e+05  0.00000000e+00  0.00000000e+00]\n",
      "  [ 0.00000000e+00  7.30635931e+05  0.00000000e+00]\n",
      "  [ 0.00000000e+00  0.00000000e+00  7.30635931e+05]]\n",
      "\n",
      " [[ 7.30635910e+05  2.70456911e+00  1.74555200e+02]\n",
      "  [-2.70405208e+00  7.30635931e+05 -2.16442808e+00]\n",
      "  [-1.74555208e+02  2.16378199e+00  7.30635910e+05]]\n",
      "\n",
      " [[ 7.30635908e+05  2.78602431e+00  1.81811502e+02]\n",
      "  [-2.78548580e+00  7.30635931e+05 -2.16444995e+00]\n",
      "  [-1.81811510e+02  2.16375674e+00  7.30635908e+05]]\n",
      "\n",
      " [[ 7.25190952e+05 -6.27276854e+04  6.31837318e+04]\n",
      "  [ 6.30595184e+04  7.27908736e+05 -1.11044407e+03]\n",
      "  [-6.28525546e+04  6.55541220e+03  7.27897964e+05]]] [[-2.13364560e+08 -1.85169220e+07  8.33294579e+09]\n",
      " [-2.11584091e+08 -1.85345768e+07  8.33323099e+09]\n",
      " [-2.11747372e+08 -1.85318419e+07  8.33322834e+09]\n",
      " [-1.61415979e+11 -5.17965793e+08  2.57364213e+10]]\n",
      "0.3557423208066437\n",
      "[[[ 7.30635931e+05  0.00000000e+00  0.00000000e+00]\n",
      "  [ 0.00000000e+00  7.30635931e+05  0.00000000e+00]\n",
      "  [ 0.00000000e+00  0.00000000e+00  7.30635931e+05]]\n",
      "\n",
      " [[ 7.30635909e+05  2.67176315e+00  1.79148491e+02]\n",
      "  [-2.67124561e+00  7.30635931e+05 -2.11106533e+00]\n",
      "  [-1.79148499e+02  2.11041029e+00  7.30635909e+05]]\n",
      "\n",
      " [[ 7.30635907e+05  2.74181307e+00  1.85507462e+02]\n",
      "  [-2.74127716e+00  7.30635931e+05 -2.11108392e+00]\n",
      "  [-1.85507470e+02  2.11038785e+00  7.30635907e+05]]\n",
      "\n",
      " [[ 7.25456951e+05 -6.11819436e+04  6.16266589e+04]\n",
      "  [ 6.15075434e+04  7.28041262e+05 -1.26723550e+03]\n",
      "  [-6.13016917e+04  6.44620528e+03  7.28031189e+05]]] [[-2.13443296e+08 -1.80702180e+07  8.33294579e+09]\n",
      " [-2.11621646e+08 -1.80873167e+07  8.33323840e+09]\n",
      " [-2.11802685e+08 -1.80846299e+07  8.33323372e+09]\n",
      " [-1.53554139e+11 -1.03700347e+08  2.46298329e+10]]\n",
      "0.402651082405418\n",
      "[[[ 7.30635931e+05  0.00000000e+00  0.00000000e+00]\n",
      "  [ 0.00000000e+00  7.30635931e+05  0.00000000e+00]\n",
      "  [ 0.00000000e+00  0.00000000e+00  7.30635931e+05]]\n",
      "\n",
      " [[ 7.30635897e+05  3.41464900e+00  2.21079680e+02]\n",
      "  [-3.41381635e+00  7.30635931e+05 -2.75229545e+00]\n",
      "  [-2.21079692e+02  2.75126235e+00  7.30635897e+05]]\n",
      "\n",
      " [[ 7.30635895e+05  3.52402700e+00  2.30476376e+02]\n",
      "  [-3.52315896e+00  7.30635931e+05 -2.75232797e+00]\n",
      "  [-2.30476390e+02  2.75121646e+00  7.30635895e+05]]\n",
      "\n",
      " [[ 7.25656665e+05 -5.99703814e+04  6.04551243e+04]\n",
      "  [ 6.02944785e+04  7.28142438e+05 -1.42436991e+03]\n",
      "  [-6.01318930e+04  6.40361843e+03  7.28129118e+05]]] [[-2.13686768e+08 -1.77224020e+07  8.33298266e+09]\n",
      " [-2.11502716e+08 -1.77440298e+07  8.33334243e+09]\n",
      " [-2.11791530e+08 -1.77396523e+07  8.33333443e+09]\n",
      " [-1.47630059e+11  2.48267035e+08  2.38617319e+10]]\n",
      "0.42610546320480525\n",
      "[[[ 7.30635931e+05  0.00000000e+00  0.00000000e+00]\n",
      "  [ 0.00000000e+00  7.30635931e+05  0.00000000e+00]\n",
      "  [ 0.00000000e+00  0.00000000e+00  7.30635931e+05]]\n",
      "\n",
      " [[ 7.30635889e+05  3.85775797e+00  2.46832730e+02]\n",
      "  [-3.85668607e+00  7.30635931e+05 -3.17352527e+00]\n",
      "  [-2.46832746e+02  3.17222217e+00  7.30635889e+05]]\n",
      "\n",
      " [[ 7.30635885e+05  4.00478194e+00  2.58902689e+02]\n",
      "  [-4.00365762e+00  7.30635931e+05 -3.17357403e+00]\n",
      "  [-2.58902707e+02  3.17215513e+00  7.30635885e+05]]\n",
      "\n",
      " [[ 7.25687207e+05 -5.97709011e+04  6.02858232e+04]\n",
      "  [ 6.00979300e+04  7.28158563e+05 -1.48634376e+03]\n",
      "  [-5.99598192e+04  6.43504328e+03  7.28143031e+05]]] [[-2.13802944e+08 -1.76674560e+07  8.33300416e+09]\n",
      " [-2.11408341e+08 -1.76919732e+07  8.33340493e+09]\n",
      " [-2.11775549e+08 -1.76862560e+07  8.33339510e+09]\n",
      " [-1.46705700e+11  3.50964401e+08  2.37897170e+10]]\n",
      "0.5433773672017411\n",
      "[[[ 7.30635931e+05  0.00000000e+00  0.00000000e+00]\n",
      "  [ 0.00000000e+00  7.30635931e+05  0.00000000e+00]\n",
      "  [ 0.00000000e+00  0.00000000e+00  7.30635931e+05]]\n",
      "\n",
      " [[ 7.30635832e+05  5.72794879e+00  3.80607462e+02]\n",
      "  [-5.72519101e+00  7.30635931e+05 -5.29548301e+00]\n",
      "  [-3.80607504e+02  5.29249989e+00  7.30635832e+05]]\n",
      "\n",
      " [[ 7.30635815e+05  6.15499465e+00  4.11118690e+02]\n",
      "  [-6.15201581e+00  7.30635931e+05 -5.29569672e+00]\n",
      "  [-4.11118735e+02  5.29223423e+00  7.30635815e+05]]\n",
      "\n",
      " [[ 7.25676557e+05 -5.97499813e+04  6.04345722e+04]\n",
      "  [ 6.01110539e+04  7.28156560e+05 -1.88372065e+03]\n",
      "  [-6.00754440e+04  6.84302199e+03  7.28129781e+05]]] [[-2.14167856e+08 -1.76593880e+07  8.33307789e+09]\n",
      " [-2.10826784e+08 -1.76966711e+07  8.33368852e+09]\n",
      " [-2.11812312e+08 -1.76809697e+07  8.33366284e+09]\n",
      " [-1.46824502e+11  8.56917711e+08  2.43067713e+10]]\n",
      "0.5642257056900852\n",
      "[[[ 7.30635931e+05  0.00000000e+00  0.00000000e+00]\n",
      "  [ 0.00000000e+00  7.30635931e+05  0.00000000e+00]\n",
      "  [ 0.00000000e+00  0.00000000e+00  7.30635931e+05]]\n",
      "\n",
      " [[ 7.30635819e+05  5.67098823e+00  4.05054626e+02]\n",
      "  [-5.66788522e+00  7.30635931e+05 -5.59875805e+00]\n",
      "  [-4.05054670e+02  5.59561499e+00  7.30635819e+05]]\n",
      "\n",
      " [[ 7.30635797e+05  6.22097768e+00  4.42677691e+02]\n",
      "  [-6.21758646e+00  7.30635931e+05 -5.59906173e+00]\n",
      "  [-4.42677739e+02  5.59529359e+00  7.30635797e+05]]\n",
      "\n",
      " [[ 7.25455942e+05 -6.10434752e+04  6.17756765e+04]\n",
      "  [ 6.14295842e+04  7.28046270e+05 -1.97460342e+03]\n",
      "  [-6.13917442e+04  7.15450978e+03  7.28016985e+05]]] [[-2.13993232e+08 -1.80167860e+07  8.33305587e+09]\n",
      " [-2.10505865e+08 -1.80558996e+07  8.33370419e+09]\n",
      " [-2.11649661e+08 -1.80376880e+07  8.33367767e+09]\n",
      " [-1.53225904e+11  8.27962012e+08  2.54837798e+10]]\n",
      "0.5902861288005155\n",
      "[[[ 7.30635931e+05  0.00000000e+00  0.00000000e+00]\n",
      "  [ 0.00000000e+00  7.30635931e+05  0.00000000e+00]\n",
      "  [ 0.00000000e+00  0.00000000e+00  7.30635931e+05]]\n",
      "\n",
      " [[ 7.30635799e+05  6.20668610e+00  4.38828837e+02]\n",
      "  [-6.20296247e+00  7.30635931e+05 -6.20158075e+00]\n",
      "  [-4.38828889e+02  6.19785405e+00  7.30635799e+05]]\n",
      "\n",
      " [[ 7.30635772e+05  6.82822656e+00  4.81428152e+02]\n",
      "  [-6.82414149e+00  7.30635931e+05 -6.20193025e+00]\n",
      "  [-4.81428210e+02  6.19743236e+00  7.30635772e+05]]\n",
      "\n",
      " [[ 7.25378919e+05 -6.14727853e+04  6.22525850e+04]\n",
      "  [ 6.18695401e+04  7.28008873e+05 -2.02605182e+03]\n",
      "  [-6.18582871e+04  7.28296250e+03  7.27976218e+05]]] [[-2.14087472e+08 -1.81473280e+07  8.33307891e+09]\n",
      " [-2.10411596e+08 -1.81893573e+07  8.33377918e+09]\n",
      " [-2.11796284e+08 -1.81674036e+07  8.33374453e+09]\n",
      " [-1.55448299e+11  8.47178798e+08  2.59241692e+10]]\n",
      "0.5902861288005155\n",
      "[[[ 7.30635931e+05  0.00000000e+00  0.00000000e+00]\n",
      "  [ 0.00000000e+00  7.30635931e+05  0.00000000e+00]\n",
      "  [ 0.00000000e+00  0.00000000e+00  7.30635931e+05]]\n",
      "\n",
      " [[ 7.30635797e+05  6.77722076e+00  4.42919901e+02]\n",
      "  [-6.77334768e+00  7.30635931e+05 -6.39104290e+00]\n",
      "  [-4.42919960e+02  6.38693565e+00  7.30635797e+05]]\n",
      "\n",
      " [[ 7.30635772e+05  7.32190706e+00  4.81692750e+02]\n",
      "  [-7.31769498e+00  7.30635931e+05 -6.39132983e+00]\n",
      "  [-4.81692814e+02  6.38650404e+00  7.30635772e+05]]\n",
      "\n",
      " [[ 7.25673775e+05 -5.97277955e+04  6.04898794e+04]\n",
      "  [ 6.01015200e+04  7.28156950e+05 -2.03153805e+03]\n",
      "  [-6.01185692e+04  6.99358924e+03  7.28124791e+05]]] [[-2.14415648e+08 -1.76640800e+07  8.33312755e+09]\n",
      " [-2.10718034e+08 -1.77066054e+07  8.33383425e+09]\n",
      " [-2.12125034e+08 -1.76843491e+07  8.33379362e+09]\n",
      " [-1.46834202e+11  1.04868601e+09  2.44925611e+10]]\n",
      "0.6397729937581025\n",
      "[[[ 7.30635931e+05  0.00000000e+00  0.00000000e+00]\n",
      "  [ 0.00000000e+00  7.30635931e+05  0.00000000e+00]\n",
      "  [ 0.00000000e+00  0.00000000e+00  7.30635931e+05]]\n",
      "\n",
      " [[ 7.30635753e+05  7.65476199e+00  5.10358686e+02]\n",
      "  [-7.64950786e+00  7.30635931e+05 -7.52455243e+00]\n",
      "  [-5.10358765e+02  7.51920731e+00  7.30635753e+05]]\n",
      "\n",
      " [[ 7.30635716e+05  8.37425374e+00  5.60578028e+02]\n",
      "  [-8.36848270e+00  7.30635931e+05 -7.52496268e+00]\n",
      "  [-5.60578114e+02  7.51853977e+00  7.30635716e+05]]\n",
      "\n",
      " [[ 7.25566951e+05 -6.03229223e+04  6.11768590e+04]\n",
      "  [ 6.07219831e+04  7.28104889e+05 -2.23041003e+03]\n",
      "  [-6.07807849e+04  7.29924683e+03  7.28066811e+05]]] [[-2.14541728e+08 -1.78372880e+07  8.33315878e+09]\n",
      " [-2.10518604e+08 -1.78844458e+07  8.33396819e+09]\n",
      " [-2.12486406e+08 -1.78536803e+07  8.33390888e+09]\n",
      " [-1.49857109e+11  1.24033898e+09  2.52434765e+10]]\n",
      "0.664516426236896\n",
      "[[[ 7.30635931e+05  0.00000000e+00  0.00000000e+00]\n",
      "  [ 0.00000000e+00  7.30635931e+05  0.00000000e+00]\n",
      "  [ 0.00000000e+00  0.00000000e+00  7.30635931e+05]]\n",
      "\n",
      " [[ 7.30635724e+05  8.07314993e+00  5.49893128e+02]\n",
      "  [-8.06697286e+00  7.30635931e+05 -8.21042366e+00]\n",
      "  [-5.49893218e+02  8.20434995e+00  7.30635724e+05]]\n",
      "\n",
      " [[ 7.30635677e+05  8.92268152e+00  6.08507282e+02]\n",
      "  [-8.91584616e+00  7.30635931e+05 -8.21094135e+00]\n",
      "  [-6.08507382e+02  8.20351298e+00  7.30635677e+05]]\n",
      "\n",
      " [[ 7.25450715e+05 -6.09840250e+04  6.18956583e+04]\n",
      "  [ 6.14045477e+04  7.28047200e+05 -2.37051155e+03]\n",
      "  [-6.14784950e+04  7.55556081e+03  7.28005612e+05]]] [[-2.14561008e+08 -1.80271520e+07  8.33316954e+09]\n",
      " [-2.10376237e+08 -1.80768580e+07  8.33403853e+09]\n",
      " [-2.12732533e+08 -1.80401414e+07  8.33396727e+09]\n",
      " [-1.53178491e+11  1.35002742e+09  2.59815201e+10]]\n",
      "0.7882335886308636\n",
      "[[[ 7.30635931e+05  0.00000000e+00  0.00000000e+00]\n",
      "  [ 0.00000000e+00  7.30635931e+05  0.00000000e+00]\n",
      "  [ 0.00000000e+00  0.00000000e+00  7.30635931e+05]]\n",
      "\n",
      " [[ 7.30635539e+05  9.95125316e+00  7.56510590e+02]\n",
      "  [-9.93887753e+00  7.30635931e+05 -1.19574939e+01]\n",
      "  [-7.56510753e+02  1.19471966e+01  7.30635539e+05]]\n",
      "\n",
      " [[ 7.30635418e+05  1.15695181e+01  8.65416594e+02]\n",
      "  [-1.15553614e+01  7.30635931e+05 -1.19587852e+01]\n",
      "  [-8.65416783e+02  1.19450898e+01  7.30635418e+05]]\n",
      "\n",
      " [[ 7.24945398e+05 -6.37475317e+04  6.49560294e+04]\n",
      "  [ 6.43027802e+04  7.27792855e+05 -3.40240157e+03]\n",
      "  [-6.44064128e+04  9.09263884e+03  7.27734843e+05]]] [[-2.14547760e+08 -1.87961280e+07  8.33319667e+09]\n",
      " [-2.09869100e+08 -1.88546255e+07  8.33437008e+09]\n",
      " [-2.15016235e+08 -1.87762270e+07  8.33420668e+09]\n",
      " [-1.67324194e+11  2.40373282e+09  2.98351383e+10]]\n",
      "0.8102277508342356\n",
      "[[[ 7.30635931e+05  0.00000000e+00  0.00000000e+00]\n",
      "  [ 0.00000000e+00  7.30635931e+05  0.00000000e+00]\n",
      "  [ 0.00000000e+00  0.00000000e+00  7.30635931e+05]]\n",
      "\n",
      " [[ 7.30635494e+05  1.00038915e+01  7.98580588e+02]\n",
      "  [-9.98996190e+00  7.30635931e+05 -1.27499346e+01]\n",
      "  [-7.98580762e+02  1.27390080e+01  7.30635494e+05]]\n",
      "\n",
      " [[ 7.30635348e+05  1.18529590e+01  9.22470861e+02]\n",
      "  [-1.18368688e+01  7.30635931e+05 -1.27515467e+01]\n",
      "  [-9.22471068e+02  1.27365918e+01  7.30635348e+05]]\n",
      "\n",
      " [[ 7.24927436e+05 -6.38196630e+04  6.50855278e+04]\n",
      "  [ 6.44141576e+04  7.27780915e+05 -3.82354397e+03]\n",
      "  [-6.44972218e+04  9.53172583e+03  7.27721182e+05]]] [[-2.14417168e+08 -1.87816940e+07  8.33317158e+09]\n",
      " [-2.09710115e+08 -1.88413711e+07  8.33440547e+09]\n",
      " [-2.15642948e+08 -1.87513863e+07  8.33421892e+09]\n",
      " [-1.67610644e+11  2.95233522e+09  3.04580766e+10]]\n",
      "0.8377204535884506\n",
      "[[[ 7.30635931e+05  0.00000000e+00  0.00000000e+00]\n",
      "  [ 0.00000000e+00  7.30635931e+05  0.00000000e+00]\n",
      "  [ 0.00000000e+00  0.00000000e+00  7.30635931e+05]]\n",
      "\n",
      " [[ 7.30635437e+05  1.04123536e+01  8.49619926e+02]\n",
      "  [-1.03964233e+01  7.30635931e+05 -1.37054085e+01]\n",
      "  [-8.49620121e+02  1.36933097e+01  7.30635437e+05]]\n",
      "\n",
      " [[ 7.30635264e+05  1.24690047e+01  9.86936689e+02]\n",
      "  [-1.24505004e+01  7.30635931e+05 -1.37072368e+01]\n",
      "  [-9.86936922e+02  1.36904063e+01  7.30635264e+05]]\n",
      "\n",
      " [[ 7.24722814e+05 -6.49200130e+04  6.62653645e+04]\n",
      "  [ 6.55557314e+04  7.27677706e+05 -4.05774457e+03]\n",
      "  [-6.56365196e+04  9.97051225e+03  7.27613427e+05]]] [[-2.14367728e+08 -1.90936180e+07  8.33317363e+09]\n",
      " [-2.09659046e+08 -1.91535451e+07  8.33448033e+09]\n",
      " [-2.16557403e+08 -1.90496149e+07  8.33425899e+09]\n",
      " [-1.73396862e+11  3.15798317e+09  3.18585607e+10]]\n",
      "0.8377204535884506\n",
      "[[[ 7.30635931e+05  0.00000000e+00  0.00000000e+00]\n",
      "  [ 0.00000000e+00  7.30635931e+05  0.00000000e+00]\n",
      "  [ 0.00000000e+00  0.00000000e+00  7.30635931e+05]]\n",
      "\n",
      " [[ 7.30635439e+05  1.08175333e+01  8.47432106e+02]\n",
      "  [-1.08016521e+01  7.30635931e+05 -1.36986782e+01]\n",
      "  [-8.47432309e+02  1.36861406e+01  7.30635439e+05]]\n",
      "\n",
      " [[ 7.30635275e+05  1.27829460e+01  9.79274920e+02]\n",
      "  [-1.27645948e+01  7.30635931e+05 -1.37003140e+01]\n",
      "  [-9.79275159e+02  1.36831932e+01  7.30635274e+05]]\n",
      "\n",
      " [[ 7.24610372e+05 -6.55379938e+04  6.68838018e+04]\n",
      "  [ 6.61636029e+04  7.27623949e+05 -3.82482825e+03]\n",
      "  [-6.62649925e+04  9.85002684e+03  7.27558102e+05]]] [[-2.14530240e+08 -1.93140880e+07  8.33321306e+09]\n",
      " [-2.09820922e+08 -1.93735558e+07  8.33451679e+09]\n",
      " [-2.16599449e+08 -1.92711476e+07  8.33429424e+09]\n",
      " [-1.76781494e+11  2.78027700e+09  3.21760257e+10]]\n",
      "0.8982597259684868\n",
      "[[[ 7.30635931e+05  0.00000000e+00  0.00000000e+00]\n",
      "  [ 0.00000000e+00  7.30635931e+05  0.00000000e+00]\n",
      "  [ 0.00000000e+00  0.00000000e+00  7.30635931e+05]]\n",
      "\n",
      " [[ 7.30635296e+05  1.17116640e+01  9.63465079e+02]\n",
      "  [-1.16905847e+01  7.30635931e+05 -1.59929760e+01]\n",
      "  [-9.63465335e+02  1.59775461e+01  7.30635295e+05]]\n",
      "\n",
      " [[ 7.30635059e+05  1.41749637e+01  1.12840526e+03]\n",
      "  [-1.41502774e+01  7.30635931e+05 -1.59951842e+01]\n",
      "  [-1.12840557e+03  1.59733112e+01  7.30635059e+05]]\n",
      "\n",
      " [[ 7.24265003e+05 -6.73147071e+04  6.88316753e+04]\n",
      "  [ 6.80431939e+04  7.27446388e+05 -4.55405883e+03]\n",
      "  [-6.81116222e+04  1.09245551e+04  7.27372205e+05]]] [[-2.14431216e+08 -1.98101200e+07  8.33321357e+09]\n",
      " [-2.09848459e+08 -1.98683521e+07  8.33468042e+09]\n",
      " [-2.19138406e+08 -1.97291073e+07  8.33436704e+09]\n",
      " [-1.86304491e+11  3.58908075e+09  3.50551511e+10]]\n",
      "0.9285293621585048\n",
      "[[[ 7.30635931e+05  0.00000000e+00  0.00000000e+00]\n",
      "  [ 0.00000000e+00  7.30635931e+05  0.00000000e+00]\n",
      "  [ 0.00000000e+00  0.00000000e+00  7.30635931e+05]]\n",
      "\n",
      " [[ 7.30635203e+05  1.21118796e+01  1.03113935e+03]\n",
      "  [-1.20872042e+01  7.30635931e+05 -1.74928250e+01]\n",
      "  [-1.03113964e+03  1.74757491e+01  7.30635203e+05]]\n",
      "\n",
      " [[ 7.30634914e+05  1.49153249e+01  1.21919832e+03]\n",
      "  [-1.48861512e+01  7.30635931e+05 -1.74954938e+01]\n",
      "  [-1.21919868e+03  1.74706292e+01  7.30634913e+05]]\n",
      "\n",
      " [[ 7.24088229e+05 -6.81993310e+04  6.98136947e+04]\n",
      "  [ 6.90018169e+04  7.27352217e+05 -5.13464841e+03]\n",
      "  [-6.90206489e+04  1.16818923e+04  7.27274740e+05]]] [[-2.14319632e+08 -2.00493800e+07  8.33320179e+09]\n",
      " [-2.09896469e+08 -2.01060867e+07  8.33476212e+09]\n",
      " [-2.20933555e+08 -1.99402231e+07  8.33438773e+09]\n",
      " [-1.91022633e+11  4.30449963e+09  3.68419996e+10]]\n",
      "1.0798775431085952\n",
      "[[[ 7.30635931e+05  0.00000000e+00  0.00000000e+00]\n",
      "  [ 0.00000000e+00  7.30635931e+05  0.00000000e+00]\n",
      "  [ 0.00000000e+00  0.00000000e+00  7.30635931e+05]]\n",
      "\n",
      " [[ 7.30634623e+05  1.42364843e+01  1.38232459e+03]\n",
      "  [-1.41864324e+01  7.30635930e+05 -2.64686444e+01]\n",
      "  [-1.38232510e+03  2.64417570e+01  7.30634623e+05]]\n",
      "\n",
      " [[ 7.30633943e+05  1.89369850e+01  1.70424354e+03]\n",
      "  [-1.88752834e+01  7.30635930e+05 -2.64744254e+01]\n",
      "  [-1.70424422e+03  2.64303258e+01  7.30633943e+05]]\n",
      "\n",
      " [[ 7.23721762e+05 -6.98685626e+04  7.19309274e+04]\n",
      "  [ 7.10935032e+04  7.27112799e+05 -9.03073664e+03]\n",
      "  [-7.07204933e+04  1.59444147e+04  7.27030433e+05]]] [[-2.13873168e+08 -2.04540840e+07  8.33313421e+09]\n",
      " [-2.11293256e+08 -2.04826563e+07  8.33516152e+09]\n",
      " [-2.34529360e+08 -2.01204580e+07  8.33435044e+09]\n",
      " [-1.98935455e+11  9.67948012e+09  4.42748658e+10]]\n"
     ]
    },
    {
     "name": "stdout",
     "output_type": "stream",
     "text": [
      "1.1067838863886112\n",
      "[[[ 7.30635931e+05  0.00000000e+00  0.00000000e+00]\n",
      "  [ 0.00000000e+00  7.30635931e+05  0.00000000e+00]\n",
      "  [ 0.00000000e+00  0.00000000e+00  7.30635931e+05]]\n",
      "\n",
      " [[ 7.30634486e+05  1.46104723e+01  1.45300139e+03]\n",
      "  [-1.45529041e+01  7.30635930e+05 -2.89624075e+01]\n",
      "  [-1.45300196e+03  2.89334092e+01  7.30634486e+05]]\n",
      "\n",
      " [[ 7.30633685e+05  1.97860278e+01  1.81150724e+03]\n",
      "  [-1.97142630e+01  7.30635930e+05 -2.89693385e+01]\n",
      "  [-1.81150802e+03  2.89203707e+01  7.30633685e+05]]\n",
      "\n",
      " [[ 7.24211390e+05 -6.73060125e+04  6.94019199e+04]\n",
      "  [ 6.86216298e+04  7.27327510e+05 -1.07064975e+04]\n",
      "  [-6.81013783e+04  1.71306115e+04  7.27253469e+05]]] [[-2.13805856e+08 -1.96602900e+07  8.33309171e+09]\n",
      " [-2.11802681e+08 -1.96789907e+07  8.33520946e+09]\n",
      " [-2.38444524e+08 -1.92541933e+07  8.33428286e+09]\n",
      " [-1.84020144e+11  1.20327250e+10  4.33913109e+10]]\n",
      "1.1404168154886314\n",
      "[[[ 7.30635931e+05  0.00000000e+00  0.00000000e+00]\n",
      "  [ 0.00000000e+00  7.30635931e+05  0.00000000e+00]\n",
      "  [ 0.00000000e+00  0.00000000e+00  7.30635931e+05]]\n",
      "\n",
      " [[ 7.30634308e+05  1.49940189e+01  1.53993447e+03]\n",
      "  [-1.49283318e+01  7.30635930e+05 -3.11815940e+01]\n",
      "  [-1.53993511e+03  3.11500608e+01  7.30634307e+05]]\n",
      "\n",
      " [[ 7.30633372e+05  2.06747066e+01  1.93366686e+03]\n",
      "  [-2.05922344e+01  7.30635930e+05 -3.11893842e+01]\n",
      "  [-1.93366774e+03  3.11347765e+01  7.30633371e+05]]\n",
      "\n",
      " [[ 7.24028164e+05 -6.82091396e+04  7.04243875e+04]\n",
      "  [ 6.96392497e+04  7.27216847e+05 -1.16144808e+04]\n",
      "  [-6.90105498e+04  1.82218149e+04  7.27141233e+05]]] [[-2.13616640e+08 -1.99008960e+07  8.33306458e+09]\n",
      " [-2.12417362e+08 -1.99035819e+07  8.33529188e+09]\n",
      " [-2.43177688e+08 -1.94129386e+07  8.33421343e+09]\n",
      " [-1.88606729e+11  1.32918214e+10  4.57371200e+10]]\n",
      "1.1404168154886314\n",
      "[[[ 7.30635931e+05  0.00000000e+00  0.00000000e+00]\n",
      "  [ 0.00000000e+00  7.30635931e+05  0.00000000e+00]\n",
      "  [ 0.00000000e+00  0.00000000e+00  7.30635931e+05]]\n",
      "\n",
      " [[ 7.30634316e+05  1.50529942e+01  1.53625523e+03]\n",
      "  [-1.49889434e+01  7.30635930e+05 -3.04780018e+01]\n",
      "  [-1.53625586e+03  3.04464182e+01  7.30634315e+05]]\n",
      "\n",
      " [[ 7.30633410e+05  2.06263269e+01  1.91922814e+03]\n",
      "  [-2.05463195e+01  7.30635930e+05 -3.04851997e+01]\n",
      "  [-1.91922900e+03  3.04311236e+01  7.30633410e+05]]\n",
      "\n",
      " [[ 7.23284530e+05 -7.19531821e+04  7.42367242e+04]\n",
      "  [ 7.33816582e+04  7.26866481e+05 -1.04457997e+04]\n",
      "  [-7.28250223e+04  1.77966874e+04  7.26779649e+05]]] [[-2.13633840e+08 -2.10515620e+07  8.33311219e+09]\n",
      " [-2.12398367e+08 -2.10543831e+07  8.33533493e+09]\n",
      " [-2.42591551e+08 -2.05802989e+07  8.33426686e+09]\n",
      " [-2.10291079e+11  1.16380077e+10  4.90254027e+10]]\n",
      "1.2193331502377338\n",
      "[[[ 7.30635931e+05  0.00000000e+00  0.00000000e+00]\n",
      "  [ 0.00000000e+00  7.30635931e+05  0.00000000e+00]\n",
      "  [ 0.00000000e+00  0.00000000e+00  7.30635931e+05]]\n",
      "\n",
      " [[ 7.30633849e+05  1.61836406e+01  1.74424067e+03]\n",
      "  [-1.60962639e+01  7.30635930e+05 -3.66199722e+01]\n",
      "  [-1.74424147e+03  3.65814413e+01  7.30633848e+05]]\n",
      "\n",
      " [[ 7.30632563e+05  2.30162704e+01  2.21835840e+03]\n",
      "  [-2.29051613e+01  7.30635930e+05 -3.66295546e+01]\n",
      "  [-2.21835955e+03  3.65598411e+01  7.30632562e+05]]\n",
      "\n",
      " [[ 7.23140497e+05 -7.25341348e+04  7.50698596e+04]\n",
      "  [ 7.42465853e+04  7.26737069e+05 -1.30207805e+04]\n",
      "  [-7.33766249e+04  2.05157367e+04  7.26652488e+05]]] [[-2.13379136e+08 -2.11977420e+07  8.33306970e+09]\n",
      " [-2.14479680e+08 -2.11517981e+07  8.33554818e+09]\n",
      " [-2.56010855e+08 -2.04852196e+07  8.33406509e+09]\n",
      " [-2.12482016e+11  1.53705807e+10  5.35345762e+10]]\n",
      "1.258791317612285\n",
      "[[[ 7.30635931e+05  0.00000000e+00  0.00000000e+00]\n",
      "  [ 0.00000000e+00  7.30635931e+05  0.00000000e+00]\n",
      "  [ 0.00000000e+00  0.00000000e+00  7.30635931e+05]]\n",
      "\n",
      " [[ 7.30633551e+05  1.68172560e+01  1.86479990e+03]\n",
      "  [-1.67127845e+01  7.30635930e+05 -4.09536584e+01]\n",
      "  [-1.86480084e+03  4.09108690e+01  7.30633550e+05]]\n",
      "\n",
      " [[ 7.30631984e+05  2.44825127e+01  2.40153058e+03]\n",
      "  [-2.43479957e+01  7.30635929e+05 -4.09651458e+01]\n",
      "  [-2.40153195e+03  4.08848949e+01  7.30631983e+05]]\n",
      "\n",
      " [[ 7.23231745e+05 -7.20230705e+04  7.46818875e+04]\n",
      "  [ 7.39015365e+04  7.26737980e+05 -1.48099692e+04]\n",
      "  [-7.28235532e+04  2.22137256e+04  7.26658203e+05]]] [[-2.13305184e+08 -2.10532860e+07  8.33304973e+09]\n",
      " [-2.16033115e+08 -2.09699309e+07  8.33567232e+09]\n",
      " [-2.65529882e+08 -2.01559266e+07  8.33390649e+09]\n",
      " [-2.08665583e+11  1.79266206e+10  5.53469175e+10]]\n",
      "1.4560821544850409\n",
      "[[[ 7.30635931e+05  0.00000000e+00  0.00000000e+00]\n",
      "  [ 0.00000000e+00  7.30635931e+05  0.00000000e+00]\n",
      "  [ 0.00000000e+00  0.00000000e+00  7.30635931e+05]]\n",
      "\n",
      " [[ 7.30631713e+05  2.07048208e+01  2.48264316e+03]\n",
      "  [-2.04782193e+01  7.30635928e+05 -6.67230545e+01]\n",
      "  [-2.48264504e+03  6.66530859e+01  7.30631710e+05]]\n",
      "\n",
      " [[ 7.30628131e+05  3.29586529e+01  3.37598211e+03]\n",
      "  [-3.26505882e+01  7.30635927e+05 -6.67473160e+01]\n",
      "  [-3.37598510e+03  6.65957378e+01  7.30628128e+05]]\n",
      "\n",
      " [[ 7.23789759e+05 -6.89209830e+04  7.21605563e+04]\n",
      "  [ 7.15380459e+04  7.26747867e+05 -2.34245366e+04]\n",
      "  [-6.95669158e+04  3.02704315e+04  7.26686321e+05]]] [[-2.13617232e+08 -2.03284440e+07  8.33307942e+09]\n",
      " [-2.27833236e+08 -1.99193018e+07  8.33639773e+09]\n",
      " [-3.32450637e+08 -1.79890119e+07  8.33270586e+09]\n",
      " [-1.87468930e+11  2.93304354e+10  6.25847889e+10]]\n",
      "1.4911560810401974\n",
      "[[[ 7.30635931e+05  0.00000000e+00  0.00000000e+00]\n",
      "  [ 0.00000000e+00  7.30635931e+05  0.00000000e+00]\n",
      "  [ 0.00000000e+00  0.00000000e+00  7.30635931e+05]]\n",
      "\n",
      " [[ 7.30631311e+05  2.21617724e+01  2.59819770e+03]\n",
      "  [-2.18962182e+01  7.30635927e+05 -7.47150622e+01]\n",
      "  [-2.59819996e+03  7.46367251e+01  7.30631307e+05]]\n",
      "\n",
      " [[ 7.30627138e+05  3.54874658e+01  3.58423895e+03]\n",
      "  [-3.51212202e+01  7.30635926e+05 -7.47441372e+01]\n",
      "  [-3.58424256e+03  7.45709456e+01  7.30627136e+05]]\n",
      "\n",
      " [[ 7.24505475e+05 -6.51474694e+04  6.83848523e+04]\n",
      "  [ 6.77680973e+04  7.27044677e+05 -2.53453303e+04]\n",
      "  [-6.57887967e+04  3.14755146e+04  7.26986925e+05]]] [[-2.14626128e+08 -1.94423300e+07  8.33323866e+09]\n",
      " [-2.31575237e+08 -1.89262881e+07  8.33668209e+09]\n",
      " [-3.51095976e+08 -1.66115951e+07  8.33250323e+09]\n",
      " [-1.66957412e+11  3.07499784e+10  5.95132669e+10]]\n",
      "1.5349984892341433\n",
      "[[[ 7.30635931e+05  0.00000000e+00  0.00000000e+00]\n",
      "  [ 0.00000000e+00  7.30635931e+05  0.00000000e+00]\n",
      "  [ 0.00000000e+00  0.00000000e+00  7.30635931e+05]]\n",
      "\n",
      " [[ 7.30630746e+05  2.29296536e+01  2.75239886e+03]\n",
      "  [-2.26242415e+01  7.30635926e+05 -8.11155130e+01]\n",
      "  [-2.75240139e+03  8.10297090e+01  7.30630742e+05]]\n",
      "\n",
      " [[ 7.30625884e+05  3.74521456e+01  3.83143511e+03]\n",
      "  [-3.70271176e+01  7.30635925e+05 -8.11477938e+01]\n",
      "  [-3.83143924e+03  8.09525088e+01  7.30625880e+05]]\n",
      "\n",
      " [[ 7.24915157e+05 -6.28242883e+04  6.61814744e+04]\n",
      "  [ 6.55866218e+04  7.27141808e+05 -2.81433685e+04]\n",
      "  [-6.34450455e+04  3.38638885e+04  7.27087909e+05]]] [[-2.14640032e+08 -1.87597340e+07  8.33321766e+09]\n",
      " [-2.35523772e+08 -1.81151296e+07  8.33682157e+09]\n",
      " [-3.73598424e+08 -1.54145169e+07  8.33200663e+09]\n",
      " [-1.54340135e+11  3.33523301e+10  5.96204138e+10]]\n",
      "1.5349984892341433\n",
      "[[[ 7.30635931e+05  0.00000000e+00  0.00000000e+00]\n",
      "  [ 0.00000000e+00  7.30635931e+05  0.00000000e+00]\n",
      "  [ 0.00000000e+00  0.00000000e+00  7.30635931e+05]]\n",
      "\n",
      " [[ 7.30630726e+05  2.19563965e+01  2.75773416e+03]\n",
      "  [-2.16634901e+01  7.30635926e+05 -7.76436687e+01]\n",
      "  [-2.75773647e+03  7.75613482e+01  7.30630722e+05]]\n",
      "\n",
      " [[ 7.30625975e+05  3.63301425e+01  3.81408258e+03]\n",
      "  [-3.59251593e+01  7.30635926e+05 -7.76733861e+01]\n",
      "  [-3.81408641e+03  7.74847903e+01  7.30625972e+05]]\n",
      "\n",
      " [[ 7.23859871e+05 -6.84077509e+04  7.19453317e+04]\n",
      "  [ 7.13914911e+04  7.26623545e+05 -2.73923681e+04]\n",
      "  [-6.89855502e+04  3.41682081e+04  7.26568917e+05]]] [[-2.13245984e+08 -2.01457580e+07  8.33300109e+09]\n",
      " [-2.34272224e+08 -1.95259099e+07  8.33660637e+09]\n",
      " [-3.70570708e+08 -1.69623196e+07  8.33182049e+09]\n",
      " [-1.82960589e+11  3.43886394e+10  6.70096250e+10]]\n",
      "1.2034319638596762\n",
      "[[[ 7.30635931e+05  0.00000000e+00  0.00000000e+00]\n",
      "  [ 0.00000000e+00  7.30635931e+05  0.00000000e+00]\n",
      "  [ 0.00000000e+00  0.00000000e+00  7.30635931e+05]]\n",
      "\n",
      " [[ 7.30633948e+05  1.59558221e+01  1.70233281e+03]\n",
      "  [-1.58734265e+01  7.30635930e+05 -3.53824014e+01]\n",
      "  [-1.70233358e+03  3.53453213e+01  7.30633947e+05]]\n",
      "\n",
      " [[ 7.30632743e+05  2.25347113e+01  2.15808540e+03]\n",
      "  [-2.24302730e+01  7.30635930e+05 -3.53915042e+01]\n",
      "  [-2.15808649e+03  3.53250973e+01  7.30632743e+05]]\n",
      "\n",
      " [[ 7.23169633e+05 -7.24170988e+04  7.49019955e+04]\n",
      "  [ 7.40719227e+04  7.26764001e+05 -1.25019989e+04]\n",
      "  [-7.32659225e+04  1.99678119e+04  7.26678921e+05]]] [[-2.13430512e+08 -2.11681740e+07  8.33307840e+09]\n",
      " [-2.14012331e+08 -2.11334690e+07  8.33550611e+09]\n",
      " [-2.53108234e+08 -2.05082790e+07  8.33411266e+09]\n",
      " [-2.12043197e+11  1.46167317e+10  5.26224003e+10]]\n",
      "1.2349395380451986\n",
      "[[[ 7.30635931e+05  0.00000000e+00  0.00000000e+00]\n",
      "  [ 0.00000000e+00  7.30635931e+05  0.00000000e+00]\n",
      "  [ 0.00000000e+00  0.00000000e+00  7.30635931e+05]]\n",
      "\n",
      " [[ 7.30633723e+05  1.64507800e+01  1.79593460e+03]\n",
      "  [-1.63558513e+01  7.30635930e+05 -3.86397143e+01]\n",
      "  [-1.79593547e+03  3.85993941e+01  7.30633723e+05]]\n",
      "\n",
      " [[ 7.30632314e+05  2.36618690e+01  2.29894229e+03]\n",
      "  [-2.35403728e+01  7.30635929e+05 -3.86502243e+01]\n",
      "  [-2.29894354e+03  3.85759632e+01  7.30632313e+05]]\n",
      "\n",
      " [[ 7.23216188e+05 -7.21379660e+04  7.47216397e+04]\n",
      "  [ 7.39218878e+04  7.26754840e+05 -1.38499364e+04]\n",
      "  [-7.29572757e+04  2.12692289e+04  7.26673048e+05]]] [[-2.13362720e+08 -2.10879380e+07  8.33306202e+09]\n",
      " [-2.15136491e+08 -2.10266796e+07  8.33560268e+09]\n",
      " [-2.60100580e+08 -2.02944585e+07  8.33400022e+09]\n",
      " [-2.09782210e+11  1.65557253e+10  5.41486104e+10]]\n",
      "1.392477408972811\n",
      "[[[ 7.30635931e+05  0.00000000e+00  0.00000000e+00]\n",
      "  [ 0.00000000e+00  7.30635931e+05  0.00000000e+00]\n",
      "  [ 0.00000000e+00  0.00000000e+00  7.30635931e+05]]\n",
      "\n",
      " [[ 7.30632392e+05  1.93074099e+01  2.27403463e+03]\n",
      "  [-1.91293997e+01  7.30635928e+05 -5.72235354e+01]\n",
      "  [-2.27403614e+03  5.71637198e+01  7.30632390e+05]]\n",
      "\n",
      " [[ 7.30629613e+05  2.99279184e+01  3.03821607e+03]\n",
      "  [-2.96901411e+01  7.30635928e+05 -5.72428464e+01]\n",
      "  [-3.03821840e+03  5.71188904e+01  7.30629612e+05]]\n",
      "\n",
      " [[ 7.23527882e+05 -7.03441024e+04  7.34028210e+04]\n",
      "  [ 7.27331974e+04  7.26717839e+05 -2.04921591e+04]\n",
      "  [-7.10362504e+04  2.75998887e+04  7.26650508e+05]]] [[-2.13387328e+08 -2.06574000e+07  8.33304870e+09]\n",
      " [-2.23135434e+08 -2.03862912e+07  8.33613966e+09]\n",
      " [-3.06163365e+08 -1.89126042e+07  8.33319221e+09]\n",
      " [-1.96552452e+11  2.56799185e+10  6.07790473e+10]]\n",
      "1.420484141582164\n",
      "[[[ 7.30635931e+05  0.00000000e+00  0.00000000e+00]\n",
      "  [ 0.00000000e+00  7.30635931e+05  0.00000000e+00]\n",
      "  [ 0.00000000e+00  0.00000000e+00  7.30635931e+05]]\n",
      "\n",
      " [[ 7.30632108e+05  2.02083804e+01  2.36330007e+03]\n",
      "  [-2.00066772e+01  7.30635928e+05 -6.23907149e+01]\n",
      "  [-2.36330179e+03  6.23256753e+01  7.30632106e+05]]\n",
      "\n",
      " [[ 7.30628962e+05  3.15892654e+01  3.19090058e+03]\n",
      "  [-3.13169881e+01  7.30635928e+05 -6.24129969e+01]\n",
      "  [-3.19090326e+03  6.22756312e+01  7.30628960e+05]]\n",
      "\n",
      " [[ 7.23864964e+05 -6.86079053e+04  7.17030919e+04]\n",
      "  [ 7.10522264e+04  7.26845333e+05 -2.18244636e+04]\n",
      "  [-6.92817377e+04  2.85951293e+04  7.26781413e+05]]] [[-2.13861424e+08 -2.02650000e+07  8.33312346e+09]\n",
      " [-2.25447762e+08 -1.99323525e+07  8.33631352e+09]\n",
      " [-3.18026309e+08 -1.82337586e+07  8.33304565e+09]\n",
      " [-1.86491144e+11  2.71330320e+10  5.99942642e+10]]\n",
      "1.4554925573438557\n",
      "[[[ 7.30635931e+05  0.00000000e+00  0.00000000e+00]\n",
      "  [ 0.00000000e+00  7.30635931e+05  0.00000000e+00]\n",
      "  [ 0.00000000e+00  0.00000000e+00  7.30635931e+05]]\n",
      "\n",
      " [[ 7.30631721e+05  2.08242324e+01  2.48008337e+03]\n",
      "  [-2.05966276e+01  7.30635928e+05 -6.70876255e+01]\n",
      "  [-2.48008527e+03  6.70173255e+01  7.30631719e+05]]\n",
      "\n",
      " [[ 7.30628135e+05  3.30795485e+01  3.37508932e+03]\n",
      "  [-3.27698809e+01  7.30635927e+05 -6.71121946e+01]\n",
      "  [-3.37509234e+03  6.69601018e+01  7.30628132e+05]]\n",
      "\n",
      " [[ 7.24084439e+05 -6.74143528e+04  7.06108661e+04]\n",
      "  [ 6.99919525e+04  7.26887645e+05 -2.37558840e+04]\n",
      "  [-6.80567113e+04  3.03071028e+04  7.26827784e+05]]] [[-2.13853248e+08 -1.99227460e+07  8.33310912e+09]\n",
      " [-2.28010718e+08 -1.95125336e+07  8.33642538e+09]\n",
      " [-3.32613615e+08 -1.75713100e+07  8.33273784e+09]\n",
      " [-1.79295468e+11  2.93777689e+10  6.07722214e+10]]\n",
      "1.4554925573438557\n",
      "[[[ 7.30635931e+05  0.00000000e+00  0.00000000e+00]\n",
      "  [ 0.00000000e+00  7.30635931e+05  0.00000000e+00]\n",
      "  [ 0.00000000e+00  0.00000000e+00  7.30635931e+05]]\n",
      "\n",
      " [[ 7.30631713e+05  2.03273411e+01  2.48263216e+03]\n",
      "  [-2.01057095e+01  7.30635928e+05 -6.52600827e+01]\n",
      "  [-2.48263397e+03  6.51913887e+01  7.30631710e+05]]\n",
      "\n",
      " [[ 7.30628183e+05  3.24920713e+01  3.36470999e+03]\n",
      "  [-3.21917715e+01  7.30635927e+05 -6.52832229e+01]\n",
      "  [-3.36471288e+03  6.51342817e+01  7.30628180e+05]]\n",
      "\n",
      " [[ 7.23631479e+05 -6.97089455e+04  7.29863651e+04]\n",
      "  [ 7.23748318e+04  7.26661364e+05 -2.35373980e+04]\n",
      "  [-7.03436585e+04  3.05415831e+04  7.26600196e+05]]] [[-2.13185392e+08 -2.04630600e+07  8.33300211e+09]\n",
      " [-2.27401278e+08 -2.00627992e+07  8.33631938e+09]\n",
      " [-3.31098378e+08 -1.81849744e+07  8.33264630e+09]\n",
      " [-1.91662955e+11  2.96692741e+10  6.39338677e+10]]\n",
      "1.196212517899245\n",
      "[[[ 7.30635931e+05  0.00000000e+00  0.00000000e+00]\n",
      "  [ 0.00000000e+00  7.30635931e+05  0.00000000e+00]\n",
      "  [ 0.00000000e+00  0.00000000e+00  7.30635931e+05]]\n",
      "\n",
      " [[ 7.30633992e+05  1.58523880e+01  1.68330583e+03]\n",
      "  [-1.57722072e+01  7.30635930e+05 -3.48205202e+01]\n",
      "  [-1.68330659e+03  3.47840904e+01  7.30633991e+05]]\n",
      "\n",
      " [[ 7.30632824e+05  2.23160741e+01  2.13072029e+03]\n",
      "  [-2.22145971e+01  7.30635930e+05 -3.48294051e+01]\n",
      "  [-2.13072136e+03  3.47644735e+01  7.30632823e+05]]\n",
      "\n",
      " [[ 7.23182842e+05 -7.23639585e+04  7.48257806e+04]\n",
      "  [ 7.39926865e+04  7.26776087e+05 -1.22664516e+04]\n",
      "  [-7.32155876e+04  1.97190519e+04  7.26690787e+05]]] [[-2.13453824e+08 -2.11547700e+07  8.33308198e+09]\n",
      " [-2.13808136e+08 -2.11249322e+07  8.33548651e+09]\n",
      " [-2.51823482e+08 -2.05181000e+07  8.33413277e+09]\n",
      " [-2.11843498e+11  1.42747549e+10  5.22088476e+10]]\n",
      "1.224110369104552\n",
      "[[[ 7.30635931e+05  0.00000000e+00  0.00000000e+00]\n",
      "  [ 0.00000000e+00  7.30635931e+05  0.00000000e+00]\n",
      "  [ 0.00000000e+00  0.00000000e+00  7.30635931e+05]]\n",
      "\n",
      " [[ 7.30633799e+05  1.62862231e+01  1.76511244e+03]\n",
      "  [-1.61953786e+01  7.30635930e+05 -3.76229817e+01]\n",
      "  [-1.76511328e+03  3.75837461e+01  7.30633798e+05]]\n",
      "\n",
      " [[ 7.30632456e+05  2.32965513e+01  2.25326595e+03]\n",
      "  [-2.31806019e+01  7.30635930e+05 -3.76330667e+01]\n",
      "  [-2.25326715e+03  3.75613992e+01  7.30632455e+05]]\n",
      "\n",
      " [[ 7.23213490e+05 -7.21686459e+04  7.47181244e+04]\n",
      "  [ 7.39101935e+04  7.26763957e+05 -1.34275102e+04]\n",
      "  [-7.29958550e+04  2.08494914e+04  7.26681338e+05]]] [[-2.13390288e+08 -2.10978260e+07  8.33306765e+09]\n",
      " [-2.14758208e+08 -2.10457334e+07  8.33557132e+09]\n",
      " [-2.57778692e+08 -2.03482533e+07  8.33403901e+09]\n",
      " [-2.10158875e+11  1.59489923e+10  5.35905890e+10]]\n",
      "1.3635996251310865\n",
      "[[[ 7.30635931e+05  0.00000000e+00  0.00000000e+00]\n",
      "  [ 0.00000000e+00  7.30635931e+05  0.00000000e+00]\n",
      "  [ 0.00000000e+00  0.00000000e+00  7.30635931e+05]]\n",
      "\n",
      " [[ 7.30632672e+05  1.87266490e+01  2.18222550e+03]\n",
      "  [-1.85674795e+01  7.30635929e+05 -5.33196043e+01]\n",
      "  [-2.18222686e+03  5.32639101e+01  7.30632670e+05]]\n",
      "\n",
      " [[ 7.30630205e+05  2.86564572e+01  2.89253681e+03]\n",
      "  [-2.84455227e+01  7.30635928e+05 -5.33369586e+01]\n",
      "  [-2.89253889e+03  5.32239268e+01  7.30630203e+05]]\n",
      "\n",
      " [[ 7.23433061e+05 -7.08628867e+04  7.38371253e+04]\n",
      "  [ 7.31433434e+04  7.26712060e+05 -1.91962842e+04]\n",
      "  [-7.15787755e+04  2.63988124e+04  7.26641896e+05]]] [[-2.13331104e+08 -2.07797300e+07  8.33304307e+09]\n",
      " [-2.21303189e+08 -2.05596708e+07  8.33603163e+09]\n",
      " [-2.95841006e+08 -1.92588972e+07  8.33338058e+09]\n",
      " [-2.00035880e+11  2.39811106e+10  5.97771117e+10]]\n",
      "1.3883977150913591\n",
      "[[[ 7.30635931e+05  0.00000000e+00  0.00000000e+00]\n",
      "  [ 0.00000000e+00  7.30635931e+05  0.00000000e+00]\n",
      "  [ 0.00000000e+00  0.00000000e+00  7.30635931e+05]]\n",
      "\n",
      " [[ 7.30632436e+05  1.94350351e+01  2.25993357e+03]\n",
      "  [-1.92574091e+01  7.30635928e+05 -5.74561782e+01]\n",
      "  [-2.25993509e+03  5.73963381e+01  7.30632434e+05]]\n",
      "\n",
      " [[ 7.30629679e+05  3.00005210e+01  3.02235670e+03]\n",
      "  [-2.97630204e+01  7.30635928e+05 -5.74758282e+01]\n",
      "  [-3.02235905e+03  5.73522184e+01  7.30629677e+05]]\n",
      "\n",
      " [[ 7.23656736e+05 -6.97131402e+04  7.27314896e+04]\n",
      "  [ 7.20566361e+04  7.26790246e+05 -2.03136203e+04]\n",
      "  [-7.04104586e+04  2.72924911e+04  7.26723022e+05]]] [[-2.13641328e+08 -2.05242840e+07  8.33309171e+09]\n",
      " [-2.23109019e+08 -2.02575559e+07  8.33616763e+09]\n",
      " [-3.05271338e+08 -1.87846815e+07  8.33325779e+09]\n",
      " [-1.93164180e+11  2.53242477e+10  5.95973511e+10]]\n",
      "1.4193953275417002\n",
      "[[[ 7.30635931e+05  0.00000000e+00  0.00000000e+00]\n",
      "  [ 0.00000000e+00  7.30635931e+05  0.00000000e+00]\n",
      "  [ 0.00000000e+00  0.00000000e+00  7.30635931e+05]]\n",
      "\n",
      " [[ 7.30632116e+05  1.99744116e+01  2.36082549e+03]\n",
      "  [-1.97760267e+01  7.30635928e+05 -6.14287428e+01]\n",
      "  [-2.36082716e+03  6.13645219e+01  7.30632114e+05]]\n",
      "\n",
      " [[ 7.30629009e+05  3.12814771e+01  3.18014429e+03]\n",
      "  [-3.10143040e+01  7.30635928e+05 -6.14502855e+01]\n",
      "  [-3.18014691e+03  6.13147114e+01  7.30629007e+05]]\n",
      "\n",
      " [[ 7.23813748e+05 -6.88640999e+04  7.19740053e+04]\n",
      "  [ 7.13296101e+04  7.26815202e+05 -2.19228839e+04]\n",
      "  [-6.95313485e+04  2.87447710e+04  7.26751672e+05]]] [[-2.13625504e+08 -2.02833700e+07  8.33307942e+09]\n",
      " [-2.25159466e+08 -1.99567937e+07  8.33626627e+09]\n",
      " [-3.16966968e+08 -1.82924280e+07  8.33301743e+09]\n",
      " [-1.87816155e+11  2.73177361e+10  6.05009239e+10]]\n",
      "1.4193953275417002\n",
      "[[[ 7.30635931e+05  0.00000000e+00  0.00000000e+00]\n",
      "  [ 0.00000000e+00  7.30635931e+05  0.00000000e+00]\n",
      "  [ 0.00000000e+00  0.00000000e+00  7.30635931e+05]]\n",
      "\n",
      " [[ 7.30632111e+05  1.96294675e+01  2.36254222e+03]\n",
      "  [-1.94351009e+01  7.30635928e+05 -6.01409035e+01]\n",
      "  [-2.36254383e+03  6.00777448e+01  7.30632109e+05]]\n",
      "\n",
      " [[ 7.30629043e+05  3.08688169e+01  3.17244155e+03]\n",
      "  [-3.06078826e+01  7.30635928e+05 -6.01614432e+01]\n",
      "  [-3.17244408e+03  6.00279758e+01  7.30629041e+05]]\n",
      "\n",
      " [[ 7.23530466e+05 -7.02782064e+04  7.34404670e+04]\n",
      "  [ 7.27991165e+04  7.26672302e+05 -2.18292824e+04]\n",
      "  [-7.09423507e+04  2.89344544e+04  7.26607765e+05]]] [[-2.13176048e+08 -2.06056140e+07  8.33300621e+09]\n",
      " [-2.24746519e+08 -2.02850850e+07  8.33619385e+09]\n",
      " [-3.15929807e+08 -1.86627442e+07  8.33295472e+09]\n",
      " [-1.95561803e+11  2.74894135e+10  6.24989781e+10]]\n",
      "1.4724254485070245\n",
      "[[[ 7.30635931e+05  0.00000000e+00  0.00000000e+00]\n",
      "  [ 0.00000000e+00  7.30635931e+05  0.00000000e+00]\n",
      "  [ 0.00000000e+00  0.00000000e+00  7.30635931e+05]]\n",
      "\n",
      " [[ 7.30631527e+05  2.06360782e+01  2.53674682e+03]\n",
      "  [-2.04020673e+01  7.30635927e+05 -6.74354285e+01]\n",
      "  [-2.53674872e+03  6.73641866e+01  7.30631524e+05]]\n",
      "\n",
      " [[ 7.30627787e+05  3.32002109e+01  3.44959182e+03]\n",
      "  [-3.28820765e+01  7.30635927e+05 -6.74596083e+01]\n",
      "  [-3.44959487e+03  6.73036084e+01  7.30627784e+05]]\n",
      "\n",
      " [[ 7.23673244e+05 -6.94694919e+04  7.28003357e+04]\n",
      "  [ 7.22014692e+04  7.26653047e+05 -2.43138092e+04]\n",
      "  [-7.00917045e+04  3.12762395e+04  7.26593293e+05]]] [[-2.13180432e+08 -2.04014040e+07  8.33299853e+09]\n",
      " [-2.28653453e+08 -1.99632586e+07  8.33637341e+09]\n",
      " [-3.38110655e+08 -1.79698604e+07  8.33249896e+09]\n",
      " [-1.90012048e+11  3.06475099e+10  6.46037329e+10]]\n",
      "1.4989405089896868\n",
      "[[[ 7.30635931e+05  0.00000000e+00  0.00000000e+00]\n",
      "  [ 0.00000000e+00  7.30635931e+05  0.00000000e+00]\n",
      "  [ 0.00000000e+00  0.00000000e+00  7.30635931e+05]]\n",
      "\n",
      " [[ 7.30631193e+05  2.12040357e+01  2.63112836e+03]\n",
      "  [-2.09454744e+01  7.30635927e+05 -7.18373702e+01]\n",
      "  [-2.63113043e+03  7.17614766e+01  7.30631190e+05]]\n",
      "\n",
      " [[ 7.30627034e+05  3.45439519e+01  3.60555917e+03]\n",
      "  [-3.41897322e+01  7.30635927e+05 -7.18639314e+01]\n",
      "  [-3.60556255e+03  7.16943360e+01  7.30627031e+05]]\n",
      "\n",
      " [[ 7.23763028e+05 -6.89665678e+04  7.23847753e+04]\n",
      "  [ 7.18059928e+04  7.26646523e+05 -2.56435980e+04]\n"
     ]
    },
    {
     "name": "stdout",
     "output_type": "stream",
     "text": [
      "  [-6.95689770e+04  3.25162612e+04  7.26589095e+05]]] [[-2.13215104e+08 -2.02794780e+07  8.33300058e+09]\n",
      " [-2.30977390e+08 -1.97672385e+07  8.33647482e+09]\n",
      " [-3.51557974e+08 -1.75373179e+07  8.33222208e+09]\n",
      " [-1.86708443e+11  3.22724261e+10  6.55892580e+10]]\n",
      "1.631515811402998\n",
      "[[[ 7.30635931e+05  0.00000000e+00  0.00000000e+00]\n",
      "  [ 0.00000000e+00  7.30635931e+05  0.00000000e+00]\n",
      "  [ 0.00000000e+00  0.00000000e+00  7.30635931e+05]]\n",
      "\n",
      " [[ 7.30629309e+05  2.41302711e+01  3.11066397e+03]\n",
      "  [-2.37261421e+01  7.30635924e+05 -9.49726891e+01]\n",
      "  [-3.11066708e+03  9.48708149e+01  7.30629303e+05]]\n",
      "\n",
      " [[ 7.30622612e+05  4.15445295e+01  4.41144922e+03]\n",
      "  [-4.09716080e+01  7.30635924e+05 -9.50124128e+01]\n",
      "  [-4.41145458e+03  9.47633015e+01  7.30622607e+05]]\n",
      "\n",
      " [[ 7.24018834e+05 -6.74026147e+04  7.12915072e+04]\n",
      "  [ 7.07815595e+04  7.26496057e+05 -3.19736316e+04]\n",
      "  [-6.79379298e+04  3.85905406e+04  7.26446193e+05]]] [[-2.13366704e+08 -1.99559400e+07  8.33301594e+09]\n",
      " [-2.44659519e+08 -1.89711058e+07  8.33697385e+09]\n",
      " [-4.31717344e+08 -1.52912444e+07  8.33050704e+09]\n",
      " [-1.75769008e+11  3.98862470e+10  7.12962991e+10]]\n",
      "1.6550847540542533\n",
      "[[[ 7.30635931e+05  0.00000000e+00  0.00000000e+00]\n",
      "  [ 0.00000000e+00  7.30635931e+05  0.00000000e+00]\n",
      "  [ 0.00000000e+00  0.00000000e+00  7.30635931e+05]]\n",
      "\n",
      " [[ 7.30628926e+05  2.47340513e+01  3.19918253e+03]\n",
      "  [-2.42969464e+01  7.30635924e+05 -9.98800591e+01]\n",
      "  [-3.19918588e+03  9.97727143e+01  7.30628920e+05]]\n",
      "\n",
      " [[ 7.30621637e+05  4.29951280e+01  4.57010755e+03]\n",
      "  [-4.23709397e+01  7.30635923e+05 -9.99231886e+01]\n",
      "  [-4.57011338e+03  9.96562046e+01  7.30621631e+05]]\n",
      "\n",
      " [[ 7.23870018e+05 -6.81172715e+04  7.21186392e+04]\n",
      "  [ 7.16126489e+04  7.26381754e+05 -3.27114639e+04]\n",
      "  [-6.86490301e+04  3.94771918e+04  7.26331691e+05]]] [[-2.13394464e+08 -2.02077460e+07  8.33303027e+09]\n",
      " [-2.47531890e+08 -1.91121066e+07  8.33707374e+09]\n",
      " [-4.49609820e+08 -1.50864599e+07  8.33012653e+09]\n",
      " [-1.79187885e+11  4.11291367e+10  7.34181009e+10]]\n",
      "1.6845459323683223\n",
      "[[[ 7.30635931e+05  0.00000000e+00  0.00000000e+00]\n",
      "  [ 0.00000000e+00  7.30635931e+05  0.00000000e+00]\n",
      "  [ 0.00000000e+00  0.00000000e+00  7.30635931e+05]]\n",
      "\n",
      " [[ 7.30628420e+05  2.54506638e+01  3.31272605e+03]\n",
      "  [-2.49715305e+01  7.30635923e+05 -1.05731459e+02]\n",
      "  [-3.31272970e+03  1.05617150e+02  7.30628413e+05]]\n",
      "\n",
      " [[ 7.30620389e+05  4.47205783e+01  4.76538808e+03]\n",
      "  [-4.40316046e+01  7.30635922e+05 -1.05777939e+02]\n",
      "  [-4.76539450e+03  1.05488504e+02  7.30620383e+05]]\n",
      "\n",
      " [[ 7.23970709e+05 -6.75420031e+04  7.16474253e+04]\n",
      "  [ 7.11535936e+04  7.26356187e+05 -3.42449963e+04]\n",
      "  [-6.80620442e+04  4.09100412e+04  7.26307642e+05]]] [[-2.13454976e+08 -2.00714440e+07  8.33303642e+09]\n",
      " [-2.51399541e+08 -1.88300642e+07  8.33718847e+09]\n",
      " [-4.72613110e+08 -1.43692513e+07  8.32962436e+09]\n",
      " [-1.75557068e+11  4.28115032e+10  7.44045235e+10]]\n",
      "1.6845459323683223\n",
      "[[[ 7.30635931e+05  0.00000000e+00  0.00000000e+00]\n",
      "  [ 0.00000000e+00  7.30635931e+05  0.00000000e+00]\n",
      "  [ 0.00000000e+00  0.00000000e+00  7.30635931e+05]]\n",
      "\n",
      " [[ 7.30628413e+05  2.53698658e+01  3.31431484e+03]\n",
      "  [-2.48928401e+01  7.30635923e+05 -1.05216027e+02]\n",
      "  [-3.31431846e+03  1.05102025e+02  7.30628406e+05]]\n",
      "\n",
      " [[ 7.30620429e+05  4.45721595e+01  4.75921951e+03]\n",
      "  [-4.38874375e+01  7.30635922e+05 -1.05261474e+02]\n",
      "  [-4.75922588e+03  1.04973366e+02  7.30620423e+05]]\n",
      "\n",
      " [[ 7.24237128e+05 -6.61589473e+04  7.02313257e+04]\n",
      "  [ 6.97412690e+04  7.26464713e+05 -3.48430803e+04]\n",
      "  [-6.66753389e+04  4.12417087e+04  7.26417500e+05]]] [[-2.13457872e+08 -1.96428060e+07  8.33302106e+09]\n",
      " [-2.51456992e+08 -1.84062764e+07  8.33717490e+09]\n",
      " [-4.71875103e+08 -1.39773314e+07  8.32962591e+09]\n",
      " [-1.68242173e+11  4.28969554e+10  7.28475461e+10]]\n",
      "1.7475101615706845\n",
      "[[[ 7.30635931e+05  0.00000000e+00  0.00000000e+00]\n",
      "  [ 0.00000000e+00  7.30635931e+05  0.00000000e+00]\n",
      "  [ 0.00000000e+00  0.00000000e+00  7.30635931e+05]]\n",
      "\n",
      " [[ 7.30627260e+05  2.68933576e+01  3.55950490e+03]\n",
      "  [-2.63188461e+01  7.30635921e+05 -1.17990202e+02]\n",
      "  [-3.55950920e+03  1.17860582e+02  7.30627251e+05]]\n",
      "\n",
      " [[ 7.30617527e+05  4.83230791e+01  5.18557404e+03]\n",
      "  [-4.74864816e+01  7.30635920e+05 -1.18043172e+02]\n",
      "  [-5.18558176e+03  1.17703171e+02  7.30617519e+05]]\n",
      "\n",
      " [[ 7.24363391e+05 -6.53616370e+04  6.96735070e+04]\n",
      "  [ 6.91970668e+04  7.26358274e+05 -3.80037724e+04]\n",
      "  [-6.58658266e+04  4.42761468e+04  7.26312728e+05]]] [[-2.13558064e+08 -1.94804360e+07  8.33303386e+09]\n",
      " [-2.60390822e+08 -1.78969252e+07  8.33741680e+09]\n",
      " [-5.25653505e+08 -1.24424674e+07  8.32844694e+09]\n",
      " [-1.63017795e+11  4.63284255e+10  7.53762581e+10]]\n",
      "1.7789922761718655\n",
      "[[[ 7.30635931e+05  0.00000000e+00  0.00000000e+00]\n",
      "  [ 0.00000000e+00  7.30635931e+05  0.00000000e+00]\n",
      "  [ 0.00000000e+00  0.00000000e+00  7.30635931e+05]]\n",
      "\n",
      " [[ 7.30626600e+05  2.77348831e+01  3.69236013e+03]\n",
      "  [-2.71010631e+01  7.30635920e+05 -1.25487282e+02]\n",
      "  [-3.69236483e+03  1.25348721e+02  7.30626590e+05]]\n",
      "\n",
      " [[ 7.30615780e+05  5.04678373e+01  5.42616969e+03]\n",
      "  [-4.95368256e+01  7.30635918e+05 -1.25544944e+02]\n",
      "  [-5.42617827e+03  1.25173589e+02  7.30615771e+05]]\n",
      "\n",
      " [[ 7.24391705e+05 -6.51397135e+04  6.95869170e+04]\n",
      "  [ 6.91132391e+04  7.26281245e+05 -3.95951561e+04]\n",
      "  [-6.56420709e+04  4.58392182e+04  7.26236014e+05]]] [[-2.13612416e+08 -1.94583300e+07  8.33304307e+09]\n",
      " [-2.65578253e+08 -1.76606784e+07  8.33754725e+09]\n",
      " [-5.58214975e+08 -1.15619697e+07  8.32773536e+09]\n",
      " [-1.61317380e+11  4.81117079e+10  7.69126623e+10]]\n",
      "1.936402849177771\n",
      "[[[ 7.30635931e+05  0.00000000e+00  0.00000000e+00]\n",
      "  [ 0.00000000e+00  7.30635931e+05  0.00000000e+00]\n",
      "  [ 0.00000000e+00  0.00000000e+00  7.30635931e+05]]\n",
      "\n",
      " [[ 7.30622874e+05  3.19462280e+01  4.36793004e+03]\n",
      "  [-3.09657152e+01  7.30635912e+05 -1.64105562e+02]\n",
      "  [-4.36793710e+03  1.63917508e+02  7.30622856e+05]]\n",
      "\n",
      " [[ 7.30605487e+05  6.15108666e+01  6.66947492e+03]\n",
      "  [-6.00146175e+01  7.30635910e+05 -1.64186717e+02]\n",
      "  [-6.66948855e+03  1.63632043e+02  7.30605471e+05]]\n",
      "\n",
      " [[ 7.24368546e+05 -6.48840436e+04  7.00652090e+04]\n",
      "  [ 6.95908146e+04  7.25770460e+05 -4.73626653e+04]\n",
      "  [-6.53925925e+04  5.36298837e+04  7.25724816e+05]]] [[-2.13807456e+08 -1.96044760e+07  8.33308403e+09]\n",
      " [-2.95643838e+08 -1.64965245e+07  8.33817961e+09]\n",
      " [-7.51873123e+08 -6.49781229e+06  8.32356576e+09]\n",
      " [-1.57155558e+11  5.70945950e+10  8.56134001e+10]]\n",
      "1.9643869510454874\n",
      "[[[ 7.30635931e+05  0.00000000e+00  0.00000000e+00]\n",
      "  [ 0.00000000e+00  7.30635931e+05  0.00000000e+00]\n",
      "  [ 0.00000000e+00  0.00000000e+00  7.30635931e+05]]\n",
      "\n",
      " [[ 7.30622114e+05  3.26648429e+01  4.49320552e+03]\n",
      "  [-3.16103366e+01  7.30635910e+05 -1.71569337e+02]\n",
      "  [-4.49321307e+03  1.71371698e+02  7.30622095e+05]]\n",
      "\n",
      " [[ 7.30603213e+05  6.36399007e+01  6.91404906e+03]\n",
      "  [-6.20182953e+01  7.30635908e+05 -1.71654962e+02]\n",
      "  [-6.91406379e+03  1.71060392e+02  7.30603196e+05]]\n",
      "\n",
      " [[ 7.24184589e+05 -6.57673715e+04  7.11350632e+04]\n",
      "  [ 7.06587672e+04  7.25592488e+05 -4.84947853e+04]\n",
      "  [-6.62788276e+04  5.49459592e+04  7.25545948e+05]]] [[-2.13762448e+08 -1.99127400e+07  8.33308608e+09]\n",
      " [-3.01830262e+08 -1.65164599e+07  8.33828711e+09]\n",
      " [-7.94910286e+08 -5.63801017e+06  8.32265512e+09]\n",
      " [-1.61018358e+11  5.90609254e+10  8.85945541e+10]]\n",
      "1.9993670783801332\n",
      "[[[ 7.30635931e+05  0.00000000e+00  0.00000000e+00]\n",
      "  [ 0.00000000e+00  7.30635931e+05  0.00000000e+00]\n",
      "  [ 0.00000000e+00  0.00000000e+00  7.30635931e+05]]\n",
      "\n",
      " [[ 7.30621114e+05  3.36863364e+01  4.65299711e+03]\n",
      "  [-3.25328803e+01  7.30635908e+05 -1.81224631e+02]\n",
      "  [-4.65300531e+03  1.81013772e+02  7.30621092e+05]]\n",
      "\n",
      " [[ 7.30600298e+05  6.63506364e+01  7.21556366e+03]\n",
      "  [-6.45631565e+01  7.30635906e+05 -1.81315837e+02]\n",
      "  [-7.21557988e+03  1.80669386e+02  7.30600278e+05]]\n",
      "\n",
      " [[ 7.24150772e+05 -6.58539283e+04  7.13987619e+04]\n",
      "  [ 7.09251008e+04  7.25447947e+05 -5.02371365e+04]\n",
      "  [-6.63637940e+04  5.67221290e+04  7.25401482e+05]]] [[-2.13810272e+08 -1.99953700e+07  8.33309734e+09]\n",
      " [-3.10140734e+08 -1.62097272e+07  8.33843218e+09]\n",
      " [-8.50344476e+08 -4.17225189e+06  8.32150915e+09]\n",
      " [-1.60754775e+11  6.11572849e+10  9.07954568e+10]]\n",
      "1.9993670783801332\n",
      "[[[ 7.30635931e+05  0.00000000e+00  0.00000000e+00]\n",
      "  [ 0.00000000e+00  7.30635931e+05  0.00000000e+00]\n",
      "  [ 0.00000000e+00  0.00000000e+00  7.30635931e+05]]\n",
      "\n",
      " [[ 7.30621104e+05  3.37824106e+01  4.65448990e+03]\n",
      "  [-3.26284039e+01  7.30635908e+05 -1.81253329e+02]\n",
      "  [-4.65449814e+03  1.81041793e+02  7.30621083e+05]]\n",
      "\n",
      " [[ 7.30600384e+05  6.63442694e+01  7.20681407e+03]\n",
      "  [-6.45586704e+01  7.30635906e+05 -1.81344485e+02]\n",
      "  [-7.20683029e+03  1.80698872e+02  7.30600364e+05]]\n",
      "\n",
      " [[ 7.24384322e+05 -6.46449306e+04  7.01231071e+04]\n",
      "  [ 6.96480705e+04  7.25545555e+05 -5.06128214e+04]\n",
      "  [-6.51564539e+04  5.68642626e+04  7.25499797e+05]]] [[-2.13921968e+08 -1.96310460e+07  8.33310605e+09]\n",
      " [-3.10331271e+08 -1.58428504e+07  8.33844284e+09]\n",
      " [-8.48813569e+08 -3.82694219e+06  8.32155258e+09]\n",
      " [-1.54780734e+11  6.06558519e+10  8.89007121e+10]]\n",
      "2.123886333083946\n",
      "[[[ 7.30635931e+05  0.00000000e+00  0.00000000e+00]\n",
      "  [ 0.00000000e+00  7.30635931e+05  0.00000000e+00]\n",
      "  [ 0.00000000e+00  0.00000000e+00  7.30635931e+05]]\n",
      "\n",
      " [[ 7.30617213e+05  3.73894681e+01  5.22978709e+03]\n",
      "  [-3.58439851e+01  7.30635898e+05 -2.16042275e+02]\n",
      "  [-5.22979791e+03  2.15780174e+02  7.30617182e+05]]\n",
      "\n",
      " [[ 7.30588738e+05  7.61571211e+01  8.30386876e+03]\n",
      "  [-7.37052458e+01  7.30635895e+05 -2.16152726e+02]\n",
      "  [-8.30389088e+03  2.15301085e+02  7.30588710e+05]]\n",
      "\n",
      " [[ 7.24226457e+05 -6.51493668e+04  7.12773630e+04]\n",
      "  [ 7.08064184e+04  7.24975637e+05 -5.67947201e+04]\n",
      "  [-6.56608983e+04  6.32040278e+04  7.24929487e+05]]] [[-2.14062960e+08 -1.99837200e+07  8.33314394e+09]\n",
      " [-3.43150365e+08 -1.46166937e+07  8.33895422e+09]\n",
      " [-1.07140078e+09  2.08566484e+06  8.31712899e+09]\n",
      " [-1.54803927e+11  6.80792694e+10  9.68877428e+10]]\n",
      "2.1861459604358524\n",
      "[[[ 7.30635931e+05  0.00000000e+00  0.00000000e+00]\n",
      "  [ 0.00000000e+00  7.30635931e+05  0.00000000e+00]\n",
      "  [ 0.00000000e+00  0.00000000e+00  7.30635931e+05]]\n",
      "\n",
      " [[ 7.30614792e+05  3.94132458e+01  5.55767862e+03]\n",
      "  [-3.76075802e+01  7.30635891e+05 -2.37523192e+02]\n",
      "  [-5.55769113e+03  2.37230253e+02  7.30614754e+05]]\n",
      "\n",
      " [[ 7.30580856e+05  8.21395858e+01  8.97046661e+03]\n",
      "  [-7.92278590e+01  7.30635888e+05 -2.37643397e+02]\n",
      "  [-8.97049280e+03  2.36652754e+02  7.30580822e+05]]\n",
      "\n",
      " [[ 7.23938729e+05 -6.64417104e+04  7.29868473e+04]\n",
      "  [ 7.25300361e+04  7.24561690e+05 -5.98215205e+04]\n",
      "  [-6.69400822e+04  6.65185656e+04  7.24515817e+05]]] [[-2.14079712e+08 -2.04998100e+07  8.33316442e+09]\n",
      " [-3.63835666e+08 -1.40651039e+07  8.33924070e+09]\n",
      " [-1.22281720e+09  5.92337394e+06  8.31428775e+09]\n",
      " [-1.59733778e+11  7.26464972e+10  1.02993931e+11]]\n",
      "2.497444097195384\n",
      "[[[ 7.30635931e+05  0.00000000e+00  0.00000000e+00]\n",
      "  [ 0.00000000e+00  7.30635931e+05  0.00000000e+00]\n",
      "  [ 0.00000000e+00  0.00000000e+00  7.30635931e+05]]\n",
      "\n",
      " [[ 7.30600103e+05  4.92597349e+01  7.23537062e+03]\n",
      "  [-4.58299939e+01  7.30635847e+05 -3.46565504e+02]\n",
      "  [-7.23539315e+03  3.46094662e+02  7.30600022e+05]]\n",
      "\n",
      " [[ 7.30529434e+05  1.13208536e+02  1.24738219e+04]\n",
      "  [-1.07305705e+02  7.30635841e+05 -3.46665053e+02]\n",
      "  [-1.24738740e+04  3.44782541e+02  7.30529361e+05]]\n",
      "\n",
      " [[ 7.21997910e+05 -7.46348395e+04  8.35315609e+04]\n",
      "  [ 8.32684041e+04  7.22032693e+05 -7.45924001e+04]\n",
      "  [-7.49283244e+04  8.32303671e+04  7.22002296e+05]]] [[-2.13916128e+08 -2.36936420e+07  8.33324736e+09]\n",
      " [-4.92642321e+08 -1.03116949e+07  8.34073251e+09]\n",
      " [-2.22006885e+09  3.14054111e+07  8.29893228e+09]\n",
      " [-1.93199268e+11  9.77696326e+10  1.39850472e+11]]\n",
      "2.5527859881748567\n",
      "[[[ 7.30635931e+05  0.00000000e+00  0.00000000e+00]\n",
      "  [ 0.00000000e+00  7.30635931e+05  0.00000000e+00]\n",
      "  [ 0.00000000e+00  0.00000000e+00  7.30635931e+05]]\n",
      "\n",
      " [[ 7.30596974e+05  5.05564046e+01  7.54471339e+03]\n",
      "  [-4.67831845e+01  7.30635838e+05 -3.65642521e+02]\n",
      "  [-7.54473773e+03  3.65139932e+02  7.30596884e+05]]\n",
      "\n",
      " [[ 7.30517012e+05  1.19065687e+02  1.31811964e+04]\n",
      "  [-1.12486464e+02  7.30635831e+05 -3.65701359e+02]\n",
      "  [-1.31812542e+04  3.63612501e+02  7.30516931e+05]]\n",
      "\n",
      " [[ 7.21151654e+05 -7.80262869e+04  8.76416237e+04]\n",
      "  [ 8.73768690e+04  7.21316025e+05 -7.67941325e+04]\n",
      "  [-7.83226559e+04  8.62783552e+04  7.21283904e+05]]] [[-2.13612416e+08 -2.48851740e+07  8.33323661e+09]\n",
      " [-5.20359856e+08 -9.98924376e+06  8.34100257e+09]\n",
      " [-2.46227747e+09  3.67623623e+07  8.29600041e+09]\n",
      " [-2.09822926e+11  1.04107094e+11  1.51881924e+11]]\n",
      "2.621963351899197\n",
      "[[[ 7.30635931e+05  0.00000000e+00  0.00000000e+00]\n",
      "  [ 0.00000000e+00  7.30635931e+05  0.00000000e+00]\n",
      "  [ 0.00000000e+00  0.00000000e+00  7.30635931e+05]]\n",
      "\n",
      " [[ 7.30592646e+05  5.29857563e+01  7.95271856e+03]\n",
      "  [-4.87014146e+01  7.30635823e+05 -3.93877429e+02]\n",
      "  [-7.95274595e+03  3.93323996e+02  7.30592542e+05]]\n",
      "\n",
      " [[ 7.30500686e+05  1.26886028e+02  1.40568717e+04]\n",
      "  [-1.19329519e+02  7.30635815e+05 -3.93912726e+02]\n",
      "  [-1.40569379e+04  3.91544002e+02  7.30500590e+05]]\n",
      "\n",
      " [[ 7.20360636e+05 -8.10599517e+04  9.13164931e+04]\n",
      "  [ 9.12021820e+04  7.20507122e+05 -7.98781151e+04]\n",
      "  [-8.11885440e+04  9.01533998e+04  7.20492643e+05]]] [[-2.13512208e+08 -2.60359560e+07  8.33326323e+09]\n",
      " [-5.59237655e+08 -8.88481671e+06  8.34141666e+09]\n",
      " [-2.78152442e+09  4.50706996e+07  8.29262659e+09]\n",
      " [-2.23948627e+11  1.10957066e+11  1.64503511e+11]]\n",
      "2.621963351899197\n",
      "[[[ 7.30635931e+05  0.00000000e+00  0.00000000e+00]\n",
      "  [ 0.00000000e+00  7.30635931e+05  0.00000000e+00]\n",
      "  [ 0.00000000e+00  0.00000000e+00  7.30635931e+05]]\n",
      "\n",
      " [[ 7.30592426e+05  5.38022895e+01  7.97292740e+03]\n",
      "  [-4.94695562e+01  7.30635821e+05 -3.97319166e+02]\n",
      "  [-7.97295546e+03  3.96755681e+02  7.30592320e+05]]\n",
      "\n",
      " [[ 7.30500813e+05  1.27434409e+02  1.40502365e+04]\n",
      "  [-1.19814791e+02  7.30635813e+05 -3.97384126e+02]\n",
      "  [-1.40503036e+04  3.95006581e+02  7.30500716e+05]]\n",
      "\n",
      " [[ 7.20929888e+05 -7.88478601e+04  8.87241545e+04]\n",
      "  [ 8.87280820e+04  7.20753654e+05 -8.04385565e+04]\n",
      "  [-7.88434405e+04  9.01445998e+04  7.20754137e+05]]] [[-2.13860032e+08 -2.53484160e+07  8.33329958e+09]\n",
      " [-5.61576056e+08 -7.99197239e+06  8.34147406e+09]\n",
      " [-2.77937524e+09  4.63527157e+07  8.29268313e+09]\n",
      " [-2.11252971e+11  1.08969370e+11  1.58584171e+11]]\n",
      "2.774946917549339\n",
      "[[[ 7.30635931e+05  0.00000000e+00  0.00000000e+00]\n",
      "  [ 0.00000000e+00  7.30635931e+05  0.00000000e+00]\n",
      "  [ 0.00000000e+00  0.00000000e+00  7.30635931e+05]]\n",
      "\n",
      " [[ 7.30581784e+05  5.91165589e+01  8.89475172e+03]\n",
      "  [-5.35221065e+01  7.30635784e+05 -4.59866386e+02]\n",
      "  [-8.89478714e+03  4.59180729e+02  7.30581642e+05]]\n",
      "\n",
      " [[ 7.30459116e+05  1.45396400e+02  1.60724006e+04]\n",
      "  [-1.35313627e+02  7.30635774e+05 -4.59840362e+02]\n",
      "  [-1.60724887e+04  4.56752475e+02  7.30458986e+05]]\n",
      "\n",
      " [[ 7.19219518e+05 -8.51607535e+04  9.64354454e+04]\n",
      "  [ 9.68308865e+04  7.18908502e+05 -8.73109849e+04]\n",
      "  [-8.47108522e+04  9.87272745e+04  7.18961654e+05]]] [[-2.13586784e+08 -2.77805860e+07  8.33334618e+09]\n",
      " [-6.58081601e+08 -4.77620939e+06  8.34249058e+09]\n",
      " [-3.59705231e+09  6.78626854e+07  8.28621743e+09]\n",
      " [-2.40150652e+11  1.23890634e+11  1.86510326e+11]]\n",
      "2.85143870037441\n",
      "[[[ 7.30635931e+05  0.00000000e+00  0.00000000e+00]\n",
      "  [ 0.00000000e+00  7.30635931e+05  0.00000000e+00]\n",
      "  [ 0.00000000e+00  0.00000000e+00  7.30635931e+05]]\n",
      "\n",
      " [[ 7.30575293e+05  6.19512833e+01  9.41282954e+03]\n",
      "  [-5.55679365e+01  7.30635761e+05 -4.95840440e+02]\n",
      "  [-9.41286938e+03  4.95083404e+02  7.30575127e+05]]\n",
      "\n",
      " [[ 7.30431702e+05  1.55998232e+02  1.72733094e+04]\n",
      "  [-1.44319785e+02  7.30635748e+05 -4.95686074e+02]\n",
      "  [-1.72734109e+04  4.92135587e+02  7.30431551e+05]]\n",
      "\n",
      " [[ 7.17879462e+05 -8.98556405e+04  1.01999534e+05]\n",
      "  [ 1.02674655e+05  7.17719664e+05 -9.03618412e+04]\n",
      "  [-8.90834241e+04  1.03117947e+05  7.17815921e+05]]] [[-2.13299312e+08 -2.95547980e+07  8.33336819e+09]\n",
      " [-7.17331019e+08 -2.98366249e+06  8.34312437e+09]\n",
      " [-4.13591905e+09  8.16536842e+07  8.28355802e+09]\n",
      " [-2.63801048e+11  1.32565028e+11  2.06152591e+11]]\n",
      "3.2338976144997647\n",
      "[[[ 7.30635931e+05  0.00000000e+00  0.00000000e+00]\n",
      "  [ 0.00000000e+00  7.30635931e+05  0.00000000e+00]\n",
      "  [ 0.00000000e+00  0.00000000e+00  7.30635931e+05]]\n",
      "\n",
      " [[ 7.30536853e+05  7.59089603e+01  1.20317715e+04]\n",
      "  [-6.48223851e+01  7.30635617e+05 -6.73770181e+02]\n",
      "  [-1.20318363e+04  6.72611350e+02  7.30536547e+05]]\n",
      "\n",
      " [[ 7.30259733e+05  2.10200025e+02  2.34422970e+04]\n",
      "  [-1.88736065e+02  7.30635597e+05 -6.72002091e+02]\n",
      "  [-2.34424796e+04  6.65600527e+02  7.30259454e+05]]\n",
      "\n",
      " [[ 7.09710406e+05 -1.14245727e+05  1.30720761e+05]\n",
      "  [ 1.33058978e+05  7.11320499e+05 -1.00733908e+05]\n",
      "  [-1.11513731e+05  1.21654945e+05  7.11753908e+05]]] [[-2.10985504e+08 -3.89108760e+07  8.33338867e+09]\n",
      " [-1.07264602e+09  9.33883271e+06  8.34729538e+09]\n",
      " [-7.52983456e+09  1.68292673e+08  8.29180701e+09]\n",
      " [-4.02267670e+11  1.68300529e+11  3.19133656e+11]]\n",
      "3.3018903103442723\n",
      "[[[ 7.30635931e+05  0.00000000e+00  0.00000000e+00]\n",
      "  [ 0.00000000e+00  7.30635931e+05  0.00000000e+00]\n",
      "  [ 0.00000000e+00  0.00000000e+00  7.30635931e+05]]\n",
      "\n",
      " [[ 7.30529164e+05  7.80063578e+01  1.24898865e+04]\n",
      "  [-6.60218407e+01  7.30635591e+05 -7.01634976e+02]\n",
      "  [-1.24899556e+04  7.00403834e+02  7.30528832e+05]]\n",
      "\n",
      " [[ 7.30222408e+05  2.19896799e+02  2.45774399e+04]\n",
      "  [-1.96496403e+02  7.30635570e+05 -6.98947735e+02]\n",
      "  [-2.45776382e+04  6.91942317e+02  7.30222106e+05]]\n",
      "\n",
      " [[ 7.06586461e+05 -1.22353313e+05  1.39978939e+05]\n",
      "  [ 1.42570482e+05  7.09669347e+05 -9.93576355e+04]\n",
      "  [-1.19323486e+05  1.23401575e+05  7.10185061e+05]]] [[-2.10006016e+08 -4.19065800e+07  8.33337741e+09]\n",
      " [-1.14394392e+09  1.05510581e+07  8.34823394e+09]\n",
      " [-8.26794493e+09  1.84385522e+08  8.29865855e+09]\n",
      " [-4.60422069e+11  1.72162042e+11  3.56086096e+11]]\n",
      "3.386881180149907\n",
      "[[[ 7.30635931e+05  0.00000000e+00  0.00000000e+00]\n",
      "  [ 0.00000000e+00  7.30635931e+05  0.00000000e+00]\n",
      "  [ 0.00000000e+00  0.00000000e+00  7.30635931e+05]]\n",
      "\n",
      " [[ 7.30518069e+05  8.13404856e+01  1.31228196e+04]\n",
      "  [-6.79551505e+01  7.30635547e+05 -7.45859897e+02]\n",
      "  [-1.31228957e+04  7.44519049e+02  7.30517692e+05]]\n",
      "\n",
      " [[ 7.30169242e+05  2.33381392e+02  2.61091260e+04]\n",
      "  [-2.06975138e+02  7.30635524e+05 -7.42646674e+02]\n",
      "  [-2.61093487e+04  7.34776100e+02  7.30168902e+05]]\n",
      "\n",
      " [[ 7.04800484e+05 -1.26559514e+05  1.45147618e+05]\n",
      "  [ 1.48053960e+05  7.08263057e+05 -1.01352506e+05]\n",
      "  [-1.23146930e+05  1.27180954e+05  7.08864375e+05]]] [[-2.09626560e+08 -4.37118920e+07  8.33340710e+09]\n",
      " [-1.24818327e+09  1.53019058e+07  8.34972503e+09]\n",
      " [-9.32101855e+09  2.12207248e+08  8.31126513e+09]\n",
      " [-4.86806448e+11  1.77578549e+11  3.80981138e+11]]\n",
      "3.386881180149907\n",
      "[[[ 7.30635931e+05  0.00000000e+00  0.00000000e+00]\n",
      "  [ 0.00000000e+00  7.30635931e+05  0.00000000e+00]\n",
      "  [ 0.00000000e+00  0.00000000e+00  7.30635931e+05]]\n",
      "\n",
      " [[ 7.30517025e+05  8.20470121e+01  1.31807912e+04]\n",
      "  [-6.84522739e+01  7.30635538e+05 -7.54196864e+02]\n",
      "  [-1.31808688e+04  7.52839233e+02  7.30516640e+05]]\n",
      "\n",
      " [[ 7.30165220e+05  2.34744266e+02  2.62213610e+04]\n",
      "  [-2.07905190e+02  7.30635515e+05 -7.51576490e+02]\n",
      "  [-2.62215876e+04  7.43630902e+02  7.30164871e+05]]\n",
      "\n",
      " [[ 7.06733692e+05 -1.21775350e+05  1.39739461e+05]\n",
      "  [ 1.42745847e+05  7.08949944e+05 -1.04127151e+05]\n",
      "  [-1.18236949e+05  1.28021891e+05  7.09548647e+05]]] [[-2.10018032e+08 -4.19744800e+07  8.33337126e+09]\n",
      " [-1.25843431e+09  1.80000332e+07  8.34983538e+09]\n",
      " [-9.40114665e+09  2.18189140e+08  8.31229973e+09]\n",
      " [-4.47383007e+11  1.78192538e+11  3.60602261e+11]]\n"
     ]
    },
    {
     "name": "stdout",
     "output_type": "stream",
     "text": [
      "2.7552345619332352\n",
      "[[[ 7.30635931e+05  0.00000000e+00  0.00000000e+00]\n",
      "  [ 0.00000000e+00  7.30635931e+05  0.00000000e+00]\n",
      "  [ 0.00000000e+00  0.00000000e+00  7.30635931e+05]]\n",
      "\n",
      " [[ 7.30583221e+05  5.84318145e+01  8.77597287e+03]\n",
      "  [-5.30087833e+01  7.30635789e+05 -4.51807147e+02]\n",
      "  [-8.77600730e+03  4.51137841e+02  7.30583083e+05]]\n",
      "\n",
      " [[ 7.30464803e+05  1.43082124e+02  1.58118458e+04]\n",
      "  [-1.33335970e+02  7.30635779e+05 -4.51793298e+02]\n",
      "  [-1.58119310e+04  4.48801928e+02  7.30464677e+05]]\n",
      "\n",
      " [[ 7.19447580e+05 -8.43492057e+04  9.54424185e+04]\n",
      "  [ 9.57805456e+04  7.19155918e+05 -8.64275165e+04]\n",
      "  [-8.39650573e+04  9.76157775e+04  7.19200871e+05]]] [[-2.13624288e+08 -2.74653580e+07  8.33334003e+09]\n",
      " [-6.44990973e+08 -5.23329840e+06  8.34235129e+09]\n",
      " [-3.48536397e+09  6.48998898e+07  8.28692256e+09]\n",
      " [-2.36410235e+11  1.21966274e+11  1.82784318e+11]]\n",
      "2.821870166950254\n",
      "[[[ 7.30635931e+05  0.00000000e+00  0.00000000e+00]\n",
      "  [ 0.00000000e+00  7.30635931e+05  0.00000000e+00]\n",
      "  [ 0.00000000e+00  0.00000000e+00  7.30635931e+05]]\n",
      "\n",
      " [[ 7.30577741e+05  6.08813523e+01  9.22087866e+03]\n",
      "  [-5.47948923e+01  7.30635769e+05 -4.82618330e+02]\n",
      "  [-9.22091684e+03  4.81888362e+02  7.30577584e+05]]\n",
      "\n",
      " [[ 7.30441897e+05  1.52136094e+02  1.68367118e+04]\n",
      "  [-1.41054774e+02  7.30635758e+05 -4.82502367e+02]\n",
      "  [-1.68368082e+04  4.79123776e+02  7.30441754e+05]]\n",
      "\n",
      " [[ 7.18343755e+05 -8.82688891e+04  1.00098533e+05]\n",
      "  [ 1.00666035e+05  7.18158075e+05 -8.91302004e+04]\n",
      "  [-8.76211299e+04  1.01422120e+05  7.18237394e+05]]] [[-2.13393296e+08 -2.89464480e+07  8.33335949e+09]\n",
      " [-6.94934474e+08 -3.72120226e+06  8.34288233e+09]\n",
      " [-3.93539699e+09  7.64340749e+07  8.28440458e+09]\n",
      " [-2.55921798e+11  1.29401496e+11  1.99122098e+11]]\n",
      "3.15504819203535\n",
      "[[[ 7.30635931e+05  0.00000000e+00  0.00000000e+00]\n",
      "  [ 0.00000000e+00  7.30635931e+05  0.00000000e+00]\n",
      "  [ 0.00000000e+00  0.00000000e+00  7.30635931e+05]]\n",
      "\n",
      " [[ 7.30545874e+05  7.30037542e+01  1.14710089e+04]\n",
      "  [-6.30280354e+01  7.30635651e+05 -6.35887770e+02]\n",
      "  [-1.14710681e+04  6.34819849e+02  7.30545601e+05]]\n",
      "\n",
      " [[ 7.30301803e+05  1.98390206e+02  2.20930038e+04]\n",
      "  [-1.79282574e+02  7.30635633e+05 -6.34615678e+02]\n",
      "  [-2.20931671e+04  6.28904306e+02  7.30301554e+05]]\n",
      "\n",
      " [[ 7.11773482e+05 -1.08612321e+05  1.24139991e+05]\n",
      "  [ 1.26107170e+05  7.12767613e+05 -9.94393064e+04]\n",
      "  [-1.06321942e+05  1.18298595e+05  7.13112860e+05]]] [[-2.11648912e+08 -3.67431360e+07  8.33339942e+09]\n",
      " [-9.88775913e+08  6.33937678e+06  8.34624196e+09]\n",
      " [-6.69809841e+09  1.47280983e+08  8.28613159e+09]\n",
      " [-3.67343821e+11  1.62014765e+11  2.91924945e+11]]\n",
      "3.2142798409393674\n",
      "[[[ 7.30635931e+05  0.00000000e+00  0.00000000e+00]\n",
      "  [ 0.00000000e+00  7.30635931e+05  0.00000000e+00]\n",
      "  [ 0.00000000e+00  0.00000000e+00  7.30635931e+05]]\n",
      "\n",
      " [[ 7.30539495e+05  7.49182621e+01  1.18702908e+04]\n",
      "  [-6.41902288e+01  7.30635629e+05 -6.60847693e+02]\n",
      "  [-1.18703536e+04  6.59717601e+02  7.30539200e+05]]\n",
      "\n",
      " [[ 7.30271648e+05  2.06786846e+02  2.30681893e+04]\n",
      "  [-1.86075342e+02  7.30635610e+05 -6.58928486e+02]\n",
      "  [-2.30683656e+04  6.52725043e+02  7.30271380e+05]]\n",
      "\n",
      " [[ 7.09674766e+05 -1.14406519e+05  1.30773615e+05]\n",
      "  [ 1.32965337e+05  7.11574118e+05 -9.90522974e+04]\n",
      "  [-1.11851728e+05  1.20009529e+05  7.11980174e+05]]] [[-2.10973632e+08 -3.88809880e+07  8.33338816e+09]\n",
      " [-1.04784655e+09  7.70876160e+06  8.34697544e+09]\n",
      " [-7.29400789e+09  1.60928938e+08  8.28997642e+09]\n",
      " [-4.06157789e+11  1.66261785e+11  3.17365391e+11]]\n",
      "3.2883194020693884\n",
      "[[[ 7.30635931e+05  0.00000000e+00  0.00000000e+00]\n",
      "  [ 0.00000000e+00  7.30635931e+05  0.00000000e+00]\n",
      "  [ 0.00000000e+00  0.00000000e+00  7.30635931e+05]]\n",
      "\n",
      " [[ 7.30530529e+05  7.77748417e+01  1.24098438e+04]\n",
      "  [-6.59209388e+01  7.30635594e+05 -6.98462409e+02]\n",
      "  [-1.24099125e+04  6.97241982e+02  7.30530199e+05]]\n",
      "\n",
      " [[ 7.30229614e+05  2.18176848e+02  2.43624020e+04]\n",
      "  [-1.95071846e+02  7.30635573e+05 -6.96176322e+02]\n",
      "  [-2.43625980e+04  6.89284672e+02  7.30229315e+05]]\n",
      "\n",
      " [[ 7.07931295e+05 -1.18871354e+05  1.36131357e+05]\n",
      "  [ 1.38667514e+05  7.10217693e+05 -1.00950543e+05]\n",
      "  [-1.15902828e+05  1.23649881e+05  7.10708172e+05]]] [[-2.10530560e+08 -4.06894320e+07  8.33340301e+09]\n",
      " [-1.13163115e+09  1.11462004e+07  8.34809247e+09]\n",
      " [-8.12573874e+09  1.82679179e+08  8.29723183e+09]\n",
      " [-4.33390271e+11  1.72109279e+11  3.41465755e+11]]\n",
      "3.2883194020693884\n",
      "[[[ 7.30635931e+05  0.00000000e+00  0.00000000e+00]\n",
      "  [ 0.00000000e+00  7.30635931e+05  0.00000000e+00]\n",
      "  [ 0.00000000e+00  0.00000000e+00  7.30635931e+05]]\n",
      "\n",
      " [[ 7.30529902e+05  7.82315339e+01  1.24466795e+04]\n",
      "  [-6.62467547e+01  7.30635589e+05 -7.04083974e+02]\n",
      "  [-1.24467491e+04  7.02853258e+02  7.30529567e+05]]\n",
      "\n",
      " [[ 7.30227376e+05  2.19006416e+02  2.44294003e+04]\n",
      "  [-1.95635953e+02  7.30635567e+05 -7.02233721e+02]\n",
      "  [-2.44295986e+04  6.95299802e+02  7.30227071e+05]]\n",
      "\n",
      " [[ 7.08978991e+05 -1.16082183e+05  1.33051045e+05]\n",
      "  [ 1.35672564e+05  7.10491653e+05 -1.03070027e+05]\n",
      "  [-1.13007121e+05  1.24721296e+05  7.10987238e+05]]] [[-2.10805744e+08 -3.97326160e+07  8.33339635e+09]\n",
      " [-1.13780359e+09  1.26987980e+07  8.34816761e+09]\n",
      " [-8.17035233e+09  1.86233129e+08  8.29766280e+09]\n",
      " [-4.10646567e+11  1.72735637e+11  3.31232717e+11]]\n",
      "3.4215906121034267\n",
      "[[[ 7.30635931e+05  0.00000000e+00  0.00000000e+00]\n",
      "  [ 0.00000000e+00  7.30635931e+05  0.00000000e+00]\n",
      "  [ 0.00000000e+00  0.00000000e+00  7.30635931e+05]]\n",
      "\n",
      " [[ 7.30512529e+05  8.33497790e+01  1.34276296e+04]\n",
      "  [-6.91886041e+01  7.30635521e+05 -7.71183548e+02]\n",
      "  [-1.34277100e+04  7.69781749e+02  7.30512127e+05]]\n",
      "\n",
      " [[ 7.30143858e+05  2.39907005e+02  2.68095529e+04]\n",
      "  [-2.11853822e+02  7.30635496e+05 -7.68412906e+02]\n",
      "  [-2.68097893e+04  7.60121744e+02  7.30143493e+05]]\n",
      "\n",
      " [[ 7.05811260e+05 -1.24005001e+05  1.42415198e+05]\n",
      "  [ 1.45634174e+05  7.08218859e+05 -1.05098046e+05]\n",
      "  [-1.20208221e+05  1.29914093e+05  7.08873173e+05]]] [[-2.09683488e+08 -4.28622760e+07  8.33335898e+09]\n",
      " [-1.30059483e+09  1.97734687e+07  8.35044194e+09]\n",
      " [-9.82430737e+09  2.29279588e+08  8.31831861e+09]\n",
      " [-4.60920986e+11  1.80903334e+11  3.73405106e+11]]\n",
      "3.488226217120446\n",
      "[[[ 7.30635931e+05  0.00000000e+00  0.00000000e+00]\n",
      "  [ 0.00000000e+00  7.30635931e+05  0.00000000e+00]\n",
      "  [ 0.00000000e+00  0.00000000e+00  7.30635931e+05]]\n",
      "\n",
      " [[ 7.30502662e+05  8.60146422e+01  1.39541082e+04]\n",
      "  [-7.06186974e+01  7.30635482e+05 -8.06802048e+02]\n",
      "  [-1.39541947e+04  8.05306170e+02  7.30502221e+05]]\n",
      "\n",
      " [[ 7.30094142e+05  2.51493080e+02  2.81308355e+04]\n",
      "  [-2.20731371e+02  7.30635456e+05 -8.03213980e+02]\n",
      "  [-2.81310937e+04  7.94119806e+02  7.30093744e+05]]\n",
      "\n",
      " [[ 7.04558517e+05 -1.27020988e+05  1.45917198e+05]\n",
      "  [ 1.49220750e+05  7.07547223e+05 -1.04589475e+05]\n",
      "  [-1.23123222e+05  1.30657795e+05  7.08235890e+05]]] [[-2.08980720e+08 -4.40366520e+07  8.33329242e+09]\n",
      " [-1.39333534e+09  2.44162246e+07  8.35178930e+09]\n",
      " [-1.08095737e+10  2.54856719e+08  8.33419782e+09]\n",
      " [-4.83211988e+11  1.82110337e+11  3.88395783e+11]]\n",
      "3.8214042422055416\n",
      "[[[ 7.30635931e+05  0.00000000e+00  0.00000000e+00]\n",
      "  [ 0.00000000e+00  7.30635931e+05  0.00000000e+00]\n",
      "  [ 0.00000000e+00  0.00000000e+00  7.30635931e+05]]\n",
      "\n",
      " [[ 7.30447514e+05  9.95888618e+01  1.65916375e+04]\n",
      "  [-7.73098039e+01  7.30635267e+05 -9.81963382e+02]\n",
      "  [-1.65917563e+04  9.79954564e+02  7.30446861e+05]]\n",
      "\n",
      " [[ 7.29806910e+05  3.10265415e+02  3.47942735e+04]\n",
      "  [-2.64275329e+02  7.30635237e+05 -9.72024413e+02]\n",
      "  [-3.47946532e+04  9.58336205e+02  7.29806329e+05]]\n",
      "\n",
      " [[ 7.07317385e+05 -1.20097664e+05  1.38229995e+05]\n",
      "  [ 1.39739137e+05  7.10450905e+05 -9.77821529e+04]\n",
      "  [-1.18338304e+05  1.21098831e+05  7.10746075e+05]]] [[-2.07642336e+08 -4.13234080e+07  8.33286387e+09]\n",
      " [-1.91762069e+09  5.98215415e+07  8.36066046e+09]\n",
      " [-1.65101909e+10  4.08346261e+08  8.47316999e+09]\n",
      " [-4.51143567e+11  1.70530337e+11  3.44021005e+11]]\n",
      "3.8806358911095584\n",
      "[[[ 7.30635931e+05  0.00000000e+00  0.00000000e+00]\n",
      "  [ 0.00000000e+00  7.30635931e+05  0.00000000e+00]\n",
      "  [ 0.00000000e+00  0.00000000e+00  7.30635931e+05]]\n",
      "\n",
      " [[ 7.30437001e+05  1.01965451e+02  1.70481937e+04]\n",
      "  [-7.84306074e+01  7.30635229e+05 -1.00954585e+03]\n",
      "  [-1.70483183e+04  1.00744093e+03  7.30436310e+05]]\n",
      "\n",
      " [[ 7.29750227e+05  3.20671969e+02  3.59634093e+04]\n",
      "  [-2.71938378e+02  7.30635200e+05 -9.96766868e+02]\n",
      "  [-3.59638108e+04  9.82173182e+02  7.29749617e+05]]\n",
      "\n",
      " [[ 7.14872487e+05 -9.90639679e+04  1.13896979e+05]\n",
      "  [ 1.13235909e+05  7.16478116e+05 -8.75534252e+04]\n",
      "  [-9.98189386e+04  1.03316521e+05  7.16373324e+05]]] [[-2.07911008e+08 -3.30552140e+07  8.33247219e+09]\n",
      " [-2.01860959e+09  7.41041884e+07  8.36231862e+09]\n",
      " [-1.76362203e+10  4.43846664e+08  8.50900810e+09]\n",
      " [-3.27706307e+11  1.41222795e+11  2.37486636e+11]]\n",
      "3.95467545223958\n",
      "[[[ 7.30635931e+05  0.00000000e+00  0.00000000e+00]\n",
      "  [ 0.00000000e+00  7.30635931e+05  0.00000000e+00]\n",
      "  [ 0.00000000e+00  0.00000000e+00  7.30635931e+05]]\n",
      "\n",
      " [[ 7.30422249e+05  1.05020178e+02  1.76689380e+04]\n",
      "  [-7.96251042e+01  7.30635171e+05 -1.05108119e+03]\n",
      "  [-1.76690707e+04  1.04884822e+03  7.30421500e+05]]\n",
      "\n",
      " [[ 7.29669455e+05  3.34712336e+02  3.75664484e+04]\n",
      "  [-2.81791462e+02  7.30635141e+05 -1.03650928e+03]\n",
      "  [-3.75668826e+04  1.02064958e+03  7.29668795e+05]]\n",
      "\n",
      " [[ 7.12751805e+05 -1.05680713e+05  1.21017828e+05]\n",
      "  [ 1.20471875e+05  7.15654716e+05 -8.45796543e+04]\n",
      "  [-1.06302658e+05  1.02463543e+05  7.15562597e+05]]] [[-2.07279296e+08 -3.51984800e+07  8.33247117e+09]\n",
      " [-2.15951292e+09  8.08614152e+07  8.36528001e+09]\n",
      " [-1.92398121e+10  4.83261478e+08  8.56505734e+09]\n",
      " [-3.74335686e+11  1.42368241e+11  2.59071677e+11]]\n",
      "3.95467545223958\n",
      "[[[ 7.30635931e+05  0.00000000e+00  0.00000000e+00]\n",
      "  [ 0.00000000e+00  7.30635931e+05  0.00000000e+00]\n",
      "  [ 0.00000000e+00  0.00000000e+00  7.30635931e+05]]\n",
      "\n",
      " [[ 7.30421181e+05  1.05266656e+02  1.77130081e+04]\n",
      "  [-7.96602628e+01  7.30635162e+05 -1.05718784e+03]\n",
      "  [-1.77131417e+04  1.05494588e+03  7.30420424e+05]]\n",
      "\n",
      " [[ 7.29662977e+05  3.35809873e+02  3.76920443e+04]\n",
      "  [-2.82306612e+02  7.30635130e+05 -1.04440627e+03]\n",
      "  [-3.76924830e+04  1.02845185e+03  7.29662307e+05]]\n",
      "\n",
      " [[ 7.03352163e+05 -1.29623442e+05  1.49406700e+05]\n",
      "  [ 1.51468179e+05  7.07887411e+05 -9.89023145e+04]\n",
      "  [-1.27208449e+05  1.26182568e+05  7.08325373e+05]]] [[-2.06895040e+08 -4.49949480e+07  8.33294886e+09]\n",
      " [-2.16936917e+09  7.20595343e+07  8.36595197e+09]\n",
      " [-1.93680636e+10  4.79224875e+08  8.57019485e+09]\n",
      " [-5.17707713e+11  1.77471825e+11  3.94979148e+11]]\n",
      "4.078909577037449\n",
      "[[[ 7.30635931e+05  0.00000000e+00  0.00000000e+00]\n",
      "  [ 0.00000000e+00  7.30635931e+05  0.00000000e+00]\n",
      "  [ 0.00000000e+00  0.00000000e+00  7.30635931e+05]]\n",
      "\n",
      " [[ 7.30395170e+05  1.10614758e+02  1.87549258e+04]\n",
      "  [-8.17520562e+01  7.30635060e+05 -1.12544903e+03]\n",
      "  [-1.87550738e+04  1.12297965e+03  7.30394311e+05]]\n",
      "\n",
      " [[ 7.29518098e+05  3.59793150e+02  4.03989918e+04]\n",
      "  [-2.98934968e+02  7.30635028e+05 -1.10891403e+03]\n",
      "  [-4.03994879e+04  1.09068847e+03  7.29517344e+05]]\n",
      "\n",
      " [[ 7.04482057e+05 -1.26888086e+05  1.46401193e+05]\n",
      "  [ 1.47813783e+05  7.08946285e+05 -9.68251728e+04]\n",
      "  [-1.25239695e+05  1.22977405e+05  7.09239339e+05]]] [[-2.06737696e+08 -4.39232720e+07  8.33285107e+09]\n",
      " [-2.41933337e+09  8.87616676e+07  8.37149055e+09]\n",
      " [-2.22451724e+10  5.53364407e+08  8.68409391e+09]\n",
      " [-5.03343475e+11  1.73816947e+11  3.77657588e+11]]\n",
      "4.141026639436385\n",
      "[[[ 7.30635931e+05  0.00000000e+00  0.00000000e+00]\n",
      "  [ 0.00000000e+00  7.30635931e+05  0.00000000e+00]\n",
      "  [ 0.00000000e+00  0.00000000e+00  7.30635931e+05]]\n",
      "\n",
      " [[ 7.30381020e+05  1.13426207e+02  1.92980873e+04]\n",
      "  [-8.28076428e+01  7.30635005e+05 -1.16032364e+03]\n",
      "  [-1.92982429e+04  1.15773164e+03  7.30380107e+05]]\n",
      "\n",
      " [[ 7.29436709e+05  3.72678414e+02  4.18427161e+04]\n",
      "  [-3.07841034e+02  7.30634975e+05 -1.14097118e+03]\n",
      "  [-4.18432433e+04  1.12146874e+03  7.29435911e+05]]\n",
      "\n",
      " [[ 7.06073278e+05 -1.22962855e+05  1.42019458e+05]\n",
      "  [ 1.42919181e+05  7.10097426e+05 -9.57320082e+04]\n",
      "  [-1.21915946e+05  1.20293998e+05  7.10277917e+05]]] [[-2.07076720e+08 -4.24533240e+07  8.33282547e+09]\n",
      " [-2.55598574e+09  9.86815483e+07  8.37473609e+09]\n",
      " [-2.38616158e+10  5.94402699e+08  8.75493795e+09]\n",
      " [-4.77910641e+11  1.70621457e+11  3.56099879e+11]]\n",
      "4.451611951431059\n",
      "[[[ 7.30635931e+05  0.00000000e+00  0.00000000e+00]\n",
      "  [ 0.00000000e+00  7.30635931e+05  0.00000000e+00]\n",
      "  [ 0.00000000e+00  0.00000000e+00  7.30635931e+05]]\n",
      "\n",
      " [[ 7.30304336e+05  1.27655717e+02  2.20096371e+04]\n",
      "  [-8.75250157e+01  7.30634709e+05 -1.33349764e+03]\n",
      "  [-2.20098333e+04  1.33025584e+03  7.30303130e+05]]\n",
      "\n",
      " [[ 7.28985998e+05  4.37537427e+02  4.90722636e+04]\n",
      "  [-3.51280949e+02  7.30634697e+05 -1.29607089e+03]\n",
      "  [-4.90729569e+04  1.26955073e+03  7.28984977e+05]]\n",
      "\n",
      " [[ 7.11001887e+05 -1.09682665e+05  1.27573090e+05]\n",
      "  [ 1.26851302e+05  7.13425752e+05 -9.36018516e+04]\n",
      "  [-1.10516638e+05  1.13235474e+05  7.13297037e+05]]] [[-2.08938496e+08 -3.76855640e+07  8.33290790e+09]\n",
      " [-3.29902171e+09  1.49400448e+08  8.39479319e+09]\n",
      " [-3.28064779e+10  8.12437136e+08  9.22828147e+09]\n",
      " [-3.92536811e+11  1.60458816e+11  2.91504120e+11]]\n",
      "4.506827118007889\n",
      "[[[ 7.30635931e+05  0.00000000e+00  0.00000000e+00]\n",
      "  [ 0.00000000e+00  7.30635931e+05  0.00000000e+00]\n",
      "  [ 0.00000000e+00  0.00000000e+00  7.30635931e+05]]\n",
      "\n",
      " [[ 7.30290162e+05  1.30355326e+02  2.24750033e+04]\n",
      "  [-8.84858857e+01  7.30634655e+05 -1.36248019e+03]\n",
      "  [-2.24752072e+04  1.35911350e+03  7.30288903e+05]]\n",
      "\n",
      " [[ 7.28900972e+05  4.49117387e+02  5.03193321e+04]\n",
      "  [-3.59147634e+02  7.30634653e+05 -1.31873107e+03]\n",
      "  [-5.03200546e+04  1.29086491e+03  7.28899917e+05]]\n",
      "\n",
      " [[ 7.11248511e+05 -1.08774262e+05  1.26974717e+05]\n",
      "  [ 1.26512910e+05  7.12902451e+05 -9.79461196e+04]\n",
      "  [-1.09311035e+05  1.17333365e+05  7.12820344e+05]]] [[-2.10596128e+08 -3.76763960e+07  8.33322534e+09]\n",
      " [-3.43803335e+09  1.57838517e+08  8.39923926e+09]\n",
      " [-3.44935901e+10  8.49477869e+08  9.33225440e+09]\n",
      " [-3.80159130e+11  1.65745848e+11  2.94046624e+11]]\n",
      "4.575846076228928\n",
      "[[[ 7.30635931e+05  0.00000000e+00  0.00000000e+00]\n",
      "  [ 0.00000000e+00  7.30635931e+05  0.00000000e+00]\n",
      "  [ 0.00000000e+00  0.00000000e+00  7.30635931e+05]]\n",
      "\n",
      " [[ 7.30270646e+05  1.33629424e+02  2.31004185e+04]\n",
      "  [-8.93541927e+01  7.30634581e+05 -1.40177261e+03]\n",
      "  [-2.31006322e+04  1.39824669e+03  7.30269313e+05]]\n",
      "\n",
      " [[ 7.28781994e+05  4.64354030e+02  5.20139738e+04]\n",
      "  [-3.68960714e+02  7.30634585e+05 -1.35312078e+03]\n",
      "  [-5.20147379e+04  1.32342102e+03  7.28780886e+05]]\n",
      "\n",
      " [[ 7.14459270e+05 -9.91295450e+04  1.16405107e+05]\n",
      "  [ 1.15039070e+05  7.14940280e+05 -9.72382205e+04]\n",
      "  [-1.00711608e+05  1.13413370e+05  7.14719136e+05]]] [[-2.11348000e+08 -3.42615680e+07  8.33318643e+09]\n",
      " [-3.62807586e+09  1.72925076e+08  8.40504439e+09]\n",
      " [-3.68518490e+10  9.06975354e+08  9.48423474e+09]\n",
      " [-3.21638831e+11  1.56915838e+11  2.53100500e+11]]\n",
      "4.575846076228928\n",
      "[[[ 7.30635931e+05  0.00000000e+00  0.00000000e+00]\n",
      "  [ 0.00000000e+00  7.30635931e+05  0.00000000e+00]\n",
      "  [ 0.00000000e+00  0.00000000e+00  7.30635931e+05]]\n",
      "\n",
      " [[ 7.30269379e+05  1.33476579e+02  2.31404369e+04]\n",
      "  [-8.90253468e+01  7.30634575e+05 -1.40490513e+03]\n",
      "  [-2.31406506e+04  1.40138073e+03  7.30268040e+05]]\n",
      "\n",
      " [[ 7.28773214e+05  4.64958020e+02  5.21368347e+04]\n",
      "  [-3.68888200e+02  7.30634573e+05 -1.35947197e+03]\n",
      "  [-5.21376029e+04  1.32968289e+03  7.28772095e+05]]\n",
      "\n",
      " [[ 7.14532261e+05 -9.91765130e+04  1.15916052e+05]\n",
      "  [ 1.13994372e+05  7.16049202e+05 -9.00426942e+04]\n",
      "  [-1.01379460e+05  1.06143408e+05  7.15740627e+05]]] [[-2.09192448e+08 -3.38094240e+07  8.33275123e+09]\n",
      " [-3.63822887e+09  1.74228387e+08  8.40492980e+09]\n",
      " [-3.70236475e+10  9.14150741e+08  9.49515978e+09]\n",
      " [-3.31018215e+11  1.47725670e+11  2.43339967e+11]]\n",
      "4.701470514351216\n",
      "[[[ 7.30635931e+05  0.00000000e+00  0.00000000e+00]\n",
      "  [ 0.00000000e+00  7.30635931e+05  0.00000000e+00]\n",
      "  [ 0.00000000e+00  0.00000000e+00  7.30635931e+05]]\n",
      "\n",
      " [[ 7.30232488e+05  1.39454592e+02  2.42767009e+04]\n",
      "  [-9.04542383e+01  7.30634434e+05 -1.47621803e+03]\n",
      "  [-2.42769329e+04  1.47239739e+03  7.30231009e+05]]\n",
      "\n",
      " [[ 7.28545803e+05  4.92783280e+02  5.52234846e+04]\n",
      "  [-3.86513916e+02  7.30634448e+05 -1.42061567e+03]\n",
      "  [-5.52243306e+04  1.38733793e+03  7.28544585e+05]]\n",
      "\n",
      " [[ 7.16863830e+05 -9.14644587e+04  1.07560986e+05]\n",
      "  [ 1.04871103e+05  7.17606958e+05 -8.87196069e+04]\n",
      "  [-9.45365791e+04  1.02485949e+05  7.17208707e+05]]] [[-2.09878608e+08 -3.10891340e+07  8.33275123e+09]\n",
      " [-3.99718681e+09  1.99051111e+08  8.41657393e+09]\n",
      " [-4.15266854e+10  1.01863515e+09  9.80886574e+09]\n",
      " [-2.86823910e+11  1.39370317e+11  2.13132627e+11]]\n",
      "4.76428273341236\n",
      "[[[ 7.30635931e+05  0.00000000e+00  0.00000000e+00]\n",
      "  [ 0.00000000e+00  7.30635931e+05  0.00000000e+00]\n",
      "  [ 0.00000000e+00  0.00000000e+00  7.30635931e+05]]\n",
      "\n",
      " [[ 7.30212855e+05  1.42554638e+02  2.48602093e+04]\n",
      "  [-9.11529413e+01  7.30634360e+05 -1.51222649e+03]\n",
      "  [-2.48604509e+04  1.50824931e+03  7.30211303e+05]]\n",
      "\n",
      " [[ 7.28421851e+05  5.07428991e+02  5.68349619e+04]\n",
      "  [-3.95864032e+02  7.30634386e+05 -1.44961931e+03]\n",
      "  [-5.68358484e+04  1.41443285e+03  7.28420585e+05]]\n",
      "\n",
      " [[ 7.17964167e+05 -8.75744889e+04  1.03378082e+05]\n",
      "  [ 1.00326834e+05  7.18311633e+05 -8.82711054e+04]\n",
      "  [-9.10540791e+04  1.00935477e+05  7.17878853e+05]]] [[-2.10227136e+08 -2.97388400e+07  8.33275635e+09]\n",
      " [-4.18840553e+09  2.12086493e+08  8.42308887e+09]\n",
      " [-4.39789912e+10  1.07286343e+09  9.99158456e+09]\n",
      " [-2.65288715e+11  1.35174860e+11  1.99133882e+11]]\n"
     ]
    },
    {
     "name": "stdout",
     "output_type": "stream",
     "text": [
      "5.07834382871808\n",
      "[[[ 7.30635931e+05  0.00000000e+00  0.00000000e+00]\n",
      "  [ 0.00000000e+00  7.30635931e+05  0.00000000e+00]\n",
      "  [ 0.00000000e+00  0.00000000e+00  7.30635931e+05]]\n",
      "\n",
      " [[ 7.30107867e+05  1.58017097e+02  2.77730333e+04]\n",
      "  [-9.37777491e+01  7.30633966e+05 -1.69174124e+03]\n",
      "  [-2.77733245e+04  1.68695384e+03  7.30105924e+05]]\n",
      "\n",
      " [[ 7.27748997e+05  5.80702797e+02  6.48839223e+04]\n",
      "  [-4.41426030e+02  7.30634072e+05 -1.58797271e+03]\n",
      "  [-6.48850193e+04  1.54249750e+03  7.27747496e+05]]\n",
      "\n",
      " [[ 7.22309305e+05 -7.00822243e+04  8.47738953e+04]\n",
      "  [ 8.00276473e+04  7.21167715e+05 -8.56829420e+04]\n",
      "  [-7.54566575e+04  9.39918758e+04  7.20625203e+05]]] [[-2.11560912e+08 -2.37128860e+07  8.33276762e+09]\n",
      " [-5.21236917e+09  2.80719491e+08  8.46140062e+09]\n",
      " [-5.72624151e+10  1.35586550e+09  1.11167259e+10]\n",
      " [-1.78351674e+11  1.14018940e+11  1.42753482e+11]]\n",
      "5.134176912327986\n",
      "[[[ 7.30635931e+05  0.00000000e+00  0.00000000e+00]\n",
      "  [ 0.00000000e+00  7.30635931e+05  0.00000000e+00]\n",
      "  [ 0.00000000e+00  0.00000000e+00  7.30635931e+05]]\n",
      "\n",
      " [[ 7.30088513e+05  1.60672099e+02  2.82772189e+04]\n",
      "  [-9.40620326e+01  7.30633893e+05 -1.72290181e+03]\n",
      "  [-2.82775189e+04  1.71797054e+03  7.30086498e+05]]\n",
      "\n",
      " [[ 7.27624019e+05  5.93453429e+02  6.62706488e+04]\n",
      "  [-4.49540546e+02  7.30634025e+05 -1.60705790e+03]\n",
      "  [-6.62717813e+04  1.55965856e+03  7.27622486e+05]]\n",
      "\n",
      " [[ 7.22361808e+05 -6.97804271e+04  8.45752544e+04]\n",
      "  [ 7.96159037e+04  7.21308928e+05 -8.48740347e+04]\n",
      "  [-7.53895851e+04  9.31288670e+04  7.20744260e+05]]] [[-2.11537840e+08 -2.35970580e+07  8.33275994e+09]\n",
      " [-5.40115739e+09  2.92417735e+08  8.46905957e+09]\n",
      " [-5.97239397e+10  1.40239628e+09  1.13489897e+10]\n",
      " [-1.77908699e+11  1.13107051e+11  1.41185740e+11]]\n",
      "5.203968266840368\n",
      "[[[ 7.30635931e+05  0.00000000e+00  0.00000000e+00]\n",
      "  [ 0.00000000e+00  7.30635931e+05  0.00000000e+00]\n",
      "  [ 0.00000000e+00  0.00000000e+00  7.30635931e+05]]\n",
      "\n",
      " [[ 7.30062537e+05  1.64223366e+02  2.89400857e+04]\n",
      "  [-9.44592329e+01  7.30633797e+05 -1.76315976e+03]\n",
      "  [-2.89403975e+04  1.75803457e+03  7.30060426e+05]]\n",
      "\n",
      " [[ 7.27452619e+05  6.10432181e+02  6.81261967e+04]\n",
      "  [-4.59852223e+02  7.30633954e+05 -1.63640097e+03]\n",
      "  [-6.81273795e+04  1.58639363e+03  7.27451034e+05]]\n",
      "\n",
      " [[ 7.23245424e+05 -6.56542711e+04  8.02149459e+04]\n",
      "  [ 7.49053294e+04  7.21851111e+05 -8.45519252e+04]\n",
      "  [-7.16527214e+04  9.19203629e+04  7.21280388e+05]]] [[-2.11805136e+08 -2.22026580e+07  8.33276147e+09]\n",
      " [-5.65495477e+09  3.09234534e+08  8.47965592e+09]\n",
      " [-6.30971459e+10  1.47051099e+09  1.16786811e+10]\n",
      " [-1.59440428e+11  1.08049273e+11  1.29824391e+11]]\n",
      "5.203968266840368\n",
      "[[[ 7.30635931e+05  0.00000000e+00  0.00000000e+00]\n",
      "  [ 0.00000000e+00  7.30635931e+05  0.00000000e+00]\n",
      "  [ 0.00000000e+00  0.00000000e+00  7.30635931e+05]]\n",
      "\n",
      " [[ 7.30061314e+05  1.64434925e+02  2.89709280e+04]\n",
      "  [-9.45440520e+01  7.30633794e+05 -1.76448468e+03]\n",
      "  [-2.89712404e+04  1.75934815e+03  7.30059200e+05]]\n",
      "\n",
      " [[ 7.27441993e+05  6.11364472e+02  6.82395549e+04]\n",
      "  [-4.59975196e+02  7.30633940e+05 -1.64242512e+03]\n",
      "  [-6.82407432e+04  1.59228482e+03  7.27440396e+05]]\n",
      "\n",
      " [[ 7.24127526e+05 -6.13623269e+04  7.55172471e+04]\n",
      "  [ 7.00823427e+04  7.22267822e+05 -8.51265036e+04]\n",
      "  [-6.75030001e+04  9.16117962e+04  7.21719812e+05]]] [[-2.12138944e+08 -2.07645880e+07  8.33277632e+09]\n",
      " [-5.66723063e+09  3.11295695e+08  8.48019425e+09]\n",
      " [-6.33064740e+10  1.48000166e+09  1.16995431e+10]\n",
      " [-1.40262472e+11  1.03157066e+11  1.19276199e+11]]\n",
      "5.4359716251236705\n",
      "[[[ 7.30635931e+05  0.00000000e+00  0.00000000e+00]\n",
      "  [ 0.00000000e+00  7.30635931e+05  0.00000000e+00]\n",
      "  [ 0.00000000e+00  0.00000000e+00  7.30635931e+05]]\n",
      "\n",
      " [[ 7.29970636e+05  1.76206761e+02  3.11721471e+04]\n",
      "  [-9.53109063e+01  7.30633459e+05 -1.89811731e+03]\n",
      "  [-3.11724994e+04  1.89232256e+03  7.29968190e+05]]\n",
      "\n",
      " [[ 7.26837510e+05  6.67775701e+02  7.44019624e+04]\n",
      "  [-4.93505823e+02  7.30633701e+05 -1.73652527e+03]\n",
      "  [-7.44033224e+04  1.67724287e+03  7.26835742e+05]]\n",
      "\n",
      " [[ 7.26503921e+05 -4.77116366e+04  6.11924553e+04]\n",
      "  [ 5.45820827e+04  7.23770649e+05 -8.37001046e+04]\n",
      "  [-5.51517280e+04  8.77981264e+04  7.23241757e+05]]] [[-2.12877712e+08 -1.61763670e+07  8.33278451e+09]\n",
      " [-6.55392633e+09  3.69764196e+08  8.51975407e+09]\n",
      " [-7.51739990e+10  1.71370942e+09  1.29628876e+10]\n",
      " [-8.99083514e+10  8.48669334e+10  8.64320174e+10]]\n",
      "5.551973304265322\n",
      "[[[ 7.30635931e+05  0.00000000e+00  0.00000000e+00]\n",
      "  [ 0.00000000e+00  7.30635931e+05  0.00000000e+00]\n",
      "  [ 0.00000000e+00  0.00000000e+00  7.30635931e+05]]\n",
      "\n",
      " [[ 7.29921282e+05  1.82336684e+02  3.23071618e+04]\n",
      "  [-9.55198563e+01  7.30633281e+05 -1.96548598e+03]\n",
      "  [-3.23075352e+04  1.95933981e+03  7.29918658e+05]]\n",
      "\n",
      " [[ 7.26498297e+05  6.97861191e+02  7.76440651e+04]\n",
      "  [-5.12261450e+02  7.30633598e+05 -1.77378351e+03]\n",
      "  [-7.76455115e+04  1.70930088e+03  7.26496467e+05]]\n",
      "\n",
      " [[ 7.27436923e+05 -4.12112533e+04  5.44611715e+04]\n",
      "  [ 4.72655485e+04  7.24341810e+05 -8.32092165e+04]\n",
      "  [-4.92986259e+04  8.63680403e+04  7.23836356e+05]]] [[-2.13153712e+08 -1.40197030e+07  8.33278502e+09]\n",
      " [-7.03690195e+09  4.00956083e+08  8.54286061e+09]\n",
      " [-8.18138196e+10  1.82955454e+09  1.37350194e+10]\n",
      " [-6.98133903e+10  7.61175872e+10  7.25494111e+10]]\n",
      "6.131981699973578\n",
      "[[[ 7.30635931e+05  0.00000000e+00  0.00000000e+00]\n",
      "  [ 0.00000000e+00  7.30635931e+05  0.00000000e+00]\n",
      "  [ 0.00000000e+00  0.00000000e+00  7.30635931e+05]]\n",
      "\n",
      " [[ 7.29650834e+05  2.12574476e+02  3.79272870e+04]\n",
      "  [-9.32968688e+01  7.30632304e+05 -2.30018141e+03]\n",
      "  [-3.79277680e+04  2.29223710e+03  7.29647239e+05]]\n",
      "\n",
      " [[ 7.24612691e+05  8.46371428e+02  9.36194172e+04]\n",
      "  [-6.04953071e+02  7.30633150e+05 -1.92300225e+03]\n",
      "  [-9.36212885e+04  1.82963419e+03  7.24610634e+05]]\n",
      "\n",
      " [[ 7.30389331e+05 -6.05985090e+03  1.79879462e+04]\n",
      "  [ 7.96454068e+03  7.26341063e+05 -7.87025370e+04]\n",
      "  [-1.72294542e+04  7.88720574e+04  7.26161971e+05]]] [[-2.14048048e+08 -2.41909875e+06  8.33279014e+09]\n",
      " [-9.68672208e+09  5.72059857e+08  8.68765529e+09]\n",
      " [-1.18453597e+11  2.40282968e+09  1.87600230e+10]\n",
      " [-6.13177371e+09  2.66633102e+10  9.71804859e+09]]\n",
      "6.235094303655046\n",
      "[[[ 7.30635931e+05  0.00000000e+00  0.00000000e+00]\n",
      "  [ 0.00000000e+00  7.30635931e+05  0.00000000e+00]\n",
      "  [ 0.00000000e+00  0.00000000e+00  7.30635931e+05]]\n",
      "\n",
      " [[ 7.29602432e+05  2.17365850e+02  3.88472251e+04]\n",
      "  [-9.21697909e+01  7.30632123e+05 -2.35710964e+03]\n",
      "  [-3.88477239e+04  2.34887488e+03  7.29598657e+05]]\n",
      "\n",
      " [[ 7.24283584e+05  8.70185043e+02  9.61321791e+04]\n",
      "  [-6.23130114e+02  7.30633145e+05 -1.91884887e+03]\n",
      "  [-9.61340979e+04  1.82017859e+03  7.24281565e+05]]\n",
      "\n",
      " [[ 7.30584904e+05  3.37562601e+03  7.94773699e+03]\n",
      "  [-2.53863133e+03  7.26740207e+05 -7.53066457e+04]\n",
      "  [-8.25328572e+03  7.52737716e+04  7.26701181e+05]]] [[-2.14117568e+08  6.90970125e+05  8.33279270e+09]\n",
      " [-1.01613092e+10  6.04284262e+08  8.71660393e+09]\n",
      " [-1.24800427e+11  2.46358512e+09  1.97531315e+10]\n",
      " [-2.34951525e+09  1.30930762e+10 -4.18405367e+09]]\n",
      "6.363985058256881\n",
      "[[[ 7.30635931e+05  0.00000000e+00  0.00000000e+00]\n",
      "  [ 0.00000000e+00  7.30635931e+05  0.00000000e+00]\n",
      "  [ 0.00000000e+00  0.00000000e+00  7.30635931e+05]]\n",
      "\n",
      " [[ 7.29532810e+05  2.24346479e+02  4.01334386e+04]\n",
      "  [-9.08878568e+01  7.30631877e+05 -2.43211195e+03]\n",
      "  [-4.01339627e+04  2.42344750e+03  7.29528790e+05]]\n",
      "\n",
      " [[ 7.23780725e+05  9.04894048e+02  9.98474188e+04]\n",
      "  [-6.45188087e+02  7.30633058e+05 -1.94467526e+03]\n",
      "  [-9.98494347e+04  1.83825903e+03  7.23778678e+05]]\n",
      "\n",
      " [[ 7.30558434e+05  1.06278599e+04  5.35594006e+02]\n",
      "  [-1.05174815e+04  7.26734101e+05 -7.46712272e+04]\n",
      "  [-1.61890447e+03  7.46555971e+04  7.26810006e+05]]] [[-2.14113856e+08  3.04516150e+06  8.33279322e+09]\n",
      " [-1.08440094e+10  6.47328146e+08  8.75975140e+09]\n",
      " [-1.34470097e+11  2.59386199e+09  2.13307422e+10]\n",
      " [-3.60825310e+09  4.06689740e+09 -1.48912727e+10]]\n",
      "6.363985058256881\n",
      "[[[ 7.30635931e+05  0.00000000e+00  0.00000000e+00]\n",
      "  [ 0.00000000e+00  7.30635931e+05  0.00000000e+00]\n",
      "  [ 0.00000000e+00  0.00000000e+00  7.30635931e+05]]\n",
      "\n",
      " [[ 7.29525243e+05  2.25354041e+02  4.02707402e+04]\n",
      "  [-9.12169377e+01  7.30631864e+05 -2.43615547e+03]\n",
      "  [-4.02712675e+04  2.42742447e+03  7.29521210e+05]]\n",
      "\n",
      " [[ 7.23701058e+05  9.09814074e+02  1.00423174e+05]\n",
      "  [-6.44107787e+02  7.30632971e+05 -1.97761795e+03]\n",
      "  [-1.00425230e+05  1.87031707e+03  7.23698928e+05]]\n",
      "\n",
      " [[ 7.30588519e+05  5.74984665e+03  6.01824745e+03]\n",
      "  [-5.06877669e+03  7.26372626e+05 -7.86509963e+04]\n",
      "  [-6.60208617e+03  7.86041410e+04  7.26365380e+05]]] [[-2.14106272e+08  1.42010338e+06  8.33279014e+09]\n",
      " [-1.09182070e+10  6.49068616e+08  8.76454132e+09]\n",
      " [-1.35999073e+11  2.65182635e+09  2.15868100e+10]\n",
      " [-2.57143107e+09  1.15190172e+10 -8.78564075e+09]]\n",
      "6.833078345923886\n",
      "[[[ 7.30635931e+05  0.00000000e+00  0.00000000e+00]\n",
      "  [ 0.00000000e+00  7.30635931e+05  0.00000000e+00]\n",
      "  [ 0.00000000e+00  0.00000000e+00  7.30635931e+05]]\n",
      "\n",
      " [[ 7.29253210e+05  2.50592462e+02  4.49283544e+04]\n",
      "  [-8.42129725e+01  7.30630907e+05 -2.70826783e+03]\n",
      "  [-4.49289744e+04  2.69796402e+03  7.29248224e+05]]\n",
      "\n",
      " [[ 7.21713406e+05  1.03502879e+03  1.13831242e+05]\n",
      "  [-7.24600875e+02  7.30632698e+05 -2.04927672e+03]\n",
      "  [-1.13833642e+05  1.91135996e+03  7.21711239e+05]]\n",
      "\n",
      " [[ 7.29572937e+05  3.28205825e+04 -2.17945531e+04]\n",
      "  [-3.49203722e+04  7.25842537e+05 -7.59081238e+04]\n",
      "  [ 1.82417321e+04  7.68393455e+04  7.26355159e+05]]] [[-2.13812896e+08  1.02250220e+07  8.33279117e+09]\n",
      " [-1.35861974e+10  8.16801632e+08  8.95003664e+09]\n",
      " [-1.73862803e+11  3.11464956e+09  2.85267885e+10]\n",
      " [-2.87603151e+10 -2.10408749e+10 -5.12342358e+10]]\n",
      "7.067624989757389\n",
      "[[[ 7.30635931e+05  0.00000000e+00  0.00000000e+00]\n",
      "  [ 0.00000000e+00  7.30635931e+05  0.00000000e+00]\n",
      "  [ 0.00000000e+00  0.00000000e+00  7.30635931e+05]]\n",
      "\n",
      " [[ 7.29102110e+05  2.63634453e+02  4.73170882e+04]\n",
      "  [-7.95762027e+01  7.30630389e+05 -2.84464178e+03]\n",
      "  [-4.73177557e+04  2.83351656e+03  7.29096609e+05]]\n",
      "\n",
      " [[ 7.20575423e+05  1.10161355e+03  1.20825118e+05]\n",
      "  [-7.77824278e+02  7.30632717e+05 -2.02270728e+03]\n",
      "  [-1.20827637e+05  1.86622692e+03  7.20573426e+05]]\n",
      "\n",
      " [[ 7.28294176e+05  4.63334626e+04 -3.56323861e+04]\n",
      "  [-4.97765053e+04  7.25121492e+05 -7.44982195e+04]\n",
      "  [ 3.06391290e+04  7.66869965e+04  7.25954001e+05]]] [[-2.13433600e+08  1.46057670e+07  8.33279066e+09]\n",
      " [-1.50678993e+10  9.08411463e+08  9.06350824e+09]\n",
      " [-1.95296186e+11  3.25950263e+09  3.29332332e+10]\n",
      " [-5.99138946e+10 -3.44336543e+10 -7.45878206e+10]]\n",
      "8.240358208924903\n",
      "[[[ 7.30635931e+05  0.00000000e+00  0.00000000e+00]\n",
      "  [ 0.00000000e+00  7.30635931e+05  0.00000000e+00]\n",
      "  [ 0.00000000e+00  0.00000000e+00  7.30635931e+05]]\n",
      "\n",
      " [[ 7.28250403e+05  3.26899328e+02  5.89924393e+04]\n",
      "  [-4.27751727e+01  7.30627447e+05 -3.52063057e+03]\n",
      "  [-5.89933295e+04  3.50568198e+03  7.28241966e+05]]\n",
      "\n",
      " [[ 7.14138834e+05  1.41424269e+03  1.54378072e+05]\n",
      "  [-1.06453474e+03  7.30633014e+05 -1.76881855e+03]\n",
      "  [-1.54380880e+05  1.50395177e+03  7.14138044e+05]]\n",
      "\n",
      " [[ 7.13631731e+05  1.14880119e+05 -1.06588812e+05]\n",
      "  [-1.25301468e+05  7.16740147e+05 -6.64226359e+04]\n",
      "  [ 9.41177921e+04  8.31563748e+04  7.19760878e+05]]] [[-2.09109760e+08  3.68424680e+07  8.33278810e+09]\n",
      " [-2.34075626e+10  1.42465179e+09  9.82525466e+09]\n",
      " [-3.13140294e+11  3.60685949e+09  6.27297628e+10]\n",
      " [-3.99045294e+11 -5.51683064e+10 -2.57734901e+11]]\n",
      "8.448844114554683\n",
      "[[[ 7.30635931e+05  0.00000000e+00  0.00000000e+00]\n",
      "  [ 0.00000000e+00  7.30635931e+05  0.00000000e+00]\n",
      "  [ 0.00000000e+00  0.00000000e+00  7.30635931e+05]]\n",
      "\n",
      " [[ 7.28108043e+05  3.35734233e+02  6.07241964e+04]\n",
      "  [-3.37611386e+01  7.30626889e+05 -3.63470765e+03]\n",
      "  [-6.07251151e+04  3.61932619e+03  7.28099048e+05]]\n",
      "\n",
      " [[ 7.13192207e+05  1.45055098e+03  1.58693527e+05]\n",
      "  [-1.12595199e+03  7.30633271e+05 -1.61821740e+03]\n",
      "  [-1.58696162e+05  1.33502707e+03  7.13191846e+05]]\n",
      "\n",
      " [[ 7.08775415e+05  1.29166360e+05 -1.21582587e+05]\n",
      "  [-1.41326614e+05  7.13837453e+05 -6.55113867e+04]\n",
      "  [ 1.07205701e+05  8.70689669e+04  7.17464143e+05]]] [[-2.07631248e+08  4.15429200e+07  8.33277786e+09]\n",
      " [-2.47981539e+10  1.51739420e+09  9.97081184e+09]\n",
      " [-3.29982759e+11  3.38246695e+09  6.77138513e+10]\n",
      " [-5.03632747e+11 -4.75124603e+10 -3.19360108e+11]]\n",
      "8.709451496591909\n",
      "[[[ 7.30635931e+05  0.00000000e+00  0.00000000e+00]\n",
      "  [ 0.00000000e+00  7.30635931e+05  0.00000000e+00]\n",
      "  [ 0.00000000e+00  0.00000000e+00  7.30635931e+05]]\n",
      "\n",
      " [[ 7.27880252e+05  3.50318050e+02  6.33962155e+04]\n",
      "  [-2.19546031e+01  7.30626125e+05 -3.78526061e+03]\n",
      "  [-6.33971796e+04  3.76907909e+03  7.27870493e+05]]\n",
      "\n",
      " [[ 7.11412947e+05  1.52364232e+03  1.66487718e+05]\n",
      "  [-1.20834990e+03  7.30633344e+05 -1.52316414e+03]\n",
      "  [-1.66490305e+05  1.20774689e+03  7.11412948e+05]]\n",
      "\n",
      " [[ 7.03719303e+05  1.42196397e+05 -1.35603065e+05]\n",
      "  [-1.55862785e+05  7.11007227e+05 -6.32801619e+04]\n",
      "  [ 1.19644470e+05  8.98764213e+04  7.15147742e+05]]] [[-2.06165056e+08  4.58085440e+07  8.33278195e+09]\n",
      " [-2.70222327e+10  1.65194444e+09  1.02138156e+10]\n",
      " [-3.61306571e+11  3.32542858e+09  7.74371991e+10]\n",
      " [-6.11765269e+11 -3.41257047e+10 -3.81891543e+11]]\n",
      "8.709451496591909\n",
      "[[[ 7.30635931e+05  0.00000000e+00  0.00000000e+00]\n",
      "  [ 0.00000000e+00  7.30635931e+05  0.00000000e+00]\n",
      "  [ 0.00000000e+00  0.00000000e+00  7.30635931e+05]]\n",
      "\n",
      " [[ 7.27833050e+05  3.54086057e+02  6.39358181e+04]\n",
      "  [-2.21495841e+01  7.30626079e+05 -3.79416914e+03]\n",
      "  [-6.39367948e+04  3.77767563e+03  7.27823247e+05]]\n",
      "\n",
      " [[ 7.10812329e+05  1.55196753e+03  1.69033394e+05]\n",
      "  [-1.20799980e+03  7.30633118e+05 -1.62842217e+03]\n",
      "  [-1.69036202e+05  1.30476782e+03  7.10812158e+05]]\n",
      "\n",
      " [[ 7.05055055e+05  1.38857460e+05 -1.32078911e+05]\n",
      "  [-1.51779877e+05  7.12033438e+05 -6.16450795e+04]\n",
      "  [ 1.17000435e+05  8.69244080e+04  7.15949655e+05]]] [[-2.06649488e+08  4.46271720e+07  8.33280038e+09]\n",
      " [-2.74835637e+10  1.66851494e+09  1.02657902e+10]\n",
      " [-3.71784688e+11  3.60997230e+09  8.08175829e+10]\n",
      " [-5.88185010e+11 -3.47195282e+10 -3.60127880e+11]]\n",
      "9.353459508324786\n",
      "[[[ 7.30635931e+05  0.00000000e+00  0.00000000e+00]\n",
      "  [ 0.00000000e+00  7.30635931e+05  0.00000000e+00]\n",
      "  [ 0.00000000e+00  0.00000000e+00  7.30635931e+05]]\n",
      "\n",
      " [[ 7.27228300e+05  3.89690019e+02  7.04819886e+04]\n",
      "  [ 1.21522908e+01  7.30624060e+05 -4.16495618e+03]\n",
      "  [-7.04830648e+04  4.14670343e+03  7.27216478e+05]]\n",
      "\n",
      " [[ 7.06051202e+05  1.72467759e+03  1.87929747e+05]\n",
      "  [-1.42397363e+03  7.30633286e+05 -1.35533929e+03]\n",
      "  [-1.87932266e+05  9.43468423e+02  7.06052007e+05]]\n",
      "\n",
      " [[ 6.89831744e+05  1.72153379e+05 -1.68298078e+05]\n",
      "  [-1.88997101e+05  7.03627631e+05 -5.49282894e+04]\n",
      "  [ 1.49134586e+05  9.53951530e+04  7.08863530e+05]]] [[-2.02242880e+08  5.55612400e+07  8.33281574e+09]\n",
      " [-3.33734848e+10  2.02431909e+09  1.09729083e+10]\n",
      " [-4.53053856e+11  3.29604747e+09  1.09268562e+11]\n",
      " [-9.03495571e+11  2.29710915e+10 -5.54586244e+11]]\n",
      "9.675463514191225\n",
      "[[[ 7.30635931e+05  0.00000000e+00  0.00000000e+00]\n",
      "  [ 0.00000000e+00  7.30635931e+05  0.00000000e+00]\n",
      "  [ 0.00000000e+00  0.00000000e+00  7.30635931e+05]]\n",
      "\n",
      " [[ 7.26902104e+05  4.07586932e+02  7.37701039e+04]\n",
      "  [ 3.17637366e+01  7.30622982e+05 -4.34974997e+03]\n",
      "  [-7.37712230e+04  4.33072818e+03  7.26889204e+05]]\n",
      "\n",
      " [[ 7.03457282e+05  1.80954381e+03  1.97416923e+05]\n",
      "  [-1.56337438e+03  7.30633390e+05 -1.12627648e+03]\n",
      "  [-1.97419026e+05  6.61958725e+02  7.03458708e+05]]\n",
      "\n",
      " [[ 6.82110815e+05  1.86253757e+05 -1.84019666e+05]\n",
      "  [-2.04497365e+05  6.99659516e+05 -4.98623390e+04]\n",
      "  [ 1.63506963e+05  9.80559189e+04  7.05322177e+05]]] [[-2.00075440e+08  6.01106360e+07  8.33283674e+09]\n",
      " [-3.65423570e+10  2.21375393e+09  1.13856567e+10]\n",
      " [-4.96017577e+11  2.84113483e+09  1.25871152e+11]\n",
      " [-1.06160472e+12  6.36644779e+10 -6.53311438e+11]]\n",
      "11.285483543523418\n",
      "[[[ 7.30635931e+05  0.00000000e+00  0.00000000e+00]\n",
      "  [ 0.00000000e+00  7.30635931e+05  0.00000000e+00]\n",
      "  [ 0.00000000e+00  0.00000000e+00  7.30635931e+05]]\n",
      "\n",
      " [[ 7.25061838e+05  4.95875976e+02  9.00774622e+04]\n",
      "  [ 1.55008286e+02  7.30616910e+05 -5.26975287e+03]\n",
      "  [-9.00786938e+04  5.24865982e+03  7.25042857e+05]]\n",
      "\n",
      " [[ 6.88781735e+05  2.19996383e+03  2.43728835e+05]\n",
      "  [-2.26465612e+03  7.30632395e+05 -1.94934149e+02]\n",
      "  [-2.43728243e+05 -5.71686800e+02  6.88785221e+05]]\n",
      "\n",
      " [[ 6.59274191e+05  2.18634195e+05 -2.26683687e+05]\n",
      "  [-2.37362176e+05  6.90578601e+05 -2.42746177e+04]\n",
      "  [ 2.06991793e+05  9.55465768e+04  6.94157124e+05]]] [[-1.93745008e+08  6.97859040e+07  8.33291456e+09]\n",
      " [-5.43052159e+10  3.26323243e+09  1.40759033e+10]\n",
      " [-7.22025562e+11  4.03771087e+08  2.31035369e+11]\n",
      " [-1.56845314e+12  2.31038587e+11 -9.39115150e+11]]\n",
      "11.571709326515807\n",
      "[[[ 7.30635931e+05  0.00000000e+00  0.00000000e+00]\n",
      "  [ 0.00000000e+00  7.30635931e+05  0.00000000e+00]\n",
      "  [ 0.00000000e+00  0.00000000e+00  7.30635931e+05]]\n",
      "\n",
      " [[ 7.24715156e+05  5.10430133e+02  9.28253502e+04]\n",
      "  [ 1.81262605e+02  7.30615711e+05 -5.43269732e+03]\n",
      "  [-9.28265766e+04  5.41170190e+03  7.24694973e+05]]\n",
      "\n",
      " [[ 6.86122640e+05  2.24493568e+03  2.51116599e+05]\n",
      "  [-2.29050474e+03  7.30632289e+05 -2.73400212e+02]\n",
      "  [-2.51116188e+05 -5.30493600e+02  6.86126258e+05]]\n",
      "\n",
      " [[ 6.80356846e+05  1.84264788e+05 -1.92327619e+05]\n",
      "  [-1.94921827e+05  7.03994147e+05 -1.50527890e+04]\n",
      "  [ 1.81518337e+05  6.53268159e+04  7.04707290e+05]]] [[-2.00087856e+08  5.73534520e+07  8.33293760e+09]\n",
      " [-5.76348405e+10  3.45073136e+09  1.46456181e+10]\n",
      " [-7.59950190e+11  6.54184116e+08  2.51700633e+11]\n",
      " [-1.23223693e+12  1.53958689e+11 -5.97680050e+11]]\n",
      "11.929491555256295\n",
      "[[[ 7.30635931e+05  0.00000000e+00  0.00000000e+00]\n",
      "  [ 0.00000000e+00  7.30635931e+05  0.00000000e+00]\n",
      "  [ 0.00000000e+00  0.00000000e+00  7.30635931e+05]]\n",
      "\n",
      " [[ 7.24239472e+05  5.30111192e+02  9.64664139e+04]\n",
      "  [ 2.15861697e+02  7.30614164e+05 -5.63556045e+03]\n",
      "  [-9.64676290e+04  5.61472350e+03  7.24217740e+05]]\n",
      "\n",
      " [[ 6.82288368e+05  2.32851977e+03  2.61354211e+05]\n",
      "  [-2.50614495e+03  7.30631632e+05  3.29948912e+01]\n",
      "  [-2.61352569e+05 -9.27279292e+02  6.82292341e+05]]\n",
      "\n",
      " [[ 6.71966919e+05  1.98048665e+05 -2.07523612e+05]\n",
      "  [-2.08633743e+05  7.00176229e+05 -7.35340963e+03]\n",
      "  [ 1.96878857e+05  6.60214943e+04  7.00506061e+05]]] [[-1.97631008e+08  6.14029320e+07  8.33294170e+09]\n",
      " [-6.21794670e+10  3.72039912e+09  1.54552364e+10]\n",
      " [-8.13000903e+11 -3.83771820e+08  2.82175083e+11]\n",
      " [-1.43031542e+12  2.22186615e+11 -7.05441957e+11]]\n",
      "11.929491555256295\n",
      "[[[ 7.30635931e+05  0.00000000e+00  0.00000000e+00]\n",
      "  [ 0.00000000e+00  7.30635931e+05  0.00000000e+00]\n",
      "  [ 0.00000000e+00  0.00000000e+00  7.30635931e+05]]\n",
      "\n",
      " [[ 7.24208938e+05  5.31774501e+02  9.66953732e+04]\n",
      "  [ 2.15929022e+02  7.30614167e+05 -5.63522011e+03]\n",
      "  [-9.66965943e+04  5.61422719e+03  7.24187208e+05]]\n",
      "\n",
      " [[ 6.81848133e+05  2.35955335e+03  2.62500324e+05]\n",
      "  [-2.69204021e+03  7.30630848e+05  4.25142802e+02]\n",
      "  [-2.62497125e+05 -1.36394093e+03  6.81852083e+05]]\n",
      "\n",
      " [[ 6.32251267e+05  2.51219514e+05 -2.66413129e+05]\n",
      "  [-2.75400206e+05  6.76565045e+05 -1.55990337e+04]\n",
      "  [ 2.41333640e+05  1.13918213e+05  6.80154084e+05]]] [[-1.85816912e+08  8.09674560e+07  8.33292378e+09]\n",
      " [-6.24591222e+10  3.74845428e+09  1.55069684e+10]\n",
      " [-8.18942438e+11 -1.72223938e+09  2.85724079e+11]\n",
      " [-2.00997991e+12  3.96808207e+11 -1.34283064e+12]]\n",
      "12.68633975970571\n",
      "[[[ 7.30635931e+05  0.00000000e+00  0.00000000e+00]\n",
      "  [ 0.00000000e+00  7.30635931e+05  0.00000000e+00]\n",
      "  [ 0.00000000e+00  0.00000000e+00  7.30635931e+05]]\n",
      "\n",
      " [[ 7.23141597e+05  5.73177121e+02  1.04377997e+05]\n",
      "  [ 2.96050944e+02  7.30610713e+05 -6.06311783e+03]\n",
      "  [-1.04379151e+05  6.04322033e+03  7.23116405e+05]]\n",
      "\n",
      " [[ 6.73223102e+05  2.52755887e+03  2.83889292e+05]\n",
      "  [-3.16079688e+03  7.30628422e+05  9.90580259e+02]\n",
      "  [-2.83882948e+05 -2.14087186e+03  6.73227118e+05]]\n",
      "\n",
      " [[ 6.17000625e+05  2.65216472e+05 -2.87748702e+05]\n",
      "  [-2.90186681e+05  6.70524298e+05 -4.20948903e+03]\n",
      "  [ 2.62546724e+05  1.17839945e+05  6.71574142e+05]]] [[-1.81419184e+08  8.53221920e+07  8.33294426e+09]\n",
      " [-7.26001190e+10  4.34590039e+09  1.74437090e+10]\n",
      " [-9.30992419e+11 -3.96461486e+09  3.56819522e+11]\n",
      " [-2.28129635e+12  5.12938846e+11 -1.56679566e+12]]\n"
     ]
    },
    {
     "name": "stdout",
     "output_type": "stream",
     "text": [
      "13.06476386193042\n",
      "[[[ 7.30635931e+05  0.00000000e+00  0.00000000e+00]\n",
      "  [ 0.00000000e+00  7.30635931e+05  0.00000000e+00]\n",
      "  [ 0.00000000e+00  0.00000000e+00  7.30635931e+05]]\n",
      "\n",
      " [[ 7.22577143e+05  5.93817915e+02  1.08216374e+05]\n",
      "  [ 3.39536631e+02  7.30608895e+05 -6.27622265e+03]\n",
      "  [-1.08217471e+05  6.25728665e+03  7.22550129e+05]]\n",
      "\n",
      " [[ 6.68655545e+05  2.60653101e+03  2.94485708e+05]\n",
      "  [-3.42092898e+03  7.30626765e+05  1.30064653e+03]\n",
      "  [-2.94477373e+05 -2.56913071e+03  6.68659360e+05]]\n",
      "\n",
      " [[ 6.12441526e+05  2.68213518e+05 -2.94628154e+05]\n",
      "  [-2.92542558e+05  6.69511619e+05  1.38091314e+03]\n",
      "  [ 2.70486769e+05  1.16809948e+05  6.68596446e+05]]] [[-1.80081648e+08  8.60177840e+07  8.33294579e+09]\n",
      " [-7.79327777e+10  4.65866948e+09  1.85288171e+10]\n",
      " [-9.86596316e+11 -5.29218634e+09  3.95516506e+11]\n",
      " [-2.37960388e+12  5.54273789e+11 -1.63411859e+12]]\n",
      "14.95688437305396\n",
      "[[[ 7.30635931e+05  0.00000000e+00  0.00000000e+00]\n",
      "  [ 0.00000000e+00  7.30635931e+05  0.00000000e+00]\n",
      "  [ 0.00000000e+00  0.00000000e+00  7.30635931e+05]]\n",
      "\n",
      " [[ 7.19451518e+05  6.96146074e+02  1.27349491e+05]\n",
      "  [ 5.91256309e+02  7.30598882e+05 -7.33402064e+03]\n",
      "  [-1.27350021e+05  7.32480876e+03  7.19414472e+05]]\n",
      "\n",
      " [[ 6.43367445e+05  2.97488483e+03  3.46263403e+05]\n",
      "  [-4.79324519e+03  7.30615478e+05  2.62898418e+03]\n",
      "  [-3.46243006e+05 -4.58659106e+03  6.43368951e+05]]\n",
      "\n",
      " [[ 5.71854916e+05  2.94765614e+05 -3.46300521e+05]\n",
      "  [-3.22195819e+05  6.55254624e+05  2.56923328e+04]\n",
      "  [ 3.20937178e+05  1.32602695e+05  6.42841129e+05]]] [[-1.68113408e+08  9.47614000e+07  8.33294374e+09]\n",
      " [-1.07058702e+11  6.37867682e+09  2.52131668e+10]\n",
      " [-1.24995128e+12 -1.19416790e+10  6.16635641e+11]\n",
      " [-2.97965603e+12  8.28797480e+11 -2.25652208e+12]]\n",
      "15.293261352809255\n",
      "[[[ 7.30635931e+05  0.00000000e+00  0.00000000e+00]\n",
      "  [ 0.00000000e+00  7.30635931e+05  0.00000000e+00]\n",
      "  [ 0.00000000e+00  0.00000000e+00  7.30635931e+05]]\n",
      "\n",
      " [[ 7.18845455e+05  7.14071829e+02  1.30727065e+05]\n",
      "  [ 6.42034433e+02  7.30596936e+05 -7.52118333e+03]\n",
      "  [-1.30727439e+05  7.51468618e+03  7.18806462e+05]]\n",
      "\n",
      " [[ 6.38486245e+05  3.04003780e+03  3.55182962e+05]\n",
      "  [-4.95980225e+03  7.30614245e+05  2.66248862e+03]\n",
      "  [-3.55161341e+05 -4.73779000e+03  6.38487931e+05]]\n",
      "\n",
      " [[ 5.44824960e+05  3.10459790e+05 -3.74979126e+05]\n",
      "  [-3.47793880e+05  6.42013025e+05  2.62213061e+04]\n",
      "  [ 3.40637702e+05  1.58942940e+05  6.26523712e+05]]] [[-1.60055040e+08  1.02313624e+08  8.33292480e+09]\n",
      " [-1.12621629e+11  6.71593319e+09  2.66287377e+10]\n",
      " [-1.29252473e+12 -1.23417835e+10  6.59764148e+11]\n",
      " [-3.12500055e+12  9.22796791e+11 -2.64285794e+12]]\n",
      "15.713732577503375\n",
      "[[[ 7.30635931e+05  0.00000000e+00  0.00000000e+00]\n",
      "  [ 0.00000000e+00  7.30635931e+05  0.00000000e+00]\n",
      "  [ 0.00000000e+00  0.00000000e+00  7.30635931e+05]]\n",
      "\n",
      " [[ 7.18061697e+05  7.36575734e+02  1.34965628e+05]\n",
      "  [ 7.07899426e+02  7.30594447e+05 -7.75348229e+03]\n",
      "  [-1.34965781e+05  7.75081063e+03  7.18020213e+05]]\n",
      "\n",
      " [[ 6.32156144e+05  3.10940818e+03  3.66330186e+05]\n",
      "  [-5.32065840e+03  7.30610480e+05  2.98015489e+03]\n",
      "  [-3.66304742e+05 -5.24617096e+03  6.32156766e+05]]\n",
      "\n",
      " [[ 5.42378773e+05  3.09373771e+05 -3.79396890e+05]\n",
      "  [-3.44777218e+05  6.43388801e+05  3.17550712e+04]\n",
      "  [ 3.47538200e+05  1.55459269e+05  6.23601218e+05]]] [[-1.59350832e+08  1.01422264e+08  8.33292582e+09]\n",
      " [-1.19786893e+11  7.13792076e+09  2.85138454e+10]\n",
      " [-1.34392638e+12 -1.41108082e+10  7.15537782e+11]\n",
      " [-3.20518236e+12  9.48845286e+11 -2.68901283e+12]]\n",
      "15.713732577503375\n",
      "[[[ 7.30635931e+05  0.00000000e+00  0.00000000e+00]\n",
      "  [ 0.00000000e+00  7.30635931e+05  0.00000000e+00]\n",
      "  [ 0.00000000e+00  0.00000000e+00  7.30635931e+05]]\n",
      "\n",
      " [[ 7.18057331e+05  7.36759199e+02  1.34988853e+05]\n",
      "  [ 7.07775666e+02  7.30594458e+05 -7.75246011e+03]\n",
      "  [-1.34989008e+05  7.74975935e+03  7.18015858e+05]]\n",
      "\n",
      " [[ 6.32094312e+05  3.10059117e+03  3.66436939e+05]\n",
      "  [-5.48195351e+03  7.30608028e+05  3.27421913e+03]\n",
      "  [-3.66409050e+05 -5.58199423e+03  6.32093437e+05]]\n",
      "\n",
      " [[ 5.71020729e+05  2.92202147e+05 -3.49831525e+05]\n",
      "  [-3.14189998e+05  6.58579057e+05  3.72442498e+04]\n",
      "  [ 3.30225432e+05  1.21327632e+05  6.40358988e+05]]] [[-1.67917152e+08  9.23984400e+07  8.33295091e+09]\n",
      " [-1.19835138e+11  7.12915399e+09  2.85260377e+10]\n",
      " [-1.34437734e+12 -1.54653413e+10  7.16082870e+11]\n",
      " [-3.11289336e+12  8.84989529e+11 -2.27633781e+12]]\n",
      "16.5709860620027\n",
      "[[[ 730635.93088757       0.               0.        ]\n",
      "  [      0.          730635.93088757       0.        ]\n",
      "  [      0.               0.          730635.93088757]]\n",
      "\n",
      " [[ 716381.85219022     782.39226277  143615.08701669]\n",
      "  [    850.70488152  730589.15388324   -8223.62653176]\n",
      "  [-143614.69861289    8230.40670177  716335.07679842]]\n",
      "\n",
      " [[ 618585.4730652     3234.65534901  388806.39529388]\n",
      "  [  -6250.16579828  730598.96999417    3865.74377115]\n",
      "  [-388769.61229518   -6598.90537766  618581.85109784]]\n",
      "\n",
      " [[ 557986.62018252  297444.73427069 -366068.88047999]\n",
      "  [-318207.83843767  655952.15107958   47952.16944886]\n",
      "  [ 348171.74893731  122809.88988133  630494.27253007]]] [[-1.64082864e+08  9.35860320e+07  8.33294784e+09]\n",
      " [-1.35004824e+11  8.02819026e+09  3.27452461e+10]\n",
      " [-1.44020429e+12 -1.90227302e+10  8.33688824e+11]\n",
      " [-3.32382267e+12  9.84376905e+11 -2.48253564e+12]]\n",
      "16.99961280425236\n",
      "[[[ 730635.93088757       0.               0.        ]\n",
      "  [      0.          730635.93088757       0.        ]\n",
      "  [      0.               0.          730635.93088757]]\n",
      "\n",
      " [[ 715505.22456495     805.08234331  147920.54950759]\n",
      "  [    926.49502452  730586.38734909   -8457.87982439]\n",
      "  [-147919.83886949    8470.29908414  715455.68612333]]\n",
      "\n",
      " [[ 611533.05700241    3296.25826116  399806.60121954]\n",
      "  [  -6653.63408457  730593.82637061    4153.73645938]\n",
      "  [-399764.82192748   -7117.51744508  611527.83387076]]\n",
      "\n",
      " [[ 551744.78376979  299450.56662108 -373812.67399206]\n",
      "  [-319486.10285576  654934.31774137   53089.85807705]\n",
      "  [ 356840.56267305  123366.36939991  625519.31643732]]] [[-1.62244416e+08  9.39648080e+07  8.33294477e+09]\n",
      " [-1.42863083e+11  8.49502602e+09  3.50495135e+10]\n",
      " [-1.48308086e+12 -2.08236450e+10  8.93908738e+11]\n",
      " [-3.42225483e+12  1.03066549e+12 -2.58171706e+12]]\n",
      "19.142746515500676\n",
      "[[[ 730635.93088757       0.               0.        ]\n",
      "  [      0.          730635.93088757       0.        ]\n",
      "  [      0.               0.          730635.93088757]]\n",
      "\n",
      " [[ 710734.7263436      917.16005134  169364.01946897]\n",
      "  [   1348.43769355  730571.41833885   -9614.98445638]\n",
      "  [-169361.13482446    9665.66230271  710670.27831982]]\n",
      "\n",
      " [[ 573385.84839304    3555.15893023  452818.83045157]\n",
      "  [  -8813.73909735  730562.62847208    5424.70156264]\n",
      "  [-452747.00481579   -9719.57966688  573371.20864705]]\n",
      "\n",
      " [[ 516207.79445793  309950.84885169 -413870.56882671]\n",
      "  [-327180.93239373  648648.54379079   77695.35134105]\n",
      "  [ 400388.57866178  130439.26340698  597079.0970575 ]]] [[-1.51794992e+08  9.62510240e+07  8.33293299e+09]\n",
      " [-1.84677695e+11  1.09966555e+10  4.86241632e+10]\n",
      " [-1.63771478e+12 -2.93100046e+10  1.19703662e+12]\n",
      " [-3.89079447e+12  1.26259126e+12 -3.12544112e+12]]\n",
      "19.52374806416704\n",
      "[[[ 730635.93088757       0.               0.        ]\n",
      "  [      0.          730635.93088757       0.        ]\n",
      "  [      0.               0.          730635.93088757]]\n",
      "\n",
      " [[ 709819.40726494     936.82598891  173160.0269435 ]\n",
      "  [   1430.92166839  730568.559305     -9818.15268537]\n",
      "  [-173156.64883909    9877.55111558  709752.12042707]]\n",
      "\n",
      " [[ 566117.20783516    3595.28485582  461873.62386661]\n",
      "  [  -9199.59978116  730556.63161029    5589.17507727]\n",
      "  [-461795.99160315  -10146.20327923  566101.033564  ]]\n",
      "\n",
      " [[ 505334.77680252  314407.4461371  -423808.42921236]\n",
      "  [-332575.72245607  645341.04460171   82202.11973636]\n",
      "  [ 409706.01129434  136057.91954119  589455.75774892]]] [[-1.48601008e+08  9.78458800e+07  8.33293299e+09]\n",
      " [-1.92516738e+11  1.14704656e+10  5.14095272e+10]\n",
      " [-1.65368158e+12 -3.05120884e+10  1.24929604e+12]\n",
      " [-3.98231700e+12  1.31555754e+12 -3.27494990e+12]]\n",
      "20.0\n",
      "[[[ 730635.93088757       0.               0.        ]\n",
      "  [      0.          730635.93088757       0.        ]\n",
      "  [      0.               0.          730635.93088757]]\n",
      "\n",
      " [[ 708646.51288855     961.3008507   177899.01398134]\n",
      "  [   1537.14099493  730564.90474296  -10070.78246361]\n",
      "  [-177894.97034042   10141.96048809  708575.60194307]]\n",
      "\n",
      " [[ 556827.70377571    3635.8197261   473031.23853161]\n",
      "  [  -9726.37079977  730547.89233432    5834.22838894]\n",
      "  [-472945.20773858  -10743.43170259  556809.00913717]]\n",
      "\n",
      " [[ 497724.11921411  315447.0701263  -431963.78390464]\n",
      "  [-332927.68625041  644522.07069979   87059.28791778]\n",
      "  [ 418639.12906516  137525.66972582  582800.85216649]]] [[-1.46360352e+08  9.79522960e+07  8.33292941e+09]\n",
      " [-2.02477839e+11  1.20719423e+10  5.50562292e+10]\n",
      " [-1.66839975e+12 -3.22156957e+10  1.31306181e+12]\n",
      " [-4.06393700e+12  1.35568679e+12 -3.38427463e+12]]\n",
      "20.0\n",
      "[[[ 730635.93088757       0.               0.        ]\n",
      "  [      0.          730635.93088757       0.        ]\n",
      "  [      0.               0.          730635.93088757]]\n",
      "\n",
      " [[ 708646.24160352     961.30863132  177900.09457805]\n",
      "  [   1537.10928221  730564.90698597  -10070.62458759]\n",
      "  [-177896.05127776   10141.79817612  708575.33288528]]\n",
      "\n",
      " [[ 556824.40622594    3630.19189005  473035.16343071]\n",
      "  [  -9765.33634845  730546.93564074    5888.67861863]\n",
      "  [-472948.28717428  -10810.18208511  556805.10156262]]\n",
      "\n",
      " [[ 504537.10351812  310905.62514755 -427327.58737192]\n",
      "  [-326128.49819024  648069.89048462   86455.09365782]\n",
      "  [ 415826.13836275  131041.8742342   586298.14374213]]] [[-1.48356944e+08  9.59452800e+07  8.33292582e+09]\n",
      " [-2.02482061e+11  1.20698132e+10  5.50575369e+10]\n",
      " [-1.66839247e+12 -3.25103388e+10  1.31307994e+12]\n",
      " [-4.03842030e+12  1.33301580e+12 -3.30141577e+12]]\n",
      "0:00:01.368918\n"
     ]
    }
   ],
   "source": [
    "startTime1 = datetime.now()\n",
    "# prob = de.ODEProblem(grayscott1d, q0, tspan)\n",
    "# us = de.solve(prob)\n",
    "us=solve_ivp(grayscott1d,  tspan, q0, \n",
    "#              nfev=842\n",
    "#              method='LSODA',\n",
    "#              method= 'BDF'\n",
    "#              vectorized=True\n",
    "#              min_step=1e-6\n",
    "#              rtol=1e9, atol=1e9\n",
    "            )\n",
    "# us=ode15s.integrate(10)\n",
    "print(datetime.now() - startTime1)"
   ]
  },
  {
   "cell_type": "code",
   "execution_count": 255,
   "metadata": {},
   "outputs": [],
   "source": [
    "fin=us"
   ]
  },
  {
   "cell_type": "code",
   "execution_count": 256,
   "metadata": {
    "scrolled": true
   },
   "outputs": [],
   "source": [
    "# startTime1 = datetime.now()\n",
    "# us=odeint(grayscott1d, torch.from_numpy(q0), torch.from_numpy(t.astype(np.float32)))\n",
    "# print(datetime.now() - startTime1)"
   ]
  },
  {
   "cell_type": "code",
   "execution_count": 257,
   "metadata": {},
   "outputs": [
    {
     "data": {
      "text/plain": [
       "  message: 'The solver successfully reached the end of the integration interval.'\n",
       "     nfev: 146\n",
       "     njev: 0\n",
       "      nlu: 0\n",
       "      sol: None\n",
       "   status: 0\n",
       "  success: True\n",
       "        t: array([0.00000000e+00, 3.50061978e-03, 2.37417540e-02, 8.02549844e-02,\n",
       "       2.01506425e-01, 3.55742321e-01, 5.90286129e-01, 8.37720454e-01,\n",
       "       1.14041682e+00, 1.41939533e+00, 1.68454593e+00, 1.99936708e+00,\n",
       "       2.62196335e+00, 3.28831940e+00, 3.95467545e+00, 4.57584608e+00,\n",
       "       5.20396827e+00, 6.36398506e+00, 8.70945150e+00, 1.19294916e+01,\n",
       "       1.57137326e+01, 2.00000000e+01])\n",
       " t_events: None\n",
       "        y: array([[ 0.00000000e+00,  0.00000000e+00,  0.00000000e+00, ...,\n",
       "         0.00000000e+00,  0.00000000e+00,  0.00000000e+00],\n",
       "       [ 3.68422828e+03,  3.68422828e+03,  3.68422828e+03, ...,\n",
       "         3.68422821e+03,  3.68422802e+03,  3.68422751e+03],\n",
       "       [ 7.36845656e+03,  7.36845656e+03,  7.36845656e+03, ...,\n",
       "         7.36845569e+03,  7.36845321e+03,  7.36844676e+03],\n",
       "       ...,\n",
       "       [ 0.00000000e+00, -6.22417483e-09, -2.75939539e-07, ...,\n",
       "        -7.70796226e-05, -7.71055531e-05, -7.71060270e-05],\n",
       "       [ 0.00000000e+00, -6.22420003e-09, -2.75990714e-07, ...,\n",
       "        -3.88300950e-04, -3.77766044e-04, -3.76061947e-04],\n",
       "       [ 0.00000000e+00, -1.99168642e-03, -1.31456138e-02, ...,\n",
       "        -3.66751142e-02, -1.95646204e-02, -1.80653950e-02]])\n",
       " y_events: None"
      ]
     },
     "execution_count": 257,
     "metadata": {},
     "output_type": "execute_result"
    }
   ],
   "source": [
    "fin"
   ]
  },
  {
   "cell_type": "code",
   "execution_count": 258,
   "metadata": {},
   "outputs": [],
   "source": [
    "t=fin.t"
   ]
  },
  {
   "cell_type": "code",
   "execution_count": 259,
   "metadata": {},
   "outputs": [],
   "source": [
    "fin=fin.y.T"
   ]
  },
  {
   "cell_type": "code",
   "execution_count": null,
   "metadata": {},
   "outputs": [],
   "source": []
  },
  {
   "cell_type": "code",
   "execution_count": 260,
   "metadata": {},
   "outputs": [
    {
     "name": "stderr",
     "output_type": "stream",
     "text": [
      "/Library/Frameworks/Python.framework/Versions/3.7/lib/python3.7/site-packages/ipykernel_launcher.py:2: MatplotlibDeprecationWarning: Calling gca() with keyword arguments was deprecated in Matplotlib 3.4. Starting two minor releases later, gca() will take no keyword arguments. The gca() function should only be used to get the current axes, or if no axes exist, create new axes with default keyword arguments. To create a new axes with non-default arguments, use plt.axes() or plt.subplot().\n",
      "  \n"
     ]
    },
    {
     "data": {
      "image/png": "[encoded data removed]",
      "text/plain": [
       "<Figure size 936x936 with 1 Axes>"
      ]
     },
     "metadata": {
      "needs_background": "light"
     },
     "output_type": "display_data"
    }
   ],
   "source": [
    "fig=plt.figure(figsize=(13,13))\n",
    "ax = fig.gca(projection='3d')\n",
    "\n",
    "X0=fin[0,[i for i in range(0,node_N)]]\n",
    "Y0=fin[0,[i for i in range(2*node_N,3*node_N)]]\n",
    "Z0=fin[0,[i for i in range(4*node_N,5*node_N)]]\n",
    "# for j in range(len(fin.y.T)):\n",
    "j=-1\n",
    "X=fin[j,[i for i in range(0,node_N)]]\n",
    "Y=fin[j,[i for i in range(2*node_N,3*node_N)]]\n",
    "Z=fin[j,[i for i in range(4*node_N,5*node_N)]]\n",
    "\n",
    "ax.plot(X0,Y0,Z0, color='r')\n",
    "ax.plot(X,Y,Z, color='b') \n",
    "ax.view_init(-30,-30)\n",
    "ax.view_init(0,-90)\n",
    "# ax.view_init(-90,-90)\n",
    "# ax.set_xlim([0, 5])\n",
    "# ax.set_ylim([0, 5])\n",
    "plt.show()"
   ]
  },
  {
   "cell_type": "code",
   "execution_count": 261,
   "metadata": {},
   "outputs": [
    {
     "data": {
      "text/plain": [
       "(array([    0.        ,  3684.22750872,  7368.4467604 , 11052.65923667]),\n",
       " array([ 0.00000000e+00,  4.56159518e-05, -7.04988098e-05, -3.20260821e-03]),\n",
       " array([  0.        ,  77.06825956, 308.40688172, 694.41905931]))"
      ]
     },
     "execution_count": 261,
     "metadata": {},
     "output_type": "execute_result"
    }
   ],
   "source": [
    "X,Y,Z"
   ]
  },
  {
   "cell_type": "code",
   "execution_count": 262,
   "metadata": {},
   "outputs": [
    {
     "data": {
      "text/plain": [
       "(array([    0.        ,  3684.22828149,  7368.45656297, 11052.68484446]),\n",
       " array([0., 0., 0., 0.]),\n",
       " array([  0.        ,  77.06804645, 308.4070593 , 694.42189511]))"
      ]
     },
     "execution_count": 262,
     "metadata": {},
     "output_type": "execute_result"
    }
   ],
   "source": [
    "X0,Y0,Z0"
   ]
  },
  {
   "cell_type": "code",
   "execution_count": 263,
   "metadata": {},
   "outputs": [],
   "source": [
    "us=fin.T"
   ]
  },
  {
   "cell_type": "code",
   "execution_count": 264,
   "metadata": {},
   "outputs": [],
   "source": [
    "# t=np.arange(tspan[0],tspan[1],tspan[1]/len(us.T))"
   ]
  },
  {
   "cell_type": "code",
   "execution_count": 265,
   "metadata": {},
   "outputs": [
    {
     "data": {
      "image/png": "[encoded data removed]",
      "text/plain": [
       "<Figure size 432x288 with 1 Axes>"
      ]
     },
     "metadata": {
      "needs_background": "light"
     },
     "output_type": "display_data"
    }
   ],
   "source": [
    "plt.plot(t,us.T[:,2],'-')\n",
    "plt.xlabel('t')\n",
    "plt.ylabel('x2')\n",
    "plt.show()"
   ]
  },
  {
   "cell_type": "code",
   "execution_count": 266,
   "metadata": {},
   "outputs": [
    {
     "data": {
      "image/png": "[encoded data removed]",
      "text/plain": [
       "<Figure size 432x288 with 1 Axes>"
      ]
     },
     "metadata": {
      "needs_background": "light"
     },
     "output_type": "display_data"
    }
   ],
   "source": [
    "plt.plot(t,us.T[:,6] ,'-')\n",
    "plt.xlabel('t')\n",
    "plt.ylabel('dx2')\n",
    "plt.show()"
   ]
  },
  {
   "cell_type": "code",
   "execution_count": 267,
   "metadata": {},
   "outputs": [
    {
     "data": {
      "image/png": "[encoded data removed]",
      "text/plain": [
       "<Figure size 432x288 with 1 Axes>"
      ]
     },
     "metadata": {
      "needs_background": "light"
     },
     "output_type": "display_data"
    }
   ],
   "source": [
    "plt.plot(t,us.T[:,10] ,'-')\n",
    "plt.xlabel('t')\n",
    "plt.ylabel('y2')\n",
    "plt.show()"
   ]
  },
  {
   "cell_type": "code",
   "execution_count": 268,
   "metadata": {},
   "outputs": [
    {
     "data": {
      "image/png": "[encoded data removed]",
      "text/plain": [
       "<Figure size 432x288 with 1 Axes>"
      ]
     },
     "metadata": {
      "needs_background": "light"
     },
     "output_type": "display_data"
    }
   ],
   "source": [
    "plt.plot(t,us.T[:,14] ,'-')\n",
    "plt.xlabel('t')\n",
    "plt.ylabel('dy2')\n",
    "plt.show()"
   ]
  },
  {
   "cell_type": "code",
   "execution_count": 269,
   "metadata": {},
   "outputs": [
    {
     "data": {
      "image/png": "[encoded data removed]",
      "text/plain": [
       "<Figure size 432x288 with 1 Axes>"
      ]
     },
     "metadata": {
      "needs_background": "light"
     },
     "output_type": "display_data"
    }
   ],
   "source": [
    "plt.plot(t,us.T[:,18] ,'-')\n",
    "plt.xlabel('t')\n",
    "plt.ylabel('z2')\n",
    "plt.show()"
   ]
  },
  {
   "cell_type": "code",
   "execution_count": 270,
   "metadata": {},
   "outputs": [
    {
     "data": {
      "image/png": "[encoded data removed]",
      "text/plain": [
       "<Figure size 432x288 with 1 Axes>"
      ]
     },
     "metadata": {
      "needs_background": "light"
     },
     "output_type": "display_data"
    }
   ],
   "source": [
    "plt.plot(t,us.T[:,22] ,'-')\n",
    "plt.xlabel('t')\n",
    "plt.ylabel('dz2')\n",
    "plt.show()"
   ]
  },
  {
   "cell_type": "code",
   "execution_count": 271,
   "metadata": {},
   "outputs": [
    {
     "data": {
      "image/png": "[encoded data removed]",
      "text/plain": [
       "<Figure size 432x288 with 1 Axes>"
      ]
     },
     "metadata": {
      "needs_background": "light"
     },
     "output_type": "display_data"
    }
   ],
   "source": [
    "plt.plot(t,us.T[:,34],'-')\n",
    "plt.xlabel('t')\n",
    "plt.ylabel('θ2')\n",
    "plt.show()"
   ]
  },
  {
   "cell_type": "code",
   "execution_count": 272,
   "metadata": {},
   "outputs": [
    {
     "data": {
      "image/png": "[encoded data removed]",
      "text/plain": [
       "<Figure size 432x288 with 1 Axes>"
      ]
     },
     "metadata": {
      "needs_background": "light"
     },
     "output_type": "display_data"
    }
   ],
   "source": [
    "plt.plot(t,us.T[:,38] ,'-')\n",
    "plt.xlabel('t')\n",
    "plt.ylabel('dθ2')\n",
    "plt.show()"
   ]
  },
  {
   "cell_type": "code",
   "execution_count": 273,
   "metadata": {},
   "outputs": [
    {
     "data": {
      "image/png": "[encoded data removed]",
      "text/plain": [
       "<Figure size 432x288 with 1 Axes>"
      ]
     },
     "metadata": {
      "needs_background": "light"
     },
     "output_type": "display_data"
    }
   ],
   "source": [
    "plt.plot(t,us.T[:,42],'-')\n",
    "plt.xlabel('t')\n",
    "plt.ylabel('ψ2')\n",
    "plt.show()"
   ]
  },
  {
   "cell_type": "code",
   "execution_count": 274,
   "metadata": {},
   "outputs": [
    {
     "data": {
      "image/png": "[encoded data removed]",
      "text/plain": [
       "<Figure size 432x288 with 1 Axes>"
      ]
     },
     "metadata": {
      "needs_background": "light"
     },
     "output_type": "display_data"
    }
   ],
   "source": [
    "plt.plot(t,us.T[:,46] ,'-')\n",
    "plt.xlabel('t')\n",
    "plt.ylabel('dψ2')\n",
    "plt.show()"
   ]
  },
  {
   "cell_type": "code",
   "execution_count": null,
   "metadata": {},
   "outputs": [],
   "source": []
  },
  {
   "cell_type": "code",
   "execution_count": null,
   "metadata": {},
   "outputs": [],
   "source": []
  },
  {
   "cell_type": "code",
   "execution_count": null,
   "metadata": {},
   "outputs": [],
   "source": []
  },
  {
   "cell_type": "code",
   "execution_count": null,
   "metadata": {},
   "outputs": [],
   "source": []
  },
  {
   "cell_type": "code",
   "execution_count": null,
   "metadata": {},
   "outputs": [],
   "source": []
  },
  {
   "cell_type": "code",
   "execution_count": null,
   "metadata": {},
   "outputs": [],
   "source": []
  }
 ],
 "metadata": {
  "kernelspec": {
   "display_name": "Python 3",
   "language": "python",
   "name": "python3"
  },
  "language_info": {
   "codemirror_mode": {
    "name": "ipython",
    "version": 3
   },
   "file_extension": ".py",
   "mimetype": "text/x-python",
   "name": "python",
   "nbconvert_exporter": "python",
   "pygments_lexer": "ipython3",
   "version": "3.7.7"
  }
 },
 "nbformat": 4,
 "nbformat_minor": 4
}
