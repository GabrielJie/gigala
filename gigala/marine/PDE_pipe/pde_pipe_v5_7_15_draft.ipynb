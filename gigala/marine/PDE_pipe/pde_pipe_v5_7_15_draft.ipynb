{
 "cells": [
  {
   "cell_type": "markdown",
   "metadata": {},
   "source": [
    "#### Model taken from:\n",
    "- [1] Offshore Pipelaying Dynamics. Gullik Anthon Jensen \n",
    "- [2] A nonlinear PDE formulation for offshore vessel pipeline installation. Gullik A. Jensen et al \n",
    "- [3] Modeling and Control of Offshore Pipelay Operations Based on a Finite Strain Pipe Model. Gullik A. Jensen "
   ]
  },
  {
   "cell_type": "code",
   "execution_count": 1,
   "metadata": {},
   "outputs": [],
   "source": [
    "import numpy as np\n",
    "import math\n",
    "import matplotlib.pyplot as plt\n",
    "from datetime import datetime\n",
    "from scipy.optimize import fsolve\n",
    "from scipy.integrate import solve_ivp\n",
    "from scipy import interpolate"
   ]
  },
  {
   "cell_type": "code",
   "execution_count": 2,
   "metadata": {},
   "outputs": [],
   "source": [
    "import sys\n",
    "sys.path.insert(0, \"../../../../Ocean_Intella/PythonVehicleSimulator-master/src/python_vehicle_simulator\")\n",
    "sys.path.insert(0, \"../../../../Ocean_Intella/PythonVehicleSimulator-master/src\")"
   ]
  },
  {
   "cell_type": "code",
   "execution_count": 3,
   "metadata": {},
   "outputs": [],
   "source": [
    "from python_vehicle_simulator.vehicles import *\n",
    "from python_vehicle_simulator.lib import *\n",
    "from python_vehicle_simulator.lib.gnc import ssa"
   ]
  },
  {
   "cell_type": "code",
   "execution_count": 4,
   "metadata": {},
   "outputs": [],
   "source": [
    "mp = 96       #  (submerged pipe weight) [kg/m]"
   ]
  },
  {
   "cell_type": "code",
   "execution_count": 5,
   "metadata": {},
   "outputs": [],
   "source": [
    "node_N = 50"
   ]
  },
  {
   "cell_type": "code",
   "execution_count": 6,
   "metadata": {},
   "outputs": [],
   "source": [
    "mi = [mp for i in range(node_N)] "
   ]
  },
  {
   "cell_type": "code",
   "execution_count": 7,
   "metadata": {},
   "outputs": [],
   "source": [
    "# L - the hull length\n",
    "# Xg - x-center of gravity\n",
    "L = 84.6 # [m]\n",
    "B= 12\n",
    "H= 13\n",
    "Xg = L/2 # [m]\n",
    "mn = 27_162_500 #123000000 # mass of the vessel, [kg]  \n",
    "# kp, kd=1.95e4,1.5e4"
   ]
  },
  {
   "cell_type": "code",
   "execution_count": 8,
   "metadata": {},
   "outputs": [],
   "source": [
    "lx,ly,lz=L/2,B/2,H/2"
   ]
  },
  {
   "cell_type": "code",
   "execution_count": 9,
   "metadata": {},
   "outputs": [],
   "source": [
    "vessel_mass=mn/L # mass over length of the vessel"
   ]
  },
  {
   "cell_type": "code",
   "execution_count": 10,
   "metadata": {},
   "outputs": [],
   "source": [
    "hak=1 # moment of area vs moment of inertia; has proportionality coefficient"
   ]
  },
  {
   "cell_type": "code",
   "execution_count": 11,
   "metadata": {},
   "outputs": [],
   "source": [
    "diag_Irho = 1e2*np.array([1, 1, 2]) # [m^4]  , p.99 in [1]\n",
    "# diag_Irho = 1e-2*np.array([0.5, 0.5, 1])  # !!!!!!!!!!!!!!!!!!!!!!!!!!!!!!!!!!!!!!!!!!!!!!!!\n",
    "Irho_=hak*np.diag(diag_Irho)"
   ]
  },
  {
   "cell_type": "code",
   "execution_count": 12,
   "metadata": {},
   "outputs": [
    {
     "data": {
      "text/plain": [
       "array([[100.,   0.,   0.],\n",
       "       [  0., 100.,   0.],\n",
       "       [  0.,   0., 200.]])"
      ]
     },
     "execution_count": 12,
     "metadata": {},
     "output_type": "execute_result"
    }
   ],
   "source": [
    "Irho_"
   ]
  },
  {
   "cell_type": "code",
   "execution_count": 13,
   "metadata": {},
   "outputs": [],
   "source": [
    "# Fossen book p.181\n",
    "def vessel_inertia_moment(mn, Xg, L):\n",
    "    r = 0.25*L\n",
    "    Ir = mn*r**2\n",
    "    Iz=mn*Xg**2 + Ir\n",
    "    return Iz"
   ]
  },
  {
   "cell_type": "code",
   "execution_count": 14,
   "metadata": {},
   "outputs": [],
   "source": [
    "vessel_inertia = vessel_inertia_moment(mn, Xg, L)"
   ]
  },
  {
   "cell_type": "code",
   "execution_count": 15,
   "metadata": {},
   "outputs": [
    {
     "data": {
      "text/plain": [
       "60751987031.24999"
      ]
     },
     "execution_count": 15,
     "metadata": {},
     "output_type": "execute_result"
    }
   ],
   "source": [
    "vessel_inertia"
   ]
  },
  {
   "cell_type": "code",
   "execution_count": 16,
   "metadata": {},
   "outputs": [],
   "source": [
    "def Jv(X,Y,Z,i):\n",
    "    \n",
    "    l=[]\n",
    "    for j in range(1,len(X)):\n",
    "        l.append(math.sqrt((X[j]-X[j-1])**2+(Y[j]-Y[j-1])**2+(Z[j]-Z[j-1])**2))\n",
    "    \n",
    "    \n",
    "    \n",
    "    def Jv0(i, k, l):\n",
    "\n",
    "        if k<i:\n",
    "            tmp1=np.dot(l[k:i],[((X[p]-X[p-1]))/l[p-1] for p in range(k+1,i,1)])\n",
    "            tmp1+=0.5*l[len(X)-2]*(X[len(X)-1]-X[len(X)-1-1])/l[len(X)-2]\n",
    "\n",
    "            tmp2=np.dot(l[k:i],[((Y[p]-Y[p-1]))/l[p-1] for p in range(k+1,i,1)])\n",
    "            tmp2+=0.5*l[len(Y)-2]*(Y[len(Y)-1]-Y[len(Y)-1-1])/l[len(Y)-2]\n",
    "\n",
    "            tmp3=np.dot(l[k:i],[((Z[p]-Z[p-1]))/l[p-1] for p in range(k+1,i,1)])\n",
    "            tmp3+=0.5*l[len(Z)-2]*(Z[len(Z)-1]-Z[len(Z)-1-1])/l[len(Z)-2]\n",
    "            \n",
    "            return np.array([tmp1, tmp2, tmp3]).T\n",
    "        elif i==k:\n",
    "            return np.array([0.5*l[i]*(X[i]-X[i-1])/l[i],0.5*l[i]*(Y[i]-Y[i-1])/l[i],0.5*l[i]*(Z[i]-Z[i-1])/l[i]]).T\n",
    "        else:\n",
    "            return np.array([0, 0, 0]).T \n",
    "        \n",
    "    ans=np.array([Jv0(i, k,  l) for k in range(len(X))])    \n",
    "                \n",
    "    return ans\n",
    "           "
   ]
  },
  {
   "cell_type": "code",
   "execution_count": 143,
   "metadata": {},
   "outputs": [],
   "source": [
    "def inert(M, m, X):\n",
    "\n",
    "    sum_=M\n",
    "    ans=[]\n",
    "    for i in range(len(X)-1,-1,-1):\n",
    "        sum_+=m\n",
    "        ans.append(sum_.copy())\n",
    "\n",
    "    return np.array(ans[::-1])"
   ]
  },
  {
   "cell_type": "code",
   "execution_count": 18,
   "metadata": {},
   "outputs": [],
   "source": [
    "# def inert(mn, vessel_inertia, Irho_, cum_d_inv, Ws):\n",
    "#     V_rho=np.zeros(Irho_.shape)\n",
    "#     np.fill_diagonal(V_rho, vessel_inertia)\n",
    "#     cum_m=0\n",
    "#     cum_i=0\n",
    "#     fin_123=[]\n",
    "#     for i in range(node_N-1,-1,-1):\n",
    "#         cum_m+=Ws[i]*cum_d_inv[i]**2\n",
    "#         cum_i+=Irho_\n",
    "#         fin_123.append(V_rho+cum_m + cum_i)\n",
    "#     return np.array(fin_123[::-1])"
   ]
  },
  {
   "cell_type": "code",
   "execution_count": null,
   "metadata": {},
   "outputs": [],
   "source": []
  },
  {
   "cell_type": "code",
   "execution_count": 19,
   "metadata": {},
   "outputs": [],
   "source": [
    "lll = [100 for i in range(node_N)]"
   ]
  },
  {
   "cell_type": "code",
   "execution_count": 20,
   "metadata": {},
   "outputs": [],
   "source": [
    "cum_d_inv=[10]\n",
    "sum_=0\n",
    "for i in range(len(lll)-1,-1,-1):\n",
    "    sum_+=lll[i]\n",
    "    cum_d_inv.append(sum_)\n",
    "cum_d_inv=cum_d_inv[::-1]    "
   ]
  },
  {
   "cell_type": "code",
   "execution_count": 21,
   "metadata": {},
   "outputs": [],
   "source": [
    "# cum_d_inv"
   ]
  },
  {
   "cell_type": "code",
   "execution_count": 22,
   "metadata": {},
   "outputs": [],
   "source": [
    "Ws = np.array(mi)*9.81"
   ]
  },
  {
   "cell_type": "code",
   "execution_count": 23,
   "metadata": {},
   "outputs": [],
   "source": [
    "# Irho=inert(mn, vessel_inertia, Irho_, cum_d_inv, Ws)\n",
    "# Irho=np.array(fin_123)"
   ]
  },
  {
   "cell_type": "code",
   "execution_count": 24,
   "metadata": {},
   "outputs": [],
   "source": [
    "# Irho"
   ]
  },
  {
   "cell_type": "code",
   "execution_count": 25,
   "metadata": {},
   "outputs": [],
   "source": [
    "# Irho+=vessel_inertia"
   ]
  },
  {
   "cell_type": "code",
   "execution_count": 26,
   "metadata": {},
   "outputs": [],
   "source": [
    "# Irho[-1][0][0]"
   ]
  },
  {
   "cell_type": "code",
   "execution_count": 27,
   "metadata": {},
   "outputs": [],
   "source": [
    "# Irho[-49][0][0]"
   ]
  },
  {
   "cell_type": "code",
   "execution_count": 28,
   "metadata": {},
   "outputs": [],
   "source": [
    "# Irho"
   ]
  },
  {
   "cell_type": "code",
   "execution_count": 29,
   "metadata": {},
   "outputs": [],
   "source": [
    "qw = 1025 # Water density [kg/m3]\n",
    "d0 = 0.761 # Outer diameter of pipe, [m]\n",
    "dI= 0.69 # Inner diameter of pipe, [m]"
   ]
  },
  {
   "cell_type": "code",
   "execution_count": 30,
   "metadata": {},
   "outputs": [],
   "source": [
    "Ar=math.pi*((d0/2)**2-(dI/2)**2)"
   ]
  },
  {
   "cell_type": "code",
   "execution_count": 31,
   "metadata": {},
   "outputs": [
    {
     "data": {
      "text/plain": [
       "0.005336285849082509"
      ]
     },
     "execution_count": 31,
     "metadata": {},
     "output_type": "execute_result"
    }
   ],
   "source": [
    "math.pi*(d0**4-dI**4)/64"
   ]
  },
  {
   "cell_type": "code",
   "execution_count": 32,
   "metadata": {},
   "outputs": [],
   "source": [
    "E = 210e9"
   ]
  },
  {
   "cell_type": "code",
   "execution_count": 33,
   "metadata": {},
   "outputs": [
    {
     "data": {
      "text/plain": [
       "1.6991625880187402"
      ]
     },
     "execution_count": 33,
     "metadata": {},
     "output_type": "execute_result"
    }
   ],
   "source": [
    "E*Ar/1e10"
   ]
  },
  {
   "cell_type": "code",
   "execution_count": 34,
   "metadata": {},
   "outputs": [],
   "source": [
    "diag_DT = 1.5*np.array([1, 1, 1]) "
   ]
  },
  {
   "cell_type": "code",
   "execution_count": 35,
   "metadata": {},
   "outputs": [],
   "source": [
    "DT=np.diag(diag_DT) # (35) in [2]"
   ]
  },
  {
   "cell_type": "code",
   "execution_count": 36,
   "metadata": {},
   "outputs": [
    {
     "data": {
      "text/plain": [
       "array([[1.5, 0. , 0. ],\n",
       "       [0. , 1.5, 0. ],\n",
       "       [0. , 0. , 1.5]])"
      ]
     },
     "execution_count": 36,
     "metadata": {},
     "output_type": "execute_result"
    }
   ],
   "source": [
    "DT"
   ]
  },
  {
   "cell_type": "code",
   "execution_count": 37,
   "metadata": {},
   "outputs": [],
   "source": [
    "# diag_CT = 1e9*np.array([1, 1, 1]) # [Nm2] p. 4721 in [3]\n",
    "diag_CT = 1e10*np.array([1.7, 1.7, 1.7]) # !!!!!!!!!!!!!!!!!!!!!!!!!!!!!!!!!!!!!!!!!!!!!!!!!!!"
   ]
  },
  {
   "cell_type": "code",
   "execution_count": 38,
   "metadata": {},
   "outputs": [],
   "source": [
    "CT=np.diag(diag_CT)"
   ]
  },
  {
   "cell_type": "code",
   "execution_count": 39,
   "metadata": {},
   "outputs": [
    {
     "data": {
      "text/plain": [
       "array([[1.7e+10, 0.0e+00, 0.0e+00],\n",
       "       [0.0e+00, 1.7e+10, 0.0e+00],\n",
       "       [0.0e+00, 0.0e+00, 1.7e+10]])"
      ]
     },
     "execution_count": 39,
     "metadata": {},
     "output_type": "execute_result"
    }
   ],
   "source": [
    "CT"
   ]
  },
  {
   "cell_type": "code",
   "execution_count": 40,
   "metadata": {},
   "outputs": [],
   "source": [
    "# angles should be in radians, otherwise np.radians them  \n",
    "def Re_t_(arr):\n",
    "    φ,θ,ψ=arr[0],arr[1],arr[2]\n",
    "  \n",
    "    Cφ=np.matrix([[1,0,0],\n",
    "                      [0,np.cos(φ),-np.sin(φ)],\n",
    "                      [0,np.sin(φ),np.cos(φ)]])\n",
    "\n",
    "    Cθ=np.matrix([[np.cos(θ),0,np.sin(θ)],\n",
    "                      [0,1,0],\n",
    "                      [-np.sin(θ),0,np.cos(θ)]])\n",
    "\n",
    "    Cψ=np.matrix([[np.cos(ψ),-np.sin(ψ),0],\n",
    "                      [np.sin(ψ),np.cos(ψ),0],\n",
    "                      [0,0,1]])\n",
    "        \n",
    "\n",
    "    return np.array(np.dot(np.dot(Cθ,Cφ),Cψ) )"
   ]
  },
  {
   "cell_type": "code",
   "execution_count": 41,
   "metadata": {},
   "outputs": [
    {
     "data": {
      "text/plain": [
       "array([[ 0.51995985, -0.69876354,  0.4912955 ],\n",
       "       [ 0.07624747, -0.53489523, -0.84147098],\n",
       "       [ 0.85078086,  0.47499117, -0.2248451 ]])"
      ]
     },
     "execution_count": 41,
     "metadata": {},
     "output_type": "execute_result"
    }
   ],
   "source": [
    "Re_t_([1,2,3])"
   ]
  },
  {
   "cell_type": "code",
   "execution_count": 42,
   "metadata": {},
   "outputs": [],
   "source": [
    "rng = np.random.default_rng()"
   ]
  },
  {
   "cell_type": "code",
   "execution_count": 43,
   "metadata": {},
   "outputs": [],
   "source": [
    "φ, θ, ψ = rng.standard_normal(node_N),rng.standard_normal(node_N),rng.standard_normal(node_N)"
   ]
  },
  {
   "cell_type": "code",
   "execution_count": 44,
   "metadata": {},
   "outputs": [],
   "source": [
    "def Re_t(a,b,c):\n",
    "    xyz=np.stack((a,b,c), axis=1)\n",
    "    return np.apply_along_axis(Re_t_, 1, xyz)"
   ]
  },
  {
   "cell_type": "code",
   "execution_count": 45,
   "metadata": {},
   "outputs": [
    {
     "data": {
      "text/plain": [
       "array([[ 0.53555927, -0.84013747, -0.08570472],\n",
       "       [-0.35368056, -0.1309803 , -0.92615022],\n",
       "       [ 0.76686787,  0.52632043, -0.367288  ]])"
      ]
     },
     "execution_count": 45,
     "metadata": {},
     "output_type": "execute_result"
    }
   ],
   "source": [
    "Re_t_(np.array([φ[1], θ[1], ψ[1]]))"
   ]
  },
  {
   "cell_type": "code",
   "execution_count": 46,
   "metadata": {
    "scrolled": true
   },
   "outputs": [
    {
     "name": "stdout",
     "output_type": "stream",
     "text": [
      "0:00:00.009281\n"
     ]
    }
   ],
   "source": [
    "startTime1 = datetime.now()\n",
    "Ret=Re_t(φ,θ,ψ)\n",
    "print(datetime.now() - startTime1)"
   ]
  },
  {
   "cell_type": "code",
   "execution_count": 47,
   "metadata": {},
   "outputs": [
    {
     "data": {
      "text/plain": [
       "(50, 3, 3)"
      ]
     },
     "execution_count": 47,
     "metadata": {},
     "output_type": "execute_result"
    }
   ],
   "source": [
    "Ret.shape"
   ]
  },
  {
   "cell_type": "code",
   "execution_count": 48,
   "metadata": {},
   "outputs": [],
   "source": [
    "dx,dy,dz=rng.standard_normal(node_N),rng.standard_normal(node_N),rng.standard_normal(node_N)"
   ]
  },
  {
   "cell_type": "code",
   "execution_count": 49,
   "metadata": {},
   "outputs": [],
   "source": [
    "def C1(dx,dy,dz, Ret): # here\n",
    "    B=np.vstack([np.abs(dx)*dx,(dy**2+dz**2)**0.5*dy,(dy**2+dz**2)**0.5*dz])\n",
    "    ans=np.einsum('ijk,ik->ij', Ret, np.linalg.solve(Ret,B.T.astype(np.float32)))  \n",
    "#     print(Ret[0].shape, B.T[0].shape)\n",
    "#     print(np.linalg.solve(Ret[0],B.T[0].astype(np.float32)).shape)\n",
    "#     ans=[]\n",
    "#     for i in range(len(B.T)):\n",
    "#         ans.append(np.dot(Ret[i],np.linalg.solve(Ret[i],B.T[i].astype(np.float32))))\n",
    "#         print(ans[-1])\n",
    "#     ans=np.tensordot(Ret, np.linalg.solve(Ret,B.T.astype(np.float32)),axes = 0)\n",
    "    return np.array(ans).T"
   ]
  },
  {
   "cell_type": "code",
   "execution_count": 50,
   "metadata": {},
   "outputs": [
    {
     "name": "stdout",
     "output_type": "stream",
     "text": [
      "0:00:00.000531\n"
     ]
    }
   ],
   "source": [
    "startTime1 = datetime.now()\n",
    "C1(dx,dy,dz,Ret)\n",
    "print(datetime.now() - startTime1)"
   ]
  },
  {
   "cell_type": "code",
   "execution_count": 51,
   "metadata": {},
   "outputs": [
    {
     "data": {
      "text/plain": [
       "array([[ 6.28550649e-02, -1.21266794e+00, -1.06278479e+00,\n",
       "         5.19647822e-02,  1.09145381e-01,  6.27881646e-01,\n",
       "        -4.52393815e-02, -4.54656076e+00,  1.03117771e-01,\n",
       "        -1.78251731e+00, -2.35176459e-01,  2.25469042e-02,\n",
       "         2.20507180e-04,  7.85404742e-01, -2.02297255e-01,\n",
       "        -7.64115453e-01,  8.75441849e-01,  1.78412348e-02,\n",
       "        -1.19750999e-01,  2.35023931e-01, -1.17123937e-02,\n",
       "         5.07631481e-01,  5.41068733e-01,  1.13680765e-01,\n",
       "        -7.52595291e-02, -1.30162969e-01, -4.55306888e-01,\n",
       "         7.24342883e-01,  1.73353210e-01, -4.73263741e+00,\n",
       "        -9.23536479e-01, -1.27719879e+00, -1.20073426e+00,\n",
       "         2.88966328e-01,  4.10529566e+00, -2.43505582e-01,\n",
       "         1.29702926e-01, -1.19634502e-01, -2.63821459e+00,\n",
       "        -2.20985450e-02, -1.20842159e-01,  1.04471898e+00,\n",
       "         5.50084472e-01,  1.85396944e-04, -3.11219133e-02,\n",
       "         9.83476818e-01,  1.36530949e-02,  5.55202737e-02,\n",
       "         3.05304766e-01,  1.26064217e+00],\n",
       "       [-1.23192497e-01, -1.33763075e+00,  6.48056120e-02,\n",
       "         2.39216685e+00, -9.16447937e-02,  4.63105202e+00,\n",
       "         4.06367868e-01,  6.10238123e+00, -1.55651033e+00,\n",
       "         4.09499198e-01,  7.57922411e-01,  1.52654320e-01,\n",
       "        -3.81868172e+00,  1.96593559e+00,  2.69426286e-01,\n",
       "         2.86765128e-01, -1.07014000e+00,  3.98590803e-01,\n",
       "        -3.00225759e+00, -1.93180025e+00,  2.84208041e-02,\n",
       "        -5.72999567e-02, -4.88557592e-02,  8.09587121e-01,\n",
       "         1.49235833e+00, -4.72329617e-01,  1.24056768e-02,\n",
       "         8.13516021e-01,  3.84215176e-01,  3.97830039e-01,\n",
       "        -1.52499390e+00, -2.18451977e+00, -1.27304697e+00,\n",
       "        -8.11745882e-01,  3.20960194e-01,  2.61754680e+00,\n",
       "         3.89801598e+00,  8.40674877e-01, -2.99500346e-01,\n",
       "        -8.99034619e-01, -4.98347849e-01, -4.24262464e-01,\n",
       "        -1.63696513e-01,  2.49205425e-01, -4.02564675e-01,\n",
       "        -3.50188725e-02,  1.47711158e+00, -2.81547122e-02,\n",
       "        -1.06409264e+00, -1.67234647e+00],\n",
       "       [-7.91030750e-02,  2.39511180e+00, -3.19178939e+00,\n",
       "        -2.15424821e-01,  1.32685885e-01,  3.93674350e+00,\n",
       "         2.26251587e-01, -2.88633370e+00, -1.52537227e+00,\n",
       "         1.79630995e-01,  9.34067070e-01, -5.40641189e-01,\n",
       "        -6.28734732e+00, -2.01006389e+00, -3.41501832e-01,\n",
       "        -1.45716667e+00,  5.37495017e-01, -1.53431714e-01,\n",
       "        -2.19083285e+00,  6.28055692e-01,  3.45079303e-02,\n",
       "        -5.85117191e-02, -2.58855969e-02,  1.97733879e-01,\n",
       "         7.15087950e-01, -2.25885898e-01, -3.27751413e-03,\n",
       "         1.60811818e+00,  3.75410008e+00,  8.29866052e-01,\n",
       "        -3.76260966e-01,  5.35396397e-01,  2.05908370e+00,\n",
       "        -8.20873305e-02,  3.35062593e-02, -5.10140955e-01,\n",
       "         4.64314795e+00,  2.20838118e+00, -1.27865702e-01,\n",
       "        -8.13384175e-01,  5.96336313e-02,  5.03871381e-01,\n",
       "        -1.84312984e-01, -4.76137906e-01, -4.17850226e-01,\n",
       "         8.16951692e-03, -2.65505171e+00, -1.08075328e-01,\n",
       "         1.38523126e+00, -4.42068219e-01]])"
      ]
     },
     "execution_count": 51,
     "metadata": {},
     "output_type": "execute_result"
    }
   ],
   "source": [
    "C1(dx,dy,dz,Ret)"
   ]
  },
  {
   "cell_type": "code",
   "execution_count": 52,
   "metadata": {},
   "outputs": [],
   "source": [
    "def fD(dx,dy,dz,DT,Ret):\n",
    "    return 1/2*d0*qw*np.dot(DT, C1(dx,dy,dz,Ret))*9.81"
   ]
  },
  {
   "cell_type": "code",
   "execution_count": 53,
   "metadata": {},
   "outputs": [
    {
     "data": {
      "text/plain": [
       "array([[ 3.60727350e+02, -7.07005919e+02, -4.53975232e+02],\n",
       "       [-6.95954247e+03, -7.67670826e+03,  1.37456279e+04],\n",
       "       [-6.09935798e+03,  3.71921606e+02, -1.83177876e+04],\n",
       "       [ 2.98227648e+02,  1.37287268e+04, -1.23633036e+03],\n",
       "       [ 6.26389043e+02, -5.25952582e+02,  7.61488796e+02],\n",
       "       [ 3.60343408e+03,  2.65777647e+04,  2.25931045e+04],\n",
       "       [-2.59630346e+02,  2.33215899e+03,  1.29846554e+03],\n",
       "       [-2.60928665e+04,  3.50217730e+04, -1.65647671e+04],\n",
       "       [ 5.91796390e+02, -8.93286560e+03, -8.75416321e+03],\n",
       "       [-1.02299274e+04,  2.35012980e+03,  1.03090838e+03],\n",
       "       [-1.34968568e+03,  4.34974244e+03,  5.36064262e+03],\n",
       "       [ 1.29397448e+02,  8.76088323e+02, -3.10275813e+03],\n",
       "       [ 1.26549819e+00, -2.19155440e+04, -3.60832996e+04],\n",
       "       [ 4.50746447e+03,  1.12825711e+04, -1.15358249e+04],\n",
       "       [-1.16099081e+03,  1.54624660e+03, -1.95989060e+03],\n",
       "       [-4.38528452e+03,  1.64575480e+03, -8.36272898e+03],\n",
       "       [ 5.02419048e+03, -6.14156980e+03,  3.08470214e+03],\n",
       "       [ 1.02391452e+02,  2.28752615e+03, -8.80549811e+02],\n",
       "       [-6.87255047e+02, -1.72300582e+04, -1.25732641e+04],\n",
       "       [ 1.34881031e+03, -1.10866672e+04,  3.60443293e+03],\n",
       "       [-6.72178251e+01,  1.63107959e+02,  1.98042183e+02],\n",
       "       [ 2.91331430e+03, -3.28846396e+02, -3.35800742e+02],\n",
       "       [ 3.10521182e+03, -2.80384860e+02, -1.48558319e+02],\n",
       "       [ 6.52417769e+02,  4.64624796e+03,  1.13480144e+03],\n",
       "       [-4.31916991e+02,  8.56469509e+03,  4.10391401e+03],\n",
       "       [-7.47009698e+02, -2.71071570e+03, -1.29636683e+03],\n",
       "       [-2.61302168e+03,  7.11966000e+01, -1.88097648e+01],\n",
       "       [ 4.15702839e+03,  4.66879605e+03,  9.22904479e+03],\n",
       "       [ 9.94879956e+02,  2.20502393e+03,  2.15449078e+04],\n",
       "       [-2.71607667e+04,  2.28316010e+03,  4.76262943e+03],\n",
       "       [-5.30020720e+03, -8.75199173e+03, -2.15937445e+03],\n",
       "       [-7.32988721e+03, -1.25370331e+04,  3.07265809e+03],\n",
       "       [-6.89105465e+03, -7.30605977e+03,  1.18171512e+04],\n",
       "       [ 1.65838756e+03, -4.65863717e+03, -4.71101976e+02],\n",
       "       [ 2.35604311e+04,  1.84200145e+03,  1.92293559e+02],\n",
       "       [-1.39748680e+03,  1.50221899e+04, -2.92771626e+03],\n",
       "       [ 7.44369492e+02,  2.23708460e+04,  2.66471836e+04],\n",
       "       [-6.86586465e+02,  4.82466165e+03,  1.26739745e+04],\n",
       "       [-1.51408031e+04, -1.71884265e+03, -7.33825603e+02],\n",
       "       [-1.26824300e+02, -5.15959019e+03, -4.66803939e+03],\n",
       "       [-6.93517250e+02, -2.86003522e+03,  3.42239434e+02],\n",
       "       [ 5.99567769e+03, -2.43485668e+03,  2.89173496e+03],\n",
       "       [ 3.15695345e+03, -9.39459841e+02, -1.05777847e+03],\n",
       "       [ 1.06399936e+00,  1.43019839e+03, -2.73257160e+03],\n",
       "       [-1.78609717e+02, -2.31033233e+03, -2.39805663e+03],\n",
       "       [ 5.64420683e+03, -2.00974498e+02,  4.68851349e+01],\n",
       "       [ 7.83555749e+01,  8.47719348e+03, -1.52374319e+04],\n",
       "       [ 3.18632735e+02, -1.61580849e+02, -6.20247976e+02],\n",
       "       [ 1.75215441e+03, -6.10686375e+03,  7.94988919e+03],\n",
       "       [ 7.23486820e+03, -9.59765316e+03, -2.53704451e+03]])"
      ]
     },
     "execution_count": 53,
     "metadata": {},
     "output_type": "execute_result"
    }
   ],
   "source": [
    "fD(dx,dy,dz,DT,Ret).T"
   ]
  },
  {
   "cell_type": "code",
   "execution_count": 54,
   "metadata": {},
   "outputs": [
    {
     "name": "stdout",
     "output_type": "stream",
     "text": [
      "0:00:00.000668\n"
     ]
    }
   ],
   "source": [
    "startTime1 = datetime.now()\n",
    "fD(dx,dy,dz,DT,Ret)\n",
    "print(datetime.now() - startTime1)"
   ]
  },
  {
   "cell_type": "code",
   "execution_count": 55,
   "metadata": {},
   "outputs": [],
   "source": [
    "# https://docs.scipy.org/doc/scipy-1.8.0/tutorial/integrate.html  \n",
    "# 1-D Gray-Scott "
   ]
  },
  {
   "cell_type": "code",
   "execution_count": 56,
   "metadata": {},
   "outputs": [],
   "source": [
    "I=np.identity(3)"
   ]
  },
  {
   "cell_type": "code",
   "execution_count": 57,
   "metadata": {},
   "outputs": [
    {
     "name": "stdout",
     "output_type": "stream",
     "text": [
      "0:00:00.000295\n"
     ]
    }
   ],
   "source": [
    "startTime1 = datetime.now()\n",
    "np.dot(I,fD(dx,dy,dz,DT,Ret))\n",
    "print(datetime.now() - startTime1)"
   ]
  },
  {
   "cell_type": "code",
   "execution_count": 58,
   "metadata": {},
   "outputs": [],
   "source": [
    "Rb_t=I # https://www.researchgate.net/profile/Thor-Fossen/publication/224560837_Modeling_and_Control_of_Offshore_Pipelay_Operations_Based_on_a_Finite_Strain_Pipe_Model/links/00b7d520e175a3f918000000/Modeling-and-Control-of-Offshore-Pipelay-Operations-Based-on-a-Finite-Strain-Pipe-Model.pdf"
   ]
  },
  {
   "cell_type": "code",
   "execution_count": 59,
   "metadata": {},
   "outputs": [
    {
     "data": {
      "text/plain": [
       "array([[1., 0., 0.],\n",
       "       [0., 1., 0.],\n",
       "       [0., 0., 1.]])"
      ]
     },
     "execution_count": 59,
     "metadata": {},
     "output_type": "execute_result"
    }
   ],
   "source": [
    "Rb_t"
   ]
  },
  {
   "cell_type": "code",
   "execution_count": 60,
   "metadata": {},
   "outputs": [],
   "source": [
    "diag_DR = 1.5*np.array([1, 1, 1]) # [N m/rad]  p.4721 in [3]"
   ]
  },
  {
   "cell_type": "code",
   "execution_count": 61,
   "metadata": {},
   "outputs": [],
   "source": [
    "DR=np.diag(diag_DR) "
   ]
  },
  {
   "cell_type": "code",
   "execution_count": 62,
   "metadata": {},
   "outputs": [
    {
     "data": {
      "text/plain": [
       "0.08091250419136858"
      ]
     },
     "execution_count": 62,
     "metadata": {},
     "output_type": "execute_result"
    }
   ],
   "source": [
    "Ar"
   ]
  },
  {
   "cell_type": "code",
   "execution_count": 63,
   "metadata": {},
   "outputs": [],
   "source": [
    "fg_e=np.array([[0,0,(mp-qw*Ar)*9.81] for x in range(node_N)])"
   ]
  },
  {
   "cell_type": "code",
   "execution_count": 64,
   "metadata": {},
   "outputs": [
    {
     "data": {
      "text/plain": [
       "array([[  0.        ,   0.        , 128.16454223],\n",
       "       [  0.        ,   0.        , 128.16454223],\n",
       "       [  0.        ,   0.        , 128.16454223],\n",
       "       [  0.        ,   0.        , 128.16454223],\n",
       "       [  0.        ,   0.        , 128.16454223],\n",
       "       [  0.        ,   0.        , 128.16454223],\n",
       "       [  0.        ,   0.        , 128.16454223],\n",
       "       [  0.        ,   0.        , 128.16454223],\n",
       "       [  0.        ,   0.        , 128.16454223],\n",
       "       [  0.        ,   0.        , 128.16454223],\n",
       "       [  0.        ,   0.        , 128.16454223],\n",
       "       [  0.        ,   0.        , 128.16454223],\n",
       "       [  0.        ,   0.        , 128.16454223],\n",
       "       [  0.        ,   0.        , 128.16454223],\n",
       "       [  0.        ,   0.        , 128.16454223],\n",
       "       [  0.        ,   0.        , 128.16454223],\n",
       "       [  0.        ,   0.        , 128.16454223],\n",
       "       [  0.        ,   0.        , 128.16454223],\n",
       "       [  0.        ,   0.        , 128.16454223],\n",
       "       [  0.        ,   0.        , 128.16454223],\n",
       "       [  0.        ,   0.        , 128.16454223],\n",
       "       [  0.        ,   0.        , 128.16454223],\n",
       "       [  0.        ,   0.        , 128.16454223],\n",
       "       [  0.        ,   0.        , 128.16454223],\n",
       "       [  0.        ,   0.        , 128.16454223],\n",
       "       [  0.        ,   0.        , 128.16454223],\n",
       "       [  0.        ,   0.        , 128.16454223],\n",
       "       [  0.        ,   0.        , 128.16454223],\n",
       "       [  0.        ,   0.        , 128.16454223],\n",
       "       [  0.        ,   0.        , 128.16454223],\n",
       "       [  0.        ,   0.        , 128.16454223],\n",
       "       [  0.        ,   0.        , 128.16454223],\n",
       "       [  0.        ,   0.        , 128.16454223],\n",
       "       [  0.        ,   0.        , 128.16454223],\n",
       "       [  0.        ,   0.        , 128.16454223],\n",
       "       [  0.        ,   0.        , 128.16454223],\n",
       "       [  0.        ,   0.        , 128.16454223],\n",
       "       [  0.        ,   0.        , 128.16454223],\n",
       "       [  0.        ,   0.        , 128.16454223],\n",
       "       [  0.        ,   0.        , 128.16454223],\n",
       "       [  0.        ,   0.        , 128.16454223],\n",
       "       [  0.        ,   0.        , 128.16454223],\n",
       "       [  0.        ,   0.        , 128.16454223],\n",
       "       [  0.        ,   0.        , 128.16454223],\n",
       "       [  0.        ,   0.        , 128.16454223],\n",
       "       [  0.        ,   0.        , 128.16454223],\n",
       "       [  0.        ,   0.        , 128.16454223],\n",
       "       [  0.        ,   0.        , 128.16454223],\n",
       "       [  0.        ,   0.        , 128.16454223],\n",
       "       [  0.        ,   0.        , 128.16454223]])"
      ]
     },
     "execution_count": 64,
     "metadata": {},
     "output_type": "execute_result"
    }
   ],
   "source": [
    "fg_e"
   ]
  },
  {
   "cell_type": "code",
   "execution_count": 65,
   "metadata": {},
   "outputs": [],
   "source": [
    "x,y,z=rng.standard_normal(node_N),rng.standard_normal(node_N),rng.standard_normal(node_N)"
   ]
  },
  {
   "cell_type": "code",
   "execution_count": 66,
   "metadata": {},
   "outputs": [],
   "source": [
    "def Re_b(Ret):\n",
    "    return Ret"
   ]
  },
  {
   "cell_type": "code",
   "execution_count": 67,
   "metadata": {},
   "outputs": [
    {
     "name": "stdout",
     "output_type": "stream",
     "text": [
      "0:00:00.000074\n"
     ]
    }
   ],
   "source": [
    "startTime1 = datetime.now()\n",
    "Re_b(Ret)\n",
    "print(datetime.now() - startTime1)"
   ]
  },
  {
   "cell_type": "code",
   "execution_count": 68,
   "metadata": {},
   "outputs": [],
   "source": [
    "def phi(x, y, z, Ret,dummy,dummy1): # here\n",
    "    B=np.vstack([x,y,z])\n",
    "    return np.linalg.solve(Ret.astype(np.float32),B.T.astype(np.float32))\n",
    "#     return np.einsum('ijk,ik->ij', Ret,B.T.astype(np.float32))"
   ]
  },
  {
   "cell_type": "code",
   "execution_count": 69,
   "metadata": {},
   "outputs": [
    {
     "data": {
      "text/plain": [
       "array([[ 1.4094636 , -0.9540321 ,  0.5044859 ],\n",
       "       [ 0.7054344 ,  0.29975495,  0.47646603],\n",
       "       [-2.6813242 ,  1.8960992 ,  0.55290467],\n",
       "       [ 1.3860567 , -1.6033365 ,  1.3897418 ],\n",
       "       [ 0.7572302 ,  0.47277278, -0.43251577],\n",
       "       [-2.1586914 , -2.8309345 ,  0.643933  ],\n",
       "       [-0.11734577, -0.1255364 ,  1.1818081 ],\n",
       "       [ 1.1983285 ,  0.53613675, -0.8137927 ],\n",
       "       [ 1.183144  ,  0.62062   , -0.7360849 ],\n",
       "       [ 1.5964576 ,  0.47568655, -0.69755024],\n",
       "       [-1.3964218 ,  0.46209204, -0.181772  ],\n",
       "       [-0.20544039, -0.10008788, -0.31180862],\n",
       "       [ 0.18017988, -1.5277628 ,  0.35026622],\n",
       "       [ 0.48978472,  0.55960274,  0.25209206],\n",
       "       [-0.7959504 , -0.8600311 , -0.37048846],\n",
       "       [-1.4415973 , -0.22669555, -1.0468928 ],\n",
       "       [ 0.60885376,  0.07528081,  1.2893212 ],\n",
       "       [ 1.4231294 , -1.059905  , -0.3161092 ],\n",
       "       [-0.68551016,  0.15096962, -0.3225494 ],\n",
       "       [ 1.0513045 , -1.0571897 ,  0.17355514],\n",
       "       [-0.27903587,  0.29462188,  1.3057519 ],\n",
       "       [ 0.5901616 , -0.26794678, -2.5637295 ],\n",
       "       [-0.14669709, -1.3892597 , -1.0715137 ],\n",
       "       [-0.24711451,  0.29489368,  1.2948892 ],\n",
       "       [-0.6708761 ,  1.3454239 ,  2.2163386 ],\n",
       "       [ 0.13411969,  0.2900924 ,  1.191566  ],\n",
       "       [-0.11818455,  1.2447752 ,  0.15866324],\n",
       "       [-0.73397964,  0.48559454,  1.0555433 ],\n",
       "       [-0.5205423 ,  1.4520749 ,  1.4601722 ],\n",
       "       [-0.0179242 , -0.7122139 , -0.55393326],\n",
       "       [-0.7756746 , -1.8449732 , -1.5942863 ],\n",
       "       [-0.10829511,  0.01156828,  0.46158263],\n",
       "       [ 1.5501372 ,  1.5945866 ,  0.37884367],\n",
       "       [-0.2008852 , -0.10513653, -0.98134756],\n",
       "       [-0.99839914,  2.9151947 ,  1.0036793 ],\n",
       "       [ 0.1320211 ,  0.3461788 , -1.4186416 ],\n",
       "       [-0.02114342, -0.81969523,  0.43173537],\n",
       "       [-0.04551786, -0.06433704, -0.19159772],\n",
       "       [ 0.84943086, -1.339333  ,  0.85137117],\n",
       "       [ 1.3016483 , -0.15216558, -0.03604413],\n",
       "       [ 0.20498133,  0.469102  ,  1.805868  ],\n",
       "       [ 0.11965512, -1.0649179 ,  1.0437045 ],\n",
       "       [-1.5786108 ,  0.5436814 ,  0.10598248],\n",
       "       [-0.10816497, -0.52428925,  0.11590587],\n",
       "       [ 1.2246635 ,  0.38208655,  0.24196178],\n",
       "       [-0.3684004 ,  0.5738936 ,  1.7440063 ],\n",
       "       [ 1.0163811 , -0.35402957,  0.33518776],\n",
       "       [ 0.07665867, -1.1461806 ,  1.4086113 ],\n",
       "       [ 0.5934406 , -0.91207236,  0.7023081 ],\n",
       "       [-1.8644751 ,  0.02484231,  1.4856869 ]], dtype=float32)"
      ]
     },
     "execution_count": 69,
     "metadata": {},
     "output_type": "execute_result"
    }
   ],
   "source": [
    "phi(x,y,z,Ret,None,None)"
   ]
  },
  {
   "cell_type": "code",
   "execution_count": 70,
   "metadata": {},
   "outputs": [
    {
     "name": "stdout",
     "output_type": "stream",
     "text": [
      "0:00:00.000243\n"
     ]
    }
   ],
   "source": [
    "startTime1 = datetime.now()\n",
    "phi(x,y,z,Ret,None,None)\n",
    "print(datetime.now() - startTime1)"
   ]
  },
  {
   "cell_type": "code",
   "execution_count": 71,
   "metadata": {},
   "outputs": [],
   "source": [
    "def Π_(arr):\n",
    "    φ,θ,ψ=arr[0],arr[1],arr[2]\n",
    "    return np.array([[np.cos(θ),0,np.cos(φ)*np.sin(θ)],\n",
    "                  [0,1,-np.sin(φ)],\n",
    "                  [-np.sin(θ),0,np.cos(φ)*np.cos(θ)]])"
   ]
  },
  {
   "cell_type": "code",
   "execution_count": 72,
   "metadata": {},
   "outputs": [],
   "source": [
    "def Π(a,b,c):\n",
    "    xyz=np.stack((a,b,c), axis=1)\n",
    "  \n",
    "    return np.apply_along_axis(Π_, 1, xyz)\n",
    "    "
   ]
  },
  {
   "cell_type": "code",
   "execution_count": 73,
   "metadata": {},
   "outputs": [
    {
     "name": "stdout",
     "output_type": "stream",
     "text": [
      "0:00:00.001716\n"
     ]
    }
   ],
   "source": [
    "startTime1 = datetime.now()\n",
    "Π(φ,θ,ψ).shape\n",
    "print(datetime.now() - startTime1)"
   ]
  },
  {
   "cell_type": "code",
   "execution_count": 74,
   "metadata": {},
   "outputs": [],
   "source": [
    "def ωe(φ,θ,ψ, dummy,dummy1,dummy2): # here # (100) in [2]\n",
    "    A=Π(φ,θ,ψ)\n",
    "    B=np.vstack([φ,θ,ψ])\n",
    "    return np.einsum('ijk,ik->ij',A,B.T.astype(np.float32))"
   ]
  },
  {
   "cell_type": "code",
   "execution_count": 75,
   "metadata": {},
   "outputs": [
    {
     "name": "stdout",
     "output_type": "stream",
     "text": [
      "0:00:00.001613\n"
     ]
    }
   ],
   "source": [
    "startTime1 = datetime.now()\n",
    "ωe(φ,θ,ψ,None,None,None)\n",
    "print(datetime.now() - startTime1)"
   ]
  },
  {
   "cell_type": "code",
   "execution_count": 76,
   "metadata": {},
   "outputs": [
    {
     "data": {
      "text/plain": [
       "array([[-1.89125285e+00, -1.67779984e-01,  4.24473538e-01],\n",
       "       [ 1.80208020e+00, -8.97068720e-01, -8.91493757e-01],\n",
       "       [-6.89045481e-01, -7.52513909e-01, -6.80956450e-01],\n",
       "       [-7.43851784e-01, -9.74269301e-01, -7.60306269e-01],\n",
       "       [ 3.58835971e-01,  2.17880633e+00, -1.48328390e+00],\n",
       "       [-2.71307383e-01, -6.40840401e-01, -3.24969754e-01],\n",
       "       [-9.31063622e-01, -8.17909218e-02,  1.60306150e+00],\n",
       "       [ 3.39755324e-01, -4.16616471e-01, -6.13160286e-01],\n",
       "       [ 4.26731715e-01,  7.93121115e-02, -8.55247484e-01],\n",
       "       [-4.77559839e-03,  8.14843419e-01,  9.47214891e-01],\n",
       "       [ 1.16601384e+00,  3.92778452e-01,  5.45229770e-01],\n",
       "       [-1.28151141e+00,  2.68601465e+00,  5.17395163e-01],\n",
       "       [ 2.30061057e-01, -6.97006536e-01, -1.01706204e+00],\n",
       "       [-8.53064534e-01, -4.96676057e-01, -5.31724281e-01],\n",
       "       [-2.79292300e-01,  5.21817276e-02,  8.07799568e-01],\n",
       "       [-1.72138748e+00,  6.68430743e-01,  3.67271485e-01],\n",
       "       [-1.58884280e+00,  3.63294999e+00, -2.69920121e+00],\n",
       "       [ 1.13030685e+00, -2.81580002e+00,  2.65012701e-01],\n",
       "       [ 2.01720771e-01, -9.29176747e-01, -8.05464644e-01],\n",
       "       [ 2.47361825e-01, -8.30547213e-01,  2.34695483e-01],\n",
       "       [-3.48358786e-02,  1.02181561e+00, -1.47379020e+00],\n",
       "       [ 9.89258435e-01,  1.20655332e-01, -2.57967526e-01],\n",
       "       [-6.78708865e-01, -1.30131261e-01,  1.26656605e+00],\n",
       "       [-2.36580045e-01, -2.78286455e+00, -3.40696609e-01],\n",
       "       [ 8.56385607e-01, -6.50535294e-01,  2.09055940e-01],\n",
       "       [ 2.03468119e-01,  1.03908016e+00, -4.27191102e-02],\n",
       "       [ 9.55900757e-01,  4.92782844e-01, -8.49737307e-01],\n",
       "       [ 3.85234365e-01, -2.96489144e+00, -1.35293013e+00],\n",
       "       [ 8.12516494e-01,  7.98233015e-02,  1.06289961e+00],\n",
       "       [ 1.44068112e+00,  5.19443380e-01,  5.93195628e-01],\n",
       "       [ 2.34421454e-01,  5.20142424e-02,  3.67647809e-01],\n",
       "       [ 2.16964881e+00,  1.39384021e+00,  1.03771365e-01],\n",
       "       [ 4.48936548e-01,  2.13046601e+00,  2.79533992e-03],\n",
       "       [ 7.06320470e-01, -2.16258930e-01,  2.29359055e-01],\n",
       "       [ 7.86820278e-01,  7.80275372e-01, -1.67166243e+00],\n",
       "       [-2.06396520e-01,  1.87311069e+00,  2.32807806e-01],\n",
       "       [ 5.96052607e-01, -5.00097137e-01,  3.91033085e-01],\n",
       "       [ 5.64115408e-01, -2.23259745e-01,  1.75046591e-01],\n",
       "       [-9.88445931e-01, -3.12897686e-01, -1.22652484e-01],\n",
       "       [-6.97797833e-01, -2.01161792e+00, -1.18877645e+00],\n",
       "       [-1.61820437e-01,  1.25596461e+00, -1.50291843e+00],\n",
       "       [ 1.52817534e+00,  1.79523999e+00,  4.05166318e-01],\n",
       "       [-7.50109272e-01,  1.68733040e+00,  1.03633351e+00],\n",
       "       [-3.83026428e-02, -1.38648654e-01, -2.64569816e-01],\n",
       "       [ 9.70922689e-02, -2.30254469e+00,  1.32870161e+00],\n",
       "       [ 1.16864105e+00,  3.75698405e-01, -3.00134383e-01],\n",
       "       [-9.27055990e-01,  9.22115810e-01,  4.35329684e-01],\n",
       "       [-7.82315770e-01, -7.12968529e-01, -7.94813821e-01],\n",
       "       [ 9.22452948e-01,  3.89442407e-03,  5.45074154e-01],\n",
       "       [-7.66770765e-01, -4.21483101e-01, -1.30790429e+00]])"
      ]
     },
     "execution_count": 76,
     "metadata": {},
     "output_type": "execute_result"
    }
   ],
   "source": [
    "ωe(φ,θ,ψ,None,None,None)"
   ]
  },
  {
   "cell_type": "code",
   "execution_count": 77,
   "metadata": {},
   "outputs": [],
   "source": [
    "def d_s(f,a,b,c,Ret,omega): # here\n",
    "    \n",
    "    fun = f(a,b,c,Ret,omega, None) \n",
    "    \n",
    "#     if flag==1:\n",
    "#         fun+=-np.dot(Ret,force)\n",
    "# #         fun*=-np.dot(Ret,force)\n",
    "#     elif flag==2:\n",
    "#         fun+=-np.dot(np.einsum('ijk,ikr->ijr',np.linalg.inv(Π(φ,θ,ψ).astype(np.float32)),Re_b(Ret)),force)\n",
    "#         fun*=-np.dot(np.einsum('ijk,ikr->ijr',np.linalg.inv(Π(φ,θ,ψ).astype(np.float32)),Re_b(Ret)),force)\n",
    "#     print(np.einsum('ijk,ikr->ijr',np.linalg.inv(Π(φ,θ,ψ).astype(np.float32)),Re_b(Ret)))\n",
    "#     print(np.dot(np.linalg.inv(Π(φ,θ,ψ).astype(np.float32))[2],Re_b(Ret)[2]))\n",
    "        \n",
    "# #     print(fun)\n",
    "#     if any(force):\n",
    "# #         fun[-1]=-np.array(force)\n",
    "#         fun[-1]=-np.dot(Ret[-1],force)\n",
    "# #         fun+=-np.dot(Ret,force) # !!!!!!!!!!!!!!!!!!!!!!!!!!!!!!!!!!!!!!!!!!!!!!!!!!!!!!!!!\n",
    "# #     print(fun)\n",
    "\n",
    "    def S(arr):\n",
    "        a1,a2,a3=arr[0],arr[1],arr[2]\n",
    "        return np.array([[0, -a3, a2 ],\n",
    "                         [a3, 0, -a1],\n",
    "                        [-a2, a1, 0]])\n",
    "    K=np.apply_along_axis(S, 1, omega)\n",
    "    \n",
    "    \n",
    "   \n",
    "    return np.einsum('ijk,ik->ij',K, fun).T"
   ]
  },
  {
   "cell_type": "code",
   "execution_count": 78,
   "metadata": {},
   "outputs": [],
   "source": [
    "φ, θ, ψ = np.array([0.1 for i in range(node_N)]),np.array([0.01 for i in range(node_N)]),np.array([0.01 for i in range(node_N)])"
   ]
  },
  {
   "cell_type": "code",
   "execution_count": 79,
   "metadata": {},
   "outputs": [
    {
     "data": {
      "text/plain": [
       "array([[ 1.30793817e-02,  1.60631282e-03, -1.19921918e-02,\n",
       "         2.68591475e-02, -8.12447096e-03,  3.11320896e-02,\n",
       "         1.17617371e-02, -1.21236781e-02, -1.21802664e-02,\n",
       "        -1.05362996e-02, -5.77177143e-03, -1.91105435e-03,\n",
       "         1.68257849e-02, -2.73895014e-03,  4.36188740e-03,\n",
       "        -7.39495302e-03,  1.09323080e-02,  6.64017506e-03,\n",
       "        -4.25459367e-03,  1.10236686e-02,  9.11720577e-03,\n",
       "        -2.06798300e-02,  2.78785619e-03,  9.01699084e-03,\n",
       "         7.90978628e-03,  8.12987904e-03, -9.71195739e-03,\n",
       "         5.15579012e-03,  1.48549538e-04,  1.38767920e-03,\n",
       "         2.16046709e-03,  4.05148144e-03, -1.08606255e-02,\n",
       "        -7.89283688e-03, -1.70549268e-02, -1.58682852e-02,\n",
       "         1.12222496e-02, -1.14891028e-03,  1.96502009e-02,\n",
       "         1.03735786e-03,  1.20575635e-02,  1.89256265e-02,\n",
       "        -3.91169061e-03,  5.73550426e-03, -1.24144767e-03,\n",
       "         1.05628658e-02,  6.18565722e-03,  2.29376609e-02,\n",
       "         1.44845897e-02,  1.31513290e-02],\n",
       "       [-3.78821843e-02, -4.13783014e-02, -7.93393900e-02,\n",
       "        -1.26700911e-01,  5.00693276e-02, -8.37734912e-02,\n",
       "        -1.19342686e-01,  9.21806877e-02,  8.42666667e-02,\n",
       "         8.41085364e-02,  5.69701546e-03,  2.93717264e-02,\n",
       "        -3.34471913e-02, -2.08496711e-02,  2.99604513e-02,\n",
       "         9.18865451e-02, -1.23604986e-01,  4.43771766e-02,\n",
       "         2.61504066e-02, -7.96320163e-03, -1.33195834e-01,\n",
       "         2.61896913e-01,  1.05939749e-01, -1.31822855e-01,\n",
       "        -2.27847354e-01, -1.18068890e-01, -1.69390178e-02,\n",
       "        -1.12222875e-01, -1.50813829e-01,  5.52852594e-02,\n",
       "         1.52637346e-01, -4.71710764e-02, -2.40471209e-02,\n",
       "         9.64296594e-02, -1.09398009e-01,  1.43179750e-01,\n",
       "        -4.34035601e-02,  1.87705127e-02, -7.76155388e-02,\n",
       "         1.52569990e-02, -1.78922965e-01, -1.03398221e-01,\n",
       "        -2.47361364e-02, -1.25695687e-02, -1.32588430e-02,\n",
       "        -1.77862458e-01, -2.44542870e-02, -1.40308183e-01,\n",
       "        -6.49861476e-02, -1.65395321e-01],\n",
       "       [-1.08180889e-01,  2.36537372e-02,  2.13925487e-01,\n",
       "        -1.72961980e-01,  4.05056216e-02, -2.63929158e-01,\n",
       "        -1.15091955e-02,  4.28773873e-02,  5.14703836e-02,\n",
       "         3.32428300e-02,  5.88229941e-02, -8.16894077e-03,\n",
       "        -1.54542570e-01,  5.16042781e-02, -7.89195065e-02,\n",
       "        -9.71420079e-03,  2.05449691e-03, -1.18901202e-01,\n",
       "         2.12819624e-02, -1.15282366e-01,  3.20018179e-02,\n",
       "        -3.21324366e-02, -1.37736737e-01,  3.17416779e-02,\n",
       "         1.40708539e-01,  2.78293541e-02,  1.25659007e-01,\n",
       "         5.52123822e-02,  1.50030458e-01, -7.11273441e-02,\n",
       "        -1.77689308e-01,  2.13275799e-03,  1.45655534e-01,\n",
       "        -8.71528683e-03,  3.00782217e-01,  3.34621842e-02,\n",
       "        -8.18566588e-02, -6.03004783e-03, -1.41706166e-01,\n",
       "        -2.69479398e-02,  4.51093564e-02, -1.07669523e-01,\n",
       "         6.86296427e-02, -5.15048057e-02,  2.72207505e-02,\n",
       "         6.07598110e-02, -4.45855357e-02, -1.15416433e-01,\n",
       "        -9.66353809e-02,  1.92699598e-02]])"
      ]
     },
     "execution_count": 79,
     "metadata": {},
     "output_type": "execute_result"
    }
   ],
   "source": [
    "d_s(phi,x,y,z,Ret, ωe(φ,θ,ψ,None,None,None))"
   ]
  },
  {
   "cell_type": "code",
   "execution_count": 80,
   "metadata": {},
   "outputs": [
    {
     "name": "stdout",
     "output_type": "stream",
     "text": [
      "0:00:00.003158\n"
     ]
    }
   ],
   "source": [
    "startTime1 = datetime.now()\n",
    "d_s(phi,x,y,z,Ret,ωe(φ,θ,ψ,None,None,None))\n",
    "print(datetime.now() - startTime1)"
   ]
  },
  {
   "cell_type": "code",
   "execution_count": 81,
   "metadata": {},
   "outputs": [],
   "source": [
    "def ne(x,y,z,Ret,omega,force): # here\n",
    "    A=np.multiply(np.multiply(Ret,CT),Ret)\n",
    "    B=d_s(phi,x,y,z,Ret,omega).T\n",
    "    return np.einsum('ijk,ik->ij', A.astype(np.float32),B\n",
    "                     -\n",
    "                     np.einsum('ijk,kp->ijp',Ret.astype(np.float32), np.array([1,0,0]).reshape(3,1)).squeeze()\n",
    "                    )"
   ]
  },
  {
   "cell_type": "code",
   "execution_count": 82,
   "metadata": {},
   "outputs": [],
   "source": [
    "# np.dot(Ret.astype(np.float32)[2],np.array([1,0,0]).reshape(3,1)).squeeze()"
   ]
  },
  {
   "cell_type": "code",
   "execution_count": 83,
   "metadata": {},
   "outputs": [],
   "source": [
    "# np.einsum('ijk,kp->ijp',Ret.astype(np.float32), np.array([1,0,0]).reshape(3,1)).squeeze()"
   ]
  },
  {
   "cell_type": "code",
   "execution_count": 84,
   "metadata": {},
   "outputs": [],
   "source": [
    "φ, θ, ψ = np.array([0.01 for i in range(node_N)]),np.array([0.000001 for i in range(node_N)]),np.array([0.000001 for i in range(node_N)])"
   ]
  },
  {
   "cell_type": "code",
   "execution_count": 85,
   "metadata": {},
   "outputs": [
    {
     "data": {
      "text/plain": [
       "array([[-8.31029203e-07,  1.20795765e-06, -3.86471880e-07,\n",
       "        -7.52006647e-07, -1.14185992e-06, -5.57601687e-07,\n",
       "        -7.89868002e-07,  5.86813175e-07,  1.03498842e-07,\n",
       "        -1.63861664e-06, -4.20903670e-07, -4.80179806e-08,\n",
       "        -1.36743733e-07, -9.54988132e-07,  1.26545225e-06,\n",
       "        -3.76196168e-07,  5.86772233e-07,  1.65754021e-06,\n",
       "        -1.02667526e-06,  2.45100337e-06,  1.68813722e-06,\n",
       "        -1.07459644e-06, -4.16637460e-07, -1.10443472e-06,\n",
       "        -2.28168804e-06,  3.92642460e-07,  1.25885371e-06,\n",
       "        -9.60829760e-07, -9.97154701e-08, -6.21162558e-07,\n",
       "         2.05491332e-06,  3.28020094e-07, -1.15040192e-06,\n",
       "        -1.06871596e-06,  4.66331852e-06, -2.01508962e-07,\n",
       "         9.34267824e-07, -2.46376184e-07,  1.42006369e-06,\n",
       "         1.92316093e-07,  2.32550864e-06, -1.98543597e-06,\n",
       "         1.56329490e-06,  4.23048424e-07, -2.92350666e-07,\n",
       "         1.56934815e-06,  1.11197805e-06, -6.81595829e-07,\n",
       "         6.05194921e-07, -2.68472356e-06],\n",
       "       [ 7.38357087e-03, -4.45653985e-03, -1.83419340e-02,\n",
       "        -1.05335998e-02,  7.91031949e-03,  2.64324606e-02,\n",
       "        -3.05182985e-03, -4.67094246e-03, -3.50434108e-03,\n",
       "         5.34684649e-03, -1.04329674e-02, -2.59974831e-03,\n",
       "         9.88045517e-03,  3.55416802e-03, -8.07873979e-04,\n",
       "         2.49301742e-03, -1.11125380e-02,  7.57258118e-04,\n",
       "         5.66345968e-03, -9.30577280e-03, -3.25440622e-03,\n",
       "        -9.21254698e-03, -5.14466631e-04,  1.30115016e-02,\n",
       "         9.13383526e-03, -7.23089592e-04, -9.32433692e-03,\n",
       "        -2.54769835e-04, -6.48451920e-03,  2.99507998e-03,\n",
       "         4.86852970e-04,  1.30355886e-03, -6.75370141e-03,\n",
       "         6.60987230e-03, -8.93137330e-03, -1.55225630e-03,\n",
       "        -7.04278005e-04,  2.00715828e-03, -1.24045486e-02,\n",
       "        -5.73132500e-03, -6.12839872e-03,  7.94964493e-03,\n",
       "        -1.20743572e-02,  1.24768009e-04, -3.67491502e-03,\n",
       "        -1.98558488e-03, -4.99845054e-03, -1.18000007e-02,\n",
       "        -3.35156616e-03,  5.14710578e-03],\n",
       "       [ 1.01071313e-03, -7.74544281e-03,  2.22468169e-02,\n",
       "         1.81305438e-02,  3.62380054e-03, -2.08011754e-02,\n",
       "         1.10308520e-02, -1.25652590e-03,  2.45902304e-03,\n",
       "         1.12054015e-02,  1.46852629e-02,  3.08493465e-03,\n",
       "        -8.49963630e-03,  6.09248366e-03, -1.19750764e-02,\n",
       "         1.30700939e-03,  5.18580967e-03, -1.75009722e-02,\n",
       "         4.70723410e-03, -1.54526154e-02, -1.37981809e-02,\n",
       "         2.00680714e-02,  4.72316437e-03, -1.85569143e-03,\n",
       "         1.39142194e-02, -3.24315946e-03, -3.39152656e-03,\n",
       "         9.96062385e-03,  7.49212562e-03,  3.27945429e-03,\n",
       "        -2.12446258e-02, -4.61712648e-03,  1.83748517e-02,\n",
       "         4.18544843e-03, -3.81747797e-02,  3.58788178e-03,\n",
       "        -8.73321149e-03,  4.81513975e-04, -1.93962469e-03,\n",
       "         3.78893056e-03, -1.73624629e-02,  1.21058735e-02,\n",
       "        -3.71668578e-03, -4.39820647e-03,  6.62828737e-03,\n",
       "        -1.38671163e-02, -6.23396473e-03,  1.86857527e-02,\n",
       "        -2.76165264e-03,  2.19724223e-02]])"
      ]
     },
     "execution_count": 85,
     "metadata": {},
     "output_type": "execute_result"
    }
   ],
   "source": [
    "d_s(ωe,x,y,z,Ret,ωe(φ,θ,ψ,None,None,None))"
   ]
  },
  {
   "cell_type": "code",
   "execution_count": 86,
   "metadata": {},
   "outputs": [],
   "source": [
    "def ne_(dx,dy,dz,DT,Ret):\n",
    "    return -fg_e.T-fD(dx,dy,dz,DT,Ret) #-sigma(x,y,z).T"
   ]
  },
  {
   "cell_type": "code",
   "execution_count": 87,
   "metadata": {},
   "outputs": [
    {
     "data": {
      "text/plain": [
       "array([[-3.60727350e+02,  6.95954247e+03,  6.09935798e+03,\n",
       "        -2.98227648e+02, -6.26389043e+02, -3.60343408e+03,\n",
       "         2.59630346e+02,  2.60928665e+04, -5.91796390e+02,\n",
       "         1.02299274e+04,  1.34968568e+03, -1.29397448e+02,\n",
       "        -1.26549819e+00, -4.50746447e+03,  1.16099081e+03,\n",
       "         4.38528452e+03, -5.02419048e+03, -1.02391452e+02,\n",
       "         6.87255047e+02, -1.34881031e+03,  6.72178251e+01,\n",
       "        -2.91331430e+03, -3.10521182e+03, -6.52417769e+02,\n",
       "         4.31916991e+02,  7.47009698e+02,  2.61302168e+03,\n",
       "        -4.15702839e+03, -9.94879956e+02,  2.71607667e+04,\n",
       "         5.30020720e+03,  7.32988721e+03,  6.89105465e+03,\n",
       "        -1.65838756e+03, -2.35604311e+04,  1.39748680e+03,\n",
       "        -7.44369492e+02,  6.86586465e+02,  1.51408031e+04,\n",
       "         1.26824300e+02,  6.93517250e+02, -5.99567769e+03,\n",
       "        -3.15695345e+03, -1.06399936e+00,  1.78609717e+02,\n",
       "        -5.64420683e+03, -7.83555749e+01, -3.18632735e+02,\n",
       "        -1.75215441e+03, -7.23486820e+03],\n",
       "       [ 7.07005919e+02,  7.67670826e+03, -3.71921606e+02,\n",
       "        -1.37287268e+04,  5.25952582e+02, -2.65777647e+04,\n",
       "        -2.33215899e+03, -3.50217730e+04,  8.93286560e+03,\n",
       "        -2.35012980e+03, -4.34974244e+03, -8.76088323e+02,\n",
       "         2.19155440e+04, -1.12825711e+04, -1.54624660e+03,\n",
       "        -1.64575480e+03,  6.14156980e+03, -2.28752615e+03,\n",
       "         1.72300582e+04,  1.10866672e+04, -1.63107959e+02,\n",
       "         3.28846396e+02,  2.80384860e+02, -4.64624796e+03,\n",
       "        -8.56469509e+03,  2.71071570e+03, -7.11966000e+01,\n",
       "        -4.66879605e+03, -2.20502393e+03, -2.28316010e+03,\n",
       "         8.75199173e+03,  1.25370331e+04,  7.30605977e+03,\n",
       "         4.65863717e+03, -1.84200145e+03, -1.50221899e+04,\n",
       "        -2.23708460e+04, -4.82466165e+03,  1.71884265e+03,\n",
       "         5.15959019e+03,  2.86003522e+03,  2.43485668e+03,\n",
       "         9.39459841e+02, -1.43019839e+03,  2.31033233e+03,\n",
       "         2.00974498e+02, -8.47719348e+03,  1.61580849e+02,\n",
       "         6.10686375e+03,  9.59765316e+03],\n",
       "       [ 3.25810690e+02, -1.38737924e+04,  1.81896231e+04,\n",
       "         1.10816582e+03, -8.89653338e+02, -2.27212691e+04,\n",
       "        -1.42663008e+03,  1.64366025e+04,  8.62599866e+03,\n",
       "        -1.15907292e+03, -5.48880716e+03,  2.97459359e+03,\n",
       "         3.59551351e+04,  1.14076603e+04,  1.83172606e+03,\n",
       "         8.23456444e+03, -3.21286669e+03,  7.52385269e+02,\n",
       "         1.24450996e+04, -3.73259747e+03, -3.26206725e+02,\n",
       "         2.07636199e+02,  2.03937767e+01, -1.26296598e+03,\n",
       "        -4.23207856e+03,  1.16820229e+03, -1.09354777e+02,\n",
       "        -9.35720933e+03, -2.16730723e+04, -4.89079398e+03,\n",
       "         2.03120991e+03, -3.20082264e+03, -1.19453158e+04,\n",
       "         3.42937433e+02, -3.20458102e+02,  2.79955171e+03,\n",
       "        -2.67753482e+04, -1.28021391e+04,  6.05661060e+02,\n",
       "         4.53987484e+03, -4.70403976e+02, -3.01989950e+03,\n",
       "         9.29613930e+02,  2.60440706e+03,  2.26989209e+03,\n",
       "        -1.75049677e+02,  1.51092673e+04,  4.92083434e+02,\n",
       "        -8.07805373e+03,  2.40887997e+03]])"
      ]
     },
     "execution_count": 87,
     "metadata": {},
     "output_type": "execute_result"
    }
   ],
   "source": [
    "ne_(dx,dy,dz,DT,Ret)"
   ]
  },
  {
   "cell_type": "code",
   "execution_count": 88,
   "metadata": {},
   "outputs": [
    {
     "name": "stdout",
     "output_type": "stream",
     "text": [
      "0:00:00.004130\n"
     ]
    }
   ],
   "source": [
    "startTime1 = datetime.now()\n",
    "ne(x,y,z,Ret,ωe(φ,θ,ψ,None,None,None),[0,0,1])\n",
    "print(datetime.now() - startTime1)"
   ]
  },
  {
   "cell_type": "code",
   "execution_count": 89,
   "metadata": {},
   "outputs": [
    {
     "data": {
      "text/plain": [
       "array([[-1.29972672e+02,  3.69419006e+06, -2.38145571e+06],\n",
       "       [-1.83501260e+03,  1.75153310e+07,  1.02019797e+06],\n",
       "       [-6.73079908e+03,  4.81130768e+07,  1.98757870e+07],\n",
       "       [-5.56042157e+03,  4.47492150e+07,  1.14172274e+07],\n",
       "       [ 1.36683234e+00, -1.62710766e+04,  2.46481684e+03],\n",
       "       [-7.67545778e+03,  6.16539259e+07,  1.58767406e+07],\n",
       "       [ 2.98095549e+01,  4.29440920e+05, -7.30584499e+05],\n",
       "       [-1.05072772e+04,  4.14391783e+07,  6.46981934e+07],\n",
       "       [-2.35999001e+03, -1.82924282e+07,  4.21328417e+07],\n",
       "       [ 1.00254603e+04, -6.41541219e+07, -3.71150157e+07],\n",
       "       [ 4.45716380e+02, -4.81105067e+06,  3.08881511e+05],\n",
       "       [-7.25079773e+02,  4.22699559e+06,  3.09719809e+06],\n",
       "       [-8.72659787e+03,  5.42384790e+07,  3.39106760e+07],\n",
       "       [-9.01292880e+02,  1.43702302e+07, -5.26653031e+06],\n",
       "       [ 6.17707906e+03, -9.89180697e+06, -5.25055799e+07],\n",
       "       [ 2.95555642e+02, -3.42029739e+06,  4.34909463e+05],\n",
       "       [-4.39901148e+03,  5.91047165e+07, -1.46710089e+07],\n",
       "       [-1.54688942e+03,  1.05975203e+06,  1.45661288e+07],\n",
       "       [-1.06347755e+04,  5.76552971e+07,  4.97691789e+07],\n",
       "       [-5.37284856e+03,  5.03531499e+07,  3.91823597e+06],\n",
       "       [ 8.00001806e+00, -8.14002940e+03, -7.26719011e+04],\n",
       "       [ 1.28620253e+03, -4.19617444e+06, -8.79621364e+06],\n",
       "       [-3.14079967e+02,  3.28109843e+05,  2.84455862e+06],\n",
       "       [ 1.21045042e+03,  4.57238664e+07, -5.79535728e+07],\n",
       "       [-4.38847426e+03,  1.09152482e+07,  3.34144595e+07],\n",
       "       [ 6.06990597e+03, -3.39873976e+07, -2.73261571e+07],\n",
       "       [ 4.53802383e+02, -3.38566618e+06, -1.19825613e+06],\n",
       "       [-1.52268894e+02, -2.12459298e+05,  1.75061735e+06],\n",
       "       [-1.03701260e+03,  1.70627575e+07, -6.58821850e+06],\n",
       "       [ 1.13299559e+00, -2.26134641e+04,  1.11696323e+04],\n",
       "       [ 5.47854079e+03, -4.17848574e+06, -5.11628922e+07],\n",
       "       [ 3.40771563e+03, -3.31561704e+07, -1.26525720e+06],\n",
       "       [ 7.99684890e+03, -2.71324518e+07, -5.36465029e+07],\n",
       "       [-3.81610101e+02,  2.06275032e+07, -1.67737064e+07],\n",
       "       [ 1.14345771e+02, -2.00105629e+06,  8.46091595e+05],\n",
       "       [-2.59605987e+03, -1.73992767e+07,  4.36243093e+07],\n",
       "       [-2.73283744e+03,  4.14935192e+07, -1.38898096e+07],\n",
       "       [-1.66473807e+03,  2.53515279e+07, -8.53642753e+06],\n",
       "       [ 1.55772957e+03,  6.40469880e+06, -2.21404599e+07],\n",
       "       [-3.14477894e+02,  2.95749298e+06,  2.19061904e+05],\n",
       "       [ 2.98087808e+00, -9.33655142e+03, -2.07743752e+04],\n",
       "       [ 1.30668905e+01,  4.10293167e+04, -1.73026852e+05],\n",
       "       [ 2.59694906e+03, -2.59694911e+07, -2.62325865e+05],\n",
       "       [-6.27433919e+03,  2.32042433e+07,  4.01749441e+07],\n",
       "       [ 1.80994417e+00,  6.65767708e+05, -6.84084633e+05],\n",
       "       [ 6.65311069e+02, -7.82554112e+06,  1.10528456e+06],\n",
       "       [-2.39561661e+03, -8.70345417e+05,  2.50697588e+07],\n",
       "       [-6.63882194e+02,  9.44133654e+06, -2.73559567e+06],\n",
       "       [ 8.58833608e+02,  1.35026972e+07, -2.21789064e+07],\n",
       "       [-5.38490356e+03,  5.42930625e+07,  9.98975864e+04]])"
      ]
     },
     "execution_count": 89,
     "metadata": {},
     "output_type": "execute_result"
    }
   ],
   "source": [
    "d_s(ne, x, y, z, Ret, ωe(φ,θ,ψ,None,None,None)).T"
   ]
  },
  {
   "cell_type": "code",
   "execution_count": 90,
   "metadata": {},
   "outputs": [
    {
     "data": {
      "text/plain": [
       "array([[-1.59235153e+10, -2.39722004e+08, -3.70995362e+08],\n",
       "       [-2.61138806e+09,  1.01761272e+08, -1.75179165e+09],\n",
       "       [-3.75019946e+09,  1.98720747e+09, -4.81167904e+09],\n",
       "       [-1.53773114e+09,  1.14157053e+09, -4.47507383e+09],\n",
       "       [ 3.16838437e+09,  5.60151800e+05,  1.94076192e+06],\n",
       "       [-8.56625311e+09,  1.58682604e+09, -6.16624074e+09],\n",
       "       [-1.55183704e+10, -7.45947705e+07, -4.44803341e+07],\n",
       "       [-5.86817831e+09,  6.46923853e+09, -4.14449884e+09],\n",
       "       [-3.85390066e+09,  4.21290273e+09,  1.82886135e+09],\n",
       "       [-1.10452767e+09, -3.71161100e+09,  6.41530299e+09],\n",
       "       [-8.91892568e+09,  3.00051780e+07,  4.80222148e+08],\n",
       "       [ 7.71136581e+08,  3.09796158e+08, -4.22623229e+08],\n",
       "       [-8.14386869e+08,  3.39098705e+09, -5.42392864e+09],\n",
       "       [-1.13630564e+10, -5.27777986e+08, -1.43814794e+09],\n",
       "       [-5.17084365e+09, -5.25107002e+09,  9.88668831e+08],\n",
       "       [-8.12973262e+09,  4.26861036e+07,  3.41224944e+08],\n",
       "       [-3.60620393e+07, -1.46710449e+09, -5.91047535e+09],\n",
       "       [ 3.26808164e+09,  1.45693645e+09, -1.05651682e+08],\n",
       "       [-1.08822169e+09,  4.97681027e+09, -5.76563757e+09],\n",
       "       [-5.21008584e+09,  3.91307808e+08, -5.03583088e+09],\n",
       "       [-2.41206866e+09, -7.50598512e+06,  5.75220216e+05],\n",
       "       [-1.52589725e+10, -8.81132022e+08,  4.18106892e+08],\n",
       "       [-1.09202788e+10,  2.83374760e+08, -3.38920380e+07],\n",
       "       [ 1.08559832e+10, -5.79428266e+09, -4.57131206e+09],\n",
       "       [-5.20465728e+09,  3.34093076e+09, -1.09204008e+09],\n",
       "       [-2.13718273e+09, -2.73282735e+09,  3.39852826e+09],\n",
       "       [-1.14951036e+10, -1.20963631e+08,  3.37428668e+08],\n",
       "       [ 1.30048913e+10,  1.76349223e+08,  2.25333495e+07],\n",
       "       [-4.71176204e+08, -6.58868511e+08, -1.70632243e+09],\n",
       "       [-1.11187882e+10,  1.62030149e+04,  1.16064200e+06],\n",
       "       [-1.33404376e+10, -5.11761004e+09,  4.16527947e+08],\n",
       "       [-1.30431878e+06, -1.26525852e+08,  3.31561699e+09],\n",
       "       [ 2.03990333e+09, -5.36444846e+09,  2.71344718e+09],\n",
       "       [-1.49153826e+10, -1.67884731e+09, -2.06422692e+09],\n",
       "       [-6.05120173e+09,  8.40100923e+07,  1.99506595e+08],\n",
       "       [ 3.96711683e+08,  4.36247030e+09,  1.73996698e+09],\n",
       "       [-1.11374337e+10, -1.39008360e+09, -4.15045456e+09],\n",
       "       [-1.56316802e+10, -8.55190309e+08, -2.53670031e+09],\n",
       "       [-7.97017370e+09, -2.21483508e+09, -6.41258902e+08],\n",
       "       [ 1.40084531e+09,  2.20448746e+07, -2.95610628e+08],\n",
       "       [-5.04725860e+08, -2.12740544e+06,  8.83689825e+05],\n",
       "       [ 1.75799909e+08, -1.72852814e+07, -4.08552845e+06],\n",
       "       [ 2.04528959e+08, -2.62123387e+07,  2.59696942e+09],\n",
       "       [-1.49261944e+10,  4.01601681e+09, -2.32190200e+09],\n",
       "       [ 5.01932743e+09, -6.79115513e+07, -6.60798839e+07],\n",
       "       [-1.35814313e+10,  1.09183897e+08,  7.81209636e+08],\n",
       "       [-2.14764175e+09,  2.50676331e+09,  8.68219379e+07],\n",
       "       [-7.30723361e+09, -2.74282990e+08, -9.44857054e+08],\n",
       "       [-4.19623719e+09, -2.21830612e+09, -1.35068516e+09],\n",
       "       [-6.57213215e+06,  9.98910822e+06, -5.42930702e+09]])"
      ]
     },
     "execution_count": 90,
     "metadata": {},
     "output_type": "execute_result"
    }
   ],
   "source": [
    "ne(x,y,z,Ret,ωe(φ,θ,ψ,None,None,None),[1,23,4])"
   ]
  },
  {
   "cell_type": "code",
   "execution_count": 91,
   "metadata": {},
   "outputs": [
    {
     "name": "stdout",
     "output_type": "stream",
     "text": [
      "0:00:00.000768\n"
     ]
    }
   ],
   "source": [
    "startTime1 = datetime.now()\n",
    "ne_(dx,dy,dz,DT,Ret)\n",
    "print(datetime.now() - startTime1)"
   ]
  },
  {
   "cell_type": "code",
   "execution_count": 92,
   "metadata": {},
   "outputs": [
    {
     "data": {
      "text/plain": [
       "(50, 3, 3)"
      ]
     },
     "execution_count": 92,
     "metadata": {},
     "output_type": "execute_result"
    }
   ],
   "source": [
    "Re_b(Ret).shape"
   ]
  },
  {
   "cell_type": "code",
   "execution_count": 93,
   "metadata": {},
   "outputs": [],
   "source": [
    "# def Irho_e(Ret):\n",
    "    \n",
    "#     ans1 = np.multiply(np.multiply(Ret,Irho),Ret) # (19) in [3] \n",
    "    \n",
    "#     sum_=np.zeros(Irho.shape)\n",
    "# #     print(sum_)\n",
    "    \n",
    "#     for i in range(len(ans1)):\n",
    "#         sum_+=ans1[i]\n",
    "#         ans1[i]=sum_\n",
    "        \n",
    "#     tmp=np.zeros(Irho.shape)\n",
    "#     np.fill_diagonal(tmp, vessel_inertia)\n",
    "    \n",
    "#     ans2=np.multiply(np.multiply(Ret,tmp),Ret)\n",
    "#     ans1[-1]+=ans2[-1]\n",
    "    \n",
    "#     for i in range(int(node_N/4)):\n",
    "#         ans1[i]*=(10-i+1)\n",
    "#     return ans1\n",
    "def Irho_e(Ret,Irho): # here\n",
    "#     ans= np.multiply(np.multiply(Ret,Irho),Ret) # (19) in [3] \n",
    "#     print(Irho[1])\n",
    "#     print(np.dot(np.dot(Ret[1],Irho[1]),Ret[1]))\n",
    "#     ans=  np.einsum('ijk,ikp->ijp', np.einsum('i,ikp->ikp', Irho, Ret),Ret)\n",
    "    ans=  np.einsum('ijk,ikp->ijp', np.einsum('ijk,ikp->ijp', Ret,Irho),Ret)\n",
    "    return ans"
   ]
  },
  {
   "cell_type": "code",
   "execution_count": 94,
   "metadata": {},
   "outputs": [],
   "source": [
    "# Irho_e(Ret,Irho)"
   ]
  },
  {
   "cell_type": "code",
   "execution_count": 95,
   "metadata": {},
   "outputs": [],
   "source": [
    "# startTime1 = datetime.now()\n",
    "# Irho_e(Ret,Irho)\n",
    "# print(datetime.now() - startTime1)"
   ]
  },
  {
   "cell_type": "code",
   "execution_count": 96,
   "metadata": {},
   "outputs": [
    {
     "data": {
      "text/plain": [
       "423167467.8322429"
      ]
     },
     "execution_count": 96,
     "metadata": {},
     "output_type": "execute_result"
    }
   ],
   "source": [
    "79.3*1e9*math.pi*(d0**4-dI**4)/64"
   ]
  },
  {
   "cell_type": "code",
   "execution_count": 97,
   "metadata": {},
   "outputs": [],
   "source": [
    "# diag_CR = 1e11*np.array([1, 1, 1])\n",
    "diag_CR = 1e9*np.array([4, 4, 4]) #!!!!!!!!!!!!!!!!!!!!!!!!!!!!!!!!!!!!!!!!!\n",
    "\n",
    "CR=np.diag(diag_CR)"
   ]
  },
  {
   "cell_type": "code",
   "execution_count": 98,
   "metadata": {},
   "outputs": [
    {
     "data": {
      "text/plain": [
       "array([[4.e+09, 0.e+00, 0.e+00],\n",
       "       [0.e+00, 4.e+09, 0.e+00],\n",
       "       [0.e+00, 0.e+00, 4.e+09]])"
      ]
     },
     "execution_count": 98,
     "metadata": {},
     "output_type": "execute_result"
    }
   ],
   "source": [
    "CR"
   ]
  },
  {
   "cell_type": "code",
   "execution_count": 99,
   "metadata": {},
   "outputs": [],
   "source": [
    "def d_me(φ,θ,ψ,Ret,omega):\n",
    "    \n",
    "    def f(a,b,c,Ret,omega, dummy2): \n",
    "        return np.einsum('ijk,ik->ik', np.multiply(np.multiply(Ret,CR),Ret),omega.astype(np.float32)).squeeze()\n",
    "   \n",
    "    B=d_s(f,φ,θ,ψ,Ret.astype(np.float32),omega.astype(np.float32))\n",
    "\n",
    "    return B.T.astype(np.float32)"
   ]
  },
  {
   "cell_type": "code",
   "execution_count": 100,
   "metadata": {},
   "outputs": [
    {
     "name": "stdout",
     "output_type": "stream",
     "text": [
      "0:00:00.002023\n"
     ]
    }
   ],
   "source": [
    "startTime1 = datetime.now()\n",
    "d_me_=d_me(φ,θ,ψ,Ret, ωe(φ,θ,ψ,None,None,None))\n",
    "print(datetime.now() - startTime1)"
   ]
  },
  {
   "cell_type": "code",
   "execution_count": 101,
   "metadata": {},
   "outputs": [
    {
     "data": {
      "text/plain": [
       "array([[ 4.53683424e-05,  3.30232353e+01, -3.34832001e+01],\n",
       "       [ 4.61582822e-04,  6.01585817e+00, -1.06788521e+01],\n",
       "       [ 8.50205601e-04, -3.80116129e+00, -4.78701496e+00],\n",
       "       [ 7.39105511e-04, -5.39155102e+00, -2.07426429e+00],\n",
       "       [-2.77377353e-06,  1.29146328e+01, -1.28872690e+01],\n",
       "       [-9.67157772e-04,  1.98780715e+00,  7.78185558e+00],\n",
       "       [ 2.92832574e-05,  3.62235756e+01, -3.65212212e+01],\n",
       "       [ 8.97217018e-04, -1.26868410e+01,  3.62422895e+00],\n",
       "       [ 2.30161799e-03, -2.09195824e+01, -2.32919884e+00],\n",
       "       [ 1.51472201e-03, -2.07668457e+01,  5.46690416e+00],\n",
       "       [ 2.33167259e-04,  2.32280102e+01, -2.55845337e+01],\n",
       "       [ 1.14723202e-03, -7.32426500e+00, -4.26415014e+00],\n",
       "       [ 2.06411444e-03, -2.50623760e+01,  4.21295500e+00],\n",
       "       [-3.91808222e-04,  2.31068630e+01, -1.91501770e+01],\n",
       "       [ 2.08397023e-03, -1.98252525e+01, -1.22501040e+00],\n",
       "       [ 1.41056325e-05,  2.29257851e+01, -2.30694370e+01],\n",
       "       [ 1.97022175e-03, -2.34033108e+01,  3.50226331e+00],\n",
       "       [ 7.68542115e-04,  1.28680742e+00, -9.05031681e+00],\n",
       "       [ 4.87418467e-04, -1.55614948e+01,  1.06386175e+01],\n",
       "       [-1.93030108e-03,  2.33056355e+00,  1.71682949e+01],\n",
       "       [-2.47420576e-05,  1.07705460e+01, -1.05211601e+01],\n",
       "       [-4.46972372e-05,  2.77172070e+01, -2.72671051e+01],\n",
       "       [-1.47443323e-04,  2.92566681e+01, -2.77687511e+01],\n",
       "       [ 3.54496624e-05, -4.13149691e+00,  3.77361107e+00],\n",
       "       [-7.56508263e-04,  1.20161686e+01, -4.37489462e+00],\n",
       "       [-2.83453194e-03,  6.69861734e-01,  2.79631863e+01],\n",
       "       [-1.37681447e-04,  2.88777142e+01, -2.74883881e+01],\n",
       "       [-8.25965617e-06,  3.21540451e+01, -3.20722427e+01],\n",
       "       [ 2.79673096e-03, -2.62282200e+01, -2.02168393e+00],\n",
       "       [ 3.09280694e-07,  2.98308201e+01, -2.98354588e+01],\n",
       "       [ 5.17256791e-04, -3.94457126e+00, -1.28030849e+00],\n",
       "       [ 8.04694195e-04, -8.67957211e+00,  5.51377833e-01],\n",
       "       [-2.37892615e-03,  1.68363607e+00,  2.23470478e+01],\n",
       "       [ 1.45887854e-04,  1.37861338e+01, -1.52605228e+01],\n",
       "       [-1.97699308e-04,  1.92515144e+01, -1.72554283e+01],\n",
       "       [-3.11406539e-03, -1.15666223e+00,  3.26135178e+01],\n",
       "       [-2.42101392e-04,  9.88152313e+00, -7.43643236e+00],\n",
       "       [-5.90335003e-05,  1.07702074e+01, -1.01744261e+01],\n",
       "       [ 3.10707328e-05,  1.52329426e+01, -1.55475779e+01],\n",
       "       [ 5.19115420e-05,  6.71569014e+00, -7.24041653e+00],\n",
       "       [-1.11007075e-05,  3.79459715e+00, -3.68265557e+00],\n",
       "       [ 5.06798242e-05,  1.32679915e+00, -1.83880973e+00],\n",
       "       [ 6.77261443e-04, -4.89648199e+00, -1.94463956e+00],\n",
       "       [ 1.98796697e-04, -2.52642083e+00,  5.18400371e-01],\n",
       "       [-4.57289061e-05,  1.73397675e+01, -1.68787174e+01],\n",
       "       [ 3.48864035e-07,  2.92025528e+01, -2.92075577e+01],\n",
       "       [-7.57324800e-04,  9.53674793e+00, -1.88710058e+00],\n",
       "       [-4.18002164e-04,  1.92374115e+01, -1.50159302e+01],\n",
       "       [ 1.53502298e-03, -6.59587717e+00, -8.90985394e+00],\n",
       "       [ 3.05129378e-03, -3.06370182e+01, -1.84133276e-01]], dtype=float32)"
      ]
     },
     "execution_count": 101,
     "metadata": {},
     "output_type": "execute_result"
    }
   ],
   "source": [
    "d_me_"
   ]
  },
  {
   "cell_type": "code",
   "execution_count": 102,
   "metadata": {},
   "outputs": [],
   "source": [
    "# diag_DR = 1.5*np.array([1, 1, 1]) \n",
    " \n",
    "# DR=np.diag(diag_DR)"
   ]
  },
  {
   "cell_type": "code",
   "execution_count": 103,
   "metadata": {},
   "outputs": [
    {
     "data": {
      "text/plain": [
       "array([[-3.60727350e+02,  6.95954247e+03,  6.09935798e+03,\n",
       "        -2.98227648e+02, -6.26389043e+02, -3.60343408e+03,\n",
       "         2.59630346e+02,  2.60928665e+04, -5.91796390e+02,\n",
       "         1.02299274e+04,  1.34968568e+03, -1.29397448e+02,\n",
       "        -1.26549819e+00, -4.50746447e+03,  1.16099081e+03,\n",
       "         4.38528452e+03, -5.02419048e+03, -1.02391452e+02,\n",
       "         6.87255047e+02, -1.34881031e+03,  6.72178251e+01,\n",
       "        -2.91331430e+03, -3.10521182e+03, -6.52417769e+02,\n",
       "         4.31916991e+02,  7.47009698e+02,  2.61302168e+03,\n",
       "        -4.15702839e+03, -9.94879956e+02,  2.71607667e+04,\n",
       "         5.30020720e+03,  7.32988721e+03,  6.89105465e+03,\n",
       "        -1.65838756e+03, -2.35604311e+04,  1.39748680e+03,\n",
       "        -7.44369492e+02,  6.86586465e+02,  1.51408031e+04,\n",
       "         1.26824300e+02,  6.93517250e+02, -5.99567769e+03,\n",
       "        -3.15695345e+03, -1.06399936e+00,  1.78609717e+02,\n",
       "        -5.64420683e+03, -7.83555749e+01, -3.18632735e+02,\n",
       "        -1.75215441e+03, -7.23486820e+03],\n",
       "       [ 7.07005919e+02,  7.67670826e+03, -3.71921606e+02,\n",
       "        -1.37287268e+04,  5.25952582e+02, -2.65777647e+04,\n",
       "        -2.33215899e+03, -3.50217730e+04,  8.93286560e+03,\n",
       "        -2.35012980e+03, -4.34974244e+03, -8.76088323e+02,\n",
       "         2.19155440e+04, -1.12825711e+04, -1.54624660e+03,\n",
       "        -1.64575480e+03,  6.14156980e+03, -2.28752615e+03,\n",
       "         1.72300582e+04,  1.10866672e+04, -1.63107959e+02,\n",
       "         3.28846396e+02,  2.80384860e+02, -4.64624796e+03,\n",
       "        -8.56469509e+03,  2.71071570e+03, -7.11966000e+01,\n",
       "        -4.66879605e+03, -2.20502393e+03, -2.28316010e+03,\n",
       "         8.75199173e+03,  1.25370331e+04,  7.30605977e+03,\n",
       "         4.65863717e+03, -1.84200145e+03, -1.50221899e+04,\n",
       "        -2.23708460e+04, -4.82466165e+03,  1.71884265e+03,\n",
       "         5.15959019e+03,  2.86003522e+03,  2.43485668e+03,\n",
       "         9.39459841e+02, -1.43019839e+03,  2.31033233e+03,\n",
       "         2.00974498e+02, -8.47719348e+03,  1.61580849e+02,\n",
       "         6.10686375e+03,  9.59765316e+03],\n",
       "       [ 3.25810690e+02, -1.38737924e+04,  1.81896231e+04,\n",
       "         1.10816582e+03, -8.89653338e+02, -2.27212691e+04,\n",
       "        -1.42663008e+03,  1.64366025e+04,  8.62599866e+03,\n",
       "        -1.15907292e+03, -5.48880716e+03,  2.97459359e+03,\n",
       "         3.59551351e+04,  1.14076603e+04,  1.83172606e+03,\n",
       "         8.23456444e+03, -3.21286669e+03,  7.52385269e+02,\n",
       "         1.24450996e+04, -3.73259747e+03, -3.26206725e+02,\n",
       "         2.07636199e+02,  2.03937767e+01, -1.26296598e+03,\n",
       "        -4.23207856e+03,  1.16820229e+03, -1.09354777e+02,\n",
       "        -9.35720933e+03, -2.16730723e+04, -4.89079398e+03,\n",
       "         2.03120991e+03, -3.20082264e+03, -1.19453158e+04,\n",
       "         3.42937433e+02, -3.20458102e+02,  2.79955171e+03,\n",
       "        -2.67753482e+04, -1.28021391e+04,  6.05661060e+02,\n",
       "         4.53987484e+03, -4.70403976e+02, -3.01989950e+03,\n",
       "         9.29613930e+02,  2.60440706e+03,  2.26989209e+03,\n",
       "        -1.75049677e+02,  1.51092673e+04,  4.92083434e+02,\n",
       "        -8.07805373e+03,  2.40887997e+03]])"
      ]
     },
     "execution_count": 103,
     "metadata": {},
     "output_type": "execute_result"
    }
   ],
   "source": [
    "ne_(dx,dy,dz,DT,Ret)"
   ]
  },
  {
   "cell_type": "markdown",
   "metadata": {},
   "source": [
    "### Static solution"
   ]
  },
  {
   "cell_type": "code",
   "execution_count": 104,
   "metadata": {},
   "outputs": [],
   "source": [
    "def catenary(x,Ws,Fh):\n",
    "    return (Fh/Ws)*(np.cosh(x*Ws/Fh)-1)"
   ]
  },
  {
   "cell_type": "code",
   "execution_count": 105,
   "metadata": {},
   "outputs": [],
   "source": [
    "pipe_weight_per_unit_length = mi #  (submerged) [kg/m]  # 113.07 - not submerged"
   ]
  },
  {
   "cell_type": "code",
   "execution_count": 106,
   "metadata": {},
   "outputs": [],
   "source": [
    "Fx_0=82945396"
   ]
  },
  {
   "cell_type": "code",
   "execution_count": 107,
   "metadata": {},
   "outputs": [],
   "source": [
    "Ws = np.array(pipe_weight_per_unit_length)*9.81 # [N/m]\n",
    "h=700"
   ]
  },
  {
   "cell_type": "code",
   "execution_count": 108,
   "metadata": {},
   "outputs": [],
   "source": [
    "S=math.sqrt(h*(2*Fx_0/Ws[0] -h))\n",
    "horizontal_length=(Fx_0/Ws[0] -h)*np.log((S+Fx_0/Ws[0])/(Fx_0/Ws[0]-h))"
   ]
  },
  {
   "cell_type": "code",
   "execution_count": 109,
   "metadata": {},
   "outputs": [
    {
     "data": {
      "text/plain": [
       "array([941.76, 941.76, 941.76, 941.76, 941.76, 941.76, 941.76, 941.76,\n",
       "       941.76, 941.76, 941.76, 941.76, 941.76, 941.76, 941.76, 941.76,\n",
       "       941.76, 941.76, 941.76, 941.76, 941.76, 941.76, 941.76, 941.76,\n",
       "       941.76, 941.76, 941.76, 941.76, 941.76, 941.76, 941.76, 941.76,\n",
       "       941.76, 941.76, 941.76, 941.76, 941.76, 941.76, 941.76, 941.76,\n",
       "       941.76, 941.76, 941.76, 941.76, 941.76, 941.76, 941.76, 941.76,\n",
       "       941.76, 941.76])"
      ]
     },
     "execution_count": 109,
     "metadata": {},
     "output_type": "execute_result"
    }
   ],
   "source": [
    "Ws"
   ]
  },
  {
   "cell_type": "code",
   "execution_count": 110,
   "metadata": {},
   "outputs": [],
   "source": [
    "delta_x=horizontal_length/(node_N-1)"
   ]
  },
  {
   "cell_type": "code",
   "execution_count": 111,
   "metadata": {},
   "outputs": [],
   "source": [
    "x0=[i*delta_x for i in range(node_N)]\n",
    "z0=[]\n",
    "\n",
    "for i in range(len(x0)):\n",
    "    z0.append(catenary(x0[i],Ws[0],Fx_0))\n",
    "\n",
    "length_p=[]\n",
    "for i in range(1,len(z0)):\n",
    "    length_p.append(math.sqrt((x0[i]-x0[i-1])**2+(z0[i]-z0[i-1])**2))"
   ]
  },
  {
   "cell_type": "code",
   "execution_count": 112,
   "metadata": {},
   "outputs": [],
   "source": [
    "M_totl=[]\n",
    "v_mass=vessel_mass*9.81\n",
    "for i in range(node_N):\n",
    "    v_mass+=Ws[i]\n",
    "    M_totl.append(v_mass)\n",
    "M_totl=np.array(M_totl[::-1])"
   ]
  },
  {
   "cell_type": "code",
   "execution_count": 113,
   "metadata": {},
   "outputs": [
    {
     "data": {
      "text/plain": [
       "array([3196782.14893616, 3195840.38893616, 3194898.62893616,\n",
       "       3193956.86893616, 3193015.10893616, 3192073.34893616,\n",
       "       3191131.58893616, 3190189.82893616, 3189248.06893616,\n",
       "       3188306.30893616, 3187364.54893616, 3186422.78893616,\n",
       "       3185481.02893616, 3184539.26893616, 3183597.50893616,\n",
       "       3182655.74893616, 3181713.98893616, 3180772.22893616,\n",
       "       3179830.46893616, 3178888.70893616, 3177946.94893616,\n",
       "       3177005.18893616, 3176063.42893616, 3175121.66893616,\n",
       "       3174179.90893616, 3173238.14893617, 3172296.38893617,\n",
       "       3171354.62893617, 3170412.86893617, 3169471.10893617,\n",
       "       3168529.34893617, 3167587.58893617, 3166645.82893617,\n",
       "       3165704.06893617, 3164762.30893617, 3163820.54893617,\n",
       "       3162878.78893617, 3161937.02893617, 3160995.26893617,\n",
       "       3160053.50893617, 3159111.74893617, 3158169.98893617,\n",
       "       3157228.22893617, 3156286.46893617, 3155344.70893617,\n",
       "       3154402.94893617, 3153461.18893617, 3152519.42893617,\n",
       "       3151577.66893617, 3150635.90893617])"
      ]
     },
     "execution_count": 113,
     "metadata": {},
     "output_type": "execute_result"
    }
   ],
   "source": [
    "M_totl"
   ]
  },
  {
   "cell_type": "code",
   "execution_count": 114,
   "metadata": {},
   "outputs": [
    {
     "data": {
      "text/plain": [
       "([0.0,\n",
       "  225.56499682574736,\n",
       "  451.1299936514947,\n",
       "  676.6949904772421,\n",
       "  902.2599873029894,\n",
       "  1127.8249841287368,\n",
       "  1353.3899809544841,\n",
       "  1578.9549777802315,\n",
       "  1804.5199746059789,\n",
       "  2030.0849714317262,\n",
       "  2255.6499682574736,\n",
       "  2481.2149650832207,\n",
       "  2706.7799619089683,\n",
       "  2932.344958734716,\n",
       "  3157.909955560463,\n",
       "  3383.47495238621,\n",
       "  3609.0399492119577,\n",
       "  3834.6049460377053,\n",
       "  4060.1699428634524,\n",
       "  4285.7349396892,\n",
       "  4511.299936514947,\n",
       "  4736.864933340695,\n",
       "  4962.429930166441,\n",
       "  5187.994926992189,\n",
       "  5413.559923817937,\n",
       "  5639.124920643684,\n",
       "  5864.689917469432,\n",
       "  6090.254914295178,\n",
       "  6315.819911120926,\n",
       "  6541.384907946674,\n",
       "  6766.94990477242,\n",
       "  6992.514901598168,\n",
       "  7218.079898423915,\n",
       "  7443.644895249663,\n",
       "  7669.209892075411,\n",
       "  7894.774888901157,\n",
       "  8120.339885726905,\n",
       "  8345.904882552652,\n",
       "  8571.4698793784,\n",
       "  8797.034876204147,\n",
       "  9022.599873029894,\n",
       "  9248.164869855642,\n",
       "  9473.72986668139,\n",
       "  9699.294863507137,\n",
       "  9924.859860332883,\n",
       "  10150.42485715863,\n",
       "  10375.989853984378,\n",
       "  10601.554850810126,\n",
       "  10827.119847635873,\n",
       "  11052.68484446162],\n",
       " [0.0,\n",
       "  0.2888428427924309,\n",
       "  1.155373265710624,\n",
       "  2.5995969523577234,\n",
       "  4.621523375418674,\n",
       "  7.221165796797117,\n",
       "  10.398541267595833,\n",
       "  14.15367062831231,\n",
       "  18.486578508975636,\n",
       "  23.39729332924428,\n",
       "  28.885847298621222,\n",
       "  34.95227641670818,\n",
       "  41.59662047340119,\n",
       "  48.81892304912524,\n",
       "  56.619231515186364,\n",
       "  64.99759703402582,\n",
       "  73.9540745596112,\n",
       "  83.48872283771031,\n",
       "  93.60160440638002,\n",
       "  104.29278559627915,\n",
       "  115.56233653119654,\n",
       "  127.41033112846175,\n",
       "  139.83684709937523,\n",
       "  152.8419659498538,\n",
       "  166.4257729808412,\n",
       "  180.58835728891447,\n",
       "  195.3298117668901,\n",
       "  210.65023310439128,\n",
       "  226.54972178849314,\n",
       "  243.02838210444648,\n",
       "  260.0863221362252,\n",
       "  277.72365376736735,\n",
       "  295.94049268164,\n",
       "  314.7369583638412,\n",
       "  334.1131741005232,\n",
       "  354.0692669808534,\n",
       "  374.60536789741576,\n",
       "  395.72161154711085,\n",
       "  417.41813643197673,\n",
       "  439.6950848601867,\n",
       "  462.5526029468705,\n",
       "  485.9908406151509,\n",
       "  510.0099515971214,\n",
       "  534.6100934348437,\n",
       "  559.7914274813454,\n",
       "  585.5541189017534,\n",
       "  611.8983366742727,\n",
       "  638.8242535914375,\n",
       "  666.3320462610891,\n",
       "  694.4218951076863])"
      ]
     },
     "execution_count": 114,
     "metadata": {},
     "output_type": "execute_result"
    }
   ],
   "source": [
    "x0,z0"
   ]
  },
  {
   "cell_type": "code",
   "execution_count": 115,
   "metadata": {},
   "outputs": [
    {
     "data": {
      "text/plain": [
       "[225.56518176169666,\n",
       " 225.56666125111053,\n",
       " 225.5696202396424,\n",
       " 225.57405874670005,\n",
       " 225.57997680139619,\n",
       " 225.58737444254686,\n",
       " 225.59625171867356,\n",
       " 225.60660868800304,\n",
       " 225.61844541846622,\n",
       " 225.63176198770017,\n",
       " 225.64655848304906,\n",
       " 225.66283500156428,\n",
       " 225.6805916500017,\n",
       " 225.69982854482856,\n",
       " 225.72054581222017,\n",
       " 225.74274358806272,\n",
       " 225.76642201794883,\n",
       " 225.79158125718783,\n",
       " 225.81822147079842,\n",
       " 225.84634283351636,\n",
       " 225.8759455297893,\n",
       " 225.90702975377832,\n",
       " 225.93959570937227,\n",
       " 225.97364361016668,\n",
       " 226.00917367948318,\n",
       " 226.04618615036563,\n",
       " 226.08468126557727,\n",
       " 226.1246592776104,\n",
       " 226.1661204486828,\n",
       " 226.20906505073324,\n",
       " 226.25349336544267,\n",
       " 226.29940568421313,\n",
       " 226.34680230818745,\n",
       " 226.39568354823808,\n",
       " 226.4460497249786,\n",
       " 226.49790116876304,\n",
       " 226.55123821968485,\n",
       " 226.60606122758307,\n",
       " 226.6623705520452,\n",
       " 226.72016656240044,\n",
       " 226.77944963773572,\n",
       " 226.84022016689133,\n",
       " 226.90247854846268,\n",
       " 226.96622519079838,\n",
       " 227.03146051202393,\n",
       " 227.0981849400066,\n",
       " 227.16639891240425,\n",
       " 227.2361028766249,\n",
       " 227.30729728986748]"
      ]
     },
     "execution_count": 115,
     "metadata": {},
     "output_type": "execute_result"
    }
   ],
   "source": [
    "length_p"
   ]
  },
  {
   "cell_type": "code",
   "execution_count": 116,
   "metadata": {},
   "outputs": [
    {
     "data": {
      "image/png": "[encoded data removed]",
      "text/plain": [
       "<Figure size 432x288 with 1 Axes>"
      ]
     },
     "metadata": {
      "needs_background": "light"
     },
     "output_type": "display_data"
    }
   ],
   "source": [
    "plt.plot(x0, z0)\n",
    "plt.show()"
   ]
  },
  {
   "cell_type": "code",
   "execution_count": 117,
   "metadata": {},
   "outputs": [],
   "source": [
    "rng = np.random.default_rng(seed=29)\n",
    "q0=np.zeros(12*node_N)"
   ]
  },
  {
   "cell_type": "code",
   "execution_count": 118,
   "metadata": {},
   "outputs": [],
   "source": [
    "V_rho=np.zeros(Irho_.shape)\n",
    "np.fill_diagonal(V_rho, vessel_inertia)"
   ]
  },
  {
   "cell_type": "code",
   "execution_count": 119,
   "metadata": {},
   "outputs": [
    {
     "data": {
      "text/plain": [
       "array([[6.0751987e+10, 0.0000000e+00, 0.0000000e+00],\n",
       "       [0.0000000e+00, 6.0751987e+10, 0.0000000e+00],\n",
       "       [0.0000000e+00, 0.0000000e+00, 6.0751987e+10]])"
      ]
     },
     "execution_count": 119,
     "metadata": {},
     "output_type": "execute_result"
    }
   ],
   "source": [
    "V_rho"
   ]
  },
  {
   "cell_type": "code",
   "execution_count": 120,
   "metadata": {},
   "outputs": [
    {
     "data": {
      "text/plain": [
       "array([[11165.46734287,     0.        ,   708.46681953],\n",
       "       [10939.90234605,     0.        ,   708.17797669],\n",
       "       [10714.33734922,     0.        ,   707.31144627],\n",
       "       [10488.7723524 ,     0.        ,   705.86722258],\n",
       "       [10263.20735557,     0.        ,   703.84529616],\n",
       "       [10037.64235875,     0.        ,   701.24565373],\n",
       "       [ 9812.07736192,     0.        ,   698.06827826],\n",
       "       [ 9586.51236509,     0.        ,   694.3131489 ],\n",
       "       [ 9360.94736827,     0.        ,   689.98024102],\n",
       "       [ 9135.38237144,     0.        ,   685.0695262 ],\n",
       "       [ 8909.81737462,     0.        ,   679.58097223],\n",
       "       [ 8684.25237779,     0.        ,   673.51454311],\n",
       "       [ 8458.68738097,     0.        ,   666.87019906],\n",
       "       [ 8233.12238414,     0.        ,   659.64789648],\n",
       "       [ 8007.55738731,     0.        ,   651.84758802],\n",
       "       [ 7781.99239049,     0.        ,   643.4692225 ],\n",
       "       [ 7556.42739366,     0.        ,   634.51274497],\n",
       "       [ 7330.86239684,     0.        ,   624.97809669],\n",
       "       [ 7105.29740001,     0.        ,   614.86521512],\n",
       "       [ 6879.73240319,     0.        ,   604.17403393],\n",
       "       [ 6654.16740636,     0.        ,   592.904483  ],\n",
       "       [ 6428.60240953,     0.        ,   581.0564884 ],\n",
       "       [ 6203.03741271,     0.        ,   568.62997243],\n",
       "       [ 5977.47241588,     0.        ,   555.62485358],\n",
       "       [ 5751.90741906,     0.        ,   542.04104655],\n",
       "       [ 5526.34242223,     0.        ,   527.87846224],\n",
       "       [ 5300.77742541,     0.        ,   513.13700776],\n",
       "       [ 5075.21242858,     0.        ,   497.81658643],\n",
       "       [ 4849.64743175,     0.        ,   481.91709774],\n",
       "       [ 4624.08243493,     0.        ,   465.43843743],\n",
       "       [ 4398.5174381 ,     0.        ,   448.38049739],\n",
       "       [ 4172.95244128,     0.        ,   430.74316576],\n",
       "       [ 3947.38744445,     0.        ,   412.52632685],\n",
       "       [ 3721.82244762,     0.        ,   393.72986117],\n",
       "       [ 3496.2574508 ,     0.        ,   374.35364543],\n",
       "       [ 3270.69245397,     0.        ,   354.39755255],\n",
       "       [ 3045.12745715,     0.        ,   333.86145163],\n",
       "       [ 2819.56246032,     0.        ,   312.74520798],\n",
       "       [ 2593.9974635 ,     0.        ,   291.0486831 ],\n",
       "       [ 2368.43246667,     0.        ,   268.77173467],\n",
       "       [ 2142.86746984,     0.        ,   245.91421658],\n",
       "       [ 1917.30247302,     0.        ,   222.47597892],\n",
       "       [ 1691.73747619,     0.        ,   198.45686793],\n",
       "       [ 1466.17247937,     0.        ,   173.8567261 ],\n",
       "       [ 1240.60748254,     0.        ,   148.67539205],\n",
       "       [ 1015.04248572,     0.        ,   122.91270063],\n",
       "       [  789.47748889,     0.        ,    96.56848286],\n",
       "       [  563.91249206,     0.        ,    69.64256594],\n",
       "       [  338.34749524,     0.        ,    42.13477327],\n",
       "       [  112.78249841,     0.        ,    14.04492442]])"
      ]
     },
     "execution_count": 120,
     "metadata": {},
     "output_type": "execute_result"
    }
   ],
   "source": [
    "Jv(x0,[0 for i in range(len(z0))],z0,len(z0))"
   ]
  },
  {
   "cell_type": "code",
   "execution_count": 121,
   "metadata": {},
   "outputs": [],
   "source": [
    "# def Joma(J):\n",
    "#     return (J/(J.max(axis=0)+1e-6))[::-1]"
   ]
  },
  {
   "cell_type": "code",
   "execution_count": 141,
   "metadata": {},
   "outputs": [],
   "source": [
    "def Joma_I(I):\n",
    "    ans=[]\n",
    "    for i in range(len(I)):\n",
    "#         print(I[-1].diagonal()[0]/I[i].diagonal()[0])\n",
    "        ans.append(I[-1].diagonal()/I[i].diagonal())\n",
    "    return np.array(ans)"
   ]
  },
  {
   "cell_type": "code",
   "execution_count": 144,
   "metadata": {},
   "outputs": [
    {
     "ename": "AttributeError",
     "evalue": "'float' object has no attribute 'copy'",
     "output_type": "error",
     "traceback": [
      "\u001b[0;31m---------------------------------------------------------------------------\u001b[0m",
      "\u001b[0;31mAttributeError\u001b[0m                            Traceback (most recent call last)",
      "\u001b[0;32m<ipython-input-144-c926a6c0cbe5>\u001b[0m in \u001b[0;36m<module>\u001b[0;34m\u001b[0m\n\u001b[0;32m----> 1\u001b[0;31m \u001b[0mM_t\u001b[0m\u001b[0;34m=\u001b[0m\u001b[0minert\u001b[0m\u001b[0;34m(\u001b[0m\u001b[0mvessel_mass\u001b[0m\u001b[0;34m*\u001b[0m\u001b[0;36m9.81\u001b[0m\u001b[0;34m,\u001b[0m\u001b[0mmp\u001b[0m\u001b[0;34m*\u001b[0m\u001b[0;36m9.81\u001b[0m\u001b[0;34m,\u001b[0m \u001b[0mx0\u001b[0m\u001b[0;34m)\u001b[0m\u001b[0;34m\u001b[0m\u001b[0;34m\u001b[0m\u001b[0m\n\u001b[0m\u001b[1;32m      2\u001b[0m \u001b[0mIrho\u001b[0m\u001b[0;34m=\u001b[0m\u001b[0minert\u001b[0m\u001b[0;34m(\u001b[0m\u001b[0mV_rho\u001b[0m\u001b[0;34m,\u001b[0m\u001b[0mIrho_\u001b[0m \u001b[0;34m,\u001b[0m \u001b[0mx0\u001b[0m\u001b[0;34m)\u001b[0m\u001b[0;34m\u001b[0m\u001b[0;34m\u001b[0m\u001b[0m\n",
      "\u001b[0;32m<ipython-input-143-ef8e5ef199bd>\u001b[0m in \u001b[0;36minert\u001b[0;34m(M, m, X)\u001b[0m\n\u001b[1;32m      5\u001b[0m     \u001b[0;32mfor\u001b[0m \u001b[0mi\u001b[0m \u001b[0;32min\u001b[0m \u001b[0mrange\u001b[0m\u001b[0;34m(\u001b[0m\u001b[0mlen\u001b[0m\u001b[0;34m(\u001b[0m\u001b[0mX\u001b[0m\u001b[0;34m)\u001b[0m\u001b[0;34m-\u001b[0m\u001b[0;36m1\u001b[0m\u001b[0;34m,\u001b[0m\u001b[0;34m-\u001b[0m\u001b[0;36m1\u001b[0m\u001b[0;34m,\u001b[0m\u001b[0;34m-\u001b[0m\u001b[0;36m1\u001b[0m\u001b[0;34m)\u001b[0m\u001b[0;34m:\u001b[0m\u001b[0;34m\u001b[0m\u001b[0;34m\u001b[0m\u001b[0m\n\u001b[1;32m      6\u001b[0m         \u001b[0msum_\u001b[0m\u001b[0;34m+=\u001b[0m\u001b[0mm\u001b[0m\u001b[0;34m\u001b[0m\u001b[0;34m\u001b[0m\u001b[0m\n\u001b[0;32m----> 7\u001b[0;31m         \u001b[0mans\u001b[0m\u001b[0;34m.\u001b[0m\u001b[0mappend\u001b[0m\u001b[0;34m(\u001b[0m\u001b[0msum_\u001b[0m\u001b[0;34m.\u001b[0m\u001b[0mcopy\u001b[0m\u001b[0;34m(\u001b[0m\u001b[0;34m)\u001b[0m\u001b[0;34m)\u001b[0m\u001b[0;34m\u001b[0m\u001b[0;34m\u001b[0m\u001b[0m\n\u001b[0m\u001b[1;32m      8\u001b[0m \u001b[0;34m\u001b[0m\u001b[0m\n\u001b[1;32m      9\u001b[0m     \u001b[0;32mreturn\u001b[0m \u001b[0mnp\u001b[0m\u001b[0;34m.\u001b[0m\u001b[0marray\u001b[0m\u001b[0;34m(\u001b[0m\u001b[0mans\u001b[0m\u001b[0;34m[\u001b[0m\u001b[0;34m:\u001b[0m\u001b[0;34m:\u001b[0m\u001b[0;34m-\u001b[0m\u001b[0;36m1\u001b[0m\u001b[0;34m]\u001b[0m\u001b[0;34m)\u001b[0m\u001b[0;34m\u001b[0m\u001b[0;34m\u001b[0m\u001b[0m\n",
      "\u001b[0;31mAttributeError\u001b[0m: 'float' object has no attribute 'copy'"
     ]
    }
   ],
   "source": [
    "M_t=inert(vessel_mass*9.81,mp*9.81, x0)\n",
    "Irho=inert(V_rho,Irho_ , x0)"
   ]
  },
  {
   "cell_type": "code",
   "execution_count": 139,
   "metadata": {},
   "outputs": [
    {
     "data": {
      "text/plain": [
       "array([[[6.0752012e+10, 0.0000000e+00, 0.0000000e+00],\n",
       "        [0.0000000e+00, 6.0752012e+10, 0.0000000e+00],\n",
       "        [0.0000000e+00, 0.0000000e+00, 6.0752037e+10]],\n",
       "\n",
       "       [[6.0752012e+10, 0.0000000e+00, 0.0000000e+00],\n",
       "        [0.0000000e+00, 6.0752012e+10, 0.0000000e+00],\n",
       "        [0.0000000e+00, 0.0000000e+00, 6.0752037e+10]],\n",
       "\n",
       "       [[6.0752012e+10, 0.0000000e+00, 0.0000000e+00],\n",
       "        [0.0000000e+00, 6.0752012e+10, 0.0000000e+00],\n",
       "        [0.0000000e+00, 0.0000000e+00, 6.0752037e+10]],\n",
       "\n",
       "       [[6.0752012e+10, 0.0000000e+00, 0.0000000e+00],\n",
       "        [0.0000000e+00, 6.0752012e+10, 0.0000000e+00],\n",
       "        [0.0000000e+00, 0.0000000e+00, 6.0752037e+10]],\n",
       "\n",
       "       [[6.0752012e+10, 0.0000000e+00, 0.0000000e+00],\n",
       "        [0.0000000e+00, 6.0752012e+10, 0.0000000e+00],\n",
       "        [0.0000000e+00, 0.0000000e+00, 6.0752037e+10]],\n",
       "\n",
       "       [[6.0752012e+10, 0.0000000e+00, 0.0000000e+00],\n",
       "        [0.0000000e+00, 6.0752012e+10, 0.0000000e+00],\n",
       "        [0.0000000e+00, 0.0000000e+00, 6.0752037e+10]],\n",
       "\n",
       "       [[6.0752012e+10, 0.0000000e+00, 0.0000000e+00],\n",
       "        [0.0000000e+00, 6.0752012e+10, 0.0000000e+00],\n",
       "        [0.0000000e+00, 0.0000000e+00, 6.0752037e+10]],\n",
       "\n",
       "       [[6.0752012e+10, 0.0000000e+00, 0.0000000e+00],\n",
       "        [0.0000000e+00, 6.0752012e+10, 0.0000000e+00],\n",
       "        [0.0000000e+00, 0.0000000e+00, 6.0752037e+10]],\n",
       "\n",
       "       [[6.0752012e+10, 0.0000000e+00, 0.0000000e+00],\n",
       "        [0.0000000e+00, 6.0752012e+10, 0.0000000e+00],\n",
       "        [0.0000000e+00, 0.0000000e+00, 6.0752037e+10]],\n",
       "\n",
       "       [[6.0752012e+10, 0.0000000e+00, 0.0000000e+00],\n",
       "        [0.0000000e+00, 6.0752012e+10, 0.0000000e+00],\n",
       "        [0.0000000e+00, 0.0000000e+00, 6.0752037e+10]],\n",
       "\n",
       "       [[6.0752012e+10, 0.0000000e+00, 0.0000000e+00],\n",
       "        [0.0000000e+00, 6.0752012e+10, 0.0000000e+00],\n",
       "        [0.0000000e+00, 0.0000000e+00, 6.0752037e+10]],\n",
       "\n",
       "       [[6.0752012e+10, 0.0000000e+00, 0.0000000e+00],\n",
       "        [0.0000000e+00, 6.0752012e+10, 0.0000000e+00],\n",
       "        [0.0000000e+00, 0.0000000e+00, 6.0752037e+10]],\n",
       "\n",
       "       [[6.0752012e+10, 0.0000000e+00, 0.0000000e+00],\n",
       "        [0.0000000e+00, 6.0752012e+10, 0.0000000e+00],\n",
       "        [0.0000000e+00, 0.0000000e+00, 6.0752037e+10]],\n",
       "\n",
       "       [[6.0752012e+10, 0.0000000e+00, 0.0000000e+00],\n",
       "        [0.0000000e+00, 6.0752012e+10, 0.0000000e+00],\n",
       "        [0.0000000e+00, 0.0000000e+00, 6.0752037e+10]],\n",
       "\n",
       "       [[6.0752012e+10, 0.0000000e+00, 0.0000000e+00],\n",
       "        [0.0000000e+00, 6.0752012e+10, 0.0000000e+00],\n",
       "        [0.0000000e+00, 0.0000000e+00, 6.0752037e+10]],\n",
       "\n",
       "       [[6.0752012e+10, 0.0000000e+00, 0.0000000e+00],\n",
       "        [0.0000000e+00, 6.0752012e+10, 0.0000000e+00],\n",
       "        [0.0000000e+00, 0.0000000e+00, 6.0752037e+10]],\n",
       "\n",
       "       [[6.0752012e+10, 0.0000000e+00, 0.0000000e+00],\n",
       "        [0.0000000e+00, 6.0752012e+10, 0.0000000e+00],\n",
       "        [0.0000000e+00, 0.0000000e+00, 6.0752037e+10]],\n",
       "\n",
       "       [[6.0752012e+10, 0.0000000e+00, 0.0000000e+00],\n",
       "        [0.0000000e+00, 6.0752012e+10, 0.0000000e+00],\n",
       "        [0.0000000e+00, 0.0000000e+00, 6.0752037e+10]],\n",
       "\n",
       "       [[6.0752012e+10, 0.0000000e+00, 0.0000000e+00],\n",
       "        [0.0000000e+00, 6.0752012e+10, 0.0000000e+00],\n",
       "        [0.0000000e+00, 0.0000000e+00, 6.0752037e+10]],\n",
       "\n",
       "       [[6.0752012e+10, 0.0000000e+00, 0.0000000e+00],\n",
       "        [0.0000000e+00, 6.0752012e+10, 0.0000000e+00],\n",
       "        [0.0000000e+00, 0.0000000e+00, 6.0752037e+10]],\n",
       "\n",
       "       [[6.0752012e+10, 0.0000000e+00, 0.0000000e+00],\n",
       "        [0.0000000e+00, 6.0752012e+10, 0.0000000e+00],\n",
       "        [0.0000000e+00, 0.0000000e+00, 6.0752037e+10]],\n",
       "\n",
       "       [[6.0752012e+10, 0.0000000e+00, 0.0000000e+00],\n",
       "        [0.0000000e+00, 6.0752012e+10, 0.0000000e+00],\n",
       "        [0.0000000e+00, 0.0000000e+00, 6.0752037e+10]],\n",
       "\n",
       "       [[6.0752012e+10, 0.0000000e+00, 0.0000000e+00],\n",
       "        [0.0000000e+00, 6.0752012e+10, 0.0000000e+00],\n",
       "        [0.0000000e+00, 0.0000000e+00, 6.0752037e+10]],\n",
       "\n",
       "       [[6.0752012e+10, 0.0000000e+00, 0.0000000e+00],\n",
       "        [0.0000000e+00, 6.0752012e+10, 0.0000000e+00],\n",
       "        [0.0000000e+00, 0.0000000e+00, 6.0752037e+10]],\n",
       "\n",
       "       [[6.0752012e+10, 0.0000000e+00, 0.0000000e+00],\n",
       "        [0.0000000e+00, 6.0752012e+10, 0.0000000e+00],\n",
       "        [0.0000000e+00, 0.0000000e+00, 6.0752037e+10]],\n",
       "\n",
       "       [[6.0752012e+10, 0.0000000e+00, 0.0000000e+00],\n",
       "        [0.0000000e+00, 6.0752012e+10, 0.0000000e+00],\n",
       "        [0.0000000e+00, 0.0000000e+00, 6.0752037e+10]],\n",
       "\n",
       "       [[6.0752012e+10, 0.0000000e+00, 0.0000000e+00],\n",
       "        [0.0000000e+00, 6.0752012e+10, 0.0000000e+00],\n",
       "        [0.0000000e+00, 0.0000000e+00, 6.0752037e+10]],\n",
       "\n",
       "       [[6.0752012e+10, 0.0000000e+00, 0.0000000e+00],\n",
       "        [0.0000000e+00, 6.0752012e+10, 0.0000000e+00],\n",
       "        [0.0000000e+00, 0.0000000e+00, 6.0752037e+10]],\n",
       "\n",
       "       [[6.0752012e+10, 0.0000000e+00, 0.0000000e+00],\n",
       "        [0.0000000e+00, 6.0752012e+10, 0.0000000e+00],\n",
       "        [0.0000000e+00, 0.0000000e+00, 6.0752037e+10]],\n",
       "\n",
       "       [[6.0752012e+10, 0.0000000e+00, 0.0000000e+00],\n",
       "        [0.0000000e+00, 6.0752012e+10, 0.0000000e+00],\n",
       "        [0.0000000e+00, 0.0000000e+00, 6.0752037e+10]],\n",
       "\n",
       "       [[6.0752012e+10, 0.0000000e+00, 0.0000000e+00],\n",
       "        [0.0000000e+00, 6.0752012e+10, 0.0000000e+00],\n",
       "        [0.0000000e+00, 0.0000000e+00, 6.0752037e+10]],\n",
       "\n",
       "       [[6.0752012e+10, 0.0000000e+00, 0.0000000e+00],\n",
       "        [0.0000000e+00, 6.0752012e+10, 0.0000000e+00],\n",
       "        [0.0000000e+00, 0.0000000e+00, 6.0752037e+10]],\n",
       "\n",
       "       [[6.0752012e+10, 0.0000000e+00, 0.0000000e+00],\n",
       "        [0.0000000e+00, 6.0752012e+10, 0.0000000e+00],\n",
       "        [0.0000000e+00, 0.0000000e+00, 6.0752037e+10]],\n",
       "\n",
       "       [[6.0752012e+10, 0.0000000e+00, 0.0000000e+00],\n",
       "        [0.0000000e+00, 6.0752012e+10, 0.0000000e+00],\n",
       "        [0.0000000e+00, 0.0000000e+00, 6.0752037e+10]],\n",
       "\n",
       "       [[6.0752012e+10, 0.0000000e+00, 0.0000000e+00],\n",
       "        [0.0000000e+00, 6.0752012e+10, 0.0000000e+00],\n",
       "        [0.0000000e+00, 0.0000000e+00, 6.0752037e+10]],\n",
       "\n",
       "       [[6.0752012e+10, 0.0000000e+00, 0.0000000e+00],\n",
       "        [0.0000000e+00, 6.0752012e+10, 0.0000000e+00],\n",
       "        [0.0000000e+00, 0.0000000e+00, 6.0752037e+10]],\n",
       "\n",
       "       [[6.0752012e+10, 0.0000000e+00, 0.0000000e+00],\n",
       "        [0.0000000e+00, 6.0752012e+10, 0.0000000e+00],\n",
       "        [0.0000000e+00, 0.0000000e+00, 6.0752037e+10]],\n",
       "\n",
       "       [[6.0752012e+10, 0.0000000e+00, 0.0000000e+00],\n",
       "        [0.0000000e+00, 6.0752012e+10, 0.0000000e+00],\n",
       "        [0.0000000e+00, 0.0000000e+00, 6.0752037e+10]],\n",
       "\n",
       "       [[6.0752012e+10, 0.0000000e+00, 0.0000000e+00],\n",
       "        [0.0000000e+00, 6.0752012e+10, 0.0000000e+00],\n",
       "        [0.0000000e+00, 0.0000000e+00, 6.0752037e+10]],\n",
       "\n",
       "       [[6.0752012e+10, 0.0000000e+00, 0.0000000e+00],\n",
       "        [0.0000000e+00, 6.0752012e+10, 0.0000000e+00],\n",
       "        [0.0000000e+00, 0.0000000e+00, 6.0752037e+10]],\n",
       "\n",
       "       [[6.0752012e+10, 0.0000000e+00, 0.0000000e+00],\n",
       "        [0.0000000e+00, 6.0752012e+10, 0.0000000e+00],\n",
       "        [0.0000000e+00, 0.0000000e+00, 6.0752037e+10]],\n",
       "\n",
       "       [[6.0752012e+10, 0.0000000e+00, 0.0000000e+00],\n",
       "        [0.0000000e+00, 6.0752012e+10, 0.0000000e+00],\n",
       "        [0.0000000e+00, 0.0000000e+00, 6.0752037e+10]],\n",
       "\n",
       "       [[6.0752012e+10, 0.0000000e+00, 0.0000000e+00],\n",
       "        [0.0000000e+00, 6.0752012e+10, 0.0000000e+00],\n",
       "        [0.0000000e+00, 0.0000000e+00, 6.0752037e+10]],\n",
       "\n",
       "       [[6.0752012e+10, 0.0000000e+00, 0.0000000e+00],\n",
       "        [0.0000000e+00, 6.0752012e+10, 0.0000000e+00],\n",
       "        [0.0000000e+00, 0.0000000e+00, 6.0752037e+10]],\n",
       "\n",
       "       [[6.0752012e+10, 0.0000000e+00, 0.0000000e+00],\n",
       "        [0.0000000e+00, 6.0752012e+10, 0.0000000e+00],\n",
       "        [0.0000000e+00, 0.0000000e+00, 6.0752037e+10]],\n",
       "\n",
       "       [[6.0752012e+10, 0.0000000e+00, 0.0000000e+00],\n",
       "        [0.0000000e+00, 6.0752012e+10, 0.0000000e+00],\n",
       "        [0.0000000e+00, 0.0000000e+00, 6.0752037e+10]],\n",
       "\n",
       "       [[6.0752012e+10, 0.0000000e+00, 0.0000000e+00],\n",
       "        [0.0000000e+00, 6.0752012e+10, 0.0000000e+00],\n",
       "        [0.0000000e+00, 0.0000000e+00, 6.0752037e+10]],\n",
       "\n",
       "       [[6.0752012e+10, 0.0000000e+00, 0.0000000e+00],\n",
       "        [0.0000000e+00, 6.0752012e+10, 0.0000000e+00],\n",
       "        [0.0000000e+00, 0.0000000e+00, 6.0752037e+10]],\n",
       "\n",
       "       [[6.0752012e+10, 0.0000000e+00, 0.0000000e+00],\n",
       "        [0.0000000e+00, 6.0752012e+10, 0.0000000e+00],\n",
       "        [0.0000000e+00, 0.0000000e+00, 6.0752037e+10]],\n",
       "\n",
       "       [[6.0752012e+10, 0.0000000e+00, 0.0000000e+00],\n",
       "        [0.0000000e+00, 6.0752012e+10, 0.0000000e+00],\n",
       "        [0.0000000e+00, 0.0000000e+00, 6.0752037e+10]]])"
      ]
     },
     "execution_count": 139,
     "metadata": {},
     "output_type": "execute_result"
    }
   ],
   "source": [
    "Irho"
   ]
  },
  {
   "cell_type": "code",
   "execution_count": 137,
   "metadata": {},
   "outputs": [
    {
     "data": {
      "text/plain": [
       "array([[1., 1., 1.],\n",
       "       [1., 1., 1.],\n",
       "       [1., 1., 1.],\n",
       "       [1., 1., 1.],\n",
       "       [1., 1., 1.],\n",
       "       [1., 1., 1.],\n",
       "       [1., 1., 1.],\n",
       "       [1., 1., 1.],\n",
       "       [1., 1., 1.],\n",
       "       [1., 1., 1.],\n",
       "       [1., 1., 1.],\n",
       "       [1., 1., 1.],\n",
       "       [1., 1., 1.],\n",
       "       [1., 1., 1.],\n",
       "       [1., 1., 1.],\n",
       "       [1., 1., 1.],\n",
       "       [1., 1., 1.],\n",
       "       [1., 1., 1.],\n",
       "       [1., 1., 1.],\n",
       "       [1., 1., 1.],\n",
       "       [1., 1., 1.],\n",
       "       [1., 1., 1.],\n",
       "       [1., 1., 1.],\n",
       "       [1., 1., 1.],\n",
       "       [1., 1., 1.],\n",
       "       [1., 1., 1.],\n",
       "       [1., 1., 1.],\n",
       "       [1., 1., 1.],\n",
       "       [1., 1., 1.],\n",
       "       [1., 1., 1.],\n",
       "       [1., 1., 1.],\n",
       "       [1., 1., 1.],\n",
       "       [1., 1., 1.],\n",
       "       [1., 1., 1.],\n",
       "       [1., 1., 1.],\n",
       "       [1., 1., 1.],\n",
       "       [1., 1., 1.],\n",
       "       [1., 1., 1.],\n",
       "       [1., 1., 1.],\n",
       "       [1., 1., 1.],\n",
       "       [1., 1., 1.],\n",
       "       [1., 1., 1.],\n",
       "       [1., 1., 1.],\n",
       "       [1., 1., 1.],\n",
       "       [1., 1., 1.],\n",
       "       [1., 1., 1.],\n",
       "       [1., 1., 1.],\n",
       "       [1., 1., 1.],\n",
       "       [1., 1., 1.],\n",
       "       [1., 1., 1.]])"
      ]
     },
     "execution_count": 137,
     "metadata": {},
     "output_type": "execute_result"
    }
   ],
   "source": [
    "Joma_I(Irho)"
   ]
  },
  {
   "cell_type": "code",
   "execution_count": null,
   "metadata": {},
   "outputs": [],
   "source": [
    "def Joma_M(I):\n",
    "    ans=[]\n",
    "    for i in range(len(I)):\n",
    "        ans.append(I[-1]/I[i])\n",
    "    return np.array(ans)"
   ]
  },
  {
   "cell_type": "code",
   "execution_count": null,
   "metadata": {},
   "outputs": [],
   "source": [
    "Joma_M(inert(vessel_mass*9.81,mp*9.81, x0))"
   ]
  },
  {
   "cell_type": "code",
   "execution_count": null,
   "metadata": {},
   "outputs": [],
   "source": [
    "# def mass(M, m, X,Y,Z):\n",
    "  \n",
    "#     M1=Jv(X,Y,Z,len(X))**2*M\n",
    "# #     print(M1.shape)\n",
    "# #     print((Jv(X,Y,Z,len(X))**2).shape)\n",
    "#     M2=Jv(X,Y,Z,len(X))**2*m\n",
    "    \n",
    "#     return np.sum(M1+M2,axis=1)"
   ]
  },
  {
   "cell_type": "code",
   "execution_count": null,
   "metadata": {},
   "outputs": [],
   "source": [
    "inert(vessel_mass*9.81,mp*9.81, x0).shape"
   ]
  },
  {
   "cell_type": "code",
   "execution_count": null,
   "metadata": {},
   "outputs": [],
   "source": [
    "init=1\n",
    "for j in range(1,12):\n",
    "    if j==1:  \n",
    "        q0[(j-1)*node_N:j*node_N]=x0\n",
    "    elif j==5:    \n",
    "        q0[(j-1)*node_N:j*node_N]=z0\n",
    "    elif j==7:    \n",
    "        q0[(j-1)*node_N:j*node_N]=np.array([-0.00010522890316932987*(i+1)/node_N*init for i in range(node_N)])\n",
    "#         q0[(j-1)*node_N]=0\n",
    "    elif j==9:    \n",
    "        q0[(j-1)*node_N:j*node_N]=np.array([6.952842745988619e-09*(i+1)/node_N*init for i in range(node_N)])\n",
    "#         q0[(j-1)*node_N]=0\n",
    "    elif j==11:   \n",
    "        q0[(j-1)*node_N:j*node_N]=np.array([0.00010649100253301569*(i+1)/node_N*init for i in range(node_N)])\n",
    "#        q0[(j-1)*node_N]=0 \n",
    "# q0[7*node_N-1]= -0.00010522890316932987 # here\n",
    "# q0[9*node_N-1]= 6.952842745988619e-09\n",
    "# q0[11*node_N-1]=0.00010649100253301569 # here"
   ]
  },
  {
   "cell_type": "code",
   "execution_count": null,
   "metadata": {},
   "outputs": [],
   "source": []
  },
  {
   "cell_type": "code",
   "execution_count": null,
   "metadata": {},
   "outputs": [],
   "source": [
    "Irho[-1]-Irho[-2]"
   ]
  },
  {
   "cell_type": "code",
   "execution_count": null,
   "metadata": {},
   "outputs": [],
   "source": [
    "def static_func(Q): # here\n",
    "    t=0\n",
    " \n",
    "    x,y,z=Q[0:node_N],Q[2*node_N:3*node_N],Q[4*node_N:5*node_N]\n",
    "    dx,dy,dz=Q[1*node_N:2*node_N],Q[3*node_N:4*node_N],Q[5*node_N:6*node_N]\n",
    "    φ,θ,ψ=Q[6*node_N:7*node_N],Q[8*node_N:9*node_N],Q[10*node_N:11*node_N]\n",
    "    Ret = Re_t(φ,θ,ψ)\n",
    "\n",
    "    \n",
    "    dφ,dθ,dψ=Q[7*node_N:8*node_N],Q[9*node_N:10*node_N],Q[11*node_N:12*node_N]\n",
    "    \n",
    "    η=[x[-1],y[-1],z[-1],φ[-1],θ[-1],ψ[-1]]\n",
    "    \n",
    "    tau_force=np.array([-Fx_0,0,0,0,0,0])\n",
    "#     Z0=-np.dot(Re_b(Ret),tau_force[:3])\n",
    "    \n",
    "    Z0= - np.einsum('ijk,i->ij', Re_b(Ret), np.dot(Joma(Jv(x,y,z,len(z))), tau_force[:3].reshape(3,1)).squeeze())\n",
    "    Z1 = d_s(ne, x, y, z, Ret,  ωe(φ,θ,ψ,None,None,None)).T\n",
    "#     test=np.einsum('ijk,ik->ij',Π(φ,θ,ψ).astype(np.float32),np.array([dφ,dθ,dψ]).astype(np.float32).T)\n",
    "\n",
    "#     Z1 = d_s(ne, x, y, z, Ret, test).T\n",
    "    DT_0=np.zeros((3,3))\n",
    "    Z2=ne_(dx,dy,dz,DT_0,Ret).T\n",
    "    \n",
    "    \n",
    "    Z =  Z1 + Z2 + Z0\n",
    "    \n",
    "    \n",
    "#     print(M_t)\n",
    "    \n",
    "############################################################ \n",
    "#     print(Re_b(Ret).shape,M_t.shape)\n",
    "#     ddx,ddy, ddz = np.linalg.solve(np.einsum('ijk,ik->ij',Re_b(Ret),M_t),Z).T\n",
    "    ddx,ddy, ddz = np.linalg.solve(np.einsum('i,ijk->ijk',M_t,Re_b(Ret)),Z).T\n",
    "    ddx,ddy, ddz = np.einsum('ijk,ik->ij',Ret, np.stack([ddx, ddy,ddz], axis=0).T).T\n",
    "\n",
    "############################################################ \n",
    "\n",
    "#     sum_0123=0\n",
    "#     lll=[]\n",
    "#     for i in range(1,len(z0)):\n",
    "#         sum_0123=math.sqrt((x[i]-x[i-1])**2+(y[i]-y[i-1])**2+(z[i]-z[i-1])**2)\n",
    "#         lll.append(sum_0123)\n",
    "        \n",
    "#     cum_d_inv=[0]\n",
    "#     sum_=0\n",
    "#     for i in range(len(lll)-1,-1,-1):\n",
    "#         sum_+=lll[i]\n",
    "#         cum_d_inv.append(sum_)\n",
    "#     cum_d_inv=cum_d_inv[::-1] \n",
    "     \n",
    "    \n",
    "#     Irho=inert(mn, vessel_inertia, Irho_, cum_d_inv, Ws)\n",
    "    \n",
    "    \n",
    "    \n",
    "    C0=-np.einsum('ijk,i->ij', np.einsum('ijk,ikr->ijr',np.linalg.inv(Π(φ,θ,ψ).astype(np.float32)),\n",
    "                        Re_b(Ret)), np.dot(Joma(Jv(x,y,z,len(z))),tau_force[:3].reshape(3,1)).squeeze()) \n",
    "    \n",
    "    C3=d_me(φ,θ,ψ,Ret,  ωe(φ,θ,ψ,None,None,None))\n",
    "  \n",
    "    B_ =C3\n",
    "    B=(B_ + C0.squeeze())\n",
    "\n",
    "    A2 = Irho_e(Ret,Irho).astype(np.float32)\n",
    "    A3=Π(φ,θ,ψ).astype(np.float32)\n",
    "    A=np.einsum('ijk,ikr->ijr',A2,A3)\n",
    "\n",
    "\n",
    "#############################################\n",
    "#     ddφ,ddθ,ddψ = np.linalg.solve(A,B).T\n",
    "    ans_φ=[]\n",
    "    ans_θ=[]\n",
    "    ans_ψ=[]\n",
    "    for i in range(len(A)):\n",
    "        a,b,c=np.linalg.lstsq(A[i],B[i], rcond=None)[0]\n",
    "        ans_φ.append(a)\n",
    "        ans_θ.append(b)\n",
    "        ans_ψ.append(c)\n",
    "    \n",
    "    ddφ,ddθ,ddψ=np.array(ans_φ),np.array(ans_θ),np.array(ans_ψ)\n",
    "#############################################\n",
    "\n",
    "    ans=np.concatenate([dx, ddx, dy, ddy, dz, ddz, dφ, ddφ, dθ, ddθ, dψ, ddψ], axis=0)\n",
    "  \n",
    " \n",
    "    return ans  "
   ]
  },
  {
   "cell_type": "code",
   "execution_count": null,
   "metadata": {},
   "outputs": [],
   "source": [
    "q0"
   ]
  },
  {
   "cell_type": "code",
   "execution_count": null,
   "metadata": {},
   "outputs": [],
   "source": [
    "root = fsolve(static_func, q0)"
   ]
  },
  {
   "cell_type": "code",
   "execution_count": null,
   "metadata": {},
   "outputs": [],
   "source": []
  },
  {
   "cell_type": "code",
   "execution_count": null,
   "metadata": {},
   "outputs": [],
   "source": [
    "root"
   ]
  },
  {
   "cell_type": "code",
   "execution_count": null,
   "metadata": {},
   "outputs": [],
   "source": [
    "x0_,z0_=root[:node_N],root[4*node_N:5*node_N]"
   ]
  },
  {
   "cell_type": "code",
   "execution_count": null,
   "metadata": {},
   "outputs": [],
   "source": [
    "q0=root"
   ]
  },
  {
   "cell_type": "code",
   "execution_count": null,
   "metadata": {},
   "outputs": [],
   "source": [
    "q0"
   ]
  },
  {
   "cell_type": "code",
   "execution_count": null,
   "metadata": {},
   "outputs": [],
   "source": [
    "# x0_"
   ]
  },
  {
   "cell_type": "code",
   "execution_count": null,
   "metadata": {},
   "outputs": [],
   "source": [
    "# z0"
   ]
  },
  {
   "cell_type": "code",
   "execution_count": null,
   "metadata": {},
   "outputs": [],
   "source": [
    "# z0_"
   ]
  },
  {
   "cell_type": "code",
   "execution_count": null,
   "metadata": {},
   "outputs": [],
   "source": [
    "plt.plot(x0_, z0_)\n",
    "plt.show()"
   ]
  },
  {
   "cell_type": "code",
   "execution_count": null,
   "metadata": {},
   "outputs": [],
   "source": []
  },
  {
   "cell_type": "code",
   "execution_count": null,
   "metadata": {},
   "outputs": [],
   "source": [
    "# init=1\n",
    "# for j in range(1,12):\n",
    "#     if j==1:  \n",
    "#         q0[(j-1)*node_N:j*node_N]=x0_\n",
    "#     elif j==5:    \n",
    "#         q0[(j-1)*node_N:j*node_N]=z0_\n",
    "#     elif j==9:    \n",
    "#         q0[(j-1)*node_N:j*node_N]=init*rng.standard_normal(node_N)\n",
    "#         q0[(j-1)*node_N]=0\n",
    "#     elif j==11:   \n",
    "#         q0[(j-1)*node_N:j*node_N]=init*rng.standard_normal(node_N)\n",
    "# #         q0[(j-1)*node_N]=0\n",
    "#     elif j==7:    \n",
    "#         q0[(j-1)*node_N:j*node_N]=np.array([-0.00010522890316932987*(i+1)/node_N*init for i in range(node_N)])\n",
    "# #         q0[(j-1)*node_N]=0\n",
    "#     elif j==9:    \n",
    "#         q0[(j-1)*node_N:j*node_N]=np.array([6.952842745988619e-09*(i+1)/node_N*init for i in range(node_N)])\n",
    "# #         q0[(j-1)*node_N]=0\n",
    "#     elif j==11:   \n",
    "#         q0[(j-1)*node_N:j*node_N]=np.array([0.00010649100253301569*(i+1)/node_N*init for i in range(node_N)])\n",
    "#         q0[(j-1)*node_N]=0 \n",
    "# # q0[9*node_N-1]=0.13  # here\n",
    "# q0[7*node_N-1]= -0.00010522890316932987 # here\n",
    "# q0[9*node_N-1]= 6.952842745988619e-09\n",
    "# q0[11*node_N-1]=0.00010649100253301569  # here"
   ]
  },
  {
   "cell_type": "markdown",
   "metadata": {},
   "source": [
    "### Vessle Simulation"
   ]
  },
  {
   "cell_type": "code",
   "execution_count": null,
   "metadata": {},
   "outputs": [],
   "source": [
    "sampleTime = 0.01              # sample time [seconds]\n",
    "N = 5000                      # number of samples"
   ]
  },
  {
   "cell_type": "code",
   "execution_count": null,
   "metadata": {},
   "outputs": [],
   "source": [
    "vehicle=semisub('DPcontrol',0,5,40.0,0,0) "
   ]
  },
  {
   "cell_type": "code",
   "execution_count": null,
   "metadata": {},
   "outputs": [],
   "source": [
    "[simTime, simData] = simulate(N, sampleTime, vehicle)"
   ]
  },
  {
   "cell_type": "code",
   "execution_count": null,
   "metadata": {},
   "outputs": [],
   "source": [
    "ans_t=[]\n",
    "sum_=0\n",
    "for i in range(simData.shape[0]):\n",
    "    ans_t.append(sum_)\n",
    "    sum_+=sampleTime"
   ]
  },
  {
   "cell_type": "code",
   "execution_count": null,
   "metadata": {},
   "outputs": [],
   "source": [
    "plotVehicleStates(simTime, simData, 1)                    \n",
    "plotControls(simTime, simData, vehicle, 2)"
   ]
  },
  {
   "cell_type": "code",
   "execution_count": null,
   "metadata": {},
   "outputs": [],
   "source": [
    "numDataPoints = 5                 # number of 3D data points\n",
    "FPS = 10                            # frames per second (animated GIF)\n",
    "filename = '3D_animation.gif'       # data file for animated GIF\n",
    "browser = 'safari'       "
   ]
  },
  {
   "cell_type": "code",
   "execution_count": null,
   "metadata": {},
   "outputs": [],
   "source": [
    "plotVehicleStates(simTime, simData, 3)"
   ]
  },
  {
   "cell_type": "code",
   "execution_count": null,
   "metadata": {},
   "outputs": [],
   "source": [
    "plot3D(simData, numDataPoints, FPS, filename, 3)  "
   ]
  },
  {
   "cell_type": "code",
   "execution_count": null,
   "metadata": {},
   "outputs": [],
   "source": [
    "def myDPcontrol(self, eta, nu, sampleTime):\n",
    "        \"\"\"\n",
    "        u = DPcontrol(eta,nu,sampleTime) is a nonlinear PID controller\n",
    "        for DP based on pole placement:\n",
    "\n",
    "        tau = -R' Kp (eta-r) - R' Kd R nu - R' Ki int(eta-r)\n",
    "        u = B_pseudoinverse * tau\n",
    "        \"\"\"\n",
    "        # 3-DOF state vectors\n",
    "        eta3 = np.array([eta[0], eta[1], eta[5]])\n",
    "        nu3 = np.array([nu[0], nu[1], nu[5]])\n",
    "\n",
    "        # 3-DOF diagonal model matrices\n",
    "        M3 = np.diag([self.M[0][0], self.M[1][1], self.M[5][5]])\n",
    "        D3 = np.diag([self.D[0][0], self.D[1][1], self.D[5][5]])\n",
    "\n",
    "        [tau3, self.e_int, self.x_d, self.y_d, self.psi_d] = DPpolePlacement(\n",
    "            self.e_int,\n",
    "            M3,\n",
    "            D3,\n",
    "            eta3,\n",
    "            nu3,\n",
    "            self.x_d,\n",
    "            self.y_d,\n",
    "            self.psi_d,\n",
    "            self.wn,\n",
    "            self.zeta,\n",
    "            self.ref,\n",
    "            sampleTime,\n",
    "        )\n",
    "        \n",
    "        tau=list(tau3)+[tau3[2]*ly - tau3[1]*lz,\n",
    "                  tau3[0]*lz - tau3[2]*lx,\n",
    "                  tau3[1]*lx - tau3[0]*ly]\n",
    "\n",
    "#         u_alloc = self.controlAllocation(tau3)\n",
    "        return tau"
   ]
  },
  {
   "cell_type": "code",
   "execution_count": null,
   "metadata": {},
   "outputs": [],
   "source": [
    "def find_nearest(array, value):\n",
    "    array = np.asarray(array)\n",
    "    idx = (np.abs(array - value)).argmin()\n",
    "    return idx"
   ]
  },
  {
   "cell_type": "code",
   "execution_count": null,
   "metadata": {},
   "outputs": [],
   "source": [
    "# Ws[0]*Ret[2]"
   ]
  },
  {
   "cell_type": "code",
   "execution_count": null,
   "metadata": {},
   "outputs": [],
   "source": [
    "# np.einsum('i,ijk->ijk',[Ws[i] for i in range(node_N)],Ret)"
   ]
  },
  {
   "cell_type": "code",
   "execution_count": null,
   "metadata": {},
   "outputs": [],
   "source": [
    "idx=1/0.01"
   ]
  },
  {
   "cell_type": "code",
   "execution_count": null,
   "metadata": {},
   "outputs": [],
   "source": [
    "idx"
   ]
  },
  {
   "cell_type": "code",
   "execution_count": null,
   "metadata": {},
   "outputs": [],
   "source": [
    "ssa(simData[:, 3][int(idx)])"
   ]
  },
  {
   "cell_type": "code",
   "execution_count": null,
   "metadata": {},
   "outputs": [],
   "source": [
    "ssa(simData[:, 4][int(idx)])"
   ]
  },
  {
   "cell_type": "code",
   "execution_count": null,
   "metadata": {},
   "outputs": [],
   "source": [
    "ssa(simData[:, 5][int(idx)])"
   ]
  },
  {
   "cell_type": "markdown",
   "metadata": {},
   "source": [
    "### Dynamics"
   ]
  },
  {
   "cell_type": "code",
   "execution_count": null,
   "metadata": {},
   "outputs": [],
   "source": [
    "def grayscott1d(t, Q): # here\n",
    "    print(t)\n",
    "      \n",
    "    x,y,z=Q[0:node_N],Q[2*node_N:3*node_N],Q[4*node_N:5*node_N]\n",
    "    \n",
    "    idx = find_nearest(np.array(ans_t),  t+1) \n",
    "\n",
    "    x_ve = simData[:, 0][idx]\n",
    "    y_ve = simData[:, 1][idx]\n",
    "#     x_ve = simData[:, 1][idx]\n",
    "#     y_ve = simData[:, 0][idx]\n",
    "    z_ve = simData[:, 2][idx]\n",
    "    phi_ve = ssa(simData[:, 3][idx])\n",
    "    theta_ve = ssa(simData[:, 4][idx])\n",
    "    psi_v = ssa(simData[:, 5][idx])\n",
    "    \n",
    "    \n",
    "    u_ve = simData[:, 6][idx]\n",
    "    v_ve = simData[:, 7][idx]\n",
    "#     u_ve = simData[:, 7][idx]\n",
    "#     v_ve = simData[:, 6][idx]\n",
    "    w_ve = simData[:, 8][idx]\n",
    "    p_ve = simData[:, 9][idx]\n",
    "    q_ve = simData[:, 10][idx]\n",
    "    r_ve = simData[:, 11][idx]\n",
    "    \n",
    "    \n",
    "    η=np.array([x_ve, y_ve, z_ve, phi_ve, theta_ve, psi_v])\n",
    "    \n",
    "    dη=np.array([u_ve, v_ve, w_ve, p_ve, q_ve, r_ve])\n",
    "    \n",
    "    \n",
    "#     n_ = vehicle.DPcontrol(η,dη,sampleTime) # /1e3\n",
    "    n_ = myDPcontrol(vehicle,η,dη,sampleTime)\n",
    "#     print(n_)\n",
    "    \n",
    "\n",
    "    dx,dy,dz=Q[1*node_N:2*node_N],Q[3*node_N:4*node_N],Q[5*node_N:6*node_N]\n",
    "    \n",
    "\n",
    "    φ,θ,ψ=Q[6*node_N:7*node_N],Q[8*node_N:9*node_N],Q[10*node_N:11*node_N]\n",
    "    \n",
    "    φ=ssa(φ)\n",
    "    θ=ssa(θ)\n",
    "    ψ=ssa(ψ)\n",
    "#     φ[-1],θ[-1],ψ[-1]=phi_ve, theta_ve,psi_v\n",
    "    Ret = Re_t(φ,θ,ψ)\n",
    "#     print(Ret)\n",
    "\n",
    "    dφ,dθ,dψ=Q[7*node_N:8*node_N],Q[9*node_N:10*node_N],Q[11*node_N:12*node_N]\n",
    "    \n",
    "#     force_schedule =1/(1+np.exp(-np.exp(t/10)+np.exp(2)))\n",
    "#     force_schedule = t/15 if t<15 else 1\n",
    "#     force_schedule = 1e-1000\n",
    "#     force_schedule=100\n",
    "    force_schedule=1\n",
    "#     force_schedule=1\n",
    "#     force_schedule=0\n",
    "#     print(type(n_))\n",
    "    tau_force = force_schedule*np.array(n_) # [N]\n",
    "#     print(tau_force)\n",
    "#     tau_force[0]=0\n",
    "#     tau_force[1]=0\n",
    "#     tau_force[2]=0\n",
    "#     tau_force[3]=0\n",
    "#     tau_force[4]=0\n",
    "#     tau_force[5]=0\n",
    "\n",
    "    sum_0123=0\n",
    "    lll=[]\n",
    "    for i in range(1,len(z0)):\n",
    "        sum_0123=math.sqrt((x[i]-x[i-1])**2+(y[i]-y[i-1])**2+(z[i]-z[i-1])**2)\n",
    "        lll.append(sum_0123)\n",
    "\n",
    "    \n",
    "    cum_d_inv=[0]\n",
    "    sum_=0\n",
    "    for i in range(len(lll)-1,-1,-1):\n",
    "        sum_+=lll[i]\n",
    "        cum_d_inv.append(sum_)\n",
    "    cum_d_inv=cum_d_inv[::-1]   \n",
    "\n",
    "#     print(np.dot(1/(Jv(x,y,z,len(z))+1e-3),tau_force[:3].reshape(3,1)).squeeze())\n",
    "#     print(tau_force[:3])\n",
    "#     Z0=-np.einsum('ijk,ik->ij', Re_b(Ret), np.einsum('i,k->ik',cum_d_inv[::-1],tau_force[:3])/max(cum_d_inv))\n",
    "    Z0= - np.einsum('ijk,i->ij', Re_b(Ret), np.dot(Joma(Jv(x,y,z,len(z))),tau_force[:3].reshape(3,1)).squeeze())\n",
    "\n",
    "#     Z0=-np.dot(Re_b(Ret),tau_force[:3])\n",
    "#     Z0=-tau_force[:3]\n",
    "#     print(Ret)\n",
    "#     print(Z0.shape)\n",
    "#     print(Z0)\n",
    "    Z1=d_s(ne, x, y, z, Ret,  ωe(φ,θ,ψ,None,None,None)).T\n",
    "#     Z1 =d_s(ne, x, y, z, Ret, phi(x,y,z,Ret,None)).T\n",
    "#     print(Z1)\n",
    "    Z2=ne_(dx,dy,dz,DT,Ret).T\n",
    "#     print(Z0)\n",
    "  \n",
    "    Z= (\n",
    "        Z1\n",
    "        + Z2 \n",
    "        +Z0\n",
    "       )\n",
    "#     Z[-1]+=tau_force[:3]\n",
    "\n",
    "############################################################    \n",
    "#     print(Ws)\n",
    "    RRRR=Re_b(Ret)\n",
    "#     print(Ret)\n",
    "    haka=1\n",
    "    \n",
    "    ddx,ddy, ddz = np.linalg.solve(np.einsum('i,ijk->ijk',M_t,Re_b(Ret)),Z).T\n",
    "#     ddx,ddy, ddz = np.einsum('ijk,ik->ij',Ret, np.stack([ddx, ddy,ddz], axis=0).T).T\n",
    "    \n",
    "    \n",
    "#     ddx,ddy, ddz = np.linalg.solve(np.einsum('i,ijk->ijk',\n",
    "# #                                              [Ws[i] for i in range(node_N)]\n",
    "# #                                              +[Ws[-1] + vessel_mass]\n",
    "#                                              haka*M_totl\n",
    "                                          \n",
    "#                                              ,RRRR),\n",
    "#                                    Z\n",
    "#                                   ).T \n",
    "# #     print(ddx)\n",
    "#     print(np.concatenate([ddx, ddy,ddz, dφ,], axis=0))\n",
    "#     ddx,ddy, ddz = Ret\n",
    "    ddx,ddy, ddz = np.einsum('ijk,ik->ij',Ret, np.stack([ddx, ddy,ddz], axis=0).T).T\n",
    "#     print(ddx)\n",
    "#     print()\n",
    "############################################################      \n",
    "\n",
    "\n",
    "#     print(cum_d_inv[0])\n",
    "#     Irho=inert(mn, vessel_inertia, Irho_, cum_d_inv, Ws)\n",
    "#     print(Irho[12])\n",
    "#     print()\n",
    " \n",
    "    \n",
    " \n",
    "\n",
    "    C1=np.einsum('ijk,ik->ij', Irho_e(Ret,Irho).astype(np.float32),\n",
    "                                                        np.einsum('ijk,ik->ij', Π(dφ,dθ,dψ).astype(np.float32), \n",
    "                                                                  np.array([dφ,dθ,dψ]).astype(np.float32).T))\n",
    "    \n",
    "    test=np.einsum('ijk,ik->ij',Π(φ,θ,ψ).astype(np.float32),np.array([dφ,dθ,dψ]).astype(np.float32).T)\n",
    "  \n",
    "    C2= np.cross(\n",
    "         test,\n",
    "                 np.einsum('ijk,ik->ij',Irho_e(Ret,Irho).astype(np.float32),\n",
    "                            test))\n",
    "\n",
    "\n",
    "    C3=d_me(φ,θ,ψ,Ret, ωe(φ,θ,ψ,None,None,None))\n",
    "#     print(C3)\n",
    "    \n",
    "    C4= np.cross(d_s(phi,x,y,z,Ret, ωe(φ,θ,ψ,None,None,None)).T, ne(x,y,z,Ret, ωe(φ,θ,ψ,None,None,None),None))\n",
    "#     C4= np.cross(d_s(phi,x,y,z,Ret, ωe(φ,θ,ψ,None,None,None)).T, \n",
    "#                  ne(x,y,z,Ret, ωe(φ,θ,ψ,None,None,None),None))\n",
    "#     print(C4)\n",
    "#     print(tau_force[:3])\n",
    "#     C4= np.cross(d_s(phi,x,y,z,Ret, test).T, ne(x,y,z,Ret, test))\n",
    "    \n",
    "    K1=test.T\n",
    "\n",
    "    C5= np.einsum('ijk,ik->ij',Ret, -np.dot(DR,K1).astype(np.float32).T)\n",
    "\n",
    "#     C0=-np.einsum('ijk,kp->ijp',np.einsum('ijk,ikr->ijr',np.linalg.inv(Π(φ,θ,ψ).astype(np.float32)),\n",
    "#                         Re_b(Ret)),tau_force[3:].reshape(3,1)) \n",
    "    C0=-np.einsum('ijk,i->ij', np.einsum('ijk,ikr->ijr',np.linalg.inv(Π(φ,θ,ψ).astype(np.float32)),\n",
    "                        Re_b(Ret)), np.dot(Joma(Jv(x,y,z,len(z))),tau_force[:3].reshape(3,1)).squeeze())\n",
    "    B_ =(\n",
    "        -C1\n",
    "        -C2\n",
    "        +C3\n",
    "        +C4\n",
    "        +C5\n",
    "    )\n",
    "    B= B_ +C0.squeeze()\n",
    "#     print(C0,C1,C2,C3,C4)\n",
    "\n",
    "\n",
    "\n",
    "#     print(B)   \n",
    "    \n",
    "#     print(Irho_e(Ret,Irho))\n",
    "#     A2 = Irho_e(Ret,Irho).astype(np.float32)\n",
    "#     A3=Π(φ,θ,ψ).astype(np.float32)\n",
    "\n",
    "#     A=np.einsum('ijk,ikr->ijr',A2,A3)\n",
    "    A2 = Irho_e(Ret,Irho).astype(np.float32)\n",
    "    A3=Π(φ,θ,ψ).astype(np.float32)\n",
    "    A=np.einsum('ijk,ikr->ijr',A2,A3)\n",
    "\n",
    "#     hack=1e18\n",
    "    hack=1\n",
    "############################################\n",
    "    ddφ,ddθ,ddψ = np.linalg.solve(hack*A,B).T\n",
    "#############################################\n",
    "#     print(B[49])\n",
    "#     print()\n",
    "\n",
    "#     ddx[0],ddy[0],ddz[0],ddφ[0],ddθ[0],ddψ[0]=0,0,0,0,0,0\n",
    "    A1111=np.concatenate([dx, ddx, dy, ddy, dz, ddz, dφ, ddφ, dθ, ddθ, dψ, ddψ], axis=0)\n",
    "#     print(A1111[-1])\n",
    "    return A1111"
   ]
  },
  {
   "cell_type": "code",
   "execution_count": null,
   "metadata": {},
   "outputs": [],
   "source": [
    "# import scipy"
   ]
  },
  {
   "cell_type": "code",
   "execution_count": null,
   "metadata": {},
   "outputs": [],
   "source": [
    "# ode15s = scipy.integrate.ode(grayscott1d)\n",
    "# ode15s.set_integrator('vode', method='bdf', order=15, nsteps=3000)\n",
    "# # ode15s.set_integrator('vode',  order=32, nsteps=3000)\n",
    "# ode15s.set_initial_value(q0, 0)"
   ]
  },
  {
   "cell_type": "code",
   "execution_count": null,
   "metadata": {},
   "outputs": [],
   "source": [
    "# us=ode15s.integrate(10)"
   ]
  },
  {
   "cell_type": "code",
   "execution_count": null,
   "metadata": {},
   "outputs": [],
   "source": [
    "tspan = (0., 0.12)"
   ]
  },
  {
   "cell_type": "code",
   "execution_count": null,
   "metadata": {},
   "outputs": [],
   "source": [
    "startTime1 = datetime.now()\n",
    "\n",
    "us=solve_ivp(grayscott1d,  tspan, q0, \n",
    "#              nfev=842\n",
    "#              method='LSODA',\n",
    "#              method= 'BDF'\n",
    "#              vectorized=True\n",
    "#              min_step=1e-6\n",
    "#              rtol=1e9, atol=1e9\n",
    "            )\n",
    "print(datetime.now() - startTime1)"
   ]
  },
  {
   "cell_type": "code",
   "execution_count": null,
   "metadata": {},
   "outputs": [],
   "source": [
    "# key takeaway: one can calibrate the model by tuning the hack, bc(init), force_schedule, hak and haka\n",
    "\n",
    "# the main problem of the model is that it accelirates too much\n",
    "# the hack increases the mass, the greater the mass the lesser the  acceleration\n",
    "# the force_schedule affects the force, the lesser the force the lesser the  acceleration\n",
    "# bc set conditions on how much force from the vessel should be applied to counteract the movement because of bc\n",
    "\n",
    "# too fast acceleration leads to solution divergence in short amount of time"
   ]
  },
  {
   "cell_type": "markdown",
   "metadata": {},
   "source": [
    "### Results"
   ]
  },
  {
   "cell_type": "code",
   "execution_count": null,
   "metadata": {},
   "outputs": [],
   "source": [
    "fin=us"
   ]
  },
  {
   "cell_type": "code",
   "execution_count": null,
   "metadata": {},
   "outputs": [],
   "source": [
    "fin"
   ]
  },
  {
   "cell_type": "code",
   "execution_count": null,
   "metadata": {},
   "outputs": [],
   "source": [
    "t=fin.t"
   ]
  },
  {
   "cell_type": "code",
   "execution_count": null,
   "metadata": {},
   "outputs": [],
   "source": [
    "fin=fin.y.T"
   ]
  },
  {
   "cell_type": "code",
   "execution_count": null,
   "metadata": {},
   "outputs": [],
   "source": [
    "fig=plt.figure(figsize=(13,13))\n",
    "ax = fig.gca(projection='3d')\n",
    "\n",
    "X0=fin[0,[i for i in range(0,node_N)]]\n",
    "Y0=fin[0,[i for i in range(2*node_N,3*node_N)]]\n",
    "Z0=fin[0,[i for i in range(4*node_N,5*node_N)]]\n",
    "\n",
    "j=-1\n",
    "X=fin[j,[i for i in range(0,node_N)]]\n",
    "Y=fin[j,[i for i in range(2*node_N,3*node_N)]]\n",
    "Z=fin[j,[i for i in range(4*node_N,5*node_N)]]\n",
    "\n",
    "num_true_pts = 200\n",
    "tck, u = interpolate.splprep([X,Y,Z], s=2)\n",
    "u_fine = np.linspace(0,1,num_true_pts)\n",
    "x_fine, y_fine, z_fine = interpolate.splev(u_fine, tck)\n",
    "\n",
    "\n",
    "ax.plot(X0,Y0,Z0, color='r')\n",
    "ax.plot(X,Y,Z, color='b') \n",
    "# ax.plot(x_fine, y_fine, z_fine, color='b')\n",
    "ax.view_init(-45,-45)\n",
    "ax.view_init(-30,-30)\n",
    "# ax.view_init(0,-90)\n",
    "plt.show()"
   ]
  },
  {
   "cell_type": "code",
   "execution_count": null,
   "metadata": {},
   "outputs": [],
   "source": [
    "X,Y,Z"
   ]
  },
  {
   "cell_type": "code",
   "execution_count": null,
   "metadata": {},
   "outputs": [],
   "source": [
    "X0,Y0,Z0"
   ]
  },
  {
   "cell_type": "code",
   "execution_count": null,
   "metadata": {},
   "outputs": [],
   "source": [
    "us=fin.T"
   ]
  },
  {
   "cell_type": "code",
   "execution_count": null,
   "metadata": {},
   "outputs": [],
   "source": [
    "plt.plot(t,us.T[:,2],'-')\n",
    "plt.xlabel('t')\n",
    "plt.ylabel('x2')\n",
    "plt.show()"
   ]
  },
  {
   "cell_type": "code",
   "execution_count": null,
   "metadata": {},
   "outputs": [],
   "source": [
    "plt.plot(t,us.T[:,node_N+2] ,'-')\n",
    "plt.xlabel('t')\n",
    "plt.ylabel('dx2')\n",
    "plt.show()"
   ]
  },
  {
   "cell_type": "code",
   "execution_count": null,
   "metadata": {},
   "outputs": [],
   "source": [
    "plt.plot(t,us.T[:,node_N-1] ,'-')\n",
    "plt.xlabel('t')\n",
    "plt.ylabel('x49')\n",
    "plt.show()"
   ]
  },
  {
   "cell_type": "code",
   "execution_count": null,
   "metadata": {},
   "outputs": [],
   "source": [
    "plt.plot(t,us.T[:,2*node_N +2] ,'-')\n",
    "plt.xlabel('t')\n",
    "plt.ylabel('y2')\n",
    "plt.show()"
   ]
  },
  {
   "cell_type": "code",
   "execution_count": null,
   "metadata": {},
   "outputs": [],
   "source": [
    "plt.plot(t,us.T[:,3*node_N+2] ,'-')\n",
    "plt.xlabel('t')\n",
    "plt.ylabel('dy2')\n",
    "plt.show()"
   ]
  },
  {
   "cell_type": "code",
   "execution_count": null,
   "metadata": {},
   "outputs": [],
   "source": [
    "plt.plot(t,us.T[:,2*node_N+49] ,'-')\n",
    "plt.xlabel('t')\n",
    "plt.ylabel('y49')\n",
    "plt.show()"
   ]
  },
  {
   "cell_type": "code",
   "execution_count": null,
   "metadata": {},
   "outputs": [],
   "source": [
    "plt.plot(t,us.T[:,3*node_N+49] ,'-')\n",
    "plt.xlabel('t')\n",
    "plt.ylabel('dy49')\n",
    "plt.show()"
   ]
  },
  {
   "cell_type": "code",
   "execution_count": null,
   "metadata": {},
   "outputs": [],
   "source": [
    "plt.plot(t,us.T[:,4*node_N+2] ,'-')\n",
    "plt.xlabel('t')\n",
    "plt.ylabel('z2')\n",
    "plt.show()"
   ]
  },
  {
   "cell_type": "code",
   "execution_count": null,
   "metadata": {},
   "outputs": [],
   "source": [
    "plt.plot(t,us.T[:,5*node_N+2] ,'-')\n",
    "plt.xlabel('t')\n",
    "plt.ylabel('dz2')\n",
    "plt.show()"
   ]
  },
  {
   "cell_type": "code",
   "execution_count": null,
   "metadata": {},
   "outputs": [],
   "source": [
    "plt.plot(t,us.T[:,4*node_N+3] ,'-')\n",
    "plt.xlabel('t')\n",
    "plt.ylabel('z3')\n",
    "plt.show()"
   ]
  },
  {
   "cell_type": "code",
   "execution_count": null,
   "metadata": {},
   "outputs": [],
   "source": [
    "plt.plot(t,us.T[:,4*node_N+49] ,'-')\n",
    "plt.xlabel('t')\n",
    "plt.ylabel('z49')\n",
    "plt.show()"
   ]
  },
  {
   "cell_type": "code",
   "execution_count": null,
   "metadata": {},
   "outputs": [],
   "source": [
    "plt.plot(t,us.T[:,8*node_N+2],'-')\n",
    "plt.xlabel('t')\n",
    "plt.ylabel('θ2')\n",
    "plt.show()"
   ]
  },
  {
   "cell_type": "code",
   "execution_count": null,
   "metadata": {},
   "outputs": [],
   "source": [
    "plt.plot(t,us.T[:,9*node_N+2] ,'-')\n",
    "plt.xlabel('t')\n",
    "plt.ylabel('dθ2')\n",
    "plt.show()"
   ]
  },
  {
   "cell_type": "code",
   "execution_count": null,
   "metadata": {},
   "outputs": [],
   "source": [
    "plt.plot(t,us.T[:,10*node_N+2],'-')\n",
    "plt.xlabel('t')\n",
    "plt.ylabel('ψ2')\n",
    "plt.show()"
   ]
  },
  {
   "cell_type": "code",
   "execution_count": null,
   "metadata": {},
   "outputs": [],
   "source": [
    "plt.plot(t,us.T[:,11*node_N+2] ,'-')\n",
    "plt.xlabel('t')\n",
    "plt.ylabel('dψ2')\n",
    "plt.show()"
   ]
  },
  {
   "cell_type": "code",
   "execution_count": null,
   "metadata": {},
   "outputs": [],
   "source": []
  },
  {
   "cell_type": "code",
   "execution_count": null,
   "metadata": {},
   "outputs": [],
   "source": []
  },
  {
   "cell_type": "code",
   "execution_count": null,
   "metadata": {},
   "outputs": [],
   "source": []
  },
  {
   "cell_type": "code",
   "execution_count": null,
   "metadata": {},
   "outputs": [],
   "source": []
  }
 ],
 "metadata": {
  "kernelspec": {
   "display_name": "Python 3",
   "language": "python",
   "name": "python3"
  },
  "language_info": {
   "codemirror_mode": {
    "name": "ipython",
    "version": 3
   },
   "file_extension": ".py",
   "mimetype": "text/x-python",
   "name": "python",
   "nbconvert_exporter": "python",
   "pygments_lexer": "ipython3",
   "version": "3.7.7"
  }
 },
 "nbformat": 4,
 "nbformat_minor": 4
}
