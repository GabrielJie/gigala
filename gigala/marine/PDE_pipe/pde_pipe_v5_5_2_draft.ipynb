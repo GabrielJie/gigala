{
 "cells": [
  {
   "cell_type": "markdown",
   "metadata": {},
   "source": [
    "#### Model taken from:\n",
    "- [1] Offshore Pipelaying Dynamics. Gullik Anthon Jensen \n",
    "- [2] A nonlinear PDE formulation for offshore vessel pipeline installation. Gullik A. Jensen et al \n",
    "- [3] Modeling and Control of Offshore Pipelay Operations Based on a Finite Strain Pipe Model. Gullik A. Jensen "
   ]
  },
  {
   "cell_type": "code",
   "execution_count": 1,
   "metadata": {},
   "outputs": [],
   "source": [
    "# import julia;\n",
    "# julia.install()"
   ]
  },
  {
   "cell_type": "code",
   "execution_count": 2,
   "metadata": {},
   "outputs": [],
   "source": [
    "import numpy as np\n",
    "import numdifftools as nd\n",
    "import math\n",
    "import matplotlib.pyplot as plt\n",
    "from datetime import datetime\n",
    "# from scipy.integrate import odeint\n",
    "# from torchdiffeq import odeint\n",
    "import torch\n",
    "import inspect\n",
    "import random\n",
    "from scipy.optimize import fsolve\n",
    "from scipy.integrate import solve_ivp\n",
    "import scipy\n",
    "from numpy import linalg as LA"
   ]
  },
  {
   "cell_type": "code",
   "execution_count": 3,
   "metadata": {},
   "outputs": [],
   "source": [
    "import sys\n",
    "sys.path.insert(0, \"../../../../Ocean_Intella/PythonVehicleSimulator-master/src/python_vehicle_simulator\")\n",
    "sys.path.insert(0, \"../../../../Ocean_Intella/PythonVehicleSimulator-master/src\")"
   ]
  },
  {
   "cell_type": "code",
   "execution_count": 4,
   "metadata": {},
   "outputs": [],
   "source": [
    "# from diffeqpy import ode\n",
    "# from diffeqpy import de"
   ]
  },
  {
   "cell_type": "code",
   "execution_count": 5,
   "metadata": {},
   "outputs": [],
   "source": [
    "from vehicles import shipClarke83\n",
    "from python_vehicle_simulator.vehicles import *\n",
    "from python_vehicle_simulator.lib import *\n",
    "from python_vehicle_simulator.lib.gnc import ssa"
   ]
  },
  {
   "cell_type": "code",
   "execution_count": 6,
   "metadata": {},
   "outputs": [],
   "source": [
    "from sympy import *"
   ]
  },
  {
   "cell_type": "code",
   "execution_count": 7,
   "metadata": {},
   "outputs": [],
   "source": [
    "def R2D(value):  # radians to degrees\n",
    "    return value * 180 / math.pi"
   ]
  },
  {
   "cell_type": "code",
   "execution_count": 8,
   "metadata": {},
   "outputs": [],
   "source": [
    "mp = 96 #  (submerged) [kg/m]"
   ]
  },
  {
   "cell_type": "code",
   "execution_count": 9,
   "metadata": {},
   "outputs": [],
   "source": [
    "node_N=4"
   ]
  },
  {
   "cell_type": "code",
   "execution_count": 10,
   "metadata": {},
   "outputs": [],
   "source": [
    "diag_Irho = 1e2*np.array([1, 1, 2]) # [m^4]  , p.99 in [1]\n",
    "# diag_Irho = 1e30*np.array([1, 1, 2]) # [m^4]  !!!!!!!!!!!!!!!!!!!!!!!!!!!!!!!!!!!!!\n",
    " \n",
    "Irho=np.diag(diag_Irho)"
   ]
  },
  {
   "cell_type": "code",
   "execution_count": 11,
   "metadata": {},
   "outputs": [
    {
     "data": {
      "text/plain": [
       "array([[100.,   0.,   0.],\n",
       "       [  0., 100.,   0.],\n",
       "       [  0.,   0., 200.]])"
      ]
     },
     "execution_count": 11,
     "metadata": {},
     "output_type": "execute_result"
    }
   ],
   "source": [
    "Irho"
   ]
  },
  {
   "cell_type": "code",
   "execution_count": 12,
   "metadata": {},
   "outputs": [],
   "source": [
    "qw = 1025 # Water density [kg/m3]\n",
    "d0 = 0.761 # Outer diameter of pipe, [m]"
   ]
  },
  {
   "cell_type": "code",
   "execution_count": 13,
   "metadata": {},
   "outputs": [],
   "source": [
    "diag_DT = 1.5*np.array([1, 1, 1]) # [N/m]  , p.99 in [1]"
   ]
  },
  {
   "cell_type": "code",
   "execution_count": 14,
   "metadata": {},
   "outputs": [],
   "source": [
    "DT=np.diag(diag_DT) # (35) in [2]"
   ]
  },
  {
   "cell_type": "code",
   "execution_count": 15,
   "metadata": {},
   "outputs": [
    {
     "data": {
      "text/plain": [
       "array([[1.5, 0. , 0. ],\n",
       "       [0. , 1.5, 0. ],\n",
       "       [0. , 0. , 1.5]])"
      ]
     },
     "execution_count": 15,
     "metadata": {},
     "output_type": "execute_result"
    }
   ],
   "source": [
    "DT"
   ]
  },
  {
   "cell_type": "code",
   "execution_count": 16,
   "metadata": {},
   "outputs": [],
   "source": [
    "diag_CT = 1e9*np.array([1, 1, 1]) # [Nm2] p. 4721 in [3]"
   ]
  },
  {
   "cell_type": "code",
   "execution_count": 17,
   "metadata": {},
   "outputs": [],
   "source": [
    "CT=np.diag(diag_CT)"
   ]
  },
  {
   "cell_type": "code",
   "execution_count": 18,
   "metadata": {},
   "outputs": [
    {
     "data": {
      "text/plain": [
       "array([[1.e+09, 0.e+00, 0.e+00],\n",
       "       [0.e+00, 1.e+09, 0.e+00],\n",
       "       [0.e+00, 0.e+00, 1.e+09]])"
      ]
     },
     "execution_count": 18,
     "metadata": {},
     "output_type": "execute_result"
    }
   ],
   "source": [
    "CT"
   ]
  },
  {
   "cell_type": "code",
   "execution_count": 19,
   "metadata": {},
   "outputs": [],
   "source": [
    "# angles should be in radians, otherwise np.radians them  \n",
    "def Re_t_(arr):\n",
    "    φ,θ,ψ=arr[0],arr[1],arr[2]\n",
    "  \n",
    "    Cφ=np.matrix([[1,0,0],\n",
    "                      [0,np.cos(φ),-np.sin(φ)],\n",
    "                      [0,np.sin(φ),np.cos(φ)]])\n",
    "\n",
    "    Cθ=np.matrix([[np.cos(θ),0,np.sin(θ)],\n",
    "                      [0,1,0],\n",
    "                      [-np.sin(θ),0,np.cos(θ)]])\n",
    "\n",
    "    Cψ=np.matrix([[np.cos(ψ),-np.sin(ψ),0],\n",
    "                      [np.sin(ψ),np.cos(ψ),0],\n",
    "                      [0,0,1]])\n",
    "        \n",
    "\n",
    "    return np.array(np.dot(np.dot(Cφ,Cθ),Cψ) )"
   ]
  },
  {
   "cell_type": "code",
   "execution_count": 20,
   "metadata": {},
   "outputs": [
    {
     "data": {
      "text/plain": [
       "array([[ 0.41198225,  0.05872664,  0.90929743],\n",
       "       [-0.68124272, -0.64287284,  0.35017549],\n",
       "       [ 0.60512725, -0.76371834, -0.2248451 ]])"
      ]
     },
     "execution_count": 20,
     "metadata": {},
     "output_type": "execute_result"
    }
   ],
   "source": [
    "Re_t_([1,2,3])"
   ]
  },
  {
   "cell_type": "code",
   "execution_count": 21,
   "metadata": {},
   "outputs": [],
   "source": [
    "rng = np.random.default_rng()"
   ]
  },
  {
   "cell_type": "code",
   "execution_count": 22,
   "metadata": {},
   "outputs": [],
   "source": [
    "φ, θ, ψ = rng.standard_normal(node_N),rng.standard_normal(node_N),rng.standard_normal(node_N)"
   ]
  },
  {
   "cell_type": "code",
   "execution_count": 23,
   "metadata": {},
   "outputs": [],
   "source": [
    "def Re_t(a,b,c):\n",
    "    xyz=np.stack((a,b,c), axis=1)\n",
    "    return np.apply_along_axis(Re_t_, 1, xyz)"
   ]
  },
  {
   "cell_type": "code",
   "execution_count": 24,
   "metadata": {},
   "outputs": [
    {
     "data": {
      "text/plain": [
       "array([[ 0.57529019, -0.80960281, -0.11655252],\n",
       "       [ 0.64805856,  0.53808985, -0.53896142],\n",
       "       [ 0.49906041,  0.23452636,  0.83422784]])"
      ]
     },
     "execution_count": 24,
     "metadata": {},
     "output_type": "execute_result"
    }
   ],
   "source": [
    "Re_t_(np.array([φ[0], θ[0], ψ[0]]))"
   ]
  },
  {
   "cell_type": "code",
   "execution_count": 25,
   "metadata": {
    "scrolled": true
   },
   "outputs": [
    {
     "name": "stdout",
     "output_type": "stream",
     "text": [
      "0:00:00.000997\n"
     ]
    }
   ],
   "source": [
    "startTime1 = datetime.now()\n",
    "Ret=Re_t(φ,θ,ψ)\n",
    "print(datetime.now() - startTime1)"
   ]
  },
  {
   "cell_type": "code",
   "execution_count": 26,
   "metadata": {},
   "outputs": [
    {
     "data": {
      "text/plain": [
       "array([[[ 0.57529019, -0.80960281, -0.11655252],\n",
       "        [ 0.64805856,  0.53808985, -0.53896142],\n",
       "        [ 0.49906041,  0.23452636,  0.83422784]],\n",
       "\n",
       "       [[ 0.85666769,  0.01014602,  0.51576888],\n",
       "        [ 0.43777961,  0.51459249, -0.73725408],\n",
       "        [-0.27289098,  0.85737484,  0.43639304]],\n",
       "\n",
       "       [[ 0.37624795,  0.84976543, -0.36923732],\n",
       "        [-0.13095615, -0.34574598, -0.92914488],\n",
       "        [-0.91721752,  0.39794275, -0.01880421]],\n",
       "\n",
       "       [[ 0.85740158, -0.40380918,  0.31906219],\n",
       "        [ 0.36752377,  0.91440847,  0.16965681],\n",
       "        [-0.36026215, -0.02820108,  0.93242473]]])"
      ]
     },
     "execution_count": 26,
     "metadata": {},
     "output_type": "execute_result"
    }
   ],
   "source": [
    "Ret"
   ]
  },
  {
   "cell_type": "code",
   "execution_count": 27,
   "metadata": {},
   "outputs": [
    {
     "data": {
      "text/plain": [
       "(4, 3, 3)"
      ]
     },
     "execution_count": 27,
     "metadata": {},
     "output_type": "execute_result"
    }
   ],
   "source": [
    "Ret.shape"
   ]
  },
  {
   "cell_type": "code",
   "execution_count": 28,
   "metadata": {},
   "outputs": [],
   "source": [
    "dx,dy,dz=rng.standard_normal(node_N),rng.standard_normal(node_N),rng.standard_normal(node_N)"
   ]
  },
  {
   "cell_type": "code",
   "execution_count": 29,
   "metadata": {},
   "outputs": [],
   "source": [
    "def C1(dx,dy,dz, Ret):\n",
    "    B=np.vstack([np.abs(dx)*dx,(dy**2+dz**2)**0.5*dy,(dy**2+dz**2)**0.5*dz])\n",
    "#     print(np.dot(Ret[0],B.T[0]))\n",
    "    ans=np.einsum('ijk,ik->ij', Ret, np.einsum('ijk,ik->ij', Ret,B.T.astype(np.float32))) \n",
    "    return ans.T"
   ]
  },
  {
   "cell_type": "code",
   "execution_count": 30,
   "metadata": {},
   "outputs": [
    {
     "data": {
      "text/plain": [
       "array([ 0.68310531,  0.22505896, -0.03928371, -5.71038833])"
      ]
     },
     "execution_count": 30,
     "metadata": {},
     "output_type": "execute_result"
    }
   ],
   "source": [
    "np.abs(dx)*dx"
   ]
  },
  {
   "cell_type": "code",
   "execution_count": 31,
   "metadata": {},
   "outputs": [
    {
     "data": {
      "text/plain": [
       "array([[-1.22383514,  1.53212369, -0.12905964, -2.27709279],\n",
       "       [ 0.10164666, -0.84126754,  0.04706852, -3.83190661],\n",
       "       [ 0.38442668, -0.72165723,  0.08314431,  3.62506264]])"
      ]
     },
     "execution_count": 31,
     "metadata": {},
     "output_type": "execute_result"
    }
   ],
   "source": [
    "C1(dx,dy,dz,Ret)"
   ]
  },
  {
   "cell_type": "code",
   "execution_count": 32,
   "metadata": {},
   "outputs": [
    {
     "data": {
      "text/plain": [
       "(3, 4)"
      ]
     },
     "execution_count": 32,
     "metadata": {},
     "output_type": "execute_result"
    }
   ],
   "source": [
    "C1(dx,dy,dz,Ret).shape"
   ]
  },
  {
   "cell_type": "code",
   "execution_count": 33,
   "metadata": {},
   "outputs": [
    {
     "name": "stdout",
     "output_type": "stream",
     "text": [
      "0:00:00.000233\n"
     ]
    }
   ],
   "source": [
    "startTime1 = datetime.now()\n",
    "C1(dx,dy,dz,Ret)\n",
    "print(datetime.now() - startTime1)"
   ]
  },
  {
   "cell_type": "code",
   "execution_count": 34,
   "metadata": {},
   "outputs": [],
   "source": [
    "def fD(dx,dy,dz,DT,Ret):\n",
    "    return 1/2*d0*qw*np.dot(DT, C1(dx,dy,dz,Ret))*9.81"
   ]
  },
  {
   "cell_type": "code",
   "execution_count": 35,
   "metadata": {},
   "outputs": [
    {
     "data": {
      "text/plain": [
       "array([-7023.63139699,   583.35365714,  2206.23777444])"
      ]
     },
     "execution_count": 35,
     "metadata": {},
     "output_type": "execute_result"
    }
   ],
   "source": [
    "1/2*d0*qw*np.dot(DT,C1(dx,dy,dz,Ret).T[0])*9.81"
   ]
  },
  {
   "cell_type": "code",
   "execution_count": 36,
   "metadata": {},
   "outputs": [
    {
     "data": {
      "text/plain": [
       "array([[ -7023.63139699,   8792.90983001,   -740.67762829,\n",
       "        -13068.31277941],\n",
       "       [   583.35365714,  -4828.062985  ,    270.12783753,\n",
       "        -21991.44209543],\n",
       "       [  2206.23777444,  -4141.61531107,    477.1680222 ,\n",
       "         20804.3575298 ]])"
      ]
     },
     "execution_count": 36,
     "metadata": {},
     "output_type": "execute_result"
    }
   ],
   "source": [
    "fD(dx,dy,dz,DT,Ret)"
   ]
  },
  {
   "cell_type": "code",
   "execution_count": 37,
   "metadata": {},
   "outputs": [
    {
     "data": {
      "text/plain": [
       "array([[ -7023.63139699,    583.35365714,   2206.23777444],\n",
       "       [  8792.90983001,  -4828.062985  ,  -4141.61531107],\n",
       "       [  -740.67762829,    270.12783753,    477.1680222 ],\n",
       "       [-13068.31277941, -21991.44209543,  20804.3575298 ]])"
      ]
     },
     "execution_count": 37,
     "metadata": {},
     "output_type": "execute_result"
    }
   ],
   "source": [
    "fD(dx,dy,dz,DT,Ret).T"
   ]
  },
  {
   "cell_type": "code",
   "execution_count": 38,
   "metadata": {},
   "outputs": [
    {
     "name": "stdout",
     "output_type": "stream",
     "text": [
      "0:00:00.000411\n"
     ]
    }
   ],
   "source": [
    "startTime1 = datetime.now()\n",
    "fD(dx,dy,dz,DT,Ret)\n",
    "print(datetime.now() - startTime1)"
   ]
  },
  {
   "cell_type": "code",
   "execution_count": 39,
   "metadata": {},
   "outputs": [],
   "source": [
    "# https://docs.scipy.org/doc/scipy-1.8.0/tutorial/integrate.html  \n",
    "# 1-D Gray-Scott "
   ]
  },
  {
   "cell_type": "code",
   "execution_count": 40,
   "metadata": {},
   "outputs": [],
   "source": [
    "I=np.identity(3)"
   ]
  },
  {
   "cell_type": "code",
   "execution_count": 41,
   "metadata": {},
   "outputs": [
    {
     "name": "stdout",
     "output_type": "stream",
     "text": [
      "0:00:00.000615\n"
     ]
    }
   ],
   "source": [
    "startTime1 = datetime.now()\n",
    "np.dot(I,fD(dx,dy,dz,DT,Ret))\n",
    "print(datetime.now() - startTime1)"
   ]
  },
  {
   "cell_type": "code",
   "execution_count": 42,
   "metadata": {},
   "outputs": [],
   "source": [
    "Rb_t=I # https://www.researchgate.net/profile/Thor-Fossen/publication/224560837_Modeling_and_Control_of_Offshore_Pipelay_Operations_Based_on_a_Finite_Strain_Pipe_Model/links/00b7d520e175a3f918000000/Modeling-and-Control-of-Offshore-Pipelay-Operations-Based-on-a-Finite-Strain-Pipe-Model.pdf"
   ]
  },
  {
   "cell_type": "code",
   "execution_count": 43,
   "metadata": {},
   "outputs": [
    {
     "data": {
      "text/plain": [
       "array([[1., 0., 0.],\n",
       "       [0., 1., 0.],\n",
       "       [0., 0., 1.]])"
      ]
     },
     "execution_count": 43,
     "metadata": {},
     "output_type": "execute_result"
    }
   ],
   "source": [
    "Rb_t"
   ]
  },
  {
   "cell_type": "code",
   "execution_count": 44,
   "metadata": {},
   "outputs": [],
   "source": [
    "diag_DR = 1.5*np.array([1, 1, 1]) # [N m/rad]  p.4721 in [3]"
   ]
  },
  {
   "cell_type": "code",
   "execution_count": 45,
   "metadata": {},
   "outputs": [],
   "source": [
    "DR=np.diag(diag_DR) "
   ]
  },
  {
   "cell_type": "code",
   "execution_count": 46,
   "metadata": {},
   "outputs": [],
   "source": [
    "dI= 0.69# Inner diameter of pipe, [m]"
   ]
  },
  {
   "cell_type": "code",
   "execution_count": 47,
   "metadata": {},
   "outputs": [],
   "source": [
    "Ar=math.pi*((d0/2)**2-(dI/2)**2)"
   ]
  },
  {
   "cell_type": "code",
   "execution_count": 48,
   "metadata": {},
   "outputs": [
    {
     "data": {
      "text/plain": [
       "0.08091250419136858"
      ]
     },
     "execution_count": 48,
     "metadata": {},
     "output_type": "execute_result"
    }
   ],
   "source": [
    "Ar"
   ]
  },
  {
   "cell_type": "code",
   "execution_count": 49,
   "metadata": {},
   "outputs": [],
   "source": [
    "fg_e=np.array([[0,0,(mp-qw*Ar)*9.81] for x in range(node_N)])"
   ]
  },
  {
   "cell_type": "code",
   "execution_count": 50,
   "metadata": {},
   "outputs": [
    {
     "data": {
      "text/plain": [
       "array([[  0.        ,   0.        , 128.16454223],\n",
       "       [  0.        ,   0.        , 128.16454223],\n",
       "       [  0.        ,   0.        , 128.16454223],\n",
       "       [  0.        ,   0.        , 128.16454223]])"
      ]
     },
     "execution_count": 50,
     "metadata": {},
     "output_type": "execute_result"
    }
   ],
   "source": [
    "fg_e"
   ]
  },
  {
   "cell_type": "code",
   "execution_count": 51,
   "metadata": {},
   "outputs": [],
   "source": [
    "# # not checked \n",
    "# def k_sigma(hi,d0,fg_e):\n",
    "#     ans=[]\n",
    "#     for it in hi:\n",
    "#         if it<0:\n",
    "#             ans.append(0)\n",
    "#         elif 0<=it<=d0/20:\n",
    "#             ans.append(np.float32(LA.norm(fg_e,2)/(d0/8-d0/40)*10*it**2/d0))\n",
    "#         else:\n",
    "#             ans.append(np.float32(LA.norm(fg_e,2)/(d0/8-d0/40)*(it-d0/40)))     \n",
    "#     return np.array(ans).reshape(node_N,1)   "
   ]
  },
  {
   "cell_type": "code",
   "execution_count": 52,
   "metadata": {},
   "outputs": [],
   "source": [
    "x,y,z=100*rng.standard_normal(node_N),100*rng.standard_normal(node_N),100*rng.standard_normal(node_N)"
   ]
  },
  {
   "cell_type": "code",
   "execution_count": 53,
   "metadata": {},
   "outputs": [],
   "source": [
    "# # not checked\n",
    "# def hi(x,y,z,d0):\n",
    "#     return (np.dot(np.array([x,y,z]).T,[0,0,1])+d0/2).reshape(node_N,1) "
   ]
  },
  {
   "cell_type": "code",
   "execution_count": 54,
   "metadata": {},
   "outputs": [],
   "source": [
    "# startTime1 = datetime.now()\n",
    "# hi(x,y,z,d0)\n",
    "# print(datetime.now() - startTime1)"
   ]
  },
  {
   "cell_type": "code",
   "execution_count": 55,
   "metadata": {},
   "outputs": [],
   "source": [
    "# k_sigma(hi(x,y,z,d0),d0,fg_e)"
   ]
  },
  {
   "cell_type": "code",
   "execution_count": 56,
   "metadata": {},
   "outputs": [],
   "source": [
    "# startTime1 = datetime.now()\n",
    "# k_sigma(hi(x,y,z,d0),d0,fg_e)\n",
    "# print(datetime.now() - startTime1)"
   ]
  },
  {
   "cell_type": "code",
   "execution_count": 57,
   "metadata": {},
   "outputs": [],
   "source": [
    "# # TODO: force shoud be acting only at nodes that are in contact with the seabed\n",
    "# # not checked\n",
    "# def sigma(x,y,z):\n",
    "#     return (k_sigma(hi(x,y,z,d0),d0,fg_e)*np.array([0,0,1]))"
   ]
  },
  {
   "cell_type": "code",
   "execution_count": 58,
   "metadata": {},
   "outputs": [],
   "source": [
    "# startTime1 = datetime.now()\n",
    "# sigma(x,y,z)\n",
    "# print(datetime.now() - startTime1)"
   ]
  },
  {
   "cell_type": "code",
   "execution_count": 59,
   "metadata": {},
   "outputs": [],
   "source": [
    "def Re_b(Ret):\n",
    "#     return np.dot(Ret, Rb_t ) # (5) in[3]\n",
    "    return Ret"
   ]
  },
  {
   "cell_type": "code",
   "execution_count": 60,
   "metadata": {},
   "outputs": [
    {
     "name": "stdout",
     "output_type": "stream",
     "text": [
      "0:00:00.000138\n"
     ]
    }
   ],
   "source": [
    "startTime1 = datetime.now()\n",
    "Re_b(Ret)\n",
    "print(datetime.now() - startTime1)"
   ]
  },
  {
   "cell_type": "code",
   "execution_count": 61,
   "metadata": {},
   "outputs": [],
   "source": [
    "def phi(x, y, z, Ret,dummy):\n",
    "    B=np.vstack([x,y,z])\n",
    "    return np.einsum('ijk,ik->ij', Ret,B.T.astype(np.float32))"
   ]
  },
  {
   "cell_type": "code",
   "execution_count": 62,
   "metadata": {},
   "outputs": [
    {
     "data": {
      "text/plain": [
       "array([[ -65.35157203,   77.16212444,   43.66199893],\n",
       "       [ 148.21700093,  -97.85737267, -126.73988777],\n",
       "       [  21.30875948, -178.09770817,   51.97233506],\n",
       "       [  57.99158594,   47.41236256,  253.4993342 ]])"
      ]
     },
     "execution_count": 62,
     "metadata": {},
     "output_type": "execute_result"
    }
   ],
   "source": [
    "phi(x,y,z,Ret,None)"
   ]
  },
  {
   "cell_type": "code",
   "execution_count": 63,
   "metadata": {},
   "outputs": [],
   "source": [
    "# def d_s(da,db,dc,x,y,z):\n",
    "\n",
    "#     ds=np.sqrt(np.diff(x,prepend=x[0])**2+np.diff(y,prepend=y[0])**2\n",
    "#                  +np.diff(z,prepend=z[0])**2)\n",
    "#     ds[ds == 0] = 1\n",
    "#     return np.vstack([np.diff(da,prepend=da[0])/ds,np.diff(db,prepend=db[0])/ds,np.diff(dc,prepend=dc[0])/ds])"
   ]
  },
  {
   "cell_type": "code",
   "execution_count": 64,
   "metadata": {},
   "outputs": [
    {
     "name": "stdout",
     "output_type": "stream",
     "text": [
      "0:00:00.001489\n"
     ]
    }
   ],
   "source": [
    "startTime1 = datetime.now()\n",
    "phi(x,y,z,Ret,None)\n",
    "print(datetime.now() - startTime1)"
   ]
  },
  {
   "cell_type": "code",
   "execution_count": 65,
   "metadata": {},
   "outputs": [],
   "source": [
    "def Π_(arr):\n",
    "    φ,θ,ψ=arr[0],arr[1],arr[2]\n",
    "    return np.array([[np.cos(θ),0,np.cos(φ)*np.sin(θ)],\n",
    "                  [0,1,-np.sin(φ)],\n",
    "                  [-np.sin(θ),0,np.cos(φ)*np.cos(θ)]])"
   ]
  },
  {
   "cell_type": "code",
   "execution_count": 66,
   "metadata": {},
   "outputs": [],
   "source": [
    "def Π(a,b,c):\n",
    "    xyz=np.stack((a,b,c), axis=1)\n",
    "  \n",
    "    return np.apply_along_axis(Π_, 1, xyz)\n",
    "    "
   ]
  },
  {
   "cell_type": "code",
   "execution_count": 67,
   "metadata": {},
   "outputs": [
    {
     "name": "stdout",
     "output_type": "stream",
     "text": [
      "0:00:00.000555\n"
     ]
    }
   ],
   "source": [
    "startTime1 = datetime.now()\n",
    "Π(φ,θ,ψ).shape\n",
    "print(datetime.now() - startTime1)"
   ]
  },
  {
   "cell_type": "code",
   "execution_count": 68,
   "metadata": {},
   "outputs": [],
   "source": [
    "def ωe(φ,θ,ψ, dummy,dummy1):  # (100) in [2]\n",
    "    A=Π(φ,θ,ψ)\n",
    "    B=np.vstack([φ,θ,ψ])\n",
    "    return np.einsum('ijk,ik->ij',A,B.T.astype(np.float32))"
   ]
  },
  {
   "cell_type": "code",
   "execution_count": 69,
   "metadata": {},
   "outputs": [
    {
     "name": "stdout",
     "output_type": "stream",
     "text": [
      "0:00:00.000411\n"
     ]
    }
   ],
   "source": [
    "startTime1 = datetime.now()\n",
    "ωe(φ,θ,ψ,None,None)\n",
    "print(datetime.now() - startTime1)"
   ]
  },
  {
   "cell_type": "code",
   "execution_count": 70,
   "metadata": {},
   "outputs": [
    {
     "data": {
      "text/plain": [
       "array([[ 0.47639361, -0.63397442,  0.86187603],\n",
       "       [ 0.8847512 ,  0.55209634, -0.53968093],\n",
       "       [ 1.46998022,  0.77554934,  0.60916788],\n",
       "       [-0.0324083 ,  0.40353312,  0.46783625]])"
      ]
     },
     "execution_count": 70,
     "metadata": {},
     "output_type": "execute_result"
    }
   ],
   "source": [
    "ωe(φ,θ,ψ,None,None)"
   ]
  },
  {
   "cell_type": "code",
   "execution_count": 71,
   "metadata": {},
   "outputs": [],
   "source": [
    "def d_s(f,a,b,c,Ret,omega):\n",
    "\n",
    "    fun = f(a,b,c,Ret,omega)    \n",
    "    \n",
    "    def S(arr):\n",
    "        a1,a2,a3=arr[0],arr[1],arr[2]\n",
    "        return np.array([[0, -a3, a2 ],\n",
    "                         [a3, 0, -a1],\n",
    "                        [-a2, a1, 0]])\n",
    "    \n",
    "    K=np.apply_along_axis(S, 1, omega)\n",
    "#     print('fun',fun)\n",
    "#     print('K',K)\n",
    "#     print('ans',np.einsum('ijk,ik->ij',K,fun).T)\n",
    "\n",
    "    return np.einsum('ijk,ik->ij',K,fun.astype(np.float32)).T\n",
    "\n"
   ]
  },
  {
   "cell_type": "code",
   "execution_count": 72,
   "metadata": {},
   "outputs": [
    {
     "data": {
      "text/plain": [
       "array([[ -94.18477546, -122.78439061,  148.79850959,   80.11415376],\n",
       "       [ -77.12524878,   32.14338449,  -63.41769396,   35.34604887],\n",
       "       [  -4.6716803 , -168.40949228, -278.32609443,  -24.93807936]])"
      ]
     },
     "execution_count": 72,
     "metadata": {},
     "output_type": "execute_result"
    }
   ],
   "source": [
    "d_s(phi,x,y,z,Ret,ωe(φ,θ,ψ,None,None))"
   ]
  },
  {
   "cell_type": "code",
   "execution_count": 73,
   "metadata": {},
   "outputs": [],
   "source": [
    "# def d_s(f,a,b,c,Ret):\n",
    "# #     ds=np.sqrt(np.diff(a,prepend=a[0])**2+np.diff(b,prepend=b[0])**2\n",
    "# #                  +np.diff(c,prepend=c[0])**2)\n",
    "#     ds=np.sqrt(np.diff(a)**2+np.diff(b)**2+np.diff(c)**2)\n",
    "#     ds[ds == 0] = 1\n",
    "#     fun = f(a,b,c,Ret)\n",
    "#     ans=(np.diff(fun,axis=0) / ds.reshape(node_N-1,1)).T\n",
    "#     return np.insert(ans, -1, 0.8*ans[:,-1], axis=1)"
   ]
  },
  {
   "cell_type": "code",
   "execution_count": 74,
   "metadata": {},
   "outputs": [],
   "source": [
    "# def d_s(f,a,c,Ret):\n",
    "# #     ds=np.sqrt(np.diff(a,prepend=a[0])**2+np.diff(c,prepend=c[0])**2)\n",
    "#     ds=np.sqrt(np.diff(a)**2+np.diff(c)**2)\n",
    "# #     ds[ds == 0] = 1\n",
    "#     fun = f(a,c,Ret)\n",
    "# #     ans=(np.diff(fun,prepend=fun[0].reshape(1,2),axis=0) / ds.reshape(node_N,1)).T\n",
    "#     ans=(np.diff(fun,axis=0) / ds.reshape(node_N-1,1)).T\n",
    "#     np.insert(ans, -1, ans[:,-1], axis=1)\n",
    "#     return np.insert(ans, -1, 1.1*ans[:,-1], axis=1)"
   ]
  },
  {
   "cell_type": "code",
   "execution_count": 75,
   "metadata": {},
   "outputs": [],
   "source": [
    "# d_s(phi,x,y,z,Ret)"
   ]
  },
  {
   "cell_type": "code",
   "execution_count": 76,
   "metadata": {},
   "outputs": [
    {
     "name": "stdout",
     "output_type": "stream",
     "text": [
      "0:00:00.000846\n"
     ]
    }
   ],
   "source": [
    "startTime1 = datetime.now()\n",
    "d_s(phi,x,y,z,Ret,ωe(φ,θ,ψ,None,None))\n",
    "print(datetime.now() - startTime1)"
   ]
  },
  {
   "cell_type": "code",
   "execution_count": 77,
   "metadata": {},
   "outputs": [],
   "source": [
    "def ne(x,y,z,Ret,omega):\n",
    "    A=np.multiply(np.multiply(Ret,CT),Ret)\n",
    "    B=d_s(phi,x,y,z,Ret,omega).T\n",
    "    return np.einsum('ijk,ik->ij', A.astype(np.float32),B-\n",
    "                     np.einsum('ijk,kp->ijp',Ret.astype(np.float32), np.array([1,0,0]).reshape(3,1)).squeeze())"
   ]
  },
  {
   "cell_type": "code",
   "execution_count": 78,
   "metadata": {},
   "outputs": [],
   "source": [
    "def ne_(dx,dy,dz,DT,Ret):\n",
    "    return -fg_e.T-fD(dx,dy,dz,DT,Ret) #-sigma(x,y,z).T"
   ]
  },
  {
   "cell_type": "code",
   "execution_count": 79,
   "metadata": {},
   "outputs": [],
   "source": [
    "# sigma(x,y,z)"
   ]
  },
  {
   "cell_type": "code",
   "execution_count": 80,
   "metadata": {},
   "outputs": [
    {
     "data": {
      "text/plain": [
       "array([[  7023.63139699,  -8792.90983001,    740.67762829,\n",
       "         13068.31277941],\n",
       "       [  -583.35365714,   4828.062985  ,   -270.12783753,\n",
       "         21991.44209543],\n",
       "       [ -2334.40231667,   4013.45076884,   -605.33256443,\n",
       "        -20932.52207203]])"
      ]
     },
     "execution_count": 80,
     "metadata": {},
     "output_type": "execute_result"
    }
   ],
   "source": [
    "ne_(dx,dy,dz,DT,Ret)"
   ]
  },
  {
   "cell_type": "code",
   "execution_count": 81,
   "metadata": {},
   "outputs": [],
   "source": [
    "# mp*ddp = d_s(ne,ds)+np.dot(Re_b,ne_)"
   ]
  },
  {
   "cell_type": "code",
   "execution_count": 82,
   "metadata": {},
   "outputs": [
    {
     "name": "stdout",
     "output_type": "stream",
     "text": [
      "0:00:00.000606\n"
     ]
    }
   ],
   "source": [
    "startTime1 = datetime.now()\n",
    "ne(x,y,z,Ret,ωe(φ,θ,ψ,None,None))\n",
    "print(datetime.now() - startTime1)"
   ]
  },
  {
   "cell_type": "code",
   "execution_count": 83,
   "metadata": {},
   "outputs": [
    {
     "data": {
      "text/plain": [
       "array([[-3.13616791e+10, -2.25185357e+10, -3.59850495e+09],\n",
       "       [-9.07376445e+10,  8.39581665e+09, -3.20197460e+10],\n",
       "       [ 2.10110282e+10, -7.56531436e+09, -9.80912674e+07],\n",
       "       [ 5.82646085e+10,  2.92470436e+10, -2.13683444e+10]])"
      ]
     },
     "execution_count": 83,
     "metadata": {},
     "output_type": "execute_result"
    }
   ],
   "source": [
    "ne(x,y,z,Ret,ωe(φ,θ,ψ,None,None))"
   ]
  },
  {
   "cell_type": "code",
   "execution_count": 84,
   "metadata": {},
   "outputs": [
    {
     "name": "stdout",
     "output_type": "stream",
     "text": [
      "0:00:00.000237\n"
     ]
    }
   ],
   "source": [
    "startTime1 = datetime.now()\n",
    "ne_(dx,dy,dz,DT,Ret)\n",
    "print(datetime.now() - startTime1)"
   ]
  },
  {
   "cell_type": "code",
   "execution_count": 85,
   "metadata": {},
   "outputs": [
    {
     "data": {
      "text/plain": [
       "(4, 3, 3)"
      ]
     },
     "execution_count": 85,
     "metadata": {},
     "output_type": "execute_result"
    }
   ],
   "source": [
    "Re_b(Ret).shape"
   ]
  },
  {
   "cell_type": "code",
   "execution_count": 86,
   "metadata": {},
   "outputs": [],
   "source": [
    "def Irho_e(Ret):\n",
    "    ans= np.multiply(np.multiply(Ret,Irho),Ret) # (19) in [3] \n",
    "    return ans\n",
    "#     tmp=[1 for i in range(node_N)]\n",
    "#     tmp[-1]=1e13\n",
    "#     print(ans)\n",
    "#     return ans*np.array(tmp).reshape(node_N,1)\n",
    "#     return np.einsum(\"ijk,ip->ijk\", ans, np.array(tmp).reshape(node_N,1))"
   ]
  },
  {
   "cell_type": "code",
   "execution_count": 87,
   "metadata": {},
   "outputs": [
    {
     "data": {
      "text/plain": [
       "array([[[3.30958804e+01, 0.00000000e+00, 0.00000000e+00],\n",
       "        [0.00000000e+00, 2.89540682e+01, 0.00000000e+00],\n",
       "        [0.00000000e+00, 0.00000000e+00, 1.39187219e+02]],\n",
       "\n",
       "       [[7.33879524e+01, 0.00000000e+00, 0.00000000e+00],\n",
       "        [0.00000000e+00, 2.64805435e+01, 0.00000000e+00],\n",
       "        [0.00000000e+00, 0.00000000e+00, 3.80877775e+01]],\n",
       "\n",
       "       [[1.41562517e+01, 0.00000000e+00, 0.00000000e+00],\n",
       "        [0.00000000e+00, 1.19540283e+01, 0.00000000e+00],\n",
       "        [0.00000000e+00, 0.00000000e+00, 7.07196333e-02]],\n",
       "\n",
       "       [[7.35137461e+01, 0.00000000e+00, 0.00000000e+00],\n",
       "        [0.00000000e+00, 8.36142842e+01, 0.00000000e+00],\n",
       "        [0.00000000e+00, 0.00000000e+00, 1.73883177e+02]]])"
      ]
     },
     "execution_count": 87,
     "metadata": {},
     "output_type": "execute_result"
    }
   ],
   "source": [
    "Irho_e(Ret)"
   ]
  },
  {
   "cell_type": "code",
   "execution_count": 88,
   "metadata": {},
   "outputs": [
    {
     "name": "stdout",
     "output_type": "stream",
     "text": [
      "0:00:00.000112\n"
     ]
    }
   ],
   "source": [
    "startTime1 = datetime.now()\n",
    "Irho_e(Ret)\n",
    "print(datetime.now() - startTime1)"
   ]
  },
  {
   "cell_type": "code",
   "execution_count": 89,
   "metadata": {},
   "outputs": [],
   "source": [
    "# def Π_(arr):\n",
    "#     φ,θ,ψ=arr[0],arr[1],arr[2]\n",
    "#     return np.array([[np.cos(θ),0,np.cos(φ)*np.sin(θ)],\n",
    "#                   [0,1,-np.sin(φ)],\n",
    "#                   [-np.sin(θ),0,np.cos(φ)*np.cos(θ)]])"
   ]
  },
  {
   "cell_type": "code",
   "execution_count": 90,
   "metadata": {},
   "outputs": [],
   "source": [
    "# def Π(a,b,c):\n",
    "#     xyz=np.stack((a,b,c), axis=1)\n",
    "  \n",
    "#     return np.apply_along_axis(Π_, 1, xyz)\n",
    "    "
   ]
  },
  {
   "cell_type": "code",
   "execution_count": 91,
   "metadata": {},
   "outputs": [],
   "source": [
    "# startTime1 = datetime.now()\n",
    "# Π(φ,θ,ψ).shape\n",
    "# print(datetime.now() - startTime1)"
   ]
  },
  {
   "cell_type": "code",
   "execution_count": 92,
   "metadata": {},
   "outputs": [],
   "source": [
    "# def ωe(φ,θ,ψ, dummy):  # (100) in [2]\n",
    "#     A=Π(φ,θ,ψ)\n",
    "#     B=np.vstack([φ,θ,ψ])\n",
    "#     return np.einsum('ijk,ik->ij',A,B.T)"
   ]
  },
  {
   "cell_type": "code",
   "execution_count": 93,
   "metadata": {},
   "outputs": [],
   "source": [
    "# startTime1 = datetime.now()\n",
    "# ωe(φ,θ,ψ,None)\n",
    "# print(datetime.now() - startTime1)"
   ]
  },
  {
   "cell_type": "code",
   "execution_count": 94,
   "metadata": {},
   "outputs": [],
   "source": [
    "# ωe(φ,θ,ψ,None)"
   ]
  },
  {
   "cell_type": "code",
   "execution_count": 95,
   "metadata": {},
   "outputs": [],
   "source": [
    "diag_CR = 1e11*np.array([1, 1, 1]) \n",
    "CR=np.diag(diag_CR)"
   ]
  },
  {
   "cell_type": "code",
   "execution_count": 96,
   "metadata": {},
   "outputs": [
    {
     "data": {
      "text/plain": [
       "array([[1.e+11, 0.e+00, 0.e+00],\n",
       "       [0.e+00, 1.e+11, 0.e+00],\n",
       "       [0.e+00, 0.e+00, 1.e+11]])"
      ]
     },
     "execution_count": 96,
     "metadata": {},
     "output_type": "execute_result"
    }
   ],
   "source": [
    "CR"
   ]
  },
  {
   "cell_type": "code",
   "execution_count": 97,
   "metadata": {},
   "outputs": [],
   "source": [
    "def d_me(φ,θ,ψ,Ret,fun,omega):\n",
    "    A=np.multiply(np.multiply(Ret,CR),Ret)\n",
    "    B=d_s(fun,φ,θ,ψ,None,omega.astype(np.float32))\n",
    " \n",
    "    return np.einsum('ijk,ik->ij', A,B.T.astype(np.float32)) "
   ]
  },
  {
   "cell_type": "code",
   "execution_count": 98,
   "metadata": {},
   "outputs": [
    {
     "name": "stdout",
     "output_type": "stream",
     "text": [
      "0:00:00.000788\n"
     ]
    }
   ],
   "source": [
    "startTime1 = datetime.now()\n",
    "d_me_=d_me(φ,θ,ψ,Ret,ωe, ωe(φ,θ,ψ,None,None))\n",
    "print(datetime.now() - startTime1)"
   ]
  },
  {
   "cell_type": "code",
   "execution_count": 99,
   "metadata": {},
   "outputs": [
    {
     "data": {
      "text/plain": [
       "array([[0., 0., 0.],\n",
       "       [0., 0., 0.],\n",
       "       [0., 0., 0.],\n",
       "       [0., 0., 0.]])"
      ]
     },
     "execution_count": 99,
     "metadata": {},
     "output_type": "execute_result"
    }
   ],
   "source": [
    "d_me_"
   ]
  },
  {
   "cell_type": "code",
   "execution_count": 100,
   "metadata": {},
   "outputs": [],
   "source": [
    "diag_DR = 1.5*np.array([1, 1, 1]) \n",
    " \n",
    "DR=np.diag(diag_DR)"
   ]
  },
  {
   "cell_type": "code",
   "execution_count": 101,
   "metadata": {},
   "outputs": [],
   "source": [
    "# np.dot(Re_b, np.dot( Irho_e, (np.dot(Π(φ,θ,ψ), np.array([ddφ,ddθ,ddψ])))))=\n",
    "# -np.dot(Re_b,np.dot(Irho_e,np.dot(Π(dφ,dθ,dψ),np.array([dφ,dθ,dψ])))-\n",
    "# np.cross(np.dot(Π(φ,θ,ψ),np.array([dφ,dθ,dψ])),np.dot(Irho_e, np.dot(Π(φ,θ,ψ),np.array([dφ,dθ,dψ]))))+\n",
    "# np.dot(Re_b,d_s(me_[0],me_[1],me_[2],dt,ds)+d_s(me_[0],me_[1],me_[2],dt,ds))+\n",
    "# np.cross(d_s(x,y,z,dt,ds),ne(x,y,z,φ,θ,ψ,dt,ds))+\n",
    "# np.dot(Re_b,-np.dot(DR,np.dot(Π(φ,θ,ψ),np.array([dφ,dθ,dψ]))))"
   ]
  },
  {
   "cell_type": "code",
   "execution_count": 102,
   "metadata": {},
   "outputs": [
    {
     "data": {
      "text/plain": [
       "array([[  7023.63139699,  -8792.90983001,    740.67762829,\n",
       "         13068.31277941],\n",
       "       [  -583.35365714,   4828.062985  ,   -270.12783753,\n",
       "         21991.44209543],\n",
       "       [ -2334.40231667,   4013.45076884,   -605.33256443,\n",
       "        -20932.52207203]])"
      ]
     },
     "execution_count": 102,
     "metadata": {},
     "output_type": "execute_result"
    }
   ],
   "source": [
    "ne_(dx,dy,dz,DT,Ret)"
   ]
  },
  {
   "cell_type": "code",
   "execution_count": 103,
   "metadata": {},
   "outputs": [],
   "source": [
    "C=ne(x,y,z,Ret,ωe(φ,θ,ψ,None,None))\n",
    "  \n",
    "a,b,c=C[:,0],C[:,1],C[:,2]"
   ]
  },
  {
   "cell_type": "code",
   "execution_count": 104,
   "metadata": {},
   "outputs": [
    {
     "data": {
      "text/plain": [
       "(4, 3, 3)"
      ]
     },
     "execution_count": 104,
     "metadata": {},
     "output_type": "execute_result"
    }
   ],
   "source": [
    "Re_b(Ret).shape"
   ]
  },
  {
   "cell_type": "code",
   "execution_count": 105,
   "metadata": {},
   "outputs": [
    {
     "data": {
      "text/plain": [
       "array([[  7023.63139699,   -583.35365714,  -2334.40231667],\n",
       "       [ -8792.90983001,   4828.062985  ,   4013.45076884],\n",
       "       [   740.67762829,   -270.12783753,   -605.33256443],\n",
       "       [ 13068.31277941,  21991.44209543, -20932.52207203]])"
      ]
     },
     "execution_count": 105,
     "metadata": {},
     "output_type": "execute_result"
    }
   ],
   "source": [
    "ne_(dx,dy,dz,DT, Ret).T"
   ]
  },
  {
   "cell_type": "code",
   "execution_count": 106,
   "metadata": {},
   "outputs": [
    {
     "data": {
      "text/plain": [
       "(numpy.ndarray,\n",
       " array([ 104.66886445, -157.51644178,  100.36602847,   12.7877772 ]),\n",
       " array([  2.45353746,  93.28305479, 156.63328314, 262.91579117]),\n",
       " array([ 0.82650185,  0.4744038 , -0.19820119, -2.38964188]),\n",
       " numpy.ndarray,\n",
       " array([-0.20993632,  1.33590874,  0.3411126 , -0.09636757]))"
      ]
     },
     "execution_count": 106,
     "metadata": {},
     "output_type": "execute_result"
    }
   ],
   "source": [
    "type(x),y,z,dx,type(dy),dz"
   ]
  },
  {
   "cell_type": "code",
   "execution_count": 107,
   "metadata": {},
   "outputs": [
    {
     "data": {
      "text/plain": [
       "array([[ 11808.62284187,   4912.62693295,   -913.42121099],\n",
       "       [-14206.51326782,    504.25829249,  12303.85838388],\n",
       "       [  1013.32213964,    288.71315485,  -1380.80765949],\n",
       "       [  8713.98233595,  43352.17302026, -45778.72345498]])"
      ]
     },
     "execution_count": 107,
     "metadata": {},
     "output_type": "execute_result"
    }
   ],
   "source": [
    "ne_(dx,dy,dz,DT,Ret).T+np.einsum('ijk,ik->ij', Re_b(Ret),ne_(dx,dy,dz,DT,Ret).T.astype(np.float32))"
   ]
  },
  {
   "cell_type": "code",
   "execution_count": 108,
   "metadata": {},
   "outputs": [
    {
     "data": {
      "text/plain": [
       "array([[  7023.63139699,   -583.35365714,  -2334.40231667],\n",
       "       [ -8792.90983001,   4828.062985  ,   4013.45076884],\n",
       "       [   740.67762829,   -270.12783753,   -605.33256443],\n",
       "       [ 13068.31277941,  21991.44209543, -20932.52207203]])"
      ]
     },
     "execution_count": 108,
     "metadata": {},
     "output_type": "execute_result"
    }
   ],
   "source": [
    "ne_(dx,dy,dz,DT,Ret).T"
   ]
  },
  {
   "cell_type": "markdown",
   "metadata": {},
   "source": [
    "### Vessel"
   ]
  },
  {
   "cell_type": "code",
   "execution_count": 109,
   "metadata": {},
   "outputs": [],
   "source": [
    "class VesselSemisub: # Semisub model from Fossen\n",
    "    \n",
    "    def __init__(self):\n",
    "        \n",
    "        MRB = 1.0e10 * np.array(\n",
    "            [\n",
    "                [0.0027, 0, 0, 0, -0.0530, 0],\n",
    "                [0, 0.0027, 0, 0.0530, 0, -0.0014],\n",
    "                [0, 0, 0.0027, 0, 0.0014, 0],\n",
    "                [0, 0.0530, 0, 3.4775, 0, -0.0265],\n",
    "                [-0.0530, 0, 0.0014, 0, 3.8150, 0],\n",
    "                [0, -0.0014, 0, -0.0265, 0, 3.7192],\n",
    "            ],\n",
    "            float,\n",
    "        )\n",
    "\n",
    "        MA = 1.0e10 * np.array(\n",
    "            [\n",
    "                [0.0017, 0, 0, 0, -0.0255, 0],\n",
    "                [0, 0.0042, 0, 0.0365, 0, 0],\n",
    "                [0, 0, 0.0021, 0, 0, 0],\n",
    "                [0, 0.0365, 0, 1.3416, 0, 0],\n",
    "                [-0.0255, 0, 0, 0, 2.2267, 0],\n",
    "                [0, 0, 0, 0, 0, 3.2049],\n",
    "            ],\n",
    "            float,\n",
    "        )\n",
    "\n",
    "        self.D = 1.0e09 * np.array(\n",
    "            [\n",
    "                [0.0004, 0, 0, 0, -0.0085, 0],\n",
    "                [0, 0.0003, 0, 0.0067, 0, -0.0002],\n",
    "                [0, 0, 0.0034, 0, 0.0017, 0],\n",
    "                [0, 0.0067, 0, 4.8841, 0, -0.0034],\n",
    "                [-0.0085, 0, 0.0017, 0, 7.1383, 0],\n",
    "                [0, -0.0002, 0, -0.0034, 0, 0.8656],\n",
    "            ],\n",
    "            float,\n",
    "        )\n",
    "\n",
    "        self.G = 1.0e10 * np.diag([0.0, 0.0, 0.0006, 1.4296, 2.6212, 0.0])\n",
    "        self.M = MRB + MA\n",
    "\n",
    "    def eq_left(self,η, dη):\n",
    "        return (np.matmul(self.D, dη) + np.dot(self.G,η))\n",
    "        \n",
    "    def tau(self,η, dη, ddη):\n",
    "        return (np.matmul(self.M,ddη) + np.matmul(self.D, dη) + np.dot(self.G,η))"
   ]
  },
  {
   "cell_type": "code",
   "execution_count": 110,
   "metadata": {},
   "outputs": [],
   "source": [
    "V=VesselSemisub()"
   ]
  },
  {
   "cell_type": "code",
   "execution_count": 111,
   "metadata": {},
   "outputs": [],
   "source": [
    "η=np.array([0.1,0.3,0.4,0.5,0.6,0.7])\n",
    "dη=np.array([0,0,0,0,0,0])\n",
    "ddη=np.array([0,0,0,0,0,0])"
   ]
  },
  {
   "cell_type": "code",
   "execution_count": 112,
   "metadata": {},
   "outputs": [],
   "source": [
    "tau_force = V.tau(η,dη, ddη)"
   ]
  },
  {
   "cell_type": "code",
   "execution_count": 113,
   "metadata": {},
   "outputs": [
    {
     "data": {
      "text/plain": [
       "array([0.00000e+00, 0.00000e+00, 2.40000e+06, 7.14800e+09, 1.57272e+10,\n",
       "       0.00000e+00])"
      ]
     },
     "execution_count": 113,
     "metadata": {},
     "output_type": "execute_result"
    }
   ],
   "source": [
    "tau_force"
   ]
  },
  {
   "cell_type": "code",
   "execution_count": 114,
   "metadata": {},
   "outputs": [],
   "source": [
    "class VesselOtter: \n",
    "    \n",
    "    def __init__(\n",
    "        self, \n",
    "        controlSystem=\"stepInput\", \n",
    "        r = 0, \n",
    "        V_current = 0, \n",
    "        beta_current = 0,\n",
    "        tau_X = 120\n",
    "    ):\n",
    "        \n",
    "        # Constants\n",
    "        D2R = math.pi / 180     # deg2rad\n",
    "        self.g = 9.81           # acceleration of gravity (m/s^2)\n",
    "        rho = 1026              # density of water (kg/m^3)\n",
    "\n",
    "        if controlSystem == \"headingAutopilot\":\n",
    "            self.controlDescription = (\n",
    "                \"Heading autopilot, psi_d = \"\n",
    "                + str(r)\n",
    "                + \" deg\"\n",
    "                )\n",
    "        else:\n",
    "            self.controlDescription = \"Step inputs for n1 and n2\"\n",
    "            controlSystem = \"stepInput\"\n",
    "\n",
    "        self.ref = r\n",
    "        self.V_c = V_current\n",
    "        self.beta_c = beta_current * D2R\n",
    "        self.controlMode = controlSystem\n",
    "        self.tauX = tau_X  # surge force (N)\n",
    "\n",
    "        # Initialize the Otter USV model\n",
    "        self.T_n = 1.0  # propeller time constants (s)\n",
    "        self.L = 2.0    # Length (m)\n",
    "        self.B = 1.08   # beam (m)\n",
    "        self.nu = np.array([0, 0, 0, 0, 0, 0], float)  # velocity vector\n",
    "        self.u_actual = np.array([0, 0], float)  # propeller revolution states\n",
    "        self.name = \"Otter USV (see 'otter.py' for more details)\"\n",
    "\n",
    "        self.controls = [\n",
    "            \"Left propeller shaft speed (rad/s)\",\n",
    "            \"Right propeller shaft speed (rad/s)\"\n",
    "        ]\n",
    "        self.dimU = len(self.controls)\n",
    "\n",
    "        # Vehicle parameters\n",
    "        m = 55.0                                 # mass (kg)\n",
    "        self.mp = 25.0                           # Payload (kg)\n",
    "        self.m_total = m + self.mp\n",
    "        self.rp = np.array([0.05, 0, -0.35], float) # location of payload (m)\n",
    "        rg = np.array([0.2, 0, -0.2], float)     # CG for hull only (m)\n",
    "        rg = (m * rg + self.mp * self.rp) / (m + self.mp)  # CG corrected for payload\n",
    "        self.S_rg = Smtrx(rg)\n",
    "        self.H_rg = Hmtrx(rg)\n",
    "        self.S_rp = Smtrx(self.rp)\n",
    "\n",
    "        R44 = 0.4 * self.B  # radii of gyration (m)\n",
    "        R55 = 0.25 * self.L\n",
    "        R66 = 0.25 * self.L\n",
    "        T_yaw = 1.0         # time constant in yaw (s)\n",
    "        Umax = 6 * 0.5144   # max forward speed (m/s)\n",
    "\n",
    "        # Data for one pontoon\n",
    "        self.B_pont = 0.25  # beam of one pontoon (m)\n",
    "        y_pont = 0.395      # distance from centerline to waterline centroid (m)\n",
    "        Cw_pont = 0.75      # waterline area coefficient (-)\n",
    "        Cb_pont = 0.4       # block coefficient, computed from m = 55 kg\n",
    "\n",
    "        # Inertia dyadic, volume displacement and draft\n",
    "        nabla = (m + self.mp) / rho  # volume\n",
    "        self.T = nabla / (2 * Cb_pont * self.B_pont * self.L)  # draft\n",
    "        Ig_CG = m * np.diag(np.array([R44 ** 2, R55 ** 2, R66 ** 2]))\n",
    "        self.Ig = Ig_CG - m * self.S_rg @ self.S_rg - self.mp * self.S_rp @ self.S_rp\n",
    "\n",
    "        # Experimental propeller data including lever arms\n",
    "        self.l1 = -y_pont  # lever arm, left propeller (m)\n",
    "        self.l2 = y_pont  # lever arm, right propeller (m)\n",
    "        self.k_pos = 0.02216 / 2  # Positive Bollard, one propeller\n",
    "        self.k_neg = 0.01289 / 2  # Negative Bollard, one propeller\n",
    "        self.n_max = math.sqrt((0.5 * 24.4 * self.g) / self.k_pos)  # max. prop. rev.\n",
    "        self.n_min = -math.sqrt((0.5 * 13.6 * self.g) / self.k_neg) # min. prop. rev.\n",
    "\n",
    "        # MRB_CG = [ (m+mp) * I3  O3      (Fossen 2021, Chapter 3)\n",
    "        #               O3       Ig ]\n",
    "        MRB_CG = np.zeros((6, 6))\n",
    "        MRB_CG[0:3, 0:3] = (m + self.mp) * np.identity(3)\n",
    "        MRB_CG[3:6, 3:6] = self.Ig\n",
    "        MRB = self.H_rg.T @ MRB_CG @ self.H_rg\n",
    "        \n",
    "\n",
    "        # Hydrodynamic added mass (best practice)\n",
    "        Xudot = -0.1 * m\n",
    "        Yvdot = -1.5 * m\n",
    "        Zwdot = -1.0 * m\n",
    "        Kpdot = -0.2 * self.Ig[0, 0]\n",
    "        Mqdot = -0.8 * self.Ig[1, 1]\n",
    "        Nrdot = -1.7 * self.Ig[2, 2]\n",
    "\n",
    "        self.MA = -np.diag([Xudot, Yvdot, Zwdot, Kpdot, Mqdot, Nrdot])\n",
    "\n",
    "        # System mass matrix\n",
    "        self.M = MRB + self.MA\n",
    "        self.Minv = np.linalg.inv(self.M.astype(np.float32))\n",
    "\n",
    "        # Hydrostatic quantities (Fossen 2021, Chapter 4)\n",
    "        Aw_pont = Cw_pont * self.L * self.B_pont  # waterline area, one pontoon\n",
    "        I_T = (\n",
    "            2\n",
    "            * (1 / 12)\n",
    "            * self.L\n",
    "            * self.B_pont ** 3\n",
    "            * (6 * Cw_pont ** 3 / ((1 + Cw_pont) * (1 + 2 * Cw_pont)))\n",
    "            + 2 * Aw_pont * y_pont ** 2\n",
    "        )\n",
    "        I_L = 0.8 * 2 * (1 / 12) * self.B_pont * self.L ** 3\n",
    "        KB = (1 / 3) * (5 * self.T / 2 - 0.5 * nabla / (self.L * self.B_pont))\n",
    "        BM_T = I_T / nabla  # BM values\n",
    "        BM_L = I_L / nabla\n",
    "        KM_T = KB + BM_T    # KM values\n",
    "        KM_L = KB + BM_L\n",
    "        KG = self.T - rg[2]\n",
    "        GM_T = KM_T - KG    # GM values\n",
    "        GM_L = KM_L - KG\n",
    "\n",
    "        G33 = rho * self.g * (2 * Aw_pont)  # spring stiffness\n",
    "        G44 = rho * self.g * nabla * GM_T\n",
    "        G55 = rho * self.g * nabla * GM_L\n",
    "        G_CF = np.diag([0, 0, G33, G44, G55, 0])  # spring stiff. matrix in CF\n",
    "        LCF = -0.2\n",
    "        H = Hmtrx(np.array([LCF, 0.0, 0.0]))  # transform G_CF from CF to CO\n",
    "        self.G = H.T @ G_CF @ H\n",
    "\n",
    "        # Natural frequencies\n",
    "        w3 = math.sqrt(G33 / self.M[2, 2])\n",
    "        w4 = math.sqrt(G44 / self.M[3, 3])\n",
    "        w5 = math.sqrt(G55 / self.M[4, 4])\n",
    "\n",
    "        # Linear damping terms (hydrodynamic derivatives)\n",
    "        Xu = -24.4 *self. g / Umax  # specified using the maximum speed\n",
    "        Yv = 0\n",
    "        Zw = -2 * 0.3 * w3 * self.M[2, 2]  # specified using relative damping\n",
    "        Kp = -2 * 0.2 * w4 * self.M[3, 3]\n",
    "        Mq = -2 * 0.4 * w5 * self.M[4, 4]\n",
    "        Nr = -self.M[5, 5] / T_yaw  # specified by the time constant T_yaw\n",
    "\n",
    "        self.D = -np.diag([Xu, Yv, Zw, Kp, Mq, Nr])\n",
    "\n",
    "        # Propeller configuration/input matrix\n",
    "        B = self.k_pos * np.array([[1, 1], [-self.l1, -self.l2]])\n",
    "        self.Binv = np.linalg.inv(B.astype(np.float32))\n",
    "\n",
    "        # Heading autopilot\n",
    "        self.e_int = 0  # integral state\n",
    "        self.wn = 1.2  # PID pole placement\n",
    "        self.zeta = 0.8\n",
    "\n",
    "        # Reference model\n",
    "        self.r_max = 10 * math.pi / 180  # maximum yaw rate\n",
    "        self.psi_d = 0  # angle, angular rate and angular acc. states\n",
    "        self.r_d = 0\n",
    "        self.a_d = 0\n",
    "        self.wn_d = self.wn / 5  # desired natural frequency in yaw\n",
    "        self.zeta_d = 1  # desired relative damping ratio\n",
    "    \n",
    "    \n",
    "    def eq_left(self,η, dη):\n",
    "        \n",
    "        CRB_CG = np.zeros((6, 6))\n",
    "        CRB_CG[0:3, 0:3] = self.m_total * Smtrx(dη[3:6])\n",
    "        CRB_CG[3:6, 3:6] = -Smtrx(np.matmul(self.Ig, dη[3:6]))\n",
    "        CRB = self.H_rg.T @ CRB_CG @ self.H_rg  # transform CRB from CG to CO\n",
    "\n",
    "        CA = m2c(self.MA, dη)\n",
    "        CA[5, 0] = 0  # assume that the Munk moment in yaw can be neglected\n",
    "        CA[5, 1] = 0  # if nonzero, must be balanced by adding nonlinear damping\n",
    "        CA[0, 5] = 0\n",
    "        CA[1, 5] = 0\n",
    "\n",
    "        C = CRB + CA\n",
    "\n",
    "        return (np.matmul(self.D, dη) + np.matmul(C, dη) + np.dot(self.G,η))\n",
    "        \n",
    "    def tau(self,η, dη, ddη):\n",
    "\n",
    "        \n",
    "        CRB_CG = np.zeros((6, 6))\n",
    "        CRB_CG[0:3, 0:3] = self.m_total * Smtrx(dη[3:6])\n",
    "        CRB_CG[3:6, 3:6] = -Smtrx(np.matmul(self.Ig, dη[3:6]))\n",
    "        CRB = self.H_rg.T @ CRB_CG @ self.H_rg  # transform CRB from CG to CO\n",
    "\n",
    "        CA = m2c(self.MA, dη)\n",
    "        CA[5, 0] = 0  # assume that the Munk moment in yaw can be neglected\n",
    "        CA[5, 1] = 0  # if nonzero, must be balanced by adding nonlinear damping\n",
    "        CA[0, 5] = 0\n",
    "        CA[1, 5] = 0\n",
    "\n",
    "        C = CRB + CA\n",
    "        return (np.matmul(self.M,ddη) + np.matmul(self.D, dη) + np.matmul(C, dη)+ np.dot(self.G,η))\n",
    "    "
   ]
  },
  {
   "cell_type": "code",
   "execution_count": 115,
   "metadata": {},
   "outputs": [],
   "source": [
    "V=VesselOtter()"
   ]
  },
  {
   "cell_type": "code",
   "execution_count": 116,
   "metadata": {},
   "outputs": [],
   "source": [
    "η=np.array([0.1,0.3,0.4,0.5,0.6,0.7])\n",
    "dη=np.array([0,0,0,0,0,0])\n",
    "ddη=np.array([0,0,0,0,0,0])"
   ]
  },
  {
   "cell_type": "code",
   "execution_count": 117,
   "metadata": {},
   "outputs": [],
   "source": [
    "tau_force = V.tau(η,dη, ddη)"
   ]
  },
  {
   "cell_type": "code",
   "execution_count": 118,
   "metadata": {},
   "outputs": [
    {
     "data": {
      "text/plain": [
       "array([   0.        ,    0.        , 3925.3734    ,  484.24424147,\n",
       "       2251.69893789,    0.        ])"
      ]
     },
     "execution_count": 118,
     "metadata": {},
     "output_type": "execute_result"
    }
   ],
   "source": [
    "tau_force"
   ]
  },
  {
   "cell_type": "code",
   "execution_count": 119,
   "metadata": {},
   "outputs": [
    {
     "data": {
      "text/plain": [
       "array([3.5, 5. ])"
      ]
     },
     "execution_count": 119,
     "metadata": {},
     "output_type": "execute_result"
    }
   ],
   "source": [
    "np.matmul(np.array([[1.1,1.2],[1,2]]),np.array([1,2]))"
   ]
  },
  {
   "cell_type": "code",
   "execution_count": 120,
   "metadata": {},
   "outputs": [],
   "source": [
    "V=VesselSemisub()"
   ]
  },
  {
   "cell_type": "code",
   "execution_count": 121,
   "metadata": {},
   "outputs": [],
   "source": [
    "# wave_force=9e6\n",
    "# wave_force=9e3\n",
    "# wave_force=0\n",
    "kp, kd=1.95e4,1.5e4\n",
    "# kp,kd=1.95e2, 1.5e2\n",
    "# kp,kd=1.95, 1.5\n",
    "wave_coef=1\n",
    "# kp,kd=1.95e16, 1.5e16"
   ]
  },
  {
   "cell_type": "code",
   "execution_count": 122,
   "metadata": {},
   "outputs": [],
   "source": [
    "def Fx(x,dx, kp, kd, x_ref = 0, dx_ref=0):\n",
    "    return -kp*(x-x_ref) - kd*(dx-dx_ref)"
   ]
  },
  {
   "cell_type": "code",
   "execution_count": 123,
   "metadata": {},
   "outputs": [],
   "source": [
    "Hs = 2.5 # significant wave height in m"
   ]
  },
  {
   "cell_type": "code",
   "execution_count": 124,
   "metadata": {},
   "outputs": [],
   "source": [
    "def wave_force(Hs,d0,qw, Cd=1.2):\n",
    "    g=9.81 \n",
    "    return 0.5 * qw * g * Hs**2 * d0 * Cd"
   ]
  },
  {
   "cell_type": "code",
   "execution_count": 125,
   "metadata": {},
   "outputs": [
    {
     "data": {
      "text/plain": [
       "28695.1696875"
      ]
     },
     "execution_count": 125,
     "metadata": {},
     "output_type": "execute_result"
    }
   ],
   "source": [
    "wave_force(Hs,d0,qw, Cd=1.2)"
   ]
  },
  {
   "cell_type": "code",
   "execution_count": 126,
   "metadata": {},
   "outputs": [
    {
     "data": {
      "text/plain": [
       "array([0.1, 0.3, 0.4, 0.5, 0.6, 0.7])"
      ]
     },
     "execution_count": 126,
     "metadata": {},
     "output_type": "execute_result"
    }
   ],
   "source": [
    "η"
   ]
  },
  {
   "cell_type": "code",
   "execution_count": 127,
   "metadata": {},
   "outputs": [],
   "source": [
    "def tau(η, dη, wave_coef, kp, kd,time, Hs=2.5, Tp=10, x_ref = 0, dx_ref=0):\n",
    "    x,y,z,φ,θ,ψ=η\n",
    "    dx,dy,dz,dφ,dθ,dψ=dη\n",
    "    F=(np.array([-Fx(x,dx, kp, kd, x_ref, dx_ref),0,0])\n",
    "       +wave_coef*np.array([wave_force(Hs,d0,qw),0,0])*np.sin(2*np.pi/Tp*time+1)\n",
    "      ).T\n",
    "    Ret=Re_t_([φ,θ,ψ])\n",
    "    \n",
    "    ans=np.concatenate([np.dot(Re_b(Ret), F),[0,0,0]], axis=0)\n",
    "    ans[2]=0 #!!!!!!!!!!!!!!!!!!!!!!!!!!!!!!!!!!!!!!!!!!!!!!!!!!!!!!!!!!!!!!!!\n",
    "    return ans"
   ]
  },
  {
   "cell_type": "code",
   "execution_count": 128,
   "metadata": {},
   "outputs": [
    {
     "name": "stdout",
     "output_type": "stream",
     "text": [
      "[5828.76914536 7132.08869406    0.            0.            0.\n",
      "    0.        ]\n"
     ]
    }
   ],
   "source": [
    "# for i in range(100):\n",
    "print(tau(η, dη, wave_coef, kp, kd,3))"
   ]
  },
  {
   "cell_type": "markdown",
   "metadata": {},
   "source": [
    "### Static solution"
   ]
  },
  {
   "cell_type": "code",
   "execution_count": 129,
   "metadata": {},
   "outputs": [],
   "source": [
    "def catenary(x,Ws,Fh):\n",
    "    return (Fh/Ws)*(np.cosh(x*Ws/Fh)-1)"
   ]
  },
  {
   "cell_type": "code",
   "execution_count": 130,
   "metadata": {},
   "outputs": [],
   "source": [
    "pipe_weight_per_unit_length = mp #  (submerged) [kg/m]  # 113.07 - not submerged"
   ]
  },
  {
   "cell_type": "code",
   "execution_count": 131,
   "metadata": {},
   "outputs": [],
   "source": [
    "Fx_0=82945396"
   ]
  },
  {
   "cell_type": "code",
   "execution_count": 132,
   "metadata": {},
   "outputs": [],
   "source": [
    "Ws = pipe_weight_per_unit_length*9.81 # [N/m]\n",
    "h=700"
   ]
  },
  {
   "cell_type": "code",
   "execution_count": 133,
   "metadata": {},
   "outputs": [],
   "source": [
    "S=math.sqrt(h*(2*Fx_0/Ws -h))\n",
    "horizontal_length=(Fx_0/Ws -h)*np.log((S+Fx_0/Ws)/(Fx_0/Ws-h))"
   ]
  },
  {
   "cell_type": "code",
   "execution_count": 134,
   "metadata": {},
   "outputs": [],
   "source": [
    "delta_x=horizontal_length/(node_N-1)"
   ]
  },
  {
   "cell_type": "code",
   "execution_count": 135,
   "metadata": {},
   "outputs": [],
   "source": [
    "x0=[i*delta_x for i in range(node_N)]\n",
    "z0=[]\n",
    "for i in range(len(x0)):\n",
    "    z0.append(catenary(x0[i],Ws,Fx_0))"
   ]
  },
  {
   "cell_type": "code",
   "execution_count": 136,
   "metadata": {},
   "outputs": [
    {
     "data": {
      "text/plain": [
       "([0.0, 3684.228281487207, 7368.456562974414, 11052.68484446162],\n",
       " [0.0, 77.06804644731459, 308.40705929683963, 694.4218951076863])"
      ]
     },
     "execution_count": 136,
     "metadata": {},
     "output_type": "execute_result"
    }
   ],
   "source": [
    "x0,z0"
   ]
  },
  {
   "cell_type": "code",
   "execution_count": 137,
   "metadata": {},
   "outputs": [
    {
     "data": {
      "image/png": "[encoded data removed]",
      "text/plain": [
       "<Figure size 432x288 with 1 Axes>"
      ]
     },
     "metadata": {
      "needs_background": "light"
     },
     "output_type": "display_data"
    }
   ],
   "source": [
    "plt.plot(x0, z0)\n",
    "plt.show()"
   ]
  },
  {
   "cell_type": "code",
   "execution_count": 138,
   "metadata": {},
   "outputs": [],
   "source": [
    "rng = np.random.default_rng(seed=29)\n",
    "q0=np.zeros(12*node_N)"
   ]
  },
  {
   "cell_type": "code",
   "execution_count": 139,
   "metadata": {},
   "outputs": [],
   "source": [
    "for j in range(1,12):\n",
    "    if j==1:  \n",
    "        q0[(j-1)*node_N:j*node_N]=x0\n",
    "    elif j==5:    \n",
    "        q0[(j-1)*node_N:j*node_N]=z0\n",
    "#     elif j==9:    \n",
    "#         q0[(j-1)*node_N:j*node_N]=rng.standard_normal(node_N)\n",
    "#     elif j==11:   \n",
    "#         q0[(j-1)*node_N:j*node_N]=rng.standard_normal(node_N)"
   ]
  },
  {
   "cell_type": "code",
   "execution_count": 140,
   "metadata": {},
   "outputs": [],
   "source": [
    "def static_func(Q):\n",
    "    t=0\n",
    " \n",
    "    x,y,z=Q[0:node_N],Q[2*node_N:3*node_N],Q[4*node_N:5*node_N]\n",
    "    dx,dy,dz=Q[1*node_N:2*node_N],Q[3*node_N:4*node_N],Q[5*node_N:6*node_N]\n",
    "    φ,θ,ψ=Q[6*node_N:7*node_N],Q[8*node_N:9*node_N],Q[10*node_N:11*node_N]\n",
    "    Ret = Re_t(φ,θ,ψ)\n",
    "\n",
    "    \n",
    "    dφ,dθ,dψ=Q[7*node_N:8*node_N],Q[9*node_N:10*node_N],Q[11*node_N:12*node_N]\n",
    "    \n",
    "    η=[x[-1],y[-1],z[-1],φ[-1],θ[-1],ψ[-1]]\n",
    "    \n",
    "    tau_force=np.array([-Fx_0,0,0,0,0,0])\n",
    "\n",
    "    \n",
    "    \n",
    "#     C=ne(x,y,z,Ret)\n",
    "#     a,b,c=C[:,0],C[:,1],C[:,2]\n",
    "\n",
    "#     Z0=tau_force[:3]\n",
    "\n",
    "    Z0=np.dot(Re_b(Ret),tau_force[:3])\n",
    "#     Z1 = d_s(ne, x, y, z, Ret, ωe(φ,θ,ψ,None,None)).T\n",
    "    Z1 = d_s(ne, x, y, z, Ret, phi(x,y,z,Ret,None)).T\n",
    "    DT_0=np.zeros((3,3))\n",
    "    Z2=ne_(dx,dy,dz,DT_0,Ret).T\n",
    "    \n",
    "    \n",
    "    Z =  Z1 + Z2 + Z0\n",
    "    \n",
    "############################################################    \n",
    "    ddx,ddy, ddz = np.linalg.solve(Ws*Re_b(Ret),Z).T \n",
    "#     tmp=np.linalg.solve(Ret,np.vstack([ddx_phi, ddy_phi, ddz_phi]).T)\n",
    "#     ddx, ddy, ddz = tmp[:,0],tmp[:,1],tmp[:,2]\n",
    "    \n",
    "#     tmp=phi(ddx_phi,ddy_phi, ddz_phi, Ret)\n",
    "#     ddx, ddy, ddz = tmp[:,0],tmp[:,1],tmp[:,2]\n",
    "############################################################    \n",
    "#     ans_x=[]\n",
    "#     ans_y=[]\n",
    "#     ans_z=[]\n",
    "#     RRRR=Re_b(Ret)\n",
    "#     for i in range(len(RRRR)):\n",
    "#         a,b,c=1/Ws*np.linalg.lstsq(RRRR[i],Z[i], rcond=None)[0]\n",
    "#         ans_x.append(a)\n",
    "#         ans_y.append(b)\n",
    "#         ans_z.append(c)\n",
    "    \n",
    "#     ddx,ddy, ddz = np.array(ans_x),np.array(ans_y),np.array(ans_z)    \n",
    "    \n",
    "   \n",
    "    C0=np.einsum('ijk,kp->ijp',np.einsum('ijk,ikr->ijr',np.linalg.inv(Π(φ,θ,ψ).astype(np.float32)),\n",
    "                        Re_b(Ret)),tau_force[3:].reshape(3,1)) \n",
    "#     C3= d_s(me_[:,0],me_[:,1],me_[:, 2],x,y,z).astype(np.float32).T\n",
    "    C3=d_me(φ,θ,ψ,Ret,  ωe,ωe(φ,θ,ψ,None,None))\n",
    "    B_ =C3\n",
    "    B=(B_ + C0.squeeze()\n",
    "      )\n",
    "\n",
    "    A2 = Irho_e(Ret).astype(np.float32)\n",
    "    A3=Π(φ,θ,ψ).astype(np.float32)\n",
    "    A=np.einsum('ijk,ikr->ijr',A2,A3)\n",
    "#     A=np.einsum('ijk,ikr->ijr', Re_b(Ret), np.einsum('ijk,ikr->ijr',A2,A3))\n",
    "\n",
    "\n",
    "#############\n",
    "    ddφ,ddθ,ddψ = np.linalg.solve(A,B).T\n",
    "#############################################\n",
    "\n",
    "\n",
    "\n",
    "\n",
    "#     ans_φ=[]\n",
    "#     ans_θ=[]\n",
    "#     ans_ψ=[]\n",
    "#     for i in range(len(A)):\n",
    "#         a,b,c=np.linalg.lstsq(A[i],B[i], rcond=None)[0]\n",
    "#         ans_φ.append(a)\n",
    "#         ans_θ.append(b)\n",
    "#         ans_ψ.append(c)\n",
    "    \n",
    "#     ddφ,ddθ,ddψ=np.array(ans_φ),np.array(ans_θ),np.array(ans_ψ)\n",
    "    \n",
    "    \n",
    "\n",
    "    ans=np.concatenate([dx, ddx, dy, ddy, dz, ddz, dφ, ddφ, dθ, ddθ, dψ, ddψ], axis=0)\n",
    "  \n",
    " \n",
    "    return ans\n",
    "    "
   ]
  },
  {
   "cell_type": "code",
   "execution_count": 141,
   "metadata": {},
   "outputs": [
    {
     "data": {
      "text/plain": [
       "array([    0.        ,  3684.22828149,  7368.45656297, 11052.68484446,\n",
       "           0.        ,     0.        ,     0.        ,     0.        ,\n",
       "           0.        ,     0.        ,     0.        ,     0.        ,\n",
       "           0.        ,     0.        ,     0.        ,     0.        ,\n",
       "           0.        ,    77.06804645,   308.4070593 ,   694.42189511,\n",
       "           0.        ,     0.        ,     0.        ,     0.        ,\n",
       "           0.        ,     0.        ,     0.        ,     0.        ,\n",
       "           0.        ,     0.        ,     0.        ,     0.        ,\n",
       "           0.        ,     0.        ,     0.        ,     0.        ,\n",
       "           0.        ,     0.        ,     0.        ,     0.        ,\n",
       "           0.        ,     0.        ,     0.        ,     0.        ,\n",
       "           0.        ,     0.        ,     0.        ,     0.        ])"
      ]
     },
     "execution_count": 141,
     "metadata": {},
     "output_type": "execute_result"
    }
   ],
   "source": [
    "q0"
   ]
  },
  {
   "cell_type": "code",
   "execution_count": null,
   "metadata": {},
   "outputs": [],
   "source": []
  },
  {
   "cell_type": "code",
   "execution_count": 142,
   "metadata": {},
   "outputs": [
    {
     "name": "stderr",
     "output_type": "stream",
     "text": [
      "/Library/Frameworks/Python.framework/Versions/3.7/lib/python3.7/site-packages/scipy/optimize/minpack.py:175: RuntimeWarning: The iteration is not making good progress, as measured by the \n",
      "  improvement from the last ten iterations.\n",
      "  warnings.warn(msg, RuntimeWarning)\n"
     ]
    }
   ],
   "source": [
    "root = fsolve(static_func, q0)"
   ]
  },
  {
   "cell_type": "code",
   "execution_count": 143,
   "metadata": {},
   "outputs": [
    {
     "data": {
      "text/plain": [
       "array([    0.        ,  3684.22828149,  7368.45656297, 11052.68484446,\n",
       "           0.        ,     0.        ,     0.        ,     0.        ,\n",
       "           0.        ,     0.        ,     0.        ,     0.        ,\n",
       "           0.        ,     0.        ,     0.        ,     0.        ,\n",
       "           0.        ,    77.06804645,   308.4070593 ,   694.42189511,\n",
       "           0.        ,     0.        ,     0.        ,     0.        ,\n",
       "           0.        ,     0.        ,     0.        ,     0.        ,\n",
       "           0.        ,     0.        ,     0.        ,     0.        ,\n",
       "           0.        ,     0.        ,     0.        ,     0.        ,\n",
       "           0.        ,     0.        ,     0.        ,     0.        ,\n",
       "           0.        ,     0.        ,     0.        ,     0.        ,\n",
       "           0.        ,     0.        ,     0.        ,     0.        ])"
      ]
     },
     "execution_count": 143,
     "metadata": {},
     "output_type": "execute_result"
    }
   ],
   "source": [
    "root"
   ]
  },
  {
   "cell_type": "code",
   "execution_count": 144,
   "metadata": {},
   "outputs": [],
   "source": [
    "x0_,z0_=root[:node_N],root[4*node_N:5*node_N]"
   ]
  },
  {
   "cell_type": "code",
   "execution_count": 145,
   "metadata": {},
   "outputs": [
    {
     "data": {
      "text/plain": [
       "[0.0, 3684.228281487207, 7368.456562974414, 11052.68484446162]"
      ]
     },
     "execution_count": 145,
     "metadata": {},
     "output_type": "execute_result"
    }
   ],
   "source": [
    "x0"
   ]
  },
  {
   "cell_type": "code",
   "execution_count": 146,
   "metadata": {},
   "outputs": [
    {
     "data": {
      "text/plain": [
       "array([    0.        ,  3684.22828149,  7368.45656297, 11052.68484446])"
      ]
     },
     "execution_count": 146,
     "metadata": {},
     "output_type": "execute_result"
    }
   ],
   "source": [
    "x0_"
   ]
  },
  {
   "cell_type": "code",
   "execution_count": 147,
   "metadata": {},
   "outputs": [
    {
     "data": {
      "text/plain": [
       "[0.0, 77.06804644731459, 308.40705929683963, 694.4218951076863]"
      ]
     },
     "execution_count": 147,
     "metadata": {},
     "output_type": "execute_result"
    }
   ],
   "source": [
    "z0"
   ]
  },
  {
   "cell_type": "code",
   "execution_count": 148,
   "metadata": {},
   "outputs": [
    {
     "data": {
      "text/plain": [
       "array([  0.        ,  77.06804645, 308.4070593 , 694.42189511])"
      ]
     },
     "execution_count": 148,
     "metadata": {},
     "output_type": "execute_result"
    }
   ],
   "source": [
    "z0_"
   ]
  },
  {
   "cell_type": "code",
   "execution_count": 149,
   "metadata": {},
   "outputs": [
    {
     "data": {
      "image/png": "[encoded data removed]",
      "text/plain": [
       "<Figure size 432x288 with 1 Axes>"
      ]
     },
     "metadata": {
      "needs_background": "light"
     },
     "output_type": "display_data"
    }
   ],
   "source": [
    "plt.plot(x0_, z0_)\n",
    "plt.show()"
   ]
  },
  {
   "cell_type": "code",
   "execution_count": 150,
   "metadata": {},
   "outputs": [],
   "source": [
    "for j in range(1,12):\n",
    "    if j==1:  \n",
    "        q0[(j-1)*node_N:j*node_N]=x0_\n",
    "    elif j==5:    \n",
    "        q0[(j-1)*node_N:j*node_N]=z0_\n",
    "#     elif j==9:    \n",
    "#         q0[(j-1)*node_N:j*node_N]=rng.standard_normal(node_N)\n",
    "#     elif j==11:   \n",
    "#         q0[(j-1)*node_N:j*node_N]=rng.standard_normal(node_N)\n",
    "    elif j==9:    \n",
    "        q0[(j-1)*node_N:j*node_N]=np.array([0,0,0,1])\n",
    "    elif j==11:   \n",
    "        q0[(j-1)*node_N:j*node_N]=np.array([0,0,0,1])"
   ]
  },
  {
   "cell_type": "code",
   "execution_count": 151,
   "metadata": {},
   "outputs": [],
   "source": [
    "# q0[10*node_N]=q0[8*node_N]=0"
   ]
  },
  {
   "cell_type": "code",
   "execution_count": 152,
   "metadata": {},
   "outputs": [
    {
     "data": {
      "text/plain": [
       "array([0.00000000e+00, 3.68422828e+03, 7.36845656e+03, 1.10526848e+04,\n",
       "       0.00000000e+00, 0.00000000e+00, 0.00000000e+00, 0.00000000e+00,\n",
       "       0.00000000e+00, 0.00000000e+00, 0.00000000e+00, 0.00000000e+00,\n",
       "       0.00000000e+00, 0.00000000e+00, 0.00000000e+00, 0.00000000e+00,\n",
       "       0.00000000e+00, 7.70680464e+01, 3.08407059e+02, 6.94421895e+02,\n",
       "       0.00000000e+00, 0.00000000e+00, 0.00000000e+00, 0.00000000e+00,\n",
       "       0.00000000e+00, 0.00000000e+00, 0.00000000e+00, 0.00000000e+00,\n",
       "       0.00000000e+00, 0.00000000e+00, 0.00000000e+00, 0.00000000e+00,\n",
       "       0.00000000e+00, 0.00000000e+00, 0.00000000e+00, 1.00000000e+00,\n",
       "       0.00000000e+00, 0.00000000e+00, 0.00000000e+00, 0.00000000e+00,\n",
       "       0.00000000e+00, 0.00000000e+00, 0.00000000e+00, 1.00000000e+00,\n",
       "       0.00000000e+00, 0.00000000e+00, 0.00000000e+00, 0.00000000e+00])"
      ]
     },
     "execution_count": 152,
     "metadata": {},
     "output_type": "execute_result"
    }
   ],
   "source": [
    "q0"
   ]
  },
  {
   "cell_type": "markdown",
   "metadata": {},
   "source": [
    "### Dynamics"
   ]
  },
  {
   "cell_type": "code",
   "execution_count": 153,
   "metadata": {},
   "outputs": [],
   "source": [
    "# def grayscott1d(Q,p,t):\n",
    "def grayscott1d(t, Q):\n",
    "#     print(t)\n",
    "     \n",
    "    x,y,z=Q[0:node_N],Q[2*node_N:3*node_N],Q[4*node_N:5*node_N]\n",
    "# #     x[-1]=x0[-1]+10*np.sin(t)\n",
    "#     x[-1]=x0_[-1]+100*np.sin(t)\n",
    "# #     y[-1]+=5*np.cos(t)\n",
    "# #     z[-1]=z0[-1]+2.5*np.sin(t)\n",
    "#     z[-1]=z0_[-1]+2.5*np.sin(t)\n",
    "\n",
    "#     x[0]=0\n",
    "#     y[0]=0\n",
    "#     z[0]=0\n",
    "\n",
    "    dx,dy,dz=Q[1*node_N:2*node_N],Q[3*node_N:4*node_N],Q[5*node_N:6*node_N]\n",
    "    \n",
    "#     dx[0]=0\n",
    "#     dy[0]=0\n",
    "#     dz[0]=0\n",
    "\n",
    "    φ,θ,ψ=Q[6*node_N:7*node_N],Q[8*node_N:9*node_N],Q[10*node_N:11*node_N]\n",
    "    \n",
    "    Ret = Re_t(φ,θ,ψ)\n",
    "\n",
    "    dφ,dθ,dψ=Q[7*node_N:8*node_N],Q[9*node_N:10*node_N],Q[11*node_N:12*node_N]\n",
    "    \n",
    "    η=[x[-1],y[-1],z[-1],φ[-1],θ[-1],ψ[-1]]\n",
    "    dη=[dx[-1],dy[-1],dz[-1],dφ[-1],dθ[-1],dψ[-1]]\n",
    "    \n",
    "    left=V.eq_left(η,dη)\n",
    "    hack =1\n",
    "    hack3=1\n",
    "    hack4=1e13\n",
    "    # PD controller after 30 sec\n",
    "    if t<30:\n",
    "        ddη=np.linalg.lstsq(V.M, -left + tau(η, dη, wave_coef, Fx_0/η[0], 0, t), rcond=None)[0]\n",
    "    else:\n",
    "\n",
    "        \n",
    "        ddη=np.linalg.lstsq(V.M.astype(np.float32)*hack, left.astype(np.float32) \n",
    "                            - hack3*tau(η,dη, wave_coef, kp, kd, t).astype(np.float32)\n",
    "                            , rcond=None)[0]\n",
    "#     print('ddη', ddη)\n",
    " \n",
    "    tau_force = V.tau(η,dη,ddη).astype(np.float32)\n",
    "#     tau_force = hack*tau(η,dη, wave_coef, kp, kd, t) # simple motion \n",
    "#     print(tau_force)\n",
    "#     C=ne(x,y,z,Ret)\n",
    "#     a,b,c=C[:,0],C[:,1],C[:,2]\n",
    "#     Z0=tau_force[:3]\n",
    "#     Z0=tau_force[:3]\n",
    "\n",
    "    Z0=np.dot(Re_b(Ret),tau_force[:3])\n",
    "#     print(Ret,Z0)\n",
    "#     print(x,z)\n",
    "   \n",
    "#     Z1 =d_s(ne, x, y, z, Ret, ωe(φ,θ,ψ,None,None)).T\n",
    "    Z1 =d_s(ne, x, y, z, Ret, phi(x,y,z,Ret,None)).T\n",
    "\n",
    "    Z2=ne_(dx,dy,dz,DT,Ret).T\n",
    "    \n",
    "    Z= (Z1 + Z2 \n",
    "        + Z0\n",
    "       )\n",
    "\n",
    "############################################################    \n",
    "#     ddx,ddy, ddz = 1/Ws*np.linalg.solve(Re_b(Ret),Z).T \n",
    "############################################################    \n",
    "    ans_x=[]\n",
    "    ans_y=[]\n",
    "    ans_z=[]\n",
    "    RRRR=Re_b(Ret)\n",
    "    hack2=1e-1\n",
    "    for i in range(len(RRRR)):\n",
    "        a,b,c=np.linalg.lstsq(hack4*Ws*RRRR[i]\n",
    "#                               +hack2*np.identity(3)\n",
    "                              , Z[i], rcond=None)[0]\n",
    "        ans_x.append(a)\n",
    "        ans_y.append(b)\n",
    "        ans_z.append(c)\n",
    "    \n",
    "    ddx,ddy, ddz = np.array(ans_x),np.array(ans_y),np.array(ans_z)\n",
    "#     print(ddx,ddy, ddz)\n",
    "    \n",
    "#     tmp=np.linalg.solve(Ret,np.vstack([ddx_phi, ddy_phi, ddz_phi]).T)\n",
    "#     ddx, ddy, ddz = tmp[:,0],tmp[:,1],tmp[:,2]\n",
    "    \n",
    "    \n",
    " \n",
    "    \n",
    " \n",
    "\n",
    "    C1=np.einsum('ijk,ik->ij', Irho_e(Ret).astype(np.float32),\n",
    "                                                        np.einsum('ijk,ik->ij', Π(dφ,dθ,dψ).astype(np.float32), \n",
    "                                                                  np.array([dφ,dθ,dψ]).astype(np.float32).T))\n",
    "    \n",
    "#     print(np.einsum('ijk,ik->ij',Π(φ,θ,ψ).astype(np.float32),np.array([dφ,dθ,dψ]).astype(np.float32).T))\n",
    "#     print(np.einsum('ijk,ik->ij',Irho_e(Ret).astype(np.float32),\n",
    "#                            np.einsum('ijk,ik->ij',Π(φ,θ,ψ).astype(np.float32),np.array([dφ,dθ,dψ]).astype(np.float32).T)))\n",
    "    C2= np.cross(np.einsum('ijk,ik->ij',Π(φ,θ,ψ).astype(np.float32),np.array([dφ,dθ,dψ]).astype(np.float32).T),\n",
    "                 np.einsum('ijk,ik->ij',Irho_e(Ret).astype(np.float32),\n",
    "                           np.einsum('ijk,ik->ij',Π(φ,θ,ψ).astype(np.float32),np.array([dφ,dθ,dψ]).astype(np.float32).T)))\n",
    "\n",
    "#     C3= d_s(me_[:,0],me_[:,1],me_[:, 2],x,y,z).astype(np.float32).T\n",
    "    C3=d_me(φ,θ,ψ,Ret, ωe, ωe(φ,θ,ψ,None,None))\n",
    "#     print(d_s(phi,x,y,z,Ret).T)\n",
    "#     print(d_s(phi,x,y,z,Ret, phi(x,y,z,Ret,None)))\n",
    "    C4= np.cross(d_s(phi,x,y,z,Ret, phi(x,y,z,Ret,None)).T, ne(x,y,z,Ret, phi(x,y,z,Ret,None)))\n",
    "\n",
    "    K1=np.einsum('ijk,ik->ij',Π(φ,θ,ψ).astype(np.float32),np.array([dφ,dθ,dψ]).astype(np.float32).T).T\n",
    "\n",
    "    C5= np.einsum('ijk,ik->ij',Ret, -np.dot(DR,K1).astype(np.float32).T)\n",
    "#     print(np.linalg.inv(Π(φ,θ,ψ).astype(np.float32)).shape)\n",
    "\n",
    "#     C0=np.einsum('ijk,kp->ijp',\n",
    "#                  np.linalg.inv(Π(φ,θ,ψ)), tau_force[3:].reshape(3,1)\n",
    "#                 ) \n",
    "    C0=np.einsum('ijk,kp->ijp',np.einsum('ijk,ikr->ijr',np.linalg.inv(Π(φ,θ,ψ).astype(np.float32)),\n",
    "                        Re_b(Ret)),tau_force[3:].reshape(3,1)) \n",
    "#     print(C1.shape,C2.shape,C3.shape,C4.shape,C5.shape)\n",
    "    B_ =(\n",
    "        -C1\n",
    "        -C2\n",
    "        +C3\n",
    "        +C4\n",
    "        +C5\n",
    "    )\n",
    "    B= B_ +C0.squeeze()\n",
    "       \n",
    "\n",
    "    A2 = Irho_e(Ret).astype(np.float32)\n",
    "    A3=Π(φ,θ,ψ).astype(np.float32)\n",
    "\n",
    "    A=np.einsum('ijk,ikr->ijr',A2,A3)\n",
    "#     A=np.einsum('ijk,ikr->ijr', Re_b(Ret), np.einsum('ijk,ikr->ijr',A2,A3))\n",
    "\n",
    "############################################\n",
    "#     ddφ,ddθ,ddψ = np.linalg.solve(A,B).T\n",
    "#############################################\n",
    "\n",
    "    ans_φ=[]\n",
    "    ans_θ=[]\n",
    "    ans_ψ=[]\n",
    "    for i in range(len(A)):\n",
    "        a,b,c=np.linalg.lstsq(hack4*A[i]\n",
    "#                               +hack2*np.identity(3)\n",
    "                              ,B[i], rcond=None)[0]\n",
    "        ans_φ.append(a)\n",
    "        ans_θ.append(b)\n",
    "        ans_ψ.append(c)\n",
    "    \n",
    "    ddφ,ddθ,ddψ=np.array(ans_φ),np.array(ans_θ),np.array(ans_ψ)\n",
    "    ddφ*=np.exp(-t)\n",
    "    ddθ*=np.exp(-t)\n",
    "    ddψ*=np.exp(-t)\n",
    "#     ddx[-1],ddy[-1],ddz[-1],ddφ[-1],ddθ[-1],ddψ[-1]=ddη\n",
    "#     print(ddφ,ddθ,ddψ)\n",
    "\n",
    "    ddx[0],ddy[0],ddz[0],ddφ[0],ddθ[0],ddψ[0]=0,0,0,0,0,0\n",
    "    A1111=np.concatenate([dx, ddx, dy, ddy, dz, ddz, dφ, ddφ, dθ, ddθ, dψ, ddψ], axis=0)\n",
    "#     A1111=np.concatenate([dx, ddx, \n",
    "#                           np.zeros(node_N), np.zeros(node_N),\n",
    "#                           dz, ddz,\n",
    "#                           np.zeros(node_N),  np.zeros(node_N),\n",
    "#                           np.zeros(node_N), np.zeros(node_N),\n",
    "#                           np.zeros(node_N),  np.zeros(node_N),\n",
    "#                           ], axis=0)\n",
    "\n",
    "        \n",
    "\n",
    "#     print(A1111)\n",
    "    return A1111"
   ]
  },
  {
   "cell_type": "code",
   "execution_count": 154,
   "metadata": {},
   "outputs": [],
   "source": [
    "# ode15s = scipy.integrate.ode(grayscott1d)\n",
    "# # ode15s.set_integrator('vode', method='bdf', order=15, nsteps=3000)\n",
    "# ode15s.set_integrator('vode',  order=15, nsteps=3000)\n",
    "# ode15s.set_initial_value(q0, 0)"
   ]
  },
  {
   "cell_type": "code",
   "execution_count": 155,
   "metadata": {},
   "outputs": [],
   "source": [
    "# us=ode15s.integrate(10)"
   ]
  },
  {
   "cell_type": "code",
   "execution_count": 156,
   "metadata": {},
   "outputs": [],
   "source": [
    "tspan = (0., 60)\n",
    "# tspan = (0., 10)"
   ]
  },
  {
   "cell_type": "code",
   "execution_count": 157,
   "metadata": {},
   "outputs": [
    {
     "name": "stdout",
     "output_type": "stream",
     "text": [
      "0:00:22.691801\n"
     ]
    }
   ],
   "source": [
    "startTime1 = datetime.now()\n",
    "# prob = de.ODEProblem(grayscott1d, q0, tspan)\n",
    "# us = de.solve(prob)\n",
    "us=solve_ivp(grayscott1d,  tspan, q0, \n",
    "#              nfev=842\n",
    "#              method='LSODA',\n",
    "             method= 'BDF'\n",
    "#              vectorized=True\n",
    "#              min_step=1e-6\n",
    "#              rtol=1e9, atol=1e9\n",
    "            )\n",
    "# us=ode15s.integrate(10)\n",
    "print(datetime.now() - startTime1)"
   ]
  },
  {
   "cell_type": "code",
   "execution_count": 158,
   "metadata": {},
   "outputs": [],
   "source": [
    "fin=us"
   ]
  },
  {
   "cell_type": "code",
   "execution_count": 159,
   "metadata": {
    "scrolled": true
   },
   "outputs": [],
   "source": [
    "# startTime1 = datetime.now()\n",
    "# us=odeint(grayscott1d, torch.from_numpy(q0), torch.from_numpy(t.astype(np.float32)))\n",
    "# print(datetime.now() - startTime1)"
   ]
  },
  {
   "cell_type": "code",
   "execution_count": 160,
   "metadata": {},
   "outputs": [
    {
     "data": {
      "text/plain": [
       "  message: 'The solver successfully reached the end of the integration interval.'\n",
       "     nfev: 2075\n",
       "     njev: 50\n",
       "      nlu: 330\n",
       "      sol: None\n",
       "   status: 0\n",
       "  success: True\n",
       "        t: array([0.00000000e+00, 9.84699268e-03, 1.96939854e-02, 5.84880779e-02,\n",
       "       9.72821704e-02, 1.37523202e-01, 1.77764233e-01, 2.18005264e-01,\n",
       "       2.63570517e-01, 3.09135769e-01, 3.74560213e-01, 4.39984657e-01,\n",
       "       4.54806131e-01, 4.69627605e-01, 4.89995324e-01, 5.10363042e-01,\n",
       "       5.30730761e-01, 5.79913847e-01, 6.29096932e-01, 6.78280018e-01,\n",
       "       7.54564290e-01, 8.30848562e-01, 9.07132834e-01, 9.83417107e-01,\n",
       "       1.06233959e+00, 1.14126207e+00, 1.22018456e+00, 1.29910704e+00,\n",
       "       1.38397314e+00, 1.46883924e+00, 1.53373949e+00, 1.59863974e+00,\n",
       "       1.66354000e+00, 1.73033971e+00, 1.76373957e+00, 1.79713942e+00,\n",
       "       1.83053928e+00, 1.87272966e+00, 1.91492004e+00, 1.95711042e+00,\n",
       "       2.02057949e+00, 2.04761751e+00, 2.07465553e+00, 2.12082580e+00,\n",
       "       2.16699608e+00, 2.21083144e+00, 2.25466680e+00, 2.33717388e+00,\n",
       "       2.41968097e+00, 2.48547647e+00, 2.55127198e+00, 2.61706748e+00,\n",
       "       2.71028117e+00, 2.80349485e+00, 2.89670853e+00, 2.98992222e+00,\n",
       "       3.10960553e+00, 3.22928885e+00, 3.34897217e+00, 3.46865548e+00,\n",
       "       3.62008355e+00, 3.77151162e+00, 3.92293969e+00, 4.01115522e+00,\n",
       "       4.05311119e+00, 4.09506717e+00, 4.14258790e+00, 4.19010862e+00,\n",
       "       4.24531803e+00, 4.30052744e+00, 4.35846981e+00, 4.40190262e+00,\n",
       "       4.44533543e+00, 4.49513276e+00, 4.54493009e+00, 4.60069538e+00,\n",
       "       4.64176572e+00, 4.68283607e+00, 4.73126224e+00, 4.77968842e+00,\n",
       "       4.83408761e+00, 4.88848679e+00, 4.93561970e+00, 4.96311627e+00,\n",
       "       4.99061285e+00, 5.04112281e+00, 5.09163277e+00, 5.13570524e+00,\n",
       "       5.16874295e+00, 5.20178065e+00, 5.24239116e+00, 5.28300167e+00,\n",
       "       5.33102761e+00, 5.37905356e+00, 5.43718752e+00, 5.49532147e+00,\n",
       "       5.54992199e+00, 5.60452251e+00, 5.65912302e+00, 5.73278043e+00,\n",
       "       5.80643784e+00, 5.89259800e+00, 5.95836390e+00, 6.02412980e+00,\n",
       "       6.08989570e+00, 6.17306217e+00, 6.25622863e+00, 6.29781186e+00,\n",
       "       6.33939509e+00, 6.38097832e+00, 6.44637298e+00, 6.49165053e+00,\n",
       "       6.53692808e+00, 6.59323422e+00, 6.64954035e+00, 6.69706349e+00,\n",
       "       6.74458663e+00, 6.80401191e+00, 6.84044120e+00, 6.87687049e+00,\n",
       "       6.91956062e+00, 6.96225074e+00, 7.03970288e+00, 7.11715502e+00,\n",
       "       7.19460716e+00, 7.28906482e+00, 7.36356826e+00, 7.43807171e+00,\n",
       "       7.51257516e+00, 7.59178604e+00, 7.67099692e+00, 7.75020780e+00,\n",
       "       7.82452763e+00, 7.89884747e+00, 7.97316730e+00, 8.04759985e+00,\n",
       "       8.12203240e+00, 8.19646495e+00, 8.26066571e+00, 8.32486648e+00,\n",
       "       8.38368323e+00, 8.44249999e+00, 8.49649485e+00, 8.55048971e+00,\n",
       "       8.60023962e+00, 8.62511457e+00, 8.64474043e+00, 8.66436628e+00,\n",
       "       8.68598718e+00, 8.70760807e+00, 8.72922896e+00, 8.77210083e+00,\n",
       "       8.81497270e+00, 8.85700495e+00, 8.89903721e+00, 8.98001747e+00,\n",
       "       9.06099773e+00, 9.14197798e+00, 9.19256535e+00, 9.24315272e+00,\n",
       "       9.30105090e+00, 9.35894908e+00, 9.41693433e+00, 9.47491957e+00,\n",
       "       9.53194450e+00, 9.58896942e+00, 9.62649473e+00, 9.66402005e+00,\n",
       "       9.70027408e+00, 9.73652812e+00, 9.77278215e+00, 9.85499988e+00,\n",
       "       9.93721761e+00, 1.00194353e+01, 1.01247794e+01, 1.02301235e+01,\n",
       "       1.03258902e+01, 1.04216568e+01, 1.05129338e+01, 1.06042107e+01,\n",
       "       1.06954876e+01, 1.07963222e+01, 1.08971567e+01, 1.09979912e+01,\n",
       "       1.10988258e+01, 1.11713487e+01, 1.12438716e+01, 1.13163945e+01,\n",
       "       1.13889174e+01, 1.14614403e+01, 1.15322857e+01, 1.16031311e+01,\n",
       "       1.16739765e+01, 1.17448219e+01, 1.18156673e+01, 1.19087635e+01,\n",
       "       1.20018596e+01, 1.20949558e+01, 1.21880519e+01, 1.22734768e+01,\n",
       "       1.23589017e+01, 1.24443266e+01, 1.25297515e+01, 1.26151764e+01,\n",
       "       1.27075738e+01, 1.27999712e+01, 1.28923686e+01, 1.29847660e+01,\n",
       "       1.31142012e+01, 1.32436364e+01, 1.33442731e+01, 1.34449099e+01,\n",
       "       1.35455466e+01, 1.36385281e+01, 1.37315096e+01, 1.38051461e+01,\n",
       "       1.38787826e+01, 1.39524191e+01, 1.40360682e+01, 1.41197174e+01,\n",
       "       1.42033665e+01, 1.42870156e+01, 1.43814262e+01, 1.44758367e+01,\n",
       "       1.45702473e+01, 1.46646578e+01, 1.47749042e+01, 1.48851505e+01,\n",
       "       1.49953969e+01, 1.50949796e+01, 1.51945623e+01, 1.52889250e+01,\n",
       "       1.53832877e+01, 1.54577095e+01, 1.55321313e+01, 1.56065531e+01,\n",
       "       1.57114367e+01, 1.58163204e+01, 1.59212040e+01, 1.59435922e+01,\n",
       "       1.59659805e+01, 1.60089537e+01, 1.60519269e+01, 1.60949001e+01,\n",
       "       1.61767605e+01, 1.62586209e+01, 1.63314294e+01, 1.64042379e+01,\n",
       "       1.65865623e+01, 1.67085835e+01, 1.67920486e+01, 1.68755136e+01,\n",
       "       1.69891503e+01, 1.71027869e+01, 1.72012135e+01, 1.72996401e+01,\n",
       "       1.73467636e+01, 1.73938872e+01, 1.74410108e+01, 1.75186927e+01,\n",
       "       1.75963747e+01, 1.76740567e+01, 1.78054469e+01, 1.79368372e+01,\n",
       "       1.80682275e+01, 1.81810718e+01, 1.82659970e+01, 1.83509222e+01,\n",
       "       1.84358474e+01, 1.85207726e+01, 1.86407137e+01, 1.87606548e+01,\n",
       "       1.88805959e+01, 1.89542858e+01, 1.90279757e+01, 1.90998278e+01,\n",
       "       1.91716799e+01, 1.92435320e+01, 1.93642041e+01, 1.94848761e+01,\n",
       "       1.95957983e+01, 1.97067204e+01, 1.98176425e+01, 1.98960715e+01,\n",
       "       1.99745005e+01, 2.00529296e+01, 2.01454710e+01, 2.02380124e+01,\n",
       "       2.03305537e+01, 2.04234247e+01, 2.05162956e+01, 2.06091665e+01,\n",
       "       2.07020374e+01, 2.07744095e+01, 2.08467817e+01, 2.09191538e+01,\n",
       "       2.09915259e+01, 2.10546110e+01, 2.11176962e+01, 2.11807813e+01,\n",
       "       2.12751209e+01, 2.13119061e+01, 2.13486912e+01, 2.13677410e+01,\n",
       "       2.13867909e+01, 2.14819545e+01, 2.15771182e+01, 2.16913231e+01,\n",
       "       2.18055280e+01, 2.19197329e+01, 2.20491601e+01, 2.21785873e+01,\n",
       "       2.23080145e+01, 2.24292023e+01, 2.25503901e+01, 2.26715780e+01,\n",
       "       2.27610874e+01, 2.28505968e+01, 2.29401062e+01, 2.30296156e+01,\n",
       "       2.31769419e+01, 2.33242681e+01, 2.34715944e+01, 2.36189207e+01,\n",
       "       2.38447547e+01, 2.39470622e+01, 2.40493697e+01, 2.41516773e+01,\n",
       "       2.42748956e+01, 2.43701258e+01, 2.44653559e+01, 2.45605861e+01,\n",
       "       2.47274890e+01, 2.48943919e+01, 2.50105974e+01, 2.51268029e+01,\n",
       "       2.52430084e+01, 2.53592139e+01, 2.55296708e+01, 2.57001277e+01,\n",
       "       2.58705845e+01, 2.60410414e+01, 2.61618634e+01, 2.62578251e+01,\n",
       "       2.63537867e+01, 2.64497484e+01, 2.65457101e+01, 2.66490924e+01,\n",
       "       2.67524748e+01, 2.68558571e+01, 2.69434025e+01, 2.70039679e+01,\n",
       "       2.70645333e+01, 2.71250987e+01, 2.71999939e+01, 2.72748892e+01,\n",
       "       2.73497845e+01, 2.74706422e+01, 2.75659647e+01, 2.76612872e+01,\n",
       "       2.77566097e+01, 2.78184837e+01, 2.78632156e+01, 2.78864631e+01,\n",
       "       2.79097106e+01, 2.79313839e+01, 2.79530573e+01, 2.79747307e+01,\n",
       "       2.80192453e+01, 2.80637599e+01, 2.81295886e+01, 2.81954172e+01,\n",
       "       2.82612458e+01, 2.84467501e+01, 2.85165131e+01, 2.85862760e+01,\n",
       "       2.86560390e+01, 2.86902139e+01, 2.87243888e+01, 2.87531390e+01,\n",
       "       2.87818892e+01, 2.88296825e+01, 2.88774758e+01, 2.89252691e+01,\n",
       "       2.89786654e+01, 2.90320618e+01, 2.91188757e+01, 2.92056897e+01,\n",
       "       2.93070917e+01, 2.94084938e+01, 2.95098959e+01, 2.96070736e+01,\n",
       "       2.97042513e+01, 2.98014290e+01, 2.99208987e+01, 3.00403684e+01,\n",
       "       3.01658607e+01, 3.02913529e+01, 3.04168451e+01, 3.04983908e+01,\n",
       "       3.05799365e+01, 3.06614821e+01, 3.07359520e+01, 3.07731870e+01,\n",
       "       3.08104219e+01, 3.08692874e+01, 3.09281529e+01, 3.10059129e+01,\n",
       "       3.10836730e+01, 3.11671288e+01, 3.11951330e+01, 3.12231371e+01,\n",
       "       3.12718859e+01, 3.13206347e+01, 3.13693836e+01, 3.14325908e+01,\n",
       "       3.14957981e+01, 3.15590054e+01, 3.16222127e+01, 3.17537817e+01,\n",
       "       3.18853506e+01, 3.20169195e+01, 3.21270454e+01, 3.22371713e+01,\n",
       "       3.23472972e+01, 3.24574231e+01, 3.25705447e+01, 3.26836663e+01,\n",
       "       3.27705225e+01, 3.28573786e+01, 3.29442348e+01, 3.30148058e+01,\n",
       "       3.30853767e+01, 3.32988944e+01, 3.33498210e+01, 3.34007476e+01,\n",
       "       3.34516742e+01, 3.35125214e+01, 3.35733685e+01, 3.36565840e+01,\n",
       "       3.37397994e+01, 3.38049077e+01, 3.38700160e+01, 3.39351244e+01,\n",
       "       3.40561723e+01, 3.41099571e+01, 3.41637420e+01, 3.42186028e+01,\n",
       "       3.42734637e+01, 3.44314147e+01, 3.45893656e+01, 3.47473166e+01,\n",
       "       3.48915221e+01, 3.49636249e+01, 3.50357277e+01, 3.51078305e+01,\n",
       "       3.51791225e+01, 3.52504146e+01, 3.53217066e+01, 3.54385369e+01,\n",
       "       3.55553673e+01, 3.56721976e+01, 3.57890280e+01, 3.59309852e+01,\n",
       "       3.60729424e+01, 3.62148996e+01, 3.62682174e+01, 3.63215352e+01,\n",
       "       3.63864626e+01, 3.64327788e+01, 3.64790951e+01, 3.65974483e+01,\n",
       "       3.67158015e+01, 3.68423030e+01, 3.69688045e+01, 3.70993889e+01,\n",
       "       3.72299734e+01, 3.73605579e+01, 3.74857461e+01, 3.76109343e+01,\n",
       "       3.77361225e+01, 3.78613107e+01, 3.79373667e+01, 3.80134227e+01,\n",
       "       3.80894787e+01, 3.81655348e+01, 3.82415908e+01, 3.83380999e+01,\n",
       "       3.84346089e+01, 3.85311180e+01, 3.86276271e+01, 3.86719262e+01,\n",
       "       3.86940758e+01, 3.87162253e+01, 3.87383749e+01, 3.87605245e+01,\n",
       "       3.87994014e+01, 3.88382783e+01, 3.88771552e+01, 3.89066611e+01,\n",
       "       3.89361671e+01, 3.89904215e+01, 3.90446759e+01, 3.90989304e+01,\n",
       "       3.91423288e+01, 3.91857271e+01, 3.92458373e+01, 3.93059474e+01,\n",
       "       3.94462036e+01, 3.95470456e+01, 3.96478876e+01, 3.97487295e+01,\n",
       "       3.98758877e+01, 4.00030459e+01, 4.01302041e+01, 4.02573623e+01,\n",
       "       4.04302066e+01, 4.05228691e+01, 4.06155317e+01, 4.07081942e+01,\n",
       "       4.08249858e+01, 4.09417773e+01, 4.10585689e+01, 4.11753605e+01,\n",
       "       4.12596002e+01, 4.13438399e+01, 4.14280796e+01, 4.14945911e+01,\n",
       "       4.15611026e+01, 4.16276140e+01, 4.16941255e+01, 4.17606370e+01,\n",
       "       4.18391747e+01, 4.19177124e+01, 4.19962501e+01, 4.20747878e+01,\n",
       "       4.21792223e+01, 4.22632719e+01, 4.23473215e+01, 4.24313711e+01,\n",
       "       4.25154207e+01, 4.25989440e+01, 4.26824673e+01, 4.27659906e+01,\n",
       "       4.28708769e+01, 4.29233201e+01, 4.29757633e+01, 4.30057140e+01,\n",
       "       4.30356647e+01, 4.30960465e+01, 4.31564284e+01, 4.32153878e+01,\n",
       "       4.32743473e+01, 4.33785186e+01, 4.34826899e+01, 4.36088335e+01,\n",
       "       4.36567129e+01, 4.36806525e+01, 4.36926223e+01, 4.37045922e+01,\n",
       "       4.37165620e+01, 4.37408032e+01, 4.37650444e+01, 4.38184324e+01,\n",
       "       4.38718204e+01, 4.39447120e+01, 4.40176035e+01, 4.40703610e+01,\n",
       "       4.41231185e+01, 4.41758760e+01, 4.42430293e+01, 4.43101825e+01,\n",
       "       4.43946935e+01, 4.44792045e+01, 4.45641301e+01, 4.46490557e+01,\n",
       "       4.47339813e+01, 4.49089806e+01, 4.49866099e+01, 4.50419844e+01,\n",
       "       4.50973589e+01, 4.51855641e+01, 4.52737694e+01, 4.53571066e+01,\n",
       "       4.54404437e+01, 4.55294663e+01, 4.55739775e+01, 4.56184888e+01,\n",
       "       4.56630001e+01, 4.57473316e+01, 4.58316632e+01, 4.59159947e+01,\n",
       "       4.60003262e+01, 4.60828927e+01, 4.61654592e+01, 4.62480257e+01,\n",
       "       4.63513326e+01, 4.64546395e+01, 4.65579464e+01, 4.66612533e+01,\n",
       "       4.67624821e+01, 4.68245525e+01, 4.68866228e+01, 4.69486932e+01,\n",
       "       4.70107635e+01, 4.70728339e+01, 4.71566246e+01, 4.72404153e+01,\n",
       "       4.73242061e+01, 4.74079968e+01, 4.75486309e+01, 4.76892650e+01,\n",
       "       4.78298991e+01, 4.79124159e+01, 4.79727382e+01, 4.80330605e+01,\n",
       "       4.80823259e+01, 4.81092659e+01, 4.81362059e+01, 4.81844342e+01,\n",
       "       4.82326625e+01, 4.82843709e+01, 4.83360794e+01, 4.83877878e+01,\n",
       "       4.85019959e+01, 4.86162039e+01, 4.86854139e+01, 4.87546239e+01,\n",
       "       4.88238339e+01, 4.89045018e+01, 4.89450579e+01, 4.89856141e+01,\n",
       "       4.90500915e+01, 4.90995059e+01, 4.91489202e+01, 4.92935880e+01,\n",
       "       4.94382558e+01, 4.96225506e+01, 4.97370175e+01, 4.97890237e+01,\n",
       "       4.98270681e+01, 4.98651125e+01, 4.99338685e+01, 5.00026246e+01,\n",
       "       5.00713806e+01, 5.01125617e+01, 5.01537427e+01, 5.02110511e+01,\n",
       "       5.02683594e+01, 5.03256678e+01, 5.03922253e+01, 5.04587829e+01,\n",
       "       5.05253404e+01, 5.06358721e+01, 5.07464038e+01, 5.08569355e+01,\n",
       "       5.09674672e+01, 5.10704181e+01, 5.11733689e+01, 5.12763198e+01,\n",
       "       5.13792707e+01, 5.15204164e+01, 5.16262912e+01, 5.17321660e+01,\n",
       "       5.18380408e+01, 5.19439157e+01, 5.20497905e+01, 5.21990960e+01,\n",
       "       5.23484015e+01, 5.24977070e+01, 5.26470125e+01, 5.27968248e+01,\n",
       "       5.29466372e+01, 5.30964495e+01, 5.32462619e+01, 5.33334368e+01,\n",
       "       5.34037653e+01, 5.34740937e+01, 5.35444222e+01, 5.36374266e+01,\n",
       "       5.37304310e+01, 5.38234354e+01, 5.39363238e+01, 5.40492121e+01,\n",
       "       5.41962617e+01, 5.42706350e+01, 5.43450083e+01, 5.44193816e+01,\n",
       "       5.44647345e+01, 5.45100874e+01, 5.45711322e+01, 5.46152246e+01,\n",
       "       5.46593170e+01, 5.47492738e+01, 5.47963032e+01, 5.48433326e+01,\n",
       "       5.48929057e+01, 5.49424789e+01, 5.49983671e+01, 5.50542553e+01,\n",
       "       5.51101435e+01, 5.52373259e+01, 5.53645082e+01, 5.54597722e+01,\n",
       "       5.55323002e+01, 5.56048281e+01, 5.56773560e+01, 5.57406680e+01,\n",
       "       5.58039800e+01, 5.58672920e+01, 5.60422976e+01, 5.62173032e+01,\n",
       "       5.63968902e+01, 5.65764772e+01, 5.67437538e+01, 5.68637489e+01,\n",
       "       5.69055109e+01, 5.69472729e+01, 5.69970009e+01, 5.70467288e+01,\n",
       "       5.71098564e+01, 5.71729841e+01, 5.72361117e+01, 5.73166398e+01,\n",
       "       5.73971678e+01, 5.74776959e+01, 5.75582240e+01, 5.77335210e+01,\n",
       "       5.79088180e+01, 5.79964666e+01, 5.80841151e+01, 5.81717636e+01,\n",
       "       5.82594121e+01, 5.83796877e+01, 5.84999634e+01, 5.85777125e+01,\n",
       "       5.86554617e+01, 5.87332108e+01, 5.88009344e+01, 5.88686580e+01,\n",
       "       5.89363816e+01, 5.90372151e+01, 5.91380486e+01, 5.92388821e+01,\n",
       "       5.93931853e+01, 5.95474885e+01, 5.97017917e+01, 5.98154118e+01,\n",
       "       5.99290320e+01, 5.99845113e+01, 6.00000000e+01])\n",
       " t_events: None\n",
       "        y: array([[ 0.00000000e+00,  0.00000000e+00,  0.00000000e+00, ...,\n",
       "         0.00000000e+00,  0.00000000e+00,  0.00000000e+00],\n",
       "       [ 3.68422828e+03,  3.68422828e+03,  3.68422828e+03, ...,\n",
       "         3.68422828e+03,  3.68422828e+03,  3.68422828e+03],\n",
       "       [ 7.36845656e+03,  7.36845656e+03,  7.36845656e+03, ...,\n",
       "         7.36845656e+03,  7.36845656e+03,  7.36845656e+03],\n",
       "       ...,\n",
       "       [ 0.00000000e+00,  2.83671647e-21,  2.53078110e-20, ...,\n",
       "         2.98764620e-14,  2.98764620e-14,  2.98764620e-14],\n",
       "       [ 0.00000000e+00,  3.07765325e-21,  2.07749493e-20, ...,\n",
       "         1.23099883e-13,  1.23099883e-13,  1.23099883e-13],\n",
       "       [ 0.00000000e+00,  5.01867411e-08,  9.93553450e-08, ...,\n",
       "        -2.47304274e-07, -2.47304274e-07, -2.47304274e-07]])\n",
       " y_events: None"
      ]
     },
     "execution_count": 160,
     "metadata": {},
     "output_type": "execute_result"
    }
   ],
   "source": [
    "fin"
   ]
  },
  {
   "cell_type": "code",
   "execution_count": 161,
   "metadata": {},
   "outputs": [],
   "source": [
    "t=fin.t"
   ]
  },
  {
   "cell_type": "code",
   "execution_count": 162,
   "metadata": {},
   "outputs": [],
   "source": [
    "fin=fin.y.T"
   ]
  },
  {
   "cell_type": "code",
   "execution_count": null,
   "metadata": {},
   "outputs": [],
   "source": []
  },
  {
   "cell_type": "code",
   "execution_count": 178,
   "metadata": {},
   "outputs": [
    {
     "name": "stderr",
     "output_type": "stream",
     "text": [
      "/Library/Frameworks/Python.framework/Versions/3.7/lib/python3.7/site-packages/ipykernel_launcher.py:2: MatplotlibDeprecationWarning: Calling gca() with keyword arguments was deprecated in Matplotlib 3.4. Starting two minor releases later, gca() will take no keyword arguments. The gca() function should only be used to get the current axes, or if no axes exist, create new axes with default keyword arguments. To create a new axes with non-default arguments, use plt.axes() or plt.subplot().\n",
      "  \n"
     ]
    },
    {
     "data": {
      "image/png": "[encoded data removed]",
      "text/plain": [
       "<Figure size 936x936 with 1 Axes>"
      ]
     },
     "metadata": {
      "needs_background": "light"
     },
     "output_type": "display_data"
    }
   ],
   "source": [
    "fig=plt.figure(figsize=(13,13))\n",
    "ax = fig.gca(projection='3d')\n",
    "\n",
    "X0=fin[0,[i for i in range(0,node_N)]]\n",
    "Y0=fin[0,[i for i in range(2*node_N,3*node_N)]]\n",
    "Z0=fin[0,[i for i in range(4*node_N,5*node_N)]]\n",
    "# for j in range(len(fin.y.T)):\n",
    "j=-1\n",
    "X=fin[j,[i for i in range(0,node_N)]]\n",
    "Y=fin[j,[i for i in range(2*node_N,3*node_N)]]\n",
    "Z=fin[j,[i for i in range(4*node_N,5*node_N)]]\n",
    "\n",
    "ax.plot(X0,Y0,Z0, color='r')\n",
    "ax.plot(X,Y,Z, color='b') \n",
    "ax.view_init(-30,-30)\n",
    "# ax.view_init(0,-90)\n",
    "# ax.view_init(-90,-90)\n",
    "# ax.set_xlim([0, 5])\n",
    "# ax.set_ylim([0, 5])\n",
    "plt.show()"
   ]
  },
  {
   "cell_type": "code",
   "execution_count": 179,
   "metadata": {},
   "outputs": [
    {
     "data": {
      "text/plain": [
       "(array([    0.        ,  3684.22828191,  7368.45656307, 11052.68608474]),\n",
       " array([ 0.        , -0.01473237, -0.0589591 , -0.18221535]),\n",
       " array([  0.        ,  77.06844735, 308.40746586, 694.4025538 ]))"
      ]
     },
     "execution_count": 179,
     "metadata": {},
     "output_type": "execute_result"
    }
   ],
   "source": [
    "X,Y,Z"
   ]
  },
  {
   "cell_type": "code",
   "execution_count": 180,
   "metadata": {},
   "outputs": [
    {
     "data": {
      "text/plain": [
       "(array([    0.        ,  3684.22828149,  7368.45656297, 11052.68484446]),\n",
       " array([0., 0., 0., 0.]),\n",
       " array([  0.        ,  77.06804645, 308.4070593 , 694.42189511]))"
      ]
     },
     "execution_count": 180,
     "metadata": {},
     "output_type": "execute_result"
    }
   ],
   "source": [
    "X0,Y0,Z0"
   ]
  },
  {
   "cell_type": "code",
   "execution_count": 166,
   "metadata": {},
   "outputs": [],
   "source": [
    "us=fin.T"
   ]
  },
  {
   "cell_type": "code",
   "execution_count": 167,
   "metadata": {},
   "outputs": [],
   "source": [
    "# t=np.arange(tspan[0],tspan[1],tspan[1]/len(us.T))"
   ]
  },
  {
   "cell_type": "code",
   "execution_count": 168,
   "metadata": {},
   "outputs": [
    {
     "data": {
      "image/png": "[encoded data removed]",
      "text/plain": [
       "<Figure size 432x288 with 1 Axes>"
      ]
     },
     "metadata": {
      "needs_background": "light"
     },
     "output_type": "display_data"
    }
   ],
   "source": [
    "plt.plot(t,us.T[:,2],'-')\n",
    "plt.xlabel('t')\n",
    "plt.ylabel('x2')\n",
    "plt.show()"
   ]
  },
  {
   "cell_type": "code",
   "execution_count": 169,
   "metadata": {},
   "outputs": [
    {
     "data": {
      "image/png": "[encoded data removed]",
      "text/plain": [
       "<Figure size 432x288 with 1 Axes>"
      ]
     },
     "metadata": {
      "needs_background": "light"
     },
     "output_type": "display_data"
    }
   ],
   "source": [
    "plt.plot(t,us.T[:,6] ,'-')\n",
    "plt.xlabel('t')\n",
    "plt.ylabel('dx2')\n",
    "plt.show()"
   ]
  },
  {
   "cell_type": "code",
   "execution_count": 170,
   "metadata": {},
   "outputs": [
    {
     "data": {
      "image/png": "[encoded data removed]",
      "text/plain": [
       "<Figure size 432x288 with 1 Axes>"
      ]
     },
     "metadata": {
      "needs_background": "light"
     },
     "output_type": "display_data"
    }
   ],
   "source": [
    "plt.plot(t,us.T[:,10] ,'-')\n",
    "plt.xlabel('t')\n",
    "plt.ylabel('y2')\n",
    "plt.show()"
   ]
  },
  {
   "cell_type": "code",
   "execution_count": 171,
   "metadata": {},
   "outputs": [
    {
     "data": {
      "image/png": "[encoded data removed]",
      "text/plain": [
       "<Figure size 432x288 with 1 Axes>"
      ]
     },
     "metadata": {
      "needs_background": "light"
     },
     "output_type": "display_data"
    }
   ],
   "source": [
    "plt.plot(t,us.T[:,14] ,'-')\n",
    "plt.xlabel('t')\n",
    "plt.ylabel('dy2')\n",
    "plt.show()"
   ]
  },
  {
   "cell_type": "code",
   "execution_count": 172,
   "metadata": {},
   "outputs": [
    {
     "data": {
      "image/png": "[encoded data removed]",
      "text/plain": [
       "<Figure size 432x288 with 1 Axes>"
      ]
     },
     "metadata": {
      "needs_background": "light"
     },
     "output_type": "display_data"
    }
   ],
   "source": [
    "plt.plot(t,us.T[:,18] ,'-')\n",
    "plt.xlabel('t')\n",
    "plt.ylabel('z2')\n",
    "plt.show()"
   ]
  },
  {
   "cell_type": "code",
   "execution_count": 173,
   "metadata": {},
   "outputs": [
    {
     "data": {
      "image/png": "[encoded data removed]",
      "text/plain": [
       "<Figure size 432x288 with 1 Axes>"
      ]
     },
     "metadata": {
      "needs_background": "light"
     },
     "output_type": "display_data"
    }
   ],
   "source": [
    "plt.plot(t,us.T[:,22] ,'-')\n",
    "plt.xlabel('t')\n",
    "plt.ylabel('dz2')\n",
    "plt.show()"
   ]
  },
  {
   "cell_type": "code",
   "execution_count": 174,
   "metadata": {},
   "outputs": [
    {
     "data": {
      "image/png": "[encoded data removed]",
      "text/plain": [
       "<Figure size 432x288 with 1 Axes>"
      ]
     },
     "metadata": {
      "needs_background": "light"
     },
     "output_type": "display_data"
    }
   ],
   "source": [
    "plt.plot(t,us.T[:,34],'-')\n",
    "plt.xlabel('t')\n",
    "plt.ylabel('θ2')\n",
    "plt.show()"
   ]
  },
  {
   "cell_type": "code",
   "execution_count": 175,
   "metadata": {},
   "outputs": [
    {
     "data": {
      "image/png": "[encoded data removed]",
      "text/plain": [
       "<Figure size 432x288 with 1 Axes>"
      ]
     },
     "metadata": {
      "needs_background": "light"
     },
     "output_type": "display_data"
    }
   ],
   "source": [
    "plt.plot(t,us.T[:,38] ,'-')\n",
    "plt.xlabel('t')\n",
    "plt.ylabel('dθ2')\n",
    "plt.show()"
   ]
  },
  {
   "cell_type": "code",
   "execution_count": 176,
   "metadata": {},
   "outputs": [
    {
     "data": {
      "image/png": "[encoded data removed]",
      "text/plain": [
       "<Figure size 432x288 with 1 Axes>"
      ]
     },
     "metadata": {
      "needs_background": "light"
     },
     "output_type": "display_data"
    }
   ],
   "source": [
    "plt.plot(t,us.T[:,42],'-')\n",
    "plt.xlabel('t')\n",
    "plt.ylabel('ψ2')\n",
    "plt.show()"
   ]
  },
  {
   "cell_type": "code",
   "execution_count": 177,
   "metadata": {},
   "outputs": [
    {
     "data": {
      "image/png": "[encoded data removed]",
      "text/plain": [
       "<Figure size 432x288 with 1 Axes>"
      ]
     },
     "metadata": {
      "needs_background": "light"
     },
     "output_type": "display_data"
    }
   ],
   "source": [
    "plt.plot(t,us.T[:,46] ,'-')\n",
    "plt.xlabel('t')\n",
    "plt.ylabel('dψ2')\n",
    "plt.show()"
   ]
  }
 ],
 "metadata": {
  "kernelspec": {
   "display_name": "Python 3",
   "language": "python",
   "name": "python3"
  },
  "language_info": {
   "codemirror_mode": {
    "name": "ipython",
    "version": 3
   },
   "file_extension": ".py",
   "mimetype": "text/x-python",
   "name": "python",
   "nbconvert_exporter": "python",
   "pygments_lexer": "ipython3",
   "version": "3.7.7"
  }
 },
 "nbformat": 4,
 "nbformat_minor": 4
}
