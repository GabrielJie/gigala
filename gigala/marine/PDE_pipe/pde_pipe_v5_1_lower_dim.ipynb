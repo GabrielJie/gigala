{
 "cells": [
  {
   "cell_type": "markdown",
   "metadata": {},
   "source": [
    "#### Model taken from:\n",
    "- [1] Offshore Pipelaying Dynamics. Gullik Anthon Jensen \n",
    "- [2] A nonlinear PDE formulation for offshore vessel pipeline installation. Gullik A. Jensen et al \n",
    "- [3] Modeling and Control of Offshore Pipelay Operations Based on a Finite Strain Pipe Model. Gullik A. Jensen "
   ]
  },
  {
   "cell_type": "code",
   "execution_count": 1,
   "metadata": {},
   "outputs": [],
   "source": [
    "# this notebook is for a lower dimension of X, Z and φ, ψ only \n",
    "# (i.e. surge, heave and roll, yaw) "
   ]
  },
  {
   "cell_type": "code",
   "execution_count": 2,
   "metadata": {},
   "outputs": [],
   "source": [
    "# import julia;\n",
    "# julia.install()"
   ]
  },
  {
   "cell_type": "code",
   "execution_count": 3,
   "metadata": {},
   "outputs": [],
   "source": [
    "import numpy as np\n",
    "import numdifftools as nd\n",
    "import math\n",
    "import matplotlib.pyplot as plt\n",
    "from datetime import datetime\n",
    "# from scipy.integrate import odeint\n",
    "# from torchdiffeq import odeint\n",
    "import torch\n",
    "import inspect\n",
    "import random\n",
    "from scipy.optimize import fsolve\n",
    "from scipy.integrate import solve_ivp\n",
    "import scipy\n",
    "from numpy import linalg as LA"
   ]
  },
  {
   "cell_type": "code",
   "execution_count": 4,
   "metadata": {},
   "outputs": [],
   "source": [
    "import sys\n",
    "sys.path.insert(0, \"../../../../Ocean_Intella/PythonVehicleSimulator-master/src/python_vehicle_simulator\")\n",
    "sys.path.insert(0, \"../../../../Ocean_Intella/PythonVehicleSimulator-master/src\")"
   ]
  },
  {
   "cell_type": "code",
   "execution_count": 5,
   "metadata": {},
   "outputs": [],
   "source": [
    "# from diffeqpy import ode\n",
    "# from diffeqpy import de"
   ]
  },
  {
   "cell_type": "code",
   "execution_count": 6,
   "metadata": {},
   "outputs": [],
   "source": [
    "from vehicles import shipClarke83\n",
    "from python_vehicle_simulator.vehicles import *\n",
    "from python_vehicle_simulator.lib import *\n",
    "from python_vehicle_simulator.lib.gnc import ssa"
   ]
  },
  {
   "cell_type": "code",
   "execution_count": 7,
   "metadata": {},
   "outputs": [],
   "source": [
    "from sympy import *"
   ]
  },
  {
   "cell_type": "code",
   "execution_count": 8,
   "metadata": {},
   "outputs": [],
   "source": [
    "def R2D(value):  # radians to degrees\n",
    "    return value * 180 / math.pi"
   ]
  },
  {
   "cell_type": "code",
   "execution_count": 9,
   "metadata": {},
   "outputs": [],
   "source": [
    "mp = 96 #  (submerged) [kg/m]"
   ]
  },
  {
   "cell_type": "code",
   "execution_count": 10,
   "metadata": {},
   "outputs": [],
   "source": [
    "node_N=4"
   ]
  },
  {
   "cell_type": "code",
   "execution_count": 11,
   "metadata": {},
   "outputs": [],
   "source": [
    "diag_Irho = 1e2*np.array([1, 2]) # [m^4]  , p.99 in [1]\n",
    " \n",
    "Irho=np.diag(diag_Irho)"
   ]
  },
  {
   "cell_type": "code",
   "execution_count": 12,
   "metadata": {},
   "outputs": [
    {
     "data": {
      "text/plain": [
       "array([[100.,   0.],\n",
       "       [  0., 200.]])"
      ]
     },
     "execution_count": 12,
     "metadata": {},
     "output_type": "execute_result"
    }
   ],
   "source": [
    "Irho"
   ]
  },
  {
   "cell_type": "code",
   "execution_count": 13,
   "metadata": {},
   "outputs": [],
   "source": [
    "qw = 1025 # Water density [kg/m3]\n",
    "d0 = 0.761 # Outer diameter of pipe, [m]"
   ]
  },
  {
   "cell_type": "code",
   "execution_count": 14,
   "metadata": {},
   "outputs": [],
   "source": [
    "diag_DT = 1.5*np.array([1, 1]) # [N/m]  , p.99 in [1]"
   ]
  },
  {
   "cell_type": "code",
   "execution_count": 15,
   "metadata": {},
   "outputs": [],
   "source": [
    "DT=np.diag(diag_DT) # (35) in [2]"
   ]
  },
  {
   "cell_type": "code",
   "execution_count": 16,
   "metadata": {},
   "outputs": [
    {
     "data": {
      "text/plain": [
       "array([[1.5, 0. ],\n",
       "       [0. , 1.5]])"
      ]
     },
     "execution_count": 16,
     "metadata": {},
     "output_type": "execute_result"
    }
   ],
   "source": [
    "DT"
   ]
  },
  {
   "cell_type": "code",
   "execution_count": 17,
   "metadata": {},
   "outputs": [],
   "source": [
    "diag_CT = 1e9*np.array([1, 1]) # [Nm2] p. 4721 in [3]"
   ]
  },
  {
   "cell_type": "code",
   "execution_count": 18,
   "metadata": {},
   "outputs": [],
   "source": [
    "CT=np.diag(diag_CT)"
   ]
  },
  {
   "cell_type": "code",
   "execution_count": 19,
   "metadata": {},
   "outputs": [
    {
     "data": {
      "text/plain": [
       "array([[1.e+09, 0.e+00],\n",
       "       [0.e+00, 1.e+09]])"
      ]
     },
     "execution_count": 19,
     "metadata": {},
     "output_type": "execute_result"
    }
   ],
   "source": [
    "CT"
   ]
  },
  {
   "cell_type": "code",
   "execution_count": 20,
   "metadata": {},
   "outputs": [],
   "source": [
    "def Re_t_(arr):\n",
    "    φ,ψ=arr[0],arr[1]\n",
    "  \n",
    "    Cφ=np.matrix([[1,0], [0,np.cos(φ)]])\n",
    "\n",
    "    Cψ=np.matrix([[np.cos(ψ),0], [0,1]])\n",
    "        \n",
    "\n",
    "    return np.array(np.dot(Cφ,Cψ) )"
   ]
  },
  {
   "cell_type": "code",
   "execution_count": 21,
   "metadata": {},
   "outputs": [
    {
     "data": {
      "text/plain": [
       "array([[ 0.28366219,  0.        ],\n",
       "       [ 0.        , -0.9899925 ]])"
      ]
     },
     "execution_count": 21,
     "metadata": {},
     "output_type": "execute_result"
    }
   ],
   "source": [
    "Re_t_([3,5])"
   ]
  },
  {
   "cell_type": "code",
   "execution_count": 22,
   "metadata": {},
   "outputs": [],
   "source": [
    "rng = np.random.default_rng()"
   ]
  },
  {
   "cell_type": "code",
   "execution_count": 23,
   "metadata": {},
   "outputs": [],
   "source": [
    "φ,ψ = rng.standard_normal(node_N),rng.standard_normal(node_N)"
   ]
  },
  {
   "cell_type": "code",
   "execution_count": 24,
   "metadata": {},
   "outputs": [
    {
     "data": {
      "text/plain": [
       "array([-0.45162337, -2.35329974, -3.41831351, -0.8896622 ])"
      ]
     },
     "execution_count": 24,
     "metadata": {},
     "output_type": "execute_result"
    }
   ],
   "source": [
    "ψ"
   ]
  },
  {
   "cell_type": "code",
   "execution_count": 25,
   "metadata": {},
   "outputs": [],
   "source": [
    "def Re_t(a,c):\n",
    "    xz=np.stack((a,c), axis=1)\n",
    "    return np.apply_along_axis(Re_t_, 1, xz)"
   ]
  },
  {
   "cell_type": "code",
   "execution_count": 26,
   "metadata": {},
   "outputs": [
    {
     "data": {
      "text/plain": [
       "array([[0.8997398 , 0.        ],\n",
       "       [0.        , 0.98469187]])"
      ]
     },
     "execution_count": 26,
     "metadata": {},
     "output_type": "execute_result"
    }
   ],
   "source": [
    "Re_t_([φ[0],ψ[0]])"
   ]
  },
  {
   "cell_type": "code",
   "execution_count": 27,
   "metadata": {
    "scrolled": true
   },
   "outputs": [
    {
     "name": "stdout",
     "output_type": "stream",
     "text": [
      "0:00:00.000450\n"
     ]
    }
   ],
   "source": [
    "startTime1 = datetime.now()\n",
    "Ret=Re_t(φ,ψ)\n",
    "print(datetime.now() - startTime1)"
   ]
  },
  {
   "cell_type": "code",
   "execution_count": 28,
   "metadata": {},
   "outputs": [
    {
     "data": {
      "text/plain": [
       "array([[[ 0.8997398 ,  0.        ],\n",
       "        [ 0.        ,  0.98469187]],\n",
       "\n",
       "       [[-0.70505693,  0.        ],\n",
       "        [ 0.        ,  0.55384469]],\n",
       "\n",
       "       [[-0.96195648,  0.        ],\n",
       "        [ 0.        ,  0.27930785]],\n",
       "\n",
       "       [[ 0.62967448,  0.        ],\n",
       "        [ 0.        ,  0.76319183]]])"
      ]
     },
     "execution_count": 28,
     "metadata": {},
     "output_type": "execute_result"
    }
   ],
   "source": [
    "Ret"
   ]
  },
  {
   "cell_type": "code",
   "execution_count": 29,
   "metadata": {},
   "outputs": [
    {
     "data": {
      "text/plain": [
       "(4, 2, 2)"
      ]
     },
     "execution_count": 29,
     "metadata": {},
     "output_type": "execute_result"
    }
   ],
   "source": [
    "Ret.shape"
   ]
  },
  {
   "cell_type": "code",
   "execution_count": 30,
   "metadata": {},
   "outputs": [],
   "source": [
    "dx,dz=rng.standard_normal(node_N),rng.standard_normal(node_N)"
   ]
  },
  {
   "cell_type": "code",
   "execution_count": 31,
   "metadata": {},
   "outputs": [],
   "source": [
    "def C1(dx, dz, Ret):\n",
    "    B=np.vstack([dx**2,(dz**2)**0.5*dz])\n",
    "#     print(np.dot(Ret[0],B.T[0]))\n",
    "#     print(B.shape, Ret.shape)\n",
    "    ans=np.einsum('ijk,ik->ij', Ret,B.T)\n",
    "    return ans.T"
   ]
  },
  {
   "cell_type": "code",
   "execution_count": 32,
   "metadata": {},
   "outputs": [
    {
     "data": {
      "text/plain": [
       "array([0.25339286, 0.31417642, 1.08542577, 0.16742967])"
      ]
     },
     "execution_count": 32,
     "metadata": {},
     "output_type": "execute_result"
    }
   ],
   "source": [
    "dx**2"
   ]
  },
  {
   "cell_type": "code",
   "execution_count": 33,
   "metadata": {},
   "outputs": [
    {
     "data": {
      "text/plain": [
       "array([[ 0.22798764, -0.22151226, -1.04413235,  0.10542619],\n",
       "       [-1.41377597, -0.27496002,  0.01732914,  0.00867134]])"
      ]
     },
     "execution_count": 33,
     "metadata": {},
     "output_type": "execute_result"
    }
   ],
   "source": [
    "C1(dx,dz,Ret)"
   ]
  },
  {
   "cell_type": "code",
   "execution_count": 34,
   "metadata": {},
   "outputs": [
    {
     "data": {
      "text/plain": [
       "(2, 4)"
      ]
     },
     "execution_count": 34,
     "metadata": {},
     "output_type": "execute_result"
    }
   ],
   "source": [
    "C1(dx,dz,Ret).shape"
   ]
  },
  {
   "cell_type": "code",
   "execution_count": 35,
   "metadata": {},
   "outputs": [
    {
     "name": "stdout",
     "output_type": "stream",
     "text": [
      "0:00:00.000419\n"
     ]
    }
   ],
   "source": [
    "startTime1 = datetime.now()\n",
    "C1(dx,dz,Ret)\n",
    "print(datetime.now() - startTime1)"
   ]
  },
  {
   "cell_type": "code",
   "execution_count": 36,
   "metadata": {},
   "outputs": [],
   "source": [
    "def fD(dx,dz,DT,Ret):\n",
    "    return 1/2*d0*qw*np.dot(DT, C1(dx,dz,Ret))*9.81"
   ]
  },
  {
   "cell_type": "code",
   "execution_count": 37,
   "metadata": {},
   "outputs": [
    {
     "data": {
      "text/plain": [
       "array([ 1308.42881227, -8113.70829863])"
      ]
     },
     "execution_count": 37,
     "metadata": {},
     "output_type": "execute_result"
    }
   ],
   "source": [
    "1/2*d0*qw*np.dot(DT,C1(dx,dz,Ret).T[0])*9.81"
   ]
  },
  {
   "cell_type": "code",
   "execution_count": 38,
   "metadata": {},
   "outputs": [
    {
     "data": {
      "text/plain": [
       "array([[ 1308.42881227, -1271.26637548, -5992.31097512,   605.04450091],\n",
       "       [-8113.70829863, -1578.00490835,    99.45250688,    49.76511667]])"
      ]
     },
     "execution_count": 38,
     "metadata": {},
     "output_type": "execute_result"
    }
   ],
   "source": [
    "fD(dx,dz,DT,Ret)"
   ]
  },
  {
   "cell_type": "code",
   "execution_count": 39,
   "metadata": {},
   "outputs": [
    {
     "data": {
      "text/plain": [
       "array([[ 1308.42881227, -8113.70829863],\n",
       "       [-1271.26637548, -1578.00490835],\n",
       "       [-5992.31097512,    99.45250688],\n",
       "       [  605.04450091,    49.76511667]])"
      ]
     },
     "execution_count": 39,
     "metadata": {},
     "output_type": "execute_result"
    }
   ],
   "source": [
    "fD(dx,dz,DT,Ret).T"
   ]
  },
  {
   "cell_type": "code",
   "execution_count": 40,
   "metadata": {},
   "outputs": [
    {
     "name": "stdout",
     "output_type": "stream",
     "text": [
      "0:00:00.000194\n"
     ]
    }
   ],
   "source": [
    "startTime1 = datetime.now()\n",
    "fD(dx,dz,DT,Ret)\n",
    "print(datetime.now() - startTime1)"
   ]
  },
  {
   "cell_type": "code",
   "execution_count": 41,
   "metadata": {},
   "outputs": [],
   "source": [
    "# https://docs.scipy.org/doc/scipy-1.8.0/tutorial/integrate.html  \n",
    "# 1-D Gray-Scott "
   ]
  },
  {
   "cell_type": "code",
   "execution_count": 42,
   "metadata": {},
   "outputs": [],
   "source": [
    "I=np.identity(2)"
   ]
  },
  {
   "cell_type": "code",
   "execution_count": 43,
   "metadata": {},
   "outputs": [
    {
     "name": "stdout",
     "output_type": "stream",
     "text": [
      "0:00:00.000195\n"
     ]
    }
   ],
   "source": [
    "startTime1 = datetime.now()\n",
    "np.dot(I,fD(dx,dz,DT,Ret))\n",
    "print(datetime.now() - startTime1)"
   ]
  },
  {
   "cell_type": "code",
   "execution_count": 44,
   "metadata": {},
   "outputs": [],
   "source": [
    "Rb_t=I # https://www.researchgate.net/profile/Thor-Fossen/publication/224560837_Modeling_and_Control_of_Offshore_Pipelay_Operations_Based_on_a_Finite_Strain_Pipe_Model/links/00b7d520e175a3f918000000/Modeling-and-Control-of-Offshore-Pipelay-Operations-Based-on-a-Finite-Strain-Pipe-Model.pdf"
   ]
  },
  {
   "cell_type": "code",
   "execution_count": 45,
   "metadata": {},
   "outputs": [
    {
     "data": {
      "text/plain": [
       "array([[1., 0.],\n",
       "       [0., 1.]])"
      ]
     },
     "execution_count": 45,
     "metadata": {},
     "output_type": "execute_result"
    }
   ],
   "source": [
    "Rb_t"
   ]
  },
  {
   "cell_type": "code",
   "execution_count": 46,
   "metadata": {},
   "outputs": [],
   "source": [
    "diag_DR = 1.5*np.array([1,  1]) # [N m/rad]  p.4721 in [3]"
   ]
  },
  {
   "cell_type": "code",
   "execution_count": 47,
   "metadata": {},
   "outputs": [],
   "source": [
    "DR=np.diag(diag_DR) "
   ]
  },
  {
   "cell_type": "code",
   "execution_count": 48,
   "metadata": {},
   "outputs": [],
   "source": [
    "dI= 0.69# Inner diameter of pipe, [m]"
   ]
  },
  {
   "cell_type": "code",
   "execution_count": 49,
   "metadata": {},
   "outputs": [],
   "source": [
    "Ar=math.pi*((d0/2)**2-(dI/2)**2)"
   ]
  },
  {
   "cell_type": "code",
   "execution_count": 50,
   "metadata": {},
   "outputs": [
    {
     "data": {
      "text/plain": [
       "0.08091250419136858"
      ]
     },
     "execution_count": 50,
     "metadata": {},
     "output_type": "execute_result"
    }
   ],
   "source": [
    "Ar"
   ]
  },
  {
   "cell_type": "code",
   "execution_count": 51,
   "metadata": {},
   "outputs": [],
   "source": [
    "fg_e=np.array([[0,(mp-qw*Ar)*9.81] for x in range(node_N)])"
   ]
  },
  {
   "cell_type": "code",
   "execution_count": 52,
   "metadata": {},
   "outputs": [
    {
     "data": {
      "text/plain": [
       "array([[  0.        , 128.16454223],\n",
       "       [  0.        , 128.16454223],\n",
       "       [  0.        , 128.16454223],\n",
       "       [  0.        , 128.16454223]])"
      ]
     },
     "execution_count": 52,
     "metadata": {},
     "output_type": "execute_result"
    }
   ],
   "source": [
    "fg_e"
   ]
  },
  {
   "cell_type": "code",
   "execution_count": 53,
   "metadata": {},
   "outputs": [],
   "source": [
    "# # not checked \n",
    "# def k_sigma(hi,d0,fg_e):\n",
    "#     ans=[]\n",
    "#     for it in hi:\n",
    "#         if it<0:\n",
    "#             ans.append(0)\n",
    "#         elif 0<=it<=d0/20:\n",
    "#             ans.append(np.float64(LA.norm(fg_e,2)/(d0/8-d0/40)*10*it**2/d0))\n",
    "#         else:\n",
    "#             ans.append(np.float64(LA.norm(fg_e,2)/(d0/8-d0/40)*(it-d0/40)))     \n",
    "#     return np.array(ans).reshape(node_N,1)   "
   ]
  },
  {
   "cell_type": "code",
   "execution_count": 54,
   "metadata": {},
   "outputs": [],
   "source": [
    "x,z=100*rng.standard_normal(node_N),100*rng.standard_normal(node_N)"
   ]
  },
  {
   "cell_type": "code",
   "execution_count": 55,
   "metadata": {},
   "outputs": [],
   "source": [
    "# # not checked\n",
    "# def hi(x,y,z,d0):\n",
    "#     return (np.dot(np.array([x,y,z]).T,[0,0,1])+d0/2).reshape(node_N,1) "
   ]
  },
  {
   "cell_type": "code",
   "execution_count": 56,
   "metadata": {},
   "outputs": [],
   "source": [
    "# startTime1 = datetime.now()\n",
    "# hi(x,y,z,d0)\n",
    "# print(datetime.now() - startTime1)"
   ]
  },
  {
   "cell_type": "code",
   "execution_count": 57,
   "metadata": {},
   "outputs": [],
   "source": [
    "# k_sigma(hi(x,y,z,d0),d0,fg_e)"
   ]
  },
  {
   "cell_type": "code",
   "execution_count": 58,
   "metadata": {},
   "outputs": [],
   "source": [
    "# startTime1 = datetime.now()\n",
    "# k_sigma(hi(x,y,z,d0),d0,fg_e)\n",
    "# print(datetime.now() - startTime1)"
   ]
  },
  {
   "cell_type": "code",
   "execution_count": 59,
   "metadata": {},
   "outputs": [],
   "source": [
    "# # TODO: force shoud be acting only at nodes that are in contact with the seabed\n",
    "# # not checked\n",
    "# def sigma(x,y,z):\n",
    "#     return (k_sigma(hi(x,y,z,d0),d0,fg_e)*np.array([0,0,1]))"
   ]
  },
  {
   "cell_type": "code",
   "execution_count": 60,
   "metadata": {},
   "outputs": [],
   "source": [
    "# startTime1 = datetime.now()\n",
    "# sigma(x,y,z)\n",
    "# print(datetime.now() - startTime1)"
   ]
  },
  {
   "cell_type": "code",
   "execution_count": 61,
   "metadata": {},
   "outputs": [],
   "source": [
    "def Re_b(Ret):\n",
    "    return np.dot(Ret, Rb_t ) # (5) in[3]"
   ]
  },
  {
   "cell_type": "code",
   "execution_count": 62,
   "metadata": {},
   "outputs": [
    {
     "name": "stdout",
     "output_type": "stream",
     "text": [
      "0:00:00.000109\n"
     ]
    }
   ],
   "source": [
    "startTime1 = datetime.now()\n",
    "Re_b(Ret)\n",
    "print(datetime.now() - startTime1)"
   ]
  },
  {
   "cell_type": "code",
   "execution_count": 63,
   "metadata": {},
   "outputs": [],
   "source": [
    "def d_s(da,dc,x,z):\n",
    "\n",
    "    ds=np.sqrt(np.diff(x,prepend=x[0])**2\n",
    "                 +np.diff(z,prepend=z[0])**2)\n",
    "    ds[ds == 0] = 1\n",
    "    return np.vstack([np.diff(da,prepend=da[0])/ds,np.diff(dc,prepend=dc[0])/ds])"
   ]
  },
  {
   "cell_type": "code",
   "execution_count": 64,
   "metadata": {},
   "outputs": [
    {
     "name": "stdout",
     "output_type": "stream",
     "text": [
      "0:00:00.000284\n"
     ]
    }
   ],
   "source": [
    "startTime1 = datetime.now()\n",
    "d_s(x,z,x,z)\n",
    "print(datetime.now() - startTime1)"
   ]
  },
  {
   "cell_type": "code",
   "execution_count": 65,
   "metadata": {},
   "outputs": [
    {
     "data": {
      "text/plain": [
       "array([[ 0.        ,  0.7601841 ,  0.74951426, -0.85195364],\n",
       "       [ 0.        ,  0.64970773, -0.6619882 , -0.52361723]])"
      ]
     },
     "execution_count": 65,
     "metadata": {},
     "output_type": "execute_result"
    }
   ],
   "source": [
    "d_s(x,z,x,z)"
   ]
  },
  {
   "cell_type": "code",
   "execution_count": 66,
   "metadata": {},
   "outputs": [],
   "source": [
    "def ne(x,z,Ret):\n",
    "    A=np.multiply(np.multiply(Ret,CT),Ret)\n",
    "    B=d_s(x,z,x,z).T\n",
    "    return np.einsum('ijk,ik->ij', A,B)"
   ]
  },
  {
   "cell_type": "code",
   "execution_count": 67,
   "metadata": {},
   "outputs": [],
   "source": [
    "def ne_(dx,dz,DT,Ret):\n",
    "    return -fg_e.T-fD(dx,dz,DT,Ret) #-sigma(x,y,z).T"
   ]
  },
  {
   "cell_type": "code",
   "execution_count": 68,
   "metadata": {},
   "outputs": [],
   "source": [
    "# sigma(x,y,z)"
   ]
  },
  {
   "cell_type": "code",
   "execution_count": 69,
   "metadata": {},
   "outputs": [
    {
     "data": {
      "text/plain": [
       "array([[-1308.42881227,  1271.26637548,  5992.31097512,  -605.04450091],\n",
       "       [ 7985.5437564 ,  1449.84036612,  -227.61704911,  -177.9296589 ]])"
      ]
     },
     "execution_count": 69,
     "metadata": {},
     "output_type": "execute_result"
    }
   ],
   "source": [
    "ne_(dx,dz,DT,Ret)"
   ]
  },
  {
   "cell_type": "code",
   "execution_count": 70,
   "metadata": {},
   "outputs": [],
   "source": [
    "# mp*ddp = d_s(ne,ds)+np.dot(Re_b,ne_)"
   ]
  },
  {
   "cell_type": "code",
   "execution_count": 71,
   "metadata": {},
   "outputs": [
    {
     "name": "stdout",
     "output_type": "stream",
     "text": [
      "0:00:00.000318\n"
     ]
    }
   ],
   "source": [
    "startTime1 = datetime.now()\n",
    "ne(x,z,Ret)\n",
    "print(datetime.now() - startTime1)"
   ]
  },
  {
   "cell_type": "code",
   "execution_count": 72,
   "metadata": {},
   "outputs": [
    {
     "name": "stdout",
     "output_type": "stream",
     "text": [
      "0:00:00.000286\n"
     ]
    }
   ],
   "source": [
    "startTime1 = datetime.now()\n",
    "ne_(dx,dz,DT,Ret)\n",
    "print(datetime.now() - startTime1)"
   ]
  },
  {
   "cell_type": "code",
   "execution_count": 73,
   "metadata": {},
   "outputs": [
    {
     "data": {
      "text/plain": [
       "(4, 2, 2)"
      ]
     },
     "execution_count": 73,
     "metadata": {},
     "output_type": "execute_result"
    }
   ],
   "source": [
    "Re_b(Ret).shape"
   ]
  },
  {
   "cell_type": "code",
   "execution_count": 74,
   "metadata": {},
   "outputs": [],
   "source": [
    "def Irho_e(Ret):\n",
    "    return np.multiply(np.multiply(Ret,Irho),Ret) # (19) in [3] "
   ]
  },
  {
   "cell_type": "code",
   "execution_count": 75,
   "metadata": {},
   "outputs": [
    {
     "data": {
      "text/plain": [
       "array([[[ 80.95317154,   0.        ],\n",
       "        [  0.        , 193.92361743]],\n",
       "\n",
       "       [[ 49.71052704,   0.        ],\n",
       "        [  0.        ,  61.34878864]],\n",
       "\n",
       "       [[ 92.53602666,   0.        ],\n",
       "        [  0.        ,  15.60257472]],\n",
       "\n",
       "       [[ 39.64899534,   0.        ],\n",
       "        [  0.        , 116.49235371]]])"
      ]
     },
     "execution_count": 75,
     "metadata": {},
     "output_type": "execute_result"
    }
   ],
   "source": [
    "Irho_e(Ret)"
   ]
  },
  {
   "cell_type": "code",
   "execution_count": 76,
   "metadata": {},
   "outputs": [
    {
     "name": "stdout",
     "output_type": "stream",
     "text": [
      "0:00:00.000108\n"
     ]
    }
   ],
   "source": [
    "startTime1 = datetime.now()\n",
    "Irho_e(Ret)\n",
    "print(datetime.now() - startTime1)"
   ]
  },
  {
   "cell_type": "code",
   "execution_count": 77,
   "metadata": {},
   "outputs": [],
   "source": [
    "def Π_(arr):\n",
    "    φ,ψ=arr[0],arr[1]\n",
    "    return np.array([[np.cos(ψ),0], [0,1]])"
   ]
  },
  {
   "cell_type": "code",
   "execution_count": 78,
   "metadata": {},
   "outputs": [],
   "source": [
    "def Π(a,c):\n",
    "    xz=np.stack((a,c), axis=1)\n",
    "  \n",
    "    return np.apply_along_axis(Π_, 1, xz)\n",
    "    "
   ]
  },
  {
   "cell_type": "code",
   "execution_count": null,
   "metadata": {},
   "outputs": [],
   "source": []
  },
  {
   "cell_type": "code",
   "execution_count": 79,
   "metadata": {},
   "outputs": [
    {
     "name": "stdout",
     "output_type": "stream",
     "text": [
      "0:00:00.000274\n"
     ]
    }
   ],
   "source": [
    "startTime1 = datetime.now()\n",
    "Π(φ,ψ).shape\n",
    "print(datetime.now() - startTime1)"
   ]
  },
  {
   "cell_type": "code",
   "execution_count": 80,
   "metadata": {},
   "outputs": [
    {
     "data": {
      "text/plain": [
       "array([[[ 0.8997398 ,  0.        ],\n",
       "        [ 0.        ,  1.        ]],\n",
       "\n",
       "       [[-0.70505693,  0.        ],\n",
       "        [ 0.        ,  1.        ]],\n",
       "\n",
       "       [[-0.96195648,  0.        ],\n",
       "        [ 0.        ,  1.        ]],\n",
       "\n",
       "       [[ 0.62967448,  0.        ],\n",
       "        [ 0.        ,  1.        ]]])"
      ]
     },
     "execution_count": 80,
     "metadata": {},
     "output_type": "execute_result"
    }
   ],
   "source": [
    "Π(φ,ψ)"
   ]
  },
  {
   "cell_type": "code",
   "execution_count": 81,
   "metadata": {},
   "outputs": [],
   "source": [
    "def ωe(φ,ψ,x,z):  # (100) in [2]\n",
    "    A=Π(φ,ψ)\n",
    "#     print(ψ.shape)\n",
    "    B=d_s(φ,ψ,x,z).T\n",
    "\n",
    "    return np.einsum('ijk,ik->ij', A,B)    "
   ]
  },
  {
   "cell_type": "code",
   "execution_count": 82,
   "metadata": {},
   "outputs": [
    {
     "name": "stdout",
     "output_type": "stream",
     "text": [
      "0:00:00.000678\n"
     ]
    }
   ],
   "source": [
    "startTime1 = datetime.now()\n",
    "ωe(φ,ψ,x,z)\n",
    "print(datetime.now() - startTime1)"
   ]
  },
  {
   "cell_type": "code",
   "execution_count": 83,
   "metadata": {},
   "outputs": [
    {
     "data": {
      "text/plain": [
       "array([[ 0.        ,  0.        ],\n",
       "       [ 0.00317706, -0.01059722],\n",
       "       [ 0.00194168, -0.00707367],\n",
       "       [ 0.00615094,  0.04221196]])"
      ]
     },
     "execution_count": 83,
     "metadata": {},
     "output_type": "execute_result"
    }
   ],
   "source": [
    "ωe(φ,ψ,x,z)"
   ]
  },
  {
   "cell_type": "code",
   "execution_count": 84,
   "metadata": {},
   "outputs": [],
   "source": [
    "diag_CR = 1e11*np.array([1,  1]) \n",
    "CR=np.diag(diag_CR)"
   ]
  },
  {
   "cell_type": "code",
   "execution_count": 85,
   "metadata": {},
   "outputs": [
    {
     "data": {
      "text/plain": [
       "array([[1.e+11, 0.e+00],\n",
       "       [0.e+00, 1.e+11]])"
      ]
     },
     "execution_count": 85,
     "metadata": {},
     "output_type": "execute_result"
    }
   ],
   "source": [
    "CR"
   ]
  },
  {
   "cell_type": "code",
   "execution_count": 86,
   "metadata": {},
   "outputs": [],
   "source": [
    "def me(φ,ψ,x,z,Ret):\n",
    "    A=np.multiply(np.multiply(Ret,CR),Ret)\n",
    "    B=ωe(φ,ψ,x,z)\n",
    "    return np.einsum('ijk,ik->ij', A,B) "
   ]
  },
  {
   "cell_type": "code",
   "execution_count": 87,
   "metadata": {},
   "outputs": [
    {
     "name": "stdout",
     "output_type": "stream",
     "text": [
      "0:00:00.000454\n"
     ]
    }
   ],
   "source": [
    "startTime1 = datetime.now()\n",
    "me_=me(φ,ψ,x,z,Ret)\n",
    "print(datetime.now() - startTime1)"
   ]
  },
  {
   "cell_type": "code",
   "execution_count": 88,
   "metadata": {},
   "outputs": [
    {
     "data": {
      "text/plain": [
       "array([[ 0.00000000e+00,  0.00000000e+00],\n",
       "       [ 1.57933319e+08, -3.25063313e+08],\n",
       "       [ 1.79675461e+08, -5.51837289e+07],\n",
       "       [ 2.43878434e+08,  2.45868553e+09]])"
      ]
     },
     "execution_count": 88,
     "metadata": {},
     "output_type": "execute_result"
    }
   ],
   "source": [
    "me_"
   ]
  },
  {
   "cell_type": "code",
   "execution_count": 89,
   "metadata": {},
   "outputs": [],
   "source": [
    "diag_DR = 1.5*np.array([1,  1]) \n",
    " \n",
    "DR=np.diag(diag_DR)"
   ]
  },
  {
   "cell_type": "code",
   "execution_count": 90,
   "metadata": {},
   "outputs": [],
   "source": [
    "# np.dot(Re_b, np.dot( Irho_e, (np.dot(Π(φ,θ,ψ), np.array([ddφ,ddθ,ddψ])))))=\n",
    "# -np.dot(Re_b,np.dot(Irho_e,np.dot(Π(dφ,dθ,dψ),np.array([dφ,dθ,dψ])))-\n",
    "# np.cross(np.dot(Π(φ,θ,ψ),np.array([dφ,dθ,dψ])),np.dot(Irho_e, np.dot(Π(φ,θ,ψ),np.array([dφ,dθ,dψ]))))+\n",
    "# np.dot(Re_b,d_s(me_[0],me_[1],me_[2],dt,ds)+d_s(me_[0],me_[1],me_[2],dt,ds))+\n",
    "# np.cross(d_s(x,y,z,dt,ds),ne(x,y,z,φ,θ,ψ,dt,ds))+\n",
    "# np.dot(Re_b,-np.dot(DR,np.dot(Π(φ,θ,ψ),np.array([dφ,dθ,dψ]))))"
   ]
  },
  {
   "cell_type": "code",
   "execution_count": 91,
   "metadata": {},
   "outputs": [
    {
     "data": {
      "text/plain": [
       "array([[-1308.42881227,  1271.26637548,  5992.31097512,  -605.04450091],\n",
       "       [ 7985.5437564 ,  1449.84036612,  -227.61704911,  -177.9296589 ]])"
      ]
     },
     "execution_count": 91,
     "metadata": {},
     "output_type": "execute_result"
    }
   ],
   "source": [
    "ne_(dx,dz,DT,Ret)"
   ]
  },
  {
   "cell_type": "code",
   "execution_count": 92,
   "metadata": {},
   "outputs": [],
   "source": [
    "C=ne(x,z,Ret)\n",
    "  \n",
    "a,c=C[:,0],C[:,1],"
   ]
  },
  {
   "cell_type": "code",
   "execution_count": 93,
   "metadata": {},
   "outputs": [
    {
     "data": {
      "text/plain": [
       "array([[        0.        ,   2105826.08928527,   2096696.15448515,\n",
       "        -17217006.5704866 ],\n",
       "       [        0.        ,   1110578.80208973,  -1666691.16381437,\n",
       "         -4229180.63450559]])"
      ]
     },
     "execution_count": 93,
     "metadata": {},
     "output_type": "execute_result"
    }
   ],
   "source": [
    "d_s(a,c,x,z)"
   ]
  },
  {
   "cell_type": "code",
   "execution_count": 94,
   "metadata": {},
   "outputs": [
    {
     "data": {
      "text/plain": [
       "(4, 2, 2)"
      ]
     },
     "execution_count": 94,
     "metadata": {},
     "output_type": "execute_result"
    }
   ],
   "source": [
    "Re_b(Ret).shape"
   ]
  },
  {
   "cell_type": "code",
   "execution_count": 95,
   "metadata": {},
   "outputs": [
    {
     "data": {
      "text/plain": [
       "array([[-1308.42881227,  7985.5437564 ],\n",
       "       [ 1271.26637548,  1449.84036612],\n",
       "       [ 5992.31097512,  -227.61704911],\n",
       "       [ -605.04450091,  -177.9296589 ]])"
      ]
     },
     "execution_count": 95,
     "metadata": {},
     "output_type": "execute_result"
    }
   ],
   "source": [
    "ne_(dx,dz,DT, Ret).T"
   ]
  },
  {
   "cell_type": "code",
   "execution_count": 96,
   "metadata": {},
   "outputs": [
    {
     "data": {
      "text/plain": [
       "array([[-2485.67429573, 15848.84380446],\n",
       "       [  374.9512113 ,  2252.82675761],\n",
       "       [  227.96861132,  -291.19227713],\n",
       "       [ -986.02558365,  -313.72412078]])"
      ]
     },
     "execution_count": 96,
     "metadata": {},
     "output_type": "execute_result"
    }
   ],
   "source": [
    "ne_(dx,dz,DT,Ret).T+np.einsum('ijk,ik->ij', Re_b(Ret),ne_(dx,dz,DT,Ret).T)"
   ]
  },
  {
   "cell_type": "code",
   "execution_count": 97,
   "metadata": {},
   "outputs": [
    {
     "data": {
      "text/plain": [
       "array([[-1308.42881227,  7985.5437564 ],\n",
       "       [ 1271.26637548,  1449.84036612],\n",
       "       [ 5992.31097512,  -227.61704911],\n",
       "       [ -605.04450091,  -177.9296589 ]])"
      ]
     },
     "execution_count": 97,
     "metadata": {},
     "output_type": "execute_result"
    }
   ],
   "source": [
    "ne_(dx,dz,DT,Ret).T"
   ]
  },
  {
   "cell_type": "markdown",
   "metadata": {},
   "source": [
    "### Vessel"
   ]
  },
  {
   "cell_type": "code",
   "execution_count": 98,
   "metadata": {},
   "outputs": [],
   "source": [
    "class VesselSemisub: # Semisub model from Fossen\n",
    "    \n",
    "    def __init__(self):\n",
    "        \n",
    "        MRB = 1.0e10 * np.array(\n",
    "            [\n",
    "                [0.0027, 0, 0, 0, -0.0530, 0],\n",
    "                [0, 0.0027, 0, 0.0530, 0, -0.0014],\n",
    "                [0, 0, 0.0027, 0, 0.0014, 0],\n",
    "                [0, 0.0530, 0, 3.4775, 0, -0.0265],\n",
    "                [-0.0530, 0, 0.0014, 0, 3.8150, 0],\n",
    "                [0, -0.0014, 0, -0.0265, 0, 3.7192],\n",
    "            ],\n",
    "            float,\n",
    "        )\n",
    "\n",
    "        MA = 1.0e10 * np.array(\n",
    "            [\n",
    "                [0.0017, 0, 0, 0, -0.0255, 0],\n",
    "                [0, 0.0042, 0, 0.0365, 0, 0],\n",
    "                [0, 0, 0.0021, 0, 0, 0],\n",
    "                [0, 0.0365, 0, 1.3416, 0, 0],\n",
    "                [-0.0255, 0, 0, 0, 2.2267, 0],\n",
    "                [0, 0, 0, 0, 0, 3.2049],\n",
    "            ],\n",
    "            float,\n",
    "        )\n",
    "\n",
    "        self.D = 1.0e09 * np.array(\n",
    "            [\n",
    "                [0.0004, 0, 0, 0, -0.0085, 0],\n",
    "                [0, 0.0003, 0, 0.0067, 0, -0.0002],\n",
    "                [0, 0, 0.0034, 0, 0.0017, 0],\n",
    "                [0, 0.0067, 0, 4.8841, 0, -0.0034],\n",
    "                [-0.0085, 0, 0.0017, 0, 7.1383, 0],\n",
    "                [0, -0.0002, 0, -0.0034, 0, 0.8656],\n",
    "            ],\n",
    "            float,\n",
    "        )\n",
    "\n",
    "        self.G = 1.0e10 * np.diag([0.0, 0.0, 0.0006, 1.4296, 2.6212, 0.0])\n",
    "        self.M = MRB + MA\n",
    "    \n",
    "        self.G=np.delete(self.G,(1,4), axis=0)\n",
    "        self.G=np.delete(self.G,(1,4), axis=1)\n",
    "        \n",
    "        self.M =np.delete(self.M ,(1,4), axis=0)\n",
    "        self.M =np.delete(self.M ,(1,4), axis=1)\n",
    "        \n",
    "        self.D =np.delete(self.D,(1,4), axis=0)\n",
    "        self.D =np.delete(self.D ,(1,4), axis=1)\n",
    "        \n",
    "\n",
    "    def eq_left(self,η, dη):\n",
    "        return (np.matmul(self.D, dη) + np.dot(self.G,η))\n",
    "        \n",
    "    def tau(self,η, dη, ddη):\n",
    "        return (np.matmul(self.M,ddη) + np.matmul(self.D, dη) + np.dot(self.G,η))"
   ]
  },
  {
   "cell_type": "code",
   "execution_count": 99,
   "metadata": {},
   "outputs": [],
   "source": [
    "V=VesselSemisub()"
   ]
  },
  {
   "cell_type": "code",
   "execution_count": 100,
   "metadata": {},
   "outputs": [],
   "source": [
    "η=np.array([0.1,0.4,.34,0.7])\n",
    "dη=np.array([0,0,0,0])\n",
    "ddη=np.array([0,0,0,0])"
   ]
  },
  {
   "cell_type": "code",
   "execution_count": 101,
   "metadata": {},
   "outputs": [],
   "source": [
    "tau_force = V.tau(η,dη, ddη)"
   ]
  },
  {
   "cell_type": "code",
   "execution_count": 102,
   "metadata": {},
   "outputs": [
    {
     "data": {
      "text/plain": [
       "array([0.00000e+00, 2.40000e+06, 4.86064e+09, 0.00000e+00])"
      ]
     },
     "execution_count": 102,
     "metadata": {},
     "output_type": "execute_result"
    }
   ],
   "source": [
    "tau_force"
   ]
  },
  {
   "cell_type": "code",
   "execution_count": 103,
   "metadata": {},
   "outputs": [],
   "source": [
    "# class VesselOtter: \n",
    "    \n",
    "#     def __init__(\n",
    "#         self, \n",
    "#         controlSystem=\"stepInput\", \n",
    "#         r = 0, \n",
    "#         V_current = 0, \n",
    "#         beta_current = 0,\n",
    "#         tau_X = 120\n",
    "#     ):\n",
    "        \n",
    "#         # Constants\n",
    "#         D2R = math.pi / 180     # deg2rad\n",
    "#         self.g = 9.81           # acceleration of gravity (m/s^2)\n",
    "#         rho = 1026              # density of water (kg/m^3)\n",
    "\n",
    "#         if controlSystem == \"headingAutopilot\":\n",
    "#             self.controlDescription = (\n",
    "#                 \"Heading autopilot, psi_d = \"\n",
    "#                 + str(r)\n",
    "#                 + \" deg\"\n",
    "#                 )\n",
    "#         else:\n",
    "#             self.controlDescription = \"Step inputs for n1 and n2\"\n",
    "#             controlSystem = \"stepInput\"\n",
    "\n",
    "#         self.ref = r\n",
    "#         self.V_c = V_current\n",
    "#         self.beta_c = beta_current * D2R\n",
    "#         self.controlMode = controlSystem\n",
    "#         self.tauX = tau_X  # surge force (N)\n",
    "\n",
    "#         # Initialize the Otter USV model\n",
    "#         self.T_n = 1.0  # propeller time constants (s)\n",
    "#         self.L = 2.0    # Length (m)\n",
    "#         self.B = 1.08   # beam (m)\n",
    "#         self.nu = np.array([0, 0, 0, 0, 0, 0], float)  # velocity vector\n",
    "#         self.u_actual = np.array([0, 0], float)  # propeller revolution states\n",
    "#         self.name = \"Otter USV (see 'otter.py' for more details)\"\n",
    "\n",
    "#         self.controls = [\n",
    "#             \"Left propeller shaft speed (rad/s)\",\n",
    "#             \"Right propeller shaft speed (rad/s)\"\n",
    "#         ]\n",
    "#         self.dimU = len(self.controls)\n",
    "\n",
    "#         # Vehicle parameters\n",
    "#         m = 55.0                                 # mass (kg)\n",
    "#         self.mp = 25.0                           # Payload (kg)\n",
    "#         self.m_total = m + self.mp\n",
    "#         self.rp = np.array([0.05, 0, -0.35], float) # location of payload (m)\n",
    "#         rg = np.array([0.2, 0, -0.2], float)     # CG for hull only (m)\n",
    "#         rg = (m * rg + self.mp * self.rp) / (m + self.mp)  # CG corrected for payload\n",
    "#         self.S_rg = Smtrx(rg)\n",
    "#         self.H_rg = Hmtrx(rg)\n",
    "#         self.S_rp = Smtrx(self.rp)\n",
    "\n",
    "#         R44 = 0.4 * self.B  # radii of gyration (m)\n",
    "#         R55 = 0.25 * self.L\n",
    "#         R66 = 0.25 * self.L\n",
    "#         T_yaw = 1.0         # time constant in yaw (s)\n",
    "#         Umax = 6 * 0.5144   # max forward speed (m/s)\n",
    "\n",
    "#         # Data for one pontoon\n",
    "#         self.B_pont = 0.25  # beam of one pontoon (m)\n",
    "#         y_pont = 0.395      # distance from centerline to waterline centroid (m)\n",
    "#         Cw_pont = 0.75      # waterline area coefficient (-)\n",
    "#         Cb_pont = 0.4       # block coefficient, computed from m = 55 kg\n",
    "\n",
    "#         # Inertia dyadic, volume displacement and draft\n",
    "#         nabla = (m + self.mp) / rho  # volume\n",
    "#         self.T = nabla / (2 * Cb_pont * self.B_pont * self.L)  # draft\n",
    "#         Ig_CG = m * np.diag(np.array([R44 ** 2, R55 ** 2, R66 ** 2]))\n",
    "#         self.Ig = Ig_CG - m * self.S_rg @ self.S_rg - self.mp * self.S_rp @ self.S_rp\n",
    "\n",
    "#         # Experimental propeller data including lever arms\n",
    "#         self.l1 = -y_pont  # lever arm, left propeller (m)\n",
    "#         self.l2 = y_pont  # lever arm, right propeller (m)\n",
    "#         self.k_pos = 0.02216 / 2  # Positive Bollard, one propeller\n",
    "#         self.k_neg = 0.01289 / 2  # Negative Bollard, one propeller\n",
    "#         self.n_max = math.sqrt((0.5 * 24.4 * self.g) / self.k_pos)  # max. prop. rev.\n",
    "#         self.n_min = -math.sqrt((0.5 * 13.6 * self.g) / self.k_neg) # min. prop. rev.\n",
    "\n",
    "#         # MRB_CG = [ (m+mp) * I3  O3      (Fossen 2021, Chapter 3)\n",
    "#         #               O3       Ig ]\n",
    "#         MRB_CG = np.zeros((6, 6))\n",
    "#         MRB_CG[0:3, 0:3] = (m + self.mp) * np.identity(3)\n",
    "#         MRB_CG[3:6, 3:6] = self.Ig\n",
    "#         MRB = self.H_rg.T @ MRB_CG @ self.H_rg\n",
    "        \n",
    "\n",
    "#         # Hydrodynamic added mass (best practice)\n",
    "#         Xudot = -0.1 * m\n",
    "#         Yvdot = -1.5 * m\n",
    "#         Zwdot = -1.0 * m\n",
    "#         Kpdot = -0.2 * self.Ig[0, 0]\n",
    "#         Mqdot = -0.8 * self.Ig[1, 1]\n",
    "#         Nrdot = -1.7 * self.Ig[2, 2]\n",
    "\n",
    "#         self.MA = -np.diag([Xudot, Yvdot, Zwdot, Kpdot, Mqdot, Nrdot])\n",
    "\n",
    "#         # System mass matrix\n",
    "#         self.M = MRB + self.MA\n",
    "#         self.Minv = np.linalg.inv(self.M.astype(np.float32))\n",
    "\n",
    "#         # Hydrostatic quantities (Fossen 2021, Chapter 4)\n",
    "#         Aw_pont = Cw_pont * self.L * self.B_pont  # waterline area, one pontoon\n",
    "#         I_T = (\n",
    "#             2\n",
    "#             * (1 / 12)\n",
    "#             * self.L\n",
    "#             * self.B_pont ** 3\n",
    "#             * (6 * Cw_pont ** 3 / ((1 + Cw_pont) * (1 + 2 * Cw_pont)))\n",
    "#             + 2 * Aw_pont * y_pont ** 2\n",
    "#         )\n",
    "#         I_L = 0.8 * 2 * (1 / 12) * self.B_pont * self.L ** 3\n",
    "#         KB = (1 / 3) * (5 * self.T / 2 - 0.5 * nabla / (self.L * self.B_pont))\n",
    "#         BM_T = I_T / nabla  # BM values\n",
    "#         BM_L = I_L / nabla\n",
    "#         KM_T = KB + BM_T    # KM values\n",
    "#         KM_L = KB + BM_L\n",
    "#         KG = self.T - rg[2]\n",
    "#         GM_T = KM_T - KG    # GM values\n",
    "#         GM_L = KM_L - KG\n",
    "\n",
    "#         G33 = rho * self.g * (2 * Aw_pont)  # spring stiffness\n",
    "#         G44 = rho * self.g * nabla * GM_T\n",
    "#         G55 = rho * self.g * nabla * GM_L\n",
    "#         G_CF = np.diag([0, 0, G33, G44, G55, 0])  # spring stiff. matrix in CF\n",
    "#         LCF = -0.2\n",
    "#         H = Hmtrx(np.array([LCF, 0.0, 0.0]))  # transform G_CF from CF to CO\n",
    "#         self.G = H.T @ G_CF @ H\n",
    "\n",
    "#         # Natural frequencies\n",
    "#         w3 = math.sqrt(G33 / self.M[2, 2])\n",
    "#         w4 = math.sqrt(G44 / self.M[3, 3])\n",
    "#         w5 = math.sqrt(G55 / self.M[4, 4])\n",
    "\n",
    "#         # Linear damping terms (hydrodynamic derivatives)\n",
    "#         Xu = -24.4 *self. g / Umax  # specified using the maximum speed\n",
    "#         Yv = 0\n",
    "#         Zw = -2 * 0.3 * w3 * self.M[2, 2]  # specified using relative damping\n",
    "#         Kp = -2 * 0.2 * w4 * self.M[3, 3]\n",
    "#         Mq = -2 * 0.4 * w5 * self.M[4, 4]\n",
    "#         Nr = -self.M[5, 5] / T_yaw  # specified by the time constant T_yaw\n",
    "\n",
    "#         self.D = -np.diag([Xu, Yv, Zw, Kp, Mq, Nr])\n",
    "\n",
    "#         # Propeller configuration/input matrix\n",
    "#         B = self.k_pos * np.array([[1, 1], [-self.l1, -self.l2]])\n",
    "#         self.Binv = np.linalg.inv(B.astype(np.float32))\n",
    "\n",
    "#         # Heading autopilot\n",
    "#         self.e_int = 0  # integral state\n",
    "#         self.wn = 1.2  # PID pole placement\n",
    "#         self.zeta = 0.8\n",
    "\n",
    "#         # Reference model\n",
    "#         self.r_max = 10 * math.pi / 180  # maximum yaw rate\n",
    "#         self.psi_d = 0  # angle, angular rate and angular acc. states\n",
    "#         self.r_d = 0\n",
    "#         self.a_d = 0\n",
    "#         self.wn_d = self.wn / 5  # desired natural frequency in yaw\n",
    "#         self.zeta_d = 1  # desired relative damping ratio\n",
    "    \n",
    "    \n",
    "#     def eq_left(self,η, dη):\n",
    "        \n",
    "#         CRB_CG = np.zeros((6, 6))\n",
    "#         CRB_CG[0:3, 0:3] = self.m_total * Smtrx(dη[3:6])\n",
    "#         CRB_CG[3:6, 3:6] = -Smtrx(np.matmul(self.Ig, dη[3:6]))\n",
    "#         CRB = self.H_rg.T @ CRB_CG @ self.H_rg  # transform CRB from CG to CO\n",
    "\n",
    "#         CA = m2c(self.MA, dη)\n",
    "#         CA[5, 0] = 0  # assume that the Munk moment in yaw can be neglected\n",
    "#         CA[5, 1] = 0  # if nonzero, must be balanced by adding nonlinear damping\n",
    "#         CA[0, 5] = 0\n",
    "#         CA[1, 5] = 0\n",
    "\n",
    "#         C = CRB + CA\n",
    "\n",
    "#         return (np.matmul(self.D, dη) + np.matmul(C, dη) + np.dot(self.G,η))\n",
    "        \n",
    "#     def tau(self,η, dη, ddη):\n",
    "\n",
    "        \n",
    "#         CRB_CG = np.zeros((6, 6))\n",
    "#         CRB_CG[0:3, 0:3] = self.m_total * Smtrx(dη[3:6])\n",
    "#         CRB_CG[3:6, 3:6] = -Smtrx(np.matmul(self.Ig, dη[3:6]))\n",
    "#         CRB = self.H_rg.T @ CRB_CG @ self.H_rg  # transform CRB from CG to CO\n",
    "\n",
    "#         CA = m2c(self.MA, dη)\n",
    "#         CA[5, 0] = 0  # assume that the Munk moment in yaw can be neglected\n",
    "#         CA[5, 1] = 0  # if nonzero, must be balanced by adding nonlinear damping\n",
    "#         CA[0, 5] = 0\n",
    "#         CA[1, 5] = 0\n",
    "\n",
    "#         C = CRB + CA\n",
    "#         return (np.matmul(self.M,ddη) + np.matmul(self.D, dη) + np.matmul(C, dη)+ np.dot(self.G,η))\n",
    "    "
   ]
  },
  {
   "cell_type": "code",
   "execution_count": 104,
   "metadata": {},
   "outputs": [],
   "source": [
    "# V=VesselOtter()"
   ]
  },
  {
   "cell_type": "code",
   "execution_count": 105,
   "metadata": {},
   "outputs": [],
   "source": [
    "# η=np.array([0.1,0.3,0.4,0.5,0.6,0.7])\n",
    "# dη=np.array([0,0,0,0,0,0])\n",
    "# ddη=np.array([0,0,0,0,0,0])"
   ]
  },
  {
   "cell_type": "code",
   "execution_count": 106,
   "metadata": {},
   "outputs": [],
   "source": [
    "# tau_force = V.tau(η,dη, ddη)"
   ]
  },
  {
   "cell_type": "code",
   "execution_count": 107,
   "metadata": {},
   "outputs": [],
   "source": [
    "# tau_force"
   ]
  },
  {
   "cell_type": "code",
   "execution_count": 108,
   "metadata": {},
   "outputs": [],
   "source": [
    "# np.matmul(np.array([[1.1,1.2],[1,2]]),np.array([1,2]))"
   ]
  },
  {
   "cell_type": "code",
   "execution_count": 109,
   "metadata": {},
   "outputs": [],
   "source": [
    "# V=VesselSemisub()"
   ]
  },
  {
   "cell_type": "code",
   "execution_count": 110,
   "metadata": {},
   "outputs": [],
   "source": [
    "# wave_force=9e6\n",
    "# wave_force=9e3\n",
    "# wave_force=0\n",
    "# kp, kd=1.95e9,1.5e9\n",
    "kp,kd=1.95e4, 1.5e4\n",
    "# kp,kd=1.95, 1.5\n",
    "wave_coef=1\n",
    "# kp,kd=1.95e16, 1.5e16"
   ]
  },
  {
   "cell_type": "code",
   "execution_count": 111,
   "metadata": {},
   "outputs": [],
   "source": [
    "def Fx(x,dx, kp, kd, x_ref = 0, dx_ref=0):\n",
    "    return -kp*(x-x_ref) - kd*(dx-dx_ref)"
   ]
  },
  {
   "cell_type": "code",
   "execution_count": 112,
   "metadata": {},
   "outputs": [],
   "source": [
    "Hs = 2.5 # significant wave height in m"
   ]
  },
  {
   "cell_type": "code",
   "execution_count": 113,
   "metadata": {},
   "outputs": [],
   "source": [
    "def wave_force(Hs,d0,qw, Cd=1.2):\n",
    "    g=9.81 \n",
    "    return 0.5 * qw * g * Hs**2 * d0 * Cd"
   ]
  },
  {
   "cell_type": "code",
   "execution_count": 114,
   "metadata": {},
   "outputs": [
    {
     "data": {
      "text/plain": [
       "28695.1696875"
      ]
     },
     "execution_count": 114,
     "metadata": {},
     "output_type": "execute_result"
    }
   ],
   "source": [
    "wave_force(Hs,d0,qw, Cd=1.2)"
   ]
  },
  {
   "cell_type": "code",
   "execution_count": 115,
   "metadata": {},
   "outputs": [
    {
     "data": {
      "text/plain": [
       "array([0.1 , 0.4 , 0.34, 0.7 ])"
      ]
     },
     "execution_count": 115,
     "metadata": {},
     "output_type": "execute_result"
    }
   ],
   "source": [
    "η"
   ]
  },
  {
   "cell_type": "code",
   "execution_count": 116,
   "metadata": {},
   "outputs": [
    {
     "data": {
      "text/plain": [
       "array([ 3441210.8227971 ,   781967.33034421, -1411331.02127003,\n",
       "        -425635.55014742])"
      ]
     },
     "execution_count": 116,
     "metadata": {},
     "output_type": "execute_result"
    }
   ],
   "source": [
    "Fx(x,dx, kp, kd, x_ref = 0, dx_ref=0)"
   ]
  },
  {
   "cell_type": "code",
   "execution_count": 117,
   "metadata": {},
   "outputs": [],
   "source": [
    "def tau(η, dη, wave_coef, kp, kd,time, Hs=2.5, Tp=10, x_ref = 0, dx_ref=0):\n",
    "    x,z,φ,ψ=η\n",
    "    dx,dz,dφ,dψ=dη\n",
    "    F=(np.array([-Fx(x,dx, kp, kd, x_ref, dx_ref),\n",
    "                 0])+wave_coef*np.array([0,wave_force(Hs,d0,qw)])*np.sin(2*np.pi/Tp*time+1)).T\n",
    "    Ret=Re_t_([φ,ψ])\n",
    "    tmp=np.dot(Re_b(Ret), F)\n",
    "    return  np.concatenate([tmp.tolist(),[0,0]], axis=0)"
   ]
  },
  {
   "cell_type": "code",
   "execution_count": 118,
   "metadata": {},
   "outputs": [
    {
     "data": {
      "text/plain": [
       "array([1491.4422652 , 6866.71557051,    0.        ,    0.        ])"
      ]
     },
     "execution_count": 118,
     "metadata": {},
     "output_type": "execute_result"
    }
   ],
   "source": [
    "tau(η, dη, wave_coef, kp, kd,3)"
   ]
  },
  {
   "cell_type": "markdown",
   "metadata": {},
   "source": [
    "### Static solution"
   ]
  },
  {
   "cell_type": "code",
   "execution_count": 119,
   "metadata": {},
   "outputs": [],
   "source": [
    "def catenary(x,Ws,Fh):\n",
    "    return (Fh/Ws)*(np.cosh(x*Ws/Fh)-1)"
   ]
  },
  {
   "cell_type": "code",
   "execution_count": 120,
   "metadata": {},
   "outputs": [],
   "source": [
    "pipe_weight_per_unit_length = mp #  (submerged) [kg/m]  # 113.07 - not submerged"
   ]
  },
  {
   "cell_type": "code",
   "execution_count": 121,
   "metadata": {},
   "outputs": [],
   "source": [
    "Fx_0=82945396"
   ]
  },
  {
   "cell_type": "code",
   "execution_count": 122,
   "metadata": {},
   "outputs": [],
   "source": [
    "Ws = pipe_weight_per_unit_length*9.81 # [N/m]\n",
    "h=700"
   ]
  },
  {
   "cell_type": "code",
   "execution_count": 123,
   "metadata": {},
   "outputs": [],
   "source": [
    "S=math.sqrt(h*(2*Fx_0/Ws -h))\n",
    "horizontal_length=(Fx_0/Ws -h)*np.log((S+Fx_0/Ws)/(Fx_0/Ws-h))"
   ]
  },
  {
   "cell_type": "code",
   "execution_count": 124,
   "metadata": {},
   "outputs": [],
   "source": [
    "delta_x=horizontal_length/(node_N-1)"
   ]
  },
  {
   "cell_type": "code",
   "execution_count": 125,
   "metadata": {},
   "outputs": [],
   "source": [
    "x0=[i*delta_x for i in range(node_N)]\n",
    "z0=[]\n",
    "for i in range(len(x0)):\n",
    "    z0.append(catenary(x0[i],Ws,Fx_0))"
   ]
  },
  {
   "cell_type": "code",
   "execution_count": 126,
   "metadata": {},
   "outputs": [
    {
     "data": {
      "text/plain": [
       "([0.0, 3684.228281487207, 7368.456562974414, 11052.68484446162],\n",
       " [0.0, 77.06804644731459, 308.40705929683963, 694.4218951076863])"
      ]
     },
     "execution_count": 126,
     "metadata": {},
     "output_type": "execute_result"
    }
   ],
   "source": [
    "x0,z0"
   ]
  },
  {
   "cell_type": "code",
   "execution_count": 127,
   "metadata": {},
   "outputs": [
    {
     "data": {
      "image/png": "[encoded data removed]",
      "text/plain": [
       "<Figure size 432x288 with 1 Axes>"
      ]
     },
     "metadata": {
      "needs_background": "light"
     },
     "output_type": "display_data"
    }
   ],
   "source": [
    "plt.plot(x0, z0)\n",
    "plt.show()"
   ]
  },
  {
   "cell_type": "code",
   "execution_count": 128,
   "metadata": {},
   "outputs": [],
   "source": [
    "rng = np.random.default_rng()\n",
    "q0=np.zeros(8*node_N)"
   ]
  },
  {
   "cell_type": "code",
   "execution_count": 129,
   "metadata": {},
   "outputs": [],
   "source": [
    "for j in range(1,8):\n",
    "    if j==1:  \n",
    "        q0[(j-1)*node_N:j*node_N]=x0\n",
    "    elif j==3:    \n",
    "        q0[(j-1)*node_N:j*node_N]=z0"
   ]
  },
  {
   "cell_type": "code",
   "execution_count": 130,
   "metadata": {},
   "outputs": [
    {
     "data": {
      "text/plain": [
       "(32,)"
      ]
     },
     "execution_count": 130,
     "metadata": {},
     "output_type": "execute_result"
    }
   ],
   "source": [
    "q0.shape"
   ]
  },
  {
   "cell_type": "code",
   "execution_count": 131,
   "metadata": {},
   "outputs": [],
   "source": [
    "def static_func(Q):\n",
    "    t=0\n",
    " \n",
    "    x,z=Q[0:node_N],Q[2*node_N:3*node_N]\n",
    "    dx,dz=Q[1*node_N:2*node_N],Q[3*node_N:4*node_N]\n",
    "    φ,ψ=Q[4*node_N:5*node_N],Q[6*node_N:7*node_N]\n",
    "    Ret = Re_t(φ,ψ)\n",
    "    dφ,dψ=Q[5*node_N:6*node_N],Q[7*node_N:8*node_N]\n",
    "    \n",
    "    η=[x[-1],z[-1],φ[-1],ψ[-1]]\n",
    "    \n",
    "    tau_force=np.array([-Fx_0,0,0,0])\n",
    "\n",
    "    \n",
    "    \n",
    "    C=ne(x,z,Ret)\n",
    "    a,c=C[:,0],C[:,1],\n",
    "\n",
    "    Z0=tau_force[:2]\n",
    "   \n",
    "    Z1 = d_s(a,c,x,z).T\n",
    "\n",
    "    DT_0=np.zeros((2,2))\n",
    "    Z2=ne_(dx,dz,DT_0,Ret).T\n",
    "    \n",
    "    \n",
    "    Z =  Z1 + Z2 + Z0\n",
    "    \n",
    "############################################################    \n",
    "    ddx, ddz = 1/Ws*np.linalg.solve(Re_b(Ret),Z).T \n",
    "############################################################    \n",
    "   \n",
    "    me_=me(φ,ψ,x,z,Ret)\n",
    "  \n",
    "   \n",
    "    C0=np.einsum('ijk,kp->ijp',np.einsum('ijk,ikr->ijr',np.linalg.inv(Π(φ,ψ).astype(np.float32)),\n",
    "                        Re_b(Ret)),tau_force[2:].reshape(2,1)) \n",
    "    C3= d_s(me_[:,0],me_[:,1],x,z).astype(np.float32).T\n",
    "\n",
    "    B_ =C3\n",
    "#     print(C3.shape, C0.shape)\n",
    "    B=(B_ + C0.squeeze()\n",
    "      )\n",
    "\n",
    "    A2 = Irho_e(Ret).astype(np.float32)\n",
    "    A3=Π(φ,ψ).astype(np.float32)\n",
    "    A=np.einsum('ijk,ikr->ijr',A2,A3)\n",
    "#     A=np.einsum('ijk,ikr->ijr', Re_b(Ret), np.einsum('ijk,ikr->ijr',A2,A3))\n",
    "\n",
    "\n",
    "#############\n",
    "    ddφ,ddψ = np.linalg.solve(A,B).T\n",
    "#############################################\n",
    "\n",
    "\n",
    "\n",
    "\n",
    "#     ans_φ=[]\n",
    "#     ans_θ=[]\n",
    "#     ans_ψ=[]\n",
    "#     for i in range(len(A)):\n",
    "#         a,b,c=np.linalg.lstsq(A[i],B[i], rcond=None)[0]\n",
    "#         ans_φ.append(a)\n",
    "#         ans_θ.append(b)\n",
    "#         ans_ψ.append(c)\n",
    "    \n",
    "#     ddφ,ddθ,ddψ=np.array(ans_φ),np.array(ans_θ),np.array(ans_ψ)\n",
    "    \n",
    "#     print(dx, ddx, dz, ddz, dφ, ddφ, dψ, ddψ)\n",
    "\n",
    "    ans=np.concatenate([dx, ddx, dz, ddz, dφ, ddφ, dψ, ddψ], axis=0)\n",
    "#     print(ans.shape)\n",
    " \n",
    "    return ans\n",
    "    "
   ]
  },
  {
   "cell_type": "code",
   "execution_count": 132,
   "metadata": {},
   "outputs": [
    {
     "data": {
      "text/plain": [
       "(32,)"
      ]
     },
     "execution_count": 132,
     "metadata": {},
     "output_type": "execute_result"
    }
   ],
   "source": [
    "q0.shape"
   ]
  },
  {
   "cell_type": "code",
   "execution_count": 133,
   "metadata": {},
   "outputs": [
    {
     "name": "stderr",
     "output_type": "stream",
     "text": [
      "/Library/Frameworks/Python.framework/Versions/3.7/lib/python3.7/site-packages/scipy/optimize/minpack.py:175: RuntimeWarning: The iteration is not making good progress, as measured by the \n",
      "  improvement from the last ten iterations.\n",
      "  warnings.warn(msg, RuntimeWarning)\n"
     ]
    }
   ],
   "source": [
    "root = fsolve(static_func, q0)"
   ]
  },
  {
   "cell_type": "code",
   "execution_count": 134,
   "metadata": {},
   "outputs": [
    {
     "data": {
      "text/plain": [
       "array([    0.        ,  3684.22828149,  7368.45656297, 11052.68484446,\n",
       "           0.        ,     0.        ,     0.        ,     0.        ,\n",
       "           0.        ,    77.06804645,   308.4070593 ,   694.42189511,\n",
       "           0.        ,     0.        ,     0.        ,     0.        ,\n",
       "           0.        ,     0.        ,     0.        ,     0.        ,\n",
       "           0.        ,     0.        ,     0.        ,     0.        ,\n",
       "           0.        ,     0.        ,     0.        ,     0.        ,\n",
       "           0.        ,     0.        ,     0.        ,     0.        ])"
      ]
     },
     "execution_count": 134,
     "metadata": {},
     "output_type": "execute_result"
    }
   ],
   "source": [
    "root"
   ]
  },
  {
   "cell_type": "code",
   "execution_count": 135,
   "metadata": {},
   "outputs": [],
   "source": [
    "x0_,z0_=root[:node_N],root[2*node_N:3*node_N]"
   ]
  },
  {
   "cell_type": "code",
   "execution_count": 136,
   "metadata": {},
   "outputs": [
    {
     "data": {
      "text/plain": [
       "[0.0, 3684.228281487207, 7368.456562974414, 11052.68484446162]"
      ]
     },
     "execution_count": 136,
     "metadata": {},
     "output_type": "execute_result"
    }
   ],
   "source": [
    "x0"
   ]
  },
  {
   "cell_type": "code",
   "execution_count": 137,
   "metadata": {},
   "outputs": [
    {
     "data": {
      "text/plain": [
       "array([    0.        ,  3684.22828149,  7368.45656297, 11052.68484446])"
      ]
     },
     "execution_count": 137,
     "metadata": {},
     "output_type": "execute_result"
    }
   ],
   "source": [
    "x0_"
   ]
  },
  {
   "cell_type": "code",
   "execution_count": 138,
   "metadata": {},
   "outputs": [
    {
     "data": {
      "text/plain": [
       "[0.0, 77.06804644731459, 308.40705929683963, 694.4218951076863]"
      ]
     },
     "execution_count": 138,
     "metadata": {},
     "output_type": "execute_result"
    }
   ],
   "source": [
    "z0"
   ]
  },
  {
   "cell_type": "code",
   "execution_count": 139,
   "metadata": {},
   "outputs": [
    {
     "data": {
      "text/plain": [
       "array([  0.        ,  77.06804645, 308.4070593 , 694.42189511])"
      ]
     },
     "execution_count": 139,
     "metadata": {},
     "output_type": "execute_result"
    }
   ],
   "source": [
    "z0_"
   ]
  },
  {
   "cell_type": "code",
   "execution_count": 140,
   "metadata": {},
   "outputs": [
    {
     "data": {
      "image/png": "[encoded data removed]",
      "text/plain": [
       "<Figure size 432x288 with 1 Axes>"
      ]
     },
     "metadata": {
      "needs_background": "light"
     },
     "output_type": "display_data"
    }
   ],
   "source": [
    "plt.plot(x0_, z0_)\n",
    "plt.show()"
   ]
  },
  {
   "cell_type": "code",
   "execution_count": 141,
   "metadata": {},
   "outputs": [],
   "source": [
    "for j in range(1,8):\n",
    "    if j==1:  \n",
    "        q0[(j-1)*node_N:j*node_N]=x0_\n",
    "    elif j==3:    \n",
    "        q0[(j-1)*node_N:j*node_N]=z0_"
   ]
  },
  {
   "cell_type": "code",
   "execution_count": 142,
   "metadata": {},
   "outputs": [
    {
     "data": {
      "text/plain": [
       "array([    0.        ,  3684.22828149,  7368.45656297, 11052.68484446,\n",
       "           0.        ,     0.        ,     0.        ,     0.        ,\n",
       "           0.        ,    77.06804645,   308.4070593 ,   694.42189511,\n",
       "           0.        ,     0.        ,     0.        ,     0.        ,\n",
       "           0.        ,     0.        ,     0.        ,     0.        ,\n",
       "           0.        ,     0.        ,     0.        ,     0.        ,\n",
       "           0.        ,     0.        ,     0.        ,     0.        ,\n",
       "           0.        ,     0.        ,     0.        ,     0.        ])"
      ]
     },
     "execution_count": 142,
     "metadata": {},
     "output_type": "execute_result"
    }
   ],
   "source": [
    "q0"
   ]
  },
  {
   "cell_type": "markdown",
   "metadata": {},
   "source": [
    "### Dynamics"
   ]
  },
  {
   "cell_type": "code",
   "execution_count": 143,
   "metadata": {},
   "outputs": [],
   "source": [
    "# def grayscott1d(Q,p,t):\n",
    "def grayscott1d(t, Q):\n",
    "#     print(t)\n",
    "     \n",
    "    x,z=Q[0:node_N],Q[2*node_N:3*node_N]\n",
    "    x[0]=0\n",
    "    z[0]=0\n",
    "\n",
    "    dx,dz=Q[1*node_N:2*node_N],Q[3*node_N:4*node_N]\n",
    "    \n",
    "    dx[0]=0\n",
    "    dz[0]=0\n",
    "\n",
    "    φ,ψ=Q[4*node_N:5*node_N],Q[6*node_N:7*node_N]\n",
    "    \n",
    "    Ret = Re_t(φ,ψ)\n",
    "\n",
    "    dφ,dψ=Q[5*node_N:6*node_N],Q[7*node_N:8*node_N]\n",
    "    \n",
    "    η=[x[-1],z[-1],φ[-1],ψ[-1]]\n",
    "    dη=[dx[-1],dz[-1],dφ[-1],dψ[-1]]\n",
    "    \n",
    "    left=V.eq_left(η,dη)\n",
    "\n",
    "    # PD controller after 30 sec\n",
    "#     if t<30:\n",
    "#         ddη=np.linalg.lstsq(V.M, -left + tau(η, dη, wave_coef, Fx_0/η[0], 0, t), rcond=None)[0]\n",
    "#     else:\n",
    "    hack =1\n",
    "    ddη=np.linalg.lstsq(V.M.astype(np.float32)*hack, -left.astype(np.float32) \n",
    "                        + tau(η,dη, wave_coef, kp, kd, t).astype(np.float32)\n",
    "                            , rcond=None)[0]\n",
    "#     print('ddη', ddη)\n",
    " \n",
    "    tau_force = V.tau(η,dη,ddη).astype(np.float32)\n",
    "#     tau_force = tau(η,dη, wave_coef, kp, kd, t) # simple motion \n",
    "#     print(tau_force)\n",
    "\n",
    "    C=ne(x,z,Ret)\n",
    "\n",
    "  \n",
    "    a,c=C[:,0],C[:,1]\n",
    "#     Z0=tau_force[:3]\n",
    "    Z0=tau_force[:2]\n",
    "   \n",
    "    Z1 = d_s(a,c,x,z).T\n",
    "\n",
    "    Z2=ne_(dx,dz,DT,Ret).T\n",
    "    \n",
    "    Z= (Z1 + Z2 + Z0)\n",
    "\n",
    "     \n",
    "############################################################    \n",
    "#     ddx,ddy, ddz = 1/Ws*np.linalg.solve(Re_b(Ret),Z).T \n",
    "############################################################    \n",
    "    ans_x=[]\n",
    "    ans_z=[]\n",
    "    RRRR=Re_b(Ret)\n",
    "    for i in range(len(RRRR)):\n",
    "        a,c=np.linalg.lstsq(Ws*RRRR[i], Z[i], rcond=None)[0]\n",
    "        ans_x.append(a)\n",
    "        ans_z.append(c)\n",
    "    \n",
    "    ddx,ddz = np.array(ans_x),np.array(ans_z)    \n",
    "    \n",
    " \n",
    "    \n",
    "    me_=me(φ,ψ,x,z,Ret)\n",
    "\n",
    "    C1=np.einsum('ijk,ik->ij', Irho_e(Ret).astype(np.float32),\n",
    "                                                        np.einsum('ijk,ik->ij', Π(dφ,dψ).astype(np.float32), \n",
    "                                                                  np.array([dφ,dψ]).astype(np.float32).T))\n",
    "    \n",
    "#     print(np.einsum('ijk,ik->ij',Π(φ,ψ).astype(np.float32),np.array([dφ,dψ]).astype(np.float32).T))\n",
    "#     print(np.einsum('ijk,ik->ij',Irho_e(Ret).astype(np.float32),\n",
    "#                            np.einsum('ijk,ik->ij',Π(φ,ψ).astype(np.float32),np.array([dφ,dψ]).astype(np.float32).T)))\n",
    "    C2= np.cross(np.einsum('ijk,ik->ij',Π(φ,ψ).astype(np.float32),np.array([dφ,dψ]).astype(np.float32).T),\n",
    "                 np.einsum('ijk,ik->ij',Irho_e(Ret).astype(np.float32),\n",
    "                           np.einsum('ijk,ik->ij',Π(φ,ψ).astype(np.float32),np.array([dφ,dψ]).astype(np.float32).T)))\n",
    "#     print(C2.shape)\n",
    "\n",
    "    C3= d_s(me_[:,0],me_[:,1],x,z).astype(np.float32).T\n",
    "\n",
    "    C4= np.cross(d_s(x,z,x,z).T,ne(x,z,Ret))\n",
    "\n",
    "    K1=np.einsum('ijk,ik->ij',Π(φ,ψ).astype(np.float32),np.array([dφ,dψ]).astype(np.float32).T).T\n",
    "\n",
    "    C5= -np.dot(DR,K1).astype(np.float32).T\n",
    "#     print(np.linalg.inv(Π(φ,θ,ψ).astype(np.float32)).shape)\n",
    "\n",
    "    C0=np.einsum('ijk,kp->ijp',\n",
    "                 np.linalg.inv(Π(φ,ψ)), tau_force[2:].reshape(2,1)\n",
    "                ) \n",
    "#     print(C1.shape,C2.shape,C3.shape,C4.shape,C5.shape)\n",
    "    B_ =(-C1-C2.reshape(node_N,1)+C3+C4.reshape(node_N,1)+C5)\n",
    "    B= B_ +C0.squeeze()\n",
    "       \n",
    "\n",
    "    A2 = Irho_e(Ret).astype(np.float32)\n",
    "    A3=Π(φ,ψ).astype(np.float32)\n",
    "\n",
    "    A=np.einsum('ijk,ikr->ijr',A2,A3)\n",
    "#     A=np.einsum('ijk,ikr->ijr', Re_b(Ret), np.einsum('ijk,ikr->ijr',A2,A3))\n",
    "\n",
    "############################################\n",
    "#     ddφ,ddθ,ddψ = np.linalg.solve(A,B).T\n",
    "#############################################\n",
    "\n",
    "    ans_φ=[]\n",
    "    ans_ψ=[]\n",
    "    for i in range(len(A)):\n",
    "        a,c=np.linalg.lstsq(A[i],B[i], rcond=None)[0]\n",
    "        ans_φ.append(a)\n",
    "        ans_ψ.append(c)\n",
    "    \n",
    "    ddφ,ddψ=np.array(ans_φ),np.array(ans_ψ)\n",
    "\n",
    "    A1111=np.concatenate([dx, ddx, dz, ddz, dφ, ddφ, dψ, ddψ], axis=0)\n",
    "#     A1111=np.concatenate([dx, ddx, \n",
    "#                           np.zeros(node_N), np.zeros(node_N),\n",
    "#                           dz, ddz,\n",
    "#                           np.zeros(node_N),  np.zeros(node_N),\n",
    "#                           np.zeros(node_N), np.zeros(node_N),\n",
    "#                           np.zeros(node_N),  np.zeros(node_N),\n",
    "#                           ], axis=0)\n",
    "\n",
    "        \n",
    "\n",
    "#     print(A1111)\n",
    "    return A1111"
   ]
  },
  {
   "cell_type": "code",
   "execution_count": 144,
   "metadata": {},
   "outputs": [],
   "source": [
    "# ode15s = scipy.integrate.ode(grayscott1d)\n",
    "# # ode15s.set_integrator('vode', method='bdf', order=15, nsteps=3000)\n",
    "# ode15s.set_integrator('vode',  order=15, nsteps=3000)\n",
    "# ode15s.set_initial_value(q0, 0)"
   ]
  },
  {
   "cell_type": "code",
   "execution_count": 145,
   "metadata": {},
   "outputs": [],
   "source": [
    "# tspan = (0., 60)\n",
    "tspan = (0., 5)"
   ]
  },
  {
   "cell_type": "code",
   "execution_count": 146,
   "metadata": {},
   "outputs": [
    {
     "name": "stdout",
     "output_type": "stream",
     "text": [
      "0:20:53.578664\n"
     ]
    }
   ],
   "source": [
    "startTime1 = datetime.now()\n",
    "# prob = de.ODEProblem(grayscott1d, q0, tspan)\n",
    "# us = de.solve(prob)\n",
    "us=solve_ivp(grayscott1d,  tspan, q0, \n",
    "#              method='LSODA',\n",
    "#              method= 'BDF'\n",
    "#              vectorized=True\n",
    "#              min_step=1e-6\n",
    "#              rtol=1e9, atol=1e9\n",
    "            )\n",
    "# us=ode15s.integrate(10)\n",
    "print(datetime.now() - startTime1)"
   ]
  },
  {
   "cell_type": "code",
   "execution_count": 147,
   "metadata": {},
   "outputs": [],
   "source": [
    "fin=us"
   ]
  },
  {
   "cell_type": "code",
   "execution_count": 148,
   "metadata": {
    "scrolled": true
   },
   "outputs": [],
   "source": [
    "# startTime1 = datetime.now()\n",
    "# us=odeint(grayscott1d, torch.from_numpy(q0), torch.from_numpy(t.astype(np.float32)))\n",
    "# print(datetime.now() - startTime1)"
   ]
  },
  {
   "cell_type": "code",
   "execution_count": 149,
   "metadata": {},
   "outputs": [
    {
     "data": {
      "text/plain": [
       "  message: 'Required step size is less than spacing between numbers.'\n",
       "     nfev: 433832\n",
       "     njev: 0\n",
       "      nlu: 0\n",
       "      sol: None\n",
       "   status: -1\n",
       "  success: False\n",
       "        t: array([0.00000000e+00, 5.34990542e-09, 5.88489596e-08, ...,\n",
       "       3.03117621e+00, 3.03117621e+00, 3.03117621e+00])\n",
       " t_events: None\n",
       "        y: array([[ 0.00000000e+00,  0.00000000e+00,  0.00000000e+00, ...,\n",
       "         0.00000000e+00,  0.00000000e+00,  0.00000000e+00],\n",
       "       [ 3.68422828e+03,  3.68422828e+03,  3.68422828e+03, ...,\n",
       "         4.28368785e+03,  4.28368785e+03,  4.28368785e+03],\n",
       "       [ 7.36845656e+03,  7.36845656e+03,  7.36845656e+03, ...,\n",
       "         7.96760960e+03,  7.96760960e+03,  7.96760960e+03],\n",
       "       ...,\n",
       "       [ 0.00000000e+00, -1.26415797e-20,  6.36119838e-19, ...,\n",
       "        -9.39019425e-04, -9.39019425e-04, -9.39019425e-04],\n",
       "       [ 0.00000000e+00, -2.44158478e-28,  6.03165722e-27, ...,\n",
       "        -1.66641409e+03, -1.66505875e+03, -1.65909340e+03],\n",
       "       [ 0.00000000e+00, -3.98599014e-19, -1.78954339e-18, ...,\n",
       "         3.92543775e-02,  3.92543775e-02,  3.92543775e-02]])\n",
       " y_events: None"
      ]
     },
     "execution_count": 149,
     "metadata": {},
     "output_type": "execute_result"
    }
   ],
   "source": [
    "fin"
   ]
  },
  {
   "cell_type": "code",
   "execution_count": 150,
   "metadata": {},
   "outputs": [],
   "source": [
    "fin=fin.y.T"
   ]
  },
  {
   "cell_type": "code",
   "execution_count": null,
   "metadata": {},
   "outputs": [],
   "source": []
  },
  {
   "cell_type": "code",
   "execution_count": 151,
   "metadata": {},
   "outputs": [
    {
     "name": "stderr",
     "output_type": "stream",
     "text": [
      "/Library/Frameworks/Python.framework/Versions/3.7/lib/python3.7/site-packages/ipykernel_launcher.py:2: MatplotlibDeprecationWarning: Calling gca() with keyword arguments was deprecated in Matplotlib 3.4. Starting two minor releases later, gca() will take no keyword arguments. The gca() function should only be used to get the current axes, or if no axes exist, create new axes with default keyword arguments. To create a new axes with non-default arguments, use plt.axes() or plt.subplot().\n",
      "  \n"
     ]
    },
    {
     "data": {
      "image/png": "[encoded data removed]",
      "text/plain": [
       "<Figure size 936x936 with 1 Axes>"
      ]
     },
     "metadata": {
      "needs_background": "light"
     },
     "output_type": "display_data"
    }
   ],
   "source": [
    "fig=plt.figure(figsize=(13,13))\n",
    "ax = fig.gca(projection='3d')\n",
    "\n",
    "X0=fin[0,[i for i in range(0,node_N)]]\n",
    "Z0=fin[0,[i for i in range(2*node_N,3*node_N)]]\n",
    "# Z0=fin[0,[i for i in range(4*node_N,5*node_N)]]\n",
    "# for j in range(len(fin.y.T)):\n",
    "j=-1\n",
    "X=fin[j,[i for i in range(0,node_N)]]\n",
    "Z=fin[j,[i for i in range(2*node_N,3*node_N)]]\n",
    "# Z=fin[j,[i for i in range(4*node_N,5*node_N)]]\n",
    "\n",
    "ax.plot(X0,Z0, color='r')\n",
    "ax.plot(X,Z, color='b') \n",
    "# ax.view_init(-30,-30)\n",
    "ax.view_init(90,-90)\n",
    "# ax.set_xlim([0, 5])\n",
    "# ax.set_ylim([0, 5])\n",
    "plt.show()"
   ]
  },
  {
   "cell_type": "code",
   "execution_count": 152,
   "metadata": {},
   "outputs": [
    {
     "data": {
      "text/plain": [
       "(array([    0.        ,  4283.68784722,  7967.60960269, 11651.80727886]),\n",
       " array([  0.        ,  83.60067557, 315.68190252, 701.65921857]))"
      ]
     },
     "execution_count": 152,
     "metadata": {},
     "output_type": "execute_result"
    }
   ],
   "source": [
    "X,Z"
   ]
  },
  {
   "cell_type": "code",
   "execution_count": 153,
   "metadata": {},
   "outputs": [
    {
     "data": {
      "text/plain": [
       "(array([    0.        ,  3684.22828149,  7368.45656297, 11052.68484446]),\n",
       " array([  0.        ,  77.06804645, 308.4070593 , 694.42189511]))"
      ]
     },
     "execution_count": 153,
     "metadata": {},
     "output_type": "execute_result"
    }
   ],
   "source": [
    "X0,Z0"
   ]
  },
  {
   "cell_type": "code",
   "execution_count": 154,
   "metadata": {},
   "outputs": [],
   "source": [
    "us=fin.T"
   ]
  },
  {
   "cell_type": "code",
   "execution_count": 155,
   "metadata": {},
   "outputs": [],
   "source": [
    "t=np.arange(tspan[0],tspan[1],tspan[1]/len(us.T))"
   ]
  },
  {
   "cell_type": "code",
   "execution_count": 156,
   "metadata": {},
   "outputs": [
    {
     "data": {
      "image/png": "[encoded data removed]",
      "text/plain": [
       "<Figure size 432x288 with 1 Axes>"
      ]
     },
     "metadata": {
      "needs_background": "light"
     },
     "output_type": "display_data"
    }
   ],
   "source": [
    "plt.plot(t,us.T[:,2],'-')\n",
    "plt.xlabel('t')\n",
    "plt.ylabel('x2')\n",
    "plt.show()"
   ]
  },
  {
   "cell_type": "code",
   "execution_count": 157,
   "metadata": {},
   "outputs": [
    {
     "data": {
      "image/png": "[encoded data removed]",
      "text/plain": [
       "<Figure size 432x288 with 1 Axes>"
      ]
     },
     "metadata": {
      "needs_background": "light"
     },
     "output_type": "display_data"
    }
   ],
   "source": [
    "plt.plot(t,us.T[:,6] ,'-')\n",
    "plt.xlabel('t')\n",
    "plt.ylabel('dx2')\n",
    "plt.show()"
   ]
  },
  {
   "cell_type": "code",
   "execution_count": 158,
   "metadata": {},
   "outputs": [
    {
     "data": {
      "image/png": "[encoded data removed]",
      "text/plain": [
       "<Figure size 432x288 with 1 Axes>"
      ]
     },
     "metadata": {
      "needs_background": "light"
     },
     "output_type": "display_data"
    }
   ],
   "source": [
    "plt.plot(t,us.T[:,10] ,'-')\n",
    "plt.xlabel('t')\n",
    "plt.ylabel('z2')\n",
    "plt.show()"
   ]
  },
  {
   "cell_type": "code",
   "execution_count": 159,
   "metadata": {},
   "outputs": [
    {
     "data": {
      "image/png": "[encoded data removed]",
      "text/plain": [
       "<Figure size 432x288 with 1 Axes>"
      ]
     },
     "metadata": {
      "needs_background": "light"
     },
     "output_type": "display_data"
    }
   ],
   "source": [
    "plt.plot(t,us.T[:,14] ,'-')\n",
    "plt.xlabel('t')\n",
    "plt.ylabel('dz2')\n",
    "plt.show()"
   ]
  },
  {
   "cell_type": "code",
   "execution_count": 160,
   "metadata": {},
   "outputs": [
    {
     "data": {
      "image/png": "[encoded data removed]",
      "text/plain": [
       "<Figure size 432x288 with 1 Axes>"
      ]
     },
     "metadata": {
      "needs_background": "light"
     },
     "output_type": "display_data"
    }
   ],
   "source": [
    "plt.plot(t,us.T[:,18],'-')\n",
    "plt.xlabel('t')\n",
    "plt.ylabel('φ2')\n",
    "plt.show()"
   ]
  },
  {
   "cell_type": "code",
   "execution_count": 161,
   "metadata": {},
   "outputs": [
    {
     "data": {
      "image/png": "[encoded data removed]",
      "text/plain": [
       "<Figure size 432x288 with 1 Axes>"
      ]
     },
     "metadata": {
      "needs_background": "light"
     },
     "output_type": "display_data"
    }
   ],
   "source": [
    "plt.plot(t,us.T[:,21] ,'-')\n",
    "plt.xlabel('t')\n",
    "plt.ylabel('dφ2')\n",
    "plt.show()"
   ]
  },
  {
   "cell_type": "code",
   "execution_count": 162,
   "metadata": {},
   "outputs": [
    {
     "data": {
      "image/png": "[encoded data removed]",
      "text/plain": [
       "<Figure size 432x288 with 1 Axes>"
      ]
     },
     "metadata": {
      "needs_background": "light"
     },
     "output_type": "display_data"
    }
   ],
   "source": [
    "plt.plot(t,us.T[:,26],'-')\n",
    "plt.xlabel('t')\n",
    "plt.ylabel('ψ2')\n",
    "plt.show()"
   ]
  },
  {
   "cell_type": "code",
   "execution_count": 163,
   "metadata": {},
   "outputs": [
    {
     "data": {
      "image/png": "[encoded data removed]",
      "text/plain": [
       "<Figure size 432x288 with 1 Axes>"
      ]
     },
     "metadata": {
      "needs_background": "light"
     },
     "output_type": "display_data"
    }
   ],
   "source": [
    "plt.plot(t,us.T[:,30] ,'-')\n",
    "plt.xlabel('t')\n",
    "plt.ylabel('dψ2')\n",
    "plt.show()"
   ]
  },
  {
   "cell_type": "code",
   "execution_count": null,
   "metadata": {},
   "outputs": [],
   "source": []
  }
 ],
 "metadata": {
  "kernelspec": {
   "display_name": "Python 3",
   "language": "python",
   "name": "python3"
  },
  "language_info": {
   "codemirror_mode": {
    "name": "ipython",
    "version": 3
   },
   "file_extension": ".py",
   "mimetype": "text/x-python",
   "name": "python",
   "nbconvert_exporter": "python",
   "pygments_lexer": "ipython3",
   "version": "3.7.7"
  }
 },
 "nbformat": 4,
 "nbformat_minor": 4
}
