{
 "cells": [
  {
   "cell_type": "markdown",
   "metadata": {},
   "source": [
    "#### Model taken from:\n",
    "- [1] Offshore Pipelaying Dynamics. Gullik Anthon Jensen \n",
    "- [2] A nonlinear PDE formulation for offshore vessel pipeline installation. Gullik A. Jensen et al \n",
    "- [3] Modeling and Control of Offshore Pipelay Operations Based on a Finite Strain Pipe Model. Gullik A. Jensen "
   ]
  },
  {
   "cell_type": "code",
   "execution_count": 1,
   "metadata": {},
   "outputs": [],
   "source": [
    "# this notebook is for a lower dimension of X, Z and φ, ψ only \n",
    "# (i.e. surge, heave and roll, yaw) "
   ]
  },
  {
   "cell_type": "code",
   "execution_count": 2,
   "metadata": {},
   "outputs": [],
   "source": [
    "# TODO: It seems that the model is doing just a parallel translation of coordinates?"
   ]
  },
  {
   "cell_type": "code",
   "execution_count": 3,
   "metadata": {},
   "outputs": [],
   "source": [
    "# import julia;\n",
    "# julia.install()"
   ]
  },
  {
   "cell_type": "code",
   "execution_count": 4,
   "metadata": {},
   "outputs": [],
   "source": [
    "import numpy as np\n",
    "import numdifftools as nd\n",
    "import math\n",
    "import matplotlib.pyplot as plt\n",
    "from datetime import datetime\n",
    "# from scipy.integrate import odeint\n",
    "# from torchdiffeq import odeint\n",
    "import torch\n",
    "import inspect\n",
    "import random\n",
    "from scipy.optimize import fsolve\n",
    "from scipy.integrate import solve_ivp\n",
    "import scipy\n",
    "from numpy import linalg as LA"
   ]
  },
  {
   "cell_type": "code",
   "execution_count": 5,
   "metadata": {},
   "outputs": [],
   "source": [
    "import sys\n",
    "sys.path.insert(0, \"../../../../Ocean_Intella/PythonVehicleSimulator-master/src/python_vehicle_simulator\")\n",
    "sys.path.insert(0, \"../../../../Ocean_Intella/PythonVehicleSimulator-master/src\")"
   ]
  },
  {
   "cell_type": "code",
   "execution_count": 6,
   "metadata": {},
   "outputs": [],
   "source": [
    "# from diffeqpy import ode\n",
    "# from diffeqpy import de"
   ]
  },
  {
   "cell_type": "code",
   "execution_count": 7,
   "metadata": {},
   "outputs": [],
   "source": [
    "from vehicles import shipClarke83\n",
    "from python_vehicle_simulator.vehicles import *\n",
    "from python_vehicle_simulator.lib import *\n",
    "from python_vehicle_simulator.lib.gnc import ssa"
   ]
  },
  {
   "cell_type": "code",
   "execution_count": 8,
   "metadata": {},
   "outputs": [],
   "source": [
    "from sympy import *"
   ]
  },
  {
   "cell_type": "code",
   "execution_count": 9,
   "metadata": {},
   "outputs": [],
   "source": [
    "def R2D(value):  # radians to degrees\n",
    "    return value * 180 / math.pi"
   ]
  },
  {
   "cell_type": "code",
   "execution_count": 10,
   "metadata": {},
   "outputs": [],
   "source": [
    "mp = 96 #  (submerged) [kg/m]"
   ]
  },
  {
   "cell_type": "code",
   "execution_count": 11,
   "metadata": {},
   "outputs": [],
   "source": [
    "node_N=4"
   ]
  },
  {
   "cell_type": "code",
   "execution_count": 12,
   "metadata": {},
   "outputs": [],
   "source": [
    "# diag_Irho = 1e2*np.array([1, 2]) # [m^4]  , p.99 in [1]\n",
    "diag_Irho = 1e15*np.array([1, 2]) # [m^4]  !!!!!!!!!!!!!!!!!!!!!!!!!!!!!!!!!!!!!!!!!!!!!!\n",
    "\n",
    "Irho=np.diag(diag_Irho)"
   ]
  },
  {
   "cell_type": "code",
   "execution_count": 13,
   "metadata": {},
   "outputs": [
    {
     "data": {
      "text/plain": [
       "array([[1.e+15, 0.e+00],\n",
       "       [0.e+00, 2.e+15]])"
      ]
     },
     "execution_count": 13,
     "metadata": {},
     "output_type": "execute_result"
    }
   ],
   "source": [
    "Irho"
   ]
  },
  {
   "cell_type": "code",
   "execution_count": 14,
   "metadata": {},
   "outputs": [],
   "source": [
    "qw = 1025 # Water density [kg/m3]\n",
    "d0 = 0.761 # Outer diameter of pipe, [m]"
   ]
  },
  {
   "cell_type": "code",
   "execution_count": 15,
   "metadata": {},
   "outputs": [],
   "source": [
    "diag_DT = 1.5*np.array([1, 1]) # [N/m]  , p.99 in [1]"
   ]
  },
  {
   "cell_type": "code",
   "execution_count": 16,
   "metadata": {},
   "outputs": [],
   "source": [
    "DT=np.diag(diag_DT) # (35) in [2]"
   ]
  },
  {
   "cell_type": "code",
   "execution_count": 17,
   "metadata": {},
   "outputs": [
    {
     "data": {
      "text/plain": [
       "array([[1.5, 0. ],\n",
       "       [0. , 1.5]])"
      ]
     },
     "execution_count": 17,
     "metadata": {},
     "output_type": "execute_result"
    }
   ],
   "source": [
    "DT"
   ]
  },
  {
   "cell_type": "code",
   "execution_count": 18,
   "metadata": {},
   "outputs": [],
   "source": [
    "diag_CT = 1e9*np.array([1, 1]) # [Nm2] p. 4721 in [3]\n",
    "# diag_CT = 1*np.array([1, 1]) # [Nm2] !!!!!!!!!!!!!!!!!!!!!!!!!!!!!!!!"
   ]
  },
  {
   "cell_type": "code",
   "execution_count": 19,
   "metadata": {},
   "outputs": [],
   "source": [
    "CT=np.diag(diag_CT)"
   ]
  },
  {
   "cell_type": "code",
   "execution_count": 20,
   "metadata": {},
   "outputs": [
    {
     "data": {
      "text/plain": [
       "array([[1.e+09, 0.e+00],\n",
       "       [0.e+00, 1.e+09]])"
      ]
     },
     "execution_count": 20,
     "metadata": {},
     "output_type": "execute_result"
    }
   ],
   "source": [
    "CT"
   ]
  },
  {
   "cell_type": "code",
   "execution_count": 21,
   "metadata": {},
   "outputs": [],
   "source": [
    "def Re_t_(arr):\n",
    "    φ,ψ=arr[0],arr[1]\n",
    "  \n",
    "    Cφ=np.matrix([[1,0], \n",
    "                  [0,np.cos(φ)]])\n",
    "\n",
    "    Cψ=np.matrix([[np.cos(ψ),0], \n",
    "                  [0,1]])\n",
    "        \n",
    "\n",
    "    return np.array(np.dot(Cφ,Cψ) )"
   ]
  },
  {
   "cell_type": "code",
   "execution_count": 22,
   "metadata": {},
   "outputs": [
    {
     "data": {
      "text/plain": [
       "array([[ 0.28366219,  0.        ],\n",
       "       [ 0.        , -0.9899925 ]])"
      ]
     },
     "execution_count": 22,
     "metadata": {},
     "output_type": "execute_result"
    }
   ],
   "source": [
    "Re_t_([3,5])"
   ]
  },
  {
   "cell_type": "code",
   "execution_count": 23,
   "metadata": {},
   "outputs": [],
   "source": [
    "rng = np.random.default_rng()"
   ]
  },
  {
   "cell_type": "code",
   "execution_count": 24,
   "metadata": {},
   "outputs": [],
   "source": [
    "φ,ψ = rng.standard_normal(node_N),rng.standard_normal(node_N)"
   ]
  },
  {
   "cell_type": "code",
   "execution_count": 25,
   "metadata": {},
   "outputs": [
    {
     "data": {
      "text/plain": [
       "array([ 2.14269726,  0.87758109, -1.2321358 , -2.11161831])"
      ]
     },
     "execution_count": 25,
     "metadata": {},
     "output_type": "execute_result"
    }
   ],
   "source": [
    "ψ"
   ]
  },
  {
   "cell_type": "code",
   "execution_count": 26,
   "metadata": {},
   "outputs": [],
   "source": [
    "def Re_t(a,c):\n",
    "    xz=np.stack((a,c), axis=1)\n",
    "    return np.apply_along_axis(Re_t_, 1, xz)"
   ]
  },
  {
   "cell_type": "code",
   "execution_count": 27,
   "metadata": {},
   "outputs": [
    {
     "data": {
      "text/plain": [
       "array([[-0.54123147,  0.        ],\n",
       "       [ 0.        ,  0.9137385 ]])"
      ]
     },
     "execution_count": 27,
     "metadata": {},
     "output_type": "execute_result"
    }
   ],
   "source": [
    "Re_t_([φ[0],ψ[0]])"
   ]
  },
  {
   "cell_type": "code",
   "execution_count": 28,
   "metadata": {
    "scrolled": true
   },
   "outputs": [
    {
     "name": "stdout",
     "output_type": "stream",
     "text": [
      "0:00:00.000858\n"
     ]
    }
   ],
   "source": [
    "startTime1 = datetime.now()\n",
    "Ret=Re_t(φ,ψ)\n",
    "print(datetime.now() - startTime1)"
   ]
  },
  {
   "cell_type": "code",
   "execution_count": 29,
   "metadata": {},
   "outputs": [
    {
     "data": {
      "text/plain": [
       "array([[[-0.54123147,  0.        ],\n",
       "        [ 0.        ,  0.9137385 ]],\n",
       "\n",
       "       [[ 0.63901363,  0.        ],\n",
       "        [ 0.        ,  0.9998571 ]],\n",
       "\n",
       "       [[ 0.332224  ,  0.        ],\n",
       "        [ 0.        ,  0.98704479]],\n",
       "\n",
       "       [[-0.51484084,  0.        ],\n",
       "        [ 0.        ,  0.96402043]]])"
      ]
     },
     "execution_count": 29,
     "metadata": {},
     "output_type": "execute_result"
    }
   ],
   "source": [
    "Ret"
   ]
  },
  {
   "cell_type": "code",
   "execution_count": 30,
   "metadata": {},
   "outputs": [
    {
     "data": {
      "text/plain": [
       "(4, 2, 2)"
      ]
     },
     "execution_count": 30,
     "metadata": {},
     "output_type": "execute_result"
    }
   ],
   "source": [
    "Ret.shape"
   ]
  },
  {
   "cell_type": "code",
   "execution_count": 31,
   "metadata": {},
   "outputs": [],
   "source": [
    "dx,dz=rng.standard_normal(node_N),rng.standard_normal(node_N)"
   ]
  },
  {
   "cell_type": "code",
   "execution_count": 32,
   "metadata": {},
   "outputs": [],
   "source": [
    "def C1(dx, dz, Ret):\n",
    "    B=np.vstack([dx**2,(dz**2)**0.5*dz])\n",
    "#     print(np.dot(Ret[0],B.T[0]))\n",
    "#     print(B.shape, Ret.shape)\n",
    "    ans=np.einsum('ijk,ik->ij', Ret,B.T)\n",
    "    return ans.T"
   ]
  },
  {
   "cell_type": "code",
   "execution_count": 33,
   "metadata": {},
   "outputs": [
    {
     "data": {
      "text/plain": [
       "array([0.64532377, 0.60247624, 1.72065766, 0.08691717])"
      ]
     },
     "execution_count": 33,
     "metadata": {},
     "output_type": "execute_result"
    }
   ],
   "source": [
    "dx**2"
   ]
  },
  {
   "cell_type": "code",
   "execution_count": 34,
   "metadata": {},
   "outputs": [
    {
     "data": {
      "text/plain": [
       "array([[-0.34926953,  0.38499053,  0.57164377, -0.04474851],\n",
       "       [ 0.25913554,  0.87111024, -2.42460866,  0.38274048]])"
      ]
     },
     "execution_count": 34,
     "metadata": {},
     "output_type": "execute_result"
    }
   ],
   "source": [
    "C1(dx,dz,Ret)"
   ]
  },
  {
   "cell_type": "code",
   "execution_count": 35,
   "metadata": {},
   "outputs": [
    {
     "data": {
      "text/plain": [
       "(2, 4)"
      ]
     },
     "execution_count": 35,
     "metadata": {},
     "output_type": "execute_result"
    }
   ],
   "source": [
    "C1(dx,dz,Ret).shape"
   ]
  },
  {
   "cell_type": "code",
   "execution_count": 36,
   "metadata": {},
   "outputs": [
    {
     "name": "stdout",
     "output_type": "stream",
     "text": [
      "0:00:00.000371\n"
     ]
    }
   ],
   "source": [
    "startTime1 = datetime.now()\n",
    "C1(dx,dz,Ret)\n",
    "print(datetime.now() - startTime1)"
   ]
  },
  {
   "cell_type": "code",
   "execution_count": 37,
   "metadata": {},
   "outputs": [],
   "source": [
    "def fD(dx,dz,DT,Ret):\n",
    "    return 1/2*d0*qw*np.dot(DT, C1(dx,dz,Ret))*9.81"
   ]
  },
  {
   "cell_type": "code",
   "execution_count": 38,
   "metadata": {},
   "outputs": [
    {
     "data": {
      "text/plain": [
       "array([-2004.46968916,  1487.18766369])"
      ]
     },
     "execution_count": 38,
     "metadata": {},
     "output_type": "execute_result"
    }
   ],
   "source": [
    "1/2*d0*qw*np.dot(DT,C1(dx,dz,Ret).T[0])*9.81"
   ]
  },
  {
   "cell_type": "code",
   "execution_count": 39,
   "metadata": {},
   "outputs": [
    {
     "data": {
      "text/plain": [
       "array([[ -2004.46968916,   2209.47370531,   3280.68300434,\n",
       "          -256.81321335],\n",
       "       [  1487.18766369,   4999.33120842, -13914.91137467,\n",
       "          2196.56061323]])"
      ]
     },
     "execution_count": 39,
     "metadata": {},
     "output_type": "execute_result"
    }
   ],
   "source": [
    "fD(dx,dz,DT,Ret)"
   ]
  },
  {
   "cell_type": "code",
   "execution_count": 40,
   "metadata": {},
   "outputs": [
    {
     "data": {
      "text/plain": [
       "array([[ -2004.46968916,   1487.18766369],\n",
       "       [  2209.47370531,   4999.33120842],\n",
       "       [  3280.68300434, -13914.91137467],\n",
       "       [  -256.81321335,   2196.56061323]])"
      ]
     },
     "execution_count": 40,
     "metadata": {},
     "output_type": "execute_result"
    }
   ],
   "source": [
    "fD(dx,dz,DT,Ret).T"
   ]
  },
  {
   "cell_type": "code",
   "execution_count": 41,
   "metadata": {},
   "outputs": [
    {
     "name": "stdout",
     "output_type": "stream",
     "text": [
      "0:00:00.000284\n"
     ]
    }
   ],
   "source": [
    "startTime1 = datetime.now()\n",
    "fD(dx,dz,DT,Ret)\n",
    "print(datetime.now() - startTime1)"
   ]
  },
  {
   "cell_type": "code",
   "execution_count": 42,
   "metadata": {},
   "outputs": [],
   "source": [
    "# https://docs.scipy.org/doc/scipy-1.8.0/tutorial/integrate.html  \n",
    "# 1-D Gray-Scott "
   ]
  },
  {
   "cell_type": "code",
   "execution_count": 43,
   "metadata": {},
   "outputs": [],
   "source": [
    "I=np.identity(2)"
   ]
  },
  {
   "cell_type": "code",
   "execution_count": 44,
   "metadata": {},
   "outputs": [
    {
     "name": "stdout",
     "output_type": "stream",
     "text": [
      "0:00:00.000433\n"
     ]
    }
   ],
   "source": [
    "startTime1 = datetime.now()\n",
    "np.dot(I,fD(dx,dz,DT,Ret))\n",
    "print(datetime.now() - startTime1)"
   ]
  },
  {
   "cell_type": "code",
   "execution_count": 45,
   "metadata": {},
   "outputs": [],
   "source": [
    "Rb_t=I # https://www.researchgate.net/profile/Thor-Fossen/publication/224560837_Modeling_and_Control_of_Offshore_Pipelay_Operations_Based_on_a_Finite_Strain_Pipe_Model/links/00b7d520e175a3f918000000/Modeling-and-Control-of-Offshore-Pipelay-Operations-Based-on-a-Finite-Strain-Pipe-Model.pdf"
   ]
  },
  {
   "cell_type": "code",
   "execution_count": 46,
   "metadata": {},
   "outputs": [
    {
     "data": {
      "text/plain": [
       "array([[1., 0.],\n",
       "       [0., 1.]])"
      ]
     },
     "execution_count": 46,
     "metadata": {},
     "output_type": "execute_result"
    }
   ],
   "source": [
    "Rb_t"
   ]
  },
  {
   "cell_type": "code",
   "execution_count": 47,
   "metadata": {},
   "outputs": [],
   "source": [
    "diag_DR = 1.5*np.array([1,  1]) # [N m/rad]  p.4721 in [3]"
   ]
  },
  {
   "cell_type": "code",
   "execution_count": 48,
   "metadata": {},
   "outputs": [],
   "source": [
    "DR=np.diag(diag_DR) "
   ]
  },
  {
   "cell_type": "code",
   "execution_count": 49,
   "metadata": {},
   "outputs": [],
   "source": [
    "dI= 0.69# Inner diameter of pipe, [m]"
   ]
  },
  {
   "cell_type": "code",
   "execution_count": 50,
   "metadata": {},
   "outputs": [],
   "source": [
    "Ar=math.pi*((d0/2)**2-(dI/2)**2)"
   ]
  },
  {
   "cell_type": "code",
   "execution_count": 51,
   "metadata": {},
   "outputs": [
    {
     "data": {
      "text/plain": [
       "0.08091250419136858"
      ]
     },
     "execution_count": 51,
     "metadata": {},
     "output_type": "execute_result"
    }
   ],
   "source": [
    "Ar"
   ]
  },
  {
   "cell_type": "code",
   "execution_count": 52,
   "metadata": {},
   "outputs": [],
   "source": [
    "fg_e=np.array([[0,(mp-qw*Ar)*9.81] for x in range(node_N)])"
   ]
  },
  {
   "cell_type": "code",
   "execution_count": 53,
   "metadata": {},
   "outputs": [
    {
     "data": {
      "text/plain": [
       "array([[  0.        , 128.16454223],\n",
       "       [  0.        , 128.16454223],\n",
       "       [  0.        , 128.16454223],\n",
       "       [  0.        , 128.16454223]])"
      ]
     },
     "execution_count": 53,
     "metadata": {},
     "output_type": "execute_result"
    }
   ],
   "source": [
    "fg_e"
   ]
  },
  {
   "cell_type": "code",
   "execution_count": 54,
   "metadata": {},
   "outputs": [],
   "source": [
    "# # not checked \n",
    "# def k_sigma(hi,d0,fg_e):\n",
    "#     ans=[]\n",
    "#     for it in hi:\n",
    "#         if it<0:\n",
    "#             ans.append(0)\n",
    "#         elif 0<=it<=d0/20:\n",
    "#             ans.append(np.float64(LA.norm(fg_e,2)/(d0/8-d0/40)*10*it**2/d0))\n",
    "#         else:\n",
    "#             ans.append(np.float64(LA.norm(fg_e,2)/(d0/8-d0/40)*(it-d0/40)))     \n",
    "#     return np.array(ans).reshape(node_N,1)   "
   ]
  },
  {
   "cell_type": "code",
   "execution_count": 55,
   "metadata": {},
   "outputs": [],
   "source": [
    "x,z=100*rng.standard_normal(node_N),100*rng.standard_normal(node_N)"
   ]
  },
  {
   "cell_type": "code",
   "execution_count": 56,
   "metadata": {},
   "outputs": [],
   "source": [
    "# # not checked\n",
    "# def hi(x,y,z,d0):\n",
    "#     return (np.dot(np.array([x,y,z]).T,[0,0,1])+d0/2).reshape(node_N,1) "
   ]
  },
  {
   "cell_type": "code",
   "execution_count": 57,
   "metadata": {},
   "outputs": [],
   "source": [
    "# startTime1 = datetime.now()\n",
    "# hi(x,y,z,d0)\n",
    "# print(datetime.now() - startTime1)"
   ]
  },
  {
   "cell_type": "code",
   "execution_count": 58,
   "metadata": {},
   "outputs": [],
   "source": [
    "# k_sigma(hi(x,y,z,d0),d0,fg_e)"
   ]
  },
  {
   "cell_type": "code",
   "execution_count": 59,
   "metadata": {},
   "outputs": [],
   "source": [
    "# startTime1 = datetime.now()\n",
    "# k_sigma(hi(x,y,z,d0),d0,fg_e)\n",
    "# print(datetime.now() - startTime1)"
   ]
  },
  {
   "cell_type": "code",
   "execution_count": 60,
   "metadata": {},
   "outputs": [],
   "source": [
    "# # TODO: force shoud be acting only at nodes that are in contact with the seabed\n",
    "# # not checked\n",
    "# def sigma(x,y,z):\n",
    "#     return (k_sigma(hi(x,y,z,d0),d0,fg_e)*np.array([0,0,1]))"
   ]
  },
  {
   "cell_type": "code",
   "execution_count": 61,
   "metadata": {},
   "outputs": [],
   "source": [
    "# startTime1 = datetime.now()\n",
    "# sigma(x,y,z)\n",
    "# print(datetime.now() - startTime1)"
   ]
  },
  {
   "cell_type": "code",
   "execution_count": 62,
   "metadata": {},
   "outputs": [],
   "source": [
    "def Re_b(Ret):\n",
    "#     return np.dot(Ret, Rb_t ) # (5) in[3]\n",
    "    return Ret"
   ]
  },
  {
   "cell_type": "code",
   "execution_count": 63,
   "metadata": {},
   "outputs": [
    {
     "name": "stdout",
     "output_type": "stream",
     "text": [
      "0:00:00.000590\n"
     ]
    }
   ],
   "source": [
    "startTime1 = datetime.now()\n",
    "Re_b(Ret)\n",
    "print(datetime.now() - startTime1)"
   ]
  },
  {
   "cell_type": "code",
   "execution_count": 64,
   "metadata": {},
   "outputs": [],
   "source": [
    "def phi(x, z, Ret):\n",
    "    B=np.vstack([x,z])\n",
    "    return np.einsum('ijk,ik->ij', Ret, B.T)"
   ]
  },
  {
   "cell_type": "code",
   "execution_count": 65,
   "metadata": {},
   "outputs": [
    {
     "data": {
      "text/plain": [
       "array([[ -51.08109362,  137.18647181],\n",
       "       [ -56.96515071, -177.05615991],\n",
       "       [  32.50532273,  -22.05356675],\n",
       "       [  11.85415373,   32.01052431]])"
      ]
     },
     "execution_count": 65,
     "metadata": {},
     "output_type": "execute_result"
    }
   ],
   "source": [
    "phi(x,z,Ret)"
   ]
  },
  {
   "cell_type": "code",
   "execution_count": 66,
   "metadata": {},
   "outputs": [
    {
     "name": "stdout",
     "output_type": "stream",
     "text": [
      "0:00:00.000244\n"
     ]
    }
   ],
   "source": [
    "startTime1 = datetime.now()\n",
    "phi(x,z,Ret)\n",
    "print(datetime.now() - startTime1)"
   ]
  },
  {
   "cell_type": "code",
   "execution_count": 67,
   "metadata": {},
   "outputs": [],
   "source": [
    "# def d_s(da,dc,x,z):\n",
    "\n",
    "#     ds=np.sqrt(np.diff(x,prepend=x[0])**2\n",
    "#                  +np.diff(z,prepend=z[0])**2)\n",
    "#     ds[ds == 0] = 1\n",
    "#     return np.vstack([np.diff(da,prepend=da[0])/ds,np.diff(dc,prepend=dc[0])/ds])\n",
    "def d_s(f,a,c,Ret):\n",
    "#     ds=np.sqrt(np.diff(a,prepend=a[0])**2+np.diff(c,prepend=c[0])**2)\n",
    "    ds=np.sqrt(np.diff(a)**2+np.diff(c)**2)\n",
    "    ds[ds == 0] = 1\n",
    "    fun = f(a,c,Ret)\n",
    "#     ans=(np.diff(fun,prepend=fun[0].reshape(1,2),axis=0) / ds.reshape(node_N,1)).T\n",
    "    ans=(np.diff(fun,axis=0) / ds.reshape(node_N-1,1)).T\n",
    "    np.insert(ans, -1, ans[:,-1], axis=1)\n",
    "    return np.insert(ans, -1, 0.8*ans[:,-1], axis=1)"
   ]
  },
  {
   "cell_type": "code",
   "execution_count": 68,
   "metadata": {},
   "outputs": [
    {
     "name": "stdout",
     "output_type": "stream",
     "text": [
      "0:00:00.000954\n"
     ]
    }
   ],
   "source": [
    "startTime1 = datetime.now()\n",
    "d_s(phi,x,z,Ret)\n",
    "print(datetime.now() - startTime1)"
   ]
  },
  {
   "cell_type": "code",
   "execution_count": 69,
   "metadata": {},
   "outputs": [
    {
     "data": {
      "text/plain": [
       "array([[-0.01568365,  0.36863122, -0.1241989 , -0.15524863],\n",
       "       [-0.83759729,  0.63863297,  0.3251487 ,  0.40643588]])"
      ]
     },
     "execution_count": 69,
     "metadata": {},
     "output_type": "execute_result"
    }
   ],
   "source": [
    "d_s(phi,x,z,Ret)"
   ]
  },
  {
   "cell_type": "code",
   "execution_count": 70,
   "metadata": {},
   "outputs": [],
   "source": [
    "# def ne(x,z,Ret):\n",
    "#     A=np.multiply(np.multiply(Ret,CT),Ret)\n",
    "#     B=d_s(x,z,x,z).T\n",
    "#     return np.einsum('ijk,ik->ij', A,B)\n",
    "\n",
    "def ne(x,z,Ret):\n",
    "    A=np.multiply(np.multiply(Ret,CT),Ret)\n",
    "    B=d_s(phi,x,z,Ret).T\n",
    "#     print(B.shape)\n",
    "#     print(Ret.shape,np.multiply(Ret,[1.0]).shape)\n",
    "#     print( np.einsum('ijk,kp->ijp',Ret, np.array([1,0]).reshape(2,1)).squeeze())\n",
    "    return np.einsum('ijk,ik->ij', A,B-\n",
    "                     np.einsum('ijk,kp->ijp',Ret, np.array([1,0]).reshape(2,1)).squeeze())"
   ]
  },
  {
   "cell_type": "code",
   "execution_count": 71,
   "metadata": {},
   "outputs": [],
   "source": [
    "def ne_(dx,dz,DT,Ret):\n",
    "    return -fg_e.T-fD(dx,dz,DT,Ret) #-sigma(x,y,z).T"
   ]
  },
  {
   "cell_type": "code",
   "execution_count": 72,
   "metadata": {},
   "outputs": [],
   "source": [
    "# sigma(x,y,z)"
   ]
  },
  {
   "cell_type": "code",
   "execution_count": 73,
   "metadata": {},
   "outputs": [
    {
     "data": {
      "text/plain": [
       "array([[ 2004.46968916, -2209.47370531, -3280.68300434,   256.81321335],\n",
       "       [-1615.35220592, -5127.49575065, 13786.74683244, -2324.72515546]])"
      ]
     },
     "execution_count": 73,
     "metadata": {},
     "output_type": "execute_result"
    }
   ],
   "source": [
    "ne_(dx,dz,DT,Ret)"
   ]
  },
  {
   "cell_type": "code",
   "execution_count": 74,
   "metadata": {},
   "outputs": [],
   "source": [
    "# mp*ddp = d_s(ne,ds)+np.dot(Re_b,ne_)"
   ]
  },
  {
   "cell_type": "code",
   "execution_count": 75,
   "metadata": {},
   "outputs": [
    {
     "name": "stdout",
     "output_type": "stream",
     "text": [
      "0:00:00.000570\n"
     ]
    }
   ],
   "source": [
    "startTime1 = datetime.now()\n",
    "ne(x,z,Ret)\n",
    "print(datetime.now() - startTime1)"
   ]
  },
  {
   "cell_type": "code",
   "execution_count": 76,
   "metadata": {},
   "outputs": [
    {
     "name": "stdout",
     "output_type": "stream",
     "text": [
      "0:00:00.000423\n"
     ]
    }
   ],
   "source": [
    "startTime1 = datetime.now()\n",
    "ne_(dx,dz,DT,Ret)\n",
    "print(datetime.now() - startTime1)"
   ]
  },
  {
   "cell_type": "code",
   "execution_count": 77,
   "metadata": {},
   "outputs": [
    {
     "data": {
      "text/plain": [
       "(4, 2, 2)"
      ]
     },
     "execution_count": 77,
     "metadata": {},
     "output_type": "execute_result"
    }
   ],
   "source": [
    "Re_b(Ret).shape"
   ]
  },
  {
   "cell_type": "code",
   "execution_count": 78,
   "metadata": {},
   "outputs": [],
   "source": [
    "def Irho_e(Ret):\n",
    "    return np.multiply(np.multiply(Ret,Irho),Ret) # (19) in [3] "
   ]
  },
  {
   "cell_type": "code",
   "execution_count": 79,
   "metadata": {},
   "outputs": [
    {
     "data": {
      "text/plain": [
       "array([[[2.92931500e+14, 0.00000000e+00],\n",
       "        [0.00000000e+00, 1.66983608e+15]],\n",
       "\n",
       "       [[4.08338416e+14, 0.00000000e+00],\n",
       "        [0.00000000e+00, 1.99942845e+15]],\n",
       "\n",
       "       [[1.10372786e+14, 0.00000000e+00],\n",
       "        [0.00000000e+00, 1.94851483e+15]],\n",
       "\n",
       "       [[2.65061091e+14, 0.00000000e+00],\n",
       "        [0.00000000e+00, 1.85867076e+15]]])"
      ]
     },
     "execution_count": 79,
     "metadata": {},
     "output_type": "execute_result"
    }
   ],
   "source": [
    "Irho_e(Ret)"
   ]
  },
  {
   "cell_type": "code",
   "execution_count": 80,
   "metadata": {},
   "outputs": [
    {
     "name": "stdout",
     "output_type": "stream",
     "text": [
      "0:00:00.000164\n"
     ]
    }
   ],
   "source": [
    "startTime1 = datetime.now()\n",
    "Irho_e(Ret)\n",
    "print(datetime.now() - startTime1)"
   ]
  },
  {
   "cell_type": "code",
   "execution_count": 81,
   "metadata": {},
   "outputs": [],
   "source": [
    "def Π_(arr):\n",
    "    φ,ψ=arr[0],arr[1]\n",
    "    return np.array([[np.cos(ψ),0], [0,1]])"
   ]
  },
  {
   "cell_type": "code",
   "execution_count": 82,
   "metadata": {},
   "outputs": [],
   "source": [
    "def Π(a,c):\n",
    "    xz=np.stack((a,c), axis=1)\n",
    "  \n",
    "    return np.apply_along_axis(Π_, 1, xz)\n",
    "    "
   ]
  },
  {
   "cell_type": "code",
   "execution_count": 83,
   "metadata": {},
   "outputs": [
    {
     "name": "stdout",
     "output_type": "stream",
     "text": [
      "0:00:00.000741\n"
     ]
    }
   ],
   "source": [
    "startTime1 = datetime.now()\n",
    "Π(φ,ψ).shape\n",
    "print(datetime.now() - startTime1)"
   ]
  },
  {
   "cell_type": "code",
   "execution_count": 84,
   "metadata": {},
   "outputs": [
    {
     "data": {
      "text/plain": [
       "array([[[-0.54123147,  0.        ],\n",
       "        [ 0.        ,  1.        ]],\n",
       "\n",
       "       [[ 0.63901363,  0.        ],\n",
       "        [ 0.        ,  1.        ]],\n",
       "\n",
       "       [[ 0.332224  ,  0.        ],\n",
       "        [ 0.        ,  1.        ]],\n",
       "\n",
       "       [[-0.51484084,  0.        ],\n",
       "        [ 0.        ,  1.        ]]])"
      ]
     },
     "execution_count": 84,
     "metadata": {},
     "output_type": "execute_result"
    }
   ],
   "source": [
    "Π(φ,ψ)"
   ]
  },
  {
   "cell_type": "code",
   "execution_count": 85,
   "metadata": {},
   "outputs": [],
   "source": [
    "# def ωe(φ,ψ,x,z):  # (100) in [2]\n",
    "#     A=Π(φ,ψ)\n",
    "# #     print(ψ.shape)\n",
    "#     B=d_s(φ,ψ,x,z).T\n",
    "\n",
    "#     return np.einsum('ijk,ik->ij', A,B) \n",
    "def ωe(φ,ψ, dummy):  # (100) in [2]\n",
    "    A=Π(φ,ψ)\n",
    "    B=np.vstack([φ,ψ])\n",
    "    return np.einsum('ijk,ik->ij',A,B.T)"
   ]
  },
  {
   "cell_type": "code",
   "execution_count": 86,
   "metadata": {},
   "outputs": [
    {
     "name": "stdout",
     "output_type": "stream",
     "text": [
      "0:00:00.000311\n"
     ]
    }
   ],
   "source": [
    "startTime1 = datetime.now()\n",
    "ωe(φ,ψ,None)\n",
    "print(datetime.now() - startTime1)"
   ]
  },
  {
   "cell_type": "code",
   "execution_count": 87,
   "metadata": {},
   "outputs": [
    {
     "data": {
      "text/plain": [
       "array([[-0.2264535 ,  2.14269726],\n",
       "       [-0.01080293,  0.87758109],\n",
       "       [ 0.05353505, -1.2321358 ],\n",
       "       [ 0.13852457, -2.11161831]])"
      ]
     },
     "execution_count": 87,
     "metadata": {},
     "output_type": "execute_result"
    }
   ],
   "source": [
    "ωe(φ,ψ,None)"
   ]
  },
  {
   "cell_type": "code",
   "execution_count": 88,
   "metadata": {},
   "outputs": [],
   "source": [
    "diag_CR = 1e11*np.array([1,  1]) \n",
    "# diag_CR = 1e2*np.array([1,  1]) #!!!!!!!!!!!!!!!!!!!!!!!!!!!!!!!!!!!!!!!!!!!!!!!!!!!!!!!!!\n",
    "CR=np.diag(diag_CR)"
   ]
  },
  {
   "cell_type": "code",
   "execution_count": 89,
   "metadata": {},
   "outputs": [
    {
     "data": {
      "text/plain": [
       "array([[1.e+11, 0.e+00],\n",
       "       [0.e+00, 1.e+11]])"
      ]
     },
     "execution_count": 89,
     "metadata": {},
     "output_type": "execute_result"
    }
   ],
   "source": [
    "CR"
   ]
  },
  {
   "cell_type": "code",
   "execution_count": 90,
   "metadata": {},
   "outputs": [],
   "source": [
    "# def me(φ,ψ,x,z,Ret):\n",
    "#     A=np.multiply(np.multiply(Ret,CR),Ret)\n",
    "#     B=ωe(φ,ψ,x,z)\n",
    "#     return np.einsum('ijk,ik->ij', A,B) \n",
    "def d_me(φ,ψ,Ret):\n",
    "    A=np.multiply(np.multiply(Ret,CR),Ret)\n",
    "    B=d_s(ωe,φ,ψ,None)\n",
    "    return np.einsum('ijk,ik->ij', A,B.T)"
   ]
  },
  {
   "cell_type": "code",
   "execution_count": 91,
   "metadata": {},
   "outputs": [
    {
     "name": "stdout",
     "output_type": "stream",
     "text": [
      "0:00:00.000869\n"
     ]
    }
   ],
   "source": [
    "startTime1 = datetime.now()\n",
    "me_=d_me(φ,ψ,Ret)\n",
    "print(datetime.now() - startTime1)"
   ]
  },
  {
   "cell_type": "code",
   "execution_count": 92,
   "metadata": {},
   "outputs": [
    {
     "data": {
      "text/plain": [
       "array([[ 4.72159282e+09, -7.89489021e+10],\n",
       "       [ 1.24085883e+09, -9.96172991e+10],\n",
       "       [ 7.66490053e+08, -7.00132229e+10],\n",
       "       [ 2.30091465e+09, -8.34812291e+10]])"
      ]
     },
     "execution_count": 92,
     "metadata": {},
     "output_type": "execute_result"
    }
   ],
   "source": [
    "me_"
   ]
  },
  {
   "cell_type": "code",
   "execution_count": 93,
   "metadata": {},
   "outputs": [],
   "source": [
    "diag_DR = 1.5*np.array([1,  1]) \n",
    " \n",
    "DR=np.diag(diag_DR)"
   ]
  },
  {
   "cell_type": "code",
   "execution_count": 94,
   "metadata": {},
   "outputs": [],
   "source": [
    "# np.dot(Re_b, np.dot( Irho_e, (np.dot(Π(φ,θ,ψ), np.array([ddφ,ddθ,ddψ])))))=\n",
    "# -np.dot(Re_b,np.dot(Irho_e,np.dot(Π(dφ,dθ,dψ),np.array([dφ,dθ,dψ])))-\n",
    "# np.cross(np.dot(Π(φ,θ,ψ),np.array([dφ,dθ,dψ])),np.dot(Irho_e, np.dot(Π(φ,θ,ψ),np.array([dφ,dθ,dψ]))))+\n",
    "# np.dot(Re_b,d_s(me_[0],me_[1],me_[2],dt,ds)+d_s(me_[0],me_[1],me_[2],dt,ds))+\n",
    "# np.cross(d_s(x,y,z,dt,ds),ne(x,y,z,φ,θ,ψ,dt,ds))+\n",
    "# np.dot(Re_b,-np.dot(DR,np.dot(Π(φ,θ,ψ),np.array([dφ,dθ,dψ]))))"
   ]
  },
  {
   "cell_type": "code",
   "execution_count": 95,
   "metadata": {},
   "outputs": [
    {
     "data": {
      "text/plain": [
       "array([[ 2004.46968916, -2209.47370531, -3280.68300434,   256.81321335],\n",
       "       [-1615.35220592, -5127.49575065, 13786.74683244, -2324.72515546]])"
      ]
     },
     "execution_count": 95,
     "metadata": {},
     "output_type": "execute_result"
    }
   ],
   "source": [
    "ne_(dx,dz,DT,Ret)"
   ]
  },
  {
   "cell_type": "code",
   "execution_count": 96,
   "metadata": {},
   "outputs": [],
   "source": [
    "C=ne(x,z,Ret)\n",
    "  \n",
    "a,c=C[:,0],C[:,1],"
   ]
  },
  {
   "cell_type": "code",
   "execution_count": 97,
   "metadata": {},
   "outputs": [
    {
     "data": {
      "text/plain": [
       "(4, 2, 2)"
      ]
     },
     "execution_count": 97,
     "metadata": {},
     "output_type": "execute_result"
    }
   ],
   "source": [
    "Re_b(Ret).shape"
   ]
  },
  {
   "cell_type": "code",
   "execution_count": 98,
   "metadata": {},
   "outputs": [
    {
     "data": {
      "text/plain": [
       "array([[ 2004.46968916, -1615.35220592],\n",
       "       [-2209.47370531, -5127.49575065],\n",
       "       [-3280.68300434, 13786.74683244],\n",
       "       [  256.81321335, -2324.72515546]])"
      ]
     },
     "execution_count": 98,
     "metadata": {},
     "output_type": "execute_result"
    }
   ],
   "source": [
    "ne_(dx,dz,DT, Ret).T"
   ]
  },
  {
   "cell_type": "code",
   "execution_count": 99,
   "metadata": {},
   "outputs": [
    {
     "data": {
      "text/plain": [
       "array([[   919.58761966,  -3091.36170344],\n",
       "       [ -3621.35751239, -10254.25879894],\n",
       "       [ -4370.60463584,  27394.88343884],\n",
       "       [   124.59528287,  -4565.80768827]])"
      ]
     },
     "execution_count": 99,
     "metadata": {},
     "output_type": "execute_result"
    }
   ],
   "source": [
    "ne_(dx,dz,DT,Ret).T+np.einsum('ijk,ik->ij', Re_b(Ret),ne_(dx,dz,DT,Ret).T)"
   ]
  },
  {
   "cell_type": "code",
   "execution_count": 100,
   "metadata": {},
   "outputs": [
    {
     "data": {
      "text/plain": [
       "array([[ 2004.46968916, -1615.35220592],\n",
       "       [-2209.47370531, -5127.49575065],\n",
       "       [-3280.68300434, 13786.74683244],\n",
       "       [  256.81321335, -2324.72515546]])"
      ]
     },
     "execution_count": 100,
     "metadata": {},
     "output_type": "execute_result"
    }
   ],
   "source": [
    "ne_(dx,dz,DT,Ret).T"
   ]
  },
  {
   "cell_type": "markdown",
   "metadata": {},
   "source": [
    "### Vessel"
   ]
  },
  {
   "cell_type": "code",
   "execution_count": 101,
   "metadata": {},
   "outputs": [],
   "source": [
    "class VesselSemisub: # Semisub model from Fossen\n",
    "    \n",
    "    def __init__(self):\n",
    "        \n",
    "        MRB = 1.0e10 * np.array(\n",
    "            [\n",
    "                [0.0027, 0, 0, 0, -0.0530, 0],\n",
    "                [0, 0.0027, 0, 0.0530, 0, -0.0014],\n",
    "                [0, 0, 0.0027, 0, 0.0014, 0],\n",
    "                [0, 0.0530, 0, 3.4775, 0, -0.0265],\n",
    "                [-0.0530, 0, 0.0014, 0, 3.8150, 0],\n",
    "                [0, -0.0014, 0, -0.0265, 0, 3.7192],\n",
    "            ],\n",
    "            float,\n",
    "        )\n",
    "\n",
    "        MA = 1.0e10 * np.array(\n",
    "            [\n",
    "                [0.0017, 0, 0, 0, -0.0255, 0],\n",
    "                [0, 0.0042, 0, 0.0365, 0, 0],\n",
    "                [0, 0, 0.0021, 0, 0, 0],\n",
    "                [0, 0.0365, 0, 1.3416, 0, 0],\n",
    "                [-0.0255, 0, 0, 0, 2.2267, 0],\n",
    "                [0, 0, 0, 0, 0, 3.2049],\n",
    "            ],\n",
    "            float,\n",
    "        )\n",
    "\n",
    "        self.D = 1.0e09 * np.array(\n",
    "            [\n",
    "                [0.0004, 0, 0, 0, -0.0085, 0],\n",
    "                [0, 0.0003, 0, 0.0067, 0, -0.0002],\n",
    "                [0, 0, 0.0034, 0, 0.0017, 0],\n",
    "                [0, 0.0067, 0, 4.8841, 0, -0.0034],\n",
    "                [-0.0085, 0, 0.0017, 0, 7.1383, 0],\n",
    "                [0, -0.0002, 0, -0.0034, 0, 0.8656],\n",
    "            ],\n",
    "            float,\n",
    "        )\n",
    "\n",
    "        self.G = 1.0e10 * np.diag([0.0, 0.0, 0.0006, 1.4296, 2.6212, 0.0])\n",
    "        self.M = MRB + MA\n",
    "    \n",
    "        self.G=np.delete(self.G,(1,4), axis=0)\n",
    "        self.G=np.delete(self.G,(1,4), axis=1)\n",
    "        \n",
    "        self.M =np.delete(self.M ,(1,4), axis=0)\n",
    "        self.M =np.delete(self.M ,(1,4), axis=1)\n",
    "        \n",
    "        self.D =np.delete(self.D,(1,4), axis=0)\n",
    "        self.D =np.delete(self.D ,(1,4), axis=1)\n",
    "        \n",
    "\n",
    "    def eq_left(self,η, dη):\n",
    "        return (np.matmul(self.D, dη) + np.dot(self.G,η))\n",
    "        \n",
    "    def tau(self,η, dη, ddη):\n",
    "        return (np.matmul(self.M,ddη) + np.matmul(self.D, dη) + np.dot(self.G,η))"
   ]
  },
  {
   "cell_type": "code",
   "execution_count": 102,
   "metadata": {},
   "outputs": [],
   "source": [
    "V=VesselSemisub()"
   ]
  },
  {
   "cell_type": "code",
   "execution_count": 103,
   "metadata": {},
   "outputs": [],
   "source": [
    "η=np.array([0.1,0.4,.34,0.7])\n",
    "dη=np.array([0,0,0,0])\n",
    "ddη=np.array([0,0,0,0])"
   ]
  },
  {
   "cell_type": "code",
   "execution_count": 104,
   "metadata": {},
   "outputs": [],
   "source": [
    "tau_force = V.tau(η,dη, ddη)"
   ]
  },
  {
   "cell_type": "code",
   "execution_count": 105,
   "metadata": {},
   "outputs": [
    {
     "data": {
      "text/plain": [
       "array([0.00000e+00, 2.40000e+06, 4.86064e+09, 0.00000e+00])"
      ]
     },
     "execution_count": 105,
     "metadata": {},
     "output_type": "execute_result"
    }
   ],
   "source": [
    "tau_force"
   ]
  },
  {
   "cell_type": "code",
   "execution_count": 106,
   "metadata": {},
   "outputs": [],
   "source": [
    "# class VesselOtter: \n",
    "    \n",
    "#     def __init__(\n",
    "#         self, \n",
    "#         controlSystem=\"stepInput\", \n",
    "#         r = 0, \n",
    "#         V_current = 0, \n",
    "#         beta_current = 0,\n",
    "#         tau_X = 120\n",
    "#     ):\n",
    "        \n",
    "#         # Constants\n",
    "#         D2R = math.pi / 180     # deg2rad\n",
    "#         self.g = 9.81           # acceleration of gravity (m/s^2)\n",
    "#         rho = 1026              # density of water (kg/m^3)\n",
    "\n",
    "#         if controlSystem == \"headingAutopilot\":\n",
    "#             self.controlDescription = (\n",
    "#                 \"Heading autopilot, psi_d = \"\n",
    "#                 + str(r)\n",
    "#                 + \" deg\"\n",
    "#                 )\n",
    "#         else:\n",
    "#             self.controlDescription = \"Step inputs for n1 and n2\"\n",
    "#             controlSystem = \"stepInput\"\n",
    "\n",
    "#         self.ref = r\n",
    "#         self.V_c = V_current\n",
    "#         self.beta_c = beta_current * D2R\n",
    "#         self.controlMode = controlSystem\n",
    "#         self.tauX = tau_X  # surge force (N)\n",
    "\n",
    "#         # Initialize the Otter USV model\n",
    "#         self.T_n = 1.0  # propeller time constants (s)\n",
    "#         self.L = 2.0    # Length (m)\n",
    "#         self.B = 1.08   # beam (m)\n",
    "#         self.nu = np.array([0, 0, 0, 0, 0, 0], float)  # velocity vector\n",
    "#         self.u_actual = np.array([0, 0], float)  # propeller revolution states\n",
    "#         self.name = \"Otter USV (see 'otter.py' for more details)\"\n",
    "\n",
    "#         self.controls = [\n",
    "#             \"Left propeller shaft speed (rad/s)\",\n",
    "#             \"Right propeller shaft speed (rad/s)\"\n",
    "#         ]\n",
    "#         self.dimU = len(self.controls)\n",
    "\n",
    "#         # Vehicle parameters\n",
    "#         m = 55.0                                 # mass (kg)\n",
    "#         self.mp = 25.0                           # Payload (kg)\n",
    "#         self.m_total = m + self.mp\n",
    "#         self.rp = np.array([0.05, 0, -0.35], float) # location of payload (m)\n",
    "#         rg = np.array([0.2, 0, -0.2], float)     # CG for hull only (m)\n",
    "#         rg = (m * rg + self.mp * self.rp) / (m + self.mp)  # CG corrected for payload\n",
    "#         self.S_rg = Smtrx(rg)\n",
    "#         self.H_rg = Hmtrx(rg)\n",
    "#         self.S_rp = Smtrx(self.rp)\n",
    "\n",
    "#         R44 = 0.4 * self.B  # radii of gyration (m)\n",
    "#         R55 = 0.25 * self.L\n",
    "#         R66 = 0.25 * self.L\n",
    "#         T_yaw = 1.0         # time constant in yaw (s)\n",
    "#         Umax = 6 * 0.5144   # max forward speed (m/s)\n",
    "\n",
    "#         # Data for one pontoon\n",
    "#         self.B_pont = 0.25  # beam of one pontoon (m)\n",
    "#         y_pont = 0.395      # distance from centerline to waterline centroid (m)\n",
    "#         Cw_pont = 0.75      # waterline area coefficient (-)\n",
    "#         Cb_pont = 0.4       # block coefficient, computed from m = 55 kg\n",
    "\n",
    "#         # Inertia dyadic, volume displacement and draft\n",
    "#         nabla = (m + self.mp) / rho  # volume\n",
    "#         self.T = nabla / (2 * Cb_pont * self.B_pont * self.L)  # draft\n",
    "#         Ig_CG = m * np.diag(np.array([R44 ** 2, R55 ** 2, R66 ** 2]))\n",
    "#         self.Ig = Ig_CG - m * self.S_rg @ self.S_rg - self.mp * self.S_rp @ self.S_rp\n",
    "\n",
    "#         # Experimental propeller data including lever arms\n",
    "#         self.l1 = -y_pont  # lever arm, left propeller (m)\n",
    "#         self.l2 = y_pont  # lever arm, right propeller (m)\n",
    "#         self.k_pos = 0.02216 / 2  # Positive Bollard, one propeller\n",
    "#         self.k_neg = 0.01289 / 2  # Negative Bollard, one propeller\n",
    "#         self.n_max = math.sqrt((0.5 * 24.4 * self.g) / self.k_pos)  # max. prop. rev.\n",
    "#         self.n_min = -math.sqrt((0.5 * 13.6 * self.g) / self.k_neg) # min. prop. rev.\n",
    "\n",
    "#         # MRB_CG = [ (m+mp) * I3  O3      (Fossen 2021, Chapter 3)\n",
    "#         #               O3       Ig ]\n",
    "#         MRB_CG = np.zeros((6, 6))\n",
    "#         MRB_CG[0:3, 0:3] = (m + self.mp) * np.identity(3)\n",
    "#         MRB_CG[3:6, 3:6] = self.Ig\n",
    "#         MRB = self.H_rg.T @ MRB_CG @ self.H_rg\n",
    "        \n",
    "\n",
    "#         # Hydrodynamic added mass (best practice)\n",
    "#         Xudot = -0.1 * m\n",
    "#         Yvdot = -1.5 * m\n",
    "#         Zwdot = -1.0 * m\n",
    "#         Kpdot = -0.2 * self.Ig[0, 0]\n",
    "#         Mqdot = -0.8 * self.Ig[1, 1]\n",
    "#         Nrdot = -1.7 * self.Ig[2, 2]\n",
    "\n",
    "#         self.MA = -np.diag([Xudot, Yvdot, Zwdot, Kpdot, Mqdot, Nrdot])\n",
    "\n",
    "#         # System mass matrix\n",
    "#         self.M = MRB + self.MA\n",
    "#         self.Minv = np.linalg.inv(self.M.astype(np.float32))\n",
    "\n",
    "#         # Hydrostatic quantities (Fossen 2021, Chapter 4)\n",
    "#         Aw_pont = Cw_pont * self.L * self.B_pont  # waterline area, one pontoon\n",
    "#         I_T = (\n",
    "#             2\n",
    "#             * (1 / 12)\n",
    "#             * self.L\n",
    "#             * self.B_pont ** 3\n",
    "#             * (6 * Cw_pont ** 3 / ((1 + Cw_pont) * (1 + 2 * Cw_pont)))\n",
    "#             + 2 * Aw_pont * y_pont ** 2\n",
    "#         )\n",
    "#         I_L = 0.8 * 2 * (1 / 12) * self.B_pont * self.L ** 3\n",
    "#         KB = (1 / 3) * (5 * self.T / 2 - 0.5 * nabla / (self.L * self.B_pont))\n",
    "#         BM_T = I_T / nabla  # BM values\n",
    "#         BM_L = I_L / nabla\n",
    "#         KM_T = KB + BM_T    # KM values\n",
    "#         KM_L = KB + BM_L\n",
    "#         KG = self.T - rg[2]\n",
    "#         GM_T = KM_T - KG    # GM values\n",
    "#         GM_L = KM_L - KG\n",
    "\n",
    "#         G33 = rho * self.g * (2 * Aw_pont)  # spring stiffness\n",
    "#         G44 = rho * self.g * nabla * GM_T\n",
    "#         G55 = rho * self.g * nabla * GM_L\n",
    "#         G_CF = np.diag([0, 0, G33, G44, G55, 0])  # spring stiff. matrix in CF\n",
    "#         LCF = -0.2\n",
    "#         H = Hmtrx(np.array([LCF, 0.0, 0.0]))  # transform G_CF from CF to CO\n",
    "#         self.G = H.T @ G_CF @ H\n",
    "\n",
    "#         # Natural frequencies\n",
    "#         w3 = math.sqrt(G33 / self.M[2, 2])\n",
    "#         w4 = math.sqrt(G44 / self.M[3, 3])\n",
    "#         w5 = math.sqrt(G55 / self.M[4, 4])\n",
    "\n",
    "#         # Linear damping terms (hydrodynamic derivatives)\n",
    "#         Xu = -24.4 *self. g / Umax  # specified using the maximum speed\n",
    "#         Yv = 0\n",
    "#         Zw = -2 * 0.3 * w3 * self.M[2, 2]  # specified using relative damping\n",
    "#         Kp = -2 * 0.2 * w4 * self.M[3, 3]\n",
    "#         Mq = -2 * 0.4 * w5 * self.M[4, 4]\n",
    "#         Nr = -self.M[5, 5] / T_yaw  # specified by the time constant T_yaw\n",
    "\n",
    "#         self.D = -np.diag([Xu, Yv, Zw, Kp, Mq, Nr])\n",
    "\n",
    "#         # Propeller configuration/input matrix\n",
    "#         B = self.k_pos * np.array([[1, 1], [-self.l1, -self.l2]])\n",
    "#         self.Binv = np.linalg.inv(B.astype(np.float32))\n",
    "\n",
    "#         # Heading autopilot\n",
    "#         self.e_int = 0  # integral state\n",
    "#         self.wn = 1.2  # PID pole placement\n",
    "#         self.zeta = 0.8\n",
    "\n",
    "#         # Reference model\n",
    "#         self.r_max = 10 * math.pi / 180  # maximum yaw rate\n",
    "#         self.psi_d = 0  # angle, angular rate and angular acc. states\n",
    "#         self.r_d = 0\n",
    "#         self.a_d = 0\n",
    "#         self.wn_d = self.wn / 5  # desired natural frequency in yaw\n",
    "#         self.zeta_d = 1  # desired relative damping ratio\n",
    "    \n",
    "    \n",
    "#     def eq_left(self,η, dη):\n",
    "        \n",
    "#         CRB_CG = np.zeros((6, 6))\n",
    "#         CRB_CG[0:3, 0:3] = self.m_total * Smtrx(dη[3:6])\n",
    "#         CRB_CG[3:6, 3:6] = -Smtrx(np.matmul(self.Ig, dη[3:6]))\n",
    "#         CRB = self.H_rg.T @ CRB_CG @ self.H_rg  # transform CRB from CG to CO\n",
    "\n",
    "#         CA = m2c(self.MA, dη)\n",
    "#         CA[5, 0] = 0  # assume that the Munk moment in yaw can be neglected\n",
    "#         CA[5, 1] = 0  # if nonzero, must be balanced by adding nonlinear damping\n",
    "#         CA[0, 5] = 0\n",
    "#         CA[1, 5] = 0\n",
    "\n",
    "#         C = CRB + CA\n",
    "\n",
    "#         return (np.matmul(self.D, dη) + np.matmul(C, dη) + np.dot(self.G,η))\n",
    "        \n",
    "#     def tau(self,η, dη, ddη):\n",
    "\n",
    "        \n",
    "#         CRB_CG = np.zeros((6, 6))\n",
    "#         CRB_CG[0:3, 0:3] = self.m_total * Smtrx(dη[3:6])\n",
    "#         CRB_CG[3:6, 3:6] = -Smtrx(np.matmul(self.Ig, dη[3:6]))\n",
    "#         CRB = self.H_rg.T @ CRB_CG @ self.H_rg  # transform CRB from CG to CO\n",
    "\n",
    "#         CA = m2c(self.MA, dη)\n",
    "#         CA[5, 0] = 0  # assume that the Munk moment in yaw can be neglected\n",
    "#         CA[5, 1] = 0  # if nonzero, must be balanced by adding nonlinear damping\n",
    "#         CA[0, 5] = 0\n",
    "#         CA[1, 5] = 0\n",
    "\n",
    "#         C = CRB + CA\n",
    "#         return (np.matmul(self.M,ddη) + np.matmul(self.D, dη) + np.matmul(C, dη)+ np.dot(self.G,η))\n",
    "    "
   ]
  },
  {
   "cell_type": "code",
   "execution_count": 107,
   "metadata": {},
   "outputs": [],
   "source": [
    "# V=VesselOtter()"
   ]
  },
  {
   "cell_type": "code",
   "execution_count": 108,
   "metadata": {},
   "outputs": [],
   "source": [
    "# η=np.array([0.1,0.3,0.4,0.5,0.6,0.7])\n",
    "# dη=np.array([0,0,0,0,0,0])\n",
    "# ddη=np.array([0,0,0,0,0,0])"
   ]
  },
  {
   "cell_type": "code",
   "execution_count": 109,
   "metadata": {},
   "outputs": [],
   "source": [
    "# tau_force = V.tau(η,dη, ddη)"
   ]
  },
  {
   "cell_type": "code",
   "execution_count": 110,
   "metadata": {},
   "outputs": [],
   "source": [
    "# tau_force"
   ]
  },
  {
   "cell_type": "code",
   "execution_count": 111,
   "metadata": {},
   "outputs": [],
   "source": [
    "# np.matmul(np.array([[1.1,1.2],[1,2]]),np.array([1,2]))"
   ]
  },
  {
   "cell_type": "code",
   "execution_count": 112,
   "metadata": {},
   "outputs": [],
   "source": [
    "# V=VesselSemisub()"
   ]
  },
  {
   "cell_type": "code",
   "execution_count": 113,
   "metadata": {},
   "outputs": [],
   "source": [
    "# wave_force=9e6\n",
    "# wave_force=9e3\n",
    "# wave_force=0\n",
    "# kp, kd=1.95e9,1.5e9\n",
    "kp,kd=1.95e4, 1.5e4\n",
    "# kp,kd=1.95e2, 1.5e2\n",
    "# kp,kd=1.95, 1.5\n",
    "wave_coef=1\n",
    "# kp,kd=1.95e16, 1.5e16"
   ]
  },
  {
   "cell_type": "code",
   "execution_count": 114,
   "metadata": {},
   "outputs": [],
   "source": [
    "def Fx(x,dx, kp, kd, x_ref = 0, dx_ref=0):\n",
    "    return -kp*(x-x_ref) - kd*(dx-dx_ref)"
   ]
  },
  {
   "cell_type": "code",
   "execution_count": 115,
   "metadata": {},
   "outputs": [],
   "source": [
    "Hs = 2.5 # significant wave height in m"
   ]
  },
  {
   "cell_type": "code",
   "execution_count": 116,
   "metadata": {},
   "outputs": [],
   "source": [
    "def wave_force(Hs,d0,qw, Cd=1.2):\n",
    "    g=9.81 \n",
    "    return 0.5 * qw * g * Hs**2 * d0 * Cd"
   ]
  },
  {
   "cell_type": "code",
   "execution_count": 117,
   "metadata": {},
   "outputs": [
    {
     "data": {
      "text/plain": [
       "28695.1696875"
      ]
     },
     "execution_count": 117,
     "metadata": {},
     "output_type": "execute_result"
    }
   ],
   "source": [
    "wave_force(Hs,d0,qw, Cd=1.2)"
   ]
  },
  {
   "cell_type": "code",
   "execution_count": 118,
   "metadata": {},
   "outputs": [
    {
     "data": {
      "text/plain": [
       "array([0.1 , 0.4 , 0.34, 0.7 ])"
      ]
     },
     "execution_count": 118,
     "metadata": {},
     "output_type": "execute_result"
    }
   ],
   "source": [
    "η"
   ]
  },
  {
   "cell_type": "code",
   "execution_count": 119,
   "metadata": {},
   "outputs": [
    {
     "data": {
      "text/plain": [
       "array([-1828348.22452546,  1726693.17037891, -1888234.82942905,\n",
       "         444563.0981728 ])"
      ]
     },
     "execution_count": 119,
     "metadata": {},
     "output_type": "execute_result"
    }
   ],
   "source": [
    "Fx(x,dx, kp, kd, x_ref = 0, dx_ref=0)"
   ]
  },
  {
   "cell_type": "code",
   "execution_count": 120,
   "metadata": {},
   "outputs": [],
   "source": [
    "def tau(η, dη, wave_coef, kp, kd,time, Hs=2.5, Tp=10, x_ref = 0, dx_ref=0):\n",
    "    x,z,φ,ψ=η\n",
    "    dx,dz,dφ,dψ=dη\n",
    "    F=(np.array([-Fx(x,dx, kp, kd, x_ref, dx_ref),\n",
    "                 0])\n",
    "       + wave_coef*np.array([wave_force(Hs,d0,qw),0])*np.sin(2*np.pi/Tp*time+1)\n",
    "      ).T\n",
    "    Ret=Re_t_([φ,ψ])\n",
    "    tmp=np.dot(Re_b(Ret), F)\n",
    "    ans=np.concatenate([tmp.tolist(),[0,0]], axis=0)\n",
    "    ans[1]=0 #!!!!!!!!!!!!!!!!!!!!!!!!!!!!!!!!!!!!!!!!!!!!!!!!!!!!!!!!!!!!!!!\n",
    "    return ans"
   ]
  },
  {
   "cell_type": "code",
   "execution_count": 121,
   "metadata": {},
   "outputs": [
    {
     "data": {
      "text/plain": [
       "array([7062.30173527,    0.        ,    0.        ,    0.        ])"
      ]
     },
     "execution_count": 121,
     "metadata": {},
     "output_type": "execute_result"
    }
   ],
   "source": [
    "tau(η, dη, wave_coef, kp, kd,3)"
   ]
  },
  {
   "cell_type": "markdown",
   "metadata": {},
   "source": [
    "### Static solution"
   ]
  },
  {
   "cell_type": "code",
   "execution_count": 122,
   "metadata": {},
   "outputs": [],
   "source": [
    "def catenary(x,Ws,Fh):\n",
    "    return (Fh/Ws)*(np.cosh(x*Ws/Fh)-1)"
   ]
  },
  {
   "cell_type": "code",
   "execution_count": 123,
   "metadata": {},
   "outputs": [],
   "source": [
    "pipe_weight_per_unit_length = mp #  (submerged) [kg/m]  # 113.07 - not submerged"
   ]
  },
  {
   "cell_type": "code",
   "execution_count": 124,
   "metadata": {},
   "outputs": [],
   "source": [
    "Fx_0=82945396"
   ]
  },
  {
   "cell_type": "code",
   "execution_count": 125,
   "metadata": {},
   "outputs": [],
   "source": [
    "Ws = pipe_weight_per_unit_length*9.81 # [N/m]\n",
    "h=700"
   ]
  },
  {
   "cell_type": "code",
   "execution_count": 126,
   "metadata": {},
   "outputs": [],
   "source": [
    "S=math.sqrt(h*(2*Fx_0/Ws -h))\n",
    "horizontal_length=(Fx_0/Ws -h)*np.log((S+Fx_0/Ws)/(Fx_0/Ws-h))"
   ]
  },
  {
   "cell_type": "code",
   "execution_count": 127,
   "metadata": {},
   "outputs": [],
   "source": [
    "delta_x=horizontal_length/(node_N-1)"
   ]
  },
  {
   "cell_type": "code",
   "execution_count": 128,
   "metadata": {},
   "outputs": [],
   "source": [
    "x0=[i*delta_x for i in range(node_N)]\n",
    "z0=[]\n",
    "for i in range(len(x0)):\n",
    "    z0.append(catenary(x0[i],Ws,Fx_0))"
   ]
  },
  {
   "cell_type": "code",
   "execution_count": 129,
   "metadata": {},
   "outputs": [
    {
     "data": {
      "text/plain": [
       "([0.0, 3684.228281487207, 7368.456562974414, 11052.68484446162],\n",
       " [0.0, 77.06804644731459, 308.40705929683963, 694.4218951076863])"
      ]
     },
     "execution_count": 129,
     "metadata": {},
     "output_type": "execute_result"
    }
   ],
   "source": [
    "x0,z0"
   ]
  },
  {
   "cell_type": "code",
   "execution_count": 130,
   "metadata": {},
   "outputs": [
    {
     "data": {
      "image/png": "[encoded data removed]",
      "text/plain": [
       "<Figure size 432x288 with 1 Axes>"
      ]
     },
     "metadata": {
      "needs_background": "light"
     },
     "output_type": "display_data"
    }
   ],
   "source": [
    "plt.plot(x0, z0)\n",
    "plt.show()"
   ]
  },
  {
   "cell_type": "code",
   "execution_count": 131,
   "metadata": {},
   "outputs": [],
   "source": [
    "rng = np.random.default_rng(seed=15)\n",
    "q0=np.zeros(8*node_N)"
   ]
  },
  {
   "cell_type": "code",
   "execution_count": 132,
   "metadata": {},
   "outputs": [],
   "source": [
    "for j in range(1,8):\n",
    "    if j==1:  \n",
    "        q0[(j-1)*node_N:j*node_N]=x0\n",
    "    elif j==3:    \n",
    "        q0[(j-1)*node_N:j*node_N]=z0\n",
    "    elif j==5:    \n",
    "        q0[(j-1)*node_N:j*node_N]=rng.standard_normal(node_N)\n",
    "    elif j==7:   \n",
    "        q0[(j-1)*node_N:j*node_N]=rng.standard_normal(node_N)      "
   ]
  },
  {
   "cell_type": "code",
   "execution_count": 133,
   "metadata": {},
   "outputs": [
    {
     "data": {
      "text/plain": [
       "(32,)"
      ]
     },
     "execution_count": 133,
     "metadata": {},
     "output_type": "execute_result"
    }
   ],
   "source": [
    "q0.shape"
   ]
  },
  {
   "cell_type": "code",
   "execution_count": 134,
   "metadata": {},
   "outputs": [],
   "source": [
    "def static_func(Q):\n",
    "    t=0\n",
    " \n",
    "    x,z=Q[0:node_N],Q[2*node_N:3*node_N]\n",
    "    dx,dz=Q[1*node_N:2*node_N],Q[3*node_N:4*node_N]\n",
    "    φ,ψ=Q[4*node_N:5*node_N],Q[6*node_N:7*node_N]\n",
    "    Ret = Re_t(φ,ψ)\n",
    "    dφ,dψ=Q[5*node_N:6*node_N],Q[7*node_N:8*node_N]\n",
    "    \n",
    "    η=[x[-1],z[-1],φ[-1],ψ[-1]]\n",
    "    \n",
    "    tau_force=np.array([-Fx_0,0,0,0])\n",
    "\n",
    "    \n",
    "    \n",
    "    C=ne(x,z,Ret)\n",
    "    a,c=C[:,0],C[:,1],\n",
    "\n",
    "#     Z0=tau_force[:2]\n",
    "    Z0=np.dot(Re_b(Ret),tau_force[:2])\n",
    "   \n",
    "    Z1 = d_s(ne, x, z, Ret).T\n",
    "\n",
    "    DT_0=np.zeros((2,2))\n",
    "    Z2=ne_(dx,dz,DT_0,Ret).T\n",
    "    \n",
    "    \n",
    "    Z =  Z1 + Z2 + Z0\n",
    "    \n",
    "############################################################    \n",
    "    ddx, ddz = np.linalg.solve(Ws*Re_b(Ret),Z).T \n",
    "#     tmp=np.linalg.solve(Ret,np.vstack([ddx_phi,  ddz_phi]).T)\n",
    "#     ddx,  ddz = tmp[:,0],tmp[:,1]\n",
    "#     tmp=phi(ddx_phi, ddz_phi, Ret)\n",
    "#     ddx,  ddz = tmp[:,0],tmp[:,1]\n",
    "############################################################    \n",
    "   \n",
    "#     d_me_=me(φ,ψ,x,z,Ret)\n",
    "  \n",
    "   \n",
    "    C0=np.einsum('ijk,kp->ijp',np.einsum('ijk,ikr->ijr',\n",
    "                                         np.linalg.inv(Π(φ,ψ).astype(np.float32)),\n",
    "                        Re_b(Ret)), tau_force[2:].reshape(2,1)) \n",
    "#     C3= d_s(me_[:,0],me_[:,1],x,z).astype(np.float32).T\n",
    "    C3=d_me(φ,ψ,Ret)\n",
    "\n",
    "    B_ =C3\n",
    "#     print(C3.shape, C0.shape)\n",
    "    B=(B_ + C0.squeeze()\n",
    "      )\n",
    "\n",
    "    A2 = Irho_e(Ret).astype(np.float32)\n",
    "    A3=Π(φ,ψ).astype(np.float32)\n",
    "    A=np.einsum('ijk,ikr->ijr',A2,A3)\n",
    "#     A=np.einsum('ijk,ikr->ijr', Re_b(Ret), np.einsum('ijk,ikr->ijr',A2,A3))\n",
    "\n",
    "\n",
    "#############\n",
    "    ddφ,ddψ = np.linalg.solve(A,B).T\n",
    "#############################################\n",
    "\n",
    "\n",
    "\n",
    "\n",
    "#     ans_φ=[]\n",
    "#     ans_θ=[]\n",
    "#     ans_ψ=[]\n",
    "#     for i in range(len(A)):\n",
    "#         a,b,c=np.linalg.lstsq(A[i],B[i], rcond=None)[0]\n",
    "#         ans_φ.append(a)\n",
    "#         ans_θ.append(b)\n",
    "#         ans_ψ.append(c)\n",
    "    \n",
    "#     ddφ,ddθ,ddψ=np.array(ans_φ),np.array(ans_θ),np.array(ans_ψ)\n",
    "    \n",
    "#     print(dx, ddx, dz, ddz, dφ, ddφ, dψ, ddψ)\n",
    "\n",
    "    ans=np.concatenate([dx, ddx, dz, ddz, dφ, ddφ, dψ, ddψ], axis=0)\n",
    "#     print(ans.shape)\n",
    " \n",
    "    return ans\n",
    "    "
   ]
  },
  {
   "cell_type": "code",
   "execution_count": 135,
   "metadata": {},
   "outputs": [
    {
     "data": {
      "text/plain": [
       "(32,)"
      ]
     },
     "execution_count": 135,
     "metadata": {},
     "output_type": "execute_result"
    }
   ],
   "source": [
    "q0.shape"
   ]
  },
  {
   "cell_type": "code",
   "execution_count": 136,
   "metadata": {},
   "outputs": [
    {
     "name": "stderr",
     "output_type": "stream",
     "text": [
      "/Library/Frameworks/Python.framework/Versions/3.7/lib/python3.7/site-packages/scipy/optimize/minpack.py:175: RuntimeWarning: The iteration is not making good progress, as measured by the \n",
      "  improvement from the last ten iterations.\n",
      "  warnings.warn(msg, RuntimeWarning)\n"
     ]
    }
   ],
   "source": [
    "root = fsolve(static_func, q0)"
   ]
  },
  {
   "cell_type": "code",
   "execution_count": 137,
   "metadata": {},
   "outputs": [
    {
     "data": {
      "text/plain": [
       "array([ 0.00000000e+00,  3.68422828e+03,  7.36845656e+03,  1.10526848e+04,\n",
       "        0.00000000e+00,  0.00000000e+00,  0.00000000e+00,  0.00000000e+00,\n",
       "        0.00000000e+00,  7.70680464e+01,  3.08407059e+02,  6.94421895e+02,\n",
       "        0.00000000e+00,  0.00000000e+00,  0.00000000e+00,  0.00000000e+00,\n",
       "       -1.43087302e+00, -9.36547716e-01,  3.93938357e-01, -5.24086628e-01,\n",
       "        0.00000000e+00,  0.00000000e+00,  0.00000000e+00,  0.00000000e+00,\n",
       "        5.25616205e-01,  8.07323623e-01, -1.44353139e+00,  1.01706379e+00,\n",
       "        0.00000000e+00,  0.00000000e+00,  0.00000000e+00,  0.00000000e+00])"
      ]
     },
     "execution_count": 137,
     "metadata": {},
     "output_type": "execute_result"
    }
   ],
   "source": [
    "root"
   ]
  },
  {
   "cell_type": "code",
   "execution_count": 138,
   "metadata": {},
   "outputs": [],
   "source": [
    "x0_,z0_=root[:node_N],root[2*node_N:3*node_N]"
   ]
  },
  {
   "cell_type": "code",
   "execution_count": 139,
   "metadata": {},
   "outputs": [
    {
     "data": {
      "text/plain": [
       "[0.0, 3684.228281487207, 7368.456562974414, 11052.68484446162]"
      ]
     },
     "execution_count": 139,
     "metadata": {},
     "output_type": "execute_result"
    }
   ],
   "source": [
    "x0"
   ]
  },
  {
   "cell_type": "code",
   "execution_count": 140,
   "metadata": {},
   "outputs": [
    {
     "data": {
      "text/plain": [
       "array([    0.        ,  3684.22828149,  7368.45656297, 11052.68484446])"
      ]
     },
     "execution_count": 140,
     "metadata": {},
     "output_type": "execute_result"
    }
   ],
   "source": [
    "x0_"
   ]
  },
  {
   "cell_type": "code",
   "execution_count": 141,
   "metadata": {},
   "outputs": [
    {
     "data": {
      "text/plain": [
       "[0.0, 77.06804644731459, 308.40705929683963, 694.4218951076863]"
      ]
     },
     "execution_count": 141,
     "metadata": {},
     "output_type": "execute_result"
    }
   ],
   "source": [
    "z0"
   ]
  },
  {
   "cell_type": "code",
   "execution_count": 142,
   "metadata": {},
   "outputs": [
    {
     "data": {
      "text/plain": [
       "array([  0.        ,  77.06804645, 308.4070593 , 694.42189511])"
      ]
     },
     "execution_count": 142,
     "metadata": {},
     "output_type": "execute_result"
    }
   ],
   "source": [
    "z0_"
   ]
  },
  {
   "cell_type": "code",
   "execution_count": 143,
   "metadata": {},
   "outputs": [
    {
     "data": {
      "image/png": "[encoded data removed]",
      "text/plain": [
       "<Figure size 432x288 with 1 Axes>"
      ]
     },
     "metadata": {
      "needs_background": "light"
     },
     "output_type": "display_data"
    }
   ],
   "source": [
    "plt.plot(x0_, z0_)\n",
    "plt.show()"
   ]
  },
  {
   "cell_type": "code",
   "execution_count": 144,
   "metadata": {},
   "outputs": [],
   "source": [
    "# for j in range(1,8):\n",
    "#     if j==1:  \n",
    "#         q0[(j-1)*node_N:j*node_N]=x0_\n",
    "#     elif j==3:    \n",
    "#         q0[(j-1)*node_N:j*node_N]=z0_\n",
    "#     elif j==5:    \n",
    "#         q0[(j-1)*node_N:j*node_N]=np.abs(rng.standard_normal(node_N))\n",
    "#     elif j==7:   \n",
    "#         q0[(j-1)*node_N:j*node_N]=np.abs(rng.standard_normal(node_N) )   "
   ]
  },
  {
   "cell_type": "code",
   "execution_count": 145,
   "metadata": {},
   "outputs": [
    {
     "data": {
      "text/plain": [
       "array([ 0.00000000e+00,  3.68422828e+03,  7.36845656e+03,  1.10526848e+04,\n",
       "        0.00000000e+00,  0.00000000e+00,  0.00000000e+00,  0.00000000e+00,\n",
       "        0.00000000e+00,  7.70680464e+01,  3.08407059e+02,  6.94421895e+02,\n",
       "        0.00000000e+00,  0.00000000e+00,  0.00000000e+00,  0.00000000e+00,\n",
       "       -1.43087302e+00, -9.36547716e-01,  3.93938357e-01, -5.24086628e-01,\n",
       "        0.00000000e+00,  0.00000000e+00,  0.00000000e+00,  0.00000000e+00,\n",
       "        5.25616205e-01,  8.07323623e-01, -1.44353139e+00,  1.01706379e+00,\n",
       "        0.00000000e+00,  0.00000000e+00,  0.00000000e+00,  0.00000000e+00])"
      ]
     },
     "execution_count": 145,
     "metadata": {},
     "output_type": "execute_result"
    }
   ],
   "source": [
    "q0"
   ]
  },
  {
   "cell_type": "code",
   "execution_count": 146,
   "metadata": {},
   "outputs": [],
   "source": [
    "# class Time:\n",
    "#     def __init__(self):\n",
    "#         self.ti=0"
   ]
  },
  {
   "cell_type": "code",
   "execution_count": 147,
   "metadata": {},
   "outputs": [],
   "source": [
    "# Ti=Time()"
   ]
  },
  {
   "cell_type": "code",
   "execution_count": 148,
   "metadata": {},
   "outputs": [],
   "source": [
    "# A=q0[0:node_N]\n",
    "# B=q0[2*node_N:3*node_N]"
   ]
  },
  {
   "cell_type": "code",
   "execution_count": 149,
   "metadata": {},
   "outputs": [],
   "source": [
    "# class Coord:\n",
    "#     def __init__(self):\n",
    "#         self.η=[A[-1],B[-1],0,0]\n",
    "#         self.dη=[0,0,0,0]"
   ]
  },
  {
   "cell_type": "code",
   "execution_count": 150,
   "metadata": {},
   "outputs": [],
   "source": [
    "# Coo=Coord()"
   ]
  },
  {
   "cell_type": "code",
   "execution_count": 151,
   "metadata": {},
   "outputs": [],
   "source": [
    "# Coo.η"
   ]
  },
  {
   "cell_type": "markdown",
   "metadata": {},
   "source": [
    "### Dynamics"
   ]
  },
  {
   "cell_type": "code",
   "execution_count": 152,
   "metadata": {},
   "outputs": [],
   "source": [
    "# def grayscott1d(Q,p,t):\n",
    "def grayscott1d(t, Q):\n",
    "#     print(t)\n",
    "     \n",
    "    x,z=Q[0:node_N],Q[2*node_N:3*node_N]\n",
    "#     x[-1]=x0_[-1]+300*np.sin(t)\n",
    "#     z[-1]=z0_[-1]+2.5*np.sin(t)\n",
    "    x[-1]=x0[-1]+300*np.sin(t)\n",
    "    z[-1]=z0[-1]+2.5*np.sin(t)\n",
    "\n",
    "    dx,dz=Q[1*node_N:2*node_N],Q[3*node_N:4*node_N]\n",
    "    \n",
    "#     dx[0]=0\n",
    "#     dz[0]=0\n",
    "\n",
    "    φ,ψ=Q[4*node_N:5*node_N],Q[6*node_N:7*node_N]\n",
    "    \n",
    "    Ret = Re_t(φ,ψ)\n",
    "\n",
    "    dφ,dψ=Q[5*node_N:6*node_N],Q[7*node_N:8*node_N]\n",
    "    \n",
    "#     Ti.ti+=1\n",
    "    η=[x[-1],z[-1],φ[-1],ψ[-1]]\n",
    "    dη=[dx[-1],dz[-1],dφ[-1],dψ[-1]]\n",
    "    \n",
    "#     left=V.eq_left(η,dη)\n",
    "\n",
    "    # PD controller after 20 sec\n",
    "#     if t<20:\n",
    "#         ddη=np.linalg.lstsq(V.M, -left + tau(η, dη, wave_coef, Fx_0/η[0], 0, t), rcond=None)[0]\n",
    "#     else:\n",
    "#    hack =1\n",
    "#     print(η,dη)\n",
    "#     Ti.ti+=1\n",
    "#     ddη=np.linalg.lstsq(V.M.astype(np.float32)*hack, -left.astype(np.float32) \n",
    "#                     + tau(η,dη, wave_coef, kp, kd, t).astype(np.float32)\n",
    "#                         , rcond=None)[0]\n",
    "    \n",
    "#     Coo.η,Coo.dη=Coo.dη,ddη\n",
    "#     print(ddη)\n",
    "#     print()\n",
    "#     print('ddη', ddη)\n",
    " \n",
    "#     tau_force = V.tau(η,dη,ddη).astype(np.float32)\n",
    "#     tau_force = tau(η,dη, wave_coef, kp, kd, t) # simple motion \n",
    "#     print(tau_force)\n",
    "\n",
    "#     C=ne(x,z,Ret)\n",
    "\n",
    "  \n",
    "#     a,c=C[:,0],C[:,1]\n",
    "#     Z0=tau_force[:3]\n",
    "#     Z0=tau_force[:2]\n",
    "#     Z0=np.dot(Re_b(Ret),tau_force[:2])\n",
    "   \n",
    "    Z1 = d_s(ne, x, z, Ret).T\n",
    "\n",
    "    Z2=ne_(dx,dz,DT,Ret).T\n",
    "    \n",
    "    Z= (Z1 + Z2 \n",
    "#         +\n",
    "#         Z0\n",
    "       )\n",
    "\n",
    "     \n",
    "############################################################    \n",
    "#     ddx,ddy, ddz = 1/Ws*np.linalg.solve(Re_b(Ret),Z).T \n",
    "############################################################    \n",
    "    ans_x=[]\n",
    "    ans_z=[]\n",
    "    RRRR=Re_b(Ret)\n",
    "    for i in range(len(RRRR)):\n",
    "        a,c=np.linalg.lstsq(Ws*RRRR[i], Z[i], rcond=None)[0]\n",
    "        ans_x.append(a)\n",
    "        ans_z.append(c)\n",
    "    \n",
    "    ddx, ddz = np.array(ans_x),np.array(ans_z) \n",
    "#     tmp=np.linalg.solve(Ret,np.vstack([ddx_phi,  ddz_phi]).T)\n",
    "#     ddx,  ddz = tmp[:,0],tmp[:,1]\n",
    "    \n",
    " \n",
    "    \n",
    "#     d_me_=me(φ,ψ,x,z,Ret)\n",
    "\n",
    "    C1=np.einsum('ijk,ik->ij', Irho_e(Ret).astype(np.float32),\n",
    "                                                        np.einsum('ijk,ik->ij', Π(dφ,dψ).astype(np.float32), \n",
    "                                                                  np.array([dφ,dψ]).astype(np.float32).T))\n",
    "    \n",
    "#     print(np.einsum('ijk,ik->ij',Π(φ,ψ).astype(np.float32),np.array([dφ,dψ]).astype(np.float32).T))\n",
    "#     print(np.einsum('ijk,ik->ij',Irho_e(Ret).astype(np.float32),\n",
    "#                            np.einsum('ijk,ik->ij',Π(φ,ψ).astype(np.float32),np.array([dφ,dψ]).astype(np.float32).T)))\n",
    "    C2= np.cross(np.einsum('ijk,ik->ij',Π(φ,ψ).astype(np.float32),np.array([dφ,dψ]).astype(np.float32).T),\n",
    "                 np.einsum('ijk,ik->ij',Irho_e(Ret).astype(np.float32),\n",
    "                           np.einsum('ijk,ik->ij',Π(φ,ψ).astype(np.float32),\n",
    "                                     np.array([dφ,dψ]).astype(np.float32).T)))\n",
    "#     print(C2.shape)\n",
    "\n",
    "#     C3= d_s(me_[:,0],me_[:,1],x,z).astype(np.float32).T\n",
    "    C3=d_me(φ,ψ,Ret)\n",
    "\n",
    "#     C4= np.cross(d_s(x,z,x,z).T,ne(x,z,Ret))\n",
    "    C4= np.cross(d_s(phi,x,z,Ret).T, ne(x,z,Ret))\n",
    "\n",
    "    K1=np.einsum('ijk,ik->ij',Π(φ,ψ).astype(np.float32),np.array([dφ,dψ]).astype(np.float32).T).T\n",
    "\n",
    "    C5= -np.dot(DR,K1).astype(np.float32).T\n",
    "#     print(np.linalg.inv(Π(φ,θ,ψ).astype(np.float32)).shape)\n",
    "\n",
    "#     C0=np.einsum('ijk,kp->ijp',\n",
    "#                  np.linalg.inv(Π(φ,ψ)), tau_force[2:].reshape(2,1)\n",
    "#                 ) \n",
    "#     C0=np.einsum('ijk,kp->ijp',np.einsum('ijk,ikr->ijr',\n",
    "#                                          np.linalg.inv(Π(φ,ψ).astype(np.float32)),\n",
    "#                         Re_b(Ret)), tau_force[2:].reshape(2,1))\n",
    "#     print(C1.shape,C2.shape,C3.shape,C4.shape,C5.shape)\n",
    "    B_ =(\n",
    "        -C1\n",
    "         -C2.reshape(node_N,1)\n",
    "         +C3\n",
    "        +C4.reshape(node_N,1)\n",
    "        +C5\n",
    "    )\n",
    "#     B= B_ +C0.squeeze()\n",
    "    B= B_ \n",
    "\n",
    "    A2 = Irho_e(Ret).astype(np.float32)\n",
    "    A3=Π(φ,ψ).astype(np.float32)\n",
    "\n",
    "    A=np.einsum('ijk,ikr->ijr',A2,A3)\n",
    "#     A=np.einsum('ijk,ikr->ijr', Re_b(Ret), np.einsum('ijk,ikr->ijr',A2,A3))\n",
    "\n",
    "#     print(A,C1,C2.reshape(node_N,1),C3,C4.reshape(node_N,1),C5)\n",
    "\n",
    "############################################\n",
    "#     ddφ,ddθ,ddψ = np.linalg.solve(A,B).T\n",
    "#############################################\n",
    "\n",
    "    ans_φ=[]\n",
    "    ans_ψ=[]\n",
    "    for i in range(len(A)):\n",
    "        a,c=np.linalg.lstsq(A[i],B[i], rcond=None)[0]\n",
    "        ans_φ.append(a)\n",
    "        ans_ψ.append(c)\n",
    "    \n",
    "    ddφ,ddψ=np.array(ans_φ),np.array(ans_ψ)\n",
    "\n",
    "#     ddx[-1],ddz[-1],ddφ[-1],ddψ[-1]=ddx[-1]+ddη[0],ddz[-1]+ddη[1],ddφ[-1]+ddη[2],ddψ[-1]+ddη[3]\n",
    "#     ddx[-1]=np.sin(t)\n",
    "\n",
    "#     ddz[-1]+=ddη[1]*np.sin(t)\n",
    "\n",
    "#     ddz[-1]=np.sin(t)\n",
    "    ddx[0],ddz[0],ddφ[0],ddψ[0]=0,0,0,0\n",
    "    A1111=np.concatenate([dx, ddx, dz, ddz, dφ, ddφ, dψ, ddψ], axis=0)\n",
    "#     A1111=np.concatenate([dx, ddx, \n",
    "#                           np.zeros(node_N), np.zeros(node_N),\n",
    "#                           dz, ddz,\n",
    "#                           np.zeros(node_N),  np.zeros(node_N),\n",
    "#                           np.zeros(node_N), np.zeros(node_N),\n",
    "#                           np.zeros(node_N),  np.zeros(node_N),\n",
    "#                           ], axis=0)\n",
    "\n",
    "        \n",
    "\n",
    "#     print(A1111)\n",
    "    return A1111"
   ]
  },
  {
   "cell_type": "code",
   "execution_count": 153,
   "metadata": {},
   "outputs": [],
   "source": [
    "# ode15s = scipy.integrate.ode(grayscott1d)\n",
    "# # ode15s.set_integrator('vode', method='bdf', order=15, nsteps=3000)\n",
    "# ode15s.set_integrator('vode',  order=15, nsteps=3000)\n",
    "# ode15s.set_initial_value(q0, 0)"
   ]
  },
  {
   "cell_type": "code",
   "execution_count": 154,
   "metadata": {},
   "outputs": [],
   "source": [
    "tspan = (0., 20)"
   ]
  },
  {
   "cell_type": "code",
   "execution_count": 155,
   "metadata": {},
   "outputs": [
    {
     "name": "stdout",
     "output_type": "stream",
     "text": [
      "0:00:22.879530\n"
     ]
    }
   ],
   "source": [
    "startTime1 = datetime.now()\n",
    "# prob = de.ODEProblem(grayscott1d, q0, tspan)\n",
    "# us = de.solve(prob)\n",
    "us=solve_ivp(grayscott1d,  tspan, q0, \n",
    "#              method='LSODA',\n",
    "#              method= 'Radau'\n",
    "#              vectorized=True\n",
    "#              min_step=1e-6\n",
    "#              rtol=1e9, atol=1e9\n",
    "            )\n",
    "# us=ode15s.integrate(10)\n",
    "print(datetime.now() - startTime1)"
   ]
  },
  {
   "cell_type": "code",
   "execution_count": 156,
   "metadata": {},
   "outputs": [],
   "source": [
    "fin=us"
   ]
  },
  {
   "cell_type": "code",
   "execution_count": 157,
   "metadata": {
    "scrolled": true
   },
   "outputs": [],
   "source": [
    "# startTime1 = datetime.now()\n",
    "# us=odeint(grayscott1d, torch.from_numpy(q0), torch.from_numpy(t.astype(np.float32)))\n",
    "# print(datetime.now() - startTime1)"
   ]
  },
  {
   "cell_type": "code",
   "execution_count": 158,
   "metadata": {},
   "outputs": [
    {
     "data": {
      "text/plain": [
       "  message: 'The solver successfully reached the end of the integration interval.'\n",
       "     nfev: 4274\n",
       "     njev: 0\n",
       "      nlu: 0\n",
       "      sol: None\n",
       "   status: 0\n",
       "  success: True\n",
       "        t: array([0.00000000e+00, 8.33331048e-06, 9.16664153e-05, 9.24997464e-04,\n",
       "       9.25830795e-03, 2.62543093e-02, 4.32503107e-02, 6.20949224e-02,\n",
       "       8.59234066e-02, 1.17279348e-01, 1.59083515e-01, 1.96492422e-01,\n",
       "       2.33901330e-01, 2.70777390e-01, 3.04579585e-01, 3.36623034e-01,\n",
       "       3.70756068e-01, 4.09038316e-01, 4.44445272e-01, 4.79852229e-01,\n",
       "       5.16593263e-01, 5.53488202e-01, 5.89035209e-01, 6.23406949e-01,\n",
       "       6.58448745e-01, 6.95587348e-01, 7.33836240e-01, 7.70566155e-01,\n",
       "       8.04886504e-01, 8.39014889e-01, 8.75888499e-01, 9.15549345e-01,\n",
       "       9.50285114e-01, 9.85020884e-01, 1.02340248e+00, 1.06395585e+00,\n",
       "       1.09739405e+00, 1.13083225e+00, 1.17007061e+00, 1.21335634e+00,\n",
       "       1.24519242e+00, 1.27702849e+00, 1.31786036e+00, 1.35819024e+00,\n",
       "       1.39852011e+00, 1.43233959e+00, 1.46615906e+00, 1.50541813e+00,\n",
       "       1.54852689e+00, 1.58081986e+00, 1.61311283e+00, 1.65387338e+00,\n",
       "       1.69395322e+00, 1.73403305e+00, 1.77168120e+00, 1.80578099e+00,\n",
       "       1.83962801e+00, 1.87732248e+00, 1.91880807e+00, 1.95284015e+00,\n",
       "       1.98687224e+00, 2.02637592e+00, 2.06462404e+00, 2.10287217e+00,\n",
       "       2.14023495e+00, 2.17564914e+00, 2.21039339e+00, 2.24674261e+00,\n",
       "       2.28522994e+00, 2.32347692e+00, 2.35890251e+00, 2.39225023e+00,\n",
       "       2.42691768e+00, 2.46514578e+00, 2.50476186e+00, 2.53680722e+00,\n",
       "       2.56885258e+00, 2.60713012e+00, 2.64514201e+00, 2.68315391e+00,\n",
       "       2.71902341e+00, 2.75190132e+00, 2.78457519e+00, 2.82041597e+00,\n",
       "       2.85923555e+00, 2.89165343e+00, 2.92407132e+00, 2.96118580e+00,\n",
       "       3.00091557e+00, 3.03084066e+00, 3.06076574e+00, 3.09846885e+00,\n",
       "       3.13544245e+00, 3.17241605e+00, 3.20715643e+00, 3.23849802e+00,\n",
       "       3.26939124e+00, 3.30366846e+00, 3.34144817e+00, 3.37248947e+00,\n",
       "       3.40353076e+00, 3.43941091e+00, 3.47379186e+00, 3.50817280e+00,\n",
       "       3.54208739e+00, 3.57440225e+00, 3.60582441e+00, 3.63821623e+00,\n",
       "       3.67240406e+00, 3.70682822e+00, 3.73919210e+00, 3.76953917e+00,\n",
       "       3.80041323e+00, 3.83402279e+00, 3.86928956e+00, 3.89886637e+00,\n",
       "       3.92844319e+00, 3.96251948e+00, 3.99945897e+00, 4.02721850e+00,\n",
       "       4.05497802e+00, 4.08994132e+00, 4.12415883e+00, 4.15837634e+00,\n",
       "       4.19066375e+00, 4.21997788e+00, 4.24893066e+00, 4.28092432e+00,\n",
       "       4.31604991e+00, 4.34532308e+00, 4.37459624e+00, 4.40810093e+00,\n",
       "       4.44394175e+00, 4.47121687e+00, 4.49849198e+00, 4.53263202e+00,\n",
       "       4.56642687e+00, 4.60022171e+00, 4.63188215e+00, 4.66058639e+00,\n",
       "       4.68920555e+00, 4.72115118e+00, 4.75620264e+00, 4.78491043e+00,\n",
       "       4.81361822e+00, 4.84706029e+00, 4.87969348e+00, 4.91232668e+00,\n",
       "       4.94403770e+00, 4.97407956e+00, 5.00381327e+00, 5.03524849e+00,\n",
       "       5.06857931e+00, 5.10145832e+00, 5.13178503e+00, 5.16060256e+00,\n",
       "       5.19106852e+00, 5.22486635e+00, 5.25956796e+00, 5.28756101e+00,\n",
       "       5.31555405e+00, 5.34933478e+00, 5.38749111e+00, 5.41438477e+00,\n",
       "       5.44127843e+00, 5.47687421e+00, 5.51183198e+00, 5.54678976e+00,\n",
       "       5.57603296e+00, 5.60527616e+00, 5.63931597e+00, 5.67681266e+00,\n",
       "       5.70506922e+00, 5.73332578e+00, 5.76886351e+00, 5.80412125e+00,\n",
       "       5.83937898e+00, 5.87243360e+00, 5.90254895e+00, 5.93277069e+00,\n",
       "       5.96662830e+00, 6.00377166e+00, 6.03422853e+00, 6.06468540e+00,\n",
       "       6.10026329e+00, 6.13912936e+00, 6.16808435e+00, 6.19703933e+00,\n",
       "       6.23393123e+00, 6.27083038e+00, 6.30772953e+00, 6.34193728e+00,\n",
       "       6.37277747e+00, 6.40389821e+00, 6.43932749e+00, 6.47849027e+00,\n",
       "       6.50961031e+00, 6.54073034e+00, 6.57805470e+00, 6.61494075e+00,\n",
       "       6.65182679e+00, 6.68703172e+00, 6.71986624e+00, 6.75273677e+00,\n",
       "       6.78853766e+00, 6.82703792e+00, 6.86025204e+00, 6.89346616e+00,\n",
       "       6.93072152e+00, 6.97053045e+00, 7.00255070e+00, 7.03457095e+00,\n",
       "       7.07290507e+00, 7.11128767e+00, 7.14967028e+00, 7.18582284e+00,\n",
       "       7.21918248e+00, 7.25278826e+00, 7.28997109e+00, 7.33016259e+00,\n",
       "       7.36359431e+00, 7.39702602e+00, 7.43567554e+00, 7.47767996e+00,\n",
       "       7.50936528e+00, 7.54105059e+00, 7.58095708e+00, 7.62059180e+00,\n",
       "       7.66022652e+00, 7.69718736e+00, 7.73057448e+00, 7.76398042e+00,\n",
       "       7.80157087e+00, 7.84298956e+00, 7.87634559e+00, 7.90970161e+00,\n",
       "       7.94911656e+00, 7.98752735e+00, 8.02593813e+00, 8.06306881e+00,\n",
       "       8.09792214e+00, 8.13232283e+00, 8.16894226e+00, 8.20804537e+00,\n",
       "       8.24646680e+00, 8.28137312e+00, 8.31418099e+00, 8.34908220e+00,\n",
       "       8.38835140e+00, 8.42429334e+00, 8.46023528e+00, 8.49762969e+00,\n",
       "       8.53492050e+00, 8.57031969e+00, 8.60421586e+00, 8.63891524e+00,\n",
       "       8.67601529e+00, 8.71411937e+00, 8.75003396e+00, 8.78297233e+00,\n",
       "       8.81578577e+00, 8.85184006e+00, 8.89086066e+00, 8.92334952e+00,\n",
       "       8.95583839e+00, 8.99316073e+00, 9.03323226e+00, 9.06324796e+00,\n",
       "       9.09326366e+00, 9.13124935e+00, 9.16850160e+00, 9.20575386e+00,\n",
       "       9.24070801e+00, 9.27218271e+00, 9.30321300e+00, 9.33772427e+00,\n",
       "       9.37583059e+00, 9.40699862e+00, 9.43816666e+00, 9.47432267e+00,\n",
       "       9.50893825e+00, 9.54355384e+00, 9.57768036e+00, 9.61014513e+00,\n",
       "       9.64168388e+00, 9.67422512e+00, 9.70862359e+00, 9.74325970e+00,\n",
       "       9.77574909e+00, 9.80614049e+00, 9.83707116e+00, 9.87083155e+00,\n",
       "       9.90630734e+00, 9.93585406e+00, 9.96540077e+00, 9.99962279e+00,\n",
       "       1.00368130e+01, 1.00644050e+01, 1.00919970e+01, 1.01271005e+01,\n",
       "       1.01613723e+01, 1.01956441e+01, 1.02279385e+01, 1.02571285e+01,\n",
       "       1.02858783e+01, 1.03177207e+01, 1.03528258e+01, 1.03819249e+01,\n",
       "       1.04110240e+01, 1.04444270e+01, 1.04801525e+01, 1.05070776e+01,\n",
       "       1.05340027e+01, 1.05679674e+01, 1.06015119e+01, 1.06350565e+01,\n",
       "       1.06664478e+01, 1.06947976e+01, 1.07229852e+01, 1.07544932e+01,\n",
       "       1.07891758e+01, 1.08174607e+01, 1.08457455e+01, 1.08787622e+01,\n",
       "       1.09108204e+01, 1.09428787e+01, 1.09741215e+01, 1.10037270e+01,\n",
       "       1.10329071e+01, 1.10636147e+01, 1.10961703e+01, 1.11284272e+01,\n",
       "       1.11582734e+01, 1.11865307e+01, 1.12161776e+01, 1.12489759e+01,\n",
       "       1.12828265e+01, 1.13103026e+01, 1.13377787e+01, 1.13706733e+01,\n",
       "       1.14075493e+01, 1.14338153e+01, 1.14600812e+01, 1.14945676e+01,\n",
       "       1.15284190e+01, 1.15622703e+01, 1.15906972e+01, 1.16191241e+01,\n",
       "       1.16520780e+01, 1.16882511e+01, 1.17156527e+01, 1.17430543e+01,\n",
       "       1.17773641e+01, 1.18113564e+01, 1.18453488e+01, 1.18772811e+01,\n",
       "       1.19064213e+01, 1.19356168e+01, 1.19682030e+01, 1.20038884e+01,\n",
       "       1.20333272e+01, 1.20627661e+01, 1.20969661e+01, 1.21341852e+01,\n",
       "       1.21621794e+01, 1.21901736e+01, 1.22255666e+01, 1.22609541e+01,\n",
       "       1.22963417e+01, 1.23292318e+01, 1.23589858e+01, 1.23889967e+01,\n",
       "       1.24230167e+01, 1.24605028e+01, 1.24905290e+01, 1.25205552e+01,\n",
       "       1.25563419e+01, 1.25917437e+01, 1.26271455e+01, 1.26609807e+01,\n",
       "       1.26926264e+01, 1.27243358e+01, 1.27587934e+01, 1.27957517e+01,\n",
       "       1.28277970e+01, 1.28598423e+01, 1.28956685e+01, 1.29339106e+01,\n",
       "       1.29649429e+01, 1.29959751e+01, 1.30328684e+01, 1.30738951e+01,\n",
       "       1.31035249e+01, 1.31331547e+01, 1.31717515e+01, 1.32100695e+01,\n",
       "       1.32483875e+01, 1.32801743e+01, 1.33119611e+01, 1.33492970e+01,\n",
       "       1.33907302e+01, 1.34213723e+01, 1.34520143e+01, 1.34911077e+01,\n",
       "       1.35297651e+01, 1.35684225e+01, 1.36045435e+01, 1.36371879e+01,\n",
       "       1.36698214e+01, 1.37065495e+01, 1.37471163e+01, 1.37799430e+01,\n",
       "       1.38127697e+01, 1.38514151e+01, 1.38892281e+01, 1.39270411e+01,\n",
       "       1.39635609e+01, 1.39979187e+01, 1.40319759e+01, 1.40683143e+01,\n",
       "       1.41070598e+01, 1.41450358e+01, 1.41795679e+01, 1.42121926e+01,\n",
       "       1.42470584e+01, 1.42862550e+01, 1.43219143e+01, 1.43575737e+01,\n",
       "       1.43949460e+01, 1.44324857e+01, 1.44680855e+01, 1.45018829e+01,\n",
       "       1.45363276e+01, 1.45734288e+01, 1.46120119e+01, 1.46485122e+01,\n",
       "       1.46816124e+01, 1.47141726e+01, 1.47501020e+01, 1.47896939e+01,\n",
       "       1.48227603e+01, 1.48558267e+01, 1.48935306e+01, 1.49336986e+01,\n",
       "       1.49642478e+01, 1.49947970e+01, 1.50330574e+01, 1.50707968e+01,\n",
       "       1.51085361e+01, 1.51438727e+01, 1.51757488e+01, 1.52073208e+01,\n",
       "       1.52425036e+01, 1.52812438e+01, 1.53127760e+01, 1.53443082e+01,\n",
       "       1.53810928e+01, 1.54164202e+01, 1.54517475e+01, 1.54864127e+01,\n",
       "       1.55192434e+01, 1.55512014e+01, 1.55844040e+01, 1.56196194e+01,\n",
       "       1.56548981e+01, 1.56877016e+01, 1.57183397e+01, 1.57498074e+01,\n",
       "       1.57844486e+01, 1.58207395e+01, 1.58503054e+01, 1.58798712e+01,\n",
       "       1.59148206e+01, 1.59492106e+01, 1.59836007e+01, 1.60164433e+01,\n",
       "       1.60468680e+01, 1.60769223e+01, 1.61093355e+01, 1.61441861e+01,\n",
       "       1.61743149e+01, 1.62044436e+01, 1.62379363e+01, 1.62731684e+01,\n",
       "       1.63013562e+01, 1.63295440e+01, 1.63633871e+01, 1.63967453e+01,\n",
       "       1.64301035e+01, 1.64617848e+01, 1.64909553e+01, 1.65198451e+01,\n",
       "       1.65513059e+01, 1.65853238e+01, 1.66142829e+01, 1.66432420e+01,\n",
       "       1.66758700e+01, 1.67104975e+01, 1.67375951e+01, 1.67646927e+01,\n",
       "       1.67978314e+01, 1.68305524e+01, 1.68632734e+01, 1.68941705e+01,\n",
       "       1.69224435e+01, 1.69505403e+01, 1.69814695e+01, 1.70151165e+01,\n",
       "       1.70433013e+01, 1.70714860e+01, 1.71036984e+01, 1.71382226e+01,\n",
       "       1.71646488e+01, 1.71910750e+01, 1.72239817e+01, 1.72565663e+01,\n",
       "       1.72891510e+01, 1.73197300e+01, 1.73475385e+01, 1.73752868e+01,\n",
       "       1.74061883e+01, 1.74400192e+01, 1.74678685e+01, 1.74957177e+01,\n",
       "       1.75280453e+01, 1.75630747e+01, 1.75892348e+01, 1.76153948e+01,\n",
       "       1.76486310e+01, 1.76816392e+01, 1.77146474e+01, 1.77454154e+01,\n",
       "       1.77731995e+01, 1.78010325e+01, 1.78324137e+01, 1.78670232e+01,\n",
       "       1.78949688e+01, 1.79229143e+01, 1.79559068e+01, 1.79883033e+01,\n",
       "       1.80206998e+01, 1.80519303e+01, 1.80813340e+01, 1.81106169e+01,\n",
       "       1.81420091e+01, 1.81754978e+01, 1.82082335e+01, 1.82380091e+01,\n",
       "       1.82663273e+01, 1.82968281e+01, 1.83311734e+01, 1.83622361e+01,\n",
       "       1.83932988e+01, 1.84261665e+01, 1.84595797e+01, 1.84913799e+01,\n",
       "       1.85213601e+01, 1.85517472e+01, 1.85847525e+01, 1.86196859e+01,\n",
       "       1.86531091e+01, 1.86832380e+01, 1.87124639e+01, 1.87447818e+01,\n",
       "       1.87811623e+01, 1.88123029e+01, 1.88434434e+01, 1.88781457e+01,\n",
       "       1.89146964e+01, 1.89443949e+01, 1.89740934e+01, 1.90095089e+01,\n",
       "       1.90490978e+01, 1.90776326e+01, 1.91061674e+01, 1.91433661e+01,\n",
       "       1.91802455e+01, 1.92171248e+01, 1.92478463e+01, 1.92785679e+01,\n",
       "       1.93145381e+01, 1.93543970e+01, 1.93841352e+01, 1.94138733e+01,\n",
       "       1.94515625e+01, 1.94889253e+01, 1.95262881e+01, 1.95612255e+01,\n",
       "       1.95929096e+01, 1.96246705e+01, 1.96603873e+01, 1.96997292e+01,\n",
       "       1.97316698e+01, 1.97636104e+01, 1.98011707e+01, 1.98381145e+01,\n",
       "       1.98750584e+01, 1.99106266e+01, 1.99440790e+01, 1.99773930e+01,\n",
       "       2.00000000e+01])\n",
       " t_events: None\n",
       "        y: array([[ 0.00000000e+00,  0.00000000e+00,  0.00000000e+00, ...,\n",
       "         0.00000000e+00,  0.00000000e+00,  0.00000000e+00],\n",
       "       [ 3.68422828e+03,  3.68422828e+03,  3.68422828e+03, ...,\n",
       "         3.80694896e+03,  3.80715416e+03,  3.80729341e+03],\n",
       "       [ 7.36845656e+03,  7.36845656e+03,  7.36845656e+03, ...,\n",
       "         7.52734636e+03,  7.52759896e+03,  7.52777011e+03],\n",
       "       ...,\n",
       "       [ 0.00000000e+00, -3.58389845e-10, -3.94212404e-09, ...,\n",
       "        -4.30064700e-05, -4.30064690e-05, -4.30064683e-05],\n",
       "       [ 0.00000000e+00,  3.12598078e-10,  3.43843557e-09, ...,\n",
       "         3.75128221e-05,  3.75127244e-05,  3.75126589e-05],\n",
       "       [ 0.00000000e+00,  3.90743751e-10,  4.29800215e-09, ...,\n",
       "         4.68905652e-05,  4.68904533e-05,  4.68903783e-05]])\n",
       " y_events: None"
      ]
     },
     "execution_count": 158,
     "metadata": {},
     "output_type": "execute_result"
    }
   ],
   "source": [
    "fin"
   ]
  },
  {
   "cell_type": "code",
   "execution_count": 159,
   "metadata": {},
   "outputs": [],
   "source": [
    "t=fin.t"
   ]
  },
  {
   "cell_type": "code",
   "execution_count": 160,
   "metadata": {},
   "outputs": [],
   "source": [
    "fin=fin.y.T"
   ]
  },
  {
   "cell_type": "code",
   "execution_count": null,
   "metadata": {},
   "outputs": [],
   "source": []
  },
  {
   "cell_type": "code",
   "execution_count": 161,
   "metadata": {},
   "outputs": [
    {
     "name": "stderr",
     "output_type": "stream",
     "text": [
      "/Library/Frameworks/Python.framework/Versions/3.7/lib/python3.7/site-packages/ipykernel_launcher.py:2: MatplotlibDeprecationWarning: Calling gca() with keyword arguments was deprecated in Matplotlib 3.4. Starting two minor releases later, gca() will take no keyword arguments. The gca() function should only be used to get the current axes, or if no axes exist, create new axes with default keyword arguments. To create a new axes with non-default arguments, use plt.axes() or plt.subplot().\n",
      "  \n"
     ]
    },
    {
     "data": {
      "image/png": "[encoded data removed]",
      "text/plain": [
       "<Figure size 936x936 with 1 Axes>"
      ]
     },
     "metadata": {
      "needs_background": "light"
     },
     "output_type": "display_data"
    }
   ],
   "source": [
    "fig=plt.figure(figsize=(13,13))\n",
    "ax = fig.gca(projection='3d')\n",
    "\n",
    "X0=fin[0,[i for i in range(0,node_N)]]\n",
    "Z0=fin[0,[i for i in range(2*node_N,3*node_N)]]\n",
    "# Z0=fin[0,[i for i in range(4*node_N,5*node_N)]]\n",
    "# for j in range(len(fin.y.T)):\n",
    "j=-1\n",
    "X=fin[j,[i for i in range(0,node_N)]]\n",
    "Z=fin[j,[i for i in range(2*node_N,3*node_N)]]\n",
    "# Z=fin[j,[i for i in range(4*node_N,5*node_N)]]\n",
    "\n",
    "ax.plot(X0,Z0, color='r')\n",
    "ax.plot(X,Z, color='b') \n",
    "# ax.view_init(-30,-30)\n",
    "ax.view_init(90,-90)\n",
    "# ax.set_xlim([0, 5])\n",
    "# ax.set_ylim([0, 5])\n",
    "plt.show()"
   ]
  },
  {
   "cell_type": "code",
   "execution_count": 162,
   "metadata": {},
   "outputs": [
    {
     "data": {
      "text/plain": [
       "(array([    0.        ,  3807.29341481,  7527.77011359, 11326.56841968]),\n",
       " array([  0.        , 110.80764838, 317.62456814, 696.70425823]))"
      ]
     },
     "execution_count": 162,
     "metadata": {},
     "output_type": "execute_result"
    }
   ],
   "source": [
    "X,Z"
   ]
  },
  {
   "cell_type": "code",
   "execution_count": 163,
   "metadata": {},
   "outputs": [
    {
     "data": {
      "text/plain": [
       "(array([    0.        ,  3684.22828149,  7368.45656297, 11052.68484446]),\n",
       " array([  0.        ,  77.06804645, 308.4070593 , 694.42189511]))"
      ]
     },
     "execution_count": 163,
     "metadata": {},
     "output_type": "execute_result"
    }
   ],
   "source": [
    "X0,Z0"
   ]
  },
  {
   "cell_type": "code",
   "execution_count": 164,
   "metadata": {},
   "outputs": [],
   "source": [
    "us=fin.T"
   ]
  },
  {
   "cell_type": "code",
   "execution_count": 165,
   "metadata": {},
   "outputs": [],
   "source": [
    "# t=np.arange(tspan[0],tspan[1],tspan[1]/len(us.T))"
   ]
  },
  {
   "cell_type": "code",
   "execution_count": 166,
   "metadata": {},
   "outputs": [
    {
     "data": {
      "text/plain": [
       "601"
      ]
     },
     "execution_count": 166,
     "metadata": {},
     "output_type": "execute_result"
    }
   ],
   "source": [
    "len(t)"
   ]
  },
  {
   "cell_type": "code",
   "execution_count": 167,
   "metadata": {},
   "outputs": [
    {
     "data": {
      "image/png": "[encoded data removed]",
      "text/plain": [
       "<Figure size 432x288 with 1 Axes>"
      ]
     },
     "metadata": {
      "needs_background": "light"
     },
     "output_type": "display_data"
    }
   ],
   "source": [
    "plt.plot(t,us.T[:,2],'-')\n",
    "plt.xlabel('t')\n",
    "plt.ylabel('x2')\n",
    "plt.show()"
   ]
  },
  {
   "cell_type": "code",
   "execution_count": 168,
   "metadata": {},
   "outputs": [
    {
     "data": {
      "image/png": "[encoded data removed]",
      "text/plain": [
       "<Figure size 432x288 with 1 Axes>"
      ]
     },
     "metadata": {
      "needs_background": "light"
     },
     "output_type": "display_data"
    }
   ],
   "source": [
    "plt.plot(t,us.T[:,6] ,'-')\n",
    "plt.xlabel('t')\n",
    "plt.ylabel('dx2')\n",
    "plt.show()"
   ]
  },
  {
   "cell_type": "code",
   "execution_count": 169,
   "metadata": {},
   "outputs": [
    {
     "data": {
      "image/png": "[encoded data removed]",
      "text/plain": [
       "<Figure size 432x288 with 1 Axes>"
      ]
     },
     "metadata": {
      "needs_background": "light"
     },
     "output_type": "display_data"
    }
   ],
   "source": [
    "plt.plot(t,us.T[:,10] ,'-')\n",
    "plt.xlabel('t')\n",
    "plt.ylabel('z2')\n",
    "plt.show()"
   ]
  },
  {
   "cell_type": "code",
   "execution_count": 170,
   "metadata": {},
   "outputs": [
    {
     "data": {
      "image/png": "[encoded data removed]",
      "text/plain": [
       "<Figure size 432x288 with 1 Axes>"
      ]
     },
     "metadata": {
      "needs_background": "light"
     },
     "output_type": "display_data"
    }
   ],
   "source": [
    "plt.plot(t,us.T[:,14] ,'-')\n",
    "plt.xlabel('t')\n",
    "plt.ylabel('dz2')\n",
    "plt.show()"
   ]
  },
  {
   "cell_type": "code",
   "execution_count": 171,
   "metadata": {},
   "outputs": [
    {
     "data": {
      "image/png": "[encoded data removed]",
      "text/plain": [
       "<Figure size 432x288 with 1 Axes>"
      ]
     },
     "metadata": {
      "needs_background": "light"
     },
     "output_type": "display_data"
    }
   ],
   "source": [
    "plt.plot(t,us.T[:,18],'-')\n",
    "plt.xlabel('t')\n",
    "plt.ylabel('φ2')\n",
    "plt.show()"
   ]
  },
  {
   "cell_type": "code",
   "execution_count": 172,
   "metadata": {},
   "outputs": [
    {
     "data": {
      "image/png": "[encoded data removed]",
      "text/plain": [
       "<Figure size 432x288 with 1 Axes>"
      ]
     },
     "metadata": {
      "needs_background": "light"
     },
     "output_type": "display_data"
    }
   ],
   "source": [
    "plt.plot(t,us.T[:,21] ,'-')\n",
    "plt.xlabel('t')\n",
    "plt.ylabel('dφ2')\n",
    "plt.show()"
   ]
  },
  {
   "cell_type": "code",
   "execution_count": 173,
   "metadata": {},
   "outputs": [
    {
     "data": {
      "image/png": "[encoded data removed]",
      "text/plain": [
       "<Figure size 432x288 with 1 Axes>"
      ]
     },
     "metadata": {
      "needs_background": "light"
     },
     "output_type": "display_data"
    }
   ],
   "source": [
    "plt.plot(t,us.T[:,26],'-')\n",
    "plt.xlabel('t')\n",
    "plt.ylabel('ψ2')\n",
    "plt.show()"
   ]
  },
  {
   "cell_type": "code",
   "execution_count": 174,
   "metadata": {},
   "outputs": [
    {
     "data": {
      "image/png": "[encoded data removed]",
      "text/plain": [
       "<Figure size 432x288 with 1 Axes>"
      ]
     },
     "metadata": {
      "needs_background": "light"
     },
     "output_type": "display_data"
    }
   ],
   "source": [
    "plt.plot(t,us.T[:,30] ,'-')\n",
    "plt.xlabel('t')\n",
    "plt.ylabel('dψ2')\n",
    "plt.show()"
   ]
  }
 ],
 "metadata": {
  "kernelspec": {
   "display_name": "Python 3",
   "language": "python",
   "name": "python3"
  },
  "language_info": {
   "codemirror_mode": {
    "name": "ipython",
    "version": 3
   },
   "file_extension": ".py",
   "mimetype": "text/x-python",
   "name": "python",
   "nbconvert_exporter": "python",
   "pygments_lexer": "ipython3",
   "version": "3.7.7"
  }
 },
 "nbformat": 4,
 "nbformat_minor": 4
}
