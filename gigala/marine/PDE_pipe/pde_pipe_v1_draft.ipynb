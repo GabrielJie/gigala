{
 "cells": [
  {
   "cell_type": "markdown",
   "metadata": {},
   "source": [
    "#### Model taken from:\n",
    "- [1] Offshore Pipelaying Dynamics. Gullik Anthon Jensen \n",
    "- [2] A nonlinear PDE formulation for offshore vessel pipeline installation. Gullik A. Jensen et al \n",
    "- [3] Modeling and Control of Offshore Pipelay Operations Based on a Finite Strain Pipe Model. Gullik A. Jensen "
   ]
  },
  {
   "cell_type": "code",
   "execution_count": 1,
   "metadata": {},
   "outputs": [],
   "source": [
    "import numpy as np\n",
    "import numdifftools as nd\n",
    "import math\n",
    "import matplotlib.pyplot as plt\n",
    "from datetime import datetime\n",
    "from scipy.integrate import odeint\n",
    "import torch\n",
    "import random"
   ]
  },
  {
   "cell_type": "code",
   "execution_count": 2,
   "metadata": {},
   "outputs": [],
   "source": [
    "import sys\n",
    "sys.path.insert(0, \"../../../../Ocean_Intella/PythonVehicleSimulator-master/src/python_vehicle_simulator\")\n",
    "sys.path.insert(0, \"../../../../Ocean_Intella/PythonVehicleSimulator-master/src\")"
   ]
  },
  {
   "cell_type": "code",
   "execution_count": 3,
   "metadata": {},
   "outputs": [],
   "source": [
    "from vehicles import shipClarke83\n",
    "from python_vehicle_simulator.vehicles import *\n",
    "from python_vehicle_simulator.lib import *\n",
    "from python_vehicle_simulator.lib.gnc import ssa"
   ]
  },
  {
   "cell_type": "code",
   "execution_count": 4,
   "metadata": {},
   "outputs": [],
   "source": [
    "def R2D(value):  # radians to degrees\n",
    "    return value * 180 / math.pi"
   ]
  },
  {
   "cell_type": "code",
   "execution_count": 5,
   "metadata": {},
   "outputs": [],
   "source": [
    "mp = 96 #  (submerged) [kg/m]"
   ]
  },
  {
   "cell_type": "code",
   "execution_count": 6,
   "metadata": {},
   "outputs": [
    {
     "name": "stdout",
     "output_type": "stream",
     "text": [
      "[0.  0.5]\n"
     ]
    }
   ],
   "source": [
    "# q0=[i for i in range(12)]\n",
    "max_t = 1 # 10 #600  \n",
    "dt = 0.5\n",
    "t=np.arange(0,max_t,dt)\n",
    "ds = 0.025\n",
    "print(t)"
   ]
  },
  {
   "cell_type": "code",
   "execution_count": 7,
   "metadata": {},
   "outputs": [],
   "source": [
    "node_N=5"
   ]
  },
  {
   "cell_type": "code",
   "execution_count": 8,
   "metadata": {},
   "outputs": [],
   "source": [
    "diag_Irho = 1e2*np.array([1, 1, 2]) # [m^4]  , p.99 in [1]\n",
    " \n",
    "Irho=np.diag(diag_Irho)"
   ]
  },
  {
   "cell_type": "code",
   "execution_count": 9,
   "metadata": {},
   "outputs": [
    {
     "data": {
      "text/plain": [
       "array([[100.,   0.,   0.],\n",
       "       [  0., 100.,   0.],\n",
       "       [  0.,   0., 200.]])"
      ]
     },
     "execution_count": 9,
     "metadata": {},
     "output_type": "execute_result"
    }
   ],
   "source": [
    "Irho"
   ]
  },
  {
   "cell_type": "code",
   "execution_count": null,
   "metadata": {},
   "outputs": [],
   "source": []
  },
  {
   "cell_type": "code",
   "execution_count": 10,
   "metadata": {},
   "outputs": [],
   "source": [
    "qw = 1025 # Water density [kg/m3]\n",
    "d0 = 0.761 # Outer diameter of pipe, [m]"
   ]
  },
  {
   "cell_type": "code",
   "execution_count": 11,
   "metadata": {},
   "outputs": [],
   "source": [
    "diag_DT = 1.5*np.array([1, 1, 1]) # [N/m]  , p.99 in [1]"
   ]
  },
  {
   "cell_type": "code",
   "execution_count": 12,
   "metadata": {},
   "outputs": [],
   "source": [
    "DT=np.diag(diag_DT) # (35) in [2]"
   ]
  },
  {
   "cell_type": "code",
   "execution_count": 13,
   "metadata": {},
   "outputs": [
    {
     "data": {
      "text/plain": [
       "array([[1.5, 0. , 0. ],\n",
       "       [0. , 1.5, 0. ],\n",
       "       [0. , 0. , 1.5]])"
      ]
     },
     "execution_count": 13,
     "metadata": {},
     "output_type": "execute_result"
    }
   ],
   "source": [
    "DT"
   ]
  },
  {
   "cell_type": "code",
   "execution_count": 14,
   "metadata": {},
   "outputs": [],
   "source": [
    "diag_CT = 1e9*np.array([1, 1, 1]) # [Nm2] p. 4721 in [3]"
   ]
  },
  {
   "cell_type": "code",
   "execution_count": 15,
   "metadata": {},
   "outputs": [],
   "source": [
    "CT=np.diag(diag_CT)"
   ]
  },
  {
   "cell_type": "code",
   "execution_count": 16,
   "metadata": {},
   "outputs": [
    {
     "data": {
      "text/plain": [
       "array([[1.e+09, 0.e+00, 0.e+00],\n",
       "       [0.e+00, 1.e+09, 0.e+00],\n",
       "       [0.e+00, 0.e+00, 1.e+09]])"
      ]
     },
     "execution_count": 16,
     "metadata": {},
     "output_type": "execute_result"
    }
   ],
   "source": [
    "CT"
   ]
  },
  {
   "cell_type": "code",
   "execution_count": 17,
   "metadata": {},
   "outputs": [],
   "source": [
    "from sympy import *"
   ]
  },
  {
   "cell_type": "code",
   "execution_count": 18,
   "metadata": {},
   "outputs": [],
   "source": [
    "rng = np.random.default_rng()"
   ]
  },
  {
   "cell_type": "code",
   "execution_count": 19,
   "metadata": {},
   "outputs": [],
   "source": [
    "# Dphi1, Dphi2, Dphi3 = symbols(\"Dphi1 Dphi2 Dphi3\")\n",
    "dx,dy,dz=rng.standard_normal(node_N),rng.standard_normal(node_N),rng.standard_normal(node_N)"
   ]
  },
  {
   "cell_type": "code",
   "execution_count": 20,
   "metadata": {},
   "outputs": [],
   "source": [
    "def C1(dx,dy,dz):\n",
    "    return np.vstack([dx**2,(dy**2+dz**2)**0.5*dy,(dy**2+dz**2)**0.5*dz])"
   ]
  },
  {
   "cell_type": "code",
   "execution_count": 21,
   "metadata": {},
   "outputs": [
    {
     "data": {
      "text/plain": [
       "array([[ 1.38808166,  3.33144311,  0.21193886,  0.19621323,  0.01248244],\n",
       "       [ 2.42845955,  0.54658866,  0.43046651,  0.10584845,  1.61500612],\n",
       "       [-1.06613396,  0.97562832, -1.41819832,  0.13002513, -0.87515855]])"
      ]
     },
     "execution_count": 21,
     "metadata": {},
     "output_type": "execute_result"
    }
   ],
   "source": [
    "C1(dx,dy,dz)"
   ]
  },
  {
   "cell_type": "code",
   "execution_count": 22,
   "metadata": {},
   "outputs": [
    {
     "data": {
      "text/plain": [
       "array([52.6516875 , 74.46073019, 74.46073019])"
      ]
     },
     "execution_count": 22,
     "metadata": {},
     "output_type": "execute_result"
    }
   ],
   "source": [
    "1/2*d0*qw*np.dot(DT,np.array([0.09,0.12727922, 0.12727922])) "
   ]
  },
  {
   "cell_type": "code",
   "execution_count": 23,
   "metadata": {},
   "outputs": [],
   "source": [
    "def fD(dx,dy,dz,DT):\n",
    "#     print(dx)\n",
    "#     print(C1(dx,dy,dz).shape)\n",
    "    return 1/2*d0*qw*np.dot(DT, C1(dx,dy,dz))"
   ]
  },
  {
   "cell_type": "code",
   "execution_count": 24,
   "metadata": {},
   "outputs": [
    {
     "data": {
      "text/plain": [
       "array([[ 812.05379544, 1948.95668624,  123.98820541,  114.78841856,\n",
       "           7.30246113],\n",
       "       [1420.69436851,  319.7646135 ,  251.83097707,   61.92332567,\n",
       "         944.80886027],\n",
       "       [-623.708357  ,  570.76086238, -829.67260995,   76.06714052,\n",
       "        -511.98415918]])"
      ]
     },
     "execution_count": 24,
     "metadata": {},
     "output_type": "execute_result"
    }
   ],
   "source": [
    "fD(dx,dy,dz,DT)"
   ]
  },
  {
   "cell_type": "code",
   "execution_count": 25,
   "metadata": {},
   "outputs": [],
   "source": [
    "# https://docs.scipy.org/doc/scipy-1.8.0/tutorial/integrate.html  \n",
    "# 1-D Gray-Scott "
   ]
  },
  {
   "cell_type": "code",
   "execution_count": 26,
   "metadata": {},
   "outputs": [],
   "source": [
    "# Mat=np.matrix([[1.3,.4,6.7],[9,7,6],[3.3,5.6,7]])"
   ]
  },
  {
   "cell_type": "code",
   "execution_count": 27,
   "metadata": {},
   "outputs": [],
   "source": [
    "I=np.identity(3)"
   ]
  },
  {
   "cell_type": "code",
   "execution_count": 28,
   "metadata": {},
   "outputs": [
    {
     "data": {
      "text/plain": [
       "array([[ 812.05379544, 1948.95668624,  123.98820541,  114.78841856,\n",
       "           7.30246113],\n",
       "       [1420.69436851,  319.7646135 ,  251.83097707,   61.92332567,\n",
       "         944.80886027],\n",
       "       [-623.708357  ,  570.76086238, -829.67260995,   76.06714052,\n",
       "        -511.98415918]])"
      ]
     },
     "execution_count": 28,
     "metadata": {},
     "output_type": "execute_result"
    }
   ],
   "source": [
    "np.dot(I,fD(dx,dy,dz,DT))"
   ]
  },
  {
   "cell_type": "code",
   "execution_count": 29,
   "metadata": {},
   "outputs": [],
   "source": [
    "Rb_t=I # https://www.researchgate.net/profile/Thor-Fossen/publication/224560837_Modeling_and_Control_of_Offshore_Pipelay_Operations_Based_on_a_Finite_Strain_Pipe_Model/links/00b7d520e175a3f918000000/Modeling-and-Control-of-Offshore-Pipelay-Operations-Based-on-a-Finite-Strain-Pipe-Model.pdf"
   ]
  },
  {
   "cell_type": "code",
   "execution_count": 30,
   "metadata": {},
   "outputs": [
    {
     "data": {
      "text/plain": [
       "array([[1., 0., 0.],\n",
       "       [0., 1., 0.],\n",
       "       [0., 0., 1.]])"
      ]
     },
     "execution_count": 30,
     "metadata": {},
     "output_type": "execute_result"
    }
   ],
   "source": [
    "Rb_t"
   ]
  },
  {
   "cell_type": "code",
   "execution_count": null,
   "metadata": {},
   "outputs": [],
   "source": []
  },
  {
   "cell_type": "code",
   "execution_count": 31,
   "metadata": {},
   "outputs": [],
   "source": [
    "diag_DR = 1.5*np.array([1, 1, 1]) # [N m/rad]  p.4721 in [3]"
   ]
  },
  {
   "cell_type": "code",
   "execution_count": 32,
   "metadata": {},
   "outputs": [],
   "source": [
    "DR=np.diag(diag_DR) "
   ]
  },
  {
   "cell_type": "code",
   "execution_count": 33,
   "metadata": {},
   "outputs": [],
   "source": [
    "dI= 0.69# Inner diameter of pipe, [m]"
   ]
  },
  {
   "cell_type": "code",
   "execution_count": 34,
   "metadata": {},
   "outputs": [],
   "source": [
    "A=math.pi*((d0/2)**2-(dI/2)**2)"
   ]
  },
  {
   "cell_type": "code",
   "execution_count": 35,
   "metadata": {},
   "outputs": [
    {
     "data": {
      "text/plain": [
       "0.08091250419136858"
      ]
     },
     "execution_count": 35,
     "metadata": {},
     "output_type": "execute_result"
    }
   ],
   "source": [
    "A"
   ]
  },
  {
   "cell_type": "code",
   "execution_count": 36,
   "metadata": {},
   "outputs": [],
   "source": [
    "fg_e=np.array([[0,0,(mp-qw*A)*9.81] for x in range(node_N)]).reshape(3, node_N)"
   ]
  },
  {
   "cell_type": "code",
   "execution_count": 37,
   "metadata": {},
   "outputs": [
    {
     "data": {
      "text/plain": [
       "array([[  0.        ,   0.        , 128.16454223,   0.        ,\n",
       "          0.        ],\n",
       "       [128.16454223,   0.        ,   0.        , 128.16454223,\n",
       "          0.        ],\n",
       "       [  0.        , 128.16454223,   0.        ,   0.        ,\n",
       "        128.16454223]])"
      ]
     },
     "execution_count": 37,
     "metadata": {},
     "output_type": "execute_result"
    }
   ],
   "source": [
    "fg_e"
   ]
  },
  {
   "cell_type": "code",
   "execution_count": 38,
   "metadata": {},
   "outputs": [],
   "source": [
    "from numpy import linalg as LA"
   ]
  },
  {
   "cell_type": "code",
   "execution_count": 39,
   "metadata": {},
   "outputs": [],
   "source": [
    "def k_sigma(hi,d0,fg_e):\n",
    "    ans=[]\n",
    "#     print('hi',hi)\n",
    "    for it in hi:\n",
    "#         print(it)\n",
    "        if it<0:\n",
    "            ans.append(0)\n",
    "        elif 0<=it<=d0/20:\n",
    "#             print(LA.norm(fg_e,2)/(d0/8-d0/40)*10*it**2/d0)\n",
    "            ans.append(LA.norm(fg_e,2)/(d0/8-d0/40)*10*it**2/d0)\n",
    "        else:\n",
    "#             print(LA.norm(fg_e,2)/(d0/8-d0/40)*10*hi**2/d0)\n",
    "            ans.append(LA.norm(fg_e,2)/(d0/8-d0/40)*(it-d0/40))\n",
    "#     print(ans)         \n",
    "     \n",
    "    return np.array(ans).reshape(node_N,1)   "
   ]
  },
  {
   "cell_type": "code",
   "execution_count": 40,
   "metadata": {},
   "outputs": [],
   "source": [
    "x,y,z=np.array([2.3 for i in range(node_N)]),np.array([2.3 for i in range(node_N)]),np.array([2.3 for i in range(node_N)])"
   ]
  },
  {
   "cell_type": "code",
   "execution_count": 41,
   "metadata": {},
   "outputs": [],
   "source": [
    "def hi(x,y,z,d0):\n",
    "    return (np.dot(np.array([x,y,z]).T,[0,0,1])+d0/2).reshape(node_N,1) "
   ]
  },
  {
   "cell_type": "code",
   "execution_count": 42,
   "metadata": {},
   "outputs": [
    {
     "data": {
      "text/plain": [
       "array([[2.6805],\n",
       "       [2.6805],\n",
       "       [2.6805],\n",
       "       [2.6805],\n",
       "       [2.6805]])"
      ]
     },
     "execution_count": 42,
     "metadata": {},
     "output_type": "execute_result"
    }
   ],
   "source": [
    "hi(x,y,z,d0)"
   ]
  },
  {
   "cell_type": "code",
   "execution_count": 43,
   "metadata": {},
   "outputs": [
    {
     "data": {
      "text/plain": [
       "array([[6338.99811768],\n",
       "       [6338.99811768],\n",
       "       [6338.99811768],\n",
       "       [6338.99811768],\n",
       "       [6338.99811768]])"
      ]
     },
     "execution_count": 43,
     "metadata": {},
     "output_type": "execute_result"
    }
   ],
   "source": [
    "k_sigma(hi(x,y,z,d0),d0,fg_e)"
   ]
  },
  {
   "cell_type": "code",
   "execution_count": 44,
   "metadata": {},
   "outputs": [],
   "source": [
    "def sigma(x,y,z):\n",
    "    return (k_sigma(hi(x,y,z,d0),d0,fg_e)*np.array([0,0,1])).reshape(3,node_N)"
   ]
  },
  {
   "cell_type": "code",
   "execution_count": 45,
   "metadata": {},
   "outputs": [
    {
     "data": {
      "text/plain": [
       "array([[   0.        ,    0.        , 6338.99811768,    0.        ,\n",
       "           0.        ],\n",
       "       [6338.99811768,    0.        ,    0.        , 6338.99811768,\n",
       "           0.        ],\n",
       "       [   0.        , 6338.99811768,    0.        ,    0.        ,\n",
       "        6338.99811768]])"
      ]
     },
     "execution_count": 45,
     "metadata": {},
     "output_type": "execute_result"
    }
   ],
   "source": [
    "sigma(x,y,z)"
   ]
  },
  {
   "cell_type": "code",
   "execution_count": 46,
   "metadata": {},
   "outputs": [],
   "source": [
    "# angles should be in radians, otherwise np.radians them  \n",
    "def Re_t_(arr):\n",
    "    φ,θ,ψ=arr[0],arr[1],arr[2]\n",
    "  \n",
    "    Cφ=np.matrix([[1,0,0],\n",
    "                      [0,np.cos(φ),-np.sin(φ)],\n",
    "                      [0,np.sin(φ),np.cos(φ)]])\n",
    "\n",
    "    Cθ=np.matrix([[np.cos(θ),0,np.sin(θ)],\n",
    "                      [0,1,0],\n",
    "                      [-np.sin(θ),0,np.cos(θ)]])\n",
    "\n",
    "    Cψ=np.matrix([[np.cos(ψ),-np.sin(ψ),0],\n",
    "                      [np.sin(ψ),np.cos(ψ),0],\n",
    "                      [0,0,1]])\n",
    "        \n",
    "\n",
    "    return np.array(np.dot(np.dot(Cφ,Cθ),Cψ) )"
   ]
  },
  {
   "cell_type": "code",
   "execution_count": 47,
   "metadata": {},
   "outputs": [
    {
     "data": {
      "text/plain": [
       "array([[ 0.41198225,  0.05872664,  0.90929743],\n",
       "       [-0.68124272, -0.64287284,  0.35017549],\n",
       "       [ 0.60512725, -0.76371834, -0.2248451 ]])"
      ]
     },
     "execution_count": 47,
     "metadata": {},
     "output_type": "execute_result"
    }
   ],
   "source": [
    "Re_t_([1,2,3])"
   ]
  },
  {
   "cell_type": "code",
   "execution_count": 48,
   "metadata": {},
   "outputs": [],
   "source": [
    "φ, θ, ψ = rng.standard_normal(node_N),rng.standard_normal(node_N),rng.standard_normal(node_N)"
   ]
  },
  {
   "cell_type": "code",
   "execution_count": 49,
   "metadata": {},
   "outputs": [],
   "source": [
    "def Re_t(a,b,c):\n",
    "    xyz=np.stack((a,b,c), axis=1)\n",
    "    return np.apply_along_axis(Re_t_, 1, xyz)"
   ]
  },
  {
   "cell_type": "code",
   "execution_count": 50,
   "metadata": {
    "scrolled": true
   },
   "outputs": [
    {
     "data": {
      "text/plain": [
       "array([[ 0.42294181, -0.16315809, -0.89134711],\n",
       "       [ 0.43934557,  0.89722843,  0.04423365],\n",
       "       [ 0.79252489, -0.41031766,  0.45115819]])"
      ]
     },
     "execution_count": 50,
     "metadata": {},
     "output_type": "execute_result"
    }
   ],
   "source": [
    "np.dot(Re_t(φ,θ,ψ)[0],Rb_t) "
   ]
  },
  {
   "cell_type": "code",
   "execution_count": 51,
   "metadata": {},
   "outputs": [],
   "source": [
    "# vessel motion\n",
    "# Fossen book p.101, p.190, p.384, p.431\n",
    "# Fossen paper, section 6"
   ]
  },
  {
   "cell_type": "code",
   "execution_count": 52,
   "metadata": {},
   "outputs": [],
   "source": [
    "# Fossen paper, equation (12)"
   ]
  },
  {
   "cell_type": "code",
   "execution_count": 53,
   "metadata": {},
   "outputs": [],
   "source": [
    "# φ,θ,ψ=1,2,3"
   ]
  },
  {
   "cell_type": "code",
   "execution_count": 54,
   "metadata": {},
   "outputs": [],
   "source": [
    "def Re_b(φ,θ,ψ):\n",
    "    return np.dot(Re_t(φ,θ,ψ), Rb_t ) # (5) in[3]"
   ]
  },
  {
   "cell_type": "code",
   "execution_count": 55,
   "metadata": {},
   "outputs": [
    {
     "data": {
      "text/plain": [
       "(5, 3, 3)"
      ]
     },
     "execution_count": 55,
     "metadata": {},
     "output_type": "execute_result"
    }
   ],
   "source": [
    "Re_b(φ,θ,ψ).shape"
   ]
  },
  {
   "cell_type": "code",
   "execution_count": 56,
   "metadata": {},
   "outputs": [],
   "source": [
    "# p=np.dot(Re_b, phi) # (41) in[3]"
   ]
  },
  {
   "cell_type": "code",
   "execution_count": 57,
   "metadata": {},
   "outputs": [],
   "source": [
    "# def d_s(da,db,dc,dt,ds):\n",
    "    \n",
    "def d_s(da,db,dc,x,y,z):\n",
    "#     return np.vstack([da*dt/ds,db*dt/ds,dc*dt/ds])\n",
    "#     print(np.diff(da))\n",
    "\n",
    "    ds=np.sqrt(np.diff(x,prepend=x[0])**2+np.diff(y,prepend=y[0])**2\n",
    "                 +np.diff(z,prepend=z[0])**2)\n",
    "#     print(ds)\n",
    "    ds[ds == 0] = 1\n",
    "    return np.vstack([np.diff(da,prepend=da[0])/ds,np.diff(db,prepend=db[0])/ds,np.diff(dc,prepend=dc[0])/ds])"
   ]
  },
  {
   "cell_type": "code",
   "execution_count": 58,
   "metadata": {},
   "outputs": [],
   "source": [
    "# a=[1,2,3]\n",
    "# np.diff(a,prepend=a[0])"
   ]
  },
  {
   "cell_type": "code",
   "execution_count": 59,
   "metadata": {},
   "outputs": [],
   "source": [
    "x,y,z=100*rng.standard_normal(node_N),100*rng.standard_normal(node_N),100*rng.standard_normal(node_N)\n"
   ]
  },
  {
   "cell_type": "code",
   "execution_count": 60,
   "metadata": {},
   "outputs": [
    {
     "data": {
      "text/plain": [
       "array([[ 0.        , -0.96125324,  0.08945481, -0.86998414,  0.43993161],\n",
       "       [ 0.        ,  0.23824438,  0.9906441 , -0.00827744, -0.74467929],\n",
       "       [ 0.        , -0.13867886,  0.10306364,  0.49301022, -0.50190929]])"
      ]
     },
     "execution_count": 60,
     "metadata": {},
     "output_type": "execute_result"
    }
   ],
   "source": [
    "d_s(x,y,z,x,y,z)"
   ]
  },
  {
   "cell_type": "code",
   "execution_count": 61,
   "metadata": {},
   "outputs": [],
   "source": [
    "# φ,θ,ψ=np.array([2.3 for i in range(node_N)]),np.array([1.3 for i in range(node_N)]),np.array([2.1 for i in range(node_N)])\n"
   ]
  },
  {
   "cell_type": "code",
   "execution_count": 62,
   "metadata": {},
   "outputs": [
    {
     "data": {
      "text/plain": [
       "array([[1.e+09, 0.e+00, 0.e+00],\n",
       "       [0.e+00, 1.e+09, 0.e+00],\n",
       "       [0.e+00, 0.e+00, 1.e+09]])"
      ]
     },
     "execution_count": 62,
     "metadata": {},
     "output_type": "execute_result"
    }
   ],
   "source": [
    "CT"
   ]
  },
  {
   "cell_type": "code",
   "execution_count": 63,
   "metadata": {},
   "outputs": [],
   "source": [
    "def ne(x,y,z,φ,θ,ψ):\n",
    "#     print(np.multiply(Re_t(φ,θ,ψ),CT).shape)\n",
    "#     print(np.multiply(np.multiply(Re_t(φ,θ,ψ),CT),\n",
    "#                          Re_t(φ,θ,ψ)).shape)\n",
    "#     print(d_s(dx,dy,dz,dt,ds).shape)\n",
    "    \n",
    "    A=np.multiply(np.multiply(Re_t(φ,θ,ψ),CT),\n",
    "                         Re_t(φ,θ,ψ))\n",
    "#     B=d_s(dx,dy,dz,dt,ds).T\n",
    "    B=d_s(x,y,z,x,y,z).T\n",
    "    \n",
    "#     print(A)\n",
    "    \n",
    "#     ans=[]\n",
    "#     for i in range(len(A)):\n",
    "#         ans.append(np.dot(A[i],B[i]))\n",
    "    return np.einsum('ijk,ik->ij', A,B)\n",
    "#     return np.array(ans)"
   ]
  },
  {
   "cell_type": "code",
   "execution_count": 64,
   "metadata": {},
   "outputs": [],
   "source": [
    "def ne_(x,y,z,dx,dy,dz):\n",
    "#     print(fg_e)\n",
    "#     print(fD(dx,dy,dz,DT))\n",
    "#     print(sigma(x,y,z))\n",
    "#     return -fg_e-fD(dx,dy,dz,DT)-sigma(x,y,z)\n",
    "    return -fg_e-fD(dx,dy,dz,DT)"
   ]
  },
  {
   "cell_type": "code",
   "execution_count": 65,
   "metadata": {},
   "outputs": [],
   "source": [
    "# mp*ddp = d_s(ne,ds)+np.dot(Re_b,ne_)"
   ]
  },
  {
   "cell_type": "code",
   "execution_count": 66,
   "metadata": {},
   "outputs": [
    {
     "data": {
      "text/plain": [
       "array([[ 0.00000000e+00,  0.00000000e+00,  0.00000000e+00],\n",
       "       [-7.35380671e+08,  1.13674376e+08, -6.11840332e+07],\n",
       "       [ 1.34538431e+06,  8.77011271e+07,  1.61105352e+07],\n",
       "       [-8.58662931e+06, -7.75222385e+06,  6.27710408e+06],\n",
       "       [ 1.19461157e+08, -5.32796284e+08, -1.83073077e+08]])"
      ]
     },
     "execution_count": 66,
     "metadata": {},
     "output_type": "execute_result"
    }
   ],
   "source": [
    "ne(x,y,z,φ,θ,ψ)"
   ]
  },
  {
   "cell_type": "code",
   "execution_count": 67,
   "metadata": {},
   "outputs": [
    {
     "data": {
      "text/plain": [
       "array([[ -812.05379544, -1948.95668624,  -252.15274764,  -114.78841856,\n",
       "           -7.30246113],\n",
       "       [-1548.85891074,  -319.7646135 ,  -251.83097707,  -190.0878679 ,\n",
       "         -944.80886027],\n",
       "       [  623.708357  ,  -698.92540461,   829.67260995,   -76.06714052,\n",
       "          383.81961695]])"
      ]
     },
     "execution_count": 67,
     "metadata": {},
     "output_type": "execute_result"
    }
   ],
   "source": [
    "ne_(x,y,z,dx,dy,dz)"
   ]
  },
  {
   "cell_type": "code",
   "execution_count": 68,
   "metadata": {},
   "outputs": [
    {
     "data": {
      "text/plain": [
       "(5, 3, 3)"
      ]
     },
     "execution_count": 68,
     "metadata": {},
     "output_type": "execute_result"
    }
   ],
   "source": [
    "Re_b(φ,θ,ψ).shape"
   ]
  },
  {
   "cell_type": "code",
   "execution_count": 69,
   "metadata": {},
   "outputs": [],
   "source": [
    "def Irho_e(φ,θ,ψ):\n",
    "    return np.multiply(np.multiply(Re_t(φ,θ,ψ),Irho),Re_t(φ,θ,ψ)) # (19) in [3] "
   ]
  },
  {
   "cell_type": "code",
   "execution_count": 70,
   "metadata": {},
   "outputs": [
    {
     "data": {
      "text/plain": [
       "array([[[17.88797711,  0.        ,  0.        ],\n",
       "        [ 0.        , 80.50188529,  0.        ],\n",
       "        [ 0.        ,  0.        , 40.70874332]],\n",
       "\n",
       "       [[76.50228286,  0.        ,  0.        ],\n",
       "        [ 0.        , 47.71334984,  0.        ],\n",
       "        [ 0.        ,  0.        , 88.23844016]],\n",
       "\n",
       "       [[ 1.50398215,  0.        ,  0.        ],\n",
       "        [ 0.        ,  8.85293997,  0.        ],\n",
       "        [ 0.        ,  0.        , 31.26327695]],\n",
       "\n",
       "       [[ 0.98698688,  0.        ,  0.        ],\n",
       "        [ 0.        , 93.65481426,  0.        ],\n",
       "        [ 0.        ,  0.        ,  2.54643973]],\n",
       "\n",
       "       [[27.15448384,  0.        ,  0.        ],\n",
       "        [ 0.        , 71.54707944,  0.        ],\n",
       "        [ 0.        ,  0.        , 72.95066336]]])"
      ]
     },
     "execution_count": 70,
     "metadata": {},
     "output_type": "execute_result"
    }
   ],
   "source": [
    "Irho_e(φ,θ,ψ)"
   ]
  },
  {
   "cell_type": "code",
   "execution_count": 71,
   "metadata": {},
   "outputs": [],
   "source": [
    "def Π_(arr):\n",
    "    φ,θ,ψ=arr[0],arr[1],arr[2]\n",
    "    return np.array([[np.cos(θ)*np.cos(ψ),-np.sin(ψ),0],\n",
    "                  [np.cos(θ)*np.sin(ψ),np.cos(ψ),0],\n",
    "                  [-np.sin(θ),0,1]])"
   ]
  },
  {
   "cell_type": "code",
   "execution_count": 72,
   "metadata": {},
   "outputs": [],
   "source": [
    "def Π(a,b,c):\n",
    "    xyz=np.stack((a,b,c), axis=1)\n",
    "  \n",
    "    return np.apply_along_axis(Π_, 1, xyz)\n",
    "    "
   ]
  },
  {
   "cell_type": "code",
   "execution_count": 73,
   "metadata": {},
   "outputs": [
    {
     "data": {
      "text/plain": [
       "(5, 3, 3)"
      ]
     },
     "execution_count": 73,
     "metadata": {},
     "output_type": "execute_result"
    }
   ],
   "source": [
    "Π(φ,θ,ψ).shape"
   ]
  },
  {
   "cell_type": "code",
   "execution_count": 74,
   "metadata": {},
   "outputs": [],
   "source": [
    "def ωe(φ,θ,ψ):  # (100) in [2]\n",
    "    A=Π(φ,θ,ψ)\n",
    "#     print(A)\n",
    "    B=np.array([φ,θ,ψ]).T\n",
    "#     print(B)\n",
    "#     ans=[]\n",
    "#     for i in range(len(A)):\n",
    "#         ans.append(np.dot(A[i],B[i]))\n",
    "    return np.einsum('ijk,ik->ij', A,B)    \n",
    "#     return np.array(ans) \n",
    "#     ans=[]\n",
    "#     for i in range(len(φ)):\n",
    "#         ans.append(np.dot(Π(φ[i],θ[i],ψ[i]),np.array([φ[i],θ[i],ψ[i]])))  # (100) in [2]\n",
    "#     return np.vstack(ans)    "
   ]
  },
  {
   "cell_type": "code",
   "execution_count": 75,
   "metadata": {},
   "outputs": [],
   "source": [
    "# np.dot(np.matrix([[-0.13504574, -0.86320937,  0.        ],\n",
    "#   [ 0.23090749, -0.5048461 ,  0.        ],\n",
    "#   [-0.96355819,  0.,          1.        ]]),np.array([2.3, 1.3, 2.1]))"
   ]
  },
  {
   "cell_type": "code",
   "execution_count": 76,
   "metadata": {},
   "outputs": [
    {
     "data": {
      "text/plain": [
       "array([[ 0.35468453, -1.04251611,  0.28106551],\n",
       "       [-0.81957414,  0.1306718 , -0.64415126],\n",
       "       [-0.94701761, -0.56520574, -0.76635904],\n",
       "       [-0.84659773, -1.17864942, -0.93707496],\n",
       "       [-0.84803422,  0.17655095,  1.21402159]])"
      ]
     },
     "execution_count": 76,
     "metadata": {},
     "output_type": "execute_result"
    }
   ],
   "source": [
    "ωe(φ,θ,ψ)"
   ]
  },
  {
   "cell_type": "code",
   "execution_count": 77,
   "metadata": {},
   "outputs": [],
   "source": [
    "# diag_CR = 1e11*np.array([1, 1, 1]) \n",
    "diag_CR = 1e5*np.array([1, 1, 1]) \n",
    "CR=np.diag(diag_CR)"
   ]
  },
  {
   "cell_type": "code",
   "execution_count": 78,
   "metadata": {},
   "outputs": [
    {
     "data": {
      "text/plain": [
       "array([[100000.,      0.,      0.],\n",
       "       [     0., 100000.,      0.],\n",
       "       [     0.,      0., 100000.]])"
      ]
     },
     "execution_count": 78,
     "metadata": {},
     "output_type": "execute_result"
    }
   ],
   "source": [
    "CR"
   ]
  },
  {
   "cell_type": "code",
   "execution_count": 79,
   "metadata": {},
   "outputs": [],
   "source": [
    "def me(φ,θ,ψ):\n",
    "    A=np.multiply(np.multiply(Re_t(φ,θ,ψ),CR),Re_t(φ,θ,ψ))\n",
    "    B=ωe(φ,θ,ψ)\n",
    "    ans=[]\n",
    "    return np.einsum('ijk,ik->ij', A,B) \n",
    "#     for i in range(len(A)):\n",
    "#         ans.append(np.dot(A[i],B[i]))\n",
    "#     return np.array(ans)\n",
    "#     tmp=[]\n",
    "#     for i in range(len(φ)):\n",
    "#         tmp.append(np.dot(np.dot(Re_t(φ[i],θ[i],ψ[i]),CR),Re_t(φ[i],θ[i],ψ[i]).T))\n",
    "        \n",
    "#     tmp1= ωe(φ,θ,ψ)\n",
    "    \n",
    "#     ans=[]\n",
    "#     for i in range(len(tmp1)):\n",
    "#         ans.append(np.dot(np.array(tmp[i]),tmp1[i] ))\n",
    "#     return np.array(ans).reshape(3,-1)"
   ]
  },
  {
   "cell_type": "code",
   "execution_count": 80,
   "metadata": {},
   "outputs": [],
   "source": [
    "me_=me(φ,θ,ψ)"
   ]
  },
  {
   "cell_type": "code",
   "execution_count": 81,
   "metadata": {},
   "outputs": [
    {
     "data": {
      "text/plain": [
       "array([[   6344.58872273,  -83924.51233012,    5720.91191797],\n",
       "       [ -62699.29279652,    6234.78951147,  -28419.45132093],\n",
       "       [  -1424.29758559,   -5003.73248211,  -11979.44742605],\n",
       "       [   -835.58085133, -110386.19249481,   -1193.10245363],\n",
       "       [ -23027.93151982,   12631.70516649,   44281.84009546]])"
      ]
     },
     "execution_count": 81,
     "metadata": {},
     "output_type": "execute_result"
    }
   ],
   "source": [
    "me_"
   ]
  },
  {
   "cell_type": "code",
   "execution_count": 82,
   "metadata": {},
   "outputs": [],
   "source": [
    "diag_DR = 1.5*np.array([1, 1, 1]) \n",
    " \n",
    "DR=np.diag(diag_DR)"
   ]
  },
  {
   "cell_type": "code",
   "execution_count": 83,
   "metadata": {},
   "outputs": [],
   "source": [
    "# np.dot(Re_b, np.dot( Irho_e, (np.dot(Π(φ,θ,ψ), np.array([ddφ,ddθ,ddψ])))))=\n",
    "# -np.dot(Re_b,np.dot(Irho_e,np.dot(Π(dφ,dθ,dψ),np.array([dφ,dθ,dψ])))-\n",
    "# np.cross(np.dot(Π(φ,θ,ψ),np.array([dφ,dθ,dψ])),np.dot(Irho_e, np.dot(Π(φ,θ,ψ),np.array([dφ,dθ,dψ]))))+\n",
    "# np.dot(Re_b,d_s(me_[0],me_[1],me_[2],dt,ds)+d_s(me_[0],me_[1],me_[2],dt,ds))+\n",
    "# np.cross(d_s(x,y,z,dt,ds),ne(x,y,z,φ,θ,ψ,dt,ds))+\n",
    "# np.dot(Re_b,-np.dot(DR,np.dot(Π(φ,θ,ψ),np.array([dφ,dθ,dψ]))))"
   ]
  },
  {
   "cell_type": "code",
   "execution_count": 84,
   "metadata": {},
   "outputs": [
    {
     "data": {
      "text/plain": [
       "array([[ -812.05379544, -1948.95668624,  -252.15274764,  -114.78841856,\n",
       "           -7.30246113],\n",
       "       [-1548.85891074,  -319.7646135 ,  -251.83097707,  -190.0878679 ,\n",
       "         -944.80886027],\n",
       "       [  623.708357  ,  -698.92540461,   829.67260995,   -76.06714052,\n",
       "          383.81961695]])"
      ]
     },
     "execution_count": 84,
     "metadata": {},
     "output_type": "execute_result"
    }
   ],
   "source": [
    "ne_(x,y,z,dx,dy,dz)"
   ]
  },
  {
   "cell_type": "code",
   "execution_count": 85,
   "metadata": {},
   "outputs": [],
   "source": [
    "C=ne(x,y,z,φ,θ,ψ)\n",
    "  \n",
    "a,b,c=C[:,0],C[:,1],C[:,2]"
   ]
  },
  {
   "cell_type": "code",
   "execution_count": 86,
   "metadata": {},
   "outputs": [
    {
     "data": {
      "text/plain": [
       "array([[       0.        , -3595469.89862711, 10858071.79150798,\n",
       "          -37859.49801276,   482847.29244416],\n",
       "       [       0.        ,   555783.98026666,  -382800.90181615,\n",
       "         -363855.31587441, -1979855.40914403],\n",
       "       [       0.        ,  -299144.86259124,  1139188.66782004,\n",
       "          -37483.71489901,  -714008.61242317]])"
      ]
     },
     "execution_count": 86,
     "metadata": {},
     "output_type": "execute_result"
    }
   ],
   "source": [
    "d_s(a,b,c,x,y,z)"
   ]
  },
  {
   "cell_type": "code",
   "execution_count": 87,
   "metadata": {},
   "outputs": [
    {
     "data": {
      "text/plain": [
       "(5, 3, 3)"
      ]
     },
     "execution_count": 87,
     "metadata": {},
     "output_type": "execute_result"
    }
   ],
   "source": [
    "Re_b(φ,θ,ψ).shape"
   ]
  },
  {
   "cell_type": "code",
   "execution_count": 88,
   "metadata": {},
   "outputs": [
    {
     "data": {
      "text/plain": [
       "array([[ -812.05379544, -1548.85891074,   623.708357  ],\n",
       "       [-1948.95668624,  -319.7646135 ,  -698.92540461],\n",
       "       [ -252.15274764,  -251.83097707,   829.67260995],\n",
       "       [ -114.78841856,  -190.0878679 ,   -76.06714052],\n",
       "       [   -7.30246113,  -944.80886027,   383.81961695]])"
      ]
     },
     "execution_count": 88,
     "metadata": {},
     "output_type": "execute_result"
    }
   ],
   "source": [
    "ne_(x,y,z,dx,dy,dz).T"
   ]
  },
  {
   "cell_type": "code",
   "execution_count": 89,
   "metadata": {},
   "outputs": [
    {
     "data": {
      "text/plain": [
       "(numpy.ndarray,\n",
       " array([ -76.29396163,  -27.56589024,   39.64984849,   37.47835439,\n",
       "        -160.00548066]),\n",
       " array([-14.5622315 , -42.92618918, -35.93326552,  93.40242287,\n",
       "        -39.70047405]),\n",
       " array([-1.17816877,  1.82522413,  0.46036818, -0.44295963,  0.11172484]),\n",
       " numpy.ndarray,\n",
       " array([-0.6546517 ,  0.92257981, -1.16492998,  0.31754877, -0.64572222]))"
      ]
     },
     "execution_count": 89,
     "metadata": {},
     "output_type": "execute_result"
    }
   ],
   "source": [
    "type(x),y,z,dx,type(dy),dz"
   ]
  },
  {
   "cell_type": "code",
   "execution_count": 90,
   "metadata": {},
   "outputs": [
    {
     "data": {
      "text/plain": [
       "array([[-1458.73707805, -3267.72249923,   897.05082132],\n",
       "       [-3623.3113613 ,  -759.44183239, -1878.92483655],\n",
       "       [-1125.7125084 ,  -188.23025944,  1049.2284843 ],\n",
       "       [  -63.43799073,  -348.59556424,  -241.39842064],\n",
       "       [  748.26659793, -1578.57434488,   643.61052185]])"
      ]
     },
     "execution_count": 90,
     "metadata": {},
     "output_type": "execute_result"
    }
   ],
   "source": [
    "ne_(x,y,z,dx,dy,dz).T+np.einsum('ijk,ik->ij', Re_b(φ,θ,ψ),ne_(x,y,z,dx,dy,dz).T)"
   ]
  },
  {
   "cell_type": "code",
   "execution_count": null,
   "metadata": {},
   "outputs": [],
   "source": []
  },
  {
   "cell_type": "code",
   "execution_count": null,
   "metadata": {},
   "outputs": [],
   "source": []
  },
  {
   "cell_type": "markdown",
   "metadata": {},
   "source": [
    "### Catenary"
   ]
  },
  {
   "cell_type": "code",
   "execution_count": null,
   "metadata": {},
   "outputs": [],
   "source": []
  },
  {
   "cell_type": "code",
   "execution_count": 91,
   "metadata": {},
   "outputs": [],
   "source": [
    "def catenary(x,Ws,Fh):\n",
    "    return (Fh/Ws)*(np.cosh(x*Ws/Fh)-1)"
   ]
  },
  {
   "cell_type": "code",
   "execution_count": 92,
   "metadata": {},
   "outputs": [],
   "source": [
    "pipe_weight_per_unit_length = mp #  (submerged) [kg/m]  # 113.07 - not submerged"
   ]
  },
  {
   "cell_type": "code",
   "execution_count": 93,
   "metadata": {},
   "outputs": [],
   "source": [
    "Fx_0=82945396"
   ]
  },
  {
   "cell_type": "code",
   "execution_count": 94,
   "metadata": {},
   "outputs": [],
   "source": [
    "Ws = pipe_weight_per_unit_length*9.81 # [N/m]\n",
    "h=700"
   ]
  },
  {
   "cell_type": "code",
   "execution_count": 95,
   "metadata": {},
   "outputs": [],
   "source": [
    "S=math.sqrt(h*(2*Fx_0/Ws -h))\n",
    "horizontal_length=(Fx_0/Ws -h)*np.log((S+Fx_0/Ws)/(Fx_0/Ws-h))"
   ]
  },
  {
   "cell_type": "code",
   "execution_count": 96,
   "metadata": {},
   "outputs": [],
   "source": [
    "delta_x=horizontal_length/(node_N-1)"
   ]
  },
  {
   "cell_type": "code",
   "execution_count": 97,
   "metadata": {},
   "outputs": [],
   "source": [
    "x0=[i*delta_x for i in range(node_N)]\n",
    "z0=[]\n",
    "for i in range(len(x0)):\n",
    "    z0.append(catenary(x0[i],Ws,Fx_0))"
   ]
  },
  {
   "cell_type": "code",
   "execution_count": 98,
   "metadata": {},
   "outputs": [
    {
     "data": {
      "text/plain": [
       "([0.0,\n",
       "  2763.171211115405,\n",
       "  5526.34242223081,\n",
       "  8289.513633346216,\n",
       "  11052.68484446162],\n",
       " [0.0,\n",
       "  43.34801072052057,\n",
       "  173.43471225842703,\n",
       "  390.38815474416316,\n",
       "  694.4218951076863])"
      ]
     },
     "execution_count": 98,
     "metadata": {},
     "output_type": "execute_result"
    }
   ],
   "source": [
    "x0,z0"
   ]
  },
  {
   "cell_type": "code",
   "execution_count": 99,
   "metadata": {},
   "outputs": [
    {
     "data": {
      "image/png": "[encoded data removed]",
      "text/plain": [
       "<Figure size 432x288 with 1 Axes>"
      ]
     },
     "metadata": {
      "needs_background": "light"
     },
     "output_type": "display_data"
    }
   ],
   "source": [
    "plt.plot(x0, z0)\n",
    "plt.show()"
   ]
  },
  {
   "cell_type": "code",
   "execution_count": 100,
   "metadata": {},
   "outputs": [],
   "source": [
    "# rng = np.random.default_rng()\n",
    "q0=np.zeros(12*node_N)"
   ]
  },
  {
   "cell_type": "code",
   "execution_count": 101,
   "metadata": {},
   "outputs": [],
   "source": [
    "j=0\n",
    "k=0\n",
    "for i in range(len(q0)):\n",
    "    if i%12==0:\n",
    "        q0[i]=x0[j]\n",
    "        q0[i+4]=z0[j]\n",
    "        q0[i+6]=random.uniform(0, 1)\n",
    "        q0[i+8]=random.uniform(0, 1)\n",
    "        q0[i+10]=random.uniform(0, 1)\n",
    "        j+=1   \n",
    " \n",
    "         "
   ]
  },
  {
   "cell_type": "code",
   "execution_count": 102,
   "metadata": {},
   "outputs": [
    {
     "data": {
      "text/plain": [
       "array([0.00000000e+00, 0.00000000e+00, 0.00000000e+00, 0.00000000e+00,\n",
       "       0.00000000e+00, 0.00000000e+00, 3.43321154e-03, 0.00000000e+00,\n",
       "       7.49154988e-01, 0.00000000e+00, 6.32031818e-01, 0.00000000e+00,\n",
       "       2.76317121e+03, 0.00000000e+00, 0.00000000e+00, 0.00000000e+00,\n",
       "       4.33480107e+01, 0.00000000e+00, 5.34844390e-01, 0.00000000e+00,\n",
       "       8.92188796e-01, 0.00000000e+00, 6.48330830e-01, 0.00000000e+00,\n",
       "       5.52634242e+03, 0.00000000e+00, 0.00000000e+00, 0.00000000e+00,\n",
       "       1.73434712e+02, 0.00000000e+00, 6.53894725e-01, 0.00000000e+00,\n",
       "       8.10485208e-01, 0.00000000e+00, 2.35167241e-01, 0.00000000e+00,\n",
       "       8.28951363e+03, 0.00000000e+00, 0.00000000e+00, 0.00000000e+00,\n",
       "       3.90388155e+02, 0.00000000e+00, 4.38182803e-01, 0.00000000e+00,\n",
       "       6.91660482e-01, 0.00000000e+00, 8.46543599e-01, 0.00000000e+00,\n",
       "       1.10526848e+04, 0.00000000e+00, 0.00000000e+00, 0.00000000e+00,\n",
       "       6.94421895e+02, 0.00000000e+00, 8.16985645e-01, 0.00000000e+00,\n",
       "       5.59818578e-01, 0.00000000e+00, 7.38630295e-01, 0.00000000e+00])"
      ]
     },
     "execution_count": 102,
     "metadata": {},
     "output_type": "execute_result"
    }
   ],
   "source": [
    "q0"
   ]
  },
  {
   "cell_type": "code",
   "execution_count": null,
   "metadata": {},
   "outputs": [],
   "source": []
  },
  {
   "cell_type": "code",
   "execution_count": null,
   "metadata": {},
   "outputs": [],
   "source": []
  },
  {
   "cell_type": "code",
   "execution_count": null,
   "metadata": {},
   "outputs": [],
   "source": []
  },
  {
   "cell_type": "code",
   "execution_count": null,
   "metadata": {},
   "outputs": [],
   "source": []
  },
  {
   "cell_type": "code",
   "execution_count": null,
   "metadata": {},
   "outputs": [],
   "source": []
  },
  {
   "cell_type": "code",
   "execution_count": null,
   "metadata": {},
   "outputs": [],
   "source": []
  },
  {
   "cell_type": "code",
   "execution_count": null,
   "metadata": {},
   "outputs": [],
   "source": []
  },
  {
   "cell_type": "code",
   "execution_count": null,
   "metadata": {},
   "outputs": [],
   "source": []
  },
  {
   "cell_type": "code",
   "execution_count": null,
   "metadata": {},
   "outputs": [],
   "source": []
  },
  {
   "cell_type": "markdown",
   "metadata": {},
   "source": [
    "### Vessel"
   ]
  },
  {
   "cell_type": "code",
   "execution_count": 103,
   "metadata": {},
   "outputs": [
    {
     "data": {
      "text/plain": [
       "array([0. , 0.5])"
      ]
     },
     "execution_count": 103,
     "metadata": {},
     "output_type": "execute_result"
    }
   ],
   "source": [
    "t"
   ]
  },
  {
   "cell_type": "code",
   "execution_count": 104,
   "metadata": {},
   "outputs": [],
   "source": [
    "sampleTime = 0.01                 # sample time [seconds]\n",
    "N = 50_000                         # number of samples"
   ]
  },
  {
   "cell_type": "code",
   "execution_count": 105,
   "metadata": {},
   "outputs": [
    {
     "data": {
      "text/plain": [
       "50000"
      ]
     },
     "execution_count": 105,
     "metadata": {},
     "output_type": "execute_result"
    }
   ],
   "source": [
    "N"
   ]
  },
  {
   "cell_type": "code",
   "execution_count": 106,
   "metadata": {},
   "outputs": [],
   "source": [
    "vehicle=semisub('DPcontrol',10,10.,40.0,0,0) "
   ]
  },
  {
   "cell_type": "code",
   "execution_count": null,
   "metadata": {},
   "outputs": [],
   "source": [
    "[simTime, simData] = simulate(N, sampleTime, vehicle)"
   ]
  },
  {
   "cell_type": "code",
   "execution_count": null,
   "metadata": {},
   "outputs": [],
   "source": [
    "simData.shape"
   ]
  },
  {
   "cell_type": "code",
   "execution_count": null,
   "metadata": {},
   "outputs": [],
   "source": [
    "ans_t=[]\n",
    "sum_=0\n",
    "for i in range(simData.shape[0]):\n",
    "    ans_t.append(sum_)\n",
    "    sum_+=0.01"
   ]
  },
  {
   "cell_type": "code",
   "execution_count": null,
   "metadata": {},
   "outputs": [],
   "source": [
    "plotVehicleStates(simTime, simData, 1)                    \n",
    "plotControls(simTime, simData, vehicle, 2)"
   ]
  },
  {
   "cell_type": "code",
   "execution_count": null,
   "metadata": {},
   "outputs": [],
   "source": [
    "numDataPoints = 5                 # number of 3D data points\n",
    "FPS = 10                            # frames per second (animated GIF)\n",
    "filename = '3D_animation.gif'       # data file for animated GIF\n",
    "browser = 'safari'                  # browser for visualization of animated GIF"
   ]
  },
  {
   "cell_type": "code",
   "execution_count": null,
   "metadata": {},
   "outputs": [],
   "source": [
    "plotVehicleStates(simTime, simData, 3)"
   ]
  },
  {
   "cell_type": "code",
   "execution_count": null,
   "metadata": {},
   "outputs": [],
   "source": [
    "plot3D(simData, numDataPoints, FPS, filename, 3)  "
   ]
  },
  {
   "cell_type": "markdown",
   "metadata": {},
   "source": [
    "### Modelling"
   ]
  },
  {
   "cell_type": "code",
   "execution_count": null,
   "metadata": {},
   "outputs": [],
   "source": [
    "# class Time:\n",
    "#     def __init__(self):\n",
    "#         self.time=0"
   ]
  },
  {
   "cell_type": "code",
   "execution_count": null,
   "metadata": {},
   "outputs": [],
   "source": [
    "# co=Time()"
   ]
  },
  {
   "cell_type": "code",
   "execution_count": null,
   "metadata": {},
   "outputs": [],
   "source": [
    "# t"
   ]
  },
  {
   "cell_type": "code",
   "execution_count": null,
   "metadata": {},
   "outputs": [],
   "source": [
    "def find_nearest(array, value):\n",
    "    array = np.asarray(array)\n",
    "    idx = (np.abs(array - value)).argmin()\n",
    "    return idx"
   ]
  },
  {
   "cell_type": "code",
   "execution_count": null,
   "metadata": {},
   "outputs": [],
   "source": [
    "def grayscott1d(Q, t, simData):\n",
    "#     dt=0\n",
    "#     dt=abs(t-co.time)\n",
    "#     print('dt',t,co.time,dt)\n",
    "#     co.time=t\n",
    "    \n",
    "    \n",
    "#     print(Q)   \n",
    "    \n",
    "    idx = find_nearest(np.array(ans_t), t)\n",
    "#     ind=ans_t.index(val)\n",
    "    # State vectors\n",
    "    x_ve = simData[:, 0][idx]\n",
    "    y_ve = simData[:, 1][idx]\n",
    "    z_ve = simData[:, 2][idx]\n",
    "#     phi_ve = R2D(ssa(simData[:, 3][idx]))\n",
    "#     theta_ve = R2D(ssa(simData[:, 4][idx]))\n",
    "#     psi_v = R2D(ssa(simData[:, 5][idx]))\n",
    "    phi_ve = ssa(simData[:, 3][idx])\n",
    "    theta_ve = ssa(simData[:, 4][idx])\n",
    "    psi_v = ssa(simData[:, 5][idx])\n",
    "    u_ve = simData[:, 6][idx]\n",
    "    v_ve = simData[:, 7][idx]\n",
    "    w_ve = simData[:, 8][idx]\n",
    "#     p_ve = R2D(simData[:, 9][idx])\n",
    "#     q_ve = R2D(simData[:, 10][idx])\n",
    "#     r_ve = R2D(simData[:, 11][idx])\n",
    "    p_ve = simData[:, 9][idx]\n",
    "    q_ve = simData[:, 10][idx]\n",
    "    r_ve = simData[:, 11][idx]\n",
    "#     if t>dt*co.count:\n",
    "#         co.count+=1\n",
    "        \n",
    "#     print(type(Q))\n",
    "    x,y,z=Q[0::12],Q[2::12],Q[4::12]\n",
    "#     print(x0[-1],y0[-1])\n",
    "\n",
    "    x[-1]=x_ve+x0[-1]\n",
    "    y[-1]=y_ve\n",
    "    z[-1]=z_ve+z0[-1]\n",
    "#     x[0]=0\n",
    "#     y[0]=0\n",
    "#     z[0]=0\n",
    "#     print(z)\n",
    "#     print(z_ve)\n",
    "#     print(x,y,z)\n",
    "    dx,dy,dz=Q[1::12],Q[3::12],Q[5::12]\n",
    "    \n",
    "    dx[-1]=u_ve\n",
    "    dy[-1]=v_ve \n",
    "    dz[-1]=w_ve\n",
    "#     print(dx,dy.shape, dx.shape)\n",
    "    φ,θ,ψ=Q[6::12],Q[8::12],Q[10::12]\n",
    "    \n",
    "    φ[-1]=phi_ve\n",
    "    θ[-1]=theta_ve\n",
    "    ψ[-1]=psi_v\n",
    "    \n",
    "    dφ,dθ,dψ=Q[7::12],Q[9::12],Q[11::12]\n",
    "    \n",
    "    dφ[-1]=p_ve\n",
    "    dθ[-1]= q_ve\n",
    "    dψ[-1]=r_ve\n",
    "#     print(z)    \n",
    "#     print(t)\n",
    "    \n",
    "#     ddx = np.empty_like(y)\n",
    "#     ddy = np.empty_like(y)\n",
    "#     ddz = np.empty_like(y)\n",
    "#     ddφ = np.empty_like(y)\n",
    "#     ddθ = np.empty_like(y)\n",
    "#     ddψ= np.empty_like(y)\n",
    "    C=ne(x,y,z,φ,θ,ψ)\n",
    "#     print('C',C)\n",
    "  \n",
    "    a,b,c=C[:,0],C[:,1],C[:,2]\n",
    "#     print(a)\n",
    "    \n",
    "#     for it in [φ,θ,ψ,x,y,z,dx,dy,dz]:\n",
    "#         print(it)\n",
    "    # here single Re_b(φ,θ,ψ) etc.\n",
    "#     print(np.einsum('ijk,ik->ij', Re_b(φ,θ,ψ).astype(float), ne_(x,y,z,dx,dy,dz).astype(float).T))\n",
    "#     print(ne_(x,y,z,dx,dy,dz).astype(float))\n",
    "    ddx,ddy, ddz = (1/Ws*(d_s(a,b,c,x,y,z).T + \n",
    "                          np.einsum('ijk,ik->ij', Re_b(φ,θ,ψ).astype(float), ne_(x,y,z,dx,dy,dz).astype(float).T)\n",
    "                         )).T\n",
    "    print('ddx',ddx)  \n",
    "    print('ddy',ddy) \n",
    "    print('ddz',ddz) \n",
    "    \n",
    "    me_=me(φ,θ,ψ)\n",
    "#     print(Re_b(φ,θ,ψ).shape)\n",
    "#     print(Irho_e(φ,θ,ψ).shape)\n",
    "#     print(Irho_e(φ,θ,ψ).shape)\n",
    "\n",
    "    \n",
    "    C1=np.einsum('ijk,ik->ij', Re_b(φ,θ,ψ).astype(float), np.einsum('ijk,ik->ij', Irho_e(φ,θ,ψ).astype(float),\n",
    "                                                        np.einsum('ijk,ik->ij', Π(dφ,dθ,dψ).astype(float), np.array([dφ,dθ,dψ]).astype(float).T)))\n",
    "        \n",
    "    C2= np.cross(np.einsum('ijk,ik->ij',Π(φ,θ,ψ).astype(float),np.array([dφ,dθ,dψ]).astype(float).T),\n",
    "                 np.einsum('ijk,ik->ij',Irho_e(φ,θ,ψ).astype(float),\n",
    "                           np.einsum('ijk,ik->ij',Π(φ,θ,ψ).astype(float),np.array([dφ,dθ,dψ]).astype(float).T)))\n",
    "    \n",
    "#     print(Re_b(φ,θ,ψ).shape)\n",
    "# #     print(me_)\n",
    "# #     print(me_[:,0])\n",
    "#     print(d_s(me_[:,0],me_[:,1],me_[:,2],dt,ds).shape)\n",
    "# #     print(Irho_e(φ,θ,ψ).shape)\n",
    "#     print(d_s(me_[:,0],me_[:,1],me_[:, 2],dt,ds))\n",
    "    print(me_)\n",
    "    print('d_s',d_s(me_[:,0],me_[:,1],me_[:, 2],x,y,z))\n",
    "    C3= np.einsum('ijk,ik->ij',Re_b(φ,θ,ψ).astype(float),d_s(me_[:,0],me_[:,1],me_[:, 2],x,y,z).astype(float).T)\n",
    "    \n",
    "#     print(d_s(x,y,z,dt,ds).shape)\n",
    "#     print(ne(x,y,z,φ,θ,ψ,dt,ds).T.shape)\n",
    "    C4= np.cross(d_s(x,y,z,x,y,z).T,ne(x,y,z,φ,θ,ψ))\n",
    "#     print(np.dot(DR,K).shape)\n",
    "#     print(Re_b(φ,θ,ψ).shape)\n",
    "#     print(np.dot(DR,K[:,0]))\n",
    "\n",
    "    K1=np.einsum('ijk,ik->ij',Π(φ,θ,ψ).astype(float),np.array([dφ,dθ,dψ]).astype(float).T).T\n",
    "#     print('K1',np.array([dφ,dθ,dψ]))\n",
    "    C5= np.einsum('ijk,ik->ij',Re_b(φ,θ,ψ).astype(float),-np.dot(DR,K1).astype(float).T)\n",
    "    print('C1',C1)\n",
    "    print('C2',C2)\n",
    "    print('C3',C3)\n",
    "    print('C4',C4)\n",
    "    print('C5',C5)\n",
    "    print()\n",
    "    B =-C1-C2+C3+C4+C5\n",
    "#     print(Re_b(φ,θ,ψ).shape)\n",
    "#     print(Irho_e(φ,θ,ψ).shape)\n",
    "#     print(Π(φ,θ,ψ).shape)\n",
    "    A1 =Re_b(φ,θ,ψ).astype(float)\n",
    "    A2 = Irho_e(φ,θ,ψ).astype(float)\n",
    "    A3=Π(φ,θ,ψ).astype(float)\n",
    "#     print(np.einsum('ijk,ijk->ijk',A1,A2))\n",
    "#     print('A1',A1)\n",
    "#     print(A1)\n",
    "#     print('bu',A1[0])\n",
    "#     print('hey', np.dot(A1[0],A2[0]))\n",
    "#     print('op', np.einsum('ijk,ikr->ijr',A1,A2))\n",
    "#     print(Π(φ,θ,ψ).shape)\n",
    "    A=np.einsum('ijk,ikr->ijr',np.einsum('ijk,ikr->ijr',A1,A2),A3)\n",
    "    \n",
    "#     print(A)\n",
    "#     print()\n",
    "#     print()\n",
    "\n",
    "\n",
    "#     print(A.shape)\n",
    "#     print(B.shape)\n",
    "#     print(np.linalg.solve(A,B) ) \n",
    "\n",
    "\n",
    "    ddφ,ddθ,ddψ = np.linalg.solve(A,B).T \n",
    "    \n",
    "#     ans_φ=[]\n",
    "#     ans_θ=[]\n",
    "#     ans_ψ=[]\n",
    "#     for i in range(len(A)):\n",
    "#         a,b,c=np.linalg.lstsq(A[i],B[i], rcond=None)[0]\n",
    "#         ans_φ.append(a)\n",
    "#         ans_θ.append(b)\n",
    "#         ans_ψ.append(c)\n",
    "    \n",
    "# #     print(ans_ψ)\n",
    "\n",
    "#     ddφ,ddθ,ddψ=np.array(ans_φ),np.array(ans_θ),np.array(ans_ψ)\n",
    "#     ddφ,ddθ,ddψ =np.linalg.lstsq(A,B,rcond=-1).T \n",
    "#     ddφ,ddθ,ddψ =torch.linalg.tensorsolve(torch.from_numpy(A),torch.from_numpy(B)).T\n",
    "#     print(ddφ)\n",
    "#     print(np.concatenate([dx, ddx, dy, ddy, dz, ddz, dφ, ddφ, dθ, ddθ, dψ, ddψ]))\n",
    "    \n",
    "    # is it the right order ?\n",
    "#     print('dx',dx)\n",
    "#     print('dy',dy)\n",
    "#     print('dz',dz)\n",
    "    A1111=np.concatenate(np.stack([dx, ddx, dy, ddy, dz, ddz, dφ, ddφ, dθ, ddθ, dψ, ddψ], axis=0).T) \n",
    "#     print(A1111)\n",
    "#     print(A1111)\n",
    "    \n",
    "#     print(A)\n",
    "#     print()\n",
    "#     print(A)\n",
    "    return A1111\n",
    "    "
   ]
  },
  {
   "cell_type": "code",
   "execution_count": null,
   "metadata": {},
   "outputs": [],
   "source": [
    "q0"
   ]
  },
  {
   "cell_type": "code",
   "execution_count": null,
   "metadata": {},
   "outputs": [],
   "source": [
    "np.concatenate(np.stack([np.array([0,3,6]),np.array([1,4,7]),np.array([2,5,8])]).T)"
   ]
  },
  {
   "cell_type": "code",
   "execution_count": null,
   "metadata": {},
   "outputs": [],
   "source": [
    "# q0=[i for i in range(12)]\n",
    "max_t = 2 #0.1 # 10 #600  \n",
    "dt = 0.5\n",
    "t=np.arange(0,max_t,dt)\n",
    "# ds = 0.025\n",
    "print(t)"
   ]
  },
  {
   "cell_type": "code",
   "execution_count": null,
   "metadata": {
    "scrolled": true
   },
   "outputs": [],
   "source": [
    "startTime1 = datetime.now()\n",
    "us=odeint(grayscott1d, q0, t, args=(simData,)\n",
    "#           ,mxstep=5000\n",
    "         )\n",
    "print(datetime.now() - startTime1)"
   ]
  },
  {
   "cell_type": "code",
   "execution_count": null,
   "metadata": {},
   "outputs": [],
   "source": [
    "t"
   ]
  },
  {
   "cell_type": "code",
   "execution_count": null,
   "metadata": {},
   "outputs": [],
   "source": [
    "us[1]"
   ]
  },
  {
   "cell_type": "code",
   "execution_count": null,
   "metadata": {},
   "outputs": [],
   "source": [
    "fig=plt.figure(figsize=(13,5))\n",
    "ax = fig.gca(projection='3d') \n",
    "X0=us[0,[12*i for i in range(node_N)]]\n",
    "Y0=us[0,[12*i+2 for i in range(node_N)]]\n",
    "Z0=us[0,[12*i+4 for i in range(node_N)]]\n",
    "X=us[2,[12*i for i in range(node_N)]]\n",
    "Y=us[2,[12*i+2 for i in range(node_N)]]\n",
    "Z=us[2,[12*i+4 for i in range(node_N)]]\n",
    "ax.plot(X0,Y0,Z0, color='r')\n",
    "ax.plot(X,Y,Z, color='b') \n",
    "ax.view_init(-30,-30)\n",
    "# ax.view_init(0,-90)\n",
    "# ax.set_xlim([0, 5])\n",
    "# ax.set_ylim([0, 5])\n",
    "plt.show()"
   ]
  },
  {
   "cell_type": "code",
   "execution_count": null,
   "metadata": {},
   "outputs": [],
   "source": [
    "X,Y,Z"
   ]
  },
  {
   "cell_type": "code",
   "execution_count": null,
   "metadata": {},
   "outputs": [],
   "source": [
    "X0,Y0,Z0"
   ]
  },
  {
   "cell_type": "code",
   "execution_count": null,
   "metadata": {},
   "outputs": [],
   "source": []
  },
  {
   "cell_type": "code",
   "execution_count": null,
   "metadata": {},
   "outputs": [],
   "source": []
  },
  {
   "cell_type": "code",
   "execution_count": null,
   "metadata": {},
   "outputs": [],
   "source": []
  },
  {
   "cell_type": "code",
   "execution_count": null,
   "metadata": {},
   "outputs": [],
   "source": []
  },
  {
   "cell_type": "code",
   "execution_count": null,
   "metadata": {},
   "outputs": [],
   "source": []
  },
  {
   "cell_type": "code",
   "execution_count": null,
   "metadata": {},
   "outputs": [],
   "source": [
    "plot3D(us, numDataPoints, FPS, filename, 3)"
   ]
  },
  {
   "cell_type": "code",
   "execution_count": null,
   "metadata": {},
   "outputs": [],
   "source": []
  },
  {
   "cell_type": "code",
   "execution_count": null,
   "metadata": {},
   "outputs": [],
   "source": []
  }
 ],
 "metadata": {
  "kernelspec": {
   "display_name": "Python 3",
   "language": "python",
   "name": "python3"
  },
  "language_info": {
   "codemirror_mode": {
    "name": "ipython",
    "version": 3
   },
   "file_extension": ".py",
   "mimetype": "text/x-python",
   "name": "python",
   "nbconvert_exporter": "python",
   "pygments_lexer": "ipython3",
   "version": "3.7.7"
  }
 },
 "nbformat": 4,
 "nbformat_minor": 4
}
