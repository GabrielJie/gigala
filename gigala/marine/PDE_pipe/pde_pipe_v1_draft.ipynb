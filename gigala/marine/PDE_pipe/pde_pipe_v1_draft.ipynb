{
 "cells": [
  {
   "cell_type": "markdown",
   "metadata": {},
   "source": [
    "#### Model taken from:\n",
    "- [1] Offshore Pipelaying Dynamics. Gullik Anthon Jensen \n",
    "- [2] A nonlinear PDE formulation for offshore vessel pipeline installation. Gullik A. Jensen et al \n",
    "- [3] Modeling and Control of Offshore Pipelay Operations Based on a Finite Strain Pipe Model. Gullik A. Jensen "
   ]
  },
  {
   "cell_type": "code",
   "execution_count": 1,
   "metadata": {},
   "outputs": [],
   "source": [
    "import numpy as np\n",
    "import numdifftools as nd\n",
    "import math"
   ]
  },
  {
   "cell_type": "code",
   "execution_count": 2,
   "metadata": {},
   "outputs": [],
   "source": [
    "mp = 96 #  (submerged) [kg/m]"
   ]
  },
  {
   "cell_type": "code",
   "execution_count": null,
   "metadata": {},
   "outputs": [],
   "source": []
  },
  {
   "cell_type": "code",
   "execution_count": 3,
   "metadata": {},
   "outputs": [],
   "source": [
    "diag_Irho = 1e2*np.array([1, 1, 2]) # [m^4]  , p.99 in [1]\n",
    " \n",
    "Irho=np.diag(diag_Irho)"
   ]
  },
  {
   "cell_type": "code",
   "execution_count": 4,
   "metadata": {},
   "outputs": [
    {
     "data": {
      "text/plain": [
       "array([[100.,   0.,   0.],\n",
       "       [  0., 100.,   0.],\n",
       "       [  0.,   0., 200.]])"
      ]
     },
     "execution_count": 4,
     "metadata": {},
     "output_type": "execute_result"
    }
   ],
   "source": [
    "Irho"
   ]
  },
  {
   "cell_type": "code",
   "execution_count": null,
   "metadata": {},
   "outputs": [],
   "source": []
  },
  {
   "cell_type": "code",
   "execution_count": null,
   "metadata": {},
   "outputs": [],
   "source": []
  },
  {
   "cell_type": "code",
   "execution_count": null,
   "metadata": {},
   "outputs": [],
   "source": []
  },
  {
   "cell_type": "code",
   "execution_count": 5,
   "metadata": {},
   "outputs": [],
   "source": [
    "qw = 1025 # Water density [kg/m3]\n",
    "d0 = 0.761 # Outer diameter of pipe, [m]"
   ]
  },
  {
   "cell_type": "code",
   "execution_count": 6,
   "metadata": {},
   "outputs": [],
   "source": [
    "diag_DT = 1.5*np.array([1, 1, 1]) # [N/m]  , p.99 in [1]"
   ]
  },
  {
   "cell_type": "code",
   "execution_count": 7,
   "metadata": {},
   "outputs": [],
   "source": [
    "DT=np.diag(diag_DT) # (35) in [2]"
   ]
  },
  {
   "cell_type": "code",
   "execution_count": 8,
   "metadata": {},
   "outputs": [
    {
     "data": {
      "text/plain": [
       "array([[1.5, 0. , 0. ],\n",
       "       [0. , 1.5, 0. ],\n",
       "       [0. , 0. , 1.5]])"
      ]
     },
     "execution_count": 8,
     "metadata": {},
     "output_type": "execute_result"
    }
   ],
   "source": [
    "DT"
   ]
  },
  {
   "cell_type": "code",
   "execution_count": 9,
   "metadata": {},
   "outputs": [],
   "source": [
    "diag_CT = 1e9*np.array([1, 1, 1]) # p. 4721 in [3]"
   ]
  },
  {
   "cell_type": "code",
   "execution_count": 10,
   "metadata": {},
   "outputs": [],
   "source": [
    "CT=np.diag(diag_CT)"
   ]
  },
  {
   "cell_type": "code",
   "execution_count": 11,
   "metadata": {},
   "outputs": [],
   "source": [
    "from sympy import *"
   ]
  },
  {
   "cell_type": "code",
   "execution_count": 12,
   "metadata": {},
   "outputs": [],
   "source": [
    "# Dphi1, Dphi2, Dphi3 = symbols(\"Dphi1 Dphi2 Dphi3\")\n",
    "dx,dy,dz=.3,4,5"
   ]
  },
  {
   "cell_type": "code",
   "execution_count": 13,
   "metadata": {},
   "outputs": [],
   "source": [
    "def C1(dx,dy,dz):\n",
    "    return np.array([dx**2,\n",
    "          (dy**2+dz**2)**0.5*dy,\n",
    "          (dy**2+dz**2)**0.5*dz]).T"
   ]
  },
  {
   "cell_type": "code",
   "execution_count": 14,
   "metadata": {},
   "outputs": [
    {
     "data": {
      "text/plain": [
       "array([[1.5, 0. , 0. ],\n",
       "       [0. , 1.5, 0. ],\n",
       "       [0. , 0. , 1.5]])"
      ]
     },
     "execution_count": 14,
     "metadata": {},
     "output_type": "execute_result"
    }
   ],
   "source": [
    "DT"
   ]
  },
  {
   "cell_type": "code",
   "execution_count": 15,
   "metadata": {},
   "outputs": [],
   "source": [
    "def fD(dx,dy,dz,DT):\n",
    "    return 1/2*d0*qw*np.dot(DT, C1(dx,dy,dz))"
   ]
  },
  {
   "cell_type": "code",
   "execution_count": 16,
   "metadata": {},
   "outputs": [
    {
     "data": {
      "text/plain": [
       "array([   52.6516875 , 14983.79094991, 18729.73868739])"
      ]
     },
     "execution_count": 16,
     "metadata": {},
     "output_type": "execute_result"
    }
   ],
   "source": [
    "fD(dx,dy,dz,DT)"
   ]
  },
  {
   "cell_type": "code",
   "execution_count": 17,
   "metadata": {},
   "outputs": [],
   "source": [
    "# https://docs.scipy.org/doc/scipy-1.8.0/tutorial/integrate.html  \n",
    "# 1-D Gray-Scott "
   ]
  },
  {
   "cell_type": "code",
   "execution_count": 18,
   "metadata": {},
   "outputs": [],
   "source": [
    "# Mat=np.matrix([[1.3,.4,6.7],[9,7,6],[3.3,5.6,7]])"
   ]
  },
  {
   "cell_type": "code",
   "execution_count": 19,
   "metadata": {},
   "outputs": [],
   "source": [
    "I=np.identity(3)"
   ]
  },
  {
   "cell_type": "code",
   "execution_count": 20,
   "metadata": {},
   "outputs": [
    {
     "data": {
      "text/plain": [
       "array([   52.6516875 , 14983.79094991, 18729.73868739])"
      ]
     },
     "execution_count": 20,
     "metadata": {},
     "output_type": "execute_result"
    }
   ],
   "source": [
    "fD(dx,dy,dz,DT)"
   ]
  },
  {
   "cell_type": "code",
   "execution_count": 21,
   "metadata": {},
   "outputs": [
    {
     "data": {
      "text/plain": [
       "array([   52.6516875 , 14983.79094991, 18729.73868739])"
      ]
     },
     "execution_count": 21,
     "metadata": {},
     "output_type": "execute_result"
    }
   ],
   "source": [
    "np.dot(I,fD(dx,dy,dz,DT))"
   ]
  },
  {
   "cell_type": "code",
   "execution_count": 22,
   "metadata": {},
   "outputs": [],
   "source": [
    "Rb_t=I # https://www.researchgate.net/profile/Thor-Fossen/publication/224560837_Modeling_and_Control_of_Offshore_Pipelay_Operations_Based_on_a_Finite_Strain_Pipe_Model/links/00b7d520e175a3f918000000/Modeling-and-Control-of-Offshore-Pipelay-Operations-Based-on-a-Finite-Strain-Pipe-Model.pdf"
   ]
  },
  {
   "cell_type": "code",
   "execution_count": 23,
   "metadata": {},
   "outputs": [
    {
     "data": {
      "text/plain": [
       "array([[1., 0., 0.],\n",
       "       [0., 1., 0.],\n",
       "       [0., 0., 1.]])"
      ]
     },
     "execution_count": 23,
     "metadata": {},
     "output_type": "execute_result"
    }
   ],
   "source": [
    "Rb_t"
   ]
  },
  {
   "cell_type": "code",
   "execution_count": null,
   "metadata": {},
   "outputs": [],
   "source": []
  },
  {
   "cell_type": "code",
   "execution_count": 24,
   "metadata": {},
   "outputs": [],
   "source": [
    "diag_DR = 1.5*np.array([1, 1, 1]) #   p.4721 in [3]"
   ]
  },
  {
   "cell_type": "code",
   "execution_count": 25,
   "metadata": {},
   "outputs": [],
   "source": [
    "DR=np.diag(diag_DR) "
   ]
  },
  {
   "cell_type": "code",
   "execution_count": 26,
   "metadata": {},
   "outputs": [],
   "source": [
    "dI= 0.69# Inner diameter of pipe, [m]"
   ]
  },
  {
   "cell_type": "code",
   "execution_count": 27,
   "metadata": {},
   "outputs": [],
   "source": [
    "A=math.pi*((d0/2)**2-(dI/2)**2)"
   ]
  },
  {
   "cell_type": "code",
   "execution_count": 28,
   "metadata": {},
   "outputs": [],
   "source": [
    "fg_e=np.array([0,0,(mp-qw*A)*9.81])"
   ]
  },
  {
   "cell_type": "code",
   "execution_count": 29,
   "metadata": {},
   "outputs": [],
   "source": [
    "from numpy import linalg as LA"
   ]
  },
  {
   "cell_type": "code",
   "execution_count": 30,
   "metadata": {},
   "outputs": [],
   "source": [
    "def k_sigma(hi,d0,fg_e):\n",
    "    if hi<0:\n",
    "        return 0\n",
    "    elif 0<=hi<=d0/20:\n",
    "        return LA.norm(fg_e,2)/(d0/8-d0/40)*10*hi**2/d0\n",
    "    else:\n",
    "        return LA.norm(fg_e,2)/(d0/8-d0/40)*(hi-d0/40)"
   ]
  },
  {
   "cell_type": "code",
   "execution_count": 31,
   "metadata": {},
   "outputs": [],
   "source": [
    "def hi(x,y,z,d0):\n",
    "    return np.dot(np.array([x,y,z]).T,[0,0,1])+d0/2 "
   ]
  },
  {
   "cell_type": "code",
   "execution_count": 32,
   "metadata": {},
   "outputs": [],
   "source": [
    "x,y,z=np.array([2.3,3.5,7])"
   ]
  },
  {
   "cell_type": "code",
   "execution_count": 33,
   "metadata": {},
   "outputs": [],
   "source": [
    "def sigma(x,y,z):\n",
    "    return k_sigma(hi(x,y,z,d0),d0,fg_e)*np.array([0,0,1])"
   ]
  },
  {
   "cell_type": "code",
   "execution_count": 34,
   "metadata": {},
   "outputs": [],
   "source": [
    "# angles should be in radians, otherwise np.radians them  \n",
    "def Re_t(φ,θ,ψ):\n",
    "    Cφ=np.matrix([[1,0,0],\n",
    "                  [0,np.cos(φ),-np.sin(φ)],\n",
    "                  [0,np.sin(φ),np.cos(φ)]])\n",
    "    \n",
    "    Cθ=np.matrix([[np.cos(θ),0,np.sin(θ)],\n",
    "                  [0,1,0],\n",
    "                  [-np.sin(θ),0,np.cos(θ)]])\n",
    "    \n",
    "    Cψ=np.matrix([[np.cos(ψ),-np.sin(ψ),0],\n",
    "                  [np.sin(ψ),np.cos(ψ),0],\n",
    "                  [0,0,1]])\n",
    "    \n",
    "    return np.dot(np.dot(Cφ,Cθ),Cψ)"
   ]
  },
  {
   "cell_type": "code",
   "execution_count": 35,
   "metadata": {},
   "outputs": [],
   "source": [
    "# vessel motion\n",
    "# Fossen book p.384\n",
    "# Fossen paper, section 6"
   ]
  },
  {
   "cell_type": "code",
   "execution_count": 36,
   "metadata": {},
   "outputs": [],
   "source": [
    "# Fossen paper, equation (12)"
   ]
  },
  {
   "cell_type": "code",
   "execution_count": 37,
   "metadata": {},
   "outputs": [],
   "source": [
    "φ,θ,ψ=0,1,2"
   ]
  },
  {
   "cell_type": "code",
   "execution_count": 38,
   "metadata": {},
   "outputs": [],
   "source": [
    "def Re_b(φ,θ,ψ):\n",
    "    return np.dot(Re_t(φ,θ,ψ), Rb_t ) # (5) in[3]"
   ]
  },
  {
   "cell_type": "code",
   "execution_count": 39,
   "metadata": {},
   "outputs": [],
   "source": [
    "# p=np.dot(Re_b, phi) # (41) in[3]"
   ]
  },
  {
   "cell_type": "code",
   "execution_count": 201,
   "metadata": {},
   "outputs": [],
   "source": [
    "def d_s(da,db,dc,dt,ds):\n",
    "    return np.array([da*dt/ds,db*dt/ds,dc*dt/ds])"
   ]
  },
  {
   "cell_type": "code",
   "execution_count": 202,
   "metadata": {},
   "outputs": [],
   "source": [
    "x=[0,0.1]\n",
    "y=[1,3]\n",
    "z=[4,5]\n",
    "ds=0.1"
   ]
  },
  {
   "cell_type": "code",
   "execution_count": 203,
   "metadata": {},
   "outputs": [],
   "source": [
    "def ne(x,y,z,φ,θ,ψ,dt,ds):\n",
    "    return np.dot(np.dot(np.dot(Re_t(φ,θ,ψ),CT),\n",
    "                         Re_t(φ,θ,ψ).T), \n",
    "                  d_s(dx,dy,dz,dt,ds))"
   ]
  },
  {
   "cell_type": "code",
   "execution_count": 204,
   "metadata": {},
   "outputs": [],
   "source": [
    "def ne_(x,y,z,dx,dy,dz):\n",
    "    return -fg_e-fD(dx,dy,dz,DT)-sigma(x,y,z)"
   ]
  },
  {
   "cell_type": "code",
   "execution_count": 205,
   "metadata": {},
   "outputs": [],
   "source": [
    "# mp*ddp = d_s(ne,ds)+np.dot(Re_b,ne_)"
   ]
  },
  {
   "cell_type": "code",
   "execution_count": 206,
   "metadata": {},
   "outputs": [],
   "source": [
    "dt=.01"
   ]
  },
  {
   "cell_type": "code",
   "execution_count": 207,
   "metadata": {},
   "outputs": [
    {
     "data": {
      "text/plain": [
       "matrix([[2.5e+06, 4.0e+08, 5.0e+08]])"
      ]
     },
     "execution_count": 207,
     "metadata": {},
     "output_type": "execute_result"
    }
   ],
   "source": [
    "ne(x,y,z,φ,θ,ψ,dt,ds)"
   ]
  },
  {
   "cell_type": "code",
   "execution_count": null,
   "metadata": {},
   "outputs": [],
   "source": []
  },
  {
   "cell_type": "code",
   "execution_count": null,
   "metadata": {},
   "outputs": [],
   "source": []
  },
  {
   "cell_type": "code",
   "execution_count": 208,
   "metadata": {},
   "outputs": [],
   "source": [
    "def Irho_e(φ,θ,ψ):\n",
    "    return np.dot(np.dot(Re_t(φ,θ,ψ),Irho),Re_t(φ,θ,ψ).T) # (19) in [3] "
   ]
  },
  {
   "cell_type": "code",
   "execution_count": 209,
   "metadata": {},
   "outputs": [],
   "source": [
    "def  Π(φ,θ,ψ):\n",
    "    return np.matrix([[np.cos(θ)*np.cos(ψ),-np.sin(ψ),0],\n",
    "                  [np.cos(θ)*np.sin(ψ),np.cos(ψ),0],\n",
    "                  [-np.sin(θ),0,1]])"
   ]
  },
  {
   "cell_type": "code",
   "execution_count": 210,
   "metadata": {},
   "outputs": [],
   "source": [
    "def ωe(φ,θ,ψ):\n",
    "    return np.dot(Π(φ,θ,ψ),np.array([φ,θ,ψ]))  # (100) in [2]"
   ]
  },
  {
   "cell_type": "code",
   "execution_count": 211,
   "metadata": {},
   "outputs": [],
   "source": [
    "diag_CR = 1e11*np.array([1, 1, 1]) \n",
    " \n",
    "CR=np.diag(diag_CR)"
   ]
  },
  {
   "cell_type": "code",
   "execution_count": 212,
   "metadata": {},
   "outputs": [],
   "source": [
    "def me(φ,θ,ψ):\n",
    "    return np.dot(np.dot(np.dot(Re_t(φ,θ,ψ),CR),Re_t(φ,θ,ψ).T), ωe(φ,θ,ψ).T)"
   ]
  },
  {
   "cell_type": "code",
   "execution_count": 213,
   "metadata": {},
   "outputs": [],
   "source": [
    "me_=me(φ,θ,ψ)"
   ]
  },
  {
   "cell_type": "code",
   "execution_count": 214,
   "metadata": {},
   "outputs": [
    {
     "data": {
      "text/plain": [
       "-90929742682"
      ]
     },
     "execution_count": 214,
     "metadata": {},
     "output_type": "execute_result"
    }
   ],
   "source": [
    "int(me_[0])"
   ]
  },
  {
   "cell_type": "code",
   "execution_count": 215,
   "metadata": {},
   "outputs": [],
   "source": [
    "diag_DR = 1.5*np.array([1, 1, 1]) \n",
    " \n",
    "DR=np.diag(diag_DR)"
   ]
  },
  {
   "cell_type": "code",
   "execution_count": 216,
   "metadata": {},
   "outputs": [],
   "source": [
    "# np.dot(Re_b, np.dot( Irho_e, (np.dot(Π(φ,θ,ψ), np.array([ddφ,ddθ,ddψ])))))=\n",
    "# -np.dot(Re_b,np.dot(Irho_e,np.dot(Π(dφ,dθ,dψ),np.array([dφ,dθ,dψ])))-\n",
    "# np.cross(np.dot(Π(φ,θ,ψ),np.array([dφ,dθ,dψ])),np.dot(Π(φ,θ,ψ),np.array([dφ,dθ,dψ]))))+\n",
    "# np.dot(Re_b,d_s(me_[0],me_[1],me_[2],dt,ds)+d_s(me_[0],me_[1],me_[2],dt,ds))+\n",
    "# np.cross(d_s(x,y,z,dt,ds),ne(x,y,z,φ,θ,ψ,dt,ds))+\n",
    "# np.dot(Re_b,-np.dot(DR,np.dot(Π(φ,θ,ψ),np.array([dφ,dθ,dψ]))))"
   ]
  },
  {
   "cell_type": "code",
   "execution_count": null,
   "metadata": {},
   "outputs": [],
   "source": []
  },
  {
   "cell_type": "code",
   "execution_count": 264,
   "metadata": {},
   "outputs": [],
   "source": [
    "def grayscott1d(Q, t, ds):\n",
    "    x,y,z=Q[0],Q[1],Q[2]\n",
    "    dx,dy,dz=Q[3],Q[4],Q[5]\n",
    "    φ,θ,ψ=Q[6],Q[7],Q[8]\n",
    "    dφ,dθ,dψ=Q[9],Q[10],Q[11]\n",
    "    \n",
    "    C=ne(x,y,z,φ,θ,ψ,dt,ds)\n",
    "    a,b,c=C[0,0],C[0,1],C[0,2]\n",
    "    ddx,ddy, ddz = (1/mp*(d_s(a,b,c,dt,ds)\n",
    "                                        +np.dot(Re_b(φ,θ,ψ),ne_(x,y,z,dx,dy,dz)))).reshape(3, 1)\n",
    "    \n",
    "    me_=me(φ,θ,ψ)\n",
    "    \n",
    "    \n",
    "    B=(-np.dot(Re_b(φ,θ,ψ),np.dot(Irho_e(φ,θ,ψ),np.dot(Π(dφ,dθ,dψ),np.array([dφ,dθ,dψ]).reshape(3,1)))\n",
    "               -\n",
    "       np.cross(np.squeeze(np.asarray(np.dot(Π(φ,θ,ψ),np.array([dφ,dθ,dψ]).reshape(3,1)))),\n",
    "                 np.squeeze(np.asarray(np.dot(Π(φ,θ,ψ),np.array([dφ,dθ,dψ]).reshape(3,1))))).reshape(3,1))\n",
    "       +\n",
    "        np.dot(Re_b(φ,θ,ψ),np.squeeze(np.asarray(d_s(me_[0],me_[1],me_[2],dt,ds))).reshape(3,1))\n",
    "       +\n",
    "        np.squeeze(np.asarray(np.cross(d_s(x,y,z,dt,ds),ne(x,y,z,φ,θ,ψ,dt,ds)))).reshape(3,1)\n",
    "       +\n",
    "        np.dot(Re_b(φ,θ,ψ),-np.dot(DR,np.dot(Π(φ,θ,ψ),np.array([dφ,dθ,dψ]).reshape(3,1))))\n",
    "      )\n",
    "\n",
    "    ddφ,ddθ,ddψ = np.linalg.lstsq(np.dot(np.dot(Re_b(φ,θ,ψ),Irho_e(φ,θ,ψ)),Π(φ,θ,ψ)),B, rcond=None)[0]  \n",
    "    \n",
    "    return [dx, ddx, dy, ddy, dz, ddz, dφ, ddφ, dθ, ddθ, dψ, ddψ]\n",
    "    "
   ]
  },
  {
   "cell_type": "code",
   "execution_count": 275,
   "metadata": {},
   "outputs": [],
   "source": [
    "q0=[i for i in range(12)]\n",
    "max_t = 10  \n",
    "dt = 0.5\n",
    "t=np.arange(0,max_t,dt)\n",
    "ds = 0.025"
   ]
  },
  {
   "cell_type": "code",
   "execution_count": 276,
   "metadata": {},
   "outputs": [],
   "source": [
    "from datetime import datetime\n",
    "from scipy.integrate import odeint"
   ]
  },
  {
   "cell_type": "code",
   "execution_count": 277,
   "metadata": {},
   "outputs": [
    {
     "name": "stdout",
     "output_type": "stream",
     "text": [
      "0:00:02.687388\n"
     ]
    }
   ],
   "source": [
    "startTime1 = datetime.now()\n",
    "us=odeint(grayscott1d, q0, t, args=(ds,))\n",
    "print(datetime.now() - startTime1)"
   ]
  },
  {
   "cell_type": "code",
   "execution_count": 278,
   "metadata": {},
   "outputs": [
    {
     "data": {
      "text/plain": [
       "(20, 12)"
      ]
     },
     "execution_count": 278,
     "metadata": {},
     "output_type": "execute_result"
    }
   ],
   "source": [
    "us.shape"
   ]
  },
  {
   "cell_type": "code",
   "execution_count": 279,
   "metadata": {},
   "outputs": [
    {
     "data": {
      "text/plain": [
       "array([[0.00000000e+000, 1.00000000e+000, 2.00000000e+000,\n",
       "        3.00000000e+000, 4.00000000e+000, 5.00000000e+000,\n",
       "        6.00000000e+000, 7.00000000e+000, 8.00000000e+000,\n",
       "        9.00000000e+000, 1.00000000e+001, 1.10000000e+001],\n",
       "       [3.48952120e-005, 7.49322256e+000, 2.00000026e+000,\n",
       "        1.07838470e+003, 4.00004370e+000, 1.34941025e+003,\n",
       "        6.00017521e+000, 7.48983872e+000, 8.00000065e+000,\n",
       "        5.71587382e+003, 1.00001680e+001, 6.71223632e+003],\n",
       "       [6.93975391e-310, 9.88131292e-324, 2.86558075e-322,\n",
       "        6.93956284e-310, 1.42290906e-321, 3.95252517e-323,\n",
       "        6.93975610e-310, 6.93975391e-310, 9.88131292e-324,\n",
       "        6.93956284e-310, 1.77863633e-321, 4.44659081e-323],\n",
       "       [6.93975610e-310, 6.93975391e-310, 6.34218421e+206,\n",
       "        6.93975249e-310, 6.93975635e-310, 6.93975632e-310,\n",
       "        6.93956284e-310, 2.13436359e-321, 3.45845952e-323,\n",
       "        6.93975610e-310, 6.93975391e-310, 4.94065646e-324],\n",
       "       [4.94065646e-324, 6.93975632e-310, 6.93956284e-310,\n",
       "        6.93975610e-310, 6.93975610e-310, 2.49009086e-321,\n",
       "        9.88131292e-324, 6.93975610e-310, 6.93975391e-310,\n",
       "        1.48219694e-323, 9.88131292e-324, 4.94065646e-324],\n",
       "       [4.40293035e-256, 6.93956284e-310, 2.96439388e-321,\n",
       "        4.44659081e-323, 6.93975610e-310, 6.93975391e-310,\n",
       "        4.94065646e-324, 6.93975609e-310, 6.93975635e-310,\n",
       "        6.93975632e-310, 6.93956284e-310, 3.32012114e-321],\n",
       "       [1.48219694e-323, 6.93975610e-310, 6.93975391e-310,\n",
       "        1.21356753e+170, 6.93975609e-310, 6.93975635e-310,\n",
       "        6.93975632e-310, 6.93956284e-310, 3.67584841e-321,\n",
       "        3.45845952e-323, 6.93975610e-310, 6.93975391e-310],\n",
       "       [1.48219694e-323, 9.88131292e-324, 6.93975632e-310,\n",
       "        6.93956284e-310, 6.93975610e-310, 6.93975610e-310,\n",
       "        6.93975610e-310, 6.93975610e-310, 4.03157567e-321,\n",
       "        9.88131292e-324, 6.93975610e-310, 6.93975391e-310],\n",
       "       [6.93975635e-310, 1.97626258e-323, 9.88131292e-324,\n",
       "        6.93975632e-310, 1.37046849e-261, 6.93975610e-310,\n",
       "        6.93975610e-310, 6.93975610e-310, 6.93975610e-310,\n",
       "        6.93975610e-310, 4.58492919e-321, 5.43472210e-323],\n",
       "       [6.93975610e-310, 6.93975391e-310, 4.94065646e-324,\n",
       "        6.93975632e-310, 4.94065646e-324, 5.13828272e-321,\n",
       "        1.48219694e-323, 6.93975610e-310, 6.93975391e-310,\n",
       "        6.93975338e-310, 6.93975331e-310, 6.93975338e-310],\n",
       "       [6.93975233e-310, 6.93956284e-310, 6.93975609e-310,\n",
       "        6.93975609e-310, 6.93975609e-310, 6.93975338e-310,\n",
       "        6.93975331e-310, 6.93975610e-310, 6.93975610e-310,\n",
       "        6.93975610e-310, 6.93975332e-310, 2.19502219e-314],\n",
       "       [2.19502216e-314, 6.93975332e-310, 2.19502219e-314,\n",
       "        2.19502216e-314, 6.93975338e-310, 6.93975233e-310,\n",
       "        6.93975609e-310, 6.93975609e-310, 6.93975609e-310,\n",
       "        6.93975609e-310, 6.93975338e-310, 6.93975332e-310],\n",
       "       [6.93975338e-310, 6.93975331e-310, 6.93975609e-310,\n",
       "        8.48799885e-314, 1.06099946e-313, 1.90979778e-313,\n",
       "        2.12199736e-313, 2.33419694e-313, 2.12201046e-314,\n",
       "        4.45028353e-308, 4.45028353e-308, 1.69111861e-306],\n",
       "       [9.34599605e-307, 1.33507148e-306, 1.69118787e-306,\n",
       "        7.56602523e-307, 1.42419666e-306, 1.78020984e-306,\n",
       "        1.76371710e-290, 1.92405547e-290, 1.42419666e-306,\n",
       "        1.60220800e-306, 6.00783523e-307, 8.90059431e-307],\n",
       "       [1.92412395e-290, 1.60211565e-306, 7.56595733e-307,\n",
       "        1.05694404e-307, 6.95352981e-308, 8.34420098e-308,\n",
       "        1.06811354e-306, 6.67565023e-308, 6.95356377e-308,\n",
       "        4.45028353e-308, 4.45028353e-308, 4.45019016e-308],\n",
       "       [4.45028353e-308, 1.33506604e-306, 1.37961370e-306,\n",
       "        9.34586702e-307, 1.76371709e-290, 1.92405547e-290,\n",
       "        1.42419666e-306, 1.86921551e-306, 9.34613864e-307,\n",
       "        8.34450230e-308, 1.60218491e-306, 6.67573510e-308],\n",
       "       [6.67570964e-308, 6.00802197e-307, 1.29057272e-306,\n",
       "        9.45733632e-308, 9.34605036e-307, 6.45288395e-307,\n",
       "        7.78825081e-308, 6.95352982e-308, 9.34608431e-307,\n",
       "        6.93975635e-310, 6.93975635e-310, 6.93975635e-310],\n",
       "       [6.93975635e-310, 6.93975635e-310, 6.93975635e-310,\n",
       "        6.93975635e-310, 6.93975635e-310, 6.93975635e-310,\n",
       "        6.93975635e-310, 6.93975635e-310, 6.93975635e-310,\n",
       "        6.93975635e-310, 6.93975635e-310, 6.93975635e-310],\n",
       "       [6.93975635e-310, 6.93975635e-310, 6.93975635e-310,\n",
       "        6.93975635e-310, 6.93975635e-310, 6.93975635e-310,\n",
       "        6.93975635e-310, 6.93975635e-310, 6.93975635e-310,\n",
       "        6.93975635e-310, 6.93975635e-310, 6.93975635e-310],\n",
       "       [6.93975635e-310, 6.93975635e-310, 6.93975635e-310,\n",
       "        6.93975635e-310, 6.93975635e-310, 3.99907563e+252,\n",
       "        4.25109693e+228, 4.89584248e-085, 9.89803615e+164,\n",
       "        9.16281387e-072, 1.69812242e+137, 9.02193423e+217]])"
      ]
     },
     "execution_count": 279,
     "metadata": {},
     "output_type": "execute_result"
    }
   ],
   "source": [
    "us"
   ]
  },
  {
   "cell_type": "code",
   "execution_count": null,
   "metadata": {},
   "outputs": [],
   "source": []
  },
  {
   "cell_type": "code",
   "execution_count": null,
   "metadata": {},
   "outputs": [],
   "source": []
  },
  {
   "cell_type": "code",
   "execution_count": null,
   "metadata": {},
   "outputs": [],
   "source": []
  },
  {
   "cell_type": "code",
   "execution_count": null,
   "metadata": {},
   "outputs": [],
   "source": []
  },
  {
   "cell_type": "code",
   "execution_count": null,
   "metadata": {},
   "outputs": [],
   "source": []
  },
  {
   "cell_type": "code",
   "execution_count": null,
   "metadata": {},
   "outputs": [],
   "source": []
  },
  {
   "cell_type": "code",
   "execution_count": null,
   "metadata": {},
   "outputs": [],
   "source": []
  },
  {
   "cell_type": "code",
   "execution_count": null,
   "metadata": {},
   "outputs": [],
   "source": []
  },
  {
   "cell_type": "code",
   "execution_count": null,
   "metadata": {},
   "outputs": [],
   "source": []
  },
  {
   "cell_type": "code",
   "execution_count": null,
   "metadata": {},
   "outputs": [],
   "source": []
  },
  {
   "cell_type": "code",
   "execution_count": null,
   "metadata": {},
   "outputs": [],
   "source": []
  },
  {
   "cell_type": "code",
   "execution_count": null,
   "metadata": {},
   "outputs": [],
   "source": []
  },
  {
   "cell_type": "code",
   "execution_count": null,
   "metadata": {},
   "outputs": [],
   "source": []
  },
  {
   "cell_type": "code",
   "execution_count": null,
   "metadata": {},
   "outputs": [],
   "source": []
  },
  {
   "cell_type": "code",
   "execution_count": null,
   "metadata": {},
   "outputs": [],
   "source": []
  },
  {
   "cell_type": "code",
   "execution_count": null,
   "metadata": {},
   "outputs": [],
   "source": []
  },
  {
   "cell_type": "code",
   "execution_count": null,
   "metadata": {},
   "outputs": [],
   "source": []
  },
  {
   "cell_type": "code",
   "execution_count": null,
   "metadata": {},
   "outputs": [],
   "source": [
    "def psi(gamma,omega,Ct,Cr):\n",
    "    coord=np.concatenate((gamma, omega), axis=0)\n",
    "    zero=np.zeros((3,3))\n",
    "    M1=np.concatenate((Ct, zero), axis=0)\n",
    "    M2=np.concatenate((zero, Cr), axis=0)\n",
    "    M=np.concatenate((M1, M2), axis=1)\n",
    "    return 1/2*np.dot(np.dot(coord.T,M),coord)"
   ]
  },
  {
   "cell_type": "code",
   "execution_count": null,
   "metadata": {},
   "outputs": [],
   "source": [
    "from sympy import *"
   ]
  },
  {
   "cell_type": "code",
   "execution_count": null,
   "metadata": {},
   "outputs": [],
   "source": [
    "gamma1, gamma2,gamma3 = symbols(\"gamma1 gamma2 gamma3\")\n",
    "omega1, omega2,omega3 = symbols(\"omega1 omega2 omega3\")"
   ]
  },
  {
   "cell_type": "code",
   "execution_count": null,
   "metadata": {},
   "outputs": [],
   "source": [
    "gamma=np.array([gamma1, gamma2,gamma3])\n",
    "omega=np.array([omega1, omega2,omega3])"
   ]
  },
  {
   "cell_type": "code",
   "execution_count": null,
   "metadata": {},
   "outputs": [],
   "source": []
  },
  {
   "cell_type": "code",
   "execution_count": null,
   "metadata": {},
   "outputs": [],
   "source": [
    "Ct=np.matrix([[1,0,0],[0,2,0],[0,0,3]])\n",
    "Cr=np.matrix([[4,0,0],[0,5,0],[0,0,6]])"
   ]
  },
  {
   "cell_type": "code",
   "execution_count": null,
   "metadata": {},
   "outputs": [],
   "source": [
    "psi(gamma,omega,Ct,Cr)"
   ]
  },
  {
   "cell_type": "code",
   "execution_count": null,
   "metadata": {},
   "outputs": [],
   "source": [
    "fun = lambda x, y: psi(x,y,Ct,Cr)"
   ]
  },
  {
   "cell_type": "code",
   "execution_count": null,
   "metadata": {},
   "outputs": [],
   "source": [
    "Dfun = nd.Gradient(fun)"
   ]
  },
  {
   "cell_type": "code",
   "execution_count": null,
   "metadata": {},
   "outputs": [],
   "source": [
    "Dfun()"
   ]
  },
  {
   "cell_type": "code",
   "execution_count": null,
   "metadata": {},
   "outputs": [],
   "source": [
    "# coord=np.concatenate((gamma, omega), axis=0)"
   ]
  },
  {
   "cell_type": "code",
   "execution_count": null,
   "metadata": {},
   "outputs": [],
   "source": [
    "gamma"
   ]
  },
  {
   "cell_type": "code",
   "execution_count": null,
   "metadata": {},
   "outputs": [],
   "source": [
    "omega"
   ]
  },
  {
   "cell_type": "code",
   "execution_count": null,
   "metadata": {},
   "outputs": [],
   "source": [
    "Dfun(gamma,omega)"
   ]
  },
  {
   "cell_type": "code",
   "execution_count": null,
   "metadata": {},
   "outputs": [],
   "source": [
    "Dfun"
   ]
  },
  {
   "cell_type": "code",
   "execution_count": null,
   "metadata": {},
   "outputs": [],
   "source": []
  }
 ],
 "metadata": {
  "kernelspec": {
   "display_name": "Python 3",
   "language": "python",
   "name": "python3"
  },
  "language_info": {
   "codemirror_mode": {
    "name": "ipython",
    "version": 3
   },
   "file_extension": ".py",
   "mimetype": "text/x-python",
   "name": "python",
   "nbconvert_exporter": "python",
   "pygments_lexer": "ipython3",
   "version": "3.7.7"
  }
 },
 "nbformat": 4,
 "nbformat_minor": 4
}
