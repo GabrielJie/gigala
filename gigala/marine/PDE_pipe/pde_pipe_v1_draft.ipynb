{
 "cells": [
  {
   "cell_type": "markdown",
   "metadata": {},
   "source": [
    "#### Model taken from:\n",
    "- [1] Offshore Pipelaying Dynamics. Gullik Anthon Jensen \n",
    "- [2] A nonlinear PDE formulation for offshore vessel pipeline installation. Gullik A. Jensen et al \n",
    "- [3] Modeling and Control of Offshore Pipelay Operations Based on a Finite Strain Pipe Model. Gullik A. Jensen "
   ]
  },
  {
   "cell_type": "code",
   "execution_count": 1,
   "metadata": {},
   "outputs": [],
   "source": [
    "import numpy as np\n",
    "import numdifftools as nd\n",
    "import math"
   ]
  },
  {
   "cell_type": "code",
   "execution_count": 2,
   "metadata": {},
   "outputs": [],
   "source": [
    "mp = 96 #  (submerged) [kg/m]"
   ]
  },
  {
   "cell_type": "code",
   "execution_count": null,
   "metadata": {},
   "outputs": [],
   "source": []
  },
  {
   "cell_type": "code",
   "execution_count": 3,
   "metadata": {},
   "outputs": [],
   "source": [
    "node_N=5"
   ]
  },
  {
   "cell_type": "code",
   "execution_count": 4,
   "metadata": {},
   "outputs": [],
   "source": [
    "diag_Irho = 1e2*np.array([1, 1, 2]) # [m^4]  , p.99 in [1]\n",
    " \n",
    "Irho=np.diag(diag_Irho)"
   ]
  },
  {
   "cell_type": "code",
   "execution_count": 5,
   "metadata": {},
   "outputs": [
    {
     "data": {
      "text/plain": [
       "array([[100.,   0.,   0.],\n",
       "       [  0., 100.,   0.],\n",
       "       [  0.,   0., 200.]])"
      ]
     },
     "execution_count": 5,
     "metadata": {},
     "output_type": "execute_result"
    }
   ],
   "source": [
    "Irho"
   ]
  },
  {
   "cell_type": "code",
   "execution_count": null,
   "metadata": {},
   "outputs": [],
   "source": []
  },
  {
   "cell_type": "code",
   "execution_count": 6,
   "metadata": {},
   "outputs": [],
   "source": [
    "qw = 1025 # Water density [kg/m3]\n",
    "d0 = 0.761 # Outer diameter of pipe, [m]"
   ]
  },
  {
   "cell_type": "code",
   "execution_count": 7,
   "metadata": {},
   "outputs": [],
   "source": [
    "diag_DT = 1.5*np.array([1, 1, 1]) # [N/m]  , p.99 in [1]"
   ]
  },
  {
   "cell_type": "code",
   "execution_count": 8,
   "metadata": {},
   "outputs": [],
   "source": [
    "DT=np.diag(diag_DT) # (35) in [2]"
   ]
  },
  {
   "cell_type": "code",
   "execution_count": 9,
   "metadata": {},
   "outputs": [
    {
     "data": {
      "text/plain": [
       "array([[1.5, 0. , 0. ],\n",
       "       [0. , 1.5, 0. ],\n",
       "       [0. , 0. , 1.5]])"
      ]
     },
     "execution_count": 9,
     "metadata": {},
     "output_type": "execute_result"
    }
   ],
   "source": [
    "DT"
   ]
  },
  {
   "cell_type": "code",
   "execution_count": 10,
   "metadata": {},
   "outputs": [],
   "source": [
    "diag_CT = 1e9*np.array([1, 1, 1]) # p. 4721 in [3]"
   ]
  },
  {
   "cell_type": "code",
   "execution_count": 11,
   "metadata": {},
   "outputs": [],
   "source": [
    "CT=np.diag(diag_CT)"
   ]
  },
  {
   "cell_type": "code",
   "execution_count": 12,
   "metadata": {},
   "outputs": [],
   "source": [
    "from sympy import *"
   ]
  },
  {
   "cell_type": "code",
   "execution_count": 13,
   "metadata": {},
   "outputs": [],
   "source": [
    "# Dphi1, Dphi2, Dphi3 = symbols(\"Dphi1 Dphi2 Dphi3\")\n",
    "dx,dy,dz=np.array([.3 for i in range(node_N)]),np.array([.3 for i in range(node_N)]),np.array([.3 for i in range(node_N)]) "
   ]
  },
  {
   "cell_type": "code",
   "execution_count": 14,
   "metadata": {},
   "outputs": [],
   "source": [
    "def C1(dx,dy,dz):\n",
    "    return np.vstack([dx**2,(dy**2+dz**2)**0.5*dy,(dy**2+dz**2)**0.5*dz])"
   ]
  },
  {
   "cell_type": "code",
   "execution_count": 15,
   "metadata": {},
   "outputs": [
    {
     "data": {
      "text/plain": [
       "array([[0.09      , 0.09      , 0.09      , 0.09      , 0.09      ],\n",
       "       [0.12727922, 0.12727922, 0.12727922, 0.12727922, 0.12727922],\n",
       "       [0.12727922, 0.12727922, 0.12727922, 0.12727922, 0.12727922]])"
      ]
     },
     "execution_count": 15,
     "metadata": {},
     "output_type": "execute_result"
    }
   ],
   "source": [
    "C1(dx,dy,dz)"
   ]
  },
  {
   "cell_type": "code",
   "execution_count": 16,
   "metadata": {},
   "outputs": [
    {
     "data": {
      "text/plain": [
       "array([52.6516875 , 74.46073019, 74.46073019])"
      ]
     },
     "execution_count": 16,
     "metadata": {},
     "output_type": "execute_result"
    }
   ],
   "source": [
    "1/2*d0*qw*np.dot(DT,np.array([0.09,0.12727922, 0.12727922])) "
   ]
  },
  {
   "cell_type": "code",
   "execution_count": 17,
   "metadata": {},
   "outputs": [],
   "source": [
    "def fD(dx,dy,dz,DT):\n",
    "#     print(dx)\n",
    "#     print(C1(dx,dy,dz).shape)\n",
    "    return 1/2*d0*qw*np.dot(DT, C1(dx,dy,dz))"
   ]
  },
  {
   "cell_type": "code",
   "execution_count": 18,
   "metadata": {},
   "outputs": [
    {
     "data": {
      "text/plain": [
       "array([[52.6516875 , 52.6516875 , 52.6516875 , 52.6516875 , 52.6516875 ],\n",
       "       [74.46073054, 74.46073054, 74.46073054, 74.46073054, 74.46073054],\n",
       "       [74.46073054, 74.46073054, 74.46073054, 74.46073054, 74.46073054]])"
      ]
     },
     "execution_count": 18,
     "metadata": {},
     "output_type": "execute_result"
    }
   ],
   "source": [
    "fD(dx,dy,dz,DT)"
   ]
  },
  {
   "cell_type": "code",
   "execution_count": 19,
   "metadata": {},
   "outputs": [],
   "source": [
    "# https://docs.scipy.org/doc/scipy-1.8.0/tutorial/integrate.html  \n",
    "# 1-D Gray-Scott "
   ]
  },
  {
   "cell_type": "code",
   "execution_count": 20,
   "metadata": {},
   "outputs": [],
   "source": [
    "# Mat=np.matrix([[1.3,.4,6.7],[9,7,6],[3.3,5.6,7]])"
   ]
  },
  {
   "cell_type": "code",
   "execution_count": 21,
   "metadata": {},
   "outputs": [],
   "source": [
    "I=np.identity(3)"
   ]
  },
  {
   "cell_type": "code",
   "execution_count": 22,
   "metadata": {},
   "outputs": [
    {
     "data": {
      "text/plain": [
       "array([[52.6516875 , 52.6516875 , 52.6516875 , 52.6516875 , 52.6516875 ],\n",
       "       [74.46073054, 74.46073054, 74.46073054, 74.46073054, 74.46073054],\n",
       "       [74.46073054, 74.46073054, 74.46073054, 74.46073054, 74.46073054]])"
      ]
     },
     "execution_count": 22,
     "metadata": {},
     "output_type": "execute_result"
    }
   ],
   "source": [
    "np.dot(I,fD(dx,dy,dz,DT))"
   ]
  },
  {
   "cell_type": "code",
   "execution_count": 23,
   "metadata": {},
   "outputs": [],
   "source": [
    "Rb_t=I # https://www.researchgate.net/profile/Thor-Fossen/publication/224560837_Modeling_and_Control_of_Offshore_Pipelay_Operations_Based_on_a_Finite_Strain_Pipe_Model/links/00b7d520e175a3f918000000/Modeling-and-Control-of-Offshore-Pipelay-Operations-Based-on-a-Finite-Strain-Pipe-Model.pdf"
   ]
  },
  {
   "cell_type": "code",
   "execution_count": 24,
   "metadata": {},
   "outputs": [
    {
     "data": {
      "text/plain": [
       "array([[1., 0., 0.],\n",
       "       [0., 1., 0.],\n",
       "       [0., 0., 1.]])"
      ]
     },
     "execution_count": 24,
     "metadata": {},
     "output_type": "execute_result"
    }
   ],
   "source": [
    "Rb_t"
   ]
  },
  {
   "cell_type": "code",
   "execution_count": null,
   "metadata": {},
   "outputs": [],
   "source": []
  },
  {
   "cell_type": "code",
   "execution_count": 25,
   "metadata": {},
   "outputs": [],
   "source": [
    "diag_DR = 1.5*np.array([1, 1, 1]) #   p.4721 in [3]"
   ]
  },
  {
   "cell_type": "code",
   "execution_count": 26,
   "metadata": {},
   "outputs": [],
   "source": [
    "DR=np.diag(diag_DR) "
   ]
  },
  {
   "cell_type": "code",
   "execution_count": 27,
   "metadata": {},
   "outputs": [],
   "source": [
    "dI= 0.69# Inner diameter of pipe, [m]"
   ]
  },
  {
   "cell_type": "code",
   "execution_count": 28,
   "metadata": {},
   "outputs": [],
   "source": [
    "A=math.pi*((d0/2)**2-(dI/2)**2)"
   ]
  },
  {
   "cell_type": "code",
   "execution_count": 29,
   "metadata": {},
   "outputs": [],
   "source": [
    "fg_e=np.array([[0,0,(mp-qw*A)*9.81] for x in range(node_N)]).reshape(3, node_N)"
   ]
  },
  {
   "cell_type": "code",
   "execution_count": 30,
   "metadata": {},
   "outputs": [],
   "source": [
    "from numpy import linalg as LA"
   ]
  },
  {
   "cell_type": "code",
   "execution_count": 31,
   "metadata": {},
   "outputs": [],
   "source": [
    "def k_sigma(hi,d0,fg_e):\n",
    "    ans=[]\n",
    "#     print('hi',hi)\n",
    "    for it in hi:\n",
    "        if it<0:\n",
    "            ans.append(0)\n",
    "        elif 0<=it<=d0/20:\n",
    "#             print(LA.norm(fg_e,2)/(d0/8-d0/40)*10*it**2/d0)\n",
    "            ans.append(LA.norm(fg_e,2)/(d0/8-d0/40)*10*it**2/d0)\n",
    "        else:\n",
    "#             print(LA.norm(fg_e,2)/(d0/8-d0/40)*10*hi**2/d0)\n",
    "            ans.append(LA.norm(fg_e,2)/(d0/8-d0/40)*(it-d0/40))\n",
    "#     print(ans)         \n",
    "     \n",
    "    return np.array(ans).reshape(node_N,1)   "
   ]
  },
  {
   "cell_type": "code",
   "execution_count": 32,
   "metadata": {},
   "outputs": [],
   "source": [
    "x,y,z=np.array([2.3 for i in range(node_N)]),np.array([2.3 for i in range(node_N)]),np.array([2.3 for i in range(node_N)])"
   ]
  },
  {
   "cell_type": "code",
   "execution_count": 33,
   "metadata": {},
   "outputs": [],
   "source": [
    "def hi(x,y,z,d0):\n",
    "    return (np.dot(np.array([x,y,z]).T,[0,0,1])+d0/2).reshape(node_N,1) "
   ]
  },
  {
   "cell_type": "code",
   "execution_count": 34,
   "metadata": {},
   "outputs": [
    {
     "data": {
      "text/plain": [
       "(5, 1)"
      ]
     },
     "execution_count": 34,
     "metadata": {},
     "output_type": "execute_result"
    }
   ],
   "source": [
    "hi(x,y,z,d0).shape"
   ]
  },
  {
   "cell_type": "code",
   "execution_count": 35,
   "metadata": {},
   "outputs": [],
   "source": [
    "def sigma(x,y,z):\n",
    "    return (k_sigma(hi(x,y,z,d0),d0,fg_e)*np.array([0,0,1])).reshape(3,node_N)"
   ]
  },
  {
   "cell_type": "code",
   "execution_count": 36,
   "metadata": {},
   "outputs": [
    {
     "data": {
      "text/plain": [
       "(3, 5)"
      ]
     },
     "execution_count": 36,
     "metadata": {},
     "output_type": "execute_result"
    }
   ],
   "source": [
    "sigma(x,y,z).shape"
   ]
  },
  {
   "cell_type": "code",
   "execution_count": 37,
   "metadata": {},
   "outputs": [],
   "source": [
    "# angles should be in radians, otherwise np.radians them  \n",
    "def Re_t_(arr):\n",
    "    φ,θ,ψ=arr[0],arr[1],arr[2]\n",
    "  \n",
    "    Cφ=np.matrix([[1,0,0],\n",
    "                      [0,np.cos(φ),-np.sin(φ)],\n",
    "                      [0,np.sin(φ),np.cos(φ)]])\n",
    "\n",
    "    Cθ=np.matrix([[np.cos(θ),0,np.sin(θ)],\n",
    "                      [0,1,0],\n",
    "                      [-np.sin(θ),0,np.cos(θ)]])\n",
    "\n",
    "    Cψ=np.matrix([[np.cos(ψ),-np.sin(ψ),0],\n",
    "                      [np.sin(ψ),np.cos(ψ),0],\n",
    "                      [0,0,1]])\n",
    "        \n",
    "\n",
    "    return np.array(np.dot(np.dot(Cφ,Cθ),Cψ) )"
   ]
  },
  {
   "cell_type": "code",
   "execution_count": 38,
   "metadata": {},
   "outputs": [
    {
     "data": {
      "text/plain": [
       "array([[ 0.41198225,  0.05872664,  0.90929743],\n",
       "       [-0.68124272, -0.64287284,  0.35017549],\n",
       "       [ 0.60512725, -0.76371834, -0.2248451 ]])"
      ]
     },
     "execution_count": 38,
     "metadata": {},
     "output_type": "execute_result"
    }
   ],
   "source": [
    "Re_t_([1,2,3])"
   ]
  },
  {
   "cell_type": "code",
   "execution_count": 39,
   "metadata": {},
   "outputs": [],
   "source": [
    "φ, θ, ψ = np.array([1 for i in range(node_N)]),np.array([2 for i in range(node_N)]),np.array([3 for i in range(node_N)])"
   ]
  },
  {
   "cell_type": "code",
   "execution_count": 40,
   "metadata": {},
   "outputs": [],
   "source": [
    "def Re_t(a,b,c):\n",
    "    xyz=np.stack((a,b,c), axis=1)\n",
    "    return np.apply_along_axis(Re_t_, 1, xyz)"
   ]
  },
  {
   "cell_type": "code",
   "execution_count": 41,
   "metadata": {
    "scrolled": true
   },
   "outputs": [
    {
     "data": {
      "text/plain": [
       "array([[ 0.41198225,  0.05872664,  0.90929743],\n",
       "       [-0.68124272, -0.64287284,  0.35017549],\n",
       "       [ 0.60512725, -0.76371834, -0.2248451 ]])"
      ]
     },
     "execution_count": 41,
     "metadata": {},
     "output_type": "execute_result"
    }
   ],
   "source": [
    "np.dot(Re_t(φ,θ,ψ)[0],Rb_t) "
   ]
  },
  {
   "cell_type": "code",
   "execution_count": 42,
   "metadata": {},
   "outputs": [],
   "source": [
    "# vessel motion\n",
    "# Fossen book p.101, p.190, p.384, p.431\n",
    "# Fossen paper, section 6"
   ]
  },
  {
   "cell_type": "code",
   "execution_count": 43,
   "metadata": {},
   "outputs": [],
   "source": [
    "# Fossen paper, equation (12)"
   ]
  },
  {
   "cell_type": "code",
   "execution_count": 44,
   "metadata": {},
   "outputs": [],
   "source": [
    "# φ,θ,ψ=1,2,3"
   ]
  },
  {
   "cell_type": "code",
   "execution_count": 45,
   "metadata": {},
   "outputs": [],
   "source": [
    "def Re_b(φ,θ,ψ):\n",
    "    return np.dot(Re_t(φ,θ,ψ), Rb_t ) # (5) in[3]"
   ]
  },
  {
   "cell_type": "code",
   "execution_count": 46,
   "metadata": {},
   "outputs": [
    {
     "data": {
      "text/plain": [
       "(5, 3, 3)"
      ]
     },
     "execution_count": 46,
     "metadata": {},
     "output_type": "execute_result"
    }
   ],
   "source": [
    "Re_b(φ,θ,ψ).shape"
   ]
  },
  {
   "cell_type": "code",
   "execution_count": 47,
   "metadata": {},
   "outputs": [],
   "source": [
    "# p=np.dot(Re_b, phi) # (41) in[3]"
   ]
  },
  {
   "cell_type": "code",
   "execution_count": 48,
   "metadata": {},
   "outputs": [],
   "source": [
    "def d_s(da,db,dc,dt,ds):\n",
    "    return np.vstack([da*dt/ds,db*dt/ds,dc*dt/ds])"
   ]
  },
  {
   "cell_type": "code",
   "execution_count": 49,
   "metadata": {},
   "outputs": [],
   "source": [
    "x,y,z=np.array([2.3 for i in range(node_N)]),np.array([.3 for i in range(node_N)]),np.array([8.3 for i in range(node_N)])\n",
    "dt=0.1\n",
    "ds=0.1"
   ]
  },
  {
   "cell_type": "code",
   "execution_count": 50,
   "metadata": {},
   "outputs": [
    {
     "data": {
      "text/plain": [
       "(3, 5)"
      ]
     },
     "execution_count": 50,
     "metadata": {},
     "output_type": "execute_result"
    }
   ],
   "source": [
    "d_s(x,y,z,dt,ds).shape"
   ]
  },
  {
   "cell_type": "code",
   "execution_count": 51,
   "metadata": {},
   "outputs": [],
   "source": [
    "φ,θ,ψ=np.array([2.3 for i in range(node_N)]),np.array([1.3 for i in range(node_N)]),np.array([2.1 for i in range(node_N)])\n"
   ]
  },
  {
   "cell_type": "code",
   "execution_count": 52,
   "metadata": {},
   "outputs": [
    {
     "data": {
      "text/plain": [
       "array([[1.e+09, 0.e+00, 0.e+00],\n",
       "       [0.e+00, 1.e+09, 0.e+00],\n",
       "       [0.e+00, 0.e+00, 1.e+09]])"
      ]
     },
     "execution_count": 52,
     "metadata": {},
     "output_type": "execute_result"
    }
   ],
   "source": [
    "CT"
   ]
  },
  {
   "cell_type": "code",
   "execution_count": 53,
   "metadata": {},
   "outputs": [],
   "source": [
    "def ne(x,y,z,φ,θ,ψ,dt,ds):\n",
    "#     print(np.multiply(Re_t(φ,θ,ψ),CT).shape)\n",
    "#     print(np.multiply(np.multiply(Re_t(φ,θ,ψ),CT),\n",
    "#                          Re_t(φ,θ,ψ)).shape)\n",
    "#     print(d_s(dx,dy,dz,dt,ds).shape)\n",
    "    \n",
    "    A=np.multiply(np.multiply(Re_t(φ,θ,ψ),CT),\n",
    "                         Re_t(φ,θ,ψ))\n",
    "    B=d_s(dx,dy,dz,dt,ds).T\n",
    "#     print(A)\n",
    "    \n",
    "#     ans=[]\n",
    "#     for i in range(len(A)):\n",
    "#         ans.append(np.dot(A[i],B[i]))\n",
    "    return np.einsum('ijk,ik->ij', A,B)\n",
    "#     return np.array(ans)"
   ]
  },
  {
   "cell_type": "code",
   "execution_count": 54,
   "metadata": {},
   "outputs": [],
   "source": [
    "def ne_(x,y,z,dx,dy,dz):\n",
    "#     print(fg_e.shape)\n",
    "#     print(fD(dx,dy,dz,DT).shape)\n",
    "#     print(sigma(x,y,z).shape)\n",
    "    return -fg_e-fD(dx,dy,dz,DT)-sigma(x,y,z)"
   ]
  },
  {
   "cell_type": "code",
   "execution_count": 55,
   "metadata": {},
   "outputs": [],
   "source": [
    "# mp*ddp = d_s(ne,ds)+np.dot(Re_b,ne_)"
   ]
  },
  {
   "cell_type": "code",
   "execution_count": 56,
   "metadata": {},
   "outputs": [],
   "source": [
    "dt=.01"
   ]
  },
  {
   "cell_type": "code",
   "execution_count": 57,
   "metadata": {},
   "outputs": [
    {
     "data": {
      "text/plain": [
       "array([[ 547120.56985966, 2417555.30585798,  952957.19016416],\n",
       "       [ 547120.56985966, 2417555.30585798,  952957.19016416],\n",
       "       [ 547120.56985966, 2417555.30585798,  952957.19016416],\n",
       "       [ 547120.56985966, 2417555.30585798,  952957.19016416],\n",
       "       [ 547120.56985966, 2417555.30585798,  952957.19016416]])"
      ]
     },
     "execution_count": 57,
     "metadata": {},
     "output_type": "execute_result"
    }
   ],
   "source": [
    "ne(x,y,z,φ,θ,ψ,dt,ds)"
   ]
  },
  {
   "cell_type": "code",
   "execution_count": 58,
   "metadata": {},
   "outputs": [
    {
     "data": {
      "text/plain": [
       "(3, 5)"
      ]
     },
     "execution_count": 58,
     "metadata": {},
     "output_type": "execute_result"
    }
   ],
   "source": [
    "ne_(x,y,z,dx,dy,dz).shape"
   ]
  },
  {
   "cell_type": "code",
   "execution_count": 59,
   "metadata": {},
   "outputs": [
    {
     "data": {
      "text/plain": [
       "(5, 3, 3)"
      ]
     },
     "execution_count": 59,
     "metadata": {},
     "output_type": "execute_result"
    }
   ],
   "source": [
    "Re_b(φ,θ,ψ).shape"
   ]
  },
  {
   "cell_type": "code",
   "execution_count": 60,
   "metadata": {},
   "outputs": [],
   "source": [
    "def Irho_e(φ,θ,ψ):\n",
    "    return np.multiply(np.multiply(Re_t(φ,θ,ψ),Irho),Re_t(φ,θ,ψ)) # (19) in [3] "
   ]
  },
  {
   "cell_type": "code",
   "execution_count": 61,
   "metadata": {},
   "outputs": [
    {
     "data": {
      "text/plain": [
       "(5, 3, 3)"
      ]
     },
     "execution_count": 61,
     "metadata": {},
     "output_type": "execute_result"
    }
   ],
   "source": [
    "Irho_e(φ,θ,ψ).shape"
   ]
  },
  {
   "cell_type": "code",
   "execution_count": 62,
   "metadata": {},
   "outputs": [],
   "source": [
    "def Π_(arr):\n",
    "    φ,θ,ψ=arr[0],arr[1],arr[2]\n",
    "    return np.array([[np.cos(θ)*np.cos(ψ),-np.sin(ψ),0],\n",
    "                  [np.cos(θ)*np.sin(ψ),np.cos(ψ),0],\n",
    "                  [-np.sin(θ),0,1]])"
   ]
  },
  {
   "cell_type": "code",
   "execution_count": 63,
   "metadata": {},
   "outputs": [],
   "source": [
    "def Π(a,b,c):\n",
    "    xyz=np.stack((a,b,c), axis=1)\n",
    "  \n",
    "    return np.apply_along_axis(Π_, 1, xyz)\n",
    "    "
   ]
  },
  {
   "cell_type": "code",
   "execution_count": 64,
   "metadata": {},
   "outputs": [
    {
     "data": {
      "text/plain": [
       "(5, 3, 3)"
      ]
     },
     "execution_count": 64,
     "metadata": {},
     "output_type": "execute_result"
    }
   ],
   "source": [
    "Π(φ,θ,ψ).shape"
   ]
  },
  {
   "cell_type": "code",
   "execution_count": 65,
   "metadata": {},
   "outputs": [],
   "source": [
    "def ωe(φ,θ,ψ):  # (100) in [2]\n",
    "    A=Π(φ,θ,ψ)\n",
    "#     print(A)\n",
    "    B=np.array([φ,θ,ψ]).T\n",
    "#     print(B)\n",
    "#     ans=[]\n",
    "#     for i in range(len(A)):\n",
    "#         ans.append(np.dot(A[i],B[i]))\n",
    "    return np.einsum('ijk,ik->ij', A,B)    \n",
    "#     return np.array(ans) \n",
    "#     ans=[]\n",
    "#     for i in range(len(φ)):\n",
    "#         ans.append(np.dot(Π(φ[i],θ[i],ψ[i]),np.array([φ[i],θ[i],ψ[i]])))  # (100) in [2]\n",
    "#     return np.vstack(ans)    "
   ]
  },
  {
   "cell_type": "code",
   "execution_count": 66,
   "metadata": {},
   "outputs": [],
   "source": [
    "# np.dot(np.matrix([[-0.13504574, -0.86320937,  0.        ],\n",
    "#   [ 0.23090749, -0.5048461 ,  0.        ],\n",
    "#   [-0.96355819,  0.,          1.        ]]),np.array([2.3, 1.3, 2.1]))"
   ]
  },
  {
   "cell_type": "code",
   "execution_count": 67,
   "metadata": {},
   "outputs": [
    {
     "data": {
      "text/plain": [
       "array([[-1.43277738, -0.1252127 , -0.11618383],\n",
       "       [-1.43277738, -0.1252127 , -0.11618383],\n",
       "       [-1.43277738, -0.1252127 , -0.11618383],\n",
       "       [-1.43277738, -0.1252127 , -0.11618383],\n",
       "       [-1.43277738, -0.1252127 , -0.11618383]])"
      ]
     },
     "execution_count": 67,
     "metadata": {},
     "output_type": "execute_result"
    }
   ],
   "source": [
    "ωe(φ,θ,ψ)"
   ]
  },
  {
   "cell_type": "code",
   "execution_count": 68,
   "metadata": {},
   "outputs": [],
   "source": [
    "diag_CR = 1e11*np.array([1, 1, 1]) \n",
    " \n",
    "CR=np.diag(diag_CR)"
   ]
  },
  {
   "cell_type": "code",
   "execution_count": 69,
   "metadata": {},
   "outputs": [],
   "source": [
    "def me(φ,θ,ψ):\n",
    "    A=np.multiply(np.multiply(Re_t(φ,θ,ψ),CR),Re_t(φ,θ,ψ))\n",
    "    B=ωe(φ,θ,ψ)\n",
    "    ans=[]\n",
    "    return np.einsum('ijk,ik->ij', A,B) \n",
    "#     for i in range(len(A)):\n",
    "#         ans.append(np.dot(A[i],B[i]))\n",
    "#     return np.array(ans)\n",
    "#     tmp=[]\n",
    "#     for i in range(len(φ)):\n",
    "#         tmp.append(np.dot(np.dot(Re_t(φ[i],θ[i],ψ[i]),CR),Re_t(φ[i],θ[i],ψ[i]).T))\n",
    "        \n",
    "#     tmp1= ωe(φ,θ,ψ)\n",
    "    \n",
    "#     ans=[]\n",
    "#     for i in range(len(tmp1)):\n",
    "#         ans.append(np.dot(np.array(tmp[i]),tmp1[i] ))\n",
    "#     return np.array(ans).reshape(3,-1)"
   ]
  },
  {
   "cell_type": "code",
   "execution_count": 70,
   "metadata": {},
   "outputs": [],
   "source": [
    "me_=me(φ,θ,ψ)"
   ]
  },
  {
   "cell_type": "code",
   "execution_count": 71,
   "metadata": {},
   "outputs": [
    {
     "data": {
      "text/plain": [
       "array([[-2.61300659e+09, -1.00902875e+09, -3.69060709e+08],\n",
       "       [-2.61300659e+09, -1.00902875e+09, -3.69060709e+08],\n",
       "       [-2.61300659e+09, -1.00902875e+09, -3.69060709e+08],\n",
       "       [-2.61300659e+09, -1.00902875e+09, -3.69060709e+08],\n",
       "       [-2.61300659e+09, -1.00902875e+09, -3.69060709e+08]])"
      ]
     },
     "execution_count": 71,
     "metadata": {},
     "output_type": "execute_result"
    }
   ],
   "source": [
    "me_"
   ]
  },
  {
   "cell_type": "code",
   "execution_count": 72,
   "metadata": {},
   "outputs": [],
   "source": [
    "diag_DR = 1.5*np.array([1, 1, 1]) \n",
    " \n",
    "DR=np.diag(diag_DR)"
   ]
  },
  {
   "cell_type": "code",
   "execution_count": 73,
   "metadata": {},
   "outputs": [],
   "source": [
    "# np.dot(Re_b, np.dot( Irho_e, (np.dot(Π(φ,θ,ψ), np.array([ddφ,ddθ,ddψ])))))=\n",
    "# -np.dot(Re_b,np.dot(Irho_e,np.dot(Π(dφ,dθ,dψ),np.array([dφ,dθ,dψ])))-\n",
    "# np.cross(np.dot(Π(φ,θ,ψ),np.array([dφ,dθ,dψ])),np.dot(Irho_e, np.dot(Π(φ,θ,ψ),np.array([dφ,dθ,dψ]))))+\n",
    "# np.dot(Re_b,d_s(me_[0],me_[1],me_[2],dt,ds)+d_s(me_[0],me_[1],me_[2],dt,ds))+\n",
    "# np.cross(d_s(x,y,z,dt,ds),ne(x,y,z,φ,θ,ψ,dt,ds))+\n",
    "# np.dot(Re_b,-np.dot(DR,np.dot(Π(φ,θ,ψ),np.array([dφ,dθ,dψ]))))"
   ]
  },
  {
   "cell_type": "code",
   "execution_count": 74,
   "metadata": {},
   "outputs": [
    {
     "data": {
      "text/plain": [
       "(3, 5)"
      ]
     },
     "execution_count": 74,
     "metadata": {},
     "output_type": "execute_result"
    }
   ],
   "source": [
    "ne_(x,y,z,dx,dy,dz).shape"
   ]
  },
  {
   "cell_type": "code",
   "execution_count": 75,
   "metadata": {},
   "outputs": [],
   "source": [
    "C=ne(x,y,z,φ,θ,ψ,dt,ds)\n",
    "  \n",
    "a,b,c=C[:,0],C[:,1],C[:,2]"
   ]
  },
  {
   "cell_type": "code",
   "execution_count": 76,
   "metadata": {},
   "outputs": [
    {
     "data": {
      "text/plain": [
       "(3, 5)"
      ]
     },
     "execution_count": 76,
     "metadata": {},
     "output_type": "execute_result"
    }
   ],
   "source": [
    "d_s(a,b,c,dt,ds).shape"
   ]
  },
  {
   "cell_type": "code",
   "execution_count": 77,
   "metadata": {},
   "outputs": [
    {
     "data": {
      "text/plain": [
       "(5, 3, 3)"
      ]
     },
     "execution_count": 77,
     "metadata": {},
     "output_type": "execute_result"
    }
   ],
   "source": [
    "Re_b(φ,θ,ψ).shape"
   ]
  },
  {
   "cell_type": "code",
   "execution_count": 78,
   "metadata": {},
   "outputs": [
    {
     "data": {
      "text/plain": [
       "array([[   -52.6516875 , -20832.19110425,    -74.46073054],\n",
       "       [   -52.6516875 ,    -74.46073054, -20832.19110425],\n",
       "       [-20810.3820612 ,    -74.46073054,    -74.46073054],\n",
       "       [   -52.6516875 , -20832.19110425,    -74.46073054],\n",
       "       [   -52.6516875 ,    -74.46073054, -20832.19110425]])"
      ]
     },
     "execution_count": 78,
     "metadata": {},
     "output_type": "execute_result"
    }
   ],
   "source": [
    "ne_(x,y,z,dx,dy,dz).T"
   ]
  },
  {
   "cell_type": "code",
   "execution_count": 79,
   "metadata": {},
   "outputs": [
    {
     "data": {
      "text/plain": [
       "(numpy.ndarray,\n",
       " array([0.3, 0.3, 0.3, 0.3, 0.3]),\n",
       " array([8.3, 8.3, 8.3, 8.3, 8.3]),\n",
       " array([0.3, 0.3, 0.3, 0.3, 0.3]),\n",
       " numpy.ndarray,\n",
       " array([0.3, 0.3, 0.3, 0.3, 0.3]))"
      ]
     },
     "execution_count": 79,
     "metadata": {},
     "output_type": "execute_result"
    }
   ],
   "source": [
    "type(x),y,z,dx,type(dy),dz"
   ]
  },
  {
   "cell_type": "code",
   "execution_count": 80,
   "metadata": {},
   "outputs": [
    {
     "data": {
      "text/plain": [
       "array([[  4693.02050378, -14854.21274363,  19309.31787368],\n",
       "       [-20101.37601926,   4151.56491178, -17066.84082255],\n",
       "       [-18054.58228812,  19479.23255169,  -6642.69770626],\n",
       "       [  4693.02050378, -14854.21274363,  19309.31787368],\n",
       "       [-20101.37601926,   4151.56491178, -17066.84082255]])"
      ]
     },
     "execution_count": 80,
     "metadata": {},
     "output_type": "execute_result"
    }
   ],
   "source": [
    "ne_(x,y,z,dx,dy,dz).T+np.einsum('ijk,ik->ij', Re_b(φ,θ,ψ),ne_(x,y,z,dx,dy,dz).T)"
   ]
  },
  {
   "cell_type": "code",
   "execution_count": 81,
   "metadata": {},
   "outputs": [],
   "source": [
    "def grayscott1d(Q, t, ds):\n",
    "#     print(type(Q))\n",
    "    x,y,z=Q[0::12],Q[2::12],Q[4::12]\n",
    "    dx,dy,dz=Q[1::12],Q[3::12],Q[5::12]\n",
    "#     print(dx,dy.shape, dx.shape)\n",
    "    φ,θ,ψ=Q[6::12],Q[8::12],Q[10::12]\n",
    "    dφ,dθ,dψ=Q[7::12],Q[9::12],Q[11::12]\n",
    "    \n",
    "    \n",
    "    ddx = np.empty_like(y)\n",
    "    ddy = np.empty_like(y)\n",
    "    ddz = np.empty_like(y)\n",
    "    ddφ = np.empty_like(y)\n",
    "    ddθ = np.empty_like(y)\n",
    "    ddψ= np.empty_like(y)\n",
    "    C=ne(x,y,z,φ,θ,ψ,dt,ds)\n",
    "  \n",
    "    a,b,c=C[:,0],C[:,1],C[:,2]\n",
    "#     print(a)\n",
    "    \n",
    "#     for it in [φ,θ,ψ,x,y,z,dx,dy,dz]:\n",
    "#         print(it)\n",
    "    # here single Re_b(φ,θ,ψ) etc.\n",
    "#     print(np.einsum('ijk,ik->ij', Re_b(φ,θ,ψ).astype(float), ne_(x,y,z,dx,dy,dz).astype(float).T))\n",
    "    ddx,ddy, ddz = (1/mp*(d_s(a,b,c,dt,ds).T + \n",
    "                          np.einsum('ijk,ik->ij', Re_b(φ,θ,ψ).astype(float), ne_(x,y,z,dx,dy,dz).astype(float).T)\n",
    "                         )).T\n",
    "#     print('ddx',ddx)                \n",
    "    \n",
    "    me_=me(φ,θ,ψ)\n",
    "#     print(Re_b(φ,θ,ψ).shape)\n",
    "#     print(Irho_e(φ,θ,ψ).shape)\n",
    "#     print(Irho_e(φ,θ,ψ).shape)\n",
    "\n",
    "    \n",
    "    C1=np.einsum('ijk,ik->ij', Re_b(φ,θ,ψ).astype(float), np.einsum('ijk,ik->ij', Irho_e(φ,θ,ψ).astype(float),\n",
    "                                                        np.einsum('ijk,ik->ij', Π(dφ,dθ,dψ).astype(float), np.array([dφ,dθ,dψ]).astype(float).T)))\n",
    "        \n",
    "    C2= np.cross(np.einsum('ijk,ik->ij',Π(φ,θ,ψ).astype(float),np.array([dφ,dθ,dψ]).astype(float).T),\n",
    "                 np.einsum('ijk,ik->ij',Irho_e(φ,θ,ψ).astype(float),\n",
    "                           np.einsum('ijk,ik->ij',Π(φ,θ,ψ).astype(float),np.array([dφ,dθ,dψ]).astype(float).T)))\n",
    "    \n",
    "#     print(Re_b(φ,θ,ψ).shape)\n",
    "# #     print(me_)\n",
    "# #     print(me_[:,0])\n",
    "#     print(d_s(me_[:,0],me_[:,1],me_[:,2],dt,ds).shape)\n",
    "# #     print(Irho_e(φ,θ,ψ).shape)\n",
    "    C3= np.einsum('ijk,ik->ij',Re_b(φ,θ,ψ).astype(float),d_s(me_[:,0],me_[:,1],me_[:, 2],dt,ds).astype(float).T)\n",
    "    \n",
    "#     print(d_s(x,y,z,dt,ds).shape)\n",
    "#     print(ne(x,y,z,φ,θ,ψ,dt,ds).T.shape)\n",
    "    C4= np.cross(d_s(x,y,z,dt,ds).T,ne(x,y,z,φ,θ,ψ,dt,ds))\n",
    "#     print(np.dot(DR,K).shape)\n",
    "#     print(Re_b(φ,θ,ψ).shape)\n",
    "#     print(np.dot(DR,K[:,0]))\n",
    "    K1=np.einsum('ijk,ik->ij',Π(φ,θ,ψ).astype(float),np.array([dφ,dθ,dψ]).astype(float).T).T\n",
    "    C5= np.einsum('ijk,ik->ij',Re_b(φ,θ,ψ).astype(float),-np.dot(DR,K1).astype(float).T)\n",
    "#     print(C1.shape)\n",
    "#     print(C2.shape)\n",
    "#     print(C3.shape)\n",
    "#     print(C4.shape)\n",
    "#     print(C5.shape)\n",
    "    B =-C1-C2+C3+C4+C5\n",
    "#     print(Re_b(φ,θ,ψ).shape)\n",
    "#     print(Irho_e(φ,θ,ψ).shape)\n",
    "#     print(Π(φ,θ,ψ).shape)\n",
    "    A1 =Re_b(φ,θ,ψ).astype(float)\n",
    "    A2 = Irho_e(φ,θ,ψ).astype(float)\n",
    "    A3=Π(φ,θ,ψ).astype(float)\n",
    "#     print(np.einsum('ijk,ijk->ijk',A1,A2))\n",
    "#     print('A1',A1)\n",
    "#     print(A1)\n",
    "#     print('bu',A1[0])\n",
    "#     print('hey', np.dot(A1[0],A2[0]))\n",
    "#     print('op', np.einsum('ijk,ikr->ijr',A1,A2))\n",
    "#     print(Π(φ,θ,ψ).shape)\n",
    "    A=np.einsum('ijk,ikr->ijr',np.einsum('ijk,ikr->ijr',A1,A2),A3)\n",
    "#     print(A.shape)\n",
    "#     print(B.shape)\n",
    "#     print(np.linalg.solve(A,B) ) \n",
    "    ddφ,ddθ,ddψ = np.linalg.solve(A,B).T \n",
    "#     print(ddφ)\n",
    "#     print(np.concatenate([dx, ddx, dy, ddy, dz, ddz, dφ, ddφ, dθ, ddθ, dψ, ddψ]))\n",
    "    \n",
    "    return np.concatenate([dx, ddx, dy, ddy, dz, ddz, dφ, ddφ, dθ, ddθ, dψ, ddψ])\n",
    "    "
   ]
  },
  {
   "cell_type": "code",
   "execution_count": null,
   "metadata": {},
   "outputs": [],
   "source": []
  },
  {
   "cell_type": "code",
   "execution_count": null,
   "metadata": {},
   "outputs": [],
   "source": []
  },
  {
   "cell_type": "code",
   "execution_count": 82,
   "metadata": {},
   "outputs": [],
   "source": [
    "rng = np.random.default_rng()\n",
    "q0=rng.standard_normal(12*node_N)"
   ]
  },
  {
   "cell_type": "code",
   "execution_count": 83,
   "metadata": {},
   "outputs": [
    {
     "name": "stdout",
     "output_type": "stream",
     "text": [
      "20\n"
     ]
    }
   ],
   "source": [
    "# q0=[i for i in range(12)]\n",
    "max_t = 10  \n",
    "dt = 0.5\n",
    "t=np.arange(0,max_t,dt)\n",
    "ds = 0.025\n",
    "print(len(t))"
   ]
  },
  {
   "cell_type": "code",
   "execution_count": 84,
   "metadata": {},
   "outputs": [],
   "source": [
    "from datetime import datetime\n",
    "from scipy.integrate import odeint"
   ]
  },
  {
   "cell_type": "code",
   "execution_count": 85,
   "metadata": {},
   "outputs": [
    {
     "name": "stderr",
     "output_type": "stream",
     "text": [
      "/Library/Frameworks/Python.framework/Versions/3.7/lib/python3.7/site-packages/ipykernel_launcher.py:15: VisibleDeprecationWarning: Creating an ndarray from ragged nested sequences (which is a list-or-tuple of lists-or-tuples-or ndarrays with different lengths or shapes) is deprecated. If you meant to do this, you must specify 'dtype=object' when creating the ndarray.\n",
      "  from ipykernel import kernelapp as app\n"
     ]
    },
    {
     "name": "stdout",
     "output_type": "stream",
     "text": [
      "0:00:31.452279\n"
     ]
    },
    {
     "name": "stderr",
     "output_type": "stream",
     "text": [
      "/Library/Frameworks/Python.framework/Versions/3.7/lib/python3.7/site-packages/scipy/integrate/odepack.py:247: ODEintWarning: Excess work done on this call (perhaps wrong Dfun type). Run with full_output = 1 to get quantitative information.\n",
      "  warnings.warn(warning_msg, ODEintWarning)\n"
     ]
    }
   ],
   "source": [
    "startTime1 = datetime.now()\n",
    "us=odeint(grayscott1d, q0, t, args=(ds,))\n",
    "print(datetime.now() - startTime1)"
   ]
  },
  {
   "cell_type": "code",
   "execution_count": 86,
   "metadata": {},
   "outputs": [
    {
     "data": {
      "text/plain": [
       "(20, 60)"
      ]
     },
     "execution_count": 86,
     "metadata": {},
     "output_type": "execute_result"
    }
   ],
   "source": [
    "us.shape"
   ]
  },
  {
   "cell_type": "code",
   "execution_count": 87,
   "metadata": {},
   "outputs": [
    {
     "data": {
      "text/plain": [
       "array([[ 1.98392767e+00,  1.79674291e+00,  4.83324650e-02, ...,\n",
       "        -1.04440054e+00,  1.00531324e+00, -2.66617204e+00],\n",
       "       [ 1.98392767e+00,  1.79674291e+00,  4.83324650e-02, ...,\n",
       "        -1.15079180e+00,  1.26673244e+00,  6.97538239e+02],\n",
       "       [ 0.00000000e+00,  0.00000000e+00,  0.00000000e+00, ...,\n",
       "         0.00000000e+00,  0.00000000e+00,  0.00000000e+00],\n",
       "       ...,\n",
       "       [ 0.00000000e+00,  0.00000000e+00,  0.00000000e+00, ...,\n",
       "         0.00000000e+00,  0.00000000e+00,  0.00000000e+00],\n",
       "       [ 0.00000000e+00,  0.00000000e+00,  0.00000000e+00, ...,\n",
       "         0.00000000e+00,  0.00000000e+00,  0.00000000e+00],\n",
       "       [ 0.00000000e+00,  0.00000000e+00,  0.00000000e+00, ...,\n",
       "         0.00000000e+00,  0.00000000e+00,  0.00000000e+00]])"
      ]
     },
     "execution_count": 87,
     "metadata": {},
     "output_type": "execute_result"
    }
   ],
   "source": [
    "us"
   ]
  },
  {
   "cell_type": "code",
   "execution_count": null,
   "metadata": {},
   "outputs": [],
   "source": []
  },
  {
   "cell_type": "code",
   "execution_count": null,
   "metadata": {},
   "outputs": [],
   "source": []
  },
  {
   "cell_type": "code",
   "execution_count": null,
   "metadata": {},
   "outputs": [],
   "source": []
  },
  {
   "cell_type": "code",
   "execution_count": null,
   "metadata": {},
   "outputs": [],
   "source": []
  },
  {
   "cell_type": "code",
   "execution_count": null,
   "metadata": {},
   "outputs": [],
   "source": []
  },
  {
   "cell_type": "code",
   "execution_count": null,
   "metadata": {},
   "outputs": [],
   "source": []
  },
  {
   "cell_type": "code",
   "execution_count": null,
   "metadata": {},
   "outputs": [],
   "source": []
  },
  {
   "cell_type": "code",
   "execution_count": null,
   "metadata": {},
   "outputs": [],
   "source": []
  },
  {
   "cell_type": "code",
   "execution_count": null,
   "metadata": {},
   "outputs": [],
   "source": []
  },
  {
   "cell_type": "code",
   "execution_count": null,
   "metadata": {},
   "outputs": [],
   "source": []
  },
  {
   "cell_type": "code",
   "execution_count": null,
   "metadata": {},
   "outputs": [],
   "source": []
  },
  {
   "cell_type": "code",
   "execution_count": null,
   "metadata": {},
   "outputs": [],
   "source": []
  },
  {
   "cell_type": "code",
   "execution_count": null,
   "metadata": {},
   "outputs": [],
   "source": []
  },
  {
   "cell_type": "code",
   "execution_count": null,
   "metadata": {},
   "outputs": [],
   "source": []
  },
  {
   "cell_type": "code",
   "execution_count": null,
   "metadata": {},
   "outputs": [],
   "source": []
  },
  {
   "cell_type": "code",
   "execution_count": null,
   "metadata": {},
   "outputs": [],
   "source": [
    "def psi(gamma,omega,Ct,Cr):\n",
    "    coord=np.concatenate((gamma, omega), axis=0)\n",
    "    zero=np.zeros((3,3))\n",
    "    M1=np.concatenate((Ct, zero), axis=0)\n",
    "    M2=np.concatenate((zero, Cr), axis=0)\n",
    "    M=np.concatenate((M1, M2), axis=1)\n",
    "    return 1/2*np.dot(np.dot(coord.T,M),coord)"
   ]
  },
  {
   "cell_type": "code",
   "execution_count": null,
   "metadata": {},
   "outputs": [],
   "source": [
    "from sympy import *"
   ]
  },
  {
   "cell_type": "code",
   "execution_count": null,
   "metadata": {},
   "outputs": [],
   "source": [
    "gamma1, gamma2,gamma3 = symbols(\"gamma1 gamma2 gamma3\")\n",
    "omega1, omega2,omega3 = symbols(\"omega1 omega2 omega3\")"
   ]
  },
  {
   "cell_type": "code",
   "execution_count": null,
   "metadata": {},
   "outputs": [],
   "source": [
    "gamma=np.array([gamma1, gamma2,gamma3])\n",
    "omega=np.array([omega1, omega2,omega3])"
   ]
  },
  {
   "cell_type": "code",
   "execution_count": null,
   "metadata": {},
   "outputs": [],
   "source": []
  },
  {
   "cell_type": "code",
   "execution_count": null,
   "metadata": {},
   "outputs": [],
   "source": [
    "Ct=np.matrix([[1,0,0],[0,2,0],[0,0,3]])\n",
    "Cr=np.matrix([[4,0,0],[0,5,0],[0,0,6]])"
   ]
  },
  {
   "cell_type": "code",
   "execution_count": null,
   "metadata": {},
   "outputs": [],
   "source": [
    "psi(gamma,omega,Ct,Cr)"
   ]
  },
  {
   "cell_type": "code",
   "execution_count": null,
   "metadata": {},
   "outputs": [],
   "source": [
    "fun = lambda x, y: psi(x,y,Ct,Cr)"
   ]
  },
  {
   "cell_type": "code",
   "execution_count": null,
   "metadata": {},
   "outputs": [],
   "source": [
    "Dfun = nd.Gradient(fun)"
   ]
  },
  {
   "cell_type": "code",
   "execution_count": null,
   "metadata": {},
   "outputs": [],
   "source": [
    "Dfun()"
   ]
  },
  {
   "cell_type": "code",
   "execution_count": null,
   "metadata": {},
   "outputs": [],
   "source": [
    "# coord=np.concatenate((gamma, omega), axis=0)"
   ]
  },
  {
   "cell_type": "code",
   "execution_count": null,
   "metadata": {},
   "outputs": [],
   "source": [
    "gamma"
   ]
  },
  {
   "cell_type": "code",
   "execution_count": null,
   "metadata": {},
   "outputs": [],
   "source": [
    "omega"
   ]
  },
  {
   "cell_type": "code",
   "execution_count": null,
   "metadata": {},
   "outputs": [],
   "source": [
    "Dfun(gamma,omega)"
   ]
  },
  {
   "cell_type": "code",
   "execution_count": null,
   "metadata": {},
   "outputs": [],
   "source": [
    "Dfun"
   ]
  },
  {
   "cell_type": "code",
   "execution_count": null,
   "metadata": {},
   "outputs": [],
   "source": []
  }
 ],
 "metadata": {
  "kernelspec": {
   "display_name": "Python 3",
   "language": "python",
   "name": "python3"
  },
  "language_info": {
   "codemirror_mode": {
    "name": "ipython",
    "version": 3
   },
   "file_extension": ".py",
   "mimetype": "text/x-python",
   "name": "python",
   "nbconvert_exporter": "python",
   "pygments_lexer": "ipython3",
   "version": "3.7.7"
  }
 },
 "nbformat": 4,
 "nbformat_minor": 4
}
