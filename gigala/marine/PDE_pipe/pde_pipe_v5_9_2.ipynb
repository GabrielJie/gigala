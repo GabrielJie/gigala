{
 "cells": [
  {
   "cell_type": "markdown",
   "metadata": {},
   "source": [
    "#### Model taken from:\n",
    "- [1] Offshore Pipelaying Dynamics. Gullik Anthon Jensen \n",
    "- [2] A nonlinear PDE formulation for offshore vessel pipeline installation. Gullik A. Jensen et al \n",
    "- [3] Modeling and Control of Offshore Pipelay Operations Based on a Finite Strain Pipe Model. Gullik A. Jensen "
   ]
  },
  {
   "cell_type": "code",
   "execution_count": 1,
   "metadata": {},
   "outputs": [],
   "source": [
    "import numpy as np\n",
    "import math\n",
    "import matplotlib.pyplot as plt\n",
    "from datetime import datetime\n",
    "from scipy.optimize import fsolve\n",
    "from scipy.integrate import solve_ivp\n",
    "from scipy import interpolate"
   ]
  },
  {
   "cell_type": "code",
   "execution_count": 2,
   "metadata": {},
   "outputs": [],
   "source": [
    "import sys\n",
    "sys.path.insert(0, \"../../../../Ocean_Intella/PythonVehicleSimulator-master/src/python_vehicle_simulator\")\n",
    "sys.path.insert(0, \"../../../../Ocean_Intella/PythonVehicleSimulator-master/src\")"
   ]
  },
  {
   "cell_type": "code",
   "execution_count": 3,
   "metadata": {},
   "outputs": [],
   "source": [
    "from python_vehicle_simulator.vehicles import *\n",
    "from python_vehicle_simulator.lib import *\n",
    "from python_vehicle_simulator.lib.gnc import ssa"
   ]
  },
  {
   "cell_type": "code",
   "execution_count": 4,
   "metadata": {},
   "outputs": [],
   "source": [
    "mp = 96 #  (submerged) [kg/m]"
   ]
  },
  {
   "cell_type": "code",
   "execution_count": 5,
   "metadata": {},
   "outputs": [],
   "source": [
    "node_N = 50"
   ]
  },
  {
   "cell_type": "code",
   "execution_count": 6,
   "metadata": {},
   "outputs": [],
   "source": [
    "mi = [mp for i in range(node_N)] "
   ]
  },
  {
   "cell_type": "code",
   "execution_count": 7,
   "metadata": {},
   "outputs": [],
   "source": [
    "# L - the hull length\n",
    "# Xg - x-center of gravity\n",
    "L = 169 # [m]\n",
    "Xg = 78 # [m]\n",
    "mn = 123000000 # 32219000   # mass of the vessel, [kg]  Solitaire type vessel \n",
    "kp, kd=1.95e4,1.5e4"
   ]
  },
  {
   "cell_type": "code",
   "execution_count": 8,
   "metadata": {},
   "outputs": [],
   "source": [
    "vessel_mass=mn/L # mass over length of vessel"
   ]
  },
  {
   "cell_type": "code",
   "execution_count": 9,
   "metadata": {},
   "outputs": [],
   "source": [
    "diag_Irho = 1e2*np.array([1, 1, 2]) # [m^4]  , p.99 in [1]\n",
    " \n",
    "Irho=np.diag(diag_Irho)"
   ]
  },
  {
   "cell_type": "code",
   "execution_count": 10,
   "metadata": {},
   "outputs": [
    {
     "data": {
      "text/plain": [
       "array([[100.,   0.,   0.],\n",
       "       [  0., 100.,   0.],\n",
       "       [  0.,   0., 200.]])"
      ]
     },
     "execution_count": 10,
     "metadata": {},
     "output_type": "execute_result"
    }
   ],
   "source": [
    "Irho"
   ]
  },
  {
   "cell_type": "code",
   "execution_count": 11,
   "metadata": {},
   "outputs": [],
   "source": [
    "# Fossen book p.181\n",
    "def vessel_inertia_moment(mn, Xg, L):\n",
    "    r = 0.25*L\n",
    "    Ir = mn*r**2\n",
    "    Iz=mn*Xg**2 + Ir\n",
    "    return Iz"
   ]
  },
  {
   "cell_type": "code",
   "execution_count": 12,
   "metadata": {},
   "outputs": [],
   "source": [
    "vessel_inertia = vessel_inertia_moment(mn, Xg, L)"
   ]
  },
  {
   "cell_type": "code",
   "execution_count": 13,
   "metadata": {},
   "outputs": [],
   "source": [
    "Irho+=vessel_inertia"
   ]
  },
  {
   "cell_type": "code",
   "execution_count": 14,
   "metadata": {},
   "outputs": [],
   "source": [
    "qw = 1025 # Water density [kg/m3]\n",
    "d0 = 0.761 # Outer diameter of pipe, [m]\n",
    "dI= 0.69 # Inner diameter of pipe, [m]"
   ]
  },
  {
   "cell_type": "code",
   "execution_count": 15,
   "metadata": {},
   "outputs": [],
   "source": [
    "Ar=math.pi*((d0/2)**2-(dI/2)**2)"
   ]
  },
  {
   "cell_type": "code",
   "execution_count": 16,
   "metadata": {},
   "outputs": [],
   "source": [
    "diag_DT = 1.5*np.array([1, 1, 1]) "
   ]
  },
  {
   "cell_type": "code",
   "execution_count": 17,
   "metadata": {},
   "outputs": [],
   "source": [
    "DT=np.diag(diag_DT) # (35) in [2]"
   ]
  },
  {
   "cell_type": "code",
   "execution_count": 18,
   "metadata": {},
   "outputs": [
    {
     "data": {
      "text/plain": [
       "array([[1.5, 0. , 0. ],\n",
       "       [0. , 1.5, 0. ],\n",
       "       [0. , 0. , 1.5]])"
      ]
     },
     "execution_count": 18,
     "metadata": {},
     "output_type": "execute_result"
    }
   ],
   "source": [
    "DT"
   ]
  },
  {
   "cell_type": "code",
   "execution_count": 19,
   "metadata": {},
   "outputs": [],
   "source": [
    "diag_CT = 1e9*np.array([1, 1, 1]) # [Nm2] p. 4721 in [3]"
   ]
  },
  {
   "cell_type": "code",
   "execution_count": 20,
   "metadata": {},
   "outputs": [],
   "source": [
    "CT=np.diag(diag_CT)"
   ]
  },
  {
   "cell_type": "code",
   "execution_count": 21,
   "metadata": {},
   "outputs": [
    {
     "data": {
      "text/plain": [
       "array([[1.e+09, 0.e+00, 0.e+00],\n",
       "       [0.e+00, 1.e+09, 0.e+00],\n",
       "       [0.e+00, 0.e+00, 1.e+09]])"
      ]
     },
     "execution_count": 21,
     "metadata": {},
     "output_type": "execute_result"
    }
   ],
   "source": [
    "CT"
   ]
  },
  {
   "cell_type": "code",
   "execution_count": 22,
   "metadata": {},
   "outputs": [],
   "source": [
    "# angles should be in radians, otherwise np.radians them  \n",
    "def Re_t_(arr):\n",
    "    φ,θ,ψ=arr[0],arr[1],arr[2]\n",
    "  \n",
    "    Cφ=np.matrix([[1,0,0],\n",
    "                      [0,np.cos(φ),-np.sin(φ)],\n",
    "                      [0,np.sin(φ),np.cos(φ)]])\n",
    "\n",
    "    Cθ=np.matrix([[np.cos(θ),0,np.sin(θ)],\n",
    "                      [0,1,0],\n",
    "                      [-np.sin(θ),0,np.cos(θ)]])\n",
    "\n",
    "    Cψ=np.matrix([[np.cos(ψ),-np.sin(ψ),0],\n",
    "                      [np.sin(ψ),np.cos(ψ),0],\n",
    "                      [0,0,1]])\n",
    "        \n",
    "\n",
    "    return np.array(np.dot(np.dot(Cφ,Cθ),Cψ) )"
   ]
  },
  {
   "cell_type": "code",
   "execution_count": 23,
   "metadata": {},
   "outputs": [
    {
     "data": {
      "text/plain": [
       "array([[ 0.41198225,  0.05872664,  0.90929743],\n",
       "       [-0.68124272, -0.64287284,  0.35017549],\n",
       "       [ 0.60512725, -0.76371834, -0.2248451 ]])"
      ]
     },
     "execution_count": 23,
     "metadata": {},
     "output_type": "execute_result"
    }
   ],
   "source": [
    "Re_t_([1,2,3])"
   ]
  },
  {
   "cell_type": "code",
   "execution_count": 24,
   "metadata": {},
   "outputs": [],
   "source": [
    "rng = np.random.default_rng()"
   ]
  },
  {
   "cell_type": "code",
   "execution_count": 25,
   "metadata": {},
   "outputs": [],
   "source": [
    "φ, θ, ψ = rng.standard_normal(node_N),rng.standard_normal(node_N),rng.standard_normal(node_N)"
   ]
  },
  {
   "cell_type": "code",
   "execution_count": 26,
   "metadata": {},
   "outputs": [],
   "source": [
    "def Re_t(a,b,c):\n",
    "    xyz=np.stack((a,b,c), axis=1)\n",
    "    return np.apply_along_axis(Re_t_, 1, xyz)"
   ]
  },
  {
   "cell_type": "code",
   "execution_count": 27,
   "metadata": {},
   "outputs": [
    {
     "data": {
      "text/plain": [
       "array([[ 0.99532225, -0.08089709,  0.05281358],\n",
       "       [-0.01959329,  0.36627766,  0.9302993 ],\n",
       "       [-0.09460294, -0.92698238,  0.36297926]])"
      ]
     },
     "execution_count": 27,
     "metadata": {},
     "output_type": "execute_result"
    }
   ],
   "source": [
    "Re_t_(np.array([φ[0], θ[0], ψ[0]]))"
   ]
  },
  {
   "cell_type": "code",
   "execution_count": 28,
   "metadata": {
    "scrolled": true
   },
   "outputs": [
    {
     "name": "stdout",
     "output_type": "stream",
     "text": [
      "0:00:00.006453\n"
     ]
    }
   ],
   "source": [
    "startTime1 = datetime.now()\n",
    "Ret=Re_t(φ,θ,ψ)\n",
    "print(datetime.now() - startTime1)"
   ]
  },
  {
   "cell_type": "code",
   "execution_count": 29,
   "metadata": {},
   "outputs": [
    {
     "data": {
      "text/plain": [
       "(50, 3, 3)"
      ]
     },
     "execution_count": 29,
     "metadata": {},
     "output_type": "execute_result"
    }
   ],
   "source": [
    "Ret.shape"
   ]
  },
  {
   "cell_type": "code",
   "execution_count": 30,
   "metadata": {},
   "outputs": [],
   "source": [
    "dx,dy,dz=rng.standard_normal(node_N),rng.standard_normal(node_N),rng.standard_normal(node_N)"
   ]
  },
  {
   "cell_type": "code",
   "execution_count": 31,
   "metadata": {},
   "outputs": [],
   "source": [
    "def C1(dx,dy,dz, Ret):\n",
    "    B=np.vstack([np.abs(dx)*dx,(dy**2+dz**2)**0.5*dy,(dy**2+dz**2)**0.5*dz])\n",
    "    ans=np.einsum('ijk,ik->ij', Ret, np.einsum('ijk,ik->ij', Ret,B.T.astype(np.float32))) \n",
    "    return ans.T"
   ]
  },
  {
   "cell_type": "code",
   "execution_count": 32,
   "metadata": {},
   "outputs": [
    {
     "name": "stdout",
     "output_type": "stream",
     "text": [
      "0:00:00.002578\n"
     ]
    }
   ],
   "source": [
    "startTime1 = datetime.now()\n",
    "C1(dx,dy,dz,Ret)\n",
    "print(datetime.now() - startTime1)"
   ]
  },
  {
   "cell_type": "code",
   "execution_count": 33,
   "metadata": {},
   "outputs": [],
   "source": [
    "def fD(dx,dy,dz,DT,Ret):\n",
    "    return 1/2*d0*qw*np.dot(DT, C1(dx,dy,dz,Ret))*9.81"
   ]
  },
  {
   "cell_type": "code",
   "execution_count": 34,
   "metadata": {},
   "outputs": [
    {
     "data": {
      "text/plain": [
       "array([[-30656.78828195,   9439.90274274,   8860.11154236],\n",
       "       [  3226.64279464,  -1416.99522972,   9853.61501403],\n",
       "       [ 24388.85178489, -26309.89865226,  -1151.91293418],\n",
       "       [ -2420.07420186,  -1115.28134291, -10233.13852246],\n",
       "       [   774.32754631,   4821.70156352,   1753.80156049],\n",
       "       [  -735.83359837,   4103.82374196,  -3019.19854282],\n",
       "       [-10200.42601874,  14076.21285565,  -1286.08572106],\n",
       "       [ -9782.74213757,  -8775.57170311, -13383.37608422],\n",
       "       [  1010.79446392,    912.90370767,  -2101.05258728],\n",
       "       [ 14148.32560208,  14299.74763536, -20242.85112274],\n",
       "       [  3451.16825823,  -8768.17481524,  -1590.42251537],\n",
       "       [ 15984.77568769,  -8486.98145067, -22009.94500205],\n",
       "       [  2135.89434838,  12489.97883568, -26156.70053077],\n",
       "       [ -2540.1831285 ,   1490.92916885,    477.41572524],\n",
       "       [  7690.47766401,  -3271.37893668,   1621.48710063],\n",
       "       [  2366.63859598,   9749.21370762,  -1431.96329547],\n",
       "       [   973.86130827,   -265.2328993 ,  -2796.41668769],\n",
       "       [ -4303.57302759,  16425.91405887,  -7362.5688776 ],\n",
       "       [  -386.40294719,    984.77423268, -12861.55414122],\n",
       "       [ -9455.28240562,  -1602.7534461 ,  10221.95664111],\n",
       "       [ -3120.18320821,  -1373.52580759,   5214.57889992],\n",
       "       [-32075.31565145,  19502.63481161,  10166.59501994],\n",
       "       [  8032.94168655,  -5660.36781827, -10240.07115161],\n",
       "       [ 12420.46460384, -19286.22724681,  -8076.40067492],\n",
       "       [ -1159.59465644,   1164.16819135,   8831.29319866],\n",
       "       [ -4314.01632163,   6340.06628391,  -2110.82991421],\n",
       "       [  -596.93323362,   3516.82235798,  -6410.55220972],\n",
       "       [  5227.47452118,   2902.89406059,   3107.94541571],\n",
       "       [  -708.85652199,    118.47069698,  -7076.8965912 ],\n",
       "       [  3606.0105744 ,   -522.48696499,   7317.03301229],\n",
       "       [  1236.7960067 ,   1064.91880901,   -615.55323569],\n",
       "       [ -2497.0661464 ,  11083.15035662,   9019.18722982],\n",
       "       [  -127.11134137,  -5470.65521428,  22574.25099013],\n",
       "       [-10795.91721875, -12318.82391837,  -1422.54052295],\n",
       "       [ -6336.78652722, -34874.41148368,   1061.34193195],\n",
       "       [ -1434.80978972,   4079.66883364,   3136.38862297],\n",
       "       [  2205.4508915 ,   5073.59161295,   1506.28497978],\n",
       "       [ -6934.47303611,   3961.15006579, -14295.47342403],\n",
       "       [ -4396.76954786, -16869.27915243,  18721.69367438],\n",
       "       [  -952.79921175,  20159.2722137 ,  12571.05755184],\n",
       "       [ -1852.23479893,   3931.38832244,  -5753.78161567],\n",
       "       [-11056.24975316,  -4921.36371431,  -6355.80776082],\n",
       "       [-11137.86931702,   2009.36811616,  12095.85156169],\n",
       "       [  3873.75293425,    829.14054478,   7523.50476358],\n",
       "       [  3886.59628481,   -594.92032125,   -978.25767381],\n",
       "       [  2294.71651031,   3287.41914507,   5975.02693487],\n",
       "       [  6424.67660648, -21311.39629797,  21891.82011082],\n",
       "       [  3673.6310471 ,  -1752.92521836,   -683.95598099],\n",
       "       [-37922.55177157,   -508.96772206, -19909.07062374],\n",
       "       [  5064.29543158,  -3861.4857424 , -12384.59201924]])"
      ]
     },
     "execution_count": 34,
     "metadata": {},
     "output_type": "execute_result"
    }
   ],
   "source": [
    "fD(dx,dy,dz,DT,Ret).T"
   ]
  },
  {
   "cell_type": "code",
   "execution_count": 35,
   "metadata": {},
   "outputs": [
    {
     "name": "stdout",
     "output_type": "stream",
     "text": [
      "0:00:00.000394\n"
     ]
    }
   ],
   "source": [
    "startTime1 = datetime.now()\n",
    "fD(dx,dy,dz,DT,Ret)\n",
    "print(datetime.now() - startTime1)"
   ]
  },
  {
   "cell_type": "code",
   "execution_count": 36,
   "metadata": {},
   "outputs": [],
   "source": [
    "# https://docs.scipy.org/doc/scipy-1.8.0/tutorial/integrate.html  \n",
    "# 1-D Gray-Scott "
   ]
  },
  {
   "cell_type": "code",
   "execution_count": 37,
   "metadata": {},
   "outputs": [],
   "source": [
    "I=np.identity(3)"
   ]
  },
  {
   "cell_type": "code",
   "execution_count": 38,
   "metadata": {},
   "outputs": [
    {
     "name": "stdout",
     "output_type": "stream",
     "text": [
      "0:00:00.000237\n"
     ]
    }
   ],
   "source": [
    "startTime1 = datetime.now()\n",
    "np.dot(I,fD(dx,dy,dz,DT,Ret))\n",
    "print(datetime.now() - startTime1)"
   ]
  },
  {
   "cell_type": "code",
   "execution_count": 39,
   "metadata": {},
   "outputs": [],
   "source": [
    "Rb_t=I # https://www.researchgate.net/profile/Thor-Fossen/publication/224560837_Modeling_and_Control_of_Offshore_Pipelay_Operations_Based_on_a_Finite_Strain_Pipe_Model/links/00b7d520e175a3f918000000/Modeling-and-Control-of-Offshore-Pipelay-Operations-Based-on-a-Finite-Strain-Pipe-Model.pdf"
   ]
  },
  {
   "cell_type": "code",
   "execution_count": 40,
   "metadata": {},
   "outputs": [
    {
     "data": {
      "text/plain": [
       "array([[1., 0., 0.],\n",
       "       [0., 1., 0.],\n",
       "       [0., 0., 1.]])"
      ]
     },
     "execution_count": 40,
     "metadata": {},
     "output_type": "execute_result"
    }
   ],
   "source": [
    "Rb_t"
   ]
  },
  {
   "cell_type": "code",
   "execution_count": 41,
   "metadata": {},
   "outputs": [],
   "source": [
    "diag_DR = 1.5*np.array([1, 1, 1]) # [N m/rad]  p.4721 in [3]"
   ]
  },
  {
   "cell_type": "code",
   "execution_count": 42,
   "metadata": {},
   "outputs": [],
   "source": [
    "DR=np.diag(diag_DR) "
   ]
  },
  {
   "cell_type": "code",
   "execution_count": 43,
   "metadata": {},
   "outputs": [
    {
     "data": {
      "text/plain": [
       "0.08091250419136858"
      ]
     },
     "execution_count": 43,
     "metadata": {},
     "output_type": "execute_result"
    }
   ],
   "source": [
    "Ar"
   ]
  },
  {
   "cell_type": "code",
   "execution_count": 44,
   "metadata": {},
   "outputs": [],
   "source": [
    "fg_e=np.array([[0,0,(mp-qw*Ar)*9.81] for x in range(node_N)])"
   ]
  },
  {
   "cell_type": "code",
   "execution_count": 45,
   "metadata": {},
   "outputs": [
    {
     "data": {
      "text/plain": [
       "array([[  0.        ,   0.        , 128.16454223],\n",
       "       [  0.        ,   0.        , 128.16454223],\n",
       "       [  0.        ,   0.        , 128.16454223],\n",
       "       [  0.        ,   0.        , 128.16454223],\n",
       "       [  0.        ,   0.        , 128.16454223],\n",
       "       [  0.        ,   0.        , 128.16454223],\n",
       "       [  0.        ,   0.        , 128.16454223],\n",
       "       [  0.        ,   0.        , 128.16454223],\n",
       "       [  0.        ,   0.        , 128.16454223],\n",
       "       [  0.        ,   0.        , 128.16454223],\n",
       "       [  0.        ,   0.        , 128.16454223],\n",
       "       [  0.        ,   0.        , 128.16454223],\n",
       "       [  0.        ,   0.        , 128.16454223],\n",
       "       [  0.        ,   0.        , 128.16454223],\n",
       "       [  0.        ,   0.        , 128.16454223],\n",
       "       [  0.        ,   0.        , 128.16454223],\n",
       "       [  0.        ,   0.        , 128.16454223],\n",
       "       [  0.        ,   0.        , 128.16454223],\n",
       "       [  0.        ,   0.        , 128.16454223],\n",
       "       [  0.        ,   0.        , 128.16454223],\n",
       "       [  0.        ,   0.        , 128.16454223],\n",
       "       [  0.        ,   0.        , 128.16454223],\n",
       "       [  0.        ,   0.        , 128.16454223],\n",
       "       [  0.        ,   0.        , 128.16454223],\n",
       "       [  0.        ,   0.        , 128.16454223],\n",
       "       [  0.        ,   0.        , 128.16454223],\n",
       "       [  0.        ,   0.        , 128.16454223],\n",
       "       [  0.        ,   0.        , 128.16454223],\n",
       "       [  0.        ,   0.        , 128.16454223],\n",
       "       [  0.        ,   0.        , 128.16454223],\n",
       "       [  0.        ,   0.        , 128.16454223],\n",
       "       [  0.        ,   0.        , 128.16454223],\n",
       "       [  0.        ,   0.        , 128.16454223],\n",
       "       [  0.        ,   0.        , 128.16454223],\n",
       "       [  0.        ,   0.        , 128.16454223],\n",
       "       [  0.        ,   0.        , 128.16454223],\n",
       "       [  0.        ,   0.        , 128.16454223],\n",
       "       [  0.        ,   0.        , 128.16454223],\n",
       "       [  0.        ,   0.        , 128.16454223],\n",
       "       [  0.        ,   0.        , 128.16454223],\n",
       "       [  0.        ,   0.        , 128.16454223],\n",
       "       [  0.        ,   0.        , 128.16454223],\n",
       "       [  0.        ,   0.        , 128.16454223],\n",
       "       [  0.        ,   0.        , 128.16454223],\n",
       "       [  0.        ,   0.        , 128.16454223],\n",
       "       [  0.        ,   0.        , 128.16454223],\n",
       "       [  0.        ,   0.        , 128.16454223],\n",
       "       [  0.        ,   0.        , 128.16454223],\n",
       "       [  0.        ,   0.        , 128.16454223],\n",
       "       [  0.        ,   0.        , 128.16454223]])"
      ]
     },
     "execution_count": 45,
     "metadata": {},
     "output_type": "execute_result"
    }
   ],
   "source": [
    "fg_e"
   ]
  },
  {
   "cell_type": "code",
   "execution_count": 46,
   "metadata": {},
   "outputs": [],
   "source": [
    "x,y,z=100*rng.standard_normal(node_N),100*rng.standard_normal(node_N),100*rng.standard_normal(node_N)"
   ]
  },
  {
   "cell_type": "code",
   "execution_count": 47,
   "metadata": {},
   "outputs": [],
   "source": [
    "def Re_b(Ret):\n",
    "    return Ret"
   ]
  },
  {
   "cell_type": "code",
   "execution_count": 48,
   "metadata": {},
   "outputs": [
    {
     "name": "stdout",
     "output_type": "stream",
     "text": [
      "0:00:00.000139\n"
     ]
    }
   ],
   "source": [
    "startTime1 = datetime.now()\n",
    "Re_b(Ret)\n",
    "print(datetime.now() - startTime1)"
   ]
  },
  {
   "cell_type": "code",
   "execution_count": 49,
   "metadata": {},
   "outputs": [],
   "source": [
    "def phi(x, y, z, Ret,dummy):\n",
    "    B=np.vstack([x,y,z])\n",
    "    return np.einsum('ijk,ik->ij', Ret,B.T.astype(np.float32))"
   ]
  },
  {
   "cell_type": "code",
   "execution_count": 50,
   "metadata": {},
   "outputs": [
    {
     "data": {
      "text/plain": [
       "array([[ 1.66609407e+02, -4.77351832e+01, -2.77665309e+01],\n",
       "       [-7.19914252e+01,  2.20811045e+01, -3.84354851e+01],\n",
       "       [ 4.98915756e+00,  7.81085803e+01, -6.62694466e+01],\n",
       "       [-7.36229132e+01,  8.53418085e+01, -2.62898325e+01],\n",
       "       [ 6.39980667e+01, -1.61822972e+02, -4.59456854e+01],\n",
       "       [-1.77058410e+02, -5.41924903e+01, -5.86052928e+01],\n",
       "       [-1.27208133e+02, -2.23119143e+01, -1.84951213e+01],\n",
       "       [-4.89508932e+01,  1.43531680e+00,  3.56416292e+01],\n",
       "       [ 2.38737839e+01, -1.60993632e+02, -1.36532324e+01],\n",
       "       [-3.48759218e+01,  8.39016451e+01,  3.22456414e+01],\n",
       "       [-1.67120735e+02, -2.18006465e+02, -7.45950412e+01],\n",
       "       [ 1.38838569e+02,  2.69500530e+01,  2.73292548e+01],\n",
       "       [-3.56997075e+01,  1.06619030e+02,  1.46348670e+02],\n",
       "       [ 5.80705018e+01,  5.30373375e+01, -2.88630860e+01],\n",
       "       [ 2.61294329e+01, -4.08878106e+01, -6.62927589e+00],\n",
       "       [ 2.55424855e+01,  8.51366831e+00, -4.76152085e+01],\n",
       "       [ 4.21453428e+01, -9.03230038e+01, -1.10172045e+02],\n",
       "       [ 2.36711744e+02,  6.37571933e+01,  9.79592266e+01],\n",
       "       [ 5.82393925e+01,  1.49610589e+02, -3.92416610e+01],\n",
       "       [ 1.08415284e+02, -8.98882156e+00, -1.40957306e+02],\n",
       "       [-1.13827257e+02, -1.02548424e+01,  1.88948799e+02],\n",
       "       [-1.99793278e+00, -2.39027861e+01,  1.83440906e+01],\n",
       "       [-7.11233050e+00,  8.67078603e+01, -3.15634272e+02],\n",
       "       [-1.11109322e+02, -3.03959030e+01,  1.53842694e+02],\n",
       "       [ 6.73014965e+01,  3.59499915e+01,  5.77420117e+01],\n",
       "       [ 1.60211581e+02,  9.29358512e+01, -1.33967929e+02],\n",
       "       [ 2.46413903e+01,  1.69830961e+01, -3.64354857e+01],\n",
       "       [-2.52332142e+01, -4.84950955e+01, -1.23147194e+02],\n",
       "       [ 1.14131392e+02,  8.04636736e+01, -3.15576889e+01],\n",
       "       [ 8.15337527e+01, -1.07366238e+02,  3.39164531e+01],\n",
       "       [ 2.94289901e+01,  1.37814055e+02,  5.88281540e+01],\n",
       "       [ 1.62719894e+02,  1.66406411e+02, -1.92359074e+01],\n",
       "       [ 4.98632419e+01, -2.05578501e+02, -3.54143136e+01],\n",
       "       [-4.62611314e+01,  1.39180807e+02, -3.17279086e+01],\n",
       "       [-4.42830878e+01,  3.67940896e+01,  1.92106775e+02],\n",
       "       [-1.43183331e+02, -1.66819523e+01, -1.32055552e+02],\n",
       "       [-2.34679339e+01,  5.18265603e+01,  2.07403050e+01],\n",
       "       [ 2.11143646e+01,  1.34567928e+02,  1.63773621e+01],\n",
       "       [-1.09872308e+02, -4.00750497e+01, -8.25530269e+01],\n",
       "       [-1.49025636e+02,  4.10838931e+01,  6.92817116e+01],\n",
       "       [-1.85054381e+02,  9.60547339e+01, -1.69809386e+02],\n",
       "       [-4.78612525e+01, -1.51683972e+01, -6.62789366e+01],\n",
       "       [-1.49753897e+02, -2.25243210e+01, -9.14069227e+01],\n",
       "       [ 2.33360305e+01,  7.67533796e+01, -7.61656851e+01],\n",
       "       [-6.95557099e+01, -3.06223680e+01, -1.61743052e+02],\n",
       "       [ 8.35692677e+01,  4.20961166e+01,  9.71680917e+01],\n",
       "       [ 7.72151774e+01,  1.55595098e+02,  9.16586367e+01],\n",
       "       [ 7.87913949e+01, -2.17575455e+01, -2.89762956e-02],\n",
       "       [-1.33418656e+02,  4.25684940e+01,  6.12717386e+01],\n",
       "       [-8.58630663e+01,  1.32572138e+02, -1.20518250e+01]])"
      ]
     },
     "execution_count": 50,
     "metadata": {},
     "output_type": "execute_result"
    }
   ],
   "source": [
    "phi(x,y,z,Ret,None)"
   ]
  },
  {
   "cell_type": "code",
   "execution_count": 51,
   "metadata": {},
   "outputs": [
    {
     "name": "stdout",
     "output_type": "stream",
     "text": [
      "0:00:00.000373\n"
     ]
    }
   ],
   "source": [
    "startTime1 = datetime.now()\n",
    "phi(x,y,z,Ret,None)\n",
    "print(datetime.now() - startTime1)"
   ]
  },
  {
   "cell_type": "code",
   "execution_count": 52,
   "metadata": {},
   "outputs": [],
   "source": [
    "def Π_(arr):\n",
    "    φ,θ,ψ=arr[0],arr[1],arr[2]\n",
    "    return np.array([[np.cos(θ),0,np.cos(φ)*np.sin(θ)],\n",
    "                  [0,1,-np.sin(φ)],\n",
    "                  [-np.sin(θ),0,np.cos(φ)*np.cos(θ)]])"
   ]
  },
  {
   "cell_type": "code",
   "execution_count": 53,
   "metadata": {},
   "outputs": [],
   "source": [
    "def Π(a,b,c):\n",
    "    xyz=np.stack((a,b,c), axis=1)\n",
    "  \n",
    "    return np.apply_along_axis(Π_, 1, xyz)\n",
    "    "
   ]
  },
  {
   "cell_type": "code",
   "execution_count": 54,
   "metadata": {},
   "outputs": [
    {
     "name": "stdout",
     "output_type": "stream",
     "text": [
      "0:00:00.001780\n"
     ]
    }
   ],
   "source": [
    "startTime1 = datetime.now()\n",
    "Π(φ,θ,ψ).shape\n",
    "print(datetime.now() - startTime1)"
   ]
  },
  {
   "cell_type": "code",
   "execution_count": 55,
   "metadata": {},
   "outputs": [],
   "source": [
    "def ωe(φ,θ,ψ, dummy,dummy1):  # (100) in [2]\n",
    "    A=Π(φ,θ,ψ)\n",
    "    B=np.vstack([φ,θ,ψ])\n",
    "    return np.einsum('ijk,ik->ij',A,B.T.astype(np.float32))"
   ]
  },
  {
   "cell_type": "code",
   "execution_count": 56,
   "metadata": {},
   "outputs": [
    {
     "name": "stdout",
     "output_type": "stream",
     "text": [
      "0:00:00.002168\n"
     ]
    }
   ],
   "source": [
    "startTime1 = datetime.now()\n",
    "ωe(φ,θ,ψ,None,None)\n",
    "print(datetime.now() - startTime1)"
   ]
  },
  {
   "cell_type": "code",
   "execution_count": 57,
   "metadata": {},
   "outputs": [
    {
     "data": {
      "text/plain": [
       "array([[-1.19555874e+00,  1.28389966e-01,  9.27495834e-02],\n",
       "       [ 8.47974668e-01,  1.71789223e-01,  1.57387357e+00],\n",
       "       [-1.60409140e-01, -1.28944703e+00,  1.74059860e-03],\n",
       "       [ 9.58256917e-01, -2.90435256e+00,  2.60027939e-01],\n",
       "       [ 1.38573439e+00, -5.99146268e-01,  1.21418429e+00],\n",
       "       [-9.03729107e-01, -1.46413462e+00,  1.49388652e+00],\n",
       "       [ 1.19299791e-01, -1.10394774e+00,  1.04090472e+00],\n",
       "       [ 2.88286032e-01,  7.60585599e-01,  7.03893495e-01],\n",
       "       [-1.15283701e+00,  3.64938350e-01,  2.70780809e-01],\n",
       "       [ 2.28360724e-01,  3.21085442e-01,  6.74908336e-02],\n",
       "       [ 1.60537364e+00, -1.39639741e+00, -2.45675112e+00],\n",
       "       [ 1.40435885e+00,  2.73022651e+00,  5.75138485e-01],\n",
       "       [-4.47976507e-01, -7.62781369e-01,  3.71425767e-01],\n",
       "       [ 5.21640532e-01,  2.24453649e-01,  3.33454683e-01],\n",
       "       [ 1.56415397e+00,  1.11599293e+00,  1.32352401e+00],\n",
       "       [ 6.94183266e-01, -1.56136366e+00, -9.23849268e-01],\n",
       "       [-5.92408639e-01, -7.06388328e-01, -5.22224352e-01],\n",
       "       [-7.76457691e-01, -9.37954695e-02, -1.78451853e-01],\n",
       "       [ 1.91885299e-01,  1.81295971e+00,  9.18604248e-01],\n",
       "       [ 4.72966834e-01,  2.15042711e+00,  8.77720814e-01],\n",
       "       [ 3.99119757e-01,  7.07225211e-01,  8.39489002e-01],\n",
       "       [ 1.53805620e+00, -2.63792624e+00, -1.25400685e+00],\n",
       "       [-5.45030894e-01,  1.17879343e+00,  1.08715441e-01],\n",
       "       [ 5.16969726e-01,  3.36411107e-01,  1.03391692e+00],\n",
       "       [ 7.12692059e-01, -1.01119757e+00, -2.34042610e-01],\n",
       "       [-7.80014112e-01,  1.53609083e-01,  4.15475659e-02],\n",
       "       [ 1.21421508e+00, -3.52483069e-01, -5.58173717e-01],\n",
       "       [ 6.99274031e-01, -3.35525926e-01, -9.29654367e-01],\n",
       "       [ 4.07637735e-01, -8.60375595e-01,  7.46066272e-01],\n",
       "       [-1.01964670e+00,  1.62955421e-01,  3.37947986e-01],\n",
       "       [ 3.82783216e-02,  1.71375796e+00,  1.15214778e+00],\n",
       "       [-1.20169712e-01,  1.30637930e+00,  1.08580451e+00],\n",
       "       [-1.88945464e-01,  1.43707406e+00,  1.01133989e+00],\n",
       "       [-1.19067871e+00,  5.21600342e-01,  9.45810824e-02],\n",
       "       [ 1.08381582e+00,  1.33149396e-01,  1.17344098e-01],\n",
       "       [-5.29907908e-01, -1.74569573e-01, -3.19024370e-01],\n",
       "       [ 9.10584177e-01,  2.32631512e+00,  6.61065471e-01],\n",
       "       [-1.77043158e+00, -1.12538367e+00,  5.31120513e-01],\n",
       "       [ 1.67873405e-01,  6.72640163e-01,  1.41618438e+00],\n",
       "       [ 6.61253886e-01, -1.31648948e+00, -4.87924196e-01],\n",
       "       [ 1.59103571e+00,  6.34492737e-02,  8.02191966e-02],\n",
       "       [-1.95041141e-01, -6.36164009e-01, -3.00513966e-01],\n",
       "       [-4.14372376e-01, -3.21958194e-01,  5.83098598e-01],\n",
       "       [ 1.36917555e+00, -1.64627680e+00, -2.29864690e-01],\n",
       "       [-1.04746657e+00, -2.37727223e-01, -3.18956046e-01],\n",
       "       [ 6.53931544e-01,  6.30583109e-01,  6.90701634e-01],\n",
       "       [ 1.60977077e+00, -8.32702195e-03,  3.39232902e-01],\n",
       "       [-8.01478513e-01, -2.86853363e-01, -1.79849114e-01],\n",
       "       [ 3.31525610e-01,  5.16062683e-01, -7.97763793e-02],\n",
       "       [ 1.64526579e+00,  2.62591088e+00, -1.14362730e+00]])"
      ]
     },
     "execution_count": 57,
     "metadata": {},
     "output_type": "execute_result"
    }
   ],
   "source": [
    "ωe(φ,θ,ψ,None,None)"
   ]
  },
  {
   "cell_type": "code",
   "execution_count": 58,
   "metadata": {},
   "outputs": [],
   "source": [
    "def d_s(f,a,b,c,Ret,omega):\n",
    "\n",
    "    fun = f(a,b,c,Ret,omega)    \n",
    "    \n",
    "    def S(arr):\n",
    "        a1,a2,a3=arr[0],arr[1],arr[2]\n",
    "        return np.array([[0, -a3, a2 ],\n",
    "                         [a3, 0, -a1],\n",
    "                        [-a2, a1, 0]])\n",
    "    \n",
    "    K=np.apply_along_axis(S, 1, omega)\n",
    "\n",
    "    return np.einsum('ijk,ik->ij',K,fun.astype(np.float32)).T"
   ]
  },
  {
   "cell_type": "code",
   "execution_count": 59,
   "metadata": {},
   "outputs": [
    {
     "data": {
      "text/plain": [
       "array([[   0.86247444,  -41.35566869,   85.31498657,   54.1636884 ,\n",
       "         224.01109171,  166.76346844,   43.64222406,   26.09819901,\n",
       "          38.61139909,    4.69101375, -431.4233197 ,   59.11504201,\n",
       "        -151.23308732,  -24.16397394,   46.717773  ,   82.21000107,\n",
       "          30.65537201,    2.18945767, -208.57647925, -295.22873522,\n",
       "         142.23817665,  -78.36461771, -381.49409555,   83.18123029,\n",
       "         -49.97475227,  -24.43994877,   22.32240922,   -3.76459996,\n",
       "         -32.87976909,   41.81107514,  -57.9649391 , -205.81422868,\n",
       "         157.01675272,  -29.71315907,   21.26133251,   17.73093314,\n",
       "          13.98773511,  -89.90260416,    1.22518062,  -71.16282389,\n",
       "         -18.47971583,   37.60595997,   42.56310708,  143.03269596,\n",
       "          28.68353848,   32.1967013 ,  -53.54621837,   -3.90476333,\n",
       "          35.01601873,  119.96610555],\n",
       "       [ -17.74356585,  -80.71308206,  -10.62154096,    6.04840094,\n",
       "         141.37396404, -317.46848146, -130.20507862,  -44.73119904,\n",
       "          -9.27538953,   -9.71744279,  530.32698307,   41.47132012,\n",
       "          52.30097195,   34.42003714,   44.95213957,    9.45627318,\n",
       "         -87.27619482,   33.81954662,   61.0288501 ,  161.82648132,\n",
       "        -170.96992463,  -25.70882216, -172.80365252, -194.40982511,\n",
       "         -56.90369179,  -97.8404717 ,   30.48634031,  109.57180172,\n",
       "          98.01368832,   62.13696811,   31.65470165,  174.37042144,\n",
       "          43.73731297,  -42.15317375, -213.40472804,  -24.29831107,\n",
       "         -34.39963413,   40.20926984, -141.74098754,   26.90040939,\n",
       "         255.32788507,    1.45585486, -125.19778704,   98.92006777,\n",
       "        -147.23523188,   -5.81985014, -121.35546684,  -14.19378686,\n",
       "          -9.66949368,  118.02380305],\n",
       "       [  35.6792402 ,   31.09156798,   -6.09607585, -132.04750391,\n",
       "        -185.89944895, -210.26201899, -143.09293417,   37.64512634,\n",
       "         176.88696428,   30.35799089, -583.34881382, -341.21317837,\n",
       "         -74.99389034,   14.63228899,  -93.11509207,   45.7911557 ,\n",
       "          83.2791078 ,  -27.30227465,  -76.87759629, -237.39057834,\n",
       "          76.40859426,  -42.03422797,  -38.87449563,   21.66464846,\n",
       "          93.67638658,  -97.1012298 ,   29.30680303,  -42.37775736,\n",
       "         130.99589631,   96.18926675,  -45.15887394, -232.57091235,\n",
       "         -32.81404678, -141.58979525,   45.77428373,  -16.15555547,\n",
       "         101.78625536, -214.4815557 ,   67.17699127, -169.02379613,\n",
       "         164.56807692,  -27.48914439,  -38.88103604,  143.50641745,\n",
       "          15.540621  ,  -25.16939084,  251.11540476,   40.03978244,\n",
       "          82.96493477,  443.58517632]])"
      ]
     },
     "execution_count": 59,
     "metadata": {},
     "output_type": "execute_result"
    }
   ],
   "source": [
    "d_s(phi,x,y,z,Ret,ωe(φ,θ,ψ,None,None))"
   ]
  },
  {
   "cell_type": "code",
   "execution_count": 60,
   "metadata": {},
   "outputs": [
    {
     "name": "stdout",
     "output_type": "stream",
     "text": [
      "0:00:00.002670\n"
     ]
    }
   ],
   "source": [
    "startTime1 = datetime.now()\n",
    "d_s(phi,x,y,z,Ret,ωe(φ,θ,ψ,None,None))\n",
    "print(datetime.now() - startTime1)"
   ]
  },
  {
   "cell_type": "code",
   "execution_count": 61,
   "metadata": {},
   "outputs": [],
   "source": [
    "def ne(x,y,z,Ret,omega):\n",
    "    A=np.multiply(np.multiply(Ret,CT),Ret)\n",
    "    B=d_s(phi,x,y,z,Ret,omega).T\n",
    "    return np.einsum('ijk,ik->ij', A.astype(np.float32),B-\n",
    "                     np.einsum('ijk,kp->ijp',Ret.astype(np.float32), np.array([1,0,0]).reshape(3,1)).squeeze())"
   ]
  },
  {
   "cell_type": "code",
   "execution_count": 62,
   "metadata": {},
   "outputs": [],
   "source": [
    "def ne_(dx,dy,dz,DT,Ret):\n",
    "    return -fg_e.T-fD(dx,dy,dz,DT,Ret) #-sigma(x,y,z).T"
   ]
  },
  {
   "cell_type": "code",
   "execution_count": 63,
   "metadata": {},
   "outputs": [
    {
     "data": {
      "text/plain": [
       "array([[ 30656.78828195,  -3226.64279464, -24388.85178489,\n",
       "          2420.07420186,   -774.32754631,    735.83359837,\n",
       "         10200.42601874,   9782.74213757,  -1010.79446392,\n",
       "        -14148.32560208,  -3451.16825823, -15984.77568769,\n",
       "         -2135.89434838,   2540.1831285 ,  -7690.47766401,\n",
       "         -2366.63859598,   -973.86130827,   4303.57302759,\n",
       "           386.40294719,   9455.28240562,   3120.18320821,\n",
       "         32075.31565145,  -8032.94168655, -12420.46460384,\n",
       "          1159.59465644,   4314.01632163,    596.93323362,\n",
       "         -5227.47452118,    708.85652199,  -3606.0105744 ,\n",
       "         -1236.7960067 ,   2497.0661464 ,    127.11134137,\n",
       "         10795.91721875,   6336.78652722,   1434.80978972,\n",
       "         -2205.4508915 ,   6934.47303611,   4396.76954786,\n",
       "           952.79921175,   1852.23479893,  11056.24975316,\n",
       "         11137.86931702,  -3873.75293425,  -3886.59628481,\n",
       "         -2294.71651031,  -6424.67660648,  -3673.6310471 ,\n",
       "         37922.55177157,  -5064.29543158],\n",
       "       [ -9439.90274274,   1416.99522972,  26309.89865226,\n",
       "          1115.28134291,  -4821.70156352,  -4103.82374196,\n",
       "        -14076.21285565,   8775.57170311,   -912.90370767,\n",
       "        -14299.74763536,   8768.17481524,   8486.98145067,\n",
       "        -12489.97883568,  -1490.92916885,   3271.37893668,\n",
       "         -9749.21370762,    265.2328993 , -16425.91405887,\n",
       "          -984.77423268,   1602.7534461 ,   1373.52580759,\n",
       "        -19502.63481161,   5660.36781827,  19286.22724681,\n",
       "         -1164.16819135,  -6340.06628391,  -3516.82235798,\n",
       "         -2902.89406059,   -118.47069698,    522.48696499,\n",
       "         -1064.91880901, -11083.15035662,   5470.65521428,\n",
       "         12318.82391837,  34874.41148368,  -4079.66883364,\n",
       "         -5073.59161295,  -3961.15006579,  16869.27915243,\n",
       "        -20159.2722137 ,  -3931.38832244,   4921.36371431,\n",
       "         -2009.36811616,   -829.14054478,    594.92032125,\n",
       "         -3287.41914507,  21311.39629797,   1752.92521836,\n",
       "           508.96772206,   3861.4857424 ],\n",
       "       [ -8988.27608459,  -9981.77955626,   1023.74839195,\n",
       "         10104.97398023,  -1881.96610272,   2891.03400059,\n",
       "          1157.92117883,  13255.21154199,   1972.88804505,\n",
       "         20114.68658051,   1462.25797314,  21881.78045982,\n",
       "         26028.53598854,   -605.58026747,  -1749.65164286,\n",
       "          1303.79875324,   2668.25214546,   7234.40433537,\n",
       "         12733.38959899, -10350.12118334,  -5342.74344215,\n",
       "        -10294.75956217,  10111.90660938,   7948.23613269,\n",
       "         -8959.45774089,   1982.66537198,   6282.38766749,\n",
       "         -3236.10995794,   6948.73204897,  -7445.19755452,\n",
       "           487.38869346,  -9147.35177205, -22702.41553236,\n",
       "          1294.37598072,  -1189.50647418,  -3264.5531652 ,\n",
       "         -1634.44952201,  14167.3088818 , -18849.85821661,\n",
       "        -12699.22209407,   5625.61707344,   6227.64321859,\n",
       "        -12224.01610392,  -7651.6693058 ,    850.09313158,\n",
       "         -6103.1914771 , -22019.98465305,    555.79143876,\n",
       "         19780.90608151,  12256.42747701]])"
      ]
     },
     "execution_count": 63,
     "metadata": {},
     "output_type": "execute_result"
    }
   ],
   "source": [
    "ne_(dx,dy,dz,DT,Ret)"
   ]
  },
  {
   "cell_type": "code",
   "execution_count": 64,
   "metadata": {},
   "outputs": [
    {
     "name": "stdout",
     "output_type": "stream",
     "text": [
      "0:00:00.002873\n"
     ]
    }
   ],
   "source": [
    "startTime1 = datetime.now()\n",
    "ne(x,y,z,Ret,ωe(φ,θ,ψ,None,None))\n",
    "print(datetime.now() - startTime1)"
   ]
  },
  {
   "cell_type": "code",
   "execution_count": 65,
   "metadata": {},
   "outputs": [
    {
     "data": {
      "text/plain": [
       "array([[-1.31607840e+08, -2.37783611e+09,  4.71334493e+09],\n",
       "       [-2.43752779e+09, -5.24984763e+10,  4.39905387e+08],\n",
       "       [ 6.11574988e+09, -1.04069720e+10, -5.17678688e+08],\n",
       "       [ 9.55309545e+09,  3.86712497e+09, -5.40116376e+10],\n",
       "       [ 1.28258091e+11,  1.58393865e+10, -7.75441649e+09],\n",
       "       [ 6.06633618e+09, -2.13675062e+07, -9.32599234e+10],\n",
       "       [ 8.47389285e+09, -5.62381440e+10, -7.36696656e+10],\n",
       "       [ 8.93840756e+09, -2.83234126e+10,  2.42593120e+10],\n",
       "       [ 2.71260732e+09, -2.63257929e+08,  5.76747345e+10],\n",
       "       [ 3.25379273e+09, -9.18675435e+09,  2.61043708e+10],\n",
       "       [-2.63387388e+11,  4.72132811e+11, -3.40757287e+11],\n",
       "       [ 8.75681048e+06,  9.43154307e+09, -1.07608239e+09],\n",
       "       [-5.23801012e+10,  3.43986854e+10, -3.71889586e+10],\n",
       "       [-1.53354533e+10,  1.82209036e+10,  1.10061812e+10],\n",
       "       [ 3.79678163e+09,  6.91711233e+09, -3.43049850e+10],\n",
       "       [ 2.95924323e+09,  4.83395321e+09,  9.17594958e+09],\n",
       "       [ 1.89247609e+10, -4.79846407e+10,  2.63325266e+10],\n",
       "       [ 1.02708541e+09,  1.32613850e+10, -1.47496677e+10],\n",
       "       [-7.39894787e+08,  3.58892185e+10, -1.02012362e+08],\n",
       "       [-2.60305683e+10,  9.70521286e+10, -7.13471062e+09],\n",
       "       [ 3.53517880e+10, -7.30158969e+10,  5.24509315e+10],\n",
       "       [-4.59449077e+09, -6.29006465e+08, -3.16452464e+09],\n",
       "       [-2.00237814e+10, -9.12898654e+10, -2.47912570e+09],\n",
       "       [ 1.12933058e+10, -2.80289946e+10,  1.82490395e+10],\n",
       "       [-5.63030434e+09, -2.44043317e+10,  1.90624287e+10],\n",
       "       [-1.92525800e+10, -3.62939894e+10, -4.55823093e+10],\n",
       "       [ 3.98443925e+07,  1.99280814e+10,  1.46599136e+09],\n",
       "       [-4.81677522e+08,  1.13015850e+10, -3.14568129e+10],\n",
       "       [-1.74753774e+10,  6.00048775e+10,  6.25732398e+10],\n",
       "       [ 5.40942565e+09,  1.12989795e+09,  1.43124966e+10],\n",
       "       [-3.68329753e+09,  1.81583327e+10, -8.99820639e+09],\n",
       "       [-2.96664336e+10,  7.84119069e+10, -9.18684254e+10],\n",
       "       [ 3.18898324e+10,  2.96612111e+10, -7.22038348e+09],\n",
       "       [-1.48926481e+10, -1.22311750e+09, -2.25227392e+10],\n",
       "       [ 5.29547525e+09, -3.70493824e+07,  1.03407101e+10],\n",
       "       [ 1.45130556e+10, -1.54009603e+10, -1.22220541e+10],\n",
       "       [ 1.60131689e+06, -2.77480493e+10,  4.27550060e+07],\n",
       "       [-7.11511506e+09,  1.29672834e+09, -1.30076642e+10],\n",
       "       [ 1.45185733e+07, -5.21027603e+09,  5.75010515e+10],\n",
       "       [-5.24497139e+09,  1.75403036e+10, -2.55495408e+10],\n",
       "       [-1.91819910e+10,  1.94277548e+08,  8.13816554e+07],\n",
       "       [ 2.49062729e+10,  1.31572438e+09, -1.74034002e+10],\n",
       "       [ 2.01153835e+10, -6.43298111e+10, -3.19382823e+10],\n",
       "       [ 3.13784902e+07,  8.28847124e+09,  9.88479722e+08],\n",
       "       [ 1.86862011e+09, -6.72220920e+09,  2.03965855e+09],\n",
       "       [ 6.36153678e+09, -1.98948963e+09, -1.46962075e+10],\n",
       "       [-5.04840316e+10, -1.47525428e+09,  1.32958526e+09],\n",
       "       [-2.99418688e+09, -4.20840833e+09,  1.48034666e+10],\n",
       "       [ 2.44778570e+10, -8.47686493e+09,  5.43728557e+10],\n",
       "       [ 2.63033107e+09,  7.64226394e+10,  1.83820789e+10]])"
      ]
     },
     "execution_count": 65,
     "metadata": {},
     "output_type": "execute_result"
    }
   ],
   "source": [
    "ne(x,y,z,Ret,ωe(φ,θ,ψ,None,None))"
   ]
  },
  {
   "cell_type": "code",
   "execution_count": 66,
   "metadata": {},
   "outputs": [
    {
     "name": "stdout",
     "output_type": "stream",
     "text": [
      "0:00:00.002214\n"
     ]
    }
   ],
   "source": [
    "startTime1 = datetime.now()\n",
    "ne_(dx,dy,dz,DT,Ret)\n",
    "print(datetime.now() - startTime1)"
   ]
  },
  {
   "cell_type": "code",
   "execution_count": 67,
   "metadata": {},
   "outputs": [
    {
     "data": {
      "text/plain": [
       "(50, 3, 3)"
      ]
     },
     "execution_count": 67,
     "metadata": {},
     "output_type": "execute_result"
    }
   ],
   "source": [
    "Re_b(Ret).shape"
   ]
  },
  {
   "cell_type": "code",
   "execution_count": 68,
   "metadata": {},
   "outputs": [],
   "source": [
    "def Irho_e(Ret):\n",
    "    ans= np.multiply(np.multiply(Ret,Irho),Ret) # (19) in [3] \n",
    "    return ans"
   ]
  },
  {
   "cell_type": "code",
   "execution_count": 69,
   "metadata": {},
   "outputs": [
    {
     "data": {
      "text/plain": [
       "(50, 3, 3)"
      ]
     },
     "execution_count": 69,
     "metadata": {},
     "output_type": "execute_result"
    }
   ],
   "source": [
    "Irho_e(Ret).shape"
   ]
  },
  {
   "cell_type": "code",
   "execution_count": 70,
   "metadata": {},
   "outputs": [
    {
     "name": "stdout",
     "output_type": "stream",
     "text": [
      "0:00:00.000161\n"
     ]
    }
   ],
   "source": [
    "startTime1 = datetime.now()\n",
    "Irho_e(Ret)\n",
    "print(datetime.now() - startTime1)"
   ]
  },
  {
   "cell_type": "code",
   "execution_count": 71,
   "metadata": {},
   "outputs": [],
   "source": [
    "diag_CR = 1e11*np.array([1, 1, 1]) \n",
    "CR=np.diag(diag_CR)"
   ]
  },
  {
   "cell_type": "code",
   "execution_count": 72,
   "metadata": {},
   "outputs": [
    {
     "data": {
      "text/plain": [
       "array([[1.e+11, 0.e+00, 0.e+00],\n",
       "       [0.e+00, 1.e+11, 0.e+00],\n",
       "       [0.e+00, 0.e+00, 1.e+11]])"
      ]
     },
     "execution_count": 72,
     "metadata": {},
     "output_type": "execute_result"
    }
   ],
   "source": [
    "CR"
   ]
  },
  {
   "cell_type": "code",
   "execution_count": 73,
   "metadata": {},
   "outputs": [],
   "source": [
    "def d_me(φ,θ,ψ,Ret,fun,omega):\n",
    "    A=np.multiply(np.multiply(Ret,CR),Ret)\n",
    "    B=d_s(fun,φ,θ,ψ,None,omega)\n",
    " \n",
    "    return np.einsum('ijk,ik->ij', A,B.T.astype(np.float32)) "
   ]
  },
  {
   "cell_type": "code",
   "execution_count": 74,
   "metadata": {},
   "outputs": [
    {
     "name": "stdout",
     "output_type": "stream",
     "text": [
      "0:00:00.006165\n"
     ]
    }
   ],
   "source": [
    "startTime1 = datetime.now()\n",
    "d_me_=d_me(φ,θ,ψ,Ret,ωe, ωe(φ,θ,ψ,None,None))\n",
    "print(datetime.now() - startTime1)"
   ]
  },
  {
   "cell_type": "code",
   "execution_count": 75,
   "metadata": {},
   "outputs": [
    {
     "data": {
      "text/plain": [
       "array([[-6.63324078e+01, -1.00600805e+02,  2.30455125e+01],\n",
       "       [-1.01440172e+02,  1.77025600e+03,  8.73172450e+00],\n",
       "       [ 5.52247758e-01,  2.85420450e-01,  6.82041892e+01],\n",
       "       [ 1.83259085e+02, -5.90239954e+02, -6.12146688e+03],\n",
       "       [-1.21486297e+03,  7.67408826e+02,  2.42608147e+02],\n",
       "       [-2.74121132e+01, -9.43984243e-03, -2.63337131e+02],\n",
       "       [-5.06501483e+02, -1.74436097e+02, -6.87774287e+01],\n",
       "       [-5.22159776e+02,  1.50009744e+02,  2.22877678e+02],\n",
       "       [-1.46884088e+01, -4.07279289e+01,  3.92867159e+02],\n",
       "       [-1.38103677e+02,  7.53688793e+01,  1.30100196e+02],\n",
       "       [-1.01782590e+04,  2.84104701e+03, -7.41945818e+03],\n",
       "       [ 9.52660145e-01, -6.77442272e+02, -5.86830439e+00],\n",
       "       [-1.22519337e+02,  5.00926537e+02,  5.50515517e+02],\n",
       "       [-7.51728706e+01,  5.32403793e+02, -3.52901453e+02],\n",
       "       [ 1.88440607e+02, -9.38528641e+02,  8.37851395e+02],\n",
       "       [-2.25009477e+01, -5.30007183e+02,  2.87223577e+02],\n",
       "       [-2.25117328e+02,  5.03841089e+01,  8.85592351e+01],\n",
       "       [-3.42078430e+01, -1.01131413e+02,  1.75064745e+02],\n",
       "       [ 1.77865135e+01, -3.99157066e+02,  4.11024159e-01],\n",
       "       [ 3.78289580e+02, -1.26502023e+03,  8.67371098e+01],\n",
       "       [-1.77012297e+02,  5.96718986e+02, -5.76680833e+02],\n",
       "       [-5.45143599e+02, -1.13831900e+02, -1.47093708e+02],\n",
       "       [-2.11105629e+01, -8.20363543e+01, -2.21069841e+01],\n",
       "       [-3.97270197e+01,  2.22090858e+01,  7.98974300e+01],\n",
       "       [ 6.98630029e+01, -9.74318680e+01,  5.87513298e+02],\n",
       "       [ 1.27845579e+01,  4.26536969e+01, -5.04535389e+01],\n",
       "       [ 4.85052246e-01,  1.54631489e+03, -4.54730857e+01],\n",
       "       [-7.42274795e+01,  2.04302121e+02, -8.87517476e+02],\n",
       "       [-4.69571918e+02,  4.50313610e+02,  6.43043693e+02],\n",
       "       [ 3.19376077e+01,  4.91094870e+01, -8.69151253e+01],\n",
       "       [-3.35052770e+02,  8.54605225e+01, -8.68257830e+00],\n",
       "       [-1.20090006e+03, -3.42051460e+02, -4.46527894e+00],\n",
       "       [ 1.01759095e+02,  5.83983196e+02, -2.54325668e+02],\n",
       "       [-1.07509148e+02, -1.03123267e+00, -4.09873158e+02],\n",
       "       [-1.97394244e+01,  1.69419878e-02,  1.35205807e+02],\n",
       "       [ 9.91424831e+01, -1.01387699e+03,  5.03681301e+02],\n",
       "       [-6.26637558e-01, -4.90070377e+02,  4.04388483e+00],\n",
       "       [-4.76687580e+02,  5.23184891e+01, -1.00962226e+03],\n",
       "       [ 7.36690521e+01, -6.42192162e+01,  1.42489491e+02],\n",
       "       [-2.21008907e+00,  2.24326214e+02, -1.48930795e+02],\n",
       "       [ 6.97695411e+00,  3.64672437e-01, -2.56782660e-01],\n",
       "       [-5.92741804e+02,  6.84665736e+01,  2.55385661e+02],\n",
       "       [-1.53172817e+02, -4.27835460e+02, -5.62708825e+02],\n",
       "       [-2.96784448e-01, -4.01937143e+01, -3.16687577e+01],\n",
       "       [-1.64638283e+00, -8.94086234e+01,  1.98938070e+02],\n",
       "       [ 3.89338559e+02, -2.71433517e+02, -5.97646425e+02],\n",
       "       [ 1.57633336e+01,  2.23361266e+01, -1.89029087e-01],\n",
       "       [-4.62125557e+01, -1.25946266e+02,  3.81465051e+02],\n",
       "       [ 7.31192506e+01, -1.77171497e+02, -5.99549477e+02],\n",
       "       [ 3.77583049e+02, -3.72731876e+03,  4.79816470e+02]])"
      ]
     },
     "execution_count": 75,
     "metadata": {},
     "output_type": "execute_result"
    }
   ],
   "source": [
    "d_me_"
   ]
  },
  {
   "cell_type": "code",
   "execution_count": 76,
   "metadata": {},
   "outputs": [],
   "source": [
    "diag_DR = 1.5*np.array([1, 1, 1]) \n",
    " \n",
    "DR=np.diag(diag_DR)"
   ]
  },
  {
   "cell_type": "code",
   "execution_count": 77,
   "metadata": {},
   "outputs": [
    {
     "data": {
      "text/plain": [
       "array([[ 30656.78828195,  -3226.64279464, -24388.85178489,\n",
       "          2420.07420186,   -774.32754631,    735.83359837,\n",
       "         10200.42601874,   9782.74213757,  -1010.79446392,\n",
       "        -14148.32560208,  -3451.16825823, -15984.77568769,\n",
       "         -2135.89434838,   2540.1831285 ,  -7690.47766401,\n",
       "         -2366.63859598,   -973.86130827,   4303.57302759,\n",
       "           386.40294719,   9455.28240562,   3120.18320821,\n",
       "         32075.31565145,  -8032.94168655, -12420.46460384,\n",
       "          1159.59465644,   4314.01632163,    596.93323362,\n",
       "         -5227.47452118,    708.85652199,  -3606.0105744 ,\n",
       "         -1236.7960067 ,   2497.0661464 ,    127.11134137,\n",
       "         10795.91721875,   6336.78652722,   1434.80978972,\n",
       "         -2205.4508915 ,   6934.47303611,   4396.76954786,\n",
       "           952.79921175,   1852.23479893,  11056.24975316,\n",
       "         11137.86931702,  -3873.75293425,  -3886.59628481,\n",
       "         -2294.71651031,  -6424.67660648,  -3673.6310471 ,\n",
       "         37922.55177157,  -5064.29543158],\n",
       "       [ -9439.90274274,   1416.99522972,  26309.89865226,\n",
       "          1115.28134291,  -4821.70156352,  -4103.82374196,\n",
       "        -14076.21285565,   8775.57170311,   -912.90370767,\n",
       "        -14299.74763536,   8768.17481524,   8486.98145067,\n",
       "        -12489.97883568,  -1490.92916885,   3271.37893668,\n",
       "         -9749.21370762,    265.2328993 , -16425.91405887,\n",
       "          -984.77423268,   1602.7534461 ,   1373.52580759,\n",
       "        -19502.63481161,   5660.36781827,  19286.22724681,\n",
       "         -1164.16819135,  -6340.06628391,  -3516.82235798,\n",
       "         -2902.89406059,   -118.47069698,    522.48696499,\n",
       "         -1064.91880901, -11083.15035662,   5470.65521428,\n",
       "         12318.82391837,  34874.41148368,  -4079.66883364,\n",
       "         -5073.59161295,  -3961.15006579,  16869.27915243,\n",
       "        -20159.2722137 ,  -3931.38832244,   4921.36371431,\n",
       "         -2009.36811616,   -829.14054478,    594.92032125,\n",
       "         -3287.41914507,  21311.39629797,   1752.92521836,\n",
       "           508.96772206,   3861.4857424 ],\n",
       "       [ -8988.27608459,  -9981.77955626,   1023.74839195,\n",
       "         10104.97398023,  -1881.96610272,   2891.03400059,\n",
       "          1157.92117883,  13255.21154199,   1972.88804505,\n",
       "         20114.68658051,   1462.25797314,  21881.78045982,\n",
       "         26028.53598854,   -605.58026747,  -1749.65164286,\n",
       "          1303.79875324,   2668.25214546,   7234.40433537,\n",
       "         12733.38959899, -10350.12118334,  -5342.74344215,\n",
       "        -10294.75956217,  10111.90660938,   7948.23613269,\n",
       "         -8959.45774089,   1982.66537198,   6282.38766749,\n",
       "         -3236.10995794,   6948.73204897,  -7445.19755452,\n",
       "           487.38869346,  -9147.35177205, -22702.41553236,\n",
       "          1294.37598072,  -1189.50647418,  -3264.5531652 ,\n",
       "         -1634.44952201,  14167.3088818 , -18849.85821661,\n",
       "        -12699.22209407,   5625.61707344,   6227.64321859,\n",
       "        -12224.01610392,  -7651.6693058 ,    850.09313158,\n",
       "         -6103.1914771 , -22019.98465305,    555.79143876,\n",
       "         19780.90608151,  12256.42747701]])"
      ]
     },
     "execution_count": 77,
     "metadata": {},
     "output_type": "execute_result"
    }
   ],
   "source": [
    "ne_(dx,dy,dz,DT,Ret)"
   ]
  },
  {
   "cell_type": "markdown",
   "metadata": {},
   "source": [
    "### Vessel"
   ]
  },
  {
   "cell_type": "code",
   "execution_count": 78,
   "metadata": {},
   "outputs": [],
   "source": [
    "class VesselSemisub: # Semisub model from Fossen\n",
    "    \n",
    "    def __init__(self):\n",
    "        \n",
    "        MRB = 1.0e10 * np.array(\n",
    "            [\n",
    "                [0.0027, 0, 0, 0, -0.0530, 0],\n",
    "                [0, 0.0027, 0, 0.0530, 0, -0.0014],\n",
    "                [0, 0, 0.0027, 0, 0.0014, 0],\n",
    "                [0, 0.0530, 0, 3.4775, 0, -0.0265],\n",
    "                [-0.0530, 0, 0.0014, 0, 3.8150, 0],\n",
    "                [0, -0.0014, 0, -0.0265, 0, 3.7192],\n",
    "            ],\n",
    "            float,\n",
    "        )\n",
    "\n",
    "        MA = 1.0e10 * np.array(\n",
    "            [\n",
    "                [0.0017, 0, 0, 0, -0.0255, 0],\n",
    "                [0, 0.0042, 0, 0.0365, 0, 0],\n",
    "                [0, 0, 0.0021, 0, 0, 0],\n",
    "                [0, 0.0365, 0, 1.3416, 0, 0],\n",
    "                [-0.0255, 0, 0, 0, 2.2267, 0],\n",
    "                [0, 0, 0, 0, 0, 3.2049],\n",
    "            ],\n",
    "            float,\n",
    "        )\n",
    "\n",
    "        self.D = 1.0e09 * np.array(\n",
    "            [\n",
    "                [0.0004, 0, 0, 0, -0.0085, 0],\n",
    "                [0, 0.0003, 0, 0.0067, 0, -0.0002],\n",
    "                [0, 0, 0.0034, 0, 0.0017, 0],\n",
    "                [0, 0.0067, 0, 4.8841, 0, -0.0034],\n",
    "                [-0.0085, 0, 0.0017, 0, 7.1383, 0],\n",
    "                [0, -0.0002, 0, -0.0034, 0, 0.8656],\n",
    "            ],\n",
    "            float,\n",
    "        )\n",
    "\n",
    "        self.G = 1.0e10 * np.diag([0.0, 0.0, 0.0006, 1.4296, 2.6212, 0.0])\n",
    "        self.M = MRB + MA\n",
    "\n",
    "    def eq_left(self,η, dη):\n",
    "        return (np.matmul(self.D, dη) + np.dot(self.G,η))\n",
    "        \n",
    "    def tau(self,η, dη, ddη):\n",
    "        return (np.matmul(self.M,ddη) + np.matmul(self.D, dη) + np.dot(self.G,η))"
   ]
  },
  {
   "cell_type": "code",
   "execution_count": 79,
   "metadata": {},
   "outputs": [],
   "source": [
    "V=VesselSemisub()"
   ]
  },
  {
   "cell_type": "code",
   "execution_count": 80,
   "metadata": {},
   "outputs": [],
   "source": [
    "η=np.array([0.1,0.3,0.4,0.5,0.6,0.7])\n",
    "dη=np.array([0,0,0,0,0,0])\n",
    "ddη=np.array([0,0,0,0,0,0])"
   ]
  },
  {
   "cell_type": "code",
   "execution_count": 81,
   "metadata": {},
   "outputs": [],
   "source": [
    "tau_force = V.tau(η,dη, ddη)"
   ]
  },
  {
   "cell_type": "code",
   "execution_count": 82,
   "metadata": {},
   "outputs": [
    {
     "data": {
      "text/plain": [
       "array([0.00000e+00, 0.00000e+00, 2.40000e+06, 7.14800e+09, 1.57272e+10,\n",
       "       0.00000e+00])"
      ]
     },
     "execution_count": 82,
     "metadata": {},
     "output_type": "execute_result"
    }
   ],
   "source": [
    "tau_force"
   ]
  },
  {
   "cell_type": "code",
   "execution_count": 83,
   "metadata": {},
   "outputs": [],
   "source": [
    "wave_coef=1"
   ]
  },
  {
   "cell_type": "code",
   "execution_count": 84,
   "metadata": {},
   "outputs": [],
   "source": [
    "def Fx(x,dx, z,dz, t, kp, kd, x_ref = 0, dx_ref=0, z_ref = 0, dz_ref=0):\n",
    "    return -kp*(x-x_ref) - kd*(dx-dx_ref)-kp*(z-z_ref) - kd*(dz-dz_ref)"
   ]
  },
  {
   "cell_type": "code",
   "execution_count": 85,
   "metadata": {},
   "outputs": [],
   "source": [
    "Hs = 2.5 # significant wave height in m"
   ]
  },
  {
   "cell_type": "code",
   "execution_count": 86,
   "metadata": {},
   "outputs": [],
   "source": [
    "def wave_force(Hs,d0,qw, Cd=1.2):\n",
    "    g=9.81 \n",
    "    return 0.5 * qw * g * Hs**2 * d0 * Cd"
   ]
  },
  {
   "cell_type": "code",
   "execution_count": 87,
   "metadata": {},
   "outputs": [
    {
     "data": {
      "text/plain": [
       "28695.1696875"
      ]
     },
     "execution_count": 87,
     "metadata": {},
     "output_type": "execute_result"
    }
   ],
   "source": [
    "wave_force(Hs,d0,qw, Cd=1.2)"
   ]
  },
  {
   "cell_type": "code",
   "execution_count": 88,
   "metadata": {},
   "outputs": [],
   "source": [
    "\n",
    "def tau(η, dη, wave_coef, kp, kd,time, Hs=2.5, Tp=10, x_ref = 0, dx_ref=0, z_ref = 0, dz_ref=0):\n",
    "    x,y,z,φ,θ,ψ=η\n",
    "    dx,dy,dz,dφ,dθ,dψ=dη\n",
    "    F=(np.array([-Fx(x,dx,z,dz,time, kp, kd, x_ref, dx_ref, z_ref, dz_ref),0,0])\n",
    "       +wave_coef*np.array([0,0,wave_force(Hs,d0,qw)])*np.sin(2*np.pi/Tp*time+1)\n",
    "      ).T\n",
    "    ans=np.concatenate( [F,[0,0,0]], axis=0)\n",
    "    return ans"
   ]
  },
  {
   "cell_type": "code",
   "execution_count": 89,
   "metadata": {},
   "outputs": [
    {
     "data": {
      "text/plain": [
       "array([9750.        ,    0.        , 7283.67179881,    0.        ,\n",
       "          0.        ,    0.        ])"
      ]
     },
     "execution_count": 89,
     "metadata": {},
     "output_type": "execute_result"
    }
   ],
   "source": [
    "tau(η, dη, wave_coef, kp, kd,3)"
   ]
  },
  {
   "cell_type": "markdown",
   "metadata": {},
   "source": [
    "### Static solution"
   ]
  },
  {
   "cell_type": "code",
   "execution_count": 90,
   "metadata": {},
   "outputs": [],
   "source": [
    "def catenary(x,Ws,Fh):\n",
    "    return (Fh/Ws)*(np.cosh(x*Ws/Fh)-1)"
   ]
  },
  {
   "cell_type": "code",
   "execution_count": 91,
   "metadata": {},
   "outputs": [],
   "source": [
    "pipe_weight_per_unit_length = mi #  (submerged) [kg/m]  # 113.07 - not submerged"
   ]
  },
  {
   "cell_type": "code",
   "execution_count": 92,
   "metadata": {},
   "outputs": [],
   "source": [
    "Fx_0=82945396"
   ]
  },
  {
   "cell_type": "code",
   "execution_count": 93,
   "metadata": {},
   "outputs": [],
   "source": [
    "Ws = np.array(pipe_weight_per_unit_length)*9.81 # [N/m]\n",
    "h=700"
   ]
  },
  {
   "cell_type": "code",
   "execution_count": 94,
   "metadata": {},
   "outputs": [],
   "source": [
    "S=math.sqrt(h*(2*Fx_0/Ws[0] -h))\n",
    "horizontal_length=(Fx_0/Ws[0] -h)*np.log((S+Fx_0/Ws[0])/(Fx_0/Ws[0]-h))"
   ]
  },
  {
   "cell_type": "code",
   "execution_count": 95,
   "metadata": {},
   "outputs": [
    {
     "data": {
      "text/plain": [
       "array([941.76, 941.76, 941.76, 941.76, 941.76, 941.76, 941.76, 941.76,\n",
       "       941.76, 941.76, 941.76, 941.76, 941.76, 941.76, 941.76, 941.76,\n",
       "       941.76, 941.76, 941.76, 941.76, 941.76, 941.76, 941.76, 941.76,\n",
       "       941.76, 941.76, 941.76, 941.76, 941.76, 941.76, 941.76, 941.76,\n",
       "       941.76, 941.76, 941.76, 941.76, 941.76, 941.76, 941.76, 941.76,\n",
       "       941.76, 941.76, 941.76, 941.76, 941.76, 941.76, 941.76, 941.76,\n",
       "       941.76, 941.76])"
      ]
     },
     "execution_count": 95,
     "metadata": {},
     "output_type": "execute_result"
    }
   ],
   "source": [
    "Ws"
   ]
  },
  {
   "cell_type": "code",
   "execution_count": 96,
   "metadata": {},
   "outputs": [],
   "source": [
    "delta_x=horizontal_length/(node_N-1)"
   ]
  },
  {
   "cell_type": "code",
   "execution_count": 97,
   "metadata": {},
   "outputs": [],
   "source": [
    "x0=[i*delta_x for i in range(node_N)]\n",
    "z0=[]\n",
    "\n",
    "for i in range(len(x0)):\n",
    "    z0.append(catenary(x0[i],Ws[0],Fx_0))\n",
    "\n",
    "length_p=[]\n",
    "for i in range(1,len(z0)):\n",
    "    length_p.append(math.sqrt((x0[i]-x0[i-1])**2+(z0[i]-z0[i-1])**2))"
   ]
  },
  {
   "cell_type": "code",
   "execution_count": 98,
   "metadata": {},
   "outputs": [
    {
     "data": {
      "text/plain": [
       "([0.0,\n",
       "  225.56499682574736,\n",
       "  451.1299936514947,\n",
       "  676.6949904772421,\n",
       "  902.2599873029894,\n",
       "  1127.8249841287368,\n",
       "  1353.3899809544841,\n",
       "  1578.9549777802315,\n",
       "  1804.5199746059789,\n",
       "  2030.0849714317262,\n",
       "  2255.6499682574736,\n",
       "  2481.2149650832207,\n",
       "  2706.7799619089683,\n",
       "  2932.344958734716,\n",
       "  3157.909955560463,\n",
       "  3383.47495238621,\n",
       "  3609.0399492119577,\n",
       "  3834.6049460377053,\n",
       "  4060.1699428634524,\n",
       "  4285.7349396892,\n",
       "  4511.299936514947,\n",
       "  4736.864933340695,\n",
       "  4962.429930166441,\n",
       "  5187.994926992189,\n",
       "  5413.559923817937,\n",
       "  5639.124920643684,\n",
       "  5864.689917469432,\n",
       "  6090.254914295178,\n",
       "  6315.819911120926,\n",
       "  6541.384907946674,\n",
       "  6766.94990477242,\n",
       "  6992.514901598168,\n",
       "  7218.079898423915,\n",
       "  7443.644895249663,\n",
       "  7669.209892075411,\n",
       "  7894.774888901157,\n",
       "  8120.339885726905,\n",
       "  8345.904882552652,\n",
       "  8571.4698793784,\n",
       "  8797.034876204147,\n",
       "  9022.599873029894,\n",
       "  9248.164869855642,\n",
       "  9473.72986668139,\n",
       "  9699.294863507137,\n",
       "  9924.859860332883,\n",
       "  10150.42485715863,\n",
       "  10375.989853984378,\n",
       "  10601.554850810126,\n",
       "  10827.119847635873,\n",
       "  11052.68484446162],\n",
       " [0.0,\n",
       "  0.2888428427924309,\n",
       "  1.155373265710624,\n",
       "  2.5995969523577234,\n",
       "  4.621523375418674,\n",
       "  7.221165796797117,\n",
       "  10.398541267595833,\n",
       "  14.15367062831231,\n",
       "  18.486578508975636,\n",
       "  23.39729332924428,\n",
       "  28.885847298621222,\n",
       "  34.95227641670818,\n",
       "  41.59662047340119,\n",
       "  48.81892304912524,\n",
       "  56.619231515186364,\n",
       "  64.99759703402582,\n",
       "  73.9540745596112,\n",
       "  83.48872283771031,\n",
       "  93.60160440638002,\n",
       "  104.29278559627915,\n",
       "  115.56233653119654,\n",
       "  127.41033112846175,\n",
       "  139.83684709937523,\n",
       "  152.8419659498538,\n",
       "  166.4257729808412,\n",
       "  180.58835728891447,\n",
       "  195.3298117668901,\n",
       "  210.65023310439128,\n",
       "  226.54972178849314,\n",
       "  243.02838210444648,\n",
       "  260.0863221362252,\n",
       "  277.72365376736735,\n",
       "  295.94049268164,\n",
       "  314.7369583638412,\n",
       "  334.1131741005232,\n",
       "  354.0692669808534,\n",
       "  374.60536789741576,\n",
       "  395.72161154711085,\n",
       "  417.41813643197673,\n",
       "  439.6950848601867,\n",
       "  462.5526029468705,\n",
       "  485.9908406151509,\n",
       "  510.0099515971214,\n",
       "  534.6100934348437,\n",
       "  559.7914274813454,\n",
       "  585.5541189017534,\n",
       "  611.8983366742727,\n",
       "  638.8242535914375,\n",
       "  666.3320462610891,\n",
       "  694.4218951076863])"
      ]
     },
     "execution_count": 98,
     "metadata": {},
     "output_type": "execute_result"
    }
   ],
   "source": [
    "x0,z0"
   ]
  },
  {
   "cell_type": "code",
   "execution_count": 99,
   "metadata": {},
   "outputs": [
    {
     "data": {
      "text/plain": [
       "[225.56518176169666,\n",
       " 225.56666125111053,\n",
       " 225.5696202396424,\n",
       " 225.57405874670005,\n",
       " 225.57997680139619,\n",
       " 225.58737444254686,\n",
       " 225.59625171867356,\n",
       " 225.60660868800304,\n",
       " 225.61844541846622,\n",
       " 225.63176198770017,\n",
       " 225.64655848304906,\n",
       " 225.66283500156428,\n",
       " 225.6805916500017,\n",
       " 225.69982854482856,\n",
       " 225.72054581222017,\n",
       " 225.74274358806272,\n",
       " 225.76642201794883,\n",
       " 225.79158125718783,\n",
       " 225.81822147079842,\n",
       " 225.84634283351636,\n",
       " 225.8759455297893,\n",
       " 225.90702975377832,\n",
       " 225.93959570937227,\n",
       " 225.97364361016668,\n",
       " 226.00917367948318,\n",
       " 226.04618615036563,\n",
       " 226.08468126557727,\n",
       " 226.1246592776104,\n",
       " 226.1661204486828,\n",
       " 226.20906505073324,\n",
       " 226.25349336544267,\n",
       " 226.29940568421313,\n",
       " 226.34680230818745,\n",
       " 226.39568354823808,\n",
       " 226.4460497249786,\n",
       " 226.49790116876304,\n",
       " 226.55123821968485,\n",
       " 226.60606122758307,\n",
       " 226.6623705520452,\n",
       " 226.72016656240044,\n",
       " 226.77944963773572,\n",
       " 226.84022016689133,\n",
       " 226.90247854846268,\n",
       " 226.96622519079838,\n",
       " 227.03146051202393,\n",
       " 227.0981849400066,\n",
       " 227.16639891240425,\n",
       " 227.2361028766249,\n",
       " 227.30729728986748]"
      ]
     },
     "execution_count": 99,
     "metadata": {},
     "output_type": "execute_result"
    }
   ],
   "source": [
    "length_p"
   ]
  },
  {
   "cell_type": "code",
   "execution_count": 100,
   "metadata": {},
   "outputs": [
    {
     "data": {
      "image/png": "[encoded data removed]",
      "text/plain": [
       "<Figure size 432x288 with 1 Axes>"
      ]
     },
     "metadata": {
      "needs_background": "light"
     },
     "output_type": "display_data"
    }
   ],
   "source": [
    "plt.plot(x0, z0)\n",
    "plt.show()"
   ]
  },
  {
   "cell_type": "code",
   "execution_count": 101,
   "metadata": {},
   "outputs": [],
   "source": [
    "rng = np.random.default_rng(seed=29)\n",
    "q0=np.zeros(12*node_N)"
   ]
  },
  {
   "cell_type": "code",
   "execution_count": 102,
   "metadata": {},
   "outputs": [],
   "source": [
    "for j in range(1,12):\n",
    "    if j==1:  \n",
    "        q0[(j-1)*node_N:j*node_N]=x0\n",
    "    elif j==5:    \n",
    "        q0[(j-1)*node_N:j*node_N]=z0"
   ]
  },
  {
   "cell_type": "code",
   "execution_count": 103,
   "metadata": {},
   "outputs": [],
   "source": [
    "def static_func(Q):\n",
    "    t=0\n",
    " \n",
    "    x,y,z=Q[0:node_N],Q[2*node_N:3*node_N],Q[4*node_N:5*node_N]\n",
    "    dx,dy,dz=Q[1*node_N:2*node_N],Q[3*node_N:4*node_N],Q[5*node_N:6*node_N]\n",
    "    φ,θ,ψ=Q[6*node_N:7*node_N],Q[8*node_N:9*node_N],Q[10*node_N:11*node_N]\n",
    "    Ret = Re_t(φ,θ,ψ)\n",
    "\n",
    "    \n",
    "    dφ,dθ,dψ=Q[7*node_N:8*node_N],Q[9*node_N:10*node_N],Q[11*node_N:12*node_N]\n",
    "    \n",
    "    η=[x[-1],y[-1],z[-1],φ[-1],θ[-1],ψ[-1]]\n",
    "    \n",
    "    tau_force=np.array([-Fx_0,0,0,0,0,0])\n",
    "\n",
    "\n",
    "    Z0=np.dot(Re_b(Ret),tau_force[:3])\n",
    "    Z1 = d_s(ne, x, y, z, Ret, ωe(φ,θ,ψ,None,None)).T\n",
    "#     Z1 = d_s(ne, x, y, z, Ret, phi(x,y,z,Ret,None)).T\n",
    "    DT_0=np.zeros((3,3))\n",
    "    Z2=ne_(dx,dy,dz,DT_0,Ret).T\n",
    "    \n",
    "    \n",
    "    Z =  Z1 + Z2 + Z0\n",
    "    \n",
    "############################################################    \n",
    "    ddx,ddy, ddz = np.linalg.solve(Ws[0]*Re_b(Ret),Z).T\n",
    "############################################################    \n",
    "\n",
    "   \n",
    "    C0=np.einsum('ijk,kp->ijp',np.einsum('ijk,ikr->ijr',np.linalg.inv(Π(φ,θ,ψ).astype(np.float32)),\n",
    "                        Re_b(Ret)),tau_force[3:].reshape(3,1)) \n",
    "    C3=d_me(φ,θ,ψ,Ret,  ωe,ωe(φ,θ,ψ,None,None))\n",
    "    B_ =C3\n",
    "    B=(B_ + C0.squeeze()\n",
    "      )\n",
    "\n",
    "    A2 = Irho_e(Ret).astype(np.float32)\n",
    "    A3=Π(φ,θ,ψ).astype(np.float32)\n",
    "    A=np.einsum('ijk,ikr->ijr',A2,A3)\n",
    "\n",
    "\n",
    "#############################################\n",
    "    ddφ,ddθ,ddψ = np.linalg.solve(A,B).T\n",
    "#############################################\n",
    "\n",
    "\n",
    "    ans=np.concatenate([dx, ddx, dy, ddy, dz, ddz, dφ, ddφ, dθ, ddθ, dψ, ddψ], axis=0)\n",
    "  \n",
    "    return ans "
   ]
  },
  {
   "cell_type": "code",
   "execution_count": 104,
   "metadata": {},
   "outputs": [
    {
     "data": {
      "text/plain": [
       "array([0.00000000e+00, 2.25564997e+02, 4.51129994e+02, 6.76694990e+02,\n",
       "       9.02259987e+02, 1.12782498e+03, 1.35338998e+03, 1.57895498e+03,\n",
       "       1.80451997e+03, 2.03008497e+03, 2.25564997e+03, 2.48121497e+03,\n",
       "       2.70677996e+03, 2.93234496e+03, 3.15790996e+03, 3.38347495e+03,\n",
       "       3.60903995e+03, 3.83460495e+03, 4.06016994e+03, 4.28573494e+03,\n",
       "       4.51129994e+03, 4.73686493e+03, 4.96242993e+03, 5.18799493e+03,\n",
       "       5.41355992e+03, 5.63912492e+03, 5.86468992e+03, 6.09025491e+03,\n",
       "       6.31581991e+03, 6.54138491e+03, 6.76694990e+03, 6.99251490e+03,\n",
       "       7.21807990e+03, 7.44364490e+03, 7.66920989e+03, 7.89477489e+03,\n",
       "       8.12033989e+03, 8.34590488e+03, 8.57146988e+03, 8.79703488e+03,\n",
       "       9.02259987e+03, 9.24816487e+03, 9.47372987e+03, 9.69929486e+03,\n",
       "       9.92485986e+03, 1.01504249e+04, 1.03759899e+04, 1.06015549e+04,\n",
       "       1.08271198e+04, 1.10526848e+04, 0.00000000e+00, 0.00000000e+00,\n",
       "       0.00000000e+00, 0.00000000e+00, 0.00000000e+00, 0.00000000e+00,\n",
       "       0.00000000e+00, 0.00000000e+00, 0.00000000e+00, 0.00000000e+00,\n",
       "       0.00000000e+00, 0.00000000e+00, 0.00000000e+00, 0.00000000e+00,\n",
       "       0.00000000e+00, 0.00000000e+00, 0.00000000e+00, 0.00000000e+00,\n",
       "       0.00000000e+00, 0.00000000e+00, 0.00000000e+00, 0.00000000e+00,\n",
       "       0.00000000e+00, 0.00000000e+00, 0.00000000e+00, 0.00000000e+00,\n",
       "       0.00000000e+00, 0.00000000e+00, 0.00000000e+00, 0.00000000e+00,\n",
       "       0.00000000e+00, 0.00000000e+00, 0.00000000e+00, 0.00000000e+00,\n",
       "       0.00000000e+00, 0.00000000e+00, 0.00000000e+00, 0.00000000e+00,\n",
       "       0.00000000e+00, 0.00000000e+00, 0.00000000e+00, 0.00000000e+00,\n",
       "       0.00000000e+00, 0.00000000e+00, 0.00000000e+00, 0.00000000e+00,\n",
       "       0.00000000e+00, 0.00000000e+00, 0.00000000e+00, 0.00000000e+00,\n",
       "       0.00000000e+00, 0.00000000e+00, 0.00000000e+00, 0.00000000e+00,\n",
       "       0.00000000e+00, 0.00000000e+00, 0.00000000e+00, 0.00000000e+00,\n",
       "       0.00000000e+00, 0.00000000e+00, 0.00000000e+00, 0.00000000e+00,\n",
       "       0.00000000e+00, 0.00000000e+00, 0.00000000e+00, 0.00000000e+00,\n",
       "       0.00000000e+00, 0.00000000e+00, 0.00000000e+00, 0.00000000e+00,\n",
       "       0.00000000e+00, 0.00000000e+00, 0.00000000e+00, 0.00000000e+00,\n",
       "       0.00000000e+00, 0.00000000e+00, 0.00000000e+00, 0.00000000e+00,\n",
       "       0.00000000e+00, 0.00000000e+00, 0.00000000e+00, 0.00000000e+00,\n",
       "       0.00000000e+00, 0.00000000e+00, 0.00000000e+00, 0.00000000e+00,\n",
       "       0.00000000e+00, 0.00000000e+00, 0.00000000e+00, 0.00000000e+00,\n",
       "       0.00000000e+00, 0.00000000e+00, 0.00000000e+00, 0.00000000e+00,\n",
       "       0.00000000e+00, 0.00000000e+00, 0.00000000e+00, 0.00000000e+00,\n",
       "       0.00000000e+00, 0.00000000e+00, 0.00000000e+00, 0.00000000e+00,\n",
       "       0.00000000e+00, 0.00000000e+00, 0.00000000e+00, 0.00000000e+00,\n",
       "       0.00000000e+00, 0.00000000e+00, 0.00000000e+00, 0.00000000e+00,\n",
       "       0.00000000e+00, 0.00000000e+00, 0.00000000e+00, 0.00000000e+00,\n",
       "       0.00000000e+00, 0.00000000e+00, 0.00000000e+00, 0.00000000e+00,\n",
       "       0.00000000e+00, 0.00000000e+00, 0.00000000e+00, 0.00000000e+00,\n",
       "       0.00000000e+00, 0.00000000e+00, 0.00000000e+00, 0.00000000e+00,\n",
       "       0.00000000e+00, 0.00000000e+00, 0.00000000e+00, 0.00000000e+00,\n",
       "       0.00000000e+00, 0.00000000e+00, 0.00000000e+00, 0.00000000e+00,\n",
       "       0.00000000e+00, 0.00000000e+00, 0.00000000e+00, 0.00000000e+00,\n",
       "       0.00000000e+00, 0.00000000e+00, 0.00000000e+00, 0.00000000e+00,\n",
       "       0.00000000e+00, 0.00000000e+00, 0.00000000e+00, 0.00000000e+00,\n",
       "       0.00000000e+00, 0.00000000e+00, 0.00000000e+00, 0.00000000e+00,\n",
       "       0.00000000e+00, 2.88842843e-01, 1.15537327e+00, 2.59959695e+00,\n",
       "       4.62152338e+00, 7.22116580e+00, 1.03985413e+01, 1.41536706e+01,\n",
       "       1.84865785e+01, 2.33972933e+01, 2.88858473e+01, 3.49522764e+01,\n",
       "       4.15966205e+01, 4.88189230e+01, 5.66192315e+01, 6.49975970e+01,\n",
       "       7.39540746e+01, 8.34887228e+01, 9.36016044e+01, 1.04292786e+02,\n",
       "       1.15562337e+02, 1.27410331e+02, 1.39836847e+02, 1.52841966e+02,\n",
       "       1.66425773e+02, 1.80588357e+02, 1.95329812e+02, 2.10650233e+02,\n",
       "       2.26549722e+02, 2.43028382e+02, 2.60086322e+02, 2.77723654e+02,\n",
       "       2.95940493e+02, 3.14736958e+02, 3.34113174e+02, 3.54069267e+02,\n",
       "       3.74605368e+02, 3.95721612e+02, 4.17418136e+02, 4.39695085e+02,\n",
       "       4.62552603e+02, 4.85990841e+02, 5.10009952e+02, 5.34610093e+02,\n",
       "       5.59791427e+02, 5.85554119e+02, 6.11898337e+02, 6.38824254e+02,\n",
       "       6.66332046e+02, 6.94421895e+02, 0.00000000e+00, 0.00000000e+00,\n",
       "       0.00000000e+00, 0.00000000e+00, 0.00000000e+00, 0.00000000e+00,\n",
       "       0.00000000e+00, 0.00000000e+00, 0.00000000e+00, 0.00000000e+00,\n",
       "       0.00000000e+00, 0.00000000e+00, 0.00000000e+00, 0.00000000e+00,\n",
       "       0.00000000e+00, 0.00000000e+00, 0.00000000e+00, 0.00000000e+00,\n",
       "       0.00000000e+00, 0.00000000e+00, 0.00000000e+00, 0.00000000e+00,\n",
       "       0.00000000e+00, 0.00000000e+00, 0.00000000e+00, 0.00000000e+00,\n",
       "       0.00000000e+00, 0.00000000e+00, 0.00000000e+00, 0.00000000e+00,\n",
       "       0.00000000e+00, 0.00000000e+00, 0.00000000e+00, 0.00000000e+00,\n",
       "       0.00000000e+00, 0.00000000e+00, 0.00000000e+00, 0.00000000e+00,\n",
       "       0.00000000e+00, 0.00000000e+00, 0.00000000e+00, 0.00000000e+00,\n",
       "       0.00000000e+00, 0.00000000e+00, 0.00000000e+00, 0.00000000e+00,\n",
       "       0.00000000e+00, 0.00000000e+00, 0.00000000e+00, 0.00000000e+00,\n",
       "       0.00000000e+00, 0.00000000e+00, 0.00000000e+00, 0.00000000e+00,\n",
       "       0.00000000e+00, 0.00000000e+00, 0.00000000e+00, 0.00000000e+00,\n",
       "       0.00000000e+00, 0.00000000e+00, 0.00000000e+00, 0.00000000e+00,\n",
       "       0.00000000e+00, 0.00000000e+00, 0.00000000e+00, 0.00000000e+00,\n",
       "       0.00000000e+00, 0.00000000e+00, 0.00000000e+00, 0.00000000e+00,\n",
       "       0.00000000e+00, 0.00000000e+00, 0.00000000e+00, 0.00000000e+00,\n",
       "       0.00000000e+00, 0.00000000e+00, 0.00000000e+00, 0.00000000e+00,\n",
       "       0.00000000e+00, 0.00000000e+00, 0.00000000e+00, 0.00000000e+00,\n",
       "       0.00000000e+00, 0.00000000e+00, 0.00000000e+00, 0.00000000e+00,\n",
       "       0.00000000e+00, 0.00000000e+00, 0.00000000e+00, 0.00000000e+00,\n",
       "       0.00000000e+00, 0.00000000e+00, 0.00000000e+00, 0.00000000e+00,\n",
       "       0.00000000e+00, 0.00000000e+00, 0.00000000e+00, 0.00000000e+00,\n",
       "       0.00000000e+00, 0.00000000e+00, 0.00000000e+00, 0.00000000e+00,\n",
       "       0.00000000e+00, 0.00000000e+00, 0.00000000e+00, 0.00000000e+00,\n",
       "       0.00000000e+00, 0.00000000e+00, 0.00000000e+00, 0.00000000e+00,\n",
       "       0.00000000e+00, 0.00000000e+00, 0.00000000e+00, 0.00000000e+00,\n",
       "       0.00000000e+00, 0.00000000e+00, 0.00000000e+00, 0.00000000e+00,\n",
       "       0.00000000e+00, 0.00000000e+00, 0.00000000e+00, 0.00000000e+00,\n",
       "       0.00000000e+00, 0.00000000e+00, 0.00000000e+00, 0.00000000e+00,\n",
       "       0.00000000e+00, 0.00000000e+00, 0.00000000e+00, 0.00000000e+00,\n",
       "       0.00000000e+00, 0.00000000e+00, 0.00000000e+00, 0.00000000e+00,\n",
       "       0.00000000e+00, 0.00000000e+00, 0.00000000e+00, 0.00000000e+00,\n",
       "       0.00000000e+00, 0.00000000e+00, 0.00000000e+00, 0.00000000e+00,\n",
       "       0.00000000e+00, 0.00000000e+00, 0.00000000e+00, 0.00000000e+00,\n",
       "       0.00000000e+00, 0.00000000e+00, 0.00000000e+00, 0.00000000e+00,\n",
       "       0.00000000e+00, 0.00000000e+00, 0.00000000e+00, 0.00000000e+00,\n",
       "       0.00000000e+00, 0.00000000e+00, 0.00000000e+00, 0.00000000e+00,\n",
       "       0.00000000e+00, 0.00000000e+00, 0.00000000e+00, 0.00000000e+00,\n",
       "       0.00000000e+00, 0.00000000e+00, 0.00000000e+00, 0.00000000e+00,\n",
       "       0.00000000e+00, 0.00000000e+00, 0.00000000e+00, 0.00000000e+00,\n",
       "       0.00000000e+00, 0.00000000e+00, 0.00000000e+00, 0.00000000e+00,\n",
       "       0.00000000e+00, 0.00000000e+00, 0.00000000e+00, 0.00000000e+00,\n",
       "       0.00000000e+00, 0.00000000e+00, 0.00000000e+00, 0.00000000e+00,\n",
       "       0.00000000e+00, 0.00000000e+00, 0.00000000e+00, 0.00000000e+00,\n",
       "       0.00000000e+00, 0.00000000e+00, 0.00000000e+00, 0.00000000e+00,\n",
       "       0.00000000e+00, 0.00000000e+00, 0.00000000e+00, 0.00000000e+00,\n",
       "       0.00000000e+00, 0.00000000e+00, 0.00000000e+00, 0.00000000e+00,\n",
       "       0.00000000e+00, 0.00000000e+00, 0.00000000e+00, 0.00000000e+00,\n",
       "       0.00000000e+00, 0.00000000e+00, 0.00000000e+00, 0.00000000e+00,\n",
       "       0.00000000e+00, 0.00000000e+00, 0.00000000e+00, 0.00000000e+00,\n",
       "       0.00000000e+00, 0.00000000e+00, 0.00000000e+00, 0.00000000e+00,\n",
       "       0.00000000e+00, 0.00000000e+00, 0.00000000e+00, 0.00000000e+00,\n",
       "       0.00000000e+00, 0.00000000e+00, 0.00000000e+00, 0.00000000e+00,\n",
       "       0.00000000e+00, 0.00000000e+00, 0.00000000e+00, 0.00000000e+00,\n",
       "       0.00000000e+00, 0.00000000e+00, 0.00000000e+00, 0.00000000e+00,\n",
       "       0.00000000e+00, 0.00000000e+00, 0.00000000e+00, 0.00000000e+00,\n",
       "       0.00000000e+00, 0.00000000e+00, 0.00000000e+00, 0.00000000e+00,\n",
       "       0.00000000e+00, 0.00000000e+00, 0.00000000e+00, 0.00000000e+00,\n",
       "       0.00000000e+00, 0.00000000e+00, 0.00000000e+00, 0.00000000e+00,\n",
       "       0.00000000e+00, 0.00000000e+00, 0.00000000e+00, 0.00000000e+00,\n",
       "       0.00000000e+00, 0.00000000e+00, 0.00000000e+00, 0.00000000e+00,\n",
       "       0.00000000e+00, 0.00000000e+00, 0.00000000e+00, 0.00000000e+00,\n",
       "       0.00000000e+00, 0.00000000e+00, 0.00000000e+00, 0.00000000e+00,\n",
       "       0.00000000e+00, 0.00000000e+00, 0.00000000e+00, 0.00000000e+00,\n",
       "       0.00000000e+00, 0.00000000e+00, 0.00000000e+00, 0.00000000e+00,\n",
       "       0.00000000e+00, 0.00000000e+00, 0.00000000e+00, 0.00000000e+00,\n",
       "       0.00000000e+00, 0.00000000e+00, 0.00000000e+00, 0.00000000e+00,\n",
       "       0.00000000e+00, 0.00000000e+00, 0.00000000e+00, 0.00000000e+00,\n",
       "       0.00000000e+00, 0.00000000e+00, 0.00000000e+00, 0.00000000e+00,\n",
       "       0.00000000e+00, 0.00000000e+00, 0.00000000e+00, 0.00000000e+00,\n",
       "       0.00000000e+00, 0.00000000e+00, 0.00000000e+00, 0.00000000e+00,\n",
       "       0.00000000e+00, 0.00000000e+00, 0.00000000e+00, 0.00000000e+00,\n",
       "       0.00000000e+00, 0.00000000e+00, 0.00000000e+00, 0.00000000e+00,\n",
       "       0.00000000e+00, 0.00000000e+00, 0.00000000e+00, 0.00000000e+00,\n",
       "       0.00000000e+00, 0.00000000e+00, 0.00000000e+00, 0.00000000e+00,\n",
       "       0.00000000e+00, 0.00000000e+00, 0.00000000e+00, 0.00000000e+00,\n",
       "       0.00000000e+00, 0.00000000e+00, 0.00000000e+00, 0.00000000e+00,\n",
       "       0.00000000e+00, 0.00000000e+00, 0.00000000e+00, 0.00000000e+00,\n",
       "       0.00000000e+00, 0.00000000e+00, 0.00000000e+00, 0.00000000e+00,\n",
       "       0.00000000e+00, 0.00000000e+00, 0.00000000e+00, 0.00000000e+00,\n",
       "       0.00000000e+00, 0.00000000e+00, 0.00000000e+00, 0.00000000e+00,\n",
       "       0.00000000e+00, 0.00000000e+00, 0.00000000e+00, 0.00000000e+00,\n",
       "       0.00000000e+00, 0.00000000e+00, 0.00000000e+00, 0.00000000e+00,\n",
       "       0.00000000e+00, 0.00000000e+00, 0.00000000e+00, 0.00000000e+00,\n",
       "       0.00000000e+00, 0.00000000e+00, 0.00000000e+00, 0.00000000e+00])"
      ]
     },
     "execution_count": 104,
     "metadata": {},
     "output_type": "execute_result"
    }
   ],
   "source": [
    "q0"
   ]
  },
  {
   "cell_type": "code",
   "execution_count": 105,
   "metadata": {},
   "outputs": [
    {
     "name": "stderr",
     "output_type": "stream",
     "text": [
      "/Library/Frameworks/Python.framework/Versions/3.7/lib/python3.7/site-packages/scipy/optimize/minpack.py:175: RuntimeWarning: The iteration is not making good progress, as measured by the \n",
      "  improvement from the last ten iterations.\n",
      "  warnings.warn(msg, RuntimeWarning)\n"
     ]
    }
   ],
   "source": [
    "root = fsolve(static_func, q0)"
   ]
  },
  {
   "cell_type": "code",
   "execution_count": 106,
   "metadata": {},
   "outputs": [
    {
     "data": {
      "text/plain": [
       "array([0.00000000e+00, 2.25564997e+02, 4.51129994e+02, 6.76694990e+02,\n",
       "       9.02259987e+02, 1.12782498e+03, 1.35338998e+03, 1.57895498e+03,\n",
       "       1.80451997e+03, 2.03008497e+03, 2.25564997e+03, 2.48121497e+03,\n",
       "       2.70677996e+03, 2.93234496e+03, 3.15790996e+03, 3.38347495e+03,\n",
       "       3.60903995e+03, 3.83460495e+03, 4.06016994e+03, 4.28573494e+03,\n",
       "       4.51129994e+03, 4.73686493e+03, 4.96242993e+03, 5.18799493e+03,\n",
       "       5.41355992e+03, 5.63912492e+03, 5.86468992e+03, 6.09025491e+03,\n",
       "       6.31581991e+03, 6.54138491e+03, 6.76694990e+03, 6.99251490e+03,\n",
       "       7.21807990e+03, 7.44364490e+03, 7.66920989e+03, 7.89477489e+03,\n",
       "       8.12033989e+03, 8.34590488e+03, 8.57146988e+03, 8.79703488e+03,\n",
       "       9.02259987e+03, 9.24816487e+03, 9.47372987e+03, 9.69929486e+03,\n",
       "       9.92485986e+03, 1.01504249e+04, 1.03759899e+04, 1.06015549e+04,\n",
       "       1.08271198e+04, 1.10526848e+04, 0.00000000e+00, 0.00000000e+00,\n",
       "       0.00000000e+00, 0.00000000e+00, 0.00000000e+00, 0.00000000e+00,\n",
       "       0.00000000e+00, 0.00000000e+00, 0.00000000e+00, 0.00000000e+00,\n",
       "       0.00000000e+00, 0.00000000e+00, 0.00000000e+00, 0.00000000e+00,\n",
       "       0.00000000e+00, 0.00000000e+00, 0.00000000e+00, 0.00000000e+00,\n",
       "       0.00000000e+00, 0.00000000e+00, 0.00000000e+00, 0.00000000e+00,\n",
       "       0.00000000e+00, 0.00000000e+00, 0.00000000e+00, 0.00000000e+00,\n",
       "       0.00000000e+00, 0.00000000e+00, 0.00000000e+00, 0.00000000e+00,\n",
       "       0.00000000e+00, 0.00000000e+00, 0.00000000e+00, 0.00000000e+00,\n",
       "       0.00000000e+00, 0.00000000e+00, 0.00000000e+00, 0.00000000e+00,\n",
       "       0.00000000e+00, 0.00000000e+00, 0.00000000e+00, 0.00000000e+00,\n",
       "       0.00000000e+00, 0.00000000e+00, 0.00000000e+00, 0.00000000e+00,\n",
       "       0.00000000e+00, 0.00000000e+00, 0.00000000e+00, 0.00000000e+00,\n",
       "       0.00000000e+00, 0.00000000e+00, 0.00000000e+00, 0.00000000e+00,\n",
       "       0.00000000e+00, 0.00000000e+00, 0.00000000e+00, 0.00000000e+00,\n",
       "       0.00000000e+00, 0.00000000e+00, 0.00000000e+00, 0.00000000e+00,\n",
       "       0.00000000e+00, 0.00000000e+00, 0.00000000e+00, 0.00000000e+00,\n",
       "       0.00000000e+00, 0.00000000e+00, 0.00000000e+00, 0.00000000e+00,\n",
       "       0.00000000e+00, 0.00000000e+00, 0.00000000e+00, 0.00000000e+00,\n",
       "       0.00000000e+00, 0.00000000e+00, 0.00000000e+00, 0.00000000e+00,\n",
       "       0.00000000e+00, 0.00000000e+00, 0.00000000e+00, 0.00000000e+00,\n",
       "       0.00000000e+00, 0.00000000e+00, 0.00000000e+00, 0.00000000e+00,\n",
       "       0.00000000e+00, 0.00000000e+00, 0.00000000e+00, 0.00000000e+00,\n",
       "       0.00000000e+00, 0.00000000e+00, 0.00000000e+00, 0.00000000e+00,\n",
       "       0.00000000e+00, 0.00000000e+00, 0.00000000e+00, 0.00000000e+00,\n",
       "       0.00000000e+00, 0.00000000e+00, 0.00000000e+00, 0.00000000e+00,\n",
       "       0.00000000e+00, 0.00000000e+00, 0.00000000e+00, 0.00000000e+00,\n",
       "       0.00000000e+00, 0.00000000e+00, 0.00000000e+00, 0.00000000e+00,\n",
       "       0.00000000e+00, 0.00000000e+00, 0.00000000e+00, 0.00000000e+00,\n",
       "       0.00000000e+00, 0.00000000e+00, 0.00000000e+00, 0.00000000e+00,\n",
       "       0.00000000e+00, 0.00000000e+00, 0.00000000e+00, 0.00000000e+00,\n",
       "       0.00000000e+00, 0.00000000e+00, 0.00000000e+00, 0.00000000e+00,\n",
       "       0.00000000e+00, 0.00000000e+00, 0.00000000e+00, 0.00000000e+00,\n",
       "       0.00000000e+00, 0.00000000e+00, 0.00000000e+00, 0.00000000e+00,\n",
       "       0.00000000e+00, 0.00000000e+00, 0.00000000e+00, 0.00000000e+00,\n",
       "       0.00000000e+00, 0.00000000e+00, 0.00000000e+00, 0.00000000e+00,\n",
       "       0.00000000e+00, 0.00000000e+00, 0.00000000e+00, 0.00000000e+00,\n",
       "       0.00000000e+00, 0.00000000e+00, 0.00000000e+00, 0.00000000e+00,\n",
       "       0.00000000e+00, 2.88842843e-01, 1.15537327e+00, 2.59959695e+00,\n",
       "       4.62152338e+00, 7.22116580e+00, 1.03985413e+01, 1.41536706e+01,\n",
       "       1.84865785e+01, 2.33972933e+01, 2.88858473e+01, 3.49522764e+01,\n",
       "       4.15966205e+01, 4.88189230e+01, 5.66192315e+01, 6.49975970e+01,\n",
       "       7.39540746e+01, 8.34887228e+01, 9.36016044e+01, 1.04292786e+02,\n",
       "       1.15562337e+02, 1.27410331e+02, 1.39836847e+02, 1.52841966e+02,\n",
       "       1.66425773e+02, 1.80588357e+02, 1.95329812e+02, 2.10650233e+02,\n",
       "       2.26549722e+02, 2.43028382e+02, 2.60086322e+02, 2.77723654e+02,\n",
       "       2.95940493e+02, 3.14736958e+02, 3.34113174e+02, 3.54069267e+02,\n",
       "       3.74605368e+02, 3.95721612e+02, 4.17418136e+02, 4.39695085e+02,\n",
       "       4.62552603e+02, 4.85990841e+02, 5.10009952e+02, 5.34610093e+02,\n",
       "       5.59791427e+02, 5.85554119e+02, 6.11898337e+02, 6.38824254e+02,\n",
       "       6.66332046e+02, 6.94421895e+02, 0.00000000e+00, 0.00000000e+00,\n",
       "       0.00000000e+00, 0.00000000e+00, 0.00000000e+00, 0.00000000e+00,\n",
       "       0.00000000e+00, 0.00000000e+00, 0.00000000e+00, 0.00000000e+00,\n",
       "       0.00000000e+00, 0.00000000e+00, 0.00000000e+00, 0.00000000e+00,\n",
       "       0.00000000e+00, 0.00000000e+00, 0.00000000e+00, 0.00000000e+00,\n",
       "       0.00000000e+00, 0.00000000e+00, 0.00000000e+00, 0.00000000e+00,\n",
       "       0.00000000e+00, 0.00000000e+00, 0.00000000e+00, 0.00000000e+00,\n",
       "       0.00000000e+00, 0.00000000e+00, 0.00000000e+00, 0.00000000e+00,\n",
       "       0.00000000e+00, 0.00000000e+00, 0.00000000e+00, 0.00000000e+00,\n",
       "       0.00000000e+00, 0.00000000e+00, 0.00000000e+00, 0.00000000e+00,\n",
       "       0.00000000e+00, 0.00000000e+00, 0.00000000e+00, 0.00000000e+00,\n",
       "       0.00000000e+00, 0.00000000e+00, 0.00000000e+00, 0.00000000e+00,\n",
       "       0.00000000e+00, 0.00000000e+00, 0.00000000e+00, 0.00000000e+00,\n",
       "       0.00000000e+00, 0.00000000e+00, 0.00000000e+00, 0.00000000e+00,\n",
       "       0.00000000e+00, 0.00000000e+00, 0.00000000e+00, 0.00000000e+00,\n",
       "       0.00000000e+00, 0.00000000e+00, 0.00000000e+00, 0.00000000e+00,\n",
       "       0.00000000e+00, 0.00000000e+00, 0.00000000e+00, 0.00000000e+00,\n",
       "       0.00000000e+00, 0.00000000e+00, 0.00000000e+00, 0.00000000e+00,\n",
       "       0.00000000e+00, 0.00000000e+00, 0.00000000e+00, 0.00000000e+00,\n",
       "       0.00000000e+00, 0.00000000e+00, 0.00000000e+00, 0.00000000e+00,\n",
       "       0.00000000e+00, 0.00000000e+00, 0.00000000e+00, 0.00000000e+00,\n",
       "       0.00000000e+00, 0.00000000e+00, 0.00000000e+00, 0.00000000e+00,\n",
       "       0.00000000e+00, 0.00000000e+00, 0.00000000e+00, 0.00000000e+00,\n",
       "       0.00000000e+00, 0.00000000e+00, 0.00000000e+00, 0.00000000e+00,\n",
       "       0.00000000e+00, 0.00000000e+00, 0.00000000e+00, 0.00000000e+00,\n",
       "       0.00000000e+00, 0.00000000e+00, 0.00000000e+00, 0.00000000e+00,\n",
       "       0.00000000e+00, 0.00000000e+00, 0.00000000e+00, 0.00000000e+00,\n",
       "       0.00000000e+00, 0.00000000e+00, 0.00000000e+00, 0.00000000e+00,\n",
       "       0.00000000e+00, 0.00000000e+00, 0.00000000e+00, 0.00000000e+00,\n",
       "       0.00000000e+00, 0.00000000e+00, 0.00000000e+00, 0.00000000e+00,\n",
       "       0.00000000e+00, 0.00000000e+00, 0.00000000e+00, 0.00000000e+00,\n",
       "       0.00000000e+00, 0.00000000e+00, 0.00000000e+00, 0.00000000e+00,\n",
       "       0.00000000e+00, 0.00000000e+00, 0.00000000e+00, 0.00000000e+00,\n",
       "       0.00000000e+00, 0.00000000e+00, 0.00000000e+00, 0.00000000e+00,\n",
       "       0.00000000e+00, 0.00000000e+00, 0.00000000e+00, 0.00000000e+00,\n",
       "       0.00000000e+00, 0.00000000e+00, 0.00000000e+00, 0.00000000e+00,\n",
       "       0.00000000e+00, 0.00000000e+00, 0.00000000e+00, 0.00000000e+00,\n",
       "       0.00000000e+00, 0.00000000e+00, 0.00000000e+00, 0.00000000e+00,\n",
       "       0.00000000e+00, 0.00000000e+00, 0.00000000e+00, 0.00000000e+00,\n",
       "       0.00000000e+00, 0.00000000e+00, 0.00000000e+00, 0.00000000e+00,\n",
       "       0.00000000e+00, 0.00000000e+00, 0.00000000e+00, 0.00000000e+00,\n",
       "       0.00000000e+00, 0.00000000e+00, 0.00000000e+00, 0.00000000e+00,\n",
       "       0.00000000e+00, 0.00000000e+00, 0.00000000e+00, 0.00000000e+00,\n",
       "       0.00000000e+00, 0.00000000e+00, 0.00000000e+00, 0.00000000e+00,\n",
       "       0.00000000e+00, 0.00000000e+00, 0.00000000e+00, 0.00000000e+00,\n",
       "       0.00000000e+00, 0.00000000e+00, 0.00000000e+00, 0.00000000e+00,\n",
       "       0.00000000e+00, 0.00000000e+00, 0.00000000e+00, 0.00000000e+00,\n",
       "       0.00000000e+00, 0.00000000e+00, 0.00000000e+00, 0.00000000e+00,\n",
       "       0.00000000e+00, 0.00000000e+00, 0.00000000e+00, 0.00000000e+00,\n",
       "       0.00000000e+00, 0.00000000e+00, 0.00000000e+00, 0.00000000e+00,\n",
       "       0.00000000e+00, 0.00000000e+00, 0.00000000e+00, 0.00000000e+00,\n",
       "       0.00000000e+00, 0.00000000e+00, 0.00000000e+00, 0.00000000e+00,\n",
       "       0.00000000e+00, 0.00000000e+00, 0.00000000e+00, 0.00000000e+00,\n",
       "       0.00000000e+00, 0.00000000e+00, 0.00000000e+00, 0.00000000e+00,\n",
       "       0.00000000e+00, 0.00000000e+00, 0.00000000e+00, 0.00000000e+00,\n",
       "       0.00000000e+00, 0.00000000e+00, 0.00000000e+00, 0.00000000e+00,\n",
       "       0.00000000e+00, 0.00000000e+00, 0.00000000e+00, 0.00000000e+00,\n",
       "       0.00000000e+00, 0.00000000e+00, 0.00000000e+00, 0.00000000e+00,\n",
       "       0.00000000e+00, 0.00000000e+00, 0.00000000e+00, 0.00000000e+00,\n",
       "       0.00000000e+00, 0.00000000e+00, 0.00000000e+00, 0.00000000e+00,\n",
       "       0.00000000e+00, 0.00000000e+00, 0.00000000e+00, 0.00000000e+00,\n",
       "       0.00000000e+00, 0.00000000e+00, 0.00000000e+00, 0.00000000e+00,\n",
       "       0.00000000e+00, 0.00000000e+00, 0.00000000e+00, 0.00000000e+00,\n",
       "       0.00000000e+00, 0.00000000e+00, 0.00000000e+00, 0.00000000e+00,\n",
       "       0.00000000e+00, 0.00000000e+00, 0.00000000e+00, 0.00000000e+00,\n",
       "       0.00000000e+00, 0.00000000e+00, 0.00000000e+00, 0.00000000e+00,\n",
       "       0.00000000e+00, 0.00000000e+00, 0.00000000e+00, 0.00000000e+00,\n",
       "       0.00000000e+00, 0.00000000e+00, 0.00000000e+00, 0.00000000e+00,\n",
       "       0.00000000e+00, 0.00000000e+00, 0.00000000e+00, 0.00000000e+00,\n",
       "       0.00000000e+00, 0.00000000e+00, 0.00000000e+00, 0.00000000e+00,\n",
       "       0.00000000e+00, 0.00000000e+00, 0.00000000e+00, 0.00000000e+00,\n",
       "       0.00000000e+00, 0.00000000e+00, 0.00000000e+00, 0.00000000e+00,\n",
       "       0.00000000e+00, 0.00000000e+00, 0.00000000e+00, 0.00000000e+00,\n",
       "       0.00000000e+00, 0.00000000e+00, 0.00000000e+00, 0.00000000e+00,\n",
       "       0.00000000e+00, 0.00000000e+00, 0.00000000e+00, 0.00000000e+00,\n",
       "       0.00000000e+00, 0.00000000e+00, 0.00000000e+00, 0.00000000e+00,\n",
       "       0.00000000e+00, 0.00000000e+00, 0.00000000e+00, 0.00000000e+00,\n",
       "       0.00000000e+00, 0.00000000e+00, 0.00000000e+00, 0.00000000e+00,\n",
       "       0.00000000e+00, 0.00000000e+00, 0.00000000e+00, 0.00000000e+00,\n",
       "       0.00000000e+00, 0.00000000e+00, 0.00000000e+00, 0.00000000e+00,\n",
       "       0.00000000e+00, 0.00000000e+00, 0.00000000e+00, 0.00000000e+00,\n",
       "       0.00000000e+00, 0.00000000e+00, 0.00000000e+00, 0.00000000e+00,\n",
       "       0.00000000e+00, 0.00000000e+00, 0.00000000e+00, 0.00000000e+00,\n",
       "       0.00000000e+00, 0.00000000e+00, 0.00000000e+00, 0.00000000e+00,\n",
       "       0.00000000e+00, 0.00000000e+00, 0.00000000e+00, 0.00000000e+00,\n",
       "       0.00000000e+00, 0.00000000e+00, 0.00000000e+00, 0.00000000e+00,\n",
       "       0.00000000e+00, 0.00000000e+00, 0.00000000e+00, 0.00000000e+00,\n",
       "       0.00000000e+00, 0.00000000e+00, 0.00000000e+00, 0.00000000e+00])"
      ]
     },
     "execution_count": 106,
     "metadata": {},
     "output_type": "execute_result"
    }
   ],
   "source": [
    "root"
   ]
  },
  {
   "cell_type": "code",
   "execution_count": 107,
   "metadata": {},
   "outputs": [],
   "source": [
    "x0_,z0_=root[:node_N],root[4*node_N:5*node_N]"
   ]
  },
  {
   "cell_type": "code",
   "execution_count": 108,
   "metadata": {},
   "outputs": [
    {
     "data": {
      "text/plain": [
       "[0.0,\n",
       " 225.56499682574736,\n",
       " 451.1299936514947,\n",
       " 676.6949904772421,\n",
       " 902.2599873029894,\n",
       " 1127.8249841287368,\n",
       " 1353.3899809544841,\n",
       " 1578.9549777802315,\n",
       " 1804.5199746059789,\n",
       " 2030.0849714317262,\n",
       " 2255.6499682574736,\n",
       " 2481.2149650832207,\n",
       " 2706.7799619089683,\n",
       " 2932.344958734716,\n",
       " 3157.909955560463,\n",
       " 3383.47495238621,\n",
       " 3609.0399492119577,\n",
       " 3834.6049460377053,\n",
       " 4060.1699428634524,\n",
       " 4285.7349396892,\n",
       " 4511.299936514947,\n",
       " 4736.864933340695,\n",
       " 4962.429930166441,\n",
       " 5187.994926992189,\n",
       " 5413.559923817937,\n",
       " 5639.124920643684,\n",
       " 5864.689917469432,\n",
       " 6090.254914295178,\n",
       " 6315.819911120926,\n",
       " 6541.384907946674,\n",
       " 6766.94990477242,\n",
       " 6992.514901598168,\n",
       " 7218.079898423915,\n",
       " 7443.644895249663,\n",
       " 7669.209892075411,\n",
       " 7894.774888901157,\n",
       " 8120.339885726905,\n",
       " 8345.904882552652,\n",
       " 8571.4698793784,\n",
       " 8797.034876204147,\n",
       " 9022.599873029894,\n",
       " 9248.164869855642,\n",
       " 9473.72986668139,\n",
       " 9699.294863507137,\n",
       " 9924.859860332883,\n",
       " 10150.42485715863,\n",
       " 10375.989853984378,\n",
       " 10601.554850810126,\n",
       " 10827.119847635873,\n",
       " 11052.68484446162]"
      ]
     },
     "execution_count": 108,
     "metadata": {},
     "output_type": "execute_result"
    }
   ],
   "source": [
    "x0"
   ]
  },
  {
   "cell_type": "code",
   "execution_count": 109,
   "metadata": {},
   "outputs": [
    {
     "data": {
      "text/plain": [
       "array([    0.        ,   225.56499683,   451.12999365,   676.69499048,\n",
       "         902.2599873 ,  1127.82498413,  1353.38998095,  1578.95497778,\n",
       "        1804.51997461,  2030.08497143,  2255.64996826,  2481.21496508,\n",
       "        2706.77996191,  2932.34495873,  3157.90995556,  3383.47495239,\n",
       "        3609.03994921,  3834.60494604,  4060.16994286,  4285.73493969,\n",
       "        4511.29993651,  4736.86493334,  4962.42993017,  5187.99492699,\n",
       "        5413.55992382,  5639.12492064,  5864.68991747,  6090.2549143 ,\n",
       "        6315.81991112,  6541.38490795,  6766.94990477,  6992.5149016 ,\n",
       "        7218.07989842,  7443.64489525,  7669.20989208,  7894.7748889 ,\n",
       "        8120.33988573,  8345.90488255,  8571.46987938,  8797.0348762 ,\n",
       "        9022.59987303,  9248.16486986,  9473.72986668,  9699.29486351,\n",
       "        9924.85986033, 10150.42485716, 10375.98985398, 10601.55485081,\n",
       "       10827.11984764, 11052.68484446])"
      ]
     },
     "execution_count": 109,
     "metadata": {},
     "output_type": "execute_result"
    }
   ],
   "source": [
    "x0_"
   ]
  },
  {
   "cell_type": "code",
   "execution_count": 110,
   "metadata": {},
   "outputs": [
    {
     "data": {
      "text/plain": [
       "[0.0,\n",
       " 0.2888428427924309,\n",
       " 1.155373265710624,\n",
       " 2.5995969523577234,\n",
       " 4.621523375418674,\n",
       " 7.221165796797117,\n",
       " 10.398541267595833,\n",
       " 14.15367062831231,\n",
       " 18.486578508975636,\n",
       " 23.39729332924428,\n",
       " 28.885847298621222,\n",
       " 34.95227641670818,\n",
       " 41.59662047340119,\n",
       " 48.81892304912524,\n",
       " 56.619231515186364,\n",
       " 64.99759703402582,\n",
       " 73.9540745596112,\n",
       " 83.48872283771031,\n",
       " 93.60160440638002,\n",
       " 104.29278559627915,\n",
       " 115.56233653119654,\n",
       " 127.41033112846175,\n",
       " 139.83684709937523,\n",
       " 152.8419659498538,\n",
       " 166.4257729808412,\n",
       " 180.58835728891447,\n",
       " 195.3298117668901,\n",
       " 210.65023310439128,\n",
       " 226.54972178849314,\n",
       " 243.02838210444648,\n",
       " 260.0863221362252,\n",
       " 277.72365376736735,\n",
       " 295.94049268164,\n",
       " 314.7369583638412,\n",
       " 334.1131741005232,\n",
       " 354.0692669808534,\n",
       " 374.60536789741576,\n",
       " 395.72161154711085,\n",
       " 417.41813643197673,\n",
       " 439.6950848601867,\n",
       " 462.5526029468705,\n",
       " 485.9908406151509,\n",
       " 510.0099515971214,\n",
       " 534.6100934348437,\n",
       " 559.7914274813454,\n",
       " 585.5541189017534,\n",
       " 611.8983366742727,\n",
       " 638.8242535914375,\n",
       " 666.3320462610891,\n",
       " 694.4218951076863]"
      ]
     },
     "execution_count": 110,
     "metadata": {},
     "output_type": "execute_result"
    }
   ],
   "source": [
    "z0"
   ]
  },
  {
   "cell_type": "code",
   "execution_count": 111,
   "metadata": {},
   "outputs": [
    {
     "data": {
      "text/plain": [
       "array([0.00000000e+00, 2.88842843e-01, 1.15537327e+00, 2.59959695e+00,\n",
       "       4.62152338e+00, 7.22116580e+00, 1.03985413e+01, 1.41536706e+01,\n",
       "       1.84865785e+01, 2.33972933e+01, 2.88858473e+01, 3.49522764e+01,\n",
       "       4.15966205e+01, 4.88189230e+01, 5.66192315e+01, 6.49975970e+01,\n",
       "       7.39540746e+01, 8.34887228e+01, 9.36016044e+01, 1.04292786e+02,\n",
       "       1.15562337e+02, 1.27410331e+02, 1.39836847e+02, 1.52841966e+02,\n",
       "       1.66425773e+02, 1.80588357e+02, 1.95329812e+02, 2.10650233e+02,\n",
       "       2.26549722e+02, 2.43028382e+02, 2.60086322e+02, 2.77723654e+02,\n",
       "       2.95940493e+02, 3.14736958e+02, 3.34113174e+02, 3.54069267e+02,\n",
       "       3.74605368e+02, 3.95721612e+02, 4.17418136e+02, 4.39695085e+02,\n",
       "       4.62552603e+02, 4.85990841e+02, 5.10009952e+02, 5.34610093e+02,\n",
       "       5.59791427e+02, 5.85554119e+02, 6.11898337e+02, 6.38824254e+02,\n",
       "       6.66332046e+02, 6.94421895e+02])"
      ]
     },
     "execution_count": 111,
     "metadata": {},
     "output_type": "execute_result"
    }
   ],
   "source": [
    "z0_"
   ]
  },
  {
   "cell_type": "code",
   "execution_count": 112,
   "metadata": {},
   "outputs": [
    {
     "data": {
      "image/png": "[encoded data removed]",
      "text/plain": [
       "<Figure size 432x288 with 1 Axes>"
      ]
     },
     "metadata": {
      "needs_background": "light"
     },
     "output_type": "display_data"
    }
   ],
   "source": [
    "plt.plot(x0_, z0_)\n",
    "plt.show()"
   ]
  },
  {
   "cell_type": "code",
   "execution_count": 113,
   "metadata": {},
   "outputs": [],
   "source": [
    "for j in range(1,12):\n",
    "    if j==1:  \n",
    "        q0[(j-1)*node_N:j*node_N]=x0_\n",
    "    elif j==5:    \n",
    "        q0[(j-1)*node_N:j*node_N]=z0_\n",
    "#     elif j==9:    \n",
    "#         q0[j*node_N-1]=0.13  "
   ]
  },
  {
   "cell_type": "code",
   "execution_count": 114,
   "metadata": {},
   "outputs": [
    {
     "data": {
      "text/plain": [
       "array([0.00000000e+00, 2.25564997e+02, 4.51129994e+02, 6.76694990e+02,\n",
       "       9.02259987e+02, 1.12782498e+03, 1.35338998e+03, 1.57895498e+03,\n",
       "       1.80451997e+03, 2.03008497e+03, 2.25564997e+03, 2.48121497e+03,\n",
       "       2.70677996e+03, 2.93234496e+03, 3.15790996e+03, 3.38347495e+03,\n",
       "       3.60903995e+03, 3.83460495e+03, 4.06016994e+03, 4.28573494e+03,\n",
       "       4.51129994e+03, 4.73686493e+03, 4.96242993e+03, 5.18799493e+03,\n",
       "       5.41355992e+03, 5.63912492e+03, 5.86468992e+03, 6.09025491e+03,\n",
       "       6.31581991e+03, 6.54138491e+03, 6.76694990e+03, 6.99251490e+03,\n",
       "       7.21807990e+03, 7.44364490e+03, 7.66920989e+03, 7.89477489e+03,\n",
       "       8.12033989e+03, 8.34590488e+03, 8.57146988e+03, 8.79703488e+03,\n",
       "       9.02259987e+03, 9.24816487e+03, 9.47372987e+03, 9.69929486e+03,\n",
       "       9.92485986e+03, 1.01504249e+04, 1.03759899e+04, 1.06015549e+04,\n",
       "       1.08271198e+04, 1.10526848e+04, 0.00000000e+00, 0.00000000e+00,\n",
       "       0.00000000e+00, 0.00000000e+00, 0.00000000e+00, 0.00000000e+00,\n",
       "       0.00000000e+00, 0.00000000e+00, 0.00000000e+00, 0.00000000e+00,\n",
       "       0.00000000e+00, 0.00000000e+00, 0.00000000e+00, 0.00000000e+00,\n",
       "       0.00000000e+00, 0.00000000e+00, 0.00000000e+00, 0.00000000e+00,\n",
       "       0.00000000e+00, 0.00000000e+00, 0.00000000e+00, 0.00000000e+00,\n",
       "       0.00000000e+00, 0.00000000e+00, 0.00000000e+00, 0.00000000e+00,\n",
       "       0.00000000e+00, 0.00000000e+00, 0.00000000e+00, 0.00000000e+00,\n",
       "       0.00000000e+00, 0.00000000e+00, 0.00000000e+00, 0.00000000e+00,\n",
       "       0.00000000e+00, 0.00000000e+00, 0.00000000e+00, 0.00000000e+00,\n",
       "       0.00000000e+00, 0.00000000e+00, 0.00000000e+00, 0.00000000e+00,\n",
       "       0.00000000e+00, 0.00000000e+00, 0.00000000e+00, 0.00000000e+00,\n",
       "       0.00000000e+00, 0.00000000e+00, 0.00000000e+00, 0.00000000e+00,\n",
       "       0.00000000e+00, 0.00000000e+00, 0.00000000e+00, 0.00000000e+00,\n",
       "       0.00000000e+00, 0.00000000e+00, 0.00000000e+00, 0.00000000e+00,\n",
       "       0.00000000e+00, 0.00000000e+00, 0.00000000e+00, 0.00000000e+00,\n",
       "       0.00000000e+00, 0.00000000e+00, 0.00000000e+00, 0.00000000e+00,\n",
       "       0.00000000e+00, 0.00000000e+00, 0.00000000e+00, 0.00000000e+00,\n",
       "       0.00000000e+00, 0.00000000e+00, 0.00000000e+00, 0.00000000e+00,\n",
       "       0.00000000e+00, 0.00000000e+00, 0.00000000e+00, 0.00000000e+00,\n",
       "       0.00000000e+00, 0.00000000e+00, 0.00000000e+00, 0.00000000e+00,\n",
       "       0.00000000e+00, 0.00000000e+00, 0.00000000e+00, 0.00000000e+00,\n",
       "       0.00000000e+00, 0.00000000e+00, 0.00000000e+00, 0.00000000e+00,\n",
       "       0.00000000e+00, 0.00000000e+00, 0.00000000e+00, 0.00000000e+00,\n",
       "       0.00000000e+00, 0.00000000e+00, 0.00000000e+00, 0.00000000e+00,\n",
       "       0.00000000e+00, 0.00000000e+00, 0.00000000e+00, 0.00000000e+00,\n",
       "       0.00000000e+00, 0.00000000e+00, 0.00000000e+00, 0.00000000e+00,\n",
       "       0.00000000e+00, 0.00000000e+00, 0.00000000e+00, 0.00000000e+00,\n",
       "       0.00000000e+00, 0.00000000e+00, 0.00000000e+00, 0.00000000e+00,\n",
       "       0.00000000e+00, 0.00000000e+00, 0.00000000e+00, 0.00000000e+00,\n",
       "       0.00000000e+00, 0.00000000e+00, 0.00000000e+00, 0.00000000e+00,\n",
       "       0.00000000e+00, 0.00000000e+00, 0.00000000e+00, 0.00000000e+00,\n",
       "       0.00000000e+00, 0.00000000e+00, 0.00000000e+00, 0.00000000e+00,\n",
       "       0.00000000e+00, 0.00000000e+00, 0.00000000e+00, 0.00000000e+00,\n",
       "       0.00000000e+00, 0.00000000e+00, 0.00000000e+00, 0.00000000e+00,\n",
       "       0.00000000e+00, 0.00000000e+00, 0.00000000e+00, 0.00000000e+00,\n",
       "       0.00000000e+00, 0.00000000e+00, 0.00000000e+00, 0.00000000e+00,\n",
       "       0.00000000e+00, 0.00000000e+00, 0.00000000e+00, 0.00000000e+00,\n",
       "       0.00000000e+00, 2.88842843e-01, 1.15537327e+00, 2.59959695e+00,\n",
       "       4.62152338e+00, 7.22116580e+00, 1.03985413e+01, 1.41536706e+01,\n",
       "       1.84865785e+01, 2.33972933e+01, 2.88858473e+01, 3.49522764e+01,\n",
       "       4.15966205e+01, 4.88189230e+01, 5.66192315e+01, 6.49975970e+01,\n",
       "       7.39540746e+01, 8.34887228e+01, 9.36016044e+01, 1.04292786e+02,\n",
       "       1.15562337e+02, 1.27410331e+02, 1.39836847e+02, 1.52841966e+02,\n",
       "       1.66425773e+02, 1.80588357e+02, 1.95329812e+02, 2.10650233e+02,\n",
       "       2.26549722e+02, 2.43028382e+02, 2.60086322e+02, 2.77723654e+02,\n",
       "       2.95940493e+02, 3.14736958e+02, 3.34113174e+02, 3.54069267e+02,\n",
       "       3.74605368e+02, 3.95721612e+02, 4.17418136e+02, 4.39695085e+02,\n",
       "       4.62552603e+02, 4.85990841e+02, 5.10009952e+02, 5.34610093e+02,\n",
       "       5.59791427e+02, 5.85554119e+02, 6.11898337e+02, 6.38824254e+02,\n",
       "       6.66332046e+02, 6.94421895e+02, 0.00000000e+00, 0.00000000e+00,\n",
       "       0.00000000e+00, 0.00000000e+00, 0.00000000e+00, 0.00000000e+00,\n",
       "       0.00000000e+00, 0.00000000e+00, 0.00000000e+00, 0.00000000e+00,\n",
       "       0.00000000e+00, 0.00000000e+00, 0.00000000e+00, 0.00000000e+00,\n",
       "       0.00000000e+00, 0.00000000e+00, 0.00000000e+00, 0.00000000e+00,\n",
       "       0.00000000e+00, 0.00000000e+00, 0.00000000e+00, 0.00000000e+00,\n",
       "       0.00000000e+00, 0.00000000e+00, 0.00000000e+00, 0.00000000e+00,\n",
       "       0.00000000e+00, 0.00000000e+00, 0.00000000e+00, 0.00000000e+00,\n",
       "       0.00000000e+00, 0.00000000e+00, 0.00000000e+00, 0.00000000e+00,\n",
       "       0.00000000e+00, 0.00000000e+00, 0.00000000e+00, 0.00000000e+00,\n",
       "       0.00000000e+00, 0.00000000e+00, 0.00000000e+00, 0.00000000e+00,\n",
       "       0.00000000e+00, 0.00000000e+00, 0.00000000e+00, 0.00000000e+00,\n",
       "       0.00000000e+00, 0.00000000e+00, 0.00000000e+00, 0.00000000e+00,\n",
       "       0.00000000e+00, 0.00000000e+00, 0.00000000e+00, 0.00000000e+00,\n",
       "       0.00000000e+00, 0.00000000e+00, 0.00000000e+00, 0.00000000e+00,\n",
       "       0.00000000e+00, 0.00000000e+00, 0.00000000e+00, 0.00000000e+00,\n",
       "       0.00000000e+00, 0.00000000e+00, 0.00000000e+00, 0.00000000e+00,\n",
       "       0.00000000e+00, 0.00000000e+00, 0.00000000e+00, 0.00000000e+00,\n",
       "       0.00000000e+00, 0.00000000e+00, 0.00000000e+00, 0.00000000e+00,\n",
       "       0.00000000e+00, 0.00000000e+00, 0.00000000e+00, 0.00000000e+00,\n",
       "       0.00000000e+00, 0.00000000e+00, 0.00000000e+00, 0.00000000e+00,\n",
       "       0.00000000e+00, 0.00000000e+00, 0.00000000e+00, 0.00000000e+00,\n",
       "       0.00000000e+00, 0.00000000e+00, 0.00000000e+00, 0.00000000e+00,\n",
       "       0.00000000e+00, 0.00000000e+00, 0.00000000e+00, 0.00000000e+00,\n",
       "       0.00000000e+00, 0.00000000e+00, 0.00000000e+00, 0.00000000e+00,\n",
       "       0.00000000e+00, 0.00000000e+00, 0.00000000e+00, 0.00000000e+00,\n",
       "       0.00000000e+00, 0.00000000e+00, 0.00000000e+00, 0.00000000e+00,\n",
       "       0.00000000e+00, 0.00000000e+00, 0.00000000e+00, 0.00000000e+00,\n",
       "       0.00000000e+00, 0.00000000e+00, 0.00000000e+00, 0.00000000e+00,\n",
       "       0.00000000e+00, 0.00000000e+00, 0.00000000e+00, 0.00000000e+00,\n",
       "       0.00000000e+00, 0.00000000e+00, 0.00000000e+00, 0.00000000e+00,\n",
       "       0.00000000e+00, 0.00000000e+00, 0.00000000e+00, 0.00000000e+00,\n",
       "       0.00000000e+00, 0.00000000e+00, 0.00000000e+00, 0.00000000e+00,\n",
       "       0.00000000e+00, 0.00000000e+00, 0.00000000e+00, 0.00000000e+00,\n",
       "       0.00000000e+00, 0.00000000e+00, 0.00000000e+00, 0.00000000e+00,\n",
       "       0.00000000e+00, 0.00000000e+00, 0.00000000e+00, 0.00000000e+00,\n",
       "       0.00000000e+00, 0.00000000e+00, 0.00000000e+00, 0.00000000e+00,\n",
       "       0.00000000e+00, 0.00000000e+00, 0.00000000e+00, 0.00000000e+00,\n",
       "       0.00000000e+00, 0.00000000e+00, 0.00000000e+00, 0.00000000e+00,\n",
       "       0.00000000e+00, 0.00000000e+00, 0.00000000e+00, 0.00000000e+00,\n",
       "       0.00000000e+00, 0.00000000e+00, 0.00000000e+00, 0.00000000e+00,\n",
       "       0.00000000e+00, 0.00000000e+00, 0.00000000e+00, 0.00000000e+00,\n",
       "       0.00000000e+00, 0.00000000e+00, 0.00000000e+00, 0.00000000e+00,\n",
       "       0.00000000e+00, 0.00000000e+00, 0.00000000e+00, 0.00000000e+00,\n",
       "       0.00000000e+00, 0.00000000e+00, 0.00000000e+00, 0.00000000e+00,\n",
       "       0.00000000e+00, 0.00000000e+00, 0.00000000e+00, 0.00000000e+00,\n",
       "       0.00000000e+00, 0.00000000e+00, 0.00000000e+00, 0.00000000e+00,\n",
       "       0.00000000e+00, 0.00000000e+00, 0.00000000e+00, 0.00000000e+00,\n",
       "       0.00000000e+00, 0.00000000e+00, 0.00000000e+00, 0.00000000e+00,\n",
       "       0.00000000e+00, 0.00000000e+00, 0.00000000e+00, 0.00000000e+00,\n",
       "       0.00000000e+00, 0.00000000e+00, 0.00000000e+00, 0.00000000e+00,\n",
       "       0.00000000e+00, 0.00000000e+00, 0.00000000e+00, 0.00000000e+00,\n",
       "       0.00000000e+00, 0.00000000e+00, 0.00000000e+00, 0.00000000e+00,\n",
       "       0.00000000e+00, 0.00000000e+00, 0.00000000e+00, 0.00000000e+00,\n",
       "       0.00000000e+00, 0.00000000e+00, 0.00000000e+00, 0.00000000e+00,\n",
       "       0.00000000e+00, 0.00000000e+00, 0.00000000e+00, 0.00000000e+00,\n",
       "       0.00000000e+00, 0.00000000e+00, 0.00000000e+00, 0.00000000e+00,\n",
       "       0.00000000e+00, 0.00000000e+00, 0.00000000e+00, 0.00000000e+00,\n",
       "       0.00000000e+00, 0.00000000e+00, 0.00000000e+00, 0.00000000e+00,\n",
       "       0.00000000e+00, 0.00000000e+00, 0.00000000e+00, 0.00000000e+00,\n",
       "       0.00000000e+00, 0.00000000e+00, 0.00000000e+00, 0.00000000e+00,\n",
       "       0.00000000e+00, 0.00000000e+00, 0.00000000e+00, 0.00000000e+00,\n",
       "       0.00000000e+00, 0.00000000e+00, 0.00000000e+00, 0.00000000e+00,\n",
       "       0.00000000e+00, 0.00000000e+00, 0.00000000e+00, 0.00000000e+00,\n",
       "       0.00000000e+00, 0.00000000e+00, 0.00000000e+00, 0.00000000e+00,\n",
       "       0.00000000e+00, 0.00000000e+00, 0.00000000e+00, 0.00000000e+00,\n",
       "       0.00000000e+00, 0.00000000e+00, 0.00000000e+00, 0.00000000e+00,\n",
       "       0.00000000e+00, 0.00000000e+00, 0.00000000e+00, 0.00000000e+00,\n",
       "       0.00000000e+00, 0.00000000e+00, 0.00000000e+00, 0.00000000e+00,\n",
       "       0.00000000e+00, 0.00000000e+00, 0.00000000e+00, 0.00000000e+00,\n",
       "       0.00000000e+00, 0.00000000e+00, 0.00000000e+00, 0.00000000e+00,\n",
       "       0.00000000e+00, 0.00000000e+00, 0.00000000e+00, 0.00000000e+00,\n",
       "       0.00000000e+00, 0.00000000e+00, 0.00000000e+00, 0.00000000e+00,\n",
       "       0.00000000e+00, 0.00000000e+00, 0.00000000e+00, 0.00000000e+00,\n",
       "       0.00000000e+00, 0.00000000e+00, 0.00000000e+00, 0.00000000e+00,\n",
       "       0.00000000e+00, 0.00000000e+00, 0.00000000e+00, 0.00000000e+00,\n",
       "       0.00000000e+00, 0.00000000e+00, 0.00000000e+00, 0.00000000e+00,\n",
       "       0.00000000e+00, 0.00000000e+00, 0.00000000e+00, 0.00000000e+00,\n",
       "       0.00000000e+00, 0.00000000e+00, 0.00000000e+00, 0.00000000e+00,\n",
       "       0.00000000e+00, 0.00000000e+00, 0.00000000e+00, 0.00000000e+00,\n",
       "       0.00000000e+00, 0.00000000e+00, 0.00000000e+00, 0.00000000e+00,\n",
       "       0.00000000e+00, 0.00000000e+00, 0.00000000e+00, 0.00000000e+00,\n",
       "       0.00000000e+00, 0.00000000e+00, 0.00000000e+00, 0.00000000e+00,\n",
       "       0.00000000e+00, 0.00000000e+00, 0.00000000e+00, 0.00000000e+00,\n",
       "       0.00000000e+00, 0.00000000e+00, 0.00000000e+00, 0.00000000e+00,\n",
       "       0.00000000e+00, 0.00000000e+00, 0.00000000e+00, 0.00000000e+00,\n",
       "       0.00000000e+00, 0.00000000e+00, 0.00000000e+00, 0.00000000e+00,\n",
       "       0.00000000e+00, 0.00000000e+00, 0.00000000e+00, 0.00000000e+00])"
      ]
     },
     "execution_count": 114,
     "metadata": {},
     "output_type": "execute_result"
    }
   ],
   "source": [
    "q0"
   ]
  },
  {
   "cell_type": "markdown",
   "metadata": {},
   "source": [
    "### Dynamics"
   ]
  },
  {
   "cell_type": "code",
   "execution_count": 115,
   "metadata": {},
   "outputs": [],
   "source": [
    "def grayscott1d(t, Q):\n",
    "  \n",
    "    x,y,z=Q[0:node_N],Q[2*node_N:3*node_N],Q[4*node_N:5*node_N]\n",
    "    dx,dy,dz=Q[1*node_N:2*node_N],Q[3*node_N:4*node_N],Q[5*node_N:6*node_N]\n",
    "    φ,θ,ψ=Q[6*node_N:7*node_N],Q[8*node_N:9*node_N],Q[10*node_N:11*node_N]\n",
    "    \n",
    "    Ret = Re_t(φ,θ,ψ)\n",
    "\n",
    "    dφ,dθ,dψ=Q[7*node_N:8*node_N],Q[9*node_N:10*node_N],Q[11*node_N:12*node_N]\n",
    "    \n",
    "    η=[(x0_[-1]-x[-1]),y[-1],(z0[-1]-z[-1]),φ[-1],θ[-1],ψ[-1]]\n",
    "    dη=[dx[-1],dy[-1],dz[-1],dφ[-1],dθ[-1],dψ[-1]]\n",
    "    \n",
    "    left=V.eq_left(η,dη)\n",
    " \n",
    " \n",
    "    \n",
    "    # PD controller after 5 sec\n",
    "    if t<5:\n",
    "        ddη=np.linalg.lstsq(V.M.astype(np.float32), -left \n",
    "                            + tau(η, dη, wave_coef, 0, 0, t).astype(np.float32)\n",
    "                            , rcond=None)[0]\n",
    "    else:\n",
    "        ddη=np.linalg.lstsq(V.M.astype(np.float32), -left.astype(np.float32) \n",
    "                            + tau(η,dη, wave_coef, kp, kd, t).astype(np.float32)\n",
    "                            , rcond=None)[0]\n",
    "    force_schedule = t/15 if t<15 else 1\n",
    "    tau_force = force_schedule*V.tau(η,dη,ddη).astype(np.float32) # /1e3\n",
    "\n",
    "\n",
    "    Z0=np.dot(Re_b(Ret),tau_force[:3].reshape(3,1))\n",
    "\n",
    "    Z1 =d_s(ne, x, y, z, Ret, ωe(φ,θ,ψ,None,None)).T\n",
    "#     Z1 =d_s(ne, x, y, z, Ret, phi(x,y,z,Ret,None)).T\n",
    "\n",
    "    Z2=ne_(dx,dy,dz,DT,Ret).T\n",
    "    \n",
    "    Z= (Z1 + Z2 + Z0.squeeze())\n",
    "\n",
    "############################################################    \n",
    "    RRRR=Re_b(Ret)\n",
    "    ddx,ddy, ddz = np.linalg.solve(np.einsum('i,ijk->ijk',[Ws[i] for i in range(node_N)]\n",
    "#                                              +[vessel_mass]\n",
    "                                             ,RRRR),Z).T\n",
    "############################################################    \n",
    "\n",
    "    C1=np.einsum('ijk,ik->ij', Irho_e(Ret).astype(np.float32),\n",
    "                                                        np.einsum('ijk,ik->ij', Π(dφ,dθ,dψ).astype(np.float32), \n",
    "                                                                  np.array([dφ,dθ,dψ]).astype(np.float32).T))\n",
    "\n",
    "    C2= np.cross(np.einsum('ijk,ik->ij',Π(φ,θ,ψ).astype(np.float32),np.array([dφ,dθ,dψ]).astype(np.float32).T),\n",
    "                 np.einsum('ijk,ik->ij',Irho_e(Ret).astype(np.float32),\n",
    "                           np.einsum('ijk,ik->ij',Π(φ,θ,ψ).astype(np.float32),np.array([dφ,dθ,dψ]).astype(np.float32).T)))\n",
    "\n",
    "    C3=d_me(φ,θ,ψ,Ret, ωe, ωe(φ,θ,ψ,None,None)) \n",
    "\n",
    "    C4= np.cross(d_s(phi,x,y,z,Ret, phi(x,y,z,Ret,None)).T, ne(x,y,z,Ret, phi(x,y,z,Ret,None)))\n",
    "#     C4= np.cross(d_s(phi,x,y,z,Ret, ωe(φ,θ,ψ,None,None)).T, ne(x,y,z,Ret, ωe(φ,θ,ψ,None,None)))\n",
    "\n",
    "    \n",
    "    K1=np.einsum('ijk,ik->ij',Π(φ,θ,ψ).astype(np.float32),np.array([dφ,dθ,dψ]).astype(np.float32).T).T\n",
    "\n",
    "    C5= np.einsum('ijk,ik->ij',Ret, -np.dot(DR,K1).astype(np.float32).T)\n",
    "\n",
    "    C0=np.einsum('ijk,kp->ijp',np.einsum('ijk,ikr->ijr',np.linalg.inv(Π(φ,θ,ψ).astype(np.float32)),\n",
    "                        Re_b(Ret)),tau_force[3:].reshape(3,1)) \n",
    "    B_ =(\n",
    "        -C1\n",
    "        -C2\n",
    "        +C3\n",
    "        +C4\n",
    "        +C5\n",
    "    )\n",
    "    B= B_ +C0.squeeze()\n",
    "       \n",
    "\n",
    "    A2 = Irho_e(Ret).astype(np.float32)\n",
    "    A3=Π(φ,θ,ψ).astype(np.float32)\n",
    "\n",
    "    A=np.einsum('ijk,ikr->ijr',A2,A3)\n",
    "\n",
    "############################################\n",
    "    ddφ,ddθ,ddψ = np.linalg.solve(A,B).T\n",
    "#############################################\n",
    "\n",
    "#     ddx[0],ddy[0],ddz[0],ddφ[0],ddθ[0],ddψ[0]=0,0,0,0,0,0\n",
    "    A1111=np.concatenate([dx, ddx, dy, ddy, dz, ddz, dφ, ddφ, dθ, ddθ, dψ, ddψ], axis=0)\n",
    "\n",
    "    return A1111"
   ]
  },
  {
   "cell_type": "code",
   "execution_count": 116,
   "metadata": {},
   "outputs": [],
   "source": [
    "tspan = (0., 40)"
   ]
  },
  {
   "cell_type": "code",
   "execution_count": 117,
   "metadata": {},
   "outputs": [
    {
     "name": "stdout",
     "output_type": "stream",
     "text": [
      "0:06:31.570857\n"
     ]
    }
   ],
   "source": [
    "startTime1 = datetime.now()\n",
    "\n",
    "us=solve_ivp(grayscott1d,  tspan, q0, \n",
    "#              nfev=842\n",
    "#              method='LSODA',\n",
    "#              method= 'BDF'\n",
    "#              vectorized=True\n",
    "#              min_step=1e-6\n",
    "#              rtol=1, atol=1\n",
    "            )\n",
    "print(datetime.now() - startTime1)"
   ]
  },
  {
   "cell_type": "markdown",
   "metadata": {},
   "source": [
    "### Results"
   ]
  },
  {
   "cell_type": "code",
   "execution_count": 118,
   "metadata": {},
   "outputs": [],
   "source": [
    "fin=us"
   ]
  },
  {
   "cell_type": "code",
   "execution_count": 119,
   "metadata": {},
   "outputs": [
    {
     "data": {
      "text/plain": [
       "  message: 'The solver successfully reached the end of the integration interval.'\n",
       "     nfev: 15452\n",
       "     njev: 0\n",
       "      nlu: 0\n",
       "      sol: None\n",
       "   status: 0\n",
       "  success: True\n",
       "        t: array([0.00000000e+00, 1.02866853e-02, 1.13153539e-01, ...,\n",
       "       3.99817324e+01, 3.99945500e+01, 4.00000000e+01])\n",
       " t_events: None\n",
       "        y: array([[ 0.00000000e+00,  9.04251341e-23,  1.05420714e-20, ...,\n",
       "         2.12671087e+02,  2.12797950e+02,  2.12851814e+02],\n",
       "       [ 2.25564997e+02,  2.25564997e+02,  2.25564997e+02, ...,\n",
       "         4.38236084e+02,  4.38362947e+02,  4.38416810e+02],\n",
       "       [ 4.51129994e+02,  4.51129994e+02,  4.51129994e+02, ...,\n",
       "         6.63801080e+02,  6.63927943e+02,  6.63981807e+02],\n",
       "       ...,\n",
       "       [ 0.00000000e+00,  1.40384680e-26,  2.36644888e-24, ...,\n",
       "        -2.59001757e-05, -2.56321835e-05, -2.33299419e-05],\n",
       "       [ 0.00000000e+00,  1.40384680e-26,  2.36644888e-24, ...,\n",
       "         8.05292294e-05,  8.44622102e-05,  8.30233634e-05],\n",
       "       [ 0.00000000e+00,  1.40384680e-26,  2.36644888e-24, ...,\n",
       "        -5.44942076e-06, -9.20327897e-06, -1.10972355e-05]])\n",
       " y_events: None"
      ]
     },
     "execution_count": 119,
     "metadata": {},
     "output_type": "execute_result"
    }
   ],
   "source": [
    "fin"
   ]
  },
  {
   "cell_type": "code",
   "execution_count": 120,
   "metadata": {},
   "outputs": [],
   "source": [
    "t=fin.t"
   ]
  },
  {
   "cell_type": "code",
   "execution_count": 121,
   "metadata": {},
   "outputs": [],
   "source": [
    "fin=fin.y.T"
   ]
  },
  {
   "cell_type": "code",
   "execution_count": 122,
   "metadata": {},
   "outputs": [
    {
     "name": "stderr",
     "output_type": "stream",
     "text": [
      "/Library/Frameworks/Python.framework/Versions/3.7/lib/python3.7/site-packages/ipykernel_launcher.py:2: MatplotlibDeprecationWarning: Calling gca() with keyword arguments was deprecated in Matplotlib 3.4. Starting two minor releases later, gca() will take no keyword arguments. The gca() function should only be used to get the current axes, or if no axes exist, create new axes with default keyword arguments. To create a new axes with non-default arguments, use plt.axes() or plt.subplot().\n",
      "  \n"
     ]
    },
    {
     "data": {
      "image/png": "[encoded data removed]",
      "text/plain": [
       "<Figure size 936x936 with 1 Axes>"
      ]
     },
     "metadata": {
      "needs_background": "light"
     },
     "output_type": "display_data"
    }
   ],
   "source": [
    "fig=plt.figure(figsize=(13,13))\n",
    "ax = fig.gca(projection='3d')\n",
    "\n",
    "X0=fin[0,[i for i in range(0,node_N)]]\n",
    "Y0=fin[0,[i for i in range(2*node_N,3*node_N)]]\n",
    "Z0=fin[0,[i for i in range(4*node_N,5*node_N)]]\n",
    "\n",
    "j=-1\n",
    "X=fin[j,[i for i in range(0,node_N)]]\n",
    "Y=fin[j,[i for i in range(2*node_N,3*node_N)]]\n",
    "Z=fin[j,[i for i in range(4*node_N,5*node_N)]]\n",
    "\n",
    "num_true_pts = 200\n",
    "tck, u = interpolate.splprep([X,Y,Z], s=2)\n",
    "u_fine = np.linspace(0,1,num_true_pts)\n",
    "x_fine, y_fine, z_fine = interpolate.splev(u_fine, tck)\n",
    "\n",
    "\n",
    "ax.plot(X0,Y0,Z0, color='r')\n",
    "ax.plot(X,Y,Z, color='b') \n",
    "# ax.plot(x_fine, y_fine, z_fine, color='b')\n",
    "ax.view_init(-45,-45)\n",
    "# ax.view_init(0,-90)\n",
    "plt.show()"
   ]
  },
  {
   "cell_type": "code",
   "execution_count": 123,
   "metadata": {},
   "outputs": [
    {
     "data": {
      "text/plain": [
       "(array([  212.85181362,   438.41681047,   663.98180725,   889.54680233,\n",
       "         1115.11179762,  1340.67675726,  1566.24074098,  1791.80623746,\n",
       "         2017.37108175,  2242.93381268,  2468.49609309,  2693.99054388,\n",
       "         2919.60235093,  3144.92284518,  3370.64972012,  3595.84124451,\n",
       "         3821.88656158,  4046.38726655,  4269.27632347,  4496.2105546 ,\n",
       "         4718.3122253 ,  4944.743558  ,  5168.09067661,  5395.66782569,\n",
       "         5618.0902733 ,  5837.54383012,  6057.37725285,  6279.88849758,\n",
       "         6512.6723065 ,  6737.5884128 ,  6924.01369829,  7159.27474609,\n",
       "         7383.88629177,  7618.91179939,  7855.72316409,  8032.62648311,\n",
       "         8109.60979012,  8236.23301913,  8557.99804107,  8769.78774186,\n",
       "         9052.38485667,  9011.67862383,  9580.58934094,  9750.99429864,\n",
       "         9989.36065037,  9692.73911483, 10161.43752886, 10227.4465689 ,\n",
       "        10873.84083426, 11031.14736196]),\n",
       " array([ 6.00570788e-04,  3.18909798e-03,  9.40252260e-03, -1.98528824e-01,\n",
       "         1.82394888e-01, -6.51058644e-01,  3.33983790e+00,  2.11569032e+00,\n",
       "        -2.51091196e+00, -4.72163406e+00, -4.77836016e+00,  1.84322813e+01,\n",
       "        -4.96566064e+00,  3.14972396e+01,  1.86621611e+01,  2.59833408e+01,\n",
       "         4.47213382e-01,  3.75370990e+01,  6.66248991e+01,  4.84536977e+01,\n",
       "         7.91480582e+01,  7.18267278e+01,  6.66697141e+01,  5.88568709e+01,\n",
       "         7.22476017e+01,  1.05011082e+02,  1.08909027e+02,  1.08015045e+02,\n",
       "         1.00539090e+02,  3.65624974e+01, -1.38230150e+02,  1.29781186e+02,\n",
       "         1.28992265e+02,  3.46401277e+01,  2.19218538e+01, -1.46463090e+02,\n",
       "         1.78222636e+02,  1.96829721e+02,  1.76249225e+02,  1.85112831e+02,\n",
       "         1.58882803e+02,  2.17870861e+02,  1.17396483e+02,  1.27480191e+02,\n",
       "         1.29466853e+02,  2.40146289e+02,  2.14028723e+02,  2.22932953e+02,\n",
       "         7.33742218e+01,  1.48560430e+02]),\n",
       " array([-3.06520654e+00, -2.77636528e+00, -1.90983304e+00, -4.65440374e-01,\n",
       "         1.55643970e+00,  4.15768338e+00,  7.33366730e+00,  1.10850430e+01,\n",
       "         1.54445856e+01,  2.04834743e+01,  2.61508981e+01,  3.07367057e+01,\n",
       "         3.87245052e+01,  4.58258964e+01,  5.33133985e+01,  6.56430399e+01,\n",
       "         7.08396701e+01,  8.17098298e+01,  8.41392235e+01,  1.01241258e+02,\n",
       "         1.08900344e+02,  1.21940175e+02,  1.36534221e+02,  1.51378087e+02,\n",
       "         1.65632949e+02,  1.78135587e+02,  1.88925563e+02,  2.02328691e+02,\n",
       "         2.21201315e+02,  2.57422264e+02,  2.47456200e+02,  2.78830951e+02,\n",
       "         2.93331547e+02,  3.32450880e+02,  3.52964796e+02,  3.43360384e+02,\n",
       "         3.66080023e+02,  3.81544614e+02,  4.10617228e+02,  4.31929240e+02,\n",
       "         4.62183544e+02,  4.70450524e+02,  5.18346499e+02,  5.38743196e+02,\n",
       "         5.82498991e+02,  5.66747012e+02,  6.10350322e+02,  6.42646051e+02,\n",
       "         6.67323065e+02,  6.93078327e+02]))"
      ]
     },
     "execution_count": 123,
     "metadata": {},
     "output_type": "execute_result"
    }
   ],
   "source": [
    "X,Y,Z"
   ]
  },
  {
   "cell_type": "code",
   "execution_count": 124,
   "metadata": {},
   "outputs": [
    {
     "data": {
      "text/plain": [
       "(array([    0.        ,   225.56499683,   451.12999365,   676.69499048,\n",
       "          902.2599873 ,  1127.82498413,  1353.38998095,  1578.95497778,\n",
       "         1804.51997461,  2030.08497143,  2255.64996826,  2481.21496508,\n",
       "         2706.77996191,  2932.34495873,  3157.90995556,  3383.47495239,\n",
       "         3609.03994921,  3834.60494604,  4060.16994286,  4285.73493969,\n",
       "         4511.29993651,  4736.86493334,  4962.42993017,  5187.99492699,\n",
       "         5413.55992382,  5639.12492064,  5864.68991747,  6090.2549143 ,\n",
       "         6315.81991112,  6541.38490795,  6766.94990477,  6992.5149016 ,\n",
       "         7218.07989842,  7443.64489525,  7669.20989208,  7894.7748889 ,\n",
       "         8120.33988573,  8345.90488255,  8571.46987938,  8797.0348762 ,\n",
       "         9022.59987303,  9248.16486986,  9473.72986668,  9699.29486351,\n",
       "         9924.85986033, 10150.42485716, 10375.98985398, 10601.55485081,\n",
       "        10827.11984764, 11052.68484446]),\n",
       " array([0., 0., 0., 0., 0., 0., 0., 0., 0., 0., 0., 0., 0., 0., 0., 0., 0.,\n",
       "        0., 0., 0., 0., 0., 0., 0., 0., 0., 0., 0., 0., 0., 0., 0., 0., 0.,\n",
       "        0., 0., 0., 0., 0., 0., 0., 0., 0., 0., 0., 0., 0., 0., 0., 0.]),\n",
       " array([0.00000000e+00, 2.88842843e-01, 1.15537327e+00, 2.59959695e+00,\n",
       "        4.62152338e+00, 7.22116580e+00, 1.03985413e+01, 1.41536706e+01,\n",
       "        1.84865785e+01, 2.33972933e+01, 2.88858473e+01, 3.49522764e+01,\n",
       "        4.15966205e+01, 4.88189230e+01, 5.66192315e+01, 6.49975970e+01,\n",
       "        7.39540746e+01, 8.34887228e+01, 9.36016044e+01, 1.04292786e+02,\n",
       "        1.15562337e+02, 1.27410331e+02, 1.39836847e+02, 1.52841966e+02,\n",
       "        1.66425773e+02, 1.80588357e+02, 1.95329812e+02, 2.10650233e+02,\n",
       "        2.26549722e+02, 2.43028382e+02, 2.60086322e+02, 2.77723654e+02,\n",
       "        2.95940493e+02, 3.14736958e+02, 3.34113174e+02, 3.54069267e+02,\n",
       "        3.74605368e+02, 3.95721612e+02, 4.17418136e+02, 4.39695085e+02,\n",
       "        4.62552603e+02, 4.85990841e+02, 5.10009952e+02, 5.34610093e+02,\n",
       "        5.59791427e+02, 5.85554119e+02, 6.11898337e+02, 6.38824254e+02,\n",
       "        6.66332046e+02, 6.94421895e+02]))"
      ]
     },
     "execution_count": 124,
     "metadata": {},
     "output_type": "execute_result"
    }
   ],
   "source": [
    "X0,Y0,Z0"
   ]
  },
  {
   "cell_type": "code",
   "execution_count": 125,
   "metadata": {},
   "outputs": [],
   "source": [
    "us=fin.T"
   ]
  },
  {
   "cell_type": "code",
   "execution_count": 126,
   "metadata": {},
   "outputs": [
    {
     "data": {
      "image/png": "[encoded data removed]",
      "text/plain": [
       "<Figure size 432x288 with 1 Axes>"
      ]
     },
     "metadata": {
      "needs_background": "light"
     },
     "output_type": "display_data"
    }
   ],
   "source": [
    "plt.plot(t,us.T[:,2],'-')\n",
    "plt.xlabel('t')\n",
    "plt.ylabel('x2')\n",
    "plt.show()"
   ]
  },
  {
   "cell_type": "code",
   "execution_count": 127,
   "metadata": {},
   "outputs": [
    {
     "data": {
      "image/png": "[encoded data removed]",
      "text/plain": [
       "<Figure size 432x288 with 1 Axes>"
      ]
     },
     "metadata": {
      "needs_background": "light"
     },
     "output_type": "display_data"
    }
   ],
   "source": [
    "plt.plot(t,us.T[:,node_N+2] ,'-')\n",
    "plt.xlabel('t')\n",
    "plt.ylabel('dx2')\n",
    "plt.show()"
   ]
  },
  {
   "cell_type": "code",
   "execution_count": 128,
   "metadata": {},
   "outputs": [
    {
     "data": {
      "image/png": "[encoded data removed]",
      "text/plain": [
       "<Figure size 432x288 with 1 Axes>"
      ]
     },
     "metadata": {
      "needs_background": "light"
     },
     "output_type": "display_data"
    }
   ],
   "source": [
    "plt.plot(t,us.T[:,2*node_N +2] ,'-')\n",
    "plt.xlabel('t')\n",
    "plt.ylabel('y2')\n",
    "plt.show()"
   ]
  },
  {
   "cell_type": "code",
   "execution_count": 129,
   "metadata": {},
   "outputs": [
    {
     "data": {
      "image/png": "[encoded data removed]",
      "text/plain": [
       "<Figure size 432x288 with 1 Axes>"
      ]
     },
     "metadata": {
      "needs_background": "light"
     },
     "output_type": "display_data"
    }
   ],
   "source": [
    "plt.plot(t,us.T[:,3*node_N+2] ,'-')\n",
    "plt.xlabel('t')\n",
    "plt.ylabel('dy2')\n",
    "plt.show()"
   ]
  },
  {
   "cell_type": "code",
   "execution_count": 130,
   "metadata": {},
   "outputs": [
    {
     "data": {
      "image/png": "[encoded data removed]",
      "text/plain": [
       "<Figure size 432x288 with 1 Axes>"
      ]
     },
     "metadata": {
      "needs_background": "light"
     },
     "output_type": "display_data"
    }
   ],
   "source": [
    "plt.plot(t,us.T[:,2*node_N+49] ,'-')\n",
    "plt.xlabel('t')\n",
    "plt.ylabel('y49')\n",
    "plt.show()"
   ]
  },
  {
   "cell_type": "code",
   "execution_count": 131,
   "metadata": {},
   "outputs": [
    {
     "data": {
      "image/png": "[encoded data removed]",
      "text/plain": [
       "<Figure size 432x288 with 1 Axes>"
      ]
     },
     "metadata": {
      "needs_background": "light"
     },
     "output_type": "display_data"
    }
   ],
   "source": [
    "plt.plot(t,us.T[:,4*node_N+2] ,'-')\n",
    "plt.xlabel('t')\n",
    "plt.ylabel('z2')\n",
    "plt.show()"
   ]
  },
  {
   "cell_type": "code",
   "execution_count": 132,
   "metadata": {},
   "outputs": [
    {
     "data": {
      "image/png": "[encoded data removed]",
      "text/plain": [
       "<Figure size 432x288 with 1 Axes>"
      ]
     },
     "metadata": {
      "needs_background": "light"
     },
     "output_type": "display_data"
    }
   ],
   "source": [
    "plt.plot(t,us.T[:,5*node_N+2] ,'-')\n",
    "plt.xlabel('t')\n",
    "plt.ylabel('dz2')\n",
    "plt.show()"
   ]
  },
  {
   "cell_type": "code",
   "execution_count": 133,
   "metadata": {},
   "outputs": [
    {
     "data": {
      "image/png": "[encoded data removed]",
      "text/plain": [
       "<Figure size 432x288 with 1 Axes>"
      ]
     },
     "metadata": {
      "needs_background": "light"
     },
     "output_type": "display_data"
    }
   ],
   "source": [
    "plt.plot(t,us.T[:,4*node_N+3] ,'-')\n",
    "plt.xlabel('t')\n",
    "plt.ylabel('z3')\n",
    "plt.show()"
   ]
  },
  {
   "cell_type": "code",
   "execution_count": 138,
   "metadata": {},
   "outputs": [
    {
     "data": {
      "image/png": "[encoded data removed]",
      "text/plain": [
       "<Figure size 432x288 with 1 Axes>"
      ]
     },
     "metadata": {
      "needs_background": "light"
     },
     "output_type": "display_data"
    }
   ],
   "source": [
    "plt.plot(t,us.T[:,4*node_N+49] ,'-')\n",
    "plt.xlabel('t')\n",
    "plt.ylabel('z49')\n",
    "plt.show()"
   ]
  },
  {
   "cell_type": "code",
   "execution_count": 134,
   "metadata": {},
   "outputs": [
    {
     "data": {
      "image/png": "[encoded data removed]",
      "text/plain": [
       "<Figure size 432x288 with 1 Axes>"
      ]
     },
     "metadata": {
      "needs_background": "light"
     },
     "output_type": "display_data"
    }
   ],
   "source": [
    "plt.plot(t,us.T[:,8*node_N+2],'-')\n",
    "plt.xlabel('t')\n",
    "plt.ylabel('θ2')\n",
    "plt.show()"
   ]
  },
  {
   "cell_type": "code",
   "execution_count": 135,
   "metadata": {},
   "outputs": [
    {
     "data": {
      "image/png": "[encoded data removed]",
      "text/plain": [
       "<Figure size 432x288 with 1 Axes>"
      ]
     },
     "metadata": {
      "needs_background": "light"
     },
     "output_type": "display_data"
    }
   ],
   "source": [
    "plt.plot(t,us.T[:,9*node_N+2] ,'-')\n",
    "plt.xlabel('t')\n",
    "plt.ylabel('dθ2')\n",
    "plt.show()"
   ]
  },
  {
   "cell_type": "code",
   "execution_count": 136,
   "metadata": {},
   "outputs": [
    {
     "data": {
      "image/png": "[encoded data removed]",
      "text/plain": [
       "<Figure size 432x288 with 1 Axes>"
      ]
     },
     "metadata": {
      "needs_background": "light"
     },
     "output_type": "display_data"
    }
   ],
   "source": [
    "plt.plot(t,us.T[:,10*node_N+2],'-')\n",
    "plt.xlabel('t')\n",
    "plt.ylabel('ψ2')\n",
    "plt.show()"
   ]
  },
  {
   "cell_type": "code",
   "execution_count": 137,
   "metadata": {},
   "outputs": [
    {
     "data": {
      "image/png": "[encoded data removed]",
      "text/plain": [
       "<Figure size 432x288 with 1 Axes>"
      ]
     },
     "metadata": {
      "needs_background": "light"
     },
     "output_type": "display_data"
    }
   ],
   "source": [
    "plt.plot(t,us.T[:,11*node_N+2] ,'-')\n",
    "plt.xlabel('t')\n",
    "plt.ylabel('dψ2')\n",
    "plt.show()"
   ]
  },
  {
   "cell_type": "code",
   "execution_count": null,
   "metadata": {},
   "outputs": [],
   "source": []
  }
 ],
 "metadata": {
  "kernelspec": {
   "display_name": "Python 3",
   "language": "python",
   "name": "python3"
  },
  "language_info": {
   "codemirror_mode": {
    "name": "ipython",
    "version": 3
   },
   "file_extension": ".py",
   "mimetype": "text/x-python",
   "name": "python",
   "nbconvert_exporter": "python",
   "pygments_lexer": "ipython3",
   "version": "3.7.7"
  }
 },
 "nbformat": 4,
 "nbformat_minor": 4
}
