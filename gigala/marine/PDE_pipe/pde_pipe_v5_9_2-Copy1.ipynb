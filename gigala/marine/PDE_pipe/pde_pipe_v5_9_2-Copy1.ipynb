{
 "cells": [
  {
   "cell_type": "markdown",
   "metadata": {},
   "source": [
    "#### Model taken from:\n",
    "- [1] Offshore Pipelaying Dynamics. Gullik Anthon Jensen \n",
    "- [2] A nonlinear PDE formulation for offshore vessel pipeline installation. Gullik A. Jensen et al \n",
    "- [3] Modeling and Control of Offshore Pipelay Operations Based on a Finite Strain Pipe Model. Gullik A. Jensen "
   ]
  },
  {
   "cell_type": "code",
   "execution_count": 1,
   "metadata": {},
   "outputs": [],
   "source": [
    "import numpy as np\n",
    "import math\n",
    "import matplotlib.pyplot as plt\n",
    "from datetime import datetime\n",
    "from scipy.optimize import fsolve\n",
    "from scipy.integrate import solve_ivp\n",
    "from scipy import interpolate"
   ]
  },
  {
   "cell_type": "code",
   "execution_count": 2,
   "metadata": {},
   "outputs": [],
   "source": [
    "import sys\n",
    "sys.path.insert(0, \"../../../../Ocean_Intella/PythonVehicleSimulator-master/src/python_vehicle_simulator\")\n",
    "sys.path.insert(0, \"../../../../Ocean_Intella/PythonVehicleSimulator-master/src\")"
   ]
  },
  {
   "cell_type": "code",
   "execution_count": 3,
   "metadata": {},
   "outputs": [],
   "source": [
    "from python_vehicle_simulator.vehicles import *\n",
    "from python_vehicle_simulator.lib import *\n",
    "from python_vehicle_simulator.lib.gnc import ssa"
   ]
  },
  {
   "cell_type": "code",
   "execution_count": 4,
   "metadata": {},
   "outputs": [],
   "source": [
    "mp = 96 #  (submerged) [kg/m]"
   ]
  },
  {
   "cell_type": "code",
   "execution_count": 5,
   "metadata": {},
   "outputs": [],
   "source": [
    "node_N = 50"
   ]
  },
  {
   "cell_type": "code",
   "execution_count": 6,
   "metadata": {},
   "outputs": [],
   "source": [
    "mi = [mp for i in range(node_N)] "
   ]
  },
  {
   "cell_type": "code",
   "execution_count": 7,
   "metadata": {},
   "outputs": [],
   "source": [
    "# L - the hull length\n",
    "# Xg - x-center of gravity\n",
    "L = 169 # [m]\n",
    "Xg = 78 # [m]\n",
    "mn = 123000000 # 32219000   # mass of the vessel, [kg]  Solitaire type vessel \n",
    "kp, kd=1.95e4,1.5e4"
   ]
  },
  {
   "cell_type": "code",
   "execution_count": 8,
   "metadata": {},
   "outputs": [],
   "source": [
    "vessel_mass=mn/L # mass over length of vessel"
   ]
  },
  {
   "cell_type": "code",
   "execution_count": 9,
   "metadata": {},
   "outputs": [],
   "source": [
    "diag_Irho = 1e2*np.array([1, 1, 2]) # [m^4]  , p.99 in [1]\n",
    " \n",
    "Irho=np.diag(diag_Irho)"
   ]
  },
  {
   "cell_type": "code",
   "execution_count": 10,
   "metadata": {},
   "outputs": [
    {
     "data": {
      "text/plain": [
       "array([[100.,   0.,   0.],\n",
       "       [  0., 100.,   0.],\n",
       "       [  0.,   0., 200.]])"
      ]
     },
     "execution_count": 10,
     "metadata": {},
     "output_type": "execute_result"
    }
   ],
   "source": [
    "Irho"
   ]
  },
  {
   "cell_type": "code",
   "execution_count": 11,
   "metadata": {},
   "outputs": [],
   "source": [
    "# Fossen book p.181\n",
    "def vessel_inertia_moment(mn, Xg, L):\n",
    "    r = 0.25*L\n",
    "    Ir = mn*r**2\n",
    "    Iz=mn*Xg**2 + Ir\n",
    "    return Iz"
   ]
  },
  {
   "cell_type": "code",
   "execution_count": 12,
   "metadata": {},
   "outputs": [],
   "source": [
    "vessel_inertia = vessel_inertia_moment(mn, Xg, L)"
   ]
  },
  {
   "cell_type": "code",
   "execution_count": 13,
   "metadata": {},
   "outputs": [],
   "source": [
    "Irho+=vessel_inertia"
   ]
  },
  {
   "cell_type": "code",
   "execution_count": 14,
   "metadata": {},
   "outputs": [],
   "source": [
    "qw = 1025 # Water density [kg/m3]\n",
    "d0 = 0.761 # Outer diameter of pipe, [m]\n",
    "dI= 0.69 # Inner diameter of pipe, [m]"
   ]
  },
  {
   "cell_type": "code",
   "execution_count": 15,
   "metadata": {},
   "outputs": [],
   "source": [
    "Ar=math.pi*((d0/2)**2-(dI/2)**2)"
   ]
  },
  {
   "cell_type": "code",
   "execution_count": 16,
   "metadata": {},
   "outputs": [],
   "source": [
    "diag_DT = 1.5*np.array([1, 1, 1]) "
   ]
  },
  {
   "cell_type": "code",
   "execution_count": 17,
   "metadata": {},
   "outputs": [],
   "source": [
    "DT=np.diag(diag_DT) # (35) in [2]"
   ]
  },
  {
   "cell_type": "code",
   "execution_count": 18,
   "metadata": {},
   "outputs": [
    {
     "data": {
      "text/plain": [
       "array([[1.5, 0. , 0. ],\n",
       "       [0. , 1.5, 0. ],\n",
       "       [0. , 0. , 1.5]])"
      ]
     },
     "execution_count": 18,
     "metadata": {},
     "output_type": "execute_result"
    }
   ],
   "source": [
    "DT"
   ]
  },
  {
   "cell_type": "code",
   "execution_count": 19,
   "metadata": {},
   "outputs": [],
   "source": [
    "diag_CT = 1e9*np.array([1, 1, 1]) # [Nm2] p. 4721 in [3]"
   ]
  },
  {
   "cell_type": "code",
   "execution_count": 20,
   "metadata": {},
   "outputs": [],
   "source": [
    "CT=np.diag(diag_CT)"
   ]
  },
  {
   "cell_type": "code",
   "execution_count": 21,
   "metadata": {},
   "outputs": [
    {
     "data": {
      "text/plain": [
       "array([[1.e+09, 0.e+00, 0.e+00],\n",
       "       [0.e+00, 1.e+09, 0.e+00],\n",
       "       [0.e+00, 0.e+00, 1.e+09]])"
      ]
     },
     "execution_count": 21,
     "metadata": {},
     "output_type": "execute_result"
    }
   ],
   "source": [
    "CT"
   ]
  },
  {
   "cell_type": "code",
   "execution_count": 22,
   "metadata": {},
   "outputs": [],
   "source": [
    "# angles should be in radians, otherwise np.radians them  \n",
    "def Re_t_(arr):\n",
    "    φ,θ,ψ=arr[0],arr[1],arr[2]\n",
    "  \n",
    "    Cφ=np.matrix([[1,0,0],\n",
    "                      [0,np.cos(φ),-np.sin(φ)],\n",
    "                      [0,np.sin(φ),np.cos(φ)]])\n",
    "\n",
    "    Cθ=np.matrix([[np.cos(θ),0,np.sin(θ)],\n",
    "                      [0,1,0],\n",
    "                      [-np.sin(θ),0,np.cos(θ)]])\n",
    "\n",
    "    Cψ=np.matrix([[np.cos(ψ),-np.sin(ψ),0],\n",
    "                      [np.sin(ψ),np.cos(ψ),0],\n",
    "                      [0,0,1]])\n",
    "        \n",
    "\n",
    "    return np.array(np.dot(np.dot(Cφ,Cθ),Cψ) )"
   ]
  },
  {
   "cell_type": "code",
   "execution_count": 23,
   "metadata": {},
   "outputs": [
    {
     "data": {
      "text/plain": [
       "array([[ 0.41198225,  0.05872664,  0.90929743],\n",
       "       [-0.68124272, -0.64287284,  0.35017549],\n",
       "       [ 0.60512725, -0.76371834, -0.2248451 ]])"
      ]
     },
     "execution_count": 23,
     "metadata": {},
     "output_type": "execute_result"
    }
   ],
   "source": [
    "Re_t_([1,2,3])"
   ]
  },
  {
   "cell_type": "code",
   "execution_count": 24,
   "metadata": {},
   "outputs": [],
   "source": [
    "rng = np.random.default_rng()"
   ]
  },
  {
   "cell_type": "code",
   "execution_count": 25,
   "metadata": {},
   "outputs": [],
   "source": [
    "φ, θ, ψ = rng.standard_normal(node_N),rng.standard_normal(node_N),rng.standard_normal(node_N)"
   ]
  },
  {
   "cell_type": "code",
   "execution_count": 26,
   "metadata": {},
   "outputs": [],
   "source": [
    "def Re_t(a,b,c):\n",
    "    xyz=np.stack((a,b,c), axis=1)\n",
    "    return np.apply_along_axis(Re_t_, 1, xyz)"
   ]
  },
  {
   "cell_type": "code",
   "execution_count": 27,
   "metadata": {},
   "outputs": [
    {
     "data": {
      "text/plain": [
       "array([[ 0.36287906,  0.47659436,  0.80073504],\n",
       "       [-0.60154821, -0.53645605,  0.59190763],\n",
       "       [ 0.711659  , -0.69647162,  0.09202582]])"
      ]
     },
     "execution_count": 27,
     "metadata": {},
     "output_type": "execute_result"
    }
   ],
   "source": [
    "Re_t_(np.array([φ[0], θ[0], ψ[0]]))"
   ]
  },
  {
   "cell_type": "code",
   "execution_count": 28,
   "metadata": {
    "scrolled": true
   },
   "outputs": [
    {
     "name": "stdout",
     "output_type": "stream",
     "text": [
      "0:00:00.007355\n"
     ]
    }
   ],
   "source": [
    "startTime1 = datetime.now()\n",
    "Ret=Re_t(φ,θ,ψ)\n",
    "print(datetime.now() - startTime1)"
   ]
  },
  {
   "cell_type": "code",
   "execution_count": 29,
   "metadata": {},
   "outputs": [
    {
     "data": {
      "text/plain": [
       "(50, 3, 3)"
      ]
     },
     "execution_count": 29,
     "metadata": {},
     "output_type": "execute_result"
    }
   ],
   "source": [
    "Ret.shape"
   ]
  },
  {
   "cell_type": "code",
   "execution_count": 30,
   "metadata": {},
   "outputs": [],
   "source": [
    "dx,dy,dz=rng.standard_normal(node_N),rng.standard_normal(node_N),rng.standard_normal(node_N)"
   ]
  },
  {
   "cell_type": "code",
   "execution_count": 31,
   "metadata": {},
   "outputs": [],
   "source": [
    "def C1(dx,dy,dz, Ret):\n",
    "    B=np.vstack([np.abs(dx)*dx,(dy**2+dz**2)**0.5*dy,(dy**2+dz**2)**0.5*dz])\n",
    "    ans=np.einsum('ijk,ik->ij', Ret, np.einsum('ijk,ik->ij', Ret,B.T.astype(np.float32))) \n",
    "    return ans.T"
   ]
  },
  {
   "cell_type": "code",
   "execution_count": 32,
   "metadata": {},
   "outputs": [
    {
     "name": "stdout",
     "output_type": "stream",
     "text": [
      "0:00:00.000831\n"
     ]
    }
   ],
   "source": [
    "startTime1 = datetime.now()\n",
    "C1(dx,dy,dz,Ret)\n",
    "print(datetime.now() - startTime1)"
   ]
  },
  {
   "cell_type": "code",
   "execution_count": 33,
   "metadata": {},
   "outputs": [],
   "source": [
    "def fD(dx,dy,dz,DT,Ret):\n",
    "    return 1/2*d0*qw*np.dot(DT, C1(dx,dy,dz,Ret))*9.81"
   ]
  },
  {
   "cell_type": "code",
   "execution_count": 34,
   "metadata": {},
   "outputs": [
    {
     "data": {
      "text/plain": [
       "array([[ 6.25299685e+03,  5.79210403e+03, -5.61615413e+03],\n",
       "       [ 1.78574735e+04, -5.09758556e+03,  2.09223229e+04],\n",
       "       [-6.66343094e+02,  1.04211433e+04, -6.24674985e+03],\n",
       "       [-8.12365682e+03, -2.19366010e+04, -4.38474930e+03],\n",
       "       [-2.02098234e+03,  1.87014257e+04,  1.34517024e+03],\n",
       "       [-1.45521738e+03,  1.69704505e+04,  3.52391736e+03],\n",
       "       [ 3.79862326e+03, -1.71610915e+03, -2.06396949e+03],\n",
       "       [-1.95610031e+04, -7.21411524e+03,  1.13322213e+04],\n",
       "       [ 6.47611480e+03, -1.37492928e+04,  3.27862810e+03],\n",
       "       [ 6.48405669e+03,  1.45225376e+04,  6.90780810e+03],\n",
       "       [-1.42140191e+04,  3.31457412e+04,  1.89662885e+01],\n",
       "       [-3.19629566e+03,  4.35597086e+03, -4.48311110e+02],\n",
       "       [-3.07925705e+03, -4.08904458e+03, -3.40121883e+03],\n",
       "       [ 9.91045536e+02,  3.89608017e+03, -4.36001849e+01],\n",
       "       [ 3.51849310e+02, -4.97831638e+03,  2.22555320e+04],\n",
       "       [-1.39663136e+02,  1.66702804e+02,  9.57552032e+02],\n",
       "       [-1.84684710e+04,  2.47355505e+03,  5.75600240e+03],\n",
       "       [ 3.99698158e+03, -5.10029826e+03, -1.86864251e+04],\n",
       "       [-1.15784292e+03,  7.70454726e+02, -1.29931372e+04],\n",
       "       [-5.25772429e+03, -3.05505145e+03, -1.37351092e+03],\n",
       "       [-5.82502493e+03, -9.71006323e+02,  1.40435851e+03],\n",
       "       [-9.90150091e+03,  2.67653338e+03, -6.91651454e+03],\n",
       "       [ 8.11459196e+02,  2.59101038e+03,  2.17124517e+03],\n",
       "       [-1.23849431e+04,  4.43037748e+03, -2.16407510e+02],\n",
       "       [ 1.54217073e+04,  7.62076704e+03, -2.39060600e+02],\n",
       "       [-6.20402772e+02, -1.16313044e+03, -4.21374442e+03],\n",
       "       [ 4.05330967e+03, -2.12192218e+04, -4.41675791e+03],\n",
       "       [-4.36067784e+03, -2.24585429e+03,  3.23145678e+02],\n",
       "       [ 6.64697353e+02,  7.47035323e+03,  6.62999135e+03],\n",
       "       [ 9.36236385e+02, -4.97651086e+02, -3.31526059e+03],\n",
       "       [ 2.56251728e+04,  8.45164559e+03,  7.64913544e+03],\n",
       "       [-1.26888371e+03,  1.47767710e+03,  1.79490548e+03],\n",
       "       [-2.48284840e+02,  2.25078615e+03, -5.82491829e+02],\n",
       "       [-1.65989131e+04,  2.88378596e+04,  9.47608051e+02],\n",
       "       [ 3.67637371e+03, -1.85550456e+03,  9.98512964e+02],\n",
       "       [-2.19546984e+03, -9.55551889e+01,  1.67088583e+03],\n",
       "       [ 4.38714460e+04, -4.47730302e+04,  2.33560842e+04],\n",
       "       [-6.39354823e+03,  1.03770380e+04,  5.11966053e+03],\n",
       "       [-2.64212741e+04,  1.20178351e+04, -3.94268209e+04],\n",
       "       [ 4.95898674e+03,  2.40699745e+03, -4.90742005e+03],\n",
       "       [ 6.78495249e+03,  2.56817897e+03, -3.32701086e+02],\n",
       "       [ 2.66476354e+04, -3.80916735e+03, -1.10822802e+04],\n",
       "       [-5.01775892e+03,  8.24740544e+03, -7.21397463e+02],\n",
       "       [-2.95776775e+04, -3.44450909e+04, -9.94594734e+02],\n",
       "       [-4.33513139e+03, -7.63410157e+03, -3.82821597e+03],\n",
       "       [ 1.86312528e+02, -7.04205076e+03,  2.78738827e+03],\n",
       "       [-1.80725515e+02,  5.19153180e+01, -9.84183536e+02],\n",
       "       [-4.76041108e+03, -7.20089548e+03,  3.27622290e+03],\n",
       "       [ 5.78100363e+02,  5.68130264e+02, -1.65775516e+02],\n",
       "       [-8.40601609e+03,  7.41065336e+03, -2.93322671e+03]])"
      ]
     },
     "execution_count": 34,
     "metadata": {},
     "output_type": "execute_result"
    }
   ],
   "source": [
    "fD(dx,dy,dz,DT,Ret).T"
   ]
  },
  {
   "cell_type": "code",
   "execution_count": 35,
   "metadata": {},
   "outputs": [
    {
     "name": "stdout",
     "output_type": "stream",
     "text": [
      "0:00:00.000366\n"
     ]
    }
   ],
   "source": [
    "startTime1 = datetime.now()\n",
    "fD(dx,dy,dz,DT,Ret)\n",
    "print(datetime.now() - startTime1)"
   ]
  },
  {
   "cell_type": "code",
   "execution_count": 36,
   "metadata": {},
   "outputs": [],
   "source": [
    "# https://docs.scipy.org/doc/scipy-1.8.0/tutorial/integrate.html  \n",
    "# 1-D Gray-Scott "
   ]
  },
  {
   "cell_type": "code",
   "execution_count": 37,
   "metadata": {},
   "outputs": [],
   "source": [
    "I=np.identity(3)"
   ]
  },
  {
   "cell_type": "code",
   "execution_count": 38,
   "metadata": {},
   "outputs": [
    {
     "name": "stdout",
     "output_type": "stream",
     "text": [
      "0:00:00.002863\n"
     ]
    }
   ],
   "source": [
    "startTime1 = datetime.now()\n",
    "np.dot(I,fD(dx,dy,dz,DT,Ret))\n",
    "print(datetime.now() - startTime1)"
   ]
  },
  {
   "cell_type": "code",
   "execution_count": 39,
   "metadata": {},
   "outputs": [],
   "source": [
    "Rb_t=I # https://www.researchgate.net/profile/Thor-Fossen/publication/224560837_Modeling_and_Control_of_Offshore_Pipelay_Operations_Based_on_a_Finite_Strain_Pipe_Model/links/00b7d520e175a3f918000000/Modeling-and-Control-of-Offshore-Pipelay-Operations-Based-on-a-Finite-Strain-Pipe-Model.pdf"
   ]
  },
  {
   "cell_type": "code",
   "execution_count": 40,
   "metadata": {},
   "outputs": [
    {
     "data": {
      "text/plain": [
       "array([[1., 0., 0.],\n",
       "       [0., 1., 0.],\n",
       "       [0., 0., 1.]])"
      ]
     },
     "execution_count": 40,
     "metadata": {},
     "output_type": "execute_result"
    }
   ],
   "source": [
    "Rb_t"
   ]
  },
  {
   "cell_type": "code",
   "execution_count": 41,
   "metadata": {},
   "outputs": [],
   "source": [
    "diag_DR = 1.5*np.array([1, 1, 1]) # [N m/rad]  p.4721 in [3]"
   ]
  },
  {
   "cell_type": "code",
   "execution_count": 42,
   "metadata": {},
   "outputs": [],
   "source": [
    "DR=np.diag(diag_DR) "
   ]
  },
  {
   "cell_type": "code",
   "execution_count": 43,
   "metadata": {},
   "outputs": [
    {
     "data": {
      "text/plain": [
       "0.08091250419136858"
      ]
     },
     "execution_count": 43,
     "metadata": {},
     "output_type": "execute_result"
    }
   ],
   "source": [
    "Ar"
   ]
  },
  {
   "cell_type": "code",
   "execution_count": 44,
   "metadata": {},
   "outputs": [],
   "source": [
    "fg_e=np.array([[0,0,(mp-qw*Ar)*9.81] for x in range(node_N)])"
   ]
  },
  {
   "cell_type": "code",
   "execution_count": 45,
   "metadata": {},
   "outputs": [
    {
     "data": {
      "text/plain": [
       "array([[  0.        ,   0.        , 128.16454223],\n",
       "       [  0.        ,   0.        , 128.16454223],\n",
       "       [  0.        ,   0.        , 128.16454223],\n",
       "       [  0.        ,   0.        , 128.16454223],\n",
       "       [  0.        ,   0.        , 128.16454223],\n",
       "       [  0.        ,   0.        , 128.16454223],\n",
       "       [  0.        ,   0.        , 128.16454223],\n",
       "       [  0.        ,   0.        , 128.16454223],\n",
       "       [  0.        ,   0.        , 128.16454223],\n",
       "       [  0.        ,   0.        , 128.16454223],\n",
       "       [  0.        ,   0.        , 128.16454223],\n",
       "       [  0.        ,   0.        , 128.16454223],\n",
       "       [  0.        ,   0.        , 128.16454223],\n",
       "       [  0.        ,   0.        , 128.16454223],\n",
       "       [  0.        ,   0.        , 128.16454223],\n",
       "       [  0.        ,   0.        , 128.16454223],\n",
       "       [  0.        ,   0.        , 128.16454223],\n",
       "       [  0.        ,   0.        , 128.16454223],\n",
       "       [  0.        ,   0.        , 128.16454223],\n",
       "       [  0.        ,   0.        , 128.16454223],\n",
       "       [  0.        ,   0.        , 128.16454223],\n",
       "       [  0.        ,   0.        , 128.16454223],\n",
       "       [  0.        ,   0.        , 128.16454223],\n",
       "       [  0.        ,   0.        , 128.16454223],\n",
       "       [  0.        ,   0.        , 128.16454223],\n",
       "       [  0.        ,   0.        , 128.16454223],\n",
       "       [  0.        ,   0.        , 128.16454223],\n",
       "       [  0.        ,   0.        , 128.16454223],\n",
       "       [  0.        ,   0.        , 128.16454223],\n",
       "       [  0.        ,   0.        , 128.16454223],\n",
       "       [  0.        ,   0.        , 128.16454223],\n",
       "       [  0.        ,   0.        , 128.16454223],\n",
       "       [  0.        ,   0.        , 128.16454223],\n",
       "       [  0.        ,   0.        , 128.16454223],\n",
       "       [  0.        ,   0.        , 128.16454223],\n",
       "       [  0.        ,   0.        , 128.16454223],\n",
       "       [  0.        ,   0.        , 128.16454223],\n",
       "       [  0.        ,   0.        , 128.16454223],\n",
       "       [  0.        ,   0.        , 128.16454223],\n",
       "       [  0.        ,   0.        , 128.16454223],\n",
       "       [  0.        ,   0.        , 128.16454223],\n",
       "       [  0.        ,   0.        , 128.16454223],\n",
       "       [  0.        ,   0.        , 128.16454223],\n",
       "       [  0.        ,   0.        , 128.16454223],\n",
       "       [  0.        ,   0.        , 128.16454223],\n",
       "       [  0.        ,   0.        , 128.16454223],\n",
       "       [  0.        ,   0.        , 128.16454223],\n",
       "       [  0.        ,   0.        , 128.16454223],\n",
       "       [  0.        ,   0.        , 128.16454223],\n",
       "       [  0.        ,   0.        , 128.16454223]])"
      ]
     },
     "execution_count": 45,
     "metadata": {},
     "output_type": "execute_result"
    }
   ],
   "source": [
    "fg_e"
   ]
  },
  {
   "cell_type": "code",
   "execution_count": 46,
   "metadata": {},
   "outputs": [],
   "source": [
    "x,y,z=100*rng.standard_normal(node_N),100*rng.standard_normal(node_N),100*rng.standard_normal(node_N)"
   ]
  },
  {
   "cell_type": "code",
   "execution_count": 47,
   "metadata": {},
   "outputs": [],
   "source": [
    "def Re_b(Ret):\n",
    "    return Ret"
   ]
  },
  {
   "cell_type": "code",
   "execution_count": 48,
   "metadata": {},
   "outputs": [
    {
     "name": "stdout",
     "output_type": "stream",
     "text": [
      "0:00:00.000142\n"
     ]
    }
   ],
   "source": [
    "startTime1 = datetime.now()\n",
    "Re_b(Ret)\n",
    "print(datetime.now() - startTime1)"
   ]
  },
  {
   "cell_type": "code",
   "execution_count": 49,
   "metadata": {},
   "outputs": [],
   "source": [
    "def phi(x, y, z, Ret,dummy):\n",
    "    B=np.vstack([x,y,z])\n",
    "    return np.linalg.solve(Ret.astype(np.float32),B.T.astype(np.float32))"
   ]
  },
  {
   "cell_type": "code",
   "execution_count": 50,
   "metadata": {},
   "outputs": [
    {
     "data": {
      "text/plain": [
       "array([[ 1.23306702e+02,  1.19487524e+01, -1.49317993e+02],\n",
       "       [ 7.26858902e+01, -7.17773972e+01,  1.30459335e+02],\n",
       "       [ 3.22310600e+01,  9.06730499e+01,  2.64478550e+01],\n",
       "       [-3.60124702e+01, -3.32855873e+01, -1.05487549e+02],\n",
       "       [-5.05617561e+01,  1.04925789e-01,  3.62377701e+01],\n",
       "       [ 2.32001991e+01,  1.04720825e+02, -2.58145630e-01],\n",
       "       [ 2.83024731e+01,  7.66769638e+01,  8.99614105e+01],\n",
       "       [ 8.15715485e+01,  6.34792566e+00,  5.39481392e+01],\n",
       "       [ 6.79899902e+01, -8.41763840e+01, -2.81136475e+01],\n",
       "       [ 1.08154243e+02, -6.15994949e+01,  5.99030991e+01],\n",
       "       [ 6.47912903e+01, -7.60492992e+00, -1.52192566e+02],\n",
       "       [-5.73960419e+01, -9.53589096e+01,  4.80029182e+01],\n",
       "       [ 9.81459122e+01,  1.93970947e+01,  4.73943253e+01],\n",
       "       [-1.30916855e+02, -5.57444620e+00,  1.29113525e+02],\n",
       "       [-8.77514648e+01,  2.87826576e+01,  5.71121330e+01],\n",
       "       [-5.91721725e+01, -1.88695946e+01, -1.21372963e+02],\n",
       "       [ 3.99775162e+01, -3.96025848e+01, -4.32643929e+01],\n",
       "       [ 6.95984125e+00, -2.58810282e-01,  4.81717796e+01],\n",
       "       [ 7.95113983e+01,  2.63144550e+01,  4.02357712e+01],\n",
       "       [-6.73726807e+01,  3.68656921e+01,  3.53414192e+01],\n",
       "       [-1.78493443e+01,  1.69346832e+02, -2.01877728e+01],\n",
       "       [-4.84787483e+01, -5.97107658e+01,  6.71441193e+01],\n",
       "       [ 1.57003799e+02,  2.03809692e+02,  1.05802376e+02],\n",
       "       [-6.39905319e+01,  9.15458450e+01,  1.27796715e+02],\n",
       "       [-1.55182968e+02,  9.13547211e+01, -1.24648994e+02],\n",
       "       [-6.74078598e+01, -1.46807983e+02,  9.06362534e+00],\n",
       "       [ 5.55718956e+01, -2.72019634e+01,  5.07091255e+01],\n",
       "       [-3.31150398e+01,  5.30705757e+01, -4.51549873e+01],\n",
       "       [ 5.67200851e+01, -1.64658020e+02,  1.97787881e+00],\n",
       "       [ 1.62002563e+01,  1.15334900e+02,  1.68043915e+02],\n",
       "       [-1.42644882e+00,  3.67614098e+01,  5.55856895e+01],\n",
       "       [-9.59083481e+01, -5.52930713e-01,  4.81782532e+01],\n",
       "       [ 1.48840210e+02, -1.65540634e+02, -2.63944366e+02],\n",
       "       [-5.87718048e+01,  1.50060425e+02,  6.33401413e+01],\n",
       "       [-4.90864658e+00,  1.39085312e+02, -1.52921326e+02],\n",
       "       [ 2.07222824e+02,  5.45379982e+01,  1.35840485e+02],\n",
       "       [-1.53216888e+02,  5.37028389e+01,  1.64282017e+01],\n",
       "       [-1.44239792e+02,  5.11116142e+01,  7.93542175e+01],\n",
       "       [-2.36312675e+01,  1.27505211e+02, -7.01441803e+01],\n",
       "       [ 8.32955093e+01, -1.90131973e+02,  4.65985832e+01],\n",
       "       [ 4.32772303e+00,  3.00131592e+02,  1.25912788e+02],\n",
       "       [ 2.75974159e+01,  6.24788246e+01, -1.50999546e+01],\n",
       "       [ 1.58424133e+02, -4.11285629e+01,  2.43209229e+01],\n",
       "       [ 1.36951981e+02,  5.69774284e+01, -4.04674387e+00],\n",
       "       [-2.95342216e+01, -7.81988621e+00,  4.04261208e+01],\n",
       "       [-2.08626038e+02,  4.11822014e+01, -1.02349319e+02],\n",
       "       [ 1.63007675e+02,  6.91886597e+01,  7.85278778e+01],\n",
       "       [ 1.04909973e+02,  2.70255585e+01,  1.27567726e+02],\n",
       "       [-9.65292816e+01,  1.06711678e+02,  2.20872326e+01],\n",
       "       [-5.35437775e+01, -9.52114716e+01,  4.01375313e+01]], dtype=float32)"
      ]
     },
     "execution_count": 50,
     "metadata": {},
     "output_type": "execute_result"
    }
   ],
   "source": [
    "phi(x,y,z,Ret,None)"
   ]
  },
  {
   "cell_type": "code",
   "execution_count": 51,
   "metadata": {},
   "outputs": [
    {
     "name": "stdout",
     "output_type": "stream",
     "text": [
      "0:00:00.000367\n"
     ]
    }
   ],
   "source": [
    "startTime1 = datetime.now()\n",
    "phi(x,y,z,Ret,None)\n",
    "print(datetime.now() - startTime1)"
   ]
  },
  {
   "cell_type": "code",
   "execution_count": 52,
   "metadata": {},
   "outputs": [],
   "source": [
    "def Π_(arr):\n",
    "    φ,θ,ψ=arr[0],arr[1],arr[2]\n",
    "    return np.array([[np.cos(θ),0,np.cos(φ)*np.sin(θ)],\n",
    "                  [0,1,-np.sin(φ)],\n",
    "                  [-np.sin(θ),0,np.cos(φ)*np.cos(θ)]])"
   ]
  },
  {
   "cell_type": "code",
   "execution_count": 53,
   "metadata": {},
   "outputs": [],
   "source": [
    "def Π(a,b,c):\n",
    "    xyz=np.stack((a,b,c), axis=1)\n",
    "  \n",
    "    return np.apply_along_axis(Π_, 1, xyz)\n",
    "    "
   ]
  },
  {
   "cell_type": "code",
   "execution_count": 54,
   "metadata": {},
   "outputs": [
    {
     "name": "stdout",
     "output_type": "stream",
     "text": [
      "0:00:00.001643\n"
     ]
    }
   ],
   "source": [
    "startTime1 = datetime.now()\n",
    "Π(φ,θ,ψ).shape\n",
    "print(datetime.now() - startTime1)"
   ]
  },
  {
   "cell_type": "code",
   "execution_count": 55,
   "metadata": {},
   "outputs": [],
   "source": [
    "def ωe(φ,θ,ψ, dummy,dummy1):  # (100) in [2]\n",
    "    A=Π(φ,θ,ψ)\n",
    "    B=np.vstack([φ,θ,ψ])\n",
    "    return np.einsum('ijk,ik->ij',A,B.T.astype(np.float32))"
   ]
  },
  {
   "cell_type": "code",
   "execution_count": 56,
   "metadata": {},
   "outputs": [
    {
     "name": "stdout",
     "output_type": "stream",
     "text": [
      "0:00:00.001886\n"
     ]
    }
   ],
   "source": [
    "startTime1 = datetime.now()\n",
    "ωe(φ,θ,ψ,None,None)\n",
    "print(datetime.now() - startTime1)"
   ]
  },
  {
   "cell_type": "code",
   "execution_count": 57,
   "metadata": {},
   "outputs": [
    {
     "data": {
      "text/plain": [
       "array([[-0.96172328,  0.01940435,  1.04962022],\n",
       "       [ 0.94215589,  0.25301815, -0.37537705],\n",
       "       [-0.28905656, -1.83069425,  1.07031916],\n",
       "       [ 1.50260094, -0.1568045 ,  0.4925249 ],\n",
       "       [-0.47089021,  1.96343538, -1.07573805],\n",
       "       [ 1.20851679, -1.00184937,  0.39138748],\n",
       "       [ 0.9679762 , -0.13956322,  0.18040742],\n",
       "       [-0.54479537,  2.79057159,  0.11977397],\n",
       "       [ 1.10503234,  0.24914774, -0.31689993],\n",
       "       [-1.33074767, -2.69167368,  0.98550332],\n",
       "       [ 0.88352099, -0.61452853,  0.11610413],\n",
       "       [ 0.12122695, -0.94556574,  0.65205743],\n",
       "       [ 0.73116401,  2.45402415,  0.57144524],\n",
       "       [ 1.66109205,  1.74895328,  0.48677457],\n",
       "       [-0.97154992, -0.14760082, -0.09529537],\n",
       "       [-0.52600169,  0.48225168,  2.86779895],\n",
       "       [-2.28460593,  1.25494556, -1.67812972],\n",
       "       [-0.06433088, -0.00570812,  0.00318077],\n",
       "       [ 0.47330854, -0.16322182,  0.72255006],\n",
       "       [-0.89830277,  0.06129367,  0.09235734],\n",
       "       [-1.4637933 , -0.81716957,  0.75609586],\n",
       "       [-0.55315668, -0.87486889,  1.10448972],\n",
       "       [ 0.08031116, -1.45524015,  1.30979216],\n",
       "       [ 1.45848549, -2.48774114,  1.86569111],\n",
       "       [ 0.50837473, -1.66737955, -1.31798142],\n",
       "       [-0.03097975,  0.89139912,  0.30325901],\n",
       "       [-1.33067011, -2.30466657, -0.37349783],\n",
       "       [-0.30069198,  0.88349409,  0.30173896],\n",
       "       [-0.06598344,  0.02121898,  0.09849393],\n",
       "       [ 0.08894967,  0.51417194,  2.2305099 ],\n",
       "       [ 0.46170639,  1.94335374,  0.30466   ],\n",
       "       [-0.19631514, -0.65236129, -0.33135442],\n",
       "       [-0.45085647,  1.06083802,  0.1699281 ],\n",
       "       [-1.07754656, -0.52552143, -0.96764372],\n",
       "       [ 1.57215145,  2.32960585,  0.93755862],\n",
       "       [ 0.30508636, -2.16536895,  1.15420314],\n",
       "       [ 0.04718515,  0.67166289, -0.58538056],\n",
       "       [ 0.6936187 ,  0.54351987,  0.38326193],\n",
       "       [ 0.55185616, -0.58810257, -0.41465629],\n",
       "       [ 0.18260605,  1.76111556, -0.10010872],\n",
       "       [ 0.98620408,  0.4087964 , -0.34830121],\n",
       "       [-1.08335803, -0.9095148 , -0.58363858],\n",
       "       [ 1.52451739, -0.07332915,  0.17261597],\n",
       "       [-0.36692704, -0.88689929, -0.71964204],\n",
       "       [-0.0107539 ,  0.31266286,  0.94671465],\n",
       "       [-0.73079772,  0.41663523,  0.36054804],\n",
       "       [ 1.06791025,  0.62939427, -1.44221401],\n",
       "       [-1.10781375, -0.31047008, -0.53697723],\n",
       "       [-0.34399266,  0.66371174,  0.49749264],\n",
       "       [ 0.9091942 , -0.44229828, -0.38388152]])"
      ]
     },
     "execution_count": 57,
     "metadata": {},
     "output_type": "execute_result"
    }
   ],
   "source": [
    "ωe(φ,θ,ψ,None,None)"
   ]
  },
  {
   "cell_type": "code",
   "execution_count": 58,
   "metadata": {},
   "outputs": [],
   "source": [
    "def d_s(f,a,b,c,Ret,omega):\n",
    "\n",
    "    fun = f(a,b,c,Ret,omega)    \n",
    "    \n",
    "    def S(arr):\n",
    "        a1,a2,a3=arr[0],arr[1],arr[2]\n",
    "        return np.array([[0, -a3, a2 ],\n",
    "                         [a3, 0, -a1],\n",
    "                        [-a2, a1, 0]])\n",
    "    \n",
    "    K=np.apply_along_axis(S, 1,omega)\n",
    "#     print(Ret.shape)\n",
    "#     print(np.einsum('ijk,ik->ij',K,fun.astype(np.float32)).shape)\n",
    "    return  np.einsum('ijk,ik->ij',K,fun.astype(np.float32)).T\n",
    "#     return np.einsum('ijk,ik->ij',K,fun.astype(np.float32)).T"
   ]
  },
  {
   "cell_type": "code",
   "execution_count": 59,
   "metadata": {},
   "outputs": [
    {
     "data": {
      "text/plain": [
       "array([[-1.54390706e+01,  6.06499154e+00, -1.45467039e+02,\n",
       "         3.29349031e+01,  7.12633927e+01, -4.07277966e+01,\n",
       "        -2.63883979e+01,  1.49785828e+02, -3.36799417e+01,\n",
       "        -1.00533088e+02,  9.44096377e+01,  1.67895702e+01,\n",
       "         1.05222441e+02,  2.28527022e+02, -5.68694385e+00,\n",
       "        -4.41811203e+00, -1.20752732e+02, -2.74147241e-01,\n",
       "        -2.55808671e+01, -1.23861190e+00, -1.11545605e+02,\n",
       "         7.20762588e+00, -4.20916203e+02, -4.88721414e+02,\n",
       "         3.28241009e+02,  5.26001512e+01, -1.27027501e+02,\n",
       "        -5.59076250e+01,  1.62597843e+01, -1.70852170e+02,\n",
       "         9.68229264e+01, -3.16128435e+01, -2.51872214e+02,\n",
       "         1.11918427e+02, -4.86647047e+02, -3.57092697e+02,\n",
       "         4.24708112e+01,  2.35414584e+01,  9.41228107e+01,\n",
       "         6.30316222e+01,  1.56008890e+02,  5.01986848e+01,\n",
       "         5.31601396e+00,  4.45924072e+01,  2.00429471e+01,\n",
       "        -5.74904942e+01,  1.49209851e+02, -2.50938533e+01,\n",
       "        -3.84287184e+01, -5.43026856e+01],\n",
       "       [-1.41773824e+01, -1.50197646e+02,  4.21424470e+01,\n",
       "         1.40768652e+02,  7.14552163e+01,  9.39224074e+00,\n",
       "        -8.19745281e+01,  3.91608451e+01,  9.52046682e+00,\n",
       "         1.86302276e+02,  1.41987863e+02, -4.32447626e+01,\n",
       "         2.14319899e+01, -2.78196447e+02,  6.38495967e+01,\n",
       "        -2.33536278e+02, -1.65929546e+02,  3.12107043e+00,\n",
       "         3.84070319e+01,  2.55249332e+01, -4.30465416e+01,\n",
       "        -1.64030611e+01,  1.97145234e+02, -3.05776221e+02,\n",
       "         2.67896669e+02, -2.01612519e+01,  4.67211352e+01,\n",
       "        -2.35698401e+01,  5.71709141e+00,  2.11873818e+01,\n",
       "        -2.60988497e+01,  4.12377752e+01, -9.37088925e+01,\n",
       "         1.25122119e+02,  2.35813339e+02,  1.97734155e+02,\n",
       "         8.89150201e+01, -1.10323190e+02,  4.85083520e+01,\n",
       "        -1.68477899e+01, -1.25683057e+02, -3.24655738e+01,\n",
       "        -9.73113497e+00, -1.00041263e+02, -2.75257418e+01,\n",
       "        -1.50016357e+02, -3.18952679e+02,  8.49870142e+01,\n",
       "        -4.04247610e+01, -1.59383439e+01],\n",
       "       [-1.38840796e+01, -8.60163465e+01,  3.27955765e+01,\n",
       "        -5.56618722e+01,  9.92253325e+01,  1.49799980e+02,\n",
       "         7.81714605e+01, -2.31089566e+02, -1.09957179e+02,\n",
       "         3.73089315e+02,  3.30969812e+01, -6.58318004e+01,\n",
       "        -2.26669981e+02,  2.19707795e+02, -4.09159772e+01,\n",
       "         3.84613183e+01,  4.03066937e+01,  5.63771240e-02,\n",
       "         2.54328516e+01, -2.89870344e+01, -2.62474699e+02,\n",
       "        -9.38313980e+00,  2.44846427e+02, -2.56735921e+01,\n",
       "        -2.12306475e+02,  6.46353819e+01,  1.64271530e+02,\n",
       "         1.32990458e+01,  9.66116011e+00,  1.92928379e+00,\n",
       "         1.97450723e+01, -6.24583451e+01, -8.32602871e+01,\n",
       "        -1.92582937e+02,  2.30098386e+02,  4.65352669e+02,\n",
       "         1.05444075e+02,  1.13849164e+02,  5.64669273e+01,\n",
       "        -1.81412267e+02,  2.94221843e+02, -4.25866782e+01,\n",
       "        -5.10841019e+01,  1.00556056e+02,  9.31834833e+00,\n",
       "         5.68250986e+01, -2.87088181e+01,  2.63212308e+00,\n",
       "         2.73595835e+01, -1.10248039e+02]])"
      ]
     },
     "execution_count": 59,
     "metadata": {},
     "output_type": "execute_result"
    }
   ],
   "source": [
    "d_s(phi,x,y,z,Ret,ωe(φ,θ,ψ,None,None))"
   ]
  },
  {
   "cell_type": "code",
   "execution_count": 60,
   "metadata": {},
   "outputs": [
    {
     "name": "stdout",
     "output_type": "stream",
     "text": [
      "0:00:00.001698\n"
     ]
    }
   ],
   "source": [
    "startTime1 = datetime.now()\n",
    "d_s(phi,x,y,z,Ret,ωe(φ,θ,ψ,None,None))\n",
    "print(datetime.now() - startTime1)"
   ]
  },
  {
   "cell_type": "code",
   "execution_count": 61,
   "metadata": {},
   "outputs": [],
   "source": [
    "def ne(x,y,z,Ret,omega):\n",
    "    A=np.multiply(np.multiply(Ret,CT),Ret)\n",
    "    B=d_s(phi,x,y,z,Ret,omega).T\n",
    "    return np.einsum('ijk,ik->ij', A.astype(np.float32),B-\n",
    "                     np.einsum('ijk,kp->ijp',Ret.astype(np.float32), np.array([1,0,0]).reshape(3,1)).squeeze())"
   ]
  },
  {
   "cell_type": "code",
   "execution_count": 62,
   "metadata": {},
   "outputs": [],
   "source": [
    "def ne_(dx,dy,dz,DT,Ret):\n",
    "    return -fg_e.T-fD(dx,dy,dz,DT,Ret) #-sigma(x,y,z).T"
   ]
  },
  {
   "cell_type": "code",
   "execution_count": 63,
   "metadata": {},
   "outputs": [
    {
     "data": {
      "text/plain": [
       "array([[-6.25299685e+03, -1.78574735e+04,  6.66343094e+02,\n",
       "         8.12365682e+03,  2.02098234e+03,  1.45521738e+03,\n",
       "        -3.79862326e+03,  1.95610031e+04, -6.47611480e+03,\n",
       "        -6.48405669e+03,  1.42140191e+04,  3.19629566e+03,\n",
       "         3.07925705e+03, -9.91045536e+02, -3.51849310e+02,\n",
       "         1.39663136e+02,  1.84684710e+04, -3.99698158e+03,\n",
       "         1.15784292e+03,  5.25772429e+03,  5.82502493e+03,\n",
       "         9.90150091e+03, -8.11459196e+02,  1.23849431e+04,\n",
       "        -1.54217073e+04,  6.20402772e+02, -4.05330967e+03,\n",
       "         4.36067784e+03, -6.64697353e+02, -9.36236385e+02,\n",
       "        -2.56251728e+04,  1.26888371e+03,  2.48284840e+02,\n",
       "         1.65989131e+04, -3.67637371e+03,  2.19546984e+03,\n",
       "        -4.38714460e+04,  6.39354823e+03,  2.64212741e+04,\n",
       "        -4.95898674e+03, -6.78495249e+03, -2.66476354e+04,\n",
       "         5.01775892e+03,  2.95776775e+04,  4.33513139e+03,\n",
       "        -1.86312528e+02,  1.80725515e+02,  4.76041108e+03,\n",
       "        -5.78100363e+02,  8.40601609e+03],\n",
       "       [-5.79210403e+03,  5.09758556e+03, -1.04211433e+04,\n",
       "         2.19366010e+04, -1.87014257e+04, -1.69704505e+04,\n",
       "         1.71610915e+03,  7.21411524e+03,  1.37492928e+04,\n",
       "        -1.45225376e+04, -3.31457412e+04, -4.35597086e+03,\n",
       "         4.08904458e+03, -3.89608017e+03,  4.97831638e+03,\n",
       "        -1.66702804e+02, -2.47355505e+03,  5.10029826e+03,\n",
       "        -7.70454726e+02,  3.05505145e+03,  9.71006323e+02,\n",
       "        -2.67653338e+03, -2.59101038e+03, -4.43037748e+03,\n",
       "        -7.62076704e+03,  1.16313044e+03,  2.12192218e+04,\n",
       "         2.24585429e+03, -7.47035323e+03,  4.97651086e+02,\n",
       "        -8.45164559e+03, -1.47767710e+03, -2.25078615e+03,\n",
       "        -2.88378596e+04,  1.85550456e+03,  9.55551889e+01,\n",
       "         4.47730302e+04, -1.03770380e+04, -1.20178351e+04,\n",
       "        -2.40699745e+03, -2.56817897e+03,  3.80916735e+03,\n",
       "        -8.24740544e+03,  3.44450909e+04,  7.63410157e+03,\n",
       "         7.04205076e+03, -5.19153180e+01,  7.20089548e+03,\n",
       "        -5.68130264e+02, -7.41065336e+03],\n",
       "       [ 5.48798959e+03, -2.10504875e+04,  6.11858531e+03,\n",
       "         4.25658476e+03, -1.47333478e+03, -3.65208190e+03,\n",
       "         1.93580495e+03, -1.14603858e+04, -3.40679264e+03,\n",
       "        -7.03597264e+03, -1.47130831e+02,  3.20146568e+02,\n",
       "         3.27305429e+03, -8.45643573e+01, -2.23836965e+04,\n",
       "        -1.08571657e+03, -5.88416694e+03,  1.85582606e+04,\n",
       "         1.28649727e+04,  1.24534637e+03, -1.53252305e+03,\n",
       "         6.78835000e+03, -2.29940972e+03,  8.82429681e+01,\n",
       "         1.10896057e+02,  4.08557987e+03,  4.28859336e+03,\n",
       "        -4.51310220e+02, -6.75815590e+03,  3.18709604e+03,\n",
       "        -7.77729998e+03, -1.92307002e+03,  4.54327286e+02,\n",
       "        -1.07577259e+03, -1.12667751e+03, -1.79905038e+03,\n",
       "        -2.34842487e+04, -5.24782507e+03,  3.92986563e+04,\n",
       "         4.77925551e+03,  2.04536544e+02,  1.09541157e+04,\n",
       "         5.93232920e+02,  8.66430191e+02,  3.70005142e+03,\n",
       "        -2.91555282e+03,  8.56018994e+02, -3.40438744e+03,\n",
       "         3.76109738e+01,  2.80506216e+03]])"
      ]
     },
     "execution_count": 63,
     "metadata": {},
     "output_type": "execute_result"
    }
   ],
   "source": [
    "ne_(dx,dy,dz,DT,Ret)"
   ]
  },
  {
   "cell_type": "code",
   "execution_count": 64,
   "metadata": {},
   "outputs": [
    {
     "name": "stdout",
     "output_type": "stream",
     "text": [
      "0:00:00.002681\n"
     ]
    }
   ],
   "source": [
    "startTime1 = datetime.now()\n",
    "ne(x,y,z,Ret,ωe(φ,θ,ψ,None,None))\n",
    "print(datetime.now() - startTime1)"
   ]
  },
  {
   "cell_type": "code",
   "execution_count": 65,
   "metadata": {},
   "outputs": [
    {
     "data": {
      "text/plain": [
       "array([[-2.08081995e+09, -3.90692263e+09, -1.23607691e+08],\n",
       "       [ 2.82678945e+09, -1.23109672e+10, -1.73287099e+10],\n",
       "       [-7.23925902e+09,  3.12058559e+10,  3.97248370e+09],\n",
       "       [ 2.81881296e+10,  4.98716880e+08, -5.49216073e+06],\n",
       "       [ 1.50016053e+09,  4.86009264e+10,  1.02534033e+10],\n",
       "       [-1.06468836e+10,  3.56022680e+08,  1.76816812e+10],\n",
       "       [-8.59130644e+09, -1.94427321e+09,  1.96762673e+10],\n",
       "       [ 9.61358179e+10,  3.32223692e+10, -1.46166683e+11],\n",
       "       [-3.15452689e+10,  1.43249408e+09, -1.67973653e+10],\n",
       "       [-5.61991418e+08,  1.57903736e+10,  7.31660772e+09],\n",
       "       [ 1.10313481e+10,  9.04029630e+09,  6.12501799e+09],\n",
       "       [ 7.31393168e+09, -3.66980879e+10, -2.89735087e+10],\n",
       "       [ 7.45224539e+10,  6.06859401e+09, -5.96606087e+10],\n",
       "       [ 2.16447247e+08, -4.95141534e+07,  6.00952419e+09],\n",
       "       [-3.24440682e+09,  6.40463813e+09, -1.48987628e+10],\n",
       "       [-3.29567464e+09, -2.19423635e+11,  3.65914862e+10],\n",
       "       [-2.07812915e+10, -1.13565746e+10,  2.25454288e+10],\n",
       "       [-1.27406206e+09,  3.10420382e+09,  5.04702433e+07],\n",
       "       [-1.15355607e+10,  1.29994105e+10,  2.15486709e+10],\n",
       "       [-1.23037159e+09,  4.73653082e+09, -1.20359365e+10],\n",
       "       [-2.18344137e+08, -1.54997325e+09, -7.08718035e+10],\n",
       "       [ 4.69869927e+08, -3.12992525e+09, -6.14196458e+09],\n",
       "       [-9.45206803e+08,  6.94733164e+09,  3.61221989e+07],\n",
       "       [-1.55826082e+11, -1.55528901e+11, -1.56993537e+10],\n",
       "       [ 9.34968593e+07,  4.78963108e+10, -7.06842601e+10],\n",
       "       [ 2.20520680e+10, -1.96253847e+10,  2.69887071e+10],\n",
       "       [-6.58714673e+08,  5.97817459e+09,  2.73755265e+10],\n",
       "       [-2.14287896e+10, -1.84789358e+10,  4.42479058e+09],\n",
       "       [ 1.51160653e+10,  5.54299416e+09,  9.63626062e+09],\n",
       "       [-6.79052702e+10,  7.60322823e+09,  1.90212486e+09],\n",
       "       [ 3.55214667e+09, -2.59337344e+10,  7.75586174e+08],\n",
       "       [-2.16358273e+10,  3.78965050e+10, -3.83397224e+10],\n",
       "       [-3.16037782e+10, -5.56332376e+10, -1.06820902e+10],\n",
       "       [ 5.64204874e+10,  1.36512652e+08, -1.54340031e+09],\n",
       "       [-5.64956092e+09,  7.04779482e+08,  1.05063487e+10],\n",
       "       [-3.11315815e+10,  4.82809656e+09,  2.95408097e+11],\n",
       "       [ 2.41237053e+10,  7.24052315e+10,  7.27550389e+10],\n",
       "       [ 6.41339473e+09, -3.63992134e+10,  5.84158294e+10],\n",
       "       [ 3.33213934e+10,  2.43986169e+10,  3.22443845e+10],\n",
       "       [ 2.45815041e+09, -1.59760149e+10, -7.27504019e+09],\n",
       "       [ 5.18186669e+10, -6.57143880e+09,  1.18649722e+11],\n",
       "       [ 2.87637372e+10, -6.67224485e+09, -4.90638038e+09],\n",
       "       [ 5.23221325e+07, -4.51716059e+09, -9.08034465e+09],\n",
       "       [ 2.33892203e+10, -6.86497195e+10,  4.44299426e+10],\n",
       "       [ 6.50449401e+09, -1.01508932e+10,  9.05657021e+09],\n",
       "       [-5.16261276e+10, -7.75689822e+10,  2.67226775e+10],\n",
       "       [ 5.32220884e+10, -5.66874670e+10, -5.50250075e+08],\n",
       "       [-1.89317156e+10,  4.54386900e+09,  2.28662873e+08],\n",
       "       [-2.72850187e+10, -3.21702877e+10,  1.57853919e+10],\n",
       "       [-8.32304752e+09, -1.42327782e+09, -4.74459178e+10]])"
      ]
     },
     "execution_count": 65,
     "metadata": {},
     "output_type": "execute_result"
    }
   ],
   "source": [
    "ne(x,y,z,Ret,ωe(φ,θ,ψ,None,None))"
   ]
  },
  {
   "cell_type": "code",
   "execution_count": 66,
   "metadata": {},
   "outputs": [
    {
     "name": "stdout",
     "output_type": "stream",
     "text": [
      "0:00:00.000268\n"
     ]
    }
   ],
   "source": [
    "startTime1 = datetime.now()\n",
    "ne_(dx,dy,dz,DT,Ret)\n",
    "print(datetime.now() - startTime1)"
   ]
  },
  {
   "cell_type": "code",
   "execution_count": 67,
   "metadata": {},
   "outputs": [
    {
     "data": {
      "text/plain": [
       "(50, 3, 3)"
      ]
     },
     "execution_count": 67,
     "metadata": {},
     "output_type": "execute_result"
    }
   ],
   "source": [
    "Re_b(Ret).shape"
   ]
  },
  {
   "cell_type": "code",
   "execution_count": 68,
   "metadata": {},
   "outputs": [],
   "source": [
    "def Irho_e(Ret):\n",
    "    ans= np.multiply(np.multiply(Ret,Irho),Ret) # (19) in [3] \n",
    "    return ans"
   ]
  },
  {
   "cell_type": "code",
   "execution_count": 69,
   "metadata": {},
   "outputs": [
    {
     "data": {
      "text/plain": [
       "(50, 3, 3)"
      ]
     },
     "execution_count": 69,
     "metadata": {},
     "output_type": "execute_result"
    }
   ],
   "source": [
    "Irho_e(Ret).shape"
   ]
  },
  {
   "cell_type": "code",
   "execution_count": 70,
   "metadata": {},
   "outputs": [
    {
     "name": "stdout",
     "output_type": "stream",
     "text": [
      "0:00:00.000199\n"
     ]
    }
   ],
   "source": [
    "startTime1 = datetime.now()\n",
    "Irho_e(Ret)\n",
    "print(datetime.now() - startTime1)"
   ]
  },
  {
   "cell_type": "code",
   "execution_count": 71,
   "metadata": {},
   "outputs": [],
   "source": [
    "diag_CR = 1e11*np.array([1, 1, 1]) \n",
    "CR=np.diag(diag_CR)"
   ]
  },
  {
   "cell_type": "code",
   "execution_count": 72,
   "metadata": {},
   "outputs": [
    {
     "data": {
      "text/plain": [
       "array([[1.e+11, 0.e+00, 0.e+00],\n",
       "       [0.e+00, 1.e+11, 0.e+00],\n",
       "       [0.e+00, 0.e+00, 1.e+11]])"
      ]
     },
     "execution_count": 72,
     "metadata": {},
     "output_type": "execute_result"
    }
   ],
   "source": [
    "CR"
   ]
  },
  {
   "cell_type": "code",
   "execution_count": 73,
   "metadata": {},
   "outputs": [],
   "source": [
    "def d_me(φ,θ,ψ,Ret,fun,omega):\n",
    "    A=np.multiply(np.multiply(Ret,CR),Ret)\n",
    "    B=d_s(fun,φ,θ,ψ,None,omega)\n",
    " \n",
    "    return np.einsum('ijk,ik->ij', A,B.T.astype(np.float32)) "
   ]
  },
  {
   "cell_type": "code",
   "execution_count": 74,
   "metadata": {},
   "outputs": [
    {
     "name": "stdout",
     "output_type": "stream",
     "text": [
      "0:00:00.005193\n"
     ]
    }
   ],
   "source": [
    "startTime1 = datetime.now()\n",
    "d_me_=d_me(φ,θ,ψ,Ret,ωe, ωe(φ,θ,ψ,None,None))\n",
    "print(datetime.now() - startTime1)"
   ]
  },
  {
   "cell_type": "code",
   "execution_count": 75,
   "metadata": {},
   "outputs": [
    {
     "data": {
      "text/plain": [
       "array([[ 7.03793756e+00,  1.67550558e+03, -4.96791341e-01],\n",
       "       [-2.19912753e+02,  3.20800122e+01, -1.56434387e+02],\n",
       "       [-4.14352467e+02, -5.19371897e+02, -4.28705374e+02],\n",
       "       [ 2.07112949e+02,  1.01979970e-01, -7.00657669e-02],\n",
       "       [-3.24760097e+01, -4.05426689e+01,  5.78192109e+01],\n",
       "       [ 7.80784145e+02,  1.40031537e+02, -1.97946573e+01],\n",
       "       [-1.22579514e+01,  1.48151234e+01,  1.71939202e+02],\n",
       "       [-1.37118116e+02, -4.16502658e+01,  1.09179238e+02],\n",
       "       [ 4.71611243e+01,  7.28398863e+01,  8.40058466e+01],\n",
       "       [ 5.32172220e+01, -5.29214322e+02, -8.08957558e+01],\n",
       "       [-1.60111515e+01, -4.07194454e+01, -4.39882717e+02],\n",
       "       [ 1.32052230e+03,  3.04287963e+02, -8.53467972e+00],\n",
       "       [ 4.99783127e+01, -1.05932750e+02,  4.09384856e+02],\n",
       "       [ 1.17476767e+00,  1.99260383e-01, -2.26186260e+02],\n",
       "       [-3.96543179e+01,  2.47854412e+01,  1.48507024e+02],\n",
       "       [ 6.52801755e+03,  2.74990241e+03,  7.17552693e+02],\n",
       "       [-1.66136732e+02,  1.33162373e+03,  8.71098286e+03],\n",
       "       [ 2.46633686e-03, -6.24644479e-01, -1.07127203e+00],\n",
       "       [ 1.47201813e+02,  3.77672236e+02,  2.38325850e+01],\n",
       "       [ 3.91733129e+00, -5.21482195e+01,  1.02289598e+02],\n",
       "       [ 1.26052146e+00, -1.06520480e+02, -5.46879138e+02],\n",
       "       [ 5.32357469e+01, -2.40068686e+02, -4.13254403e+02],\n",
       "       [-7.03622886e+00,  2.16429330e+00,  3.84937102e-02],\n",
       "       [ 9.03554090e+03,  2.72120478e+03, -9.36965981e+03],\n",
       "       [ 4.59077312e+00,  1.50376054e+02,  1.70966433e+03],\n",
       "       [-1.00390198e+02,  1.39887660e+01, -2.74008015e+01],\n",
       "       [ 2.26429036e+01, -1.54927441e+02, -1.37372614e+03],\n",
       "       [-2.20115551e+02, -6.41533553e+02,  5.62666907e+02],\n",
       "       [ 7.61483325e-01, -1.73852614e+01,  4.29255390e+00],\n",
       "       [ 4.82324213e+02, -5.27415257e+02,  2.65919373e+02],\n",
       "       [-7.57985108e+01,  6.41800865e+02, -3.69671646e+01],\n",
       "       [ 4.71597519e+01,  1.66932951e+02, -2.42872504e+02],\n",
       "       [ 1.54649616e+02,  1.21059059e+02,  2.60080476e+02],\n",
       "       [ 1.81171147e+03,  2.07772478e+00, -4.01412936e+01],\n",
       "       [-4.30676357e+01,  6.54365969e+00,  3.66078057e+01],\n",
       "       [ 1.30027821e+02,  1.41694280e+01,  4.44209506e+02],\n",
       "       [-8.68657160e+02,  4.53254192e+01, -3.90952202e+01],\n",
       "       [ 7.24296136e+01,  3.78580515e+02, -1.07958421e+03],\n",
       "       [-2.95879406e+02, -1.78701268e+02, -3.41616173e+02],\n",
       "       [ 1.72017533e+01, -6.43991720e+01, -1.63601931e+01],\n",
       "       [-1.44725115e+01, -2.74836129e+01, -2.96570501e+02],\n",
       "       [ 1.75397895e+03, -3.15373188e+02, -3.63514970e+02],\n",
       "       [-5.72141069e-03,  6.05229778e+02,  1.04737729e+02],\n",
       "       [ 1.86386376e+02, -5.96706571e+02,  3.96762162e+02],\n",
       "       [-5.12576428e+02, -6.48767447e+00, -1.08665466e+01],\n",
       "       [ 6.58720005e+01,  7.24097275e+02, -6.85981352e+02],\n",
       "       [ 1.02140846e+03,  1.52557477e+03,  1.10756608e+02],\n",
       "       [ 5.10902597e+02, -1.15453356e+02, -1.74542270e+01],\n",
       "       [ 5.11700949e+02,  3.77547331e+02, -7.02973403e+01],\n",
       "       [-1.20602051e+02,  8.05340166e+00, -8.49353718e+02]])"
      ]
     },
     "execution_count": 75,
     "metadata": {},
     "output_type": "execute_result"
    }
   ],
   "source": [
    "d_me_"
   ]
  },
  {
   "cell_type": "code",
   "execution_count": 76,
   "metadata": {},
   "outputs": [],
   "source": [
    "diag_DR = 1.5*np.array([1, 1, 1]) \n",
    " \n",
    "DR=np.diag(diag_DR)"
   ]
  },
  {
   "cell_type": "code",
   "execution_count": 77,
   "metadata": {},
   "outputs": [
    {
     "data": {
      "text/plain": [
       "array([[-6.25299685e+03, -1.78574735e+04,  6.66343094e+02,\n",
       "         8.12365682e+03,  2.02098234e+03,  1.45521738e+03,\n",
       "        -3.79862326e+03,  1.95610031e+04, -6.47611480e+03,\n",
       "        -6.48405669e+03,  1.42140191e+04,  3.19629566e+03,\n",
       "         3.07925705e+03, -9.91045536e+02, -3.51849310e+02,\n",
       "         1.39663136e+02,  1.84684710e+04, -3.99698158e+03,\n",
       "         1.15784292e+03,  5.25772429e+03,  5.82502493e+03,\n",
       "         9.90150091e+03, -8.11459196e+02,  1.23849431e+04,\n",
       "        -1.54217073e+04,  6.20402772e+02, -4.05330967e+03,\n",
       "         4.36067784e+03, -6.64697353e+02, -9.36236385e+02,\n",
       "        -2.56251728e+04,  1.26888371e+03,  2.48284840e+02,\n",
       "         1.65989131e+04, -3.67637371e+03,  2.19546984e+03,\n",
       "        -4.38714460e+04,  6.39354823e+03,  2.64212741e+04,\n",
       "        -4.95898674e+03, -6.78495249e+03, -2.66476354e+04,\n",
       "         5.01775892e+03,  2.95776775e+04,  4.33513139e+03,\n",
       "        -1.86312528e+02,  1.80725515e+02,  4.76041108e+03,\n",
       "        -5.78100363e+02,  8.40601609e+03],\n",
       "       [-5.79210403e+03,  5.09758556e+03, -1.04211433e+04,\n",
       "         2.19366010e+04, -1.87014257e+04, -1.69704505e+04,\n",
       "         1.71610915e+03,  7.21411524e+03,  1.37492928e+04,\n",
       "        -1.45225376e+04, -3.31457412e+04, -4.35597086e+03,\n",
       "         4.08904458e+03, -3.89608017e+03,  4.97831638e+03,\n",
       "        -1.66702804e+02, -2.47355505e+03,  5.10029826e+03,\n",
       "        -7.70454726e+02,  3.05505145e+03,  9.71006323e+02,\n",
       "        -2.67653338e+03, -2.59101038e+03, -4.43037748e+03,\n",
       "        -7.62076704e+03,  1.16313044e+03,  2.12192218e+04,\n",
       "         2.24585429e+03, -7.47035323e+03,  4.97651086e+02,\n",
       "        -8.45164559e+03, -1.47767710e+03, -2.25078615e+03,\n",
       "        -2.88378596e+04,  1.85550456e+03,  9.55551889e+01,\n",
       "         4.47730302e+04, -1.03770380e+04, -1.20178351e+04,\n",
       "        -2.40699745e+03, -2.56817897e+03,  3.80916735e+03,\n",
       "        -8.24740544e+03,  3.44450909e+04,  7.63410157e+03,\n",
       "         7.04205076e+03, -5.19153180e+01,  7.20089548e+03,\n",
       "        -5.68130264e+02, -7.41065336e+03],\n",
       "       [ 5.48798959e+03, -2.10504875e+04,  6.11858531e+03,\n",
       "         4.25658476e+03, -1.47333478e+03, -3.65208190e+03,\n",
       "         1.93580495e+03, -1.14603858e+04, -3.40679264e+03,\n",
       "        -7.03597264e+03, -1.47130831e+02,  3.20146568e+02,\n",
       "         3.27305429e+03, -8.45643573e+01, -2.23836965e+04,\n",
       "        -1.08571657e+03, -5.88416694e+03,  1.85582606e+04,\n",
       "         1.28649727e+04,  1.24534637e+03, -1.53252305e+03,\n",
       "         6.78835000e+03, -2.29940972e+03,  8.82429681e+01,\n",
       "         1.10896057e+02,  4.08557987e+03,  4.28859336e+03,\n",
       "        -4.51310220e+02, -6.75815590e+03,  3.18709604e+03,\n",
       "        -7.77729998e+03, -1.92307002e+03,  4.54327286e+02,\n",
       "        -1.07577259e+03, -1.12667751e+03, -1.79905038e+03,\n",
       "        -2.34842487e+04, -5.24782507e+03,  3.92986563e+04,\n",
       "         4.77925551e+03,  2.04536544e+02,  1.09541157e+04,\n",
       "         5.93232920e+02,  8.66430191e+02,  3.70005142e+03,\n",
       "        -2.91555282e+03,  8.56018994e+02, -3.40438744e+03,\n",
       "         3.76109738e+01,  2.80506216e+03]])"
      ]
     },
     "execution_count": 77,
     "metadata": {},
     "output_type": "execute_result"
    }
   ],
   "source": [
    "ne_(dx,dy,dz,DT,Ret)"
   ]
  },
  {
   "cell_type": "markdown",
   "metadata": {},
   "source": [
    "### Vessel"
   ]
  },
  {
   "cell_type": "code",
   "execution_count": 78,
   "metadata": {},
   "outputs": [],
   "source": [
    "class VesselSemisub: # Semisub model from Fossen\n",
    "    \n",
    "    def __init__(self):\n",
    "        \n",
    "        MRB = 1.0e10 * np.array(\n",
    "            [\n",
    "                [0.0027, 0, 0, 0, -0.0530, 0],\n",
    "                [0, 0.0027, 0, 0.0530, 0, -0.0014],\n",
    "                [0, 0, 0.0027, 0, 0.0014, 0],\n",
    "                [0, 0.0530, 0, 3.4775, 0, -0.0265],\n",
    "                [-0.0530, 0, 0.0014, 0, 3.8150, 0],\n",
    "                [0, -0.0014, 0, -0.0265, 0, 3.7192],\n",
    "            ],\n",
    "            float,\n",
    "        )\n",
    "\n",
    "        MA = 1.0e10 * np.array(\n",
    "            [\n",
    "                [0.0017, 0, 0, 0, -0.0255, 0],\n",
    "                [0, 0.0042, 0, 0.0365, 0, 0],\n",
    "                [0, 0, 0.0021, 0, 0, 0],\n",
    "                [0, 0.0365, 0, 1.3416, 0, 0],\n",
    "                [-0.0255, 0, 0, 0, 2.2267, 0],\n",
    "                [0, 0, 0, 0, 0, 3.2049],\n",
    "            ],\n",
    "            float,\n",
    "        )\n",
    "\n",
    "        self.D = 1.0e09 * np.array(\n",
    "            [\n",
    "                [0.0004, 0, 0, 0, -0.0085, 0],\n",
    "                [0, 0.0003, 0, 0.0067, 0, -0.0002],\n",
    "                [0, 0, 0.0034, 0, 0.0017, 0],\n",
    "                [0, 0.0067, 0, 4.8841, 0, -0.0034],\n",
    "                [-0.0085, 0, 0.0017, 0, 7.1383, 0],\n",
    "                [0, -0.0002, 0, -0.0034, 0, 0.8656],\n",
    "            ],\n",
    "            float,\n",
    "        )\n",
    "\n",
    "        self.G = 1.0e10 * np.diag([0.0, 0.0, 0.0006, 1.4296, 2.6212, 0.0])\n",
    "        self.M = MRB + MA\n",
    "\n",
    "    def eq_left(self,η, dη):\n",
    "        return (np.matmul(self.D, dη) + np.dot(self.G,η))\n",
    "        \n",
    "    def tau(self,η, dη, ddη):\n",
    "        return (np.matmul(self.M,ddη) + np.matmul(self.D, dη) + np.dot(self.G,η))"
   ]
  },
  {
   "cell_type": "code",
   "execution_count": 79,
   "metadata": {},
   "outputs": [],
   "source": [
    "V=VesselSemisub()"
   ]
  },
  {
   "cell_type": "code",
   "execution_count": 80,
   "metadata": {},
   "outputs": [],
   "source": [
    "η=np.array([0.1,0.3,0.4,0.5,0.6,0.7])\n",
    "dη=np.array([0,0,0,0,0,0])\n",
    "ddη=np.array([0,0,0,0,0,0])"
   ]
  },
  {
   "cell_type": "code",
   "execution_count": 81,
   "metadata": {},
   "outputs": [],
   "source": [
    "tau_force = V.tau(η,dη, ddη)"
   ]
  },
  {
   "cell_type": "code",
   "execution_count": 82,
   "metadata": {},
   "outputs": [
    {
     "data": {
      "text/plain": [
       "array([0.00000e+00, 0.00000e+00, 2.40000e+06, 7.14800e+09, 1.57272e+10,\n",
       "       0.00000e+00])"
      ]
     },
     "execution_count": 82,
     "metadata": {},
     "output_type": "execute_result"
    }
   ],
   "source": [
    "tau_force"
   ]
  },
  {
   "cell_type": "code",
   "execution_count": 83,
   "metadata": {},
   "outputs": [],
   "source": [
    "wave_coef=1"
   ]
  },
  {
   "cell_type": "code",
   "execution_count": 84,
   "metadata": {},
   "outputs": [],
   "source": [
    "def Fx(x,dx, z,dz, t, kp, kd, x_ref = 0, dx_ref=0, z_ref = 0, dz_ref=0):\n",
    "    return -kp*(x-x_ref) - kd*(dx-dx_ref)-kp*(z-z_ref) - kd*(dz-dz_ref)"
   ]
  },
  {
   "cell_type": "code",
   "execution_count": 85,
   "metadata": {},
   "outputs": [],
   "source": [
    "Hs = 2.5 # significant wave height in m"
   ]
  },
  {
   "cell_type": "code",
   "execution_count": 86,
   "metadata": {},
   "outputs": [],
   "source": [
    "def wave_force(Hs,d0,qw, Cd=1.2):\n",
    "    g=9.81 \n",
    "    return 0.5 * qw * g * Hs**2 * d0 * Cd"
   ]
  },
  {
   "cell_type": "code",
   "execution_count": 87,
   "metadata": {},
   "outputs": [
    {
     "data": {
      "text/plain": [
       "28695.1696875"
      ]
     },
     "execution_count": 87,
     "metadata": {},
     "output_type": "execute_result"
    }
   ],
   "source": [
    "wave_force(Hs,d0,qw, Cd=1.2)"
   ]
  },
  {
   "cell_type": "code",
   "execution_count": 88,
   "metadata": {},
   "outputs": [],
   "source": [
    "\n",
    "def tau(η, dη, wave_coef, kp, kd,time, Hs=2.5, Tp=10, x_ref = 0, dx_ref=0, z_ref = 0, dz_ref=0):\n",
    "    x,y,z,φ,θ,ψ=η\n",
    "    dx,dy,dz,dφ,dθ,dψ=dη\n",
    "    F=(np.array([-Fx(x,dx,z,dz,time, kp, kd, x_ref, dx_ref, z_ref, dz_ref),0,0])\n",
    "       +wave_coef*np.array([0,0,wave_force(Hs,d0,qw)])*np.sin(2*np.pi/Tp*time+1)\n",
    "      ).T\n",
    "    ans=np.concatenate( [F,[0,0,0]], axis=0)\n",
    "    return ans"
   ]
  },
  {
   "cell_type": "code",
   "execution_count": 89,
   "metadata": {},
   "outputs": [
    {
     "data": {
      "text/plain": [
       "array([9750.        ,    0.        , 7283.67179881,    0.        ,\n",
       "          0.        ,    0.        ])"
      ]
     },
     "execution_count": 89,
     "metadata": {},
     "output_type": "execute_result"
    }
   ],
   "source": [
    "tau(η, dη, wave_coef, kp, kd,3)"
   ]
  },
  {
   "cell_type": "markdown",
   "metadata": {},
   "source": [
    "### Static solution"
   ]
  },
  {
   "cell_type": "code",
   "execution_count": 90,
   "metadata": {},
   "outputs": [],
   "source": [
    "def catenary(x,Ws,Fh):\n",
    "    return (Fh/Ws)*(np.cosh(x*Ws/Fh)-1)"
   ]
  },
  {
   "cell_type": "code",
   "execution_count": 91,
   "metadata": {},
   "outputs": [],
   "source": [
    "pipe_weight_per_unit_length = mi #  (submerged) [kg/m]  # 113.07 - not submerged"
   ]
  },
  {
   "cell_type": "code",
   "execution_count": 92,
   "metadata": {},
   "outputs": [],
   "source": [
    "Fx_0=82945396"
   ]
  },
  {
   "cell_type": "code",
   "execution_count": 93,
   "metadata": {},
   "outputs": [],
   "source": [
    "Ws = np.array(pipe_weight_per_unit_length)*9.81 # [N/m]\n",
    "h=700"
   ]
  },
  {
   "cell_type": "code",
   "execution_count": 94,
   "metadata": {},
   "outputs": [],
   "source": [
    "S=math.sqrt(h*(2*Fx_0/Ws[0] -h))\n",
    "horizontal_length=(Fx_0/Ws[0] -h)*np.log((S+Fx_0/Ws[0])/(Fx_0/Ws[0]-h))"
   ]
  },
  {
   "cell_type": "code",
   "execution_count": 95,
   "metadata": {},
   "outputs": [
    {
     "data": {
      "text/plain": [
       "array([941.76, 941.76, 941.76, 941.76, 941.76, 941.76, 941.76, 941.76,\n",
       "       941.76, 941.76, 941.76, 941.76, 941.76, 941.76, 941.76, 941.76,\n",
       "       941.76, 941.76, 941.76, 941.76, 941.76, 941.76, 941.76, 941.76,\n",
       "       941.76, 941.76, 941.76, 941.76, 941.76, 941.76, 941.76, 941.76,\n",
       "       941.76, 941.76, 941.76, 941.76, 941.76, 941.76, 941.76, 941.76,\n",
       "       941.76, 941.76, 941.76, 941.76, 941.76, 941.76, 941.76, 941.76,\n",
       "       941.76, 941.76])"
      ]
     },
     "execution_count": 95,
     "metadata": {},
     "output_type": "execute_result"
    }
   ],
   "source": [
    "Ws"
   ]
  },
  {
   "cell_type": "code",
   "execution_count": 96,
   "metadata": {},
   "outputs": [],
   "source": [
    "delta_x=horizontal_length/(node_N-1)"
   ]
  },
  {
   "cell_type": "code",
   "execution_count": 97,
   "metadata": {},
   "outputs": [],
   "source": [
    "x0=[i*delta_x for i in range(node_N)]\n",
    "z0=[]\n",
    "\n",
    "for i in range(len(x0)):\n",
    "    z0.append(catenary(x0[i],Ws[0],Fx_0))\n",
    "\n",
    "length_p=[]\n",
    "for i in range(1,len(z0)):\n",
    "    length_p.append(math.sqrt((x0[i]-x0[i-1])**2+(z0[i]-z0[i-1])**2))"
   ]
  },
  {
   "cell_type": "code",
   "execution_count": 98,
   "metadata": {},
   "outputs": [
    {
     "data": {
      "text/plain": [
       "([0.0,\n",
       "  225.56499682574736,\n",
       "  451.1299936514947,\n",
       "  676.6949904772421,\n",
       "  902.2599873029894,\n",
       "  1127.8249841287368,\n",
       "  1353.3899809544841,\n",
       "  1578.9549777802315,\n",
       "  1804.5199746059789,\n",
       "  2030.0849714317262,\n",
       "  2255.6499682574736,\n",
       "  2481.2149650832207,\n",
       "  2706.7799619089683,\n",
       "  2932.344958734716,\n",
       "  3157.909955560463,\n",
       "  3383.47495238621,\n",
       "  3609.0399492119577,\n",
       "  3834.6049460377053,\n",
       "  4060.1699428634524,\n",
       "  4285.7349396892,\n",
       "  4511.299936514947,\n",
       "  4736.864933340695,\n",
       "  4962.429930166441,\n",
       "  5187.994926992189,\n",
       "  5413.559923817937,\n",
       "  5639.124920643684,\n",
       "  5864.689917469432,\n",
       "  6090.254914295178,\n",
       "  6315.819911120926,\n",
       "  6541.384907946674,\n",
       "  6766.94990477242,\n",
       "  6992.514901598168,\n",
       "  7218.079898423915,\n",
       "  7443.644895249663,\n",
       "  7669.209892075411,\n",
       "  7894.774888901157,\n",
       "  8120.339885726905,\n",
       "  8345.904882552652,\n",
       "  8571.4698793784,\n",
       "  8797.034876204147,\n",
       "  9022.599873029894,\n",
       "  9248.164869855642,\n",
       "  9473.72986668139,\n",
       "  9699.294863507137,\n",
       "  9924.859860332883,\n",
       "  10150.42485715863,\n",
       "  10375.989853984378,\n",
       "  10601.554850810126,\n",
       "  10827.119847635873,\n",
       "  11052.68484446162],\n",
       " [0.0,\n",
       "  0.2888428427924309,\n",
       "  1.155373265710624,\n",
       "  2.5995969523577234,\n",
       "  4.621523375418674,\n",
       "  7.221165796797117,\n",
       "  10.398541267595833,\n",
       "  14.15367062831231,\n",
       "  18.486578508975636,\n",
       "  23.39729332924428,\n",
       "  28.885847298621222,\n",
       "  34.95227641670818,\n",
       "  41.59662047340119,\n",
       "  48.81892304912524,\n",
       "  56.619231515186364,\n",
       "  64.99759703402582,\n",
       "  73.9540745596112,\n",
       "  83.48872283771031,\n",
       "  93.60160440638002,\n",
       "  104.29278559627915,\n",
       "  115.56233653119654,\n",
       "  127.41033112846175,\n",
       "  139.83684709937523,\n",
       "  152.8419659498538,\n",
       "  166.4257729808412,\n",
       "  180.58835728891447,\n",
       "  195.3298117668901,\n",
       "  210.65023310439128,\n",
       "  226.54972178849314,\n",
       "  243.02838210444648,\n",
       "  260.0863221362252,\n",
       "  277.72365376736735,\n",
       "  295.94049268164,\n",
       "  314.7369583638412,\n",
       "  334.1131741005232,\n",
       "  354.0692669808534,\n",
       "  374.60536789741576,\n",
       "  395.72161154711085,\n",
       "  417.41813643197673,\n",
       "  439.6950848601867,\n",
       "  462.5526029468705,\n",
       "  485.9908406151509,\n",
       "  510.0099515971214,\n",
       "  534.6100934348437,\n",
       "  559.7914274813454,\n",
       "  585.5541189017534,\n",
       "  611.8983366742727,\n",
       "  638.8242535914375,\n",
       "  666.3320462610891,\n",
       "  694.4218951076863])"
      ]
     },
     "execution_count": 98,
     "metadata": {},
     "output_type": "execute_result"
    }
   ],
   "source": [
    "x0,z0"
   ]
  },
  {
   "cell_type": "code",
   "execution_count": 99,
   "metadata": {},
   "outputs": [
    {
     "data": {
      "text/plain": [
       "[225.56518176169666,\n",
       " 225.56666125111053,\n",
       " 225.5696202396424,\n",
       " 225.57405874670005,\n",
       " 225.57997680139619,\n",
       " 225.58737444254686,\n",
       " 225.59625171867356,\n",
       " 225.60660868800304,\n",
       " 225.61844541846622,\n",
       " 225.63176198770017,\n",
       " 225.64655848304906,\n",
       " 225.66283500156428,\n",
       " 225.6805916500017,\n",
       " 225.69982854482856,\n",
       " 225.72054581222017,\n",
       " 225.74274358806272,\n",
       " 225.76642201794883,\n",
       " 225.79158125718783,\n",
       " 225.81822147079842,\n",
       " 225.84634283351636,\n",
       " 225.8759455297893,\n",
       " 225.90702975377832,\n",
       " 225.93959570937227,\n",
       " 225.97364361016668,\n",
       " 226.00917367948318,\n",
       " 226.04618615036563,\n",
       " 226.08468126557727,\n",
       " 226.1246592776104,\n",
       " 226.1661204486828,\n",
       " 226.20906505073324,\n",
       " 226.25349336544267,\n",
       " 226.29940568421313,\n",
       " 226.34680230818745,\n",
       " 226.39568354823808,\n",
       " 226.4460497249786,\n",
       " 226.49790116876304,\n",
       " 226.55123821968485,\n",
       " 226.60606122758307,\n",
       " 226.6623705520452,\n",
       " 226.72016656240044,\n",
       " 226.77944963773572,\n",
       " 226.84022016689133,\n",
       " 226.90247854846268,\n",
       " 226.96622519079838,\n",
       " 227.03146051202393,\n",
       " 227.0981849400066,\n",
       " 227.16639891240425,\n",
       " 227.2361028766249,\n",
       " 227.30729728986748]"
      ]
     },
     "execution_count": 99,
     "metadata": {},
     "output_type": "execute_result"
    }
   ],
   "source": [
    "length_p"
   ]
  },
  {
   "cell_type": "code",
   "execution_count": 100,
   "metadata": {},
   "outputs": [
    {
     "data": {
      "image/png": "[encoded data removed]",
      "text/plain": [
       "<Figure size 432x288 with 1 Axes>"
      ]
     },
     "metadata": {
      "needs_background": "light"
     },
     "output_type": "display_data"
    }
   ],
   "source": [
    "plt.plot(x0, z0)\n",
    "plt.show()"
   ]
  },
  {
   "cell_type": "code",
   "execution_count": 101,
   "metadata": {},
   "outputs": [],
   "source": [
    "rng = np.random.default_rng(seed=29)\n",
    "q0=np.zeros(12*node_N)"
   ]
  },
  {
   "cell_type": "code",
   "execution_count": 102,
   "metadata": {},
   "outputs": [],
   "source": [
    "for j in range(1,12):\n",
    "    if j==1:  \n",
    "        q0[(j-1)*node_N:j*node_N]=x0\n",
    "    elif j==5:    \n",
    "        q0[(j-1)*node_N:j*node_N]=z0"
   ]
  },
  {
   "cell_type": "code",
   "execution_count": 103,
   "metadata": {},
   "outputs": [],
   "source": [
    "def static_func(Q):\n",
    "    t=0\n",
    " \n",
    "    x,y,z=Q[0:node_N],Q[2*node_N:3*node_N],Q[4*node_N:5*node_N]\n",
    "    dx,dy,dz=Q[1*node_N:2*node_N],Q[3*node_N:4*node_N],Q[5*node_N:6*node_N]\n",
    "    φ,θ,ψ=Q[6*node_N:7*node_N],Q[8*node_N:9*node_N],Q[10*node_N:11*node_N]\n",
    "    Ret = Re_t(φ,θ,ψ)\n",
    "\n",
    "    \n",
    "    dφ,dθ,dψ=Q[7*node_N:8*node_N],Q[9*node_N:10*node_N],Q[11*node_N:12*node_N]\n",
    "    \n",
    "    η=[x[-1],y[-1],z[-1],φ[-1],θ[-1],ψ[-1]]\n",
    "    \n",
    "    tau_force=np.array([-Fx_0,0,0,0,0,0])\n",
    "#     test=np.einsum('ijk,ik->ij',Π(φ,θ,ψ).astype(np.float32),np.array([dφ,dθ,dψ]).astype(np.float32).T)\n",
    "\n",
    "\n",
    "    Z0=np.dot(Re_b(Ret),tau_force[:3])\n",
    "    Z1 = d_s(ne, x, y, z, Ret, ωe(φ,θ,ψ,None,None)).T\n",
    "#     Z1 = d_s(ne, x, y, z, Ret, phi(x,y,z,Ret,None)).T\n",
    "    DT_0=np.zeros((3,3))\n",
    "    Z2=ne_(dx,dy,dz,DT_0,Ret).T\n",
    "    \n",
    "    \n",
    "    Z =  Z1 + Z2 + Z0\n",
    "    \n",
    "############################################################    \n",
    "    ddx,ddy, ddz = np.linalg.solve(Ws[0]*Re_b(Ret),Z).T\n",
    "############################################################    \n",
    "\n",
    "   \n",
    "    C0=np.einsum('ijk,kp->ijp',np.einsum('ijk,ikr->ijr',np.linalg.inv(Π(φ,θ,ψ).astype(np.float32)),\n",
    "                        Re_b(Ret)),tau_force[3:].reshape(3,1)) \n",
    "    C3=d_me(φ,θ,ψ,Ret,  ωe,ωe(φ,θ,ψ,None,None))\n",
    "    B_ =C3\n",
    "    B=(B_ + C0.squeeze()\n",
    "      )\n",
    "\n",
    "    A2 = Irho_e(Ret).astype(np.float32)\n",
    "    A3=Π(φ,θ,ψ).astype(np.float32)\n",
    "    A=np.einsum('ijk,ikr->ijr',A2,A3)\n",
    "\n",
    "\n",
    "#############################################\n",
    "    ddφ,ddθ,ddψ = np.linalg.solve(A,B).T\n",
    "#############################################\n",
    "\n",
    "\n",
    "    ans=np.concatenate([dx, ddx, dy, ddy, dz, ddz, dφ, ddφ, dθ, ddθ, dψ, ddψ], axis=0)\n",
    "  \n",
    "    return ans "
   ]
  },
  {
   "cell_type": "code",
   "execution_count": 104,
   "metadata": {},
   "outputs": [
    {
     "data": {
      "text/plain": [
       "array([0.00000000e+00, 2.25564997e+02, 4.51129994e+02, 6.76694990e+02,\n",
       "       9.02259987e+02, 1.12782498e+03, 1.35338998e+03, 1.57895498e+03,\n",
       "       1.80451997e+03, 2.03008497e+03, 2.25564997e+03, 2.48121497e+03,\n",
       "       2.70677996e+03, 2.93234496e+03, 3.15790996e+03, 3.38347495e+03,\n",
       "       3.60903995e+03, 3.83460495e+03, 4.06016994e+03, 4.28573494e+03,\n",
       "       4.51129994e+03, 4.73686493e+03, 4.96242993e+03, 5.18799493e+03,\n",
       "       5.41355992e+03, 5.63912492e+03, 5.86468992e+03, 6.09025491e+03,\n",
       "       6.31581991e+03, 6.54138491e+03, 6.76694990e+03, 6.99251490e+03,\n",
       "       7.21807990e+03, 7.44364490e+03, 7.66920989e+03, 7.89477489e+03,\n",
       "       8.12033989e+03, 8.34590488e+03, 8.57146988e+03, 8.79703488e+03,\n",
       "       9.02259987e+03, 9.24816487e+03, 9.47372987e+03, 9.69929486e+03,\n",
       "       9.92485986e+03, 1.01504249e+04, 1.03759899e+04, 1.06015549e+04,\n",
       "       1.08271198e+04, 1.10526848e+04, 0.00000000e+00, 0.00000000e+00,\n",
       "       0.00000000e+00, 0.00000000e+00, 0.00000000e+00, 0.00000000e+00,\n",
       "       0.00000000e+00, 0.00000000e+00, 0.00000000e+00, 0.00000000e+00,\n",
       "       0.00000000e+00, 0.00000000e+00, 0.00000000e+00, 0.00000000e+00,\n",
       "       0.00000000e+00, 0.00000000e+00, 0.00000000e+00, 0.00000000e+00,\n",
       "       0.00000000e+00, 0.00000000e+00, 0.00000000e+00, 0.00000000e+00,\n",
       "       0.00000000e+00, 0.00000000e+00, 0.00000000e+00, 0.00000000e+00,\n",
       "       0.00000000e+00, 0.00000000e+00, 0.00000000e+00, 0.00000000e+00,\n",
       "       0.00000000e+00, 0.00000000e+00, 0.00000000e+00, 0.00000000e+00,\n",
       "       0.00000000e+00, 0.00000000e+00, 0.00000000e+00, 0.00000000e+00,\n",
       "       0.00000000e+00, 0.00000000e+00, 0.00000000e+00, 0.00000000e+00,\n",
       "       0.00000000e+00, 0.00000000e+00, 0.00000000e+00, 0.00000000e+00,\n",
       "       0.00000000e+00, 0.00000000e+00, 0.00000000e+00, 0.00000000e+00,\n",
       "       0.00000000e+00, 0.00000000e+00, 0.00000000e+00, 0.00000000e+00,\n",
       "       0.00000000e+00, 0.00000000e+00, 0.00000000e+00, 0.00000000e+00,\n",
       "       0.00000000e+00, 0.00000000e+00, 0.00000000e+00, 0.00000000e+00,\n",
       "       0.00000000e+00, 0.00000000e+00, 0.00000000e+00, 0.00000000e+00,\n",
       "       0.00000000e+00, 0.00000000e+00, 0.00000000e+00, 0.00000000e+00,\n",
       "       0.00000000e+00, 0.00000000e+00, 0.00000000e+00, 0.00000000e+00,\n",
       "       0.00000000e+00, 0.00000000e+00, 0.00000000e+00, 0.00000000e+00,\n",
       "       0.00000000e+00, 0.00000000e+00, 0.00000000e+00, 0.00000000e+00,\n",
       "       0.00000000e+00, 0.00000000e+00, 0.00000000e+00, 0.00000000e+00,\n",
       "       0.00000000e+00, 0.00000000e+00, 0.00000000e+00, 0.00000000e+00,\n",
       "       0.00000000e+00, 0.00000000e+00, 0.00000000e+00, 0.00000000e+00,\n",
       "       0.00000000e+00, 0.00000000e+00, 0.00000000e+00, 0.00000000e+00,\n",
       "       0.00000000e+00, 0.00000000e+00, 0.00000000e+00, 0.00000000e+00,\n",
       "       0.00000000e+00, 0.00000000e+00, 0.00000000e+00, 0.00000000e+00,\n",
       "       0.00000000e+00, 0.00000000e+00, 0.00000000e+00, 0.00000000e+00,\n",
       "       0.00000000e+00, 0.00000000e+00, 0.00000000e+00, 0.00000000e+00,\n",
       "       0.00000000e+00, 0.00000000e+00, 0.00000000e+00, 0.00000000e+00,\n",
       "       0.00000000e+00, 0.00000000e+00, 0.00000000e+00, 0.00000000e+00,\n",
       "       0.00000000e+00, 0.00000000e+00, 0.00000000e+00, 0.00000000e+00,\n",
       "       0.00000000e+00, 0.00000000e+00, 0.00000000e+00, 0.00000000e+00,\n",
       "       0.00000000e+00, 0.00000000e+00, 0.00000000e+00, 0.00000000e+00,\n",
       "       0.00000000e+00, 0.00000000e+00, 0.00000000e+00, 0.00000000e+00,\n",
       "       0.00000000e+00, 0.00000000e+00, 0.00000000e+00, 0.00000000e+00,\n",
       "       0.00000000e+00, 0.00000000e+00, 0.00000000e+00, 0.00000000e+00,\n",
       "       0.00000000e+00, 0.00000000e+00, 0.00000000e+00, 0.00000000e+00,\n",
       "       0.00000000e+00, 2.88842843e-01, 1.15537327e+00, 2.59959695e+00,\n",
       "       4.62152338e+00, 7.22116580e+00, 1.03985413e+01, 1.41536706e+01,\n",
       "       1.84865785e+01, 2.33972933e+01, 2.88858473e+01, 3.49522764e+01,\n",
       "       4.15966205e+01, 4.88189230e+01, 5.66192315e+01, 6.49975970e+01,\n",
       "       7.39540746e+01, 8.34887228e+01, 9.36016044e+01, 1.04292786e+02,\n",
       "       1.15562337e+02, 1.27410331e+02, 1.39836847e+02, 1.52841966e+02,\n",
       "       1.66425773e+02, 1.80588357e+02, 1.95329812e+02, 2.10650233e+02,\n",
       "       2.26549722e+02, 2.43028382e+02, 2.60086322e+02, 2.77723654e+02,\n",
       "       2.95940493e+02, 3.14736958e+02, 3.34113174e+02, 3.54069267e+02,\n",
       "       3.74605368e+02, 3.95721612e+02, 4.17418136e+02, 4.39695085e+02,\n",
       "       4.62552603e+02, 4.85990841e+02, 5.10009952e+02, 5.34610093e+02,\n",
       "       5.59791427e+02, 5.85554119e+02, 6.11898337e+02, 6.38824254e+02,\n",
       "       6.66332046e+02, 6.94421895e+02, 0.00000000e+00, 0.00000000e+00,\n",
       "       0.00000000e+00, 0.00000000e+00, 0.00000000e+00, 0.00000000e+00,\n",
       "       0.00000000e+00, 0.00000000e+00, 0.00000000e+00, 0.00000000e+00,\n",
       "       0.00000000e+00, 0.00000000e+00, 0.00000000e+00, 0.00000000e+00,\n",
       "       0.00000000e+00, 0.00000000e+00, 0.00000000e+00, 0.00000000e+00,\n",
       "       0.00000000e+00, 0.00000000e+00, 0.00000000e+00, 0.00000000e+00,\n",
       "       0.00000000e+00, 0.00000000e+00, 0.00000000e+00, 0.00000000e+00,\n",
       "       0.00000000e+00, 0.00000000e+00, 0.00000000e+00, 0.00000000e+00,\n",
       "       0.00000000e+00, 0.00000000e+00, 0.00000000e+00, 0.00000000e+00,\n",
       "       0.00000000e+00, 0.00000000e+00, 0.00000000e+00, 0.00000000e+00,\n",
       "       0.00000000e+00, 0.00000000e+00, 0.00000000e+00, 0.00000000e+00,\n",
       "       0.00000000e+00, 0.00000000e+00, 0.00000000e+00, 0.00000000e+00,\n",
       "       0.00000000e+00, 0.00000000e+00, 0.00000000e+00, 0.00000000e+00,\n",
       "       0.00000000e+00, 0.00000000e+00, 0.00000000e+00, 0.00000000e+00,\n",
       "       0.00000000e+00, 0.00000000e+00, 0.00000000e+00, 0.00000000e+00,\n",
       "       0.00000000e+00, 0.00000000e+00, 0.00000000e+00, 0.00000000e+00,\n",
       "       0.00000000e+00, 0.00000000e+00, 0.00000000e+00, 0.00000000e+00,\n",
       "       0.00000000e+00, 0.00000000e+00, 0.00000000e+00, 0.00000000e+00,\n",
       "       0.00000000e+00, 0.00000000e+00, 0.00000000e+00, 0.00000000e+00,\n",
       "       0.00000000e+00, 0.00000000e+00, 0.00000000e+00, 0.00000000e+00,\n",
       "       0.00000000e+00, 0.00000000e+00, 0.00000000e+00, 0.00000000e+00,\n",
       "       0.00000000e+00, 0.00000000e+00, 0.00000000e+00, 0.00000000e+00,\n",
       "       0.00000000e+00, 0.00000000e+00, 0.00000000e+00, 0.00000000e+00,\n",
       "       0.00000000e+00, 0.00000000e+00, 0.00000000e+00, 0.00000000e+00,\n",
       "       0.00000000e+00, 0.00000000e+00, 0.00000000e+00, 0.00000000e+00,\n",
       "       0.00000000e+00, 0.00000000e+00, 0.00000000e+00, 0.00000000e+00,\n",
       "       0.00000000e+00, 0.00000000e+00, 0.00000000e+00, 0.00000000e+00,\n",
       "       0.00000000e+00, 0.00000000e+00, 0.00000000e+00, 0.00000000e+00,\n",
       "       0.00000000e+00, 0.00000000e+00, 0.00000000e+00, 0.00000000e+00,\n",
       "       0.00000000e+00, 0.00000000e+00, 0.00000000e+00, 0.00000000e+00,\n",
       "       0.00000000e+00, 0.00000000e+00, 0.00000000e+00, 0.00000000e+00,\n",
       "       0.00000000e+00, 0.00000000e+00, 0.00000000e+00, 0.00000000e+00,\n",
       "       0.00000000e+00, 0.00000000e+00, 0.00000000e+00, 0.00000000e+00,\n",
       "       0.00000000e+00, 0.00000000e+00, 0.00000000e+00, 0.00000000e+00,\n",
       "       0.00000000e+00, 0.00000000e+00, 0.00000000e+00, 0.00000000e+00,\n",
       "       0.00000000e+00, 0.00000000e+00, 0.00000000e+00, 0.00000000e+00,\n",
       "       0.00000000e+00, 0.00000000e+00, 0.00000000e+00, 0.00000000e+00,\n",
       "       0.00000000e+00, 0.00000000e+00, 0.00000000e+00, 0.00000000e+00,\n",
       "       0.00000000e+00, 0.00000000e+00, 0.00000000e+00, 0.00000000e+00,\n",
       "       0.00000000e+00, 0.00000000e+00, 0.00000000e+00, 0.00000000e+00,\n",
       "       0.00000000e+00, 0.00000000e+00, 0.00000000e+00, 0.00000000e+00,\n",
       "       0.00000000e+00, 0.00000000e+00, 0.00000000e+00, 0.00000000e+00,\n",
       "       0.00000000e+00, 0.00000000e+00, 0.00000000e+00, 0.00000000e+00,\n",
       "       0.00000000e+00, 0.00000000e+00, 0.00000000e+00, 0.00000000e+00,\n",
       "       0.00000000e+00, 0.00000000e+00, 0.00000000e+00, 0.00000000e+00,\n",
       "       0.00000000e+00, 0.00000000e+00, 0.00000000e+00, 0.00000000e+00,\n",
       "       0.00000000e+00, 0.00000000e+00, 0.00000000e+00, 0.00000000e+00,\n",
       "       0.00000000e+00, 0.00000000e+00, 0.00000000e+00, 0.00000000e+00,\n",
       "       0.00000000e+00, 0.00000000e+00, 0.00000000e+00, 0.00000000e+00,\n",
       "       0.00000000e+00, 0.00000000e+00, 0.00000000e+00, 0.00000000e+00,\n",
       "       0.00000000e+00, 0.00000000e+00, 0.00000000e+00, 0.00000000e+00,\n",
       "       0.00000000e+00, 0.00000000e+00, 0.00000000e+00, 0.00000000e+00,\n",
       "       0.00000000e+00, 0.00000000e+00, 0.00000000e+00, 0.00000000e+00,\n",
       "       0.00000000e+00, 0.00000000e+00, 0.00000000e+00, 0.00000000e+00,\n",
       "       0.00000000e+00, 0.00000000e+00, 0.00000000e+00, 0.00000000e+00,\n",
       "       0.00000000e+00, 0.00000000e+00, 0.00000000e+00, 0.00000000e+00,\n",
       "       0.00000000e+00, 0.00000000e+00, 0.00000000e+00, 0.00000000e+00,\n",
       "       0.00000000e+00, 0.00000000e+00, 0.00000000e+00, 0.00000000e+00,\n",
       "       0.00000000e+00, 0.00000000e+00, 0.00000000e+00, 0.00000000e+00,\n",
       "       0.00000000e+00, 0.00000000e+00, 0.00000000e+00, 0.00000000e+00,\n",
       "       0.00000000e+00, 0.00000000e+00, 0.00000000e+00, 0.00000000e+00,\n",
       "       0.00000000e+00, 0.00000000e+00, 0.00000000e+00, 0.00000000e+00,\n",
       "       0.00000000e+00, 0.00000000e+00, 0.00000000e+00, 0.00000000e+00,\n",
       "       0.00000000e+00, 0.00000000e+00, 0.00000000e+00, 0.00000000e+00,\n",
       "       0.00000000e+00, 0.00000000e+00, 0.00000000e+00, 0.00000000e+00,\n",
       "       0.00000000e+00, 0.00000000e+00, 0.00000000e+00, 0.00000000e+00,\n",
       "       0.00000000e+00, 0.00000000e+00, 0.00000000e+00, 0.00000000e+00,\n",
       "       0.00000000e+00, 0.00000000e+00, 0.00000000e+00, 0.00000000e+00,\n",
       "       0.00000000e+00, 0.00000000e+00, 0.00000000e+00, 0.00000000e+00,\n",
       "       0.00000000e+00, 0.00000000e+00, 0.00000000e+00, 0.00000000e+00,\n",
       "       0.00000000e+00, 0.00000000e+00, 0.00000000e+00, 0.00000000e+00,\n",
       "       0.00000000e+00, 0.00000000e+00, 0.00000000e+00, 0.00000000e+00,\n",
       "       0.00000000e+00, 0.00000000e+00, 0.00000000e+00, 0.00000000e+00,\n",
       "       0.00000000e+00, 0.00000000e+00, 0.00000000e+00, 0.00000000e+00,\n",
       "       0.00000000e+00, 0.00000000e+00, 0.00000000e+00, 0.00000000e+00,\n",
       "       0.00000000e+00, 0.00000000e+00, 0.00000000e+00, 0.00000000e+00,\n",
       "       0.00000000e+00, 0.00000000e+00, 0.00000000e+00, 0.00000000e+00,\n",
       "       0.00000000e+00, 0.00000000e+00, 0.00000000e+00, 0.00000000e+00,\n",
       "       0.00000000e+00, 0.00000000e+00, 0.00000000e+00, 0.00000000e+00,\n",
       "       0.00000000e+00, 0.00000000e+00, 0.00000000e+00, 0.00000000e+00,\n",
       "       0.00000000e+00, 0.00000000e+00, 0.00000000e+00, 0.00000000e+00,\n",
       "       0.00000000e+00, 0.00000000e+00, 0.00000000e+00, 0.00000000e+00,\n",
       "       0.00000000e+00, 0.00000000e+00, 0.00000000e+00, 0.00000000e+00,\n",
       "       0.00000000e+00, 0.00000000e+00, 0.00000000e+00, 0.00000000e+00,\n",
       "       0.00000000e+00, 0.00000000e+00, 0.00000000e+00, 0.00000000e+00,\n",
       "       0.00000000e+00, 0.00000000e+00, 0.00000000e+00, 0.00000000e+00,\n",
       "       0.00000000e+00, 0.00000000e+00, 0.00000000e+00, 0.00000000e+00,\n",
       "       0.00000000e+00, 0.00000000e+00, 0.00000000e+00, 0.00000000e+00])"
      ]
     },
     "execution_count": 104,
     "metadata": {},
     "output_type": "execute_result"
    }
   ],
   "source": [
    "q0"
   ]
  },
  {
   "cell_type": "code",
   "execution_count": 105,
   "metadata": {},
   "outputs": [
    {
     "name": "stderr",
     "output_type": "stream",
     "text": [
      "/Library/Frameworks/Python.framework/Versions/3.7/lib/python3.7/site-packages/scipy/optimize/minpack.py:175: RuntimeWarning: The iteration is not making good progress, as measured by the \n",
      "  improvement from the last ten iterations.\n",
      "  warnings.warn(msg, RuntimeWarning)\n"
     ]
    }
   ],
   "source": [
    "root = fsolve(static_func, q0)"
   ]
  },
  {
   "cell_type": "code",
   "execution_count": 106,
   "metadata": {},
   "outputs": [
    {
     "data": {
      "text/plain": [
       "array([0.00000000e+00, 2.25564997e+02, 4.51129994e+02, 6.76694990e+02,\n",
       "       9.02259987e+02, 1.12782498e+03, 1.35338998e+03, 1.57895498e+03,\n",
       "       1.80451997e+03, 2.03008497e+03, 2.25564997e+03, 2.48121497e+03,\n",
       "       2.70677996e+03, 2.93234496e+03, 3.15790996e+03, 3.38347495e+03,\n",
       "       3.60903995e+03, 3.83460495e+03, 4.06016994e+03, 4.28573494e+03,\n",
       "       4.51129994e+03, 4.73686493e+03, 4.96242993e+03, 5.18799493e+03,\n",
       "       5.41355992e+03, 5.63912492e+03, 5.86468992e+03, 6.09025491e+03,\n",
       "       6.31581991e+03, 6.54138491e+03, 6.76694990e+03, 6.99251490e+03,\n",
       "       7.21807990e+03, 7.44364490e+03, 7.66920989e+03, 7.89477489e+03,\n",
       "       8.12033989e+03, 8.34590488e+03, 8.57146988e+03, 8.79703488e+03,\n",
       "       9.02259987e+03, 9.24816487e+03, 9.47372987e+03, 9.69929486e+03,\n",
       "       9.92485986e+03, 1.01504249e+04, 1.03759899e+04, 1.06015549e+04,\n",
       "       1.08271198e+04, 1.10526848e+04, 0.00000000e+00, 0.00000000e+00,\n",
       "       0.00000000e+00, 0.00000000e+00, 0.00000000e+00, 0.00000000e+00,\n",
       "       0.00000000e+00, 0.00000000e+00, 0.00000000e+00, 0.00000000e+00,\n",
       "       0.00000000e+00, 0.00000000e+00, 0.00000000e+00, 0.00000000e+00,\n",
       "       0.00000000e+00, 0.00000000e+00, 0.00000000e+00, 0.00000000e+00,\n",
       "       0.00000000e+00, 0.00000000e+00, 0.00000000e+00, 0.00000000e+00,\n",
       "       0.00000000e+00, 0.00000000e+00, 0.00000000e+00, 0.00000000e+00,\n",
       "       0.00000000e+00, 0.00000000e+00, 0.00000000e+00, 0.00000000e+00,\n",
       "       0.00000000e+00, 0.00000000e+00, 0.00000000e+00, 0.00000000e+00,\n",
       "       0.00000000e+00, 0.00000000e+00, 0.00000000e+00, 0.00000000e+00,\n",
       "       0.00000000e+00, 0.00000000e+00, 0.00000000e+00, 0.00000000e+00,\n",
       "       0.00000000e+00, 0.00000000e+00, 0.00000000e+00, 0.00000000e+00,\n",
       "       0.00000000e+00, 0.00000000e+00, 0.00000000e+00, 0.00000000e+00,\n",
       "       0.00000000e+00, 0.00000000e+00, 0.00000000e+00, 0.00000000e+00,\n",
       "       0.00000000e+00, 0.00000000e+00, 0.00000000e+00, 0.00000000e+00,\n",
       "       0.00000000e+00, 0.00000000e+00, 0.00000000e+00, 0.00000000e+00,\n",
       "       0.00000000e+00, 0.00000000e+00, 0.00000000e+00, 0.00000000e+00,\n",
       "       0.00000000e+00, 0.00000000e+00, 0.00000000e+00, 0.00000000e+00,\n",
       "       0.00000000e+00, 0.00000000e+00, 0.00000000e+00, 0.00000000e+00,\n",
       "       0.00000000e+00, 0.00000000e+00, 0.00000000e+00, 0.00000000e+00,\n",
       "       0.00000000e+00, 0.00000000e+00, 0.00000000e+00, 0.00000000e+00,\n",
       "       0.00000000e+00, 0.00000000e+00, 0.00000000e+00, 0.00000000e+00,\n",
       "       0.00000000e+00, 0.00000000e+00, 0.00000000e+00, 0.00000000e+00,\n",
       "       0.00000000e+00, 0.00000000e+00, 0.00000000e+00, 0.00000000e+00,\n",
       "       0.00000000e+00, 0.00000000e+00, 0.00000000e+00, 0.00000000e+00,\n",
       "       0.00000000e+00, 0.00000000e+00, 0.00000000e+00, 0.00000000e+00,\n",
       "       0.00000000e+00, 0.00000000e+00, 0.00000000e+00, 0.00000000e+00,\n",
       "       0.00000000e+00, 0.00000000e+00, 0.00000000e+00, 0.00000000e+00,\n",
       "       0.00000000e+00, 0.00000000e+00, 0.00000000e+00, 0.00000000e+00,\n",
       "       0.00000000e+00, 0.00000000e+00, 0.00000000e+00, 0.00000000e+00,\n",
       "       0.00000000e+00, 0.00000000e+00, 0.00000000e+00, 0.00000000e+00,\n",
       "       0.00000000e+00, 0.00000000e+00, 0.00000000e+00, 0.00000000e+00,\n",
       "       0.00000000e+00, 0.00000000e+00, 0.00000000e+00, 0.00000000e+00,\n",
       "       0.00000000e+00, 0.00000000e+00, 0.00000000e+00, 0.00000000e+00,\n",
       "       0.00000000e+00, 0.00000000e+00, 0.00000000e+00, 0.00000000e+00,\n",
       "       0.00000000e+00, 0.00000000e+00, 0.00000000e+00, 0.00000000e+00,\n",
       "       0.00000000e+00, 0.00000000e+00, 0.00000000e+00, 0.00000000e+00,\n",
       "       0.00000000e+00, 0.00000000e+00, 0.00000000e+00, 0.00000000e+00,\n",
       "       0.00000000e+00, 2.88842843e-01, 1.15537327e+00, 2.59959695e+00,\n",
       "       4.62152338e+00, 7.22116580e+00, 1.03985413e+01, 1.41536706e+01,\n",
       "       1.84865785e+01, 2.33972933e+01, 2.88858473e+01, 3.49522764e+01,\n",
       "       4.15966205e+01, 4.88189230e+01, 5.66192315e+01, 6.49975970e+01,\n",
       "       7.39540746e+01, 8.34887228e+01, 9.36016044e+01, 1.04292786e+02,\n",
       "       1.15562337e+02, 1.27410331e+02, 1.39836847e+02, 1.52841966e+02,\n",
       "       1.66425773e+02, 1.80588357e+02, 1.95329812e+02, 2.10650233e+02,\n",
       "       2.26549722e+02, 2.43028382e+02, 2.60086322e+02, 2.77723654e+02,\n",
       "       2.95940493e+02, 3.14736958e+02, 3.34113174e+02, 3.54069267e+02,\n",
       "       3.74605368e+02, 3.95721612e+02, 4.17418136e+02, 4.39695085e+02,\n",
       "       4.62552603e+02, 4.85990841e+02, 5.10009952e+02, 5.34610093e+02,\n",
       "       5.59791427e+02, 5.85554119e+02, 6.11898337e+02, 6.38824254e+02,\n",
       "       6.66332046e+02, 6.94421895e+02, 0.00000000e+00, 0.00000000e+00,\n",
       "       0.00000000e+00, 0.00000000e+00, 0.00000000e+00, 0.00000000e+00,\n",
       "       0.00000000e+00, 0.00000000e+00, 0.00000000e+00, 0.00000000e+00,\n",
       "       0.00000000e+00, 0.00000000e+00, 0.00000000e+00, 0.00000000e+00,\n",
       "       0.00000000e+00, 0.00000000e+00, 0.00000000e+00, 0.00000000e+00,\n",
       "       0.00000000e+00, 0.00000000e+00, 0.00000000e+00, 0.00000000e+00,\n",
       "       0.00000000e+00, 0.00000000e+00, 0.00000000e+00, 0.00000000e+00,\n",
       "       0.00000000e+00, 0.00000000e+00, 0.00000000e+00, 0.00000000e+00,\n",
       "       0.00000000e+00, 0.00000000e+00, 0.00000000e+00, 0.00000000e+00,\n",
       "       0.00000000e+00, 0.00000000e+00, 0.00000000e+00, 0.00000000e+00,\n",
       "       0.00000000e+00, 0.00000000e+00, 0.00000000e+00, 0.00000000e+00,\n",
       "       0.00000000e+00, 0.00000000e+00, 0.00000000e+00, 0.00000000e+00,\n",
       "       0.00000000e+00, 0.00000000e+00, 0.00000000e+00, 0.00000000e+00,\n",
       "       0.00000000e+00, 0.00000000e+00, 0.00000000e+00, 0.00000000e+00,\n",
       "       0.00000000e+00, 0.00000000e+00, 0.00000000e+00, 0.00000000e+00,\n",
       "       0.00000000e+00, 0.00000000e+00, 0.00000000e+00, 0.00000000e+00,\n",
       "       0.00000000e+00, 0.00000000e+00, 0.00000000e+00, 0.00000000e+00,\n",
       "       0.00000000e+00, 0.00000000e+00, 0.00000000e+00, 0.00000000e+00,\n",
       "       0.00000000e+00, 0.00000000e+00, 0.00000000e+00, 0.00000000e+00,\n",
       "       0.00000000e+00, 0.00000000e+00, 0.00000000e+00, 0.00000000e+00,\n",
       "       0.00000000e+00, 0.00000000e+00, 0.00000000e+00, 0.00000000e+00,\n",
       "       0.00000000e+00, 0.00000000e+00, 0.00000000e+00, 0.00000000e+00,\n",
       "       0.00000000e+00, 0.00000000e+00, 0.00000000e+00, 0.00000000e+00,\n",
       "       0.00000000e+00, 0.00000000e+00, 0.00000000e+00, 0.00000000e+00,\n",
       "       0.00000000e+00, 0.00000000e+00, 0.00000000e+00, 0.00000000e+00,\n",
       "       0.00000000e+00, 0.00000000e+00, 0.00000000e+00, 0.00000000e+00,\n",
       "       0.00000000e+00, 0.00000000e+00, 0.00000000e+00, 0.00000000e+00,\n",
       "       0.00000000e+00, 0.00000000e+00, 0.00000000e+00, 0.00000000e+00,\n",
       "       0.00000000e+00, 0.00000000e+00, 0.00000000e+00, 0.00000000e+00,\n",
       "       0.00000000e+00, 0.00000000e+00, 0.00000000e+00, 0.00000000e+00,\n",
       "       0.00000000e+00, 0.00000000e+00, 0.00000000e+00, 0.00000000e+00,\n",
       "       0.00000000e+00, 0.00000000e+00, 0.00000000e+00, 0.00000000e+00,\n",
       "       0.00000000e+00, 0.00000000e+00, 0.00000000e+00, 0.00000000e+00,\n",
       "       0.00000000e+00, 0.00000000e+00, 0.00000000e+00, 0.00000000e+00,\n",
       "       0.00000000e+00, 0.00000000e+00, 0.00000000e+00, 0.00000000e+00,\n",
       "       0.00000000e+00, 0.00000000e+00, 0.00000000e+00, 0.00000000e+00,\n",
       "       0.00000000e+00, 0.00000000e+00, 0.00000000e+00, 0.00000000e+00,\n",
       "       0.00000000e+00, 0.00000000e+00, 0.00000000e+00, 0.00000000e+00,\n",
       "       0.00000000e+00, 0.00000000e+00, 0.00000000e+00, 0.00000000e+00,\n",
       "       0.00000000e+00, 0.00000000e+00, 0.00000000e+00, 0.00000000e+00,\n",
       "       0.00000000e+00, 0.00000000e+00, 0.00000000e+00, 0.00000000e+00,\n",
       "       0.00000000e+00, 0.00000000e+00, 0.00000000e+00, 0.00000000e+00,\n",
       "       0.00000000e+00, 0.00000000e+00, 0.00000000e+00, 0.00000000e+00,\n",
       "       0.00000000e+00, 0.00000000e+00, 0.00000000e+00, 0.00000000e+00,\n",
       "       0.00000000e+00, 0.00000000e+00, 0.00000000e+00, 0.00000000e+00,\n",
       "       0.00000000e+00, 0.00000000e+00, 0.00000000e+00, 0.00000000e+00,\n",
       "       0.00000000e+00, 0.00000000e+00, 0.00000000e+00, 0.00000000e+00,\n",
       "       0.00000000e+00, 0.00000000e+00, 0.00000000e+00, 0.00000000e+00,\n",
       "       0.00000000e+00, 0.00000000e+00, 0.00000000e+00, 0.00000000e+00,\n",
       "       0.00000000e+00, 0.00000000e+00, 0.00000000e+00, 0.00000000e+00,\n",
       "       0.00000000e+00, 0.00000000e+00, 0.00000000e+00, 0.00000000e+00,\n",
       "       0.00000000e+00, 0.00000000e+00, 0.00000000e+00, 0.00000000e+00,\n",
       "       0.00000000e+00, 0.00000000e+00, 0.00000000e+00, 0.00000000e+00,\n",
       "       0.00000000e+00, 0.00000000e+00, 0.00000000e+00, 0.00000000e+00,\n",
       "       0.00000000e+00, 0.00000000e+00, 0.00000000e+00, 0.00000000e+00,\n",
       "       0.00000000e+00, 0.00000000e+00, 0.00000000e+00, 0.00000000e+00,\n",
       "       0.00000000e+00, 0.00000000e+00, 0.00000000e+00, 0.00000000e+00,\n",
       "       0.00000000e+00, 0.00000000e+00, 0.00000000e+00, 0.00000000e+00,\n",
       "       0.00000000e+00, 0.00000000e+00, 0.00000000e+00, 0.00000000e+00,\n",
       "       0.00000000e+00, 0.00000000e+00, 0.00000000e+00, 0.00000000e+00,\n",
       "       0.00000000e+00, 0.00000000e+00, 0.00000000e+00, 0.00000000e+00,\n",
       "       0.00000000e+00, 0.00000000e+00, 0.00000000e+00, 0.00000000e+00,\n",
       "       0.00000000e+00, 0.00000000e+00, 0.00000000e+00, 0.00000000e+00,\n",
       "       0.00000000e+00, 0.00000000e+00, 0.00000000e+00, 0.00000000e+00,\n",
       "       0.00000000e+00, 0.00000000e+00, 0.00000000e+00, 0.00000000e+00,\n",
       "       0.00000000e+00, 0.00000000e+00, 0.00000000e+00, 0.00000000e+00,\n",
       "       0.00000000e+00, 0.00000000e+00, 0.00000000e+00, 0.00000000e+00,\n",
       "       0.00000000e+00, 0.00000000e+00, 0.00000000e+00, 0.00000000e+00,\n",
       "       0.00000000e+00, 0.00000000e+00, 0.00000000e+00, 0.00000000e+00,\n",
       "       0.00000000e+00, 0.00000000e+00, 0.00000000e+00, 0.00000000e+00,\n",
       "       0.00000000e+00, 0.00000000e+00, 0.00000000e+00, 0.00000000e+00,\n",
       "       0.00000000e+00, 0.00000000e+00, 0.00000000e+00, 0.00000000e+00,\n",
       "       0.00000000e+00, 0.00000000e+00, 0.00000000e+00, 0.00000000e+00,\n",
       "       0.00000000e+00, 0.00000000e+00, 0.00000000e+00, 0.00000000e+00,\n",
       "       0.00000000e+00, 0.00000000e+00, 0.00000000e+00, 0.00000000e+00,\n",
       "       0.00000000e+00, 0.00000000e+00, 0.00000000e+00, 0.00000000e+00,\n",
       "       0.00000000e+00, 0.00000000e+00, 0.00000000e+00, 0.00000000e+00,\n",
       "       0.00000000e+00, 0.00000000e+00, 0.00000000e+00, 0.00000000e+00,\n",
       "       0.00000000e+00, 0.00000000e+00, 0.00000000e+00, 0.00000000e+00,\n",
       "       0.00000000e+00, 0.00000000e+00, 0.00000000e+00, 0.00000000e+00,\n",
       "       0.00000000e+00, 0.00000000e+00, 0.00000000e+00, 0.00000000e+00,\n",
       "       0.00000000e+00, 0.00000000e+00, 0.00000000e+00, 0.00000000e+00,\n",
       "       0.00000000e+00, 0.00000000e+00, 0.00000000e+00, 0.00000000e+00,\n",
       "       0.00000000e+00, 0.00000000e+00, 0.00000000e+00, 0.00000000e+00,\n",
       "       0.00000000e+00, 0.00000000e+00, 0.00000000e+00, 0.00000000e+00,\n",
       "       0.00000000e+00, 0.00000000e+00, 0.00000000e+00, 0.00000000e+00,\n",
       "       0.00000000e+00, 0.00000000e+00, 0.00000000e+00, 0.00000000e+00,\n",
       "       0.00000000e+00, 0.00000000e+00, 0.00000000e+00, 0.00000000e+00])"
      ]
     },
     "execution_count": 106,
     "metadata": {},
     "output_type": "execute_result"
    }
   ],
   "source": [
    "root"
   ]
  },
  {
   "cell_type": "code",
   "execution_count": 107,
   "metadata": {},
   "outputs": [],
   "source": [
    "x0_,z0_=root[:node_N],root[4*node_N:5*node_N]"
   ]
  },
  {
   "cell_type": "code",
   "execution_count": 108,
   "metadata": {},
   "outputs": [
    {
     "data": {
      "text/plain": [
       "[0.0,\n",
       " 225.56499682574736,\n",
       " 451.1299936514947,\n",
       " 676.6949904772421,\n",
       " 902.2599873029894,\n",
       " 1127.8249841287368,\n",
       " 1353.3899809544841,\n",
       " 1578.9549777802315,\n",
       " 1804.5199746059789,\n",
       " 2030.0849714317262,\n",
       " 2255.6499682574736,\n",
       " 2481.2149650832207,\n",
       " 2706.7799619089683,\n",
       " 2932.344958734716,\n",
       " 3157.909955560463,\n",
       " 3383.47495238621,\n",
       " 3609.0399492119577,\n",
       " 3834.6049460377053,\n",
       " 4060.1699428634524,\n",
       " 4285.7349396892,\n",
       " 4511.299936514947,\n",
       " 4736.864933340695,\n",
       " 4962.429930166441,\n",
       " 5187.994926992189,\n",
       " 5413.559923817937,\n",
       " 5639.124920643684,\n",
       " 5864.689917469432,\n",
       " 6090.254914295178,\n",
       " 6315.819911120926,\n",
       " 6541.384907946674,\n",
       " 6766.94990477242,\n",
       " 6992.514901598168,\n",
       " 7218.079898423915,\n",
       " 7443.644895249663,\n",
       " 7669.209892075411,\n",
       " 7894.774888901157,\n",
       " 8120.339885726905,\n",
       " 8345.904882552652,\n",
       " 8571.4698793784,\n",
       " 8797.034876204147,\n",
       " 9022.599873029894,\n",
       " 9248.164869855642,\n",
       " 9473.72986668139,\n",
       " 9699.294863507137,\n",
       " 9924.859860332883,\n",
       " 10150.42485715863,\n",
       " 10375.989853984378,\n",
       " 10601.554850810126,\n",
       " 10827.119847635873,\n",
       " 11052.68484446162]"
      ]
     },
     "execution_count": 108,
     "metadata": {},
     "output_type": "execute_result"
    }
   ],
   "source": [
    "x0"
   ]
  },
  {
   "cell_type": "code",
   "execution_count": 109,
   "metadata": {},
   "outputs": [
    {
     "data": {
      "text/plain": [
       "array([    0.        ,   225.56499683,   451.12999365,   676.69499048,\n",
       "         902.2599873 ,  1127.82498413,  1353.38998095,  1578.95497778,\n",
       "        1804.51997461,  2030.08497143,  2255.64996826,  2481.21496508,\n",
       "        2706.77996191,  2932.34495873,  3157.90995556,  3383.47495239,\n",
       "        3609.03994921,  3834.60494604,  4060.16994286,  4285.73493969,\n",
       "        4511.29993651,  4736.86493334,  4962.42993017,  5187.99492699,\n",
       "        5413.55992382,  5639.12492064,  5864.68991747,  6090.2549143 ,\n",
       "        6315.81991112,  6541.38490795,  6766.94990477,  6992.5149016 ,\n",
       "        7218.07989842,  7443.64489525,  7669.20989208,  7894.7748889 ,\n",
       "        8120.33988573,  8345.90488255,  8571.46987938,  8797.0348762 ,\n",
       "        9022.59987303,  9248.16486986,  9473.72986668,  9699.29486351,\n",
       "        9924.85986033, 10150.42485716, 10375.98985398, 10601.55485081,\n",
       "       10827.11984764, 11052.68484446])"
      ]
     },
     "execution_count": 109,
     "metadata": {},
     "output_type": "execute_result"
    }
   ],
   "source": [
    "x0_"
   ]
  },
  {
   "cell_type": "code",
   "execution_count": 110,
   "metadata": {},
   "outputs": [
    {
     "data": {
      "text/plain": [
       "[0.0,\n",
       " 0.2888428427924309,\n",
       " 1.155373265710624,\n",
       " 2.5995969523577234,\n",
       " 4.621523375418674,\n",
       " 7.221165796797117,\n",
       " 10.398541267595833,\n",
       " 14.15367062831231,\n",
       " 18.486578508975636,\n",
       " 23.39729332924428,\n",
       " 28.885847298621222,\n",
       " 34.95227641670818,\n",
       " 41.59662047340119,\n",
       " 48.81892304912524,\n",
       " 56.619231515186364,\n",
       " 64.99759703402582,\n",
       " 73.9540745596112,\n",
       " 83.48872283771031,\n",
       " 93.60160440638002,\n",
       " 104.29278559627915,\n",
       " 115.56233653119654,\n",
       " 127.41033112846175,\n",
       " 139.83684709937523,\n",
       " 152.8419659498538,\n",
       " 166.4257729808412,\n",
       " 180.58835728891447,\n",
       " 195.3298117668901,\n",
       " 210.65023310439128,\n",
       " 226.54972178849314,\n",
       " 243.02838210444648,\n",
       " 260.0863221362252,\n",
       " 277.72365376736735,\n",
       " 295.94049268164,\n",
       " 314.7369583638412,\n",
       " 334.1131741005232,\n",
       " 354.0692669808534,\n",
       " 374.60536789741576,\n",
       " 395.72161154711085,\n",
       " 417.41813643197673,\n",
       " 439.6950848601867,\n",
       " 462.5526029468705,\n",
       " 485.9908406151509,\n",
       " 510.0099515971214,\n",
       " 534.6100934348437,\n",
       " 559.7914274813454,\n",
       " 585.5541189017534,\n",
       " 611.8983366742727,\n",
       " 638.8242535914375,\n",
       " 666.3320462610891,\n",
       " 694.4218951076863]"
      ]
     },
     "execution_count": 110,
     "metadata": {},
     "output_type": "execute_result"
    }
   ],
   "source": [
    "z0"
   ]
  },
  {
   "cell_type": "code",
   "execution_count": 111,
   "metadata": {},
   "outputs": [
    {
     "data": {
      "text/plain": [
       "array([0.00000000e+00, 2.88842843e-01, 1.15537327e+00, 2.59959695e+00,\n",
       "       4.62152338e+00, 7.22116580e+00, 1.03985413e+01, 1.41536706e+01,\n",
       "       1.84865785e+01, 2.33972933e+01, 2.88858473e+01, 3.49522764e+01,\n",
       "       4.15966205e+01, 4.88189230e+01, 5.66192315e+01, 6.49975970e+01,\n",
       "       7.39540746e+01, 8.34887228e+01, 9.36016044e+01, 1.04292786e+02,\n",
       "       1.15562337e+02, 1.27410331e+02, 1.39836847e+02, 1.52841966e+02,\n",
       "       1.66425773e+02, 1.80588357e+02, 1.95329812e+02, 2.10650233e+02,\n",
       "       2.26549722e+02, 2.43028382e+02, 2.60086322e+02, 2.77723654e+02,\n",
       "       2.95940493e+02, 3.14736958e+02, 3.34113174e+02, 3.54069267e+02,\n",
       "       3.74605368e+02, 3.95721612e+02, 4.17418136e+02, 4.39695085e+02,\n",
       "       4.62552603e+02, 4.85990841e+02, 5.10009952e+02, 5.34610093e+02,\n",
       "       5.59791427e+02, 5.85554119e+02, 6.11898337e+02, 6.38824254e+02,\n",
       "       6.66332046e+02, 6.94421895e+02])"
      ]
     },
     "execution_count": 111,
     "metadata": {},
     "output_type": "execute_result"
    }
   ],
   "source": [
    "z0_"
   ]
  },
  {
   "cell_type": "code",
   "execution_count": 112,
   "metadata": {},
   "outputs": [
    {
     "data": {
      "image/png": "[encoded data removed]",
      "text/plain": [
       "<Figure size 432x288 with 1 Axes>"
      ]
     },
     "metadata": {
      "needs_background": "light"
     },
     "output_type": "display_data"
    }
   ],
   "source": [
    "plt.plot(x0_, z0_)\n",
    "plt.show()"
   ]
  },
  {
   "cell_type": "code",
   "execution_count": 113,
   "metadata": {},
   "outputs": [],
   "source": [
    "for j in range(1,12):\n",
    "    if j==1:  \n",
    "        q0[(j-1)*node_N:j*node_N]=x0_\n",
    "    elif j==5:    \n",
    "        q0[(j-1)*node_N:j*node_N]=z0_\n",
    "#     elif j==9:    \n",
    "#         q0[j*node_N-1]=0.13  "
   ]
  },
  {
   "cell_type": "code",
   "execution_count": 114,
   "metadata": {},
   "outputs": [
    {
     "data": {
      "text/plain": [
       "array([0.00000000e+00, 2.25564997e+02, 4.51129994e+02, 6.76694990e+02,\n",
       "       9.02259987e+02, 1.12782498e+03, 1.35338998e+03, 1.57895498e+03,\n",
       "       1.80451997e+03, 2.03008497e+03, 2.25564997e+03, 2.48121497e+03,\n",
       "       2.70677996e+03, 2.93234496e+03, 3.15790996e+03, 3.38347495e+03,\n",
       "       3.60903995e+03, 3.83460495e+03, 4.06016994e+03, 4.28573494e+03,\n",
       "       4.51129994e+03, 4.73686493e+03, 4.96242993e+03, 5.18799493e+03,\n",
       "       5.41355992e+03, 5.63912492e+03, 5.86468992e+03, 6.09025491e+03,\n",
       "       6.31581991e+03, 6.54138491e+03, 6.76694990e+03, 6.99251490e+03,\n",
       "       7.21807990e+03, 7.44364490e+03, 7.66920989e+03, 7.89477489e+03,\n",
       "       8.12033989e+03, 8.34590488e+03, 8.57146988e+03, 8.79703488e+03,\n",
       "       9.02259987e+03, 9.24816487e+03, 9.47372987e+03, 9.69929486e+03,\n",
       "       9.92485986e+03, 1.01504249e+04, 1.03759899e+04, 1.06015549e+04,\n",
       "       1.08271198e+04, 1.10526848e+04, 0.00000000e+00, 0.00000000e+00,\n",
       "       0.00000000e+00, 0.00000000e+00, 0.00000000e+00, 0.00000000e+00,\n",
       "       0.00000000e+00, 0.00000000e+00, 0.00000000e+00, 0.00000000e+00,\n",
       "       0.00000000e+00, 0.00000000e+00, 0.00000000e+00, 0.00000000e+00,\n",
       "       0.00000000e+00, 0.00000000e+00, 0.00000000e+00, 0.00000000e+00,\n",
       "       0.00000000e+00, 0.00000000e+00, 0.00000000e+00, 0.00000000e+00,\n",
       "       0.00000000e+00, 0.00000000e+00, 0.00000000e+00, 0.00000000e+00,\n",
       "       0.00000000e+00, 0.00000000e+00, 0.00000000e+00, 0.00000000e+00,\n",
       "       0.00000000e+00, 0.00000000e+00, 0.00000000e+00, 0.00000000e+00,\n",
       "       0.00000000e+00, 0.00000000e+00, 0.00000000e+00, 0.00000000e+00,\n",
       "       0.00000000e+00, 0.00000000e+00, 0.00000000e+00, 0.00000000e+00,\n",
       "       0.00000000e+00, 0.00000000e+00, 0.00000000e+00, 0.00000000e+00,\n",
       "       0.00000000e+00, 0.00000000e+00, 0.00000000e+00, 0.00000000e+00,\n",
       "       0.00000000e+00, 0.00000000e+00, 0.00000000e+00, 0.00000000e+00,\n",
       "       0.00000000e+00, 0.00000000e+00, 0.00000000e+00, 0.00000000e+00,\n",
       "       0.00000000e+00, 0.00000000e+00, 0.00000000e+00, 0.00000000e+00,\n",
       "       0.00000000e+00, 0.00000000e+00, 0.00000000e+00, 0.00000000e+00,\n",
       "       0.00000000e+00, 0.00000000e+00, 0.00000000e+00, 0.00000000e+00,\n",
       "       0.00000000e+00, 0.00000000e+00, 0.00000000e+00, 0.00000000e+00,\n",
       "       0.00000000e+00, 0.00000000e+00, 0.00000000e+00, 0.00000000e+00,\n",
       "       0.00000000e+00, 0.00000000e+00, 0.00000000e+00, 0.00000000e+00,\n",
       "       0.00000000e+00, 0.00000000e+00, 0.00000000e+00, 0.00000000e+00,\n",
       "       0.00000000e+00, 0.00000000e+00, 0.00000000e+00, 0.00000000e+00,\n",
       "       0.00000000e+00, 0.00000000e+00, 0.00000000e+00, 0.00000000e+00,\n",
       "       0.00000000e+00, 0.00000000e+00, 0.00000000e+00, 0.00000000e+00,\n",
       "       0.00000000e+00, 0.00000000e+00, 0.00000000e+00, 0.00000000e+00,\n",
       "       0.00000000e+00, 0.00000000e+00, 0.00000000e+00, 0.00000000e+00,\n",
       "       0.00000000e+00, 0.00000000e+00, 0.00000000e+00, 0.00000000e+00,\n",
       "       0.00000000e+00, 0.00000000e+00, 0.00000000e+00, 0.00000000e+00,\n",
       "       0.00000000e+00, 0.00000000e+00, 0.00000000e+00, 0.00000000e+00,\n",
       "       0.00000000e+00, 0.00000000e+00, 0.00000000e+00, 0.00000000e+00,\n",
       "       0.00000000e+00, 0.00000000e+00, 0.00000000e+00, 0.00000000e+00,\n",
       "       0.00000000e+00, 0.00000000e+00, 0.00000000e+00, 0.00000000e+00,\n",
       "       0.00000000e+00, 0.00000000e+00, 0.00000000e+00, 0.00000000e+00,\n",
       "       0.00000000e+00, 0.00000000e+00, 0.00000000e+00, 0.00000000e+00,\n",
       "       0.00000000e+00, 0.00000000e+00, 0.00000000e+00, 0.00000000e+00,\n",
       "       0.00000000e+00, 0.00000000e+00, 0.00000000e+00, 0.00000000e+00,\n",
       "       0.00000000e+00, 0.00000000e+00, 0.00000000e+00, 0.00000000e+00,\n",
       "       0.00000000e+00, 2.88842843e-01, 1.15537327e+00, 2.59959695e+00,\n",
       "       4.62152338e+00, 7.22116580e+00, 1.03985413e+01, 1.41536706e+01,\n",
       "       1.84865785e+01, 2.33972933e+01, 2.88858473e+01, 3.49522764e+01,\n",
       "       4.15966205e+01, 4.88189230e+01, 5.66192315e+01, 6.49975970e+01,\n",
       "       7.39540746e+01, 8.34887228e+01, 9.36016044e+01, 1.04292786e+02,\n",
       "       1.15562337e+02, 1.27410331e+02, 1.39836847e+02, 1.52841966e+02,\n",
       "       1.66425773e+02, 1.80588357e+02, 1.95329812e+02, 2.10650233e+02,\n",
       "       2.26549722e+02, 2.43028382e+02, 2.60086322e+02, 2.77723654e+02,\n",
       "       2.95940493e+02, 3.14736958e+02, 3.34113174e+02, 3.54069267e+02,\n",
       "       3.74605368e+02, 3.95721612e+02, 4.17418136e+02, 4.39695085e+02,\n",
       "       4.62552603e+02, 4.85990841e+02, 5.10009952e+02, 5.34610093e+02,\n",
       "       5.59791427e+02, 5.85554119e+02, 6.11898337e+02, 6.38824254e+02,\n",
       "       6.66332046e+02, 6.94421895e+02, 0.00000000e+00, 0.00000000e+00,\n",
       "       0.00000000e+00, 0.00000000e+00, 0.00000000e+00, 0.00000000e+00,\n",
       "       0.00000000e+00, 0.00000000e+00, 0.00000000e+00, 0.00000000e+00,\n",
       "       0.00000000e+00, 0.00000000e+00, 0.00000000e+00, 0.00000000e+00,\n",
       "       0.00000000e+00, 0.00000000e+00, 0.00000000e+00, 0.00000000e+00,\n",
       "       0.00000000e+00, 0.00000000e+00, 0.00000000e+00, 0.00000000e+00,\n",
       "       0.00000000e+00, 0.00000000e+00, 0.00000000e+00, 0.00000000e+00,\n",
       "       0.00000000e+00, 0.00000000e+00, 0.00000000e+00, 0.00000000e+00,\n",
       "       0.00000000e+00, 0.00000000e+00, 0.00000000e+00, 0.00000000e+00,\n",
       "       0.00000000e+00, 0.00000000e+00, 0.00000000e+00, 0.00000000e+00,\n",
       "       0.00000000e+00, 0.00000000e+00, 0.00000000e+00, 0.00000000e+00,\n",
       "       0.00000000e+00, 0.00000000e+00, 0.00000000e+00, 0.00000000e+00,\n",
       "       0.00000000e+00, 0.00000000e+00, 0.00000000e+00, 0.00000000e+00,\n",
       "       0.00000000e+00, 0.00000000e+00, 0.00000000e+00, 0.00000000e+00,\n",
       "       0.00000000e+00, 0.00000000e+00, 0.00000000e+00, 0.00000000e+00,\n",
       "       0.00000000e+00, 0.00000000e+00, 0.00000000e+00, 0.00000000e+00,\n",
       "       0.00000000e+00, 0.00000000e+00, 0.00000000e+00, 0.00000000e+00,\n",
       "       0.00000000e+00, 0.00000000e+00, 0.00000000e+00, 0.00000000e+00,\n",
       "       0.00000000e+00, 0.00000000e+00, 0.00000000e+00, 0.00000000e+00,\n",
       "       0.00000000e+00, 0.00000000e+00, 0.00000000e+00, 0.00000000e+00,\n",
       "       0.00000000e+00, 0.00000000e+00, 0.00000000e+00, 0.00000000e+00,\n",
       "       0.00000000e+00, 0.00000000e+00, 0.00000000e+00, 0.00000000e+00,\n",
       "       0.00000000e+00, 0.00000000e+00, 0.00000000e+00, 0.00000000e+00,\n",
       "       0.00000000e+00, 0.00000000e+00, 0.00000000e+00, 0.00000000e+00,\n",
       "       0.00000000e+00, 0.00000000e+00, 0.00000000e+00, 0.00000000e+00,\n",
       "       0.00000000e+00, 0.00000000e+00, 0.00000000e+00, 0.00000000e+00,\n",
       "       0.00000000e+00, 0.00000000e+00, 0.00000000e+00, 0.00000000e+00,\n",
       "       0.00000000e+00, 0.00000000e+00, 0.00000000e+00, 0.00000000e+00,\n",
       "       0.00000000e+00, 0.00000000e+00, 0.00000000e+00, 0.00000000e+00,\n",
       "       0.00000000e+00, 0.00000000e+00, 0.00000000e+00, 0.00000000e+00,\n",
       "       0.00000000e+00, 0.00000000e+00, 0.00000000e+00, 0.00000000e+00,\n",
       "       0.00000000e+00, 0.00000000e+00, 0.00000000e+00, 0.00000000e+00,\n",
       "       0.00000000e+00, 0.00000000e+00, 0.00000000e+00, 0.00000000e+00,\n",
       "       0.00000000e+00, 0.00000000e+00, 0.00000000e+00, 0.00000000e+00,\n",
       "       0.00000000e+00, 0.00000000e+00, 0.00000000e+00, 0.00000000e+00,\n",
       "       0.00000000e+00, 0.00000000e+00, 0.00000000e+00, 0.00000000e+00,\n",
       "       0.00000000e+00, 0.00000000e+00, 0.00000000e+00, 0.00000000e+00,\n",
       "       0.00000000e+00, 0.00000000e+00, 0.00000000e+00, 0.00000000e+00,\n",
       "       0.00000000e+00, 0.00000000e+00, 0.00000000e+00, 0.00000000e+00,\n",
       "       0.00000000e+00, 0.00000000e+00, 0.00000000e+00, 0.00000000e+00,\n",
       "       0.00000000e+00, 0.00000000e+00, 0.00000000e+00, 0.00000000e+00,\n",
       "       0.00000000e+00, 0.00000000e+00, 0.00000000e+00, 0.00000000e+00,\n",
       "       0.00000000e+00, 0.00000000e+00, 0.00000000e+00, 0.00000000e+00,\n",
       "       0.00000000e+00, 0.00000000e+00, 0.00000000e+00, 0.00000000e+00,\n",
       "       0.00000000e+00, 0.00000000e+00, 0.00000000e+00, 0.00000000e+00,\n",
       "       0.00000000e+00, 0.00000000e+00, 0.00000000e+00, 0.00000000e+00,\n",
       "       0.00000000e+00, 0.00000000e+00, 0.00000000e+00, 0.00000000e+00,\n",
       "       0.00000000e+00, 0.00000000e+00, 0.00000000e+00, 0.00000000e+00,\n",
       "       0.00000000e+00, 0.00000000e+00, 0.00000000e+00, 0.00000000e+00,\n",
       "       0.00000000e+00, 0.00000000e+00, 0.00000000e+00, 0.00000000e+00,\n",
       "       0.00000000e+00, 0.00000000e+00, 0.00000000e+00, 0.00000000e+00,\n",
       "       0.00000000e+00, 0.00000000e+00, 0.00000000e+00, 0.00000000e+00,\n",
       "       0.00000000e+00, 0.00000000e+00, 0.00000000e+00, 0.00000000e+00,\n",
       "       0.00000000e+00, 0.00000000e+00, 0.00000000e+00, 0.00000000e+00,\n",
       "       0.00000000e+00, 0.00000000e+00, 0.00000000e+00, 0.00000000e+00,\n",
       "       0.00000000e+00, 0.00000000e+00, 0.00000000e+00, 0.00000000e+00,\n",
       "       0.00000000e+00, 0.00000000e+00, 0.00000000e+00, 0.00000000e+00,\n",
       "       0.00000000e+00, 0.00000000e+00, 0.00000000e+00, 0.00000000e+00,\n",
       "       0.00000000e+00, 0.00000000e+00, 0.00000000e+00, 0.00000000e+00,\n",
       "       0.00000000e+00, 0.00000000e+00, 0.00000000e+00, 0.00000000e+00,\n",
       "       0.00000000e+00, 0.00000000e+00, 0.00000000e+00, 0.00000000e+00,\n",
       "       0.00000000e+00, 0.00000000e+00, 0.00000000e+00, 0.00000000e+00,\n",
       "       0.00000000e+00, 0.00000000e+00, 0.00000000e+00, 0.00000000e+00,\n",
       "       0.00000000e+00, 0.00000000e+00, 0.00000000e+00, 0.00000000e+00,\n",
       "       0.00000000e+00, 0.00000000e+00, 0.00000000e+00, 0.00000000e+00,\n",
       "       0.00000000e+00, 0.00000000e+00, 0.00000000e+00, 0.00000000e+00,\n",
       "       0.00000000e+00, 0.00000000e+00, 0.00000000e+00, 0.00000000e+00,\n",
       "       0.00000000e+00, 0.00000000e+00, 0.00000000e+00, 0.00000000e+00,\n",
       "       0.00000000e+00, 0.00000000e+00, 0.00000000e+00, 0.00000000e+00,\n",
       "       0.00000000e+00, 0.00000000e+00, 0.00000000e+00, 0.00000000e+00,\n",
       "       0.00000000e+00, 0.00000000e+00, 0.00000000e+00, 0.00000000e+00,\n",
       "       0.00000000e+00, 0.00000000e+00, 0.00000000e+00, 0.00000000e+00,\n",
       "       0.00000000e+00, 0.00000000e+00, 0.00000000e+00, 0.00000000e+00,\n",
       "       0.00000000e+00, 0.00000000e+00, 0.00000000e+00, 0.00000000e+00,\n",
       "       0.00000000e+00, 0.00000000e+00, 0.00000000e+00, 0.00000000e+00,\n",
       "       0.00000000e+00, 0.00000000e+00, 0.00000000e+00, 0.00000000e+00,\n",
       "       0.00000000e+00, 0.00000000e+00, 0.00000000e+00, 0.00000000e+00,\n",
       "       0.00000000e+00, 0.00000000e+00, 0.00000000e+00, 0.00000000e+00,\n",
       "       0.00000000e+00, 0.00000000e+00, 0.00000000e+00, 0.00000000e+00,\n",
       "       0.00000000e+00, 0.00000000e+00, 0.00000000e+00, 0.00000000e+00,\n",
       "       0.00000000e+00, 0.00000000e+00, 0.00000000e+00, 0.00000000e+00,\n",
       "       0.00000000e+00, 0.00000000e+00, 0.00000000e+00, 0.00000000e+00,\n",
       "       0.00000000e+00, 0.00000000e+00, 0.00000000e+00, 0.00000000e+00,\n",
       "       0.00000000e+00, 0.00000000e+00, 0.00000000e+00, 0.00000000e+00,\n",
       "       0.00000000e+00, 0.00000000e+00, 0.00000000e+00, 0.00000000e+00,\n",
       "       0.00000000e+00, 0.00000000e+00, 0.00000000e+00, 0.00000000e+00,\n",
       "       0.00000000e+00, 0.00000000e+00, 0.00000000e+00, 0.00000000e+00,\n",
       "       0.00000000e+00, 0.00000000e+00, 0.00000000e+00, 0.00000000e+00])"
      ]
     },
     "execution_count": 114,
     "metadata": {},
     "output_type": "execute_result"
    }
   ],
   "source": [
    "q0"
   ]
  },
  {
   "cell_type": "markdown",
   "metadata": {},
   "source": [
    "### Dynamics"
   ]
  },
  {
   "cell_type": "code",
   "execution_count": 115,
   "metadata": {},
   "outputs": [],
   "source": [
    "def grayscott1d(t, Q):\n",
    "#     print(t)\n",
    "    x,y,z=Q[0:node_N],Q[2*node_N:3*node_N],Q[4*node_N:5*node_N]\n",
    "    dx,dy,dz=Q[1*node_N:2*node_N],Q[3*node_N:4*node_N],Q[5*node_N:6*node_N]\n",
    "    φ,θ,ψ=Q[6*node_N:7*node_N],Q[8*node_N:9*node_N],Q[10*node_N:11*node_N]\n",
    "    \n",
    "    Ret = Re_t(φ,θ,ψ)\n",
    "\n",
    "    dφ,dθ,dψ=Q[7*node_N:8*node_N],Q[9*node_N:10*node_N],Q[11*node_N:12*node_N]\n",
    "    \n",
    "    η=[(x0_[-1]-x[-1]),y[-1],(z0[-1]-z[-1]),φ[-1],θ[-1],ψ[-1]]\n",
    "    dη=[dx[-1],dy[-1],dz[-1],dφ[-1],dθ[-1],dψ[-1]]\n",
    "    \n",
    "    left=V.eq_left(η,dη)\n",
    " \n",
    " \n",
    "    \n",
    "    # PD controller after 5 sec\n",
    "    if t<5:\n",
    "        ddη=np.linalg.lstsq(V.M.astype(np.float32), -left \n",
    "                            + tau(η, dη, wave_coef, 0, 0, t).astype(np.float32)\n",
    "                            , rcond=None)[0]\n",
    "    else:\n",
    "        ddη=np.linalg.lstsq(V.M.astype(np.float32), -left.astype(np.float32) \n",
    "                            + tau(η,dη, wave_coef, kp, kd, t).astype(np.float32)\n",
    "                            , rcond=None)[0]\n",
    "#     force_schedule = t/15 if t<15 else 1\n",
    "    force_schedule =1\n",
    "    tau_force = force_schedule*V.tau(η,dη,ddη).astype(np.float32) # /1e3\n",
    "    \n",
    "\n",
    "\n",
    "    Z0=np.dot(Re_b(Ret),tau_force[:3].reshape(3,1))\n",
    "\n",
    "    Z1 =d_s(ne, x, y, z, Ret, ωe(φ,θ,ψ,None,None)).T\n",
    "#     Z1 =d_s(ne, x, y, z, Ret, test).T\n",
    "\n",
    "    Z2=ne_(dx,dy,dz,DT,Ret).T\n",
    "    \n",
    "    Z= (Z1 + Z2 + Z0.squeeze())\n",
    "\n",
    "############################################################    \n",
    "    RRRR=Re_b(Ret)\n",
    "    ddx,ddy, ddz = np.linalg.solve(np.einsum('i,ijk->ijk',[Ws[i] for i in range(node_N-1)]\n",
    "                                             +[vessel_mass]\n",
    "                                             ,RRRR),Z).T\n",
    "############################################################    \n",
    "\n",
    "    C1=np.einsum('ijk,ik->ij', Irho_e(Ret).astype(np.float32),\n",
    "                                                        np.einsum('ijk,ik->ij', Π(dφ,dθ,dψ).astype(np.float32), \n",
    "                                                                  np.array([dφ,dθ,dψ]).astype(np.float32).T))\n",
    "\n",
    "    test=np.einsum('ijk,ik->ij',Π(φ,θ,ψ).astype(np.float32),np.array([dφ,dθ,dψ]).astype(np.float32).T)\n",
    "\n",
    "    C2= np.cross(test,\n",
    "                 np.einsum('ijk,ik->ij',Irho_e(Ret).astype(np.float32),\n",
    "                           test))\n",
    "\n",
    "    C3=d_me(φ,θ,ψ,Ret, ωe, ωe(φ,θ,ψ,None,None)) \n",
    "#     print(ωe(φ,θ,ψ,None,None).shape)\n",
    "#     C4= np.cross(d_s(phi,x,y,z,Ret, np.einsum('ijk,ik->ik',Ret,ωe(φ,θ,ψ,None,None))).T\n",
    "#                  , ne(x,y,z,Ret,  np.einsum('ijk,ik->ik',Ret,ωe(φ,θ,ψ,None,None))))\n",
    "#     C4= np.cross(d_s(phi,x,y,z,Ret, test).T, ne(x,y,z,Ret, test))\n",
    "    C4= np.cross(d_s(phi,x,y,z,Ret, ωe(φ,θ,ψ,None,None).astype(np.float32)).T, \n",
    "                 ne(x,y,z,Ret, ωe(φ,θ,ψ,None,None).astype(np.float32)))\n",
    "\n",
    "\n",
    "    K1=test.T\n",
    "\n",
    "    C5= np.einsum('ijk,ik->ij',Ret, -np.dot(DR,K1).astype(np.float32).T)\n",
    "\n",
    "    C0=np.einsum('ijk,kp->ijp',np.einsum('ijk,ikr->ijr',np.linalg.inv(Π(φ,θ,ψ).astype(np.float32)),\n",
    "                        Re_b(Ret)),tau_force[3:].reshape(3,1)) \n",
    "    B_ =(\n",
    "        -C1\n",
    "        -C2\n",
    "        +C3\n",
    "        +C4\n",
    "        +C5\n",
    "    )\n",
    "    B= B_ +C0.squeeze()\n",
    "       \n",
    "\n",
    "    A2 = Irho_e(Ret).astype(np.float32)\n",
    "    A3=Π(φ,θ,ψ).astype(np.float32)\n",
    "\n",
    "    A=np.einsum('ijk,ikr->ijr',A2,A3)\n",
    "\n",
    "############################################\n",
    "    ddφ,ddθ,ddψ = np.linalg.solve(A,B).T\n",
    "#############################################\n",
    "\n",
    "#     ddx[0],ddy[0],ddz[0],ddφ[0],ddθ[0],ddψ[0]=0,0,0,0,0,0\n",
    "    A1111=np.concatenate([dx, ddx, dy, ddy, dz, ddz, dφ, ddφ, dθ, ddθ, dψ, ddψ], axis=0)\n",
    "\n",
    "    return A1111"
   ]
  },
  {
   "cell_type": "code",
   "execution_count": 116,
   "metadata": {},
   "outputs": [],
   "source": [
    "tspan = (0., 40)"
   ]
  },
  {
   "cell_type": "code",
   "execution_count": 117,
   "metadata": {},
   "outputs": [
    {
     "name": "stdout",
     "output_type": "stream",
     "text": [
      "1:26:41.893797\n"
     ]
    }
   ],
   "source": [
    "startTime1 = datetime.now()\n",
    "\n",
    "us=solve_ivp(grayscott1d,  tspan, q0, \n",
    "#              nfev=842\n",
    "#              method='LSODA',\n",
    "#              method= 'BDF'\n",
    "#              vectorized=True\n",
    "#              min_step=1e-6\n",
    "#              rtol=1, atol=1\n",
    "            )\n",
    "print(datetime.now() - startTime1)"
   ]
  },
  {
   "cell_type": "markdown",
   "metadata": {},
   "source": [
    "### Results"
   ]
  },
  {
   "cell_type": "code",
   "execution_count": 118,
   "metadata": {},
   "outputs": [],
   "source": [
    "fin=us"
   ]
  },
  {
   "cell_type": "code",
   "execution_count": 119,
   "metadata": {},
   "outputs": [
    {
     "data": {
      "text/plain": [
       "  message: 'Required step size is less than spacing between numbers.'\n",
       "     nfev: 168164\n",
       "     njev: 0\n",
       "      nlu: 0\n",
       "      sol: None\n",
       "   status: -1\n",
       "  success: False\n",
       "        t: array([0.00000000e+00, 5.54489952e-05, 6.09938947e-04, ...,\n",
       "       1.32846166e+01, 1.32846166e+01, 1.32846166e+01])\n",
       " t_events: None\n",
       "        y: array([[ 0.00000000e+00,  1.06507560e-23,  6.79893898e-22, ...,\n",
       "        -3.25038918e+01, -3.25038918e+01, -3.25038918e+01],\n",
       "       [ 2.25564997e+02,  2.25564997e+02,  2.25564997e+02, ...,\n",
       "         1.93061105e+02,  1.93061105e+02,  1.93061105e+02],\n",
       "       [ 4.51129994e+02,  4.51129994e+02,  4.51129994e+02, ...,\n",
       "         4.18626102e+02,  4.18626102e+02,  4.18626102e+02],\n",
       "       ...,\n",
       "       [ 0.00000000e+00,  1.96125957e-25,  2.15470446e-24, ...,\n",
       "         1.42177129e-04,  1.42177130e-04,  1.42177130e-04],\n",
       "       [ 0.00000000e+00,  1.96125957e-25,  2.15470448e-24, ...,\n",
       "         6.11534357e-03,  6.11534357e-03,  6.11534357e-03],\n",
       "       [ 0.00000000e+00,  1.96125957e-25,  2.15470451e-24, ...,\n",
       "         2.84680942e+01,  2.84680942e+01,  2.84680942e+01]])\n",
       " y_events: None"
      ]
     },
     "execution_count": 119,
     "metadata": {},
     "output_type": "execute_result"
    }
   ],
   "source": [
    "fin"
   ]
  },
  {
   "cell_type": "code",
   "execution_count": 120,
   "metadata": {},
   "outputs": [],
   "source": [
    "t=fin.t"
   ]
  },
  {
   "cell_type": "code",
   "execution_count": 121,
   "metadata": {},
   "outputs": [],
   "source": [
    "fin=fin.y.T"
   ]
  },
  {
   "cell_type": "code",
   "execution_count": 122,
   "metadata": {},
   "outputs": [
    {
     "name": "stderr",
     "output_type": "stream",
     "text": [
      "/Library/Frameworks/Python.framework/Versions/3.7/lib/python3.7/site-packages/ipykernel_launcher.py:2: MatplotlibDeprecationWarning: Calling gca() with keyword arguments was deprecated in Matplotlib 3.4. Starting two minor releases later, gca() will take no keyword arguments. The gca() function should only be used to get the current axes, or if no axes exist, create new axes with default keyword arguments. To create a new axes with non-default arguments, use plt.axes() or plt.subplot().\n",
      "  \n"
     ]
    },
    {
     "data": {
      "image/png": "[encoded data removed]",
      "text/plain": [
       "<Figure size 936x936 with 1 Axes>"
      ]
     },
     "metadata": {
      "needs_background": "light"
     },
     "output_type": "display_data"
    }
   ],
   "source": [
    "fig=plt.figure(figsize=(13,13))\n",
    "ax = fig.gca(projection='3d')\n",
    "\n",
    "X0=fin[0,[i for i in range(0,node_N)]]\n",
    "Y0=fin[0,[i for i in range(2*node_N,3*node_N)]]\n",
    "Z0=fin[0,[i for i in range(4*node_N,5*node_N)]]\n",
    "\n",
    "j=-1\n",
    "X=fin[j,[i for i in range(0,node_N)]]\n",
    "Y=fin[j,[i for i in range(2*node_N,3*node_N)]]\n",
    "Z=fin[j,[i for i in range(4*node_N,5*node_N)]]\n",
    "\n",
    "num_true_pts = 200\n",
    "tck, u = interpolate.splprep([X,Y,Z], s=2)\n",
    "u_fine = np.linspace(0,1,num_true_pts)\n",
    "x_fine, y_fine, z_fine = interpolate.splev(u_fine, tck)\n",
    "\n",
    "\n",
    "ax.plot(X0,Y0,Z0, color='r')\n",
    "ax.plot(X,Y,Z, color='b') \n",
    "# ax.plot(x_fine, y_fine, z_fine, color='b')\n",
    "ax.view_init(-45,-45)\n",
    "# ax.view_init(0,-90)\n",
    "plt.show()"
   ]
  },
  {
   "cell_type": "code",
   "execution_count": 123,
   "metadata": {},
   "outputs": [
    {
     "data": {
      "text/plain": [
       "(array([ -32.50389176,  193.06110507,  418.6261019 ,  644.19109872,\n",
       "         869.75609555, 1095.32109237, 1320.88608921, 1546.45108603,\n",
       "        1772.01608286, 1997.58107967, 2223.1460765 , 2448.71107333,\n",
       "        2674.27607016, 2899.84106698, 3125.40606381, 3350.97106063,\n",
       "        3576.53605746, 3802.10105426, 4027.66605104, 4253.23104771,\n",
       "        4478.796044  , 4704.361039  , 4929.92602995, 5155.49100802,\n",
       "        5381.05594637, 5606.62076445, 5832.18522428, 6057.74863509,\n",
       "        6283.309022  , 6508.86082283, 6734.38858718, 6959.84991808,\n",
       "        7185.12949962, 7409.91375685, 7633.32892362, 7852.65004809,\n",
       "        8047.69224255, 8241.49501773, 8423.50218451, 8580.16370918,\n",
       "        8702.08559748, 8765.75642668, 8741.64946936, 8590.13827972,\n",
       "        8261.40271601, 7700.57998638, 6860.76856833, 5716.35571416,\n",
       "        4228.62694587, 3307.19105696]),\n",
       " array([-4.43431582e-06, -4.43431682e-06, -4.43431872e-06, -4.43432244e-06,\n",
       "        -4.43432977e-06, -4.43434423e-06, -4.43437255e-06, -4.43442745e-06,\n",
       "        -4.43453261e-06, -4.43473154e-06, -4.43510325e-06, -4.43578943e-06,\n",
       "        -4.43704150e-06, -4.43930112e-06, -4.44333689e-06, -4.45047517e-06,\n",
       "        -4.46298795e-06, -4.48474361e-06, -4.52230190e-06, -4.58677693e-06,\n",
       "        -4.69708483e-06, -4.88587551e-06, -5.21130397e-06, -5.78396928e-06,\n",
       "        -6.84579408e-06, -8.68585855e-06, -1.14665888e-05, -1.47036263e-05,\n",
       "        -1.82847280e-05, -2.24863625e-05, -2.75371294e-05, -3.36933321e-05,\n",
       "        -4.12804789e-05, -5.08027645e-05, -6.30371735e-05, -7.91170528e-05,\n",
       "        -1.00598680e-04, -1.29246254e-04, -1.65647445e-04, -2.02720289e-04,\n",
       "        -1.16209841e-04,  1.00583638e-04,  6.52130003e-04,  2.12721697e-03,\n",
       "         6.53464215e-03,  2.07165723e-02,  6.68142018e-02,  2.26369904e-01,\n",
       "         1.53516445e+00,  3.03753649e+02]),\n",
       " array([6.05082109e+00, 6.33966393e+00, 7.20619433e+00, 8.65041794e+00,\n",
       "        1.06723442e+01, 1.32719863e+01, 1.64493609e+01, 2.02044884e+01,\n",
       "        2.45373923e+01, 2.94480989e+01, 3.49366360e+01, 4.10030316e+01,\n",
       "        4.76473100e+01, 5.48694856e+01, 6.26695527e+01, 7.10474655e+01,\n",
       "        8.00031048e+01, 8.95362194e+01, 9.96463247e+01, 1.10332529e+02,\n",
       "        1.21593225e+02, 1.33425552e+02, 1.45824365e+02, 1.58780127e+02,\n",
       "        1.72273585e+02, 1.86257763e+02, 2.00656171e+02, 2.15455110e+02,\n",
       "        2.30649884e+02, 2.46209948e+02, 2.62092480e+02, 2.78239899e+02,\n",
       "        2.94572114e+02, 3.10973751e+02, 3.27269156e+02, 3.43189253e+02,\n",
       "        3.58336051e+02, 3.72177047e+02, 3.84190284e+02, 3.94583276e+02,\n",
       "        4.09107502e+02, 4.54827800e+02, 5.36949883e+02, 6.83750047e+02,\n",
       "        9.41506676e+02, 1.37745863e+03, 2.07258098e+03, 3.09916329e+03,\n",
       "        4.46695878e+03, 6.58318713e+03]))"
      ]
     },
     "execution_count": 123,
     "metadata": {},
     "output_type": "execute_result"
    }
   ],
   "source": [
    "X,Y,Z"
   ]
  },
  {
   "cell_type": "code",
   "execution_count": 124,
   "metadata": {},
   "outputs": [
    {
     "data": {
      "text/plain": [
       "(array([    0.        ,   225.56499683,   451.12999365,   676.69499048,\n",
       "          902.2599873 ,  1127.82498413,  1353.38998095,  1578.95497778,\n",
       "         1804.51997461,  2030.08497143,  2255.64996826,  2481.21496508,\n",
       "         2706.77996191,  2932.34495873,  3157.90995556,  3383.47495239,\n",
       "         3609.03994921,  3834.60494604,  4060.16994286,  4285.73493969,\n",
       "         4511.29993651,  4736.86493334,  4962.42993017,  5187.99492699,\n",
       "         5413.55992382,  5639.12492064,  5864.68991747,  6090.2549143 ,\n",
       "         6315.81991112,  6541.38490795,  6766.94990477,  6992.5149016 ,\n",
       "         7218.07989842,  7443.64489525,  7669.20989208,  7894.7748889 ,\n",
       "         8120.33988573,  8345.90488255,  8571.46987938,  8797.0348762 ,\n",
       "         9022.59987303,  9248.16486986,  9473.72986668,  9699.29486351,\n",
       "         9924.85986033, 10150.42485716, 10375.98985398, 10601.55485081,\n",
       "        10827.11984764, 11052.68484446]),\n",
       " array([0., 0., 0., 0., 0., 0., 0., 0., 0., 0., 0., 0., 0., 0., 0., 0., 0.,\n",
       "        0., 0., 0., 0., 0., 0., 0., 0., 0., 0., 0., 0., 0., 0., 0., 0., 0.,\n",
       "        0., 0., 0., 0., 0., 0., 0., 0., 0., 0., 0., 0., 0., 0., 0., 0.]),\n",
       " array([0.00000000e+00, 2.88842843e-01, 1.15537327e+00, 2.59959695e+00,\n",
       "        4.62152338e+00, 7.22116580e+00, 1.03985413e+01, 1.41536706e+01,\n",
       "        1.84865785e+01, 2.33972933e+01, 2.88858473e+01, 3.49522764e+01,\n",
       "        4.15966205e+01, 4.88189230e+01, 5.66192315e+01, 6.49975970e+01,\n",
       "        7.39540746e+01, 8.34887228e+01, 9.36016044e+01, 1.04292786e+02,\n",
       "        1.15562337e+02, 1.27410331e+02, 1.39836847e+02, 1.52841966e+02,\n",
       "        1.66425773e+02, 1.80588357e+02, 1.95329812e+02, 2.10650233e+02,\n",
       "        2.26549722e+02, 2.43028382e+02, 2.60086322e+02, 2.77723654e+02,\n",
       "        2.95940493e+02, 3.14736958e+02, 3.34113174e+02, 3.54069267e+02,\n",
       "        3.74605368e+02, 3.95721612e+02, 4.17418136e+02, 4.39695085e+02,\n",
       "        4.62552603e+02, 4.85990841e+02, 5.10009952e+02, 5.34610093e+02,\n",
       "        5.59791427e+02, 5.85554119e+02, 6.11898337e+02, 6.38824254e+02,\n",
       "        6.66332046e+02, 6.94421895e+02]))"
      ]
     },
     "execution_count": 124,
     "metadata": {},
     "output_type": "execute_result"
    }
   ],
   "source": [
    "X0,Y0,Z0"
   ]
  },
  {
   "cell_type": "code",
   "execution_count": 125,
   "metadata": {},
   "outputs": [],
   "source": [
    "us=fin.T"
   ]
  },
  {
   "cell_type": "code",
   "execution_count": 126,
   "metadata": {},
   "outputs": [
    {
     "data": {
      "image/png": "[encoded data removed]",
      "text/plain": [
       "<Figure size 432x288 with 1 Axes>"
      ]
     },
     "metadata": {
      "needs_background": "light"
     },
     "output_type": "display_data"
    }
   ],
   "source": [
    "plt.plot(t,us.T[:,2],'-')\n",
    "plt.xlabel('t')\n",
    "plt.ylabel('x2')\n",
    "plt.show()"
   ]
  },
  {
   "cell_type": "code",
   "execution_count": 127,
   "metadata": {},
   "outputs": [
    {
     "data": {
      "image/png": "[encoded data removed]",
      "text/plain": [
       "<Figure size 432x288 with 1 Axes>"
      ]
     },
     "metadata": {
      "needs_background": "light"
     },
     "output_type": "display_data"
    }
   ],
   "source": [
    "plt.plot(t,us.T[:,node_N+2] ,'-')\n",
    "plt.xlabel('t')\n",
    "plt.ylabel('dx2')\n",
    "plt.show()"
   ]
  },
  {
   "cell_type": "code",
   "execution_count": 128,
   "metadata": {},
   "outputs": [
    {
     "data": {
      "image/png": "[encoded data removed]",
      "text/plain": [
       "<Figure size 432x288 with 1 Axes>"
      ]
     },
     "metadata": {
      "needs_background": "light"
     },
     "output_type": "display_data"
    }
   ],
   "source": [
    "plt.plot(t,us.T[:,2*node_N +2] ,'-')\n",
    "plt.xlabel('t')\n",
    "plt.ylabel('y2')\n",
    "plt.show()"
   ]
  },
  {
   "cell_type": "code",
   "execution_count": 129,
   "metadata": {},
   "outputs": [
    {
     "data": {
      "image/png": "[encoded data removed]",
      "text/plain": [
       "<Figure size 432x288 with 1 Axes>"
      ]
     },
     "metadata": {
      "needs_background": "light"
     },
     "output_type": "display_data"
    }
   ],
   "source": [
    "plt.plot(t,us.T[:,3*node_N+2] ,'-')\n",
    "plt.xlabel('t')\n",
    "plt.ylabel('dy2')\n",
    "plt.show()"
   ]
  },
  {
   "cell_type": "code",
   "execution_count": 130,
   "metadata": {},
   "outputs": [
    {
     "data": {
      "image/png": "[encoded data removed]",
      "text/plain": [
       "<Figure size 432x288 with 1 Axes>"
      ]
     },
     "metadata": {
      "needs_background": "light"
     },
     "output_type": "display_data"
    }
   ],
   "source": [
    "plt.plot(t,us.T[:,2*node_N+49] ,'-')\n",
    "plt.xlabel('t')\n",
    "plt.ylabel('y49')\n",
    "plt.show()"
   ]
  },
  {
   "cell_type": "code",
   "execution_count": 131,
   "metadata": {},
   "outputs": [
    {
     "data": {
      "image/png": "[encoded data removed]",
      "text/plain": [
       "<Figure size 432x288 with 1 Axes>"
      ]
     },
     "metadata": {
      "needs_background": "light"
     },
     "output_type": "display_data"
    }
   ],
   "source": [
    "plt.plot(t,us.T[:,4*node_N+2] ,'-')\n",
    "plt.xlabel('t')\n",
    "plt.ylabel('z2')\n",
    "plt.show()"
   ]
  },
  {
   "cell_type": "code",
   "execution_count": 132,
   "metadata": {},
   "outputs": [
    {
     "data": {
      "image/png": "[encoded data removed]",
      "text/plain": [
       "<Figure size 432x288 with 1 Axes>"
      ]
     },
     "metadata": {
      "needs_background": "light"
     },
     "output_type": "display_data"
    }
   ],
   "source": [
    "plt.plot(t,us.T[:,5*node_N+2] ,'-')\n",
    "plt.xlabel('t')\n",
    "plt.ylabel('dz2')\n",
    "plt.show()"
   ]
  },
  {
   "cell_type": "code",
   "execution_count": 133,
   "metadata": {},
   "outputs": [
    {
     "data": {
      "image/png": "[encoded data removed]",
      "text/plain": [
       "<Figure size 432x288 with 1 Axes>"
      ]
     },
     "metadata": {
      "needs_background": "light"
     },
     "output_type": "display_data"
    }
   ],
   "source": [
    "plt.plot(t,us.T[:,4*node_N+3] ,'-')\n",
    "plt.xlabel('t')\n",
    "plt.ylabel('z3')\n",
    "plt.show()"
   ]
  },
  {
   "cell_type": "code",
   "execution_count": 134,
   "metadata": {},
   "outputs": [
    {
     "data": {
      "image/png": "[encoded data removed]",
      "text/plain": [
       "<Figure size 432x288 with 1 Axes>"
      ]
     },
     "metadata": {
      "needs_background": "light"
     },
     "output_type": "display_data"
    }
   ],
   "source": [
    "plt.plot(t,us.T[:,4*node_N+49] ,'-')\n",
    "plt.xlabel('t')\n",
    "plt.ylabel('z49')\n",
    "plt.show()"
   ]
  },
  {
   "cell_type": "code",
   "execution_count": 135,
   "metadata": {},
   "outputs": [
    {
     "data": {
      "image/png": "[encoded data removed]",
      "text/plain": [
       "<Figure size 432x288 with 1 Axes>"
      ]
     },
     "metadata": {
      "needs_background": "light"
     },
     "output_type": "display_data"
    }
   ],
   "source": [
    "plt.plot(t,us.T[:,8*node_N+2],'-')\n",
    "plt.xlabel('t')\n",
    "plt.ylabel('θ2')\n",
    "plt.show()"
   ]
  },
  {
   "cell_type": "code",
   "execution_count": 136,
   "metadata": {},
   "outputs": [
    {
     "data": {
      "image/png": "[encoded data removed]",
      "text/plain": [
       "<Figure size 432x288 with 1 Axes>"
      ]
     },
     "metadata": {
      "needs_background": "light"
     },
     "output_type": "display_data"
    }
   ],
   "source": [
    "plt.plot(t,us.T[:,9*node_N+2] ,'-')\n",
    "plt.xlabel('t')\n",
    "plt.ylabel('dθ2')\n",
    "plt.show()"
   ]
  },
  {
   "cell_type": "code",
   "execution_count": 137,
   "metadata": {},
   "outputs": [
    {
     "data": {
      "image/png": "[encoded data removed]",
      "text/plain": [
       "<Figure size 432x288 with 1 Axes>"
      ]
     },
     "metadata": {
      "needs_background": "light"
     },
     "output_type": "display_data"
    }
   ],
   "source": [
    "plt.plot(t,us.T[:,10*node_N+2],'-')\n",
    "plt.xlabel('t')\n",
    "plt.ylabel('ψ2')\n",
    "plt.show()"
   ]
  },
  {
   "cell_type": "code",
   "execution_count": 138,
   "metadata": {},
   "outputs": [
    {
     "data": {
      "image/png": "[encoded data removed]",
      "text/plain": [
       "<Figure size 432x288 with 1 Axes>"
      ]
     },
     "metadata": {
      "needs_background": "light"
     },
     "output_type": "display_data"
    }
   ],
   "source": [
    "plt.plot(t,us.T[:,11*node_N+2] ,'-')\n",
    "plt.xlabel('t')\n",
    "plt.ylabel('dψ2')\n",
    "plt.show()"
   ]
  },
  {
   "cell_type": "code",
   "execution_count": null,
   "metadata": {},
   "outputs": [],
   "source": []
  }
 ],
 "metadata": {
  "kernelspec": {
   "display_name": "Python 3",
   "language": "python",
   "name": "python3"
  },
  "language_info": {
   "codemirror_mode": {
    "name": "ipython",
    "version": 3
   },
   "file_extension": ".py",
   "mimetype": "text/x-python",
   "name": "python",
   "nbconvert_exporter": "python",
   "pygments_lexer": "ipython3",
   "version": "3.7.7"
  }
 },
 "nbformat": 4,
 "nbformat_minor": 4
}
