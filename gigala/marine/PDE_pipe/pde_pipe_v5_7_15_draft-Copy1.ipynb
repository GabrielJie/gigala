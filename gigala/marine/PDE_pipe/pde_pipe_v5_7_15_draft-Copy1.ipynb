{
 "cells": [
  {
   "cell_type": "markdown",
   "metadata": {},
   "source": [
    "#### Model taken from:\n",
    "- [1] Offshore Pipelaying Dynamics. Gullik Anthon Jensen \n",
    "- [2] A nonlinear PDE formulation for offshore vessel pipeline installation. Gullik A. Jensen et al \n",
    "- [3] Modeling and Control of Offshore Pipelay Operations Based on a Finite Strain Pipe Model. Gullik A. Jensen "
   ]
  },
  {
   "cell_type": "code",
   "execution_count": 1,
   "metadata": {},
   "outputs": [],
   "source": [
    "import numpy as np\n",
    "import math\n",
    "import matplotlib.pyplot as plt\n",
    "from datetime import datetime\n",
    "from scipy.optimize import fsolve\n",
    "from scipy.integrate import solve_ivp\n",
    "from scipy import interpolate"
   ]
  },
  {
   "cell_type": "code",
   "execution_count": 2,
   "metadata": {},
   "outputs": [],
   "source": [
    "import sys\n",
    "sys.path.insert(0, \"../../../../Ocean_Intella/PythonVehicleSimulator-master/src/python_vehicle_simulator\")\n",
    "sys.path.insert(0, \"../../../../Ocean_Intella/PythonVehicleSimulator-master/src\")"
   ]
  },
  {
   "cell_type": "code",
   "execution_count": 3,
   "metadata": {},
   "outputs": [],
   "source": [
    "from python_vehicle_simulator.vehicles import *\n",
    "from python_vehicle_simulator.lib import *\n",
    "from python_vehicle_simulator.lib.gnc import ssa"
   ]
  },
  {
   "cell_type": "code",
   "execution_count": 4,
   "metadata": {},
   "outputs": [],
   "source": [
    "mp = 96       #  (submerged pipe weight) [kg/m]"
   ]
  },
  {
   "cell_type": "code",
   "execution_count": 5,
   "metadata": {},
   "outputs": [],
   "source": [
    "node_N = 50"
   ]
  },
  {
   "cell_type": "code",
   "execution_count": 6,
   "metadata": {},
   "outputs": [],
   "source": [
    "mi = [mp for i in range(node_N)] "
   ]
  },
  {
   "cell_type": "code",
   "execution_count": 7,
   "metadata": {},
   "outputs": [],
   "source": [
    "# L - the hull length\n",
    "# Xg - x-center of gravity\n",
    "L = 84.6 # [m]\n",
    "B= 12\n",
    "H= 13\n",
    "Xg = L/2 # [m]\n",
    "mn = 27_162_500 #123000000 # mass of the vessel, [kg]  \n",
    "# kp, kd=1.95e4,1.5e4"
   ]
  },
  {
   "cell_type": "code",
   "execution_count": 8,
   "metadata": {},
   "outputs": [],
   "source": [
    "lx,ly,lz=L/2,B/2,H/2"
   ]
  },
  {
   "cell_type": "code",
   "execution_count": 9,
   "metadata": {},
   "outputs": [],
   "source": [
    "vessel_mass=mn/L # mass over length of the vessel"
   ]
  },
  {
   "cell_type": "code",
   "execution_count": 10,
   "metadata": {},
   "outputs": [],
   "source": [
    "hak=1e15 # moment of area vs moment of inertia; has proportionality coefficient"
   ]
  },
  {
   "cell_type": "code",
   "execution_count": 11,
   "metadata": {},
   "outputs": [],
   "source": [
    "diag_Irho = 1e2*np.array([1, 1, 2]) # [m^4]  , p.99 in [1]\n",
    "# diag_Irho = 1e-2*np.array([0.5, 0.5, 1])  # !!!!!!!!!!!!!!!!!!!!!!!!!!!!!!!!!!!!!!!!!!!!!!!!\n",
    "Irho_=hak*np.diag(diag_Irho)"
   ]
  },
  {
   "cell_type": "code",
   "execution_count": 12,
   "metadata": {},
   "outputs": [
    {
     "data": {
      "text/plain": [
       "array([[1.e+17, 0.e+00, 0.e+00],\n",
       "       [0.e+00, 1.e+17, 0.e+00],\n",
       "       [0.e+00, 0.e+00, 2.e+17]])"
      ]
     },
     "execution_count": 12,
     "metadata": {},
     "output_type": "execute_result"
    }
   ],
   "source": [
    "Irho_"
   ]
  },
  {
   "cell_type": "code",
   "execution_count": 13,
   "metadata": {},
   "outputs": [],
   "source": [
    "# Fossen book p.181\n",
    "def vessel_inertia_moment(mn, Xg, L):\n",
    "    r = 0.25*L\n",
    "    Ir = mn*r**2\n",
    "    Iz=mn*Xg**2 + Ir\n",
    "    return Iz"
   ]
  },
  {
   "cell_type": "code",
   "execution_count": 14,
   "metadata": {},
   "outputs": [],
   "source": [
    "vessel_inertia = vessel_inertia_moment(mn, Xg, L)"
   ]
  },
  {
   "cell_type": "code",
   "execution_count": 15,
   "metadata": {},
   "outputs": [
    {
     "data": {
      "text/plain": [
       "60751987031.24999"
      ]
     },
     "execution_count": 15,
     "metadata": {},
     "output_type": "execute_result"
    }
   ],
   "source": [
    "vessel_inertia"
   ]
  },
  {
   "cell_type": "code",
   "execution_count": null,
   "metadata": {},
   "outputs": [],
   "source": []
  },
  {
   "cell_type": "code",
   "execution_count": 16,
   "metadata": {},
   "outputs": [],
   "source": [
    "def inert(mn, vessel_inertia, Irho_, cum_d_inv, Ws):\n",
    "    V_rho=np.zeros(Irho_.shape)\n",
    "    np.fill_diagonal(V_rho, vessel_inertia)\n",
    "    cum_m=0\n",
    "    cum_i=0\n",
    "    fin_123=[]\n",
    "    for i in range(node_N-1,-1,-1):\n",
    "        cum_m+=Ws[i]*cum_d_inv[i]**2\n",
    "        cum_i+=Irho_\n",
    "        fin_123.append(V_rho+cum_m + cum_i)\n",
    "    return np.array(fin_123[::-1])"
   ]
  },
  {
   "cell_type": "code",
   "execution_count": 17,
   "metadata": {},
   "outputs": [],
   "source": [
    "lll = [100 for i in range(node_N)]"
   ]
  },
  {
   "cell_type": "code",
   "execution_count": 18,
   "metadata": {},
   "outputs": [],
   "source": [
    "cum_d_inv=[10]\n",
    "sum_=0\n",
    "for i in range(len(lll)-1,-1,-1):\n",
    "    sum_+=lll[i]\n",
    "    cum_d_inv.append(sum_)\n",
    "cum_d_inv=cum_d_inv[::-1]    "
   ]
  },
  {
   "cell_type": "code",
   "execution_count": 19,
   "metadata": {},
   "outputs": [
    {
     "data": {
      "text/plain": [
       "[5000,\n",
       " 4900,\n",
       " 4800,\n",
       " 4700,\n",
       " 4600,\n",
       " 4500,\n",
       " 4400,\n",
       " 4300,\n",
       " 4200,\n",
       " 4100,\n",
       " 4000,\n",
       " 3900,\n",
       " 3800,\n",
       " 3700,\n",
       " 3600,\n",
       " 3500,\n",
       " 3400,\n",
       " 3300,\n",
       " 3200,\n",
       " 3100,\n",
       " 3000,\n",
       " 2900,\n",
       " 2800,\n",
       " 2700,\n",
       " 2600,\n",
       " 2500,\n",
       " 2400,\n",
       " 2300,\n",
       " 2200,\n",
       " 2100,\n",
       " 2000,\n",
       " 1900,\n",
       " 1800,\n",
       " 1700,\n",
       " 1600,\n",
       " 1500,\n",
       " 1400,\n",
       " 1300,\n",
       " 1200,\n",
       " 1100,\n",
       " 1000,\n",
       " 900,\n",
       " 800,\n",
       " 700,\n",
       " 600,\n",
       " 500,\n",
       " 400,\n",
       " 300,\n",
       " 200,\n",
       " 100,\n",
       " 10]"
      ]
     },
     "execution_count": 19,
     "metadata": {},
     "output_type": "execute_result"
    }
   ],
   "source": [
    "cum_d_inv"
   ]
  },
  {
   "cell_type": "code",
   "execution_count": 20,
   "metadata": {},
   "outputs": [],
   "source": [
    "Ws = np.array(mi)*9.81"
   ]
  },
  {
   "cell_type": "code",
   "execution_count": 21,
   "metadata": {},
   "outputs": [],
   "source": [
    "Irho=inert(mn, vessel_inertia, Irho_, cum_d_inv, Ws)\n",
    "# Irho=np.array(fin_123)"
   ]
  },
  {
   "cell_type": "code",
   "execution_count": 22,
   "metadata": {},
   "outputs": [],
   "source": [
    "# Irho+=vessel_inertia"
   ]
  },
  {
   "cell_type": "code",
   "execution_count": 23,
   "metadata": {},
   "outputs": [
    {
     "data": {
      "text/plain": [
       "1.0000006076140462e+17"
      ]
     },
     "execution_count": 23,
     "metadata": {},
     "output_type": "execute_result"
    }
   ],
   "source": [
    "Irho[-1][0][0]"
   ]
  },
  {
   "cell_type": "code",
   "execution_count": 24,
   "metadata": {},
   "outputs": [
    {
     "data": {
      "text/plain": [
       "4.900000441458467e+18"
      ]
     },
     "execution_count": 24,
     "metadata": {},
     "output_type": "execute_result"
    }
   ],
   "source": [
    "Irho[-49][0][0]"
   ]
  },
  {
   "cell_type": "code",
   "execution_count": 25,
   "metadata": {},
   "outputs": [
    {
     "data": {
      "text/plain": [
       "array([[[5.00000047e+18, 4.04250480e+11, 4.04250480e+11],\n",
       "        [4.04250480e+11, 5.00000047e+18, 4.04250480e+11],\n",
       "        [4.04250480e+11, 4.04250480e+11, 1.00000005e+19]],\n",
       "\n",
       "       [[4.90000044e+18, 3.80706480e+11, 3.80706480e+11],\n",
       "        [3.80706480e+11, 4.90000044e+18, 3.80706480e+11],\n",
       "        [3.80706480e+11, 3.80706480e+11, 9.80000044e+18]],\n",
       "\n",
       "       [[4.80000042e+18, 3.58094822e+11, 3.58094822e+11],\n",
       "        [3.58094822e+11, 4.80000042e+18, 3.58094822e+11],\n",
       "        [3.58094822e+11, 3.58094822e+11, 9.60000042e+18]],\n",
       "\n",
       "       [[4.70000040e+18, 3.36396672e+11, 3.36396672e+11],\n",
       "        [3.36396672e+11, 4.70000040e+18, 3.36396672e+11],\n",
       "        [3.36396672e+11, 3.36396672e+11, 9.40000040e+18]],\n",
       "\n",
       "       [[4.60000038e+18, 3.15593194e+11, 3.15593194e+11],\n",
       "        [3.15593194e+11, 4.60000038e+18, 3.15593194e+11],\n",
       "        [3.15593194e+11, 3.15593194e+11, 9.20000038e+18]],\n",
       "\n",
       "       [[4.50000036e+18, 2.95665552e+11, 2.95665552e+11],\n",
       "        [2.95665552e+11, 4.50000036e+18, 2.95665552e+11],\n",
       "        [2.95665552e+11, 2.95665552e+11, 9.00000036e+18]],\n",
       "\n",
       "       [[4.40000034e+18, 2.76594912e+11, 2.76594912e+11],\n",
       "        [2.76594912e+11, 4.40000034e+18, 2.76594912e+11],\n",
       "        [2.76594912e+11, 2.76594912e+11, 8.80000034e+18]],\n",
       "\n",
       "       [[4.30000032e+18, 2.58362438e+11, 2.58362438e+11],\n",
       "        [2.58362438e+11, 4.30000032e+18, 2.58362438e+11],\n",
       "        [2.58362438e+11, 2.58362438e+11, 8.60000032e+18]],\n",
       "\n",
       "       [[4.20000030e+18, 2.40949296e+11, 2.40949296e+11],\n",
       "        [2.40949296e+11, 4.20000030e+18, 2.40949296e+11],\n",
       "        [2.40949296e+11, 2.40949296e+11, 8.40000030e+18]],\n",
       "\n",
       "       [[4.10000029e+18, 2.24336650e+11, 2.24336650e+11],\n",
       "        [2.24336650e+11, 4.10000029e+18, 2.24336650e+11],\n",
       "        [2.24336650e+11, 2.24336650e+11, 8.20000029e+18]],\n",
       "\n",
       "       [[4.00000027e+18, 2.08505664e+11, 2.08505664e+11],\n",
       "        [2.08505664e+11, 4.00000027e+18, 2.08505664e+11],\n",
       "        [2.08505664e+11, 2.08505664e+11, 8.00000027e+18]],\n",
       "\n",
       "       [[3.90000025e+18, 1.93437504e+11, 1.93437504e+11],\n",
       "        [1.93437504e+11, 3.90000025e+18, 1.93437504e+11],\n",
       "        [1.93437504e+11, 1.93437504e+11, 7.80000025e+18]],\n",
       "\n",
       "       [[3.80000024e+18, 1.79113334e+11, 1.79113334e+11],\n",
       "        [1.79113334e+11, 3.80000024e+18, 1.79113334e+11],\n",
       "        [1.79113334e+11, 1.79113334e+11, 7.60000024e+18]],\n",
       "\n",
       "       [[3.70000023e+18, 1.65514320e+11, 1.65514320e+11],\n",
       "        [1.65514320e+11, 3.70000023e+18, 1.65514320e+11],\n",
       "        [1.65514320e+11, 1.65514320e+11, 7.40000023e+18]],\n",
       "\n",
       "       [[3.60000021e+18, 1.52621626e+11, 1.52621626e+11],\n",
       "        [1.52621626e+11, 3.60000021e+18, 1.52621626e+11],\n",
       "        [1.52621626e+11, 1.52621626e+11, 7.20000021e+18]],\n",
       "\n",
       "       [[3.50000020e+18, 1.40416416e+11, 1.40416416e+11],\n",
       "        [1.40416416e+11, 3.50000020e+18, 1.40416416e+11],\n",
       "        [1.40416416e+11, 1.40416416e+11, 7.00000020e+18]],\n",
       "\n",
       "       [[3.40000019e+18, 1.28879856e+11, 1.28879856e+11],\n",
       "        [1.28879856e+11, 3.40000019e+18, 1.28879856e+11],\n",
       "        [1.28879856e+11, 1.28879856e+11, 6.80000019e+18]],\n",
       "\n",
       "       [[3.30000018e+18, 1.17993110e+11, 1.17993110e+11],\n",
       "        [1.17993110e+11, 3.30000018e+18, 1.17993110e+11],\n",
       "        [1.17993110e+11, 1.17993110e+11, 6.60000018e+18]],\n",
       "\n",
       "       [[3.20000017e+18, 1.07737344e+11, 1.07737344e+11],\n",
       "        [1.07737344e+11, 3.20000017e+18, 1.07737344e+11],\n",
       "        [1.07737344e+11, 1.07737344e+11, 6.40000017e+18]],\n",
       "\n",
       "       [[3.10000016e+18, 9.80937216e+10, 9.80937216e+10],\n",
       "        [9.80937216e+10, 3.10000016e+18, 9.80937216e+10],\n",
       "        [9.80937216e+10, 9.80937216e+10, 6.20000016e+18]],\n",
       "\n",
       "       [[3.00000015e+18, 8.90434080e+10, 8.90434080e+10],\n",
       "        [8.90434080e+10, 3.00000015e+18, 8.90434080e+10],\n",
       "        [8.90434080e+10, 8.90434080e+10, 6.00000015e+18]],\n",
       "\n",
       "       [[2.90000014e+18, 8.05675680e+10, 8.05675680e+10],\n",
       "        [8.05675680e+10, 2.90000014e+18, 8.05675680e+10],\n",
       "        [8.05675680e+10, 8.05675680e+10, 5.80000014e+18]],\n",
       "\n",
       "       [[2.80000013e+18, 7.26473664e+10, 7.26473664e+10],\n",
       "        [7.26473664e+10, 2.80000013e+18, 7.26473664e+10],\n",
       "        [7.26473664e+10, 7.26473664e+10, 5.60000013e+18]],\n",
       "\n",
       "       [[2.70000013e+18, 6.52639680e+10, 6.52639680e+10],\n",
       "        [6.52639680e+10, 2.70000013e+18, 6.52639680e+10],\n",
       "        [6.52639680e+10, 6.52639680e+10, 5.40000013e+18]],\n",
       "\n",
       "       [[2.60000012e+18, 5.83985376e+10, 5.83985376e+10],\n",
       "        [5.83985376e+10, 2.60000012e+18, 5.83985376e+10],\n",
       "        [5.83985376e+10, 5.83985376e+10, 5.20000012e+18]],\n",
       "\n",
       "       [[2.50000011e+18, 5.20322400e+10, 5.20322400e+10],\n",
       "        [5.20322400e+10, 2.50000011e+18, 5.20322400e+10],\n",
       "        [5.20322400e+10, 5.20322400e+10, 5.00000011e+18]],\n",
       "\n",
       "       [[2.40000011e+18, 4.61462400e+10, 4.61462400e+10],\n",
       "        [4.61462400e+10, 2.40000011e+18, 4.61462400e+10],\n",
       "        [4.61462400e+10, 4.61462400e+10, 4.80000011e+18]],\n",
       "\n",
       "       [[2.30000010e+18, 4.07217024e+10, 4.07217024e+10],\n",
       "        [4.07217024e+10, 2.30000010e+18, 4.07217024e+10],\n",
       "        [4.07217024e+10, 4.07217024e+10, 4.60000010e+18]],\n",
       "\n",
       "       [[2.20000010e+18, 3.57397920e+10, 3.57397920e+10],\n",
       "        [3.57397920e+10, 2.20000010e+18, 3.57397920e+10],\n",
       "        [3.57397920e+10, 3.57397920e+10, 4.40000010e+18]],\n",
       "\n",
       "       [[2.10000009e+18, 3.11816736e+10, 3.11816736e+10],\n",
       "        [3.11816736e+10, 2.10000009e+18, 3.11816736e+10],\n",
       "        [3.11816736e+10, 3.11816736e+10, 4.20000009e+18]],\n",
       "\n",
       "       [[2.00000009e+18, 2.70285120e+10, 2.70285120e+10],\n",
       "        [2.70285120e+10, 2.00000009e+18, 2.70285120e+10],\n",
       "        [2.70285120e+10, 2.70285120e+10, 4.00000009e+18]],\n",
       "\n",
       "       [[1.90000008e+18, 2.32614720e+10, 2.32614720e+10],\n",
       "        [2.32614720e+10, 1.90000008e+18, 2.32614720e+10],\n",
       "        [2.32614720e+10, 2.32614720e+10, 3.80000008e+18]],\n",
       "\n",
       "       [[1.80000008e+18, 1.98617184e+10, 1.98617184e+10],\n",
       "        [1.98617184e+10, 1.80000008e+18, 1.98617184e+10],\n",
       "        [1.98617184e+10, 1.98617184e+10, 3.60000008e+18]],\n",
       "\n",
       "       [[1.70000008e+18, 1.68104160e+10, 1.68104160e+10],\n",
       "        [1.68104160e+10, 1.70000008e+18, 1.68104160e+10],\n",
       "        [1.68104160e+10, 1.68104160e+10, 3.40000008e+18]],\n",
       "\n",
       "       [[1.60000007e+18, 1.40887296e+10, 1.40887296e+10],\n",
       "        [1.40887296e+10, 1.60000007e+18, 1.40887296e+10],\n",
       "        [1.40887296e+10, 1.40887296e+10, 3.20000007e+18]],\n",
       "\n",
       "       [[1.50000007e+18, 1.16778240e+10, 1.16778240e+10],\n",
       "        [1.16778240e+10, 1.50000007e+18, 1.16778240e+10],\n",
       "        [1.16778240e+10, 1.16778240e+10, 3.00000007e+18]],\n",
       "\n",
       "       [[1.40000007e+18, 9.55886400e+09, 9.55886400e+09],\n",
       "        [9.55886400e+09, 1.40000007e+18, 9.55886400e+09],\n",
       "        [9.55886400e+09, 9.55886400e+09, 2.80000007e+18]],\n",
       "\n",
       "       [[1.30000007e+18, 7.71301440e+09, 7.71301440e+09],\n",
       "        [7.71301440e+09, 1.30000007e+18, 7.71301440e+09],\n",
       "        [7.71301440e+09, 7.71301440e+09, 2.60000007e+18]],\n",
       "\n",
       "       [[1.20000007e+18, 6.12144000e+09, 6.12144000e+09],\n",
       "        [6.12144000e+09, 1.20000007e+18, 6.12144000e+09],\n",
       "        [6.12144000e+09, 6.12144000e+09, 2.40000007e+18]],\n",
       "\n",
       "       [[1.10000007e+18, 4.76530560e+09, 4.76530560e+09],\n",
       "        [4.76530560e+09, 1.10000007e+18, 4.76530560e+09],\n",
       "        [4.76530560e+09, 4.76530560e+09, 2.20000007e+18]],\n",
       "\n",
       "       [[1.00000006e+18, 3.62577600e+09, 3.62577600e+09],\n",
       "        [3.62577600e+09, 1.00000006e+18, 3.62577600e+09],\n",
       "        [3.62577600e+09, 3.62577600e+09, 2.00000006e+18]],\n",
       "\n",
       "       [[9.00000063e+17, 2.68401600e+09, 2.68401600e+09],\n",
       "        [2.68401600e+09, 9.00000063e+17, 2.68401600e+09],\n",
       "        [2.68401600e+09, 2.68401600e+09, 1.80000006e+18]],\n",
       "\n",
       "       [[8.00000063e+17, 1.92119040e+09, 1.92119040e+09],\n",
       "        [1.92119040e+09, 8.00000063e+17, 1.92119040e+09],\n",
       "        [1.92119040e+09, 1.92119040e+09, 1.60000006e+18]],\n",
       "\n",
       "       [[7.00000062e+17, 1.31846400e+09, 1.31846400e+09],\n",
       "        [1.31846400e+09, 7.00000062e+17, 1.31846400e+09],\n",
       "        [1.31846400e+09, 1.31846400e+09, 1.40000006e+18]],\n",
       "\n",
       "       [[6.00000062e+17, 8.57001600e+08, 8.57001600e+08],\n",
       "        [8.57001600e+08, 6.00000062e+17, 8.57001600e+08],\n",
       "        [8.57001600e+08, 8.57001600e+08, 1.20000006e+18]],\n",
       "\n",
       "       [[5.00000061e+17, 5.17968000e+08, 5.17968000e+08],\n",
       "        [5.17968000e+08, 5.00000061e+17, 5.17968000e+08],\n",
       "        [5.17968000e+08, 5.17968000e+08, 1.00000006e+18]],\n",
       "\n",
       "       [[4.00000061e+17, 2.82528000e+08, 2.82528000e+08],\n",
       "        [2.82528000e+08, 4.00000061e+17, 2.82528000e+08],\n",
       "        [2.82528000e+08, 2.82528000e+08, 8.00000061e+17]],\n",
       "\n",
       "       [[3.00000061e+17, 1.31846400e+08, 1.31846400e+08],\n",
       "        [1.31846400e+08, 3.00000061e+17, 1.31846400e+08],\n",
       "        [1.31846400e+08, 1.31846400e+08, 6.00000061e+17]],\n",
       "\n",
       "       [[2.00000061e+17, 4.70880000e+07, 4.70880000e+07],\n",
       "        [4.70880000e+07, 2.00000061e+17, 4.70880000e+07],\n",
       "        [4.70880000e+07, 4.70880000e+07, 4.00000061e+17]],\n",
       "\n",
       "       [[1.00000061e+17, 9.41760000e+06, 9.41760000e+06],\n",
       "        [9.41760000e+06, 1.00000061e+17, 9.41760000e+06],\n",
       "        [9.41760000e+06, 9.41760000e+06, 2.00000061e+17]]])"
      ]
     },
     "execution_count": 25,
     "metadata": {},
     "output_type": "execute_result"
    }
   ],
   "source": [
    "Irho"
   ]
  },
  {
   "cell_type": "code",
   "execution_count": 26,
   "metadata": {},
   "outputs": [],
   "source": [
    "qw = 1025 # Water density [kg/m3]\n",
    "d0 = 0.761 # Outer diameter of pipe, [m]\n",
    "dI= 0.69 # Inner diameter of pipe, [m]"
   ]
  },
  {
   "cell_type": "code",
   "execution_count": 27,
   "metadata": {},
   "outputs": [],
   "source": [
    "Ar=math.pi*((d0/2)**2-(dI/2)**2)"
   ]
  },
  {
   "cell_type": "code",
   "execution_count": 28,
   "metadata": {},
   "outputs": [
    {
     "data": {
      "text/plain": [
       "0.005336285849082509"
      ]
     },
     "execution_count": 28,
     "metadata": {},
     "output_type": "execute_result"
    }
   ],
   "source": [
    "math.pi*(d0**4-dI**4)/64"
   ]
  },
  {
   "cell_type": "code",
   "execution_count": 29,
   "metadata": {},
   "outputs": [],
   "source": [
    "E = 210e9"
   ]
  },
  {
   "cell_type": "code",
   "execution_count": 30,
   "metadata": {},
   "outputs": [
    {
     "data": {
      "text/plain": [
       "1.6991625880187402"
      ]
     },
     "execution_count": 30,
     "metadata": {},
     "output_type": "execute_result"
    }
   ],
   "source": [
    "E*Ar/1e10"
   ]
  },
  {
   "cell_type": "code",
   "execution_count": 31,
   "metadata": {},
   "outputs": [],
   "source": [
    "diag_DT = 1.5*np.array([1, 1, 1]) "
   ]
  },
  {
   "cell_type": "code",
   "execution_count": 32,
   "metadata": {},
   "outputs": [],
   "source": [
    "DT=np.diag(diag_DT) # (35) in [2]"
   ]
  },
  {
   "cell_type": "code",
   "execution_count": 33,
   "metadata": {},
   "outputs": [
    {
     "data": {
      "text/plain": [
       "array([[1.5, 0. , 0. ],\n",
       "       [0. , 1.5, 0. ],\n",
       "       [0. , 0. , 1.5]])"
      ]
     },
     "execution_count": 33,
     "metadata": {},
     "output_type": "execute_result"
    }
   ],
   "source": [
    "DT"
   ]
  },
  {
   "cell_type": "code",
   "execution_count": 34,
   "metadata": {},
   "outputs": [],
   "source": [
    "# diag_CT = 1e9*np.array([1, 1, 1]) # [Nm2] p. 4721 in [3]\n",
    "diag_CT = 1e10*np.array([1.7, 1.7, 1.7]) # !!!!!!!!!!!!!!!!!!!!!!!!!!!!!!!!!!!!!!!!!!!!!!!!!!!"
   ]
  },
  {
   "cell_type": "code",
   "execution_count": 35,
   "metadata": {},
   "outputs": [],
   "source": [
    "CT=np.diag(diag_CT)"
   ]
  },
  {
   "cell_type": "code",
   "execution_count": 36,
   "metadata": {},
   "outputs": [
    {
     "data": {
      "text/plain": [
       "array([[1.7e+10, 0.0e+00, 0.0e+00],\n",
       "       [0.0e+00, 1.7e+10, 0.0e+00],\n",
       "       [0.0e+00, 0.0e+00, 1.7e+10]])"
      ]
     },
     "execution_count": 36,
     "metadata": {},
     "output_type": "execute_result"
    }
   ],
   "source": [
    "CT"
   ]
  },
  {
   "cell_type": "code",
   "execution_count": 37,
   "metadata": {},
   "outputs": [],
   "source": [
    "# angles should be in radians, otherwise np.radians them  \n",
    "def Re_t_(arr):\n",
    "    φ,θ,ψ=arr[0],arr[1],arr[2]\n",
    "  \n",
    "    Cφ=np.matrix([[1,0,0],\n",
    "                      [0,np.cos(φ),-np.sin(φ)],\n",
    "                      [0,np.sin(φ),np.cos(φ)]])\n",
    "\n",
    "    Cθ=np.matrix([[np.cos(θ),0,np.sin(θ)],\n",
    "                      [0,1,0],\n",
    "                      [-np.sin(θ),0,np.cos(θ)]])\n",
    "\n",
    "    Cψ=np.matrix([[np.cos(ψ),-np.sin(ψ),0],\n",
    "                      [np.sin(ψ),np.cos(ψ),0],\n",
    "                      [0,0,1]])\n",
    "        \n",
    "\n",
    "    return np.array(np.dot(np.dot(Cθ,Cφ),Cψ) )"
   ]
  },
  {
   "cell_type": "code",
   "execution_count": 38,
   "metadata": {},
   "outputs": [
    {
     "data": {
      "text/plain": [
       "array([[ 0.51995985, -0.69876354,  0.4912955 ],\n",
       "       [ 0.07624747, -0.53489523, -0.84147098],\n",
       "       [ 0.85078086,  0.47499117, -0.2248451 ]])"
      ]
     },
     "execution_count": 38,
     "metadata": {},
     "output_type": "execute_result"
    }
   ],
   "source": [
    "Re_t_([1,2,3])"
   ]
  },
  {
   "cell_type": "code",
   "execution_count": 39,
   "metadata": {},
   "outputs": [],
   "source": [
    "rng = np.random.default_rng()"
   ]
  },
  {
   "cell_type": "code",
   "execution_count": 40,
   "metadata": {},
   "outputs": [],
   "source": [
    "φ, θ, ψ = rng.standard_normal(node_N),rng.standard_normal(node_N),rng.standard_normal(node_N)"
   ]
  },
  {
   "cell_type": "code",
   "execution_count": 41,
   "metadata": {},
   "outputs": [],
   "source": [
    "def Re_t(a,b,c):\n",
    "    xyz=np.stack((a,b,c), axis=1)\n",
    "    return np.apply_along_axis(Re_t_, 1, xyz)"
   ]
  },
  {
   "cell_type": "code",
   "execution_count": 42,
   "metadata": {},
   "outputs": [
    {
     "data": {
      "text/plain": [
       "array([[ 0.98687719, -0.01961777, -0.16027648],\n",
       "       [ 0.15033456,  0.47388757,  0.86765782],\n",
       "       [ 0.05893152, -0.88036681,  0.47061806]])"
      ]
     },
     "execution_count": 42,
     "metadata": {},
     "output_type": "execute_result"
    }
   ],
   "source": [
    "Re_t_(np.array([φ[1], θ[1], ψ[1]]))"
   ]
  },
  {
   "cell_type": "code",
   "execution_count": 43,
   "metadata": {
    "scrolled": true
   },
   "outputs": [
    {
     "name": "stdout",
     "output_type": "stream",
     "text": [
      "0:00:00.009569\n"
     ]
    }
   ],
   "source": [
    "startTime1 = datetime.now()\n",
    "Ret=Re_t(φ,θ,ψ)\n",
    "print(datetime.now() - startTime1)"
   ]
  },
  {
   "cell_type": "code",
   "execution_count": 44,
   "metadata": {},
   "outputs": [
    {
     "data": {
      "text/plain": [
       "(50, 3, 3)"
      ]
     },
     "execution_count": 44,
     "metadata": {},
     "output_type": "execute_result"
    }
   ],
   "source": [
    "Ret.shape"
   ]
  },
  {
   "cell_type": "code",
   "execution_count": 45,
   "metadata": {},
   "outputs": [],
   "source": [
    "dx,dy,dz=rng.standard_normal(node_N),rng.standard_normal(node_N),rng.standard_normal(node_N)"
   ]
  },
  {
   "cell_type": "code",
   "execution_count": 46,
   "metadata": {},
   "outputs": [],
   "source": [
    "def C1(dx,dy,dz, Ret): # here\n",
    "    B=np.vstack([np.abs(dx)*dx,(dy**2+dz**2)**0.5*dy,(dy**2+dz**2)**0.5*dz])\n",
    "    ans=np.einsum('ijk,ik->ij', Ret, np.linalg.solve(Ret,B.T.astype(np.float64)))  \n",
    "#     print(Ret[0].shape, B.T[0].shape)\n",
    "#     print(np.linalg.solve(Ret[0],B.T[0].astype(np.float64)).shape)\n",
    "#     ans=[]\n",
    "#     for i in range(len(B.T)):\n",
    "#         ans.append(np.dot(Ret[i],np.linalg.solve(Ret[i],B.T[i].astype(np.float64))))\n",
    "#         print(ans[-1])\n",
    "#     ans=np.tensordot(Ret, np.linalg.solve(Ret,B.T.astype(np.float64)),axes = 0)\n",
    "    return np.array(ans).T"
   ]
  },
  {
   "cell_type": "code",
   "execution_count": 47,
   "metadata": {},
   "outputs": [
    {
     "name": "stdout",
     "output_type": "stream",
     "text": [
      "0:00:00.000302\n"
     ]
    }
   ],
   "source": [
    "startTime1 = datetime.now()\n",
    "C1(dx,dy,dz,Ret)\n",
    "print(datetime.now() - startTime1)"
   ]
  },
  {
   "cell_type": "code",
   "execution_count": 48,
   "metadata": {},
   "outputs": [
    {
     "data": {
      "text/plain": [
       "array([[ 2.32936848e+00,  4.97297867e+00,  2.12280933e-02,\n",
       "        -1.83415827e-01,  2.77027535e+00,  1.53966675e-01,\n",
       "        -1.66572531e+00, -2.99678872e-01,  4.03731620e+00,\n",
       "         1.39141964e-02, -9.60543809e-06,  8.11527815e-01,\n",
       "         1.76860918e-01, -6.56499258e-03,  5.87166641e-01,\n",
       "         8.20814619e-01, -3.74635189e-01,  1.80060950e-02,\n",
       "         3.39510745e-01, -6.75012699e-03, -1.08295830e-02,\n",
       "        -3.49296682e-01,  3.06248439e-01,  1.24767521e+00,\n",
       "        -2.55408258e-01, -9.32514795e-01, -7.11104644e-02,\n",
       "         1.85874046e-01, -3.35103572e-01,  2.31860291e-01,\n",
       "        -4.86814832e-02, -3.88411484e+00, -1.69860396e+00,\n",
       "         1.55301670e-01, -1.19923875e+00, -1.94822558e-04,\n",
       "        -1.03754973e+00,  1.95490447e-01,  3.45398184e-01,\n",
       "        -2.29985327e+00,  2.05346673e-01, -9.32693051e-01,\n",
       "         8.49690054e-05, -3.34460626e+00,  7.36455909e-01,\n",
       "        -6.11972460e+00, -4.28377908e-02,  2.08829649e-01,\n",
       "         1.07477722e-03,  4.74440811e-01],\n",
       "       [ 1.11722574e+00,  5.88122893e-01,  7.27685498e-02,\n",
       "         1.37761225e-01,  1.24460798e-01,  4.03126837e-02,\n",
       "        -1.28931710e+00,  5.55265682e+00,  3.02332719e+00,\n",
       "         7.06155935e-01,  1.02385132e+00, -3.35736872e-01,\n",
       "        -5.37924851e-01,  2.77238855e+00, -1.33890617e-01,\n",
       "         1.45536885e+00, -2.28530725e-01,  2.79096507e+00,\n",
       "        -4.03789184e-01,  4.77836392e-02,  2.47365054e-01,\n",
       "        -5.78105252e-01,  1.71526074e+00, -8.21954482e-01,\n",
       "         1.06526161e+00, -4.38639617e+00, -1.35013059e+00,\n",
       "         1.66800744e+00,  1.13246456e+00, -1.81255062e-01,\n",
       "        -7.18889000e-01, -3.17477599e-01,  7.08126049e-01,\n",
       "         4.69534760e-01,  5.86737822e-01, -6.69977394e-01,\n",
       "         8.16942955e-01, -1.48834075e+00, -1.76839946e-01,\n",
       "         3.48010382e+00,  3.08056942e-01,  5.62157616e-01,\n",
       "         1.03373688e+01, -1.16546186e+00,  4.68817327e-01,\n",
       "        -2.14103227e+00, -1.99931059e-02,  1.53934511e-01,\n",
       "         7.02145811e-02,  2.34841995e+00],\n",
       "       [ 3.56477897e-01, -1.22069373e+00, -1.54712758e-02,\n",
       "        -4.26767238e-01,  1.71448404e-01, -1.22157041e-02,\n",
       "        -8.86990443e-02,  8.48294182e-01, -2.82608160e+00,\n",
       "        -2.63212632e+00,  3.89341797e-01,  4.20884343e-01,\n",
       "        -4.38949745e+00, -1.64818251e+00, -3.06075706e-01,\n",
       "         3.45315030e-01, -1.08094905e+00,  1.39306424e+00,\n",
       "         9.29838118e-01, -1.11639267e-01,  1.63053439e-01,\n",
       "        -1.38642921e+00, -1.63542095e-01, -3.10092122e+00,\n",
       "         1.10142822e+00, -4.75491448e-01, -1.37678388e-01,\n",
       "         8.76558905e-01,  7.24240556e-02, -1.63604331e+00,\n",
       "         1.28671252e+00, -4.75148249e-01,  1.92683566e+00,\n",
       "         6.89197275e-03, -1.21953909e-01, -1.13966526e+00,\n",
       "         3.92676218e+00, -3.38159475e+00,  1.63294965e+00,\n",
       "        -1.57355168e+00, -1.22932549e-01,  2.48220406e-01,\n",
       "        -1.10668202e+01, -9.87235590e-01,  1.66644347e+00,\n",
       "         1.51641822e+00,  3.13325188e-02, -8.66304004e-02,\n",
       "        -9.32372651e-02,  1.45198323e+00]])"
      ]
     },
     "execution_count": 48,
     "metadata": {},
     "output_type": "execute_result"
    }
   ],
   "source": [
    "C1(dx,dy,dz,Ret)"
   ]
  },
  {
   "cell_type": "code",
   "execution_count": 49,
   "metadata": {},
   "outputs": [],
   "source": [
    "def fD(dx,dy,dz,DT,Ret):\n",
    "    return 1/2*d0*qw*np.dot(DT, C1(dx,dy,dz,Ret))*9.81"
   ]
  },
  {
   "cell_type": "code",
   "execution_count": 50,
   "metadata": {},
   "outputs": [
    {
     "data": {
      "text/plain": [
       "array([[ 1.33683247e+04,  6.41179646e+03,  2.04583875e+03],\n",
       "       [ 2.85400934e+04,  3.37525724e+03, -7.00560276e+03],\n",
       "       [ 1.21828748e+02,  4.17621177e+02, -8.87901770e+01],\n",
       "       [-1.05262966e+03,  7.90616344e+02, -2.44923167e+03],\n",
       "       [ 1.58987043e+04,  7.14284743e+02,  9.83948208e+02],\n",
       "       [ 8.83619973e+02,  2.31355860e+02, -7.01063402e+01],\n",
       "       [-9.55965410e+03, -7.39943461e+03, -5.09046825e+02],\n",
       "       [-1.71986722e+03,  3.18668859e+04,  4.86838910e+03],\n",
       "       [ 2.31702947e+04,  1.73509773e+04, -1.62189782e+04],\n",
       "       [ 7.98540456e+01,  4.05265288e+03, -1.51058623e+04],\n",
       "       [-5.51259352e-02,  5.87591750e+03,  2.23444579e+03],\n",
       "       [ 4.65738567e+03, -1.92680530e+03,  2.41546953e+03],\n",
       "       [ 1.01501081e+03, -3.08716897e+03, -2.51914748e+04],\n",
       "       [-3.76767152e+01,  1.59108320e+04, -9.45897538e+03],\n",
       "       [ 3.36976928e+03, -7.68402794e+02, -1.75657887e+03],\n",
       "       [ 4.71068295e+03,  8.35241125e+03,  1.98177468e+03],\n",
       "       [-2.15004406e+03, -1.31154559e+03, -6.20360331e+03],\n",
       "       [ 1.03337590e+02,  1.60174432e+04,  7.99484293e+03],\n",
       "       [ 1.94846369e+03, -2.31735983e+03,  5.33637251e+03],\n",
       "       [-3.87392079e+01,  2.74231927e+02, -6.40701541e+02],\n",
       "       [-6.21513442e+01,  1.41963644e+03,  9.35769223e+02],\n",
       "       [-2.00462551e+03, -3.31776566e+03, -7.95676428e+03],\n",
       "       [ 1.75757018e+03,  9.84393957e+03, -9.38573636e+02],\n",
       "       [ 7.16045036e+03, -4.71722467e+03, -1.77962921e+04],\n",
       "       [-1.46579666e+03,  6.11357254e+03,  6.32113396e+03],\n",
       "       [-5.35173406e+03, -2.51736765e+04, -2.72886155e+03],\n",
       "       [-4.08105368e+02, -7.74844530e+03, -7.90140942e+02],\n",
       "       [ 1.06673746e+03,  9.57275130e+03,  5.03060131e+03],\n",
       "       [-1.92317077e+03,  6.49925257e+03,  4.15644113e+02],\n",
       "       [ 1.33065408e+03, -1.04022895e+03, -9.38930810e+03],\n",
       "       [-2.79384684e+02, -4.12572837e+03,  7.38448684e+03],\n",
       "       [-2.22910669e+04, -1.82201472e+03, -2.72689193e+03],\n",
       "       [-9.74834575e+03,  4.06395943e+03,  1.10581753e+04],\n",
       "       [ 8.91281557e+02,  2.69467592e+03,  3.95532655e+01],\n",
       "       [-6.88247191e+03,  3.36730827e+03, -6.99897625e+02],\n",
       "       [-1.11809327e+00, -3.84502300e+03, -6.54057760e+03],\n",
       "       [-5.95453309e+03,  4.68846335e+03,  2.25358214e+04],\n",
       "       [ 1.12192631e+03, -8.54163808e+03, -1.94070870e+04],\n",
       "       [ 1.98225190e+03, -1.01489045e+03,  9.37155346e+03],\n",
       "       [-1.31989360e+04,  1.99724339e+04, -9.03066651e+03],\n",
       "       [ 1.17849153e+03,  1.76794924e+03, -7.05514073e+02],\n",
       "       [-5.35275707e+03,  3.22624164e+03,  1.42454533e+03],\n",
       "       [ 4.87640005e-01,  5.93265103e+04, -6.35128569e+04],\n",
       "       [-1.91948088e+04, -6.68862515e+03, -5.66577856e+03],\n",
       "       [ 4.22654545e+03,  2.69055855e+03,  9.56377561e+03],\n",
       "       [-3.51213072e+04, -1.22874568e+04,  8.70277564e+03],\n",
       "       [-2.45847535e+02, -1.14741113e+02,  1.79818389e+02],\n",
       "       [ 1.19848044e+03,  8.83435382e+02, -4.97174808e+02],\n",
       "       [ 6.16818293e+00,  4.02963864e+02, -5.35091829e+02],\n",
       "       [ 2.72283192e+03,  1.34776618e+04,  8.33298104e+03]])"
      ]
     },
     "execution_count": 50,
     "metadata": {},
     "output_type": "execute_result"
    }
   ],
   "source": [
    "fD(dx,dy,dz,DT,Ret).T"
   ]
  },
  {
   "cell_type": "code",
   "execution_count": 51,
   "metadata": {},
   "outputs": [
    {
     "name": "stdout",
     "output_type": "stream",
     "text": [
      "0:00:00.000304\n"
     ]
    }
   ],
   "source": [
    "startTime1 = datetime.now()\n",
    "fD(dx,dy,dz,DT,Ret)\n",
    "print(datetime.now() - startTime1)"
   ]
  },
  {
   "cell_type": "code",
   "execution_count": 52,
   "metadata": {},
   "outputs": [],
   "source": [
    "# https://docs.scipy.org/doc/scipy-1.8.0/tutorial/integrate.html  \n",
    "# 1-D Gray-Scott "
   ]
  },
  {
   "cell_type": "code",
   "execution_count": 53,
   "metadata": {},
   "outputs": [],
   "source": [
    "I=np.identity(3)"
   ]
  },
  {
   "cell_type": "code",
   "execution_count": 54,
   "metadata": {},
   "outputs": [
    {
     "name": "stdout",
     "output_type": "stream",
     "text": [
      "0:00:00.001680\n"
     ]
    }
   ],
   "source": [
    "startTime1 = datetime.now()\n",
    "np.dot(I,fD(dx,dy,dz,DT,Ret))\n",
    "print(datetime.now() - startTime1)"
   ]
  },
  {
   "cell_type": "code",
   "execution_count": 55,
   "metadata": {},
   "outputs": [],
   "source": [
    "Rb_t=I # https://www.researchgate.net/profile/Thor-Fossen/publication/224560837_Modeling_and_Control_of_Offshore_Pipelay_Operations_Based_on_a_Finite_Strain_Pipe_Model/links/00b7d520e175a3f918000000/Modeling-and-Control-of-Offshore-Pipelay-Operations-Based-on-a-Finite-Strain-Pipe-Model.pdf"
   ]
  },
  {
   "cell_type": "code",
   "execution_count": 56,
   "metadata": {},
   "outputs": [
    {
     "data": {
      "text/plain": [
       "array([[1., 0., 0.],\n",
       "       [0., 1., 0.],\n",
       "       [0., 0., 1.]])"
      ]
     },
     "execution_count": 56,
     "metadata": {},
     "output_type": "execute_result"
    }
   ],
   "source": [
    "Rb_t"
   ]
  },
  {
   "cell_type": "code",
   "execution_count": 57,
   "metadata": {},
   "outputs": [],
   "source": [
    "diag_DR = 1.5*np.array([1, 1, 1]) # [N m/rad]  p.4721 in [3]"
   ]
  },
  {
   "cell_type": "code",
   "execution_count": 58,
   "metadata": {},
   "outputs": [],
   "source": [
    "DR=np.diag(diag_DR) "
   ]
  },
  {
   "cell_type": "code",
   "execution_count": 59,
   "metadata": {},
   "outputs": [
    {
     "data": {
      "text/plain": [
       "0.08091250419136858"
      ]
     },
     "execution_count": 59,
     "metadata": {},
     "output_type": "execute_result"
    }
   ],
   "source": [
    "Ar"
   ]
  },
  {
   "cell_type": "code",
   "execution_count": 60,
   "metadata": {},
   "outputs": [],
   "source": [
    "fg_e=np.array([[0,0,(mp-qw*Ar)*9.81] for x in range(node_N)])"
   ]
  },
  {
   "cell_type": "code",
   "execution_count": 61,
   "metadata": {},
   "outputs": [
    {
     "data": {
      "text/plain": [
       "array([[  0.        ,   0.        , 128.16454223],\n",
       "       [  0.        ,   0.        , 128.16454223],\n",
       "       [  0.        ,   0.        , 128.16454223],\n",
       "       [  0.        ,   0.        , 128.16454223],\n",
       "       [  0.        ,   0.        , 128.16454223],\n",
       "       [  0.        ,   0.        , 128.16454223],\n",
       "       [  0.        ,   0.        , 128.16454223],\n",
       "       [  0.        ,   0.        , 128.16454223],\n",
       "       [  0.        ,   0.        , 128.16454223],\n",
       "       [  0.        ,   0.        , 128.16454223],\n",
       "       [  0.        ,   0.        , 128.16454223],\n",
       "       [  0.        ,   0.        , 128.16454223],\n",
       "       [  0.        ,   0.        , 128.16454223],\n",
       "       [  0.        ,   0.        , 128.16454223],\n",
       "       [  0.        ,   0.        , 128.16454223],\n",
       "       [  0.        ,   0.        , 128.16454223],\n",
       "       [  0.        ,   0.        , 128.16454223],\n",
       "       [  0.        ,   0.        , 128.16454223],\n",
       "       [  0.        ,   0.        , 128.16454223],\n",
       "       [  0.        ,   0.        , 128.16454223],\n",
       "       [  0.        ,   0.        , 128.16454223],\n",
       "       [  0.        ,   0.        , 128.16454223],\n",
       "       [  0.        ,   0.        , 128.16454223],\n",
       "       [  0.        ,   0.        , 128.16454223],\n",
       "       [  0.        ,   0.        , 128.16454223],\n",
       "       [  0.        ,   0.        , 128.16454223],\n",
       "       [  0.        ,   0.        , 128.16454223],\n",
       "       [  0.        ,   0.        , 128.16454223],\n",
       "       [  0.        ,   0.        , 128.16454223],\n",
       "       [  0.        ,   0.        , 128.16454223],\n",
       "       [  0.        ,   0.        , 128.16454223],\n",
       "       [  0.        ,   0.        , 128.16454223],\n",
       "       [  0.        ,   0.        , 128.16454223],\n",
       "       [  0.        ,   0.        , 128.16454223],\n",
       "       [  0.        ,   0.        , 128.16454223],\n",
       "       [  0.        ,   0.        , 128.16454223],\n",
       "       [  0.        ,   0.        , 128.16454223],\n",
       "       [  0.        ,   0.        , 128.16454223],\n",
       "       [  0.        ,   0.        , 128.16454223],\n",
       "       [  0.        ,   0.        , 128.16454223],\n",
       "       [  0.        ,   0.        , 128.16454223],\n",
       "       [  0.        ,   0.        , 128.16454223],\n",
       "       [  0.        ,   0.        , 128.16454223],\n",
       "       [  0.        ,   0.        , 128.16454223],\n",
       "       [  0.        ,   0.        , 128.16454223],\n",
       "       [  0.        ,   0.        , 128.16454223],\n",
       "       [  0.        ,   0.        , 128.16454223],\n",
       "       [  0.        ,   0.        , 128.16454223],\n",
       "       [  0.        ,   0.        , 128.16454223],\n",
       "       [  0.        ,   0.        , 128.16454223]])"
      ]
     },
     "execution_count": 61,
     "metadata": {},
     "output_type": "execute_result"
    }
   ],
   "source": [
    "fg_e"
   ]
  },
  {
   "cell_type": "code",
   "execution_count": 62,
   "metadata": {},
   "outputs": [],
   "source": [
    "x,y,z=rng.standard_normal(node_N),rng.standard_normal(node_N),rng.standard_normal(node_N)"
   ]
  },
  {
   "cell_type": "code",
   "execution_count": 63,
   "metadata": {},
   "outputs": [],
   "source": [
    "def Re_b(Ret):\n",
    "    return Ret"
   ]
  },
  {
   "cell_type": "code",
   "execution_count": 64,
   "metadata": {},
   "outputs": [
    {
     "name": "stdout",
     "output_type": "stream",
     "text": [
      "0:00:00.000081\n"
     ]
    }
   ],
   "source": [
    "startTime1 = datetime.now()\n",
    "Re_b(Ret)\n",
    "print(datetime.now() - startTime1)"
   ]
  },
  {
   "cell_type": "code",
   "execution_count": 65,
   "metadata": {},
   "outputs": [],
   "source": [
    "def phi(x, y, z, Ret,dummy,dummy1): # here\n",
    "    B=np.vstack([x,y,z])\n",
    "    return np.linalg.solve(Ret.astype(np.float64),B.T.astype(np.float64))\n",
    "#     return np.einsum('ijk,ik->ij', Ret,B.T.astype(np.float64))"
   ]
  },
  {
   "cell_type": "code",
   "execution_count": 66,
   "metadata": {},
   "outputs": [
    {
     "data": {
      "text/plain": [
       "array([[-1.34998147,  1.50352141, -0.21827307],\n",
       "       [-0.8995176 , -0.18484768, -0.53160013],\n",
       "       [ 0.67260264, -0.4485501 ,  0.37766009],\n",
       "       [-1.32668324,  0.97194183,  0.33048449],\n",
       "       [-1.17928096, -1.61759125, -1.77160093],\n",
       "       [-0.92109516, -0.88849115,  2.4448253 ],\n",
       "       [-0.53352736,  0.39041726, -0.94863194],\n",
       "       [-0.47998152,  1.17698055, -1.14957049],\n",
       "       [ 2.15904687,  0.82278371, -0.4866185 ],\n",
       "       [-0.05489266, -0.45910744, -1.41719508],\n",
       "       [ 1.41281878,  1.58765135,  1.06983554],\n",
       "       [ 2.48352499, -2.46050688,  0.52112576],\n",
       "       [-0.04937304, -0.30599851,  0.3413376 ],\n",
       "       [ 0.00534921, -2.26509561, -1.07122124],\n",
       "       [-0.78110165,  0.19979121,  0.36901054],\n",
       "       [-0.91532027,  0.15403902, -1.04040907],\n",
       "       [ 1.19480755,  1.24426445,  1.60897219],\n",
       "       [ 0.24165833, -0.46459608,  0.82970741],\n",
       "       [ 1.1113197 ,  1.1059352 ,  0.51426894],\n",
       "       [ 1.16160582,  0.73330788, -1.23419918],\n",
       "       [-0.04918363, -0.7765647 , -1.37059557],\n",
       "       [-0.47439368, -0.26119663, -1.01958028],\n",
       "       [ 0.53424931,  0.09653368, -0.23482847],\n",
       "       [ 0.80967936,  0.64706368, -0.82621752],\n",
       "       [-1.5131625 , -1.58499251, -0.26106605],\n",
       "       [-0.59004398, -0.23668239, -0.02875636],\n",
       "       [-0.86539351,  0.53347218,  0.97737249],\n",
       "       [-0.17568448, -1.06213766, -1.36780988],\n",
       "       [-0.65678105, -0.09175487, -2.21402241],\n",
       "       [-1.03119824, -0.41540537, -0.52788001],\n",
       "       [-0.09519361,  1.28690631, -0.45782181],\n",
       "       [-0.29796666, -0.58578288,  2.10279799],\n",
       "       [-0.63219916, -0.92527247,  0.53744849],\n",
       "       [ 0.81517268, -0.45291586, -0.66384858],\n",
       "       [-3.07540208, -0.77846662, -1.2694679 ],\n",
       "       [-0.71679172, -1.10177018, -0.51364002],\n",
       "       [ 0.69810404,  1.38544674,  1.23650163],\n",
       "       [-0.26622379, -0.65300602,  2.05225891],\n",
       "       [ 0.4718082 ,  0.93404247,  1.55153912],\n",
       "       [ 0.34281793, -0.40047487, -0.40020096],\n",
       "       [-1.51110987,  1.04426514, -1.60952609],\n",
       "       [-0.05749207,  0.53256968,  0.19473841],\n",
       "       [ 0.09689927, -0.37844346,  0.29638336],\n",
       "       [-0.75622005,  0.64267775,  1.78055439],\n",
       "       [ 0.40145436,  1.50836063, -1.64487632],\n",
       "       [-0.43265999,  0.5004164 , -1.63255146],\n",
       "       [ 0.02371138, -1.20109854,  0.14464442],\n",
       "       [-0.98368757, -0.04089526,  0.27945386],\n",
       "       [-0.92415942, -1.10664994, -0.71467421],\n",
       "       [ 1.34590113, -0.404754  , -1.01039116]])"
      ]
     },
     "execution_count": 66,
     "metadata": {},
     "output_type": "execute_result"
    }
   ],
   "source": [
    "phi(x,y,z,Ret,None,None)"
   ]
  },
  {
   "cell_type": "code",
   "execution_count": 67,
   "metadata": {},
   "outputs": [
    {
     "name": "stdout",
     "output_type": "stream",
     "text": [
      "0:00:00.000372\n"
     ]
    }
   ],
   "source": [
    "startTime1 = datetime.now()\n",
    "phi(x,y,z,Ret,None,None)\n",
    "print(datetime.now() - startTime1)"
   ]
  },
  {
   "cell_type": "code",
   "execution_count": 68,
   "metadata": {},
   "outputs": [],
   "source": [
    "def Π_(arr):\n",
    "    φ,θ,ψ=arr[0],arr[1],arr[2]\n",
    "    return np.array([[np.cos(θ),0,np.cos(φ)*np.sin(θ)],\n",
    "                  [0,1,-np.sin(φ)],\n",
    "                  [-np.sin(θ),0,np.cos(φ)*np.cos(θ)]])"
   ]
  },
  {
   "cell_type": "code",
   "execution_count": 69,
   "metadata": {},
   "outputs": [],
   "source": [
    "def Π(a,b,c):\n",
    "    xyz=np.stack((a,b,c), axis=1)\n",
    "  \n",
    "    return np.apply_along_axis(Π_, 1, xyz)\n",
    "    "
   ]
  },
  {
   "cell_type": "code",
   "execution_count": 70,
   "metadata": {},
   "outputs": [
    {
     "name": "stdout",
     "output_type": "stream",
     "text": [
      "0:00:00.005458\n"
     ]
    }
   ],
   "source": [
    "startTime1 = datetime.now()\n",
    "Π(φ,θ,ψ).shape\n",
    "print(datetime.now() - startTime1)"
   ]
  },
  {
   "cell_type": "code",
   "execution_count": 71,
   "metadata": {},
   "outputs": [],
   "source": [
    "def ωe(φ,θ,ψ, dummy,dummy1,dummy2): # here # (100) in [2]\n",
    "    A=Π(φ,θ,ψ)\n",
    "    B=np.vstack([φ,θ,ψ])\n",
    "    return np.einsum('ijk,ik->ij',A,B.T.astype(np.float64))"
   ]
  },
  {
   "cell_type": "code",
   "execution_count": 72,
   "metadata": {},
   "outputs": [
    {
     "name": "stdout",
     "output_type": "stream",
     "text": [
      "0:00:00.004229\n"
     ]
    }
   ],
   "source": [
    "startTime1 = datetime.now()\n",
    "ωe(φ,θ,ψ,None,None,None)\n",
    "print(datetime.now() - startTime1)"
   ]
  },
  {
   "cell_type": "code",
   "execution_count": 73,
   "metadata": {},
   "outputs": [
    {
     "data": {
      "text/plain": [
       "array([[-1.31993135e-01,  1.37473203e+00, -2.22902987e+00],\n",
       "       [-1.04362235e+00, -6.17060924e-02, -1.94082871e-01],\n",
       "       [-1.34617202e+00,  8.96572008e-01, -6.26887900e-01],\n",
       "       [-1.56993127e+00,  1.86394571e+00, -6.63364321e-01],\n",
       "       [-6.08925059e-01,  3.33431197e-01,  1.68322415e-01],\n",
       "       [ 5.20775389e-01, -7.56701548e-01,  4.59760139e-01],\n",
       "       [-1.26420947e+00, -3.84263624e+00,  5.36987299e-01],\n",
       "       [-7.30900215e-01,  3.63624370e-02, -3.58929838e-01],\n",
       "       [ 6.25844772e-01,  6.55444374e-01, -1.59013161e+00],\n",
       "       [-2.14177248e+00, -1.19817982e+00, -3.67092103e-01],\n",
       "       [-2.42994960e-01,  1.84555606e+00, -8.68278398e-01],\n",
       "       [ 1.63207971e-01,  8.32001210e-01,  2.85228872e-01],\n",
       "       [ 1.42022192e-01, -3.73216258e-01,  8.34656250e-01],\n",
       "       [-1.33440972e+00,  4.56528255e-01,  3.25725169e-02],\n",
       "       [-7.66434329e-01, -4.89848130e-01, -3.44227596e-01],\n",
       "       [-6.84970898e-01, -7.72641275e-02, -1.09344876e-01],\n",
       "       [ 1.44376676e+00,  8.35724422e-01, -1.14433270e+00],\n",
       "       [-8.53691491e-02, -1.02891860e+00,  1.67955460e+00],\n",
       "       [ 6.71525087e-02, -1.91980626e+00,  1.35858325e+00],\n",
       "       [ 1.41470486e+00, -4.36276494e-01,  8.46644018e-01],\n",
       "       [-9.49548488e-01, -2.21692382e-02, -6.91301033e-01],\n",
       "       [-8.89299295e-01,  5.17982986e-02,  3.62258025e-02],\n",
       "       [ 3.37380955e-01,  8.53875014e-01, -2.76666505e-01],\n",
       "       [-2.63644785e-01, -3.01183469e-01, -1.29074250e-01],\n",
       "       [ 8.03337862e-01,  3.96105070e-01, -3.69986235e-01],\n",
       "       [-4.54870996e-01,  1.48865773e+00,  6.95159113e-01],\n",
       "       [ 9.61231228e-01,  1.58006113e+00, -8.49743355e-02],\n",
       "       [ 1.38002197e-01,  1.35047194e+00,  5.28669104e-01],\n",
       "       [-5.49862457e-01,  1.01989129e+00,  1.33639844e+00],\n",
       "       [-1.56120810e+00, -1.24735169e+00, -9.39066932e-01],\n",
       "       [-6.83058232e-01, -5.17893311e-01,  3.14091470e-01],\n",
       "       [-1.68665728e-01, -8.04984455e-02, -3.56220576e-01],\n",
       "       [-1.45044065e+00, -1.31889910e+00,  7.23747164e-01],\n",
       "       [-4.59657355e-01, -1.04543971e-01,  1.66407420e+00],\n",
       "       [ 1.05403874e+00,  6.24673975e-02, -4.26441001e-01],\n",
       "       [ 3.39106511e-01, -1.47806146e+00, -7.84346476e-04],\n",
       "       [-8.92342649e-01,  4.64777200e-01,  4.69535057e-01],\n",
       "       [ 4.31680281e-02, -1.47626379e+00,  9.94364539e-01],\n",
       "       [-1.29260040e+00,  1.54737895e-01,  6.61438308e-01],\n",
       "       [ 2.17058307e-01, -1.02112558e+00,  5.89915047e-01],\n",
       "       [ 1.67971963e-02, -1.76464041e+00, -3.83224642e-01],\n",
       "       [-1.32492001e+00,  8.16475955e-01, -4.09972307e-01],\n",
       "       [-1.28076754e-01,  6.53529328e-01,  4.55428928e-01],\n",
       "       [-7.19096477e-01, -1.16594164e+00, -9.52909689e-01],\n",
       "       [ 4.72552887e-01,  5.45386971e-01,  3.08589635e-01],\n",
       "       [ 3.35105934e-03,  1.24624935e+00,  8.05921953e-01],\n",
       "       [ 8.71936131e-01, -3.20626845e-01,  2.83210727e-01],\n",
       "       [-3.77941263e-01, -1.34090897e-01, -1.42665945e+00],\n",
       "       [ 6.61671949e-01,  3.17565525e-01,  5.40711527e-01],\n",
       "       [-5.72408922e-01,  1.97969043e-01,  3.27900821e-01]])"
      ]
     },
     "execution_count": 73,
     "metadata": {},
     "output_type": "execute_result"
    }
   ],
   "source": [
    "ωe(φ,θ,ψ,None,None,None)"
   ]
  },
  {
   "cell_type": "code",
   "execution_count": 74,
   "metadata": {},
   "outputs": [],
   "source": [
    "def d_s(f,a,b,c,Ret,omega): # here\n",
    "    \n",
    "    fun = f(a,b,c,Ret,omega, None) \n",
    "    \n",
    "#     if flag==1:\n",
    "#         fun+=-np.dot(Ret,force)\n",
    "# #         fun*=-np.dot(Ret,force)\n",
    "#     elif flag==2:\n",
    "#         fun+=-np.dot(np.einsum('ijk,ikr->ijr',np.linalg.inv(Π(φ,θ,ψ).astype(np.float64)),Re_b(Ret)),force)\n",
    "#         fun*=-np.dot(np.einsum('ijk,ikr->ijr',np.linalg.inv(Π(φ,θ,ψ).astype(np.float64)),Re_b(Ret)),force)\n",
    "#     print(np.einsum('ijk,ikr->ijr',np.linalg.inv(Π(φ,θ,ψ).astype(np.float64)),Re_b(Ret)))\n",
    "#     print(np.dot(np.linalg.inv(Π(φ,θ,ψ).astype(np.float64))[2],Re_b(Ret)[2]))\n",
    "        \n",
    "# #     print(fun)\n",
    "#     if any(force):\n",
    "# #         fun[-1]=-np.array(force)\n",
    "#         fun[-1]=-np.dot(Ret[-1],force)\n",
    "# #         fun+=-np.dot(Ret,force) # !!!!!!!!!!!!!!!!!!!!!!!!!!!!!!!!!!!!!!!!!!!!!!!!!!!!!!!!!\n",
    "# #     print(fun)\n",
    "\n",
    "    def S(arr):\n",
    "        a1,a2,a3=arr[0],arr[1],arr[2]\n",
    "        return np.array([[0, -a3, a2 ],\n",
    "                         [a3, 0, -a1],\n",
    "                        [-a2, a1, 0]])\n",
    "    K=np.apply_along_axis(S, 1, omega)\n",
    "    \n",
    "    \n",
    "   \n",
    "    return np.einsum('ijk,ik->ij',K, fun).T"
   ]
  },
  {
   "cell_type": "code",
   "execution_count": 75,
   "metadata": {},
   "outputs": [],
   "source": [
    "φ, θ, ψ = np.array([0.1 for i in range(node_N)]),np.array([0.01 for i in range(node_N)]),np.array([0.01 for i in range(node_N)])"
   ]
  },
  {
   "cell_type": "code",
   "execution_count": 76,
   "metadata": {},
   "outputs": [
    {
     "data": {
      "text/plain": [
       "array([[-1.54206775e-02, -3.13098114e-03,  7.41389631e-03,\n",
       "        -5.72354161e-03, -1.47062824e-03,  2.99591060e-02,\n",
       "        -1.20333307e-02, -2.08815084e-02, -1.17439300e-02,\n",
       "        -8.64830653e-03, -4.57848029e-03,  2.67114560e-02,\n",
       "         5.81115930e-03,  1.06288353e-02,  1.53366593e-03,\n",
       "        -1.07439963e-02,  3.34780967e-03,  1.16266797e-02,\n",
       "        -5.26835712e-03, -1.76726321e-02, -5.38773031e-03,\n",
       "        -6.84032584e-03, -2.97778141e-03, -1.32282698e-02,\n",
       "         1.18349576e-02,  1.85934826e-03,  4.02363888e-03,\n",
       "        -2.80690182e-03, -1.91087241e-02, -1.03410375e-03,\n",
       "        -1.56384053e-02,  2.41711843e-02,  1.31187139e-02,\n",
       "        -1.92234504e-03, -4.46039149e-03,  5.23674342e-03,\n",
       "        -1.26856544e-03,  2.43178661e-02,  5.60716679e-03,\n",
       "        -1.84011175e-05, -2.38341304e-02, -3.01329462e-03,\n",
       "         6.05484673e-03,  1.02762720e-02, -2.83057922e-02,\n",
       "        -1.91741897e-02,  1.20513452e-02,  2.88154486e-03,\n",
       "         3.47077260e-03, -5.47283309e-03],\n",
       "       [ 9.76619203e-03,  4.51599609e-02, -3.17821994e-02,\n",
       "        -4.49529114e-02,  1.66773460e-01, -2.52956961e-01,\n",
       "         9.01780025e-02,  1.10770058e-01,  6.80303564e-02,\n",
       "         1.41362166e-01, -9.44405450e-02, -2.99353642e-02,\n",
       "        -3.46078830e-02,  1.07271227e-01, -4.39264416e-02,\n",
       "         9.59475095e-02, -1.50356262e-01, -8.08864118e-02,\n",
       "        -4.15296689e-02,  1.33932410e-01,  1.36748905e-01,\n",
       "         9.78087620e-02,  2.82863347e-02,  8.99461030e-02,\n",
       "         1.25891356e-02, -2.40228066e-03, -1.05574502e-01,\n",
       "         1.35337945e-01,  2.15733562e-01,  4.36091132e-02,\n",
       "         4.49735035e-02, -2.13145182e-01, -5.94535417e-02,\n",
       "         7.37430282e-02,  9.95432551e-02,  4.49975695e-02,\n",
       "        -1.17519286e-01, -2.07802413e-01, -1.51078054e-01,\n",
       "         4.31259843e-02,  1.47580938e-01, -2.00067727e-02,\n",
       "        -2.87991375e-02, -1.84991536e-01,  1.68235911e-01,\n",
       "         1.59537303e-01, -1.42659047e-02, -3.67753660e-02,\n",
       "         6.32641354e-02,  1.13179821e-01],\n",
       "       [ 1.62646304e-01, -1.04050792e-02, -5.09519413e-02,\n",
       "         1.09228390e-01, -1.51296492e-01, -8.06416853e-02,\n",
       "         4.38812552e-02,  1.22129911e-01,  6.29211049e-02,\n",
       "        -4.54600040e-02,  1.46197444e-01, -2.68639065e-01,\n",
       "        -3.01843280e-02, -2.26771762e-01,  2.70292175e-02,\n",
       "         2.36578653e-02,  1.13788768e-01, -4.86788391e-02,\n",
       "         1.00694301e-01,  6.29436976e-02, -7.72871198e-02,\n",
       "        -2.18740124e-02,  4.85335607e-03,  5.74790520e-02,\n",
       "        -1.45028048e-01, -1.83792263e-02,  6.11876134e-02,\n",
       "        -1.04732684e-01, -3.27203456e-03, -3.22972907e-02,\n",
       "         1.29669144e-01, -5.59514473e-02, -8.69238384e-02,\n",
       "        -5.26722979e-02, -5.02364839e-02, -1.03828815e-01,\n",
       "         1.32391498e-01, -6.29658531e-02,  8.92454531e-02,\n",
       "        -4.31712635e-02,  1.18127702e-01,  5.38248197e-02,\n",
       "        -3.87523637e-02,  7.11357474e-02,  1.47364843e-01,\n",
       "         5.39835894e-02, -1.20436798e-01,  4.76143673e-03,\n",
       "        -1.02450597e-01, -5.26290008e-02]])"
      ]
     },
     "execution_count": 76,
     "metadata": {},
     "output_type": "execute_result"
    }
   ],
   "source": [
    "d_s(phi,x,y,z,Ret, ωe(φ,θ,ψ,None,None,None))"
   ]
  },
  {
   "cell_type": "code",
   "execution_count": 77,
   "metadata": {},
   "outputs": [
    {
     "name": "stdout",
     "output_type": "stream",
     "text": [
      "0:00:00.004529\n"
     ]
    }
   ],
   "source": [
    "startTime1 = datetime.now()\n",
    "d_s(phi,x,y,z,Ret,ωe(φ,θ,ψ,None,None,None))\n",
    "print(datetime.now() - startTime1)"
   ]
  },
  {
   "cell_type": "code",
   "execution_count": 78,
   "metadata": {},
   "outputs": [],
   "source": [
    "def ne(x,y,z,Ret,omega,force): # here\n",
    "    A=np.multiply(np.multiply(Ret,CT),Ret)\n",
    "    B=d_s(phi,x,y,z,Ret,omega).T\n",
    "    return np.einsum('ijk,ik->ij', A.astype(np.float64),B\n",
    "                     -\n",
    "                     np.einsum('ijk,kp->ijp',Ret.astype(np.float64), np.array([1,0,0]).reshape(3,1)).squeeze()\n",
    "                    )"
   ]
  },
  {
   "cell_type": "code",
   "execution_count": 79,
   "metadata": {},
   "outputs": [],
   "source": [
    "# np.dot(Ret.astype(np.float64)[2],np.array([1,0,0]).reshape(3,1)).squeeze()"
   ]
  },
  {
   "cell_type": "code",
   "execution_count": 80,
   "metadata": {},
   "outputs": [],
   "source": [
    "# np.einsum('ijk,kp->ijp',Ret.astype(np.float64), np.array([1,0,0]).reshape(3,1)).squeeze()"
   ]
  },
  {
   "cell_type": "code",
   "execution_count": 81,
   "metadata": {},
   "outputs": [],
   "source": [
    "φ, θ, ψ = np.array([0.01 for i in range(node_N)]),np.array([0.000001 for i in range(node_N)]),np.array([0.000001 for i in range(node_N)])"
   ]
  },
  {
   "cell_type": "code",
   "execution_count": 82,
   "metadata": {},
   "outputs": [
    {
     "data": {
      "text/plain": [
       "array([[-1.38638252e-07,  2.01856805e-07,  1.32255028e-06,\n",
       "        -2.85257047e-06,  1.14967885e-06,  6.13580720e-07,\n",
       "        -7.04788725e-07, -1.35621706e-06, -8.70254488e-07,\n",
       "         2.13212891e-07, -2.37530489e-06,  3.36767601e-06,\n",
       "         6.81893988e-07,  4.05845688e-06, -1.39121390e-08,\n",
       "         2.64497231e-07,  2.25934194e-06,  1.14125068e-06,\n",
       "        -2.42672417e-07, -6.68061334e-07,  3.45384790e-07,\n",
       "         6.44674639e-07, -8.54181250e-07, -1.60232821e-06,\n",
       "         5.15798825e-07,  4.35710556e-07,  2.03313164e-06,\n",
       "         1.15210048e-06,  2.17284418e-06,  2.34045578e-07,\n",
       "        -1.15714463e-06,  8.04945442e-07,  1.89341471e-07,\n",
       "         1.69283996e-06, -2.28892544e-07, -5.27610643e-08,\n",
       "        -1.09537933e-06,  1.87327757e-06, -2.31079799e-06,\n",
       "         6.43166945e-08, -1.20454168e-06, -2.26715957e-07,\n",
       "         5.61265867e-07, -2.24315872e-06,  1.36125828e-07,\n",
       "         1.07752997e-07,  3.18959490e-07,  2.48744944e-08,\n",
       "         8.26898859e-07, -4.50660775e-08],\n",
       "       [-5.16784417e-03,  5.80730235e-03, -5.61127064e-03,\n",
       "         1.10154529e-02,  1.10736609e-02,  1.33586063e-02,\n",
       "         3.64479097e-03,  1.31812417e-02,  1.49748492e-03,\n",
       "         4.07908130e-03,  4.04539504e-03, -2.73946951e-02,\n",
       "        -3.21081780e-03, -1.11237639e-02,  8.14258567e-04,\n",
       "         9.20170902e-03,  1.03593283e-03, -4.04226244e-03,\n",
       "         8.16398017e-03,  2.84332357e-03,  1.03019723e-02,\n",
       "         5.09900696e-03,  5.26356622e-03,  6.68905288e-03,\n",
       "         2.51269145e-03, -5.92705023e-03, -8.61616524e-03,\n",
       "         6.66867355e-03, -3.97401982e-03,  8.73551425e-03,\n",
       "         6.85923907e-03, -1.81101560e-02, -3.35810505e-03,\n",
       "        -7.54890186e-03,  9.29077695e-03,  3.72780978e-03,\n",
       "        -6.25045116e-03,  3.85410847e-03,  3.73654811e-03,\n",
       "        -2.89917820e-04, -1.67976118e-04,  1.46960208e-03,\n",
       "        -2.78905505e-03,  4.52925007e-03, -1.19174385e-02,\n",
       "         1.12361326e-02,  2.68726460e-03, -1.39751391e-03,\n",
       "         7.29013844e-03, -4.38191812e-03],\n",
       "       [ 6.56856317e-03, -7.84665725e-03, -7.74821343e-03,\n",
       "         1.77992873e-02, -2.26877263e-02, -1.95573813e-02,\n",
       "         3.47446192e-03,  5.17944411e-04,  7.29333256e-03,\n",
       "        -6.23306235e-03,  1.99485904e-02, -6.62256412e-03,\n",
       "        -3.67718543e-03, -2.98722569e-02, -6.73766075e-04,\n",
       "        -1.18739995e-02, -2.38587738e-02, -7.48589963e-03,\n",
       "        -5.71303354e-03,  3.90496745e-03, -1.37914058e-02,\n",
       "        -1.16114593e-02,  3.36469626e-03,  9.49655904e-03,\n",
       "        -7.72317107e-03,  1.52601157e-03, -1.19211187e-02,\n",
       "        -1.83069779e-02, -1.79748083e-02, -1.11001731e-02,\n",
       "         4.82933332e-03,  9.97990104e-03,  1.44563852e-03,\n",
       "        -9.55097283e-03, -6.97908510e-03, -3.19503173e-03,\n",
       "         1.73157644e-02, -2.27772552e-02,  1.96058352e-02,\n",
       "        -3.59763883e-04,  1.23356869e-02,  8.20499285e-04,\n",
       "        -2.88044215e-03,  1.81298336e-02,  1.05429646e-02,\n",
       "        -1.23251711e-02, -5.90937654e-03,  1.14631452e-03,\n",
       "        -1.56434435e-02,  4.83737607e-03]])"
      ]
     },
     "execution_count": 82,
     "metadata": {},
     "output_type": "execute_result"
    }
   ],
   "source": [
    "d_s(ωe,x,y,z,Ret,ωe(φ,θ,ψ,None,None,None))"
   ]
  },
  {
   "cell_type": "code",
   "execution_count": 83,
   "metadata": {},
   "outputs": [],
   "source": [
    "def ne_(dx,dy,dz,DT,Ret):\n",
    "    return -fg_e.T-fD(dx,dy,dz,DT,Ret) #-sigma(x,y,z).T"
   ]
  },
  {
   "cell_type": "code",
   "execution_count": 84,
   "metadata": {},
   "outputs": [
    {
     "data": {
      "text/plain": [
       "array([[-1.33683247e+04, -2.85400934e+04, -1.21828748e+02,\n",
       "         1.05262966e+03, -1.58987043e+04, -8.83619973e+02,\n",
       "         9.55965410e+03,  1.71986722e+03, -2.31702947e+04,\n",
       "        -7.98540456e+01,  5.51259352e-02, -4.65738567e+03,\n",
       "        -1.01501081e+03,  3.76767152e+01, -3.36976928e+03,\n",
       "        -4.71068295e+03,  2.15004406e+03, -1.03337590e+02,\n",
       "        -1.94846369e+03,  3.87392079e+01,  6.21513442e+01,\n",
       "         2.00462551e+03, -1.75757018e+03, -7.16045036e+03,\n",
       "         1.46579666e+03,  5.35173406e+03,  4.08105368e+02,\n",
       "        -1.06673746e+03,  1.92317077e+03, -1.33065408e+03,\n",
       "         2.79384684e+02,  2.22910669e+04,  9.74834575e+03,\n",
       "        -8.91281557e+02,  6.88247191e+03,  1.11809327e+00,\n",
       "         5.95453309e+03, -1.12192631e+03, -1.98225190e+03,\n",
       "         1.31989360e+04, -1.17849153e+03,  5.35275707e+03,\n",
       "        -4.87640005e-01,  1.91948088e+04, -4.22654545e+03,\n",
       "         3.51213072e+04,  2.45847535e+02, -1.19848044e+03,\n",
       "        -6.16818293e+00, -2.72283192e+03],\n",
       "       [-6.41179646e+03, -3.37525724e+03, -4.17621177e+02,\n",
       "        -7.90616344e+02, -7.14284743e+02, -2.31355860e+02,\n",
       "         7.39943461e+03, -3.18668859e+04, -1.73509773e+04,\n",
       "        -4.05265288e+03, -5.87591750e+03,  1.92680530e+03,\n",
       "         3.08716897e+03, -1.59108320e+04,  7.68402794e+02,\n",
       "        -8.35241125e+03,  1.31154559e+03, -1.60174432e+04,\n",
       "         2.31735983e+03, -2.74231927e+02, -1.41963644e+03,\n",
       "         3.31776566e+03, -9.84393957e+03,  4.71722467e+03,\n",
       "        -6.11357254e+03,  2.51736765e+04,  7.74844530e+03,\n",
       "        -9.57275130e+03, -6.49925257e+03,  1.04022895e+03,\n",
       "         4.12572837e+03,  1.82201472e+03, -4.06395943e+03,\n",
       "        -2.69467592e+03, -3.36730827e+03,  3.84502300e+03,\n",
       "        -4.68846335e+03,  8.54163808e+03,  1.01489045e+03,\n",
       "        -1.99724339e+04, -1.76794924e+03, -3.22624164e+03,\n",
       "        -5.93265103e+04,  6.68862515e+03, -2.69055855e+03,\n",
       "         1.22874568e+04,  1.14741113e+02, -8.83435382e+02,\n",
       "        -4.02963864e+02, -1.34776618e+04],\n",
       "       [-2.17400329e+03,  6.87743822e+03, -3.93743652e+01,\n",
       "         2.32106712e+03, -1.11211275e+03, -5.80582021e+01,\n",
       "         3.80882283e+02, -4.99655364e+03,  1.60908137e+04,\n",
       "         1.49776977e+04, -2.36261033e+03, -2.54363407e+03,\n",
       "         2.50633103e+04,  9.33081084e+03,  1.62841432e+03,\n",
       "        -2.10993922e+03,  6.07543876e+03, -8.12300748e+03,\n",
       "        -5.46453706e+03,  5.12536999e+02, -1.06393376e+03,\n",
       "         7.82859974e+03,  8.10409093e+02,  1.76681276e+04,\n",
       "        -6.44929850e+03,  2.60069701e+03,  6.61976400e+02,\n",
       "        -5.15876585e+03, -5.43808655e+02,  9.26114356e+03,\n",
       "        -7.51265138e+03,  2.59872738e+03, -1.11863398e+04,\n",
       "        -1.67717808e+02,  5.71733083e+02,  6.41241306e+03,\n",
       "        -2.26639860e+04,  1.92789225e+04, -9.49971800e+03,\n",
       "         8.90250197e+03,  5.77349531e+02, -1.55270987e+03,\n",
       "         6.33846923e+04,  5.53761401e+03, -9.69194015e+03,\n",
       "        -8.83094018e+03, -3.07982931e+02,  3.69010266e+02,\n",
       "         4.06927287e+02, -8.46114559e+03]])"
      ]
     },
     "execution_count": 84,
     "metadata": {},
     "output_type": "execute_result"
    }
   ],
   "source": [
    "ne_(dx,dy,dz,DT,Ret)"
   ]
  },
  {
   "cell_type": "code",
   "execution_count": 85,
   "metadata": {},
   "outputs": [
    {
     "name": "stdout",
     "output_type": "stream",
     "text": [
      "0:00:00.004077\n"
     ]
    }
   ],
   "source": [
    "startTime1 = datetime.now()\n",
    "ne(x,y,z,Ret,ωe(φ,θ,ψ,None,None,None),[0,0,1])\n",
    "print(datetime.now() - startTime1)"
   ]
  },
  {
   "cell_type": "code",
   "execution_count": 86,
   "metadata": {},
   "outputs": [
    {
     "data": {
      "text/plain": [
       "array([[-3.43531017e+03, -1.10968925e+07,  4.57993101e+07],\n",
       "       [ 3.21517781e+02,  2.27226937e+06, -5.52020291e+06],\n",
       "       [-5.78410936e+01, -4.97064744e+05,  1.08137291e+06],\n",
       "       [-5.66087378e+02,  8.05311147e+05,  4.91299117e+06],\n",
       "       [ 1.93119423e+03, -2.96422216e+07,  1.01357260e+07],\n",
       "       [-3.64518191e+03,  3.37865373e+07,  3.03362960e+06],\n",
       "       [ 6.97772023e+02, -6.28531644e+06, -7.62923292e+05],\n",
       "       [-4.11090761e+03,  1.17028802e+05,  4.14093818e+07],\n",
       "       [ 1.43722025e+01, -3.24610724e+05,  1.79446078e+05],\n",
       "       [-2.71825211e+03,  3.39556467e+07, -6.49888860e+06],\n",
       "       [ 4.07640393e+02, -4.21148192e+06,  9.39076416e+04],\n",
       "       [ 1.02191466e+04, -5.52123149e+07, -4.80138035e+07],\n",
       "       [ 5.08470303e+02,  4.61626636e+07, -5.13013260e+07],\n",
       "       [ 4.83390652e+02, -4.07875450e+06, -8.04019275e+05],\n",
       "       [ 2.57921633e+02,  1.84739207e+07, -2.10802575e+07],\n",
       "       [-2.11749167e+03,  7.72268859e+06,  1.36668051e+07],\n",
       "       [ 3.55353742e+03, -5.77625671e+07,  2.18693639e+07],\n",
       "       [ 9.61294027e+00, -1.94498643e+03, -9.51602261e+04],\n",
       "       [-5.05825354e+03,  4.97728822e+07,  1.32064615e+06],\n",
       "       [-3.17911061e+01,  3.03824978e+05,  1.72981291e+04],\n",
       "       [-3.38314932e+03,  1.97808946e+07,  1.43930544e+07],\n",
       "       [ 1.19898969e+03, -3.41727217e+06, -8.69417334e+06],\n",
       "       [ 5.31234423e+03, -4.14451183e+07, -1.22155344e+07],\n",
       "       [-5.01011686e+03,  4.16302602e+07,  8.97742726e+06],\n",
       "       [ 8.29871073e+02, -2.89207161e+07,  2.05392222e+07],\n",
       "       [-3.11094859e+03, -8.50859354e+06,  3.99343350e+07],\n",
       "       [ 4.55078935e+03, -2.18471057e+05, -4.57514087e+07],\n",
       "       [ 5.29884328e+03, -1.68439167e+07, -3.66816026e+07],\n",
       "       [ 6.40119231e+03, -6.45111484e+07, -1.47356358e+05],\n",
       "       [-5.22265348e+02,  6.16736920e+06, -8.92007726e+05],\n",
       "       [ 2.50323450e+03,  2.95311950e+07, -5.48191655e+07],\n",
       "       [-6.01238411e+03,  1.38067029e+07,  4.69268174e+07],\n",
       "       [-3.18178480e+01,  3.21674968e+05, -2.82632564e+02],\n",
       "       [-2.61646923e+00,  4.19815192e+04, -1.55533297e+04],\n",
       "       [ 5.67830448e+02,  6.74219494e+05, -6.41020444e+06],\n",
       "       [-5.15046122e+03,  1.12145777e+06,  5.09059738e+07],\n",
       "       [ 5.40337270e+03, -3.62646948e+07, -1.83157463e+07],\n",
       "       [-3.95669619e+02,  1.58878459e+05,  3.83797817e+06],\n",
       "       [ 2.46202558e+01, -3.18653803e+05,  6.99679376e+04],\n",
       "       [-1.74333838e+03,  3.97471801e+07, -2.21388263e+07],\n",
       "       [ 6.78079196e+01,  6.81268259e+06, -7.49799090e+06],\n",
       "       [ 4.33497503e+02, -4.31097529e+06, -6.77900615e+04],\n",
       "       [ 1.05983333e+04, -6.40639993e+07, -4.29920332e+07],\n",
       "       [-5.41488531e+03,  5.10685893e+07,  3.62739659e+06],\n",
       "       [ 1.05224822e+04, -4.73790315e+07, -5.89116350e+07],\n",
       "       [ 7.22726047e+03, -3.88306932e+07, -3.41736573e+07],\n",
       "       [-1.68226911e+03,  1.90146001e+07, -2.02208818e+06],\n",
       "       [ 8.17390164e-01, -9.71010047e+03,  1.45370922e+03],\n",
       "       [ 6.73183358e+03, -1.84847639e+07, -4.95160528e+07],\n",
       "       [ 5.50523642e+03, -2.29384339e+07, -3.26716610e+07]])"
      ]
     },
     "execution_count": 86,
     "metadata": {},
     "output_type": "execute_result"
    }
   ],
   "source": [
    "d_s(ne, x, y, z, Ret, ωe(φ,θ,ψ,None,None,None)).T"
   ]
  },
  {
   "cell_type": "code",
   "execution_count": 87,
   "metadata": {},
   "outputs": [
    {
     "data": {
      "text/plain": [
       "array([[ 9.28421691e+09,  4.58085015e+09,  1.11060834e+09],\n",
       "       [-1.63394867e+10, -5.53637900e+08, -2.28844465e+08],\n",
       "       [-4.20225735e+07,  1.08133131e+08,  4.97023144e+07],\n",
       "       [ 5.72176388e+08,  4.91355763e+08, -8.04744721e+07],\n",
       "       [-1.42271561e+10,  1.01216411e+09,  2.96281374e+09],\n",
       "       [-6.50644219e+09,  3.02718822e+08, -3.37929783e+09],\n",
       "       [ 3.36266362e+09, -7.59594254e+07,  6.28864531e+08],\n",
       "       [-9.56734446e+09,  4.13999101e+09, -1.26499994e+07],\n",
       "       [-8.42985135e+09,  1.71100524e+07,  3.16265593e+07],\n",
       "       [-3.69207380e+08, -6.49925411e+08, -3.39560122e+09],\n",
       "       [ 3.39453533e+08,  9.42437006e+06,  4.21181796e+08],\n",
       "       [-4.44509391e+09, -4.80182041e+09,  5.52079145e+09],\n",
       "       [-4.35406480e+09, -5.13056365e+09, -4.61669739e+09],\n",
       "       [-1.19562627e+10, -8.15855977e+07,  4.06691840e+08],\n",
       "       [-1.03427235e+10, -2.10904968e+09, -1.84841595e+09],\n",
       "       [-1.64437335e+10,  1.36505258e+09, -7.73896706e+08],\n",
       "       [ 2.57907509e+08,  2.18696192e+09,  5.77628224e+09],\n",
       "       [-2.32790580e+09, -9.74648532e+06, -3.59523922e+04],\n",
       "       [-3.77490755e+07,  1.32060878e+08, -4.97729196e+09],\n",
       "       [-1.26553399e+10,  4.76934045e+05, -3.16353131e+07],\n",
       "       [-2.40564562e+09,  1.43906729e+09, -1.97832761e+09],\n",
       "       [-1.64155051e+10, -8.71042469e+08,  3.40102164e+08],\n",
       "       [-4.76596237e+09, -1.22202527e+09,  4.14404002e+09],\n",
       "       [-1.47520234e+10,  8.96282275e+08, -4.16448639e+09],\n",
       "       [-1.10001297e+10,  2.05283320e+09,  2.89098265e+09],\n",
       "       [-2.51785570e+07,  3.99343101e+09,  8.50856861e+08],\n",
       "       [-2.73565442e+03, -4.57514087e+09,  2.18471055e+07],\n",
       "       [-1.41096861e+08, -3.66817422e+09,  1.68437770e+09],\n",
       "       [ 8.46448324e+06, -1.47347978e+07,  6.45111568e+09],\n",
       "       [-5.07185744e+08, -8.92509839e+07, -6.16787128e+08],\n",
       "       [-5.55987022e+09, -5.48246698e+09, -2.95366990e+09],\n",
       "       [-1.39017255e+10,  4.69130547e+09, -1.38204649e+09],\n",
       "       [-2.55706513e+08, -5.35782054e+04, -3.21928105e+07],\n",
       "       [-1.61757388e+10, -3.15673138e+06, -5.79946918e+06],\n",
       "       [-1.13503677e+10, -6.42144131e+08, -6.85455791e+07],\n",
       "       [-1.14712725e+07,  5.09059624e+09, -1.12146913e+08],\n",
       "       [-6.36984220e+09, -1.83220525e+09,  3.62583890e+09],\n",
       "       [-1.43093276e+07,  3.83796400e+08, -1.58892624e+07],\n",
       "       [-1.63585159e+10,  5.37730041e+06,  3.02459690e+07],\n",
       "       [-2.24848035e+09, -2.21410523e+09, -3.97494060e+09],\n",
       "       [ 1.20613033e+08, -7.49787149e+08, -6.81256319e+08],\n",
       "       [-4.68922104e+09, -7.24323911e+06,  4.30633319e+08],\n",
       "       [-7.16925804e+09, -4.29991308e+09,  6.40569021e+09],\n",
       "       [-6.71191023e+07,  3.62733015e+08, -5.10686557e+09],\n",
       "       [-6.95498439e+09, -5.89185205e+09,  4.73721464e+09],\n",
       "       [-2.64419395e+08, -3.41739190e+09,  3.88304314e+09],\n",
       "       [-1.45100515e+10, -2.03645313e+08, -1.90289644e+09],\n",
       "       [-1.63513717e+10, -1.47341515e+06, -6.47694000e+05],\n",
       "       [-5.27336956e+09, -4.95212734e+09,  1.84795435e+09],\n",
       "       [-1.34299039e+10, -3.26849566e+09,  2.29251390e+09]])"
      ]
     },
     "execution_count": 87,
     "metadata": {},
     "output_type": "execute_result"
    }
   ],
   "source": [
    "ne(x,y,z,Ret,ωe(φ,θ,ψ,None,None,None),[1,23,4])"
   ]
  },
  {
   "cell_type": "code",
   "execution_count": 88,
   "metadata": {},
   "outputs": [
    {
     "name": "stdout",
     "output_type": "stream",
     "text": [
      "0:00:00.000318\n"
     ]
    }
   ],
   "source": [
    "startTime1 = datetime.now()\n",
    "ne_(dx,dy,dz,DT,Ret)\n",
    "print(datetime.now() - startTime1)"
   ]
  },
  {
   "cell_type": "code",
   "execution_count": 89,
   "metadata": {},
   "outputs": [
    {
     "data": {
      "text/plain": [
       "(50, 3, 3)"
      ]
     },
     "execution_count": 89,
     "metadata": {},
     "output_type": "execute_result"
    }
   ],
   "source": [
    "Re_b(Ret).shape"
   ]
  },
  {
   "cell_type": "code",
   "execution_count": 90,
   "metadata": {},
   "outputs": [],
   "source": [
    "# def Irho_e(Ret):\n",
    "    \n",
    "#     ans1 = np.multiply(np.multiply(Ret,Irho),Ret) # (19) in [3] \n",
    "    \n",
    "#     sum_=np.zeros(Irho.shape)\n",
    "# #     print(sum_)\n",
    "    \n",
    "#     for i in range(len(ans1)):\n",
    "#         sum_+=ans1[i]\n",
    "#         ans1[i]=sum_\n",
    "        \n",
    "#     tmp=np.zeros(Irho.shape)\n",
    "#     np.fill_diagonal(tmp, vessel_inertia)\n",
    "    \n",
    "#     ans2=np.multiply(np.multiply(Ret,tmp),Ret)\n",
    "#     ans1[-1]+=ans2[-1]\n",
    "    \n",
    "#     for i in range(int(node_N/4)):\n",
    "#         ans1[i]*=(10-i+1)\n",
    "#     return ans1\n",
    "def Irho_e(Ret,Irho): # here\n",
    "#     ans= np.multiply(np.multiply(Ret,Irho),Ret) # (19) in [3] \n",
    "#     print(Irho[1])\n",
    "#     print(np.dot(np.dot(Ret[1],Irho[1]),Ret[1]))\n",
    "    ans=  np.einsum('ijk,ikp->ijp', np.einsum('ijk,ikp->ijp', Ret,Irho),Ret)\n",
    "    return ans"
   ]
  },
  {
   "cell_type": "code",
   "execution_count": 91,
   "metadata": {},
   "outputs": [
    {
     "data": {
      "text/plain": [
       "array([[[ 1.66761167e+18, -5.14485285e+18, -1.07886467e+17],\n",
       "        [ 4.62437005e+18,  3.13062867e+18, -3.01547693e+18],\n",
       "        [ 1.11237667e+18, -2.80488076e+18,  8.44715729e+18]],\n",
       "\n",
       "       [[ 4.66522522e+18,  1.24238134e+18, -1.59765795e+18],\n",
       "        [ 1.57715499e+18, -6.39986135e+18,  5.89836610e+18],\n",
       "        [-9.17424288e+16, -6.11022172e+18, -1.61866506e+18]],\n",
       "\n",
       "       [[-2.33059027e+18, -6.78321267e+18,  4.85748906e+18],\n",
       "        [-1.04257857e+18, -3.17066524e+18, -3.56900649e+18],\n",
       "        [ 4.06707705e+18, -4.44880677e+18,  1.72924787e+18]],\n",
       "\n",
       "       [[ 7.69187924e+17, -8.88853745e+18,  2.13679038e+17],\n",
       "        [ 1.88284573e+18,  2.10073000e+18, -4.45785337e+18],\n",
       "        [ 4.33955256e+18, -1.04230370e+18,  2.26889037e+18]],\n",
       "\n",
       "       [[ 3.21398736e+18, -2.71406588e+18,  3.06475734e+18],\n",
       "        [-2.35667695e+18, -7.39858944e+16,  6.12190451e+18],\n",
       "        [-3.46917544e+18, -5.90214049e+18,  3.15655703e+18]],\n",
       "\n",
       "       [[-9.40314139e+17, -5.20395588e+18, -3.29809224e+18],\n",
       "        [-4.30637984e+18, -8.50747979e+16, -5.14424918e+18],\n",
       "        [ 5.41897124e+18,  2.82408795e+18, -5.48713225e+17]],\n",
       "\n",
       "       [[ 4.88714049e+18, -2.68651573e+17, -1.42738577e+18],\n",
       "        [ 4.52476209e+18,  6.67204607e+18,  1.67733003e+18],\n",
       "        [ 2.09884404e+18, -6.67623310e+17,  4.18476903e+18]],\n",
       "\n",
       "       [[ 1.86731410e+18,  1.12668599e+18,  4.46780073e+18],\n",
       "        [-3.52363643e+18, -1.94541186e+18,  4.07921362e+18],\n",
       "        [ 1.61134486e+18, -5.83136231e+18,  4.09641807e+18]],\n",
       "\n",
       "       [[ 3.10196690e+18,  8.59493102e+17, -2.84634101e+18],\n",
       "        [ 4.87010646e+18, -6.69949809e+18,  9.88100410e+17],\n",
       "        [-1.95863094e+18, -2.28948936e+18, -2.95328211e+18]],\n",
       "\n",
       "       [[ 3.35546025e+18, -3.62015872e+17,  2.72952161e+18],\n",
       "        [ 6.00269307e+18,  9.21773866e+17, -4.09006315e+18],\n",
       "        [-2.67412337e+18,  4.12649594e+18,  2.05670608e+18]],\n",
       "\n",
       "       [[-4.35891850e+18, -4.65860925e+15, -3.77605104e+18],\n",
       "        [ 6.02161701e+18,  2.88308636e+18, -9.76518422e+17],\n",
       "        [ 2.28035257e+18, -3.16419736e+18, -1.41543480e+18]],\n",
       "\n",
       "       [[-2.67361824e+18, -8.11739493e+17,  5.55154917e+18],\n",
       "        [ 1.41562959e+18,  3.27103826e+18,  1.70000769e+18],\n",
       "        [-5.35131228e+18,  2.25237130e+18,  1.82474932e+18]],\n",
       "\n",
       "       [[-8.54229569e+17, -3.77012245e+18, -6.57564416e+17],\n",
       "        [ 2.88669143e+18, -5.83350114e+17, -2.96561909e+18],\n",
       "        [ 3.02809423e+18, -2.40698625e+17,  6.67597282e+18]],\n",
       "\n",
       "       [[ 2.77301724e+18, -1.73665367e+18, -1.73129228e+18],\n",
       "        [-2.65521138e+18, -6.27276702e+18,  2.44844976e+18],\n",
       "        [-2.62681595e+18, -1.44641492e+18, -2.65558003e+18]],\n",
       "\n",
       "       [[ 1.15495645e+18,  3.59887761e+18, -2.92984770e+18],\n",
       "        [ 3.82732698e+18, -2.12365393e+18,  3.62667566e+18],\n",
       "        [ 2.13441082e+18, -4.14500586e+18, -9.17745535e+17]],\n",
       "\n",
       "       [[ 3.36911431e+18,  8.13439187e+17,  5.02179334e+17],\n",
       "        [-4.36438078e+17, -7.72605625e+17,  5.10506870e+18],\n",
       "        [ 9.62888213e+17, -5.03852696e+18,  2.84115738e+18]],\n",
       "\n",
       "       [[ 2.47879024e+17, -2.37480011e+18, -3.35341518e+18],\n",
       "        [ 4.61038829e+18, -1.62298587e+18, -1.04549672e+18],\n",
       "        [-2.95392789e+18, -1.90072800e+18,  3.88486918e+18]],\n",
       "\n",
       "       [[ 1.33187282e+18, -8.10004041e+17,  2.97527756e+18],\n",
       "        [-5.52758908e+18, -3.53750565e+18,  3.15383617e+17],\n",
       "        [ 1.56263814e+18, -2.55145180e+18, -1.39224208e+18]],\n",
       "\n",
       "       [[ 1.28732929e+18, -1.61995796e+18,  3.23008224e+18],\n",
       "        [-2.32142914e+18,  1.21023930e+18,  3.42029828e+18],\n",
       "        [-3.35647857e+18, -3.29634955e+18,  2.45785902e+18]],\n",
       "\n",
       "       [[ 2.64016886e+18, -8.59003614e+17,  1.39532361e+18],\n",
       "        [-2.59220039e+18, -5.57837129e+18,  6.54032983e+17],\n",
       "        [ 1.03326978e+18, -1.14325891e+18, -2.71376519e+18]],\n",
       "\n",
       "       [[-4.91282428e+17,  1.83788824e+17,  3.76144427e+18],\n",
       "        [-1.57543866e+18, -3.17994895e+18,  1.41385415e+18],\n",
       "        [ 2.69058313e+18, -2.98466195e+18,  2.97252308e+18]],\n",
       "\n",
       "       [[ 2.80266719e+18, -2.64046956e+17, -7.97686992e+17],\n",
       "        [ 4.31581085e+17, -2.37635057e+18,  4.18611784e+18],\n",
       "        [-6.61925771e+17, -4.20971972e+18,  6.18273346e+17]],\n",
       "\n",
       "       [[-1.72047078e+18,  2.46583181e+18,  3.26492100e+18],\n",
       "        [ 2.13370178e+18,  1.58619549e+18, -2.19172797e+18],\n",
       "        [-3.68539014e+18,  1.37159747e+18, -6.47813927e+16]],\n",
       "\n",
       "       [[ 2.00574832e+18,  1.04859336e+18, -1.94211295e+18],\n",
       "        [ 2.02278537e+17,  2.05748302e+18,  2.19012291e+18],\n",
       "        [ 2.26850723e+18, -1.84995028e+18,  4.14805897e+18]],\n",
       "\n",
       "       [[ 1.47281607e+18,  1.97810236e+18, -8.28535526e+17],\n",
       "        [ 1.61890159e+17, -1.84382243e+18, -3.74895682e+18],\n",
       "        [-2.72875559e+18,  2.70093349e+18,  1.25289252e+18]],\n",
       "\n",
       "       [[-2.48510127e+18, -3.24982832e+18, -1.49870306e+18],\n",
       "        [-3.13868387e+18,  4.53056258e+17, -1.02126447e+18],\n",
       "        [ 1.55405817e+18,  9.34877364e+17, -2.03177484e+18]],\n",
       "\n",
       "       [[-2.61171881e+18,  4.01316430e+18, -2.19122533e+17],\n",
       "        [ 1.24037432e+18,  7.42790051e+17,  1.92265068e+18],\n",
       "        [ 1.73840428e+18,  8.50029822e+17, -1.43316897e+18]],\n",
       "\n",
       "       [[-3.85918220e+18, -5.19343291e+17,  1.17265687e+18],\n",
       "        [-1.06750425e+18,  1.64036449e+18,  2.08964400e+18],\n",
       "        [-1.70600764e+18,  1.68263886e+18, -1.12390584e+18]],\n",
       "\n",
       "       [[-1.88235805e+18,  2.66630277e+17, -1.12447572e+18],\n",
       "        [-1.73395381e+18, -1.52884032e+18,  2.14437673e+18],\n",
       "        [-1.82134509e+18,  1.59546195e+18,  2.89069120e+18]],\n",
       "\n",
       "       [[ 1.04744939e+18,  6.17476534e+16,  1.89092445e+18],\n",
       "        [ 3.86432389e+18, -7.78272157e+17, -1.15158359e+18],\n",
       "        [-2.46869254e+17,  2.20018080e+18, -1.29814737e+17]],\n",
       "\n",
       "       [[-3.93402100e+17,  5.75983713e+17, -2.89708949e+18],\n",
       "        [ 2.19531009e+18, -1.19928290e+17,  4.56416778e+17],\n",
       "        [ 7.38716164e+17, -2.83826395e+18,  1.21524571e+18]],\n",
       "\n",
       "       [[ 1.42388456e+18,  1.25920871e+18,  1.90769043e+16],\n",
       "        [-1.16788831e+18,  1.27934020e+18,  9.68432441e+17],\n",
       "        [ 5.33382116e+17, -8.08534957e+17,  3.62902500e+18]],\n",
       "\n",
       "       [[ 1.25416928e+17,  4.61085277e+17,  1.73645000e+18],\n",
       "        [ 3.50211880e+18, -8.07100351e+17, -1.46044434e+17],\n",
       "        [ 2.55552635e+17,  1.72374023e+18, -4.71433909e+17]],\n",
       "\n",
       "       [[ 1.62103070e+18,  6.47139080e+17,  2.61370716e+15],\n",
       "        [ 6.09268691e+17, -3.30631578e+18, -2.75022387e+17],\n",
       "        [-6.54201175e+16,  2.67141107e+17, -1.68500767e+18]],\n",
       "\n",
       "       [[ 1.11698267e+18,  1.00525109e+18,  1.35922940e+18],\n",
       "        [ 8.24843238e+17, -2.50823470e+18, -9.20310123e+17],\n",
       "        [ 7.98639453e+17,  1.43410265e+18, -8.60966079e+17]],\n",
       "\n",
       "       [[-2.79651128e+18, -9.91505969e+17, -3.80117418e+17],\n",
       "        [-5.90104610e+17,  1.30561038e+18,  4.49727668e+17],\n",
       "        [ 1.92880909e+17,  5.56364289e+17, -1.39646376e+18]],\n",
       "\n",
       "       [[ 3.57649595e+17, -9.26124171e+17, -1.02615231e+18],\n",
       "        [-1.17729241e+16, -1.40411354e+18,  1.73926581e+18],\n",
       "        [-1.72311099e+18, -1.05305393e+18,  8.04139272e+17]],\n",
       "\n",
       "       [[-1.29262734e+18, -8.74054634e+17,  8.80279478e+17],\n",
       "        [-2.23483130e+18,  1.95977482e+17, -4.50135029e+17],\n",
       "        [ 2.58290848e+16, -9.88355373e+17, -8.46899435e+17]],\n",
       "\n",
       "       [[ 1.15574238e+18, -3.30861333e+17, -9.46620632e+16],\n",
       "        [-4.20270672e+17, -2.31908554e+18,  3.79383108e+17],\n",
       "        [-1.72682575e+17, -3.50817858e+17, -1.15508480e+18]],\n",
       "\n",
       "       [[-1.02032813e+18, -1.04671409e+18, -7.47027260e+17],\n",
       "        [-7.30140771e+17,  3.90993486e+17, -1.28772241e+18],\n",
       "        [ 1.47297073e+18, -2.15953740e+17, -6.91499839e+16]],\n",
       "\n",
       "       [[-1.71385037e+18,  2.57765337e+17,  6.81418176e+17],\n",
       "        [ 7.71495300e+17,  8.91930017e+17,  1.30693382e+17],\n",
       "        [-5.85756574e+17,  3.71888054e+17, -8.01690294e+17]],\n",
       "\n",
       "       [[ 3.77070213e+17, -3.48280178e+17, -7.56747070e+17],\n",
       "        [-1.15402571e+18, -1.29545584e+18,  3.46662726e+17],\n",
       "        [-7.94634297e+17,  2.47785204e+17, -4.48169503e+17]],\n",
       "\n",
       "       [[-1.12596825e+17, -6.69013083e+17,  7.90942922e+17],\n",
       "        [ 1.06008564e+17,  4.59178936e+17,  7.96984629e+17],\n",
       "        [-1.12276777e+18,  1.29506484e+16,  7.97565260e+17]],\n",
       "\n",
       "       [[-5.26570610e+17,  2.47713567e+17,  4.14584068e+17],\n",
       "        [ 6.97571523e+17, -4.44471647e+17,  8.27616633e+17],\n",
       "        [ 7.88640779e+17,  4.84639002e+17,  4.51156484e+17]],\n",
       "\n",
       "       [[-7.67373012e+16,  1.58952834e+16,  8.56201320e+17],\n",
       "        [ 5.80524415e+17,  2.30083620e+17, -9.38228372e+16],\n",
       "        [-4.75103965e+17,  7.18442514e+17,  5.29287357e+17]],\n",
       "\n",
       "       [[-6.73480486e+17, -2.34848382e+17,  1.90785655e+17],\n",
       "        [-2.67678933e+17,  1.28980463e+17,  6.43178284e+17],\n",
       "        [-5.03063158e+17,  4.43852373e+17,  5.31752204e+16]],\n",
       "\n",
       "       [[ 3.14161843e+17, -2.67562906e+17, -5.76603834e+16],\n",
       "        [-1.80657131e+17, -3.29744377e+17, -5.66328562e+17],\n",
       "        [ 2.76225010e+17,  4.97747430e+17,  1.54515140e+16]],\n",
       "\n",
       "       [[ 2.88340732e+17,  9.71630038e+16,  7.30063161e+15],\n",
       "        [ 1.05728990e+17, -5.88083182e+17,  1.62889115e+16],\n",
       "        [ 1.07862543e+16, -1.42226779e+16, -2.99602095e+17]],\n",
       "\n",
       "       [[-2.01070199e+16, -3.17386675e+16,  2.62492725e+17],\n",
       "        [ 2.07826829e+17, -5.53930817e+16, -5.45073603e+16],\n",
       "        [-1.86963926e+15,  2.68085783e+17,  2.20411234e+17]],\n",
       "\n",
       "       [[ 7.34862658e+16, -6.34161681e+16, -2.41706643e+16],\n",
       "        [ 3.51136924e+16, -5.95172827e+15,  1.31836333e+17],\n",
       "        [-6.70154503e+16, -1.16077428e+17,  1.15670795e+17]]])"
      ]
     },
     "execution_count": 91,
     "metadata": {},
     "output_type": "execute_result"
    }
   ],
   "source": [
    "Irho_e(Ret,Irho)"
   ]
  },
  {
   "cell_type": "code",
   "execution_count": 92,
   "metadata": {},
   "outputs": [
    {
     "name": "stdout",
     "output_type": "stream",
     "text": [
      "0:00:00.000206\n"
     ]
    }
   ],
   "source": [
    "startTime1 = datetime.now()\n",
    "Irho_e(Ret,Irho)\n",
    "print(datetime.now() - startTime1)"
   ]
  },
  {
   "cell_type": "code",
   "execution_count": 93,
   "metadata": {},
   "outputs": [
    {
     "data": {
      "text/plain": [
       "423167467.8322429"
      ]
     },
     "execution_count": 93,
     "metadata": {},
     "output_type": "execute_result"
    }
   ],
   "source": [
    "79.3*1e9*math.pi*(d0**4-dI**4)/64"
   ]
  },
  {
   "cell_type": "code",
   "execution_count": 94,
   "metadata": {},
   "outputs": [],
   "source": [
    "# diag_CR = 1e11*np.array([1, 1, 1])\n",
    "diag_CR = 1e9*np.array([4, 4, 4]) #!!!!!!!!!!!!!!!!!!!!!!!!!!!!!!!!!!!!!!!!!\n",
    "\n",
    "CR=np.diag(diag_CR)"
   ]
  },
  {
   "cell_type": "code",
   "execution_count": 95,
   "metadata": {},
   "outputs": [
    {
     "data": {
      "text/plain": [
       "array([[4.e+09, 0.e+00, 0.e+00],\n",
       "       [0.e+00, 4.e+09, 0.e+00],\n",
       "       [0.e+00, 0.e+00, 4.e+09]])"
      ]
     },
     "execution_count": 95,
     "metadata": {},
     "output_type": "execute_result"
    }
   ],
   "source": [
    "CR"
   ]
  },
  {
   "cell_type": "code",
   "execution_count": 96,
   "metadata": {},
   "outputs": [],
   "source": [
    "def d_me(φ,θ,ψ,Ret,omega):\n",
    "    \n",
    "    def f(a,b,c,Ret,omega, dummy2): \n",
    "        return np.einsum('ijk,ik->ik', np.multiply(np.multiply(Ret,CR),Ret),omega.astype(np.float64)).squeeze()\n",
    "   \n",
    "    B=d_s(f,φ,θ,ψ,Ret.astype(np.float64),omega.astype(np.float64))\n",
    "\n",
    "    return B.T.astype(np.float64)"
   ]
  },
  {
   "cell_type": "code",
   "execution_count": 97,
   "metadata": {},
   "outputs": [
    {
     "name": "stdout",
     "output_type": "stream",
     "text": [
      "0:00:00.002862\n"
     ]
    }
   ],
   "source": [
    "startTime1 = datetime.now()\n",
    "d_me_=d_me(φ,θ,ψ,Ret, ωe(φ,θ,ψ,None,None,None))\n",
    "print(datetime.now() - startTime1)"
   ]
  },
  {
   "cell_type": "code",
   "execution_count": 98,
   "metadata": {},
   "outputs": [
    {
     "data": {
      "text/plain": [
       "array([[ 1.05712843e-03, -2.82413222e+00, -7.85432894e+00],\n",
       "       [-1.21058500e-05,  2.97953265e+01, -2.96745489e+01],\n",
       "       [ 8.98255058e-04, -8.60456841e+00, -4.68737233e-01],\n",
       "       [ 5.50036648e-05,  2.34966672e+00, -2.90540643e+00],\n",
       "       [-3.44713280e-04,  1.29125439e+01, -9.43107008e+00],\n",
       "       [-1.18807823e-03,  9.53763277e+00,  2.46328021e+00],\n",
       "       [ 1.57001851e-04,  1.13955224e+01, -1.29820572e+01],\n",
       "       [ 8.07228138e-04,  2.08392129e+00, -1.02382583e+01],\n",
       "       [-4.39099958e-05,  2.46880900e+01, -2.42457834e+01],\n",
       "       [ 5.31836627e-04, -6.02519174e+00,  6.53138597e-01],\n",
       "       [-1.40895989e-03,  1.91165905e+00,  1.23208810e+01],\n",
       "       [-1.63440411e-03, -2.75188517e+00,  1.92619909e+01],\n",
       "       [ 1.91132210e-03, -2.00045160e+01,  6.98270768e-01],\n",
       "       [ 5.98099395e-05,  2.90463652e+01, -2.96520085e+01],\n",
       "       [-6.57776122e-04,  1.86346635e+01, -1.19910690e+01],\n",
       "       [ 6.11002367e-05,  1.48778298e+01, -1.54957890e+01],\n",
       "       [ 9.81787899e-04, -1.56945965e+01,  5.77784149e+00],\n",
       "       [-3.38044877e-05,  1.05199644e+01, -1.01790208e+01],\n",
       "       [ 2.25233313e-03, -2.24415373e+01, -3.09314205e-01],\n",
       "       [-5.93038215e-06,  3.23479269e+01, -3.22896602e+01],\n",
       "       [ 1.92842977e-03, -1.26880828e+01, -6.79134657e+00],\n",
       "       [ 5.61484803e-05,  2.27828475e+01, -2.33511870e+01],\n",
       "       [-1.94505047e-03,  4.12019038e+00,  1.55275676e+01],\n",
       "       [-2.78062570e-04,  2.55653703e+00,  2.52188104e-01],\n",
       "       [ 4.28796141e-04,  1.09750011e+01, -1.53070502e+01],\n",
       "       [-1.34207013e-03, -1.95049127e+00,  1.55075387e+01],\n",
       "       [-1.26062201e-03, -8.72207078e-02,  1.28214239e+01],\n",
       "       [-2.39164584e-03, -2.65567968e+00,  2.68150732e+01],\n",
       "       [ 2.52783122e-03, -2.53287435e+01, -2.04911339e-01],\n",
       "       [ 2.87736695e-06,  2.28682858e+00, -2.31601024e+00],\n",
       "       [-3.12890795e-05, -1.26050246e+00,  1.57663361e+00],\n",
       "       [ 4.66990208e-04, -3.75681507e+00, -9.60305605e-01],\n",
       "       [ 7.36321555e-06,  2.33614596e+00, -2.41064401e+00],\n",
       "       [ 5.78781970e-06,  3.81937569e+01, -3.82541582e+01],\n",
       "       [ 1.33566769e-04,  2.57338968e+01, -2.70844283e+01],\n",
       "       [-3.45900053e-03,  2.97686480e-02,  3.49113939e+01],\n",
       "       [ 1.07215942e-03,  1.96238755e+00, -1.27929271e+01],\n",
       "       [-1.13737754e-03,  3.15902499e-01,  1.11733238e+01],\n",
       "       [-6.34221335e-06,  3.81636580e+01, -3.81015260e+01],\n",
       "       [-1.43726786e-03, -7.49816784e-01,  1.52684452e+01],\n",
       "       [-3.20728132e-03, -1.76193974e-01,  3.25746202e+01],\n",
       "       [ 1.27060114e-04,  1.54154359e+01, -1.66997174e+01],\n",
       "       [-5.10664057e-04, -3.65348208e+00,  8.81215054e+00],\n",
       "       [ 1.37853389e-03, -1.43751524e+01,  4.50592844e-01],\n",
       "       [-3.73982201e-04, -2.45069814e+00,  6.22861111e+00],\n",
       "       [-6.28079275e-04, -8.24547590e+00,  1.45904493e+01],\n",
       "       [-1.07415243e-04,  2.20770115e+01, -2.09930730e+01],\n",
       "       [-2.28518171e-06,  3.85725278e+01, -3.85513987e+01],\n",
       "       [ 1.01590118e-03, -8.40327339e+00, -1.85844709e+00],\n",
       "       [ 4.22401946e-04,  5.66572956e+00, -9.93291849e+00]])"
      ]
     },
     "execution_count": 98,
     "metadata": {},
     "output_type": "execute_result"
    }
   ],
   "source": [
    "d_me_"
   ]
  },
  {
   "cell_type": "code",
   "execution_count": 99,
   "metadata": {},
   "outputs": [],
   "source": [
    "# diag_DR = 1.5*np.array([1, 1, 1]) \n",
    " \n",
    "# DR=np.diag(diag_DR)"
   ]
  },
  {
   "cell_type": "code",
   "execution_count": 100,
   "metadata": {},
   "outputs": [
    {
     "data": {
      "text/plain": [
       "array([[-1.33683247e+04, -2.85400934e+04, -1.21828748e+02,\n",
       "         1.05262966e+03, -1.58987043e+04, -8.83619973e+02,\n",
       "         9.55965410e+03,  1.71986722e+03, -2.31702947e+04,\n",
       "        -7.98540456e+01,  5.51259352e-02, -4.65738567e+03,\n",
       "        -1.01501081e+03,  3.76767152e+01, -3.36976928e+03,\n",
       "        -4.71068295e+03,  2.15004406e+03, -1.03337590e+02,\n",
       "        -1.94846369e+03,  3.87392079e+01,  6.21513442e+01,\n",
       "         2.00462551e+03, -1.75757018e+03, -7.16045036e+03,\n",
       "         1.46579666e+03,  5.35173406e+03,  4.08105368e+02,\n",
       "        -1.06673746e+03,  1.92317077e+03, -1.33065408e+03,\n",
       "         2.79384684e+02,  2.22910669e+04,  9.74834575e+03,\n",
       "        -8.91281557e+02,  6.88247191e+03,  1.11809327e+00,\n",
       "         5.95453309e+03, -1.12192631e+03, -1.98225190e+03,\n",
       "         1.31989360e+04, -1.17849153e+03,  5.35275707e+03,\n",
       "        -4.87640005e-01,  1.91948088e+04, -4.22654545e+03,\n",
       "         3.51213072e+04,  2.45847535e+02, -1.19848044e+03,\n",
       "        -6.16818293e+00, -2.72283192e+03],\n",
       "       [-6.41179646e+03, -3.37525724e+03, -4.17621177e+02,\n",
       "        -7.90616344e+02, -7.14284743e+02, -2.31355860e+02,\n",
       "         7.39943461e+03, -3.18668859e+04, -1.73509773e+04,\n",
       "        -4.05265288e+03, -5.87591750e+03,  1.92680530e+03,\n",
       "         3.08716897e+03, -1.59108320e+04,  7.68402794e+02,\n",
       "        -8.35241125e+03,  1.31154559e+03, -1.60174432e+04,\n",
       "         2.31735983e+03, -2.74231927e+02, -1.41963644e+03,\n",
       "         3.31776566e+03, -9.84393957e+03,  4.71722467e+03,\n",
       "        -6.11357254e+03,  2.51736765e+04,  7.74844530e+03,\n",
       "        -9.57275130e+03, -6.49925257e+03,  1.04022895e+03,\n",
       "         4.12572837e+03,  1.82201472e+03, -4.06395943e+03,\n",
       "        -2.69467592e+03, -3.36730827e+03,  3.84502300e+03,\n",
       "        -4.68846335e+03,  8.54163808e+03,  1.01489045e+03,\n",
       "        -1.99724339e+04, -1.76794924e+03, -3.22624164e+03,\n",
       "        -5.93265103e+04,  6.68862515e+03, -2.69055855e+03,\n",
       "         1.22874568e+04,  1.14741113e+02, -8.83435382e+02,\n",
       "        -4.02963864e+02, -1.34776618e+04],\n",
       "       [-2.17400329e+03,  6.87743822e+03, -3.93743652e+01,\n",
       "         2.32106712e+03, -1.11211275e+03, -5.80582021e+01,\n",
       "         3.80882283e+02, -4.99655364e+03,  1.60908137e+04,\n",
       "         1.49776977e+04, -2.36261033e+03, -2.54363407e+03,\n",
       "         2.50633103e+04,  9.33081084e+03,  1.62841432e+03,\n",
       "        -2.10993922e+03,  6.07543876e+03, -8.12300748e+03,\n",
       "        -5.46453706e+03,  5.12536999e+02, -1.06393376e+03,\n",
       "         7.82859974e+03,  8.10409093e+02,  1.76681276e+04,\n",
       "        -6.44929850e+03,  2.60069701e+03,  6.61976400e+02,\n",
       "        -5.15876585e+03, -5.43808655e+02,  9.26114356e+03,\n",
       "        -7.51265138e+03,  2.59872738e+03, -1.11863398e+04,\n",
       "        -1.67717808e+02,  5.71733083e+02,  6.41241306e+03,\n",
       "        -2.26639860e+04,  1.92789225e+04, -9.49971800e+03,\n",
       "         8.90250197e+03,  5.77349531e+02, -1.55270987e+03,\n",
       "         6.33846923e+04,  5.53761401e+03, -9.69194015e+03,\n",
       "        -8.83094018e+03, -3.07982931e+02,  3.69010266e+02,\n",
       "         4.06927287e+02, -8.46114559e+03]])"
      ]
     },
     "execution_count": 100,
     "metadata": {},
     "output_type": "execute_result"
    }
   ],
   "source": [
    "ne_(dx,dy,dz,DT,Ret)"
   ]
  },
  {
   "cell_type": "markdown",
   "metadata": {},
   "source": [
    "### Static solution"
   ]
  },
  {
   "cell_type": "code",
   "execution_count": 101,
   "metadata": {},
   "outputs": [],
   "source": [
    "def catenary(x,Ws,Fh):\n",
    "    return (Fh/Ws)*(np.cosh(x*Ws/Fh)-1)"
   ]
  },
  {
   "cell_type": "code",
   "execution_count": 102,
   "metadata": {},
   "outputs": [],
   "source": [
    "pipe_weight_per_unit_length = mi #  (submerged) [kg/m]  # 113.07 - not submerged"
   ]
  },
  {
   "cell_type": "code",
   "execution_count": 103,
   "metadata": {},
   "outputs": [],
   "source": [
    "Fx_0=82945396"
   ]
  },
  {
   "cell_type": "code",
   "execution_count": 104,
   "metadata": {},
   "outputs": [],
   "source": [
    "Ws = np.array(pipe_weight_per_unit_length)*9.81 # [N/m]\n",
    "h=700"
   ]
  },
  {
   "cell_type": "code",
   "execution_count": 105,
   "metadata": {},
   "outputs": [],
   "source": [
    "S=math.sqrt(h*(2*Fx_0/Ws[0] -h))\n",
    "horizontal_length=(Fx_0/Ws[0] -h)*np.log((S+Fx_0/Ws[0])/(Fx_0/Ws[0]-h))"
   ]
  },
  {
   "cell_type": "code",
   "execution_count": 106,
   "metadata": {},
   "outputs": [
    {
     "data": {
      "text/plain": [
       "array([941.76, 941.76, 941.76, 941.76, 941.76, 941.76, 941.76, 941.76,\n",
       "       941.76, 941.76, 941.76, 941.76, 941.76, 941.76, 941.76, 941.76,\n",
       "       941.76, 941.76, 941.76, 941.76, 941.76, 941.76, 941.76, 941.76,\n",
       "       941.76, 941.76, 941.76, 941.76, 941.76, 941.76, 941.76, 941.76,\n",
       "       941.76, 941.76, 941.76, 941.76, 941.76, 941.76, 941.76, 941.76,\n",
       "       941.76, 941.76, 941.76, 941.76, 941.76, 941.76, 941.76, 941.76,\n",
       "       941.76, 941.76])"
      ]
     },
     "execution_count": 106,
     "metadata": {},
     "output_type": "execute_result"
    }
   ],
   "source": [
    "Ws"
   ]
  },
  {
   "cell_type": "code",
   "execution_count": 107,
   "metadata": {},
   "outputs": [],
   "source": [
    "delta_x=horizontal_length/(node_N-1)"
   ]
  },
  {
   "cell_type": "code",
   "execution_count": 108,
   "metadata": {},
   "outputs": [],
   "source": [
    "x0=[i*delta_x for i in range(node_N)]\n",
    "z0=[]\n",
    "\n",
    "for i in range(len(x0)):\n",
    "    z0.append(catenary(x0[i],Ws[0],Fx_0))\n",
    "\n",
    "length_p=[]\n",
    "for i in range(1,len(z0)):\n",
    "    length_p.append(math.sqrt((x0[i]-x0[i-1])**2+(z0[i]-z0[i-1])**2))"
   ]
  },
  {
   "cell_type": "code",
   "execution_count": 109,
   "metadata": {},
   "outputs": [],
   "source": [
    "M_totl=[]\n",
    "v_mass=vessel_mass*9.81\n",
    "for i in range(node_N):\n",
    "    v_mass+=Ws[i]\n",
    "    M_totl.append(v_mass)\n",
    "M_totl=np.array(M_totl[::-1])"
   ]
  },
  {
   "cell_type": "code",
   "execution_count": 110,
   "metadata": {},
   "outputs": [
    {
     "data": {
      "text/plain": [
       "array([3196782.14893616, 3195840.38893616, 3194898.62893616,\n",
       "       3193956.86893616, 3193015.10893616, 3192073.34893616,\n",
       "       3191131.58893616, 3190189.82893616, 3189248.06893616,\n",
       "       3188306.30893616, 3187364.54893616, 3186422.78893616,\n",
       "       3185481.02893616, 3184539.26893616, 3183597.50893616,\n",
       "       3182655.74893616, 3181713.98893616, 3180772.22893616,\n",
       "       3179830.46893616, 3178888.70893616, 3177946.94893616,\n",
       "       3177005.18893616, 3176063.42893616, 3175121.66893616,\n",
       "       3174179.90893616, 3173238.14893617, 3172296.38893617,\n",
       "       3171354.62893617, 3170412.86893617, 3169471.10893617,\n",
       "       3168529.34893617, 3167587.58893617, 3166645.82893617,\n",
       "       3165704.06893617, 3164762.30893617, 3163820.54893617,\n",
       "       3162878.78893617, 3161937.02893617, 3160995.26893617,\n",
       "       3160053.50893617, 3159111.74893617, 3158169.98893617,\n",
       "       3157228.22893617, 3156286.46893617, 3155344.70893617,\n",
       "       3154402.94893617, 3153461.18893617, 3152519.42893617,\n",
       "       3151577.66893617, 3150635.90893617])"
      ]
     },
     "execution_count": 110,
     "metadata": {},
     "output_type": "execute_result"
    }
   ],
   "source": [
    "M_totl"
   ]
  },
  {
   "cell_type": "code",
   "execution_count": 111,
   "metadata": {},
   "outputs": [
    {
     "data": {
      "text/plain": [
       "([0.0,\n",
       "  225.56499682574736,\n",
       "  451.1299936514947,\n",
       "  676.6949904772421,\n",
       "  902.2599873029894,\n",
       "  1127.8249841287368,\n",
       "  1353.3899809544841,\n",
       "  1578.9549777802315,\n",
       "  1804.5199746059789,\n",
       "  2030.0849714317262,\n",
       "  2255.6499682574736,\n",
       "  2481.2149650832207,\n",
       "  2706.7799619089683,\n",
       "  2932.344958734716,\n",
       "  3157.909955560463,\n",
       "  3383.47495238621,\n",
       "  3609.0399492119577,\n",
       "  3834.6049460377053,\n",
       "  4060.1699428634524,\n",
       "  4285.7349396892,\n",
       "  4511.299936514947,\n",
       "  4736.864933340695,\n",
       "  4962.429930166441,\n",
       "  5187.994926992189,\n",
       "  5413.559923817937,\n",
       "  5639.124920643684,\n",
       "  5864.689917469432,\n",
       "  6090.254914295178,\n",
       "  6315.819911120926,\n",
       "  6541.384907946674,\n",
       "  6766.94990477242,\n",
       "  6992.514901598168,\n",
       "  7218.079898423915,\n",
       "  7443.644895249663,\n",
       "  7669.209892075411,\n",
       "  7894.774888901157,\n",
       "  8120.339885726905,\n",
       "  8345.904882552652,\n",
       "  8571.4698793784,\n",
       "  8797.034876204147,\n",
       "  9022.599873029894,\n",
       "  9248.164869855642,\n",
       "  9473.72986668139,\n",
       "  9699.294863507137,\n",
       "  9924.859860332883,\n",
       "  10150.42485715863,\n",
       "  10375.989853984378,\n",
       "  10601.554850810126,\n",
       "  10827.119847635873,\n",
       "  11052.68484446162],\n",
       " [0.0,\n",
       "  0.2888428427924309,\n",
       "  1.155373265710624,\n",
       "  2.5995969523577234,\n",
       "  4.621523375418674,\n",
       "  7.221165796797117,\n",
       "  10.398541267595833,\n",
       "  14.15367062831231,\n",
       "  18.486578508975636,\n",
       "  23.39729332924428,\n",
       "  28.885847298621222,\n",
       "  34.95227641670818,\n",
       "  41.59662047340119,\n",
       "  48.81892304912524,\n",
       "  56.619231515186364,\n",
       "  64.99759703402582,\n",
       "  73.9540745596112,\n",
       "  83.48872283771031,\n",
       "  93.60160440638002,\n",
       "  104.29278559627915,\n",
       "  115.56233653119654,\n",
       "  127.41033112846175,\n",
       "  139.83684709937523,\n",
       "  152.8419659498538,\n",
       "  166.4257729808412,\n",
       "  180.58835728891447,\n",
       "  195.3298117668901,\n",
       "  210.65023310439128,\n",
       "  226.54972178849314,\n",
       "  243.02838210444648,\n",
       "  260.0863221362252,\n",
       "  277.72365376736735,\n",
       "  295.94049268164,\n",
       "  314.7369583638412,\n",
       "  334.1131741005232,\n",
       "  354.0692669808534,\n",
       "  374.60536789741576,\n",
       "  395.72161154711085,\n",
       "  417.41813643197673,\n",
       "  439.6950848601867,\n",
       "  462.5526029468705,\n",
       "  485.9908406151509,\n",
       "  510.0099515971214,\n",
       "  534.6100934348437,\n",
       "  559.7914274813454,\n",
       "  585.5541189017534,\n",
       "  611.8983366742727,\n",
       "  638.8242535914375,\n",
       "  666.3320462610891,\n",
       "  694.4218951076863])"
      ]
     },
     "execution_count": 111,
     "metadata": {},
     "output_type": "execute_result"
    }
   ],
   "source": [
    "x0,z0"
   ]
  },
  {
   "cell_type": "code",
   "execution_count": 112,
   "metadata": {},
   "outputs": [
    {
     "data": {
      "text/plain": [
       "[225.56518176169666,\n",
       " 225.56666125111053,\n",
       " 225.5696202396424,\n",
       " 225.57405874670005,\n",
       " 225.57997680139619,\n",
       " 225.58737444254686,\n",
       " 225.59625171867356,\n",
       " 225.60660868800304,\n",
       " 225.61844541846622,\n",
       " 225.63176198770017,\n",
       " 225.64655848304906,\n",
       " 225.66283500156428,\n",
       " 225.6805916500017,\n",
       " 225.69982854482856,\n",
       " 225.72054581222017,\n",
       " 225.74274358806272,\n",
       " 225.76642201794883,\n",
       " 225.79158125718783,\n",
       " 225.81822147079842,\n",
       " 225.84634283351636,\n",
       " 225.8759455297893,\n",
       " 225.90702975377832,\n",
       " 225.93959570937227,\n",
       " 225.97364361016668,\n",
       " 226.00917367948318,\n",
       " 226.04618615036563,\n",
       " 226.08468126557727,\n",
       " 226.1246592776104,\n",
       " 226.1661204486828,\n",
       " 226.20906505073324,\n",
       " 226.25349336544267,\n",
       " 226.29940568421313,\n",
       " 226.34680230818745,\n",
       " 226.39568354823808,\n",
       " 226.4460497249786,\n",
       " 226.49790116876304,\n",
       " 226.55123821968485,\n",
       " 226.60606122758307,\n",
       " 226.6623705520452,\n",
       " 226.72016656240044,\n",
       " 226.77944963773572,\n",
       " 226.84022016689133,\n",
       " 226.90247854846268,\n",
       " 226.96622519079838,\n",
       " 227.03146051202393,\n",
       " 227.0981849400066,\n",
       " 227.16639891240425,\n",
       " 227.2361028766249,\n",
       " 227.30729728986748]"
      ]
     },
     "execution_count": 112,
     "metadata": {},
     "output_type": "execute_result"
    }
   ],
   "source": [
    "length_p"
   ]
  },
  {
   "cell_type": "code",
   "execution_count": 113,
   "metadata": {},
   "outputs": [
    {
     "data": {
      "image/png": "[encoded data removed]",
      "text/plain": [
       "<Figure size 432x288 with 1 Axes>"
      ]
     },
     "metadata": {
      "needs_background": "light"
     },
     "output_type": "display_data"
    }
   ],
   "source": [
    "plt.plot(x0, z0)\n",
    "plt.show()"
   ]
  },
  {
   "cell_type": "code",
   "execution_count": 114,
   "metadata": {},
   "outputs": [],
   "source": [
    "rng = np.random.default_rng(seed=29)\n",
    "q0=np.zeros(12*node_N)"
   ]
  },
  {
   "cell_type": "code",
   "execution_count": 115,
   "metadata": {},
   "outputs": [],
   "source": [
    "init=1\n",
    "for j in range(1,12):\n",
    "    if j==1:  \n",
    "        q0[(j-1)*node_N:j*node_N]=x0\n",
    "    elif j==5:    \n",
    "        q0[(j-1)*node_N:j*node_N]=z0\n",
    "    elif j==7:    \n",
    "        q0[(j-1)*node_N:j*node_N]=np.array([-0.00010522890316932987*(i+1)/node_N*init for i in range(node_N)])\n",
    "#         q0[(j-1)*node_N]=0\n",
    "    elif j==9:    \n",
    "        q0[(j-1)*node_N:j*node_N]=np.array([6.952842745988619e-09*(i+1)/node_N*init for i in range(node_N)])\n",
    "#         q0[(j-1)*node_N]=0\n",
    "    elif j==11:   \n",
    "        q0[(j-1)*node_N:j*node_N]=np.array([0.00010649100253301569*(i+1)/node_N*init for i in range(node_N)])\n",
    "#        q0[(j-1)*node_N]=0 \n",
    "# q0[7*node_N-1]= -0.00010522890316932987 # here\n",
    "# q0[9*node_N-1]= 6.952842745988619e-09\n",
    "# q0[11*node_N-1]=0.00010649100253301569 # here"
   ]
  },
  {
   "cell_type": "code",
   "execution_count": 141,
   "metadata": {},
   "outputs": [],
   "source": [
    "def static_func(Q): # here\n",
    "    t=0\n",
    " \n",
    "    x,y,z=Q[0:node_N],Q[2*node_N:3*node_N],Q[4*node_N:5*node_N]\n",
    "    dx,dy,dz=Q[1*node_N:2*node_N],Q[3*node_N:4*node_N],Q[5*node_N:6*node_N]\n",
    "    φ,θ,ψ=Q[6*node_N:7*node_N],Q[8*node_N:9*node_N],Q[10*node_N:11*node_N]\n",
    "    Ret = Re_t(φ,θ,ψ)\n",
    "\n",
    "    \n",
    "    dφ,dθ,dψ=Q[7*node_N:8*node_N],Q[9*node_N:10*node_N],Q[11*node_N:12*node_N]\n",
    "    \n",
    "    η=[x[-1],y[-1],z[-1],φ[-1],θ[-1],ψ[-1]]\n",
    "    \n",
    "    tau_force=np.array([-Fx_0,0,0,0,0,0])\n",
    "    Z0=-np.dot(Re_b(Ret),tau_force[:3])\n",
    "    Z1 = d_s(ne, x, y, z, Ret,  ωe(φ,θ,ψ,None,None,None)).T\n",
    "#     test=np.einsum('ijk,ik->ij',Π(φ,θ,ψ).astype(np.float64),np.array([dφ,dθ,dψ]).astype(np.float64).T)\n",
    "\n",
    "#     Z1 = d_s(ne, x, y, z, Ret, test).T\n",
    "    DT_0=np.zeros((3,3))\n",
    "    Z2=ne_(dx,dy,dz,DT_0,Ret).T\n",
    "    \n",
    "    \n",
    "    Z =  Z1 + Z2 + Z0\n",
    "#     print(Z.shape)\n",
    "#     print()\n",
    "    \n",
    "    \n",
    "############################################################ \n",
    "#     print(np.einsum('i,ijk->ijk',M_totl,Re_b(Ret)).shape)\n",
    "    ddx,ddy, ddz = np.linalg.solve(np.einsum('i,ijk->ijk',M_totl,Re_b(Ret)),Z).T\n",
    "    ddx,ddy, ddz = np.einsum('ijk,ik->ij',Ret, np.stack([ddx, ddy,ddz], axis=0).T).T\n",
    "\n",
    "############################################################ \n",
    "\n",
    "    sum_0123=0\n",
    "    lll=[]\n",
    "    for i in range(1,len(z0)):\n",
    "        sum_0123=math.sqrt((x[i]-x[i-1])**2+(y[i]-y[i-1])**2+(z[i]-z[i-1])**2)\n",
    "        lll.append(sum_0123)\n",
    "        \n",
    "    cum_d_inv=[0]\n",
    "    sum_=0\n",
    "    for i in range(len(lll)-1,-1,-1):\n",
    "        sum_+=lll[i]\n",
    "        cum_d_inv.append(sum_)\n",
    "    cum_d_inv=cum_d_inv[::-1] \n",
    "     \n",
    "    \n",
    "    Irho=inert(mn, vessel_inertia, Irho_, cum_d_inv, Ws)\n",
    "    \n",
    "    \n",
    "    C0=-np.einsum('ijk,kp->ijp',np.einsum('ijk,ikr->ijr',np.linalg.inv(Π(φ,θ,ψ).astype(np.float64)),\n",
    "                        Re_b(Ret)),tau_force[3:].reshape(3,1)) \n",
    "    C3=d_me(φ,θ,ψ,Ret,  ωe(φ,θ,ψ,None,None,None))\n",
    "  \n",
    "    B_ =C3\n",
    "    B=(B_ + C0.squeeze())\n",
    "\n",
    "    A2 = Irho_e(Ret,Irho).astype(np.float64)\n",
    "    A3=Π(φ,θ,ψ).astype(np.float64)\n",
    "    A=np.einsum('ijk,ikr->ijr',A2,A3)\n",
    "\n",
    "    print(A2.shape)\n",
    "#############################################\n",
    "#     ddφ,ddθ,ddψ = np.linalg.solve(A,B).T\n",
    "    ans_φ=[]\n",
    "    ans_θ=[]\n",
    "    ans_ψ=[]\n",
    "    for i in range(len(A)):\n",
    "        a,b,c=np.linalg.lstsq(A[i],B[i], rcond=None)[0]\n",
    "        ans_φ.append(a)\n",
    "        ans_θ.append(b)\n",
    "        ans_ψ.append(c)\n",
    "    \n",
    "    ddφ,ddθ,ddψ=np.array(ans_φ),np.array(ans_θ),np.array(ans_ψ)\n",
    "#############################################\n",
    "\n",
    "    ans=np.concatenate([dx, ddx, dy, ddy, dz, ddz, dφ, ddφ, dθ, ddθ, dψ, ddψ], axis=0)\n",
    "  \n",
    " \n",
    "    return ans  "
   ]
  },
  {
   "cell_type": "code",
   "execution_count": 142,
   "metadata": {},
   "outputs": [
    {
     "data": {
      "text/plain": [
       "array([ 0.00000000e+00,  2.25564997e+02,  4.51129994e+02,  6.76694990e+02,\n",
       "        9.02259987e+02,  1.12782498e+03,  1.35338998e+03,  1.57895498e+03,\n",
       "        1.80451997e+03,  2.03008497e+03,  2.25564997e+03,  2.48121497e+03,\n",
       "        2.70677996e+03,  2.93234496e+03,  3.15790996e+03,  3.38347495e+03,\n",
       "        3.60903995e+03,  3.83460495e+03,  4.06016994e+03,  4.28573494e+03,\n",
       "        4.51129994e+03,  4.73686493e+03,  4.96242993e+03,  5.18799493e+03,\n",
       "        5.41355992e+03,  5.63912492e+03,  5.86468992e+03,  6.09025491e+03,\n",
       "        6.31581991e+03,  6.54138491e+03,  6.76694990e+03,  6.99251490e+03,\n",
       "        7.21807990e+03,  7.44364490e+03,  7.66920989e+03,  7.89477489e+03,\n",
       "        8.12033989e+03,  8.34590488e+03,  8.57146988e+03,  8.79703488e+03,\n",
       "        9.02259987e+03,  9.24816487e+03,  9.47372987e+03,  9.69929486e+03,\n",
       "        9.92485986e+03,  1.01504249e+04,  1.03759899e+04,  1.06015549e+04,\n",
       "        1.08271198e+04,  1.10526848e+04,  0.00000000e+00,  0.00000000e+00,\n",
       "        0.00000000e+00,  0.00000000e+00,  0.00000000e+00,  0.00000000e+00,\n",
       "        0.00000000e+00,  0.00000000e+00,  0.00000000e+00,  0.00000000e+00,\n",
       "        0.00000000e+00,  0.00000000e+00,  0.00000000e+00,  0.00000000e+00,\n",
       "        0.00000000e+00,  0.00000000e+00,  0.00000000e+00,  0.00000000e+00,\n",
       "        0.00000000e+00,  0.00000000e+00,  0.00000000e+00,  0.00000000e+00,\n",
       "        0.00000000e+00,  0.00000000e+00,  0.00000000e+00,  0.00000000e+00,\n",
       "        0.00000000e+00,  0.00000000e+00,  0.00000000e+00,  0.00000000e+00,\n",
       "        0.00000000e+00,  0.00000000e+00,  0.00000000e+00,  0.00000000e+00,\n",
       "        0.00000000e+00,  0.00000000e+00,  0.00000000e+00,  0.00000000e+00,\n",
       "        0.00000000e+00,  0.00000000e+00,  0.00000000e+00,  0.00000000e+00,\n",
       "        0.00000000e+00,  0.00000000e+00,  0.00000000e+00,  0.00000000e+00,\n",
       "        0.00000000e+00,  0.00000000e+00,  0.00000000e+00,  0.00000000e+00,\n",
       "        0.00000000e+00,  0.00000000e+00,  0.00000000e+00,  0.00000000e+00,\n",
       "        0.00000000e+00,  0.00000000e+00,  0.00000000e+00,  0.00000000e+00,\n",
       "        0.00000000e+00,  0.00000000e+00,  0.00000000e+00,  0.00000000e+00,\n",
       "        0.00000000e+00,  0.00000000e+00,  0.00000000e+00,  0.00000000e+00,\n",
       "        0.00000000e+00,  0.00000000e+00,  0.00000000e+00,  0.00000000e+00,\n",
       "        0.00000000e+00,  0.00000000e+00,  0.00000000e+00,  0.00000000e+00,\n",
       "        0.00000000e+00,  0.00000000e+00,  0.00000000e+00,  0.00000000e+00,\n",
       "        0.00000000e+00,  0.00000000e+00,  0.00000000e+00,  0.00000000e+00,\n",
       "        0.00000000e+00,  0.00000000e+00,  0.00000000e+00,  0.00000000e+00,\n",
       "        0.00000000e+00,  0.00000000e+00,  0.00000000e+00,  0.00000000e+00,\n",
       "        0.00000000e+00,  0.00000000e+00,  0.00000000e+00,  0.00000000e+00,\n",
       "        0.00000000e+00,  0.00000000e+00,  0.00000000e+00,  0.00000000e+00,\n",
       "        0.00000000e+00,  0.00000000e+00,  0.00000000e+00,  0.00000000e+00,\n",
       "        0.00000000e+00,  0.00000000e+00,  0.00000000e+00,  0.00000000e+00,\n",
       "        0.00000000e+00,  0.00000000e+00,  0.00000000e+00,  0.00000000e+00,\n",
       "        0.00000000e+00,  0.00000000e+00,  0.00000000e+00,  0.00000000e+00,\n",
       "        0.00000000e+00,  0.00000000e+00,  0.00000000e+00,  0.00000000e+00,\n",
       "        0.00000000e+00,  0.00000000e+00,  0.00000000e+00,  0.00000000e+00,\n",
       "        0.00000000e+00,  0.00000000e+00,  0.00000000e+00,  0.00000000e+00,\n",
       "        0.00000000e+00,  0.00000000e+00,  0.00000000e+00,  0.00000000e+00,\n",
       "        0.00000000e+00,  0.00000000e+00,  0.00000000e+00,  0.00000000e+00,\n",
       "        0.00000000e+00,  0.00000000e+00,  0.00000000e+00,  0.00000000e+00,\n",
       "        0.00000000e+00,  0.00000000e+00,  0.00000000e+00,  0.00000000e+00,\n",
       "        0.00000000e+00,  0.00000000e+00,  0.00000000e+00,  0.00000000e+00,\n",
       "        0.00000000e+00,  0.00000000e+00,  0.00000000e+00,  0.00000000e+00,\n",
       "        0.00000000e+00,  2.88842843e-01,  1.15537327e+00,  2.59959695e+00,\n",
       "        4.62152338e+00,  7.22116580e+00,  1.03985413e+01,  1.41536706e+01,\n",
       "        1.84865785e+01,  2.33972933e+01,  2.88858473e+01,  3.49522764e+01,\n",
       "        4.15966205e+01,  4.88189230e+01,  5.66192315e+01,  6.49975970e+01,\n",
       "        7.39540746e+01,  8.34887228e+01,  9.36016044e+01,  1.04292786e+02,\n",
       "        1.15562337e+02,  1.27410331e+02,  1.39836847e+02,  1.52841966e+02,\n",
       "        1.66425773e+02,  1.80588357e+02,  1.95329812e+02,  2.10650233e+02,\n",
       "        2.26549722e+02,  2.43028382e+02,  2.60086322e+02,  2.77723654e+02,\n",
       "        2.95940493e+02,  3.14736958e+02,  3.34113174e+02,  3.54069267e+02,\n",
       "        3.74605368e+02,  3.95721612e+02,  4.17418136e+02,  4.39695085e+02,\n",
       "        4.62552603e+02,  4.85990841e+02,  5.10009952e+02,  5.34610093e+02,\n",
       "        5.59791427e+02,  5.85554119e+02,  6.11898337e+02,  6.38824254e+02,\n",
       "        6.66332046e+02,  6.94421895e+02,  0.00000000e+00,  0.00000000e+00,\n",
       "        0.00000000e+00,  0.00000000e+00,  0.00000000e+00,  0.00000000e+00,\n",
       "        0.00000000e+00,  0.00000000e+00,  0.00000000e+00,  0.00000000e+00,\n",
       "        0.00000000e+00,  0.00000000e+00,  0.00000000e+00,  0.00000000e+00,\n",
       "        0.00000000e+00,  0.00000000e+00,  0.00000000e+00,  0.00000000e+00,\n",
       "        0.00000000e+00,  0.00000000e+00,  0.00000000e+00,  0.00000000e+00,\n",
       "        0.00000000e+00,  0.00000000e+00,  0.00000000e+00,  0.00000000e+00,\n",
       "        0.00000000e+00,  0.00000000e+00,  0.00000000e+00,  0.00000000e+00,\n",
       "        0.00000000e+00,  0.00000000e+00,  0.00000000e+00,  0.00000000e+00,\n",
       "        0.00000000e+00,  0.00000000e+00,  0.00000000e+00,  0.00000000e+00,\n",
       "        0.00000000e+00,  0.00000000e+00,  0.00000000e+00,  0.00000000e+00,\n",
       "        0.00000000e+00,  0.00000000e+00,  0.00000000e+00,  0.00000000e+00,\n",
       "        0.00000000e+00,  0.00000000e+00,  0.00000000e+00,  0.00000000e+00,\n",
       "       -2.10457806e-06, -4.20915613e-06, -6.31373419e-06, -8.41831225e-06,\n",
       "       -1.05228903e-05, -1.26274684e-05, -1.47320464e-05, -1.68366245e-05,\n",
       "       -1.89412026e-05, -2.10457806e-05, -2.31503587e-05, -2.52549368e-05,\n",
       "       -2.73595148e-05, -2.94640929e-05, -3.15686710e-05, -3.36732490e-05,\n",
       "       -3.57778271e-05, -3.78824051e-05, -3.99869832e-05, -4.20915613e-05,\n",
       "       -4.41961393e-05, -4.63007174e-05, -4.84052955e-05, -5.05098735e-05,\n",
       "       -5.26144516e-05, -5.47190296e-05, -5.68236077e-05, -5.89281858e-05,\n",
       "       -6.10327638e-05, -6.31373419e-05, -6.52419200e-05, -6.73464980e-05,\n",
       "       -6.94510761e-05, -7.15556542e-05, -7.36602322e-05, -7.57648103e-05,\n",
       "       -7.78693883e-05, -7.99739664e-05, -8.20785445e-05, -8.41831225e-05,\n",
       "       -8.62877006e-05, -8.83922787e-05, -9.04968567e-05, -9.26014348e-05,\n",
       "       -9.47060129e-05, -9.68105909e-05, -9.89151690e-05, -1.01019747e-04,\n",
       "       -1.03124325e-04, -1.05228903e-04,  0.00000000e+00,  0.00000000e+00,\n",
       "        0.00000000e+00,  0.00000000e+00,  0.00000000e+00,  0.00000000e+00,\n",
       "        0.00000000e+00,  0.00000000e+00,  0.00000000e+00,  0.00000000e+00,\n",
       "        0.00000000e+00,  0.00000000e+00,  0.00000000e+00,  0.00000000e+00,\n",
       "        0.00000000e+00,  0.00000000e+00,  0.00000000e+00,  0.00000000e+00,\n",
       "        0.00000000e+00,  0.00000000e+00,  0.00000000e+00,  0.00000000e+00,\n",
       "        0.00000000e+00,  0.00000000e+00,  0.00000000e+00,  0.00000000e+00,\n",
       "        0.00000000e+00,  0.00000000e+00,  0.00000000e+00,  0.00000000e+00,\n",
       "        0.00000000e+00,  0.00000000e+00,  0.00000000e+00,  0.00000000e+00,\n",
       "        0.00000000e+00,  0.00000000e+00,  0.00000000e+00,  0.00000000e+00,\n",
       "        0.00000000e+00,  0.00000000e+00,  0.00000000e+00,  0.00000000e+00,\n",
       "        0.00000000e+00,  0.00000000e+00,  0.00000000e+00,  0.00000000e+00,\n",
       "        0.00000000e+00,  0.00000000e+00,  0.00000000e+00,  0.00000000e+00,\n",
       "        1.39056855e-10,  2.78113710e-10,  4.17170565e-10,  5.56227420e-10,\n",
       "        6.95284275e-10,  8.34341130e-10,  9.73397984e-10,  1.11245484e-09,\n",
       "        1.25151169e-09,  1.39056855e-09,  1.52962540e-09,  1.66868226e-09,\n",
       "        1.80773911e-09,  1.94679597e-09,  2.08585282e-09,  2.22490968e-09,\n",
       "        2.36396653e-09,  2.50302339e-09,  2.64208024e-09,  2.78113710e-09,\n",
       "        2.92019395e-09,  3.05925081e-09,  3.19830766e-09,  3.33736452e-09,\n",
       "        3.47642137e-09,  3.61547823e-09,  3.75453508e-09,  3.89359194e-09,\n",
       "        4.03264879e-09,  4.17170565e-09,  4.31076250e-09,  4.44981936e-09,\n",
       "        4.58887621e-09,  4.72793307e-09,  4.86698992e-09,  5.00604678e-09,\n",
       "        5.14510363e-09,  5.28416049e-09,  5.42321734e-09,  5.56227420e-09,\n",
       "        5.70133105e-09,  5.84038791e-09,  5.97944476e-09,  6.11850162e-09,\n",
       "        6.25755847e-09,  6.39661533e-09,  6.53567218e-09,  6.67472904e-09,\n",
       "        6.81378589e-09,  6.95284275e-09,  0.00000000e+00,  0.00000000e+00,\n",
       "        0.00000000e+00,  0.00000000e+00,  0.00000000e+00,  0.00000000e+00,\n",
       "        0.00000000e+00,  0.00000000e+00,  0.00000000e+00,  0.00000000e+00,\n",
       "        0.00000000e+00,  0.00000000e+00,  0.00000000e+00,  0.00000000e+00,\n",
       "        0.00000000e+00,  0.00000000e+00,  0.00000000e+00,  0.00000000e+00,\n",
       "        0.00000000e+00,  0.00000000e+00,  0.00000000e+00,  0.00000000e+00,\n",
       "        0.00000000e+00,  0.00000000e+00,  0.00000000e+00,  0.00000000e+00,\n",
       "        0.00000000e+00,  0.00000000e+00,  0.00000000e+00,  0.00000000e+00,\n",
       "        0.00000000e+00,  0.00000000e+00,  0.00000000e+00,  0.00000000e+00,\n",
       "        0.00000000e+00,  0.00000000e+00,  0.00000000e+00,  0.00000000e+00,\n",
       "        0.00000000e+00,  0.00000000e+00,  0.00000000e+00,  0.00000000e+00,\n",
       "        0.00000000e+00,  0.00000000e+00,  0.00000000e+00,  0.00000000e+00,\n",
       "        0.00000000e+00,  0.00000000e+00,  0.00000000e+00,  0.00000000e+00,\n",
       "        2.12982005e-06,  4.25964010e-06,  6.38946015e-06,  8.51928020e-06,\n",
       "        1.06491003e-05,  1.27789203e-05,  1.49087404e-05,  1.70385604e-05,\n",
       "        1.91683805e-05,  2.12982005e-05,  2.34280206e-05,  2.55578406e-05,\n",
       "        2.76876607e-05,  2.98174807e-05,  3.19473008e-05,  3.40771208e-05,\n",
       "        3.62069409e-05,  3.83367609e-05,  4.04665810e-05,  4.25964010e-05,\n",
       "        4.47262211e-05,  4.68560411e-05,  4.89858612e-05,  5.11156812e-05,\n",
       "        5.32455013e-05,  5.53753213e-05,  5.75051414e-05,  5.96349614e-05,\n",
       "        6.17647815e-05,  6.38946015e-05,  6.60244216e-05,  6.81542416e-05,\n",
       "        7.02840617e-05,  7.24138817e-05,  7.45437018e-05,  7.66735218e-05,\n",
       "        7.88033419e-05,  8.09331619e-05,  8.30629820e-05,  8.51928020e-05,\n",
       "        8.73226221e-05,  8.94524421e-05,  9.15822622e-05,  9.37120822e-05,\n",
       "        9.58419023e-05,  9.79717223e-05,  1.00101542e-04,  1.02231362e-04,\n",
       "        1.04361182e-04,  1.06491003e-04,  0.00000000e+00,  0.00000000e+00,\n",
       "        0.00000000e+00,  0.00000000e+00,  0.00000000e+00,  0.00000000e+00,\n",
       "        0.00000000e+00,  0.00000000e+00,  0.00000000e+00,  0.00000000e+00,\n",
       "        0.00000000e+00,  0.00000000e+00,  0.00000000e+00,  0.00000000e+00,\n",
       "        0.00000000e+00,  0.00000000e+00,  0.00000000e+00,  0.00000000e+00,\n",
       "        0.00000000e+00,  0.00000000e+00,  0.00000000e+00,  0.00000000e+00,\n",
       "        0.00000000e+00,  0.00000000e+00,  0.00000000e+00,  0.00000000e+00,\n",
       "        0.00000000e+00,  0.00000000e+00,  0.00000000e+00,  0.00000000e+00,\n",
       "        0.00000000e+00,  0.00000000e+00,  0.00000000e+00,  0.00000000e+00,\n",
       "        0.00000000e+00,  0.00000000e+00,  0.00000000e+00,  0.00000000e+00,\n",
       "        0.00000000e+00,  0.00000000e+00,  0.00000000e+00,  0.00000000e+00,\n",
       "        0.00000000e+00,  0.00000000e+00,  0.00000000e+00,  0.00000000e+00,\n",
       "        0.00000000e+00,  0.00000000e+00,  0.00000000e+00,  0.00000000e+00])"
      ]
     },
     "execution_count": 142,
     "metadata": {},
     "output_type": "execute_result"
    }
   ],
   "source": [
    "q0"
   ]
  },
  {
   "cell_type": "code",
   "execution_count": 143,
   "metadata": {},
   "outputs": [
    {
     "name": "stdout",
     "output_type": "stream",
     "text": [
      "(50, 3, 3)\n",
      "(50, 3, 3)\n",
      "(50, 3, 3)\n",
      "(50, 3, 3)\n",
      "(50, 3, 3)\n",
      "(50, 3, 3)\n",
      "(50, 3, 3)\n",
      "(50, 3, 3)\n",
      "(50, 3, 3)\n",
      "(50, 3, 3)\n",
      "(50, 3, 3)\n",
      "(50, 3, 3)\n",
      "(50, 3, 3)\n",
      "(50, 3, 3)\n",
      "(50, 3, 3)\n",
      "(50, 3, 3)\n",
      "(50, 3, 3)\n",
      "(50, 3, 3)\n",
      "(50, 3, 3)\n",
      "(50, 3, 3)\n",
      "(50, 3, 3)\n",
      "(50, 3, 3)\n",
      "(50, 3, 3)\n",
      "(50, 3, 3)\n",
      "(50, 3, 3)\n",
      "(50, 3, 3)\n",
      "(50, 3, 3)\n",
      "(50, 3, 3)\n",
      "(50, 3, 3)\n",
      "(50, 3, 3)\n",
      "(50, 3, 3)\n",
      "(50, 3, 3)\n",
      "(50, 3, 3)\n",
      "(50, 3, 3)\n",
      "(50, 3, 3)\n",
      "(50, 3, 3)\n",
      "(50, 3, 3)\n",
      "(50, 3, 3)\n",
      "(50, 3, 3)\n",
      "(50, 3, 3)\n",
      "(50, 3, 3)\n",
      "(50, 3, 3)\n",
      "(50, 3, 3)\n",
      "(50, 3, 3)\n",
      "(50, 3, 3)\n",
      "(50, 3, 3)\n",
      "(50, 3, 3)\n",
      "(50, 3, 3)\n",
      "(50, 3, 3)\n",
      "(50, 3, 3)\n",
      "(50, 3, 3)\n",
      "(50, 3, 3)\n",
      "(50, 3, 3)\n",
      "(50, 3, 3)\n",
      "(50, 3, 3)\n",
      "(50, 3, 3)\n",
      "(50, 3, 3)\n",
      "(50, 3, 3)\n",
      "(50, 3, 3)\n",
      "(50, 3, 3)\n",
      "(50, 3, 3)\n",
      "(50, 3, 3)\n",
      "(50, 3, 3)\n",
      "(50, 3, 3)\n",
      "(50, 3, 3)\n",
      "(50, 3, 3)\n",
      "(50, 3, 3)\n",
      "(50, 3, 3)\n",
      "(50, 3, 3)\n",
      "(50, 3, 3)\n",
      "(50, 3, 3)\n",
      "(50, 3, 3)\n",
      "(50, 3, 3)\n",
      "(50, 3, 3)\n",
      "(50, 3, 3)\n",
      "(50, 3, 3)\n",
      "(50, 3, 3)\n",
      "(50, 3, 3)\n",
      "(50, 3, 3)\n",
      "(50, 3, 3)\n",
      "(50, 3, 3)\n",
      "(50, 3, 3)\n",
      "(50, 3, 3)\n",
      "(50, 3, 3)\n",
      "(50, 3, 3)\n",
      "(50, 3, 3)\n",
      "(50, 3, 3)\n",
      "(50, 3, 3)\n",
      "(50, 3, 3)\n",
      "(50, 3, 3)\n",
      "(50, 3, 3)\n",
      "(50, 3, 3)\n",
      "(50, 3, 3)\n",
      "(50, 3, 3)\n",
      "(50, 3, 3)\n",
      "(50, 3, 3)\n",
      "(50, 3, 3)\n",
      "(50, 3, 3)\n",
      "(50, 3, 3)\n",
      "(50, 3, 3)\n",
      "(50, 3, 3)\n",
      "(50, 3, 3)\n",
      "(50, 3, 3)\n",
      "(50, 3, 3)\n",
      "(50, 3, 3)\n",
      "(50, 3, 3)\n",
      "(50, 3, 3)\n",
      "(50, 3, 3)\n",
      "(50, 3, 3)\n",
      "(50, 3, 3)\n",
      "(50, 3, 3)\n",
      "(50, 3, 3)\n",
      "(50, 3, 3)\n",
      "(50, 3, 3)\n",
      "(50, 3, 3)\n",
      "(50, 3, 3)\n",
      "(50, 3, 3)\n",
      "(50, 3, 3)\n",
      "(50, 3, 3)\n",
      "(50, 3, 3)\n",
      "(50, 3, 3)\n",
      "(50, 3, 3)\n",
      "(50, 3, 3)\n",
      "(50, 3, 3)\n",
      "(50, 3, 3)\n",
      "(50, 3, 3)\n",
      "(50, 3, 3)\n",
      "(50, 3, 3)\n",
      "(50, 3, 3)\n",
      "(50, 3, 3)\n",
      "(50, 3, 3)\n",
      "(50, 3, 3)\n",
      "(50, 3, 3)\n",
      "(50, 3, 3)\n",
      "(50, 3, 3)\n",
      "(50, 3, 3)\n",
      "(50, 3, 3)\n",
      "(50, 3, 3)\n",
      "(50, 3, 3)\n",
      "(50, 3, 3)\n",
      "(50, 3, 3)\n",
      "(50, 3, 3)\n",
      "(50, 3, 3)\n",
      "(50, 3, 3)\n",
      "(50, 3, 3)\n",
      "(50, 3, 3)\n",
      "(50, 3, 3)\n",
      "(50, 3, 3)\n",
      "(50, 3, 3)\n",
      "(50, 3, 3)\n",
      "(50, 3, 3)\n",
      "(50, 3, 3)\n",
      "(50, 3, 3)\n",
      "(50, 3, 3)\n",
      "(50, 3, 3)\n",
      "(50, 3, 3)\n",
      "(50, 3, 3)\n",
      "(50, 3, 3)\n",
      "(50, 3, 3)\n",
      "(50, 3, 3)\n"
     ]
    },
    {
     "ename": "KeyboardInterrupt",
     "evalue": "",
     "output_type": "error",
     "traceback": [
      "\u001b[0;31m---------------------------------------------------------------------------\u001b[0m",
      "\u001b[0;31mKeyboardInterrupt\u001b[0m                         Traceback (most recent call last)",
      "\u001b[0;32m<ipython-input-143-f1d0906abe72>\u001b[0m in \u001b[0;36m<module>\u001b[0;34m\u001b[0m\n\u001b[0;32m----> 1\u001b[0;31m \u001b[0mroot\u001b[0m \u001b[0;34m=\u001b[0m \u001b[0mfsolve\u001b[0m\u001b[0;34m(\u001b[0m\u001b[0mstatic_func\u001b[0m\u001b[0;34m,\u001b[0m \u001b[0mq0\u001b[0m\u001b[0;34m)\u001b[0m\u001b[0;34m\u001b[0m\u001b[0;34m\u001b[0m\u001b[0m\n\u001b[0m",
      "\u001b[0;32m/Library/Frameworks/Python.framework/Versions/3.7/lib/python3.7/site-packages/scipy/optimize/minpack.py\u001b[0m in \u001b[0;36mfsolve\u001b[0;34m(func, x0, args, fprime, full_output, col_deriv, xtol, maxfev, band, epsfcn, factor, diag)\u001b[0m\n\u001b[1;32m    158\u001b[0m                'diag': diag}\n\u001b[1;32m    159\u001b[0m \u001b[0;34m\u001b[0m\u001b[0m\n\u001b[0;32m--> 160\u001b[0;31m     \u001b[0mres\u001b[0m \u001b[0;34m=\u001b[0m \u001b[0m_root_hybr\u001b[0m\u001b[0;34m(\u001b[0m\u001b[0mfunc\u001b[0m\u001b[0;34m,\u001b[0m \u001b[0mx0\u001b[0m\u001b[0;34m,\u001b[0m \u001b[0margs\u001b[0m\u001b[0;34m,\u001b[0m \u001b[0mjac\u001b[0m\u001b[0;34m=\u001b[0m\u001b[0mfprime\u001b[0m\u001b[0;34m,\u001b[0m \u001b[0;34m**\u001b[0m\u001b[0moptions\u001b[0m\u001b[0;34m)\u001b[0m\u001b[0;34m\u001b[0m\u001b[0;34m\u001b[0m\u001b[0m\n\u001b[0m\u001b[1;32m    161\u001b[0m     \u001b[0;32mif\u001b[0m \u001b[0mfull_output\u001b[0m\u001b[0;34m:\u001b[0m\u001b[0;34m\u001b[0m\u001b[0;34m\u001b[0m\u001b[0m\n\u001b[1;32m    162\u001b[0m         \u001b[0mx\u001b[0m \u001b[0;34m=\u001b[0m \u001b[0mres\u001b[0m\u001b[0;34m[\u001b[0m\u001b[0;34m'x'\u001b[0m\u001b[0;34m]\u001b[0m\u001b[0;34m\u001b[0m\u001b[0;34m\u001b[0m\u001b[0m\n",
      "\u001b[0;32m/Library/Frameworks/Python.framework/Versions/3.7/lib/python3.7/site-packages/scipy/optimize/minpack.py\u001b[0m in \u001b[0;36m_root_hybr\u001b[0;34m(func, x0, args, jac, col_deriv, xtol, maxfev, band, eps, factor, diag, **unknown_options)\u001b[0m\n\u001b[1;32m    236\u001b[0m             \u001b[0mmaxfev\u001b[0m \u001b[0;34m=\u001b[0m \u001b[0;36m200\u001b[0m \u001b[0;34m*\u001b[0m \u001b[0;34m(\u001b[0m\u001b[0mn\u001b[0m \u001b[0;34m+\u001b[0m \u001b[0;36m1\u001b[0m\u001b[0;34m)\u001b[0m\u001b[0;34m\u001b[0m\u001b[0;34m\u001b[0m\u001b[0m\n\u001b[1;32m    237\u001b[0m         retval = _minpack._hybrd(func, x0, args, 1, xtol, maxfev,\n\u001b[0;32m--> 238\u001b[0;31m                                  ml, mu, epsfcn, factor, diag)\n\u001b[0m\u001b[1;32m    239\u001b[0m     \u001b[0;32melse\u001b[0m\u001b[0;34m:\u001b[0m\u001b[0;34m\u001b[0m\u001b[0;34m\u001b[0m\u001b[0m\n\u001b[1;32m    240\u001b[0m         \u001b[0m_check_func\u001b[0m\u001b[0;34m(\u001b[0m\u001b[0;34m'fsolve'\u001b[0m\u001b[0;34m,\u001b[0m \u001b[0;34m'fprime'\u001b[0m\u001b[0;34m,\u001b[0m \u001b[0mDfun\u001b[0m\u001b[0;34m,\u001b[0m \u001b[0mx0\u001b[0m\u001b[0;34m,\u001b[0m \u001b[0margs\u001b[0m\u001b[0;34m,\u001b[0m \u001b[0mn\u001b[0m\u001b[0;34m,\u001b[0m \u001b[0;34m(\u001b[0m\u001b[0mn\u001b[0m\u001b[0;34m,\u001b[0m \u001b[0mn\u001b[0m\u001b[0;34m)\u001b[0m\u001b[0;34m)\u001b[0m\u001b[0;34m\u001b[0m\u001b[0;34m\u001b[0m\u001b[0m\n",
      "\u001b[0;32m<ipython-input-141-6b8b82bf40b1>\u001b[0m in \u001b[0;36mstatic_func\u001b[0;34m(Q)\u001b[0m\n\u001b[1;32m     69\u001b[0m     \u001b[0mans_ψ\u001b[0m\u001b[0;34m=\u001b[0m\u001b[0;34m[\u001b[0m\u001b[0;34m]\u001b[0m\u001b[0;34m\u001b[0m\u001b[0;34m\u001b[0m\u001b[0m\n\u001b[1;32m     70\u001b[0m     \u001b[0;32mfor\u001b[0m \u001b[0mi\u001b[0m \u001b[0;32min\u001b[0m \u001b[0mrange\u001b[0m\u001b[0;34m(\u001b[0m\u001b[0mlen\u001b[0m\u001b[0;34m(\u001b[0m\u001b[0mA\u001b[0m\u001b[0;34m)\u001b[0m\u001b[0;34m)\u001b[0m\u001b[0;34m:\u001b[0m\u001b[0;34m\u001b[0m\u001b[0;34m\u001b[0m\u001b[0m\n\u001b[0;32m---> 71\u001b[0;31m         \u001b[0ma\u001b[0m\u001b[0;34m,\u001b[0m\u001b[0mb\u001b[0m\u001b[0;34m,\u001b[0m\u001b[0mc\u001b[0m\u001b[0;34m=\u001b[0m\u001b[0mnp\u001b[0m\u001b[0;34m.\u001b[0m\u001b[0mlinalg\u001b[0m\u001b[0;34m.\u001b[0m\u001b[0mlstsq\u001b[0m\u001b[0;34m(\u001b[0m\u001b[0mA\u001b[0m\u001b[0;34m[\u001b[0m\u001b[0mi\u001b[0m\u001b[0;34m]\u001b[0m\u001b[0;34m,\u001b[0m\u001b[0mB\u001b[0m\u001b[0;34m[\u001b[0m\u001b[0mi\u001b[0m\u001b[0;34m]\u001b[0m\u001b[0;34m,\u001b[0m \u001b[0mrcond\u001b[0m\u001b[0;34m=\u001b[0m\u001b[0;32mNone\u001b[0m\u001b[0;34m)\u001b[0m\u001b[0;34m[\u001b[0m\u001b[0;36m0\u001b[0m\u001b[0;34m]\u001b[0m\u001b[0;34m\u001b[0m\u001b[0;34m\u001b[0m\u001b[0m\n\u001b[0m\u001b[1;32m     72\u001b[0m         \u001b[0mans_φ\u001b[0m\u001b[0;34m.\u001b[0m\u001b[0mappend\u001b[0m\u001b[0;34m(\u001b[0m\u001b[0ma\u001b[0m\u001b[0;34m)\u001b[0m\u001b[0;34m\u001b[0m\u001b[0;34m\u001b[0m\u001b[0m\n\u001b[1;32m     73\u001b[0m         \u001b[0mans_θ\u001b[0m\u001b[0;34m.\u001b[0m\u001b[0mappend\u001b[0m\u001b[0;34m(\u001b[0m\u001b[0mb\u001b[0m\u001b[0;34m)\u001b[0m\u001b[0;34m\u001b[0m\u001b[0;34m\u001b[0m\u001b[0m\n",
      "\u001b[0;32m<__array_function__ internals>\u001b[0m in \u001b[0;36mlstsq\u001b[0;34m(*args, **kwargs)\u001b[0m\n",
      "\u001b[0;32m/Library/Frameworks/Python.framework/Versions/3.7/lib/python3.7/site-packages/numpy/linalg/linalg.py\u001b[0m in \u001b[0;36mlstsq\u001b[0;34m(a, b, rcond)\u001b[0m\n\u001b[1;32m   2275\u001b[0m         \u001b[0;32mraise\u001b[0m \u001b[0mLinAlgError\u001b[0m\u001b[0;34m(\u001b[0m\u001b[0;34m'Incompatible dimensions'\u001b[0m\u001b[0;34m)\u001b[0m\u001b[0;34m\u001b[0m\u001b[0;34m\u001b[0m\u001b[0m\n\u001b[1;32m   2276\u001b[0m \u001b[0;34m\u001b[0m\u001b[0m\n\u001b[0;32m-> 2277\u001b[0;31m     \u001b[0mt\u001b[0m\u001b[0;34m,\u001b[0m \u001b[0mresult_t\u001b[0m \u001b[0;34m=\u001b[0m \u001b[0m_commonType\u001b[0m\u001b[0;34m(\u001b[0m\u001b[0ma\u001b[0m\u001b[0;34m,\u001b[0m \u001b[0mb\u001b[0m\u001b[0;34m)\u001b[0m\u001b[0;34m\u001b[0m\u001b[0;34m\u001b[0m\u001b[0m\n\u001b[0m\u001b[1;32m   2278\u001b[0m     \u001b[0;31m# FIXME: real_t is unused\u001b[0m\u001b[0;34m\u001b[0m\u001b[0;34m\u001b[0m\u001b[0;34m\u001b[0m\u001b[0m\n\u001b[1;32m   2279\u001b[0m     \u001b[0mreal_t\u001b[0m \u001b[0;34m=\u001b[0m \u001b[0m_linalgRealType\u001b[0m\u001b[0;34m(\u001b[0m\u001b[0mt\u001b[0m\u001b[0;34m)\u001b[0m\u001b[0;34m\u001b[0m\u001b[0;34m\u001b[0m\u001b[0m\n",
      "\u001b[0;32m/Library/Frameworks/Python.framework/Versions/3.7/lib/python3.7/site-packages/numpy/linalg/linalg.py\u001b[0m in \u001b[0;36m_commonType\u001b[0;34m(*arrays)\u001b[0m\n\u001b[1;32m    138\u001b[0m     \u001b[0mis_complex\u001b[0m \u001b[0;34m=\u001b[0m \u001b[0;32mFalse\u001b[0m\u001b[0;34m\u001b[0m\u001b[0;34m\u001b[0m\u001b[0m\n\u001b[1;32m    139\u001b[0m     \u001b[0;32mfor\u001b[0m \u001b[0ma\u001b[0m \u001b[0;32min\u001b[0m \u001b[0marrays\u001b[0m\u001b[0;34m:\u001b[0m\u001b[0;34m\u001b[0m\u001b[0;34m\u001b[0m\u001b[0m\n\u001b[0;32m--> 140\u001b[0;31m         \u001b[0;32mif\u001b[0m \u001b[0missubclass\u001b[0m\u001b[0;34m(\u001b[0m\u001b[0ma\u001b[0m\u001b[0;34m.\u001b[0m\u001b[0mdtype\u001b[0m\u001b[0;34m.\u001b[0m\u001b[0mtype\u001b[0m\u001b[0;34m,\u001b[0m \u001b[0minexact\u001b[0m\u001b[0;34m)\u001b[0m\u001b[0;34m:\u001b[0m\u001b[0;34m\u001b[0m\u001b[0;34m\u001b[0m\u001b[0m\n\u001b[0m\u001b[1;32m    141\u001b[0m             \u001b[0;32mif\u001b[0m \u001b[0misComplexType\u001b[0m\u001b[0;34m(\u001b[0m\u001b[0ma\u001b[0m\u001b[0;34m.\u001b[0m\u001b[0mdtype\u001b[0m\u001b[0;34m.\u001b[0m\u001b[0mtype\u001b[0m\u001b[0;34m)\u001b[0m\u001b[0;34m:\u001b[0m\u001b[0;34m\u001b[0m\u001b[0;34m\u001b[0m\u001b[0m\n\u001b[1;32m    142\u001b[0m                 \u001b[0mis_complex\u001b[0m \u001b[0;34m=\u001b[0m \u001b[0;32mTrue\u001b[0m\u001b[0;34m\u001b[0m\u001b[0;34m\u001b[0m\u001b[0m\n",
      "\u001b[0;31mKeyboardInterrupt\u001b[0m: "
     ]
    }
   ],
   "source": [
    "root = fsolve(static_func, q0)"
   ]
  },
  {
   "cell_type": "code",
   "execution_count": null,
   "metadata": {},
   "outputs": [],
   "source": []
  },
  {
   "cell_type": "code",
   "execution_count": null,
   "metadata": {},
   "outputs": [],
   "source": [
    "root"
   ]
  },
  {
   "cell_type": "code",
   "execution_count": null,
   "metadata": {},
   "outputs": [],
   "source": [
    "x0_,z0_=root[:node_N],root[4*node_N:5*node_N]"
   ]
  },
  {
   "cell_type": "code",
   "execution_count": null,
   "metadata": {},
   "outputs": [],
   "source": [
    "q0=root"
   ]
  },
  {
   "cell_type": "code",
   "execution_count": null,
   "metadata": {},
   "outputs": [],
   "source": [
    "q0"
   ]
  },
  {
   "cell_type": "code",
   "execution_count": null,
   "metadata": {},
   "outputs": [],
   "source": [
    "# x0_"
   ]
  },
  {
   "cell_type": "code",
   "execution_count": null,
   "metadata": {},
   "outputs": [],
   "source": [
    "# z0"
   ]
  },
  {
   "cell_type": "code",
   "execution_count": null,
   "metadata": {},
   "outputs": [],
   "source": [
    "# z0_"
   ]
  },
  {
   "cell_type": "code",
   "execution_count": null,
   "metadata": {},
   "outputs": [],
   "source": [
    "plt.plot(x0_, z0_)\n",
    "plt.show()"
   ]
  },
  {
   "cell_type": "code",
   "execution_count": null,
   "metadata": {},
   "outputs": [],
   "source": []
  },
  {
   "cell_type": "code",
   "execution_count": null,
   "metadata": {},
   "outputs": [],
   "source": [
    "# init=1\n",
    "# for j in range(1,12):\n",
    "#     if j==1:  \n",
    "#         q0[(j-1)*node_N:j*node_N]=x0_\n",
    "#     elif j==5:    \n",
    "#         q0[(j-1)*node_N:j*node_N]=z0_\n",
    "#     elif j==9:    \n",
    "#         q0[(j-1)*node_N:j*node_N]=init*rng.standard_normal(node_N)\n",
    "#         q0[(j-1)*node_N]=0\n",
    "#     elif j==11:   \n",
    "#         q0[(j-1)*node_N:j*node_N]=init*rng.standard_normal(node_N)\n",
    "# #         q0[(j-1)*node_N]=0\n",
    "#     elif j==7:    \n",
    "#         q0[(j-1)*node_N:j*node_N]=np.array([-0.00010522890316932987*(i+1)/node_N*init for i in range(node_N)])\n",
    "# #         q0[(j-1)*node_N]=0\n",
    "#     elif j==9:    \n",
    "#         q0[(j-1)*node_N:j*node_N]=np.array([6.952842745988619e-09*(i+1)/node_N*init for i in range(node_N)])\n",
    "# #         q0[(j-1)*node_N]=0\n",
    "#     elif j==11:   \n",
    "#         q0[(j-1)*node_N:j*node_N]=np.array([0.00010649100253301569*(i+1)/node_N*init for i in range(node_N)])\n",
    "#         q0[(j-1)*node_N]=0 \n",
    "# # q0[9*node_N-1]=0.13  # here\n",
    "# q0[7*node_N-1]= -0.00010522890316932987 # here\n",
    "# q0[9*node_N-1]= 6.952842745988619e-09\n",
    "# q0[11*node_N-1]=0.00010649100253301569  # here"
   ]
  },
  {
   "cell_type": "markdown",
   "metadata": {},
   "source": [
    "### Vessle Simulation"
   ]
  },
  {
   "cell_type": "code",
   "execution_count": null,
   "metadata": {},
   "outputs": [],
   "source": [
    "sampleTime = 0.01              # sample time [seconds]\n",
    "N = 5000                      # number of samples"
   ]
  },
  {
   "cell_type": "code",
   "execution_count": null,
   "metadata": {},
   "outputs": [],
   "source": [
    "vehicle=semisub('DPcontrol',0,5,40.0,0,0) "
   ]
  },
  {
   "cell_type": "code",
   "execution_count": null,
   "metadata": {},
   "outputs": [],
   "source": [
    "[simTime, simData] = simulate(N, sampleTime, vehicle)"
   ]
  },
  {
   "cell_type": "code",
   "execution_count": null,
   "metadata": {},
   "outputs": [],
   "source": [
    "ans_t=[]\n",
    "sum_=0\n",
    "for i in range(simData.shape[0]):\n",
    "    ans_t.append(sum_)\n",
    "    sum_+=sampleTime"
   ]
  },
  {
   "cell_type": "code",
   "execution_count": null,
   "metadata": {},
   "outputs": [],
   "source": [
    "plotVehicleStates(simTime, simData, 1)                    \n",
    "plotControls(simTime, simData, vehicle, 2)"
   ]
  },
  {
   "cell_type": "code",
   "execution_count": null,
   "metadata": {},
   "outputs": [],
   "source": [
    "numDataPoints = 5                 # number of 3D data points\n",
    "FPS = 10                            # frames per second (animated GIF)\n",
    "filename = '3D_animation.gif'       # data file for animated GIF\n",
    "browser = 'safari'       "
   ]
  },
  {
   "cell_type": "code",
   "execution_count": null,
   "metadata": {},
   "outputs": [],
   "source": [
    "plotVehicleStates(simTime, simData, 3)"
   ]
  },
  {
   "cell_type": "code",
   "execution_count": null,
   "metadata": {},
   "outputs": [],
   "source": [
    "plot3D(simData, numDataPoints, FPS, filename, 3)  "
   ]
  },
  {
   "cell_type": "code",
   "execution_count": null,
   "metadata": {},
   "outputs": [],
   "source": [
    "def myDPcontrol(self, eta, nu, sampleTime):\n",
    "        \"\"\"\n",
    "        u = DPcontrol(eta,nu,sampleTime) is a nonlinear PID controller\n",
    "        for DP based on pole placement:\n",
    "\n",
    "        tau = -R' Kp (eta-r) - R' Kd R nu - R' Ki int(eta-r)\n",
    "        u = B_pseudoinverse * tau\n",
    "        \"\"\"\n",
    "        # 3-DOF state vectors\n",
    "        eta3 = np.array([eta[0], eta[1], eta[5]])\n",
    "        nu3 = np.array([nu[0], nu[1], nu[5]])\n",
    "\n",
    "        # 3-DOF diagonal model matrices\n",
    "        M3 = np.diag([self.M[0][0], self.M[1][1], self.M[5][5]])\n",
    "        D3 = np.diag([self.D[0][0], self.D[1][1], self.D[5][5]])\n",
    "\n",
    "        [tau3, self.e_int, self.x_d, self.y_d, self.psi_d] = DPpolePlacement(\n",
    "            self.e_int,\n",
    "            M3,\n",
    "            D3,\n",
    "            eta3,\n",
    "            nu3,\n",
    "            self.x_d,\n",
    "            self.y_d,\n",
    "            self.psi_d,\n",
    "            self.wn,\n",
    "            self.zeta,\n",
    "            self.ref,\n",
    "            sampleTime,\n",
    "        )\n",
    "        \n",
    "        tau=list(tau3)+[tau3[2]*ly - tau3[1]*lz,\n",
    "                  tau3[0]*lz - tau3[2]*lx,\n",
    "                  tau3[1]*lx - tau3[0]*ly]\n",
    "\n",
    "#         u_alloc = self.controlAllocation(tau3)\n",
    "        return tau"
   ]
  },
  {
   "cell_type": "code",
   "execution_count": null,
   "metadata": {},
   "outputs": [],
   "source": [
    "def find_nearest(array, value):\n",
    "    array = np.asarray(array)\n",
    "    idx = (np.abs(array - value)).argmin()\n",
    "    return idx"
   ]
  },
  {
   "cell_type": "code",
   "execution_count": null,
   "metadata": {},
   "outputs": [],
   "source": [
    "# Ws[0]*Ret[2]"
   ]
  },
  {
   "cell_type": "code",
   "execution_count": null,
   "metadata": {},
   "outputs": [],
   "source": [
    "# np.einsum('i,ijk->ijk',[Ws[i] for i in range(node_N)],Ret)"
   ]
  },
  {
   "cell_type": "code",
   "execution_count": null,
   "metadata": {},
   "outputs": [],
   "source": [
    "idx=1/0.01"
   ]
  },
  {
   "cell_type": "code",
   "execution_count": null,
   "metadata": {},
   "outputs": [],
   "source": [
    "idx"
   ]
  },
  {
   "cell_type": "code",
   "execution_count": null,
   "metadata": {},
   "outputs": [],
   "source": [
    "ssa(simData[:, 3][int(idx)])"
   ]
  },
  {
   "cell_type": "code",
   "execution_count": null,
   "metadata": {},
   "outputs": [],
   "source": [
    "ssa(simData[:, 4][int(idx)])"
   ]
  },
  {
   "cell_type": "code",
   "execution_count": null,
   "metadata": {},
   "outputs": [],
   "source": [
    "ssa(simData[:, 5][int(idx)])"
   ]
  },
  {
   "cell_type": "markdown",
   "metadata": {},
   "source": [
    "### Dynamics"
   ]
  },
  {
   "cell_type": "code",
   "execution_count": null,
   "metadata": {},
   "outputs": [],
   "source": [
    "def grayscott1d(t, Q): # here\n",
    "#     print(t)\n",
    "      \n",
    "    x,y,z=Q[0:node_N],Q[2*node_N:3*node_N],Q[4*node_N:5*node_N]\n",
    "    \n",
    "    idx = find_nearest(np.array(ans_t),  t+1) \n",
    "\n",
    "    x_ve = simData[:, 0][idx]\n",
    "    y_ve = simData[:, 1][idx]\n",
    "#     x_ve = simData[:, 1][idx]\n",
    "#     y_ve = simData[:, 0][idx]\n",
    "    z_ve = simData[:, 2][idx]\n",
    "    phi_ve = ssa(simData[:, 3][idx])\n",
    "    theta_ve = ssa(simData[:, 4][idx])\n",
    "    psi_v = ssa(simData[:, 5][idx])\n",
    "    \n",
    "    \n",
    "    u_ve = simData[:, 6][idx]\n",
    "    v_ve = simData[:, 7][idx]\n",
    "#     u_ve = simData[:, 7][idx]\n",
    "#     v_ve = simData[:, 6][idx]\n",
    "    w_ve = simData[:, 8][idx]\n",
    "    p_ve = simData[:, 9][idx]\n",
    "    q_ve = simData[:, 10][idx]\n",
    "    r_ve = simData[:, 11][idx]\n",
    "    \n",
    "    \n",
    "    η=np.array([x_ve, y_ve, z_ve, phi_ve, theta_ve, psi_v])\n",
    "    \n",
    "    dη=np.array([u_ve, v_ve, w_ve, p_ve, q_ve, r_ve])\n",
    "    \n",
    "    \n",
    "#     n_ = vehicle.DPcontrol(η,dη,sampleTime) # /1e3\n",
    "    n_ = myDPcontrol(vehicle,η,dη,sampleTime)\n",
    "#     print(n_)\n",
    "    \n",
    "\n",
    "    dx,dy,dz=Q[1*node_N:2*node_N],Q[3*node_N:4*node_N],Q[5*node_N:6*node_N]\n",
    "    \n",
    "\n",
    "    φ,θ,ψ=Q[6*node_N:7*node_N],Q[8*node_N:9*node_N],Q[10*node_N:11*node_N]\n",
    "    \n",
    "    φ=ssa(φ)\n",
    "    θ=ssa(θ)\n",
    "    ψ=ssa(ψ)\n",
    "#     φ[-1],θ[-1],ψ[-1]=phi_ve, theta_ve,psi_v\n",
    "    Ret = Re_t(φ,θ,ψ)\n",
    "#     print(Ret)\n",
    "\n",
    "    dφ,dθ,dψ=Q[7*node_N:8*node_N],Q[9*node_N:10*node_N],Q[11*node_N:12*node_N]\n",
    "    \n",
    "#     force_schedule =1/(1+np.exp(-np.exp(t/10)+np.exp(2)))\n",
    "#     force_schedule = t/15 if t<15 else 1\n",
    "#     force_schedule = 1e-1000\n",
    "#     force_schedule=100\n",
    "    force_schedule=1\n",
    "#     force_schedule=1\n",
    "#     force_schedule=0\n",
    "#     print(type(n_))\n",
    "    tau_force = force_schedule*np.array(n_) # [N]\n",
    "#     print(tau_force)\n",
    "#     tau_force[0]=0\n",
    "#     tau_force[1]=0\n",
    "#     tau_force[2]=0\n",
    "#     tau_force[3]=0\n",
    "#     tau_force[4]=0\n",
    "#     tau_force[5]=0\n",
    "\n",
    "    sum_0123=0\n",
    "    lll=[]\n",
    "    for i in range(1,len(z0)):\n",
    "        sum_0123=math.sqrt((x[i]-x[i-1])**2+(y[i]-y[i-1])**2+(z[i]-z[i-1])**2)\n",
    "        lll.append(sum_0123)\n",
    "\n",
    "    \n",
    "    cum_d_inv=[0]\n",
    "    sum_=0\n",
    "    for i in range(len(lll)-1,-1,-1):\n",
    "        sum_+=lll[i]\n",
    "        cum_d_inv.append(sum_)\n",
    "    cum_d_inv=cum_d_inv[::-1]   \n",
    "\n",
    "\n",
    "#     print(tau_force[:3])\n",
    "    Z0=-np.einsum('ijk,ik->ij', Re_b(Ret), np.einsum('i,k->ik',cum_d_inv[::-1],tau_force[:3])/max(cum_d_inv))\n",
    "#     Z0=-np.dot(Re_b(Ret),tau_force[:3])\n",
    "#     Z0=-tau_force[:3]\n",
    "#     print(Ret)\n",
    "#     print(Z0.shape)\n",
    "#     print(Z0)\n",
    "    Z1=d_s(ne, x, y, z, Ret,  ωe(φ,θ,ψ,None,None,None)).T\n",
    "#     Z1 =d_s(ne, x, y, z, Ret, phi(x,y,z,Ret,None)).T\n",
    "#     print(Z1)\n",
    "    Z2=ne_(dx,dy,dz,DT,Ret).T\n",
    "#     print(Z0)\n",
    "  \n",
    "    Z= (\n",
    "        Z1\n",
    "        + Z2 \n",
    "        +Z0\n",
    "       )\n",
    "#     Z[-1]+=tau_force[:3]\n",
    "\n",
    "############################################################    \n",
    "#     print(Ws)\n",
    "    RRRR=Re_b(Ret)\n",
    "#     print(Ret)\n",
    "    haka=10\n",
    "    ddx,ddy, ddz = np.linalg.solve(np.einsum('i,ijk->ijk',\n",
    "#                                              [Ws[i] for i in range(node_N)]\n",
    "#                                              +[Ws[-1] + vessel_mass]\n",
    "                                             haka*M_totl\n",
    "                                          \n",
    "                                             ,RRRR),\n",
    "                                   Z\n",
    "                                  ).T \n",
    "#     print(ddx)\n",
    "#     print(np.concatenate([ddx, ddy,ddz, dφ,], axis=0))\n",
    "#     ddx,ddy, ddz = Ret\n",
    "    ddx,ddy, ddz = np.einsum('ijk,ik->ij',Ret, np.stack([ddx, ddy,ddz], axis=0).T).T\n",
    "#     print(ddx)\n",
    "#     print()\n",
    "############################################################      \n",
    "\n",
    "\n",
    "#     print(cum_d_inv[0])\n",
    "    Irho=inert(mn, vessel_inertia, Irho_, cum_d_inv, Ws)\n",
    "#     print(Irho[12])\n",
    "#     print()\n",
    " \n",
    "    \n",
    " \n",
    "\n",
    "    C1=np.einsum('ijk,ik->ij', Irho_e(Ret,Irho).astype(np.float64),\n",
    "                                                        np.einsum('ijk,ik->ij', Π(dφ,dθ,dψ).astype(np.float64), \n",
    "                                                                  np.array([dφ,dθ,dψ]).astype(np.float64).T))\n",
    "    \n",
    "    test=np.einsum('ijk,ik->ij',Π(φ,θ,ψ).astype(np.float64),np.array([dφ,dθ,dψ]).astype(np.float64).T)\n",
    "  \n",
    "    C2= np.cross(\n",
    "         test,\n",
    "                 np.einsum('ijk,ik->ij',Irho_e(Ret,Irho).astype(np.float64),\n",
    "                            test))\n",
    "\n",
    "\n",
    "    C3=d_me(φ,θ,ψ,Ret, ωe(φ,θ,ψ,None,None,None))\n",
    "#     print(C3)\n",
    "    \n",
    "    C4= np.cross(d_s(phi,x,y,z,Ret, ωe(φ,θ,ψ,None,None,None)).T, ne(x,y,z,Ret, ωe(φ,θ,ψ,None,None,None),None))\n",
    "#     C4= np.cross(d_s(phi,x,y,z,Ret, ωe(φ,θ,ψ,None,None,None)).T, \n",
    "#                  ne(x,y,z,Ret, ωe(φ,θ,ψ,None,None,None),None))\n",
    "#     print(C4)\n",
    "#     print(tau_force[:3])\n",
    "#     C4= np.cross(d_s(phi,x,y,z,Ret, test).T, ne(x,y,z,Ret, test))\n",
    "    \n",
    "    K1=test.T\n",
    "\n",
    "    C5= np.einsum('ijk,ik->ij',Ret, -np.dot(DR,K1).astype(np.float64).T)\n",
    "\n",
    "    C0=-np.einsum('ijk,kp->ijp',np.einsum('ijk,ikr->ijr',np.linalg.inv(Π(φ,θ,ψ).astype(np.float64)),\n",
    "                        Re_b(Ret)),tau_force[3:].reshape(3,1)) \n",
    "    B_ =(\n",
    "        -C1\n",
    "        -C2\n",
    "        +C3\n",
    "        +C4\n",
    "        +C5\n",
    "    )\n",
    "    B= B_ +C0.squeeze()\n",
    "#     print(C0,C1,C2,C3,C4)\n",
    "\n",
    "\n",
    "\n",
    "#     print(B)   \n",
    "    \n",
    "#     print(Irho_e(Ret,Irho))\n",
    "    A2 = Irho_e(Ret,Irho).astype(np.float64)\n",
    "    A3=Π(φ,θ,ψ).astype(np.float64)\n",
    "\n",
    "    A=np.einsum('ijk,ikr->ijr',A2,A3)\n",
    "    \n",
    "\n",
    "#     hack=1e18\n",
    "    hack=1\n",
    "############################################\n",
    "    ddφ,ddθ,ddψ = np.linalg.solve(hack*A,B).T\n",
    "#############################################\n",
    "#     print(B[49])\n",
    "#     print()\n",
    "\n",
    "#     ddx[0],ddy[0],ddz[0],ddφ[0],ddθ[0],ddψ[0]=0,0,0,0,0,0\n",
    "    A1111=np.concatenate([dx, ddx, dy, ddy, dz, ddz, dφ, ddφ, dθ, ddθ, dψ, ddψ], axis=0)\n",
    "#     print(A1111[-1])\n",
    "    return A1111"
   ]
  },
  {
   "cell_type": "code",
   "execution_count": null,
   "metadata": {},
   "outputs": [],
   "source": [
    "# import scipy"
   ]
  },
  {
   "cell_type": "code",
   "execution_count": null,
   "metadata": {},
   "outputs": [],
   "source": [
    "# ode15s = scipy.integrate.ode(grayscott1d)\n",
    "# ode15s.set_integrator('vode', method='bdf', order=15, nsteps=3000)\n",
    "# # ode15s.set_integrator('vode',  order=32, nsteps=3000)\n",
    "# ode15s.set_initial_value(q0, 0)"
   ]
  },
  {
   "cell_type": "code",
   "execution_count": null,
   "metadata": {},
   "outputs": [],
   "source": [
    "# us=ode15s.integrate(10)"
   ]
  },
  {
   "cell_type": "code",
   "execution_count": null,
   "metadata": {},
   "outputs": [],
   "source": [
    "tspan = (0., 5)"
   ]
  },
  {
   "cell_type": "code",
   "execution_count": null,
   "metadata": {},
   "outputs": [],
   "source": [
    "startTime1 = datetime.now()\n",
    "\n",
    "us=solve_ivp(grayscott1d,  tspan, q0, \n",
    "#              nfev=842\n",
    "#              method='LSODA',\n",
    "#              method= 'BDF'\n",
    "#              vectorized=True\n",
    "#              min_step=1e-6\n",
    "#              rtol=1e9, atol=1e9\n",
    "            )\n",
    "print(datetime.now() - startTime1)"
   ]
  },
  {
   "cell_type": "code",
   "execution_count": null,
   "metadata": {},
   "outputs": [],
   "source": [
    "# key takeaway: one can calibrate the model by tuning the hack, bc(init), force_schedule, hak and haka\n",
    "\n",
    "# the main problem of the model is that it accelirates too much\n",
    "# the hack increases the mass, the greater the mass the lesser the  acceleration\n",
    "# the force_schedule affects the force, the lesser the force the lesser the  acceleration\n",
    "# bc set conditions on how much force from the vessel should be applied to counteract the movement because of bc\n",
    "\n",
    "# too fast acceleration leads to solution divergence in short amount of time"
   ]
  },
  {
   "cell_type": "markdown",
   "metadata": {},
   "source": [
    "### Results"
   ]
  },
  {
   "cell_type": "code",
   "execution_count": null,
   "metadata": {},
   "outputs": [],
   "source": [
    "fin=us"
   ]
  },
  {
   "cell_type": "code",
   "execution_count": null,
   "metadata": {},
   "outputs": [],
   "source": [
    "fin"
   ]
  },
  {
   "cell_type": "code",
   "execution_count": null,
   "metadata": {},
   "outputs": [],
   "source": [
    "t=fin.t"
   ]
  },
  {
   "cell_type": "code",
   "execution_count": null,
   "metadata": {},
   "outputs": [],
   "source": [
    "fin=fin.y.T"
   ]
  },
  {
   "cell_type": "code",
   "execution_count": null,
   "metadata": {},
   "outputs": [],
   "source": [
    "fig=plt.figure(figsize=(13,13))\n",
    "ax = fig.gca(projection='3d')\n",
    "\n",
    "X0=fin[0,[i for i in range(0,node_N)]]\n",
    "Y0=fin[0,[i for i in range(2*node_N,3*node_N)]]\n",
    "Z0=fin[0,[i for i in range(4*node_N,5*node_N)]]\n",
    "\n",
    "j=-1\n",
    "X=fin[j,[i for i in range(0,node_N)]]\n",
    "Y=fin[j,[i for i in range(2*node_N,3*node_N)]]\n",
    "Z=fin[j,[i for i in range(4*node_N,5*node_N)]]\n",
    "\n",
    "num_true_pts = 200\n",
    "tck, u = interpolate.splprep([X,Y,Z], s=2)\n",
    "u_fine = np.linspace(0,1,num_true_pts)\n",
    "x_fine, y_fine, z_fine = interpolate.splev(u_fine, tck)\n",
    "\n",
    "\n",
    "ax.plot(X0,Y0,Z0, color='r')\n",
    "ax.plot(X,Y,Z, color='b') \n",
    "# ax.plot(x_fine, y_fine, z_fine, color='b')\n",
    "ax.view_init(-45,-45)\n",
    "ax.view_init(-30,-30)\n",
    "ax.view_init(0,-90)\n",
    "plt.show()"
   ]
  },
  {
   "cell_type": "code",
   "execution_count": null,
   "metadata": {},
   "outputs": [],
   "source": [
    "X,Y,Z"
   ]
  },
  {
   "cell_type": "code",
   "execution_count": null,
   "metadata": {},
   "outputs": [],
   "source": [
    "X0,Y0,Z0"
   ]
  },
  {
   "cell_type": "code",
   "execution_count": null,
   "metadata": {},
   "outputs": [],
   "source": [
    "us=fin.T"
   ]
  },
  {
   "cell_type": "code",
   "execution_count": null,
   "metadata": {},
   "outputs": [],
   "source": [
    "plt.plot(t,us.T[:,2],'-')\n",
    "plt.xlabel('t')\n",
    "plt.ylabel('x2')\n",
    "plt.show()"
   ]
  },
  {
   "cell_type": "code",
   "execution_count": null,
   "metadata": {},
   "outputs": [],
   "source": [
    "plt.plot(t,us.T[:,node_N+2] ,'-')\n",
    "plt.xlabel('t')\n",
    "plt.ylabel('dx2')\n",
    "plt.show()"
   ]
  },
  {
   "cell_type": "code",
   "execution_count": null,
   "metadata": {},
   "outputs": [],
   "source": [
    "plt.plot(t,us.T[:,node_N-1] ,'-')\n",
    "plt.xlabel('t')\n",
    "plt.ylabel('x49')\n",
    "plt.show()"
   ]
  },
  {
   "cell_type": "code",
   "execution_count": null,
   "metadata": {},
   "outputs": [],
   "source": [
    "plt.plot(t,us.T[:,2*node_N +2] ,'-')\n",
    "plt.xlabel('t')\n",
    "plt.ylabel('y2')\n",
    "plt.show()"
   ]
  },
  {
   "cell_type": "code",
   "execution_count": null,
   "metadata": {},
   "outputs": [],
   "source": [
    "plt.plot(t,us.T[:,3*node_N+2] ,'-')\n",
    "plt.xlabel('t')\n",
    "plt.ylabel('dy2')\n",
    "plt.show()"
   ]
  },
  {
   "cell_type": "code",
   "execution_count": null,
   "metadata": {},
   "outputs": [],
   "source": [
    "plt.plot(t,us.T[:,2*node_N+49] ,'-')\n",
    "plt.xlabel('t')\n",
    "plt.ylabel('y49')\n",
    "plt.show()"
   ]
  },
  {
   "cell_type": "code",
   "execution_count": null,
   "metadata": {},
   "outputs": [],
   "source": [
    "plt.plot(t,us.T[:,3*node_N+49] ,'-')\n",
    "plt.xlabel('t')\n",
    "plt.ylabel('dy49')\n",
    "plt.show()"
   ]
  },
  {
   "cell_type": "code",
   "execution_count": null,
   "metadata": {},
   "outputs": [],
   "source": [
    "plt.plot(t,us.T[:,4*node_N+2] ,'-')\n",
    "plt.xlabel('t')\n",
    "plt.ylabel('z2')\n",
    "plt.show()"
   ]
  },
  {
   "cell_type": "code",
   "execution_count": null,
   "metadata": {},
   "outputs": [],
   "source": [
    "plt.plot(t,us.T[:,5*node_N+2] ,'-')\n",
    "plt.xlabel('t')\n",
    "plt.ylabel('dz2')\n",
    "plt.show()"
   ]
  },
  {
   "cell_type": "code",
   "execution_count": null,
   "metadata": {},
   "outputs": [],
   "source": [
    "plt.plot(t,us.T[:,4*node_N+3] ,'-')\n",
    "plt.xlabel('t')\n",
    "plt.ylabel('z3')\n",
    "plt.show()"
   ]
  },
  {
   "cell_type": "code",
   "execution_count": null,
   "metadata": {},
   "outputs": [],
   "source": [
    "plt.plot(t,us.T[:,4*node_N+49] ,'-')\n",
    "plt.xlabel('t')\n",
    "plt.ylabel('z49')\n",
    "plt.show()"
   ]
  },
  {
   "cell_type": "code",
   "execution_count": null,
   "metadata": {},
   "outputs": [],
   "source": [
    "plt.plot(t,us.T[:,8*node_N+2],'-')\n",
    "plt.xlabel('t')\n",
    "plt.ylabel('θ2')\n",
    "plt.show()"
   ]
  },
  {
   "cell_type": "code",
   "execution_count": null,
   "metadata": {},
   "outputs": [],
   "source": [
    "plt.plot(t,us.T[:,9*node_N+2] ,'-')\n",
    "plt.xlabel('t')\n",
    "plt.ylabel('dθ2')\n",
    "plt.show()"
   ]
  },
  {
   "cell_type": "code",
   "execution_count": null,
   "metadata": {},
   "outputs": [],
   "source": [
    "plt.plot(t,us.T[:,10*node_N+2],'-')\n",
    "plt.xlabel('t')\n",
    "plt.ylabel('ψ2')\n",
    "plt.show()"
   ]
  },
  {
   "cell_type": "code",
   "execution_count": null,
   "metadata": {},
   "outputs": [],
   "source": [
    "plt.plot(t,us.T[:,11*node_N+2] ,'-')\n",
    "plt.xlabel('t')\n",
    "plt.ylabel('dψ2')\n",
    "plt.show()"
   ]
  },
  {
   "cell_type": "code",
   "execution_count": null,
   "metadata": {},
   "outputs": [],
   "source": []
  },
  {
   "cell_type": "code",
   "execution_count": null,
   "metadata": {},
   "outputs": [],
   "source": []
  },
  {
   "cell_type": "code",
   "execution_count": null,
   "metadata": {},
   "outputs": [],
   "source": []
  }
 ],
 "metadata": {
  "kernelspec": {
   "display_name": "Python 3",
   "language": "python",
   "name": "python3"
  },
  "language_info": {
   "codemirror_mode": {
    "name": "ipython",
    "version": 3
   },
   "file_extension": ".py",
   "mimetype": "text/x-python",
   "name": "python",
   "nbconvert_exporter": "python",
   "pygments_lexer": "ipython3",
   "version": "3.7.7"
  }
 },
 "nbformat": 4,
 "nbformat_minor": 4
}
