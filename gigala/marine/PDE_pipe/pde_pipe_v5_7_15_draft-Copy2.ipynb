{
 "cells": [
  {
   "cell_type": "markdown",
   "metadata": {},
   "source": [
    "#### Model taken from:\n",
    "- [1] Offshore Pipelaying Dynamics. Gullik Anthon Jensen \n",
    "- [2] A nonlinear PDE formulation for offshore vessel pipeline installation. Gullik A. Jensen et al \n",
    "- [3] Modeling and Control of Offshore Pipelay Operations Based on a Finite Strain Pipe Model. Gullik A. Jensen "
   ]
  },
  {
   "cell_type": "code",
   "execution_count": 1,
   "metadata": {},
   "outputs": [],
   "source": [
    "import numpy as np\n",
    "import math\n",
    "import matplotlib.pyplot as plt\n",
    "from datetime import datetime\n",
    "from scipy.optimize import fsolve\n",
    "from scipy.integrate import solve_ivp\n",
    "from scipy import interpolate"
   ]
  },
  {
   "cell_type": "code",
   "execution_count": 2,
   "metadata": {},
   "outputs": [],
   "source": [
    "import sys\n",
    "sys.path.insert(0, \"../../../../Ocean_Intella/PythonVehicleSimulator-master/src/python_vehicle_simulator\")\n",
    "sys.path.insert(0, \"../../../../Ocean_Intella/PythonVehicleSimulator-master/src\")"
   ]
  },
  {
   "cell_type": "code",
   "execution_count": 3,
   "metadata": {},
   "outputs": [],
   "source": [
    "from python_vehicle_simulator.vehicles import *\n",
    "from python_vehicle_simulator.lib import *\n",
    "from python_vehicle_simulator.lib.gnc import ssa"
   ]
  },
  {
   "cell_type": "code",
   "execution_count": 4,
   "metadata": {},
   "outputs": [],
   "source": [
    "mp = 96       #  (submerged pipe weight) [kg/m]"
   ]
  },
  {
   "cell_type": "code",
   "execution_count": 5,
   "metadata": {},
   "outputs": [],
   "source": [
    "node_N = 20"
   ]
  },
  {
   "cell_type": "code",
   "execution_count": 6,
   "metadata": {},
   "outputs": [],
   "source": [
    "mi = [mp for i in range(node_N)] "
   ]
  },
  {
   "cell_type": "code",
   "execution_count": 7,
   "metadata": {},
   "outputs": [],
   "source": [
    "# L - the hull length\n",
    "# Xg - x-center of gravity\n",
    "L = 84.6 # [m]\n",
    "B= 12\n",
    "H= 13\n",
    "Xg = L/2 # [m]\n",
    "mn = 27_162_500 #123000000 # mass of the vessel, [kg]  \n",
    "# kp, kd=1.95e4,1.5e4"
   ]
  },
  {
   "cell_type": "code",
   "execution_count": 8,
   "metadata": {},
   "outputs": [],
   "source": [
    "lx,ly,lz=L/2,B/2,H/2"
   ]
  },
  {
   "cell_type": "code",
   "execution_count": 9,
   "metadata": {},
   "outputs": [],
   "source": [
    "vessel_mass=mn/L # mass over length of the vessel"
   ]
  },
  {
   "cell_type": "code",
   "execution_count": 10,
   "metadata": {},
   "outputs": [],
   "source": [
    "hak=1 # moment of area vs moment of inertia; has proportionality coefficient"
   ]
  },
  {
   "cell_type": "code",
   "execution_count": 11,
   "metadata": {},
   "outputs": [],
   "source": [
    "diag_Irho = 1e2*np.array([1, 1, 2]) # [m^4]  , p.99 in [1]\n",
    "# diag_Irho = 1e-2*np.array([0.5, 0.5, 1])  # !!!!!!!!!!!!!!!!!!!!!!!!!!!!!!!!!!!!!!!!!!!!!!!!\n",
    "Irho_=hak*np.diag(diag_Irho)"
   ]
  },
  {
   "cell_type": "code",
   "execution_count": 12,
   "metadata": {},
   "outputs": [
    {
     "data": {
      "text/plain": [
       "array([[100.,   0.,   0.],\n",
       "       [  0., 100.,   0.],\n",
       "       [  0.,   0., 200.]])"
      ]
     },
     "execution_count": 12,
     "metadata": {},
     "output_type": "execute_result"
    }
   ],
   "source": [
    "Irho_"
   ]
  },
  {
   "cell_type": "code",
   "execution_count": 13,
   "metadata": {},
   "outputs": [],
   "source": [
    "# Fossen book p.181\n",
    "def vessel_inertia_moment(mn, Xg, L):\n",
    "    r = 0.25*L\n",
    "    Ir = mn*r**2\n",
    "    Iz=mn*Xg**2 + Ir\n",
    "    return Iz"
   ]
  },
  {
   "cell_type": "code",
   "execution_count": 14,
   "metadata": {},
   "outputs": [],
   "source": [
    "vessel_inertia = vessel_inertia_moment(mn, Xg, L)"
   ]
  },
  {
   "cell_type": "code",
   "execution_count": 15,
   "metadata": {},
   "outputs": [
    {
     "data": {
      "text/plain": [
       "60751987031.24999"
      ]
     },
     "execution_count": 15,
     "metadata": {},
     "output_type": "execute_result"
    }
   ],
   "source": [
    "vessel_inertia"
   ]
  },
  {
   "cell_type": "code",
   "execution_count": 16,
   "metadata": {},
   "outputs": [],
   "source": [
    "def Jv(X,Y,Z,i):\n",
    "    \n",
    "    l=[]\n",
    "    for j in range(1,len(X)):\n",
    "        l.append(math.sqrt((X[j]-X[j-1])**2+(Y[j]-Y[j-1])**2+(Z[j]-Z[j-1])**2))\n",
    "    \n",
    "    \n",
    "    \n",
    "    def Jv0(i, k, l):\n",
    "\n",
    "        if k<i:\n",
    "            tmp1=np.dot(l[k:i],[((X[p]-X[p-1]))/l[p-1] for p in range(k+1,i,1)])\n",
    "            tmp1+=0.5*l[len(X)-2]*(X[len(X)-1]-X[len(X)-1-1])/l[len(X)-2]\n",
    "\n",
    "            tmp2=np.dot(l[k:i],[((Y[p]-Y[p-1]))/l[p-1] for p in range(k+1,i,1)])\n",
    "            tmp2+=0.5*l[len(Y)-2]*(Y[len(Y)-1]-Y[len(Y)-1-1])/l[len(Y)-2]\n",
    "\n",
    "            tmp3=np.dot(l[k:i],[((Z[p]-Z[p-1]))/l[p-1] for p in range(k+1,i,1)])\n",
    "            tmp3+=0.5*l[len(Z)-2]*(Z[len(Z)-1]-Z[len(Z)-1-1])/l[len(Z)-2]\n",
    "            \n",
    "            return np.array([tmp1, tmp2, tmp3]).T\n",
    "        elif i==k:\n",
    "            return np.array([0.5*l[i]*(X[i]-X[i-1])/l[i],0.5*l[i]*(Y[i]-Y[i-1])/l[i],0.5*l[i]*(Z[i]-Z[i-1])/l[i]]).T\n",
    "        else:\n",
    "            return np.array([0, 0, 0]).T \n",
    "        \n",
    "    ans=np.array([Jv0(i, k,  l) for k in range(len(X))])    \n",
    "                \n",
    "    return ans\n",
    "           "
   ]
  },
  {
   "cell_type": "code",
   "execution_count": 17,
   "metadata": {},
   "outputs": [],
   "source": [
    "def inert(M, m, X):\n",
    "\n",
    "    sum_=M\n",
    "    ans=[]\n",
    "    for i in range(len(X)-1,-1,-1):\n",
    "        sum_+=m\n",
    "        ans.append(np.array(sum_).copy())\n",
    "\n",
    "    return np.array(ans[::-1])"
   ]
  },
  {
   "cell_type": "code",
   "execution_count": 18,
   "metadata": {},
   "outputs": [],
   "source": [
    "# def inert(mn, vessel_inertia, Irho_, cum_d_inv, Ws):\n",
    "#     V_rho=np.zeros(Irho_.shape)\n",
    "#     np.fill_diagonal(V_rho, vessel_inertia)\n",
    "#     cum_m=0\n",
    "#     cum_i=0\n",
    "#     fin_123=[]\n",
    "#     for i in range(node_N-1,-1,-1):\n",
    "#         cum_m+=Ws[i]*cum_d_inv[i]**2\n",
    "#         cum_i+=Irho_\n",
    "#         fin_123.append(V_rho+cum_m + cum_i)\n",
    "#     return np.array(fin_123[::-1])"
   ]
  },
  {
   "cell_type": "code",
   "execution_count": null,
   "metadata": {},
   "outputs": [],
   "source": []
  },
  {
   "cell_type": "code",
   "execution_count": 19,
   "metadata": {},
   "outputs": [],
   "source": [
    "lll = [100 for i in range(node_N)]"
   ]
  },
  {
   "cell_type": "code",
   "execution_count": 20,
   "metadata": {},
   "outputs": [],
   "source": [
    "cum_d_inv=[10]\n",
    "sum_=0\n",
    "for i in range(len(lll)-1,-1,-1):\n",
    "    sum_+=lll[i]\n",
    "    cum_d_inv.append(sum_)\n",
    "cum_d_inv=cum_d_inv[::-1]    "
   ]
  },
  {
   "cell_type": "code",
   "execution_count": 21,
   "metadata": {},
   "outputs": [],
   "source": [
    "# cum_d_inv"
   ]
  },
  {
   "cell_type": "code",
   "execution_count": 22,
   "metadata": {},
   "outputs": [],
   "source": [
    "Ws = np.array(mi)*9.81"
   ]
  },
  {
   "cell_type": "code",
   "execution_count": 23,
   "metadata": {},
   "outputs": [],
   "source": [
    "# Irho=inert(mn, vessel_inertia, Irho_, cum_d_inv, Ws)\n",
    "# Irho=np.array(fin_123)"
   ]
  },
  {
   "cell_type": "code",
   "execution_count": 24,
   "metadata": {},
   "outputs": [],
   "source": [
    "# Irho"
   ]
  },
  {
   "cell_type": "code",
   "execution_count": 25,
   "metadata": {},
   "outputs": [],
   "source": [
    "# Irho+=vessel_inertia"
   ]
  },
  {
   "cell_type": "code",
   "execution_count": 26,
   "metadata": {},
   "outputs": [],
   "source": [
    "# Irho[-1][0][0]"
   ]
  },
  {
   "cell_type": "code",
   "execution_count": 27,
   "metadata": {},
   "outputs": [],
   "source": [
    "# Irho[-49][0][0]"
   ]
  },
  {
   "cell_type": "code",
   "execution_count": 28,
   "metadata": {},
   "outputs": [],
   "source": [
    "# Irho"
   ]
  },
  {
   "cell_type": "code",
   "execution_count": 29,
   "metadata": {},
   "outputs": [],
   "source": [
    "qw = 1025 # Water density [kg/m3]\n",
    "d0 = 0.761 # Outer diameter of pipe, [m]\n",
    "dI= 0.69 # Inner diameter of pipe, [m]"
   ]
  },
  {
   "cell_type": "code",
   "execution_count": 30,
   "metadata": {},
   "outputs": [],
   "source": [
    "Ar=math.pi*((d0/2)**2-(dI/2)**2)"
   ]
  },
  {
   "cell_type": "code",
   "execution_count": 31,
   "metadata": {},
   "outputs": [
    {
     "data": {
      "text/plain": [
       "0.005336285849082509"
      ]
     },
     "execution_count": 31,
     "metadata": {},
     "output_type": "execute_result"
    }
   ],
   "source": [
    "math.pi*(d0**4-dI**4)/64"
   ]
  },
  {
   "cell_type": "code",
   "execution_count": 32,
   "metadata": {},
   "outputs": [],
   "source": [
    "E = 210e9"
   ]
  },
  {
   "cell_type": "code",
   "execution_count": 33,
   "metadata": {},
   "outputs": [
    {
     "data": {
      "text/plain": [
       "1.6991625880187402"
      ]
     },
     "execution_count": 33,
     "metadata": {},
     "output_type": "execute_result"
    }
   ],
   "source": [
    "E*Ar/1e10"
   ]
  },
  {
   "cell_type": "code",
   "execution_count": 34,
   "metadata": {},
   "outputs": [],
   "source": [
    "diag_DT = 1.5*np.array([1, 1, 1]) "
   ]
  },
  {
   "cell_type": "code",
   "execution_count": 35,
   "metadata": {},
   "outputs": [],
   "source": [
    "DT=np.diag(diag_DT) # (35) in [2]"
   ]
  },
  {
   "cell_type": "code",
   "execution_count": 36,
   "metadata": {},
   "outputs": [
    {
     "data": {
      "text/plain": [
       "array([[1.5, 0. , 0. ],\n",
       "       [0. , 1.5, 0. ],\n",
       "       [0. , 0. , 1.5]])"
      ]
     },
     "execution_count": 36,
     "metadata": {},
     "output_type": "execute_result"
    }
   ],
   "source": [
    "DT"
   ]
  },
  {
   "cell_type": "code",
   "execution_count": 37,
   "metadata": {},
   "outputs": [],
   "source": [
    "# diag_CT = 1e9*np.array([1, 1, 1]) # [Nm2] p. 4721 in [3]\n",
    "diag_CT = 1e10*np.array([1.7, 1.7, 1.7]) # !!!!!!!!!!!!!!!!!!!!!!!!!!!!!!!!!!!!!!!!!!!!!!!!!!!"
   ]
  },
  {
   "cell_type": "code",
   "execution_count": 38,
   "metadata": {},
   "outputs": [],
   "source": [
    "CT=np.diag(diag_CT)"
   ]
  },
  {
   "cell_type": "code",
   "execution_count": 39,
   "metadata": {},
   "outputs": [
    {
     "data": {
      "text/plain": [
       "array([[1.7e+10, 0.0e+00, 0.0e+00],\n",
       "       [0.0e+00, 1.7e+10, 0.0e+00],\n",
       "       [0.0e+00, 0.0e+00, 1.7e+10]])"
      ]
     },
     "execution_count": 39,
     "metadata": {},
     "output_type": "execute_result"
    }
   ],
   "source": [
    "CT"
   ]
  },
  {
   "cell_type": "code",
   "execution_count": 40,
   "metadata": {},
   "outputs": [],
   "source": [
    "# angles should be in radians, otherwise np.radians them  \n",
    "def Re_t_(arr):\n",
    "    φ,θ,ψ=arr[0],arr[1],arr[2]\n",
    "  \n",
    "    Cφ=np.matrix([[1,0,0],\n",
    "                      [0,np.cos(φ),-np.sin(φ)],\n",
    "                      [0,np.sin(φ),np.cos(φ)]])\n",
    "\n",
    "    Cθ=np.matrix([[np.cos(θ),0,np.sin(θ)],\n",
    "                      [0,1,0],\n",
    "                      [-np.sin(θ),0,np.cos(θ)]])\n",
    "\n",
    "    Cψ=np.matrix([[np.cos(ψ),-np.sin(ψ),0],\n",
    "                      [np.sin(ψ),np.cos(ψ),0],\n",
    "                      [0,0,1]])\n",
    "        \n",
    "\n",
    "    return np.array(np.dot(np.dot(Cθ,Cφ),Cψ) )"
   ]
  },
  {
   "cell_type": "code",
   "execution_count": 41,
   "metadata": {},
   "outputs": [
    {
     "data": {
      "text/plain": [
       "array([[ 0.51995985, -0.69876354,  0.4912955 ],\n",
       "       [ 0.07624747, -0.53489523, -0.84147098],\n",
       "       [ 0.85078086,  0.47499117, -0.2248451 ]])"
      ]
     },
     "execution_count": 41,
     "metadata": {},
     "output_type": "execute_result"
    }
   ],
   "source": [
    "Re_t_([1,2,3])"
   ]
  },
  {
   "cell_type": "code",
   "execution_count": 42,
   "metadata": {},
   "outputs": [],
   "source": [
    "rng = np.random.default_rng()"
   ]
  },
  {
   "cell_type": "code",
   "execution_count": 43,
   "metadata": {},
   "outputs": [],
   "source": [
    "φ, θ, ψ = rng.standard_normal(node_N),rng.standard_normal(node_N),rng.standard_normal(node_N)"
   ]
  },
  {
   "cell_type": "code",
   "execution_count": 44,
   "metadata": {},
   "outputs": [],
   "source": [
    "def Re_t(a,b,c):\n",
    "    xyz=np.stack((a,b,c), axis=1)\n",
    "    return np.apply_along_axis(Re_t_, 1, xyz)"
   ]
  },
  {
   "cell_type": "code",
   "execution_count": 45,
   "metadata": {},
   "outputs": [
    {
     "data": {
      "text/plain": [
       "array([[ 0.57923775, -0.79040243, -0.19936808],\n",
       "       [-0.36949647, -0.4725909 ,  0.80008137],\n",
       "       [-0.7266058 , -0.38977153, -0.5657934 ]])"
      ]
     },
     "execution_count": 45,
     "metadata": {},
     "output_type": "execute_result"
    }
   ],
   "source": [
    "Re_t_(np.array([φ[1], θ[1], ψ[1]]))"
   ]
  },
  {
   "cell_type": "code",
   "execution_count": 46,
   "metadata": {
    "scrolled": true
   },
   "outputs": [
    {
     "name": "stdout",
     "output_type": "stream",
     "text": [
      "0:00:00.007076\n"
     ]
    }
   ],
   "source": [
    "startTime1 = datetime.now()\n",
    "Ret=Re_t(φ,θ,ψ)\n",
    "print(datetime.now() - startTime1)"
   ]
  },
  {
   "cell_type": "code",
   "execution_count": 47,
   "metadata": {},
   "outputs": [
    {
     "data": {
      "text/plain": [
       "(20, 3, 3)"
      ]
     },
     "execution_count": 47,
     "metadata": {},
     "output_type": "execute_result"
    }
   ],
   "source": [
    "Ret.shape"
   ]
  },
  {
   "cell_type": "code",
   "execution_count": 48,
   "metadata": {},
   "outputs": [],
   "source": [
    "dx,dy,dz=rng.standard_normal(node_N),rng.standard_normal(node_N),rng.standard_normal(node_N)"
   ]
  },
  {
   "cell_type": "code",
   "execution_count": 49,
   "metadata": {},
   "outputs": [],
   "source": [
    "def C1(dx,dy,dz, Ret): # here\n",
    "    B=np.vstack([np.abs(dx)*dx,(dy**2+dz**2)**0.5*dy,(dy**2+dz**2)**0.5*dz])\n",
    "    ans=np.einsum('ijk,ik->ij', Ret, np.linalg.solve(Ret,B.T.astype(np.float64)))  \n",
    "#     print(Ret[0].shape, B.T[0].shape)\n",
    "#     print(np.linalg.solve(Ret[0],B.T[0].astype(np.float64)).shape)\n",
    "#     ans=[]\n",
    "#     for i in range(len(B.T)):\n",
    "#         ans.append(np.dot(Ret[i],np.linalg.solve(Ret[i],B.T[i].astype(np.float64))))\n",
    "#         print(ans[-1])\n",
    "#     ans=np.tensordot(Ret, np.linalg.solve(Ret,B.T.astype(np.float64)),axes = 0)\n",
    "    return np.array(ans).T"
   ]
  },
  {
   "cell_type": "code",
   "execution_count": 50,
   "metadata": {},
   "outputs": [
    {
     "name": "stdout",
     "output_type": "stream",
     "text": [
      "0:00:00.000713\n"
     ]
    }
   ],
   "source": [
    "startTime1 = datetime.now()\n",
    "C1(dx,dy,dz,Ret)\n",
    "print(datetime.now() - startTime1)"
   ]
  },
  {
   "cell_type": "code",
   "execution_count": 51,
   "metadata": {},
   "outputs": [
    {
     "data": {
      "text/plain": [
       "array([[-1.03510483e-01, -2.40488466e-01, -6.95524966e-03,\n",
       "         2.06659244e-01,  1.98141299e+00,  2.12943090e-01,\n",
       "         1.90393261e-02,  1.02495779e+00,  4.04132836e-01,\n",
       "         8.29897906e-01,  9.70815386e-03,  2.89161322e-02,\n",
       "         1.67605126e+00,  2.11452844e-01, -3.59482026e-03,\n",
       "         2.16244661e-01,  4.39638048e-01,  3.10126122e+00,\n",
       "         3.87299246e+00, -7.23139173e-01],\n",
       "       [-8.38939810e-01, -1.23945392e-01, -7.15513289e-01,\n",
       "         2.79672058e-03,  1.24678149e+00,  1.20340461e-01,\n",
       "         2.49972932e-02, -6.97292291e-03,  1.61664006e-01,\n",
       "        -2.20478751e+00,  2.23577373e-01,  1.25367692e+00,\n",
       "        -3.83324394e+00, -1.54510682e+00, -2.36028278e+00,\n",
       "        -2.56331582e+00,  5.86461557e-01, -1.98897532e-01,\n",
       "        -5.69179418e+00,  5.60060189e-01],\n",
       "       [-5.88722641e-01, -1.78311546e+00, -6.84890836e-01,\n",
       "         6.87691266e-03, -2.07765931e+00,  1.62824842e-01,\n",
       "        -2.70892833e-02,  3.45233507e-01, -3.10650780e-01,\n",
       "        -3.78660365e+00,  4.41928589e-01, -7.51904622e-01,\n",
       "        -5.00942705e+00,  2.61707593e-01, -3.59972771e+00,\n",
       "         6.83870942e-01, -5.11844168e-01,  1.29556523e-01,\n",
       "        -3.40586762e-01, -5.06478532e-01]])"
      ]
     },
     "execution_count": 51,
     "metadata": {},
     "output_type": "execute_result"
    }
   ],
   "source": [
    "C1(dx,dy,dz,Ret)"
   ]
  },
  {
   "cell_type": "code",
   "execution_count": 52,
   "metadata": {},
   "outputs": [],
   "source": [
    "def fD(dx,dy,dz,DT,Ret):\n",
    "    return 1/2*d0*qw*np.dot(DT, C1(dx,dy,dz,Ret))*9.81"
   ]
  },
  {
   "cell_type": "code",
   "execution_count": 53,
   "metadata": {},
   "outputs": [
    {
     "data": {
      "text/plain": [
       "array([[-5.94050174e+02, -4.81470404e+03, -3.37869921e+03],\n",
       "       [-1.38017147e+03, -7.11326809e+02, -1.02333601e+04],\n",
       "       [-3.99164138e+01, -4.10635505e+03, -3.93061175e+03],\n",
       "       [ 1.18602441e+03,  1.60504743e+01,  3.94668351e+01],\n",
       "       [ 1.13713964e+04,  7.15532126e+03, -1.19237573e+04],\n",
       "       [ 1.22208762e+03,  6.90637989e+02,  9.34457296e+02],\n",
       "       [ 1.09267339e+02,  1.43460314e+02, -1.55466316e+02],\n",
       "       [ 5.88226755e+03, -4.00178413e+01,  1.98130682e+03],\n",
       "       [ 2.31933206e+03,  9.27795217e+02, -1.78283537e+03],\n",
       "       [ 4.76281225e+03, -1.26533504e+04, -2.17314468e+04],\n",
       "       [ 5.57154245e+01,  1.28311813e+03,  2.53624317e+03],\n",
       "       [ 1.65950664e+02,  7.19489441e+03, -4.31520614e+03],\n",
       "       [ 9.61891504e+03, -2.19991171e+04, -2.87492719e+04],\n",
       "       [ 1.21353505e+03, -8.86742049e+03,  1.50194876e+03],\n",
       "       [-2.06307955e+01, -1.35457430e+04, -2.06589595e+04],\n",
       "       [ 1.24103545e+03, -1.47109565e+04,  3.92475854e+03],\n",
       "       [ 2.52309768e+03,  3.36572278e+03, -2.93749105e+03],\n",
       "       [ 1.77982434e+04, -1.14147968e+03,  7.43529282e+02],\n",
       "       [ 2.22272352e+04, -3.26654000e+04, -1.95463899e+03],\n",
       "       [-4.15012026e+03,  3.21420443e+03, -2.90669748e+03]])"
      ]
     },
     "execution_count": 53,
     "metadata": {},
     "output_type": "execute_result"
    }
   ],
   "source": [
    "fD(dx,dy,dz,DT,Ret).T"
   ]
  },
  {
   "cell_type": "code",
   "execution_count": 54,
   "metadata": {},
   "outputs": [
    {
     "name": "stdout",
     "output_type": "stream",
     "text": [
      "0:00:00.000333\n"
     ]
    }
   ],
   "source": [
    "startTime1 = datetime.now()\n",
    "fD(dx,dy,dz,DT,Ret)\n",
    "print(datetime.now() - startTime1)"
   ]
  },
  {
   "cell_type": "code",
   "execution_count": 55,
   "metadata": {},
   "outputs": [],
   "source": [
    "# https://docs.scipy.org/doc/scipy-1.8.0/tutorial/integrate.html  \n",
    "# 1-D Gray-Scott "
   ]
  },
  {
   "cell_type": "code",
   "execution_count": 56,
   "metadata": {},
   "outputs": [],
   "source": [
    "I=np.identity(3)"
   ]
  },
  {
   "cell_type": "code",
   "execution_count": 57,
   "metadata": {},
   "outputs": [
    {
     "name": "stdout",
     "output_type": "stream",
     "text": [
      "0:00:00.000275\n"
     ]
    }
   ],
   "source": [
    "startTime1 = datetime.now()\n",
    "np.dot(I,fD(dx,dy,dz,DT,Ret))\n",
    "print(datetime.now() - startTime1)"
   ]
  },
  {
   "cell_type": "code",
   "execution_count": 58,
   "metadata": {},
   "outputs": [],
   "source": [
    "Rb_t=I # https://www.researchgate.net/profile/Thor-Fossen/publication/224560837_Modeling_and_Control_of_Offshore_Pipelay_Operations_Based_on_a_Finite_Strain_Pipe_Model/links/00b7d520e175a3f918000000/Modeling-and-Control-of-Offshore-Pipelay-Operations-Based-on-a-Finite-Strain-Pipe-Model.pdf"
   ]
  },
  {
   "cell_type": "code",
   "execution_count": 59,
   "metadata": {},
   "outputs": [
    {
     "data": {
      "text/plain": [
       "array([[1., 0., 0.],\n",
       "       [0., 1., 0.],\n",
       "       [0., 0., 1.]])"
      ]
     },
     "execution_count": 59,
     "metadata": {},
     "output_type": "execute_result"
    }
   ],
   "source": [
    "Rb_t"
   ]
  },
  {
   "cell_type": "code",
   "execution_count": 60,
   "metadata": {},
   "outputs": [],
   "source": [
    "diag_DR = 1.5*np.array([1, 1, 1]) # [N m/rad]  p.4721 in [3]"
   ]
  },
  {
   "cell_type": "code",
   "execution_count": 61,
   "metadata": {},
   "outputs": [],
   "source": [
    "DR=np.diag(diag_DR) "
   ]
  },
  {
   "cell_type": "code",
   "execution_count": 62,
   "metadata": {},
   "outputs": [
    {
     "data": {
      "text/plain": [
       "0.08091250419136858"
      ]
     },
     "execution_count": 62,
     "metadata": {},
     "output_type": "execute_result"
    }
   ],
   "source": [
    "Ar"
   ]
  },
  {
   "cell_type": "code",
   "execution_count": 63,
   "metadata": {},
   "outputs": [],
   "source": [
    "fg_e=np.array([[0,0,(mp-qw*Ar)*9.81] for x in range(node_N)])"
   ]
  },
  {
   "cell_type": "code",
   "execution_count": 64,
   "metadata": {},
   "outputs": [
    {
     "data": {
      "text/plain": [
       "array([[  0.        ,   0.        , 128.16454223],\n",
       "       [  0.        ,   0.        , 128.16454223],\n",
       "       [  0.        ,   0.        , 128.16454223],\n",
       "       [  0.        ,   0.        , 128.16454223],\n",
       "       [  0.        ,   0.        , 128.16454223],\n",
       "       [  0.        ,   0.        , 128.16454223],\n",
       "       [  0.        ,   0.        , 128.16454223],\n",
       "       [  0.        ,   0.        , 128.16454223],\n",
       "       [  0.        ,   0.        , 128.16454223],\n",
       "       [  0.        ,   0.        , 128.16454223],\n",
       "       [  0.        ,   0.        , 128.16454223],\n",
       "       [  0.        ,   0.        , 128.16454223],\n",
       "       [  0.        ,   0.        , 128.16454223],\n",
       "       [  0.        ,   0.        , 128.16454223],\n",
       "       [  0.        ,   0.        , 128.16454223],\n",
       "       [  0.        ,   0.        , 128.16454223],\n",
       "       [  0.        ,   0.        , 128.16454223],\n",
       "       [  0.        ,   0.        , 128.16454223],\n",
       "       [  0.        ,   0.        , 128.16454223],\n",
       "       [  0.        ,   0.        , 128.16454223]])"
      ]
     },
     "execution_count": 64,
     "metadata": {},
     "output_type": "execute_result"
    }
   ],
   "source": [
    "fg_e"
   ]
  },
  {
   "cell_type": "code",
   "execution_count": 65,
   "metadata": {},
   "outputs": [],
   "source": [
    "x,y,z=rng.standard_normal(node_N),rng.standard_normal(node_N),rng.standard_normal(node_N)"
   ]
  },
  {
   "cell_type": "code",
   "execution_count": 66,
   "metadata": {},
   "outputs": [],
   "source": [
    "def Re_b(Ret):\n",
    "    return Ret"
   ]
  },
  {
   "cell_type": "code",
   "execution_count": 67,
   "metadata": {},
   "outputs": [
    {
     "name": "stdout",
     "output_type": "stream",
     "text": [
      "0:00:00.000097\n"
     ]
    }
   ],
   "source": [
    "startTime1 = datetime.now()\n",
    "Re_b(Ret)\n",
    "print(datetime.now() - startTime1)"
   ]
  },
  {
   "cell_type": "code",
   "execution_count": 68,
   "metadata": {},
   "outputs": [],
   "source": [
    "def phi(x, y, z, Ret,dummy,dummy1): # here\n",
    "    B=np.vstack([x,y,z])\n",
    "    return np.linalg.solve(Ret.astype(np.float64),B.T.astype(np.float64))\n",
    "#     return np.einsum('ijk,ik->ij', Ret,B.T.astype(np.float64))"
   ]
  },
  {
   "cell_type": "code",
   "execution_count": 69,
   "metadata": {},
   "outputs": [
    {
     "data": {
      "text/plain": [
       "array([[-1.56752831, -0.36606222,  1.32946605],\n",
       "       [ 0.34845446, -0.65540172,  0.75544584],\n",
       "       [-0.82325061,  0.1482746 ,  1.47969182],\n",
       "       [-0.36353189, -2.0303755 ,  0.03337461],\n",
       "       [-0.28473239,  0.16666668, -0.45683069],\n",
       "       [-0.94790923,  0.40252967,  0.22201779],\n",
       "       [-0.89682676, -0.07336652, -0.32919872],\n",
       "       [ 0.7994953 , -0.25931391, -0.84560998],\n",
       "       [ 0.56180924, -0.38324772, -0.47066924],\n",
       "       [-0.35610191,  0.72296219,  0.13011947],\n",
       "       [ 0.50466037, -0.53155445,  0.19893484],\n",
       "       [-0.02167572, -0.79259711,  0.57549361],\n",
       "       [ 0.93849261, -0.03275981, -0.30126317],\n",
       "       [ 0.45510007, -1.64589148,  0.76038871],\n",
       "       [-1.60531309, -0.29944199,  1.64519934],\n",
       "       [-0.36115559,  1.0940628 , -0.10358152],\n",
       "       [-1.11302419, -0.53142416,  0.50295863],\n",
       "       [ 0.68065345,  0.16572507, -1.79812997],\n",
       "       [ 0.32778324, -0.27971403,  0.18728209],\n",
       "       [-0.35683003, -0.31358404, -1.37193329]])"
      ]
     },
     "execution_count": 69,
     "metadata": {},
     "output_type": "execute_result"
    }
   ],
   "source": [
    "phi(x,y,z,Ret,None,None)"
   ]
  },
  {
   "cell_type": "code",
   "execution_count": 70,
   "metadata": {},
   "outputs": [
    {
     "name": "stdout",
     "output_type": "stream",
     "text": [
      "0:00:00.000311\n"
     ]
    }
   ],
   "source": [
    "startTime1 = datetime.now()\n",
    "phi(x,y,z,Ret,None,None)\n",
    "print(datetime.now() - startTime1)"
   ]
  },
  {
   "cell_type": "code",
   "execution_count": 71,
   "metadata": {},
   "outputs": [],
   "source": [
    "def Π_(arr):\n",
    "    φ,θ,ψ=arr[0],arr[1],arr[2]\n",
    "    return np.array([[np.cos(θ),0,np.cos(φ)*np.sin(θ)],\n",
    "                  [0,1,-np.sin(φ)],\n",
    "                  [-np.sin(θ),0,np.cos(φ)*np.cos(θ)]])"
   ]
  },
  {
   "cell_type": "code",
   "execution_count": 72,
   "metadata": {},
   "outputs": [],
   "source": [
    "def Π(a,b,c):\n",
    "    xyz=np.stack((a,b,c), axis=1)\n",
    "  \n",
    "    return np.apply_along_axis(Π_, 1, xyz)\n",
    "    "
   ]
  },
  {
   "cell_type": "code",
   "execution_count": 73,
   "metadata": {},
   "outputs": [
    {
     "name": "stdout",
     "output_type": "stream",
     "text": [
      "0:00:00.000981\n"
     ]
    }
   ],
   "source": [
    "startTime1 = datetime.now()\n",
    "Π(φ,θ,ψ).shape\n",
    "print(datetime.now() - startTime1)"
   ]
  },
  {
   "cell_type": "code",
   "execution_count": 74,
   "metadata": {},
   "outputs": [],
   "source": [
    "def ωe(φ,θ,ψ, dummy,dummy1,dummy2): # here # (100) in [2]\n",
    "    A=Π(φ,θ,ψ)\n",
    "    B=np.vstack([φ,θ,ψ])\n",
    "    return np.einsum('ijk,ik->ij',A,B.T.astype(np.float64))"
   ]
  },
  {
   "cell_type": "code",
   "execution_count": 75,
   "metadata": {},
   "outputs": [
    {
     "name": "stdout",
     "output_type": "stream",
     "text": [
      "0:00:00.001119\n"
     ]
    }
   ],
   "source": [
    "startTime1 = datetime.now()\n",
    "ωe(φ,θ,ψ,None,None,None)\n",
    "print(datetime.now() - startTime1)"
   ]
  },
  {
   "cell_type": "code",
   "execution_count": 76,
   "metadata": {},
   "outputs": [
    {
     "data": {
      "text/plain": [
       "array([[ 1.54154821, -2.18666267,  0.42550673],\n",
       "       [-2.22060399,  0.86969949,  0.3604075 ],\n",
       "       [-1.0613003 , -0.58527808, -0.33591347],\n",
       "       [ 0.2283397 , -0.97743476, -0.05027293],\n",
       "       [-0.24501471, -1.45080429, -1.02081131],\n",
       "       [-1.70684026, -0.02347047, -0.56601589],\n",
       "       [ 0.04060268, -1.50639125,  0.85775399],\n",
       "       [-1.43401549,  1.60750618,  1.66782038],\n",
       "       [-0.0338313 ,  1.62140416,  1.01148394],\n",
       "       [ 1.7055791 ,  1.70575821, -1.85533186],\n",
       "       [-0.68709849,  1.82645305, -0.26433346],\n",
       "       [-0.74182278, -0.37048009, -1.48448325],\n",
       "       [ 0.25475982, -1.18589834,  0.54174536],\n",
       "       [-0.47890482, -1.9037963 ,  0.1183243 ],\n",
       "       [-0.60596401,  0.26583039,  0.6041152 ],\n",
       "       [ 0.26140489, -1.42667547,  1.11205644],\n",
       "       [-0.55111525, -1.70057514,  0.82650368],\n",
       "       [-0.78301757, -0.72299876, -0.57981739],\n",
       "       [-0.72701414,  0.31618135,  1.58023949],\n",
       "       [-0.39928026,  1.31709156,  1.00080744]])"
      ]
     },
     "execution_count": 76,
     "metadata": {},
     "output_type": "execute_result"
    }
   ],
   "source": [
    "ωe(φ,θ,ψ,None,None,None)"
   ]
  },
  {
   "cell_type": "code",
   "execution_count": 77,
   "metadata": {},
   "outputs": [],
   "source": [
    "def d_s(f,a,b,c,Ret,omega): # here\n",
    "    \n",
    "    fun = f(a,b,c,Ret,omega, None) \n",
    "    \n",
    "#     if flag==1:\n",
    "#         fun+=-np.dot(Ret,force)\n",
    "# #         fun*=-np.dot(Ret,force)\n",
    "#     elif flag==2:\n",
    "#         fun+=-np.dot(np.einsum('ijk,ikr->ijr',np.linalg.inv(Π(φ,θ,ψ).astype(np.float64)),Re_b(Ret)),force)\n",
    "#         fun*=-np.dot(np.einsum('ijk,ikr->ijr',np.linalg.inv(Π(φ,θ,ψ).astype(np.float64)),Re_b(Ret)),force)\n",
    "#     print(np.einsum('ijk,ikr->ijr',np.linalg.inv(Π(φ,θ,ψ).astype(np.float64)),Re_b(Ret)))\n",
    "#     print(np.dot(np.linalg.inv(Π(φ,θ,ψ).astype(np.float64))[2],Re_b(Ret)[2]))\n",
    "        \n",
    "# #     print(fun)\n",
    "#     if any(force):\n",
    "# #         fun[-1]=-np.array(force)\n",
    "#         fun[-1]=-np.dot(Ret[-1],force)\n",
    "# #         fun+=-np.dot(Ret,force) # !!!!!!!!!!!!!!!!!!!!!!!!!!!!!!!!!!!!!!!!!!!!!!!!!!!!!!!!!\n",
    "# #     print(fun)\n",
    "\n",
    "    def S(arr):\n",
    "        a1,a2,a3=arr[0],arr[1],arr[2]\n",
    "        return np.array([[0, -a3, a2 ],\n",
    "                         [a3, 0, -a1],\n",
    "                        [-a2, a1, 0]])\n",
    "    K=np.apply_along_axis(S, 1, omega)\n",
    "    \n",
    "    \n",
    "   \n",
    "    return np.einsum('ijk,ik->ij',K, fun).T"
   ]
  },
  {
   "cell_type": "code",
   "execution_count": 78,
   "metadata": {},
   "outputs": [],
   "source": [
    "φ, θ, ψ = np.array([0.1 for i in range(node_N)]),np.array([0.01 for i in range(node_N)]),np.array([0.01 for i in range(node_N)])"
   ]
  },
  {
   "cell_type": "code",
   "execution_count": 79,
   "metadata": {},
   "outputs": [
    {
     "data": {
      "text/plain": [
       "array([[ 0.01524351,  0.01266583,  0.0119927 ,  0.0184714 , -0.00560383,\n",
       "        -0.00160393, -0.00230674, -0.00529115, -0.00080691, -0.0052989 ,\n",
       "         0.00654792,  0.0122738 , -0.00241868,  0.02157477,  0.01748941,\n",
       "        -0.01072379,  0.00928348, -0.01766933,  0.00418917, -0.00954325],\n",
       "       [-0.14710093, -0.07249746, -0.15547674, -0.00659407,  0.04317801,\n",
       "        -0.03070613,  0.02492478,  0.09179604,  0.05213935, -0.0162112 ,\n",
       "        -0.01539579, -0.05779773,  0.03855388, -0.07203778, -0.17904225,\n",
       "         0.00713576, -0.06030447,  0.18607447, -0.01581239,  0.1341295 ],\n",
       "       [-0.02253045, -0.06873878,  0.0222521 , -0.19995703,  0.01924548,\n",
       "         0.04882377,  0.00072935, -0.03315269, -0.04341821,  0.07557005,\n",
       "        -0.05774846, -0.07913949, -0.01172707, -0.16884134, -0.015522  ,\n",
       "         0.11276067, -0.04317356,  0.01046115, -0.03094843, -0.02817597]])"
      ]
     },
     "execution_count": 79,
     "metadata": {},
     "output_type": "execute_result"
    }
   ],
   "source": [
    "d_s(phi,x,y,z,Ret, ωe(φ,θ,ψ,None,None,None))"
   ]
  },
  {
   "cell_type": "code",
   "execution_count": 80,
   "metadata": {},
   "outputs": [
    {
     "name": "stdout",
     "output_type": "stream",
     "text": [
      "0:00:00.003049\n"
     ]
    }
   ],
   "source": [
    "startTime1 = datetime.now()\n",
    "d_s(phi,x,y,z,Ret,ωe(φ,θ,ψ,None,None,None))\n",
    "print(datetime.now() - startTime1)"
   ]
  },
  {
   "cell_type": "code",
   "execution_count": 81,
   "metadata": {},
   "outputs": [],
   "source": [
    "def ne(x,y,z,Ret,omega,force): # here\n",
    "    A=np.multiply(np.multiply(Ret,CT),Ret)\n",
    "    B=d_s(phi,x,y,z,Ret,omega).T\n",
    "    return np.einsum('ijk,ik->ij', A.astype(np.float64),B\n",
    "                     -\n",
    "                     np.einsum('ijk,kp->ijp',Ret.astype(np.float64), np.array([1,0,0]).reshape(3,1)).squeeze()\n",
    "                    )"
   ]
  },
  {
   "cell_type": "code",
   "execution_count": 82,
   "metadata": {},
   "outputs": [],
   "source": [
    "# np.dot(Ret.astype(np.float64)[2],np.array([1,0,0]).reshape(3,1)).squeeze()"
   ]
  },
  {
   "cell_type": "code",
   "execution_count": 83,
   "metadata": {},
   "outputs": [],
   "source": [
    "# np.einsum('ijk,kp->ijp',Ret.astype(np.float64), np.array([1,0,0]).reshape(3,1)).squeeze()"
   ]
  },
  {
   "cell_type": "code",
   "execution_count": 84,
   "metadata": {},
   "outputs": [],
   "source": [
    "φ, θ, ψ = np.array([0.01 for i in range(node_N)]),np.array([0.000001 for i in range(node_N)]),np.array([0.000001 for i in range(node_N)])"
   ]
  },
  {
   "cell_type": "code",
   "execution_count": 85,
   "metadata": {},
   "outputs": [
    {
     "data": {
      "text/plain": [
       "array([[ 2.44971724e-06, -1.65356117e-06, -1.08430962e-06,\n",
       "         2.02791880e-06, -1.00919693e-07, -1.61875848e-06,\n",
       "        -1.10925227e-06,  7.03275337e-07, -4.71685717e-07,\n",
       "         7.40498115e-07,  7.05271403e-07, -1.02365534e-07,\n",
       "         9.21232260e-07,  1.99201276e-07, -1.16555847e-06,\n",
       "         1.54183817e-07,  1.30959229e-06,  1.94573137e-06,\n",
       "        -1.55516682e-07,  1.12822263e-06],\n",
       "       [-1.55523889e-02,  6.55764206e-03, -5.80737936e-03,\n",
       "         8.92453721e-04,  2.51628378e-03,  7.01914058e-03,\n",
       "         9.13979495e-03, -1.48229095e-03,  7.45161148e-03,\n",
       "        -1.87988539e-03,  4.66094212e-04, -7.04883358e-03,\n",
       "        -5.81481280e-03,  5.80621673e-03, -3.06012834e-03,\n",
       "         2.10235814e-03, -5.78440374e-04, -9.62285774e-03,\n",
       "        -4.39921709e-04,  3.19779851e-03],\n",
       "       [-9.19269132e-03,  1.01455074e-02,  1.67608492e-02,\n",
       "        -2.13775619e-02, -1.49696897e-03,  9.33242535e-03,\n",
       "         2.06487620e-03, -5.62178401e-03, -2.68724625e-03,\n",
       "        -5.60017607e-03, -7.59043121e-03,  8.08323829e-03,\n",
       "        -3.49073888e-03, -7.81874669e-03,  1.48341959e-02,\n",
       "        -3.65995563e-03, -1.26504033e-02, -1.00314995e-02,\n",
       "         2.01089892e-03, -1.45947243e-02]])"
      ]
     },
     "execution_count": 85,
     "metadata": {},
     "output_type": "execute_result"
    }
   ],
   "source": [
    "d_s(ωe,x,y,z,Ret,ωe(φ,θ,ψ,None,None,None))"
   ]
  },
  {
   "cell_type": "code",
   "execution_count": 86,
   "metadata": {},
   "outputs": [],
   "source": [
    "def ne_(dx,dy,dz,DT,Ret):\n",
    "    return -fg_e.T-fD(dx,dy,dz,DT,Ret) #-sigma(x,y,z).T"
   ]
  },
  {
   "cell_type": "code",
   "execution_count": 87,
   "metadata": {},
   "outputs": [
    {
     "data": {
      "text/plain": [
       "array([[ 5.94050174e+02,  1.38017147e+03,  3.99164138e+01,\n",
       "        -1.18602441e+03, -1.13713964e+04, -1.22208762e+03,\n",
       "        -1.09267339e+02, -5.88226755e+03, -2.31933206e+03,\n",
       "        -4.76281225e+03, -5.57154245e+01, -1.65950664e+02,\n",
       "        -9.61891504e+03, -1.21353505e+03,  2.06307955e+01,\n",
       "        -1.24103545e+03, -2.52309768e+03, -1.77982434e+04,\n",
       "        -2.22272352e+04,  4.15012026e+03],\n",
       "       [ 4.81470404e+03,  7.11326809e+02,  4.10635505e+03,\n",
       "        -1.60504743e+01, -7.15532126e+03, -6.90637989e+02,\n",
       "        -1.43460314e+02,  4.00178413e+01, -9.27795217e+02,\n",
       "         1.26533504e+04, -1.28311813e+03, -7.19489441e+03,\n",
       "         2.19991171e+04,  8.86742049e+03,  1.35457430e+04,\n",
       "         1.47109565e+04, -3.36572278e+03,  1.14147968e+03,\n",
       "         3.26654000e+04, -3.21420443e+03],\n",
       "       [ 3.25053467e+03,  1.01051956e+04,  3.80244721e+03,\n",
       "        -1.67631377e+02,  1.17955928e+04, -1.06262184e+03,\n",
       "         2.73017738e+01, -2.10947136e+03,  1.65467082e+03,\n",
       "         2.16032823e+04, -2.66440771e+03,  4.18704160e+03,\n",
       "         2.86211073e+04, -1.63011330e+03,  2.05307949e+04,\n",
       "        -4.05292308e+03,  2.80932651e+03, -8.71693824e+02,\n",
       "         1.82647444e+03,  2.77853294e+03]])"
      ]
     },
     "execution_count": 87,
     "metadata": {},
     "output_type": "execute_result"
    }
   ],
   "source": [
    "ne_(dx,dy,dz,DT,Ret)"
   ]
  },
  {
   "cell_type": "code",
   "execution_count": 88,
   "metadata": {},
   "outputs": [
    {
     "name": "stdout",
     "output_type": "stream",
     "text": [
      "0:00:00.003467\n"
     ]
    }
   ],
   "source": [
    "startTime1 = datetime.now()\n",
    "ne(x,y,z,Ret,ωe(φ,θ,ψ,None,None,None),[0,0,1])\n",
    "print(datetime.now() - startTime1)"
   ]
  },
  {
   "cell_type": "code",
   "execution_count": 89,
   "metadata": {},
   "outputs": [
    {
     "data": {
      "text/plain": [
       "array([[-9.98856090e+02,  1.26803919e+07, -2.59106947e+06],\n",
       "       [ 2.51897239e+03, -3.91890235e+07,  1.37455588e+07],\n",
       "       [-2.75993075e+03,  2.10701294e+07,  6.80829935e+06],\n",
       "       [-7.55786091e+03,  4.14643764e+07,  3.48794077e+07],\n",
       "       [-1.22314553e+03,  6.05270931e+06,  6.30261337e+06],\n",
       "       [-4.06493275e+03,  2.47715115e+07,  1.62892337e+07],\n",
       "       [ 7.79759816e+02,  6.54393758e+06, -1.44210288e+07],\n",
       "       [ 1.24166560e+02, -1.28454377e+07,  1.15918177e+07],\n",
       "       [ 3.23407074e+03, -1.71678602e+07, -1.55003010e+07],\n",
       "       [ 3.64691404e+03, -1.53462615e+07, -2.14923369e+07],\n",
       "       [-5.48398329e+03, -2.78795202e+05,  5.56753777e+07],\n",
       "       [-1.47366748e+01,  9.68205054e+04,  5.20374072e+04],\n",
       "       [-1.90297221e+03,  1.25037720e+07,  6.71850665e+06],\n",
       "       [ 4.85765723e+03,  7.45412243e+06, -5.65242231e+07],\n",
       "       [ 7.17515133e+03, -3.23305600e+07, -4.01477382e+07],\n",
       "       [-3.47356422e+03,  4.27352271e+07, -7.64911339e+06],\n",
       "       [ 1.54850442e+03,  1.19212837e+07, -2.75641366e+07],\n",
       "       [-4.63676335e+03,  3.35487444e+07,  1.32879145e+07],\n",
       "       [ 5.86286980e+01, -3.33724878e+05, -2.58497192e+05],\n",
       "       [ 5.24989289e+03, -4.17754756e+07, -1.12543069e+07]])"
      ]
     },
     "execution_count": 89,
     "metadata": {},
     "output_type": "execute_result"
    }
   ],
   "source": [
    "d_s(ne, x, y, z, Ret, ωe(φ,θ,ψ,None,None,None)).T"
   ]
  },
  {
   "cell_type": "code",
   "execution_count": 90,
   "metadata": {},
   "outputs": [
    {
     "data": {
      "text/plain": [
       "array([[ 6.97804513e+09, -2.58416121e+08, -1.26734840e+09],\n",
       "       [-3.30383570e+09,  1.37422880e+09,  3.91857529e+09],\n",
       "       [-8.41226091e+09,  6.79997121e+08, -2.10784571e+09],\n",
       "       [-2.76775595e+09,  3.48766676e+09, -4.14671163e+09],\n",
       "       [-2.66593563e+07,  6.30258697e+08, -6.05273570e+08],\n",
       "       [-4.82128214e+07,  1.62891860e+09, -2.47715592e+09],\n",
       "       [-3.56275034e+06, -1.44210323e+09, -6.54394110e+08],\n",
       "       [ 3.74567233e+06,  1.15918214e+09,  1.28454415e+09],\n",
       "       [ 1.31934252e+07, -1.55002879e+09,  1.71678732e+09],\n",
       "       [ 1.18404817e+08, -2.14922196e+09,  1.53463788e+09],\n",
       "       [ 1.99058548e+08,  5.56755748e+09,  2.78992260e+07],\n",
       "       [-1.37160981e+10,  3.84584678e+06, -1.10398757e+07],\n",
       "       [-8.95998790e+08,  6.71761961e+08, -1.25046590e+09],\n",
       "       [ 4.68209254e+08, -5.65237596e+09, -7.45365893e+08],\n",
       "       [-7.14672863e+09, -4.01548135e+09,  3.23234851e+09],\n",
       "       [ 6.31784063e+05, -7.64911276e+08, -4.27352265e+09],\n",
       "       [ 1.22405972e+08, -2.75640154e+09, -1.19211626e+09],\n",
       "       [-6.32468415e+09,  1.32816530e+09, -3.35550055e+09],\n",
       "       [-1.43660623e+10, -2.72719596e+07,  3.19503194e+07],\n",
       "       [-3.52669224e+07, -1.12543418e+09,  4.17754407e+09]])"
      ]
     },
     "execution_count": 90,
     "metadata": {},
     "output_type": "execute_result"
    }
   ],
   "source": [
    "ne(x,y,z,Ret,ωe(φ,θ,ψ,None,None,None),[1,23,4])"
   ]
  },
  {
   "cell_type": "code",
   "execution_count": 91,
   "metadata": {},
   "outputs": [
    {
     "name": "stdout",
     "output_type": "stream",
     "text": [
      "0:00:00.000462\n"
     ]
    }
   ],
   "source": [
    "startTime1 = datetime.now()\n",
    "ne_(dx,dy,dz,DT,Ret)\n",
    "print(datetime.now() - startTime1)"
   ]
  },
  {
   "cell_type": "code",
   "execution_count": 92,
   "metadata": {},
   "outputs": [
    {
     "data": {
      "text/plain": [
       "(20, 3, 3)"
      ]
     },
     "execution_count": 92,
     "metadata": {},
     "output_type": "execute_result"
    }
   ],
   "source": [
    "Re_b(Ret).shape"
   ]
  },
  {
   "cell_type": "code",
   "execution_count": 93,
   "metadata": {},
   "outputs": [],
   "source": [
    "# def Irho_e(Ret):\n",
    "    \n",
    "#     ans1 = np.multiply(np.multiply(Ret,Irho),Ret) # (19) in [3] \n",
    "    \n",
    "#     sum_=np.zeros(Irho.shape)\n",
    "# #     print(sum_)\n",
    "    \n",
    "#     for i in range(len(ans1)):\n",
    "#         sum_+=ans1[i]\n",
    "#         ans1[i]=sum_\n",
    "        \n",
    "#     tmp=np.zeros(Irho.shape)\n",
    "#     np.fill_diagonal(tmp, vessel_inertia)\n",
    "    \n",
    "#     ans2=np.multiply(np.multiply(Ret,tmp),Ret)\n",
    "#     ans1[-1]+=ans2[-1]\n",
    "    \n",
    "#     for i in range(int(node_N/4)):\n",
    "#         ans1[i]*=(10-i+1)\n",
    "#     return ans1\n",
    "def Irho_e(Ret,Irho): # here\n",
    "#     ans= np.multiply(np.multiply(Ret,Irho),Ret) # (19) in [3] \n",
    "#     print(Irho[1])\n",
    "#     print(np.dot(np.dot(Ret[1],Irho[1]),Ret[1]))\n",
    "#     ans=  np.einsum('ijk,ikp->ijp', np.einsum('i,ikp->ikp', Irho, Ret),Ret)\n",
    "    ans=  np.einsum('ijk,ikp->ijp', np.einsum('ijk,ikp->ijp', Ret,Irho),Ret)\n",
    "    return ans"
   ]
  },
  {
   "cell_type": "code",
   "execution_count": 94,
   "metadata": {},
   "outputs": [],
   "source": [
    "# Irho_e(Ret,Irho)"
   ]
  },
  {
   "cell_type": "code",
   "execution_count": 95,
   "metadata": {},
   "outputs": [],
   "source": [
    "# startTime1 = datetime.now()\n",
    "# Irho_e(Ret,Irho)\n",
    "# print(datetime.now() - startTime1)"
   ]
  },
  {
   "cell_type": "code",
   "execution_count": 96,
   "metadata": {},
   "outputs": [
    {
     "data": {
      "text/plain": [
       "423167467.8322429"
      ]
     },
     "execution_count": 96,
     "metadata": {},
     "output_type": "execute_result"
    }
   ],
   "source": [
    "79.3*1e9*math.pi*(d0**4-dI**4)/64"
   ]
  },
  {
   "cell_type": "code",
   "execution_count": 97,
   "metadata": {},
   "outputs": [],
   "source": [
    "# diag_CR = 1e11*np.array([1, 1, 1])\n",
    "diag_CR = 1e9*np.array([4, 4, 4]) #!!!!!!!!!!!!!!!!!!!!!!!!!!!!!!!!!!!!!!!!!\n",
    "\n",
    "CR=np.diag(diag_CR)"
   ]
  },
  {
   "cell_type": "code",
   "execution_count": 98,
   "metadata": {},
   "outputs": [
    {
     "data": {
      "text/plain": [
       "array([[4.e+09, 0.e+00, 0.e+00],\n",
       "       [0.e+00, 4.e+09, 0.e+00],\n",
       "       [0.e+00, 0.e+00, 4.e+09]])"
      ]
     },
     "execution_count": 98,
     "metadata": {},
     "output_type": "execute_result"
    }
   ],
   "source": [
    "CR"
   ]
  },
  {
   "cell_type": "code",
   "execution_count": 99,
   "metadata": {},
   "outputs": [],
   "source": [
    "def d_me(φ,θ,ψ,Ret,omega):\n",
    "    \n",
    "    def f(a,b,c,Ret,omega, dummy2): \n",
    "        return np.einsum('ijk,ik->ik', np.multiply(np.multiply(Ret,CR),Ret),omega.astype(np.float64)).squeeze()\n",
    "   \n",
    "    B=d_s(f,φ,θ,ψ,Ret.astype(np.float64),omega.astype(np.float64))\n",
    "\n",
    "    return B.T.astype(np.float64)"
   ]
  },
  {
   "cell_type": "code",
   "execution_count": 100,
   "metadata": {},
   "outputs": [
    {
     "name": "stdout",
     "output_type": "stream",
     "text": [
      "0:00:00.001241\n"
     ]
    }
   ],
   "source": [
    "startTime1 = datetime.now()\n",
    "d_me_=d_me(φ,θ,ψ,Ret, ωe(φ,θ,ψ,None,None,None))\n",
    "print(datetime.now() - startTime1)"
   ]
  },
  {
   "cell_type": "code",
   "execution_count": 101,
   "metadata": {},
   "outputs": [
    {
     "data": {
      "text/plain": [
       "array([[-6.85316580e-05,  1.74290495e+01, -1.67376588e+01],\n",
       "       [ 3.79397256e-04,  6.09579459e-01, -4.44209943e+00],\n",
       "       [ 3.11025749e-04,  1.57058335e+01, -1.88484623e+01],\n",
       "       [-2.55607065e-03,  1.61295070e-01,  2.56588963e+01],\n",
       "       [-7.75928394e-04, -9.04731571e-01,  8.74283383e+00],\n",
       "       [ 5.04811669e-04, -9.08420026e+00,  3.98529529e+00],\n",
       "       [-1.45105849e-03, -1.42118490e+00,  1.60791537e+01],\n",
       "       [-4.14770524e-04, -3.07313617e+00,  7.26310477e+00],\n",
       "       [-3.44868507e-04, -4.20000542e+00,  7.68391447e+00],\n",
       "       [-3.78362075e-04, -3.10131284e+00,  6.92350217e+00],\n",
       "       [-2.07215563e-03,  1.95481375e+00,  1.89770093e+01],\n",
       "       [-1.05645121e-05,  3.42487337e+01, -3.41437516e+01],\n",
       "       [-2.36116932e-03,  2.42014152e+00,  2.14311356e+01],\n",
       "       [-2.82168739e-03,  1.61624021e+00,  2.68870103e+01],\n",
       "       [ 1.40684582e-03, -6.94784286e+00, -7.26308667e+00],\n",
       "       [ 9.99296672e-04, -1.29041485e+01,  2.81038682e+00],\n",
       "       [-5.07835578e-04, -2.52164723e+00,  7.65168641e+00],\n",
       "       [ 8.67983756e-05,  8.34564835e+00, -9.22286682e+00],\n",
       "       [-3.04929533e-05,  3.51485119e+01, -3.48422679e+01],\n",
       "       [ 6.60619106e-04, -1.10542487e+01,  4.38155156e+00]])"
      ]
     },
     "execution_count": 101,
     "metadata": {},
     "output_type": "execute_result"
    }
   ],
   "source": [
    "d_me_"
   ]
  },
  {
   "cell_type": "code",
   "execution_count": 102,
   "metadata": {},
   "outputs": [],
   "source": [
    "# diag_DR = 1.5*np.array([1, 1, 1]) \n",
    " \n",
    "# DR=np.diag(diag_DR)"
   ]
  },
  {
   "cell_type": "code",
   "execution_count": 103,
   "metadata": {},
   "outputs": [
    {
     "data": {
      "text/plain": [
       "array([[ 5.94050174e+02,  1.38017147e+03,  3.99164138e+01,\n",
       "        -1.18602441e+03, -1.13713964e+04, -1.22208762e+03,\n",
       "        -1.09267339e+02, -5.88226755e+03, -2.31933206e+03,\n",
       "        -4.76281225e+03, -5.57154245e+01, -1.65950664e+02,\n",
       "        -9.61891504e+03, -1.21353505e+03,  2.06307955e+01,\n",
       "        -1.24103545e+03, -2.52309768e+03, -1.77982434e+04,\n",
       "        -2.22272352e+04,  4.15012026e+03],\n",
       "       [ 4.81470404e+03,  7.11326809e+02,  4.10635505e+03,\n",
       "        -1.60504743e+01, -7.15532126e+03, -6.90637989e+02,\n",
       "        -1.43460314e+02,  4.00178413e+01, -9.27795217e+02,\n",
       "         1.26533504e+04, -1.28311813e+03, -7.19489441e+03,\n",
       "         2.19991171e+04,  8.86742049e+03,  1.35457430e+04,\n",
       "         1.47109565e+04, -3.36572278e+03,  1.14147968e+03,\n",
       "         3.26654000e+04, -3.21420443e+03],\n",
       "       [ 3.25053467e+03,  1.01051956e+04,  3.80244721e+03,\n",
       "        -1.67631377e+02,  1.17955928e+04, -1.06262184e+03,\n",
       "         2.73017738e+01, -2.10947136e+03,  1.65467082e+03,\n",
       "         2.16032823e+04, -2.66440771e+03,  4.18704160e+03,\n",
       "         2.86211073e+04, -1.63011330e+03,  2.05307949e+04,\n",
       "        -4.05292308e+03,  2.80932651e+03, -8.71693824e+02,\n",
       "         1.82647444e+03,  2.77853294e+03]])"
      ]
     },
     "execution_count": 103,
     "metadata": {},
     "output_type": "execute_result"
    }
   ],
   "source": [
    "ne_(dx,dy,dz,DT,Ret)"
   ]
  },
  {
   "cell_type": "markdown",
   "metadata": {},
   "source": [
    "### Static solution"
   ]
  },
  {
   "cell_type": "code",
   "execution_count": 104,
   "metadata": {},
   "outputs": [],
   "source": [
    "def catenary(x,Ws,Fh):\n",
    "    return (Fh/Ws)*(np.cosh(x*Ws/Fh)-1)"
   ]
  },
  {
   "cell_type": "code",
   "execution_count": 105,
   "metadata": {},
   "outputs": [],
   "source": [
    "pipe_weight_per_unit_length = mi #  (submerged) [kg/m]  # 113.07 - not submerged"
   ]
  },
  {
   "cell_type": "code",
   "execution_count": 106,
   "metadata": {},
   "outputs": [],
   "source": [
    "Fx_0=82945396"
   ]
  },
  {
   "cell_type": "code",
   "execution_count": 107,
   "metadata": {},
   "outputs": [],
   "source": [
    "Ws = np.array(pipe_weight_per_unit_length)*9.81 # [N/m]\n",
    "h=700"
   ]
  },
  {
   "cell_type": "code",
   "execution_count": 108,
   "metadata": {},
   "outputs": [],
   "source": [
    "S=math.sqrt(h*(2*Fx_0/Ws[0] -h))\n",
    "horizontal_length=(Fx_0/Ws[0] -h)*np.log((S+Fx_0/Ws[0])/(Fx_0/Ws[0]-h))"
   ]
  },
  {
   "cell_type": "code",
   "execution_count": 109,
   "metadata": {},
   "outputs": [
    {
     "data": {
      "text/plain": [
       "array([941.76, 941.76, 941.76, 941.76, 941.76, 941.76, 941.76, 941.76,\n",
       "       941.76, 941.76, 941.76, 941.76, 941.76, 941.76, 941.76, 941.76,\n",
       "       941.76, 941.76, 941.76, 941.76])"
      ]
     },
     "execution_count": 109,
     "metadata": {},
     "output_type": "execute_result"
    }
   ],
   "source": [
    "Ws"
   ]
  },
  {
   "cell_type": "code",
   "execution_count": 110,
   "metadata": {},
   "outputs": [],
   "source": [
    "delta_x=horizontal_length/(node_N-1)"
   ]
  },
  {
   "cell_type": "code",
   "execution_count": 111,
   "metadata": {},
   "outputs": [],
   "source": [
    "x0=[i*delta_x for i in range(node_N)]\n",
    "z0=[]\n",
    "\n",
    "for i in range(len(x0)):\n",
    "    z0.append(catenary(x0[i],Ws[0],Fx_0))\n",
    "\n",
    "length_p=[]\n",
    "for i in range(1,len(z0)):\n",
    "    length_p.append(math.sqrt((x0[i]-x0[i-1])**2+(z0[i]-z0[i-1])**2))"
   ]
  },
  {
   "cell_type": "code",
   "execution_count": 112,
   "metadata": {},
   "outputs": [],
   "source": [
    "M_totl=[]\n",
    "v_mass=vessel_mass*9.81\n",
    "for i in range(node_N):\n",
    "    v_mass+=Ws[i]\n",
    "    M_totl.append(v_mass)\n",
    "M_totl=np.array(M_totl[::-1])"
   ]
  },
  {
   "cell_type": "code",
   "execution_count": 113,
   "metadata": {},
   "outputs": [
    {
     "data": {
      "text/plain": [
       "array([3168529.34893617, 3167587.58893617, 3166645.82893617,\n",
       "       3165704.06893617, 3164762.30893617, 3163820.54893617,\n",
       "       3162878.78893617, 3161937.02893617, 3160995.26893617,\n",
       "       3160053.50893617, 3159111.74893617, 3158169.98893617,\n",
       "       3157228.22893617, 3156286.46893617, 3155344.70893617,\n",
       "       3154402.94893617, 3153461.18893617, 3152519.42893617,\n",
       "       3151577.66893617, 3150635.90893617])"
      ]
     },
     "execution_count": 113,
     "metadata": {},
     "output_type": "execute_result"
    }
   ],
   "source": [
    "M_totl"
   ]
  },
  {
   "cell_type": "code",
   "execution_count": 114,
   "metadata": {},
   "outputs": [
    {
     "data": {
      "text/plain": [
       "([0.0,\n",
       "  581.7202549716643,\n",
       "  1163.4405099433286,\n",
       "  1745.1607649149928,\n",
       "  2326.881019886657,\n",
       "  2908.6012748583216,\n",
       "  3490.3215298299856,\n",
       "  4072.04178480165,\n",
       "  4653.762039773314,\n",
       "  5235.482294744978,\n",
       "  5817.202549716643,\n",
       "  6398.922804688307,\n",
       "  6980.643059659971,\n",
       "  7562.363314631636,\n",
       "  8144.0835696033,\n",
       "  8725.803824574965,\n",
       "  9307.524079546629,\n",
       "  9889.244334518293,\n",
       "  10470.964589489957,\n",
       "  11052.684844461623],\n",
       " [0.0,\n",
       "  1.9210908798637865,\n",
       "  7.684447325222353,\n",
       "  17.29032075693661,\n",
       "  30.73913022201063,\n",
       "  48.031462411798785,\n",
       "  69.16807168768352,\n",
       "  94.14988011387165,\n",
       "  122.97797749772,\n",
       "  155.6536214372774,\n",
       "  192.17823737604297,\n",
       "  232.55341866525382,\n",
       "  276.78092663334974,\n",
       "  324.86269066279164,\n",
       "  376.80080827429134,\n",
       "  432.59754521825806,\n",
       "  492.2553355736569,\n",
       "  555.7767818541813,\n",
       "  623.1646551217983,\n",
       "  694.4218951076863])"
      ]
     },
     "execution_count": 114,
     "metadata": {},
     "output_type": "execute_result"
    }
   ],
   "source": [
    "x0,z0"
   ]
  },
  {
   "cell_type": "code",
   "execution_count": 115,
   "metadata": {},
   "outputs": [
    {
     "data": {
      "text/plain": [
       "[581.7234270978494,\n",
       " 581.7488043148988,\n",
       " 581.7995598560419,\n",
       " 581.8756959354173,\n",
       " 581.9772158743503,\n",
       " 582.104124101504,\n",
       " 582.2564261530662,\n",
       " 582.434128672995,\n",
       " 582.6372394133098,\n",
       " 582.8657672344234,\n",
       " 583.1197221055332,\n",
       " 583.3991151050589,\n",
       " 583.7039584211176,\n",
       " 584.0342653520628,\n",
       " 584.3900503070641,\n",
       " 584.7713288067281,\n",
       " 585.1781174837856,\n",
       " 585.6104340838115,\n",
       " 586.0682974660089]"
      ]
     },
     "execution_count": 115,
     "metadata": {},
     "output_type": "execute_result"
    }
   ],
   "source": [
    "length_p"
   ]
  },
  {
   "cell_type": "code",
   "execution_count": 116,
   "metadata": {},
   "outputs": [
    {
     "data": {
      "image/png": "[encoded data removed]",
      "text/plain": [
       "<Figure size 432x288 with 1 Axes>"
      ]
     },
     "metadata": {
      "needs_background": "light"
     },
     "output_type": "display_data"
    }
   ],
   "source": [
    "plt.plot(x0, z0)\n",
    "plt.show()"
   ]
  },
  {
   "cell_type": "code",
   "execution_count": 117,
   "metadata": {},
   "outputs": [],
   "source": [
    "rng = np.random.default_rng(seed=29)\n",
    "q0=np.zeros(12*node_N)"
   ]
  },
  {
   "cell_type": "code",
   "execution_count": 118,
   "metadata": {},
   "outputs": [],
   "source": [
    "V_rho=np.zeros(Irho_.shape)\n",
    "np.fill_diagonal(V_rho, vessel_inertia)"
   ]
  },
  {
   "cell_type": "code",
   "execution_count": 119,
   "metadata": {},
   "outputs": [
    {
     "data": {
      "text/plain": [
       "array([[6.0751987e+10, 0.0000000e+00, 0.0000000e+00],\n",
       "       [0.0000000e+00, 6.0751987e+10, 0.0000000e+00],\n",
       "       [0.0000000e+00, 0.0000000e+00, 6.0751987e+10]])"
      ]
     },
     "execution_count": 119,
     "metadata": {},
     "output_type": "execute_result"
    }
   ],
   "source": [
    "V_rho"
   ]
  },
  {
   "cell_type": "code",
   "execution_count": 120,
   "metadata": {},
   "outputs": [
    {
     "data": {
      "text/plain": [
       "array([[11343.54497195,     0.        ,   730.0505151 ],\n",
       "       [10761.82471698,     0.        ,   728.12942422],\n",
       "       [10180.104462  ,     0.        ,   722.36606778],\n",
       "       [ 9598.38420703,     0.        ,   712.76019434],\n",
       "       [ 9016.66395206,     0.        ,   699.31138488],\n",
       "       [ 8434.94369709,     0.        ,   682.01905269],\n",
       "       [ 7853.22344212,     0.        ,   660.88244341],\n",
       "       [ 7271.50318715,     0.        ,   635.90063499],\n",
       "       [ 6689.78293217,     0.        ,   607.0725376 ],\n",
       "       [ 6108.0626772 ,     0.        ,   574.39689366],\n",
       "       [ 5526.34242223,     0.        ,   537.87227772],\n",
       "       [ 4944.62216726,     0.        ,   497.49709644],\n",
       "       [ 4362.90191229,     0.        ,   453.26958847],\n",
       "       [ 3781.18165732,     0.        ,   405.18782444],\n",
       "       [ 3199.46140234,     0.        ,   353.24970683],\n",
       "       [ 2617.74114737,     0.        ,   297.45296988],\n",
       "       [ 2036.0208924 ,     0.        ,   237.79517953],\n",
       "       [ 1454.30063743,     0.        ,   174.27373325],\n",
       "       [  872.58038246,     0.        ,   106.88585998],\n",
       "       [  290.86012749,     0.        ,    35.62861999]])"
      ]
     },
     "execution_count": 120,
     "metadata": {},
     "output_type": "execute_result"
    }
   ],
   "source": [
    "Jv(x0,[0 for i in range(len(z0))],z0,len(z0))"
   ]
  },
  {
   "cell_type": "code",
   "execution_count": 121,
   "metadata": {},
   "outputs": [],
   "source": [
    "def Joma(J):\n",
    "    return (J/(J.max(axis=0)+1e-6))[::-1]"
   ]
  },
  {
   "cell_type": "code",
   "execution_count": 122,
   "metadata": {},
   "outputs": [],
   "source": [
    "def Joma_I(I):\n",
    "    ans=[]\n",
    "    for i in range(len(I)):\n",
    "#         print(I[-1].diagonal()[0]/I[i].diagonal()[0])\n",
    "        ans.append(I[-1].diagonal()/I[i].diagonal())\n",
    "    return np.array(ans)"
   ]
  },
  {
   "cell_type": "code",
   "execution_count": 123,
   "metadata": {},
   "outputs": [],
   "source": [
    "M_t=inert(vessel_mass*9.81,mp*9.81, x0)\n",
    "Irho=inert(V_rho,Irho_ , x0)"
   ]
  },
  {
   "cell_type": "code",
   "execution_count": 124,
   "metadata": {},
   "outputs": [],
   "source": [
    "I511=Joma_I(Irho)"
   ]
  },
  {
   "cell_type": "code",
   "execution_count": 125,
   "metadata": {},
   "outputs": [],
   "source": [
    "def Joma_M(I):\n",
    "    ans=[]\n",
    "    for i in range(len(I)):\n",
    "        ans.append(I[-1]/I[i])\n",
    "    return np.array(ans)"
   ]
  },
  {
   "cell_type": "code",
   "execution_count": 126,
   "metadata": {},
   "outputs": [
    {
     "data": {
      "text/plain": [
       "array([[0.99999997, 0.99999997, 0.99999994],\n",
       "       [0.99999997, 0.99999997, 0.99999994],\n",
       "       [0.99999997, 0.99999997, 0.99999994],\n",
       "       [0.99999997, 0.99999997, 0.99999995],\n",
       "       [0.99999998, 0.99999998, 0.99999995],\n",
       "       [0.99999998, 0.99999998, 0.99999995],\n",
       "       [0.99999998, 0.99999998, 0.99999996],\n",
       "       [0.99999998, 0.99999998, 0.99999996],\n",
       "       [0.99999998, 0.99999998, 0.99999996],\n",
       "       [0.99999998, 0.99999998, 0.99999997],\n",
       "       [0.99999999, 0.99999999, 0.99999997],\n",
       "       [0.99999999, 0.99999999, 0.99999997],\n",
       "       [0.99999999, 0.99999999, 0.99999998],\n",
       "       [0.99999999, 0.99999999, 0.99999998],\n",
       "       [0.99999999, 0.99999999, 0.99999998],\n",
       "       [0.99999999, 0.99999999, 0.99999999],\n",
       "       [1.        , 1.        , 0.99999999],\n",
       "       [1.        , 1.        , 0.99999999],\n",
       "       [1.        , 1.        , 1.        ],\n",
       "       [1.        , 1.        , 1.        ]])"
      ]
     },
     "execution_count": 126,
     "metadata": {},
     "output_type": "execute_result"
    }
   ],
   "source": [
    "I511"
   ]
  },
  {
   "cell_type": "code",
   "execution_count": 127,
   "metadata": {},
   "outputs": [],
   "source": [
    "M511=Joma_M(M_t)"
   ]
  },
  {
   "cell_type": "code",
   "execution_count": 128,
   "metadata": {},
   "outputs": [],
   "source": [
    "# def mass(M, m, X,Y,Z):\n",
    "  \n",
    "#     M1=Jv(X,Y,Z,len(X))**2*M\n",
    "# #     print(M1.shape)\n",
    "# #     print((Jv(X,Y,Z,len(X))**2).shape)\n",
    "#     M2=Jv(X,Y,Z,len(X))**2*m\n",
    "    \n",
    "#     return np.sum(M1+M2,axis=1)"
   ]
  },
  {
   "cell_type": "code",
   "execution_count": 129,
   "metadata": {},
   "outputs": [],
   "source": [
    "# inert(vessel_mass*9.81,mp*9.81, x0).shape"
   ]
  },
  {
   "cell_type": "code",
   "execution_count": 130,
   "metadata": {},
   "outputs": [],
   "source": [
    "init=1\n",
    "for j in range(1,12):\n",
    "    if j==1:  \n",
    "        q0[(j-1)*node_N:j*node_N]=x0\n",
    "    elif j==5:    \n",
    "        q0[(j-1)*node_N:j*node_N]=z0\n",
    "#     elif j==7:    \n",
    "#         q0[(j-1)*node_N:j*node_N]=np.array([-0.00010522890316932987*(i+1)/node_N*init for i in range(node_N)])\n",
    "# #         q0[(j-1)*node_N]=0\n",
    "#     elif j==9:    \n",
    "#         q0[(j-1)*node_N:j*node_N]=np.array([6.952842745988619e-09*(i+1)/node_N*init for i in range(node_N)])\n",
    "# #         q0[(j-1)*node_N]=0\n",
    "#     elif j==11:   \n",
    "#         q0[(j-1)*node_N:j*node_N]=np.array([0.00010649100253301569*(i+1)/node_N*init for i in range(node_N)])\n",
    "#     elif j==7:    \n",
    "#         q0[(j-1)*node_N:j*node_N]=np.array([-0.00010522890316932987 for i in range(node_N)])\n",
    "# #         q0[(j-1)*node_N]=0\n",
    "#     elif j==9:    \n",
    "#         q0[(j-1)*node_N:j*node_N]=np.array([6.952842745988619e-09 for i in range(node_N)])\n",
    "# #         q0[(j-1)*node_N]=0\n",
    "#     elif j==11:   \n",
    "#         q0[(j-1)*node_N:j*node_N]=np.array([0.00010649100253301569 for i in range(node_N)])\n",
    "#        q0[(j-1)*node_N]=0 \n",
    "q0[7*node_N-1]= -0.00010522890316932987 # here\n",
    "q0[9*node_N-1]= 6.952842745988619e-09\n",
    "q0[11*node_N-1]=0.00010649100253301569 # here"
   ]
  },
  {
   "cell_type": "code",
   "execution_count": 131,
   "metadata": {},
   "outputs": [
    {
     "data": {
      "text/plain": [
       "(20, 3)"
      ]
     },
     "execution_count": 131,
     "metadata": {},
     "output_type": "execute_result"
    }
   ],
   "source": [
    "I511.shape"
   ]
  },
  {
   "cell_type": "code",
   "execution_count": 132,
   "metadata": {},
   "outputs": [
    {
     "data": {
      "text/plain": [
       "(20,)"
      ]
     },
     "execution_count": 132,
     "metadata": {},
     "output_type": "execute_result"
    }
   ],
   "source": [
    "M511.shape"
   ]
  },
  {
   "cell_type": "code",
   "execution_count": 133,
   "metadata": {},
   "outputs": [
    {
     "data": {
      "text/plain": [
       "(20, 3)"
      ]
     },
     "execution_count": 133,
     "metadata": {},
     "output_type": "execute_result"
    }
   ],
   "source": [
    "Joma(Jv(x,y,z,len(z))).shape"
   ]
  },
  {
   "cell_type": "code",
   "execution_count": 134,
   "metadata": {},
   "outputs": [],
   "source": [
    "def static_func(Q): # here\n",
    "    t=0\n",
    " \n",
    "    x,y,z=Q[0:node_N],Q[2*node_N:3*node_N],Q[4*node_N:5*node_N]\n",
    "    dx,dy,dz=Q[1*node_N:2*node_N],Q[3*node_N:4*node_N],Q[5*node_N:6*node_N]\n",
    "    φ,θ,ψ=Q[6*node_N:7*node_N],Q[8*node_N:9*node_N],Q[10*node_N:11*node_N]\n",
    "    Ret = Re_t(φ,θ,ψ)\n",
    "\n",
    "    \n",
    "    dφ,dθ,dψ=Q[7*node_N:8*node_N],Q[9*node_N:10*node_N],Q[11*node_N:12*node_N]\n",
    "    \n",
    "    η=[x[-1],y[-1],z[-1],φ[-1],θ[-1],ψ[-1]]\n",
    "    \n",
    "    tau_force=np.array([-Fx_0,0,0,0,0,0])\n",
    "#     Z0=-np.dot(Re_b(Ret),tau_force[:3])\n",
    "    \n",
    "    Z0= - np.einsum('ijk,i->ij', Re_b(Ret), np.dot(I511, tau_force[:3].reshape(3,1)).squeeze())\n",
    "    Z1 = d_s(ne, x, y, z, Ret,  ωe(φ,θ,ψ,None,None,None)).T\n",
    "#     test=np.einsum('ijk,ik->ij',Π(φ,θ,ψ).astype(np.float64),np.array([dφ,dθ,dψ]).astype(np.float64).T)\n",
    "\n",
    "#     Z1 = d_s(ne, x, y, z, Ret, test).T\n",
    "    DT_0=np.zeros((3,3))\n",
    "    Z2=ne_(dx,dy,dz,DT_0,Ret).T\n",
    "    \n",
    "    \n",
    "    Z =  Z1 + Z2 + Z0\n",
    "    \n",
    "    \n",
    "#     print(M_t)\n",
    "    \n",
    "############################################################ \n",
    "#     print(Re_b(Ret).shape,M_t.shape)\n",
    "#     ddx,ddy, ddz = np.linalg.solve(np.einsum('ijk,ik->ij',Re_b(Ret),M_t),Z).T\n",
    "    ddx,ddy, ddz = np.linalg.solve(np.einsum('i,ijk->ijk',M_t,Re_b(Ret)),Z).T\n",
    "    ddx,ddy, ddz = np.einsum('ijk,ik->ij',Ret, np.stack([ddx, ddy,ddz], axis=0).T).T\n",
    "\n",
    "############################################################ \n",
    "\n",
    "#     sum_0123=0\n",
    "#     lll=[]\n",
    "#     for i in range(1,len(z0)):\n",
    "#         sum_0123=math.sqrt((x[i]-x[i-1])**2+(y[i]-y[i-1])**2+(z[i]-z[i-1])**2)\n",
    "#         lll.append(sum_0123)\n",
    "        \n",
    "#     cum_d_inv=[0]\n",
    "#     sum_=0\n",
    "#     for i in range(len(lll)-1,-1,-1):\n",
    "#         sum_+=lll[i]\n",
    "#         cum_d_inv.append(sum_)\n",
    "#     cum_d_inv=cum_d_inv[::-1] \n",
    "     \n",
    "    \n",
    "#     Irho=inert(mn, vessel_inertia, Irho_, cum_d_inv, Ws)\n",
    "    \n",
    "    \n",
    "    \n",
    "    C0=-np.einsum('ijk,i->ij', np.einsum('ijk,ikr->ijr',np.linalg.inv(Π(φ,θ,ψ).astype(np.float64)),\n",
    "                        Re_b(Ret)), np.dot(I511,tau_force[:3].reshape(3,1)).squeeze()) \n",
    "    \n",
    "    C3=d_me(φ,θ,ψ,Ret,  ωe(φ,θ,ψ,None,None,None))\n",
    "  \n",
    "    B_ =C3\n",
    "    B=(B_ + C0.squeeze())\n",
    "\n",
    "    A2 = Irho_e(Ret,Irho).astype(np.float64)\n",
    "    A3=Π(φ,θ,ψ).astype(np.float64)\n",
    "    A=np.einsum('ijk,ikr->ijr',A2,A3)\n",
    "\n",
    "\n",
    "#############################################\n",
    "#     ddφ,ddθ,ddψ = np.linalg.solve(A,B).T\n",
    "    ans_φ=[]\n",
    "    ans_θ=[]\n",
    "    ans_ψ=[]\n",
    "    for i in range(len(A)):\n",
    "        a,b,c=np.linalg.lstsq(A[i],B[i], rcond=None)[0]\n",
    "        ans_φ.append(a)\n",
    "        ans_θ.append(b)\n",
    "        ans_ψ.append(c)\n",
    "    \n",
    "    ddφ,ddθ,ddψ=np.array(ans_φ),np.array(ans_θ),np.array(ans_ψ)\n",
    "#############################################\n",
    "\n",
    "    ans=np.concatenate([dx, ddx, dy, ddy, dz, ddz, dφ, ddφ, dθ, ddθ, dψ, ddψ], axis=0)\n",
    "  \n",
    " \n",
    "    return ans  "
   ]
  },
  {
   "cell_type": "code",
   "execution_count": 135,
   "metadata": {},
   "outputs": [
    {
     "data": {
      "text/plain": [
       "array([ 0.00000000e+00,  5.81720255e+02,  1.16344051e+03,  1.74516076e+03,\n",
       "        2.32688102e+03,  2.90860127e+03,  3.49032153e+03,  4.07204178e+03,\n",
       "        4.65376204e+03,  5.23548229e+03,  5.81720255e+03,  6.39892280e+03,\n",
       "        6.98064306e+03,  7.56236331e+03,  8.14408357e+03,  8.72580382e+03,\n",
       "        9.30752408e+03,  9.88924433e+03,  1.04709646e+04,  1.10526848e+04,\n",
       "        0.00000000e+00,  0.00000000e+00,  0.00000000e+00,  0.00000000e+00,\n",
       "        0.00000000e+00,  0.00000000e+00,  0.00000000e+00,  0.00000000e+00,\n",
       "        0.00000000e+00,  0.00000000e+00,  0.00000000e+00,  0.00000000e+00,\n",
       "        0.00000000e+00,  0.00000000e+00,  0.00000000e+00,  0.00000000e+00,\n",
       "        0.00000000e+00,  0.00000000e+00,  0.00000000e+00,  0.00000000e+00,\n",
       "        0.00000000e+00,  0.00000000e+00,  0.00000000e+00,  0.00000000e+00,\n",
       "        0.00000000e+00,  0.00000000e+00,  0.00000000e+00,  0.00000000e+00,\n",
       "        0.00000000e+00,  0.00000000e+00,  0.00000000e+00,  0.00000000e+00,\n",
       "        0.00000000e+00,  0.00000000e+00,  0.00000000e+00,  0.00000000e+00,\n",
       "        0.00000000e+00,  0.00000000e+00,  0.00000000e+00,  0.00000000e+00,\n",
       "        0.00000000e+00,  0.00000000e+00,  0.00000000e+00,  0.00000000e+00,\n",
       "        0.00000000e+00,  0.00000000e+00,  0.00000000e+00,  0.00000000e+00,\n",
       "        0.00000000e+00,  0.00000000e+00,  0.00000000e+00,  0.00000000e+00,\n",
       "        0.00000000e+00,  0.00000000e+00,  0.00000000e+00,  0.00000000e+00,\n",
       "        0.00000000e+00,  0.00000000e+00,  0.00000000e+00,  0.00000000e+00,\n",
       "        0.00000000e+00,  1.92109088e+00,  7.68444733e+00,  1.72903208e+01,\n",
       "        3.07391302e+01,  4.80314624e+01,  6.91680717e+01,  9.41498801e+01,\n",
       "        1.22977977e+02,  1.55653621e+02,  1.92178237e+02,  2.32553419e+02,\n",
       "        2.76780927e+02,  3.24862691e+02,  3.76800808e+02,  4.32597545e+02,\n",
       "        4.92255336e+02,  5.55776782e+02,  6.23164655e+02,  6.94421895e+02,\n",
       "        0.00000000e+00,  0.00000000e+00,  0.00000000e+00,  0.00000000e+00,\n",
       "        0.00000000e+00,  0.00000000e+00,  0.00000000e+00,  0.00000000e+00,\n",
       "        0.00000000e+00,  0.00000000e+00,  0.00000000e+00,  0.00000000e+00,\n",
       "        0.00000000e+00,  0.00000000e+00,  0.00000000e+00,  0.00000000e+00,\n",
       "        0.00000000e+00,  0.00000000e+00,  0.00000000e+00,  0.00000000e+00,\n",
       "        0.00000000e+00,  0.00000000e+00,  0.00000000e+00,  0.00000000e+00,\n",
       "        0.00000000e+00,  0.00000000e+00,  0.00000000e+00,  0.00000000e+00,\n",
       "        0.00000000e+00,  0.00000000e+00,  0.00000000e+00,  0.00000000e+00,\n",
       "        0.00000000e+00,  0.00000000e+00,  0.00000000e+00,  0.00000000e+00,\n",
       "        0.00000000e+00,  0.00000000e+00,  0.00000000e+00, -1.05228903e-04,\n",
       "        0.00000000e+00,  0.00000000e+00,  0.00000000e+00,  0.00000000e+00,\n",
       "        0.00000000e+00,  0.00000000e+00,  0.00000000e+00,  0.00000000e+00,\n",
       "        0.00000000e+00,  0.00000000e+00,  0.00000000e+00,  0.00000000e+00,\n",
       "        0.00000000e+00,  0.00000000e+00,  0.00000000e+00,  0.00000000e+00,\n",
       "        0.00000000e+00,  0.00000000e+00,  0.00000000e+00,  0.00000000e+00,\n",
       "        0.00000000e+00,  0.00000000e+00,  0.00000000e+00,  0.00000000e+00,\n",
       "        0.00000000e+00,  0.00000000e+00,  0.00000000e+00,  0.00000000e+00,\n",
       "        0.00000000e+00,  0.00000000e+00,  0.00000000e+00,  0.00000000e+00,\n",
       "        0.00000000e+00,  0.00000000e+00,  0.00000000e+00,  0.00000000e+00,\n",
       "        0.00000000e+00,  0.00000000e+00,  0.00000000e+00,  6.95284275e-09,\n",
       "        0.00000000e+00,  0.00000000e+00,  0.00000000e+00,  0.00000000e+00,\n",
       "        0.00000000e+00,  0.00000000e+00,  0.00000000e+00,  0.00000000e+00,\n",
       "        0.00000000e+00,  0.00000000e+00,  0.00000000e+00,  0.00000000e+00,\n",
       "        0.00000000e+00,  0.00000000e+00,  0.00000000e+00,  0.00000000e+00,\n",
       "        0.00000000e+00,  0.00000000e+00,  0.00000000e+00,  0.00000000e+00,\n",
       "        0.00000000e+00,  0.00000000e+00,  0.00000000e+00,  0.00000000e+00,\n",
       "        0.00000000e+00,  0.00000000e+00,  0.00000000e+00,  0.00000000e+00,\n",
       "        0.00000000e+00,  0.00000000e+00,  0.00000000e+00,  0.00000000e+00,\n",
       "        0.00000000e+00,  0.00000000e+00,  0.00000000e+00,  0.00000000e+00,\n",
       "        0.00000000e+00,  0.00000000e+00,  0.00000000e+00,  1.06491003e-04,\n",
       "        0.00000000e+00,  0.00000000e+00,  0.00000000e+00,  0.00000000e+00,\n",
       "        0.00000000e+00,  0.00000000e+00,  0.00000000e+00,  0.00000000e+00,\n",
       "        0.00000000e+00,  0.00000000e+00,  0.00000000e+00,  0.00000000e+00,\n",
       "        0.00000000e+00,  0.00000000e+00,  0.00000000e+00,  0.00000000e+00,\n",
       "        0.00000000e+00,  0.00000000e+00,  0.00000000e+00,  0.00000000e+00])"
      ]
     },
     "execution_count": 135,
     "metadata": {},
     "output_type": "execute_result"
    }
   ],
   "source": [
    "q0"
   ]
  },
  {
   "cell_type": "code",
   "execution_count": 136,
   "metadata": {},
   "outputs": [
    {
     "name": "stderr",
     "output_type": "stream",
     "text": [
      "/Library/Frameworks/Python.framework/Versions/3.7/lib/python3.7/site-packages/scipy/optimize/minpack.py:175: RuntimeWarning: The iteration is not making good progress, as measured by the \n",
      "  improvement from the last ten iterations.\n",
      "  warnings.warn(msg, RuntimeWarning)\n"
     ]
    }
   ],
   "source": [
    "root = fsolve(static_func, q0)"
   ]
  },
  {
   "cell_type": "code",
   "execution_count": null,
   "metadata": {},
   "outputs": [],
   "source": []
  },
  {
   "cell_type": "code",
   "execution_count": 137,
   "metadata": {},
   "outputs": [
    {
     "data": {
      "text/plain": [
       "array([ 0.00000000e+00,  5.81720255e+02,  1.16344051e+03,  1.74516076e+03,\n",
       "        2.32688102e+03,  2.90860127e+03,  3.49032153e+03,  4.07204178e+03,\n",
       "        4.65376204e+03,  5.23548229e+03,  5.81720255e+03,  6.39892280e+03,\n",
       "        6.98064306e+03,  7.56236331e+03,  8.14408357e+03,  8.72580382e+03,\n",
       "        9.30752408e+03,  9.88924433e+03,  1.04709646e+04,  1.10526848e+04,\n",
       "        0.00000000e+00,  0.00000000e+00,  0.00000000e+00,  0.00000000e+00,\n",
       "        0.00000000e+00,  0.00000000e+00,  0.00000000e+00,  0.00000000e+00,\n",
       "        0.00000000e+00,  0.00000000e+00,  0.00000000e+00,  0.00000000e+00,\n",
       "        0.00000000e+00,  0.00000000e+00,  0.00000000e+00,  0.00000000e+00,\n",
       "        0.00000000e+00,  0.00000000e+00,  0.00000000e+00,  0.00000000e+00,\n",
       "        0.00000000e+00,  0.00000000e+00,  0.00000000e+00,  0.00000000e+00,\n",
       "        0.00000000e+00,  0.00000000e+00,  0.00000000e+00,  0.00000000e+00,\n",
       "        0.00000000e+00,  0.00000000e+00,  0.00000000e+00,  0.00000000e+00,\n",
       "        0.00000000e+00,  0.00000000e+00,  0.00000000e+00,  0.00000000e+00,\n",
       "        0.00000000e+00,  0.00000000e+00,  0.00000000e+00,  0.00000000e+00,\n",
       "        0.00000000e+00,  0.00000000e+00,  0.00000000e+00,  0.00000000e+00,\n",
       "        0.00000000e+00,  0.00000000e+00,  0.00000000e+00,  0.00000000e+00,\n",
       "        0.00000000e+00,  0.00000000e+00,  0.00000000e+00,  0.00000000e+00,\n",
       "        0.00000000e+00,  0.00000000e+00,  0.00000000e+00,  0.00000000e+00,\n",
       "        0.00000000e+00,  0.00000000e+00,  0.00000000e+00,  0.00000000e+00,\n",
       "        0.00000000e+00,  1.92109088e+00,  7.68444733e+00,  1.72903208e+01,\n",
       "        3.07391302e+01,  4.80314624e+01,  6.91680717e+01,  9.41498801e+01,\n",
       "        1.22977977e+02,  1.55653621e+02,  1.92178237e+02,  2.32553419e+02,\n",
       "        2.76780927e+02,  3.24862691e+02,  3.76800808e+02,  4.32597545e+02,\n",
       "        4.92255336e+02,  5.55776782e+02,  6.23164655e+02,  6.94421895e+02,\n",
       "        0.00000000e+00,  0.00000000e+00,  0.00000000e+00,  0.00000000e+00,\n",
       "        0.00000000e+00,  0.00000000e+00,  0.00000000e+00,  0.00000000e+00,\n",
       "        0.00000000e+00,  0.00000000e+00,  0.00000000e+00,  0.00000000e+00,\n",
       "        0.00000000e+00,  0.00000000e+00,  0.00000000e+00,  0.00000000e+00,\n",
       "        0.00000000e+00,  0.00000000e+00,  0.00000000e+00,  0.00000000e+00,\n",
       "        0.00000000e+00,  0.00000000e+00,  0.00000000e+00,  0.00000000e+00,\n",
       "        0.00000000e+00,  0.00000000e+00,  0.00000000e+00,  0.00000000e+00,\n",
       "        0.00000000e+00,  0.00000000e+00,  0.00000000e+00,  0.00000000e+00,\n",
       "        0.00000000e+00,  0.00000000e+00,  0.00000000e+00,  0.00000000e+00,\n",
       "        0.00000000e+00,  0.00000000e+00,  0.00000000e+00, -1.05228903e-04,\n",
       "        0.00000000e+00,  0.00000000e+00,  0.00000000e+00,  0.00000000e+00,\n",
       "        0.00000000e+00,  0.00000000e+00,  0.00000000e+00,  0.00000000e+00,\n",
       "        0.00000000e+00,  0.00000000e+00,  0.00000000e+00,  0.00000000e+00,\n",
       "        0.00000000e+00,  0.00000000e+00,  0.00000000e+00,  0.00000000e+00,\n",
       "        0.00000000e+00,  0.00000000e+00,  0.00000000e+00,  0.00000000e+00,\n",
       "        0.00000000e+00,  0.00000000e+00,  0.00000000e+00,  0.00000000e+00,\n",
       "        0.00000000e+00,  0.00000000e+00,  0.00000000e+00,  0.00000000e+00,\n",
       "        0.00000000e+00,  0.00000000e+00,  0.00000000e+00,  0.00000000e+00,\n",
       "        0.00000000e+00,  0.00000000e+00,  0.00000000e+00,  0.00000000e+00,\n",
       "        0.00000000e+00,  0.00000000e+00,  0.00000000e+00,  6.95284275e-09,\n",
       "        0.00000000e+00,  0.00000000e+00,  0.00000000e+00,  0.00000000e+00,\n",
       "        0.00000000e+00,  0.00000000e+00,  0.00000000e+00,  0.00000000e+00,\n",
       "        0.00000000e+00,  0.00000000e+00,  0.00000000e+00,  0.00000000e+00,\n",
       "        0.00000000e+00,  0.00000000e+00,  0.00000000e+00,  0.00000000e+00,\n",
       "        0.00000000e+00,  0.00000000e+00,  0.00000000e+00,  0.00000000e+00,\n",
       "        0.00000000e+00,  0.00000000e+00,  0.00000000e+00,  0.00000000e+00,\n",
       "        0.00000000e+00,  0.00000000e+00,  0.00000000e+00,  0.00000000e+00,\n",
       "        0.00000000e+00,  0.00000000e+00,  0.00000000e+00,  0.00000000e+00,\n",
       "        0.00000000e+00,  0.00000000e+00,  0.00000000e+00,  0.00000000e+00,\n",
       "        0.00000000e+00,  0.00000000e+00,  0.00000000e+00,  1.06491003e-04,\n",
       "        0.00000000e+00,  0.00000000e+00,  0.00000000e+00,  0.00000000e+00,\n",
       "        0.00000000e+00,  0.00000000e+00,  0.00000000e+00,  0.00000000e+00,\n",
       "        0.00000000e+00,  0.00000000e+00,  0.00000000e+00,  0.00000000e+00,\n",
       "        0.00000000e+00,  0.00000000e+00,  0.00000000e+00,  0.00000000e+00,\n",
       "        0.00000000e+00,  0.00000000e+00,  0.00000000e+00,  0.00000000e+00])"
      ]
     },
     "execution_count": 137,
     "metadata": {},
     "output_type": "execute_result"
    }
   ],
   "source": [
    "root"
   ]
  },
  {
   "cell_type": "code",
   "execution_count": 138,
   "metadata": {},
   "outputs": [],
   "source": [
    "x0_,z0_=root[:node_N],root[4*node_N:5*node_N]"
   ]
  },
  {
   "cell_type": "code",
   "execution_count": 139,
   "metadata": {},
   "outputs": [],
   "source": [
    "q0=root"
   ]
  },
  {
   "cell_type": "code",
   "execution_count": 140,
   "metadata": {},
   "outputs": [
    {
     "data": {
      "text/plain": [
       "array([ 0.00000000e+00,  5.81720255e+02,  1.16344051e+03,  1.74516076e+03,\n",
       "        2.32688102e+03,  2.90860127e+03,  3.49032153e+03,  4.07204178e+03,\n",
       "        4.65376204e+03,  5.23548229e+03,  5.81720255e+03,  6.39892280e+03,\n",
       "        6.98064306e+03,  7.56236331e+03,  8.14408357e+03,  8.72580382e+03,\n",
       "        9.30752408e+03,  9.88924433e+03,  1.04709646e+04,  1.10526848e+04,\n",
       "        0.00000000e+00,  0.00000000e+00,  0.00000000e+00,  0.00000000e+00,\n",
       "        0.00000000e+00,  0.00000000e+00,  0.00000000e+00,  0.00000000e+00,\n",
       "        0.00000000e+00,  0.00000000e+00,  0.00000000e+00,  0.00000000e+00,\n",
       "        0.00000000e+00,  0.00000000e+00,  0.00000000e+00,  0.00000000e+00,\n",
       "        0.00000000e+00,  0.00000000e+00,  0.00000000e+00,  0.00000000e+00,\n",
       "        0.00000000e+00,  0.00000000e+00,  0.00000000e+00,  0.00000000e+00,\n",
       "        0.00000000e+00,  0.00000000e+00,  0.00000000e+00,  0.00000000e+00,\n",
       "        0.00000000e+00,  0.00000000e+00,  0.00000000e+00,  0.00000000e+00,\n",
       "        0.00000000e+00,  0.00000000e+00,  0.00000000e+00,  0.00000000e+00,\n",
       "        0.00000000e+00,  0.00000000e+00,  0.00000000e+00,  0.00000000e+00,\n",
       "        0.00000000e+00,  0.00000000e+00,  0.00000000e+00,  0.00000000e+00,\n",
       "        0.00000000e+00,  0.00000000e+00,  0.00000000e+00,  0.00000000e+00,\n",
       "        0.00000000e+00,  0.00000000e+00,  0.00000000e+00,  0.00000000e+00,\n",
       "        0.00000000e+00,  0.00000000e+00,  0.00000000e+00,  0.00000000e+00,\n",
       "        0.00000000e+00,  0.00000000e+00,  0.00000000e+00,  0.00000000e+00,\n",
       "        0.00000000e+00,  1.92109088e+00,  7.68444733e+00,  1.72903208e+01,\n",
       "        3.07391302e+01,  4.80314624e+01,  6.91680717e+01,  9.41498801e+01,\n",
       "        1.22977977e+02,  1.55653621e+02,  1.92178237e+02,  2.32553419e+02,\n",
       "        2.76780927e+02,  3.24862691e+02,  3.76800808e+02,  4.32597545e+02,\n",
       "        4.92255336e+02,  5.55776782e+02,  6.23164655e+02,  6.94421895e+02,\n",
       "        0.00000000e+00,  0.00000000e+00,  0.00000000e+00,  0.00000000e+00,\n",
       "        0.00000000e+00,  0.00000000e+00,  0.00000000e+00,  0.00000000e+00,\n",
       "        0.00000000e+00,  0.00000000e+00,  0.00000000e+00,  0.00000000e+00,\n",
       "        0.00000000e+00,  0.00000000e+00,  0.00000000e+00,  0.00000000e+00,\n",
       "        0.00000000e+00,  0.00000000e+00,  0.00000000e+00,  0.00000000e+00,\n",
       "        0.00000000e+00,  0.00000000e+00,  0.00000000e+00,  0.00000000e+00,\n",
       "        0.00000000e+00,  0.00000000e+00,  0.00000000e+00,  0.00000000e+00,\n",
       "        0.00000000e+00,  0.00000000e+00,  0.00000000e+00,  0.00000000e+00,\n",
       "        0.00000000e+00,  0.00000000e+00,  0.00000000e+00,  0.00000000e+00,\n",
       "        0.00000000e+00,  0.00000000e+00,  0.00000000e+00, -1.05228903e-04,\n",
       "        0.00000000e+00,  0.00000000e+00,  0.00000000e+00,  0.00000000e+00,\n",
       "        0.00000000e+00,  0.00000000e+00,  0.00000000e+00,  0.00000000e+00,\n",
       "        0.00000000e+00,  0.00000000e+00,  0.00000000e+00,  0.00000000e+00,\n",
       "        0.00000000e+00,  0.00000000e+00,  0.00000000e+00,  0.00000000e+00,\n",
       "        0.00000000e+00,  0.00000000e+00,  0.00000000e+00,  0.00000000e+00,\n",
       "        0.00000000e+00,  0.00000000e+00,  0.00000000e+00,  0.00000000e+00,\n",
       "        0.00000000e+00,  0.00000000e+00,  0.00000000e+00,  0.00000000e+00,\n",
       "        0.00000000e+00,  0.00000000e+00,  0.00000000e+00,  0.00000000e+00,\n",
       "        0.00000000e+00,  0.00000000e+00,  0.00000000e+00,  0.00000000e+00,\n",
       "        0.00000000e+00,  0.00000000e+00,  0.00000000e+00,  6.95284275e-09,\n",
       "        0.00000000e+00,  0.00000000e+00,  0.00000000e+00,  0.00000000e+00,\n",
       "        0.00000000e+00,  0.00000000e+00,  0.00000000e+00,  0.00000000e+00,\n",
       "        0.00000000e+00,  0.00000000e+00,  0.00000000e+00,  0.00000000e+00,\n",
       "        0.00000000e+00,  0.00000000e+00,  0.00000000e+00,  0.00000000e+00,\n",
       "        0.00000000e+00,  0.00000000e+00,  0.00000000e+00,  0.00000000e+00,\n",
       "        0.00000000e+00,  0.00000000e+00,  0.00000000e+00,  0.00000000e+00,\n",
       "        0.00000000e+00,  0.00000000e+00,  0.00000000e+00,  0.00000000e+00,\n",
       "        0.00000000e+00,  0.00000000e+00,  0.00000000e+00,  0.00000000e+00,\n",
       "        0.00000000e+00,  0.00000000e+00,  0.00000000e+00,  0.00000000e+00,\n",
       "        0.00000000e+00,  0.00000000e+00,  0.00000000e+00,  1.06491003e-04,\n",
       "        0.00000000e+00,  0.00000000e+00,  0.00000000e+00,  0.00000000e+00,\n",
       "        0.00000000e+00,  0.00000000e+00,  0.00000000e+00,  0.00000000e+00,\n",
       "        0.00000000e+00,  0.00000000e+00,  0.00000000e+00,  0.00000000e+00,\n",
       "        0.00000000e+00,  0.00000000e+00,  0.00000000e+00,  0.00000000e+00,\n",
       "        0.00000000e+00,  0.00000000e+00,  0.00000000e+00,  0.00000000e+00])"
      ]
     },
     "execution_count": 140,
     "metadata": {},
     "output_type": "execute_result"
    }
   ],
   "source": [
    "q0"
   ]
  },
  {
   "cell_type": "code",
   "execution_count": 141,
   "metadata": {},
   "outputs": [],
   "source": [
    "# x0_"
   ]
  },
  {
   "cell_type": "code",
   "execution_count": 142,
   "metadata": {},
   "outputs": [],
   "source": [
    "# z0"
   ]
  },
  {
   "cell_type": "code",
   "execution_count": 143,
   "metadata": {},
   "outputs": [],
   "source": [
    "# z0_"
   ]
  },
  {
   "cell_type": "code",
   "execution_count": 144,
   "metadata": {},
   "outputs": [
    {
     "data": {
      "image/png": "[encoded data removed]",
      "text/plain": [
       "<Figure size 432x288 with 1 Axes>"
      ]
     },
     "metadata": {
      "needs_background": "light"
     },
     "output_type": "display_data"
    }
   ],
   "source": [
    "plt.plot(x0_, z0_)\n",
    "plt.show()"
   ]
  },
  {
   "cell_type": "code",
   "execution_count": null,
   "metadata": {},
   "outputs": [],
   "source": []
  },
  {
   "cell_type": "markdown",
   "metadata": {},
   "source": [
    "### Finite Element Model of the Space Frame Element"
   ]
  },
  {
   "cell_type": "code",
   "execution_count": 145,
   "metadata": {},
   "outputs": [],
   "source": [
    "def PlaneTrussElementLength(x1,y1,z1,x2,y2,z2):\n",
    "    return math.sqrt((x2-x1)*(x2-x1) + (y2-y1)*(y2-y1)+(z2-z1)*(z2-z1))"
   ]
  },
  {
   "cell_type": "code",
   "execution_count": 146,
   "metadata": {},
   "outputs": [],
   "source": [
    "def SpaceFrameElementStiffness(E,G,A,Iy,Iz,J,x1,y1,z1,x2,y2,z2):\n",
    "    L = PlaneTrussElementLength(x1,y1,z1,x2,y2,z2)\n",
    "    w1 = E*A/L\n",
    "    w2 = 12*E*Iz/(L*L*L)\n",
    "    w3 = 6*E*Iz/(L*L)\n",
    "    w4 = 4*E*Iz/L\n",
    "    w5 = 2*E*Iz/L\n",
    "    w6 = 12*E*Iy/(L*L*L)\n",
    "    w7 = 6*E*Iy/(L*L)\n",
    "    w8 = 4*E*Iy/L\n",
    "    w9 = 2*E*Iy/L\n",
    "    w10 = G*J/L\n",
    "    \n",
    "    kprime = np.array([[w1, 0, 0, 0, 0, 0, -w1, 0, 0, 0, 0, 0],\n",
    "                        [0, w2, 0, 0, 0, w3, 0, -w2, 0, 0, 0, w3], \n",
    "                        [0, 0, w6, 0, -w7, 0, 0, 0, -w6, 0, -w7, 0],\n",
    "                        [0, 0, 0, w10, 0, 0, 0, 0, 0, -w10, 0, 0],\n",
    "                        [0, 0, -w7, 0, w8, 0, 0, 0, w7, 0, w9, 0],\n",
    "                        [0, w3, 0, 0, 0, w4, 0, -w3, 0, 0, 0, w5],\n",
    "                        [-w1, 0, 0, 0, 0, 0, w1, 0, 0, 0, 0, 0],\n",
    "                        [0, -w2, 0, 0, 0, -w3, 0, w2, 0, 0, 0, -w3],\n",
    "                        [0, 0, -w6, 0, w7, 0, 0, 0, w6, 0, w7, 0],\n",
    "                        [0, 0, 0, -w10, 0, 0, 0, 0, 0, w10, 0, 0],\n",
    "                        [0, 0, -w7, 0, w9, 0, 0, 0, w7, 0, w8, 0],\n",
    "                        [0, w3, 0, 0, 0, w5, 0, -w3, 0, 0, 0, w4]])  \n",
    "    \n",
    "    \n",
    "    if x1 == x2 and y1 == y2:\n",
    "        if z2 > z1:\n",
    "            Lambda = np.array([[0, 0, 1], [0, 1, 0], [-1, 0, 0]])\n",
    "        else:\n",
    "            Lambda = np.array([[0, 0, -1], [0, 1, 0], [1, 0, 0]])\n",
    "    else:\n",
    "        CXx = (x2-x1)/L\n",
    "        CYx = (y2-y1)/L\n",
    "        CZx = (z2-z1)/L\n",
    "        D = math.sqrt(CXx*CXx + CYx*CYx)\n",
    "        CXy = -CYx/D\n",
    "        CYy = CXx/D\n",
    "        CZy = 0\n",
    "        CXz = -CXx*CZx/D\n",
    "        CYz = -CYx*CZx/D\n",
    "        CZz = D\n",
    "        Lambda = np.array([[CXx, CYx, CZx], [CXy, CYy, CZy], [CXz, CYz, CZz]])\n",
    "        \n",
    "        \n",
    "    R = np.array([np.concatenate((np.concatenate((Lambda,np.zeros((3,3)),np.zeros((3,3)),np.zeros((3,3))),axis=1),\n",
    "        np.concatenate((np.zeros((3,3)), Lambda, np.zeros((3,3)), np.zeros((3,3))),axis=1) ,\n",
    "        np.concatenate((np.zeros((3,3)), np.zeros((3,3)), Lambda, np.zeros((3,3))),axis=1), \n",
    "        np.concatenate((np.zeros((3,3)), np.zeros((3,3)), np.zeros((3,3)), Lambda),axis=1)))])[0]\n",
    "    return np.dot(np.dot(R.T,kprime),R)           "
   ]
  },
  {
   "cell_type": "code",
   "execution_count": 147,
   "metadata": {},
   "outputs": [],
   "source": [
    "def SpaceFrameAssemble(K,k,i,j):\n",
    "    K[6*i,6*i] = K[6*i,6*i] + k[0,0]\n",
    "    K[6*i,6*i+1] = K[6*i,6*i+1] + k[0,1]\n",
    "    K[6*i,6*i+2] = K[6*i,6*i+2] + k[0,2]\n",
    "    K[6*i,6*i+3] = K[6*i,6*i+3] + k[0,3]\n",
    "    K[6*i,6*i+4] = K[6*i,6*i+4] + k[0,4]\n",
    "    K[6*i,6*i+5] = K[6*i,6*i+5] + k[0,5]\n",
    "    K[6*i,6*j] = K[6*i,6*j] + k[0,6]\n",
    "    K[6*i,6*j+1] = K[6*i,6*j+1] + k[0,7]\n",
    "    K[6*i,6*j+2] = K[6*i,6*j+2] + k[0,8]\n",
    "    K[6*i,6*j+3] = K[6*i,6*j+3] + k[0,9]\n",
    "    K[6*i,6*j+4] = K[6*i,6*j+4] + k[0,10]\n",
    "    K[6*i,6*j+5] = K[6*i,6*j+5] + k[0,11]\n",
    "    K[6*i+1,6*i] = K[6*i+1,6*i] + k[1,0]\n",
    "    K[6*i+1,6*i+1] = K[6*i+1,6*i+1] + k[1,1]\n",
    "    K[6*i+1,6*i+2] = K[6*i+1,6*i+2] + k[1,2]\n",
    "    K[6*i+1,6*i+3] = K[6*i+1,6*i+3] + k[1,3]\n",
    "    K[6*i+1,6*i+4] = K[6*i+1,6*i+4] + k[1,4]\n",
    "    K[6*i+1,6*i+5] = K[6*i+1,6*i+5] + k[1,5]\n",
    "    K[6*i+1,6*j] = K[6*i+1,6*j] + k[1,6]\n",
    "    K[6*i+1,6*j+1] = K[6*i+1,6*j+1] + k[1,7]\n",
    "    K[6*i+1,6*j+2] = K[6*i+1,6*j+2] + k[1,8]\n",
    "    K[6*i+1,6*j+3] = K[6*i+1,6*j+3] + k[1,9]\n",
    "    K[6*i+1,6*j+4] = K[6*i+1,6*j+4] + k[1,10]\n",
    "    K[6*i+1,6*j+5] = K[6*i+1,6*j+5] + k[1,11]\n",
    "    K[6*i+2,6*i]   = K[6*i+2,6*i] + k[2,0]\n",
    "    K[6*i+2,6*i+1] = K[6*i+2,6*i+1] + k[2,1]\n",
    "    K[6*i+2,6*i+2] = K[6*i+2,6*i+2] + k[2,2]\n",
    "    K[6*i+2,6*i+3] = K[6*i+2,6*i+3] + k[2,3]\n",
    "    K[6*i+2,6*i+4] = K[6*i+2,6*i+4] + k[2,4]\n",
    "    K[6*i+2,6*i+5] = K[6*i+2,6*i+5] + k[2,5]\n",
    "    K[6*i+2,6*j]   = K[6*i+2,6*j] + k[2,6]\n",
    "    K[6*i+2,6*j+1] = K[6*i+2,6*j+1] + k[2,7]\n",
    "    K[6*i+2,6*j+2] = K[6*i+2,6*j+2] + k[2,8]\n",
    "    K[6*i+2,6*j+3] = K[6*i+2,6*j+3] + k[2,9]\n",
    "    K[6*i+2,6*j+4] = K[6*i+2,6*j+4] + k[2,10]\n",
    "    K[6*i+2,6*j+5] = K[6*i+2,6*j+5] + k[2,11]\n",
    "    K[6*i+3,6*i] = K[6*i+3,6*i] + k[3,0]\n",
    "    K[6*i+3,6*i+1] = K[6*i+3,6*i+1] + k[3,1]\n",
    "    K[6*i+3,6*i+2] = K[6*i+3,6*i+2] + k[3,2]\n",
    "    K[6*i+3,6*i+3] = K[6*i+3,6*i+3] + k[3,3]\n",
    "    K[6*i+3,6*i+4] = K[6*i+3,6*i+4] + k[3,4]\n",
    "    K[6*i+3,6*i+5] = K[6*i+3,6*i+5] + k[3,5]\n",
    "    K[6*i+3,6*j] = K[6*i+3,6*j] + k[3,6]\n",
    "    K[6*i+3,6*j+1] = K[6*i+3,6*j+1] + k[3,7]\n",
    "    K[6*i+3,6*j+2] = K[6*i+3,6*j+2] + k[3,8]    \n",
    "    K[6*i+3,6*j+3] = K[6*i+3,6*j+3] + k[3,9]\n",
    "    K[6*i+3,6*j+4] = K[6*i+3,6*j+4] + k[3,10]\n",
    "    K[6*i+3,6*j+5] = K[6*i+3,6*j+5] + k[3,11]\n",
    "    K[6*i+4,6*i] = K[6*i+4,6*i] + k[4,0]\n",
    "    K[6*i+4,6*i+1] = K[6*i+4,6*i+1] + k[4,1]\n",
    "    K[6*i+4,6*i+2] = K[6*i+4,6*i+2] + k[4,2]\n",
    "    K[6*i+4,6*i+3] = K[6*i+4,6*i+3] + k[4,3]\n",
    "    K[6*i+4,6*i+4] = K[6*i+4,6*i+4] + k[4,4]\n",
    "    K[6*i+4,6*i+5] = K[6*i+4,6*i+5] + k[4,5]\n",
    "    K[6*i+4,6*j] = K[6*i+4,6*j] + k[4,6]\n",
    "    K[6*i+4,6*j+1] = K[6*i+4,6*j+1] + k[4,7]\n",
    "    K[6*i+4,6*j+2] = K[6*i+4,6*j+2] + k[4,8]\n",
    "    K[6*i+4,6*j+3] = K[6*i+4,6*j+3] + k[4,9]\n",
    "    K[6*i+4,6*j+4] = K[6*i+4,6*j+4] + k[4,10]\n",
    "    K[6*i+4,6*j+5] = K[6*i+4,6*j+5] + k[4,11]\n",
    "    K[6*i+5,6*i] = K[6*i+5,6*i] + k[5,0]\n",
    "    K[6*i+5,6*i+1] = K[6*i+5,6*i+1] + k[5,1]\n",
    "    K[6*i+5,6*i+2] = K[6*i+5,6*i+2] + k[5,2]\n",
    "    K[6*i+5,6*i+3] = K[6*i+5,6*i+3] + k[5,3]\n",
    "    K[6*i+5,6*i+4] = K[6*i+5,6*i+4] + k[5,4]\n",
    "    K[6*i+5,6*i+5] = K[6*i+5,6*i+5] + k[5,5]\n",
    "    K[6*i+5,6*j] = K[6*i+5,6*j] + k[5,6]\n",
    "    K[6*i+5,6*j+1] = K[6*i+5,6*j+1] + k[5,7]\n",
    "    K[6*i+5,6*j+2] = K[6*i+5,6*j+2] + k[5,8]\n",
    "    K[6*i+5,6*j+3] = K[6*i+5,6*j+3] + k[5,9]\n",
    "    K[6*i+5,6*j+4] = K[6*i+5,6*j+4] + k[5,10]\n",
    "    K[6*i+5,6*j+5] = K[6*i+5,6*j+5] + k[5,11]\n",
    "    K[6*j,6*i] = K[6*j,6*i] + k[6,0]\n",
    "    K[6*j,6*i+1] = K[6*j,6*i+1] + k[6,1]\n",
    "    K[6*j,6*i+2] = K[6*j,6*i+2] + k[6,2]\n",
    "    K[6*j,6*i+3] = K[6*j,6*i+3] + k[6,3]\n",
    "    K[6*j,6*i+4] = K[6*j,6*i+4] + k[6,4]\n",
    "    K[6*j,6*i+5] = K[6*j,6*i+5] + k[6,5]\n",
    "    K[6*j,6*j] = K[6*j,6*j] + k[6,6]\n",
    "    K[6*j,6*j+1] = K[6*j,6*j+1] + k[6,7]\n",
    "    K[6*j,6*j+2] = K[6*j,6*j+2] + k[6,8]\n",
    "    K[6*j,6*j+3] = K[6*j,6*j+3] + k[6,9]\n",
    "    K[6*j,6*j+4] = K[6*j,6*j+4] + k[6,10]\n",
    "    K[6*j,6*j+5] = K[6*j,6*j+5] + k[6,11]\n",
    "    K[6*j+1,6*i] = K[6*j+1,6*i] + k[7,0]\n",
    "    K[6*j+1,6*i+1] = K[6*j+1,6*i+1] + k[7,1]\n",
    "    K[6*j+1,6*i+2] = K[6*j+1,6*i+2] + k[7,2]\n",
    "    K[6*j+1,6*i+3] = K[6*j+1,6*i+3] + k[7,3]\n",
    "    K[6*j+1,6*i+4] = K[6*j+1,6*i+4] + k[7,4]\n",
    "    K[6*j+1,6*i+5] = K[6*j+1,6*i+5] + k[7,5]\n",
    "    K[6*j+1,6*j] = K[6*j+1,6*j] + k[7,6]\n",
    "    K[6*j+1,6*j+1] = K[6*j+1,6*j+1] + k[7,7]\n",
    "    K[6*j+1,6*j+2] = K[6*j+1,6*j+2] + k[7,8]\n",
    "    K[6*j+1,6*j+3] = K[6*j+1,6*j+3] + k[7,9]\n",
    "    K[6*j+1,6*j+4] = K[6*j+1,6*j+4] + k[7,10]\n",
    "    K[6*j+1,6*j+5] = K[6*j+1,6*j+5] + k[7,11]\n",
    "    K[6*j+2,6*i] = K[6*j+2,6*i] + k[8,0]\n",
    "    K[6*j+2,6*i+1] = K[6*j+2,6*i+1] + k[8,1]\n",
    "    K[6*j+2,6*i+2] = K[6*j+2,6*i+2] + k[8,2]\n",
    "    K[6*j+2,6*i+3] = K[6*j+2,6*i+3] + k[8,3]\n",
    "    K[6*j+2,6*i+4] = K[6*j+2,6*i+4] + k[8,4]\n",
    "    K[6*j+2,6*i+5] = K[6*j+2,6*i+5] + k[8,5]\n",
    "    K[6*j+2,6*j] = K[6*j+2,6*j] + k[8,6]\n",
    "    K[6*j+2,6*j+1] = K[6*j+2,6*j+1] + k[8,7]\n",
    "    K[6*j+2,6*j+2] = K[6*j+2,6*j+2] + k[8,8]\n",
    "    K[6*j+2,6*j+3] = K[6*j+2,6*j+3] + k[8,9]\n",
    "    K[6*j+2,6*j+4] = K[6*j+2,6*j+4] + k[8,10]\n",
    "    K[6*j+2,6*j+5] = K[6*j+2,6*j+5] + k[8,11]\n",
    "    K[6*j+3,6*i] = K[6*j+3,6*i] + k[9,0]\n",
    "    K[6*j+3,6*i+1] = K[6*j+3,6*i+1] + k[9,1]\n",
    "    K[6*j+3,6*i+2] = K[6*j+3,6*i+2] + k[9,2]\n",
    "    K[6*j+3,6*i+3] = K[6*j+3,6*i+3] + k[9,3]\n",
    "    K[6*j+3,6*i+4] = K[6*j+3,6*i+4] + k[9,4]\n",
    "    K[6*j+3,6*i+5] = K[6*j+3,6*i+5] + k[9,5]\n",
    "    K[6*j+3,6*j] = K[6*j+3,6*j] + k[9,6]\n",
    "    K[6*j+3,6*j+1] = K[6*j+3,6*j+1] + k[9,7]\n",
    "    K[6*j+3,6*j+2] = K[6*j+3,6*j+2] + k[9,8]\n",
    "    K[6*j+3,6*j+3] = K[6*j+3,6*j+3] + k[9,9]\n",
    "    K[6*j+3,6*j+4] = K[6*j+3,6*j+4] + k[9,10]\n",
    "    K[6*j+3,6*j+5] = K[6*j+3,6*j+5] + k[9,11]\n",
    "    K[6*j+4,6*i] = K[6*j+4,6*i] + k[10,0]\n",
    "    K[6*j+4,6*i+1] = K[6*j+4,6*i+1] + k[10,1]\n",
    "    K[6*j+4,6*i+2] = K[6*j+4,6*i+2] + k[10,2]\n",
    "    K[6*j+4,6*i+3] = K[6*j+4,6*i+3] + k[10,3]\n",
    "    K[6*j+4,6*i+4] = K[6*j+4,6*i+4] + k[10,4]\n",
    "    K[6*j+4,6*i+5] = K[6*j+4,6*i+5] + k[10,5]\n",
    "    K[6*j+4,6*j] = K[6*j+4,6*j] + k[10,6]\n",
    "    K[6*j+4,6*j+1] = K[6*j+4,6*j+1] + k[10,7]\n",
    "    K[6*j+4,6*j+2] = K[6*j+4,6*j+2] + k[10,8]\n",
    "    K[6*j+4,6*j+3] = K[6*j+4,6*j+3] + k[10,9]\n",
    "    K[6*j+4,6*j+4] = K[6*j+4,6*j+4] + k[10,10]\n",
    "    K[6*j+4,6*j+5] = K[6*j+4,6*j+5] + k[10,11]\n",
    "    K[6*j+5,6*i] = K[6*j+5,6*i] + k[11,0]\n",
    "    K[6*j+5,6*i+1] = K[6*j+5,6*i+1] + k[11,1]\n",
    "    K[6*j+5,6*i+2] = K[6*j+5,6*i+2] + k[11,2]\n",
    "    K[6*j+5,6*i+3] = K[6*j+5,6*i+3] + k[11,3]\n",
    "    K[6*j+5,6*i+4] = K[6*j+5,6*i+4] + k[11,4]\n",
    "    K[6*j+5,6*i+5] = K[6*j+5,6*i+5] + k[11,5]\n",
    "    K[6*j+5,6*j] = K[6*j+5,6*j] + k[11,6]\n",
    "    K[6*j+5,6*j+1] = K[6*j+5,6*j+1] + k[11,7]\n",
    "    K[6*j+5,6*j+2] = K[6*j+5,6*j+2] + k[11,8]\n",
    "    K[6*j+5,6*j+3] = K[6*j+5,6*j+3] + k[11,9]\n",
    "    K[6*j+5,6*j+4] = K[6*j+5,6*j+4] + k[11,10]\n",
    "    K[6*j+5,6*j+5] = K[6*j+5,6*j+5] + k[11,11]\n",
    "    \n",
    "    return K"
   ]
  },
  {
   "cell_type": "code",
   "execution_count": 148,
   "metadata": {},
   "outputs": [],
   "source": [
    "def FEA_u(coord, elcon, bc_node, bc_val, global_force, \n",
    "          E=210e6, G=84e6, A=2e-2, Iy=10e-5, Iz=20e-5, J=5e-5):\n",
    "    coord=np.array(coord)\n",
    "    elcon=np.array(elcon)\n",
    "    \n",
    "    K=np.zeros(shape=(6*(np.max(elcon)+1),6*(np.max(elcon)+1)))\n",
    "    for el in elcon:\n",
    "        k=SpaceFrameElementStiffness(E,G,A,Iy,Iz,J,\n",
    "                                     coord[el[0]][0],coord[el[0]][1],coord[el[0]][2],\\\n",
    "                                     coord[el[1]][0],coord[el[1]][1],coord[el[1]][2])\n",
    "        K=SpaceFrameAssemble(K,k,el[0],el[1])\n",
    "        \n",
    "    F = np.array(global_force)\n",
    "    \n",
    "    \n",
    "    # https://github.com/CALFEM/calfem-matlab/blob/master/fem/solveq.m\n",
    "    \n",
    "    bc=np.array([bc_node, \n",
    "                bc_val]).T\n",
    "    nd, nd=K.shape\n",
    "    fdof=np.array([i for i in range(nd)]).T\n",
    "    d=np.zeros(shape=(len(fdof),))\n",
    "    Q=np.zeros(shape=(len(fdof),))\n",
    "\n",
    "    pdof=bc[:,0].astype(int)\n",
    "    dp=bc[:,1]\n",
    "    fdof=np.delete(fdof, pdof, 0)\n",
    "    s=np.linalg.lstsq(K[fdof,:][:,fdof], (F[fdof].T-np.dot(K[fdof,:][:,pdof],dp.T)).T, rcond=None)[0] \n",
    "    d[pdof]=dp\n",
    "    d[fdof]=s.reshape(-1,)\n",
    "    \n",
    "#     Q=np.dot(K,d).T-F \n",
    "    return d, np.dot(K,d).T"
   ]
  },
  {
   "cell_type": "code",
   "execution_count": 149,
   "metadata": {},
   "outputs": [],
   "source": [
    "# 10 The Space Frame Element - verification\n",
    "d,f=FEA_u(np.array([0,0,0,\n",
    "                  3,0,0,\n",
    "                  0,0,-3,\n",
    "                  0,-4,0]).reshape(4,3),\n",
    "        elcon=np.array([[0, 1],\n",
    "                      [0, 2],\n",
    "                      [0, 3]]),\n",
    "        bc_node=list(range(6,24)), \n",
    "        bc_val=[0]*18,\n",
    "        global_force=[-10,0,20,0,0,0,\n",
    "                                0,0,0,0,0,0,\n",
    "                                0,0,0,0,0,0,\n",
    "                                0,0,0,0,0,0])"
   ]
  },
  {
   "cell_type": "code",
   "execution_count": 150,
   "metadata": {},
   "outputs": [
    {
     "data": {
      "text/plain": [
       "array([-7.05147750e-06, -6.65367100e-08,  1.41769582e-05,  1.44778793e-06,\n",
       "        1.74858422e-06,  1.13605431e-06,  0.00000000e+00,  0.00000000e+00,\n",
       "        0.00000000e+00,  0.00000000e+00,  0.00000000e+00,  0.00000000e+00,\n",
       "        0.00000000e+00,  0.00000000e+00,  0.00000000e+00,  0.00000000e+00,\n",
       "        0.00000000e+00,  0.00000000e+00,  0.00000000e+00,  0.00000000e+00,\n",
       "        0.00000000e+00,  0.00000000e+00,  0.00000000e+00,  0.00000000e+00])"
      ]
     },
     "execution_count": 150,
     "metadata": {},
     "output_type": "execute_result"
    }
   ],
   "source": [
    "d"
   ]
  },
  {
   "cell_type": "code",
   "execution_count": 151,
   "metadata": {},
   "outputs": [
    {
     "data": {
      "text/plain": [
       "array([-1.00000000e+01, -3.83026943e-15,  2.00000000e+01,  4.20496971e-15,\n",
       "        2.22044605e-16, -1.20736754e-15,  9.87206850e+00, -3.05675021e-02,\n",
       "       -1.07838097e-01, -2.02690310e-03, -1.73997236e-01,  2.99464928e-02,\n",
       "        9.02939690e-02, -3.92960434e-02, -1.98477415e+01,  3.86750341e-02,\n",
       "        1.23200864e-01, -1.59047604e-03,  3.76375299e-02,  6.98635455e-02,\n",
       "       -4.44204429e-02, -9.64417725e-02, -1.83601343e-03, -8.72036301e-02])"
      ]
     },
     "execution_count": 151,
     "metadata": {},
     "output_type": "execute_result"
    }
   ],
   "source": [
    "f"
   ]
  },
  {
   "cell_type": "code",
   "execution_count": 172,
   "metadata": {},
   "outputs": [],
   "source": [
    "def PipeForce(X,Y,Z,vessel_force, E=210e9, G=84e9, A=Ar, Iy=39.4925/7860, Iz=39.4925/7860, J=1.0062*1e-2):\n",
    "    coord=np.stack((X,Y,Z)).T\n",
    "    elcon=[]\n",
    "    for i in range(1,len(X)):\n",
    "        elcon.append([i-1,i])\n",
    "        \n",
    "    bc_node=list(range(0,(len(X)-1)*6))\n",
    "\n",
    "    bc_val=[0]*(len(X)-1)*6\n",
    "    global_force=np.zeros(len(X)*6) \n",
    "    global_force[-6:]=vessel_force\n",
    "    d,f=FEA_u(coord,elcon,bc_node,bc_val,global_force,E,G,A,Iy,Iz,J)\n",
    "    \n",
    "    fors=[]\n",
    "    for i in range(0,len(f),6):\n",
    "        fors.append(f[i:i+3])\n",
    "        \n",
    "    mom =[]   \n",
    "    for i in range(3,len(f),6):\n",
    "        mom.append(f[i:i+3])\n",
    "        \n",
    "    angle=[]\n",
    "    for i in range(3,len(d),6):\n",
    "        angle.append(d[i:i+3])\n",
    "    print(d) \n",
    "    return np.array(fors), np.array(mom), np.array(angle)"
   ]
  },
  {
   "cell_type": "code",
   "execution_count": 175,
   "metadata": {},
   "outputs": [
    {
     "name": "stdout",
     "output_type": "stream",
     "text": [
      "[ 0.00000000e+00  0.00000000e+00  0.00000000e+00  0.00000000e+00\n",
      "  0.00000000e+00  0.00000000e+00  0.00000000e+00  0.00000000e+00\n",
      "  0.00000000e+00  0.00000000e+00  0.00000000e+00  0.00000000e+00\n",
      "  0.00000000e+00  0.00000000e+00  0.00000000e+00  0.00000000e+00\n",
      "  0.00000000e+00  0.00000000e+00  0.00000000e+00  0.00000000e+00\n",
      "  0.00000000e+00  0.00000000e+00  0.00000000e+00  0.00000000e+00\n",
      "  0.00000000e+00  0.00000000e+00  0.00000000e+00  0.00000000e+00\n",
      "  0.00000000e+00  0.00000000e+00  0.00000000e+00  0.00000000e+00\n",
      "  0.00000000e+00  0.00000000e+00  0.00000000e+00  0.00000000e+00\n",
      "  0.00000000e+00  0.00000000e+00  0.00000000e+00  0.00000000e+00\n",
      "  0.00000000e+00  0.00000000e+00  0.00000000e+00  0.00000000e+00\n",
      "  0.00000000e+00  0.00000000e+00  0.00000000e+00  0.00000000e+00\n",
      "  0.00000000e+00  0.00000000e+00  0.00000000e+00  0.00000000e+00\n",
      "  0.00000000e+00  0.00000000e+00  0.00000000e+00  0.00000000e+00\n",
      "  0.00000000e+00  0.00000000e+00  0.00000000e+00  0.00000000e+00\n",
      "  0.00000000e+00  0.00000000e+00  0.00000000e+00  0.00000000e+00\n",
      "  0.00000000e+00  0.00000000e+00  0.00000000e+00  0.00000000e+00\n",
      "  0.00000000e+00  0.00000000e+00  0.00000000e+00  0.00000000e+00\n",
      "  0.00000000e+00  0.00000000e+00  0.00000000e+00  0.00000000e+00\n",
      "  0.00000000e+00  0.00000000e+00  0.00000000e+00  0.00000000e+00\n",
      "  0.00000000e+00  0.00000000e+00  0.00000000e+00  0.00000000e+00\n",
      "  0.00000000e+00  0.00000000e+00  0.00000000e+00  0.00000000e+00\n",
      "  0.00000000e+00  0.00000000e+00  0.00000000e+00  0.00000000e+00\n",
      "  0.00000000e+00  0.00000000e+00  0.00000000e+00  0.00000000e+00\n",
      "  0.00000000e+00  0.00000000e+00  0.00000000e+00  0.00000000e+00\n",
      "  0.00000000e+00  0.00000000e+00  0.00000000e+00  0.00000000e+00\n",
      "  0.00000000e+00  0.00000000e+00  0.00000000e+00  0.00000000e+00\n",
      "  0.00000000e+00  0.00000000e+00  0.00000000e+00  0.00000000e+00\n",
      "  0.00000000e+00  0.00000000e+00 -1.16118536e+06  6.09338950e+05\n",
      "  9.47953328e+06  3.56856945e+02 -2.52448337e+04  1.65401157e+03]\n"
     ]
    }
   ],
   "source": [
    "fors, mom, angle = PipeForce(x0_,list([0 for i in range(len(z0))]),z0_,np.array([67067.8422171882,\n",
    "                 8866784.826883841, \n",
    "                 136429924.3688211, \n",
    "                 760945444.8381816, \n",
    "                 -5770549859.826721, \n",
    "                 374662591.12388337]))"
   ]
  },
  {
   "cell_type": "code",
   "execution_count": 176,
   "metadata": {},
   "outputs": [
    {
     "data": {
      "text/plain": [
       "array([[ 0.00000000e+00,  0.00000000e+00,  0.00000000e+00],\n",
       "       [ 0.00000000e+00,  0.00000000e+00,  0.00000000e+00],\n",
       "       [ 0.00000000e+00,  0.00000000e+00,  0.00000000e+00],\n",
       "       [ 0.00000000e+00,  0.00000000e+00,  0.00000000e+00],\n",
       "       [ 0.00000000e+00,  0.00000000e+00,  0.00000000e+00],\n",
       "       [ 0.00000000e+00,  0.00000000e+00,  0.00000000e+00],\n",
       "       [ 0.00000000e+00,  0.00000000e+00,  0.00000000e+00],\n",
       "       [ 0.00000000e+00,  0.00000000e+00,  0.00000000e+00],\n",
       "       [ 0.00000000e+00,  0.00000000e+00,  0.00000000e+00],\n",
       "       [ 0.00000000e+00,  0.00000000e+00,  0.00000000e+00],\n",
       "       [ 0.00000000e+00,  0.00000000e+00,  0.00000000e+00],\n",
       "       [ 0.00000000e+00,  0.00000000e+00,  0.00000000e+00],\n",
       "       [ 0.00000000e+00,  0.00000000e+00,  0.00000000e+00],\n",
       "       [ 0.00000000e+00,  0.00000000e+00,  0.00000000e+00],\n",
       "       [ 0.00000000e+00,  0.00000000e+00,  0.00000000e+00],\n",
       "       [ 0.00000000e+00,  0.00000000e+00,  0.00000000e+00],\n",
       "       [ 0.00000000e+00,  0.00000000e+00,  0.00000000e+00],\n",
       "       [ 0.00000000e+00,  0.00000000e+00,  0.00000000e+00],\n",
       "       [-6.70678359e+04, -8.86678483e+06, -1.36429924e+08],\n",
       "       [ 6.70678359e+04,  8.86678483e+06,  1.36429924e+08]])"
      ]
     },
     "execution_count": 176,
     "metadata": {},
     "output_type": "execute_result"
    }
   ],
   "source": [
    "fors"
   ]
  },
  {
   "cell_type": "code",
   "execution_count": 154,
   "metadata": {},
   "outputs": [
    {
     "ename": "SyntaxError",
     "evalue": "invalid syntax (<ipython-input-154-a5d5b61aa8a6>, line 1)",
     "output_type": "error",
     "traceback": [
      "\u001b[0;36m  File \u001b[0;32m\"<ipython-input-154-a5d5b61aa8a6>\"\u001b[0;36m, line \u001b[0;32m1\u001b[0m\n\u001b[0;31m    .\u001b[0m\n\u001b[0m    ^\u001b[0m\n\u001b[0;31mSyntaxError\u001b[0m\u001b[0;31m:\u001b[0m invalid syntax\n"
     ]
    }
   ],
   "source": [
    "."
   ]
  },
  {
   "cell_type": "markdown",
   "metadata": {},
   "source": [
    "### Vessle Simulation"
   ]
  },
  {
   "cell_type": "code",
   "execution_count": null,
   "metadata": {},
   "outputs": [],
   "source": [
    "sampleTime = 0.01              # sample time [seconds]\n",
    "N = 5000                      # number of samples"
   ]
  },
  {
   "cell_type": "code",
   "execution_count": null,
   "metadata": {},
   "outputs": [],
   "source": [
    "vehicle=semisub('DPcontrol',0,5,40.0,0,0) "
   ]
  },
  {
   "cell_type": "code",
   "execution_count": null,
   "metadata": {},
   "outputs": [],
   "source": [
    "[simTime, simData] = simulate(N, sampleTime, vehicle)"
   ]
  },
  {
   "cell_type": "code",
   "execution_count": null,
   "metadata": {},
   "outputs": [],
   "source": [
    "ans_t=[]\n",
    "sum_=0\n",
    "for i in range(simData.shape[0]):\n",
    "    ans_t.append(sum_)\n",
    "    sum_+=sampleTime"
   ]
  },
  {
   "cell_type": "code",
   "execution_count": null,
   "metadata": {},
   "outputs": [],
   "source": [
    "plotVehicleStates(simTime, simData, 1)                    \n",
    "plotControls(simTime, simData, vehicle, 2)"
   ]
  },
  {
   "cell_type": "code",
   "execution_count": null,
   "metadata": {},
   "outputs": [],
   "source": [
    "numDataPoints = 5                 # number of 3D data points\n",
    "FPS = 10                            # frames per second (animated GIF)\n",
    "filename = '3D_animation.gif'       # data file for animated GIF\n",
    "browser = 'safari'       "
   ]
  },
  {
   "cell_type": "code",
   "execution_count": null,
   "metadata": {},
   "outputs": [],
   "source": [
    "plotVehicleStates(simTime, simData, 3)"
   ]
  },
  {
   "cell_type": "code",
   "execution_count": null,
   "metadata": {},
   "outputs": [],
   "source": [
    "plot3D(simData, numDataPoints, FPS, filename, 3)  "
   ]
  },
  {
   "cell_type": "code",
   "execution_count": null,
   "metadata": {},
   "outputs": [],
   "source": [
    "def myDPcontrol(self, eta, nu, sampleTime):\n",
    "        \"\"\"\n",
    "        u = DPcontrol(eta,nu,sampleTime) is a nonlinear PID controller\n",
    "        for DP based on pole placement:\n",
    "\n",
    "        tau = -R' Kp (eta-r) - R' Kd R nu - R' Ki int(eta-r)\n",
    "        u = B_pseudoinverse * tau\n",
    "        \"\"\"\n",
    "        # 3-DOF state vectors\n",
    "        eta3 = np.array([eta[0], eta[1], eta[5]])\n",
    "        nu3 = np.array([nu[0], nu[1], nu[5]])\n",
    "\n",
    "        # 3-DOF diagonal model matrices\n",
    "        M3 = np.diag([self.M[0][0], self.M[1][1], self.M[5][5]])\n",
    "        D3 = np.diag([self.D[0][0], self.D[1][1], self.D[5][5]])\n",
    "\n",
    "        [tau3, self.e_int, self.x_d, self.y_d, self.psi_d] = DPpolePlacement(\n",
    "            self.e_int,\n",
    "            M3,\n",
    "            D3,\n",
    "            eta3,\n",
    "            nu3,\n",
    "            self.x_d,\n",
    "            self.y_d,\n",
    "            self.psi_d,\n",
    "            self.wn,\n",
    "            self.zeta,\n",
    "            self.ref,\n",
    "            sampleTime,\n",
    "        )\n",
    "        \n",
    "        tau=list(tau3)+[tau3[2]*ly - tau3[1]*lz,\n",
    "                  tau3[0]*lz - tau3[2]*lx,\n",
    "                  tau3[1]*lx - tau3[0]*ly]\n",
    "\n",
    "#         u_alloc = self.controlAllocation(tau3)\n",
    "        return tau"
   ]
  },
  {
   "cell_type": "code",
   "execution_count": null,
   "metadata": {},
   "outputs": [],
   "source": [
    "def find_nearest(array, value):\n",
    "    array = np.asarray(array)\n",
    "    idx = (np.abs(array - value)).argmin()\n",
    "    return idx"
   ]
  },
  {
   "cell_type": "code",
   "execution_count": null,
   "metadata": {},
   "outputs": [],
   "source": [
    "# Ws[0]*Ret[2]"
   ]
  },
  {
   "cell_type": "code",
   "execution_count": null,
   "metadata": {},
   "outputs": [],
   "source": [
    "# np.einsum('i,ijk->ijk',[Ws[i] for i in range(node_N)],Ret)"
   ]
  },
  {
   "cell_type": "code",
   "execution_count": null,
   "metadata": {},
   "outputs": [],
   "source": [
    "idx=1/0.01"
   ]
  },
  {
   "cell_type": "code",
   "execution_count": null,
   "metadata": {},
   "outputs": [],
   "source": [
    "idx"
   ]
  },
  {
   "cell_type": "code",
   "execution_count": null,
   "metadata": {},
   "outputs": [],
   "source": [
    "ssa(simData[:, 3][int(idx)])"
   ]
  },
  {
   "cell_type": "code",
   "execution_count": null,
   "metadata": {},
   "outputs": [],
   "source": [
    "ssa(simData[:, 4][int(idx)])"
   ]
  },
  {
   "cell_type": "code",
   "execution_count": null,
   "metadata": {},
   "outputs": [],
   "source": [
    "ssa(simData[:, 5][int(idx)])"
   ]
  },
  {
   "cell_type": "code",
   "execution_count": null,
   "metadata": {},
   "outputs": [],
   "source": [
    "idx=int(idx)"
   ]
  },
  {
   "cell_type": "code",
   "execution_count": null,
   "metadata": {},
   "outputs": [],
   "source": [
    "x_ve = simData[:, 0][idx]\n",
    "y_ve = simData[:, 1][idx]\n",
    "z_ve = simData[:, 2][idx]\n",
    "phi_ve = ssa(simData[:, 3][idx])\n",
    "theta_ve = ssa(simData[:, 4][idx])\n",
    "psi_v = ssa(simData[:, 5][idx])\n",
    "\n",
    "\n",
    "u_ve = simData[:, 6][idx]\n",
    "v_ve = simData[:, 7][idx]\n",
    "\n",
    "w_ve = simData[:, 8][idx]\n",
    "p_ve = simData[:, 9][idx]\n",
    "q_ve = simData[:, 10][idx]\n",
    "r_ve = simData[:, 11][idx]"
   ]
  },
  {
   "cell_type": "code",
   "execution_count": null,
   "metadata": {},
   "outputs": [],
   "source": [
    "η=np.array([x_ve, y_ve, z_ve, phi_ve, theta_ve, psi_v])\n",
    "dη=np.array([u_ve, v_ve, w_ve, p_ve, q_ve, r_ve])"
   ]
  },
  {
   "cell_type": "code",
   "execution_count": null,
   "metadata": {},
   "outputs": [],
   "source": [
    "n_ = myDPcontrol(vehicle,η,dη,sampleTime)"
   ]
  },
  {
   "cell_type": "code",
   "execution_count": null,
   "metadata": {},
   "outputs": [],
   "source": [
    "x,y,z=q0[0:node_N],q0[2*node_N:3*node_N],q0[4*node_N:5*node_N]"
   ]
  },
  {
   "cell_type": "code",
   "execution_count": null,
   "metadata": {},
   "outputs": [],
   "source": [
    "fors, mom, angle = PipeForce(x,y,z,n_)"
   ]
  },
  {
   "cell_type": "code",
   "execution_count": null,
   "metadata": {},
   "outputs": [],
   "source": [
    "angle"
   ]
  },
  {
   "cell_type": "markdown",
   "metadata": {},
   "source": [
    "### Dynamics"
   ]
  },
  {
   "cell_type": "code",
   "execution_count": null,
   "metadata": {},
   "outputs": [],
   "source": [
    "def grayscott1d(t, Q): # here\n",
    "    print(t)\n",
    "      \n",
    "    x,y,z=Q[0:node_N],Q[2*node_N:3*node_N],Q[4*node_N:5*node_N]\n",
    "    \n",
    "    idx = find_nearest(np.array(ans_t),  t+1) \n",
    "\n",
    "    x_ve = simData[:, 0][idx]\n",
    "    y_ve = simData[:, 1][idx]\n",
    "#     x_ve = simData[:, 1][idx]\n",
    "#     y_ve = simData[:, 0][idx]\n",
    "    z_ve = simData[:, 2][idx]\n",
    "    phi_ve = ssa(simData[:, 3][idx])\n",
    "    theta_ve = ssa(simData[:, 4][idx])\n",
    "    psi_v = ssa(simData[:, 5][idx])\n",
    "    \n",
    "    \n",
    "    u_ve = simData[:, 6][idx]\n",
    "    v_ve = simData[:, 7][idx]\n",
    "#     u_ve = simData[:, 7][idx]\n",
    "#     v_ve = simData[:, 6][idx]\n",
    "    w_ve = simData[:, 8][idx]\n",
    "    p_ve = simData[:, 9][idx]\n",
    "    q_ve = simData[:, 10][idx]\n",
    "    r_ve = simData[:, 11][idx]\n",
    "    \n",
    "    \n",
    "    η=np.array([x_ve, y_ve, z_ve, phi_ve, theta_ve, psi_v])\n",
    "    \n",
    "    dη=np.array([u_ve, v_ve, w_ve, p_ve, q_ve, r_ve])\n",
    "    \n",
    "    \n",
    "#     n_ = vehicle.DPcontrol(η,dη,sampleTime) # /1e3\n",
    "    n_ = myDPcontrol(vehicle,η,dη,sampleTime)\n",
    "#     print(n_)\n",
    "#     print(n_)\n",
    "    \n",
    "\n",
    "    dx,dy,dz=Q[1*node_N:2*node_N],Q[3*node_N:4*node_N],Q[5*node_N:6*node_N]\n",
    "    \n",
    "\n",
    "    φ,θ,ψ=Q[6*node_N:7*node_N],Q[8*node_N:9*node_N],Q[10*node_N:11*node_N]\n",
    "    \n",
    "    φ=ssa(φ)\n",
    "    θ=ssa(θ)\n",
    "    ψ=ssa(ψ)\n",
    "#     φ[-1],θ[-1],ψ[-1]=phi_ve, theta_ve,psi_v\n",
    "    Ret = Re_t(φ,θ,ψ)\n",
    "#     print(Ret)\n",
    "\n",
    "    dφ,dθ,dψ=Q[7*node_N:8*node_N],Q[9*node_N:10*node_N],Q[11*node_N:12*node_N]\n",
    "    \n",
    "#     force_schedule =1/(1+np.exp(-np.exp(t/10)+np.exp(2)))\n",
    "#     force_schedule = t/15 if t<15 else 1\n",
    "#     force_schedule = 1e-1000\n",
    "#     force_schedule=100\n",
    "#     force_schedule=1e-4\n",
    "    force_schedule=1\n",
    "#     force_schedule=0\n",
    "#     print(type(n_))\n",
    "#     tau_force = force_schedule*np.array(n_) # [N]\n",
    "    \n",
    "    fors, mom, angle = force_schedule*PipeForce(x,y,z,n_)\n",
    "    \n",
    "    φ,θ,ψ=angle.T\n",
    "#     print(tau_force)\n",
    "#     tau_force[0]=0\n",
    "#     tau_force[1]=0\n",
    "#     tau_force[2]=0\n",
    "#     tau_force[3]=0\n",
    "#     tau_force[4]=0\n",
    "#     tau_force[5]=0\n",
    "#     print(tau_force.astype(np.float64))\n",
    "\n",
    "#     sum_0123=0\n",
    "#     lll=[]\n",
    "#     for i in range(1,len(z0)):\n",
    "#         sum_0123=math.sqrt((x[i]-x[i-1])**2+(y[i]-y[i-1])**2+(z[i]-z[i-1])**2)\n",
    "#         lll.append(sum_0123)\n",
    "\n",
    "    \n",
    "#     cum_d_inv=[0]\n",
    "#     sum_=0\n",
    "#     for i in range(len(lll)-1,-1,-1):\n",
    "#         sum_+=lll[i]\n",
    "#         cum_d_inv.append(sum_)\n",
    "#     cum_d_inv=cum_d_inv[::-1]   \n",
    "\n",
    "#     print(np.dot(1/(Jv(x,y,z,len(z))+1e-3),tau_force[:3].reshape(3,1)).squeeze())\n",
    "#     print(tau_force[:3])\n",
    "#     Z0=-np.einsum('ijk,ik->ij', Re_b(Ret), np.einsum('i,k->ik',cum_d_inv[::-1],tau_force[:3])/max(cum_d_inv))\n",
    "    Z0= - np.einsum('ijk,ik->ij', Re_b(Ret), fors).squeeze()\n",
    "\n",
    "#     Z0=-np.dot(Re_b(Ret),tau_force[:3])\n",
    "#     Z0=-tau_force[:3]\n",
    "#     print(Ret)\n",
    "#     print(Z0.shape)\n",
    "#     print(Z0)\n",
    "    Z1=d_s(ne, x, y, z, Ret,  ωe(φ,θ,ψ,None,None,None)).T\n",
    "#     Z1 =d_s(ne, x, y, z, Ret, phi(x,y,z,Ret,None)).T\n",
    "#     print(Z1)\n",
    "    Z2=ne_(dx,dy,dz,DT,Ret).T\n",
    "#     print(Z0)\n",
    "  \n",
    "    Z= (\n",
    "        Z1\n",
    "        + Z2 \n",
    "        +Z0\n",
    "       )\n",
    "#     Z[-1]+=tau_force[:3]\n",
    "\n",
    "############################################################    \n",
    "#     print(Ws)\n",
    "    RRRR=Re_b(Ret)\n",
    "#     print(Ret)\n",
    "    haka=1\n",
    "    \n",
    "    ddx,ddy, ddz = np.linalg.solve(np.einsum('i,ijk->ijk',M_t,Re_b(Ret)),Z).T\n",
    "#     ddx,ddy, ddz = np.einsum('ijk,ik->ij',Ret, np.stack([ddx, ddy,ddz], axis=0).T).T\n",
    "    \n",
    "    \n",
    "#     ddx,ddy, ddz = np.linalg.solve(np.einsum('i,ijk->ijk',\n",
    "# #                                              [Ws[i] for i in range(node_N)]\n",
    "# #                                              +[Ws[-1] + vessel_mass]\n",
    "#                                              haka*M_totl\n",
    "                                          \n",
    "#                                              ,RRRR),\n",
    "#                                    Z\n",
    "#                                   ).T \n",
    "# #     print(ddx)\n",
    "#     print(np.concatenate([ddx, ddy,ddz, dφ,], axis=0))\n",
    "#     ddx,ddy, ddz = Ret\n",
    "    ddx,ddy, ddz = np.einsum('ijk,ik->ij',Ret, np.stack([ddx, ddy,ddz], axis=0).T).T\n",
    "#     print(ddx)\n",
    "#     print()\n",
    "############################################################      \n",
    "\n",
    "\n",
    "#     print(cum_d_inv[0])\n",
    "#     Irho=inert(mn, vessel_inertia, Irho_, cum_d_inv, Ws)\n",
    "#     print(Irho[12])\n",
    "#     print()\n",
    " \n",
    "    \n",
    " \n",
    "\n",
    "    C1=np.einsum('ijk,ik->ij', Irho_e(Ret,Irho).astype(np.float64),\n",
    "                                                        np.einsum('ijk,ik->ij', Π(dφ,dθ,dψ).astype(np.float64), \n",
    "                                                                  np.array([dφ,dθ,dψ]).astype(np.float64).T))\n",
    "    \n",
    "    test=np.einsum('ijk,ik->ij',Π(φ,θ,ψ).astype(np.float64),np.array([dφ,dθ,dψ]).astype(np.float64).T)\n",
    "  \n",
    "    C2= np.cross(\n",
    "         test,\n",
    "                 np.einsum('ijk,ik->ij',Irho_e(Ret,Irho).astype(np.float64),\n",
    "                            test))\n",
    "\n",
    "\n",
    "    C3=d_me(φ,θ,ψ,Ret, ωe(φ,θ,ψ,None,None,None))\n",
    "#     print(C3)\n",
    "    \n",
    "    C4= np.cross(d_s(phi,x,y,z,Ret, ωe(φ,θ,ψ,None,None,None)).T, ne(x,y,z,Ret, ωe(φ,θ,ψ,None,None,None),None))\n",
    "#     C4= np.cross(d_s(phi,x,y,z,Ret, ωe(φ,θ,ψ,None,None,None)).T, \n",
    "#                  ne(x,y,z,Ret, ωe(φ,θ,ψ,None,None,None),None))\n",
    "#     print(C4)\n",
    "#     print(tau_force[:3])\n",
    "#     C4= np.cross(d_s(phi,x,y,z,Ret, test).T, ne(x,y,z,Ret, test))\n",
    "    \n",
    "    K1=test.T\n",
    "\n",
    "    C5= np.einsum('ijk,ik->ij',Ret, -np.dot(DR,K1).astype(np.float64).T)\n",
    "\n",
    "#     C0=-np.einsum('ijk,kp->ijp',np.einsum('ijk,ikr->ijr',np.linalg.inv(Π(φ,θ,ψ).astype(np.float64)),\n",
    "#                         Re_b(Ret)),tau_force[3:].reshape(3,1)) \n",
    "    C0=-np.einsum('ijk,ik->ij', np.einsum('ijk,ikr->ijr',np.linalg.inv(Π(φ,θ,ψ).astype(np.float64)),\n",
    "                        Re_b(Ret)), mom ).squeeze()\n",
    "    B_ =(\n",
    "        -C1\n",
    "        -C2\n",
    "        +C3\n",
    "        +C4\n",
    "        +C5\n",
    "    )\n",
    "    B= B_ +C0\n",
    "#     print(C0,C1,C2,C3,C4)\n",
    "\n",
    "\n",
    "\n",
    "#     print(B)   \n",
    "    \n",
    "#     print(Irho_e(Ret,Irho))\n",
    "#     A2 = Irho_e(Ret,Irho).astype(np.float64)\n",
    "#     A3=Π(φ,θ,ψ).astype(np.float64)\n",
    "\n",
    "#     A=np.einsum('ijk,ikr->ijr',A2,A3)\n",
    "    A2 = Irho_e(Ret,Irho).astype(np.float64)\n",
    "    A3=Π(φ,θ,ψ).astype(np.float64)\n",
    "    A=np.einsum('ijk,ikr->ijr',A2,A3)\n",
    "\n",
    "#     hack=1e18\n",
    "    hack=1\n",
    "############################################\n",
    "    ddφ,ddθ,ddψ = np.linalg.solve(hack*A,B).T\n",
    "#############################################\n",
    "#     print(B[49])\n",
    "#     print()\n",
    "\n",
    "#     ddx[0],ddy[0],ddz[0],ddφ[0],ddθ[0],ddψ[0]=0,0,0,0,0,0\n",
    "    A1111=np.concatenate([dx, ddx, dy, ddy, dz, ddz, dφ, ddφ, dθ, ddθ, dψ, ddψ], axis=0)\n",
    "#     print(A1111[-1])\n",
    "    return A1111"
   ]
  },
  {
   "cell_type": "code",
   "execution_count": null,
   "metadata": {},
   "outputs": [],
   "source": [
    "# import scipy"
   ]
  },
  {
   "cell_type": "code",
   "execution_count": null,
   "metadata": {},
   "outputs": [],
   "source": [
    "# ode15s = scipy.integrate.ode(grayscott1d)\n",
    "# ode15s.set_integrator('vode', method='bdf', order=15, nsteps=3000)\n",
    "# # ode15s.set_integrator('vode',  order=32, nsteps=3000)\n",
    "# ode15s.set_initial_value(q0, 0)"
   ]
  },
  {
   "cell_type": "code",
   "execution_count": null,
   "metadata": {},
   "outputs": [],
   "source": [
    "# us=ode15s.integrate(10)"
   ]
  },
  {
   "cell_type": "code",
   "execution_count": null,
   "metadata": {},
   "outputs": [],
   "source": [
    "tspan = (0., 0.12)"
   ]
  },
  {
   "cell_type": "code",
   "execution_count": null,
   "metadata": {},
   "outputs": [],
   "source": [
    "startTime1 = datetime.now()\n",
    "\n",
    "us=solve_ivp(grayscott1d,  tspan, q0, \n",
    "#              nfev=842\n",
    "#              method='LSODA',\n",
    "#              method= 'BDF'\n",
    "#              vectorized=True\n",
    "#              min_step=1e-6\n",
    "#              rtol=1e9, atol=1e9\n",
    "            )\n",
    "print(datetime.now() - startTime1)"
   ]
  },
  {
   "cell_type": "code",
   "execution_count": null,
   "metadata": {},
   "outputs": [],
   "source": [
    "# key takeaway: one can calibrate the model by tuning the hack, bc(init), force_schedule, hak and haka\n",
    "\n",
    "# the main problem of the model is that it accelirates too much\n",
    "# the hack increases the mass, the greater the mass the lesser the  acceleration\n",
    "# the force_schedule affects the force, the lesser the force the lesser the  acceleration\n",
    "# bc set conditions on how much force from the vessel should be applied to counteract the movement because of bc\n",
    "\n",
    "# too fast acceleration leads to solution divergence in short amount of time"
   ]
  },
  {
   "cell_type": "markdown",
   "metadata": {},
   "source": [
    "### Results"
   ]
  },
  {
   "cell_type": "code",
   "execution_count": null,
   "metadata": {},
   "outputs": [],
   "source": [
    "fin=us"
   ]
  },
  {
   "cell_type": "code",
   "execution_count": null,
   "metadata": {},
   "outputs": [],
   "source": [
    "fin"
   ]
  },
  {
   "cell_type": "code",
   "execution_count": null,
   "metadata": {},
   "outputs": [],
   "source": [
    "t=fin.t"
   ]
  },
  {
   "cell_type": "code",
   "execution_count": null,
   "metadata": {},
   "outputs": [],
   "source": [
    "fin=fin.y.T"
   ]
  },
  {
   "cell_type": "code",
   "execution_count": null,
   "metadata": {},
   "outputs": [],
   "source": [
    "fig=plt.figure(figsize=(13,13))\n",
    "ax = fig.gca(projection='3d')\n",
    "\n",
    "X0=fin[0,[i for i in range(0,node_N)]]\n",
    "Y0=fin[0,[i for i in range(2*node_N,3*node_N)]]\n",
    "Z0=fin[0,[i for i in range(4*node_N,5*node_N)]]\n",
    "\n",
    "j=-1\n",
    "X=fin[j,[i for i in range(0,node_N)]]\n",
    "Y=fin[j,[i for i in range(2*node_N,3*node_N)]]\n",
    "Z=fin[j,[i for i in range(4*node_N,5*node_N)]]\n",
    "\n",
    "num_true_pts = 200\n",
    "tck, u = interpolate.splprep([X,Y,Z], s=2)\n",
    "u_fine = np.linspace(0,1,num_true_pts)\n",
    "x_fine, y_fine, z_fine = interpolate.splev(u_fine, tck)\n",
    "\n",
    "\n",
    "ax.plot(X0,Y0,Z0, color='r')\n",
    "ax.plot(X,Y,Z, color='b') \n",
    "# ax.plot(x_fine, y_fine, z_fine, color='b')\n",
    "ax.view_init(-45,-45)\n",
    "ax.view_init(-30,-30)\n",
    "ax.view_init(0,-70)\n",
    "plt.show()"
   ]
  },
  {
   "cell_type": "code",
   "execution_count": null,
   "metadata": {},
   "outputs": [],
   "source": [
    "X,Y,Z"
   ]
  },
  {
   "cell_type": "code",
   "execution_count": null,
   "metadata": {},
   "outputs": [],
   "source": [
    "X0,Y0,Z0"
   ]
  },
  {
   "cell_type": "code",
   "execution_count": null,
   "metadata": {},
   "outputs": [],
   "source": [
    "us=fin.T"
   ]
  },
  {
   "cell_type": "code",
   "execution_count": null,
   "metadata": {},
   "outputs": [],
   "source": [
    "plt.plot(t,us.T[:,2],'-')\n",
    "plt.xlabel('t')\n",
    "plt.ylabel('x2')\n",
    "plt.show()"
   ]
  },
  {
   "cell_type": "code",
   "execution_count": null,
   "metadata": {},
   "outputs": [],
   "source": [
    "plt.plot(t,us.T[:,node_N+2] ,'-')\n",
    "plt.xlabel('t')\n",
    "plt.ylabel('dx2')\n",
    "plt.show()"
   ]
  },
  {
   "cell_type": "code",
   "execution_count": null,
   "metadata": {},
   "outputs": [],
   "source": [
    "plt.plot(t,us.T[:,node_N-1] ,'-')\n",
    "plt.xlabel('t')\n",
    "plt.ylabel('x49')\n",
    "plt.show()"
   ]
  },
  {
   "cell_type": "code",
   "execution_count": null,
   "metadata": {},
   "outputs": [],
   "source": [
    "plt.plot(t,us.T[:,2*node_N +2] ,'-')\n",
    "plt.xlabel('t')\n",
    "plt.ylabel('y2')\n",
    "plt.show()"
   ]
  },
  {
   "cell_type": "code",
   "execution_count": null,
   "metadata": {},
   "outputs": [],
   "source": [
    "plt.plot(t,us.T[:,3*node_N+2] ,'-')\n",
    "plt.xlabel('t')\n",
    "plt.ylabel('dy2')\n",
    "plt.show()"
   ]
  },
  {
   "cell_type": "code",
   "execution_count": null,
   "metadata": {},
   "outputs": [],
   "source": [
    "plt.plot(t,us.T[:,2*node_N+49] ,'-')\n",
    "plt.xlabel('t')\n",
    "plt.ylabel('y49')\n",
    "plt.show()"
   ]
  },
  {
   "cell_type": "code",
   "execution_count": null,
   "metadata": {},
   "outputs": [],
   "source": [
    "plt.plot(t,us.T[:,3*node_N+49] ,'-')\n",
    "plt.xlabel('t')\n",
    "plt.ylabel('dy49')\n",
    "plt.show()"
   ]
  },
  {
   "cell_type": "code",
   "execution_count": null,
   "metadata": {},
   "outputs": [],
   "source": [
    "plt.plot(t,us.T[:,4*node_N+2] ,'-')\n",
    "plt.xlabel('t')\n",
    "plt.ylabel('z2')\n",
    "plt.show()"
   ]
  },
  {
   "cell_type": "code",
   "execution_count": null,
   "metadata": {},
   "outputs": [],
   "source": [
    "plt.plot(t,us.T[:,5*node_N+2] ,'-')\n",
    "plt.xlabel('t')\n",
    "plt.ylabel('dz2')\n",
    "plt.show()"
   ]
  },
  {
   "cell_type": "code",
   "execution_count": null,
   "metadata": {},
   "outputs": [],
   "source": [
    "plt.plot(t,us.T[:,4*node_N+3] ,'-')\n",
    "plt.xlabel('t')\n",
    "plt.ylabel('z3')\n",
    "plt.show()"
   ]
  },
  {
   "cell_type": "code",
   "execution_count": null,
   "metadata": {},
   "outputs": [],
   "source": [
    "plt.plot(t,us.T[:,4*node_N+49] ,'-')\n",
    "plt.xlabel('t')\n",
    "plt.ylabel('z49')\n",
    "plt.show()"
   ]
  },
  {
   "cell_type": "code",
   "execution_count": null,
   "metadata": {},
   "outputs": [],
   "source": [
    "plt.plot(t,us.T[:,8*node_N+2],'-')\n",
    "plt.xlabel('t')\n",
    "plt.ylabel('θ2')\n",
    "plt.show()"
   ]
  },
  {
   "cell_type": "code",
   "execution_count": null,
   "metadata": {},
   "outputs": [],
   "source": [
    "plt.plot(t,us.T[:,9*node_N+2] ,'-')\n",
    "plt.xlabel('t')\n",
    "plt.ylabel('dθ2')\n",
    "plt.show()"
   ]
  },
  {
   "cell_type": "code",
   "execution_count": null,
   "metadata": {},
   "outputs": [],
   "source": [
    "plt.plot(t,us.T[:,10*node_N+2],'-')\n",
    "plt.xlabel('t')\n",
    "plt.ylabel('ψ2')\n",
    "plt.show()"
   ]
  },
  {
   "cell_type": "code",
   "execution_count": null,
   "metadata": {},
   "outputs": [],
   "source": [
    "plt.plot(t,us.T[:,11*node_N+2] ,'-')\n",
    "plt.xlabel('t')\n",
    "plt.ylabel('dψ2')\n",
    "plt.show()"
   ]
  },
  {
   "cell_type": "code",
   "execution_count": null,
   "metadata": {},
   "outputs": [],
   "source": []
  },
  {
   "cell_type": "code",
   "execution_count": null,
   "metadata": {},
   "outputs": [],
   "source": []
  },
  {
   "cell_type": "code",
   "execution_count": null,
   "metadata": {},
   "outputs": [],
   "source": []
  },
  {
   "cell_type": "code",
   "execution_count": null,
   "metadata": {},
   "outputs": [],
   "source": []
  }
 ],
 "metadata": {
  "kernelspec": {
   "display_name": "Python 3",
   "language": "python",
   "name": "python3"
  },
  "language_info": {
   "codemirror_mode": {
    "name": "ipython",
    "version": 3
   },
   "file_extension": ".py",
   "mimetype": "text/x-python",
   "name": "python",
   "nbconvert_exporter": "python",
   "pygments_lexer": "ipython3",
   "version": "3.7.7"
  }
 },
 "nbformat": 4,
 "nbformat_minor": 4
}
