{
 "cells": [
  {
   "cell_type": "code",
   "execution_count": 1,
   "metadata": {},
   "outputs": [],
   "source": [
    "import math\n",
    "import numpy as np\n",
    "from deap import base\n",
    "from deap import creator\n",
    "from deap import tools\n",
    "\n",
    "import random\n",
    "\n",
    "import matplotlib.pyplot as plt\n",
    "import seaborn as sns\n",
    "import sys"
   ]
  },
  {
   "cell_type": "code",
   "execution_count": 2,
   "metadata": {},
   "outputs": [],
   "source": [
    "sys.path.append('../marine/pipelay_vessel_design_optimisation_using_genetic_algorithms/')"
   ]
  },
  {
   "cell_type": "code",
   "execution_count": 3,
   "metadata": {},
   "outputs": [],
   "source": [
    "import elitism"
   ]
  },
  {
   "cell_type": "markdown",
   "metadata": {},
   "source": [
    "### Finite Element Model of the Plane Truss structure"
   ]
  },
  {
   "cell_type": "code",
   "execution_count": 4,
   "metadata": {},
   "outputs": [],
   "source": [
    "def PlaneTrussElementLength(x1,y1,x2,y2):\n",
    "    return math.sqrt((x2-x1)*(x2-x1) + (y2-y1)*(y2-y1))"
   ]
  },
  {
   "cell_type": "code",
   "execution_count": 5,
   "metadata": {},
   "outputs": [],
   "source": [
    "def PlaneTrussElementStiffness(E,A,L,theta):\n",
    "    pi=3.14159265\n",
    "    x = theta*pi/180\n",
    "    C = math.cos(x)\n",
    "    S = math.sin(x)\n",
    "    return E*A/L*np.array([[C*C, C*S, -C*C, -C*S],[C*S, S*S, -C*S, -S*S],\n",
    "                           [-C*C, -C*S, C*C, C*S],[-C*S, -S*S, C*S, S*S]]) "
   ]
  },
  {
   "cell_type": "code",
   "execution_count": 6,
   "metadata": {},
   "outputs": [],
   "source": [
    "def PlaneTrussAssemble(K,k,i,j):\n",
    "    # K - np.array\n",
    "    # k - np.array\n",
    "    K[2*i,2*i] = K[2*i,2*i] + k[0,0]\n",
    "    K[2*i,2*i+1] = K[2*i,2*i+1] + k[0,1] \n",
    "    K[2*i,2*j] = K[2*i,2*j] + k[0,2] \n",
    "    K[2*i,2*j+1] = K[2*i,2*j+1] + k[0,3]\n",
    "    K[2*i+1,2*i] = K[2*i+1,2*i] + k[1,0]\n",
    "    K[2*i+1,2*i+1] = K[2*i+1,2*i+1] + k[1,1] \n",
    "    K[2*i+1,2*j] = K[2*i+1,2*j] + k[1,2] \n",
    "    K[2*i+1,2*j+1] = K[2*i+1,2*j+1] + k[1,3] \n",
    "    K[2*j,2*i] = K[2*j,2*i] + k[2,0] \n",
    "    K[2*j,2*i+1] = K[2*j,2*i+1] + k[2,1]\n",
    "    K[2*j,2*j] = K[2*j,2*j] + k[2,2]\n",
    "    K[2*j,2*j+1] = K[2*j,2*j+1] + k[2,3] \n",
    "    K[2*j+1,2*i] = K[2*j+1,2*i] + k[3,0] \n",
    "    K[2*j+1,2*i+1] = K[2*j+1,2*i+1] + k[3,1]\n",
    "    K[2*j+1,2*j] = K[2*j+1,2*j] + k[3,2] \n",
    "    K[2*j+1,2*j+1] = K[2*j+1,2*j+1] + k[3,3]\n",
    "    \n",
    "    return K "
   ]
  },
  {
   "cell_type": "code",
   "execution_count": 7,
   "metadata": {},
   "outputs": [],
   "source": [
    "def PlaneTrussElementForce(E,A,L,theta,u):\n",
    "    pi=3.14159265\n",
    "    x = theta* pi/180\n",
    "    C = math.cos(x)\n",
    "    S = math.sin(x)\n",
    "    return E*A/L*np.dot(np.array([-C, -S, C, S]),u)"
   ]
  },
  {
   "cell_type": "code",
   "execution_count": 8,
   "metadata": {},
   "outputs": [],
   "source": [
    "def PlaneTrussElementStress(E,L,theta,u):\n",
    "    pi=3.14159265\n",
    "    x = theta * pi/180\n",
    "    C = math.cos(x)\n",
    "    S = math.sin(x)\n",
    "    return E/L*np.dot(np.array([-C, -S, C, S]),u)"
   ]
  },
  {
   "cell_type": "code",
   "execution_count": 9,
   "metadata": {},
   "outputs": [],
   "source": [
    "def FEA_u(coord, elcon, bc_u_elim, f_after_u_elim, A=1, E=2e5):\n",
    "    K=np.zeros(shape=(2*np.max(elcon)+2,2*np.max(elcon)+2))\n",
    "    pi=3.14159265\n",
    "    for el in elcon:\n",
    "        L=PlaneTrussElementLength(coord[el[0]][0],coord[el[0]][1],coord[el[1]][0],coord[el[1]][1])\n",
    "        theta=math.atan((coord[el[1]][1]-coord[el[0]][1])/(coord[el[1]][0]-coord[el[0]][0]+1e-13))*180/pi\n",
    "        k=PlaneTrussElementStiffness(E,A,L,theta)\n",
    "        K=PlaneTrussAssemble(K,k,el[0],el[1])\n",
    "    K=np.delete(K,bc_u_elim,0)\n",
    "    K=np.delete(K,bc_u_elim,1)\n",
    "    \n",
    "    \n",
    "    d=np.dot(np.linalg.inv(K),f_after_u_elim)\n",
    "\n",
    "        \n",
    "    u=np.zeros(shape=(2*len(coord)))\n",
    "\n",
    "    j=0\n",
    "    for i in range(len(u)):\n",
    "        if i not in bc_u_elim:\n",
    "            u[i]=d[j]\n",
    "            j+=1\n",
    "            if j>len(d)-1:\n",
    "                break\n",
    "    return u"
   ]
  },
  {
   "cell_type": "markdown",
   "metadata": {},
   "source": [
    "### Initial displacement "
   ]
  },
  {
   "cell_type": "code",
   "execution_count": 10,
   "metadata": {},
   "outputs": [],
   "source": [
    "coord=np.array([0.0,0.0,\n",
    "                  2.0,3.0,\n",
    "                  2.0,0.0,\n",
    "                  5.0,3.0,\n",
    "                  7.0,0.0,\n",
    "                  9.0,3.0,\n",
    "                  12.0,3.0,\n",
    "                  12.0,0.0,\n",
    "                  14.0,0.0]).reshape(9,2)"
   ]
  },
  {
   "cell_type": "code",
   "execution_count": 11,
   "metadata": {},
   "outputs": [],
   "source": [
    "displ = FEA_u(coord.reshape(9,2), \n",
    "              elcon=np.array([[0, 1],[0, 2],[1, 2],[1, 3],[2, 3],\n",
    "                             [2, 4],[3, 4],[3, 5],[4, 5],[4, 7],\n",
    "                             [5, 7],[5, 6],[6, 7],[6, 8],[7, 8]]),\n",
    "                             bc_u_elim=[0,1,16,17],\n",
    "                             f_after_u_elim=np.array([0,0,0,0,0,0,0,-10,0,0,0,0,0,0]), \n",
    "                             A=1, E=2e5)"
   ]
  },
  {
   "cell_type": "code",
   "execution_count": 12,
   "metadata": {},
   "outputs": [
    {
     "data": {
      "text/plain": [
       "-0.0008888028010760273"
      ]
     },
     "execution_count": 12,
     "metadata": {},
     "output_type": "execute_result"
    }
   ],
   "source": [
    "displ[9]"
   ]
  },
  {
   "cell_type": "markdown",
   "metadata": {},
   "source": [
    "### Genetic Algorithm"
   ]
  },
  {
   "cell_type": "code",
   "execution_count": 13,
   "metadata": {},
   "outputs": [],
   "source": [
    "BOUNDS_LOW =  [0, 0, 2, 5, 5, 5]\n",
    "BOUNDS_HIGH = [5, 5, 9, 12, 14, 14]"
   ]
  },
  {
   "cell_type": "code",
   "execution_count": 14,
   "metadata": {},
   "outputs": [],
   "source": [
    "NUM_OF_PARAMS = len(BOUNDS_HIGH)"
   ]
  },
  {
   "cell_type": "code",
   "execution_count": 15,
   "metadata": {},
   "outputs": [],
   "source": [
    "# Genetic Algorithm constants:\n",
    "POPULATION_SIZE = 250\n",
    "P_CROSSOVER = 0.9  # probability for crossover\n",
    "P_MUTATION = 0.5   # probability for mutating an individual\n",
    "MAX_GENERATIONS = 50\n",
    "HALL_OF_FAME_SIZE = 5\n",
    "CROWDING_FACTOR = 20.0  # crowding factor for crossover and mutation\n",
    "\n",
    "PENALTY_VALUE = 10.0    # fixed penalty for violating a constraint\n",
    "\n",
    "# set the random seed:\n",
    "RANDOM_SEED = 42\n",
    "random.seed(RANDOM_SEED)\n",
    "\n",
    "toolbox = base.Toolbox()"
   ]
  },
  {
   "cell_type": "code",
   "execution_count": 16,
   "metadata": {},
   "outputs": [],
   "source": [
    "# define a single objective, maximize fitness strategy:\n",
    "creator.create(\"FitnessMax\", base.Fitness, weights=(1.0,))\n",
    "\n",
    "# create the Individual class based on list:\n",
    "creator.create(\"Individual\", list, fitness=creator.FitnessMax)\n",
    "\n",
    "\n",
    "# define the hyperparameter attributes individually:\n",
    "for i in range(NUM_OF_PARAMS):\n",
    "    # \"hyperparameter_0\", \"hyperparameter_1\", ...\n",
    "    toolbox.register(\"hyperparameter_\" + str(i),\n",
    "                     random.uniform,\n",
    "                     BOUNDS_LOW[i],\n",
    "                     BOUNDS_HIGH[i])"
   ]
  },
  {
   "cell_type": "code",
   "execution_count": 17,
   "metadata": {},
   "outputs": [],
   "source": [
    "# create a tuple containing an attribute generator for each param searched:\n",
    "hyperparameters = ()\n",
    "\n",
    "for i in range(NUM_OF_PARAMS):\n",
    "    hyperparameters = hyperparameters + (toolbox.__getattribute__(\"hyperparameter_\" + str(i)),)\n",
    "\n",
    "# create the individual operator to fill up an Individual instance:\n",
    "toolbox.register(\"individualCreator\",\n",
    "                 tools.initCycle,\n",
    "                 creator.Individual,\n",
    "                 hyperparameters,\n",
    "                 n=1)"
   ]
  },
  {
   "cell_type": "code",
   "execution_count": 18,
   "metadata": {},
   "outputs": [],
   "source": [
    "# create the population operator to generate a list of individuals:\n",
    "toolbox.register(\"populationCreator\", tools.initRepeat, list, toolbox.individualCreator)"
   ]
  },
  {
   "cell_type": "code",
   "execution_count": 19,
   "metadata": {},
   "outputs": [],
   "source": [
    "# fitness calculation\n",
    "def femStatic(individual):\n",
    "    x1=individual[0]\n",
    "    x2=individual[1]\n",
    "    x3=individual[2]\n",
    "    x5=individual[3]\n",
    "    x6=individual[4]\n",
    "    x7=individual[5]\n",
    "    \n",
    "    coord=np.array([0.0,0.0,\n",
    "                  x1,3.0,\n",
    "                  x2,0.0,\n",
    "                  x3,3.0,\n",
    "                  7.0,0.0,\n",
    "                  x5,3.0,\n",
    "                  x6,3.0,\n",
    "                  x7,0.0,\n",
    "                  14.0,0.0]).reshape(9,2)\n",
    "    \n",
    "    displ = FEA_u(coord, \n",
    "              elcon=np.array([[0, 1],[0, 2],[1, 2],[1, 3],[2, 3],\n",
    "                             [2, 4],[3, 4],[3, 5],[4, 5],[4, 7],\n",
    "                             [5, 7],[5, 6],[6, 7],[6, 8],[7, 8]]),\n",
    "                             bc_u_elim=[0,1,16,17],\n",
    "                             f_after_u_elim=np.array([0,0,0,0,0,0,0,-10,0,0,0,0,0,0]), \n",
    "                             A=1, E=2e5)\n",
    "    return displ[9],"
   ]
  },
  {
   "cell_type": "code",
   "execution_count": 20,
   "metadata": {},
   "outputs": [],
   "source": [
    "toolbox.register(\"evaluate\", femStatic)\n",
    "\n",
    "# genetic operators:\n",
    "toolbox.register(\"select\", tools.selTournament, tournsize=2)\n",
    "toolbox.register(\"mate\",\n",
    "                 tools.cxSimulatedBinaryBounded,\n",
    "                 low=BOUNDS_LOW,\n",
    "                 up=BOUNDS_HIGH,\n",
    "                 eta=CROWDING_FACTOR)\n",
    "\n",
    "toolbox.register(\"mutate\",\n",
    "                 tools.mutPolynomialBounded,\n",
    "                 low=BOUNDS_LOW,\n",
    "                 up=BOUNDS_HIGH,\n",
    "                 eta=CROWDING_FACTOR,\n",
    "                 indpb=1.0 / NUM_OF_PARAMS)\n"
   ]
  },
  {
   "cell_type": "code",
   "execution_count": 21,
   "metadata": {},
   "outputs": [],
   "source": [
    "# Genetic Algorithm flow:\n",
    "def main():\n",
    "\n",
    "    # create initial population (generation 0):\n",
    "    population = toolbox.populationCreator(n=POPULATION_SIZE)\n",
    "\n",
    "    # prepare the statistics object:\n",
    "    stats = tools.Statistics(lambda ind: ind.fitness.values)\n",
    "    stats.register(\"max\", np.max)\n",
    "    stats.register(\"avg\", np.mean)\n",
    "\n",
    "    # define the hall-of-fame object:\n",
    "    hof = tools.HallOfFame(HALL_OF_FAME_SIZE)\n",
    "\n",
    "    # perform the Genetic Algorithm flow with hof feature added:\n",
    "    population, logbook = elitism.eaSimpleWithElitism(population,\n",
    "                                                      toolbox,\n",
    "                                                      cxpb=P_CROSSOVER,\n",
    "                                                      mutpb=P_MUTATION,\n",
    "                                                      ngen=MAX_GENERATIONS,\n",
    "                                                      stats=stats,\n",
    "                                                      halloffame=hof,\n",
    "                                                      verbose=True)\n",
    "\n",
    "\n",
    "    # print info for best solution found:\n",
    "    best = hof.items[0]\n",
    "    print(\"-- Best Individual = \", best)\n",
    "    print(\"-- Best Fitness = \", best.fitness.values[0])\n",
    "\n",
    "    print()\n",
    "    print(\"Double check: \")\n",
    "    \n",
    "    \n",
    "    x1 = best[0]  \n",
    "    x2 = best[1]  \n",
    "    x3 = best[2]  \n",
    "    x5 = best[3]  \n",
    "    x6 = best[4]  \n",
    "    x7 = best[5] \n",
    "    \n",
    "    g_coord=np.array([0.0,0.0,\n",
    "                  x1,3.0,\n",
    "                  x2,0.0,\n",
    "                  x3,3.0,\n",
    "                  7.0,0.0,\n",
    "                  x5,3.0,\n",
    "                  x6,3.0,\n",
    "                  x7,0.0,\n",
    "                  14.0,0.0]).reshape(9,2)\n",
    "    \n",
    "\n",
    "\n",
    "    displ = FEA_u(g_coord, elcon=np.array([[0, 1],[0, 2],[1, 2],[1, 3],[2, 3],\n",
    "                             [2, 4],[3, 4],[3, 5],[4, 5],[4, 7],\n",
    "                             [5, 7],[5, 6],[6, 7],[6, 8],[7, 8]]),\n",
    "                             bc_u_elim=[0,1,16,17],\n",
    "                             f_after_u_elim=np.array([0,0,0,0,0,0,0,-10,0,0,0,0,0,0]), \n",
    "                             A=1, E=2e5)\n",
    "\n",
    "\n",
    "    print(\"displ\", displ[9], )\n",
    "    \n",
    "    # extract statistics:\n",
    "    maxFitnessValues, meanFitnessValues = logbook.select(\"max\", \"avg\")\n",
    "\n",
    "    # plot statistics:\n",
    "    sns.set_style(\"whitegrid\")\n",
    "    plt.plot(maxFitnessValues, color='red')\n",
    "    plt.plot(meanFitnessValues, color='green')\n",
    "    plt.xlabel('Generation')\n",
    "    plt.ylabel('Max/ Average Fitness')\n",
    "    plt.title('Max and Average fitness over Generations')\n",
    "    plt.savefig(\"gen.png\")\n",
    "    plt.show()\n",
    "    return g_coord"
   ]
  },
  {
   "cell_type": "code",
   "execution_count": 22,
   "metadata": {},
   "outputs": [
    {
     "name": "stdout",
     "output_type": "stream",
     "text": [
      "gen\tnevals\tmax         \tavg        \n",
      "0  \t250   \t-0.000895096\t-0.00170254\n",
      "1  \t232   \t-0.000892618\t-0.00142935\n",
      "2  \t228   \t-0.000882098\t-0.00124052\n",
      "3  \t233   \t-0.000850062\t-0.00113006\n",
      "4  \t231   \t-0.000847364\t-0.00103603\n",
      "5  \t232   \t-0.00084187 \t-0.000970155\n",
      "6  \t235   \t-0.000839096\t-0.00093097 \n",
      "7  \t228   \t-0.000832463\t-0.000904476\n",
      "8  \t232   \t-0.000830074\t-0.000885407\n",
      "9  \t233   \t-0.000828387\t-0.000872556\n",
      "10 \t235   \t-0.000822803\t-0.000857107\n",
      "11 \t234   \t-0.000822086\t-0.000849132\n",
      "12 \t229   \t-0.000821482\t-0.000841828\n",
      "13 \t234   \t-0.000820416\t-0.000836234\n",
      "14 \t237   \t-0.000820072\t-0.000831792\n",
      "15 \t236   \t-0.000819905\t-0.000830284\n",
      "16 \t234   \t-0.000819498\t-0.000828245\n",
      "17 \t225   \t-0.000819498\t-0.000826122\n",
      "18 \t234   \t-0.000819498\t-0.000826634\n",
      "19 \t228   \t-0.000819498\t-0.000825306\n",
      "20 \t228   \t-0.000819498\t-0.00082418 \n",
      "21 \t232   \t-0.000819421\t-0.000823251\n",
      "22 \t225   \t-0.000819421\t-0.000823019\n",
      "23 \t232   \t-0.000819338\t-0.000823358\n",
      "24 \t230   \t-0.000819245\t-0.000822763\n",
      "25 \t234   \t-0.000819245\t-0.000823372\n",
      "26 \t223   \t-0.000819203\t-0.000821644\n",
      "27 \t238   \t-0.000819203\t-0.000823493\n",
      "28 \t229   \t-0.000819077\t-0.000821935\n",
      "29 \t237   \t-0.000819077\t-0.000821738\n",
      "30 \t233   \t-0.000819077\t-0.00082241 \n",
      "31 \t237   \t-0.000819077\t-0.000821971\n",
      "32 \t232   \t-0.000819077\t-0.000822984\n",
      "33 \t235   \t-0.000819069\t-0.000822679\n",
      "34 \t234   \t-0.000819068\t-0.000823481\n",
      "35 \t234   \t-0.000819068\t-0.000822322\n",
      "36 \t221   \t-0.000819068\t-0.000822076\n",
      "37 \t234   \t-0.000819066\t-0.000822343\n",
      "38 \t232   \t-0.000819066\t-0.000822014\n",
      "39 \t231   \t-0.000819033\t-0.000821953\n",
      "40 \t231   \t-0.000819033\t-0.000821127\n",
      "41 \t232   \t-0.000819033\t-0.000821813\n",
      "42 \t235   \t-0.000819033\t-0.000823511\n",
      "43 \t231   \t-0.000819033\t-0.000822196\n",
      "44 \t229   \t-0.000819033\t-0.000822028\n",
      "45 \t228   \t-0.000819033\t-0.000821516\n",
      "46 \t226   \t-0.000819032\t-0.000823056\n",
      "47 \t239   \t-0.000819032\t-0.000822271\n",
      "48 \t236   \t-0.000819032\t-0.000821075\n",
      "49 \t235   \t-0.00081903 \t-0.000822091\n",
      "50 \t232   \t-0.00081903 \t-0.000822098\n",
      "-- Best Individual =  [2.664487119513634, 3.4957522428365295, 6.166779862679571, 7.820241370301468, 11.325612978000365, 10.505031060939883]\n",
      "-- Best Fitness =  -0.0008190303595772472\n",
      "\n",
      "Double check: \n",
      "displ -0.0008190303595772472\n"
     ]
    },
    {
     "data": {
      "image/png": "[encoded data removed]",
      "text/plain": [
       "<Figure size 432x288 with 1 Axes>"
      ]
     },
     "metadata": {},
     "output_type": "display_data"
    }
   ],
   "source": [
    "g_coord=main()"
   ]
  },
  {
   "cell_type": "code",
   "execution_count": 23,
   "metadata": {},
   "outputs": [],
   "source": [
    "def draw(coord,color,elcon):\n",
    "    coord=coord.reshape(np.max(elcon)+1,2)\n",
    "    plt.figure(figsize=(13,5))\n",
    "    for item in elcon:\n",
    "        plt.plot([coord[item[0]][0],coord[item[1]][0]],\n",
    "                 [coord[item[0]][1],coord[item[1]][1]],color=color)\n",
    "        \n",
    "    plt.show() "
   ]
  },
  {
   "cell_type": "markdown",
   "metadata": {},
   "source": [
    "### Initial Design "
   ]
  },
  {
   "cell_type": "code",
   "execution_count": 24,
   "metadata": {},
   "outputs": [
    {
     "data": {
      "image/png": "[encoded data removed]",
      "text/plain": [
       "<Figure size 936x360 with 1 Axes>"
      ]
     },
     "metadata": {},
     "output_type": "display_data"
    }
   ],
   "source": [
    "draw(coord,color=\"blue\",elcon=np.array([[0, 1],[0, 2],[1, 2],[1, 3],[2, 3],\n",
    "                                                    [2, 4],[3, 4],[3, 5],[4, 5],[4, 7],\n",
    "                                                    [5, 7],[5, 6],[6, 7],[6, 8],[7, 8]]))"
   ]
  },
  {
   "cell_type": "markdown",
   "metadata": {},
   "source": [
    "### Final Design"
   ]
  },
  {
   "cell_type": "code",
   "execution_count": 25,
   "metadata": {},
   "outputs": [
    {
     "data": {
      "image/png": "[encoded data removed]",
      "text/plain": [
       "<Figure size 936x360 with 1 Axes>"
      ]
     },
     "metadata": {},
     "output_type": "display_data"
    }
   ],
   "source": [
    "draw(g_coord,color=\"blue\",elcon=np.array([[0, 1],[0, 2],[1, 2],[1, 3],[2, 3],\n",
    "                                                    [2, 4],[3, 4],[3, 5],[4, 5],[4, 7],\n",
    "                                                    [5, 7],[5, 6],[6, 7],[6, 8],[7, 8]]))"
   ]
  },
  {
   "cell_type": "code",
   "execution_count": 26,
   "metadata": {},
   "outputs": [
    {
     "data": {
      "text/plain": [
       "array([[ 0.        ,  0.        ],\n",
       "       [ 2.66448712,  3.        ],\n",
       "       [ 3.49575224,  0.        ],\n",
       "       [ 6.16677986,  3.        ],\n",
       "       [ 7.        ,  0.        ],\n",
       "       [ 7.82024137,  3.        ],\n",
       "       [11.32561298,  3.        ],\n",
       "       [10.50503106,  0.        ],\n",
       "       [14.        ,  0.        ]])"
      ]
     },
     "execution_count": 26,
     "metadata": {},
     "output_type": "execute_result"
    }
   ],
   "source": [
    "g_coord"
   ]
  },
  {
   "cell_type": "code",
   "execution_count": null,
   "metadata": {},
   "outputs": [],
   "source": []
  }
 ],
 "metadata": {
  "kernelspec": {
   "display_name": "Python 3",
   "language": "python",
   "name": "python3"
  },
  "language_info": {
   "codemirror_mode": {
    "name": "ipython",
    "version": 3
   },
   "file_extension": ".py",
   "mimetype": "text/x-python",
   "name": "python",
   "nbconvert_exporter": "python",
   "pygments_lexer": "ipython3",
   "version": "3.7.7"
  }
 },
 "nbformat": 4,
 "nbformat_minor": 4
}
